{
 "cells": [
  {
   "cell_type": "markdown",
   "metadata": {},
   "source": [
    "# Определение перспективного тарифа для телеком-компании"
   ]
  },
  {
   "cell_type": "markdown",
   "metadata": {},
   "source": [
    "Компания «Мегалайн» — федерального оператора сотовой связи. Клиентам предлагают два тарифных плана: «Смарт» и «Ультра». Чтобы скорректировать рекламный бюджет, коммерческий департамент хочет понять, какой тариф приносит больше денег.\n",
    "Нам предстоит сделать предварительный анализ тарифов на небольшой выборке клиентов. В нашем распоряжении данные 500 пользователей «Мегалайна»: кто они, откуда, каким тарифом пользуются, сколько звонков и сообщений каждый отправил за 2018 год. Нужно проанализировать поведение клиентов и сделать вывод — какой тариф лучше."
   ]
  },
  {
   "cell_type": "markdown",
   "metadata": {},
   "source": [
    "## Изучение данных из файла"
   ]
  },
  {
   "cell_type": "code",
   "execution_count": 1,
   "metadata": {},
   "outputs": [],
   "source": [
    "#импорт используемых библиотек\n",
    "import pandas as pd\n",
    "import numpy as np\n",
    "import matplotlib.pyplot as plt\n",
    "from scipy import stats as st"
   ]
  },
  {
   "cell_type": "markdown",
   "metadata": {},
   "source": [
    "Прочитаем файлы и выведем общую информацию и первые строки таблиц"
   ]
  },
  {
   "cell_type": "markdown",
   "metadata": {},
   "source": [
    "### Таблица `calls` (информация о звонках):\n",
    "- **id** — уникальный номер звонка\n",
    "- **call_date** — дата звонка\n",
    "- **duration** — длительность звонка в минутах\n",
    "- **user_id** — идентификатор пользователя, сделавшего звонок"
   ]
  },
  {
   "cell_type": "code",
   "execution_count": 2,
   "metadata": {},
   "outputs": [
    {
     "name": "stdout",
     "output_type": "stream",
     "text": [
      "<class 'pandas.core.frame.DataFrame'>\n",
      "RangeIndex: 202607 entries, 0 to 202606\n",
      "Data columns (total 4 columns):\n",
      " #   Column     Non-Null Count   Dtype  \n",
      "---  ------     --------------   -----  \n",
      " 0   id         202607 non-null  object \n",
      " 1   call_date  202607 non-null  object \n",
      " 2   duration   202607 non-null  float64\n",
      " 3   user_id    202607 non-null  int64  \n",
      "dtypes: float64(1), int64(1), object(2)\n",
      "memory usage: 6.2+ MB\n"
     ]
    },
    {
     "data": {
      "text/html": [
       "<div>\n",
       "<style scoped>\n",
       "    .dataframe tbody tr th:only-of-type {\n",
       "        vertical-align: middle;\n",
       "    }\n",
       "\n",
       "    .dataframe tbody tr th {\n",
       "        vertical-align: top;\n",
       "    }\n",
       "\n",
       "    .dataframe thead th {\n",
       "        text-align: right;\n",
       "    }\n",
       "</style>\n",
       "<table border=\"1\" class=\"dataframe\">\n",
       "  <thead>\n",
       "    <tr style=\"text-align: right;\">\n",
       "      <th></th>\n",
       "      <th>id</th>\n",
       "      <th>call_date</th>\n",
       "      <th>duration</th>\n",
       "      <th>user_id</th>\n",
       "    </tr>\n",
       "  </thead>\n",
       "  <tbody>\n",
       "    <tr>\n",
       "      <th>0</th>\n",
       "      <td>1000_0</td>\n",
       "      <td>2018-07-25</td>\n",
       "      <td>0.00</td>\n",
       "      <td>1000</td>\n",
       "    </tr>\n",
       "    <tr>\n",
       "      <th>1</th>\n",
       "      <td>1000_1</td>\n",
       "      <td>2018-08-17</td>\n",
       "      <td>0.00</td>\n",
       "      <td>1000</td>\n",
       "    </tr>\n",
       "    <tr>\n",
       "      <th>2</th>\n",
       "      <td>1000_2</td>\n",
       "      <td>2018-06-11</td>\n",
       "      <td>2.85</td>\n",
       "      <td>1000</td>\n",
       "    </tr>\n",
       "    <tr>\n",
       "      <th>3</th>\n",
       "      <td>1000_3</td>\n",
       "      <td>2018-09-21</td>\n",
       "      <td>13.80</td>\n",
       "      <td>1000</td>\n",
       "    </tr>\n",
       "    <tr>\n",
       "      <th>4</th>\n",
       "      <td>1000_4</td>\n",
       "      <td>2018-12-15</td>\n",
       "      <td>5.18</td>\n",
       "      <td>1000</td>\n",
       "    </tr>\n",
       "  </tbody>\n",
       "</table>\n",
       "</div>"
      ],
      "text/plain": [
       "       id   call_date  duration  user_id\n",
       "0  1000_0  2018-07-25      0.00     1000\n",
       "1  1000_1  2018-08-17      0.00     1000\n",
       "2  1000_2  2018-06-11      2.85     1000\n",
       "3  1000_3  2018-09-21     13.80     1000\n",
       "4  1000_4  2018-12-15      5.18     1000"
      ]
     },
     "execution_count": 2,
     "metadata": {},
     "output_type": "execute_result"
    }
   ],
   "source": [
    "data_calls = pd.read_csv('/datasets/calls.csv')\n",
    "data_calls.info()\n",
    "data_calls.head()"
   ]
  },
  {
   "cell_type": "code",
   "execution_count": 3,
   "metadata": {},
   "outputs": [
    {
     "data": {
      "image/png": "[encoded data removed]",
      "text/plain": [
       "<Figure size 432x288 with 1 Axes>"
      ]
     },
     "metadata": {
      "needs_background": "light"
     },
     "output_type": "display_data"
    }
   ],
   "source": [
    "data_calls['duration'].hist()\n",
    "plt.show()"
   ]
  },
  {
   "cell_type": "markdown",
   "metadata": {},
   "source": [
    "### Таблица `messages` (информация о сообщениях):\n",
    "- **id** — уникальный номер сообщения\n",
    "- **message_date** — дата сообщения\n",
    "- **user_id** — идентификатор пользователя, отправившего сообщение"
   ]
  },
  {
   "cell_type": "code",
   "execution_count": 4,
   "metadata": {},
   "outputs": [
    {
     "name": "stdout",
     "output_type": "stream",
     "text": [
      "<class 'pandas.core.frame.DataFrame'>\n",
      "RangeIndex: 123036 entries, 0 to 123035\n",
      "Data columns (total 3 columns):\n",
      " #   Column        Non-Null Count   Dtype \n",
      "---  ------        --------------   ----- \n",
      " 0   id            123036 non-null  object\n",
      " 1   message_date  123036 non-null  object\n",
      " 2   user_id       123036 non-null  int64 \n",
      "dtypes: int64(1), object(2)\n",
      "memory usage: 2.8+ MB\n"
     ]
    },
    {
     "data": {
      "text/html": [
       "<div>\n",
       "<style scoped>\n",
       "    .dataframe tbody tr th:only-of-type {\n",
       "        vertical-align: middle;\n",
       "    }\n",
       "\n",
       "    .dataframe tbody tr th {\n",
       "        vertical-align: top;\n",
       "    }\n",
       "\n",
       "    .dataframe thead th {\n",
       "        text-align: right;\n",
       "    }\n",
       "</style>\n",
       "<table border=\"1\" class=\"dataframe\">\n",
       "  <thead>\n",
       "    <tr style=\"text-align: right;\">\n",
       "      <th></th>\n",
       "      <th>id</th>\n",
       "      <th>message_date</th>\n",
       "      <th>user_id</th>\n",
       "    </tr>\n",
       "  </thead>\n",
       "  <tbody>\n",
       "    <tr>\n",
       "      <th>0</th>\n",
       "      <td>1000_0</td>\n",
       "      <td>2018-06-27</td>\n",
       "      <td>1000</td>\n",
       "    </tr>\n",
       "    <tr>\n",
       "      <th>1</th>\n",
       "      <td>1000_1</td>\n",
       "      <td>2018-10-08</td>\n",
       "      <td>1000</td>\n",
       "    </tr>\n",
       "    <tr>\n",
       "      <th>2</th>\n",
       "      <td>1000_2</td>\n",
       "      <td>2018-08-04</td>\n",
       "      <td>1000</td>\n",
       "    </tr>\n",
       "    <tr>\n",
       "      <th>3</th>\n",
       "      <td>1000_3</td>\n",
       "      <td>2018-06-16</td>\n",
       "      <td>1000</td>\n",
       "    </tr>\n",
       "    <tr>\n",
       "      <th>4</th>\n",
       "      <td>1000_4</td>\n",
       "      <td>2018-12-05</td>\n",
       "      <td>1000</td>\n",
       "    </tr>\n",
       "  </tbody>\n",
       "</table>\n",
       "</div>"
      ],
      "text/plain": [
       "       id message_date  user_id\n",
       "0  1000_0   2018-06-27     1000\n",
       "1  1000_1   2018-10-08     1000\n",
       "2  1000_2   2018-08-04     1000\n",
       "3  1000_3   2018-06-16     1000\n",
       "4  1000_4   2018-12-05     1000"
      ]
     },
     "execution_count": 4,
     "metadata": {},
     "output_type": "execute_result"
    }
   ],
   "source": [
    "data_msg = pd.read_csv('/datasets/messages.csv')\n",
    "data_msg.info()\n",
    "data_msg.head()\n"
   ]
  },
  {
   "cell_type": "markdown",
   "metadata": {},
   "source": [
    "### Таблица `internet` (информация об интернет-сессиях):\n",
    "- **id** — уникальный номер сессии\n",
    "- **mb_used** — объём потраченного за сессию интернет-трафика (в мегабайтах)\n",
    "- **session_date** — дата интернет-сессии\n",
    "- **user_id** — идентификатор пользователя"
   ]
  },
  {
   "cell_type": "code",
   "execution_count": 7,
   "metadata": {},
   "outputs": [
    {
     "name": "stdout",
     "output_type": "stream",
     "text": [
      "<class 'pandas.core.frame.DataFrame'>\n",
      "Int64Index: 149396 entries, 0 to 149395\n",
      "Data columns (total 4 columns):\n",
      " #   Column        Non-Null Count   Dtype  \n",
      "---  ------        --------------   -----  \n",
      " 0   id            149396 non-null  object \n",
      " 1   mb_used       149396 non-null  float64\n",
      " 2   session_date  149396 non-null  object \n",
      " 3   user_id       149396 non-null  int64  \n",
      "dtypes: float64(1), int64(1), object(2)\n",
      "memory usage: 5.7+ MB\n"
     ]
    },
    {
     "data": {
      "text/html": [
       "<div>\n",
       "<style scoped>\n",
       "    .dataframe tbody tr th:only-of-type {\n",
       "        vertical-align: middle;\n",
       "    }\n",
       "\n",
       "    .dataframe tbody tr th {\n",
       "        vertical-align: top;\n",
       "    }\n",
       "\n",
       "    .dataframe thead th {\n",
       "        text-align: right;\n",
       "    }\n",
       "</style>\n",
       "<table border=\"1\" class=\"dataframe\">\n",
       "  <thead>\n",
       "    <tr style=\"text-align: right;\">\n",
       "      <th></th>\n",
       "      <th>id</th>\n",
       "      <th>mb_used</th>\n",
       "      <th>session_date</th>\n",
       "      <th>user_id</th>\n",
       "    </tr>\n",
       "  </thead>\n",
       "  <tbody>\n",
       "    <tr>\n",
       "      <th>0</th>\n",
       "      <td>1000_0</td>\n",
       "      <td>112.95</td>\n",
       "      <td>2018-11-25</td>\n",
       "      <td>1000</td>\n",
       "    </tr>\n",
       "    <tr>\n",
       "      <th>1</th>\n",
       "      <td>1000_1</td>\n",
       "      <td>1052.81</td>\n",
       "      <td>2018-09-07</td>\n",
       "      <td>1000</td>\n",
       "    </tr>\n",
       "    <tr>\n",
       "      <th>2</th>\n",
       "      <td>1000_2</td>\n",
       "      <td>1197.26</td>\n",
       "      <td>2018-06-25</td>\n",
       "      <td>1000</td>\n",
       "    </tr>\n",
       "    <tr>\n",
       "      <th>3</th>\n",
       "      <td>1000_3</td>\n",
       "      <td>550.27</td>\n",
       "      <td>2018-08-22</td>\n",
       "      <td>1000</td>\n",
       "    </tr>\n",
       "    <tr>\n",
       "      <th>4</th>\n",
       "      <td>1000_4</td>\n",
       "      <td>302.56</td>\n",
       "      <td>2018-09-24</td>\n",
       "      <td>1000</td>\n",
       "    </tr>\n",
       "  </tbody>\n",
       "</table>\n",
       "</div>"
      ],
      "text/plain": [
       "       id  mb_used session_date  user_id\n",
       "0  1000_0   112.95   2018-11-25     1000\n",
       "1  1000_1  1052.81   2018-09-07     1000\n",
       "2  1000_2  1197.26   2018-06-25     1000\n",
       "3  1000_3   550.27   2018-08-22     1000\n",
       "4  1000_4   302.56   2018-09-24     1000"
      ]
     },
     "execution_count": 7,
     "metadata": {},
     "output_type": "execute_result"
    }
   ],
   "source": [
    "data_int = pd.read_csv('/datasets/internet.csv', index_col=0)\n",
    "data_int.info()\n",
    "data_int.head()"
   ]
  },
  {
   "cell_type": "code",
   "execution_count": 8,
   "metadata": {},
   "outputs": [
    {
     "data": {
      "image/png": "[encoded data removed]",
      "text/plain": [
       "<Figure size 432x288 with 1 Axes>"
      ]
     },
     "metadata": {
      "needs_background": "light"
     },
     "output_type": "display_data"
    }
   ],
   "source": [
    "data_int['mb_used'].hist()\n",
    "plt.show()"
   ]
  },
  {
   "cell_type": "markdown",
   "metadata": {},
   "source": [
    "### Таблица `users` (информация о пользователях):\n",
    "- **user_id** — уникальный идентификатор пользователя\n",
    "- **first_name** — имя пользователя\n",
    "- **last_name** — фамилия пользователя\n",
    "- **age** — возраст пользователя (годы)\n",
    "- **reg_date** — дата подключения тарифа (день, месяц, год)\n",
    "- **churn_date** — дата прекращения пользования тарифом (если значение пропущено, то тариф ещё действовал на момент выгрузки данных)\n",
    "- **city** — город проживания пользователя\n",
    "- **tarif** — название тарифного плана"
   ]
  },
  {
   "cell_type": "code",
   "execution_count": 9,
   "metadata": {},
   "outputs": [
    {
     "name": "stdout",
     "output_type": "stream",
     "text": [
      "<class 'pandas.core.frame.DataFrame'>\n",
      "RangeIndex: 500 entries, 0 to 499\n",
      "Data columns (total 8 columns):\n",
      " #   Column      Non-Null Count  Dtype \n",
      "---  ------      --------------  ----- \n",
      " 0   user_id     500 non-null    int64 \n",
      " 1   age         500 non-null    int64 \n",
      " 2   churn_date  38 non-null     object\n",
      " 3   city        500 non-null    object\n",
      " 4   first_name  500 non-null    object\n",
      " 5   last_name   500 non-null    object\n",
      " 6   reg_date    500 non-null    object\n",
      " 7   tariff      500 non-null    object\n",
      "dtypes: int64(2), object(6)\n",
      "memory usage: 31.4+ KB\n"
     ]
    },
    {
     "data": {
      "text/html": [
       "<div>\n",
       "<style scoped>\n",
       "    .dataframe tbody tr th:only-of-type {\n",
       "        vertical-align: middle;\n",
       "    }\n",
       "\n",
       "    .dataframe tbody tr th {\n",
       "        vertical-align: top;\n",
       "    }\n",
       "\n",
       "    .dataframe thead th {\n",
       "        text-align: right;\n",
       "    }\n",
       "</style>\n",
       "<table border=\"1\" class=\"dataframe\">\n",
       "  <thead>\n",
       "    <tr style=\"text-align: right;\">\n",
       "      <th></th>\n",
       "      <th>user_id</th>\n",
       "      <th>age</th>\n",
       "      <th>churn_date</th>\n",
       "      <th>city</th>\n",
       "      <th>first_name</th>\n",
       "      <th>last_name</th>\n",
       "      <th>reg_date</th>\n",
       "      <th>tariff</th>\n",
       "    </tr>\n",
       "  </thead>\n",
       "  <tbody>\n",
       "    <tr>\n",
       "      <th>0</th>\n",
       "      <td>1000</td>\n",
       "      <td>52</td>\n",
       "      <td>NaN</td>\n",
       "      <td>Краснодар</td>\n",
       "      <td>Рафаил</td>\n",
       "      <td>Верещагин</td>\n",
       "      <td>2018-05-25</td>\n",
       "      <td>ultra</td>\n",
       "    </tr>\n",
       "    <tr>\n",
       "      <th>1</th>\n",
       "      <td>1001</td>\n",
       "      <td>41</td>\n",
       "      <td>NaN</td>\n",
       "      <td>Москва</td>\n",
       "      <td>Иван</td>\n",
       "      <td>Ежов</td>\n",
       "      <td>2018-11-01</td>\n",
       "      <td>smart</td>\n",
       "    </tr>\n",
       "    <tr>\n",
       "      <th>2</th>\n",
       "      <td>1002</td>\n",
       "      <td>59</td>\n",
       "      <td>NaN</td>\n",
       "      <td>Стерлитамак</td>\n",
       "      <td>Евгений</td>\n",
       "      <td>Абрамович</td>\n",
       "      <td>2018-06-17</td>\n",
       "      <td>smart</td>\n",
       "    </tr>\n",
       "    <tr>\n",
       "      <th>3</th>\n",
       "      <td>1003</td>\n",
       "      <td>23</td>\n",
       "      <td>NaN</td>\n",
       "      <td>Москва</td>\n",
       "      <td>Белла</td>\n",
       "      <td>Белякова</td>\n",
       "      <td>2018-08-17</td>\n",
       "      <td>ultra</td>\n",
       "    </tr>\n",
       "    <tr>\n",
       "      <th>4</th>\n",
       "      <td>1004</td>\n",
       "      <td>68</td>\n",
       "      <td>NaN</td>\n",
       "      <td>Новокузнецк</td>\n",
       "      <td>Татьяна</td>\n",
       "      <td>Авдеенко</td>\n",
       "      <td>2018-05-14</td>\n",
       "      <td>ultra</td>\n",
       "    </tr>\n",
       "  </tbody>\n",
       "</table>\n",
       "</div>"
      ],
      "text/plain": [
       "   user_id  age churn_date         city first_name  last_name    reg_date  \\\n",
       "0     1000   52        NaN    Краснодар     Рафаил  Верещагин  2018-05-25   \n",
       "1     1001   41        NaN       Москва       Иван       Ежов  2018-11-01   \n",
       "2     1002   59        NaN  Стерлитамак    Евгений  Абрамович  2018-06-17   \n",
       "3     1003   23        NaN       Москва      Белла   Белякова  2018-08-17   \n",
       "4     1004   68        NaN  Новокузнецк    Татьяна   Авдеенко  2018-05-14   \n",
       "\n",
       "  tariff  \n",
       "0  ultra  \n",
       "1  smart  \n",
       "2  smart  \n",
       "3  ultra  \n",
       "4  ultra  "
      ]
     },
     "execution_count": 9,
     "metadata": {},
     "output_type": "execute_result"
    }
   ],
   "source": [
    "data_user = pd.read_csv('/datasets/users.csv')\n",
    "data_user.info()\n",
    "data_user.head()"
   ]
  },
  {
   "cell_type": "markdown",
   "metadata": {},
   "source": [
    "### Таблица `tariffs` (информация о тарифах):\n",
    "- **tariff_name** — название тарифа\n",
    "- **rub_monthly_fee** — ежемесячная абонентская плата в рублях\n",
    "- **minutes_included** — количество минут разговора в месяц, включённых в абонентскую плату\n",
    "- **messages_included** — количество сообщений в месяц, включённых в абонентскую плату\n",
    "- **mb_per_month_included** — объём интернет-трафика, включённого в абонентскую плату (в мегабайтах)\n",
    "- **rub_per_minute** — стоимость минуты разговора сверх тарифного пакета (например, если в тарифе 100 минут разговора в месяц, то со 101 минуты будет взиматься плата)\n",
    "- **rub_per_message** — стоимость отправки сообщения сверх тарифного пакета\n",
    "- **rub_per_gb** — стоимость дополнительного гигабайта интернет-трафика сверх тарифного пакета (1 гигабайт = 1024 мегабайта)"
   ]
  },
  {
   "cell_type": "code",
   "execution_count": 10,
   "metadata": {},
   "outputs": [
    {
     "data": {
      "text/html": [
       "<div>\n",
       "<style scoped>\n",
       "    .dataframe tbody tr th:only-of-type {\n",
       "        vertical-align: middle;\n",
       "    }\n",
       "\n",
       "    .dataframe tbody tr th {\n",
       "        vertical-align: top;\n",
       "    }\n",
       "\n",
       "    .dataframe thead th {\n",
       "        text-align: right;\n",
       "    }\n",
       "</style>\n",
       "<table border=\"1\" class=\"dataframe\">\n",
       "  <thead>\n",
       "    <tr style=\"text-align: right;\">\n",
       "      <th></th>\n",
       "      <th>messages_included</th>\n",
       "      <th>mb_per_month_included</th>\n",
       "      <th>minutes_included</th>\n",
       "      <th>rub_monthly_fee</th>\n",
       "      <th>rub_per_gb</th>\n",
       "      <th>rub_per_message</th>\n",
       "      <th>rub_per_minute</th>\n",
       "      <th>tariff_name</th>\n",
       "    </tr>\n",
       "  </thead>\n",
       "  <tbody>\n",
       "    <tr>\n",
       "      <th>0</th>\n",
       "      <td>50</td>\n",
       "      <td>15360</td>\n",
       "      <td>500</td>\n",
       "      <td>550</td>\n",
       "      <td>200</td>\n",
       "      <td>3</td>\n",
       "      <td>3</td>\n",
       "      <td>smart</td>\n",
       "    </tr>\n",
       "    <tr>\n",
       "      <th>1</th>\n",
       "      <td>1000</td>\n",
       "      <td>30720</td>\n",
       "      <td>3000</td>\n",
       "      <td>1950</td>\n",
       "      <td>150</td>\n",
       "      <td>1</td>\n",
       "      <td>1</td>\n",
       "      <td>ultra</td>\n",
       "    </tr>\n",
       "  </tbody>\n",
       "</table>\n",
       "</div>"
      ],
      "text/plain": [
       "   messages_included  mb_per_month_included  minutes_included  \\\n",
       "0                 50                  15360               500   \n",
       "1               1000                  30720              3000   \n",
       "\n",
       "   rub_monthly_fee  rub_per_gb  rub_per_message  rub_per_minute tariff_name  \n",
       "0              550         200                3               3       smart  \n",
       "1             1950         150                1               1       ultra  "
      ]
     },
     "execution_count": 10,
     "metadata": {},
     "output_type": "execute_result"
    }
   ],
   "source": [
    "tariff = pd.read_csv('/datasets/tariffs.csv')\n",
    "tariff.head()"
   ]
  },
  {
   "cell_type": "markdown",
   "metadata": {},
   "source": [
    "### Вывод\n",
    "\n",
    "Таблицы содержат информацию о включенных в тарифы пакетах, данные об абонентах и израсходованных пакетах по каждому абоненту. Значения пропущены только в одном столбце таблицы `users`. Будем считать, что, если в столбце нет информации о дате прекращения пользования тарифом, значит тариф еще действует, и такие пропуски ничем не заполняются. В столбцах с датами предстоит заменить тип данных `object` на `datetime`. Данные трафика интернета и длительности звонков содержат много нулевых значений "
   ]
  },
  {
   "cell_type": "markdown",
   "metadata": {},
   "source": [
    "## Предобработка данных"
   ]
  },
  {
   "cell_type": "markdown",
   "metadata": {},
   "source": [
    "Известно, что каждый звонок округляется до целых минут, поэтому округлим значения в столце `duration` до целых в большую сторону"
   ]
  },
  {
   "cell_type": "code",
   "execution_count": 12,
   "metadata": {},
   "outputs": [],
   "source": [
    "data_calls['duration'] = np.ceil(data_calls['duration']) #округление вверх"
   ]
  },
  {
   "cell_type": "markdown",
   "metadata": {},
   "source": [
    "С помощью цикла заменим тип данных в столбцах с датами в таблицах `data_calls, data_msg, data_int` и добавим в каждую таблицу столбец с указанием номера месяца по каждому действию"
   ]
  },
  {
   "cell_type": "code",
   "execution_count": 13,
   "metadata": {},
   "outputs": [
    {
     "data": {
      "text/html": [
       "<div>\n",
       "<style scoped>\n",
       "    .dataframe tbody tr th:only-of-type {\n",
       "        vertical-align: middle;\n",
       "    }\n",
       "\n",
       "    .dataframe tbody tr th {\n",
       "        vertical-align: top;\n",
       "    }\n",
       "\n",
       "    .dataframe thead th {\n",
       "        text-align: right;\n",
       "    }\n",
       "</style>\n",
       "<table border=\"1\" class=\"dataframe\">\n",
       "  <thead>\n",
       "    <tr style=\"text-align: right;\">\n",
       "      <th></th>\n",
       "      <th>id</th>\n",
       "      <th>call_date</th>\n",
       "      <th>duration</th>\n",
       "      <th>user_id</th>\n",
       "      <th>month</th>\n",
       "    </tr>\n",
       "  </thead>\n",
       "  <tbody>\n",
       "    <tr>\n",
       "      <th>0</th>\n",
       "      <td>1000_0</td>\n",
       "      <td>2018-07-25</td>\n",
       "      <td>0.0</td>\n",
       "      <td>1000</td>\n",
       "      <td>7</td>\n",
       "    </tr>\n",
       "    <tr>\n",
       "      <th>1</th>\n",
       "      <td>1000_1</td>\n",
       "      <td>2018-08-17</td>\n",
       "      <td>0.0</td>\n",
       "      <td>1000</td>\n",
       "      <td>8</td>\n",
       "    </tr>\n",
       "    <tr>\n",
       "      <th>2</th>\n",
       "      <td>1000_2</td>\n",
       "      <td>2018-06-11</td>\n",
       "      <td>3.0</td>\n",
       "      <td>1000</td>\n",
       "      <td>6</td>\n",
       "    </tr>\n",
       "    <tr>\n",
       "      <th>3</th>\n",
       "      <td>1000_3</td>\n",
       "      <td>2018-09-21</td>\n",
       "      <td>14.0</td>\n",
       "      <td>1000</td>\n",
       "      <td>9</td>\n",
       "    </tr>\n",
       "    <tr>\n",
       "      <th>4</th>\n",
       "      <td>1000_4</td>\n",
       "      <td>2018-12-15</td>\n",
       "      <td>6.0</td>\n",
       "      <td>1000</td>\n",
       "      <td>12</td>\n",
       "    </tr>\n",
       "  </tbody>\n",
       "</table>\n",
       "</div>"
      ],
      "text/plain": [
       "       id  call_date  duration  user_id  month\n",
       "0  1000_0 2018-07-25       0.0     1000      7\n",
       "1  1000_1 2018-08-17       0.0     1000      8\n",
       "2  1000_2 2018-06-11       3.0     1000      6\n",
       "3  1000_3 2018-09-21      14.0     1000      9\n",
       "4  1000_4 2018-12-15       6.0     1000     12"
      ]
     },
     "metadata": {},
     "output_type": "display_data"
    },
    {
     "data": {
      "text/html": [
       "<div>\n",
       "<style scoped>\n",
       "    .dataframe tbody tr th:only-of-type {\n",
       "        vertical-align: middle;\n",
       "    }\n",
       "\n",
       "    .dataframe tbody tr th {\n",
       "        vertical-align: top;\n",
       "    }\n",
       "\n",
       "    .dataframe thead th {\n",
       "        text-align: right;\n",
       "    }\n",
       "</style>\n",
       "<table border=\"1\" class=\"dataframe\">\n",
       "  <thead>\n",
       "    <tr style=\"text-align: right;\">\n",
       "      <th></th>\n",
       "      <th>id</th>\n",
       "      <th>message_date</th>\n",
       "      <th>user_id</th>\n",
       "      <th>month</th>\n",
       "    </tr>\n",
       "  </thead>\n",
       "  <tbody>\n",
       "    <tr>\n",
       "      <th>0</th>\n",
       "      <td>1000_0</td>\n",
       "      <td>2018-06-27</td>\n",
       "      <td>1000</td>\n",
       "      <td>6</td>\n",
       "    </tr>\n",
       "    <tr>\n",
       "      <th>1</th>\n",
       "      <td>1000_1</td>\n",
       "      <td>2018-10-08</td>\n",
       "      <td>1000</td>\n",
       "      <td>10</td>\n",
       "    </tr>\n",
       "    <tr>\n",
       "      <th>2</th>\n",
       "      <td>1000_2</td>\n",
       "      <td>2018-08-04</td>\n",
       "      <td>1000</td>\n",
       "      <td>8</td>\n",
       "    </tr>\n",
       "    <tr>\n",
       "      <th>3</th>\n",
       "      <td>1000_3</td>\n",
       "      <td>2018-06-16</td>\n",
       "      <td>1000</td>\n",
       "      <td>6</td>\n",
       "    </tr>\n",
       "    <tr>\n",
       "      <th>4</th>\n",
       "      <td>1000_4</td>\n",
       "      <td>2018-12-05</td>\n",
       "      <td>1000</td>\n",
       "      <td>12</td>\n",
       "    </tr>\n",
       "  </tbody>\n",
       "</table>\n",
       "</div>"
      ],
      "text/plain": [
       "       id message_date  user_id  month\n",
       "0  1000_0   2018-06-27     1000      6\n",
       "1  1000_1   2018-10-08     1000     10\n",
       "2  1000_2   2018-08-04     1000      8\n",
       "3  1000_3   2018-06-16     1000      6\n",
       "4  1000_4   2018-12-05     1000     12"
      ]
     },
     "metadata": {},
     "output_type": "display_data"
    },
    {
     "data": {
      "text/html": [
       "<div>\n",
       "<style scoped>\n",
       "    .dataframe tbody tr th:only-of-type {\n",
       "        vertical-align: middle;\n",
       "    }\n",
       "\n",
       "    .dataframe tbody tr th {\n",
       "        vertical-align: top;\n",
       "    }\n",
       "\n",
       "    .dataframe thead th {\n",
       "        text-align: right;\n",
       "    }\n",
       "</style>\n",
       "<table border=\"1\" class=\"dataframe\">\n",
       "  <thead>\n",
       "    <tr style=\"text-align: right;\">\n",
       "      <th></th>\n",
       "      <th>id</th>\n",
       "      <th>mb_used</th>\n",
       "      <th>session_date</th>\n",
       "      <th>user_id</th>\n",
       "      <th>month</th>\n",
       "    </tr>\n",
       "  </thead>\n",
       "  <tbody>\n",
       "    <tr>\n",
       "      <th>0</th>\n",
       "      <td>1000_0</td>\n",
       "      <td>112.95</td>\n",
       "      <td>2018-11-25</td>\n",
       "      <td>1000</td>\n",
       "      <td>11</td>\n",
       "    </tr>\n",
       "    <tr>\n",
       "      <th>1</th>\n",
       "      <td>1000_1</td>\n",
       "      <td>1052.81</td>\n",
       "      <td>2018-09-07</td>\n",
       "      <td>1000</td>\n",
       "      <td>9</td>\n",
       "    </tr>\n",
       "    <tr>\n",
       "      <th>2</th>\n",
       "      <td>1000_2</td>\n",
       "      <td>1197.26</td>\n",
       "      <td>2018-06-25</td>\n",
       "      <td>1000</td>\n",
       "      <td>6</td>\n",
       "    </tr>\n",
       "    <tr>\n",
       "      <th>3</th>\n",
       "      <td>1000_3</td>\n",
       "      <td>550.27</td>\n",
       "      <td>2018-08-22</td>\n",
       "      <td>1000</td>\n",
       "      <td>8</td>\n",
       "    </tr>\n",
       "    <tr>\n",
       "      <th>4</th>\n",
       "      <td>1000_4</td>\n",
       "      <td>302.56</td>\n",
       "      <td>2018-09-24</td>\n",
       "      <td>1000</td>\n",
       "      <td>9</td>\n",
       "    </tr>\n",
       "  </tbody>\n",
       "</table>\n",
       "</div>"
      ],
      "text/plain": [
       "       id  mb_used session_date  user_id  month\n",
       "0  1000_0   112.95   2018-11-25     1000     11\n",
       "1  1000_1  1052.81   2018-09-07     1000      9\n",
       "2  1000_2  1197.26   2018-06-25     1000      6\n",
       "3  1000_3   550.27   2018-08-22     1000      8\n",
       "4  1000_4   302.56   2018-09-24     1000      9"
      ]
     },
     "metadata": {},
     "output_type": "display_data"
    }
   ],
   "source": [
    "tables = [data_calls, data_msg, data_int] #список таблиц\n",
    "#цикл находит в наименовании столбцов каждой таблицы 'date', меняет тип данных столбца на 'datetime', создает новый столбец с\n",
    "#номером месяца и выводит первые строки новой таблицы\n",
    "for table in tables: \n",
    "    for name in table.columns: \n",
    "        if 'date' in name: \n",
    "            table[name] = pd.to_datetime(table[name], format='%Y-%m-%d')\n",
    "            table['month'] = pd.DatetimeIndex(table[name]).month\n",
    "            display(table.head())"
   ]
  },
  {
   "cell_type": "markdown",
   "metadata": {},
   "source": [
    "Посчитаем общее количество отправленных смс, продолжительность звонком и использованный трафик интернета по каждому абоненту помесячно"
   ]
  },
  {
   "cell_type": "code",
   "execution_count": 14,
   "metadata": {},
   "outputs": [
    {
     "data": {
      "text/html": [
       "<div>\n",
       "<style scoped>\n",
       "    .dataframe tbody tr th:only-of-type {\n",
       "        vertical-align: middle;\n",
       "    }\n",
       "\n",
       "    .dataframe tbody tr th {\n",
       "        vertical-align: top;\n",
       "    }\n",
       "\n",
       "    .dataframe thead th {\n",
       "        text-align: right;\n",
       "    }\n",
       "</style>\n",
       "<table border=\"1\" class=\"dataframe\">\n",
       "  <thead>\n",
       "    <tr style=\"text-align: right;\">\n",
       "      <th></th>\n",
       "      <th></th>\n",
       "      <th>mb_used</th>\n",
       "    </tr>\n",
       "    <tr>\n",
       "      <th>user_id</th>\n",
       "      <th>month</th>\n",
       "      <th></th>\n",
       "    </tr>\n",
       "  </thead>\n",
       "  <tbody>\n",
       "    <tr>\n",
       "      <th rowspan=\"5\" valign=\"top\">1000</th>\n",
       "      <th>5</th>\n",
       "      <td>2253.49</td>\n",
       "    </tr>\n",
       "    <tr>\n",
       "      <th>6</th>\n",
       "      <td>23233.77</td>\n",
       "    </tr>\n",
       "    <tr>\n",
       "      <th>7</th>\n",
       "      <td>14003.64</td>\n",
       "    </tr>\n",
       "    <tr>\n",
       "      <th>8</th>\n",
       "      <td>14055.93</td>\n",
       "    </tr>\n",
       "    <tr>\n",
       "      <th>9</th>\n",
       "      <td>14568.91</td>\n",
       "    </tr>\n",
       "    <tr>\n",
       "      <th>...</th>\n",
       "      <th>...</th>\n",
       "      <td>...</td>\n",
       "    </tr>\n",
       "    <tr>\n",
       "      <th>1498</th>\n",
       "      <th>10</th>\n",
       "      <td>20579.36</td>\n",
       "    </tr>\n",
       "    <tr>\n",
       "      <th rowspan=\"4\" valign=\"top\">1499</th>\n",
       "      <th>9</th>\n",
       "      <td>1845.75</td>\n",
       "    </tr>\n",
       "    <tr>\n",
       "      <th>10</th>\n",
       "      <td>17788.51</td>\n",
       "    </tr>\n",
       "    <tr>\n",
       "      <th>11</th>\n",
       "      <td>17963.31</td>\n",
       "    </tr>\n",
       "    <tr>\n",
       "      <th>12</th>\n",
       "      <td>13055.58</td>\n",
       "    </tr>\n",
       "  </tbody>\n",
       "</table>\n",
       "<p>3203 rows × 1 columns</p>\n",
       "</div>"
      ],
      "text/plain": [
       "                mb_used\n",
       "user_id month          \n",
       "1000    5       2253.49\n",
       "        6      23233.77\n",
       "        7      14003.64\n",
       "        8      14055.93\n",
       "        9      14568.91\n",
       "...                 ...\n",
       "1498    10     20579.36\n",
       "1499    9       1845.75\n",
       "        10     17788.51\n",
       "        11     17963.31\n",
       "        12     13055.58\n",
       "\n",
       "[3203 rows x 1 columns]"
      ]
     },
     "execution_count": 14,
     "metadata": {},
     "output_type": "execute_result"
    }
   ],
   "source": [
    "#сводные таблицы по видам услуг по каждому абоненту помесячно\n",
    "internet = data_int.pivot_table(index=['user_id','month'], values='mb_used', aggfunc='sum')\n",
    "messages = data_msg.pivot_table(index=['user_id','month'], values='id', aggfunc='count')\n",
    "calls = data_calls.pivot_table(index=['user_id','month'], values='duration', aggfunc='sum')\n",
    "internet"
   ]
  },
  {
   "cell_type": "markdown",
   "metadata": {},
   "source": [
    "Объеденим сводные таблицы с помощью метода `reduce` с параметром `outer`, чтобы сохранить все строки таблиц"
   ]
  },
  {
   "cell_type": "code",
   "execution_count": 16,
   "metadata": {},
   "outputs": [
    {
     "data": {
      "text/html": [
       "<div>\n",
       "<style scoped>\n",
       "    .dataframe tbody tr th:only-of-type {\n",
       "        vertical-align: middle;\n",
       "    }\n",
       "\n",
       "    .dataframe tbody tr th {\n",
       "        vertical-align: top;\n",
       "    }\n",
       "\n",
       "    .dataframe thead th {\n",
       "        text-align: right;\n",
       "    }\n",
       "</style>\n",
       "<table border=\"1\" class=\"dataframe\">\n",
       "  <thead>\n",
       "    <tr style=\"text-align: right;\">\n",
       "      <th></th>\n",
       "      <th>user_id</th>\n",
       "      <th>month</th>\n",
       "      <th>mb_used</th>\n",
       "      <th>msg_sent</th>\n",
       "      <th>duration</th>\n",
       "    </tr>\n",
       "  </thead>\n",
       "  <tbody>\n",
       "    <tr>\n",
       "      <th>0</th>\n",
       "      <td>1000</td>\n",
       "      <td>5</td>\n",
       "      <td>2253.49</td>\n",
       "      <td>22.0</td>\n",
       "      <td>159.0</td>\n",
       "    </tr>\n",
       "    <tr>\n",
       "      <th>1</th>\n",
       "      <td>1000</td>\n",
       "      <td>6</td>\n",
       "      <td>23233.77</td>\n",
       "      <td>60.0</td>\n",
       "      <td>172.0</td>\n",
       "    </tr>\n",
       "    <tr>\n",
       "      <th>2</th>\n",
       "      <td>1000</td>\n",
       "      <td>7</td>\n",
       "      <td>14003.64</td>\n",
       "      <td>75.0</td>\n",
       "      <td>340.0</td>\n",
       "    </tr>\n",
       "    <tr>\n",
       "      <th>3</th>\n",
       "      <td>1000</td>\n",
       "      <td>8</td>\n",
       "      <td>14055.93</td>\n",
       "      <td>81.0</td>\n",
       "      <td>408.0</td>\n",
       "    </tr>\n",
       "    <tr>\n",
       "      <th>4</th>\n",
       "      <td>1000</td>\n",
       "      <td>9</td>\n",
       "      <td>14568.91</td>\n",
       "      <td>57.0</td>\n",
       "      <td>466.0</td>\n",
       "    </tr>\n",
       "  </tbody>\n",
       "</table>\n",
       "</div>"
      ],
      "text/plain": [
       "   user_id  month   mb_used  msg_sent  duration\n",
       "0     1000      5   2253.49      22.0     159.0\n",
       "1     1000      6  23233.77      60.0     172.0\n",
       "2     1000      7  14003.64      75.0     340.0\n",
       "3     1000      8  14055.93      81.0     408.0\n",
       "4     1000      9  14568.91      57.0     466.0"
      ]
     },
     "execution_count": 16,
     "metadata": {},
     "output_type": "execute_result"
    }
   ],
   "source": [
    "from functools import reduce\n",
    "int_msg_call =  reduce(lambda  left,right: pd.merge(left,right,on=['user_id', 'month'],\n",
    "                                            how='outer'), [internet, messages, calls]).reset_index()\n",
    "int_msg_call.columns = ['user_id', 'month', 'mb_used', 'msg_sent', 'duration']\n",
    "int_msg_call.head()"
   ]
  },
  {
   "cell_type": "markdown",
   "metadata": {},
   "source": [
    "Известно, что оператор округляет значения использованного трафика за месяц в большую сторону до целых Гб. Переведем значения столбца `mb_used` в ГБ, округлим их в большую сторону и переименуем столбец "
   ]
  },
  {
   "cell_type": "code",
   "execution_count": 17,
   "metadata": {},
   "outputs": [],
   "source": [
    "int_msg_call['mb_used'] = (int_msg_call['mb_used'] / 1024).apply(np.ceil) #Мб в Гб и округление в большую сторону\n",
    "int_msg_call = int_msg_call.rename(columns={'mb_used': 'gb_used'}) #переименование столбца"
   ]
  },
  {
   "cell_type": "markdown",
   "metadata": {},
   "source": [
    "Добавим в сводную таблицу информацию по абонентам с помощью метода `merge`"
   ]
  },
  {
   "cell_type": "code",
   "execution_count": 18,
   "metadata": {},
   "outputs": [
    {
     "name": "stdout",
     "output_type": "stream",
     "text": [
      "<class 'pandas.core.frame.DataFrame'>\n",
      "Int64Index: 3216 entries, 0 to 3215\n",
      "Data columns (total 12 columns):\n",
      " #   Column      Non-Null Count  Dtype  \n",
      "---  ------      --------------  -----  \n",
      " 0   user_id     3216 non-null   int64  \n",
      " 1   month       3214 non-null   float64\n",
      " 2   gb_used     3203 non-null   float64\n",
      " 3   msg_sent    2717 non-null   float64\n",
      " 4   duration    3174 non-null   float64\n",
      " 5   age         3216 non-null   int64  \n",
      " 6   churn_date  189 non-null    object \n",
      " 7   city        3216 non-null   object \n",
      " 8   first_name  3216 non-null   object \n",
      " 9   last_name   3216 non-null   object \n",
      " 10  reg_date    3216 non-null   object \n",
      " 11  tariff      3216 non-null   object \n",
      "dtypes: float64(4), int64(2), object(6)\n",
      "memory usage: 326.6+ KB\n"
     ]
    }
   ],
   "source": [
    "data = int_msg_call.merge(data_user, on=['user_id'], how='outer')\n",
    "data.info()"
   ]
  },
  {
   "cell_type": "markdown",
   "metadata": {},
   "source": [
    "Так как не у всех абонентов есть информация по всем видам услуг в месяце, в таблице появились пропуски. Заменим пропуски на ноль и удалим две строки, где нет данных о месяце"
   ]
  },
  {
   "cell_type": "code",
   "execution_count": 19,
   "metadata": {},
   "outputs": [
    {
     "name": "stdout",
     "output_type": "stream",
     "text": [
      "<class 'pandas.core.frame.DataFrame'>\n",
      "Int64Index: 3214 entries, 0 to 3213\n",
      "Data columns (total 12 columns):\n",
      " #   Column      Non-Null Count  Dtype  \n",
      "---  ------      --------------  -----  \n",
      " 0   user_id     3214 non-null   int64  \n",
      " 1   month       3214 non-null   float64\n",
      " 2   gb_used     3214 non-null   float64\n",
      " 3   msg_sent    3214 non-null   float64\n",
      " 4   duration    3214 non-null   float64\n",
      " 5   age         3214 non-null   int64  \n",
      " 6   churn_date  187 non-null    object \n",
      " 7   city        3214 non-null   object \n",
      " 8   first_name  3214 non-null   object \n",
      " 9   last_name   3214 non-null   object \n",
      " 10  reg_date    3214 non-null   object \n",
      " 11  tariff      3214 non-null   object \n",
      "dtypes: float64(4), int64(2), object(6)\n",
      "memory usage: 326.4+ KB\n"
     ]
    }
   ],
   "source": [
    "data.loc[data['gb_used'].isna(), 'gb_used'] = 0\n",
    "data.loc[data['msg_sent'].isna(), 'msg_sent'] = 0\n",
    "data.loc[data['duration'].isna(), 'duration'] = 0\n",
    "data.dropna(subset = ['month'], inplace=True)\n",
    "\n",
    "data.info()"
   ]
  },
  {
   "cell_type": "markdown",
   "metadata": {},
   "source": [
    "Добавим в таблицу данные о тарифе. Для этого приведем наименование столбца к единому виду"
   ]
  },
  {
   "cell_type": "code",
   "execution_count": 20,
   "metadata": {},
   "outputs": [
    {
     "name": "stdout",
     "output_type": "stream",
     "text": [
      "<class 'pandas.core.frame.DataFrame'>\n",
      "Int64Index: 3214 entries, 0 to 3213\n",
      "Data columns (total 19 columns):\n",
      " #   Column                 Non-Null Count  Dtype  \n",
      "---  ------                 --------------  -----  \n",
      " 0   user_id                3214 non-null   int64  \n",
      " 1   month                  3214 non-null   float64\n",
      " 2   gb_used                3214 non-null   float64\n",
      " 3   msg_sent               3214 non-null   float64\n",
      " 4   duration               3214 non-null   float64\n",
      " 5   age                    3214 non-null   int64  \n",
      " 6   churn_date             187 non-null    object \n",
      " 7   city                   3214 non-null   object \n",
      " 8   first_name             3214 non-null   object \n",
      " 9   last_name              3214 non-null   object \n",
      " 10  reg_date               3214 non-null   object \n",
      " 11  tariff_name            3214 non-null   object \n",
      " 12  messages_included      3214 non-null   int64  \n",
      " 13  mb_per_month_included  3214 non-null   int64  \n",
      " 14  minutes_included       3214 non-null   int64  \n",
      " 15  rub_monthly_fee        3214 non-null   int64  \n",
      " 16  rub_per_gb             3214 non-null   int64  \n",
      " 17  rub_per_message        3214 non-null   int64  \n",
      " 18  rub_per_minute         3214 non-null   int64  \n",
      "dtypes: float64(4), int64(9), object(6)\n",
      "memory usage: 502.2+ KB\n"
     ]
    }
   ],
   "source": [
    "data = data.rename(columns={'tariff': 'tariff_name'})\n",
    "data = data.merge(tariff, on=['tariff_name'], how='left') \n",
    "data.info()"
   ]
  },
  {
   "cell_type": "markdown",
   "metadata": {},
   "source": [
    "Чтобы добавить в таблицу столбец с выручкой по каждому абоненту помесячно, напишем функцию"
   ]
  },
  {
   "cell_type": "code",
   "execution_count": 21,
   "metadata": {},
   "outputs": [
    {
     "data": {
      "text/html": [
       "<div>\n",
       "<style scoped>\n",
       "    .dataframe tbody tr th:only-of-type {\n",
       "        vertical-align: middle;\n",
       "    }\n",
       "\n",
       "    .dataframe tbody tr th {\n",
       "        vertical-align: top;\n",
       "    }\n",
       "\n",
       "    .dataframe thead th {\n",
       "        text-align: right;\n",
       "    }\n",
       "</style>\n",
       "<table border=\"1\" class=\"dataframe\">\n",
       "  <thead>\n",
       "    <tr style=\"text-align: right;\">\n",
       "      <th></th>\n",
       "      <th>user_id</th>\n",
       "      <th>month</th>\n",
       "      <th>gb_used</th>\n",
       "      <th>msg_sent</th>\n",
       "      <th>duration</th>\n",
       "      <th>age</th>\n",
       "      <th>churn_date</th>\n",
       "      <th>city</th>\n",
       "      <th>first_name</th>\n",
       "      <th>last_name</th>\n",
       "      <th>reg_date</th>\n",
       "      <th>tariff_name</th>\n",
       "      <th>messages_included</th>\n",
       "      <th>mb_per_month_included</th>\n",
       "      <th>minutes_included</th>\n",
       "      <th>rub_monthly_fee</th>\n",
       "      <th>rub_per_gb</th>\n",
       "      <th>rub_per_message</th>\n",
       "      <th>rub_per_minute</th>\n",
       "      <th>income</th>\n",
       "    </tr>\n",
       "  </thead>\n",
       "  <tbody>\n",
       "    <tr>\n",
       "      <th>0</th>\n",
       "      <td>1000</td>\n",
       "      <td>5.0</td>\n",
       "      <td>3.0</td>\n",
       "      <td>22.0</td>\n",
       "      <td>159.0</td>\n",
       "      <td>52</td>\n",
       "      <td>NaN</td>\n",
       "      <td>Краснодар</td>\n",
       "      <td>Рафаил</td>\n",
       "      <td>Верещагин</td>\n",
       "      <td>2018-05-25</td>\n",
       "      <td>ultra</td>\n",
       "      <td>1000</td>\n",
       "      <td>30720</td>\n",
       "      <td>3000</td>\n",
       "      <td>1950</td>\n",
       "      <td>150</td>\n",
       "      <td>1</td>\n",
       "      <td>1</td>\n",
       "      <td>1950.0</td>\n",
       "    </tr>\n",
       "    <tr>\n",
       "      <th>1</th>\n",
       "      <td>1000</td>\n",
       "      <td>6.0</td>\n",
       "      <td>23.0</td>\n",
       "      <td>60.0</td>\n",
       "      <td>172.0</td>\n",
       "      <td>52</td>\n",
       "      <td>NaN</td>\n",
       "      <td>Краснодар</td>\n",
       "      <td>Рафаил</td>\n",
       "      <td>Верещагин</td>\n",
       "      <td>2018-05-25</td>\n",
       "      <td>ultra</td>\n",
       "      <td>1000</td>\n",
       "      <td>30720</td>\n",
       "      <td>3000</td>\n",
       "      <td>1950</td>\n",
       "      <td>150</td>\n",
       "      <td>1</td>\n",
       "      <td>1</td>\n",
       "      <td>1950.0</td>\n",
       "    </tr>\n",
       "    <tr>\n",
       "      <th>2</th>\n",
       "      <td>1000</td>\n",
       "      <td>7.0</td>\n",
       "      <td>14.0</td>\n",
       "      <td>75.0</td>\n",
       "      <td>340.0</td>\n",
       "      <td>52</td>\n",
       "      <td>NaN</td>\n",
       "      <td>Краснодар</td>\n",
       "      <td>Рафаил</td>\n",
       "      <td>Верещагин</td>\n",
       "      <td>2018-05-25</td>\n",
       "      <td>ultra</td>\n",
       "      <td>1000</td>\n",
       "      <td>30720</td>\n",
       "      <td>3000</td>\n",
       "      <td>1950</td>\n",
       "      <td>150</td>\n",
       "      <td>1</td>\n",
       "      <td>1</td>\n",
       "      <td>1950.0</td>\n",
       "    </tr>\n",
       "    <tr>\n",
       "      <th>3</th>\n",
       "      <td>1000</td>\n",
       "      <td>8.0</td>\n",
       "      <td>14.0</td>\n",
       "      <td>81.0</td>\n",
       "      <td>408.0</td>\n",
       "      <td>52</td>\n",
       "      <td>NaN</td>\n",
       "      <td>Краснодар</td>\n",
       "      <td>Рафаил</td>\n",
       "      <td>Верещагин</td>\n",
       "      <td>2018-05-25</td>\n",
       "      <td>ultra</td>\n",
       "      <td>1000</td>\n",
       "      <td>30720</td>\n",
       "      <td>3000</td>\n",
       "      <td>1950</td>\n",
       "      <td>150</td>\n",
       "      <td>1</td>\n",
       "      <td>1</td>\n",
       "      <td>1950.0</td>\n",
       "    </tr>\n",
       "    <tr>\n",
       "      <th>4</th>\n",
       "      <td>1000</td>\n",
       "      <td>9.0</td>\n",
       "      <td>15.0</td>\n",
       "      <td>57.0</td>\n",
       "      <td>466.0</td>\n",
       "      <td>52</td>\n",
       "      <td>NaN</td>\n",
       "      <td>Краснодар</td>\n",
       "      <td>Рафаил</td>\n",
       "      <td>Верещагин</td>\n",
       "      <td>2018-05-25</td>\n",
       "      <td>ultra</td>\n",
       "      <td>1000</td>\n",
       "      <td>30720</td>\n",
       "      <td>3000</td>\n",
       "      <td>1950</td>\n",
       "      <td>150</td>\n",
       "      <td>1</td>\n",
       "      <td>1</td>\n",
       "      <td>1950.0</td>\n",
       "    </tr>\n",
       "  </tbody>\n",
       "</table>\n",
       "</div>"
      ],
      "text/plain": [
       "   user_id  month  gb_used  msg_sent  duration  age churn_date       city  \\\n",
       "0     1000    5.0      3.0      22.0     159.0   52        NaN  Краснодар   \n",
       "1     1000    6.0     23.0      60.0     172.0   52        NaN  Краснодар   \n",
       "2     1000    7.0     14.0      75.0     340.0   52        NaN  Краснодар   \n",
       "3     1000    8.0     14.0      81.0     408.0   52        NaN  Краснодар   \n",
       "4     1000    9.0     15.0      57.0     466.0   52        NaN  Краснодар   \n",
       "\n",
       "  first_name  last_name    reg_date tariff_name  messages_included  \\\n",
       "0     Рафаил  Верещагин  2018-05-25       ultra               1000   \n",
       "1     Рафаил  Верещагин  2018-05-25       ultra               1000   \n",
       "2     Рафаил  Верещагин  2018-05-25       ultra               1000   \n",
       "3     Рафаил  Верещагин  2018-05-25       ultra               1000   \n",
       "4     Рафаил  Верещагин  2018-05-25       ultra               1000   \n",
       "\n",
       "   mb_per_month_included  minutes_included  rub_monthly_fee  rub_per_gb  \\\n",
       "0                  30720              3000             1950         150   \n",
       "1                  30720              3000             1950         150   \n",
       "2                  30720              3000             1950         150   \n",
       "3                  30720              3000             1950         150   \n",
       "4                  30720              3000             1950         150   \n",
       "\n",
       "   rub_per_message  rub_per_minute  income  \n",
       "0                1               1  1950.0  \n",
       "1                1               1  1950.0  \n",
       "2                1               1  1950.0  \n",
       "3                1               1  1950.0  \n",
       "4                1               1  1950.0  "
      ]
     },
     "execution_count": 21,
     "metadata": {},
     "output_type": "execute_result"
    }
   ],
   "source": [
    "#функция находит разницу между включенным в тариф и израходованным пакетом по каждой услуге и высчитывает стоимость. \n",
    "#если значение отрицательно, значит лимит не израсходован перерасход равен 0\n",
    "#возвращает сумму перерасхода и абонентской платы\n",
    "def tariff_income(row):\n",
    "    minutes_over = (row['duration'] - row['minutes_included']) * row['rub_per_minute']\n",
    "    msg_over = (row['msg_sent'] - row['messages_included']) * row['rub_per_message']\n",
    "    gb_over = (row['gb_used'] - row['mb_per_month_included'] / 1024) * row['rub_per_gb']\n",
    "    \n",
    "    if minutes_over < 0: \n",
    "        minutes_over = 0\n",
    "    if msg_over < 0: \n",
    "        msg_over = 0\n",
    "    if gb_over < 0: \n",
    "        gb_over = 0\n",
    "        \n",
    "    month_income = minutes_over + msg_over + gb_over + row['rub_monthly_fee']\n",
    "    return month_income\n",
    "\n",
    "data['income'] = data.apply(tariff_income, axis=1) #добавим столбец с выручкой\n",
    "data.head() #первые строки новой таблицы"
   ]
  },
  {
   "cell_type": "markdown",
   "metadata": {},
   "source": [
    "### Вывод \n",
    "В результате предобработки данные были сгруппированы по каждому абоненту помесячно, рассчитаны израсходованные пакеты по каждому виду услуг и выручка. Значения дат были приведены к типу `datetime`, пропущенные значения заполнены нулем."
   ]
  },
  {
   "cell_type": "markdown",
   "metadata": {},
   "source": [
    "## Анализ поведения клиентов"
   ]
  },
  {
   "cell_type": "markdown",
   "metadata": {},
   "source": [
    "Чтобы сравнить поведение клиентов с разными тарифами сгруппируем данные по каждому виду услуг"
   ]
  },
  {
   "cell_type": "code",
   "execution_count": 22,
   "metadata": {},
   "outputs": [
    {
     "data": {
      "text/html": [
       "<div>\n",
       "<style scoped>\n",
       "    .dataframe tbody tr th:only-of-type {\n",
       "        vertical-align: middle;\n",
       "    }\n",
       "\n",
       "    .dataframe tbody tr th {\n",
       "        vertical-align: top;\n",
       "    }\n",
       "\n",
       "    .dataframe thead th {\n",
       "        text-align: right;\n",
       "    }\n",
       "</style>\n",
       "<table border=\"1\" class=\"dataframe\">\n",
       "  <thead>\n",
       "    <tr style=\"text-align: right;\">\n",
       "      <th></th>\n",
       "      <th>gb_used</th>\n",
       "      <th>msg_sent</th>\n",
       "      <th>duration</th>\n",
       "      <th>income</th>\n",
       "    </tr>\n",
       "    <tr>\n",
       "      <th>tariff_name</th>\n",
       "      <th></th>\n",
       "      <th></th>\n",
       "      <th></th>\n",
       "      <th></th>\n",
       "    </tr>\n",
       "  </thead>\n",
       "  <tbody>\n",
       "    <tr>\n",
       "      <th>smart</th>\n",
       "      <td>16.328847</td>\n",
       "      <td>33.384029</td>\n",
       "      <td>417.934948</td>\n",
       "      <td>1289.973531</td>\n",
       "    </tr>\n",
       "    <tr>\n",
       "      <th>ultra</th>\n",
       "      <td>19.494416</td>\n",
       "      <td>49.363452</td>\n",
       "      <td>526.623350</td>\n",
       "      <td>2070.152284</td>\n",
       "    </tr>\n",
       "  </tbody>\n",
       "</table>\n",
       "</div>"
      ],
      "text/plain": [
       "               gb_used   msg_sent    duration       income\n",
       "tariff_name                                               \n",
       "smart        16.328847  33.384029  417.934948  1289.973531\n",
       "ultra        19.494416  49.363452  526.623350  2070.152284"
      ]
     },
     "execution_count": 22,
     "metadata": {},
     "output_type": "execute_result"
    }
   ],
   "source": [
    "data.groupby('tariff_name').agg({'gb_used':'mean', 'msg_sent': 'mean', 'duration': 'mean', 'income': 'mean'})"
   ]
  },
  {
   "cell_type": "code",
   "execution_count": 23,
   "metadata": {},
   "outputs": [
    {
     "data": {
      "text/html": [
       "<div>\n",
       "<style scoped>\n",
       "    .dataframe tbody tr th:only-of-type {\n",
       "        vertical-align: middle;\n",
       "    }\n",
       "\n",
       "    .dataframe tbody tr th {\n",
       "        vertical-align: top;\n",
       "    }\n",
       "\n",
       "    .dataframe thead th {\n",
       "        text-align: right;\n",
       "    }\n",
       "</style>\n",
       "<table border=\"1\" class=\"dataframe\">\n",
       "  <thead>\n",
       "    <tr style=\"text-align: right;\">\n",
       "      <th></th>\n",
       "      <th>messages_included</th>\n",
       "      <th>mb_per_month_included</th>\n",
       "      <th>minutes_included</th>\n",
       "      <th>rub_monthly_fee</th>\n",
       "      <th>rub_per_gb</th>\n",
       "      <th>rub_per_message</th>\n",
       "      <th>rub_per_minute</th>\n",
       "      <th>tariff_name</th>\n",
       "    </tr>\n",
       "  </thead>\n",
       "  <tbody>\n",
       "    <tr>\n",
       "      <th>0</th>\n",
       "      <td>50</td>\n",
       "      <td>15360</td>\n",
       "      <td>500</td>\n",
       "      <td>550</td>\n",
       "      <td>200</td>\n",
       "      <td>3</td>\n",
       "      <td>3</td>\n",
       "      <td>smart</td>\n",
       "    </tr>\n",
       "    <tr>\n",
       "      <th>1</th>\n",
       "      <td>1000</td>\n",
       "      <td>30720</td>\n",
       "      <td>3000</td>\n",
       "      <td>1950</td>\n",
       "      <td>150</td>\n",
       "      <td>1</td>\n",
       "      <td>1</td>\n",
       "      <td>ultra</td>\n",
       "    </tr>\n",
       "  </tbody>\n",
       "</table>\n",
       "</div>"
      ],
      "text/plain": [
       "   messages_included  mb_per_month_included  minutes_included  \\\n",
       "0                 50                  15360               500   \n",
       "1               1000                  30720              3000   \n",
       "\n",
       "   rub_monthly_fee  rub_per_gb  rub_per_message  rub_per_minute tariff_name  \n",
       "0              550         200                3               3       smart  \n",
       "1             1950         150                1               1       ultra  "
      ]
     },
     "execution_count": 23,
     "metadata": {},
     "output_type": "execute_result"
    }
   ],
   "source": [
    "tariff"
   ]
  },
  {
   "cell_type": "markdown",
   "metadata": {},
   "source": [
    "Таблица показывает, что в среднем абоненты тарифного плана ULTRA расходуют больше, что обусловлено большим пакетом услуг, включенным в абонентскую плату, а плата за услуги редко превышает абонентску. Абоненты SMART расходуют меньше, но учитывая среднюю выручку в месяц, превышающую абонентскую плату более чем в два раза, в пакет услуг тарифа не укладываются. Построим сравнительные гистограммы по расходам абонентов разных тарифов"
   ]
  },
  {
   "cell_type": "code",
   "execution_count": 24,
   "metadata": {},
   "outputs": [],
   "source": [
    "# переменная smart-сгруппированные данные по тарифу с интересующими нас столбцами\n",
    "\n",
    "smart = data.query('tariff_name == \"smart\"')\n",
    "smart = smart[['gb_used', 'msg_sent', 'duration', 'income']]"
   ]
  },
  {
   "cell_type": "code",
   "execution_count": 25,
   "metadata": {},
   "outputs": [],
   "source": [
    "# переменная ultra-сгруппированные данные по тарифу с интересующими нас столбцами\n",
    "\n",
    "ultra = data.query('tariff_name == \"ultra\"')\n",
    "ultra = ultra[['gb_used', 'msg_sent', 'duration', 'income']]"
   ]
  },
  {
   "cell_type": "code",
   "execution_count": 26,
   "metadata": {},
   "outputs": [
    {
     "data": {
      "image/png": "[encoded data removed]",
      "text/plain": [
       "<Figure size 432x288 with 1 Axes>"
      ]
     },
     "metadata": {
      "needs_background": "light"
     },
     "output_type": "display_data"
    },
    {
     "data": {
      "image/png": "[encoded data removed]",
      "text/plain": [
       "<Figure size 432x288 with 1 Axes>"
      ]
     },
     "metadata": {
      "needs_background": "light"
     },
     "output_type": "display_data"
    },
    {
     "data": {
      "image/png": "[encoded data removed]",
      "text/plain": [
       "<Figure size 432x288 with 1 Axes>"
      ]
     },
     "metadata": {
      "needs_background": "light"
     },
     "output_type": "display_data"
    },
    {
     "data": {
      "image/png": "[encoded data removed]",
      "text/plain": [
       "<Figure size 432x288 with 1 Axes>"
      ]
     },
     "metadata": {
      "needs_background": "light"
     },
     "output_type": "display_data"
    }
   ],
   "source": [
    "columns = ['duration', 'msg_sent', 'gb_used', 'income'] #цикл строит сравнительную гистограмму по выбранным столбцам\n",
    "\n",
    "for column in columns:\n",
    "    ax=smart.plot(kind='hist',\n",
    "                         y=column, \n",
    "                         histtype='step',\n",
    "                         bins=25,linewidth=5,\n",
    "                         alpha=0.7,\n",
    "                         label='SMART',\n",
    "                        )\n",
    "    ultra.plot(kind='hist',\n",
    "                    y=column, \n",
    "                    title=column,\n",
    "                    histtype='step',\n",
    "                    bins=25,\n",
    "                    linewidth=5,\n",
    "                    alpha=0.7,\n",
    "                    label='ULTRA',\n",
    "                    ax=ax,\n",
    "                    grid=True,\n",
    "                    legend=True,\n",
    "                   )\n"
   ]
  },
  {
   "cell_type": "markdown",
   "metadata": {},
   "source": [
    "Рассчитаем дисперсию и рассмотрим расходы по тарифам более подробно. "
   ]
  },
  {
   "cell_type": "code",
   "execution_count": 27,
   "metadata": {},
   "outputs": [
    {
     "data": {
      "text/html": [
       "<div>\n",
       "<style scoped>\n",
       "    .dataframe tbody tr th:only-of-type {\n",
       "        vertical-align: middle;\n",
       "    }\n",
       "\n",
       "    .dataframe tbody tr th {\n",
       "        vertical-align: top;\n",
       "    }\n",
       "\n",
       "    .dataframe thead th {\n",
       "        text-align: right;\n",
       "    }\n",
       "</style>\n",
       "<table border=\"1\" class=\"dataframe\">\n",
       "  <thead>\n",
       "    <tr style=\"text-align: right;\">\n",
       "      <th></th>\n",
       "      <th>count</th>\n",
       "      <th>mean</th>\n",
       "      <th>std</th>\n",
       "      <th>min</th>\n",
       "      <th>25%</th>\n",
       "      <th>50%</th>\n",
       "      <th>75%</th>\n",
       "      <th>max</th>\n",
       "      <th>var</th>\n",
       "    </tr>\n",
       "  </thead>\n",
       "  <tbody>\n",
       "    <tr>\n",
       "      <th>gb_used</th>\n",
       "      <td>2229.0</td>\n",
       "      <td>16.328847</td>\n",
       "      <td>5.747061</td>\n",
       "      <td>0.0</td>\n",
       "      <td>13.0</td>\n",
       "      <td>17.0</td>\n",
       "      <td>20.0</td>\n",
       "      <td>38.0</td>\n",
       "      <td>33.028705</td>\n",
       "    </tr>\n",
       "    <tr>\n",
       "      <th>msg_sent</th>\n",
       "      <td>2229.0</td>\n",
       "      <td>33.384029</td>\n",
       "      <td>28.227876</td>\n",
       "      <td>0.0</td>\n",
       "      <td>10.0</td>\n",
       "      <td>28.0</td>\n",
       "      <td>51.0</td>\n",
       "      <td>143.0</td>\n",
       "      <td>796.812958</td>\n",
       "    </tr>\n",
       "    <tr>\n",
       "      <th>duration</th>\n",
       "      <td>2229.0</td>\n",
       "      <td>417.934948</td>\n",
       "      <td>190.313730</td>\n",
       "      <td>0.0</td>\n",
       "      <td>282.0</td>\n",
       "      <td>422.0</td>\n",
       "      <td>545.0</td>\n",
       "      <td>1435.0</td>\n",
       "      <td>36219.315784</td>\n",
       "    </tr>\n",
       "    <tr>\n",
       "      <th>income</th>\n",
       "      <td>2229.0</td>\n",
       "      <td>1289.973531</td>\n",
       "      <td>818.404367</td>\n",
       "      <td>550.0</td>\n",
       "      <td>550.0</td>\n",
       "      <td>1023.0</td>\n",
       "      <td>1750.0</td>\n",
       "      <td>6770.0</td>\n",
       "      <td>669785.708006</td>\n",
       "    </tr>\n",
       "  </tbody>\n",
       "</table>\n",
       "</div>"
      ],
      "text/plain": [
       "           count         mean         std    min    25%     50%     75%  \\\n",
       "gb_used   2229.0    16.328847    5.747061    0.0   13.0    17.0    20.0   \n",
       "msg_sent  2229.0    33.384029   28.227876    0.0   10.0    28.0    51.0   \n",
       "duration  2229.0   417.934948  190.313730    0.0  282.0   422.0   545.0   \n",
       "income    2229.0  1289.973531  818.404367  550.0  550.0  1023.0  1750.0   \n",
       "\n",
       "             max            var  \n",
       "gb_used     38.0      33.028705  \n",
       "msg_sent   143.0     796.812958  \n",
       "duration  1435.0   36219.315784  \n",
       "income    6770.0  669785.708006  "
      ]
     },
     "execution_count": 27,
     "metadata": {},
     "output_type": "execute_result"
    }
   ],
   "source": [
    "#описание таблицы\n",
    "\n",
    "report_smart = smart.describe().T\n",
    "report_smart['var'] = report_smart['std'] ** 2\n",
    "report_smart"
   ]
  },
  {
   "cell_type": "code",
   "execution_count": 28,
   "metadata": {},
   "outputs": [
    {
     "data": {
      "text/html": [
       "<div>\n",
       "<style scoped>\n",
       "    .dataframe tbody tr th:only-of-type {\n",
       "        vertical-align: middle;\n",
       "    }\n",
       "\n",
       "    .dataframe tbody tr th {\n",
       "        vertical-align: top;\n",
       "    }\n",
       "\n",
       "    .dataframe thead th {\n",
       "        text-align: right;\n",
       "    }\n",
       "</style>\n",
       "<table border=\"1\" class=\"dataframe\">\n",
       "  <thead>\n",
       "    <tr style=\"text-align: right;\">\n",
       "      <th></th>\n",
       "      <th>count</th>\n",
       "      <th>mean</th>\n",
       "      <th>std</th>\n",
       "      <th>min</th>\n",
       "      <th>25%</th>\n",
       "      <th>50%</th>\n",
       "      <th>75%</th>\n",
       "      <th>max</th>\n",
       "      <th>var</th>\n",
       "    </tr>\n",
       "  </thead>\n",
       "  <tbody>\n",
       "    <tr>\n",
       "      <th>gb_used</th>\n",
       "      <td>985.0</td>\n",
       "      <td>19.494416</td>\n",
       "      <td>9.853511</td>\n",
       "      <td>0.0</td>\n",
       "      <td>12.0</td>\n",
       "      <td>19.0</td>\n",
       "      <td>27.0</td>\n",
       "      <td>49.0</td>\n",
       "      <td>97.091686</td>\n",
       "    </tr>\n",
       "    <tr>\n",
       "      <th>msg_sent</th>\n",
       "      <td>985.0</td>\n",
       "      <td>49.363452</td>\n",
       "      <td>47.804457</td>\n",
       "      <td>0.0</td>\n",
       "      <td>6.0</td>\n",
       "      <td>38.0</td>\n",
       "      <td>79.0</td>\n",
       "      <td>224.0</td>\n",
       "      <td>2285.266143</td>\n",
       "    </tr>\n",
       "    <tr>\n",
       "      <th>duration</th>\n",
       "      <td>985.0</td>\n",
       "      <td>526.623350</td>\n",
       "      <td>317.606098</td>\n",
       "      <td>0.0</td>\n",
       "      <td>284.0</td>\n",
       "      <td>518.0</td>\n",
       "      <td>752.0</td>\n",
       "      <td>1673.0</td>\n",
       "      <td>100873.633397</td>\n",
       "    </tr>\n",
       "    <tr>\n",
       "      <th>income</th>\n",
       "      <td>985.0</td>\n",
       "      <td>2070.152284</td>\n",
       "      <td>376.187114</td>\n",
       "      <td>1950.0</td>\n",
       "      <td>1950.0</td>\n",
       "      <td>1950.0</td>\n",
       "      <td>1950.0</td>\n",
       "      <td>4800.0</td>\n",
       "      <td>141516.745079</td>\n",
       "    </tr>\n",
       "  </tbody>\n",
       "</table>\n",
       "</div>"
      ],
      "text/plain": [
       "          count         mean         std     min     25%     50%     75%  \\\n",
       "gb_used   985.0    19.494416    9.853511     0.0    12.0    19.0    27.0   \n",
       "msg_sent  985.0    49.363452   47.804457     0.0     6.0    38.0    79.0   \n",
       "duration  985.0   526.623350  317.606098     0.0   284.0   518.0   752.0   \n",
       "income    985.0  2070.152284  376.187114  1950.0  1950.0  1950.0  1950.0   \n",
       "\n",
       "             max            var  \n",
       "gb_used     49.0      97.091686  \n",
       "msg_sent   224.0    2285.266143  \n",
       "duration  1673.0  100873.633397  \n",
       "income    4800.0  141516.745079  "
      ]
     },
     "execution_count": 28,
     "metadata": {},
     "output_type": "execute_result"
    }
   ],
   "source": [
    "#описание таблицы\n",
    "\n",
    "report_ultra = ultra.describe().T\n",
    "report_ultra['var'] = report_ultra['std'] ** 2\n",
    "report_ultra"
   ]
  },
  {
   "cell_type": "markdown",
   "metadata": {},
   "source": [
    "### Вывод \n",
    "Графики показывают что абоненты SMART в основном расходуют до 500 минут в месяц, которые включенты в аб. плату, пик рядом с отметкой 500 означает, что большому количеству абонентов едва хватает пакета минут, а значительная часть превышает лимит. Абоненты ULTRA расходуют больше минут, но абонентскую плату это не увеличивает. Учитывая разницу в количестве абонентов, можно сказать, что абоненты ULTRA более склонны отправлять смс, при этом значительной части абонентов этих тарифов в основном нужно несколько смс в месяц. По описанию и графику видно, что только около 25% абонентов тарифа SMART укладываются в пакет интернет-трафика, включенного в аб.плату, что в свою очередь влияет на расходы сверх аб.платы. Абонентам ULTRA не приходится переплачивать за трафик. По полученным можно сделать вывод что медианная выручка у SMART меньше, чем у ULTRA, но станд.отклонение больше более чем в два раза. Абоненты этого тарифа в том числе те, кто платит ощутимо больше медианной суммы, а значит привлекая бльше абонентов на тариф SMART, можно увеличить общий доход."
   ]
  },
  {
   "cell_type": "markdown",
   "metadata": {},
   "source": [
    "## Проверка гипотез"
   ]
  },
  {
   "cell_type": "markdown",
   "metadata": {},
   "source": [
    "- Проверим гипотезу, что средняя выручка пользователей тарифов «Ультра» и «Смарт» различаются.\n",
    "\n",
    "Н0-Средняя выручка тарифов равна\n",
    "Н1-Средняя выручка тарифов различается"
   ]
  },
  {
   "cell_type": "code",
   "execution_count": 29,
   "metadata": {},
   "outputs": [
    {
     "name": "stdout",
     "output_type": "stream",
     "text": [
      "p-значение: 1.4229814360764067e-160\n",
      "Отвергаем нулевую гипотезу\n"
     ]
    }
   ],
   "source": [
    "alpha = 0.01  # критический уровень статистической значимости\n",
    "# если p-value окажется меньше него - отвергнем гипотезу\n",
    "\n",
    "results = st.ttest_ind(smart['income'], ultra['income'])\n",
    "\n",
    "print('p-значение:', results.pvalue)\n",
    "\n",
    "if results.pvalue < alpha:\n",
    "    print('Отвергаем нулевую гипотезу')\n",
    "else:\n",
    "    print('Не получилось отвергнуть нулевую гипотезу') "
   ]
  },
  {
   "cell_type": "markdown",
   "metadata": {},
   "source": [
    "Вероятность низка — по наблюдаемым данным можно сделать вывод, что, скорее всего, предположение всё-таки неверно.\n",
    "Чтобы сравнить выручки по Москве и остальным городам, создадим два таблицы с группировкой по населенному пункту"
   ]
  },
  {
   "cell_type": "markdown",
   "metadata": {},
   "source": [
    "- Проверим гипотезу, что средняя выручка пользователей тарифов абонентов Москвы и остальных городов различаются.\n",
    "Н0-Средняя выручка по городу равна\n",
    "Н1-Средняя выручка по городу различается"
   ]
  },
  {
   "cell_type": "code",
   "execution_count": 30,
   "metadata": {},
   "outputs": [],
   "source": [
    "moscow = data.query('city == \"Москва\"')"
   ]
  },
  {
   "cell_type": "code",
   "execution_count": 31,
   "metadata": {},
   "outputs": [],
   "source": [
    "around_moscow =  data.query('city != \"Москва\"')"
   ]
  },
  {
   "cell_type": "code",
   "execution_count": 32,
   "metadata": {},
   "outputs": [
    {
     "name": "stdout",
     "output_type": "stream",
     "text": [
      "p-значение: 0.5440152911670224\n",
      "Не получилось отвергнуть нулевую гипотезу\n"
     ]
    }
   ],
   "source": [
    "alpha = 0.01  # критический уровень статистической значимости\n",
    "# если p-value окажется меньше него - отвергнем гипотезу\n",
    "\n",
    "results = st.ttest_ind(moscow['income'], around_moscow['income'])\n",
    "\n",
    "print('p-значение:', results.pvalue)\n",
    "\n",
    "if results.pvalue < alpha:\n",
    "    print('Отвергаем нулевую гипотезу')\n",
    "else:\n",
    "    print('Не получилось отвергнуть нулевую гипотезу') "
   ]
  },
  {
   "cell_type": "markdown",
   "metadata": {},
   "source": [
    "Полученное значение p-value говорит о том, что хотя средняя выручка в Москве и других городах и неодинакова, это явно слишком большая вероятность, чтобы делать вывод о значимом различии между средними выручками. "
   ]
  },
  {
   "cell_type": "markdown",
   "metadata": {},
   "source": [
    "Мы не использовали дополнительный параметр `equal_var = False`, потому что у нас достаточно большие и одинаковые по размеру выборки, к тому же в обеих измерена одна и та же переменная — нет оснований полагать, что разброс будет сильно отличаться."
   ]
  },
  {
   "cell_type": "markdown",
   "metadata": {},
   "source": [
    "### Вывод\n",
    "\n",
    "Проверка гипотез показала, что скорее всего, средняя выручка никак не зависит от города, а выручка по разным тарифам различается."
   ]
  },
  {
   "cell_type": "markdown",
   "metadata": {},
   "source": [
    "# Вывод"
   ]
  },
  {
   "cell_type": "markdown",
   "metadata": {},
   "source": [
    "По результатам проведенного анализа можно сделать вывод, что выгодно привлекать абонентов на тариф SMART независимо от города их проживания. Средняя выручка по городам примерно одинакова. Абоненты тарифа ULTRA расходуют больше минут, интернет-трафика и смс, при этом редко платят больше абонентской платы. Абоненты SMART, наоборот, в среднем расходуют меньше, но при этом часто не укладываются в пакет услуг, включенных в ежемесячную плату. Целесобразно привлекать новых абонентов тарифа SMART, в числе которых с большей вероятностью будут те, кто будет платить больше медианной суммы\n"
   ]
  }
 ],
 "metadata": {
  "ExecuteTimeLog": [
   {
    "duration": 721,
    "start_time": "2021-12-07T07:28:00.796Z"
   },
   {
    "duration": 96,
    "start_time": "2021-12-07T07:28:17.469Z"
   },
   {
    "duration": 7125,
    "start_time": "2021-12-07T07:28:40.229Z"
   },
   {
    "duration": 102,
    "start_time": "2021-12-07T07:29:11.208Z"
   },
   {
    "duration": 275,
    "start_time": "2021-12-07T07:29:14.613Z"
   },
   {
    "duration": 221,
    "start_time": "2021-12-07T07:30:56.842Z"
   },
   {
    "duration": 178,
    "start_time": "2021-12-07T07:31:18.298Z"
   },
   {
    "duration": 120,
    "start_time": "2021-12-07T07:31:36.964Z"
   },
   {
    "duration": 26,
    "start_time": "2021-12-07T07:31:52.933Z"
   },
   {
    "duration": 37,
    "start_time": "2021-12-07T07:32:11.196Z"
   },
   {
    "duration": 10,
    "start_time": "2021-12-07T07:33:48.454Z"
   },
   {
    "duration": 37,
    "start_time": "2021-12-07T07:35:42.027Z"
   },
   {
    "duration": 9,
    "start_time": "2021-12-07T07:35:42.866Z"
   },
   {
    "duration": 224,
    "start_time": "2021-12-07T07:35:50.954Z"
   },
   {
    "duration": 181,
    "start_time": "2021-12-07T07:35:51.181Z"
   },
   {
    "duration": 133,
    "start_time": "2021-12-07T07:35:51.368Z"
   },
   {
    "duration": 24,
    "start_time": "2021-12-07T07:35:51.504Z"
   },
   {
    "duration": 36,
    "start_time": "2021-12-07T07:35:51.531Z"
   },
   {
    "duration": 8,
    "start_time": "2021-12-07T07:35:51.569Z"
   },
   {
    "duration": 252,
    "start_time": "2021-12-07T07:36:48.789Z"
   },
   {
    "duration": 205,
    "start_time": "2021-12-07T07:37:23.124Z"
   },
   {
    "duration": 207,
    "start_time": "2021-12-07T14:28:59.370Z"
   },
   {
    "duration": 714,
    "start_time": "2021-12-07T14:29:05.317Z"
   },
   {
    "duration": 142,
    "start_time": "2021-12-07T14:29:06.032Z"
   },
   {
    "duration": 93,
    "start_time": "2021-12-07T14:29:06.176Z"
   },
   {
    "duration": 22,
    "start_time": "2021-12-07T14:29:06.270Z"
   },
   {
    "duration": 52,
    "start_time": "2021-12-07T14:29:06.294Z"
   },
   {
    "duration": 49,
    "start_time": "2021-12-07T14:41:54.381Z"
   },
   {
    "duration": 471,
    "start_time": "2021-12-07T14:46:14.238Z"
   },
   {
    "duration": 471,
    "start_time": "2021-12-07T14:46:38.314Z"
   },
   {
    "duration": 484,
    "start_time": "2021-12-07T14:46:52.124Z"
   },
   {
    "duration": 452,
    "start_time": "2021-12-07T14:47:05.276Z"
   },
   {
    "duration": 909,
    "start_time": "2021-12-07T14:53:27.857Z"
   },
   {
    "duration": 929,
    "start_time": "2021-12-07T14:53:37.653Z"
   },
   {
    "duration": 69,
    "start_time": "2021-12-07T14:54:11.055Z"
   },
   {
    "duration": 24,
    "start_time": "2021-12-07T14:56:10.928Z"
   },
   {
    "duration": 178,
    "start_time": "2021-12-07T15:06:33.690Z"
   },
   {
    "duration": 66,
    "start_time": "2021-12-07T15:13:06.694Z"
   },
   {
    "duration": 51,
    "start_time": "2021-12-07T15:13:14.910Z"
   },
   {
    "duration": 223,
    "start_time": "2021-12-07T15:13:56.795Z"
   },
   {
    "duration": 77,
    "start_time": "2021-12-07T15:14:04.289Z"
   },
   {
    "duration": 100,
    "start_time": "2021-12-07T15:14:12.527Z"
   },
   {
    "duration": 52,
    "start_time": "2021-12-07T15:14:35.487Z"
   },
   {
    "duration": 17,
    "start_time": "2021-12-07T15:14:47.243Z"
   },
   {
    "duration": 4,
    "start_time": "2021-12-07T15:15:04.815Z"
   },
   {
    "duration": 78,
    "start_time": "2021-12-07T15:15:53.118Z"
   },
   {
    "duration": 58,
    "start_time": "2021-12-07T15:16:41.883Z"
   },
   {
    "duration": 4,
    "start_time": "2021-12-07T15:16:51.745Z"
   },
   {
    "duration": 5072,
    "start_time": "2021-12-07T15:17:47.719Z"
   },
   {
    "duration": 166,
    "start_time": "2021-12-07T15:18:11.122Z"
   },
   {
    "duration": 105,
    "start_time": "2021-12-07T15:18:11.290Z"
   },
   {
    "duration": 150,
    "start_time": "2021-12-07T15:18:11.398Z"
   },
   {
    "duration": 50,
    "start_time": "2021-12-07T15:18:11.550Z"
   },
   {
    "duration": 22,
    "start_time": "2021-12-07T15:18:11.601Z"
   },
   {
    "duration": 55,
    "start_time": "2021-12-07T15:18:11.624Z"
   },
   {
    "duration": 3,
    "start_time": "2021-12-07T15:18:11.681Z"
   },
   {
    "duration": 4589,
    "start_time": "2021-12-07T15:18:11.686Z"
   },
   {
    "duration": 17,
    "start_time": "2021-12-07T15:18:41.050Z"
   },
   {
    "duration": 17,
    "start_time": "2021-12-07T15:18:54.828Z"
   },
   {
    "duration": 20,
    "start_time": "2021-12-07T15:19:55.027Z"
   },
   {
    "duration": 19,
    "start_time": "2021-12-07T15:21:59.183Z"
   },
   {
    "duration": 13,
    "start_time": "2021-12-07T15:22:00.852Z"
   },
   {
    "duration": 45,
    "start_time": "2021-12-07T15:22:56.687Z"
   },
   {
    "duration": 48,
    "start_time": "2021-12-07T15:23:20.822Z"
   },
   {
    "duration": 78,
    "start_time": "2021-12-07T15:26:23.011Z"
   },
   {
    "duration": 94,
    "start_time": "2021-12-07T15:27:26.924Z"
   },
   {
    "duration": 6,
    "start_time": "2021-12-07T15:32:04.436Z"
   },
   {
    "duration": 319,
    "start_time": "2021-12-08T06:16:58.278Z"
   },
   {
    "duration": 792,
    "start_time": "2021-12-08T06:17:02.548Z"
   },
   {
    "duration": 105,
    "start_time": "2021-12-08T06:17:03.342Z"
   },
   {
    "duration": 151,
    "start_time": "2021-12-08T06:17:03.449Z"
   },
   {
    "duration": 38,
    "start_time": "2021-12-08T06:17:03.601Z"
   },
   {
    "duration": 6,
    "start_time": "2021-12-08T06:17:03.640Z"
   },
   {
    "duration": 24,
    "start_time": "2021-12-08T06:17:03.648Z"
   },
   {
    "duration": 130,
    "start_time": "2021-12-08T06:17:03.673Z"
   },
   {
    "duration": 6,
    "start_time": "2021-12-08T06:17:03.805Z"
   },
   {
    "duration": 127,
    "start_time": "2021-12-08T06:21:34.337Z"
   },
   {
    "duration": 5,
    "start_time": "2021-12-08T06:21:44.465Z"
   },
   {
    "duration": 5,
    "start_time": "2021-12-08T06:22:10.435Z"
   },
   {
    "duration": 280,
    "start_time": "2021-12-08T06:23:53.913Z"
   },
   {
    "duration": 858,
    "start_time": "2021-12-08T06:24:02.423Z"
   },
   {
    "duration": 8,
    "start_time": "2021-12-08T06:24:15.157Z"
   },
   {
    "duration": 327,
    "start_time": "2021-12-08T06:24:22.047Z"
   },
   {
    "duration": 457,
    "start_time": "2021-12-08T06:25:16.599Z"
   },
   {
    "duration": 374,
    "start_time": "2021-12-08T06:25:20.239Z"
   },
   {
    "duration": 413,
    "start_time": "2021-12-08T06:26:34.075Z"
   },
   {
    "duration": 2254,
    "start_time": "2021-12-08T06:27:05.530Z"
   },
   {
    "duration": 9366,
    "start_time": "2021-12-08T06:27:12.953Z"
   },
   {
    "duration": 176,
    "start_time": "2021-12-08T06:27:29.771Z"
   },
   {
    "duration": 107,
    "start_time": "2021-12-08T06:27:29.949Z"
   },
   {
    "duration": 168,
    "start_time": "2021-12-08T06:27:30.058Z"
   },
   {
    "duration": 40,
    "start_time": "2021-12-08T06:27:30.228Z"
   },
   {
    "duration": 36,
    "start_time": "2021-12-08T06:27:30.271Z"
   },
   {
    "duration": 153,
    "start_time": "2021-12-08T06:27:30.309Z"
   },
   {
    "duration": 443,
    "start_time": "2021-12-08T06:27:30.464Z"
   },
   {
    "duration": 2284,
    "start_time": "2021-12-08T06:27:28.625Z"
   },
   {
    "duration": 2261,
    "start_time": "2021-12-08T06:27:28.649Z"
   },
   {
    "duration": 468,
    "start_time": "2021-12-08T06:28:01.587Z"
   },
   {
    "duration": 25,
    "start_time": "2021-12-08T06:28:27.893Z"
   },
   {
    "duration": 17,
    "start_time": "2021-12-08T06:28:43.461Z"
   },
   {
    "duration": 4,
    "start_time": "2021-12-08T06:33:50.949Z"
   },
   {
    "duration": 4,
    "start_time": "2021-12-08T06:34:13.077Z"
   },
   {
    "duration": 4,
    "start_time": "2021-12-08T06:36:30.385Z"
   },
   {
    "duration": 4,
    "start_time": "2021-12-08T06:37:40.851Z"
   },
   {
    "duration": 5,
    "start_time": "2021-12-08T06:59:57.118Z"
   },
   {
    "duration": 10,
    "start_time": "2021-12-08T07:00:10.421Z"
   },
   {
    "duration": 8,
    "start_time": "2021-12-08T07:00:23.297Z"
   },
   {
    "duration": 9,
    "start_time": "2021-12-08T07:01:24.992Z"
   },
   {
    "duration": 18,
    "start_time": "2021-12-08T07:01:48.089Z"
   },
   {
    "duration": 295,
    "start_time": "2021-12-08T07:04:16.829Z"
   },
   {
    "duration": 6,
    "start_time": "2021-12-08T07:05:24.119Z"
   },
   {
    "duration": 13,
    "start_time": "2021-12-08T07:05:31.589Z"
   },
   {
    "duration": 16,
    "start_time": "2021-12-08T07:05:50.215Z"
   },
   {
    "duration": 288,
    "start_time": "2021-12-08T07:05:51.445Z"
   },
   {
    "duration": 302,
    "start_time": "2021-12-08T07:06:08.049Z"
   },
   {
    "duration": 180,
    "start_time": "2021-12-08T07:06:17.585Z"
   },
   {
    "duration": 107,
    "start_time": "2021-12-08T07:06:17.767Z"
   },
   {
    "duration": 153,
    "start_time": "2021-12-08T07:06:17.876Z"
   },
   {
    "duration": 40,
    "start_time": "2021-12-08T07:06:18.031Z"
   },
   {
    "duration": 25,
    "start_time": "2021-12-08T07:06:18.072Z"
   },
   {
    "duration": 122,
    "start_time": "2021-12-08T07:06:18.099Z"
   },
   {
    "duration": 24,
    "start_time": "2021-12-08T07:06:18.222Z"
   },
   {
    "duration": 7636,
    "start_time": "2021-12-08T07:06:18.247Z"
   },
   {
    "duration": 2294,
    "start_time": "2021-12-08T07:06:23.591Z"
   },
   {
    "duration": 2291,
    "start_time": "2021-12-08T07:06:23.595Z"
   },
   {
    "duration": 2291,
    "start_time": "2021-12-08T07:06:23.596Z"
   },
   {
    "duration": 2291,
    "start_time": "2021-12-08T07:06:23.597Z"
   },
   {
    "duration": 8,
    "start_time": "2021-12-08T07:06:32.343Z"
   },
   {
    "duration": 38,
    "start_time": "2021-12-08T07:06:32.353Z"
   },
   {
    "duration": 30,
    "start_time": "2021-12-08T07:06:32.394Z"
   },
   {
    "duration": 269,
    "start_time": "2021-12-08T07:06:32.426Z"
   },
   {
    "duration": 313,
    "start_time": "2021-12-08T07:06:58.737Z"
   },
   {
    "duration": 2308,
    "start_time": "2021-12-08T07:06:56.744Z"
   },
   {
    "duration": 2307,
    "start_time": "2021-12-08T07:06:56.747Z"
   },
   {
    "duration": 2306,
    "start_time": "2021-12-08T07:06:56.749Z"
   },
   {
    "duration": 339,
    "start_time": "2021-12-08T07:07:43.433Z"
   },
   {
    "duration": 4,
    "start_time": "2021-12-08T07:08:01.321Z"
   },
   {
    "duration": 8,
    "start_time": "2021-12-08T07:08:10.433Z"
   },
   {
    "duration": 190,
    "start_time": "2021-12-08T07:08:34.011Z"
   },
   {
    "duration": 108,
    "start_time": "2021-12-08T07:08:34.204Z"
   },
   {
    "duration": 156,
    "start_time": "2021-12-08T07:08:34.314Z"
   },
   {
    "duration": 38,
    "start_time": "2021-12-08T07:08:34.473Z"
   },
   {
    "duration": 38,
    "start_time": "2021-12-08T07:08:34.512Z"
   },
   {
    "duration": 137,
    "start_time": "2021-12-08T07:08:34.552Z"
   },
   {
    "duration": 14,
    "start_time": "2021-12-08T07:08:34.691Z"
   },
   {
    "duration": 29,
    "start_time": "2021-12-08T07:08:34.708Z"
   },
   {
    "duration": 31,
    "start_time": "2021-12-08T07:08:34.739Z"
   },
   {
    "duration": 48,
    "start_time": "2021-12-08T07:08:34.772Z"
   },
   {
    "duration": 311,
    "start_time": "2021-12-08T07:08:34.822Z"
   },
   {
    "duration": 332,
    "start_time": "2021-12-08T07:09:22.045Z"
   },
   {
    "duration": 168,
    "start_time": "2021-12-08T07:09:31.829Z"
   },
   {
    "duration": 105,
    "start_time": "2021-12-08T07:09:32.000Z"
   },
   {
    "duration": 143,
    "start_time": "2021-12-08T07:09:32.107Z"
   },
   {
    "duration": 40,
    "start_time": "2021-12-08T07:09:32.252Z"
   },
   {
    "duration": 51,
    "start_time": "2021-12-08T07:09:32.294Z"
   },
   {
    "duration": 128,
    "start_time": "2021-12-08T07:09:32.347Z"
   },
   {
    "duration": 11,
    "start_time": "2021-12-08T07:09:32.477Z"
   },
   {
    "duration": 2,
    "start_time": "2021-12-08T07:09:32.490Z"
   },
   {
    "duration": 17,
    "start_time": "2021-12-08T07:09:32.494Z"
   },
   {
    "duration": 10,
    "start_time": "2021-12-08T07:15:22.453Z"
   },
   {
    "duration": 297,
    "start_time": "2021-12-08T07:15:55.455Z"
   },
   {
    "duration": 10,
    "start_time": "2021-12-08T07:16:07.941Z"
   },
   {
    "duration": 9,
    "start_time": "2021-12-08T07:16:37.399Z"
   },
   {
    "duration": 21,
    "start_time": "2021-12-08T07:17:41.129Z"
   },
   {
    "duration": 91,
    "start_time": "2021-12-08T07:18:29.331Z"
   },
   {
    "duration": 25,
    "start_time": "2021-12-08T07:18:33.387Z"
   },
   {
    "duration": 740,
    "start_time": "2021-12-08T07:21:42.008Z"
   },
   {
    "duration": 17,
    "start_time": "2021-12-08T07:21:53.639Z"
   },
   {
    "duration": 29,
    "start_time": "2021-12-08T07:23:22.411Z"
   },
   {
    "duration": 28,
    "start_time": "2021-12-08T07:24:56.437Z"
   },
   {
    "duration": 32,
    "start_time": "2021-12-08T07:25:13.029Z"
   },
   {
    "duration": 15,
    "start_time": "2021-12-08T07:29:09.915Z"
   },
   {
    "duration": 74,
    "start_time": "2021-12-08T07:38:15.755Z"
   },
   {
    "duration": 180,
    "start_time": "2021-12-08T07:38:25.356Z"
   },
   {
    "duration": 106,
    "start_time": "2021-12-08T07:38:25.538Z"
   },
   {
    "duration": 153,
    "start_time": "2021-12-08T07:38:25.646Z"
   },
   {
    "duration": 36,
    "start_time": "2021-12-08T07:38:25.801Z"
   },
   {
    "duration": 22,
    "start_time": "2021-12-08T07:38:25.839Z"
   },
   {
    "duration": 138,
    "start_time": "2021-12-08T07:38:25.863Z"
   },
   {
    "duration": 42,
    "start_time": "2021-12-08T07:38:52.028Z"
   },
   {
    "duration": 18,
    "start_time": "2021-12-08T07:39:06.003Z"
   },
   {
    "duration": 45,
    "start_time": "2021-12-08T07:51:10.262Z"
   },
   {
    "duration": 14,
    "start_time": "2021-12-08T07:51:19.013Z"
   },
   {
    "duration": 10,
    "start_time": "2021-12-08T07:52:05.415Z"
   },
   {
    "duration": 16,
    "start_time": "2021-12-08T07:52:29.008Z"
   },
   {
    "duration": 5,
    "start_time": "2021-12-08T07:53:52.321Z"
   },
   {
    "duration": 6,
    "start_time": "2021-12-08T07:54:02.633Z"
   },
   {
    "duration": 16,
    "start_time": "2021-12-08T08:57:59.317Z"
   },
   {
    "duration": 282,
    "start_time": "2021-12-08T09:00:07.868Z"
   },
   {
    "duration": 747,
    "start_time": "2021-12-08T09:00:35.369Z"
   },
   {
    "duration": 171,
    "start_time": "2021-12-08T09:00:40.924Z"
   },
   {
    "duration": 105,
    "start_time": "2021-12-08T09:00:41.097Z"
   },
   {
    "duration": 151,
    "start_time": "2021-12-08T09:00:41.205Z"
   },
   {
    "duration": 39,
    "start_time": "2021-12-08T09:00:41.359Z"
   },
   {
    "duration": 23,
    "start_time": "2021-12-08T09:00:41.400Z"
   },
   {
    "duration": 123,
    "start_time": "2021-12-08T09:00:41.425Z"
   },
   {
    "duration": 9,
    "start_time": "2021-12-08T09:00:41.549Z"
   },
   {
    "duration": 2,
    "start_time": "2021-12-08T09:00:41.559Z"
   },
   {
    "duration": 44,
    "start_time": "2021-12-08T09:00:41.563Z"
   },
   {
    "duration": 8,
    "start_time": "2021-12-08T09:00:41.609Z"
   },
   {
    "duration": 39,
    "start_time": "2021-12-08T09:00:41.619Z"
   },
   {
    "duration": 277,
    "start_time": "2021-12-08T09:00:41.659Z"
   },
   {
    "duration": 2466,
    "start_time": "2021-12-08T09:00:39.472Z"
   },
   {
    "duration": 6,
    "start_time": "2021-12-08T09:01:42.179Z"
   },
   {
    "duration": 5,
    "start_time": "2021-12-08T09:02:50.197Z"
   },
   {
    "duration": 6,
    "start_time": "2021-12-08T09:02:52.813Z"
   },
   {
    "duration": 7,
    "start_time": "2021-12-08T09:02:58.645Z"
   },
   {
    "duration": 271,
    "start_time": "2021-12-08T09:03:00.974Z"
   },
   {
    "duration": 325,
    "start_time": "2021-12-08T09:05:15.137Z"
   },
   {
    "duration": 182,
    "start_time": "2021-12-08T09:05:21.298Z"
   },
   {
    "duration": 111,
    "start_time": "2021-12-08T09:05:21.482Z"
   },
   {
    "duration": 157,
    "start_time": "2021-12-08T09:05:21.594Z"
   },
   {
    "duration": 38,
    "start_time": "2021-12-08T09:05:21.752Z"
   },
   {
    "duration": 23,
    "start_time": "2021-12-08T09:05:21.792Z"
   },
   {
    "duration": 129,
    "start_time": "2021-12-08T09:05:21.817Z"
   },
   {
    "duration": 11,
    "start_time": "2021-12-08T09:05:21.948Z"
   },
   {
    "duration": 3,
    "start_time": "2021-12-08T09:05:21.962Z"
   },
   {
    "duration": 79,
    "start_time": "2021-12-08T09:05:21.966Z"
   },
   {
    "duration": 11,
    "start_time": "2021-12-08T09:05:22.047Z"
   },
   {
    "duration": 22,
    "start_time": "2021-12-08T09:05:22.059Z"
   },
   {
    "duration": 4,
    "start_time": "2021-12-08T09:05:22.083Z"
   },
   {
    "duration": 8,
    "start_time": "2021-12-08T09:05:22.089Z"
   },
   {
    "duration": 289,
    "start_time": "2021-12-08T09:05:22.099Z"
   },
   {
    "duration": 2511,
    "start_time": "2021-12-08T09:05:19.879Z"
   },
   {
    "duration": 6,
    "start_time": "2021-12-08T09:06:12.289Z"
   },
   {
    "duration": 7,
    "start_time": "2021-12-08T09:06:12.962Z"
   },
   {
    "duration": 21,
    "start_time": "2021-12-08T09:06:14.171Z"
   },
   {
    "duration": 75,
    "start_time": "2021-12-08T09:25:36.001Z"
   },
   {
    "duration": 164,
    "start_time": "2021-12-08T09:25:48.618Z"
   },
   {
    "duration": 104,
    "start_time": "2021-12-08T09:25:48.784Z"
   },
   {
    "duration": 141,
    "start_time": "2021-12-08T09:25:48.891Z"
   },
   {
    "duration": 36,
    "start_time": "2021-12-08T09:25:49.034Z"
   },
   {
    "duration": 20,
    "start_time": "2021-12-08T09:25:49.072Z"
   },
   {
    "duration": 116,
    "start_time": "2021-12-08T09:25:49.094Z"
   },
   {
    "duration": 8,
    "start_time": "2021-12-08T09:25:49.212Z"
   },
   {
    "duration": 12,
    "start_time": "2021-12-08T09:25:49.222Z"
   },
   {
    "duration": 84,
    "start_time": "2021-12-08T09:25:49.235Z"
   },
   {
    "duration": 10,
    "start_time": "2021-12-08T09:25:49.321Z"
   },
   {
    "duration": 38,
    "start_time": "2021-12-08T09:25:49.332Z"
   },
   {
    "duration": 14,
    "start_time": "2021-12-08T09:25:49.372Z"
   },
   {
    "duration": 28,
    "start_time": "2021-12-08T09:25:49.388Z"
   },
   {
    "duration": 28,
    "start_time": "2021-12-08T09:25:49.419Z"
   },
   {
    "duration": 301,
    "start_time": "2021-12-08T09:25:49.449Z"
   },
   {
    "duration": 1375,
    "start_time": "2021-12-08T09:26:32.809Z"
   },
   {
    "duration": 347,
    "start_time": "2021-12-08T09:26:51.449Z"
   },
   {
    "duration": 781,
    "start_time": "2021-12-08T09:26:56.563Z"
   },
   {
    "duration": 104,
    "start_time": "2021-12-08T09:26:57.346Z"
   },
   {
    "duration": 151,
    "start_time": "2021-12-08T09:26:57.452Z"
   },
   {
    "duration": 37,
    "start_time": "2021-12-08T09:26:57.605Z"
   },
   {
    "duration": 30,
    "start_time": "2021-12-08T09:26:57.644Z"
   },
   {
    "duration": 130,
    "start_time": "2021-12-08T09:26:57.676Z"
   },
   {
    "duration": 13,
    "start_time": "2021-12-08T09:26:57.807Z"
   },
   {
    "duration": 13,
    "start_time": "2021-12-08T09:26:57.823Z"
   },
   {
    "duration": 94,
    "start_time": "2021-12-08T09:26:57.838Z"
   },
   {
    "duration": 1362,
    "start_time": "2021-12-08T09:26:57.934Z"
   },
   {
    "duration": 509,
    "start_time": "2021-12-08T09:27:32.353Z"
   },
   {
    "duration": 781,
    "start_time": "2021-12-08T09:27:49.963Z"
   },
   {
    "duration": 101,
    "start_time": "2021-12-08T09:27:50.747Z"
   },
   {
    "duration": 148,
    "start_time": "2021-12-08T09:27:50.850Z"
   },
   {
    "duration": 38,
    "start_time": "2021-12-08T09:27:51.000Z"
   },
   {
    "duration": 21,
    "start_time": "2021-12-08T09:27:51.040Z"
   },
   {
    "duration": 137,
    "start_time": "2021-12-08T09:27:51.063Z"
   },
   {
    "duration": 14,
    "start_time": "2021-12-08T09:27:51.201Z"
   },
   {
    "duration": 6,
    "start_time": "2021-12-08T09:27:51.216Z"
   },
   {
    "duration": 99,
    "start_time": "2021-12-08T09:27:51.224Z"
   },
   {
    "duration": 1422,
    "start_time": "2021-12-08T09:27:51.325Z"
   },
   {
    "duration": 373,
    "start_time": "2021-12-08T09:28:26.488Z"
   },
   {
    "duration": 265,
    "start_time": "2021-12-08T09:29:39.306Z"
   },
   {
    "duration": 817,
    "start_time": "2021-12-08T09:29:53.185Z"
   },
   {
    "duration": 100,
    "start_time": "2021-12-08T09:29:54.004Z"
   },
   {
    "duration": 151,
    "start_time": "2021-12-08T09:29:54.106Z"
   },
   {
    "duration": 36,
    "start_time": "2021-12-08T09:29:54.259Z"
   },
   {
    "duration": 27,
    "start_time": "2021-12-08T09:29:54.297Z"
   },
   {
    "duration": 134,
    "start_time": "2021-12-08T09:29:54.325Z"
   },
   {
    "duration": 15,
    "start_time": "2021-12-08T09:29:54.461Z"
   },
   {
    "duration": 3,
    "start_time": "2021-12-08T09:29:54.478Z"
   },
   {
    "duration": 97,
    "start_time": "2021-12-08T09:29:54.484Z"
   },
   {
    "duration": 21,
    "start_time": "2021-12-08T09:29:54.583Z"
   },
   {
    "duration": 59,
    "start_time": "2021-12-08T09:29:54.606Z"
   },
   {
    "duration": 7,
    "start_time": "2021-12-08T09:29:54.666Z"
   },
   {
    "duration": 17,
    "start_time": "2021-12-08T09:29:54.675Z"
   },
   {
    "duration": 23,
    "start_time": "2021-12-08T09:29:54.694Z"
   },
   {
    "duration": 316,
    "start_time": "2021-12-08T09:29:54.718Z"
   },
   {
    "duration": 327,
    "start_time": "2021-12-08T09:30:23.891Z"
   },
   {
    "duration": 362,
    "start_time": "2021-12-08T09:30:57.442Z"
   },
   {
    "duration": 259,
    "start_time": "2021-12-08T09:31:07.747Z"
   },
   {
    "duration": 166,
    "start_time": "2021-12-08T09:31:16.491Z"
   },
   {
    "duration": 98,
    "start_time": "2021-12-08T09:31:16.659Z"
   },
   {
    "duration": 141,
    "start_time": "2021-12-08T09:31:16.760Z"
   },
   {
    "duration": 40,
    "start_time": "2021-12-08T09:31:16.903Z"
   },
   {
    "duration": 22,
    "start_time": "2021-12-08T09:31:16.945Z"
   },
   {
    "duration": 130,
    "start_time": "2021-12-08T09:31:16.968Z"
   },
   {
    "duration": 7,
    "start_time": "2021-12-08T09:31:17.100Z"
   },
   {
    "duration": 2,
    "start_time": "2021-12-08T09:31:17.110Z"
   },
   {
    "duration": 79,
    "start_time": "2021-12-08T09:31:17.113Z"
   },
   {
    "duration": 18,
    "start_time": "2021-12-08T09:31:17.194Z"
   },
   {
    "duration": 48,
    "start_time": "2021-12-08T09:31:17.214Z"
   },
   {
    "duration": 6,
    "start_time": "2021-12-08T09:31:17.263Z"
   },
   {
    "duration": 9,
    "start_time": "2021-12-08T09:31:17.270Z"
   },
   {
    "duration": 21,
    "start_time": "2021-12-08T09:31:17.281Z"
   },
   {
    "duration": 283,
    "start_time": "2021-12-08T09:31:17.304Z"
   },
   {
    "duration": 351,
    "start_time": "2021-12-08T09:31:51.413Z"
   },
   {
    "duration": 308,
    "start_time": "2021-12-08T09:32:03.802Z"
   },
   {
    "duration": 162,
    "start_time": "2021-12-08T09:32:12.580Z"
   },
   {
    "duration": 101,
    "start_time": "2021-12-08T09:32:12.744Z"
   },
   {
    "duration": 140,
    "start_time": "2021-12-08T09:32:12.848Z"
   },
   {
    "duration": 40,
    "start_time": "2021-12-08T09:32:12.990Z"
   },
   {
    "duration": 21,
    "start_time": "2021-12-08T09:32:13.032Z"
   },
   {
    "duration": 137,
    "start_time": "2021-12-08T09:32:13.055Z"
   },
   {
    "duration": 10,
    "start_time": "2021-12-08T09:32:13.194Z"
   },
   {
    "duration": 2,
    "start_time": "2021-12-08T09:32:13.207Z"
   },
   {
    "duration": 82,
    "start_time": "2021-12-08T09:32:13.212Z"
   },
   {
    "duration": 21,
    "start_time": "2021-12-08T09:32:13.296Z"
   },
   {
    "duration": 59,
    "start_time": "2021-12-08T09:32:13.319Z"
   },
   {
    "duration": 7,
    "start_time": "2021-12-08T09:32:13.379Z"
   },
   {
    "duration": 8,
    "start_time": "2021-12-08T09:32:13.388Z"
   },
   {
    "duration": 24,
    "start_time": "2021-12-08T09:32:13.398Z"
   },
   {
    "duration": 395,
    "start_time": "2021-12-08T09:32:13.423Z"
   },
   {
    "duration": 35,
    "start_time": "2021-12-08T09:32:58.508Z"
   },
   {
    "duration": 81,
    "start_time": "2021-12-08T09:34:00.766Z"
   },
   {
    "duration": 76,
    "start_time": "2021-12-08T09:34:10.497Z"
   },
   {
    "duration": 73,
    "start_time": "2021-12-08T09:34:18.370Z"
   },
   {
    "duration": 36,
    "start_time": "2021-12-08T09:36:05.058Z"
   },
   {
    "duration": 77,
    "start_time": "2021-12-08T09:36:54.528Z"
   },
   {
    "duration": 21,
    "start_time": "2021-12-08T09:37:09.268Z"
   },
   {
    "duration": 22,
    "start_time": "2021-12-08T09:37:24.157Z"
   },
   {
    "duration": 18,
    "start_time": "2021-12-08T09:39:03.143Z"
   },
   {
    "duration": 28,
    "start_time": "2021-12-08T09:48:22.573Z"
   },
   {
    "duration": 3,
    "start_time": "2021-12-08T09:50:12.826Z"
   },
   {
    "duration": 1049,
    "start_time": "2021-12-08T09:52:41.020Z"
   },
   {
    "duration": 20,
    "start_time": "2021-12-08T09:59:30.919Z"
   },
   {
    "duration": 26,
    "start_time": "2021-12-08T09:59:57.846Z"
   },
   {
    "duration": 28,
    "start_time": "2021-12-08T10:00:03.745Z"
   },
   {
    "duration": 26,
    "start_time": "2021-12-08T10:00:26.281Z"
   },
   {
    "duration": 14,
    "start_time": "2021-12-08T10:00:52.552Z"
   },
   {
    "duration": 13,
    "start_time": "2021-12-08T10:01:58.515Z"
   },
   {
    "duration": 17,
    "start_time": "2021-12-08T10:03:04.549Z"
   },
   {
    "duration": 13,
    "start_time": "2021-12-08T10:03:25.293Z"
   },
   {
    "duration": 279,
    "start_time": "2021-12-08T10:43:28.859Z"
   },
   {
    "duration": 23,
    "start_time": "2021-12-08T10:43:36.779Z"
   },
   {
    "duration": 325,
    "start_time": "2021-12-08T10:45:29.439Z"
   },
   {
    "duration": 181,
    "start_time": "2021-12-08T10:45:35.327Z"
   },
   {
    "duration": 105,
    "start_time": "2021-12-08T10:45:35.510Z"
   },
   {
    "duration": 159,
    "start_time": "2021-12-08T10:45:35.618Z"
   },
   {
    "duration": 48,
    "start_time": "2021-12-08T10:45:35.779Z"
   },
   {
    "duration": 22,
    "start_time": "2021-12-08T10:45:35.828Z"
   },
   {
    "duration": 137,
    "start_time": "2021-12-08T10:45:35.852Z"
   },
   {
    "duration": 9,
    "start_time": "2021-12-08T10:45:35.991Z"
   },
   {
    "duration": 13,
    "start_time": "2021-12-08T10:45:36.003Z"
   },
   {
    "duration": 85,
    "start_time": "2021-12-08T10:45:36.018Z"
   },
   {
    "duration": 20,
    "start_time": "2021-12-08T10:45:36.105Z"
   },
   {
    "duration": 28,
    "start_time": "2021-12-08T10:45:36.127Z"
   },
   {
    "duration": 24,
    "start_time": "2021-12-08T10:45:36.157Z"
   },
   {
    "duration": 11,
    "start_time": "2021-12-08T10:45:36.183Z"
   },
   {
    "duration": 12,
    "start_time": "2021-12-08T10:45:36.196Z"
   },
   {
    "duration": 46,
    "start_time": "2021-12-08T10:45:36.210Z"
   },
   {
    "duration": 13,
    "start_time": "2021-12-08T10:45:36.258Z"
   },
   {
    "duration": 8,
    "start_time": "2021-12-08T10:45:36.273Z"
   },
   {
    "duration": 15,
    "start_time": "2021-12-08T10:45:36.282Z"
   },
   {
    "duration": 20,
    "start_time": "2021-12-08T10:45:36.299Z"
   },
   {
    "duration": 274,
    "start_time": "2021-12-08T10:45:36.321Z"
   },
   {
    "duration": 274,
    "start_time": "2021-12-08T10:54:23.965Z"
   },
   {
    "duration": 277,
    "start_time": "2021-12-08T10:54:27.301Z"
   },
   {
    "duration": 164,
    "start_time": "2021-12-08T10:54:32.341Z"
   },
   {
    "duration": 104,
    "start_time": "2021-12-08T10:54:32.507Z"
   },
   {
    "duration": 144,
    "start_time": "2021-12-08T10:54:32.613Z"
   },
   {
    "duration": 47,
    "start_time": "2021-12-08T10:54:32.759Z"
   },
   {
    "duration": 21,
    "start_time": "2021-12-08T10:54:32.808Z"
   },
   {
    "duration": 123,
    "start_time": "2021-12-08T10:54:32.831Z"
   },
   {
    "duration": 9,
    "start_time": "2021-12-08T10:54:32.956Z"
   },
   {
    "duration": 57,
    "start_time": "2021-12-08T10:54:32.967Z"
   },
   {
    "duration": 12,
    "start_time": "2021-12-08T10:54:33.044Z"
   },
   {
    "duration": 19,
    "start_time": "2021-12-08T10:54:33.058Z"
   },
   {
    "duration": 21,
    "start_time": "2021-12-08T10:54:33.078Z"
   },
   {
    "duration": 11,
    "start_time": "2021-12-08T10:54:33.100Z"
   },
   {
    "duration": 41,
    "start_time": "2021-12-08T10:54:33.113Z"
   },
   {
    "duration": 15,
    "start_time": "2021-12-08T10:54:33.156Z"
   },
   {
    "duration": 17,
    "start_time": "2021-12-08T10:54:33.173Z"
   },
   {
    "duration": 8,
    "start_time": "2021-12-08T10:54:33.192Z"
   },
   {
    "duration": 13,
    "start_time": "2021-12-08T10:54:33.201Z"
   },
   {
    "duration": 2,
    "start_time": "2021-12-08T10:54:33.216Z"
   },
   {
    "duration": 370,
    "start_time": "2021-12-08T10:54:33.220Z"
   },
   {
    "duration": 24,
    "start_time": "2021-12-08T10:55:03.445Z"
   },
   {
    "duration": 24,
    "start_time": "2021-12-08T10:55:09.385Z"
   },
   {
    "duration": 23,
    "start_time": "2021-12-08T10:55:17.055Z"
   },
   {
    "duration": 11,
    "start_time": "2021-12-08T10:56:26.155Z"
   },
   {
    "duration": 23,
    "start_time": "2021-12-08T10:56:30.705Z"
   },
   {
    "duration": 14,
    "start_time": "2021-12-08T10:57:47.505Z"
   },
   {
    "duration": 24,
    "start_time": "2021-12-08T10:57:55.843Z"
   },
   {
    "duration": 27,
    "start_time": "2021-12-08T10:58:02.083Z"
   },
   {
    "duration": 12,
    "start_time": "2021-12-08T10:58:24.299Z"
   },
   {
    "duration": 169,
    "start_time": "2021-12-08T10:58:32.627Z"
   },
   {
    "duration": 97,
    "start_time": "2021-12-08T10:58:32.805Z"
   },
   {
    "duration": 138,
    "start_time": "2021-12-08T10:58:32.904Z"
   },
   {
    "duration": 37,
    "start_time": "2021-12-08T10:58:33.044Z"
   },
   {
    "duration": 26,
    "start_time": "2021-12-08T10:58:33.082Z"
   },
   {
    "duration": 144,
    "start_time": "2021-12-08T10:58:33.110Z"
   },
   {
    "duration": 9,
    "start_time": "2021-12-08T10:58:33.256Z"
   },
   {
    "duration": 88,
    "start_time": "2021-12-08T10:58:33.268Z"
   },
   {
    "duration": 10,
    "start_time": "2021-12-08T10:58:33.358Z"
   },
   {
    "duration": 41,
    "start_time": "2021-12-08T10:58:33.369Z"
   },
   {
    "duration": 30,
    "start_time": "2021-12-08T10:58:33.411Z"
   },
   {
    "duration": 9,
    "start_time": "2021-12-08T10:58:33.443Z"
   },
   {
    "duration": 37,
    "start_time": "2021-12-08T10:58:33.454Z"
   },
   {
    "duration": 18,
    "start_time": "2021-12-08T10:58:33.493Z"
   },
   {
    "duration": 31,
    "start_time": "2021-12-08T10:58:33.513Z"
   },
   {
    "duration": 15,
    "start_time": "2021-12-08T10:58:33.546Z"
   },
   {
    "duration": 28,
    "start_time": "2021-12-08T10:58:33.563Z"
   },
   {
    "duration": 28,
    "start_time": "2021-12-08T10:58:33.593Z"
   },
   {
    "duration": 282,
    "start_time": "2021-12-08T10:58:33.623Z"
   },
   {
    "duration": 25,
    "start_time": "2021-12-08T10:59:04.067Z"
   },
   {
    "duration": 28,
    "start_time": "2021-12-08T10:59:19.340Z"
   },
   {
    "duration": 4,
    "start_time": "2021-12-08T11:00:29.437Z"
   },
   {
    "duration": 27,
    "start_time": "2021-12-08T11:00:30.703Z"
   },
   {
    "duration": 5,
    "start_time": "2021-12-08T11:02:16.369Z"
   },
   {
    "duration": 24,
    "start_time": "2021-12-08T11:02:17.489Z"
   },
   {
    "duration": 3,
    "start_time": "2021-12-08T11:02:36.457Z"
   },
   {
    "duration": 25,
    "start_time": "2021-12-08T11:02:37.265Z"
   },
   {
    "duration": 196,
    "start_time": "2021-12-08T11:03:13.299Z"
   },
   {
    "duration": 160,
    "start_time": "2021-12-08T11:03:13.497Z"
   },
   {
    "duration": 192,
    "start_time": "2021-12-08T11:03:13.659Z"
   },
   {
    "duration": 55,
    "start_time": "2021-12-08T11:03:13.854Z"
   },
   {
    "duration": 30,
    "start_time": "2021-12-08T11:03:13.911Z"
   },
   {
    "duration": 196,
    "start_time": "2021-12-08T11:03:13.943Z"
   },
   {
    "duration": 14,
    "start_time": "2021-12-08T11:03:14.146Z"
   },
   {
    "duration": 100,
    "start_time": "2021-12-08T11:03:14.162Z"
   },
   {
    "duration": 11,
    "start_time": "2021-12-08T11:03:14.266Z"
   },
   {
    "duration": 30,
    "start_time": "2021-12-08T11:03:14.279Z"
   },
   {
    "duration": 36,
    "start_time": "2021-12-08T11:03:14.311Z"
   },
   {
    "duration": 7,
    "start_time": "2021-12-08T11:03:14.350Z"
   },
   {
    "duration": 66,
    "start_time": "2021-12-08T11:03:14.358Z"
   },
   {
    "duration": 13,
    "start_time": "2021-12-08T11:03:14.426Z"
   },
   {
    "duration": 34,
    "start_time": "2021-12-08T11:03:14.440Z"
   },
   {
    "duration": 18,
    "start_time": "2021-12-08T11:03:14.477Z"
   },
   {
    "duration": 13,
    "start_time": "2021-12-08T11:03:14.497Z"
   },
   {
    "duration": 41,
    "start_time": "2021-12-08T11:03:14.512Z"
   },
   {
    "duration": 10,
    "start_time": "2021-12-08T11:03:14.556Z"
   },
   {
    "duration": 296,
    "start_time": "2021-12-08T11:03:14.568Z"
   },
   {
    "duration": 5,
    "start_time": "2021-12-08T11:04:01.331Z"
   },
   {
    "duration": 39,
    "start_time": "2021-12-08T11:04:02.028Z"
   },
   {
    "duration": 19,
    "start_time": "2021-12-08T11:04:14.659Z"
   },
   {
    "duration": 29,
    "start_time": "2021-12-08T11:04:22.621Z"
   },
   {
    "duration": 15,
    "start_time": "2021-12-08T11:04:49.773Z"
   },
   {
    "duration": 16,
    "start_time": "2021-12-08T11:05:50.799Z"
   },
   {
    "duration": 184,
    "start_time": "2021-12-08T11:06:05.839Z"
   },
   {
    "duration": 115,
    "start_time": "2021-12-08T11:06:06.025Z"
   },
   {
    "duration": 167,
    "start_time": "2021-12-08T11:06:06.142Z"
   },
   {
    "duration": 39,
    "start_time": "2021-12-08T11:06:06.311Z"
   },
   {
    "duration": 22,
    "start_time": "2021-12-08T11:06:06.352Z"
   },
   {
    "duration": 138,
    "start_time": "2021-12-08T11:06:06.376Z"
   },
   {
    "duration": 11,
    "start_time": "2021-12-08T11:06:06.516Z"
   },
   {
    "duration": 82,
    "start_time": "2021-12-08T11:06:06.529Z"
   },
   {
    "duration": 10,
    "start_time": "2021-12-08T11:06:06.613Z"
   },
   {
    "duration": 30,
    "start_time": "2021-12-08T11:06:06.625Z"
   },
   {
    "duration": 24,
    "start_time": "2021-12-08T11:06:06.656Z"
   },
   {
    "duration": 5,
    "start_time": "2021-12-08T11:06:06.682Z"
   },
   {
    "duration": 25,
    "start_time": "2021-12-08T11:06:06.689Z"
   },
   {
    "duration": 18,
    "start_time": "2021-12-08T11:06:06.744Z"
   },
   {
    "duration": 16,
    "start_time": "2021-12-08T11:06:06.764Z"
   },
   {
    "duration": 16,
    "start_time": "2021-12-08T11:06:06.782Z"
   },
   {
    "duration": 12,
    "start_time": "2021-12-08T11:06:06.800Z"
   },
   {
    "duration": 31,
    "start_time": "2021-12-08T11:06:06.814Z"
   },
   {
    "duration": 9,
    "start_time": "2021-12-08T11:06:06.847Z"
   },
   {
    "duration": 3,
    "start_time": "2021-12-08T11:06:06.858Z"
   },
   {
    "duration": 775,
    "start_time": "2021-12-08T11:06:06.863Z"
   },
   {
    "duration": 9,
    "start_time": "2021-12-08T11:12:35.793Z"
   },
   {
    "duration": 17,
    "start_time": "2021-12-08T11:12:38.257Z"
   },
   {
    "duration": 8,
    "start_time": "2021-12-08T11:12:57.617Z"
   },
   {
    "duration": 30,
    "start_time": "2021-12-08T11:13:04.761Z"
   },
   {
    "duration": 119,
    "start_time": "2021-12-08T11:16:18.015Z"
   },
   {
    "duration": 106,
    "start_time": "2021-12-08T11:16:30.543Z"
   },
   {
    "duration": 206,
    "start_time": "2021-12-08T11:16:38.106Z"
   },
   {
    "duration": 92,
    "start_time": "2021-12-08T11:16:44.159Z"
   },
   {
    "duration": 131,
    "start_time": "2021-12-08T11:17:00.887Z"
   },
   {
    "duration": 5,
    "start_time": "2021-12-08T11:17:08.353Z"
   },
   {
    "duration": 5,
    "start_time": "2021-12-08T11:17:17.071Z"
   },
   {
    "duration": 4,
    "start_time": "2021-12-08T11:35:39.934Z"
   },
   {
    "duration": 4,
    "start_time": "2021-12-08T11:35:52.157Z"
   },
   {
    "duration": 3,
    "start_time": "2021-12-08T11:44:40.036Z"
   },
   {
    "duration": 11,
    "start_time": "2021-12-08T11:44:40.497Z"
   },
   {
    "duration": 16,
    "start_time": "2021-12-08T11:44:41.027Z"
   },
   {
    "duration": 12,
    "start_time": "2021-12-08T11:44:42.828Z"
   },
   {
    "duration": 13,
    "start_time": "2021-12-08T11:44:43.779Z"
   },
   {
    "duration": 15,
    "start_time": "2021-12-08T11:44:44.188Z"
   },
   {
    "duration": 7,
    "start_time": "2021-12-08T11:44:45.019Z"
   },
   {
    "duration": 11,
    "start_time": "2021-12-08T11:44:45.595Z"
   },
   {
    "duration": 2,
    "start_time": "2021-12-08T11:44:46.406Z"
   },
   {
    "duration": 29,
    "start_time": "2021-12-08T11:44:47.467Z"
   },
   {
    "duration": 179,
    "start_time": "2021-12-08T11:44:58.078Z"
   },
   {
    "duration": 106,
    "start_time": "2021-12-08T11:44:58.259Z"
   },
   {
    "duration": 151,
    "start_time": "2021-12-08T11:44:58.367Z"
   },
   {
    "duration": 39,
    "start_time": "2021-12-08T11:44:58.519Z"
   },
   {
    "duration": 28,
    "start_time": "2021-12-08T11:44:58.559Z"
   },
   {
    "duration": 133,
    "start_time": "2021-12-08T11:44:58.588Z"
   },
   {
    "duration": 8,
    "start_time": "2021-12-08T11:44:58.723Z"
   },
   {
    "duration": 76,
    "start_time": "2021-12-08T11:44:58.733Z"
   },
   {
    "duration": 9,
    "start_time": "2021-12-08T11:44:58.812Z"
   },
   {
    "duration": 32,
    "start_time": "2021-12-08T11:44:58.822Z"
   },
   {
    "duration": 22,
    "start_time": "2021-12-08T11:44:58.856Z"
   },
   {
    "duration": 3,
    "start_time": "2021-12-08T11:44:58.879Z"
   },
   {
    "duration": 33,
    "start_time": "2021-12-08T11:44:58.884Z"
   },
   {
    "duration": 21,
    "start_time": "2021-12-08T11:44:58.919Z"
   },
   {
    "duration": 18,
    "start_time": "2021-12-08T11:44:58.942Z"
   },
   {
    "duration": 14,
    "start_time": "2021-12-08T11:44:58.963Z"
   },
   {
    "duration": 15,
    "start_time": "2021-12-08T11:44:58.979Z"
   },
   {
    "duration": 10,
    "start_time": "2021-12-08T11:44:58.997Z"
   },
   {
    "duration": 39,
    "start_time": "2021-12-08T11:44:59.009Z"
   },
   {
    "duration": 7,
    "start_time": "2021-12-08T11:44:59.051Z"
   },
   {
    "duration": 29,
    "start_time": "2021-12-08T11:44:59.060Z"
   },
   {
    "duration": 7479,
    "start_time": "2021-12-08T11:44:59.091Z"
   },
   {
    "duration": 18,
    "start_time": "2021-12-08T11:45:06.554Z"
   },
   {
    "duration": 93,
    "start_time": "2021-12-08T11:49:53.884Z"
   },
   {
    "duration": 93,
    "start_time": "2021-12-08T11:50:10.116Z"
   },
   {
    "duration": 4393,
    "start_time": "2021-12-08T11:50:29.732Z"
   },
   {
    "duration": 4527,
    "start_time": "2021-12-08T11:50:35.285Z"
   },
   {
    "duration": 8677,
    "start_time": "2021-12-08T11:52:30.984Z"
   },
   {
    "duration": 15,
    "start_time": "2021-12-08T11:54:08.117Z"
   },
   {
    "duration": 9235,
    "start_time": "2021-12-08T11:56:46.368Z"
   },
   {
    "duration": 9506,
    "start_time": "2021-12-08T11:58:25.778Z"
   },
   {
    "duration": 785,
    "start_time": "2021-12-08T13:05:24.860Z"
   },
   {
    "duration": 109,
    "start_time": "2021-12-08T13:05:25.648Z"
   },
   {
    "duration": 157,
    "start_time": "2021-12-08T13:05:25.759Z"
   },
   {
    "duration": 36,
    "start_time": "2021-12-08T13:05:25.919Z"
   },
   {
    "duration": 22,
    "start_time": "2021-12-08T13:05:25.957Z"
   },
   {
    "duration": 147,
    "start_time": "2021-12-08T13:05:25.981Z"
   },
   {
    "duration": 25,
    "start_time": "2021-12-08T13:05:26.129Z"
   },
   {
    "duration": 73,
    "start_time": "2021-12-08T13:05:26.156Z"
   },
   {
    "duration": 10,
    "start_time": "2021-12-08T13:05:26.244Z"
   },
   {
    "duration": 11,
    "start_time": "2021-12-08T13:05:26.255Z"
   },
   {
    "duration": 23,
    "start_time": "2021-12-08T13:05:26.267Z"
   },
   {
    "duration": 8,
    "start_time": "2021-12-08T13:05:26.292Z"
   },
   {
    "duration": 8,
    "start_time": "2021-12-08T13:05:26.302Z"
   },
   {
    "duration": 319,
    "start_time": "2021-12-08T13:05:26.312Z"
   },
   {
    "duration": 1907,
    "start_time": "2021-12-08T13:05:24.726Z"
   },
   {
    "duration": 1905,
    "start_time": "2021-12-08T13:05:24.729Z"
   },
   {
    "duration": 1902,
    "start_time": "2021-12-08T13:05:24.733Z"
   },
   {
    "duration": 1901,
    "start_time": "2021-12-08T13:05:24.735Z"
   },
   {
    "duration": 1890,
    "start_time": "2021-12-08T13:05:24.747Z"
   },
   {
    "duration": 1882,
    "start_time": "2021-12-08T13:05:24.756Z"
   },
   {
    "duration": 1883,
    "start_time": "2021-12-08T13:05:24.757Z"
   },
   {
    "duration": 1882,
    "start_time": "2021-12-08T13:05:24.759Z"
   },
   {
    "duration": 1882,
    "start_time": "2021-12-08T13:05:24.760Z"
   },
   {
    "duration": 16,
    "start_time": "2021-12-08T13:05:41.935Z"
   },
   {
    "duration": 2,
    "start_time": "2021-12-08T13:06:12.333Z"
   },
   {
    "duration": 3,
    "start_time": "2021-12-08T13:06:12.739Z"
   },
   {
    "duration": 2,
    "start_time": "2021-12-08T13:06:13.128Z"
   },
   {
    "duration": 2,
    "start_time": "2021-12-08T13:06:13.440Z"
   },
   {
    "duration": 3,
    "start_time": "2021-12-08T13:06:13.755Z"
   },
   {
    "duration": 2,
    "start_time": "2021-12-08T13:06:14.086Z"
   },
   {
    "duration": 13,
    "start_time": "2021-12-08T13:06:15.190Z"
   },
   {
    "duration": 9144,
    "start_time": "2021-12-08T13:06:18.357Z"
   },
   {
    "duration": 20,
    "start_time": "2021-12-08T13:06:42.128Z"
   },
   {
    "duration": 892,
    "start_time": "2021-12-08T15:00:54.277Z"
   },
   {
    "duration": 469,
    "start_time": "2021-12-08T15:01:23.948Z"
   },
   {
    "duration": 206,
    "start_time": "2021-12-08T15:01:37.198Z"
   },
   {
    "duration": 24,
    "start_time": "2021-12-08T15:01:43.578Z"
   },
   {
    "duration": 5,
    "start_time": "2021-12-08T15:08:25.041Z"
   },
   {
    "duration": 3,
    "start_time": "2021-12-08T15:08:38.518Z"
   },
   {
    "duration": 4,
    "start_time": "2021-12-08T15:08:48.192Z"
   },
   {
    "duration": 339,
    "start_time": "2021-12-08T15:15:08.940Z"
   },
   {
    "duration": 281,
    "start_time": "2021-12-08T15:15:22.454Z"
   },
   {
    "duration": 372,
    "start_time": "2021-12-08T15:16:16.890Z"
   },
   {
    "duration": 707,
    "start_time": "2021-12-08T15:17:13.920Z"
   },
   {
    "duration": 11,
    "start_time": "2021-12-08T15:18:36.544Z"
   },
   {
    "duration": 23,
    "start_time": "2021-12-08T15:18:38.628Z"
   },
   {
    "duration": 19,
    "start_time": "2021-12-08T15:19:44.235Z"
   },
   {
    "duration": 21,
    "start_time": "2021-12-08T15:20:10.378Z"
   },
   {
    "duration": 21,
    "start_time": "2021-12-08T15:20:11.725Z"
   },
   {
    "duration": 192,
    "start_time": "2021-12-08T15:20:22.621Z"
   },
   {
    "duration": 105,
    "start_time": "2021-12-08T15:20:22.815Z"
   },
   {
    "duration": 150,
    "start_time": "2021-12-08T15:20:22.922Z"
   },
   {
    "duration": 40,
    "start_time": "2021-12-08T15:20:23.074Z"
   },
   {
    "duration": 22,
    "start_time": "2021-12-08T15:20:23.116Z"
   },
   {
    "duration": 139,
    "start_time": "2021-12-08T15:20:23.140Z"
   },
   {
    "duration": 10,
    "start_time": "2021-12-08T15:20:23.281Z"
   },
   {
    "duration": 84,
    "start_time": "2021-12-08T15:20:23.293Z"
   },
   {
    "duration": 10,
    "start_time": "2021-12-08T15:20:23.380Z"
   },
   {
    "duration": 27,
    "start_time": "2021-12-08T15:20:23.392Z"
   },
   {
    "duration": 39,
    "start_time": "2021-12-08T15:20:23.421Z"
   },
   {
    "duration": 4,
    "start_time": "2021-12-08T15:20:23.462Z"
   },
   {
    "duration": 19,
    "start_time": "2021-12-08T15:20:23.468Z"
   },
   {
    "duration": 26,
    "start_time": "2021-12-08T15:20:23.489Z"
   },
   {
    "duration": 9,
    "start_time": "2021-12-08T15:20:23.517Z"
   },
   {
    "duration": 6,
    "start_time": "2021-12-08T15:20:23.528Z"
   },
   {
    "duration": 6,
    "start_time": "2021-12-08T15:20:23.535Z"
   },
   {
    "duration": 5,
    "start_time": "2021-12-08T15:20:23.544Z"
   },
   {
    "duration": 8,
    "start_time": "2021-12-08T15:20:23.551Z"
   },
   {
    "duration": 9,
    "start_time": "2021-12-08T15:20:23.561Z"
   },
   {
    "duration": 27,
    "start_time": "2021-12-08T15:20:23.572Z"
   },
   {
    "duration": 39,
    "start_time": "2021-12-08T15:20:23.601Z"
   },
   {
    "duration": 230,
    "start_time": "2021-12-08T15:20:23.643Z"
   },
   {
    "duration": 23,
    "start_time": "2021-12-08T15:20:23.875Z"
   },
   {
    "duration": 8,
    "start_time": "2021-12-08T15:20:23.899Z"
   },
   {
    "duration": 42,
    "start_time": "2021-12-08T15:20:23.908Z"
   },
   {
    "duration": 11,
    "start_time": "2021-12-08T15:21:04.167Z"
   },
   {
    "duration": 21,
    "start_time": "2021-12-08T15:21:05.214Z"
   },
   {
    "duration": 4,
    "start_time": "2021-12-08T15:21:15.019Z"
   },
   {
    "duration": 8,
    "start_time": "2021-12-08T15:21:16.690Z"
   },
   {
    "duration": 8,
    "start_time": "2021-12-08T15:21:24.810Z"
   },
   {
    "duration": 16,
    "start_time": "2021-12-08T15:21:25.775Z"
   },
   {
    "duration": 11,
    "start_time": "2021-12-08T15:22:50.381Z"
   },
   {
    "duration": 16,
    "start_time": "2021-12-08T15:22:52.200Z"
   },
   {
    "duration": 6,
    "start_time": "2021-12-08T15:24:23.232Z"
   },
   {
    "duration": 11,
    "start_time": "2021-12-08T15:24:36.367Z"
   },
   {
    "duration": 11,
    "start_time": "2021-12-08T15:25:23.885Z"
   },
   {
    "duration": 292,
    "start_time": "2021-12-08T15:26:51.602Z"
   },
   {
    "duration": 12,
    "start_time": "2021-12-08T15:27:45.680Z"
   },
   {
    "duration": 12,
    "start_time": "2021-12-08T15:28:15.622Z"
   },
   {
    "duration": 16,
    "start_time": "2021-12-08T15:29:19.428Z"
   },
   {
    "duration": 14,
    "start_time": "2021-12-08T15:30:59.106Z"
   },
   {
    "duration": 12,
    "start_time": "2021-12-08T15:31:11.496Z"
   },
   {
    "duration": 22,
    "start_time": "2021-12-08T15:31:15.324Z"
   },
   {
    "duration": 199,
    "start_time": "2021-12-08T15:31:18.836Z"
   },
   {
    "duration": 22,
    "start_time": "2021-12-08T15:31:19.468Z"
   },
   {
    "duration": 5,
    "start_time": "2021-12-08T15:31:29.861Z"
   },
   {
    "duration": 22,
    "start_time": "2021-12-08T15:31:31.012Z"
   },
   {
    "duration": 25,
    "start_time": "2021-12-08T15:31:35.510Z"
   },
   {
    "duration": 14,
    "start_time": "2021-12-08T15:32:32.781Z"
   },
   {
    "duration": 696,
    "start_time": "2021-12-08T15:32:53.899Z"
   },
   {
    "duration": 97,
    "start_time": "2021-12-08T15:33:05.075Z"
   },
   {
    "duration": 20,
    "start_time": "2021-12-08T15:33:11.284Z"
   },
   {
    "duration": 15,
    "start_time": "2021-12-08T15:33:28.098Z"
   },
   {
    "duration": 14,
    "start_time": "2021-12-08T15:33:34.181Z"
   },
   {
    "duration": 445,
    "start_time": "2021-12-09T07:44:42.011Z"
   },
   {
    "duration": 384,
    "start_time": "2021-12-09T07:44:48.090Z"
   },
   {
    "duration": 1010,
    "start_time": "2021-12-09T07:44:58.263Z"
   },
   {
    "duration": 139,
    "start_time": "2021-12-09T07:44:59.276Z"
   },
   {
    "duration": 199,
    "start_time": "2021-12-09T07:44:59.418Z"
   },
   {
    "duration": 57,
    "start_time": "2021-12-09T07:44:59.620Z"
   },
   {
    "duration": 26,
    "start_time": "2021-12-09T07:44:59.679Z"
   },
   {
    "duration": 206,
    "start_time": "2021-12-09T07:44:59.707Z"
   },
   {
    "duration": 798,
    "start_time": "2021-12-09T07:44:59.916Z"
   },
   {
    "duration": 13,
    "start_time": "2021-12-09T07:45:28.132Z"
   },
   {
    "duration": 11,
    "start_time": "2021-12-09T07:46:23.431Z"
   },
   {
    "duration": 564,
    "start_time": "2021-12-09T08:03:34.961Z"
   },
   {
    "duration": 230,
    "start_time": "2021-12-09T08:03:44.291Z"
   },
   {
    "duration": 154,
    "start_time": "2021-12-09T08:03:44.523Z"
   },
   {
    "duration": 214,
    "start_time": "2021-12-09T08:03:44.681Z"
   },
   {
    "duration": 12,
    "start_time": "2021-12-09T08:03:44.898Z"
   },
   {
    "duration": 59,
    "start_time": "2021-12-09T08:03:44.913Z"
   },
   {
    "duration": 26,
    "start_time": "2021-12-09T08:03:44.974Z"
   },
   {
    "duration": 207,
    "start_time": "2021-12-09T08:03:45.003Z"
   },
   {
    "duration": 16,
    "start_time": "2021-12-09T08:03:45.214Z"
   },
   {
    "duration": 150,
    "start_time": "2021-12-09T08:03:45.233Z"
   },
   {
    "duration": 31,
    "start_time": "2021-12-09T08:03:45.386Z"
   },
   {
    "duration": 66,
    "start_time": "2021-12-09T08:03:45.419Z"
   },
   {
    "duration": 12,
    "start_time": "2021-12-09T08:03:45.488Z"
   },
   {
    "duration": 14,
    "start_time": "2021-12-09T08:03:45.502Z"
   },
   {
    "duration": 52,
    "start_time": "2021-12-09T08:03:45.518Z"
   },
   {
    "duration": 7,
    "start_time": "2021-12-09T08:03:45.572Z"
   },
   {
    "duration": 9,
    "start_time": "2021-12-09T08:03:45.581Z"
   },
   {
    "duration": 11,
    "start_time": "2021-12-09T08:03:45.593Z"
   },
   {
    "duration": 12,
    "start_time": "2021-12-09T08:03:45.606Z"
   },
   {
    "duration": 13,
    "start_time": "2021-12-09T08:03:45.620Z"
   },
   {
    "duration": 25,
    "start_time": "2021-12-09T08:03:45.635Z"
   },
   {
    "duration": 24,
    "start_time": "2021-12-09T08:03:45.663Z"
   },
   {
    "duration": 31,
    "start_time": "2021-12-09T08:03:45.690Z"
   },
   {
    "duration": 391,
    "start_time": "2021-12-09T08:03:45.726Z"
   },
   {
    "duration": 50,
    "start_time": "2021-12-09T08:03:46.120Z"
   },
   {
    "duration": 7,
    "start_time": "2021-12-09T08:03:46.172Z"
   },
   {
    "duration": 22,
    "start_time": "2021-12-09T08:03:46.181Z"
   },
   {
    "duration": 10,
    "start_time": "2021-12-09T08:04:40.778Z"
   },
   {
    "duration": 451,
    "start_time": "2021-12-09T08:06:35.740Z"
   },
   {
    "duration": 442,
    "start_time": "2021-12-09T08:06:46.087Z"
   },
   {
    "duration": 149,
    "start_time": "2021-12-09T08:06:46.533Z"
   },
   {
    "duration": 206,
    "start_time": "2021-12-09T08:06:46.687Z"
   },
   {
    "duration": 15,
    "start_time": "2021-12-09T08:06:46.897Z"
   },
   {
    "duration": 69,
    "start_time": "2021-12-09T08:06:46.915Z"
   },
   {
    "duration": 25,
    "start_time": "2021-12-09T08:06:46.987Z"
   },
   {
    "duration": 211,
    "start_time": "2021-12-09T08:06:47.014Z"
   },
   {
    "duration": 104,
    "start_time": "2021-12-09T08:06:50.534Z"
   },
   {
    "duration": 29,
    "start_time": "2021-12-09T08:06:51.726Z"
   },
   {
    "duration": 25,
    "start_time": "2021-12-09T08:08:54.648Z"
   },
   {
    "duration": 24,
    "start_time": "2021-12-09T08:09:19.288Z"
   },
   {
    "duration": 60,
    "start_time": "2021-12-09T08:09:58.754Z"
   },
   {
    "duration": 241,
    "start_time": "2021-12-09T08:11:47.670Z"
   },
   {
    "duration": 141,
    "start_time": "2021-12-09T08:11:47.914Z"
   },
   {
    "duration": 196,
    "start_time": "2021-12-09T08:11:48.058Z"
   },
   {
    "duration": 12,
    "start_time": "2021-12-09T08:11:48.260Z"
   },
   {
    "duration": 60,
    "start_time": "2021-12-09T08:11:48.275Z"
   },
   {
    "duration": 31,
    "start_time": "2021-12-09T08:11:48.337Z"
   },
   {
    "duration": 204,
    "start_time": "2021-12-09T08:11:48.370Z"
   },
   {
    "duration": 26,
    "start_time": "2021-12-09T08:11:48.578Z"
   },
   {
    "duration": 127,
    "start_time": "2021-12-09T08:11:48.608Z"
   },
   {
    "duration": 40,
    "start_time": "2021-12-09T08:11:48.737Z"
   },
   {
    "duration": 34,
    "start_time": "2021-12-09T08:11:48.779Z"
   },
   {
    "duration": 4,
    "start_time": "2021-12-09T08:11:48.816Z"
   },
   {
    "duration": 43,
    "start_time": "2021-12-09T08:11:48.822Z"
   },
   {
    "duration": 23,
    "start_time": "2021-12-09T08:11:48.867Z"
   },
   {
    "duration": 10867,
    "start_time": "2021-12-09T08:11:48.893Z"
   },
   {
    "duration": 1504,
    "start_time": "2021-12-09T08:11:58.258Z"
   },
   {
    "duration": 1504,
    "start_time": "2021-12-09T08:11:58.260Z"
   },
   {
    "duration": 1504,
    "start_time": "2021-12-09T08:11:58.261Z"
   },
   {
    "duration": 1503,
    "start_time": "2021-12-09T08:11:58.263Z"
   },
   {
    "duration": 1502,
    "start_time": "2021-12-09T08:11:58.265Z"
   },
   {
    "duration": 1500,
    "start_time": "2021-12-09T08:11:58.268Z"
   },
   {
    "duration": 1500,
    "start_time": "2021-12-09T08:11:58.269Z"
   },
   {
    "duration": 1500,
    "start_time": "2021-12-09T08:11:58.271Z"
   },
   {
    "duration": 1499,
    "start_time": "2021-12-09T08:11:58.273Z"
   },
   {
    "duration": 23,
    "start_time": "2021-12-09T08:12:10.788Z"
   },
   {
    "duration": 3,
    "start_time": "2021-12-09T08:12:10.814Z"
   },
   {
    "duration": 4,
    "start_time": "2021-12-09T08:12:10.820Z"
   },
   {
    "duration": 7,
    "start_time": "2021-12-09T08:12:10.826Z"
   },
   {
    "duration": 6,
    "start_time": "2021-12-09T08:12:10.835Z"
   },
   {
    "duration": 3,
    "start_time": "2021-12-09T08:12:10.859Z"
   },
   {
    "duration": 19,
    "start_time": "2021-12-09T08:12:10.864Z"
   },
   {
    "duration": 31,
    "start_time": "2021-12-09T08:12:10.886Z"
   },
   {
    "duration": 402,
    "start_time": "2021-12-09T08:12:10.920Z"
   },
   {
    "duration": 21,
    "start_time": "2021-12-09T08:12:11.324Z"
   },
   {
    "duration": 531,
    "start_time": "2021-12-09T08:44:17.919Z"
   },
   {
    "duration": 407,
    "start_time": "2021-12-09T08:50:55.107Z"
   },
   {
    "duration": 531,
    "start_time": "2021-12-09T08:55:02.424Z"
   },
   {
    "duration": 235,
    "start_time": "2021-12-09T08:55:13.640Z"
   },
   {
    "duration": 5,
    "start_time": "2021-12-09T08:55:19.201Z"
   },
   {
    "duration": 11203,
    "start_time": "2021-12-09T08:55:55.009Z"
   },
   {
    "duration": 1587,
    "start_time": "2021-12-09T08:56:04.629Z"
   },
   {
    "duration": 6,
    "start_time": "2021-12-09T08:56:32.647Z"
   },
   {
    "duration": 146,
    "start_time": "2021-12-09T08:56:33.466Z"
   },
   {
    "duration": 10,
    "start_time": "2021-12-09T08:58:39.430Z"
   },
   {
    "duration": 115,
    "start_time": "2021-12-09T08:58:41.590Z"
   },
   {
    "duration": 87,
    "start_time": "2021-12-09T08:59:25.495Z"
   },
   {
    "duration": 233,
    "start_time": "2021-12-09T08:59:31.137Z"
   },
   {
    "duration": 156,
    "start_time": "2021-12-09T08:59:31.372Z"
   },
   {
    "duration": 277,
    "start_time": "2021-12-09T08:59:31.531Z"
   },
   {
    "duration": 15,
    "start_time": "2021-12-09T08:59:31.812Z"
   },
   {
    "duration": 114,
    "start_time": "2021-12-09T08:59:31.830Z"
   },
   {
    "duration": 32,
    "start_time": "2021-12-09T08:59:31.947Z"
   },
   {
    "duration": 15,
    "start_time": "2021-12-09T08:59:31.982Z"
   },
   {
    "duration": 260,
    "start_time": "2021-12-09T08:59:32.003Z"
   },
   {
    "duration": 31,
    "start_time": "2021-12-09T08:59:32.266Z"
   },
   {
    "duration": 124,
    "start_time": "2021-12-09T08:59:32.299Z"
   },
   {
    "duration": 43,
    "start_time": "2021-12-09T08:59:32.426Z"
   },
   {
    "duration": 37,
    "start_time": "2021-12-09T08:59:32.471Z"
   },
   {
    "duration": 4,
    "start_time": "2021-12-09T08:59:32.511Z"
   },
   {
    "duration": 49,
    "start_time": "2021-12-09T08:59:32.518Z"
   },
   {
    "duration": 17718,
    "start_time": "2021-12-09T08:59:32.570Z"
   },
   {
    "duration": 1584,
    "start_time": "2021-12-09T08:59:48.707Z"
   },
   {
    "duration": 1583,
    "start_time": "2021-12-09T08:59:48.711Z"
   },
   {
    "duration": 1580,
    "start_time": "2021-12-09T08:59:48.716Z"
   },
   {
    "duration": 1580,
    "start_time": "2021-12-09T08:59:48.718Z"
   },
   {
    "duration": 21,
    "start_time": "2021-12-09T09:02:29.186Z"
   },
   {
    "duration": 23,
    "start_time": "2021-12-09T09:02:49.868Z"
   },
   {
    "duration": 21,
    "start_time": "2021-12-09T09:02:56.676Z"
   },
   {
    "duration": 252,
    "start_time": "2021-12-09T09:03:06.612Z"
   },
   {
    "duration": 154,
    "start_time": "2021-12-09T09:03:06.867Z"
   },
   {
    "duration": 227,
    "start_time": "2021-12-09T09:03:07.025Z"
   },
   {
    "duration": 15,
    "start_time": "2021-12-09T09:03:07.255Z"
   },
   {
    "duration": 56,
    "start_time": "2021-12-09T09:03:07.273Z"
   },
   {
    "duration": 41,
    "start_time": "2021-12-09T09:03:07.332Z"
   },
   {
    "duration": 7,
    "start_time": "2021-12-09T09:03:07.376Z"
   },
   {
    "duration": 225,
    "start_time": "2021-12-09T09:03:07.387Z"
   },
   {
    "duration": 49,
    "start_time": "2021-12-09T09:03:07.615Z"
   },
   {
    "duration": 101,
    "start_time": "2021-12-09T09:03:07.666Z"
   },
   {
    "duration": 28,
    "start_time": "2021-12-09T09:03:07.769Z"
   },
   {
    "duration": 63,
    "start_time": "2021-12-09T09:03:07.799Z"
   },
   {
    "duration": 19,
    "start_time": "2021-12-09T09:03:07.864Z"
   },
   {
    "duration": 21,
    "start_time": "2021-12-09T09:03:07.886Z"
   },
   {
    "duration": 23,
    "start_time": "2021-12-09T09:03:14.861Z"
   },
   {
    "duration": 21,
    "start_time": "2021-12-09T09:03:25.948Z"
   },
   {
    "duration": 61,
    "start_time": "2021-12-09T09:03:31.526Z"
   },
   {
    "duration": 13194,
    "start_time": "2021-12-09T09:03:52.677Z"
   },
   {
    "duration": 1566,
    "start_time": "2021-12-09T09:04:04.310Z"
   },
   {
    "duration": 356,
    "start_time": "2021-12-09T09:07:28.628Z"
   },
   {
    "duration": 22,
    "start_time": "2021-12-09T09:07:36.786Z"
   },
   {
    "duration": 383,
    "start_time": "2021-12-09T09:08:41.221Z"
   },
   {
    "duration": 42,
    "start_time": "2021-12-09T09:09:45.638Z"
   },
   {
    "duration": 5,
    "start_time": "2021-12-09T09:16:37.715Z"
   },
   {
    "duration": 122,
    "start_time": "2021-12-09T09:16:39.091Z"
   },
   {
    "duration": 476,
    "start_time": "2021-12-09T09:16:58.899Z"
   },
   {
    "duration": 217,
    "start_time": "2021-12-09T09:17:05.403Z"
   },
   {
    "duration": 138,
    "start_time": "2021-12-09T09:17:05.623Z"
   },
   {
    "duration": 200,
    "start_time": "2021-12-09T09:17:05.764Z"
   },
   {
    "duration": 14,
    "start_time": "2021-12-09T09:17:05.967Z"
   },
   {
    "duration": 47,
    "start_time": "2021-12-09T09:17:05.984Z"
   },
   {
    "duration": 38,
    "start_time": "2021-12-09T09:17:06.033Z"
   },
   {
    "duration": 6,
    "start_time": "2021-12-09T09:17:06.074Z"
   },
   {
    "duration": 212,
    "start_time": "2021-12-09T09:17:06.084Z"
   },
   {
    "duration": 29,
    "start_time": "2021-12-09T09:17:06.299Z"
   },
   {
    "duration": 447,
    "start_time": "2021-12-09T09:17:09.109Z"
   },
   {
    "duration": 239,
    "start_time": "2021-12-09T09:17:14.531Z"
   },
   {
    "duration": 151,
    "start_time": "2021-12-09T09:17:14.773Z"
   },
   {
    "duration": 220,
    "start_time": "2021-12-09T09:17:14.929Z"
   },
   {
    "duration": 12,
    "start_time": "2021-12-09T09:17:15.159Z"
   },
   {
    "duration": 52,
    "start_time": "2021-12-09T09:17:15.174Z"
   },
   {
    "duration": 31,
    "start_time": "2021-12-09T09:17:15.228Z"
   },
   {
    "duration": 5,
    "start_time": "2021-12-09T09:17:15.262Z"
   },
   {
    "duration": 222,
    "start_time": "2021-12-09T09:17:15.270Z"
   },
   {
    "duration": 26,
    "start_time": "2021-12-09T09:17:15.495Z"
   },
   {
    "duration": 976,
    "start_time": "2021-12-09T09:17:15.524Z"
   },
   {
    "duration": 97,
    "start_time": "2021-12-09T09:17:38.330Z"
   },
   {
    "duration": 42,
    "start_time": "2021-12-09T09:17:42.499Z"
   },
   {
    "duration": 5,
    "start_time": "2021-12-09T09:18:19.541Z"
   },
   {
    "duration": 36,
    "start_time": "2021-12-09T09:18:20.893Z"
   },
   {
    "duration": 7,
    "start_time": "2021-12-09T09:18:42.660Z"
   },
   {
    "duration": 39,
    "start_time": "2021-12-09T09:18:43.893Z"
   },
   {
    "duration": 6,
    "start_time": "2021-12-09T09:19:04.660Z"
   },
   {
    "duration": 39,
    "start_time": "2021-12-09T09:19:05.333Z"
   },
   {
    "duration": 5,
    "start_time": "2021-12-09T09:19:30.061Z"
   },
   {
    "duration": 41,
    "start_time": "2021-12-09T09:19:31.261Z"
   },
   {
    "duration": 217,
    "start_time": "2021-12-09T09:20:23.936Z"
   },
   {
    "duration": 134,
    "start_time": "2021-12-09T09:20:24.159Z"
   },
   {
    "duration": 192,
    "start_time": "2021-12-09T09:20:24.295Z"
   },
   {
    "duration": 11,
    "start_time": "2021-12-09T09:20:24.490Z"
   },
   {
    "duration": 45,
    "start_time": "2021-12-09T09:20:24.504Z"
   },
   {
    "duration": 25,
    "start_time": "2021-12-09T09:20:24.560Z"
   },
   {
    "duration": 7,
    "start_time": "2021-12-09T09:20:24.588Z"
   },
   {
    "duration": 202,
    "start_time": "2021-12-09T09:20:24.598Z"
   },
   {
    "duration": 26,
    "start_time": "2021-12-09T09:20:24.803Z"
   },
   {
    "duration": 111,
    "start_time": "2021-12-09T09:20:24.831Z"
   },
   {
    "duration": 48,
    "start_time": "2021-12-09T09:20:24.944Z"
   },
   {
    "duration": 4,
    "start_time": "2021-12-09T09:20:24.994Z"
   },
   {
    "duration": 34,
    "start_time": "2021-12-09T09:20:25.000Z"
   },
   {
    "duration": 38,
    "start_time": "2021-12-09T09:20:36.926Z"
   },
   {
    "duration": 22,
    "start_time": "2021-12-09T09:21:00.169Z"
   },
   {
    "duration": 32,
    "start_time": "2021-12-09T09:21:01.024Z"
   },
   {
    "duration": 18,
    "start_time": "2021-12-09T09:21:01.633Z"
   },
   {
    "duration": 39,
    "start_time": "2021-12-09T09:21:02.705Z"
   },
   {
    "duration": 379,
    "start_time": "2021-12-09T09:27:01.098Z"
   },
   {
    "duration": 22,
    "start_time": "2021-12-09T09:27:10.256Z"
   },
   {
    "duration": 473,
    "start_time": "2021-12-09T09:37:05.057Z"
   },
   {
    "duration": 41,
    "start_time": "2021-12-09T09:37:52.492Z"
   },
   {
    "duration": 75,
    "start_time": "2021-12-09T09:38:10.210Z"
   },
   {
    "duration": 79,
    "start_time": "2021-12-09T09:38:54.788Z"
   },
   {
    "duration": 406,
    "start_time": "2021-12-09T10:24:01.253Z"
   },
   {
    "duration": 144,
    "start_time": "2021-12-09T10:24:01.663Z"
   },
   {
    "duration": 189,
    "start_time": "2021-12-09T10:24:01.810Z"
   },
   {
    "duration": 12,
    "start_time": "2021-12-09T10:24:02.001Z"
   },
   {
    "duration": 67,
    "start_time": "2021-12-09T10:24:02.016Z"
   },
   {
    "duration": 28,
    "start_time": "2021-12-09T10:24:02.086Z"
   },
   {
    "duration": 6,
    "start_time": "2021-12-09T10:24:02.117Z"
   },
   {
    "duration": 209,
    "start_time": "2021-12-09T10:24:02.129Z"
   },
   {
    "duration": 41,
    "start_time": "2021-12-09T10:24:02.341Z"
   },
   {
    "duration": 128,
    "start_time": "2021-12-09T10:24:02.385Z"
   },
   {
    "duration": 53,
    "start_time": "2021-12-09T10:24:02.516Z"
   },
   {
    "duration": 4,
    "start_time": "2021-12-09T10:24:02.572Z"
   },
   {
    "duration": 37,
    "start_time": "2021-12-09T10:24:02.579Z"
   },
   {
    "duration": 46,
    "start_time": "2021-12-09T10:24:02.619Z"
   },
   {
    "duration": 24,
    "start_time": "2021-12-09T10:24:02.668Z"
   },
   {
    "duration": 18,
    "start_time": "2021-12-09T10:24:02.694Z"
   },
   {
    "duration": 60,
    "start_time": "2021-12-09T10:24:02.715Z"
   },
   {
    "duration": 409,
    "start_time": "2021-12-09T10:24:02.777Z"
   },
   {
    "duration": 88,
    "start_time": "2021-12-09T10:24:03.189Z"
   },
   {
    "duration": 93,
    "start_time": "2021-12-09T10:24:03.279Z"
   },
   {
    "duration": 321,
    "start_time": "2021-12-09T10:25:11.464Z"
   },
   {
    "duration": 9,
    "start_time": "2021-12-09T10:28:39.186Z"
   },
   {
    "duration": 7,
    "start_time": "2021-12-09T10:28:51.714Z"
   },
   {
    "duration": 364,
    "start_time": "2021-12-09T10:29:00.682Z"
   },
   {
    "duration": 323,
    "start_time": "2021-12-09T10:29:48.513Z"
   },
   {
    "duration": 912,
    "start_time": "2021-12-09T10:32:39.954Z"
   },
   {
    "duration": 313,
    "start_time": "2021-12-09T10:34:08.692Z"
   },
   {
    "duration": 425,
    "start_time": "2021-12-09T10:34:36.186Z"
   },
   {
    "duration": 450,
    "start_time": "2021-12-09T10:34:44.578Z"
   },
   {
    "duration": 442,
    "start_time": "2021-12-09T10:36:12.686Z"
   },
   {
    "duration": 396,
    "start_time": "2021-12-09T10:36:17.332Z"
   },
   {
    "duration": 734,
    "start_time": "2021-12-09T10:37:05.798Z"
   },
   {
    "duration": 626,
    "start_time": "2021-12-09T10:37:26.103Z"
   },
   {
    "duration": 885,
    "start_time": "2021-12-09T10:37:42.627Z"
   },
   {
    "duration": 77,
    "start_time": "2021-12-09T10:38:56.794Z"
   },
   {
    "duration": 1261,
    "start_time": "2021-12-09T10:40:03.700Z"
   },
   {
    "duration": 780,
    "start_time": "2021-12-09T10:47:36.318Z"
   },
   {
    "duration": 606,
    "start_time": "2021-12-09T10:47:56.824Z"
   },
   {
    "duration": 1260,
    "start_time": "2021-12-09T10:48:15.184Z"
   },
   {
    "duration": 378,
    "start_time": "2021-12-09T10:58:16.104Z"
   },
   {
    "duration": 407,
    "start_time": "2021-12-09T11:24:47.289Z"
   },
   {
    "duration": 497,
    "start_time": "2021-12-09T11:25:09.353Z"
   },
   {
    "duration": 392,
    "start_time": "2021-12-09T11:33:46.318Z"
   },
   {
    "duration": 709,
    "start_time": "2021-12-09T11:39:50.056Z"
   },
   {
    "duration": 19,
    "start_time": "2021-12-09T11:40:01.384Z"
   },
   {
    "duration": 385,
    "start_time": "2021-12-09T11:40:14.930Z"
   },
   {
    "duration": 234,
    "start_time": "2021-12-09T11:40:15.322Z"
   },
   {
    "duration": 194,
    "start_time": "2021-12-09T11:40:15.558Z"
   },
   {
    "duration": 14,
    "start_time": "2021-12-09T11:40:15.755Z"
   },
   {
    "duration": 51,
    "start_time": "2021-12-09T11:40:15.771Z"
   },
   {
    "duration": 26,
    "start_time": "2021-12-09T11:40:15.824Z"
   },
   {
    "duration": 8,
    "start_time": "2021-12-09T11:40:15.852Z"
   },
   {
    "duration": 5,
    "start_time": "2021-12-09T11:40:15.864Z"
   },
   {
    "duration": 253,
    "start_time": "2021-12-09T11:40:15.872Z"
   },
   {
    "duration": 46,
    "start_time": "2021-12-09T11:40:16.128Z"
   },
   {
    "duration": 103,
    "start_time": "2021-12-09T11:40:16.176Z"
   },
   {
    "duration": 42,
    "start_time": "2021-12-09T11:40:16.281Z"
   },
   {
    "duration": 6,
    "start_time": "2021-12-09T11:40:16.327Z"
   },
   {
    "duration": 60,
    "start_time": "2021-12-09T11:40:16.335Z"
   },
   {
    "duration": 19,
    "start_time": "2021-12-09T11:40:16.398Z"
   },
   {
    "duration": 57,
    "start_time": "2021-12-09T11:40:16.420Z"
   },
   {
    "duration": 18,
    "start_time": "2021-12-09T11:40:16.480Z"
   },
   {
    "duration": 414,
    "start_time": "2021-12-09T11:40:16.501Z"
   },
   {
    "duration": 86,
    "start_time": "2021-12-09T11:40:16.917Z"
   },
   {
    "duration": 85,
    "start_time": "2021-12-09T11:40:17.006Z"
   },
   {
    "duration": 86,
    "start_time": "2021-12-09T11:40:17.094Z"
   },
   {
    "duration": 1222,
    "start_time": "2021-12-09T11:40:17.183Z"
   },
   {
    "duration": 8,
    "start_time": "2021-12-09T11:40:18.411Z"
   },
   {
    "duration": 61,
    "start_time": "2021-12-09T11:40:18.421Z"
   },
   {
    "duration": 6,
    "start_time": "2021-12-09T11:40:37.241Z"
   },
   {
    "duration": 6,
    "start_time": "2021-12-09T11:42:04.692Z"
   },
   {
    "duration": 367,
    "start_time": "2021-12-10T07:23:21.807Z"
   },
   {
    "duration": 915,
    "start_time": "2021-12-10T07:23:26.308Z"
   },
   {
    "duration": 112,
    "start_time": "2021-12-10T07:23:27.226Z"
   },
   {
    "duration": 161,
    "start_time": "2021-12-10T07:23:27.340Z"
   },
   {
    "duration": 10,
    "start_time": "2021-12-10T07:23:27.504Z"
   },
   {
    "duration": 40,
    "start_time": "2021-12-10T07:23:27.516Z"
   },
   {
    "duration": 22,
    "start_time": "2021-12-10T07:23:27.558Z"
   },
   {
    "duration": 5,
    "start_time": "2021-12-10T07:23:27.582Z"
   },
   {
    "duration": 9,
    "start_time": "2021-12-10T07:23:27.590Z"
   },
   {
    "duration": 148,
    "start_time": "2021-12-10T07:23:27.601Z"
   },
   {
    "duration": 35,
    "start_time": "2021-12-10T07:23:27.751Z"
   },
   {
    "duration": 98,
    "start_time": "2021-12-10T07:23:27.788Z"
   },
   {
    "duration": 25,
    "start_time": "2021-12-10T07:23:27.888Z"
   },
   {
    "duration": 7,
    "start_time": "2021-12-10T07:23:27.915Z"
   },
   {
    "duration": 44,
    "start_time": "2021-12-10T07:23:27.924Z"
   },
   {
    "duration": 14,
    "start_time": "2021-12-10T07:23:27.969Z"
   },
   {
    "duration": 16,
    "start_time": "2021-12-10T07:23:27.985Z"
   },
   {
    "duration": 16,
    "start_time": "2021-12-10T07:23:28.002Z"
   },
   {
    "duration": 245,
    "start_time": "2021-12-10T07:23:28.020Z"
   },
   {
    "duration": 47,
    "start_time": "2021-12-10T07:23:28.267Z"
   },
   {
    "duration": 69,
    "start_time": "2021-12-10T07:23:28.315Z"
   },
   {
    "duration": 768,
    "start_time": "2021-12-10T07:23:28.386Z"
   },
   {
    "duration": 9,
    "start_time": "2021-12-10T07:23:29.156Z"
   },
   {
    "duration": 4,
    "start_time": "2021-12-10T07:23:29.168Z"
   },
   {
    "duration": 32,
    "start_time": "2021-12-10T07:23:29.174Z"
   },
   {
    "duration": 7075,
    "start_time": "2021-12-10T07:23:29.208Z"
   },
   {
    "duration": 9,
    "start_time": "2021-12-10T07:24:23.588Z"
   },
   {
    "duration": 10,
    "start_time": "2021-12-10T07:24:44.764Z"
   },
   {
    "duration": 10,
    "start_time": "2021-12-10T07:25:07.732Z"
   },
   {
    "duration": 634,
    "start_time": "2021-12-10T09:09:42.472Z"
   },
   {
    "duration": 112,
    "start_time": "2021-12-10T09:09:43.108Z"
   },
   {
    "duration": 160,
    "start_time": "2021-12-10T09:09:43.222Z"
   },
   {
    "duration": 11,
    "start_time": "2021-12-10T09:09:43.384Z"
   },
   {
    "duration": 44,
    "start_time": "2021-12-10T09:09:43.397Z"
   },
   {
    "duration": 23,
    "start_time": "2021-12-10T09:09:43.442Z"
   },
   {
    "duration": 9,
    "start_time": "2021-12-10T09:09:43.467Z"
   },
   {
    "duration": 5,
    "start_time": "2021-12-10T09:09:43.479Z"
   },
   {
    "duration": 183,
    "start_time": "2021-12-10T09:09:43.486Z"
   },
   {
    "duration": 21,
    "start_time": "2021-12-10T09:09:43.671Z"
   },
   {
    "duration": 94,
    "start_time": "2021-12-10T09:09:43.693Z"
   },
   {
    "duration": 29,
    "start_time": "2021-12-10T09:09:43.789Z"
   },
   {
    "duration": 3,
    "start_time": "2021-12-10T09:09:43.820Z"
   },
   {
    "duration": 43,
    "start_time": "2021-12-10T09:09:43.825Z"
   },
   {
    "duration": 14,
    "start_time": "2021-12-10T09:09:43.870Z"
   },
   {
    "duration": 19,
    "start_time": "2021-12-10T09:09:43.886Z"
   },
   {
    "duration": 12,
    "start_time": "2021-12-10T09:09:43.907Z"
   },
   {
    "duration": 247,
    "start_time": "2021-12-10T09:09:43.920Z"
   },
   {
    "duration": 55,
    "start_time": "2021-12-10T09:09:44.169Z"
   },
   {
    "duration": 71,
    "start_time": "2021-12-10T09:09:44.226Z"
   },
   {
    "duration": 859,
    "start_time": "2021-12-10T09:09:44.299Z"
   },
   {
    "duration": 7,
    "start_time": "2021-12-10T09:09:45.160Z"
   },
   {
    "duration": 6,
    "start_time": "2021-12-10T09:09:45.171Z"
   },
   {
    "duration": 37,
    "start_time": "2021-12-10T09:09:45.179Z"
   },
   {
    "duration": 13,
    "start_time": "2021-12-10T09:09:45.219Z"
   },
   {
    "duration": 40,
    "start_time": "2021-12-10T09:09:45.234Z"
   },
   {
    "duration": 12,
    "start_time": "2021-12-10T09:09:45.277Z"
   },
   {
    "duration": 6,
    "start_time": "2021-12-10T09:09:48.044Z"
   },
   {
    "duration": 7,
    "start_time": "2021-12-10T10:12:08.615Z"
   },
   {
    "duration": 6,
    "start_time": "2021-12-10T10:19:59.922Z"
   },
   {
    "duration": 6,
    "start_time": "2021-12-10T10:22:02.110Z"
   },
   {
    "duration": 5,
    "start_time": "2021-12-10T10:22:42.942Z"
   },
   {
    "duration": 9,
    "start_time": "2021-12-10T10:24:24.146Z"
   },
   {
    "duration": 9,
    "start_time": "2021-12-10T10:24:37.498Z"
   },
   {
    "duration": 13,
    "start_time": "2021-12-10T10:24:51.962Z"
   },
   {
    "duration": 5,
    "start_time": "2021-12-10T10:34:24.561Z"
   },
   {
    "duration": 5,
    "start_time": "2021-12-10T10:35:04.331Z"
   },
   {
    "duration": 6,
    "start_time": "2021-12-10T10:35:28.220Z"
   },
   {
    "duration": 6,
    "start_time": "2021-12-10T10:35:32.183Z"
   },
   {
    "duration": 46,
    "start_time": "2021-12-10T11:38:06.514Z"
   },
   {
    "duration": 38,
    "start_time": "2021-12-10T11:39:00.548Z"
   },
   {
    "duration": 39,
    "start_time": "2021-12-10T11:39:41.324Z"
   },
   {
    "duration": 41,
    "start_time": "2021-12-10T11:40:38.670Z"
   },
   {
    "duration": 359,
    "start_time": "2021-12-10T11:41:19.664Z"
   },
   {
    "duration": 648,
    "start_time": "2021-12-10T11:42:08.217Z"
   },
   {
    "duration": 48,
    "start_time": "2021-12-10T11:42:29.440Z"
   },
   {
    "duration": 28,
    "start_time": "2021-12-10T11:44:18.892Z"
   },
   {
    "duration": 29,
    "start_time": "2021-12-10T11:44:52.030Z"
   },
   {
    "duration": 27,
    "start_time": "2021-12-10T11:45:39.126Z"
   },
   {
    "duration": 13,
    "start_time": "2021-12-10T13:31:44.879Z"
   },
   {
    "duration": 3,
    "start_time": "2021-12-10T13:41:36.941Z"
   },
   {
    "duration": 173,
    "start_time": "2021-12-10T13:41:38.294Z"
   },
   {
    "duration": 3,
    "start_time": "2021-12-10T13:56:25.597Z"
   },
   {
    "duration": 172,
    "start_time": "2021-12-10T13:56:25.602Z"
   },
   {
    "duration": 99,
    "start_time": "2021-12-10T13:56:25.775Z"
   },
   {
    "duration": 138,
    "start_time": "2021-12-10T13:56:25.876Z"
   },
   {
    "duration": 9,
    "start_time": "2021-12-10T13:56:26.016Z"
   },
   {
    "duration": 37,
    "start_time": "2021-12-10T13:56:26.027Z"
   },
   {
    "duration": 21,
    "start_time": "2021-12-10T13:56:26.066Z"
   },
   {
    "duration": 1078,
    "start_time": "2021-12-10T13:57:57.209Z"
   },
   {
    "duration": 268,
    "start_time": "2021-12-10T13:57:58.289Z"
   },
   {
    "duration": 153,
    "start_time": "2021-12-10T13:57:58.563Z"
   },
   {
    "duration": 222,
    "start_time": "2021-12-10T13:57:58.719Z"
   },
   {
    "duration": 21,
    "start_time": "2021-12-10T13:57:58.944Z"
   },
   {
    "duration": 45,
    "start_time": "2021-12-10T13:57:58.967Z"
   },
   {
    "duration": 27,
    "start_time": "2021-12-10T13:57:59.014Z"
   },
   {
    "duration": 5,
    "start_time": "2021-12-10T13:57:59.044Z"
   },
   {
    "duration": 177,
    "start_time": "2021-12-10T13:57:59.052Z"
   },
   {
    "duration": 47,
    "start_time": "2021-12-10T13:57:59.231Z"
   },
   {
    "duration": 83,
    "start_time": "2021-12-10T13:57:59.280Z"
   },
   {
    "duration": 24,
    "start_time": "2021-12-10T13:57:59.365Z"
   },
   {
    "duration": 8,
    "start_time": "2021-12-10T13:57:59.391Z"
   },
   {
    "duration": 34,
    "start_time": "2021-12-10T13:57:59.401Z"
   },
   {
    "duration": 39,
    "start_time": "2021-12-10T13:57:59.438Z"
   },
   {
    "duration": 20,
    "start_time": "2021-12-10T13:57:59.479Z"
   },
   {
    "duration": 17,
    "start_time": "2021-12-10T13:57:59.501Z"
   },
   {
    "duration": 243,
    "start_time": "2021-12-10T13:57:59.521Z"
   },
   {
    "duration": 11,
    "start_time": "2021-12-10T13:57:59.766Z"
   },
   {
    "duration": 342,
    "start_time": "2021-12-10T13:57:59.779Z"
   },
   {
    "duration": -13,
    "start_time": "2021-12-10T13:58:00.137Z"
   },
   {
    "duration": -14,
    "start_time": "2021-12-10T13:58:00.139Z"
   },
   {
    "duration": -30,
    "start_time": "2021-12-10T13:58:00.156Z"
   },
   {
    "duration": -38,
    "start_time": "2021-12-10T13:58:00.165Z"
   },
   {
    "duration": -40,
    "start_time": "2021-12-10T13:58:00.168Z"
   },
   {
    "duration": -41,
    "start_time": "2021-12-10T13:58:00.170Z"
   },
   {
    "duration": 335,
    "start_time": "2021-12-10T14:05:46.776Z"
   },
   {
    "duration": 4,
    "start_time": "2021-12-10T14:22:49.411Z"
   },
   {
    "duration": 24,
    "start_time": "2021-12-10T14:34:26.046Z"
   },
   {
    "duration": 24,
    "start_time": "2021-12-10T14:35:20.671Z"
   },
   {
    "duration": 24,
    "start_time": "2021-12-10T14:38:41.479Z"
   },
   {
    "duration": 6335,
    "start_time": "2021-12-10T14:39:01.391Z"
   },
   {
    "duration": 3,
    "start_time": "2021-12-10T14:39:16.706Z"
   },
   {
    "duration": 175,
    "start_time": "2021-12-10T14:39:16.711Z"
   },
   {
    "duration": 109,
    "start_time": "2021-12-10T14:39:16.888Z"
   },
   {
    "duration": 145,
    "start_time": "2021-12-10T14:39:16.999Z"
   },
   {
    "duration": 18,
    "start_time": "2021-12-10T14:39:17.146Z"
   },
   {
    "duration": 45,
    "start_time": "2021-12-10T14:39:17.166Z"
   },
   {
    "duration": 25,
    "start_time": "2021-12-10T14:39:17.212Z"
   },
   {
    "duration": 27,
    "start_time": "2021-12-10T14:39:17.239Z"
   },
   {
    "duration": 135,
    "start_time": "2021-12-10T14:39:17.267Z"
   },
   {
    "duration": 9,
    "start_time": "2021-12-10T14:39:17.404Z"
   },
   {
    "duration": 91,
    "start_time": "2021-12-10T14:39:17.414Z"
   },
   {
    "duration": 22,
    "start_time": "2021-12-10T14:39:17.507Z"
   },
   {
    "duration": 4,
    "start_time": "2021-12-10T14:39:17.531Z"
   },
   {
    "duration": 7581,
    "start_time": "2021-12-10T14:39:22.963Z"
   },
   {
    "duration": 218,
    "start_time": "2021-12-10T14:52:14.920Z"
   },
   {
    "duration": 3,
    "start_time": "2021-12-10T16:57:10.625Z"
   },
   {
    "duration": 190,
    "start_time": "2021-12-10T16:57:10.630Z"
   },
   {
    "duration": 109,
    "start_time": "2021-12-10T16:57:10.822Z"
   },
   {
    "duration": 150,
    "start_time": "2021-12-10T16:57:10.933Z"
   },
   {
    "duration": 9,
    "start_time": "2021-12-10T16:57:11.085Z"
   },
   {
    "duration": 38,
    "start_time": "2021-12-10T16:57:11.096Z"
   },
   {
    "duration": 21,
    "start_time": "2021-12-10T16:57:11.136Z"
   },
   {
    "duration": 7,
    "start_time": "2021-12-10T16:57:11.158Z"
   },
   {
    "duration": 129,
    "start_time": "2021-12-10T16:57:11.167Z"
   },
   {
    "duration": 10,
    "start_time": "2021-12-10T16:57:11.297Z"
   },
   {
    "duration": 78,
    "start_time": "2021-12-10T16:57:11.309Z"
   },
   {
    "duration": 22,
    "start_time": "2021-12-10T16:57:11.389Z"
   },
   {
    "duration": 4,
    "start_time": "2021-12-10T16:57:11.413Z"
   },
   {
    "duration": 18,
    "start_time": "2021-12-10T16:57:11.419Z"
   },
   {
    "duration": 30,
    "start_time": "2021-12-10T16:57:11.439Z"
   },
   {
    "duration": 12,
    "start_time": "2021-12-10T16:57:11.470Z"
   },
   {
    "duration": 217,
    "start_time": "2021-12-10T16:57:11.484Z"
   },
   {
    "duration": 12,
    "start_time": "2021-12-10T16:57:11.703Z"
   },
   {
    "duration": 269,
    "start_time": "2021-12-10T16:57:11.716Z"
   },
   {
    "duration": 25,
    "start_time": "2021-12-10T16:57:11.961Z"
   },
   {
    "duration": 24,
    "start_time": "2021-12-10T16:57:11.963Z"
   },
   {
    "duration": 6,
    "start_time": "2021-12-10T16:57:11.982Z"
   },
   {
    "duration": 4,
    "start_time": "2021-12-10T16:57:11.984Z"
   },
   {
    "duration": 3,
    "start_time": "2021-12-10T16:57:11.986Z"
   },
   {
    "duration": 2,
    "start_time": "2021-12-10T16:57:11.988Z"
   },
   {
    "duration": 11,
    "start_time": "2021-12-10T16:57:41.798Z"
   },
   {
    "duration": 25,
    "start_time": "2021-12-10T16:57:41.811Z"
   },
   {
    "duration": 405,
    "start_time": "2021-12-10T16:57:41.838Z"
   },
   {
    "duration": -10,
    "start_time": "2021-12-10T16:57:42.256Z"
   },
   {
    "duration": -11,
    "start_time": "2021-12-10T16:57:42.258Z"
   },
   {
    "duration": -11,
    "start_time": "2021-12-10T16:57:42.260Z"
   },
   {
    "duration": -12,
    "start_time": "2021-12-10T16:57:42.262Z"
   },
   {
    "duration": -12,
    "start_time": "2021-12-10T16:57:42.263Z"
   },
   {
    "duration": 28,
    "start_time": "2021-12-10T16:58:00.766Z"
   },
   {
    "duration": 25,
    "start_time": "2021-12-10T16:58:00.796Z"
   },
   {
    "duration": 847,
    "start_time": "2021-12-10T16:58:00.824Z"
   },
   {
    "duration": 5,
    "start_time": "2021-12-10T16:58:01.673Z"
   },
   {
    "duration": 13,
    "start_time": "2021-12-10T16:58:01.679Z"
   },
   {
    "duration": 12,
    "start_time": "2021-12-10T16:58:01.693Z"
   },
   {
    "duration": 8,
    "start_time": "2021-12-10T16:58:01.706Z"
   },
   {
    "duration": 9,
    "start_time": "2021-12-10T17:08:59.786Z"
   },
   {
    "duration": 14,
    "start_time": "2021-12-10T17:45:51.191Z"
   },
   {
    "duration": 25,
    "start_time": "2021-12-10T18:21:24.993Z"
   },
   {
    "duration": 30,
    "start_time": "2021-12-10T18:21:25.652Z"
   },
   {
    "duration": 5,
    "start_time": "2021-12-10T18:32:30.536Z"
   },
   {
    "duration": 6,
    "start_time": "2021-12-10T18:32:35.184Z"
   },
   {
    "duration": 257,
    "start_time": "2021-12-10T19:12:53.668Z"
   },
   {
    "duration": 202,
    "start_time": "2021-12-10T19:13:48.347Z"
   },
   {
    "duration": 153,
    "start_time": "2021-12-10T19:14:09.495Z"
   },
   {
    "duration": 1072,
    "start_time": "2021-12-10T19:31:44.871Z"
   },
   {
    "duration": 267,
    "start_time": "2021-12-10T19:31:45.945Z"
   },
   {
    "duration": 426,
    "start_time": "2021-12-10T19:31:46.215Z"
   },
   {
    "duration": 378,
    "start_time": "2021-12-10T19:31:46.643Z"
   },
   {
    "duration": 11,
    "start_time": "2021-12-10T19:31:47.024Z"
   },
   {
    "duration": 36,
    "start_time": "2021-12-10T19:31:47.038Z"
   },
   {
    "duration": 43,
    "start_time": "2021-12-10T19:31:47.077Z"
   },
   {
    "duration": 4,
    "start_time": "2021-12-10T19:31:47.123Z"
   },
   {
    "duration": 154,
    "start_time": "2021-12-10T19:31:47.129Z"
   },
   {
    "duration": 19,
    "start_time": "2021-12-10T19:31:47.285Z"
   },
   {
    "duration": 117,
    "start_time": "2021-12-10T19:31:47.306Z"
   },
   {
    "duration": 43,
    "start_time": "2021-12-10T19:31:47.425Z"
   },
   {
    "duration": 10,
    "start_time": "2021-12-10T19:31:47.470Z"
   },
   {
    "duration": 16,
    "start_time": "2021-12-10T19:31:47.482Z"
   },
   {
    "duration": 20,
    "start_time": "2021-12-10T19:31:47.500Z"
   },
   {
    "duration": 13,
    "start_time": "2021-12-10T19:31:47.522Z"
   },
   {
    "duration": 380,
    "start_time": "2021-12-10T19:31:47.536Z"
   },
   {
    "duration": 11,
    "start_time": "2021-12-10T19:31:47.918Z"
   },
   {
    "duration": 7,
    "start_time": "2021-12-10T19:31:47.931Z"
   },
   {
    "duration": 28,
    "start_time": "2021-12-10T19:31:47.939Z"
   },
   {
    "duration": 8,
    "start_time": "2021-12-10T19:31:47.969Z"
   },
   {
    "duration": 747,
    "start_time": "2021-12-10T19:31:47.978Z"
   },
   {
    "duration": 36,
    "start_time": "2021-12-10T19:31:48.728Z"
   },
   {
    "duration": 22,
    "start_time": "2021-12-10T19:31:48.766Z"
   },
   {
    "duration": 5,
    "start_time": "2021-12-10T19:31:48.790Z"
   },
   {
    "duration": 9,
    "start_time": "2021-12-10T19:31:48.797Z"
   },
   {
    "duration": 9,
    "start_time": "2021-12-10T19:31:48.808Z"
   },
   {
    "duration": 8,
    "start_time": "2021-12-10T19:31:48.818Z"
   },
   {
    "duration": 1225,
    "start_time": "2021-12-11T12:36:43.893Z"
   },
   {
    "duration": 284,
    "start_time": "2021-12-11T12:36:45.121Z"
   },
   {
    "duration": 113,
    "start_time": "2021-12-11T12:36:45.407Z"
   },
   {
    "duration": 169,
    "start_time": "2021-12-11T12:36:45.521Z"
   },
   {
    "duration": 9,
    "start_time": "2021-12-11T12:36:45.692Z"
   },
   {
    "duration": 41,
    "start_time": "2021-12-11T12:36:45.703Z"
   },
   {
    "duration": 21,
    "start_time": "2021-12-11T12:36:45.746Z"
   },
   {
    "duration": 5,
    "start_time": "2021-12-11T12:36:45.771Z"
   },
   {
    "duration": 146,
    "start_time": "2021-12-11T12:36:45.778Z"
   },
   {
    "duration": 21,
    "start_time": "2021-12-11T12:36:45.926Z"
   },
   {
    "duration": 95,
    "start_time": "2021-12-11T12:36:45.949Z"
   },
   {
    "duration": 23,
    "start_time": "2021-12-11T12:36:46.046Z"
   },
   {
    "duration": 6,
    "start_time": "2021-12-11T12:36:46.071Z"
   },
   {
    "duration": 17,
    "start_time": "2021-12-11T12:36:46.078Z"
   },
   {
    "duration": 47,
    "start_time": "2021-12-11T12:36:46.097Z"
   },
   {
    "duration": 20,
    "start_time": "2021-12-11T12:36:46.146Z"
   },
   {
    "duration": 158,
    "start_time": "2021-12-11T12:36:46.167Z"
   },
   {
    "duration": 18,
    "start_time": "2021-12-11T12:36:46.327Z"
   },
   {
    "duration": 7,
    "start_time": "2021-12-11T12:36:46.346Z"
   },
   {
    "duration": 9,
    "start_time": "2021-12-11T12:36:46.355Z"
   },
   {
    "duration": 7,
    "start_time": "2021-12-11T12:36:46.366Z"
   },
   {
    "duration": 1790,
    "start_time": "2021-12-11T12:36:46.374Z"
   },
   {
    "duration": 24,
    "start_time": "2021-12-11T12:36:48.167Z"
   },
   {
    "duration": 22,
    "start_time": "2021-12-11T12:36:48.193Z"
   },
   {
    "duration": 30,
    "start_time": "2021-12-11T12:36:48.217Z"
   },
   {
    "duration": 7,
    "start_time": "2021-12-11T12:36:48.249Z"
   },
   {
    "duration": 6,
    "start_time": "2021-12-11T12:36:48.258Z"
   },
   {
    "duration": 6,
    "start_time": "2021-12-11T12:36:48.266Z"
   },
   {
    "duration": 30,
    "start_time": "2021-12-11T12:40:00.731Z"
   },
   {
    "duration": 301,
    "start_time": "2021-12-11T19:34:48.840Z"
   },
   {
    "duration": 1085,
    "start_time": "2021-12-11T19:35:35.148Z"
   },
   {
    "duration": 177,
    "start_time": "2021-12-11T19:35:36.235Z"
   },
   {
    "duration": 104,
    "start_time": "2021-12-11T19:35:36.414Z"
   },
   {
    "duration": 153,
    "start_time": "2021-12-11T19:35:36.520Z"
   },
   {
    "duration": 9,
    "start_time": "2021-12-11T19:35:36.674Z"
   },
   {
    "duration": 38,
    "start_time": "2021-12-11T19:35:36.685Z"
   },
   {
    "duration": 22,
    "start_time": "2021-12-11T19:35:36.725Z"
   },
   {
    "duration": 7,
    "start_time": "2021-12-11T19:35:36.750Z"
   },
   {
    "duration": 144,
    "start_time": "2021-12-11T19:35:36.759Z"
   },
   {
    "duration": 15,
    "start_time": "2021-12-11T19:35:36.905Z"
   },
   {
    "duration": 87,
    "start_time": "2021-12-11T19:35:36.921Z"
   },
   {
    "duration": 23,
    "start_time": "2021-12-11T19:35:37.009Z"
   },
   {
    "duration": 29,
    "start_time": "2021-12-11T19:35:37.045Z"
   },
   {
    "duration": 34,
    "start_time": "2021-12-11T19:35:57.271Z"
   },
   {
    "duration": 407,
    "start_time": "2021-12-11T19:36:35.877Z"
   },
   {
    "duration": 354,
    "start_time": "2021-12-11T19:37:07.476Z"
   },
   {
    "duration": 38,
    "start_time": "2021-12-11T19:37:30.851Z"
   },
   {
    "duration": 38,
    "start_time": "2021-12-11T19:37:42.887Z"
   },
   {
    "duration": 30,
    "start_time": "2021-12-11T19:37:52.194Z"
   },
   {
    "duration": 25,
    "start_time": "2021-12-11T19:42:34.471Z"
   },
   {
    "duration": 329,
    "start_time": "2021-12-11T19:42:52.816Z"
   },
   {
    "duration": 26,
    "start_time": "2021-12-11T19:43:04.847Z"
   },
   {
    "duration": 22,
    "start_time": "2021-12-11T19:46:32.815Z"
   },
   {
    "duration": 86,
    "start_time": "2021-12-11T19:47:40.118Z"
   },
   {
    "duration": 126,
    "start_time": "2021-12-11T19:48:22.176Z"
   },
   {
    "duration": 22,
    "start_time": "2021-12-11T19:48:34.549Z"
   },
   {
    "duration": 7610,
    "start_time": "2021-12-11T19:48:48.417Z"
   },
   {
    "duration": 3,
    "start_time": "2021-12-11T19:49:07.788Z"
   },
   {
    "duration": 169,
    "start_time": "2021-12-11T19:49:07.793Z"
   },
   {
    "duration": 99,
    "start_time": "2021-12-11T19:49:07.964Z"
   },
   {
    "duration": 145,
    "start_time": "2021-12-11T19:49:08.066Z"
   },
   {
    "duration": 9,
    "start_time": "2021-12-11T19:49:08.212Z"
   },
   {
    "duration": 53,
    "start_time": "2021-12-11T19:49:08.222Z"
   },
   {
    "duration": 22,
    "start_time": "2021-12-11T19:49:08.278Z"
   },
   {
    "duration": 23,
    "start_time": "2021-12-11T19:49:08.302Z"
   },
   {
    "duration": 150,
    "start_time": "2021-12-11T19:49:08.327Z"
   },
   {
    "duration": 8,
    "start_time": "2021-12-11T19:49:08.478Z"
   },
   {
    "duration": 63,
    "start_time": "2021-12-11T19:49:08.488Z"
   },
   {
    "duration": 22,
    "start_time": "2021-12-11T19:49:08.553Z"
   },
   {
    "duration": 20,
    "start_time": "2021-12-11T19:49:08.577Z"
   },
   {
    "duration": 4,
    "start_time": "2021-12-11T19:49:08.599Z"
   },
   {
    "duration": 1202,
    "start_time": "2021-12-12T09:19:21.991Z"
   },
   {
    "duration": 185,
    "start_time": "2021-12-12T09:19:23.195Z"
   },
   {
    "duration": 103,
    "start_time": "2021-12-12T09:19:23.382Z"
   },
   {
    "duration": 150,
    "start_time": "2021-12-12T09:19:23.487Z"
   },
   {
    "duration": 10,
    "start_time": "2021-12-12T09:19:23.639Z"
   },
   {
    "duration": 66,
    "start_time": "2021-12-12T09:19:23.651Z"
   },
   {
    "duration": 22,
    "start_time": "2021-12-12T09:19:23.719Z"
   },
   {
    "duration": 5,
    "start_time": "2021-12-12T09:19:23.743Z"
   },
   {
    "duration": 128,
    "start_time": "2021-12-12T09:19:23.751Z"
   },
   {
    "duration": 13,
    "start_time": "2021-12-12T09:19:23.881Z"
   },
   {
    "duration": 81,
    "start_time": "2021-12-12T09:19:23.895Z"
   },
   {
    "duration": 44,
    "start_time": "2021-12-12T09:19:23.978Z"
   },
   {
    "duration": 23,
    "start_time": "2021-12-12T09:19:24.023Z"
   },
   {
    "duration": 9,
    "start_time": "2021-12-12T09:19:24.048Z"
   },
   {
    "duration": 11,
    "start_time": "2021-12-12T09:19:24.058Z"
   },
   {
    "duration": 40,
    "start_time": "2021-12-12T09:19:24.070Z"
   },
   {
    "duration": 14,
    "start_time": "2021-12-12T09:19:24.112Z"
   },
   {
    "duration": 318,
    "start_time": "2021-12-12T09:19:24.127Z"
   },
   {
    "duration": 11,
    "start_time": "2021-12-12T09:19:24.447Z"
   },
   {
    "duration": 7,
    "start_time": "2021-12-12T09:19:24.460Z"
   },
   {
    "duration": 8,
    "start_time": "2021-12-12T09:19:24.469Z"
   },
   {
    "duration": 28,
    "start_time": "2021-12-12T09:19:24.478Z"
   },
   {
    "duration": 726,
    "start_time": "2021-12-12T09:19:24.508Z"
   },
   {
    "duration": 22,
    "start_time": "2021-12-12T09:19:25.236Z"
   },
   {
    "duration": 23,
    "start_time": "2021-12-12T09:19:25.260Z"
   },
   {
    "duration": 303,
    "start_time": "2021-12-12T09:19:25.284Z"
   },
   {
    "duration": 450,
    "start_time": "2021-12-12T09:20:38.319Z"
   },
   {
    "duration": 1246,
    "start_time": "2022-04-28T14:33:28.062Z"
   },
   {
    "duration": 174,
    "start_time": "2022-04-28T14:33:29.311Z"
   },
   {
    "duration": 106,
    "start_time": "2022-04-28T14:33:29.487Z"
   },
   {
    "duration": 147,
    "start_time": "2022-04-28T14:33:29.594Z"
   },
   {
    "duration": 13,
    "start_time": "2022-04-28T14:33:29.743Z"
   },
   {
    "duration": 27,
    "start_time": "2022-04-28T14:33:29.758Z"
   },
   {
    "duration": 13,
    "start_time": "2022-04-28T14:33:29.787Z"
   },
   {
    "duration": 8,
    "start_time": "2022-04-28T14:33:29.801Z"
   },
   {
    "duration": 135,
    "start_time": "2022-04-28T14:33:29.810Z"
   },
   {
    "duration": 17,
    "start_time": "2022-04-28T14:33:29.947Z"
   },
   {
    "duration": 76,
    "start_time": "2022-04-28T14:33:29.966Z"
   },
   {
    "duration": 67,
    "start_time": "2022-04-28T14:33:37.500Z"
   },
   {
    "duration": 1159,
    "start_time": "2022-06-15T12:15:26.706Z"
   },
   {
    "duration": 304,
    "start_time": "2022-06-15T12:15:27.867Z"
   },
   {
    "duration": 376,
    "start_time": "2022-06-15T12:15:28.174Z"
   },
   {
    "duration": 390,
    "start_time": "2022-06-15T12:15:28.552Z"
   },
   {
    "duration": 10,
    "start_time": "2022-06-15T12:15:28.944Z"
   },
   {
    "duration": 219,
    "start_time": "2022-06-15T12:15:28.956Z"
   },
   {
    "duration": 182,
    "start_time": "2022-06-15T12:17:12.619Z"
   },
   {
    "duration": 171,
    "start_time": "2022-06-15T12:17:53.359Z"
   },
   {
    "duration": 12,
    "start_time": "2022-06-15T12:18:48.737Z"
   },
   {
    "duration": 14,
    "start_time": "2022-06-15T12:18:54.561Z"
   },
   {
    "duration": 155,
    "start_time": "2022-06-15T12:19:10.442Z"
   },
   {
    "duration": 173,
    "start_time": "2022-06-15T12:20:16.408Z"
   },
   {
    "duration": 35,
    "start_time": "2022-06-16T07:34:53.298Z"
   },
   {
    "duration": 756,
    "start_time": "2022-06-16T08:27:01.520Z"
   },
   {
    "duration": 582,
    "start_time": "2022-06-16T08:27:06.134Z"
   },
   {
    "duration": 394,
    "start_time": "2022-06-16T08:27:06.718Z"
   },
   {
    "duration": 172,
    "start_time": "2022-06-16T08:27:07.114Z"
   },
   {
    "duration": 352,
    "start_time": "2022-06-16T08:27:07.288Z"
   },
   {
    "duration": 358,
    "start_time": "2022-06-16T08:27:07.642Z"
   },
   {
    "duration": 9,
    "start_time": "2022-06-16T08:27:08.002Z"
   },
   {
    "duration": 192,
    "start_time": "2022-06-16T08:27:08.013Z"
   },
   {
    "duration": 155,
    "start_time": "2022-06-16T08:27:08.207Z"
   },
   {
    "duration": 78,
    "start_time": "2022-06-16T08:27:08.365Z"
   },
   {
    "duration": 72,
    "start_time": "2022-06-16T08:27:08.445Z"
   },
   {
    "duration": 5,
    "start_time": "2022-06-16T08:27:08.519Z"
   },
   {
    "duration": 9,
    "start_time": "2022-06-16T08:27:08.526Z"
   },
   {
    "duration": 155,
    "start_time": "2022-06-16T08:27:08.537Z"
   },
   {
    "duration": 38,
    "start_time": "2022-06-16T08:27:08.694Z"
   },
   {
    "duration": 0,
    "start_time": "2022-06-16T08:27:08.734Z"
   },
   {
    "duration": 0,
    "start_time": "2022-06-16T08:27:08.735Z"
   },
   {
    "duration": 0,
    "start_time": "2022-06-16T08:27:08.736Z"
   },
   {
    "duration": 0,
    "start_time": "2022-06-16T08:27:08.737Z"
   },
   {
    "duration": 0,
    "start_time": "2022-06-16T08:27:08.738Z"
   },
   {
    "duration": 0,
    "start_time": "2022-06-16T08:27:08.739Z"
   },
   {
    "duration": 0,
    "start_time": "2022-06-16T08:27:08.740Z"
   },
   {
    "duration": 0,
    "start_time": "2022-06-16T08:27:08.741Z"
   },
   {
    "duration": 0,
    "start_time": "2022-06-16T08:27:08.766Z"
   },
   {
    "duration": 0,
    "start_time": "2022-06-16T08:27:08.768Z"
   },
   {
    "duration": 0,
    "start_time": "2022-06-16T08:27:08.769Z"
   },
   {
    "duration": 0,
    "start_time": "2022-06-16T08:27:08.771Z"
   },
   {
    "duration": 0,
    "start_time": "2022-06-16T08:27:08.772Z"
   },
   {
    "duration": 0,
    "start_time": "2022-06-16T08:27:08.775Z"
   },
   {
    "duration": 0,
    "start_time": "2022-06-16T08:27:08.776Z"
   },
   {
    "duration": 0,
    "start_time": "2022-06-16T08:27:08.778Z"
   },
   {
    "duration": 93,
    "start_time": "2022-06-16T08:27:39.241Z"
   },
   {
    "duration": 34,
    "start_time": "2022-06-16T08:27:39.337Z"
   },
   {
    "duration": 23,
    "start_time": "2022-06-16T08:27:39.373Z"
   },
   {
    "duration": 4,
    "start_time": "2022-06-16T08:27:39.399Z"
   },
   {
    "duration": 18,
    "start_time": "2022-06-16T08:27:39.405Z"
   },
   {
    "duration": 42,
    "start_time": "2022-06-16T08:27:39.424Z"
   },
   {
    "duration": 19,
    "start_time": "2022-06-16T08:27:39.468Z"
   },
   {
    "duration": 142,
    "start_time": "2022-06-16T08:27:39.489Z"
   },
   {
    "duration": 12,
    "start_time": "2022-06-16T08:27:39.633Z"
   },
   {
    "duration": 23,
    "start_time": "2022-06-16T08:27:39.647Z"
   },
   {
    "duration": 25,
    "start_time": "2022-06-16T08:27:39.672Z"
   },
   {
    "duration": 7,
    "start_time": "2022-06-16T08:27:39.698Z"
   },
   {
    "duration": 635,
    "start_time": "2022-06-16T08:27:39.706Z"
   },
   {
    "duration": 38,
    "start_time": "2022-06-16T08:27:40.343Z"
   },
   {
    "duration": 27,
    "start_time": "2022-06-16T08:27:40.384Z"
   },
   {
    "duration": 5,
    "start_time": "2022-06-16T08:27:40.413Z"
   },
   {
    "duration": 5,
    "start_time": "2022-06-16T08:27:40.420Z"
   },
   {
    "duration": 6,
    "start_time": "2022-06-16T08:27:40.427Z"
   },
   {
    "duration": 46,
    "start_time": "2022-06-16T08:27:40.435Z"
   },
   {
    "duration": 9,
    "start_time": "2022-06-16T08:27:40.483Z"
   },
   {
    "duration": 6,
    "start_time": "2022-06-16T08:28:11.637Z"
   },
   {
    "duration": 7,
    "start_time": "2022-06-16T08:29:24.127Z"
   },
   {
    "duration": 6,
    "start_time": "2022-06-16T08:30:06.851Z"
   },
   {
    "duration": 4,
    "start_time": "2022-06-16T08:57:43.849Z"
   },
   {
    "duration": 4,
    "start_time": "2022-06-16T08:58:03.544Z"
   },
   {
    "duration": 5,
    "start_time": "2022-06-16T08:59:04.374Z"
   },
   {
    "duration": 5,
    "start_time": "2022-06-16T09:01:42.951Z"
   },
   {
    "duration": 5,
    "start_time": "2022-06-16T09:01:50.127Z"
   },
   {
    "duration": 5,
    "start_time": "2022-06-16T09:01:57.895Z"
   },
   {
    "duration": 5,
    "start_time": "2022-06-16T09:07:36.706Z"
   },
   {
    "duration": 5,
    "start_time": "2022-06-16T09:07:38.619Z"
   },
   {
    "duration": 6,
    "start_time": "2022-06-16T09:14:39.472Z"
   },
   {
    "duration": 1080,
    "start_time": "2022-06-16T09:36:15.038Z"
   },
   {
    "duration": 197,
    "start_time": "2022-06-16T09:36:16.120Z"
   },
   {
    "duration": 163,
    "start_time": "2022-06-16T09:36:16.319Z"
   },
   {
    "duration": 129,
    "start_time": "2022-06-16T09:36:16.484Z"
   },
   {
    "duration": 157,
    "start_time": "2022-06-16T09:36:16.615Z"
   },
   {
    "duration": 10,
    "start_time": "2022-06-16T09:36:16.773Z"
   },
   {
    "duration": 169,
    "start_time": "2022-06-16T09:36:16.784Z"
   },
   {
    "duration": 157,
    "start_time": "2022-06-16T09:36:16.965Z"
   },
   {
    "duration": 41,
    "start_time": "2022-06-16T09:36:17.125Z"
   },
   {
    "duration": 32,
    "start_time": "2022-06-16T09:36:17.168Z"
   },
   {
    "duration": 5,
    "start_time": "2022-06-16T09:36:17.201Z"
   },
   {
    "duration": 7,
    "start_time": "2022-06-16T09:36:17.208Z"
   },
   {
    "duration": 135,
    "start_time": "2022-06-16T09:36:17.217Z"
   },
   {
    "duration": 103,
    "start_time": "2022-06-16T09:36:17.353Z"
   },
   {
    "duration": 29,
    "start_time": "2022-06-16T09:36:17.464Z"
   },
   {
    "duration": 19,
    "start_time": "2022-06-16T09:36:17.495Z"
   },
   {
    "duration": 5,
    "start_time": "2022-06-16T09:36:17.515Z"
   },
   {
    "duration": 27,
    "start_time": "2022-06-16T09:36:17.521Z"
   },
   {
    "duration": 15,
    "start_time": "2022-06-16T09:36:17.564Z"
   },
   {
    "duration": 15,
    "start_time": "2022-06-16T09:36:17.580Z"
   },
   {
    "duration": 126,
    "start_time": "2022-06-16T09:36:17.596Z"
   },
   {
    "duration": 11,
    "start_time": "2022-06-16T09:36:17.724Z"
   },
   {
    "duration": 12,
    "start_time": "2022-06-16T09:36:17.737Z"
   },
   {
    "duration": 16,
    "start_time": "2022-06-16T09:36:17.751Z"
   },
   {
    "duration": 7,
    "start_time": "2022-06-16T09:36:17.768Z"
   },
   {
    "duration": 578,
    "start_time": "2022-06-16T09:36:17.777Z"
   },
   {
    "duration": 24,
    "start_time": "2022-06-16T09:36:18.364Z"
   },
   {
    "duration": 25,
    "start_time": "2022-06-16T09:36:18.391Z"
   },
   {
    "duration": 5,
    "start_time": "2022-06-16T09:36:18.418Z"
   },
   {
    "duration": 14,
    "start_time": "2022-06-16T09:36:18.424Z"
   },
   {
    "duration": 27,
    "start_time": "2022-06-16T09:36:18.439Z"
   },
   {
    "duration": 6,
    "start_time": "2022-06-16T09:36:18.468Z"
   },
   {
    "duration": 5,
    "start_time": "2022-06-16T09:57:50.094Z"
   },
   {
    "duration": 22,
    "start_time": "2022-06-16T09:58:26.414Z"
   },
   {
    "duration": 4,
    "start_time": "2022-06-16T09:58:48.662Z"
   },
   {
    "duration": 3,
    "start_time": "2022-06-16T09:58:56.577Z"
   },
   {
    "duration": 228,
    "start_time": "2022-06-16T09:58:56.583Z"
   },
   {
    "duration": 172,
    "start_time": "2022-06-16T09:58:56.813Z"
   },
   {
    "duration": 174,
    "start_time": "2022-06-16T09:58:56.988Z"
   },
   {
    "duration": 203,
    "start_time": "2022-06-16T09:58:57.165Z"
   },
   {
    "duration": 12,
    "start_time": "2022-06-16T09:58:57.370Z"
   },
   {
    "duration": 285,
    "start_time": "2022-06-16T09:58:57.384Z"
   },
   {
    "duration": 178,
    "start_time": "2022-06-16T09:58:57.671Z"
   },
   {
    "duration": 66,
    "start_time": "2022-06-16T09:58:57.851Z"
   },
   {
    "duration": 21,
    "start_time": "2022-06-16T09:58:57.921Z"
   },
   {
    "duration": 5,
    "start_time": "2022-06-16T09:58:57.944Z"
   },
   {
    "duration": 10,
    "start_time": "2022-06-16T09:58:57.951Z"
   },
   {
    "duration": 185,
    "start_time": "2022-06-16T09:58:57.963Z"
   },
   {
    "duration": 123,
    "start_time": "2022-06-16T09:58:58.151Z"
   },
   {
    "duration": 3,
    "start_time": "2022-06-16T09:58:58.276Z"
   },
   {
    "duration": 37,
    "start_time": "2022-06-16T09:58:58.281Z"
   },
   {
    "duration": 8,
    "start_time": "2022-06-16T09:58:58.320Z"
   },
   {
    "duration": 50,
    "start_time": "2022-06-16T09:58:58.330Z"
   },
   {
    "duration": 497,
    "start_time": "2022-06-16T09:58:58.383Z"
   },
   {
    "duration": 0,
    "start_time": "2022-06-16T09:58:58.884Z"
   },
   {
    "duration": 0,
    "start_time": "2022-06-16T09:58:58.885Z"
   },
   {
    "duration": 0,
    "start_time": "2022-06-16T09:58:58.887Z"
   },
   {
    "duration": 0,
    "start_time": "2022-06-16T09:58:58.889Z"
   },
   {
    "duration": 0,
    "start_time": "2022-06-16T09:58:58.890Z"
   },
   {
    "duration": 0,
    "start_time": "2022-06-16T09:58:58.891Z"
   },
   {
    "duration": 0,
    "start_time": "2022-06-16T09:58:58.892Z"
   },
   {
    "duration": 0,
    "start_time": "2022-06-16T09:58:58.893Z"
   },
   {
    "duration": 0,
    "start_time": "2022-06-16T09:58:58.895Z"
   },
   {
    "duration": 0,
    "start_time": "2022-06-16T09:58:58.896Z"
   },
   {
    "duration": 0,
    "start_time": "2022-06-16T09:58:58.897Z"
   },
   {
    "duration": 0,
    "start_time": "2022-06-16T09:58:58.898Z"
   },
   {
    "duration": 0,
    "start_time": "2022-06-16T09:58:58.899Z"
   },
   {
    "duration": 33,
    "start_time": "2022-06-16T09:59:34.784Z"
   },
   {
    "duration": 402,
    "start_time": "2022-06-16T09:59:40.042Z"
   },
   {
    "duration": 4,
    "start_time": "2022-06-16T09:59:47.822Z"
   },
   {
    "duration": 208,
    "start_time": "2022-06-16T09:59:47.828Z"
   },
   {
    "duration": 176,
    "start_time": "2022-06-16T09:59:48.039Z"
   },
   {
    "duration": 115,
    "start_time": "2022-06-16T09:59:48.218Z"
   },
   {
    "duration": 174,
    "start_time": "2022-06-16T09:59:48.335Z"
   },
   {
    "duration": 11,
    "start_time": "2022-06-16T09:59:48.511Z"
   },
   {
    "duration": 196,
    "start_time": "2022-06-16T09:59:48.524Z"
   },
   {
    "duration": 177,
    "start_time": "2022-06-16T09:59:48.722Z"
   },
   {
    "duration": 60,
    "start_time": "2022-06-16T09:59:48.903Z"
   },
   {
    "duration": 24,
    "start_time": "2022-06-16T09:59:48.965Z"
   },
   {
    "duration": 10,
    "start_time": "2022-06-16T09:59:48.991Z"
   },
   {
    "duration": 10,
    "start_time": "2022-06-16T09:59:49.003Z"
   },
   {
    "duration": 184,
    "start_time": "2022-06-16T09:59:49.016Z"
   },
   {
    "duration": 115,
    "start_time": "2022-06-16T09:59:49.202Z"
   },
   {
    "duration": 3,
    "start_time": "2022-06-16T09:59:49.319Z"
   },
   {
    "duration": 30,
    "start_time": "2022-06-16T09:59:49.324Z"
   },
   {
    "duration": 472,
    "start_time": "2022-06-16T09:59:49.356Z"
   },
   {
    "duration": 0,
    "start_time": "2022-06-16T09:59:49.830Z"
   },
   {
    "duration": 0,
    "start_time": "2022-06-16T09:59:49.832Z"
   },
   {
    "duration": 25,
    "start_time": "2022-06-16T10:00:27.040Z"
   },
   {
    "duration": 6,
    "start_time": "2022-06-16T10:00:31.132Z"
   },
   {
    "duration": 3,
    "start_time": "2022-06-16T10:00:36.006Z"
   },
   {
    "duration": 219,
    "start_time": "2022-06-16T10:00:36.012Z"
   },
   {
    "duration": 182,
    "start_time": "2022-06-16T10:00:36.233Z"
   },
   {
    "duration": 120,
    "start_time": "2022-06-16T10:00:36.417Z"
   },
   {
    "duration": 185,
    "start_time": "2022-06-16T10:00:36.539Z"
   },
   {
    "duration": 11,
    "start_time": "2022-06-16T10:00:36.725Z"
   },
   {
    "duration": 182,
    "start_time": "2022-06-16T10:00:36.738Z"
   },
   {
    "duration": 260,
    "start_time": "2022-06-16T10:00:36.921Z"
   },
   {
    "duration": 53,
    "start_time": "2022-06-16T10:00:37.184Z"
   },
   {
    "duration": 22,
    "start_time": "2022-06-16T10:00:37.239Z"
   },
   {
    "duration": 6,
    "start_time": "2022-06-16T10:00:37.263Z"
   },
   {
    "duration": 25,
    "start_time": "2022-06-16T10:00:37.271Z"
   },
   {
    "duration": 180,
    "start_time": "2022-06-16T10:00:37.298Z"
   },
   {
    "duration": 89,
    "start_time": "2022-06-16T10:00:37.480Z"
   },
   {
    "duration": 3,
    "start_time": "2022-06-16T10:00:37.571Z"
   },
   {
    "duration": 36,
    "start_time": "2022-06-16T10:00:37.576Z"
   },
   {
    "duration": 9,
    "start_time": "2022-06-16T10:00:37.614Z"
   },
   {
    "duration": 44,
    "start_time": "2022-06-16T10:00:37.625Z"
   },
   {
    "duration": 20,
    "start_time": "2022-06-16T10:00:37.671Z"
   },
   {
    "duration": 33,
    "start_time": "2022-06-16T10:00:37.694Z"
   },
   {
    "duration": 163,
    "start_time": "2022-06-16T10:00:37.729Z"
   },
   {
    "duration": 18,
    "start_time": "2022-06-16T10:00:37.894Z"
   },
   {
    "duration": 18,
    "start_time": "2022-06-16T10:00:37.915Z"
   },
   {
    "duration": 24,
    "start_time": "2022-06-16T10:00:37.937Z"
   },
   {
    "duration": 27,
    "start_time": "2022-06-16T10:00:37.965Z"
   },
   {
    "duration": 654,
    "start_time": "2022-06-16T10:00:37.994Z"
   },
   {
    "duration": 47,
    "start_time": "2022-06-16T10:00:38.650Z"
   },
   {
    "duration": 40,
    "start_time": "2022-06-16T10:00:38.699Z"
   },
   {
    "duration": 26,
    "start_time": "2022-06-16T10:00:38.742Z"
   },
   {
    "duration": 12,
    "start_time": "2022-06-16T10:00:38.770Z"
   },
   {
    "duration": 21,
    "start_time": "2022-06-16T10:00:38.785Z"
   },
   {
    "duration": 10,
    "start_time": "2022-06-16T10:00:38.808Z"
   },
   {
    "duration": 1106,
    "start_time": "2022-06-16T10:00:55.885Z"
   },
   {
    "duration": 219,
    "start_time": "2022-06-16T10:00:56.992Z"
   },
   {
    "duration": 183,
    "start_time": "2022-06-16T10:00:57.212Z"
   },
   {
    "duration": 136,
    "start_time": "2022-06-16T10:00:57.399Z"
   },
   {
    "duration": 180,
    "start_time": "2022-06-16T10:00:57.538Z"
   },
   {
    "duration": 12,
    "start_time": "2022-06-16T10:00:57.720Z"
   },
   {
    "duration": 192,
    "start_time": "2022-06-16T10:00:57.735Z"
   },
   {
    "duration": 168,
    "start_time": "2022-06-16T10:00:57.929Z"
   },
   {
    "duration": 54,
    "start_time": "2022-06-16T10:00:58.099Z"
   },
   {
    "duration": 22,
    "start_time": "2022-06-16T10:00:58.156Z"
   },
   {
    "duration": 5,
    "start_time": "2022-06-16T10:00:58.180Z"
   },
   {
    "duration": 8,
    "start_time": "2022-06-16T10:00:58.187Z"
   },
   {
    "duration": 156,
    "start_time": "2022-06-16T10:00:58.198Z"
   },
   {
    "duration": 124,
    "start_time": "2022-06-16T10:00:58.355Z"
   },
   {
    "duration": 4,
    "start_time": "2022-06-16T10:00:58.480Z"
   },
   {
    "duration": 39,
    "start_time": "2022-06-16T10:00:58.486Z"
   },
   {
    "duration": 5,
    "start_time": "2022-06-16T10:00:58.527Z"
   },
   {
    "duration": 50,
    "start_time": "2022-06-16T10:00:58.534Z"
   },
   {
    "duration": 20,
    "start_time": "2022-06-16T10:00:58.587Z"
   },
   {
    "duration": 24,
    "start_time": "2022-06-16T10:00:58.609Z"
   },
   {
    "duration": 156,
    "start_time": "2022-06-16T10:00:58.635Z"
   },
   {
    "duration": 14,
    "start_time": "2022-06-16T10:00:58.793Z"
   },
   {
    "duration": 14,
    "start_time": "2022-06-16T10:00:58.809Z"
   },
   {
    "duration": 16,
    "start_time": "2022-06-16T10:00:58.825Z"
   },
   {
    "duration": 28,
    "start_time": "2022-06-16T10:00:58.844Z"
   },
   {
    "duration": 761,
    "start_time": "2022-06-16T10:00:58.874Z"
   },
   {
    "duration": 39,
    "start_time": "2022-06-16T10:00:59.637Z"
   },
   {
    "duration": 36,
    "start_time": "2022-06-16T10:00:59.680Z"
   },
   {
    "duration": 7,
    "start_time": "2022-06-16T10:00:59.718Z"
   },
   {
    "duration": 24,
    "start_time": "2022-06-16T10:00:59.727Z"
   },
   {
    "duration": 18,
    "start_time": "2022-06-16T10:00:59.752Z"
   },
   {
    "duration": 32,
    "start_time": "2022-06-16T10:00:59.772Z"
   }
  ],
  "kernelspec": {
   "display_name": "Python 3",
   "language": "python",
   "name": "python3"
  },
  "language_info": {
   "codemirror_mode": {
    "name": "ipython",
    "version": 3
   },
   "file_extension": ".py",
   "mimetype": "text/x-python",
   "name": "python",
   "nbconvert_exporter": "python",
   "pygments_lexer": "ipython3",
   "version": "3.8.8"
  },
  "toc": {
   "base_numbering": 1,
   "nav_menu": {
    "height": "131px",
    "width": "247.667px"
   },
   "number_sections": true,
   "sideBar": true,
   "skip_h1_title": true,
   "title_cell": "Table of Contents",
   "title_sidebar": "Contents",
   "toc_cell": false,
   "toc_position": {
    "height": "calc(100% - 180px)",
    "left": "10px",
    "top": "150px",
    "width": "302.5px"
   },
   "toc_section_display": true,
   "toc_window_display": true
  }
 },
 "nbformat": 4,
 "nbformat_minor": 2
}
