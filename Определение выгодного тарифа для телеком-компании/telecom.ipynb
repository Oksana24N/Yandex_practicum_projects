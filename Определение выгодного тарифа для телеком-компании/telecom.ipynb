  {
   "cell_type": "markdown",
   "metadata": {},
   "source": [
    "## Изучение данных из файла"
   ]
  },
  {
   "cell_type": "code",
   "execution_count": 1,
   "metadata": {},
   "outputs": [],
   "source": [
    "#импорт используемых библиотек\n",
    "import pandas as pd\n",
    "import numpy as np\n",
    "import matplotlib.pyplot as plt\n",
    "from scipy import stats as st\n",
    "import seaborn as sns"
   ]
  },
  {
   "cell_type": "markdown",
   "metadata": {},
   "source": [
    "Прочитаем файлы и выведем общую информацию и первые строки таблиц"
   ]
  },
  {
   "cell_type": "markdown",
   "metadata": {},
   "source": [
    "### Таблица `calls` (информация о звонках):\n",
    "- **id** — уникальный номер звонка\n",
    "- **call_date** — дата звонка\n",
    "- **duration** — длительность звонка в минутах\n",
    "- **user_id** — идентификатор пользователя, сделавшего звонок"
   ]
  },
  {
   "cell_type": "code",
   "execution_count": 2,
   "metadata": {},
   "outputs": [
    {
     "name": "stdout",
     "output_type": "stream",
     "text": [
      "<class 'pandas.core.frame.DataFrame'>\n",
      "RangeIndex: 202607 entries, 0 to 202606\n",
      "Data columns (total 4 columns):\n",
      " #   Column     Non-Null Count   Dtype  \n",
      "---  ------     --------------   -----  \n",
      " 0   id         202607 non-null  object \n",
      " 1   call_date  202607 non-null  object \n",
      " 2   duration   202607 non-null  float64\n",
      " 3   user_id    202607 non-null  int64  \n",
      "dtypes: float64(1), int64(1), object(2)\n",
      "memory usage: 6.2+ MB\n"
     ]
    },
    {
     "data": {
      "text/html": [
       "<div>\n",
       "<style scoped>\n",
       "    .dataframe tbody tr th:only-of-type {\n",
       "        vertical-align: middle;\n",
       "    }\n",
       "\n",
       "    .dataframe tbody tr th {\n",
       "        vertical-align: top;\n",
       "    }\n",
       "\n",
       "    .dataframe thead th {\n",
       "        text-align: right;\n",
       "    }\n",
       "</style>\n",
       "<table border=\"1\" class=\"dataframe\">\n",
       "  <thead>\n",
       "    <tr style=\"text-align: right;\">\n",
       "      <th></th>\n",
       "      <th>id</th>\n",
       "      <th>call_date</th>\n",
       "      <th>duration</th>\n",
       "      <th>user_id</th>\n",
       "    </tr>\n",
       "  </thead>\n",
       "  <tbody>\n",
       "    <tr>\n",
       "      <th>0</th>\n",
       "      <td>1000_0</td>\n",
       "      <td>2018-07-25</td>\n",
       "      <td>0.00</td>\n",
       "      <td>1000</td>\n",
       "    </tr>\n",
       "    <tr>\n",
       "      <th>1</th>\n",
       "      <td>1000_1</td>\n",
       "      <td>2018-08-17</td>\n",
       "      <td>0.00</td>\n",
       "      <td>1000</td>\n",
       "    </tr>\n",
       "    <tr>\n",
       "      <th>2</th>\n",
       "      <td>1000_2</td>\n",
       "      <td>2018-06-11</td>\n",
       "      <td>2.85</td>\n",
       "      <td>1000</td>\n",
       "    </tr>\n",
       "    <tr>\n",
       "      <th>3</th>\n",
       "      <td>1000_3</td>\n",
       "      <td>2018-09-21</td>\n",
       "      <td>13.80</td>\n",
       "      <td>1000</td>\n",
       "    </tr>\n",
       "    <tr>\n",
       "      <th>4</th>\n",
       "      <td>1000_4</td>\n",
       "      <td>2018-12-15</td>\n",
       "      <td>5.18</td>\n",
       "      <td>1000</td>\n",
       "    </tr>\n",
       "  </tbody>\n",
       "</table>\n",
       "</div>"
      ],
      "text/plain": [
       "       id   call_date  duration  user_id\n",
       "0  1000_0  2018-07-25      0.00     1000\n",
       "1  1000_1  2018-08-17      0.00     1000\n",
       "2  1000_2  2018-06-11      2.85     1000\n",
       "3  1000_3  2018-09-21     13.80     1000\n",
       "4  1000_4  2018-12-15      5.18     1000"
      ]
     },
     "execution_count": 2,
     "metadata": {},
     "output_type": "execute_result"
    }
   ],
   "source": [
    "data_calls = pd.read_csv('/datasets/calls.csv')\n",
    "data_calls.info()\n",
    "data_calls.head()"
   ]
  },
  {
   "cell_type": "code",
   "execution_count": 3,
   "metadata": {},
   "outputs": [
    {
     "data": {
      "image/png": "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\n",
      "text/plain": [
       "<Figure size 432x288 with 1 Axes>"
      ]
     },
     "metadata": {
      "needs_background": "light"
     },
     "output_type": "display_data"
    }
   ],
   "source": [
    "data_calls['duration'].hist(grid=False)\n",
    "plt.show()"
   ]
  },
  {
   "cell_type": "markdown",
   "metadata": {},
   "source": [
    "### Таблица `messages` (информация о сообщениях):\n",
    "- **id** — уникальный номер сообщения\n",
    "- **message_date** — дата сообщения\n",
    "- **user_id** — идентификатор пользователя, отправившего сообщение"
   ]
  },
  {
   "cell_type": "code",
   "execution_count": 4,
   "metadata": {},
   "outputs": [
    {
     "name": "stdout",
     "output_type": "stream",
     "text": [
      "<class 'pandas.core.frame.DataFrame'>\n",
      "RangeIndex: 123036 entries, 0 to 123035\n",
      "Data columns (total 3 columns):\n",
      " #   Column        Non-Null Count   Dtype \n",
      "---  ------        --------------   ----- \n",
      " 0   id            123036 non-null  object\n",
      " 1   message_date  123036 non-null  object\n",
      " 2   user_id       123036 non-null  int64 \n",
      "dtypes: int64(1), object(2)\n",
      "memory usage: 2.8+ MB\n"
     ]
    },
    {
     "data": {
      "text/html": [
       "<div>\n",
       "<style scoped>\n",
       "    .dataframe tbody tr th:only-of-type {\n",
       "        vertical-align: middle;\n",
       "    }\n",
       "\n",
       "    .dataframe tbody tr th {\n",
       "        vertical-align: top;\n",
       "    }\n",
       "\n",
       "    .dataframe thead th {\n",
       "        text-align: right;\n",
       "    }\n",
       "</style>\n",
       "<table border=\"1\" class=\"dataframe\">\n",
       "  <thead>\n",
       "    <tr style=\"text-align: right;\">\n",
       "      <th></th>\n",
       "      <th>id</th>\n",
       "      <th>message_date</th>\n",
       "      <th>user_id</th>\n",
       "    </tr>\n",
       "  </thead>\n",
       "  <tbody>\n",
       "    <tr>\n",
       "      <th>0</th>\n",
       "      <td>1000_0</td>\n",
       "      <td>2018-06-27</td>\n",
       "      <td>1000</td>\n",
       "    </tr>\n",
       "    <tr>\n",
       "      <th>1</th>\n",
       "      <td>1000_1</td>\n",
       "      <td>2018-10-08</td>\n",
       "      <td>1000</td>\n",
       "    </tr>\n",
       "    <tr>\n",
       "      <th>2</th>\n",
       "      <td>1000_2</td>\n",
       "      <td>2018-08-04</td>\n",
       "      <td>1000</td>\n",
       "    </tr>\n",
       "    <tr>\n",
       "      <th>3</th>\n",
       "      <td>1000_3</td>\n",
       "      <td>2018-06-16</td>\n",
       "      <td>1000</td>\n",
       "    </tr>\n",
       "    <tr>\n",
       "      <th>4</th>\n",
       "      <td>1000_4</td>\n",
       "      <td>2018-12-05</td>\n",
       "      <td>1000</td>\n",
       "    </tr>\n",
       "  </tbody>\n",
       "</table>\n",
       "</div>"
      ],
      "text/plain": [
       "       id message_date  user_id\n",
       "0  1000_0   2018-06-27     1000\n",
       "1  1000_1   2018-10-08     1000\n",
       "2  1000_2   2018-08-04     1000\n",
       "3  1000_3   2018-06-16     1000\n",
       "4  1000_4   2018-12-05     1000"
      ]
     },
     "execution_count": 4,
     "metadata": {},
     "output_type": "execute_result"
    }
   ],
   "source": [
    "data_msg = pd.read_csv('/datasets/messages.csv')\n",
    "data_msg.info()\n",
    "data_msg.head()\n"
   ]
  },
  {
   "cell_type": "markdown",
   "metadata": {},
   "source": [
    "### Таблица `internet` (информация об интернет-сессиях):\n",
    "- **id** — уникальный номер сессии\n",
    "- **mb_used** — объём потраченного за сессию интернет-трафика (в мегабайтах)\n",
    "- **session_date** — дата интернет-сессии\n",
    "- **user_id** — идентификатор пользователя"
   ]
  },
  {
   "cell_type": "code",
   "execution_count": 7,
   "metadata": {},
   "outputs": [
    {
     "name": "stdout",
     "output_type": "stream",
     "text": [
      "<class 'pandas.core.frame.DataFrame'>\n",
      "Int64Index: 149396 entries, 0 to 149395\n",
      "Data columns (total 4 columns):\n",
      " #   Column        Non-Null Count   Dtype  \n",
      "---  ------        --------------   -----  \n",
      " 0   id            149396 non-null  object \n",
      " 1   mb_used       149396 non-null  float64\n",
      " 2   session_date  149396 non-null  object \n",
      " 3   user_id       149396 non-null  int64  \n",
      "dtypes: float64(1), int64(1), object(2)\n",
      "memory usage: 5.7+ MB\n"
     ]
    },
    {
     "data": {
      "text/html": [
       "<div>\n",
       "<style scoped>\n",
       "    .dataframe tbody tr th:only-of-type {\n",
       "        vertical-align: middle;\n",
       "    }\n",
       "\n",
       "    .dataframe tbody tr th {\n",
       "        vertical-align: top;\n",
       "    }\n",
       "\n",
       "    .dataframe thead th {\n",
       "        text-align: right;\n",
       "    }\n",
       "</style>\n",
       "<table border=\"1\" class=\"dataframe\">\n",
       "  <thead>\n",
       "    <tr style=\"text-align: right;\">\n",
       "      <th></th>\n",
       "      <th>id</th>\n",
       "      <th>mb_used</th>\n",
       "      <th>session_date</th>\n",
       "      <th>user_id</th>\n",
       "    </tr>\n",
       "  </thead>\n",
       "  <tbody>\n",
       "    <tr>\n",
       "      <th>0</th>\n",
       "      <td>1000_0</td>\n",
       "      <td>112.95</td>\n",
       "      <td>2018-11-25</td>\n",
       "      <td>1000</td>\n",
       "    </tr>\n",
       "    <tr>\n",
       "      <th>1</th>\n",
       "      <td>1000_1</td>\n",
       "      <td>1052.81</td>\n",
       "      <td>2018-09-07</td>\n",
       "      <td>1000</td>\n",
       "    </tr>\n",
       "    <tr>\n",
       "      <th>2</th>\n",
       "      <td>1000_2</td>\n",
       "      <td>1197.26</td>\n",
       "      <td>2018-06-25</td>\n",
       "      <td>1000</td>\n",
       "    </tr>\n",
       "    <tr>\n",
       "      <th>3</th>\n",
       "      <td>1000_3</td>\n",
       "      <td>550.27</td>\n",
       "      <td>2018-08-22</td>\n",
       "      <td>1000</td>\n",
       "    </tr>\n",
       "    <tr>\n",
       "      <th>4</th>\n",
       "      <td>1000_4</td>\n",
       "      <td>302.56</td>\n",
       "      <td>2018-09-24</td>\n",
       "      <td>1000</td>\n",
       "    </tr>\n",
       "  </tbody>\n",
       "</table>\n",
       "</div>"
      ],
      "text/plain": [
       "       id  mb_used session_date  user_id\n",
       "0  1000_0   112.95   2018-11-25     1000\n",
       "1  1000_1  1052.81   2018-09-07     1000\n",
       "2  1000_2  1197.26   2018-06-25     1000\n",
       "3  1000_3   550.27   2018-08-22     1000\n",
       "4  1000_4   302.56   2018-09-24     1000"
      ]
     },
     "execution_count": 7,
     "metadata": {},
     "output_type": "execute_result"
    }
   ],
   "source": [
    "data_int = pd.read_csv('/datasets/internet.csv', index_col=0)\n",
    "data_int.info()\n",
    "data_int.head()"
   ]
  },
  {
   "cell_type": "code",
   "execution_count": 8,
   "metadata": {},
   "outputs": [
    {
     "data": {
      "image/png": "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\n",
      "text/plain": [
       "<Figure size 432x288 with 1 Axes>"
      ]
     },
     "metadata": {
      "needs_background": "light"
     },
     "output_type": "display_data"
    }
   ],
   "source": [
    "data_int['mb_used'].hist(grid=False)\n",
    "plt.show()"
   ]
  },
  {
   "cell_type": "markdown",
   "metadata": {},
   "source": [
    "### Таблица `users` (информация о пользователях):\n",
    "- **user_id** — уникальный идентификатор пользователя\n",
    "- **first_name** — имя пользователя\n",
    "- **last_name** — фамилия пользователя\n",
    "- **age** — возраст пользователя (годы)\n",
    "- **reg_date** — дата подключения тарифа (день, месяц, год)\n",
    "- **churn_date** — дата прекращения пользования тарифом (если значение пропущено, то тариф ещё действовал на момент выгрузки данных)\n",
    "- **city** — город проживания пользователя\n",
    "- **tarif** — название тарифного плана"
   ]
  },
  {
   "cell_type": "code",
   "execution_count": 9,
   "metadata": {},
   "outputs": [
    {
     "name": "stdout",
     "output_type": "stream",
     "text": [
      "<class 'pandas.core.frame.DataFrame'>\n",
      "RangeIndex: 500 entries, 0 to 499\n",
      "Data columns (total 8 columns):\n",
      " #   Column      Non-Null Count  Dtype \n",
      "---  ------      --------------  ----- \n",
      " 0   user_id     500 non-null    int64 \n",
      " 1   age         500 non-null    int64 \n",
      " 2   churn_date  38 non-null     object\n",
      " 3   city        500 non-null    object\n",
      " 4   first_name  500 non-null    object\n",
      " 5   last_name   500 non-null    object\n",
      " 6   reg_date    500 non-null    object\n",
      " 7   tariff      500 non-null    object\n",
      "dtypes: int64(2), object(6)\n",
      "memory usage: 31.4+ KB\n"
     ]
    },
    {
     "data": {
      "text/html": [
       "<div>\n",
       "<style scoped>\n",
       "    .dataframe tbody tr th:only-of-type {\n",
       "        vertical-align: middle;\n",
       "    }\n",
       "\n",
       "    .dataframe tbody tr th {\n",
       "        vertical-align: top;\n",
       "    }\n",
       "\n",
       "    .dataframe thead th {\n",
       "        text-align: right;\n",
       "    }\n",
       "</style>\n",
       "<table border=\"1\" class=\"dataframe\">\n",
       "  <thead>\n",
       "    <tr style=\"text-align: right;\">\n",
       "      <th></th>\n",
       "      <th>user_id</th>\n",
       "      <th>age</th>\n",
       "      <th>churn_date</th>\n",
       "      <th>city</th>\n",
       "      <th>first_name</th>\n",
       "      <th>last_name</th>\n",
       "      <th>reg_date</th>\n",
       "      <th>tariff</th>\n",
       "    </tr>\n",
       "  </thead>\n",
       "  <tbody>\n",
       "    <tr>\n",
       "      <th>0</th>\n",
       "      <td>1000</td>\n",
       "      <td>52</td>\n",
       "      <td>NaN</td>\n",
       "      <td>Краснодар</td>\n",
       "      <td>Рафаил</td>\n",
       "      <td>Верещагин</td>\n",
       "      <td>2018-05-25</td>\n",
       "      <td>ultra</td>\n",
       "    </tr>\n",
       "    <tr>\n",
       "      <th>1</th>\n",
       "      <td>1001</td>\n",
       "      <td>41</td>\n",
       "      <td>NaN</td>\n",
       "      <td>Москва</td>\n",
       "      <td>Иван</td>\n",
       "      <td>Ежов</td>\n",
       "      <td>2018-11-01</td>\n",
       "      <td>smart</td>\n",
       "    </tr>\n",
       "    <tr>\n",
       "      <th>2</th>\n",
       "      <td>1002</td>\n",
       "      <td>59</td>\n",
       "      <td>NaN</td>\n",
       "      <td>Стерлитамак</td>\n",
       "      <td>Евгений</td>\n",
       "      <td>Абрамович</td>\n",
       "      <td>2018-06-17</td>\n",
       "      <td>smart</td>\n",
       "    </tr>\n",
       "    <tr>\n",
       "      <th>3</th>\n",
       "      <td>1003</td>\n",
       "      <td>23</td>\n",
       "      <td>NaN</td>\n",
       "      <td>Москва</td>\n",
       "      <td>Белла</td>\n",
       "      <td>Белякова</td>\n",
       "      <td>2018-08-17</td>\n",
       "      <td>ultra</td>\n",
       "    </tr>\n",
       "    <tr>\n",
       "      <th>4</th>\n",
       "      <td>1004</td>\n",
       "      <td>68</td>\n",
       "      <td>NaN</td>\n",
       "      <td>Новокузнецк</td>\n",
       "      <td>Татьяна</td>\n",
       "      <td>Авдеенко</td>\n",
       "      <td>2018-05-14</td>\n",
       "      <td>ultra</td>\n",
       "    </tr>\n",
       "  </tbody>\n",
       "</table>\n",
       "</div>"
      ],
      "text/plain": [
       "   user_id  age churn_date         city first_name  last_name    reg_date  \\\n",
       "0     1000   52        NaN    Краснодар     Рафаил  Верещагин  2018-05-25   \n",
       "1     1001   41        NaN       Москва       Иван       Ежов  2018-11-01   \n",
       "2     1002   59        NaN  Стерлитамак    Евгений  Абрамович  2018-06-17   \n",
       "3     1003   23        NaN       Москва      Белла   Белякова  2018-08-17   \n",
       "4     1004   68        NaN  Новокузнецк    Татьяна   Авдеенко  2018-05-14   \n",
       "\n",
       "  tariff  \n",
       "0  ultra  \n",
       "1  smart  \n",
       "2  smart  \n",
       "3  ultra  \n",
       "4  ultra  "
      ]
     },
     "execution_count": 9,
     "metadata": {},
     "output_type": "execute_result"
    }
   ],
   "source": [
    "data_user = pd.read_csv('/datasets/users.csv')\n",
    "data_user.info()\n",
    "data_user.head()"
   ]
  },
  {
   "cell_type": "markdown",
   "metadata": {},
   "source": [
    "### Таблица `tariffs` (информация о тарифах):\n",
    "- **tariff_name** — название тарифа\n",
    "- **rub_monthly_fee** — ежемесячная абонентская плата в рублях\n",
    "- **minutes_included** — количество минут разговора в месяц, включённых в абонентскую плату\n",
    "- **messages_included** — количество сообщений в месяц, включённых в абонентскую плату\n",
    "- **mb_per_month_included** — объём интернет-трафика, включённого в абонентскую плату (в мегабайтах)\n",
    "- **rub_per_minute** — стоимость минуты разговора сверх тарифного пакета (например, если в тарифе 100 минут разговора в месяц, то со 101 минуты будет взиматься плата)\n",
    "- **rub_per_message** — стоимость отправки сообщения сверх тарифного пакета\n",
    "- **rub_per_gb** — стоимость дополнительного гигабайта интернет-трафика сверх тарифного пакета (1 гигабайт = 1024 мегабайта)"
   ]
  },
  {
   "cell_type": "code",
   "execution_count": 10,
   "metadata": {},
   "outputs": [
    {
     "data": {
      "text/html": [
       "<div>\n",
       "<style scoped>\n",
       "    .dataframe tbody tr th:only-of-type {\n",
       "        vertical-align: middle;\n",
       "    }\n",
       "\n",
       "    .dataframe tbody tr th {\n",
       "        vertical-align: top;\n",
       "    }\n",
       "\n",
       "    .dataframe thead th {\n",
       "        text-align: right;\n",
       "    }\n",
       "</style>\n",
       "<table border=\"1\" class=\"dataframe\">\n",
       "  <thead>\n",
       "    <tr style=\"text-align: right;\">\n",
       "      <th></th>\n",
       "      <th>messages_included</th>\n",
       "      <th>mb_per_month_included</th>\n",
       "      <th>minutes_included</th>\n",
       "      <th>rub_monthly_fee</th>\n",
       "      <th>rub_per_gb</th>\n",
       "      <th>rub_per_message</th>\n",
       "      <th>rub_per_minute</th>\n",
       "      <th>tariff_name</th>\n",
       "    </tr>\n",
       "  </thead>\n",
       "  <tbody>\n",
       "    <tr>\n",
       "      <th>0</th>\n",
       "      <td>50</td>\n",
       "      <td>15360</td>\n",
       "      <td>500</td>\n",
       "      <td>550</td>\n",
       "      <td>200</td>\n",
       "      <td>3</td>\n",
       "      <td>3</td>\n",
       "      <td>smart</td>\n",
       "    </tr>\n",
       "    <tr>\n",
       "      <th>1</th>\n",
       "      <td>1000</td>\n",
       "      <td>30720</td>\n",
       "      <td>3000</td>\n",
       "      <td>1950</td>\n",
       "      <td>150</td>\n",
       "      <td>1</td>\n",
       "      <td>1</td>\n",
       "      <td>ultra</td>\n",
       "    </tr>\n",
       "  </tbody>\n",
       "</table>\n",
       "</div>"
      ],
      "text/plain": [
       "   messages_included  mb_per_month_included  minutes_included  \\\n",
       "0                 50                  15360               500   \n",
       "1               1000                  30720              3000   \n",
       "\n",
       "   rub_monthly_fee  rub_per_gb  rub_per_message  rub_per_minute tariff_name  \n",
       "0              550         200                3               3       smart  \n",
       "1             1950         150                1               1       ultra  "
      ]
     },
     "execution_count": 10,
     "metadata": {},
     "output_type": "execute_result"
    }
   ],
   "source": [
    "tariff = pd.read_csv('/datasets/tariffs.csv')\n",
    "tariff.head()"
   ]
  },
  {
   "cell_type": "markdown",
   "metadata": {},
   "source": [
    "### Вывод\n",
    "\n",
    "Таблицы содержат информацию о включенных в тарифы пакетах, данные об абонентах и израсходованных пакетах по каждому абоненту. Значения пропущены только в одном столбце таблицы `users`. Будем считать, что, если в столбце нет информации о дате прекращения пользования тарифом, значит тариф еще действует, и такие пропуски ничем не заполняются. В столбцах с датами предстоит заменить тип данных `object` на `datetime`. Данные трафика интернета и длительности звонков содержат много нулевых значений "
   ]
  },
  {
   "cell_type": "markdown",
   "metadata": {},
   "source": [
    "## Предобработка данных"
   ]
  },
  {
   "cell_type": "markdown",
   "metadata": {},
   "source": [
    "Известно, что каждый звонок округляется до целых минут, поэтому округлим значения в столце `duration` до целых в большую сторону"
   ]
  },
  {
   "cell_type": "code",
   "execution_count": 12,
   "metadata": {},
   "outputs": [],
   "source": [
    "data_calls['duration'] = np.ceil(data_calls['duration']) #округление вверх"
   ]
  },
  {
   "cell_type": "markdown",
   "metadata": {},
   "source": [
    "С помощью цикла заменим тип данных в столбцах с датами в таблицах `data_calls, data_msg, data_int` и добавим в каждую таблицу столбец с указанием номера месяца по каждому действию"
   ]
  },
  {
   "cell_type": "code",
   "execution_count": 13,
   "metadata": {},
   "outputs": [
    {
     "data": {
      "text/html": [
       "<div>\n",
       "<style scoped>\n",
       "    .dataframe tbody tr th:only-of-type {\n",
       "        vertical-align: middle;\n",
       "    }\n",
       "\n",
       "    .dataframe tbody tr th {\n",
       "        vertical-align: top;\n",
       "    }\n",
       "\n",
       "    .dataframe thead th {\n",
       "        text-align: right;\n",
       "    }\n",
       "</style>\n",
       "<table border=\"1\" class=\"dataframe\">\n",
       "  <thead>\n",
       "    <tr style=\"text-align: right;\">\n",
       "      <th></th>\n",
       "      <th>id</th>\n",
       "      <th>call_date</th>\n",
       "      <th>duration</th>\n",
       "      <th>user_id</th>\n",
       "      <th>month</th>\n",
       "    </tr>\n",
       "  </thead>\n",
       "  <tbody>\n",
       "    <tr>\n",
       "      <th>0</th>\n",
       "      <td>1000_0</td>\n",
       "      <td>2018-07-25</td>\n",
       "      <td>0.0</td>\n",
       "      <td>1000</td>\n",
       "      <td>7</td>\n",
       "    </tr>\n",
       "    <tr>\n",
       "      <th>1</th>\n",
       "      <td>1000_1</td>\n",
       "      <td>2018-08-17</td>\n",
       "      <td>0.0</td>\n",
       "      <td>1000</td>\n",
       "      <td>8</td>\n",
       "    </tr>\n",
       "    <tr>\n",
       "      <th>2</th>\n",
       "      <td>1000_2</td>\n",
       "      <td>2018-06-11</td>\n",
       "      <td>3.0</td>\n",
       "      <td>1000</td>\n",
       "      <td>6</td>\n",
       "    </tr>\n",
       "    <tr>\n",
       "      <th>3</th>\n",
       "      <td>1000_3</td>\n",
       "      <td>2018-09-21</td>\n",
       "      <td>14.0</td>\n",
       "      <td>1000</td>\n",
       "      <td>9</td>\n",
       "    </tr>\n",
       "    <tr>\n",
       "      <th>4</th>\n",
       "      <td>1000_4</td>\n",
       "      <td>2018-12-15</td>\n",
       "      <td>6.0</td>\n",
       "      <td>1000</td>\n",
       "      <td>12</td>\n",
       "    </tr>\n",
       "  </tbody>\n",
       "</table>\n",
       "</div>"
      ],
      "text/plain": [
       "       id  call_date  duration  user_id  month\n",
       "0  1000_0 2018-07-25       0.0     1000      7\n",
       "1  1000_1 2018-08-17       0.0     1000      8\n",
       "2  1000_2 2018-06-11       3.0     1000      6\n",
       "3  1000_3 2018-09-21      14.0     1000      9\n",
       "4  1000_4 2018-12-15       6.0     1000     12"
      ]
     },
     "metadata": {},
     "output_type": "display_data"
    },
    {
     "data": {
      "text/html": [
       "<div>\n",
       "<style scoped>\n",
       "    .dataframe tbody tr th:only-of-type {\n",
       "        vertical-align: middle;\n",
       "    }\n",
       "\n",
       "    .dataframe tbody tr th {\n",
       "        vertical-align: top;\n",
       "    }\n",
       "\n",
       "    .dataframe thead th {\n",
       "        text-align: right;\n",
       "    }\n",
       "</style>\n",
       "<table border=\"1\" class=\"dataframe\">\n",
       "  <thead>\n",
       "    <tr style=\"text-align: right;\">\n",
       "      <th></th>\n",
       "      <th>id</th>\n",
       "      <th>message_date</th>\n",
       "      <th>user_id</th>\n",
       "      <th>month</th>\n",
       "    </tr>\n",
       "  </thead>\n",
       "  <tbody>\n",
       "    <tr>\n",
       "      <th>0</th>\n",
       "      <td>1000_0</td>\n",
       "      <td>2018-06-27</td>\n",
       "      <td>1000</td>\n",
       "      <td>6</td>\n",
       "    </tr>\n",
       "    <tr>\n",
       "      <th>1</th>\n",
       "      <td>1000_1</td>\n",
       "      <td>2018-10-08</td>\n",
       "      <td>1000</td>\n",
       "      <td>10</td>\n",
       "    </tr>\n",
       "    <tr>\n",
       "      <th>2</th>\n",
       "      <td>1000_2</td>\n",
       "      <td>2018-08-04</td>\n",
       "      <td>1000</td>\n",
       "      <td>8</td>\n",
       "    </tr>\n",
       "    <tr>\n",
       "      <th>3</th>\n",
       "      <td>1000_3</td>\n",
       "      <td>2018-06-16</td>\n",
       "      <td>1000</td>\n",
       "      <td>6</td>\n",
       "    </tr>\n",
       "    <tr>\n",
       "      <th>4</th>\n",
       "      <td>1000_4</td>\n",
       "      <td>2018-12-05</td>\n",
       "      <td>1000</td>\n",
       "      <td>12</td>\n",
       "    </tr>\n",
       "  </tbody>\n",
       "</table>\n",
       "</div>"
      ],
      "text/plain": [
       "       id message_date  user_id  month\n",
       "0  1000_0   2018-06-27     1000      6\n",
       "1  1000_1   2018-10-08     1000     10\n",
       "2  1000_2   2018-08-04     1000      8\n",
       "3  1000_3   2018-06-16     1000      6\n",
       "4  1000_4   2018-12-05     1000     12"
      ]
     },
     "metadata": {},
     "output_type": "display_data"
    },
    {
     "data": {
      "text/html": [
       "<div>\n",
       "<style scoped>\n",
       "    .dataframe tbody tr th:only-of-type {\n",
       "        vertical-align: middle;\n",
       "    }\n",
       "\n",
       "    .dataframe tbody tr th {\n",
       "        vertical-align: top;\n",
       "    }\n",
       "\n",
       "    .dataframe thead th {\n",
       "        text-align: right;\n",
       "    }\n",
       "</style>\n",
       "<table border=\"1\" class=\"dataframe\">\n",
       "  <thead>\n",
       "    <tr style=\"text-align: right;\">\n",
       "      <th></th>\n",
       "      <th>id</th>\n",
       "      <th>mb_used</th>\n",
       "      <th>session_date</th>\n",
       "      <th>user_id</th>\n",
       "      <th>month</th>\n",
       "    </tr>\n",
       "  </thead>\n",
       "  <tbody>\n",
       "    <tr>\n",
       "      <th>0</th>\n",
       "      <td>1000_0</td>\n",
       "      <td>112.95</td>\n",
       "      <td>2018-11-25</td>\n",
       "      <td>1000</td>\n",
       "      <td>11</td>\n",
       "    </tr>\n",
       "    <tr>\n",
       "      <th>1</th>\n",
       "      <td>1000_1</td>\n",
       "      <td>1052.81</td>\n",
       "      <td>2018-09-07</td>\n",
       "      <td>1000</td>\n",
       "      <td>9</td>\n",
       "    </tr>\n",
       "    <tr>\n",
       "      <th>2</th>\n",
       "      <td>1000_2</td>\n",
       "      <td>1197.26</td>\n",
       "      <td>2018-06-25</td>\n",
       "      <td>1000</td>\n",
       "      <td>6</td>\n",
       "    </tr>\n",
       "    <tr>\n",
       "      <th>3</th>\n",
       "      <td>1000_3</td>\n",
       "      <td>550.27</td>\n",
       "      <td>2018-08-22</td>\n",
       "      <td>1000</td>\n",
       "      <td>8</td>\n",
       "    </tr>\n",
       "    <tr>\n",
       "      <th>4</th>\n",
       "      <td>1000_4</td>\n",
       "      <td>302.56</td>\n",
       "      <td>2018-09-24</td>\n",
       "      <td>1000</td>\n",
       "      <td>9</td>\n",
       "    </tr>\n",
       "  </tbody>\n",
       "</table>\n",
       "</div>"
      ],
      "text/plain": [
       "       id  mb_used session_date  user_id  month\n",
       "0  1000_0   112.95   2018-11-25     1000     11\n",
       "1  1000_1  1052.81   2018-09-07     1000      9\n",
       "2  1000_2  1197.26   2018-06-25     1000      6\n",
       "3  1000_3   550.27   2018-08-22     1000      8\n",
       "4  1000_4   302.56   2018-09-24     1000      9"
      ]
     },
     "metadata": {},
     "output_type": "display_data"
    }
   ],
   "source": [
    "tables = [data_calls, data_msg, data_int] #список таблиц\n",
    "#цикл находит в наименовании столбцов каждой таблицы 'date', меняет тип данных столбца на 'datetime', создает новый столбец с\n",
    "#номером месяца и выводит первые строки новой таблицы\n",
    "for table in tables: \n",
    "    for name in table.columns: \n",
    "        if 'date' in name: \n",
    "            table[name] = pd.to_datetime(table[name], format='%Y-%m-%d')\n",
    "            table['month'] = pd.DatetimeIndex(table[name]).month\n",
    "            display(table.head())"
   ]
  },
  {
   "cell_type": "markdown",
   "metadata": {},
   "source": [
    "Посчитаем общее количество отправленных смс, продолжительность звонком и использованный трафик интернета по каждому абоненту помесячно"
   ]
  },
  {
   "cell_type": "code",
   "execution_count": 14,
   "metadata": {},
   "outputs": [],
   "source": [
    "#сводные таблицы по видам услуг по каждому абоненту помесячно\n",
    "internet = data_int.pivot_table(index=['user_id','month'], values='mb_used', aggfunc='sum')\n",
    "messages = data_msg.pivot_table(index=['user_id','month'], values='id', aggfunc='count')\n",
    "calls = data_calls.pivot_table(index=['user_id','month'], values='duration', aggfunc='sum')"
   ]
  },
  {
   "cell_type": "markdown",
   "metadata": {},
   "source": [
    "Объеденим сводные таблицы с помощью метода `reduce` с параметром `outer`, чтобы сохранить все строки таблиц"
   ]
  },
  {
   "cell_type": "code",
   "execution_count": 16,
   "metadata": {},
   "outputs": [
    {
     "data": {
      "text/html": [
       "<div>\n",
       "<style scoped>\n",
       "    .dataframe tbody tr th:only-of-type {\n",
       "        vertical-align: middle;\n",
       "    }\n",
       "\n",
       "    .dataframe tbody tr th {\n",
       "        vertical-align: top;\n",
       "    }\n",
       "\n",
       "    .dataframe thead th {\n",
       "        text-align: right;\n",
       "    }\n",
       "</style>\n",
       "<table border=\"1\" class=\"dataframe\">\n",
       "  <thead>\n",
       "    <tr style=\"text-align: right;\">\n",
       "      <th></th>\n",
       "      <th>user_id</th>\n",
       "      <th>month</th>\n",
       "      <th>mb_used</th>\n",
       "      <th>msg_sent</th>\n",
       "      <th>duration</th>\n",
       "    </tr>\n",
       "  </thead>\n",
       "  <tbody>\n",
       "    <tr>\n",
       "      <th>0</th>\n",
       "      <td>1000</td>\n",
       "      <td>5</td>\n",
       "      <td>2253.49</td>\n",
       "      <td>22.0</td>\n",
       "      <td>159.0</td>\n",
       "    </tr>\n",
       "    <tr>\n",
       "      <th>1</th>\n",
       "      <td>1000</td>\n",
       "      <td>6</td>\n",
       "      <td>23233.77</td>\n",
       "      <td>60.0</td>\n",
       "      <td>172.0</td>\n",
       "    </tr>\n",
       "    <tr>\n",
       "      <th>2</th>\n",
       "      <td>1000</td>\n",
       "      <td>7</td>\n",
       "      <td>14003.64</td>\n",
       "      <td>75.0</td>\n",
       "      <td>340.0</td>\n",
       "    </tr>\n",
       "    <tr>\n",
       "      <th>3</th>\n",
       "      <td>1000</td>\n",
       "      <td>8</td>\n",
       "      <td>14055.93</td>\n",
       "      <td>81.0</td>\n",
       "      <td>408.0</td>\n",
       "    </tr>\n",
       "    <tr>\n",
       "      <th>4</th>\n",
       "      <td>1000</td>\n",
       "      <td>9</td>\n",
       "      <td>14568.91</td>\n",
       "      <td>57.0</td>\n",
       "      <td>466.0</td>\n",
       "    </tr>\n",
       "  </tbody>\n",
       "</table>\n",
       "</div>"
      ],
      "text/plain": [
       "   user_id  month   mb_used  msg_sent  duration\n",
       "0     1000      5   2253.49      22.0     159.0\n",
       "1     1000      6  23233.77      60.0     172.0\n",
       "2     1000      7  14003.64      75.0     340.0\n",
       "3     1000      8  14055.93      81.0     408.0\n",
       "4     1000      9  14568.91      57.0     466.0"
      ]
     },
     "execution_count": 16,
     "metadata": {},
     "output_type": "execute_result"
    }
   ],
   "source": [
    "from functools import reduce\n",
    "int_msg_call =  reduce(lambda  left,right: pd.merge(left,right,on=['user_id', 'month'],\n",
    "                                            how='outer'), [internet, messages, calls]).reset_index()\n",
    "int_msg_call.columns = ['user_id', 'month', 'mb_used', 'msg_sent', 'duration']\n",
    "int_msg_call.head()"
   ]
  },
  {
   "cell_type": "markdown",
   "metadata": {},
   "source": [
    "Известно, что оператор округляет значения использованного трафика за месяц в большую сторону до целых Гб. Переведем значения столбца `mb_used` в ГБ, оклуглим их в большую сторону и переименуем столбец "
   ]
  },
  {
   "cell_type": "code",
   "execution_count": 17,
   "metadata": {},
   "outputs": [],
   "source": [
    "int_msg_call['mb_used'] = (int_msg_call['mb_used'] / 1024).apply(np.ceil) #Мб в Гб и округление в большую сторону\n",
    "int_msg_call = int_msg_call.rename(columns={'mb_used': 'gb_used'}) #переименование столбца"
   ]
  },
  {
   "cell_type": "markdown",
   "metadata": {},
   "source": [
    "Добавим в сводную таблицу информацию по абонентам с помощью метода `merge`"
   ]
  },
  {
   "cell_type": "code",
   "execution_count": 18,
   "metadata": {},
   "outputs": [
    {
     "name": "stdout",
     "output_type": "stream",
     "text": [
      "<class 'pandas.core.frame.DataFrame'>\n",
      "Int64Index: 3216 entries, 0 to 3215\n",
      "Data columns (total 12 columns):\n",
      " #   Column      Non-Null Count  Dtype  \n",
      "---  ------      --------------  -----  \n",
      " 0   user_id     3216 non-null   int64  \n",
      " 1   month       3214 non-null   float64\n",
      " 2   gb_used     3203 non-null   float64\n",
      " 3   msg_sent    2717 non-null   float64\n",
      " 4   duration    3174 non-null   float64\n",
      " 5   age         3216 non-null   int64  \n",
      " 6   churn_date  189 non-null    object \n",
      " 7   city        3216 non-null   object \n",
      " 8   first_name  3216 non-null   object \n",
      " 9   last_name   3216 non-null   object \n",
      " 10  reg_date    3216 non-null   object \n",
      " 11  tariff      3216 non-null   object \n",
      "dtypes: float64(4), int64(2), object(6)\n",
      "memory usage: 326.6+ KB\n"
     ]
    }
   ],
   "source": [
    "data = int_msg_call.merge(data_user, on=['user_id'], how='outer')\n",
    "data.info()"
   ]
  },
  {
   "cell_type": "markdown",
   "metadata": {},
   "source": [
    "Так как не у всех абонентов есть информация по всем видам услуг в месяце, в таблице появились пропуски. Заменим пропуски на ноль и удалим две строки, где нет данных о месяце"
   ]
  },
  {
   "cell_type": "code",
   "execution_count": 19,
   "metadata": {},
   "outputs": [
    {
     "name": "stdout",
     "output_type": "stream",
     "text": [
      "<class 'pandas.core.frame.DataFrame'>\n",
      "Int64Index: 3214 entries, 0 to 3213\n",
      "Data columns (total 12 columns):\n",
      " #   Column      Non-Null Count  Dtype  \n",
      "---  ------      --------------  -----  \n",
      " 0   user_id     3214 non-null   int64  \n",
      " 1   month       3214 non-null   float64\n",
      " 2   gb_used     3214 non-null   float64\n",
      " 3   msg_sent    3214 non-null   float64\n",
      " 4   duration    3214 non-null   float64\n",
      " 5   age         3214 non-null   int64  \n",
      " 6   churn_date  187 non-null    object \n",
      " 7   city        3214 non-null   object \n",
      " 8   first_name  3214 non-null   object \n",
      " 9   last_name   3214 non-null   object \n",
      " 10  reg_date    3214 non-null   object \n",
      " 11  tariff      3214 non-null   object \n",
      "dtypes: float64(4), int64(2), object(6)\n",
      "memory usage: 326.4+ KB\n"
     ]
    }
   ],
   "source": [
    "data.loc[data['gb_used'].isna(), 'gb_used'] = 0\n",
    "data.loc[data['msg_sent'].isna(), 'msg_sent'] = 0\n",
    "data.loc[data['duration'].isna(), 'duration'] = 0\n",
    "data.dropna(subset = ['month'], inplace=True)\n",
    "\n",
    "data.info()"
   ]
  },
  {
   "cell_type": "markdown",
   "metadata": {},
   "source": [
    "Добавим в таблицу данные о тарифе. Для этого приведем наименование столбца к единому виду"
   ]
  },
  {
   "cell_type": "code",
   "execution_count": 20,
   "metadata": {},
   "outputs": [
    {
     "name": "stdout",
     "output_type": "stream",
     "text": [
      "<class 'pandas.core.frame.DataFrame'>\n",
      "Int64Index: 3214 entries, 0 to 3213\n",
      "Data columns (total 19 columns):\n",
      " #   Column                 Non-Null Count  Dtype  \n",
      "---  ------                 --------------  -----  \n",
      " 0   user_id                3214 non-null   int64  \n",
      " 1   month                  3214 non-null   float64\n",
      " 2   gb_used                3214 non-null   float64\n",
      " 3   msg_sent               3214 non-null   float64\n",
      " 4   duration               3214 non-null   float64\n",
      " 5   age                    3214 non-null   int64  \n",
      " 6   churn_date             187 non-null    object \n",
      " 7   city                   3214 non-null   object \n",
      " 8   first_name             3214 non-null   object \n",
      " 9   last_name              3214 non-null   object \n",
      " 10  reg_date               3214 non-null   object \n",
      " 11  tariff_name            3214 non-null   object \n",
      " 12  messages_included      3214 non-null   int64  \n",
      " 13  mb_per_month_included  3214 non-null   int64  \n",
      " 14  minutes_included       3214 non-null   int64  \n",
      " 15  rub_monthly_fee        3214 non-null   int64  \n",
      " 16  rub_per_gb             3214 non-null   int64  \n",
      " 17  rub_per_message        3214 non-null   int64  \n",
      " 18  rub_per_minute         3214 non-null   int64  \n",
      "dtypes: float64(4), int64(9), object(6)\n",
      "memory usage: 502.2+ KB\n"
     ]
    }
   ],
   "source": [
    "data = data.rename(columns={'tariff': 'tariff_name'})\n",
    "data = data.merge(tariff, on=['tariff_name'], how='left') \n",
    "data.info()"
   ]
  },
  {
   "cell_type": "markdown",
   "metadata": {},
   "source": [
    "Чтобы добавить в таблицу столбец с выручкой по каждому абоненту помесячно, напишем функцию"
   ]
  },
  {
   "cell_type": "code",
   "execution_count": 21,
   "metadata": {},
   "outputs": [
    {
     "data": {
      "text/html": [
       "<div>\n",
       "<style scoped>\n",
       "    .dataframe tbody tr th:only-of-type {\n",
       "        vertical-align: middle;\n",
       "    }\n",
       "\n",
       "    .dataframe tbody tr th {\n",
       "        vertical-align: top;\n",
       "    }\n",
       "\n",
       "    .dataframe thead th {\n",
       "        text-align: right;\n",
       "    }\n",
       "</style>\n",
       "<table border=\"1\" class=\"dataframe\">\n",
       "  <thead>\n",
       "    <tr style=\"text-align: right;\">\n",
       "      <th></th>\n",
       "      <th>user_id</th>\n",
       "      <th>month</th>\n",
       "      <th>gb_used</th>\n",
       "      <th>msg_sent</th>\n",
       "      <th>duration</th>\n",
       "      <th>age</th>\n",
       "      <th>churn_date</th>\n",
       "      <th>city</th>\n",
       "      <th>first_name</th>\n",
       "      <th>last_name</th>\n",
       "      <th>reg_date</th>\n",
       "      <th>tariff_name</th>\n",
       "      <th>messages_included</th>\n",
       "      <th>mb_per_month_included</th>\n",
       "      <th>minutes_included</th>\n",
       "      <th>rub_monthly_fee</th>\n",
       "      <th>rub_per_gb</th>\n",
       "      <th>rub_per_message</th>\n",
       "      <th>rub_per_minute</th>\n",
       "      <th>income</th>\n",
       "    </tr>\n",
       "  </thead>\n",
       "  <tbody>\n",
       "    <tr>\n",
       "      <th>0</th>\n",
       "      <td>1000</td>\n",
       "      <td>5.0</td>\n",
       "      <td>3.0</td>\n",
       "      <td>22.0</td>\n",
       "      <td>159.0</td>\n",
       "      <td>52</td>\n",
       "      <td>NaN</td>\n",
       "      <td>Краснодар</td>\n",
       "      <td>Рафаил</td>\n",
       "      <td>Верещагин</td>\n",
       "      <td>2018-05-25</td>\n",
       "      <td>ultra</td>\n",
       "      <td>1000</td>\n",
       "      <td>30720</td>\n",
       "      <td>3000</td>\n",
       "      <td>1950</td>\n",
       "      <td>150</td>\n",
       "      <td>1</td>\n",
       "      <td>1</td>\n",
       "      <td>1950.0</td>\n",
       "    </tr>\n",
       "    <tr>\n",
       "      <th>1</th>\n",
       "      <td>1000</td>\n",
       "      <td>6.0</td>\n",
       "      <td>23.0</td>\n",
       "      <td>60.0</td>\n",
       "      <td>172.0</td>\n",
       "      <td>52</td>\n",
       "      <td>NaN</td>\n",
       "      <td>Краснодар</td>\n",
       "      <td>Рафаил</td>\n",
       "      <td>Верещагин</td>\n",
       "      <td>2018-05-25</td>\n",
       "      <td>ultra</td>\n",
       "      <td>1000</td>\n",
       "      <td>30720</td>\n",
       "      <td>3000</td>\n",
       "      <td>1950</td>\n",
       "      <td>150</td>\n",
       "      <td>1</td>\n",
       "      <td>1</td>\n",
       "      <td>1950.0</td>\n",
       "    </tr>\n",
       "    <tr>\n",
       "      <th>2</th>\n",
       "      <td>1000</td>\n",
       "      <td>7.0</td>\n",
       "      <td>14.0</td>\n",
       "      <td>75.0</td>\n",
       "      <td>340.0</td>\n",
       "      <td>52</td>\n",
       "      <td>NaN</td>\n",
       "      <td>Краснодар</td>\n",
       "      <td>Рафаил</td>\n",
       "      <td>Верещагин</td>\n",
       "      <td>2018-05-25</td>\n",
       "      <td>ultra</td>\n",
       "      <td>1000</td>\n",
       "      <td>30720</td>\n",
       "      <td>3000</td>\n",
       "      <td>1950</td>\n",
       "      <td>150</td>\n",
       "      <td>1</td>\n",
       "      <td>1</td>\n",
       "      <td>1950.0</td>\n",
       "    </tr>\n",
       "    <tr>\n",
       "      <th>3</th>\n",
       "      <td>1000</td>\n",
       "      <td>8.0</td>\n",
       "      <td>14.0</td>\n",
       "      <td>81.0</td>\n",
       "      <td>408.0</td>\n",
       "      <td>52</td>\n",
       "      <td>NaN</td>\n",
       "      <td>Краснодар</td>\n",
       "      <td>Рафаил</td>\n",
       "      <td>Верещагин</td>\n",
       "      <td>2018-05-25</td>\n",
       "      <td>ultra</td>\n",
       "      <td>1000</td>\n",
       "      <td>30720</td>\n",
       "      <td>3000</td>\n",
       "      <td>1950</td>\n",
       "      <td>150</td>\n",
       "      <td>1</td>\n",
       "      <td>1</td>\n",
       "      <td>1950.0</td>\n",
       "    </tr>\n",
       "    <tr>\n",
       "      <th>4</th>\n",
       "      <td>1000</td>\n",
       "      <td>9.0</td>\n",
       "      <td>15.0</td>\n",
       "      <td>57.0</td>\n",
       "      <td>466.0</td>\n",
       "      <td>52</td>\n",
       "      <td>NaN</td>\n",
       "      <td>Краснодар</td>\n",
       "      <td>Рафаил</td>\n",
       "      <td>Верещагин</td>\n",
       "      <td>2018-05-25</td>\n",
       "      <td>ultra</td>\n",
       "      <td>1000</td>\n",
       "      <td>30720</td>\n",
       "      <td>3000</td>\n",
       "      <td>1950</td>\n",
       "      <td>150</td>\n",
       "      <td>1</td>\n",
       "      <td>1</td>\n",
       "      <td>1950.0</td>\n",
       "    </tr>\n",
       "  </tbody>\n",
       "</table>\n",
       "</div>"
      ],
      "text/plain": [
       "   user_id  month  gb_used  msg_sent  duration  age churn_date       city  \\\n",
       "0     1000    5.0      3.0      22.0     159.0   52        NaN  Краснодар   \n",
       "1     1000    6.0     23.0      60.0     172.0   52        NaN  Краснодар   \n",
       "2     1000    7.0     14.0      75.0     340.0   52        NaN  Краснодар   \n",
       "3     1000    8.0     14.0      81.0     408.0   52        NaN  Краснодар   \n",
       "4     1000    9.0     15.0      57.0     466.0   52        NaN  Краснодар   \n",
       "\n",
       "  first_name  last_name    reg_date tariff_name  messages_included  \\\n",
       "0     Рафаил  Верещагин  2018-05-25       ultra               1000   \n",
       "1     Рафаил  Верещагин  2018-05-25       ultra               1000   \n",
       "2     Рафаил  Верещагин  2018-05-25       ultra               1000   \n",
       "3     Рафаил  Верещагин  2018-05-25       ultra               1000   \n",
       "4     Рафаил  Верещагин  2018-05-25       ultra               1000   \n",
       "\n",
       "   mb_per_month_included  minutes_included  rub_monthly_fee  rub_per_gb  \\\n",
       "0                  30720              3000             1950         150   \n",
       "1                  30720              3000             1950         150   \n",
       "2                  30720              3000             1950         150   \n",
       "3                  30720              3000             1950         150   \n",
       "4                  30720              3000             1950         150   \n",
       "\n",
       "   rub_per_message  rub_per_minute  income  \n",
       "0                1               1  1950.0  \n",
       "1                1               1  1950.0  \n",
       "2                1               1  1950.0  \n",
       "3                1               1  1950.0  \n",
       "4                1               1  1950.0  "
      ]
     },
     "execution_count": 21,
     "metadata": {},
     "output_type": "execute_result"
    }
   ],
   "source": [
    "#функция находит разницу между включенным в тариф и израходованным пакетом по каждой услуге и высчитывает стоимость. \n",
    "#если значение отрицательно, значит лимит не израсходован перерасход равен 0\n",
    "#возвращает сумму перерасхода и абонентской платы\n",
    "def tariff_income(row):\n",
    "    minutes_over = (row['duration'] - row['minutes_included']) * row['rub_per_minute']\n",
    "    msg_over = (row['msg_sent'] - row['messages_included']) * row['rub_per_message']\n",
    "    gb_over = (row['gb_used'] - row['mb_per_month_included'] / 1024) * row['rub_per_gb']\n",
    "    \n",
    "    if minutes_over < 0: \n",
    "        minutes_over = 0\n",
    "    if msg_over < 0: \n",
    "        msg_over = 0\n",
    "    if gb_over < 0: \n",
    "        gb_over = 0\n",
    "        \n",
    "    month_income = minutes_over + msg_over + gb_over + row['rub_monthly_fee']\n",
    "    return month_income\n",
    "\n",
    "data['income'] = data.apply(tariff_income, axis=1) #добавим столбец с выручкой\n",
    "data.head() #первые строки новой таблицы"
   ]
  },
  {
   "cell_type": "markdown",
   "metadata": {},
   "source": [
    "### Вывод \n",
    "В результате предобработки данные были сгруппированы по каждому абоненту помесячно, рассчитаны израсходованные пакеты по каждому виду услуг и выручка. Значения дат были приведены к типу `datetime`, пропущенные значения заполнены нулем."
   ]
  },
  {
   "cell_type": "markdown",
   "metadata": {},
   "source": [
    "## Анализ поведения клиентов"
   ]
  },
  {
   "cell_type": "markdown",
   "metadata": {},
   "source": [
    "Чтобы сравнить поведение клиентов с разными тарифами сгруппируем данные по каждому виду услуг"
   ]
  },
  {
   "cell_type": "code",
   "execution_count": 22,
   "metadata": {},
   "outputs": [
    {
     "data": {
      "text/html": [
       "<div>\n",
       "<style scoped>\n",
       "    .dataframe tbody tr th:only-of-type {\n",
       "        vertical-align: middle;\n",
       "    }\n",
       "\n",
       "    .dataframe tbody tr th {\n",
       "        vertical-align: top;\n",
       "    }\n",
       "\n",
       "    .dataframe thead th {\n",
       "        text-align: right;\n",
       "    }\n",
       "</style>\n",
       "<table border=\"1\" class=\"dataframe\">\n",
       "  <thead>\n",
       "    <tr style=\"text-align: right;\">\n",
       "      <th></th>\n",
       "      <th>gb_used</th>\n",
       "      <th>msg_sent</th>\n",
       "      <th>duration</th>\n",
       "      <th>income</th>\n",
       "    </tr>\n",
       "    <tr>\n",
       "      <th>tariff_name</th>\n",
       "      <th></th>\n",
       "      <th></th>\n",
       "      <th></th>\n",
       "      <th></th>\n",
       "    </tr>\n",
       "  </thead>\n",
       "  <tbody>\n",
       "    <tr>\n",
       "      <th>smart</th>\n",
       "      <td>16.328847</td>\n",
       "      <td>33.384029</td>\n",
       "      <td>417.934948</td>\n",
       "      <td>1289.973531</td>\n",
       "    </tr>\n",
       "    <tr>\n",
       "      <th>ultra</th>\n",
       "      <td>19.494416</td>\n",
       "      <td>49.363452</td>\n",
       "      <td>526.623350</td>\n",
       "      <td>2070.152284</td>\n",
       "    </tr>\n",
       "  </tbody>\n",
       "</table>\n",
       "</div>"
      ],
      "text/plain": [
       "               gb_used   msg_sent    duration       income\n",
       "tariff_name                                               \n",
       "smart        16.328847  33.384029  417.934948  1289.973531\n",
       "ultra        19.494416  49.363452  526.623350  2070.152284"
      ]
     },
     "execution_count": 22,
     "metadata": {},
     "output_type": "execute_result"
    }
   ],
   "source": [
    "data.groupby('tariff_name').agg({'gb_used':'mean', 'msg_sent': 'mean', 'duration': 'mean', 'income': 'mean'})"
   ]
  },
  {
   "cell_type": "code",
   "execution_count": 23,
   "metadata": {},
   "outputs": [
    {
     "data": {
      "text/html": [
       "<div>\n",
       "<style scoped>\n",
       "    .dataframe tbody tr th:only-of-type {\n",
       "        vertical-align: middle;\n",
       "    }\n",
       "\n",
       "    .dataframe tbody tr th {\n",
       "        vertical-align: top;\n",
       "    }\n",
       "\n",
       "    .dataframe thead th {\n",
       "        text-align: right;\n",
       "    }\n",
       "</style>\n",
       "<table border=\"1\" class=\"dataframe\">\n",
       "  <thead>\n",
       "    <tr style=\"text-align: right;\">\n",
       "      <th></th>\n",
       "      <th>messages_included</th>\n",
       "      <th>mb_per_month_included</th>\n",
       "      <th>minutes_included</th>\n",
       "      <th>rub_monthly_fee</th>\n",
       "      <th>rub_per_gb</th>\n",
       "      <th>rub_per_message</th>\n",
       "      <th>rub_per_minute</th>\n",
       "      <th>tariff_name</th>\n",
       "    </tr>\n",
       "  </thead>\n",
       "  <tbody>\n",
       "    <tr>\n",
       "      <th>0</th>\n",
       "      <td>50</td>\n",
       "      <td>15360</td>\n",
       "      <td>500</td>\n",
       "      <td>550</td>\n",
       "      <td>200</td>\n",
       "      <td>3</td>\n",
       "      <td>3</td>\n",
       "      <td>smart</td>\n",
       "    </tr>\n",
       "    <tr>\n",
       "      <th>1</th>\n",
       "      <td>1000</td>\n",
       "      <td>30720</td>\n",
       "      <td>3000</td>\n",
       "      <td>1950</td>\n",
       "      <td>150</td>\n",
       "      <td>1</td>\n",
       "      <td>1</td>\n",
       "      <td>ultra</td>\n",
       "    </tr>\n",
       "  </tbody>\n",
       "</table>\n",
       "</div>"
      ],
      "text/plain": [
       "   messages_included  mb_per_month_included  minutes_included  \\\n",
       "0                 50                  15360               500   \n",
       "1               1000                  30720              3000   \n",
       "\n",
       "   rub_monthly_fee  rub_per_gb  rub_per_message  rub_per_minute tariff_name  \n",
       "0              550         200                3               3       smart  \n",
       "1             1950         150                1               1       ultra  "
      ]
     },
     "execution_count": 23,
     "metadata": {},
     "output_type": "execute_result"
    }
   ],
   "source": [
    "tariff"
   ]
  },
  {
   "cell_type": "markdown",
   "metadata": {},
   "source": [
    "Таблица показывает, что в среднем абоненты тарифного плана ULTRA расходуют больше, что обусловлено большим пакетом услуг, включенным в абонентскую плату, а плата за услуги редко превышает абонентску. Абоненты SMART расходуют меньше, но, учитывая среднюю выручку в месяц, превышающую абонентскую плату более чем в два раза, в пакет услуг тарифа не укладываются. Построим сравнительные гистограммы и диаграммы размаха по расходам абонентов разных тарифов"
   ]
  },
  {
   "cell_type": "code",
   "execution_count": 24,
   "metadata": {},
   "outputs": [],
   "source": [
    "# переменная smart-сгруппированные данные по тарифу с интересующими нас столбцами\n",
    "\n",
    "smart = data.query('tariff_name == \"smart\"')\n",
    "smart = smart[['gb_used', 'msg_sent', 'duration', 'income']]"
   ]
  },
  {
   "cell_type": "code",
   "execution_count": 25,
   "metadata": {},
   "outputs": [],
   "source": [
    "# переменная ultra-сгруппированные данные по тарифу с интересующими нас столбцами\n",
    "\n",
    "ultra = data.query('tariff_name == \"ultra\"')\n",
    "ultra = ultra[['gb_used', 'msg_sent', 'duration', 'income']]"
   ]
  },
  {
   "cell_type": "markdown",
   "metadata": {},
   "source": [
    "Рассчитаем дисперсию и рассмотрим расходы по тарифам более подробно. "
   ]
  },
  {
   "cell_type": "code",
   "execution_count": 26,
   "metadata": {},
   "outputs": [
    {
     "data": {
      "text/html": [
       "<div>\n",
       "<style scoped>\n",
       "    .dataframe tbody tr th:only-of-type {\n",
       "        vertical-align: middle;\n",
       "    }\n",
       "\n",
       "    .dataframe tbody tr th {\n",
       "        vertical-align: top;\n",
       "    }\n",
       "\n",
       "    .dataframe thead th {\n",
       "        text-align: right;\n",
       "    }\n",
       "</style>\n",
       "<table border=\"1\" class=\"dataframe\">\n",
       "  <thead>\n",
       "    <tr style=\"text-align: right;\">\n",
       "      <th></th>\n",
       "      <th>count</th>\n",
       "      <th>mean</th>\n",
       "      <th>std</th>\n",
       "      <th>min</th>\n",
       "      <th>25%</th>\n",
       "      <th>50%</th>\n",
       "      <th>75%</th>\n",
       "      <th>max</th>\n",
       "      <th>var</th>\n",
       "    </tr>\n",
       "  </thead>\n",
       "  <tbody>\n",
       "    <tr>\n",
       "      <th>gb_used</th>\n",
       "      <td>2229.0</td>\n",
       "      <td>16.328847</td>\n",
       "      <td>5.747061</td>\n",
       "      <td>0.0</td>\n",
       "      <td>13.0</td>\n",
       "      <td>17.0</td>\n",
       "      <td>20.0</td>\n",
       "      <td>38.0</td>\n",
       "      <td>33.028705</td>\n",
       "    </tr>\n",
       "    <tr>\n",
       "      <th>msg_sent</th>\n",
       "      <td>2229.0</td>\n",
       "      <td>33.384029</td>\n",
       "      <td>28.227876</td>\n",
       "      <td>0.0</td>\n",
       "      <td>10.0</td>\n",
       "      <td>28.0</td>\n",
       "      <td>51.0</td>\n",
       "      <td>143.0</td>\n",
       "      <td>796.812958</td>\n",
       "    </tr>\n",
       "    <tr>\n",
       "      <th>duration</th>\n",
       "      <td>2229.0</td>\n",
       "      <td>417.934948</td>\n",
       "      <td>190.313730</td>\n",
       "      <td>0.0</td>\n",
       "      <td>282.0</td>\n",
       "      <td>422.0</td>\n",
       "      <td>545.0</td>\n",
       "      <td>1435.0</td>\n",
       "      <td>36219.315784</td>\n",
       "    </tr>\n",
       "    <tr>\n",
       "      <th>income</th>\n",
       "      <td>2229.0</td>\n",
       "      <td>1289.973531</td>\n",
       "      <td>818.404367</td>\n",
       "      <td>550.0</td>\n",
       "      <td>550.0</td>\n",
       "      <td>1023.0</td>\n",
       "      <td>1750.0</td>\n",
       "      <td>6770.0</td>\n",
       "      <td>669785.708006</td>\n",
       "    </tr>\n",
       "  </tbody>\n",
       "</table>\n",
       "</div>"
      ],
      "text/plain": [
       "           count         mean         std    min    25%     50%     75%  \\\n",
       "gb_used   2229.0    16.328847    5.747061    0.0   13.0    17.0    20.0   \n",
       "msg_sent  2229.0    33.384029   28.227876    0.0   10.0    28.0    51.0   \n",
       "duration  2229.0   417.934948  190.313730    0.0  282.0   422.0   545.0   \n",
       "income    2229.0  1289.973531  818.404367  550.0  550.0  1023.0  1750.0   \n",
       "\n",
       "             max            var  \n",
       "gb_used     38.0      33.028705  \n",
       "msg_sent   143.0     796.812958  \n",
       "duration  1435.0   36219.315784  \n",
       "income    6770.0  669785.708006  "
      ]
     },
     "execution_count": 26,
     "metadata": {},
     "output_type": "execute_result"
    }
   ],
   "source": [
    "#описание таблицы\n",
    "\n",
    "report_smart = smart.describe().T\n",
    "report_smart['var'] = report_smart['std'] ** 2\n",
    "report_smart"
   ]
  },
  {
   "cell_type": "code",
   "execution_count": 27,
   "metadata": {},
   "outputs": [
    {
     "data": {
      "text/html": [
       "<div>\n",
       "<style scoped>\n",
       "    .dataframe tbody tr th:only-of-type {\n",
       "        vertical-align: middle;\n",
       "    }\n",
       "\n",
       "    .dataframe tbody tr th {\n",
       "        vertical-align: top;\n",
       "    }\n",
       "\n",
       "    .dataframe thead th {\n",
       "        text-align: right;\n",
       "    }\n",
       "</style>\n",
       "<table border=\"1\" class=\"dataframe\">\n",
       "  <thead>\n",
       "    <tr style=\"text-align: right;\">\n",
       "      <th></th>\n",
       "      <th>count</th>\n",
       "      <th>mean</th>\n",
       "      <th>std</th>\n",
       "      <th>min</th>\n",
       "      <th>25%</th>\n",
       "      <th>50%</th>\n",
       "      <th>75%</th>\n",
       "      <th>max</th>\n",
       "      <th>var</th>\n",
       "    </tr>\n",
       "  </thead>\n",
       "  <tbody>\n",
       "    <tr>\n",
       "      <th>gb_used</th>\n",
       "      <td>985.0</td>\n",
       "      <td>19.494416</td>\n",
       "      <td>9.853511</td>\n",
       "      <td>0.0</td>\n",
       "      <td>12.0</td>\n",
       "      <td>19.0</td>\n",
       "      <td>27.0</td>\n",
       "      <td>49.0</td>\n",
       "      <td>97.091686</td>\n",
       "    </tr>\n",
       "    <tr>\n",
       "      <th>msg_sent</th>\n",
       "      <td>985.0</td>\n",
       "      <td>49.363452</td>\n",
       "      <td>47.804457</td>\n",
       "      <td>0.0</td>\n",
       "      <td>6.0</td>\n",
       "      <td>38.0</td>\n",
       "      <td>79.0</td>\n",
       "      <td>224.0</td>\n",
       "      <td>2285.266143</td>\n",
       "    </tr>\n",
       "    <tr>\n",
       "      <th>duration</th>\n",
       "      <td>985.0</td>\n",
       "      <td>526.623350</td>\n",
       "      <td>317.606098</td>\n",
       "      <td>0.0</td>\n",
       "      <td>284.0</td>\n",
       "      <td>518.0</td>\n",
       "      <td>752.0</td>\n",
       "      <td>1673.0</td>\n",
       "      <td>100873.633397</td>\n",
       "    </tr>\n",
       "    <tr>\n",
       "      <th>income</th>\n",
       "      <td>985.0</td>\n",
       "      <td>2070.152284</td>\n",
       "      <td>376.187114</td>\n",
       "      <td>1950.0</td>\n",
       "      <td>1950.0</td>\n",
       "      <td>1950.0</td>\n",
       "      <td>1950.0</td>\n",
       "      <td>4800.0</td>\n",
       "      <td>141516.745079</td>\n",
       "    </tr>\n",
       "  </tbody>\n",
       "</table>\n",
       "</div>"
      ],
      "text/plain": [
       "          count         mean         std     min     25%     50%     75%  \\\n",
       "gb_used   985.0    19.494416    9.853511     0.0    12.0    19.0    27.0   \n",
       "msg_sent  985.0    49.363452   47.804457     0.0     6.0    38.0    79.0   \n",
       "duration  985.0   526.623350  317.606098     0.0   284.0   518.0   752.0   \n",
       "income    985.0  2070.152284  376.187114  1950.0  1950.0  1950.0  1950.0   \n",
       "\n",
       "             max            var  \n",
       "gb_used     49.0      97.091686  \n",
       "msg_sent   224.0    2285.266143  \n",
       "duration  1673.0  100873.633397  \n",
       "income    4800.0  141516.745079  "
      ]
     },
     "execution_count": 27,
     "metadata": {},
     "output_type": "execute_result"
    }
   ],
   "source": [
    "#описание таблицы\n",
    "\n",
    "report_ultra = ultra.describe().T\n",
    "report_ultra['var'] = report_ultra['std'] ** 2\n",
    "report_ultra"
   ]
  },
  {
   "cell_type": "code",
   "execution_count": 28,
   "metadata": {},
   "outputs": [
    {
     "data": {
      "image/png": "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\n",
      "text/plain": [
       "<Figure size 1080x360 with 2 Axes>"
      ]
     },
     "metadata": {
      "needs_background": "light"
     },
     "output_type": "display_data"
    },
    {
     "data": {
      "image/png": "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\n",
      "text/plain": [
       "<Figure size 1080x360 with 2 Axes>"
      ]
     },
     "metadata": {
      "needs_background": "light"
     },
     "output_type": "display_data"
    },
    {
     "data": {
      "image/png": "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\n",
      "text/plain": [
       "<Figure size 1080x360 with 2 Axes>"
      ]
     },
     "metadata": {
      "needs_background": "light"
     },
     "output_type": "display_data"
    },
    {
     "data": {
      "image/png": "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\n",
      "text/plain": [
       "<Figure size 1080x360 with 2 Axes>"
      ]
     },
     "metadata": {
      "needs_background": "light"
     },
     "output_type": "display_data"
    }
   ],
   "source": [
    "columns = ['duration', 'msg_sent', 'gb_used', 'income'] \n",
    "\n",
    "for column in columns:\n",
    "    plt.figure(figsize=(15, 5))\n",
    "    ax1 = plt.subplot(1, 2, 1)\n",
    "    ultra.plot(kind='hist',\n",
    "               y=column,\n",
    "               histtype='step',\n",
    "               bins=25,\n",
    "               linewidth=5,\n",
    "               alpha=0.7,\n",
    "               label='ULTRA',\n",
    "               ax=ax1,\n",
    "               grid=True,\n",
    "               legend=True,\n",
    "               \n",
    "              )\n",
    "    plt.title(column)\n",
    "    smart.plot(kind='hist',\n",
    "               y=column,\n",
    "               histtype='step',\n",
    "               bins=25,\n",
    "               linewidth=5,\n",
    "               alpha=0.7,\n",
    "               label='SMART',\n",
    "               ax=ax1\n",
    "               )\n",
    "    \n",
    "\n",
    "    ax2 = plt.subplot(1, 2, 2)\n",
    "    sns.boxplot(y ='tariff_name',x = column, data = data, orient =\"h\", ax=ax2)\n",
    "\n"
   ]
  },
  {
   "cell_type": "markdown",
   "metadata": {},
   "source": [
    "### Вывод \n",
    "Графики показывают что абоненты SMART в основном расходуют до 500 минут в месяц, которые включенты в аб. плату, пик рядом с отметкой 500 означает, что большому количеству абонентов едва хватает пакета минут, а значительная часть превышает лимит. Абоненты ULTRA расходуют больше минут, но абонентскую плату это не увеличивает. Учитывая разницу в количестве абонентов, можно сказать, что абоненты ULTRA более склонны отправлять смс, при этом значительной части абонентов этих тарифов в основном нужно несколько смс в месяц. По описанию и графику видно, что только около 25% абонентов тарифа SMART укладываются в пакет интернет-трафика, включенного в аб.плату, что в свою очередь влияет на расходы сверх аб.платы. Абонентам ULTRA не приходится переплачивать за трафик. По полученным можно сделать вывод что медианная выручка у SMART меньше, чем у ULTRA, но станд.отклонение больше более чем в два раза. Абоненты этого тарифа в том числе те, кто платит ощутимо больше медианной суммы, а значит привлекая бльше абонентов на тариф SMART, можно увеличить общий доход."
   ]
  },
  {
   "cell_type": "markdown",
   "metadata": {},
   "source": [
    "## Проверка гипотез"
   ]
  },
  {
   "cell_type": "markdown",
   "metadata": {},
   "source": [
    "- Проверим гипотезу, что средняя выручка пользователей тарифов «Ультра» и «Смарт» различаются.\n",
    "\n",
    "Н0-Средняя выручка тарифов равна\n",
    "Н1-Средняя выручка тарифов различается"
   ]
  },
  {
   "cell_type": "code",
   "execution_count": 29,
   "metadata": {},
   "outputs": [
    {
     "name": "stdout",
     "output_type": "stream",
     "text": [
      "p-значение: 1.4229814360764067e-160\n",
      "Отвергаем нулевую гипотезу\n"
     ]
    }
   ],
   "source": [
    "alpha = 0.01  # критический уровень статистической значимости\n",
    "# если p-value окажется меньше него - отвергнем гипотезу\n",
    "\n",
    "results = st.ttest_ind(smart['income'], ultra['income'])\n",
    "\n",
    "print('p-значение:', results.pvalue)\n",
    "\n",
    "if results.pvalue < alpha:\n",
    "    print('Отвергаем нулевую гипотезу')\n",
    "else:\n",
    "    print('Не получилось отвергнуть нулевую гипотезу') "
   ]
  },
  {
   "cell_type": "markdown",
   "metadata": {},
   "source": [
    "Вероятность низка — по наблюдаемым данным можно сделать вывод, что, скорее всего, предположение всё-таки неверно.\n",
    "Чтобы сравнить выручки по Москве и остальным городам, создадим два таблицы с группировкой по населенному пункту"
   ]
  },
  {
   "cell_type": "markdown",
   "metadata": {},
   "source": [
    "- Проверим гипотезу, что средняя выручка пользователей тарифов абонентов Москвы и остальных городов различаются.\n",
    "Н0-Средняя выручка по городу равна\n",
    "Н1-Средняя выручка по городу различается"
   ]
  },
  {
   "cell_type": "code",
   "execution_count": 30,
   "metadata": {},
   "outputs": [],
   "source": [
    "moscow = data.query('city == \"Москва\"')"
   ]
  },
  {
   "cell_type": "code",
   "execution_count": 31,
   "metadata": {},
   "outputs": [],
   "source": [
    "around_moscow =  data.query('city != \"Москва\"')"
   ]
  },
  {
   "cell_type": "code",
   "execution_count": 32,
   "metadata": {},
   "outputs": [
    {
     "name": "stdout",
     "output_type": "stream",
     "text": [
      "p-значение: 0.5440152911670224\n",
      "Не получилось отвергнуть нулевую гипотезу\n"
     ]
    }
   ],
   "source": [
    "alpha = 0.01  # критический уровень статистической значимости\n",
    "# если p-value окажется меньше него - отвергнем гипотезу\n",
    "\n",
    "results = st.ttest_ind(moscow['income'], around_moscow['income'])\n",
    "\n",
    "print('p-значение:', results.pvalue)\n",
    "\n",
    "if results.pvalue < alpha:\n",
    "    print('Отвергаем нулевую гипотезу')\n",
    "else:\n",
    "    print('Не получилось отвергнуть нулевую гипотезу') "
   ]
  },
  {
   "cell_type": "markdown",
   "metadata": {},
   "source": [
    "Полученное значение p-value говорит о том, что хотя средняя выручка в Москве и других городах и неодинакова, это явно слишком большая вероятность, чтобы делать вывод о значимом различии между средними выручками. "
   ]
  },
  {
   "cell_type": "markdown",
   "metadata": {},
   "source": [
    "Мы не использовали дополнительный параметр `equal_var = False`, потому что у нас достаточно большие и одинаковые по размеру выборки, к тому же в обеих измерена одна и та же переменная — нет оснований полагать, что разброс будет сильно отличаться."
   ]
  },
  {
   "cell_type": "markdown",
   "metadata": {},
   "source": [
    "### Вывод\n",
    "\n",
    "Проверка гипотез показала, что скорее всего, средняя выручка никак не зависит от города, а выручка по разным тарифам различается."
   ]
  },
  {
   "cell_type": "markdown",
   "metadata": {},
   "source": [
    "# Вывод"
   ]
  },
  {
   "cell_type": "markdown",
   "metadata": {},
   "source": [
    "По результатам проведенного анализа можно сделать вывод, что выгодно привлекать абонентов на тариф SMART независимо от города их проживания. Средняя выручка по городам примерно одинакова. Абоненты тарифа ULTRA расходуют больше минут, интернет-трафика и смс, при этом редко платят больше абонентской платы. Абоненты SMART, наоборот, в среднем расходуют меньше, но при этом часто не укладываются в пакет услуг, включенных в ежемесячную плату. Целесобразно привлекать новых абонентов тарифа SMART, в числе которых с большей вероятностью будут те, кто будет платить больше медианной суммы\n"
   ]
  }
 ],
 "metadata": {
  "ExecuteTimeLog": [
   {
    "duration": 721,
    "start_time": "2021-12-07T07:28:00.796Z"
   },
   {
    "duration": 96,
    "start_time": "2021-12-07T07:28:17.469Z"
   },
   {
    "duration": 7125,
    "start_time": "2021-12-07T07:28:40.229Z"
   },
   {
    "duration": 102,
    "start_time": "2021-12-07T07:29:11.208Z"
   },
   {
    "duration": 275,
    "start_time": "2021-12-07T07:29:14.613Z"
   },
   {
    "duration": 221,
    "start_time": "2021-12-07T07:30:56.842Z"
   },
   {
    "duration": 178,
    "start_time": "2021-12-07T07:31:18.298Z"
   },
   {
    "duration": 120,
    "start_time": "2021-12-07T07:31:36.964Z"
   },
   {
    "duration": 26,
    "start_time": "2021-12-07T07:31:52.933Z"
   },
   {
    "duration": 37,
    "start_time": "2021-12-07T07:32:11.196Z"
   },
   {
    "duration": 10,
    "start_time": "2021-12-07T07:33:48.454Z"
   },
   {
    "duration": 37,
    "start_time": "2021-12-07T07:35:42.027Z"
   },
   {
    "duration": 9,
    "start_time": "2021-12-07T07:35:42.866Z"
   },
   {
    "duration": 224,
    "start_time": "2021-12-07T07:35:50.954Z"
   },
   {
    "duration": 181,
    "start_time": "2021-12-07T07:35:51.181Z"
   },
   {
    "duration": 133,
    "start_time": "2021-12-07T07:35:51.368Z"
   },
   {
    "duration": 24,
    "start_time": "2021-12-07T07:35:51.504Z"
   },
   {
    "duration": 36,
    "start_time": "2021-12-07T07:35:51.531Z"
   },
   {
    "duration": 8,
    "start_time": "2021-12-07T07:35:51.569Z"
   },
   {
    "duration": 252,
    "start_time": "2021-12-07T07:36:48.789Z"
   },
   {
    "duration": 205,
    "start_time": "2021-12-07T07:37:23.124Z"
   },
   {
    "duration": 207,
    "start_time": "2021-12-07T14:28:59.370Z"
   },
   {
    "duration": 714,
    "start_time": "2021-12-07T14:29:05.317Z"
   },
   {
    "duration": 142,
    "start_time": "2021-12-07T14:29:06.032Z"
   },
   {
    "duration": 93,
    "start_time": "2021-12-07T14:29:06.176Z"
   },
   {
    "duration": 22,
    "start_time": "2021-12-07T14:29:06.270Z"
   },
   {
    "duration": 52,
    "start_time": "2021-12-07T14:29:06.294Z"
   },
   {
    "duration": 49,
    "start_time": "2021-12-07T14:41:54.381Z"
   },
   {
    "duration": 471,
    "start_time": "2021-12-07T14:46:14.238Z"
   },
   {
    "duration": 471,
    "start_time": "2021-12-07T14:46:38.314Z"
   },
   {
    "duration": 484,
    "start_time": "2021-12-07T14:46:52.124Z"
   },
   {
    "duration": 452,
    "start_time": "2021-12-07T14:47:05.276Z"
   },
   {
    "duration": 909,
    "start_time": "2021-12-07T14:53:27.857Z"
   },
   {
    "duration": 929,
    "start_time": "2021-12-07T14:53:37.653Z"
   },
   {
    "duration": 69,
    "start_time": "2021-12-07T14:54:11.055Z"
   },
   {
    "duration": 24,
    "start_time": "2021-12-07T14:56:10.928Z"
   },
   {
    "duration": 178,
    "start_time": "2021-12-07T15:06:33.690Z"
   },
   {
    "duration": 66,
    "start_time": "2021-12-07T15:13:06.694Z"
   },
   {
    "duration": 51,
    "start_time": "2021-12-07T15:13:14.910Z"
   },
   {
    "duration": 223,
    "start_time": "2021-12-07T15:13:56.795Z"
   },
   {
    "duration": 77,
    "start_time": "2021-12-07T15:14:04.289Z"
   },
   {
    "duration": 100,
    "start_time": "2021-12-07T15:14:12.527Z"
   },
   {
    "duration": 52,
    "start_time": "2021-12-07T15:14:35.487Z"
   },
   {
    "duration": 17,
    "start_time": "2021-12-07T15:14:47.243Z"
   },
   {
    "duration": 4,
    "start_time": "2021-12-07T15:15:04.815Z"
   },
   {
    "duration": 78,
    "start_time": "2021-12-07T15:15:53.118Z"
   },
   {
    "duration": 58,
    "start_time": "2021-12-07T15:16:41.883Z"
   },
   {
    "duration": 4,
    "start_time": "2021-12-07T15:16:51.745Z"
   },
   {
    "duration": 5072,
    "start_time": "2021-12-07T15:17:47.719Z"
   },
   {
    "duration": 166,
    "start_time": "2021-12-07T15:18:11.122Z"
   },
   {
    "duration": 105,
    "start_time": "2021-12-07T15:18:11.290Z"
   },
   {
    "duration": 150,
    "start_time": "2021-12-07T15:18:11.398Z"
   },
   {
    "duration": 50,
    "start_time": "2021-12-07T15:18:11.550Z"
   },
   {
    "duration": 22,
    "start_time": "2021-12-07T15:18:11.601Z"
   },
   {
    "duration": 55,
    "start_time": "2021-12-07T15:18:11.624Z"
   },
   {
    "duration": 3,
    "start_time": "2021-12-07T15:18:11.681Z"
   },
   {
    "duration": 4589,
    "start_time": "2021-12-07T15:18:11.686Z"
   },
   {
    "duration": 17,
    "start_time": "2021-12-07T15:18:41.050Z"
   },
   {
    "duration": 17,
    "start_time": "2021-12-07T15:18:54.828Z"
   },
   {
    "duration": 20,
    "start_time": "2021-12-07T15:19:55.027Z"
   },
   {
    "duration": 19,
    "start_time": "2021-12-07T15:21:59.183Z"
   },
   {
    "duration": 13,
    "start_time": "2021-12-07T15:22:00.852Z"
   },
   {
    "duration": 45,
    "start_time": "2021-12-07T15:22:56.687Z"
   },
   {
    "duration": 48,
    "start_time": "2021-12-07T15:23:20.822Z"
   },
   {
    "duration": 78,
    "start_time": "2021-12-07T15:26:23.011Z"
   },
   {
    "duration": 94,
    "start_time": "2021-12-07T15:27:26.924Z"
   },
   {
    "duration": 6,
    "start_time": "2021-12-07T15:32:04.436Z"
   },
   {
    "duration": 319,
    "start_time": "2021-12-08T06:16:58.278Z"
   },
   {
    "duration": 792,
    "start_time": "2021-12-08T06:17:02.548Z"
   },
   {
    "duration": 105,
    "start_time": "2021-12-08T06:17:03.342Z"
   },
   {
    "duration": 151,
    "start_time": "2021-12-08T06:17:03.449Z"
   },
   {
    "duration": 38,
    "start_time": "2021-12-08T06:17:03.601Z"
   },
   {
    "duration": 6,
    "start_time": "2021-12-08T06:17:03.640Z"
   },
   {
    "duration": 24,
    "start_time": "2021-12-08T06:17:03.648Z"
   },
   {
    "duration": 130,
    "start_time": "2021-12-08T06:17:03.673Z"
   },
   {
    "duration": 6,
    "start_time": "2021-12-08T06:17:03.805Z"
   },
   {
    "duration": 127,
    "start_time": "2021-12-08T06:21:34.337Z"
   },
   {
    "duration": 5,
    "start_time": "2021-12-08T06:21:44.465Z"
   },
   {
    "duration": 5,
    "start_time": "2021-12-08T06:22:10.435Z"
   },
   {
    "duration": 280,
    "start_time": "2021-12-08T06:23:53.913Z"
   },
   {
    "duration": 858,
    "start_time": "2021-12-08T06:24:02.423Z"
   },
   {
    "duration": 8,
    "start_time": "2021-12-08T06:24:15.157Z"
   },
   {
    "duration": 327,
    "start_time": "2021-12-08T06:24:22.047Z"
   },
   {
    "duration": 457,
    "start_time": "2021-12-08T06:25:16.599Z"
   },
   {
    "duration": 374,
    "start_time": "2021-12-08T06:25:20.239Z"
   },
   {
    "duration": 413,
    "start_time": "2021-12-08T06:26:34.075Z"
   },
   {
    "duration": 2254,
    "start_time": "2021-12-08T06:27:05.530Z"
   },
   {
    "duration": 9366,
    "start_time": "2021-12-08T06:27:12.953Z"
   },
   {
    "duration": 176,
    "start_time": "2021-12-08T06:27:29.771Z"
   },
   {
    "duration": 107,
    "start_time": "2021-12-08T06:27:29.949Z"
   },
   {
    "duration": 168,
    "start_time": "2021-12-08T06:27:30.058Z"
   },
   {
    "duration": 40,
    "start_time": "2021-12-08T06:27:30.228Z"
   },
   {
    "duration": 36,
    "start_time": "2021-12-08T06:27:30.271Z"
   },
   {
    "duration": 153,
    "start_time": "2021-12-08T06:27:30.309Z"
   },
   {
    "duration": 443,
    "start_time": "2021-12-08T06:27:30.464Z"
   },
   {
    "duration": 2284,
    "start_time": "2021-12-08T06:27:28.625Z"
   },
   {
    "duration": 2261,
    "start_time": "2021-12-08T06:27:28.649Z"
   },
   {
    "duration": 468,
    "start_time": "2021-12-08T06:28:01.587Z"
   },
   {
    "duration": 25,
    "start_time": "2021-12-08T06:28:27.893Z"
   },
   {
    "duration": 17,
    "start_time": "2021-12-08T06:28:43.461Z"
   },
   {
    "duration": 4,
    "start_time": "2021-12-08T06:33:50.949Z"
   },
   {
    "duration": 4,
    "start_time": "2021-12-08T06:34:13.077Z"
   },
   {
    "duration": 4,
    "start_time": "2021-12-08T06:36:30.385Z"
   },
   {
    "duration": 4,
    "start_time": "2021-12-08T06:37:40.851Z"
   },
   {
    "duration": 5,
    "start_time": "2021-12-08T06:59:57.118Z"
   },
   {
    "duration": 10,
    "start_time": "2021-12-08T07:00:10.421Z"
   },
   {
    "duration": 8,
    "start_time": "2021-12-08T07:00:23.297Z"
   },
   {
    "duration": 9,
    "start_time": "2021-12-08T07:01:24.992Z"
   },
   {
    "duration": 18,
    "start_time": "2021-12-08T07:01:48.089Z"
   },
   {
    "duration": 295,
    "start_time": "2021-12-08T07:04:16.829Z"
   },
   {
    "duration": 6,
    "start_time": "2021-12-08T07:05:24.119Z"
   },
   {
    "duration": 13,
    "start_time": "2021-12-08T07:05:31.589Z"
   },
   {
    "duration": 16,
    "start_time": "2021-12-08T07:05:50.215Z"
   },
   {
    "duration": 288,
    "start_time": "2021-12-08T07:05:51.445Z"
   },
   {
    "duration": 302,
    "start_time": "2021-12-08T07:06:08.049Z"
   },
   {
    "duration": 180,
    "start_time": "2021-12-08T07:06:17.585Z"
   },
   {
    "duration": 107,
    "start_time": "2021-12-08T07:06:17.767Z"
   },
   {
    "duration": 153,
    "start_time": "2021-12-08T07:06:17.876Z"
   },
   {
    "duration": 40,
    "start_time": "2021-12-08T07:06:18.031Z"
   },
   {
    "duration": 25,
    "start_time": "2021-12-08T07:06:18.072Z"
   },
   {
    "duration": 122,
    "start_time": "2021-12-08T07:06:18.099Z"
   },
   {
    "duration": 24,
    "start_time": "2021-12-08T07:06:18.222Z"
   },
   {
    "duration": 7636,
    "start_time": "2021-12-08T07:06:18.247Z"
   },
   {
    "duration": 2294,
    "start_time": "2021-12-08T07:06:23.591Z"
   },
   {
    "duration": 2291,
    "start_time": "2021-12-08T07:06:23.595Z"
   },
   {
    "duration": 2291,
    "start_time": "2021-12-08T07:06:23.596Z"
   },
   {
    "duration": 2291,
    "start_time": "2021-12-08T07:06:23.597Z"
   },
   {
    "duration": 8,
    "start_time": "2021-12-08T07:06:32.343Z"
   },
   {
    "duration": 38,
    "start_time": "2021-12-08T07:06:32.353Z"
   },
   {
    "duration": 30,
    "start_time": "2021-12-08T07:06:32.394Z"
   },
   {
    "duration": 269,
    "start_time": "2021-12-08T07:06:32.426Z"
   },
   {
    "duration": 313,
    "start_time": "2021-12-08T07:06:58.737Z"
   },
   {
    "duration": 2308,
    "start_time": "2021-12-08T07:06:56.744Z"
   },
   {
    "duration": 2307,
    "start_time": "2021-12-08T07:06:56.747Z"
   },
   {
    "duration": 2306,
    "start_time": "2021-12-08T07:06:56.749Z"
   },
   {
    "duration": 339,
    "start_time": "2021-12-08T07:07:43.433Z"
   },
   {
    "duration": 4,
    "start_time": "2021-12-08T07:08:01.321Z"
   },
   {
    "duration": 8,
    "start_time": "2021-12-08T07:08:10.433Z"
   },
   {
    "duration": 190,
    "start_time": "2021-12-08T07:08:34.011Z"
   },
   {
    "duration": 108,
    "start_time": "2021-12-08T07:08:34.204Z"
   },
   {
    "duration": 156,
    "start_time": "2021-12-08T07:08:34.314Z"
   },
   {
    "duration": 38,
    "start_time": "2021-12-08T07:08:34.473Z"
   },
   {
    "duration": 38,
    "start_time": "2021-12-08T07:08:34.512Z"
   },
   {
    "duration": 137,
    "start_time": "2021-12-08T07:08:34.552Z"
   },
   {
    "duration": 14,
    "start_time": "2021-12-08T07:08:34.691Z"
   },
   {
    "duration": 29,
    "start_time": "2021-12-08T07:08:34.708Z"
   },
   {
    "duration": 31,
    "start_time": "2021-12-08T07:08:34.739Z"
   },
   {
    "duration": 48,
    "start_time": "2021-12-08T07:08:34.772Z"
   },
   {
    "duration": 311,
    "start_time": "2021-12-08T07:08:34.822Z"
   },
   {
    "duration": 332,
    "start_time": "2021-12-08T07:09:22.045Z"
   },
   {
    "duration": 168,
    "start_time": "2021-12-08T07:09:31.829Z"
   },
   {
    "duration": 105,
    "start_time": "2021-12-08T07:09:32.000Z"
   },
   {
    "duration": 143,
    "start_time": "2021-12-08T07:09:32.107Z"
   },
   {
    "duration": 40,
    "start_time": "2021-12-08T07:09:32.252Z"
   },
   {
    "duration": 51,
    "start_time": "2021-12-08T07:09:32.294Z"
   },
   {
    "duration": 128,
    "start_time": "2021-12-08T07:09:32.347Z"
   },
   {
    "duration": 11,
    "start_time": "2021-12-08T07:09:32.477Z"
   },
   {
    "duration": 2,
    "start_time": "2021-12-08T07:09:32.490Z"
   },
   {
    "duration": 17,
    "start_time": "2021-12-08T07:09:32.494Z"
   },
   {
    "duration": 10,
    "start_time": "2021-12-08T07:15:22.453Z"
   },
   {
    "duration": 297,
    "start_time": "2021-12-08T07:15:55.455Z"
   },
   {
    "duration": 10,
    "start_time": "2021-12-08T07:16:07.941Z"
   },
   {
    "duration": 9,
    "start_time": "2021-12-08T07:16:37.399Z"
   },
   {
    "duration": 21,
    "start_time": "2021-12-08T07:17:41.129Z"
   },
   {
    "duration": 91,
    "start_time": "2021-12-08T07:18:29.331Z"
   },
   {
    "duration": 25,
    "start_time": "2021-12-08T07:18:33.387Z"
   },
   {
    "duration": 740,
    "start_time": "2021-12-08T07:21:42.008Z"
   },
   {
    "duration": 17,
    "start_time": "2021-12-08T07:21:53.639Z"
   },
   {
    "duration": 29,
    "start_time": "2021-12-08T07:23:22.411Z"
   },
   {
    "duration": 28,
    "start_time": "2021-12-08T07:24:56.437Z"
   },
   {
    "duration": 32,
    "start_time": "2021-12-08T07:25:13.029Z"
   },
   {
    "duration": 15,
    "start_time": "2021-12-08T07:29:09.915Z"
   },
   {
    "duration": 74,
    "start_time": "2021-12-08T07:38:15.755Z"
   },
   {
    "duration": 180,
    "start_time": "2021-12-08T07:38:25.356Z"
   },
   {
    "duration": 106,
    "start_time": "2021-12-08T07:38:25.538Z"
   },
   {
    "duration": 153,
    "start_time": "2021-12-08T07:38:25.646Z"
   },
   {
    "duration": 36,
    "start_time": "2021-12-08T07:38:25.801Z"
   },
   {
    "duration": 22,
    "start_time": "2021-12-08T07:38:25.839Z"
   },
   {
    "duration": 138,
    "start_time": "2021-12-08T07:38:25.863Z"
   },
   {
    "duration": 42,
    "start_time": "2021-12-08T07:38:52.028Z"
   },
   {
    "duration": 18,
    "start_time": "2021-12-08T07:39:06.003Z"
   },
   {
    "duration": 45,
    "start_time": "2021-12-08T07:51:10.262Z"
   },
   {
    "duration": 14,
    "start_time": "2021-12-08T07:51:19.013Z"
   },
   {
    "duration": 10,
    "start_time": "2021-12-08T07:52:05.415Z"
   },
   {
    "duration": 16,
    "start_time": "2021-12-08T07:52:29.008Z"
   },
   {
    "duration": 5,
    "start_time": "2021-12-08T07:53:52.321Z"
   },
   {
    "duration": 6,
    "start_time": "2021-12-08T07:54:02.633Z"
   },
   {
    "duration": 16,
    "start_time": "2021-12-08T08:57:59.317Z"
   },
   {
    "duration": 282,
    "start_time": "2021-12-08T09:00:07.868Z"
   },
   {
    "duration": 747,
    "start_time": "2021-12-08T09:00:35.369Z"
   },
   {
    "duration": 171,
    "start_time": "2021-12-08T09:00:40.924Z"
   },
   {
    "duration": 105,
    "start_time": "2021-12-08T09:00:41.097Z"
   },
   {
    "duration": 151,
    "start_time": "2021-12-08T09:00:41.205Z"
   },
   {
    "duration": 39,
    "start_time": "2021-12-08T09:00:41.359Z"
   },
   {
    "duration": 23,
    "start_time": "2021-12-08T09:00:41.400Z"
   },
   {
    "duration": 123,
    "start_time": "2021-12-08T09:00:41.425Z"
   },
   {
    "duration": 9,
    "start_time": "2021-12-08T09:00:41.549Z"
   },
   {
    "duration": 2,
    "start_time": "2021-12-08T09:00:41.559Z"
   },
   {
    "duration": 44,
    "start_time": "2021-12-08T09:00:41.563Z"
   },
   {
    "duration": 8,
    "start_time": "2021-12-08T09:00:41.609Z"
   },
   {
    "duration": 39,
    "start_time": "2021-12-08T09:00:41.619Z"
   },
   {
    "duration": 277,
    "start_time": "2021-12-08T09:00:41.659Z"
   },
   {
    "duration": 2466,
    "start_time": "2021-12-08T09:00:39.472Z"
   },
   {
    "duration": 6,
    "start_time": "2021-12-08T09:01:42.179Z"
   },
   {
    "duration": 5,
    "start_time": "2021-12-08T09:02:50.197Z"
   },
   {
    "duration": 6,
    "start_time": "2021-12-08T09:02:52.813Z"
   },
   {
    "duration": 7,
    "start_time": "2021-12-08T09:02:58.645Z"
   },
   {
    "duration": 271,
    "start_time": "2021-12-08T09:03:00.974Z"
   },
   {
    "duration": 325,
    "start_time": "2021-12-08T09:05:15.137Z"
   },
   {
    "duration": 182,
    "start_time": "2021-12-08T09:05:21.298Z"
   },
   {
    "duration": 111,
    "start_time": "2021-12-08T09:05:21.482Z"
   },
   {
    "duration": 157,
    "start_time": "2021-12-08T09:05:21.594Z"
   },
   {
    "duration": 38,
    "start_time": "2021-12-08T09:05:21.752Z"
   },
   {
    "duration": 23,
    "start_time": "2021-12-08T09:05:21.792Z"
   },
   {
    "duration": 129,
    "start_time": "2021-12-08T09:05:21.817Z"
   },
   {
    "duration": 11,
    "start_time": "2021-12-08T09:05:21.948Z"
   },
   {
    "duration": 3,
    "start_time": "2021-12-08T09:05:21.962Z"
   },
   {
    "duration": 79,
    "start_time": "2021-12-08T09:05:21.966Z"
   },
   {
    "duration": 11,
    "start_time": "2021-12-08T09:05:22.047Z"
   },
   {
    "duration": 22,
    "start_time": "2021-12-08T09:05:22.059Z"
   },
   {
    "duration": 4,
    "start_time": "2021-12-08T09:05:22.083Z"
   },
   {
    "duration": 8,
    "start_time": "2021-12-08T09:05:22.089Z"
   },
   {
    "duration": 289,
    "start_time": "2021-12-08T09:05:22.099Z"
   },
   {
    "duration": 2511,
    "start_time": "2021-12-08T09:05:19.879Z"
   },
   {
    "duration": 6,
    "start_time": "2021-12-08T09:06:12.289Z"
   },
   {
    "duration": 7,
    "start_time": "2021-12-08T09:06:12.962Z"
   },
   {
    "duration": 21,
    "start_time": "2021-12-08T09:06:14.171Z"
   },
   {
    "duration": 75,
    "start_time": "2021-12-08T09:25:36.001Z"
   },
   {
    "duration": 164,
    "start_time": "2021-12-08T09:25:48.618Z"
   },
   {
    "duration": 104,
    "start_time": "2021-12-08T09:25:48.784Z"
   },
   {
    "duration": 141,
    "start_time": "2021-12-08T09:25:48.891Z"
   },
   {
    "duration": 36,
    "start_time": "2021-12-08T09:25:49.034Z"
   },
   {
    "duration": 20,
    "start_time": "2021-12-08T09:25:49.072Z"
   },
   {
    "duration": 116,
    "start_time": "2021-12-08T09:25:49.094Z"
   },
   {
    "duration": 8,
    "start_time": "2021-12-08T09:25:49.212Z"
   },
   {
    "duration": 12,
    "start_time": "2021-12-08T09:25:49.222Z"
   },
   {
    "duration": 84,
    "start_time": "2021-12-08T09:25:49.235Z"
   },
   {
    "duration": 10,
    "start_time": "2021-12-08T09:25:49.321Z"
   },
   {
    "duration": 38,
    "start_time": "2021-12-08T09:25:49.332Z"
   },
   {
    "duration": 14,
    "start_time": "2021-12-08T09:25:49.372Z"
   },
   {
    "duration": 28,
    "start_time": "2021-12-08T09:25:49.388Z"
   },
   {
    "duration": 28,
    "start_time": "2021-12-08T09:25:49.419Z"
   },
   {
    "duration": 301,
    "start_time": "2021-12-08T09:25:49.449Z"
   },
   {
    "duration": 1375,
    "start_time": "2021-12-08T09:26:32.809Z"
   },
   {
    "duration": 347,
    "start_time": "2021-12-08T09:26:51.449Z"
   },
   {
    "duration": 781,
    "start_time": "2021-12-08T09:26:56.563Z"
   },
   {
    "duration": 104,
    "start_time": "2021-12-08T09:26:57.346Z"
   },
   {
    "duration": 151,
    "start_time": "2021-12-08T09:26:57.452Z"
   },
   {
    "duration": 37,
    "start_time": "2021-12-08T09:26:57.605Z"
   },
   {
    "duration": 30,
    "start_time": "2021-12-08T09:26:57.644Z"
   },
   {
    "duration": 130,
    "start_time": "2021-12-08T09:26:57.676Z"
   },
   {
    "duration": 13,
    "start_time": "2021-12-08T09:26:57.807Z"
   },
   {
    "duration": 13,
    "start_time": "2021-12-08T09:26:57.823Z"
   },
   {
    "duration": 94,
    "start_time": "2021-12-08T09:26:57.838Z"
   },
   {
    "duration": 1362,
    "start_time": "2021-12-08T09:26:57.934Z"
   },
   {
    "duration": 509,
    "start_time": "2021-12-08T09:27:32.353Z"
   },
   {
    "duration": 781,
    "start_time": "2021-12-08T09:27:49.963Z"
   },
   {
    "duration": 101,
    "start_time": "2021-12-08T09:27:50.747Z"
   },
   {
    "duration": 148,
    "start_time": "2021-12-08T09:27:50.850Z"
   },
   {
    "duration": 38,
    "start_time": "2021-12-08T09:27:51.000Z"
   },
   {
    "duration": 21,
    "start_time": "2021-12-08T09:27:51.040Z"
   },
   {
    "duration": 137,
    "start_time": "2021-12-08T09:27:51.063Z"
   },
   {
    "duration": 14,
    "start_time": "2021-12-08T09:27:51.201Z"
   },
   {
    "duration": 6,
    "start_time": "2021-12-08T09:27:51.216Z"
   },
   {
    "duration": 99,
    "start_time": "2021-12-08T09:27:51.224Z"
   },
   {
    "duration": 1422,
    "start_time": "2021-12-08T09:27:51.325Z"
   },
   {
    "duration": 373,
    "start_time": "2021-12-08T09:28:26.488Z"
   },
   {
    "duration": 265,
    "start_time": "2021-12-08T09:29:39.306Z"
   },
   {
    "duration": 817,
    "start_time": "2021-12-08T09:29:53.185Z"
   },
   {
    "duration": 100,
    "start_time": "2021-12-08T09:29:54.004Z"
   },
   {
    "duration": 151,
    "start_time": "2021-12-08T09:29:54.106Z"
   },
   {
    "duration": 36,
    "start_time": "2021-12-08T09:29:54.259Z"
   },
   {
    "duration": 27,
    "start_time": "2021-12-08T09:29:54.297Z"
   },
   {
    "duration": 134,
    "start_time": "2021-12-08T09:29:54.325Z"
   },
   {
    "duration": 15,
    "start_time": "2021-12-08T09:29:54.461Z"
   },
   {
    "duration": 3,
    "start_time": "2021-12-08T09:29:54.478Z"
   },
   {
    "duration": 97,
    "start_time": "2021-12-08T09:29:54.484Z"
   },
   {
    "duration": 21,
    "start_time": "2021-12-08T09:29:54.583Z"
   },
   {
    "duration": 59,
    "start_time": "2021-12-08T09:29:54.606Z"
   },
   {
    "duration": 7,
    "start_time": "2021-12-08T09:29:54.666Z"
   },
   {
    "duration": 17,
    "start_time": "2021-12-08T09:29:54.675Z"
   },
   {
    "duration": 23,
    "start_time": "2021-12-08T09:29:54.694Z"
   },
   {
    "duration": 316,
    "start_time": "2021-12-08T09:29:54.718Z"
   },
   {
    "duration": 327,
    "start_time": "2021-12-08T09:30:23.891Z"
   },
   {
    "duration": 362,
    "start_time": "2021-12-08T09:30:57.442Z"
   },
   {
    "duration": 259,
    "start_time": "2021-12-08T09:31:07.747Z"
   },
   {
    "duration": 166,
    "start_time": "2021-12-08T09:31:16.491Z"
   },
   {
    "duration": 98,
    "start_time": "2021-12-08T09:31:16.659Z"
   },
   {
    "duration": 141,
    "start_time": "2021-12-08T09:31:16.760Z"
   },
   {
    "duration": 40,
    "start_time": "2021-12-08T09:31:16.903Z"
   },
   {
    "duration": 22,
    "start_time": "2021-12-08T09:31:16.945Z"
   },
   {
    "duration": 130,
    "start_time": "2021-12-08T09:31:16.968Z"
   },
   {
    "duration": 7,
    "start_time": "2021-12-08T09:31:17.100Z"
   },
   {
    "duration": 2,
    "start_time": "2021-12-08T09:31:17.110Z"
   },
   {
    "duration": 79,
    "start_time": "2021-12-08T09:31:17.113Z"
   },
   {
    "duration": 18,
    "start_time": "2021-12-08T09:31:17.194Z"
   },
   {
    "duration": 48,
    "start_time": "2021-12-08T09:31:17.214Z"
   },
   {
    "duration": 6,
    "start_time": "2021-12-08T09:31:17.263Z"
   },
   {
    "duration": 9,
    "start_time": "2021-12-08T09:31:17.270Z"
   },
   {
    "duration": 21,
    "start_time": "2021-12-08T09:31:17.281Z"
   },
   {
    "duration": 283,
    "start_time": "2021-12-08T09:31:17.304Z"
   },
   {
    "duration": 351,
    "start_time": "2021-12-08T09:31:51.413Z"
   },
   {
    "duration": 308,
    "start_time": "2021-12-08T09:32:03.802Z"
   },
   {
    "duration": 162,
    "start_time": "2021-12-08T09:32:12.580Z"
   },
   {
    "duration": 101,
    "start_time": "2021-12-08T09:32:12.744Z"
   },
   {
    "duration": 140,
    "start_time": "2021-12-08T09:32:12.848Z"
   },
   {
    "duration": 40,
    "start_time": "2021-12-08T09:32:12.990Z"
   },
   {
    "duration": 21,
    "start_time": "2021-12-08T09:32:13.032Z"
   },
   {
    "duration": 137,
    "start_time": "2021-12-08T09:32:13.055Z"
   },
   {
    "duration": 10,
    "start_time": "2021-12-08T09:32:13.194Z"
   },
   {
    "duration": 2,
    "start_time": "2021-12-08T09:32:13.207Z"
   },
   {
    "duration": 82,
    "start_time": "2021-12-08T09:32:13.212Z"
   },
   {
    "duration": 21,
    "start_time": "2021-12-08T09:32:13.296Z"
   },
   {
    "duration": 59,
    "start_time": "2021-12-08T09:32:13.319Z"
   },
   {
    "duration": 7,
    "start_time": "2021-12-08T09:32:13.379Z"
   },
   {
    "duration": 8,
    "start_time": "2021-12-08T09:32:13.388Z"
   },
   {
    "duration": 24,
    "start_time": "2021-12-08T09:32:13.398Z"
   },
   {
    "duration": 395,
    "start_time": "2021-12-08T09:32:13.423Z"
   },
   {
    "duration": 35,
    "start_time": "2021-12-08T09:32:58.508Z"
   },
   {
    "duration": 81,
    "start_time": "2021-12-08T09:34:00.766Z"
   },
   {
    "duration": 76,
    "start_time": "2021-12-08T09:34:10.497Z"
   },
   {
    "duration": 73,
    "start_time": "2021-12-08T09:34:18.370Z"
   },
   {
    "duration": 36,
    "start_time": "2021-12-08T09:36:05.058Z"
   },
   {
    "duration": 77,
    "start_time": "2021-12-08T09:36:54.528Z"
   },
   {
    "duration": 21,
    "start_time": "2021-12-08T09:37:09.268Z"
   },
   {
    "duration": 22,
    "start_time": "2021-12-08T09:37:24.157Z"
   },
   {
    "duration": 18,
    "start_time": "2021-12-08T09:39:03.143Z"
   },
   {
    "duration": 28,
    "start_time": "2021-12-08T09:48:22.573Z"
   },
   {
    "duration": 3,
    "start_time": "2021-12-08T09:50:12.826Z"
   },
   {
    "duration": 1049,
    "start_time": "2021-12-08T09:52:41.020Z"
   },
   {
    "duration": 20,
    "start_time": "2021-12-08T09:59:30.919Z"
   },
   {
    "duration": 26,
    "start_time": "2021-12-08T09:59:57.846Z"
   },
   {
    "duration": 28,
    "start_time": "2021-12-08T10:00:03.745Z"
   },
   {
    "duration": 26,
    "start_time": "2021-12-08T10:00:26.281Z"
   },
   {
    "duration": 14,
    "start_time": "2021-12-08T10:00:52.552Z"
   },
   {
    "duration": 13,
    "start_time": "2021-12-08T10:01:58.515Z"
   },
   {
    "duration": 17,
    "start_time": "2021-12-08T10:03:04.549Z"
   },
   {
    "duration": 13,
    "start_time": "2021-12-08T10:03:25.293Z"
   },
   {
    "duration": 279,
    "start_time": "2021-12-08T10:43:28.859Z"
   },
   {
    "duration": 23,
    "start_time": "2021-12-08T10:43:36.779Z"
   },
   {
    "duration": 325,
    "start_time": "2021-12-08T10:45:29.439Z"
   },
   {
    "duration": 181,
    "start_time": "2021-12-08T10:45:35.327Z"
   },
   {
    "duration": 105,
    "start_time": "2021-12-08T10:45:35.510Z"
   },
   {
    "duration": 159,
    "start_time": "2021-12-08T10:45:35.618Z"
   },
   {
    "duration": 48,
    "start_time": "2021-12-08T10:45:35.779Z"
   },
   {
    "duration": 22,
    "start_time": "2021-12-08T10:45:35.828Z"
   },
   {
    "duration": 137,
    "start_time": "2021-12-08T10:45:35.852Z"
   },
   {
    "duration": 9,
    "start_time": "2021-12-08T10:45:35.991Z"
   },
   {
    "duration": 13,
    "start_time": "2021-12-08T10:45:36.003Z"
   },
   {
    "duration": 85,
    "start_time": "2021-12-08T10:45:36.018Z"
   },
   {
    "duration": 20,
    "start_time": "2021-12-08T10:45:36.105Z"
   },
   {
    "duration": 28,
    "start_time": "2021-12-08T10:45:36.127Z"
   },
   {
    "duration": 24,
    "start_time": "2021-12-08T10:45:36.157Z"
   },
   {
    "duration": 11,
    "start_time": "2021-12-08T10:45:36.183Z"
   },
   {
    "duration": 12,
    "start_time": "2021-12-08T10:45:36.196Z"
   },
   {
    "duration": 46,
    "start_time": "2021-12-08T10:45:36.210Z"
   },
   {
    "duration": 13,
    "start_time": "2021-12-08T10:45:36.258Z"
   },
   {
    "duration": 8,
    "start_time": "2021-12-08T10:45:36.273Z"
   },
   {
    "duration": 15,
    "start_time": "2021-12-08T10:45:36.282Z"
   },
   {
    "duration": 20,
    "start_time": "2021-12-08T10:45:36.299Z"
   },
   {
    "duration": 274,
    "start_time": "2021-12-08T10:45:36.321Z"
   },
   {
    "duration": 274,
    "start_time": "2021-12-08T10:54:23.965Z"
   },
   {
    "duration": 277,
    "start_time": "2021-12-08T10:54:27.301Z"
   },
   {
    "duration": 164,
    "start_time": "2021-12-08T10:54:32.341Z"
   },
   {
    "duration": 104,
    "start_time": "2021-12-08T10:54:32.507Z"
   },
   {
    "duration": 144,
    "start_time": "2021-12-08T10:54:32.613Z"
   },
   {
    "duration": 47,
    "start_time": "2021-12-08T10:54:32.759Z"
   },
   {
    "duration": 21,
    "start_time": "2021-12-08T10:54:32.808Z"
   },
   {
    "duration": 123,
    "start_time": "2021-12-08T10:54:32.831Z"
   },
   {
    "duration": 9,
    "start_time": "2021-12-08T10:54:32.956Z"
   },
   {
    "duration": 57,
    "start_time": "2021-12-08T10:54:32.967Z"
   },
   {
    "duration": 12,
    "start_time": "2021-12-08T10:54:33.044Z"
   },
   {
    "duration": 19,
    "start_time": "2021-12-08T10:54:33.058Z"
   },
   {
    "duration": 21,
    "start_time": "2021-12-08T10:54:33.078Z"
   },
   {
    "duration": 11,
    "start_time": "2021-12-08T10:54:33.100Z"
   },
   {
    "duration": 41,
    "start_time": "2021-12-08T10:54:33.113Z"
   },
   {
    "duration": 15,
    "start_time": "2021-12-08T10:54:33.156Z"
   },
   {
    "duration": 17,
    "start_time": "2021-12-08T10:54:33.173Z"
   },
   {
    "duration": 8,
    "start_time": "2021-12-08T10:54:33.192Z"
   },
   {
    "duration": 13,
    "start_time": "2021-12-08T10:54:33.201Z"
   },
   {
    "duration": 2,
    "start_time": "2021-12-08T10:54:33.216Z"
   },
   {
    "duration": 370,
    "start_time": "2021-12-08T10:54:33.220Z"
   },
   {
    "duration": 24,
    "start_time": "2021-12-08T10:55:03.445Z"
   },
   {
    "duration": 24,
    "start_time": "2021-12-08T10:55:09.385Z"
   },
   {
    "duration": 23,
    "start_time": "2021-12-08T10:55:17.055Z"
   },
   {
    "duration": 11,
    "start_time": "2021-12-08T10:56:26.155Z"
   },
   {
    "duration": 23,
    "start_time": "2021-12-08T10:56:30.705Z"
   },
   {
    "duration": 14,
    "start_time": "2021-12-08T10:57:47.505Z"
   },
   {
    "duration": 24,
    "start_time": "2021-12-08T10:57:55.843Z"
   },
   {
    "duration": 27,
    "start_time": "2021-12-08T10:58:02.083Z"
   },
   {
    "duration": 12,
    "start_time": "2021-12-08T10:58:24.299Z"
   },
   {
    "duration": 169,
    "start_time": "2021-12-08T10:58:32.627Z"
   },
   {
    "duration": 97,
    "start_time": "2021-12-08T10:58:32.805Z"
   },
   {
    "duration": 138,
    "start_time": "2021-12-08T10:58:32.904Z"
   },
   {
    "duration": 37,
    "start_time": "2021-12-08T10:58:33.044Z"
   },
   {
    "duration": 26,
    "start_time": "2021-12-08T10:58:33.082Z"
   },
   {
    "duration": 144,
    "start_time": "2021-12-08T10:58:33.110Z"
   },
   {
    "duration": 9,
    "start_time": "2021-12-08T10:58:33.256Z"
   },
   {
    "duration": 88,
    "start_time": "2021-12-08T10:58:33.268Z"
   },
   {
    "duration": 10,
    "start_time": "2021-12-08T10:58:33.358Z"
   },
   {
    "duration": 41,
    "start_time": "2021-12-08T10:58:33.369Z"
   },
   {
    "duration": 30,
    "start_time": "2021-12-08T10:58:33.411Z"
   },
   {
    "duration": 9,
    "start_time": "2021-12-08T10:58:33.443Z"
   },
   {
    "duration": 37,
    "start_time": "2021-12-08T10:58:33.454Z"
   },
   {
    "duration": 18,
    "start_time": "2021-12-08T10:58:33.493Z"
   },
   {
    "duration": 31,
    "start_time": "2021-12-08T10:58:33.513Z"
   },
   {
    "duration": 15,
    "start_time": "2021-12-08T10:58:33.546Z"
   },
   {
    "duration": 28,
    "start_time": "2021-12-08T10:58:33.563Z"
   },
   {
    "duration": 28,
    "start_time": "2021-12-08T10:58:33.593Z"
   },
   {
    "duration": 282,
    "start_time": "2021-12-08T10:58:33.623Z"
   },
   {
    "duration": 25,
    "start_time": "2021-12-08T10:59:04.067Z"
   },
   {
    "duration": 28,
    "start_time": "2021-12-08T10:59:19.340Z"
   },
   {
    "duration": 4,
    "start_time": "2021-12-08T11:00:29.437Z"
   },
   {
    "duration": 27,
    "start_time": "2021-12-08T11:00:30.703Z"
   },
   {
    "duration": 5,
    "start_time": "2021-12-08T11:02:16.369Z"
   },
   {
    "duration": 24,
    "start_time": "2021-12-08T11:02:17.489Z"
   },
   {
    "duration": 3,
    "start_time": "2021-12-08T11:02:36.457Z"
   },
   {
    "duration": 25,
    "start_time": "2021-12-08T11:02:37.265Z"
   },
   {
    "duration": 196,
    "start_time": "2021-12-08T11:03:13.299Z"
   },
   {
    "duration": 160,
    "start_time": "2021-12-08T11:03:13.497Z"
   },
   {
    "duration": 192,
    "start_time": "2021-12-08T11:03:13.659Z"
   },
   {
    "duration": 55,
    "start_time": "2021-12-08T11:03:13.854Z"
   },
   {
    "duration": 30,
    "start_time": "2021-12-08T11:03:13.911Z"
   },
   {
    "duration": 196,
    "start_time": "2021-12-08T11:03:13.943Z"
   },
   {
    "duration": 14,
    "start_time": "2021-12-08T11:03:14.146Z"
   },
   {
    "duration": 100,
    "start_time": "2021-12-08T11:03:14.162Z"
   },
   {
    "duration": 11,
    "start_time": "2021-12-08T11:03:14.266Z"
   },
   {
    "duration": 30,
    "start_time": "2021-12-08T11:03:14.279Z"
   },
   {
    "duration": 36,
    "start_time": "2021-12-08T11:03:14.311Z"
   },
   {
    "duration": 7,
    "start_time": "2021-12-08T11:03:14.350Z"
   },
   {
    "duration": 66,
    "start_time": "2021-12-08T11:03:14.358Z"
   },
   {
    "duration": 13,
    "start_time": "2021-12-08T11:03:14.426Z"
   },
   {
    "duration": 34,
    "start_time": "2021-12-08T11:03:14.440Z"
   },
   {
    "duration": 18,
    "start_time": "2021-12-08T11:03:14.477Z"
   },
   {
    "duration": 13,
    "start_time": "2021-12-08T11:03:14.497Z"
   },
   {
    "duration": 41,
    "start_time": "2021-12-08T11:03:14.512Z"
   },
   {
    "duration": 10,
    "start_time": "2021-12-08T11:03:14.556Z"
   },
   {
    "duration": 296,
    "start_time": "2021-12-08T11:03:14.568Z"
   },
   {
    "duration": 5,
    "start_time": "2021-12-08T11:04:01.331Z"
   },
   {
    "duration": 39,
    "start_time": "2021-12-08T11:04:02.028Z"
   },
   {
    "duration": 19,
    "start_time": "2021-12-08T11:04:14.659Z"
   },
   {
    "duration": 29,
    "start_time": "2021-12-08T11:04:22.621Z"
   },
   {
    "duration": 15,
    "start_time": "2021-12-08T11:04:49.773Z"
   },
   {
    "duration": 16,
    "start_time": "2021-12-08T11:05:50.799Z"
   },
   {
    "duration": 184,
    "start_time": "2021-12-08T11:06:05.839Z"
   },
   {
    "duration": 115,
    "start_time": "2021-12-08T11:06:06.025Z"
   },
   {
    "duration": 167,
    "start_time": "2021-12-08T11:06:06.142Z"
   },
   {
    "duration": 39,
    "start_time": "2021-12-08T11:06:06.311Z"
   },
   {
    "duration": 22,
    "start_time": "2021-12-08T11:06:06.352Z"
   },
   {
    "duration": 138,
    "start_time": "2021-12-08T11:06:06.376Z"
   },
   {
    "duration": 11,
    "start_time": "2021-12-08T11:06:06.516Z"
   },
   {
    "duration": 82,
    "start_time": "2021-12-08T11:06:06.529Z"
   },
   {
    "duration": 10,
    "start_time": "2021-12-08T11:06:06.613Z"
   },
   {
    "duration": 30,
    "start_time": "2021-12-08T11:06:06.625Z"
   },
   {
    "duration": 24,
    "start_time": "2021-12-08T11:06:06.656Z"
   },
   {
    "duration": 5,
    "start_time": "2021-12-08T11:06:06.682Z"
   },
   {
    "duration": 25,
    "start_time": "2021-12-08T11:06:06.689Z"
   },
   {
    "duration": 18,
    "start_time": "2021-12-08T11:06:06.744Z"
   },
   {
    "duration": 16,
    "start_time": "2021-12-08T11:06:06.764Z"
   },
   {
    "duration": 16,
    "start_time": "2021-12-08T11:06:06.782Z"
   },
   {
    "duration": 12,
    "start_time": "2021-12-08T11:06:06.800Z"
   },
   {
    "duration": 31,
    "start_time": "2021-12-08T11:06:06.814Z"
   },
   {
    "duration": 9,
    "start_time": "2021-12-08T11:06:06.847Z"
   },
   {
    "duration": 3,
    "start_time": "2021-12-08T11:06:06.858Z"
   },
   {
    "duration": 775,
    "start_time": "2021-12-08T11:06:06.863Z"
   },
   {
    "duration": 9,
    "start_time": "2021-12-08T11:12:35.793Z"
   },
   {
    "duration": 17,
    "start_time": "2021-12-08T11:12:38.257Z"
   },
   {
    "duration": 8,
    "start_time": "2021-12-08T11:12:57.617Z"
   },
   {
    "duration": 30,
    "start_time": "2021-12-08T11:13:04.761Z"
   },
   {
    "duration": 119,
    "start_time": "2021-12-08T11:16:18.015Z"
   },
   {
    "duration": 106,
    "start_time": "2021-12-08T11:16:30.543Z"
   },
   {
    "duration": 206,
    "start_time": "2021-12-08T11:16:38.106Z"
   },
   {
    "duration": 92,
    "start_time": "2021-12-08T11:16:44.159Z"
   },
   {
    "duration": 131,
    "start_time": "2021-12-08T11:17:00.887Z"
   },
   {
    "duration": 5,
    "start_time": "2021-12-08T11:17:08.353Z"
   },
   {
    "duration": 5,
    "start_time": "2021-12-08T11:17:17.071Z"
   },
   {
    "duration": 4,
    "start_time": "2021-12-08T11:35:39.934Z"
   },
   {
    "duration": 4,
    "start_time": "2021-12-08T11:35:52.157Z"
   },
   {
    "duration": 3,
    "start_time": "2021-12-08T11:44:40.036Z"
   },
   {
    "duration": 11,
    "start_time": "2021-12-08T11:44:40.497Z"
   },
   {
    "duration": 16,
    "start_time": "2021-12-08T11:44:41.027Z"
   },
   {
    "duration": 12,
    "start_time": "2021-12-08T11:44:42.828Z"
   },
   {
    "duration": 13,
    "start_time": "2021-12-08T11:44:43.779Z"
   },
   {
    "duration": 15,
    "start_time": "2021-12-08T11:44:44.188Z"
   },
   {
    "duration": 7,
    "start_time": "2021-12-08T11:44:45.019Z"
   },
   {
    "duration": 11,
    "start_time": "2021-12-08T11:44:45.595Z"
   },
   {
    "duration": 2,
    "start_time": "2021-12-08T11:44:46.406Z"
   },
   {
    "duration": 29,
    "start_time": "2021-12-08T11:44:47.467Z"
   },
   {
    "duration": 179,
    "start_time": "2021-12-08T11:44:58.078Z"
   },
   {
    "duration": 106,
    "start_time": "2021-12-08T11:44:58.259Z"
   },
   {
    "duration": 151,
    "start_time": "2021-12-08T11:44:58.367Z"
   },
   {
    "duration": 39,
    "start_time": "2021-12-08T11:44:58.519Z"
   },
   {
    "duration": 28,
    "start_time": "2021-12-08T11:44:58.559Z"
   },
   {
    "duration": 133,
    "start_time": "2021-12-08T11:44:58.588Z"
   },
   {
    "duration": 8,
    "start_time": "2021-12-08T11:44:58.723Z"
   },
   {
    "duration": 76,
    "start_time": "2021-12-08T11:44:58.733Z"
   },
   {
    "duration": 9,
    "start_time": "2021-12-08T11:44:58.812Z"
   },
   {
    "duration": 32,
    "start_time": "2021-12-08T11:44:58.822Z"
   },
   {
    "duration": 22,
    "start_time": "2021-12-08T11:44:58.856Z"
   },
   {
    "duration": 3,
    "start_time": "2021-12-08T11:44:58.879Z"
   },
   {
    "duration": 33,
    "start_time": "2021-12-08T11:44:58.884Z"
   },
   {
    "duration": 21,
    "start_time": "2021-12-08T11:44:58.919Z"
   },
   {
    "duration": 18,
    "start_time": "2021-12-08T11:44:58.942Z"
   },
   {
    "duration": 14,
    "start_time": "2021-12-08T11:44:58.963Z"
   },
   {
    "duration": 15,
    "start_time": "2021-12-08T11:44:58.979Z"
   },
   {
    "duration": 10,
    "start_time": "2021-12-08T11:44:58.997Z"
   },
   {
    "duration": 39,
    "start_time": "2021-12-08T11:44:59.009Z"
   },
   {
    "duration": 7,
    "start_time": "2021-12-08T11:44:59.051Z"
   },
   {
    "duration": 29,
    "start_time": "2021-12-08T11:44:59.060Z"
   },
   {
    "duration": 7479,
    "start_time": "2021-12-08T11:44:59.091Z"
   },
   {
    "duration": 18,
    "start_time": "2021-12-08T11:45:06.554Z"
   },
   {
    "duration": 93,
    "start_time": "2021-12-08T11:49:53.884Z"
   },
   {
    "duration": 93,
    "start_time": "2021-12-08T11:50:10.116Z"
   },
   {
    "duration": 4393,
    "start_time": "2021-12-08T11:50:29.732Z"
   },
   {
    "duration": 4527,
    "start_time": "2021-12-08T11:50:35.285Z"
   },
   {
    "duration": 8677,
    "start_time": "2021-12-08T11:52:30.984Z"
   },
   {
    "duration": 15,
    "start_time": "2021-12-08T11:54:08.117Z"
   },
   {
    "duration": 9235,
    "start_time": "2021-12-08T11:56:46.368Z"
   },
   {
    "duration": 9506,
    "start_time": "2021-12-08T11:58:25.778Z"
   },
   {
    "duration": 785,
    "start_time": "2021-12-08T13:05:24.860Z"
   },
   {
    "duration": 109,
    "start_time": "2021-12-08T13:05:25.648Z"
   },
   {
    "duration": 157,
    "start_time": "2021-12-08T13:05:25.759Z"
   },
   {
    "duration": 36,
    "start_time": "2021-12-08T13:05:25.919Z"
   },
   {
    "duration": 22,
    "start_time": "2021-12-08T13:05:25.957Z"
   },
   {
    "duration": 147,
    "start_time": "2021-12-08T13:05:25.981Z"
   },
   {
    "duration": 25,
    "start_time": "2021-12-08T13:05:26.129Z"
   },
   {
    "duration": 73,
    "start_time": "2021-12-08T13:05:26.156Z"
   },
   {
    "duration": 10,
    "start_time": "2021-12-08T13:05:26.244Z"
   },
   {
    "duration": 11,
    "start_time": "2021-12-08T13:05:26.255Z"
   },
   {
    "duration": 23,
    "start_time": "2021-12-08T13:05:26.267Z"
   },
   {
    "duration": 8,
    "start_time": "2021-12-08T13:05:26.292Z"
   },
   {
    "duration": 8,
    "start_time": "2021-12-08T13:05:26.302Z"
   },
   {
    "duration": 319,
    "start_time": "2021-12-08T13:05:26.312Z"
   },
   {
    "duration": 1907,
    "start_time": "2021-12-08T13:05:24.726Z"
   },
   {
    "duration": 1905,
    "start_time": "2021-12-08T13:05:24.729Z"
   },
   {
    "duration": 1902,
    "start_time": "2021-12-08T13:05:24.733Z"
   },
   {
    "duration": 1901,
    "start_time": "2021-12-08T13:05:24.735Z"
   },
   {
    "duration": 1890,
    "start_time": "2021-12-08T13:05:24.747Z"
   },
   {
    "duration": 1882,
    "start_time": "2021-12-08T13:05:24.756Z"
   },
   {
    "duration": 1883,
    "start_time": "2021-12-08T13:05:24.757Z"
   },
   {
    "duration": 1882,
    "start_time": "2021-12-08T13:05:24.759Z"
   },
   {
    "duration": 1882,
    "start_time": "2021-12-08T13:05:24.760Z"
   },
   {
    "duration": 16,
    "start_time": "2021-12-08T13:05:41.935Z"
   },
   {
    "duration": 2,
    "start_time": "2021-12-08T13:06:12.333Z"
   },
   {
    "duration": 3,
    "start_time": "2021-12-08T13:06:12.739Z"
   },
   {
    "duration": 2,
    "start_time": "2021-12-08T13:06:13.128Z"
   },
   {
    "duration": 2,
    "start_time": "2021-12-08T13:06:13.440Z"
   },
   {
    "duration": 3,
    "start_time": "2021-12-08T13:06:13.755Z"
   },
   {
    "duration": 2,
    "start_time": "2021-12-08T13:06:14.086Z"
   },
   {
    "duration": 13,
    "start_time": "2021-12-08T13:06:15.190Z"
   },
   {
    "duration": 9144,
    "start_time": "2021-12-08T13:06:18.357Z"
   },
   {
    "duration": 20,
    "start_time": "2021-12-08T13:06:42.128Z"
   },
   {
    "duration": 892,
    "start_time": "2021-12-08T15:00:54.277Z"
   },
   {
    "duration": 469,
    "start_time": "2021-12-08T15:01:23.948Z"
   },
   {
    "duration": 206,
    "start_time": "2021-12-08T15:01:37.198Z"
   },
   {
    "duration": 24,
    "start_time": "2021-12-08T15:01:43.578Z"
   },
   {
    "duration": 5,
    "start_time": "2021-12-08T15:08:25.041Z"
   },
   {
    "duration": 3,
    "start_time": "2021-12-08T15:08:38.518Z"
   },
   {
    "duration": 4,
    "start_time": "2021-12-08T15:08:48.192Z"
   },
   {
    "duration": 339,
    "start_time": "2021-12-08T15:15:08.940Z"
   },
   {
    "duration": 281,
    "start_time": "2021-12-08T15:15:22.454Z"
   },
   {
    "duration": 372,
    "start_time": "2021-12-08T15:16:16.890Z"
   },
   {
    "duration": 707,
    "start_time": "2021-12-08T15:17:13.920Z"
   },
   {
    "duration": 11,
    "start_time": "2021-12-08T15:18:36.544Z"
   },
   {
    "duration": 23,
    "start_time": "2021-12-08T15:18:38.628Z"
   },
   {
    "duration": 19,
    "start_time": "2021-12-08T15:19:44.235Z"
   },
   {
    "duration": 21,
    "start_time": "2021-12-08T15:20:10.378Z"
   },
   {
    "duration": 21,
    "start_time": "2021-12-08T15:20:11.725Z"
   },
   {
    "duration": 192,
    "start_time": "2021-12-08T15:20:22.621Z"
   },
   {
    "duration": 105,
    "start_time": "2021-12-08T15:20:22.815Z"
   },
   {
    "duration": 150,
    "start_time": "2021-12-08T15:20:22.922Z"
   },
   {
    "duration": 40,
    "start_time": "2021-12-08T15:20:23.074Z"
   },
   {
    "duration": 22,
    "start_time": "2021-12-08T15:20:23.116Z"
   },
   {
    "duration": 139,
    "start_time": "2021-12-08T15:20:23.140Z"
   },
   {
    "duration": 10,
    "start_time": "2021-12-08T15:20:23.281Z"
   },
   {
    "duration": 84,
    "start_time": "2021-12-08T15:20:23.293Z"
   },
   {
    "duration": 10,
    "start_time": "2021-12-08T15:20:23.380Z"
   },
   {
    "duration": 27,
    "start_time": "2021-12-08T15:20:23.392Z"
   },
   {
    "duration": 39,
    "start_time": "2021-12-08T15:20:23.421Z"
   },
   {
    "duration": 4,
    "start_time": "2021-12-08T15:20:23.462Z"
   },
   {
    "duration": 19,
    "start_time": "2021-12-08T15:20:23.468Z"
   },
   {
    "duration": 26,
    "start_time": "2021-12-08T15:20:23.489Z"
   },
   {
    "duration": 9,
    "start_time": "2021-12-08T15:20:23.517Z"
   },
   {
    "duration": 6,
    "start_time": "2021-12-08T15:20:23.528Z"
   },
   {
    "duration": 6,
    "start_time": "2021-12-08T15:20:23.535Z"
   },
   {
    "duration": 5,
    "start_time": "2021-12-08T15:20:23.544Z"
   },
   {
    "duration": 8,
    "start_time": "2021-12-08T15:20:23.551Z"
   },
   {
    "duration": 9,
    "start_time": "2021-12-08T15:20:23.561Z"
   },
   {
    "duration": 27,
    "start_time": "2021-12-08T15:20:23.572Z"
   },
   {
    "duration": 39,
    "start_time": "2021-12-08T15:20:23.601Z"
   },
   {
    "duration": 230,
    "start_time": "2021-12-08T15:20:23.643Z"
   },
   {
    "duration": 23,
    "start_time": "2021-12-08T15:20:23.875Z"
   },
   {
    "duration": 8,
    "start_time": "2021-12-08T15:20:23.899Z"
   },
   {
    "duration": 42,
    "start_time": "2021-12-08T15:20:23.908Z"
   },
   {
    "duration": 11,
    "start_time": "2021-12-08T15:21:04.167Z"
   },
   {
    "duration": 21,
    "start_time": "2021-12-08T15:21:05.214Z"
   },
   {
    "duration": 4,
    "start_time": "2021-12-08T15:21:15.019Z"
   },
   {
    "duration": 8,
    "start_time": "2021-12-08T15:21:16.690Z"
   },
   {
    "duration": 8,
    "start_time": "2021-12-08T15:21:24.810Z"
   },
   {
    "duration": 16,
    "start_time": "2021-12-08T15:21:25.775Z"
   },
   {
    "duration": 11,
    "start_time": "2021-12-08T15:22:50.381Z"
   },
   {
    "duration": 16,
    "start_time": "2021-12-08T15:22:52.200Z"
   },
   {
    "duration": 6,
    "start_time": "2021-12-08T15:24:23.232Z"
   },
   {
    "duration": 11,
    "start_time": "2021-12-08T15:24:36.367Z"
   },
   {
    "duration": 11,
    "start_time": "2021-12-08T15:25:23.885Z"
   },
   {
    "duration": 292,
    "start_time": "2021-12-08T15:26:51.602Z"
   },
   {
    "duration": 12,
    "start_time": "2021-12-08T15:27:45.680Z"
   },
   {
    "duration": 12,
    "start_time": "2021-12-08T15:28:15.622Z"
   },
   {
    "duration": 16,
    "start_time": "2021-12-08T15:29:19.428Z"
   },
   {
    "duration": 14,
    "start_time": "2021-12-08T15:30:59.106Z"
   },
   {
    "duration": 12,
    "start_time": "2021-12-08T15:31:11.496Z"
   },
   {
    "duration": 22,
    "start_time": "2021-12-08T15:31:15.324Z"
   },
   {
    "duration": 199,
    "start_time": "2021-12-08T15:31:18.836Z"
   },
   {
    "duration": 22,
    "start_time": "2021-12-08T15:31:19.468Z"
   },
   {
    "duration": 5,
    "start_time": "2021-12-08T15:31:29.861Z"
   },
   {
    "duration": 22,
    "start_time": "2021-12-08T15:31:31.012Z"
   },
   {
    "duration": 25,
    "start_time": "2021-12-08T15:31:35.510Z"
   },
   {
    "duration": 14,
    "start_time": "2021-12-08T15:32:32.781Z"
   },
   {
    "duration": 696,
    "start_time": "2021-12-08T15:32:53.899Z"
   },
   {
    "duration": 97,
    "start_time": "2021-12-08T15:33:05.075Z"
   },
   {
    "duration": 20,
    "start_time": "2021-12-08T15:33:11.284Z"
   },
   {
    "duration": 15,
    "start_time": "2021-12-08T15:33:28.098Z"
   },
   {
    "duration": 14,
    "start_time": "2021-12-08T15:33:34.181Z"
   },
   {
    "duration": 445,
    "start_time": "2021-12-09T07:44:42.011Z"
   },
   {
    "duration": 384,
    "start_time": "2021-12-09T07:44:48.090Z"
   },
   {
    "duration": 1010,
    "start_time": "2021-12-09T07:44:58.263Z"
   },
   {
    "duration": 139,
    "start_time": "2021-12-09T07:44:59.276Z"
   },
   {
    "duration": 199,
    "start_time": "2021-12-09T07:44:59.418Z"
   },
   {
    "duration": 57,
    "start_time": "2021-12-09T07:44:59.620Z"
   },
   {
    "duration": 26,
    "start_time": "2021-12-09T07:44:59.679Z"
   },
   {
    "duration": 206,
    "start_time": "2021-12-09T07:44:59.707Z"
   },
   {
    "duration": 798,
    "start_time": "2021-12-09T07:44:59.916Z"
   },
   {
    "duration": 13,
    "start_time": "2021-12-09T07:45:28.132Z"
   },
   {
    "duration": 11,
    "start_time": "2021-12-09T07:46:23.431Z"
   },
   {
    "duration": 564,
    "start_time": "2021-12-09T08:03:34.961Z"
   },
   {
    "duration": 230,
    "start_time": "2021-12-09T08:03:44.291Z"
   },
   {
    "duration": 154,
    "start_time": "2021-12-09T08:03:44.523Z"
   },
   {
    "duration": 214,
    "start_time": "2021-12-09T08:03:44.681Z"
   },
   {
    "duration": 12,
    "start_time": "2021-12-09T08:03:44.898Z"
   },
   {
    "duration": 59,
    "start_time": "2021-12-09T08:03:44.913Z"
   },
   {
    "duration": 26,
    "start_time": "2021-12-09T08:03:44.974Z"
   },
   {
    "duration": 207,
    "start_time": "2021-12-09T08:03:45.003Z"
   },
   {
    "duration": 16,
    "start_time": "2021-12-09T08:03:45.214Z"
   },
   {
    "duration": 150,
    "start_time": "2021-12-09T08:03:45.233Z"
   },
   {
    "duration": 31,
    "start_time": "2021-12-09T08:03:45.386Z"
   },
   {
    "duration": 66,
    "start_time": "2021-12-09T08:03:45.419Z"
   },
   {
    "duration": 12,
    "start_time": "2021-12-09T08:03:45.488Z"
   },
   {
    "duration": 14,
    "start_time": "2021-12-09T08:03:45.502Z"
   },
   {
    "duration": 52,
    "start_time": "2021-12-09T08:03:45.518Z"
   },
   {
    "duration": 7,
    "start_time": "2021-12-09T08:03:45.572Z"
   },
   {
    "duration": 9,
    "start_time": "2021-12-09T08:03:45.581Z"
   },
   {
    "duration": 11,
    "start_time": "2021-12-09T08:03:45.593Z"
   },
   {
    "duration": 12,
    "start_time": "2021-12-09T08:03:45.606Z"
   },
   {
    "duration": 13,
    "start_time": "2021-12-09T08:03:45.620Z"
   },
   {
    "duration": 25,
    "start_time": "2021-12-09T08:03:45.635Z"
   },
   {
    "duration": 24,
    "start_time": "2021-12-09T08:03:45.663Z"
   },
   {
    "duration": 31,
    "start_time": "2021-12-09T08:03:45.690Z"
   },
   {
    "duration": 391,
    "start_time": "2021-12-09T08:03:45.726Z"
   },
   {
    "duration": 50,
    "start_time": "2021-12-09T08:03:46.120Z"
   },
   {
    "duration": 7,
    "start_time": "2021-12-09T08:03:46.172Z"
   },
   {
    "duration": 22,
    "start_time": "2021-12-09T08:03:46.181Z"
   },
   {
    "duration": 10,
    "start_time": "2021-12-09T08:04:40.778Z"
   },
   {
    "duration": 451,
    "start_time": "2021-12-09T08:06:35.740Z"
   },
   {
    "duration": 442,
    "start_time": "2021-12-09T08:06:46.087Z"
   },
   {
    "duration": 149,
    "start_time": "2021-12-09T08:06:46.533Z"
   },
   {
    "duration": 206,
    "start_time": "2021-12-09T08:06:46.687Z"
   },
   {
    "duration": 15,
    "start_time": "2021-12-09T08:06:46.897Z"
   },
   {
    "duration": 69,
    "start_time": "2021-12-09T08:06:46.915Z"
   },
   {
    "duration": 25,
    "start_time": "2021-12-09T08:06:46.987Z"
   },
   {
    "duration": 211,
    "start_time": "2021-12-09T08:06:47.014Z"
   },
   {
    "duration": 104,
    "start_time": "2021-12-09T08:06:50.534Z"
   },
   {
    "duration": 29,
    "start_time": "2021-12-09T08:06:51.726Z"
   },
   {
    "duration": 25,
    "start_time": "2021-12-09T08:08:54.648Z"
   },
   {
    "duration": 24,
    "start_time": "2021-12-09T08:09:19.288Z"
   },
   {
    "duration": 60,
    "start_time": "2021-12-09T08:09:58.754Z"
   },
   {
    "duration": 241,
    "start_time": "2021-12-09T08:11:47.670Z"
   },
   {
    "duration": 141,
    "start_time": "2021-12-09T08:11:47.914Z"
   },
   {
    "duration": 196,
    "start_time": "2021-12-09T08:11:48.058Z"
   },
   {
    "duration": 12,
    "start_time": "2021-12-09T08:11:48.260Z"
   },
   {
    "duration": 60,
    "start_time": "2021-12-09T08:11:48.275Z"
   },
   {
    "duration": 31,
    "start_time": "2021-12-09T08:11:48.337Z"
   },
   {
    "duration": 204,
    "start_time": "2021-12-09T08:11:48.370Z"
   },
   {
    "duration": 26,
    "start_time": "2021-12-09T08:11:48.578Z"
   },
   {
    "duration": 127,
    "start_time": "2021-12-09T08:11:48.608Z"
   },
   {
    "duration": 40,
    "start_time": "2021-12-09T08:11:48.737Z"
   },
   {
    "duration": 34,
    "start_time": "2021-12-09T08:11:48.779Z"
   },
   {
    "duration": 4,
    "start_time": "2021-12-09T08:11:48.816Z"
   },
   {
    "duration": 43,
    "start_time": "2021-12-09T08:11:48.822Z"
   },
   {
    "duration": 23,
    "start_time": "2021-12-09T08:11:48.867Z"
   },
   {
    "duration": 10867,
    "start_time": "2021-12-09T08:11:48.893Z"
   },
   {
    "duration": 1504,
    "start_time": "2021-12-09T08:11:58.258Z"
   },
   {
    "duration": 1504,
    "start_time": "2021-12-09T08:11:58.260Z"
   },
   {
    "duration": 1504,
    "start_time": "2021-12-09T08:11:58.261Z"
   },
   {
    "duration": 1503,
    "start_time": "2021-12-09T08:11:58.263Z"
   },
   {
    "duration": 1502,
    "start_time": "2021-12-09T08:11:58.265Z"
   },
   {
    "duration": 1500,
    "start_time": "2021-12-09T08:11:58.268Z"
   },
   {
    "duration": 1500,
    "start_time": "2021-12-09T08:11:58.269Z"
   },
   {
    "duration": 1500,
    "start_time": "2021-12-09T08:11:58.271Z"
   },
   {
    "duration": 1499,
    "start_time": "2021-12-09T08:11:58.273Z"
   },
   {
    "duration": 23,
    "start_time": "2021-12-09T08:12:10.788Z"
   },
   {
    "duration": 3,
    "start_time": "2021-12-09T08:12:10.814Z"
   },
   {
    "duration": 4,
    "start_time": "2021-12-09T08:12:10.820Z"
   },
   {
    "duration": 7,
    "start_time": "2021-12-09T08:12:10.826Z"
   },
   {
    "duration": 6,
    "start_time": "2021-12-09T08:12:10.835Z"
   },
   {
    "duration": 3,
    "start_time": "2021-12-09T08:12:10.859Z"
   },
   {
    "duration": 19,
    "start_time": "2021-12-09T08:12:10.864Z"
   },
   {
    "duration": 31,
    "start_time": "2021-12-09T08:12:10.886Z"
   },
   {
    "duration": 402,
    "start_time": "2021-12-09T08:12:10.920Z"
   },
   {
    "duration": 21,
    "start_time": "2021-12-09T08:12:11.324Z"
   },
   {
    "duration": 531,
    "start_time": "2021-12-09T08:44:17.919Z"
   },
   {
    "duration": 407,
    "start_time": "2021-12-09T08:50:55.107Z"
   },
   {
    "duration": 531,
    "start_time": "2021-12-09T08:55:02.424Z"
   },
   {
    "duration": 235,
    "start_time": "2021-12-09T08:55:13.640Z"
   },
   {
    "duration": 5,
    "start_time": "2021-12-09T08:55:19.201Z"
   },
   {
    "duration": 11203,
    "start_time": "2021-12-09T08:55:55.009Z"
   },
   {
    "duration": 1587,
    "start_time": "2021-12-09T08:56:04.629Z"
   },
   {
    "duration": 6,
    "start_time": "2021-12-09T08:56:32.647Z"
   },
   {
    "duration": 146,
    "start_time": "2021-12-09T08:56:33.466Z"
   },
   {
    "duration": 10,
    "start_time": "2021-12-09T08:58:39.430Z"
   },
   {
    "duration": 115,
    "start_time": "2021-12-09T08:58:41.590Z"
   },
   {
    "duration": 87,
    "start_time": "2021-12-09T08:59:25.495Z"
   },
   {
    "duration": 233,
    "start_time": "2021-12-09T08:59:31.137Z"
   },
   {
    "duration": 156,
    "start_time": "2021-12-09T08:59:31.372Z"
   },
   {
    "duration": 277,
    "start_time": "2021-12-09T08:59:31.531Z"
   },
   {
    "duration": 15,
    "start_time": "2021-12-09T08:59:31.812Z"
   },
   {
    "duration": 114,
    "start_time": "2021-12-09T08:59:31.830Z"
   },
   {
    "duration": 32,
    "start_time": "2021-12-09T08:59:31.947Z"
   },
   {
    "duration": 15,
    "start_time": "2021-12-09T08:59:31.982Z"
   },
   {
    "duration": 260,
    "start_time": "2021-12-09T08:59:32.003Z"
   },
   {
    "duration": 31,
    "start_time": "2021-12-09T08:59:32.266Z"
   },
   {
    "duration": 124,
    "start_time": "2021-12-09T08:59:32.299Z"
   },
   {
    "duration": 43,
    "start_time": "2021-12-09T08:59:32.426Z"
   },
   {
    "duration": 37,
    "start_time": "2021-12-09T08:59:32.471Z"
   },
   {
    "duration": 4,
    "start_time": "2021-12-09T08:59:32.511Z"
   },
   {
    "duration": 49,
    "start_time": "2021-12-09T08:59:32.518Z"
   },
   {
    "duration": 17718,
    "start_time": "2021-12-09T08:59:32.570Z"
   },
   {
    "duration": 1584,
    "start_time": "2021-12-09T08:59:48.707Z"
   },
   {
    "duration": 1583,
    "start_time": "2021-12-09T08:59:48.711Z"
   },
   {
    "duration": 1580,
    "start_time": "2021-12-09T08:59:48.716Z"
   },
   {
    "duration": 1580,
    "start_time": "2021-12-09T08:59:48.718Z"
   },
   {
    "duration": 21,
    "start_time": "2021-12-09T09:02:29.186Z"
   },
   {
    "duration": 23,
    "start_time": "2021-12-09T09:02:49.868Z"
   },
   {
    "duration": 21,
    "start_time": "2021-12-09T09:02:56.676Z"
   },
   {
    "duration": 252,
    "start_time": "2021-12-09T09:03:06.612Z"
   },
   {
    "duration": 154,
    "start_time": "2021-12-09T09:03:06.867Z"
   },
   {
    "duration": 227,
    "start_time": "2021-12-09T09:03:07.025Z"
   },
   {
    "duration": 15,
    "start_time": "2021-12-09T09:03:07.255Z"
   },
   {
    "duration": 56,
    "start_time": "2021-12-09T09:03:07.273Z"
   },
   {
    "duration": 41,
    "start_time": "2021-12-09T09:03:07.332Z"
   },
   {
    "duration": 7,
    "start_time": "2021-12-09T09:03:07.376Z"
   },
   {
    "duration": 225,
    "start_time": "2021-12-09T09:03:07.387Z"
   },
   {
    "duration": 49,
    "start_time": "2021-12-09T09:03:07.615Z"
   },
   {
    "duration": 101,
    "start_time": "2021-12-09T09:03:07.666Z"
   },
   {
    "duration": 28,
    "start_time": "2021-12-09T09:03:07.769Z"
   },
   {
    "duration": 63,
    "start_time": "2021-12-09T09:03:07.799Z"
   },
   {
    "duration": 19,
    "start_time": "2021-12-09T09:03:07.864Z"
   },
   {
    "duration": 21,
    "start_time": "2021-12-09T09:03:07.886Z"
   },
   {
    "duration": 23,
    "start_time": "2021-12-09T09:03:14.861Z"
   },
   {
    "duration": 21,
    "start_time": "2021-12-09T09:03:25.948Z"
   },
   {
    "duration": 61,
    "start_time": "2021-12-09T09:03:31.526Z"
   },
   {
    "duration": 13194,
    "start_time": "2021-12-09T09:03:52.677Z"
   },
   {
    "duration": 1566,
    "start_time": "2021-12-09T09:04:04.310Z"
   },
   {
    "duration": 356,
    "start_time": "2021-12-09T09:07:28.628Z"
   },
   {
    "duration": 22,
    "start_time": "2021-12-09T09:07:36.786Z"
   },
   {
    "duration": 383,
    "start_time": "2021-12-09T09:08:41.221Z"
   },
   {
    "duration": 42,
    "start_time": "2021-12-09T09:09:45.638Z"
   },
   {
    "duration": 5,
    "start_time": "2021-12-09T09:16:37.715Z"
   },
   {
    "duration": 122,
    "start_time": "2021-12-09T09:16:39.091Z"
   },
   {
    "duration": 476,
    "start_time": "2021-12-09T09:16:58.899Z"
   },
   {
    "duration": 217,
    "start_time": "2021-12-09T09:17:05.403Z"
   },
   {
    "duration": 138,
    "start_time": "2021-12-09T09:17:05.623Z"
   },
   {
    "duration": 200,
    "start_time": "2021-12-09T09:17:05.764Z"
   },
   {
    "duration": 14,
    "start_time": "2021-12-09T09:17:05.967Z"
   },
   {
    "duration": 47,
    "start_time": "2021-12-09T09:17:05.984Z"
   },
   {
    "duration": 38,
    "start_time": "2021-12-09T09:17:06.033Z"
   },
   {
    "duration": 6,
    "start_time": "2021-12-09T09:17:06.074Z"
   },
   {
    "duration": 212,
    "start_time": "2021-12-09T09:17:06.084Z"
   },
   {
    "duration": 29,
    "start_time": "2021-12-09T09:17:06.299Z"
   },
   {
    "duration": 447,
    "start_time": "2021-12-09T09:17:09.109Z"
   },
   {
    "duration": 239,
    "start_time": "2021-12-09T09:17:14.531Z"
   },
   {
    "duration": 151,
    "start_time": "2021-12-09T09:17:14.773Z"
   },
   {
    "duration": 220,
    "start_time": "2021-12-09T09:17:14.929Z"
   },
   {
    "duration": 12,
    "start_time": "2021-12-09T09:17:15.159Z"
   },
   {
    "duration": 52,
    "start_time": "2021-12-09T09:17:15.174Z"
   },
   {
    "duration": 31,
    "start_time": "2021-12-09T09:17:15.228Z"
   },
   {
    "duration": 5,
    "start_time": "2021-12-09T09:17:15.262Z"
   },
   {
    "duration": 222,
    "start_time": "2021-12-09T09:17:15.270Z"
   },
   {
    "duration": 26,
    "start_time": "2021-12-09T09:17:15.495Z"
   },
   {
    "duration": 976,
    "start_time": "2021-12-09T09:17:15.524Z"
   },
   {
    "duration": 97,
    "start_time": "2021-12-09T09:17:38.330Z"
   },
   {
    "duration": 42,
    "start_time": "2021-12-09T09:17:42.499Z"
   },
   {
    "duration": 5,
    "start_time": "2021-12-09T09:18:19.541Z"
   },
   {
    "duration": 36,
    "start_time": "2021-12-09T09:18:20.893Z"
   },
   {
    "duration": 7,
    "start_time": "2021-12-09T09:18:42.660Z"
   },
   {
    "duration": 39,
    "start_time": "2021-12-09T09:18:43.893Z"
   },
   {
    "duration": 6,
    "start_time": "2021-12-09T09:19:04.660Z"
   },
   {
    "duration": 39,
    "start_time": "2021-12-09T09:19:05.333Z"
   },
   {
    "duration": 5,
    "start_time": "2021-12-09T09:19:30.061Z"
   },
   {
    "duration": 41,
    "start_time": "2021-12-09T09:19:31.261Z"
   },
   {
    "duration": 217,
    "start_time": "2021-12-09T09:20:23.936Z"
   },
   {
    "duration": 134,
    "start_time": "2021-12-09T09:20:24.159Z"
   },
   {
    "duration": 192,
    "start_time": "2021-12-09T09:20:24.295Z"
   },
   {
    "duration": 11,
    "start_time": "2021-12-09T09:20:24.490Z"
   },
   {
    "duration": 45,
    "start_time": "2021-12-09T09:20:24.504Z"
   },
   {
    "duration": 25,
    "start_time": "2021-12-09T09:20:24.560Z"
   },
   {
    "duration": 7,
    "start_time": "2021-12-09T09:20:24.588Z"
   },
   {
    "duration": 202,
    "start_time": "2021-12-09T09:20:24.598Z"
   },
   {
    "duration": 26,
    "start_time": "2021-12-09T09:20:24.803Z"
   },
   {
    "duration": 111,
    "start_time": "2021-12-09T09:20:24.831Z"
   },
   {
    "duration": 48,
    "start_time": "2021-12-09T09:20:24.944Z"
   },
   {
    "duration": 4,
    "start_time": "2021-12-09T09:20:24.994Z"
   },
   {
    "duration": 34,
    "start_time": "2021-12-09T09:20:25.000Z"
   },
   {
    "duration": 38,
    "start_time": "2021-12-09T09:20:36.926Z"
   },
   {
    "duration": 22,
    "start_time": "2021-12-09T09:21:00.169Z"
   },
   {
    "duration": 32,
    "start_time": "2021-12-09T09:21:01.024Z"
   },
   {
    "duration": 18,
    "start_time": "2021-12-09T09:21:01.633Z"
   },
   {
    "duration": 39,
    "start_time": "2021-12-09T09:21:02.705Z"
   },
   {
    "duration": 379,
    "start_time": "2021-12-09T09:27:01.098Z"
   },
   {
    "duration": 22,
    "start_time": "2021-12-09T09:27:10.256Z"
   },
   {
    "duration": 473,
    "start_time": "2021-12-09T09:37:05.057Z"
   },
   {
    "duration": 41,
    "start_time": "2021-12-09T09:37:52.492Z"
   },
   {
    "duration": 75,
    "start_time": "2021-12-09T09:38:10.210Z"
   },
   {
    "duration": 79,
    "start_time": "2021-12-09T09:38:54.788Z"
   },
   {
    "duration": 406,
    "start_time": "2021-12-09T10:24:01.253Z"
   },
   {
    "duration": 144,
    "start_time": "2021-12-09T10:24:01.663Z"
   },
   {
    "duration": 189,
    "start_time": "2021-12-09T10:24:01.810Z"
   },
   {
    "duration": 12,
    "start_time": "2021-12-09T10:24:02.001Z"
   },
   {
    "duration": 67,
    "start_time": "2021-12-09T10:24:02.016Z"
   },
   {
    "duration": 28,
    "start_time": "2021-12-09T10:24:02.086Z"
   },
   {
    "duration": 6,
    "start_time": "2021-12-09T10:24:02.117Z"
   },
   {
    "duration": 209,
    "start_time": "2021-12-09T10:24:02.129Z"
   },
   {
    "duration": 41,
    "start_time": "2021-12-09T10:24:02.341Z"
   },
   {
    "duration": 128,
    "start_time": "2021-12-09T10:24:02.385Z"
   },
   {
    "duration": 53,
    "start_time": "2021-12-09T10:24:02.516Z"
   },
   {
    "duration": 4,
    "start_time": "2021-12-09T10:24:02.572Z"
   },
   {
    "duration": 37,
    "start_time": "2021-12-09T10:24:02.579Z"
   },
   {
    "duration": 46,
    "start_time": "2021-12-09T10:24:02.619Z"
   },
   {
    "duration": 24,
    "start_time": "2021-12-09T10:24:02.668Z"
   },
   {
    "duration": 18,
    "start_time": "2021-12-09T10:24:02.694Z"
   },
   {
    "duration": 60,
    "start_time": "2021-12-09T10:24:02.715Z"
   },
   {
    "duration": 409,
    "start_time": "2021-12-09T10:24:02.777Z"
   },
   {
    "duration": 88,
    "start_time": "2021-12-09T10:24:03.189Z"
   },
   {
    "duration": 93,
    "start_time": "2021-12-09T10:24:03.279Z"
   },
   {
    "duration": 321,
    "start_time": "2021-12-09T10:25:11.464Z"
   },
   {
    "duration": 9,
    "start_time": "2021-12-09T10:28:39.186Z"
   },
   {
    "duration": 7,
    "start_time": "2021-12-09T10:28:51.714Z"
   },
   {
    "duration": 364,
    "start_time": "2021-12-09T10:29:00.682Z"
   },
   {
    "duration": 323,
    "start_time": "2021-12-09T10:29:48.513Z"
   },
   {
    "duration": 912,
    "start_time": "2021-12-09T10:32:39.954Z"
   },
   {
    "duration": 313,
    "start_time": "2021-12-09T10:34:08.692Z"
   },
   {
    "duration": 425,
    "start_time": "2021-12-09T10:34:36.186Z"
   },
   {
    "duration": 450,
    "start_time": "2021-12-09T10:34:44.578Z"
   },
   {
    "duration": 442,
    "start_time": "2021-12-09T10:36:12.686Z"
   },
   {
    "duration": 396,
    "start_time": "2021-12-09T10:36:17.332Z"
   },
   {
    "duration": 734,
    "start_time": "2021-12-09T10:37:05.798Z"
   },
   {
    "duration": 626,
    "start_time": "2021-12-09T10:37:26.103Z"
   },
   {
    "duration": 885,
    "start_time": "2021-12-09T10:37:42.627Z"
   },
   {
    "duration": 77,
    "start_time": "2021-12-09T10:38:56.794Z"
   },
   {
    "duration": 1261,
    "start_time": "2021-12-09T10:40:03.700Z"
   },
   {
    "duration": 780,
    "start_time": "2021-12-09T10:47:36.318Z"
   },
   {
    "duration": 606,
    "start_time": "2021-12-09T10:47:56.824Z"
   },
   {
    "duration": 1260,
    "start_time": "2021-12-09T10:48:15.184Z"
   },
   {
    "duration": 378,
    "start_time": "2021-12-09T10:58:16.104Z"
   },
   {
    "duration": 407,
    "start_time": "2021-12-09T11:24:47.289Z"
   },
   {
    "duration": 497,
    "start_time": "2021-12-09T11:25:09.353Z"
   },
   {
    "duration": 392,
    "start_time": "2021-12-09T11:33:46.318Z"
   },
   {
    "duration": 709,
    "start_time": "2021-12-09T11:39:50.056Z"
   },
   {
    "duration": 19,
    "start_time": "2021-12-09T11:40:01.384Z"
   },
   {
    "duration": 385,
    "start_time": "2021-12-09T11:40:14.930Z"
   },
   {
    "duration": 234,
    "start_time": "2021-12-09T11:40:15.322Z"
   },
   {
    "duration": 194,
    "start_time": "2021-12-09T11:40:15.558Z"
   },
   {
    "duration": 14,
    "start_time": "2021-12-09T11:40:15.755Z"
   },
   {
    "duration": 51,
    "start_time": "2021-12-09T11:40:15.771Z"
   },
   {
    "duration": 26,
    "start_time": "2021-12-09T11:40:15.824Z"
   },
   {
    "duration": 8,
    "start_time": "2021-12-09T11:40:15.852Z"
   },
   {
    "duration": 5,
    "start_time": "2021-12-09T11:40:15.864Z"
   },
   {
    "duration": 253,
    "start_time": "2021-12-09T11:40:15.872Z"
   },
   {
    "duration": 46,
    "start_time": "2021-12-09T11:40:16.128Z"
   },
   {
    "duration": 103,
    "start_time": "2021-12-09T11:40:16.176Z"
   },
   {
    "duration": 42,
    "start_time": "2021-12-09T11:40:16.281Z"
   },
   {
    "duration": 6,
    "start_time": "2021-12-09T11:40:16.327Z"
   },
   {
    "duration": 60,
    "start_time": "2021-12-09T11:40:16.335Z"
   },
   {
    "duration": 19,
    "start_time": "2021-12-09T11:40:16.398Z"
   },
   {
    "duration": 57,
    "start_time": "2021-12-09T11:40:16.420Z"
   },
   {
    "duration": 18,
    "start_time": "2021-12-09T11:40:16.480Z"
   },
   {
    "duration": 414,
    "start_time": "2021-12-09T11:40:16.501Z"
   },
   {
    "duration": 86,
    "start_time": "2021-12-09T11:40:16.917Z"
   },
   {
    "duration": 85,
    "start_time": "2021-12-09T11:40:17.006Z"
   },
   {
    "duration": 86,
    "start_time": "2021-12-09T11:40:17.094Z"
   },
   {
    "duration": 1222,
    "start_time": "2021-12-09T11:40:17.183Z"
   },
   {
    "duration": 8,
    "start_time": "2021-12-09T11:40:18.411Z"
   },
   {
    "duration": 61,
    "start_time": "2021-12-09T11:40:18.421Z"
   },
   {
    "duration": 6,
    "start_time": "2021-12-09T11:40:37.241Z"
   },
   {
    "duration": 6,
    "start_time": "2021-12-09T11:42:04.692Z"
   },
   {
    "duration": 367,
    "start_time": "2021-12-10T07:23:21.807Z"
   },
   {
    "duration": 915,
    "start_time": "2021-12-10T07:23:26.308Z"
   },
   {
    "duration": 112,
    "start_time": "2021-12-10T07:23:27.226Z"
   },
   {
    "duration": 161,
    "start_time": "2021-12-10T07:23:27.340Z"
   },
   {
    "duration": 10,
    "start_time": "2021-12-10T07:23:27.504Z"
   },
   {
    "duration": 40,
    "start_time": "2021-12-10T07:23:27.516Z"
   },
   {
    "duration": 22,
    "start_time": "2021-12-10T07:23:27.558Z"
   },
   {
    "duration": 5,
    "start_time": "2021-12-10T07:23:27.582Z"
   },
   {
    "duration": 9,
    "start_time": "2021-12-10T07:23:27.590Z"
   },
   {
    "duration": 148,
    "start_time": "2021-12-10T07:23:27.601Z"
   },
   {
    "duration": 35,
    "start_time": "2021-12-10T07:23:27.751Z"
   },
   {
    "duration": 98,
    "start_time": "2021-12-10T07:23:27.788Z"
   },
   {
    "duration": 25,
    "start_time": "2021-12-10T07:23:27.888Z"
   },
   {
    "duration": 7,
    "start_time": "2021-12-10T07:23:27.915Z"
   },
   {
    "duration": 44,
    "start_time": "2021-12-10T07:23:27.924Z"
   },
   {
    "duration": 14,
    "start_time": "2021-12-10T07:23:27.969Z"
   },
   {
    "duration": 16,
    "start_time": "2021-12-10T07:23:27.985Z"
   },
   {
    "duration": 16,
    "start_time": "2021-12-10T07:23:28.002Z"
   },
   {
    "duration": 245,
    "start_time": "2021-12-10T07:23:28.020Z"
   },
   {
    "duration": 47,
    "start_time": "2021-12-10T07:23:28.267Z"
   },
   {
    "duration": 69,
    "start_time": "2021-12-10T07:23:28.315Z"
   },
   {
    "duration": 768,
    "start_time": "2021-12-10T07:23:28.386Z"
   },
   {
    "duration": 9,
    "start_time": "2021-12-10T07:23:29.156Z"
   },
   {
    "duration": 4,
    "start_time": "2021-12-10T07:23:29.168Z"
   },
   {
    "duration": 32,
    "start_time": "2021-12-10T07:23:29.174Z"
   },
   {
    "duration": 7075,
    "start_time": "2021-12-10T07:23:29.208Z"
   },
   {
    "duration": 9,
    "start_time": "2021-12-10T07:24:23.588Z"
   },
   {
    "duration": 10,
    "start_time": "2021-12-10T07:24:44.764Z"
   },
   {
    "duration": 10,
    "start_time": "2021-12-10T07:25:07.732Z"
   },
   {
    "duration": 634,
    "start_time": "2021-12-10T09:09:42.472Z"
   },
   {
    "duration": 112,
    "start_time": "2021-12-10T09:09:43.108Z"
   },
   {
    "duration": 160,
    "start_time": "2021-12-10T09:09:43.222Z"
   },
   {
    "duration": 11,
    "start_time": "2021-12-10T09:09:43.384Z"
   },
   {
    "duration": 44,
    "start_time": "2021-12-10T09:09:43.397Z"
   },
   {
    "duration": 23,
    "start_time": "2021-12-10T09:09:43.442Z"
   },
   {
    "duration": 9,
    "start_time": "2021-12-10T09:09:43.467Z"
   },
   {
    "duration": 5,
    "start_time": "2021-12-10T09:09:43.479Z"
   },
   {
    "duration": 183,
    "start_time": "2021-12-10T09:09:43.486Z"
   },
   {
    "duration": 21,
    "start_time": "2021-12-10T09:09:43.671Z"
   },
   {
    "duration": 94,
    "start_time": "2021-12-10T09:09:43.693Z"
   },
   {
    "duration": 29,
    "start_time": "2021-12-10T09:09:43.789Z"
   },
   {
    "duration": 3,
    "start_time": "2021-12-10T09:09:43.820Z"
   },
   {
    "duration": 43,
    "start_time": "2021-12-10T09:09:43.825Z"
   },
   {
    "duration": 14,
    "start_time": "2021-12-10T09:09:43.870Z"
   },
   {
    "duration": 19,
    "start_time": "2021-12-10T09:09:43.886Z"
   },
   {
    "duration": 12,
    "start_time": "2021-12-10T09:09:43.907Z"
   },
   {
    "duration": 247,
    "start_time": "2021-12-10T09:09:43.920Z"
   },
   {
    "duration": 55,
    "start_time": "2021-12-10T09:09:44.169Z"
   },
   {
    "duration": 71,
    "start_time": "2021-12-10T09:09:44.226Z"
   },
   {
    "duration": 859,
    "start_time": "2021-12-10T09:09:44.299Z"
   },
   {
    "duration": 7,
    "start_time": "2021-12-10T09:09:45.160Z"
   },
   {
    "duration": 6,
    "start_time": "2021-12-10T09:09:45.171Z"
   },
   {
    "duration": 37,
    "start_time": "2021-12-10T09:09:45.179Z"
   },
   {
    "duration": 13,
    "start_time": "2021-12-10T09:09:45.219Z"
   },
   {
    "duration": 40,
    "start_time": "2021-12-10T09:09:45.234Z"
   },
   {
    "duration": 12,
    "start_time": "2021-12-10T09:09:45.277Z"
   },
   {
    "duration": 6,
    "start_time": "2021-12-10T09:09:48.044Z"
   },
   {
    "duration": 7,
    "start_time": "2021-12-10T10:12:08.615Z"
   },
   {
    "duration": 6,
    "start_time": "2021-12-10T10:19:59.922Z"
   },
   {
    "duration": 6,
    "start_time": "2021-12-10T10:22:02.110Z"
   },
   {
    "duration": 5,
    "start_time": "2021-12-10T10:22:42.942Z"
   },
   {
    "duration": 9,
    "start_time": "2021-12-10T10:24:24.146Z"
   },
   {
    "duration": 9,
    "start_time": "2021-12-10T10:24:37.498Z"
   },
   {
    "duration": 13,
    "start_time": "2021-12-10T10:24:51.962Z"
   },
   {
    "duration": 5,
    "start_time": "2021-12-10T10:34:24.561Z"
   },
   {
    "duration": 5,
    "start_time": "2021-12-10T10:35:04.331Z"
   },
   {
    "duration": 6,
    "start_time": "2021-12-10T10:35:28.220Z"
   },
   {
    "duration": 6,
    "start_time": "2021-12-10T10:35:32.183Z"
   },
   {
    "duration": 46,
    "start_time": "2021-12-10T11:38:06.514Z"
   },
   {
    "duration": 38,
    "start_time": "2021-12-10T11:39:00.548Z"
   },
   {
    "duration": 39,
    "start_time": "2021-12-10T11:39:41.324Z"
   },
   {
    "duration": 41,
    "start_time": "2021-12-10T11:40:38.670Z"
   },
   {
    "duration": 359,
    "start_time": "2021-12-10T11:41:19.664Z"
   },
   {
    "duration": 648,
    "start_time": "2021-12-10T11:42:08.217Z"
   },
   {
    "duration": 48,
    "start_time": "2021-12-10T11:42:29.440Z"
   },
   {
    "duration": 28,
    "start_time": "2021-12-10T11:44:18.892Z"
   },
   {
    "duration": 29,
    "start_time": "2021-12-10T11:44:52.030Z"
   },
   {
    "duration": 27,
    "start_time": "2021-12-10T11:45:39.126Z"
   },
   {
    "duration": 13,
    "start_time": "2021-12-10T13:31:44.879Z"
   },
   {
    "duration": 3,
    "start_time": "2021-12-10T13:41:36.941Z"
   },
   {
    "duration": 173,
    "start_time": "2021-12-10T13:41:38.294Z"
   },
   {
    "duration": 3,
    "start_time": "2021-12-10T13:56:25.597Z"
   },
   {
    "duration": 172,
    "start_time": "2021-12-10T13:56:25.602Z"
   },
   {
    "duration": 99,
    "start_time": "2021-12-10T13:56:25.775Z"
   },
   {
    "duration": 138,
    "start_time": "2021-12-10T13:56:25.876Z"
   },
   {
    "duration": 9,
    "start_time": "2021-12-10T13:56:26.016Z"
   },
   {
    "duration": 37,
    "start_time": "2021-12-10T13:56:26.027Z"
   },
   {
    "duration": 21,
    "start_time": "2021-12-10T13:56:26.066Z"
   },
   {
    "duration": 1078,
    "start_time": "2021-12-10T13:57:57.209Z"
   },
   {
    "duration": 268,
    "start_time": "2021-12-10T13:57:58.289Z"
   },
   {
    "duration": 153,
    "start_time": "2021-12-10T13:57:58.563Z"
   },
   {
    "duration": 222,
    "start_time": "2021-12-10T13:57:58.719Z"
   },
   {
    "duration": 21,
    "start_time": "2021-12-10T13:57:58.944Z"
   },
   {
    "duration": 45,
    "start_time": "2021-12-10T13:57:58.967Z"
   },
   {
    "duration": 27,
    "start_time": "2021-12-10T13:57:59.014Z"
   },
   {
    "duration": 5,
    "start_time": "2021-12-10T13:57:59.044Z"
   },
   {
    "duration": 177,
    "start_time": "2021-12-10T13:57:59.052Z"
   },
   {
    "duration": 47,
    "start_time": "2021-12-10T13:57:59.231Z"
   },
   {
    "duration": 83,
    "start_time": "2021-12-10T13:57:59.280Z"
   },
   {
    "duration": 24,
    "start_time": "2021-12-10T13:57:59.365Z"
   },
   {
    "duration": 8,
    "start_time": "2021-12-10T13:57:59.391Z"
   },
   {
    "duration": 34,
    "start_time": "2021-12-10T13:57:59.401Z"
   },
   {
    "duration": 39,
    "start_time": "2021-12-10T13:57:59.438Z"
   },
   {
    "duration": 20,
    "start_time": "2021-12-10T13:57:59.479Z"
   },
   {
    "duration": 17,
    "start_time": "2021-12-10T13:57:59.501Z"
   },
   {
    "duration": 243,
    "start_time": "2021-12-10T13:57:59.521Z"
   },
   {
    "duration": 11,
    "start_time": "2021-12-10T13:57:59.766Z"
   },
   {
    "duration": 342,
    "start_time": "2021-12-10T13:57:59.779Z"
   },
   {
    "duration": -13,
    "start_time": "2021-12-10T13:58:00.137Z"
   },
   {
    "duration": -14,
    "start_time": "2021-12-10T13:58:00.139Z"
   },
   {
    "duration": -30,
    "start_time": "2021-12-10T13:58:00.156Z"
   },
   {
    "duration": -38,
    "start_time": "2021-12-10T13:58:00.165Z"
   },
   {
    "duration": -40,
    "start_time": "2021-12-10T13:58:00.168Z"
   },
   {
    "duration": -41,
    "start_time": "2021-12-10T13:58:00.170Z"
   },
   {
    "duration": 335,
    "start_time": "2021-12-10T14:05:46.776Z"
   },
   {
    "duration": 4,
    "start_time": "2021-12-10T14:22:49.411Z"
   },
   {
    "duration": 24,
    "start_time": "2021-12-10T14:34:26.046Z"
   },
   {
    "duration": 24,
    "start_time": "2021-12-10T14:35:20.671Z"
   },
   {
    "duration": 24,
    "start_time": "2021-12-10T14:38:41.479Z"
   },
   {
    "duration": 6335,
    "start_time": "2021-12-10T14:39:01.391Z"
   },
   {
    "duration": 3,
    "start_time": "2021-12-10T14:39:16.706Z"
   },
   {
    "duration": 175,
    "start_time": "2021-12-10T14:39:16.711Z"
   },
   {
    "duration": 109,
    "start_time": "2021-12-10T14:39:16.888Z"
   },
   {
    "duration": 145,
    "start_time": "2021-12-10T14:39:16.999Z"
   },
   {
    "duration": 18,
    "start_time": "2021-12-10T14:39:17.146Z"
   },
   {
    "duration": 45,
    "start_time": "2021-12-10T14:39:17.166Z"
   },
   {
    "duration": 25,
    "start_time": "2021-12-10T14:39:17.212Z"
   },
   {
    "duration": 27,
    "start_time": "2021-12-10T14:39:17.239Z"
   },
   {
    "duration": 135,
    "start_time": "2021-12-10T14:39:17.267Z"
   },
   {
    "duration": 9,
    "start_time": "2021-12-10T14:39:17.404Z"
   },
   {
    "duration": 91,
    "start_time": "2021-12-10T14:39:17.414Z"
   },
   {
    "duration": 22,
    "start_time": "2021-12-10T14:39:17.507Z"
   },
   {
    "duration": 4,
    "start_time": "2021-12-10T14:39:17.531Z"
   },
   {
    "duration": 7581,
    "start_time": "2021-12-10T14:39:22.963Z"
   },
   {
    "duration": 218,
    "start_time": "2021-12-10T14:52:14.920Z"
   },
   {
    "duration": 3,
    "start_time": "2021-12-10T16:57:10.625Z"
   },
   {
    "duration": 190,
    "start_time": "2021-12-10T16:57:10.630Z"
   },
   {
    "duration": 109,
    "start_time": "2021-12-10T16:57:10.822Z"
   },
   {
    "duration": 150,
    "start_time": "2021-12-10T16:57:10.933Z"
   },
   {
    "duration": 9,
    "start_time": "2021-12-10T16:57:11.085Z"
   },
   {
    "duration": 38,
    "start_time": "2021-12-10T16:57:11.096Z"
   },
   {
    "duration": 21,
    "start_time": "2021-12-10T16:57:11.136Z"
   },
   {
    "duration": 7,
    "start_time": "2021-12-10T16:57:11.158Z"
   },
   {
    "duration": 129,
    "start_time": "2021-12-10T16:57:11.167Z"
   },
   {
    "duration": 10,
    "start_time": "2021-12-10T16:57:11.297Z"
   },
   {
    "duration": 78,
    "start_time": "2021-12-10T16:57:11.309Z"
   },
   {
    "duration": 22,
    "start_time": "2021-12-10T16:57:11.389Z"
   },
   {
    "duration": 4,
    "start_time": "2021-12-10T16:57:11.413Z"
   },
   {
    "duration": 18,
    "start_time": "2021-12-10T16:57:11.419Z"
   },
   {
    "duration": 30,
    "start_time": "2021-12-10T16:57:11.439Z"
   },
   {
    "duration": 12,
    "start_time": "2021-12-10T16:57:11.470Z"
   },
   {
    "duration": 217,
    "start_time": "2021-12-10T16:57:11.484Z"
   },
   {
    "duration": 12,
    "start_time": "2021-12-10T16:57:11.703Z"
   },
   {
    "duration": 269,
    "start_time": "2021-12-10T16:57:11.716Z"
   },
   {
    "duration": 25,
    "start_time": "2021-12-10T16:57:11.961Z"
   },
   {
    "duration": 24,
    "start_time": "2021-12-10T16:57:11.963Z"
   },
   {
    "duration": 6,
    "start_time": "2021-12-10T16:57:11.982Z"
   },
   {
    "duration": 4,
    "start_time": "2021-12-10T16:57:11.984Z"
   },
   {
    "duration": 3,
    "start_time": "2021-12-10T16:57:11.986Z"
   },
   {
    "duration": 2,
    "start_time": "2021-12-10T16:57:11.988Z"
   },
   {
    "duration": 11,
    "start_time": "2021-12-10T16:57:41.798Z"
   },
   {
    "duration": 25,
    "start_time": "2021-12-10T16:57:41.811Z"
   },
   {
    "duration": 405,
    "start_time": "2021-12-10T16:57:41.838Z"
   },
   {
    "duration": -10,
    "start_time": "2021-12-10T16:57:42.256Z"
   },
   {
    "duration": -11,
    "start_time": "2021-12-10T16:57:42.258Z"
   },
   {
    "duration": -11,
    "start_time": "2021-12-10T16:57:42.260Z"
   },
   {
    "duration": -12,
    "start_time": "2021-12-10T16:57:42.262Z"
   },
   {
    "duration": -12,
    "start_time": "2021-12-10T16:57:42.263Z"
   },
   {
    "duration": 28,
    "start_time": "2021-12-10T16:58:00.766Z"
   },
   {
    "duration": 25,
    "start_time": "2021-12-10T16:58:00.796Z"
   },
   {
    "duration": 847,
    "start_time": "2021-12-10T16:58:00.824Z"
   },
   {
    "duration": 5,
    "start_time": "2021-12-10T16:58:01.673Z"
   },
   {
    "duration": 13,
    "start_time": "2021-12-10T16:58:01.679Z"
   },
   {
    "duration": 12,
    "start_time": "2021-12-10T16:58:01.693Z"
   },
   {
    "duration": 8,
    "start_time": "2021-12-10T16:58:01.706Z"
   },
   {
    "duration": 9,
    "start_time": "2021-12-10T17:08:59.786Z"
   },
   {
    "duration": 14,
    "start_time": "2021-12-10T17:45:51.191Z"
   },
   {
    "duration": 25,
    "start_time": "2021-12-10T18:21:24.993Z"
   },
   {
    "duration": 30,
    "start_time": "2021-12-10T18:21:25.652Z"
   },
   {
    "duration": 5,
    "start_time": "2021-12-10T18:32:30.536Z"
   },
   {
    "duration": 6,
    "start_time": "2021-12-10T18:32:35.184Z"
   },
   {
    "duration": 257,
    "start_time": "2021-12-10T19:12:53.668Z"
   },
   {
    "duration": 202,
    "start_time": "2021-12-10T19:13:48.347Z"
   },
   {
    "duration": 153,
    "start_time": "2021-12-10T19:14:09.495Z"
   },
   {
    "duration": 1072,
    "start_time": "2021-12-10T19:31:44.871Z"
   },
   {
    "duration": 267,
    "start_time": "2021-12-10T19:31:45.945Z"
   },
   {
    "duration": 426,
    "start_time": "2021-12-10T19:31:46.215Z"
   },
   {
    "duration": 378,
    "start_time": "2021-12-10T19:31:46.643Z"
   },
   {
    "duration": 11,
    "start_time": "2021-12-10T19:31:47.024Z"
   },
   {
    "duration": 36,
    "start_time": "2021-12-10T19:31:47.038Z"
   },
   {
    "duration": 43,
    "start_time": "2021-12-10T19:31:47.077Z"
   },
   {
    "duration": 4,
    "start_time": "2021-12-10T19:31:47.123Z"
   },
   {
    "duration": 154,
    "start_time": "2021-12-10T19:31:47.129Z"
   },
   {
    "duration": 19,
    "start_time": "2021-12-10T19:31:47.285Z"
   },
   {
    "duration": 117,
    "start_time": "2021-12-10T19:31:47.306Z"
   },
   {
    "duration": 43,
    "start_time": "2021-12-10T19:31:47.425Z"
   },
   {
    "duration": 10,
    "start_time": "2021-12-10T19:31:47.470Z"
   },
   {
    "duration": 16,
    "start_time": "2021-12-10T19:31:47.482Z"
   },
   {
    "duration": 20,
    "start_time": "2021-12-10T19:31:47.500Z"
   },
   {
    "duration": 13,
    "start_time": "2021-12-10T19:31:47.522Z"
   },
   {
    "duration": 380,
    "start_time": "2021-12-10T19:31:47.536Z"
   },
   {
    "duration": 11,
    "start_time": "2021-12-10T19:31:47.918Z"
   },
   {
    "duration": 7,
    "start_time": "2021-12-10T19:31:47.931Z"
   },
   {
    "duration": 28,
    "start_time": "2021-12-10T19:31:47.939Z"
   },
   {
    "duration": 8,
    "start_time": "2021-12-10T19:31:47.969Z"
   },
   {
    "duration": 747,
    "start_time": "2021-12-10T19:31:47.978Z"
   },
   {
    "duration": 36,
    "start_time": "2021-12-10T19:31:48.728Z"
   },
   {
    "duration": 22,
    "start_time": "2021-12-10T19:31:48.766Z"
   },
   {
    "duration": 5,
    "start_time": "2021-12-10T19:31:48.790Z"
   },
   {
    "duration": 9,
    "start_time": "2021-12-10T19:31:48.797Z"
   },
   {
    "duration": 9,
    "start_time": "2021-12-10T19:31:48.808Z"
   },
   {
    "duration": 8,
    "start_time": "2021-12-10T19:31:48.818Z"
   },
   {
    "duration": 1225,
    "start_time": "2021-12-11T12:36:43.893Z"
   },
   {
    "duration": 284,
    "start_time": "2021-12-11T12:36:45.121Z"
   },
   {
    "duration": 113,
    "start_time": "2021-12-11T12:36:45.407Z"
   },
   {
    "duration": 169,
    "start_time": "2021-12-11T12:36:45.521Z"
   },
   {
    "duration": 9,
    "start_time": "2021-12-11T12:36:45.692Z"
   },
   {
    "duration": 41,
    "start_time": "2021-12-11T12:36:45.703Z"
   },
   {
    "duration": 21,
    "start_time": "2021-12-11T12:36:45.746Z"
   },
   {
    "duration": 5,
    "start_time": "2021-12-11T12:36:45.771Z"
   },
   {
    "duration": 146,
    "start_time": "2021-12-11T12:36:45.778Z"
   },
   {
    "duration": 21,
    "start_time": "2021-12-11T12:36:45.926Z"
   },
   {
    "duration": 95,
    "start_time": "2021-12-11T12:36:45.949Z"
   },
   {
    "duration": 23,
    "start_time": "2021-12-11T12:36:46.046Z"
   },
   {
    "duration": 6,
    "start_time": "2021-12-11T12:36:46.071Z"
   },
   {
    "duration": 17,
    "start_time": "2021-12-11T12:36:46.078Z"
   },
   {
    "duration": 47,
    "start_time": "2021-12-11T12:36:46.097Z"
   },
   {
    "duration": 20,
    "start_time": "2021-12-11T12:36:46.146Z"
   },
   {
    "duration": 158,
    "start_time": "2021-12-11T12:36:46.167Z"
   },
   {
    "duration": 18,
    "start_time": "2021-12-11T12:36:46.327Z"
   },
   {
    "duration": 7,
    "start_time": "2021-12-11T12:36:46.346Z"
   },
   {
    "duration": 9,
    "start_time": "2021-12-11T12:36:46.355Z"
   },
   {
    "duration": 7,
    "start_time": "2021-12-11T12:36:46.366Z"
   },
   {
    "duration": 1790,
    "start_time": "2021-12-11T12:36:46.374Z"
   },
   {
    "duration": 24,
    "start_time": "2021-12-11T12:36:48.167Z"
   },
   {
    "duration": 22,
    "start_time": "2021-12-11T12:36:48.193Z"
   },
   {
    "duration": 30,
    "start_time": "2021-12-11T12:36:48.217Z"
   },
   {
    "duration": 7,
    "start_time": "2021-12-11T12:36:48.249Z"
   },
   {
    "duration": 6,
    "start_time": "2021-12-11T12:36:48.258Z"
   },
   {
    "duration": 6,
    "start_time": "2021-12-11T12:36:48.266Z"
   },
   {
    "duration": 30,
    "start_time": "2021-12-11T12:40:00.731Z"
   },
   {
    "duration": 301,
    "start_time": "2021-12-11T19:34:48.840Z"
   },
   {
    "duration": 1085,
    "start_time": "2021-12-11T19:35:35.148Z"
   },
   {
    "duration": 177,
    "start_time": "2021-12-11T19:35:36.235Z"
   },
   {
    "duration": 104,
    "start_time": "2021-12-11T19:35:36.414Z"
   },
   {
    "duration": 153,
    "start_time": "2021-12-11T19:35:36.520Z"
   },
   {
    "duration": 9,
    "start_time": "2021-12-11T19:35:36.674Z"
   },
   {
    "duration": 38,
    "start_time": "2021-12-11T19:35:36.685Z"
   },
   {
    "duration": 22,
    "start_time": "2021-12-11T19:35:36.725Z"
   },
   {
    "duration": 7,
    "start_time": "2021-12-11T19:35:36.750Z"
   },
   {
    "duration": 144,
    "start_time": "2021-12-11T19:35:36.759Z"
   },
   {
    "duration": 15,
    "start_time": "2021-12-11T19:35:36.905Z"
   },
   {
    "duration": 87,
    "start_time": "2021-12-11T19:35:36.921Z"
   },
   {
    "duration": 23,
    "start_time": "2021-12-11T19:35:37.009Z"
   },
   {
    "duration": 29,
    "start_time": "2021-12-11T19:35:37.045Z"
   },
   {
    "duration": 34,
    "start_time": "2021-12-11T19:35:57.271Z"
   },
   {
    "duration": 407,
    "start_time": "2021-12-11T19:36:35.877Z"
   },
   {
    "duration": 354,
    "start_time": "2021-12-11T19:37:07.476Z"
   },
   {
    "duration": 38,
    "start_time": "2021-12-11T19:37:30.851Z"
   },
   {
    "duration": 38,
    "start_time": "2021-12-11T19:37:42.887Z"
   },
   {
    "duration": 30,
    "start_time": "2021-12-11T19:37:52.194Z"
   },
   {
    "duration": 25,
    "start_time": "2021-12-11T19:42:34.471Z"
   },
   {
    "duration": 329,
    "start_time": "2021-12-11T19:42:52.816Z"
   },
   {
    "duration": 26,
    "start_time": "2021-12-11T19:43:04.847Z"
   },
   {
    "duration": 22,
    "start_time": "2021-12-11T19:46:32.815Z"
   },
   {
    "duration": 86,
    "start_time": "2021-12-11T19:47:40.118Z"
   },
   {
    "duration": 126,
    "start_time": "2021-12-11T19:48:22.176Z"
   },
   {
    "duration": 22,
    "start_time": "2021-12-11T19:48:34.549Z"
   },
   {
    "duration": 7610,
    "start_time": "2021-12-11T19:48:48.417Z"
   },
   {
    "duration": 3,
    "start_time": "2021-12-11T19:49:07.788Z"
   },
   {
    "duration": 169,
    "start_time": "2021-12-11T19:49:07.793Z"
   },
   {
    "duration": 99,
    "start_time": "2021-12-11T19:49:07.964Z"
   },
   {
    "duration": 145,
    "start_time": "2021-12-11T19:49:08.066Z"
   },
   {
    "duration": 9,
    "start_time": "2021-12-11T19:49:08.212Z"
   },
   {
    "duration": 53,
    "start_time": "2021-12-11T19:49:08.222Z"
   },
   {
    "duration": 22,
    "start_time": "2021-12-11T19:49:08.278Z"
   },
   {
    "duration": 23,
    "start_time": "2021-12-11T19:49:08.302Z"
   },
   {
    "duration": 150,
    "start_time": "2021-12-11T19:49:08.327Z"
   },
   {
    "duration": 8,
    "start_time": "2021-12-11T19:49:08.478Z"
   },
   {
    "duration": 63,
    "start_time": "2021-12-11T19:49:08.488Z"
   },
   {
    "duration": 22,
    "start_time": "2021-12-11T19:49:08.553Z"
   },
   {
    "duration": 20,
    "start_time": "2021-12-11T19:49:08.577Z"
   },
   {
    "duration": 4,
    "start_time": "2021-12-11T19:49:08.599Z"
   },
   {
    "duration": 1202,
    "start_time": "2021-12-12T09:19:21.991Z"
   },
   {
    "duration": 185,
    "start_time": "2021-12-12T09:19:23.195Z"
   },
   {
    "duration": 103,
    "start_time": "2021-12-12T09:19:23.382Z"
   },
   {
    "duration": 150,
    "start_time": "2021-12-12T09:19:23.487Z"
   },
   {
    "duration": 10,
    "start_time": "2021-12-12T09:19:23.639Z"
   },
   {
    "duration": 66,
    "start_time": "2021-12-12T09:19:23.651Z"
   },
   {
    "duration": 22,
    "start_time": "2021-12-12T09:19:23.719Z"
   },
   {
    "duration": 5,
    "start_time": "2021-12-12T09:19:23.743Z"
   },
   {
    "duration": 128,
    "start_time": "2021-12-12T09:19:23.751Z"
   },
   {
    "duration": 13,
    "start_time": "2021-12-12T09:19:23.881Z"
   },
   {
    "duration": 81,
    "start_time": "2021-12-12T09:19:23.895Z"
   },
   {
    "duration": 44,
    "start_time": "2021-12-12T09:19:23.978Z"
   },
   {
    "duration": 23,
    "start_time": "2021-12-12T09:19:24.023Z"
   },
   {
    "duration": 9,
    "start_time": "2021-12-12T09:19:24.048Z"
   },
   {
    "duration": 11,
    "start_time": "2021-12-12T09:19:24.058Z"
   },
   {
    "duration": 40,
    "start_time": "2021-12-12T09:19:24.070Z"
   },
   {
    "duration": 14,
    "start_time": "2021-12-12T09:19:24.112Z"
   },
   {
    "duration": 318,
    "start_time": "2021-12-12T09:19:24.127Z"
   },
   {
    "duration": 11,
    "start_time": "2021-12-12T09:19:24.447Z"
   },
   {
    "duration": 7,
    "start_time": "2021-12-12T09:19:24.460Z"
   },
   {
    "duration": 8,
    "start_time": "2021-12-12T09:19:24.469Z"
   },
   {
    "duration": 28,
    "start_time": "2021-12-12T09:19:24.478Z"
   },
   {
    "duration": 726,
    "start_time": "2021-12-12T09:19:24.508Z"
   },
   {
    "duration": 22,
    "start_time": "2021-12-12T09:19:25.236Z"
   },
   {
    "duration": 23,
    "start_time": "2021-12-12T09:19:25.260Z"
   },
   {
    "duration": 303,
    "start_time": "2021-12-12T09:19:25.284Z"
   },
   {
    "duration": 450,
    "start_time": "2021-12-12T09:20:38.319Z"
   },
   {
    "duration": 1246,
    "start_time": "2022-04-28T14:33:28.062Z"
   },
   {
    "duration": 174,
    "start_time": "2022-04-28T14:33:29.311Z"
   },
   {
    "duration": 106,
    "start_time": "2022-04-28T14:33:29.487Z"
   },
   {
    "duration": 147,
    "start_time": "2022-04-28T14:33:29.594Z"
   },
   {
    "duration": 13,
    "start_time": "2022-04-28T14:33:29.743Z"
   },
   {
    "duration": 27,
    "start_time": "2022-04-28T14:33:29.758Z"
   },
   {
    "duration": 13,
    "start_time": "2022-04-28T14:33:29.787Z"
   },
   {
    "duration": 8,
    "start_time": "2022-04-28T14:33:29.801Z"
   },
   {
    "duration": 135,
    "start_time": "2022-04-28T14:33:29.810Z"
   },
   {
    "duration": 17,
    "start_time": "2022-04-28T14:33:29.947Z"
   },
   {
    "duration": 76,
    "start_time": "2022-04-28T14:33:29.966Z"
   },
   {
    "duration": 67,
    "start_time": "2022-04-28T14:33:37.500Z"
   },
   {
    "duration": 1159,
    "start_time": "2022-06-15T12:15:26.706Z"
   },
   {
    "duration": 304,
    "start_time": "2022-06-15T12:15:27.867Z"
   },
   {
    "duration": 376,
    "start_time": "2022-06-15T12:15:28.174Z"
   },
   {
    "duration": 390,
    "start_time": "2022-06-15T12:15:28.552Z"
   },
   {
    "duration": 10,
    "start_time": "2022-06-15T12:15:28.944Z"
   },
   {
    "duration": 219,
    "start_time": "2022-06-15T12:15:28.956Z"
   },
   {
    "duration": 182,
    "start_time": "2022-06-15T12:17:12.619Z"
   },
   {
    "duration": 171,
    "start_time": "2022-06-15T12:17:53.359Z"
   },
   {
    "duration": 12,
    "start_time": "2022-06-15T12:18:48.737Z"
   },
   {
    "duration": 14,
    "start_time": "2022-06-15T12:18:54.561Z"
   },
   {
    "duration": 155,
    "start_time": "2022-06-15T12:19:10.442Z"
   },
   {
    "duration": 173,
    "start_time": "2022-06-15T12:20:16.408Z"
   },
   {
    "duration": 35,
    "start_time": "2022-06-16T07:34:53.298Z"
   },
   {
    "duration": 756,
    "start_time": "2022-06-16T08:27:01.520Z"
   },
   {
    "duration": 582,
    "start_time": "2022-06-16T08:27:06.134Z"
   },
   {
    "duration": 394,
    "start_time": "2022-06-16T08:27:06.718Z"
   },
   {
    "duration": 172,
    "start_time": "2022-06-16T08:27:07.114Z"
   },
   {
    "duration": 352,
    "start_time": "2022-06-16T08:27:07.288Z"
   },
   {
    "duration": 358,
    "start_time": "2022-06-16T08:27:07.642Z"
   },
   {
    "duration": 9,
    "start_time": "2022-06-16T08:27:08.002Z"
   },
   {
    "duration": 192,
    "start_time": "2022-06-16T08:27:08.013Z"
   },
   {
    "duration": 155,
    "start_time": "2022-06-16T08:27:08.207Z"
   },
   {
    "duration": 78,
    "start_time": "2022-06-16T08:27:08.365Z"
   },
   {
    "duration": 72,
    "start_time": "2022-06-16T08:27:08.445Z"
   },
   {
    "duration": 5,
    "start_time": "2022-06-16T08:27:08.519Z"
   },
   {
    "duration": 9,
    "start_time": "2022-06-16T08:27:08.526Z"
   },
   {
    "duration": 155,
    "start_time": "2022-06-16T08:27:08.537Z"
   },
   {
    "duration": 38,
    "start_time": "2022-06-16T08:27:08.694Z"
   },
   {
    "duration": 0,
    "start_time": "2022-06-16T08:27:08.734Z"
   },
   {
    "duration": 0,
    "start_time": "2022-06-16T08:27:08.735Z"
   },
   {
    "duration": 0,
    "start_time": "2022-06-16T08:27:08.736Z"
   },
   {
    "duration": 0,
    "start_time": "2022-06-16T08:27:08.737Z"
   },
   {
    "duration": 0,
    "start_time": "2022-06-16T08:27:08.738Z"
   },
   {
    "duration": 0,
    "start_time": "2022-06-16T08:27:08.739Z"
   },
   {
    "duration": 0,
    "start_time": "2022-06-16T08:27:08.740Z"
   },
   {
    "duration": 0,
    "start_time": "2022-06-16T08:27:08.741Z"
   },
   {
    "duration": 0,
    "start_time": "2022-06-16T08:27:08.766Z"
   },
   {
    "duration": 0,
    "start_time": "2022-06-16T08:27:08.768Z"
   },
   {
    "duration": 0,
    "start_time": "2022-06-16T08:27:08.769Z"
   },
   {
    "duration": 0,
    "start_time": "2022-06-16T08:27:08.771Z"
   },
   {
    "duration": 0,
    "start_time": "2022-06-16T08:27:08.772Z"
   },
   {
    "duration": 0,
    "start_time": "2022-06-16T08:27:08.775Z"
   },
   {
    "duration": 0,
    "start_time": "2022-06-16T08:27:08.776Z"
   },
   {
    "duration": 0,
    "start_time": "2022-06-16T08:27:08.778Z"
   },
   {
    "duration": 93,
    "start_time": "2022-06-16T08:27:39.241Z"
   },
   {
    "duration": 34,
    "start_time": "2022-06-16T08:27:39.337Z"
   },
   {
    "duration": 23,
    "start_time": "2022-06-16T08:27:39.373Z"
   },
   {
    "duration": 4,
    "start_time": "2022-06-16T08:27:39.399Z"
   },
   {
    "duration": 18,
    "start_time": "2022-06-16T08:27:39.405Z"
   },
   {
    "duration": 42,
    "start_time": "2022-06-16T08:27:39.424Z"
   },
   {
    "duration": 19,
    "start_time": "2022-06-16T08:27:39.468Z"
   },
   {
    "duration": 142,
    "start_time": "2022-06-16T08:27:39.489Z"
   },
   {
    "duration": 12,
    "start_time": "2022-06-16T08:27:39.633Z"
   },
   {
    "duration": 23,
    "start_time": "2022-06-16T08:27:39.647Z"
   },
   {
    "duration": 25,
    "start_time": "2022-06-16T08:27:39.672Z"
   },
   {
    "duration": 7,
    "start_time": "2022-06-16T08:27:39.698Z"
   },
   {
    "duration": 635,
    "start_time": "2022-06-16T08:27:39.706Z"
   },
   {
    "duration": 38,
    "start_time": "2022-06-16T08:27:40.343Z"
   },
   {
    "duration": 27,
    "start_time": "2022-06-16T08:27:40.384Z"
   },
   {
    "duration": 5,
    "start_time": "2022-06-16T08:27:40.413Z"
   },
   {
    "duration": 5,
    "start_time": "2022-06-16T08:27:40.420Z"
   },
   {
    "duration": 6,
    "start_time": "2022-06-16T08:27:40.427Z"
   },
   {
    "duration": 46,
    "start_time": "2022-06-16T08:27:40.435Z"
   },
   {
    "duration": 9,
    "start_time": "2022-06-16T08:27:40.483Z"
   },
   {
    "duration": 6,
    "start_time": "2022-06-16T08:28:11.637Z"
   },
   {
    "duration": 7,
    "start_time": "2022-06-16T08:29:24.127Z"
   },
   {
    "duration": 6,
    "start_time": "2022-06-16T08:30:06.851Z"
   },
   {
    "duration": 4,
    "start_time": "2022-06-16T08:57:43.849Z"
   },
   {
    "duration": 4,
    "start_time": "2022-06-16T08:58:03.544Z"
   },
   {
    "duration": 5,
    "start_time": "2022-06-16T08:59:04.374Z"
   },
   {
    "duration": 5,
    "start_time": "2022-06-16T09:01:42.951Z"
   },
   {
    "duration": 5,
    "start_time": "2022-06-16T09:01:50.127Z"
   },
   {
    "duration": 5,
    "start_time": "2022-06-16T09:01:57.895Z"
   },
   {
    "duration": 5,
    "start_time": "2022-06-16T09:07:36.706Z"
   },
   {
    "duration": 5,
    "start_time": "2022-06-16T09:07:38.619Z"
   },
   {
    "duration": 6,
    "start_time": "2022-06-16T09:14:39.472Z"
   },
   {
    "duration": 1080,
    "start_time": "2022-06-16T09:36:15.038Z"
   },
   {
    "duration": 197,
    "start_time": "2022-06-16T09:36:16.120Z"
   },
   {
    "duration": 163,
    "start_time": "2022-06-16T09:36:16.319Z"
   },
   {
    "duration": 129,
    "start_time": "2022-06-16T09:36:16.484Z"
   },
   {
    "duration": 157,
    "start_time": "2022-06-16T09:36:16.615Z"
   },
   {
    "duration": 10,
    "start_time": "2022-06-16T09:36:16.773Z"
   },
   {
    "duration": 169,
    "start_time": "2022-06-16T09:36:16.784Z"
   },
   {
    "duration": 157,
    "start_time": "2022-06-16T09:36:16.965Z"
   },
   {
    "duration": 41,
    "start_time": "2022-06-16T09:36:17.125Z"
   },
   {
    "duration": 32,
    "start_time": "2022-06-16T09:36:17.168Z"
   },
   {
    "duration": 5,
    "start_time": "2022-06-16T09:36:17.201Z"
   },
   {
    "duration": 7,
    "start_time": "2022-06-16T09:36:17.208Z"
   },
   {
    "duration": 135,
    "start_time": "2022-06-16T09:36:17.217Z"
   },
   {
    "duration": 103,
    "start_time": "2022-06-16T09:36:17.353Z"
   },
   {
    "duration": 29,
    "start_time": "2022-06-16T09:36:17.464Z"
   },
   {
    "duration": 19,
    "start_time": "2022-06-16T09:36:17.495Z"
   },
   {
    "duration": 5,
    "start_time": "2022-06-16T09:36:17.515Z"
   },
   {
    "duration": 27,
    "start_time": "2022-06-16T09:36:17.521Z"
   },
   {
    "duration": 15,
    "start_time": "2022-06-16T09:36:17.564Z"
   },
   {
    "duration": 15,
    "start_time": "2022-06-16T09:36:17.580Z"
   },
   {
    "duration": 126,
    "start_time": "2022-06-16T09:36:17.596Z"
   },
   {
    "duration": 11,
    "start_time": "2022-06-16T09:36:17.724Z"
   },
   {
    "duration": 12,
    "start_time": "2022-06-16T09:36:17.737Z"
   },
   {
    "duration": 16,
    "start_time": "2022-06-16T09:36:17.751Z"
   },
   {
    "duration": 7,
    "start_time": "2022-06-16T09:36:17.768Z"
   },
   {
    "duration": 578,
    "start_time": "2022-06-16T09:36:17.777Z"
   },
   {
    "duration": 24,
    "start_time": "2022-06-16T09:36:18.364Z"
   },
   {
    "duration": 25,
    "start_time": "2022-06-16T09:36:18.391Z"
   },
   {
    "duration": 5,
    "start_time": "2022-06-16T09:36:18.418Z"
   },
   {
    "duration": 14,
    "start_time": "2022-06-16T09:36:18.424Z"
   },
   {
    "duration": 27,
    "start_time": "2022-06-16T09:36:18.439Z"
   },
   {
    "duration": 6,
    "start_time": "2022-06-16T09:36:18.468Z"
   },
   {
    "duration": 5,
    "start_time": "2022-06-16T09:57:50.094Z"
   },
   {
    "duration": 22,
    "start_time": "2022-06-16T09:58:26.414Z"
   },
   {
    "duration": 4,
    "start_time": "2022-06-16T09:58:48.662Z"
   },
   {
    "duration": 3,
    "start_time": "2022-06-16T09:58:56.577Z"
   },
   {
    "duration": 228,
    "start_time": "2022-06-16T09:58:56.583Z"
   },
   {
    "duration": 172,
    "start_time": "2022-06-16T09:58:56.813Z"
   },
   {
    "duration": 174,
    "start_time": "2022-06-16T09:58:56.988Z"
   },
   {
    "duration": 203,
    "start_time": "2022-06-16T09:58:57.165Z"
   },
   {
    "duration": 12,
    "start_time": "2022-06-16T09:58:57.370Z"
   },
   {
    "duration": 285,
    "start_time": "2022-06-16T09:58:57.384Z"
   },
   {
    "duration": 178,
    "start_time": "2022-06-16T09:58:57.671Z"
   },
   {
    "duration": 66,
    "start_time": "2022-06-16T09:58:57.851Z"
   },
   {
    "duration": 21,
    "start_time": "2022-06-16T09:58:57.921Z"
   },
   {
    "duration": 5,
    "start_time": "2022-06-16T09:58:57.944Z"
   },
   {
    "duration": 10,
    "start_time": "2022-06-16T09:58:57.951Z"
   },
   {
    "duration": 185,
    "start_time": "2022-06-16T09:58:57.963Z"
   },
   {
    "duration": 123,
    "start_time": "2022-06-16T09:58:58.151Z"
   },
   {
    "duration": 3,
    "start_time": "2022-06-16T09:58:58.276Z"
   },
   {
    "duration": 37,
    "start_time": "2022-06-16T09:58:58.281Z"
   },
   {
    "duration": 8,
    "start_time": "2022-06-16T09:58:58.320Z"
   },
   {
    "duration": 50,
    "start_time": "2022-06-16T09:58:58.330Z"
   },
   {
    "duration": 497,
    "start_time": "2022-06-16T09:58:58.383Z"
   },
   {
    "duration": 0,
    "start_time": "2022-06-16T09:58:58.884Z"
   },
   {
    "duration": 0,
    "start_time": "2022-06-16T09:58:58.885Z"
   },
   {
    "duration": 0,
    "start_time": "2022-06-16T09:58:58.887Z"
   },
   {
    "duration": 0,
    "start_time": "2022-06-16T09:58:58.889Z"
   },
   {
    "duration": 0,
    "start_time": "2022-06-16T09:58:58.890Z"
   },
   {
    "duration": 0,
    "start_time": "2022-06-16T09:58:58.891Z"
   },
   {
    "duration": 0,
    "start_time": "2022-06-16T09:58:58.892Z"
   },
   {
    "duration": 0,
    "start_time": "2022-06-16T09:58:58.893Z"
   },
   {
    "duration": 0,
    "start_time": "2022-06-16T09:58:58.895Z"
   },
   {
    "duration": 0,
    "start_time": "2022-06-16T09:58:58.896Z"
   },
   {
    "duration": 0,
    "start_time": "2022-06-16T09:58:58.897Z"
   },
   {
    "duration": 0,
    "start_time": "2022-06-16T09:58:58.898Z"
   },
   {
    "duration": 0,
    "start_time": "2022-06-16T09:58:58.899Z"
   },
   {
    "duration": 33,
    "start_time": "2022-06-16T09:59:34.784Z"
   },
   {
    "duration": 402,
    "start_time": "2022-06-16T09:59:40.042Z"
   },
   {
    "duration": 4,
    "start_time": "2022-06-16T09:59:47.822Z"
   },
   {
    "duration": 208,
    "start_time": "2022-06-16T09:59:47.828Z"
   },
   {
    "duration": 176,
    "start_time": "2022-06-16T09:59:48.039Z"
   },
   {
    "duration": 115,
    "start_time": "2022-06-16T09:59:48.218Z"
   },
   {
    "duration": 174,
    "start_time": "2022-06-16T09:59:48.335Z"
   },
   {
    "duration": 11,
    "start_time": "2022-06-16T09:59:48.511Z"
   },
   {
    "duration": 196,
    "start_time": "2022-06-16T09:59:48.524Z"
   },
   {
    "duration": 177,
    "start_time": "2022-06-16T09:59:48.722Z"
   },
   {
    "duration": 60,
    "start_time": "2022-06-16T09:59:48.903Z"
   },
   {
    "duration": 24,
    "start_time": "2022-06-16T09:59:48.965Z"
   },
   {
    "duration": 10,
    "start_time": "2022-06-16T09:59:48.991Z"
   },
   {
    "duration": 10,
    "start_time": "2022-06-16T09:59:49.003Z"
   },
   {
    "duration": 184,
    "start_time": "2022-06-16T09:59:49.016Z"
   },
   {
    "duration": 115,
    "start_time": "2022-06-16T09:59:49.202Z"
   },
   {
    "duration": 3,
    "start_time": "2022-06-16T09:59:49.319Z"
   },
   {
    "duration": 30,
    "start_time": "2022-06-16T09:59:49.324Z"
   },
   {
    "duration": 472,
    "start_time": "2022-06-16T09:59:49.356Z"
   },
   {
    "duration": 0,
    "start_time": "2022-06-16T09:59:49.830Z"
   },
   {
    "duration": 0,
    "start_time": "2022-06-16T09:59:49.832Z"
   },
   {
    "duration": 25,
    "start_time": "2022-06-16T10:00:27.040Z"
   },
   {
    "duration": 6,
    "start_time": "2022-06-16T10:00:31.132Z"
   },
   {
    "duration": 3,
    "start_time": "2022-06-16T10:00:36.006Z"
   },
   {
    "duration": 219,
    "start_time": "2022-06-16T10:00:36.012Z"
   },
   {
    "duration": 182,
    "start_time": "2022-06-16T10:00:36.233Z"
   },
   {
    "duration": 120,
    "start_time": "2022-06-16T10:00:36.417Z"
   },
   {
    "duration": 185,
    "start_time": "2022-06-16T10:00:36.539Z"
   },
   {
    "duration": 11,
    "start_time": "2022-06-16T10:00:36.725Z"
   },
   {
    "duration": 182,
    "start_time": "2022-06-16T10:00:36.738Z"
   },
   {
    "duration": 260,
    "start_time": "2022-06-16T10:00:36.921Z"
   },
   {
    "duration": 53,
    "start_time": "2022-06-16T10:00:37.184Z"
   },
   {
    "duration": 22,
    "start_time": "2022-06-16T10:00:37.239Z"
   },
   {
    "duration": 6,
    "start_time": "2022-06-16T10:00:37.263Z"
   },
   {
    "duration": 25,
    "start_time": "2022-06-16T10:00:37.271Z"
   },
   {
    "duration": 180,
    "start_time": "2022-06-16T10:00:37.298Z"
   },
   {
    "duration": 89,
    "start_time": "2022-06-16T10:00:37.480Z"
   },
   {
    "duration": 3,
    "start_time": "2022-06-16T10:00:37.571Z"
   },
   {
    "duration": 36,
    "start_time": "2022-06-16T10:00:37.576Z"
   },
   {
    "duration": 9,
    "start_time": "2022-06-16T10:00:37.614Z"
   },
   {
    "duration": 44,
    "start_time": "2022-06-16T10:00:37.625Z"
   },
   {
    "duration": 20,
    "start_time": "2022-06-16T10:00:37.671Z"
   },
   {
    "duration": 33,
    "start_time": "2022-06-16T10:00:37.694Z"
   },
   {
    "duration": 163,
    "start_time": "2022-06-16T10:00:37.729Z"
   },
   {
    "duration": 18,
    "start_time": "2022-06-16T10:00:37.894Z"
   },
   {
    "duration": 18,
    "start_time": "2022-06-16T10:00:37.915Z"
   },
   {
    "duration": 24,
    "start_time": "2022-06-16T10:00:37.937Z"
   },
   {
    "duration": 27,
    "start_time": "2022-06-16T10:00:37.965Z"
   },
   {
    "duration": 654,
    "start_time": "2022-06-16T10:00:37.994Z"
   },
   {
    "duration": 47,
    "start_time": "2022-06-16T10:00:38.650Z"
   },
   {
    "duration": 40,
    "start_time": "2022-06-16T10:00:38.699Z"
   },
   {
    "duration": 26,
    "start_time": "2022-06-16T10:00:38.742Z"
   },
   {
    "duration": 12,
    "start_time": "2022-06-16T10:00:38.770Z"
   },
   {
    "duration": 21,
    "start_time": "2022-06-16T10:00:38.785Z"
   },
   {
    "duration": 10,
    "start_time": "2022-06-16T10:00:38.808Z"
   },
   {
    "duration": 1106,
    "start_time": "2022-06-16T10:00:55.885Z"
   },
   {
    "duration": 219,
    "start_time": "2022-06-16T10:00:56.992Z"
   },
   {
    "duration": 183,
    "start_time": "2022-06-16T10:00:57.212Z"
   },
   {
    "duration": 136,
    "start_time": "2022-06-16T10:00:57.399Z"
   },
   {
    "duration": 180,
    "start_time": "2022-06-16T10:00:57.538Z"
   },
   {
    "duration": 12,
    "start_time": "2022-06-16T10:00:57.720Z"
   },
   {
    "duration": 192,
    "start_time": "2022-06-16T10:00:57.735Z"
   },
   {
    "duration": 168,
    "start_time": "2022-06-16T10:00:57.929Z"
   },
   {
    "duration": 54,
    "start_time": "2022-06-16T10:00:58.099Z"
   },
   {
    "duration": 22,
    "start_time": "2022-06-16T10:00:58.156Z"
   },
   {
    "duration": 5,
    "start_time": "2022-06-16T10:00:58.180Z"
   },
   {
    "duration": 8,
    "start_time": "2022-06-16T10:00:58.187Z"
   },
   {
    "duration": 156,
    "start_time": "2022-06-16T10:00:58.198Z"
   },
   {
    "duration": 124,
    "start_time": "2022-06-16T10:00:58.355Z"
   },
   {
    "duration": 4,
    "start_time": "2022-06-16T10:00:58.480Z"
   },
   {
    "duration": 39,
    "start_time": "2022-06-16T10:00:58.486Z"
   },
   {
    "duration": 5,
    "start_time": "2022-06-16T10:00:58.527Z"
   },
   {
    "duration": 50,
    "start_time": "2022-06-16T10:00:58.534Z"
   },
   {
    "duration": 20,
    "start_time": "2022-06-16T10:00:58.587Z"
   },
   {
    "duration": 24,
    "start_time": "2022-06-16T10:00:58.609Z"
   },
   {
    "duration": 156,
    "start_time": "2022-06-16T10:00:58.635Z"
   },
   {
    "duration": 14,
    "start_time": "2022-06-16T10:00:58.793Z"
   },
   {
    "duration": 14,
    "start_time": "2022-06-16T10:00:58.809Z"
   },
   {
    "duration": 16,
    "start_time": "2022-06-16T10:00:58.825Z"
   },
   {
    "duration": 28,
    "start_time": "2022-06-16T10:00:58.844Z"
   },
   {
    "duration": 761,
    "start_time": "2022-06-16T10:00:58.874Z"
   },
   {
    "duration": 39,
    "start_time": "2022-06-16T10:00:59.637Z"
   },
   {
    "duration": 36,
    "start_time": "2022-06-16T10:00:59.680Z"
   },
   {
    "duration": 7,
    "start_time": "2022-06-16T10:00:59.718Z"
   },
   {
    "duration": 24,
    "start_time": "2022-06-16T10:00:59.727Z"
   },
   {
    "duration": 18,
    "start_time": "2022-06-16T10:00:59.752Z"
   },
   {
    "duration": 32,
    "start_time": "2022-06-16T10:00:59.772Z"
   },
   {
    "duration": 73,
    "start_time": "2022-06-16T10:52:40.269Z"
   },
   {
    "duration": 329,
    "start_time": "2022-06-16T10:59:08.559Z"
   },
   {
    "duration": 195,
    "start_time": "2022-06-16T10:59:25.385Z"
   },
   {
    "duration": 201,
    "start_time": "2022-06-16T11:01:25.799Z"
   },
   {
    "duration": 193,
    "start_time": "2022-06-16T11:01:34.766Z"
   },
   {
    "duration": 287,
    "start_time": "2022-06-16T11:01:54.159Z"
   },
   {
    "duration": 15,
    "start_time": "2022-06-16T11:02:08.069Z"
   },
   {
    "duration": 179,
    "start_time": "2022-06-16T11:17:23.079Z"
   },
   {
    "duration": 188,
    "start_time": "2022-06-16T11:17:32.046Z"
   },
   {
    "duration": 648,
    "start_time": "2022-06-16T11:22:56.483Z"
   },
   {
    "duration": 573,
    "start_time": "2022-06-16T11:23:36.494Z"
   },
   {
    "duration": 747,
    "start_time": "2022-06-16T11:25:19.948Z"
   },
   {
    "duration": 405,
    "start_time": "2022-06-16T11:28:47.196Z"
   },
   {
    "duration": 556,
    "start_time": "2022-06-16T11:29:27.159Z"
   },
   {
    "duration": 613,
    "start_time": "2022-06-16T11:30:48.998Z"
   },
   {
    "duration": 587,
    "start_time": "2022-06-16T11:31:15.966Z"
   },
   {
    "duration": 36,
    "start_time": "2022-06-16T11:35:42.154Z"
   },
   {
    "duration": 419,
    "start_time": "2022-06-16T11:35:46.616Z"
   },
   {
    "duration": 32,
    "start_time": "2022-06-16T11:41:50.464Z"
   },
   {
    "duration": 49,
    "start_time": "2022-06-16T11:42:24.281Z"
   },
   {
    "duration": 576,
    "start_time": "2022-06-16T11:42:35.075Z"
   },
   {
    "duration": 6,
    "start_time": "2022-06-16T11:44:08.056Z"
   },
   {
    "duration": 32,
    "start_time": "2022-06-16T11:44:12.801Z"
   },
   {
    "duration": 407,
    "start_time": "2022-06-16T11:44:17.253Z"
   },
   {
    "duration": 382,
    "start_time": "2022-06-16T11:44:27.949Z"
   },
   {
    "duration": 461,
    "start_time": "2022-06-16T11:44:45.745Z"
   },
   {
    "duration": 353,
    "start_time": "2022-06-16T11:45:10.075Z"
   },
   {
    "duration": 13,
    "start_time": "2022-06-16T11:46:26.183Z"
   },
   {
    "duration": 416,
    "start_time": "2022-06-16T11:46:27.150Z"
   },
   {
    "duration": 2,
    "start_time": "2022-06-16T11:47:00.354Z"
   },
   {
    "duration": 322,
    "start_time": "2022-06-16T11:47:00.982Z"
   },
   {
    "duration": 309,
    "start_time": "2022-06-16T11:48:05.498Z"
   },
   {
    "duration": 143,
    "start_time": "2022-06-16T11:48:51.384Z"
   },
   {
    "duration": 331,
    "start_time": "2022-06-16T11:50:13.501Z"
   },
   {
    "duration": 548,
    "start_time": "2022-06-16T11:50:25.261Z"
   },
   {
    "duration": 581,
    "start_time": "2022-06-16T11:50:34.170Z"
   },
   {
    "duration": 350,
    "start_time": "2022-06-16T11:50:40.610Z"
   },
   {
    "duration": 495,
    "start_time": "2022-06-16T11:52:24.490Z"
   },
   {
    "duration": 4,
    "start_time": "2022-06-16T11:52:37.982Z"
   },
   {
    "duration": 231,
    "start_time": "2022-06-16T11:52:37.989Z"
   },
   {
    "duration": 175,
    "start_time": "2022-06-16T11:52:38.222Z"
   },
   {
    "duration": 125,
    "start_time": "2022-06-16T11:52:38.399Z"
   },
   {
    "duration": 195,
    "start_time": "2022-06-16T11:52:38.526Z"
   },
   {
    "duration": 15,
    "start_time": "2022-06-16T11:52:38.729Z"
   },
   {
    "duration": 200,
    "start_time": "2022-06-16T11:52:38.746Z"
   },
   {
    "duration": 245,
    "start_time": "2022-06-16T11:52:38.949Z"
   },
   {
    "duration": 66,
    "start_time": "2022-06-16T11:52:39.197Z"
   },
   {
    "duration": 23,
    "start_time": "2022-06-16T11:52:39.266Z"
   },
   {
    "duration": 5,
    "start_time": "2022-06-16T11:52:39.294Z"
   },
   {
    "duration": 16,
    "start_time": "2022-06-16T11:52:39.302Z"
   },
   {
    "duration": 160,
    "start_time": "2022-06-16T11:52:39.320Z"
   },
   {
    "duration": 89,
    "start_time": "2022-06-16T11:52:39.482Z"
   },
   {
    "duration": 3,
    "start_time": "2022-06-16T11:52:39.574Z"
   },
   {
    "duration": 40,
    "start_time": "2022-06-16T11:52:39.579Z"
   },
   {
    "duration": 7,
    "start_time": "2022-06-16T11:52:39.621Z"
   },
   {
    "duration": 51,
    "start_time": "2022-06-16T11:52:39.630Z"
   },
   {
    "duration": 21,
    "start_time": "2022-06-16T11:52:39.683Z"
   },
   {
    "duration": 23,
    "start_time": "2022-06-16T11:52:39.706Z"
   },
   {
    "duration": 186,
    "start_time": "2022-06-16T11:52:39.735Z"
   },
   {
    "duration": 18,
    "start_time": "2022-06-16T11:52:39.924Z"
   },
   {
    "duration": 28,
    "start_time": "2022-06-16T11:52:39.945Z"
   },
   {
    "duration": 15,
    "start_time": "2022-06-16T11:52:39.975Z"
   },
   {
    "duration": 12,
    "start_time": "2022-06-16T11:52:39.992Z"
   },
   {
    "duration": 753,
    "start_time": "2022-06-16T11:52:40.005Z"
   },
   {
    "duration": 40,
    "start_time": "2022-06-16T11:52:40.764Z"
   },
   {
    "duration": 32,
    "start_time": "2022-06-16T11:52:40.806Z"
   },
   {
    "duration": 215,
    "start_time": "2022-06-16T11:52:40.865Z"
   },
   {
    "duration": 330,
    "start_time": "2022-06-16T11:52:41.082Z"
   },
   {
    "duration": 4,
    "start_time": "2022-06-16T11:52:41.414Z"
   },
   {
    "duration": 361,
    "start_time": "2022-06-16T11:52:41.420Z"
   },
   {
    "duration": 26,
    "start_time": "2022-06-16T11:55:18.726Z"
   },
   {
    "duration": 39,
    "start_time": "2022-06-16T11:55:31.243Z"
   },
   {
    "duration": 22,
    "start_time": "2022-06-16T11:55:36.687Z"
   },
   {
    "duration": 47,
    "start_time": "2022-06-16T11:55:41.459Z"
   },
   {
    "duration": 165,
    "start_time": "2022-06-16T11:55:58.487Z"
   },
   {
    "duration": 289,
    "start_time": "2022-06-16T11:56:17.955Z"
   },
   {
    "duration": 298,
    "start_time": "2022-06-16T11:56:47.081Z"
   },
   {
    "duration": 1123,
    "start_time": "2022-06-16T12:00:18.072Z"
   },
   {
    "duration": 11,
    "start_time": "2022-06-16T12:05:30.096Z"
   },
   {
    "duration": 151,
    "start_time": "2022-06-16T12:05:34.401Z"
   },
   {
    "duration": 153,
    "start_time": "2022-06-16T12:05:52.568Z"
   },
   {
    "duration": 67,
    "start_time": "2022-06-16T12:06:14.992Z"
   },
   {
    "duration": 1498,
    "start_time": "2022-06-17T04:26:30.662Z"
   },
   {
    "duration": 450,
    "start_time": "2022-06-17T04:26:32.162Z"
   },
   {
    "duration": 193,
    "start_time": "2022-06-17T04:26:32.614Z"
   },
   {
    "duration": 478,
    "start_time": "2022-06-17T04:26:32.809Z"
   },
   {
    "duration": 576,
    "start_time": "2022-06-17T04:26:33.289Z"
   },
   {
    "duration": 14,
    "start_time": "2022-06-17T04:26:33.871Z"
   },
   {
    "duration": 206,
    "start_time": "2022-06-17T04:26:33.887Z"
   },
   {
    "duration": 202,
    "start_time": "2022-06-17T04:26:34.094Z"
   },
   {
    "duration": 104,
    "start_time": "2022-06-17T04:26:34.298Z"
   },
   {
    "duration": 109,
    "start_time": "2022-06-17T04:26:34.404Z"
   },
   {
    "duration": 4,
    "start_time": "2022-06-17T04:26:34.515Z"
   },
   {
    "duration": 43,
    "start_time": "2022-06-17T04:26:34.520Z"
   },
   {
    "duration": 182,
    "start_time": "2022-06-17T04:26:34.568Z"
   },
   {
    "duration": 105,
    "start_time": "2022-06-17T04:26:34.755Z"
   },
   {
    "duration": 2,
    "start_time": "2022-06-17T04:26:34.862Z"
   },
   {
    "duration": 41,
    "start_time": "2022-06-17T04:26:34.867Z"
   },
   {
    "duration": 4,
    "start_time": "2022-06-17T04:26:34.910Z"
   },
   {
    "duration": 22,
    "start_time": "2022-06-17T04:26:34.916Z"
   },
   {
    "duration": 46,
    "start_time": "2022-06-17T04:26:34.939Z"
   },
   {
    "duration": 16,
    "start_time": "2022-06-17T04:26:34.986Z"
   },
   {
    "duration": 141,
    "start_time": "2022-06-17T04:26:35.004Z"
   },
   {
    "duration": 27,
    "start_time": "2022-06-17T04:26:35.152Z"
   },
   {
    "duration": 12,
    "start_time": "2022-06-17T04:26:35.181Z"
   },
   {
    "duration": 14,
    "start_time": "2022-06-17T04:26:35.194Z"
   },
   {
    "duration": 14,
    "start_time": "2022-06-17T04:26:35.210Z"
   },
   {
    "duration": 77,
    "start_time": "2022-06-17T04:26:35.226Z"
   },
   {
    "duration": 45,
    "start_time": "2022-06-17T04:26:35.305Z"
   },
   {
    "duration": 140,
    "start_time": "2022-06-17T04:26:35.352Z"
   },
   {
    "duration": 0,
    "start_time": "2022-06-17T04:26:35.494Z"
   },
   {
    "duration": 0,
    "start_time": "2022-06-17T04:26:35.496Z"
   },
   {
    "duration": 0,
    "start_time": "2022-06-17T04:26:35.497Z"
   },
   {
    "duration": 0,
    "start_time": "2022-06-17T04:26:35.499Z"
   },
   {
    "duration": 31,
    "start_time": "2022-06-17T04:27:13.969Z"
   },
   {
    "duration": 1235,
    "start_time": "2022-06-17T04:27:24.395Z"
   },
   {
    "duration": 1212,
    "start_time": "2022-06-17T04:31:20.411Z"
   },
   {
    "duration": 277,
    "start_time": "2022-06-17T04:31:21.626Z"
   },
   {
    "duration": 205,
    "start_time": "2022-06-17T04:31:21.904Z"
   },
   {
    "duration": 170,
    "start_time": "2022-06-17T04:31:22.111Z"
   },
   {
    "duration": 210,
    "start_time": "2022-06-17T04:31:22.283Z"
   },
   {
    "duration": 12,
    "start_time": "2022-06-17T04:31:22.495Z"
   },
   {
    "duration": 205,
    "start_time": "2022-06-17T04:31:22.509Z"
   },
   {
    "duration": 203,
    "start_time": "2022-06-17T04:31:22.716Z"
   },
   {
    "duration": 89,
    "start_time": "2022-06-17T04:31:22.921Z"
   },
   {
    "duration": 50,
    "start_time": "2022-06-17T04:31:23.013Z"
   },
   {
    "duration": 17,
    "start_time": "2022-06-17T04:31:23.070Z"
   },
   {
    "duration": 27,
    "start_time": "2022-06-17T04:31:23.089Z"
   },
   {
    "duration": 278,
    "start_time": "2022-06-17T04:31:23.118Z"
   },
   {
    "duration": 104,
    "start_time": "2022-06-17T04:31:23.399Z"
   },
   {
    "duration": 2,
    "start_time": "2022-06-17T04:31:23.505Z"
   },
   {
    "duration": 32,
    "start_time": "2022-06-17T04:31:23.509Z"
   },
   {
    "duration": 48,
    "start_time": "2022-06-17T04:31:23.542Z"
   },
   {
    "duration": 42,
    "start_time": "2022-06-17T04:31:23.592Z"
   },
   {
    "duration": 50,
    "start_time": "2022-06-17T04:31:23.636Z"
   },
   {
    "duration": 85,
    "start_time": "2022-06-17T04:31:23.687Z"
   },
   {
    "duration": 203,
    "start_time": "2022-06-17T04:31:23.774Z"
   },
   {
    "duration": 23,
    "start_time": "2022-06-17T04:31:23.982Z"
   },
   {
    "duration": 19,
    "start_time": "2022-06-17T04:31:24.006Z"
   },
   {
    "duration": 56,
    "start_time": "2022-06-17T04:31:24.035Z"
   },
   {
    "duration": 47,
    "start_time": "2022-06-17T04:31:24.094Z"
   },
   {
    "duration": 79,
    "start_time": "2022-06-17T04:31:24.153Z"
   },
   {
    "duration": 45,
    "start_time": "2022-06-17T04:31:24.234Z"
   },
   {
    "duration": 1269,
    "start_time": "2022-06-17T04:31:24.283Z"
   },
   {
    "duration": 9,
    "start_time": "2022-06-17T04:31:25.553Z"
   },
   {
    "duration": 38,
    "start_time": "2022-06-17T04:31:25.564Z"
   },
   {
    "duration": 7,
    "start_time": "2022-06-17T04:31:25.604Z"
   },
   {
    "duration": 8,
    "start_time": "2022-06-17T04:31:25.613Z"
   }
  ],
  "kernelspec": {
   "display_name": "Python 3",
   "language": "python",
   "name": "python3"
  },
  "language_info": {
   "codemirror_mode": {
    "name": "ipython",
    "version": 3
   },
   "file_extension": ".py",
   "mimetype": "text/x-python",
   "name": "python",
   "nbconvert_exporter": "python",
   "pygments_lexer": "ipython3",
   "version": "3.8.8"
  },
  "toc": {
   "base_numbering": 1,
   "nav_menu": {
    "height": "131px",
    "width": "247.667px"
   },
   "number_sections": true,
   "sideBar": true,
   "skip_h1_title": true,
   "title_cell": "Table of Contents",
   "title_sidebar": "Contents",
   "toc_cell": false,
   "toc_position": {
    "height": "calc(100% - 180px)",
    "left": "10px",
    "top": "150px",
    "width": "302.5px"
   },
   "toc_section_display": true,
   "toc_window_display": true
  }
 },
 "nbformat": 4,
 "nbformat_minor": 2
}
