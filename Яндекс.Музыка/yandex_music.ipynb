{
 "cells": [
  {
   "cell_type": "markdown",
   "metadata": {
    "id": "E0vqbgi9ay0H"
   },
   "source": [
    "# Яндекс.Музыка"
   ]
  },
  {
   "cell_type": "markdown",
   "metadata": {
    "id": "VUC88oWjTJw2"
   },
   "source": [
    "Сравнение Москвы и Петербурга окружено мифами. Например:\n",
    " * Москва — мегаполис, подчинённый жёсткому ритму рабочей недели;\n",
    " * Петербург — культурная столица, со своими вкусами.\n",
    "\n",
    "На данных Яндекс.Музыки мы сравним поведение пользователей двух столиц.\n",
    "\n",
    "**Цель исследования** — проверить три гипотезы:\n",
    "1. Активность пользователей зависит от дня недели. Причём в Москве и Петербурге это проявляется по-разному.\n",
    "2. В понедельник утром в Москве преобладают одни жанры, а в Петербурге — другие. Так же и вечером пятницы преобладают разные жанры — в зависимости от города. \n",
    "3. Москва и Петербург предпочитают разные жанры музыки. В Москве чаще слушают поп-музыку, в Петербурге — русский рэп.\n",
    "\n",
    "**Ход исследования**\n",
    "\n",
    "О качестве данных ничего не известно. Поэтому перед проверкой гипотез понадобится обзор данных. \n",
    "\n",
    "Проверим данные на ошибки и оценим их влияние на исследование. Затем, на этапе предобработки поищем возможность исправить самые критичные ошибки данных.\n",
    " \n",
    "Таким образом, исследование пройдёт в три этапа:\n",
    " 1. Обзор данных.\n",
    " 2. Предобработка данных.\n",
    " 3. Проверка гипотез.\n",
    "\n"
   ]
  },
  {
   "cell_type": "markdown",
   "metadata": {
    "id": "Ml1hmfXC_Zcs"
   },
   "source": [
    "## Обзор данных\n",
    "\n"
   ]
  },
  {
   "cell_type": "code",
   "execution_count": 1,
   "metadata": {
    "id": "AXN7PHPN_Zcs"
   },
   "outputs": [],
   "source": [
    "import pandas as pd"
   ]
  },
  {
   "cell_type": "markdown",
   "metadata": {
    "id": "SG23P8tt_Zcs"
   },
   "source": [
    "Прочитаем файл `yandex_music_project.csv` из папки `/datasets` и сохраним его в переменной `df`:"
   ]
  },
  {
   "cell_type": "code",
   "execution_count": 2,
   "metadata": {
    "id": "fFVu7vqh_Zct"
   },
   "outputs": [],
   "source": [
    "df = pd.read_csv('/datasets/yandex_music_project.csv')"
   ]
  },
  {
   "cell_type": "markdown",
   "metadata": {
    "id": "rDoOMd3uTqnZ"
   },
   "source": [
    "Выведем на экран первые десять строк таблицы:"
   ]
  },
  {
   "cell_type": "code",
   "execution_count": 3,
   "metadata": {
    "id": "oWTVX3gW_Zct",
    "scrolled": true
   },
   "outputs": [
    {
     "data": {
      "text/html": [
       "<div>\n",
       "<style scoped>\n",
       "    .dataframe tbody tr th:only-of-type {\n",
       "        vertical-align: middle;\n",
       "    }\n",
       "\n",
       "    .dataframe tbody tr th {\n",
       "        vertical-align: top;\n",
       "    }\n",
       "\n",
       "    .dataframe thead th {\n",
       "        text-align: right;\n",
       "    }\n",
       "</style>\n",
       "<table border=\"1\" class=\"dataframe\">\n",
       "  <thead>\n",
       "    <tr style=\"text-align: right;\">\n",
       "      <th></th>\n",
       "      <th>userID</th>\n",
       "      <th>Track</th>\n",
       "      <th>artist</th>\n",
       "      <th>genre</th>\n",
       "      <th>City</th>\n",
       "      <th>time</th>\n",
       "      <th>Day</th>\n",
       "    </tr>\n",
       "  </thead>\n",
       "  <tbody>\n",
       "    <tr>\n",
       "      <td>0</td>\n",
       "      <td>FFB692EC</td>\n",
       "      <td>Kamigata To Boots</td>\n",
       "      <td>The Mass Missile</td>\n",
       "      <td>rock</td>\n",
       "      <td>Saint-Petersburg</td>\n",
       "      <td>20:28:33</td>\n",
       "      <td>Wednesday</td>\n",
       "    </tr>\n",
       "    <tr>\n",
       "      <td>1</td>\n",
       "      <td>55204538</td>\n",
       "      <td>Delayed Because of Accident</td>\n",
       "      <td>Andreas Rönnberg</td>\n",
       "      <td>rock</td>\n",
       "      <td>Moscow</td>\n",
       "      <td>14:07:09</td>\n",
       "      <td>Friday</td>\n",
       "    </tr>\n",
       "    <tr>\n",
       "      <td>2</td>\n",
       "      <td>20EC38</td>\n",
       "      <td>Funiculì funiculà</td>\n",
       "      <td>Mario Lanza</td>\n",
       "      <td>pop</td>\n",
       "      <td>Saint-Petersburg</td>\n",
       "      <td>20:58:07</td>\n",
       "      <td>Wednesday</td>\n",
       "    </tr>\n",
       "    <tr>\n",
       "      <td>3</td>\n",
       "      <td>A3DD03C9</td>\n",
       "      <td>Dragons in the Sunset</td>\n",
       "      <td>Fire + Ice</td>\n",
       "      <td>folk</td>\n",
       "      <td>Saint-Petersburg</td>\n",
       "      <td>08:37:09</td>\n",
       "      <td>Monday</td>\n",
       "    </tr>\n",
       "    <tr>\n",
       "      <td>4</td>\n",
       "      <td>E2DC1FAE</td>\n",
       "      <td>Soul People</td>\n",
       "      <td>Space Echo</td>\n",
       "      <td>dance</td>\n",
       "      <td>Moscow</td>\n",
       "      <td>08:34:34</td>\n",
       "      <td>Monday</td>\n",
       "    </tr>\n",
       "    <tr>\n",
       "      <td>5</td>\n",
       "      <td>842029A1</td>\n",
       "      <td>Преданная</td>\n",
       "      <td>IMPERVTOR</td>\n",
       "      <td>rusrap</td>\n",
       "      <td>Saint-Petersburg</td>\n",
       "      <td>13:09:41</td>\n",
       "      <td>Friday</td>\n",
       "    </tr>\n",
       "    <tr>\n",
       "      <td>6</td>\n",
       "      <td>4CB90AA5</td>\n",
       "      <td>True</td>\n",
       "      <td>Roman Messer</td>\n",
       "      <td>dance</td>\n",
       "      <td>Moscow</td>\n",
       "      <td>13:00:07</td>\n",
       "      <td>Wednesday</td>\n",
       "    </tr>\n",
       "    <tr>\n",
       "      <td>7</td>\n",
       "      <td>F03E1C1F</td>\n",
       "      <td>Feeling This Way</td>\n",
       "      <td>Polina Griffith</td>\n",
       "      <td>dance</td>\n",
       "      <td>Moscow</td>\n",
       "      <td>20:47:49</td>\n",
       "      <td>Wednesday</td>\n",
       "    </tr>\n",
       "    <tr>\n",
       "      <td>8</td>\n",
       "      <td>8FA1D3BE</td>\n",
       "      <td>И вновь продолжается бой</td>\n",
       "      <td>NaN</td>\n",
       "      <td>ruspop</td>\n",
       "      <td>Moscow</td>\n",
       "      <td>09:17:40</td>\n",
       "      <td>Friday</td>\n",
       "    </tr>\n",
       "    <tr>\n",
       "      <td>9</td>\n",
       "      <td>E772D5C0</td>\n",
       "      <td>Pessimist</td>\n",
       "      <td>NaN</td>\n",
       "      <td>dance</td>\n",
       "      <td>Saint-Petersburg</td>\n",
       "      <td>21:20:49</td>\n",
       "      <td>Wednesday</td>\n",
       "    </tr>\n",
       "  </tbody>\n",
       "</table>\n",
       "</div>"
      ],
      "text/plain": [
       "     userID                        Track            artist   genre  \\\n",
       "0  FFB692EC            Kamigata To Boots  The Mass Missile    rock   \n",
       "1  55204538  Delayed Because of Accident  Andreas Rönnberg    rock   \n",
       "2    20EC38            Funiculì funiculà       Mario Lanza     pop   \n",
       "3  A3DD03C9        Dragons in the Sunset        Fire + Ice    folk   \n",
       "4  E2DC1FAE                  Soul People        Space Echo   dance   \n",
       "5  842029A1                    Преданная         IMPERVTOR  rusrap   \n",
       "6  4CB90AA5                         True      Roman Messer   dance   \n",
       "7  F03E1C1F             Feeling This Way   Polina Griffith   dance   \n",
       "8  8FA1D3BE     И вновь продолжается бой               NaN  ruspop   \n",
       "9  E772D5C0                    Pessimist               NaN   dance   \n",
       "\n",
       "             City        time        Day  \n",
       "0  Saint-Petersburg  20:28:33  Wednesday  \n",
       "1            Moscow  14:07:09     Friday  \n",
       "2  Saint-Petersburg  20:58:07  Wednesday  \n",
       "3  Saint-Petersburg  08:37:09     Monday  \n",
       "4            Moscow  08:34:34     Monday  \n",
       "5  Saint-Petersburg  13:09:41     Friday  \n",
       "6            Moscow  13:00:07  Wednesday  \n",
       "7            Moscow  20:47:49  Wednesday  \n",
       "8            Moscow  09:17:40     Friday  \n",
       "9  Saint-Petersburg  21:20:49  Wednesday  "
      ]
     },
     "metadata": {},
     "output_type": "display_data"
    }
   ],
   "source": [
    "df.head(10)"
   ]
  },
  {
   "cell_type": "markdown",
   "metadata": {
    "id": "EO73Kwic_Zct"
   },
   "source": [
    "Общая информация о таблице:"
   ]
  },
  {
   "cell_type": "code",
   "execution_count": 4,
   "metadata": {
    "id": "DSf2kIb-_Zct"
   },
   "outputs": [
    {
     "name": "stdout",
     "output_type": "stream",
     "text": [
      "<class 'pandas.core.frame.DataFrame'>\n",
      "RangeIndex: 65079 entries, 0 to 65078\n",
      "Data columns (total 7 columns):\n",
      "  userID    65079 non-null object\n",
      "Track       63848 non-null object\n",
      "artist      57876 non-null object\n",
      "genre       63881 non-null object\n",
      "  City      65079 non-null object\n",
      "time        65079 non-null object\n",
      "Day         65079 non-null object\n",
      "dtypes: object(7)\n",
      "memory usage: 3.5+ MB\n"
     ]
    }
   ],
   "source": [
    "df.info()"
   ]
  },
  {
   "cell_type": "markdown",
   "metadata": {
    "id": "TaQ2Iwbr_Zct"
   },
   "source": [
    "Итак, в таблице семь столбцов. Тип данных во всех столбцах — `object`.\n",
    "\n",
    "Согласно документации к данным:\n",
    "* `userID` — идентификатор пользователя;\n",
    "* `Track` — название трека;  \n",
    "* `artist` — имя исполнителя;\n",
    "* `genre` — название жанра;\n",
    "* `City` — город пользователя;\n",
    "* `time` — время начала прослушивания;\n",
    "* `Day` — день недели.\n",
    "\n",
    "В названиях колонок видны три нарушения стиля:\n",
    "1. Строчные буквы сочетаются с прописными.\n",
    "2. Встречаются пробелы.\n",
    "3. Есть названия, записанные не в \"змеином регистре\"\n",
    "\n",
    "\n",
    "\n",
    "Количество значений в столбцах различается. Значит, в данных есть пропущенные значения.\n"
   ]
  },
  {
   "cell_type": "markdown",
   "metadata": {
    "id": "MCB6-dXG_Zct"
   },
   "source": [
    "**Выводы**\n",
    "\n",
    "В каждой строке таблицы — данные о прослушанном треке. Часть колонок описывает саму композицию: название, исполнителя и жанр. Остальные данные рассказывают о пользователе: из какого он города, когда он слушал музыку. \n",
    "\n",
    "Предварительно можно утверждать, что, данных достаточно для проверки гипотез. Но встречаются пропуски в данных, а в названиях колонок — расхождения с хорошим стилем.\n",
    "\n",
    "Чтобы двигаться дальше, нужно устранить проблемы в данных."
   ]
  },
  {
   "cell_type": "markdown",
   "metadata": {
    "id": "SjYF6Ub9_Zct"
   },
   "source": [
    "## Предобработка данных\n",
    "Исправим стиль в заголовках столбцов, исключим пропуски. Затем проверим данные на дубликаты."
   ]
  },
  {
   "cell_type": "markdown",
   "metadata": {
    "id": "dIaKXr29_Zct"
   },
   "source": [
    "### Стиль заголовков\n",
    "Названия столбцов:"
   ]
  },
  {
   "cell_type": "code",
   "execution_count": 5,
   "metadata": {
    "id": "oKOTdF_Q_Zct"
   },
   "outputs": [
    {
     "data": {
      "text/plain": [
       "Index(['  userID', 'Track', 'artist', 'genre', '  City  ', 'time', 'Day'], dtype='object')"
      ]
     },
     "execution_count": 5,
     "metadata": {},
     "output_type": "execute_result"
    }
   ],
   "source": [
    "df.columns"
   ]
  },
  {
   "cell_type": "markdown",
   "metadata": {
    "id": "zj5534cv_Zct"
   },
   "source": [
    "Приведем названия в соответствие с хорошим стилем:\n",
    "* несколько слов в названии запишем в «змеином_регистре»,\n",
    "* все символы сделаем строчными,\n",
    "* устраним пробелы."
   ]
  },
  {
   "cell_type": "code",
   "execution_count": 6,
   "metadata": {
    "id": "ISlFqs5y_Zct"
   },
   "outputs": [],
   "source": [
    "df = df.rename(columns={'  userID': 'user_id', 'Track': 'track', '  City  ': 'city', 'Day': 'day'}) # переименование столбцов"
   ]
  },
  {
   "cell_type": "markdown",
   "metadata": {
    "id": "1dqbh00J_Zct"
   },
   "source": [
    "Проверим результат."
   ]
  },
  {
   "cell_type": "code",
   "execution_count": 7,
   "metadata": {
    "id": "d4NOAmTW_Zct"
   },
   "outputs": [
    {
     "data": {
      "text/plain": [
       "Index(['user_id', 'track', 'artist', 'genre', 'city', 'time', 'day'], dtype='object')"
      ]
     },
     "execution_count": 7,
     "metadata": {},
     "output_type": "execute_result"
    }
   ],
   "source": [
    "df.columns # проверка результатов - перечень названий столбцов"
   ]
  },
  {
   "cell_type": "markdown",
   "metadata": {
    "id": "5ISfbcfY_Zct"
   },
   "source": [
    "### Пропуски значений\n",
    "Сначала посчитаем, сколько в таблице пропущенных значений. Для этого достаточно двух методов `pandas`:"
   ]
  },
  {
   "cell_type": "code",
   "execution_count": 8,
   "metadata": {
    "id": "RskX29qr_Zct"
   },
   "outputs": [
    {
     "data": {
      "text/plain": [
       "user_id       0\n",
       "track      1231\n",
       "artist     7203\n",
       "genre      1198\n",
       "city          0\n",
       "time          0\n",
       "day           0\n",
       "dtype: int64"
      ]
     },
     "execution_count": 8,
     "metadata": {},
     "output_type": "execute_result"
    }
   ],
   "source": [
    "df.isna().sum() # подсчёт пропусков"
   ]
  },
  {
   "cell_type": "markdown",
   "metadata": {
    "id": "qubhgnlO_Zct"
   },
   "source": [
    "Не все пропущенные значения влияют на исследование. Так в `track` и `artist` пропуски не важны для вашей работы. Достаточно заменить их явными обозначениями.\n",
    "\n",
    "Но пропуски в `genre` могут помешать сравнению музыкальных вкусов в Москве и Санкт-Петербурге. На практике было бы правильно установить причину пропусков и восстановить данные. Такой возможности нет в учебном проекте. Придётся:\n",
    "* заполнить и эти пропуски явными обозначениями,\n",
    "* оценить, насколько они повредят расчётам. "
   ]
  },
  {
   "cell_type": "markdown",
   "metadata": {
    "id": "fSv2laPA_Zct"
   },
   "source": [
    "Заменим пропущенные значения в столбцах `track`, `artist` и `genre` на строку `'unknown'`. Для этого создадим список `columns_to_replace`, переберем его элементы циклом `for` и для каждого столбца выполним замену пропущенных значений:"
   ]
  },
  {
   "cell_type": "code",
   "execution_count": 9,
   "metadata": {
    "id": "KplB5qWs_Zct"
   },
   "outputs": [],
   "source": [
    "columns_to_replace = ['track', 'artist', 'genre'] # перебор названий столбцов в цикле и замена пропущенных значений на 'unknown'\n",
    "for column in columns_to_replace:\n",
    "    df[column] = df[column].fillna('unknown')"
   ]
  },
  {
   "cell_type": "markdown",
   "metadata": {
    "id": "Ilsm-MZo_Zct"
   },
   "source": [
    "Убедимся, что в таблице не осталось пропусков. Для этого ещё раз посчитаем пропущенные значения."
   ]
  },
  {
   "cell_type": "code",
   "execution_count": 10,
   "metadata": {
    "id": "Tq4nYRX4_Zct"
   },
   "outputs": [
    {
     "data": {
      "text/plain": [
       "user_id    0\n",
       "track      0\n",
       "artist     0\n",
       "genre      0\n",
       "city       0\n",
       "time       0\n",
       "day        0\n",
       "dtype: int64"
      ]
     },
     "execution_count": 10,
     "metadata": {},
     "output_type": "execute_result"
    }
   ],
   "source": [
    "df.isna().sum()# подсчёт пропусков"
   ]
  },
  {
   "cell_type": "markdown",
   "metadata": {
    "id": "BWKRtBJ3_Zct"
   },
   "source": [
    "### Дубликаты\n",
    "Посчитаем явные дубликаты в таблице:"
   ]
  },
  {
   "cell_type": "code",
   "execution_count": 11,
   "metadata": {
    "id": "36eES_S0_Zct"
   },
   "outputs": [
    {
     "data": {
      "text/plain": [
       "3826"
      ]
     },
     "execution_count": 11,
     "metadata": {},
     "output_type": "execute_result"
    }
   ],
   "source": [
    "df.duplicated().sum() # подсчёт явных дубликатов"
   ]
  },
  {
   "cell_type": "markdown",
   "metadata": {
    "id": "Ot25h6XR_Zct"
   },
   "source": [
    "Вызовем специальный метод `pandas`, чтобы удалить явные дубликаты:"
   ]
  },
  {
   "cell_type": "code",
   "execution_count": 12,
   "metadata": {
    "id": "exFHq6tt_Zct"
   },
   "outputs": [],
   "source": [
    "df = df.drop_duplicates().reset_index(drop=True) # удаление явных дубликатов (с удалением старых индексов и формированием новых)"
   ]
  },
  {
   "cell_type": "markdown",
   "metadata": {
    "id": "Im2YwBEG_Zct"
   },
   "source": [
    "Ещё раз посчитаем явные дубликаты в таблице — убедимся, что полностью от них избавились:"
   ]
  },
  {
   "cell_type": "code",
   "execution_count": 13,
   "metadata": {
    "id": "-8PuNWQ0_Zct"
   },
   "outputs": [
    {
     "data": {
      "text/plain": [
       "0"
      ]
     },
     "execution_count": 13,
     "metadata": {},
     "output_type": "execute_result"
    }
   ],
   "source": [
    "df.duplicated().sum()# проверка на отсутствие дубликатов"
   ]
  },
  {
   "cell_type": "markdown",
   "metadata": {
    "id": "QlFBsxAr_Zct"
   },
   "source": [
    "Теперь избавимся от неявных дубликатов в колонке `genre`. Например, название одного и того же жанра может быть записано немного по-разному. Такие ошибки тоже повлияют на результат исследования."
   ]
  },
  {
   "cell_type": "markdown",
   "metadata": {
    "id": "eSjWwsOh_Zct"
   },
   "source": [
    "Выведем на экран список уникальных названий жанров, отсортированный в алфавитном порядке"
   ]
  },
  {
   "cell_type": "code",
   "execution_count": 14,
   "metadata": {
    "id": "JIUcqzZN_Zct"
   },
   "outputs": [
    {
     "data": {
      "text/plain": [
       "array(['acid', 'acoustic', 'action', 'adult', 'africa', 'afrikaans',\n",
       "       'alternative', 'alternativepunk', 'ambient', 'americana',\n",
       "       'animated', 'anime', 'arabesk', 'arabic', 'arena',\n",
       "       'argentinetango', 'art', 'audiobook', 'author', 'avantgarde',\n",
       "       'axé', 'baile', 'balkan', 'beats', 'bigroom', 'black', 'bluegrass',\n",
       "       'blues', 'bollywood', 'bossa', 'brazilian', 'breakbeat', 'breaks',\n",
       "       'broadway', 'cantautori', 'cantopop', 'canzone', 'caribbean',\n",
       "       'caucasian', 'celtic', 'chamber', 'chanson', 'children', 'chill',\n",
       "       'chinese', 'choral', 'christian', 'christmas', 'classical',\n",
       "       'classicmetal', 'club', 'colombian', 'comedy', 'conjazz',\n",
       "       'contemporary', 'country', 'cuban', 'dance', 'dancehall',\n",
       "       'dancepop', 'dark', 'death', 'deep', 'deutschrock', 'deutschspr',\n",
       "       'dirty', 'disco', 'dnb', 'documentary', 'downbeat', 'downtempo',\n",
       "       'drum', 'dub', 'dubstep', 'eastern', 'easy', 'electronic',\n",
       "       'electropop', 'emo', 'entehno', 'epicmetal', 'estrada', 'ethnic',\n",
       "       'eurofolk', 'european', 'experimental', 'extrememetal', 'fado',\n",
       "       'fairytail', 'film', 'fitness', 'flamenco', 'folk', 'folklore',\n",
       "       'folkmetal', 'folkrock', 'folktronica', 'forró', 'frankreich',\n",
       "       'französisch', 'french', 'funk', 'future', 'gangsta', 'garage',\n",
       "       'german', 'ghazal', 'gitarre', 'glitch', 'gospel', 'gothic',\n",
       "       'grime', 'grunge', 'gypsy', 'handsup', \"hard'n'heavy\", 'hardcore',\n",
       "       'hardstyle', 'hardtechno', 'hip', 'hip-hop', 'hiphop',\n",
       "       'historisch', 'holiday', 'hop', 'horror', 'house', 'hymn', 'idm',\n",
       "       'independent', 'indian', 'indie', 'indipop', 'industrial',\n",
       "       'inspirational', 'instrumental', 'international', 'irish', 'jam',\n",
       "       'japanese', 'jazz', 'jewish', 'jpop', 'jungle', 'k-pop',\n",
       "       'karadeniz', 'karaoke', 'kayokyoku', 'korean', 'laiko', 'latin',\n",
       "       'latino', 'leftfield', 'local', 'lounge', 'loungeelectronic',\n",
       "       'lovers', 'malaysian', 'mandopop', 'marschmusik', 'meditative',\n",
       "       'mediterranean', 'melodic', 'metal', 'metalcore', 'mexican',\n",
       "       'middle', 'minimal', 'miscellaneous', 'modern', 'mood', 'mpb',\n",
       "       'muslim', 'native', 'neoklassik', 'neue', 'new', 'newage',\n",
       "       'newwave', 'nu', 'nujazz', 'numetal', 'oceania', 'old', 'opera',\n",
       "       'orchestral', 'other', 'piano', 'podcasts', 'pop', 'popdance',\n",
       "       'popelectronic', 'popeurodance', 'poprussian', 'post',\n",
       "       'posthardcore', 'postrock', 'power', 'progmetal', 'progressive',\n",
       "       'psychedelic', 'punjabi', 'punk', 'quebecois', 'ragga', 'ram',\n",
       "       'rancheras', 'rap', 'rave', 'reggae', 'reggaeton', 'regional',\n",
       "       'relax', 'religious', 'retro', 'rhythm', 'rnb', 'rnr', 'rock',\n",
       "       'rockabilly', 'rockalternative', 'rockindie', 'rockother',\n",
       "       'romance', 'roots', 'ruspop', 'rusrap', 'rusrock', 'russian',\n",
       "       'salsa', 'samba', 'scenic', 'schlager', 'self', 'sertanejo',\n",
       "       'shanson', 'shoegazing', 'showtunes', 'singer', 'ska', 'skarock',\n",
       "       'slow', 'smooth', 'soft', 'soul', 'soulful', 'sound', 'soundtrack',\n",
       "       'southern', 'specialty', 'speech', 'spiritual', 'sport',\n",
       "       'stonerrock', 'surf', 'swing', 'synthpop', 'synthrock',\n",
       "       'sängerportrait', 'tango', 'tanzorchester', 'taraftar', 'tatar',\n",
       "       'tech', 'techno', 'teen', 'thrash', 'top', 'traditional',\n",
       "       'tradjazz', 'trance', 'tribal', 'trip', 'triphop', 'tropical',\n",
       "       'türk', 'türkçe', 'ukrrock', 'unknown', 'urban', 'uzbek',\n",
       "       'variété', 'vi', 'videogame', 'vocal', 'western', 'world',\n",
       "       'worldbeat', 'ïîï', 'электроника'], dtype=object)"
      ]
     },
     "execution_count": 14,
     "metadata": {},
     "output_type": "execute_result"
    }
   ],
   "source": [
    "sorted_by_genre = df['genre'].sort_values().unique()\n",
    "sorted_by_genre\n",
    "# Просмотр уникальных названий жанров"
   ]
  },
  {
   "cell_type": "markdown",
   "metadata": {
    "id": "qej-Qmuo_Zct"
   },
   "source": [
    "Просмотрите список и найдем неявные дубликаты\n",
    "Чтобы очистить от них таблицу, напишеме функцию `replace_wrong_genres()` с двумя параметрами: \n",
    "* `wrong_genres` — список дубликатов,\n",
    "* `correct_genre` — строка с правильным значением.\n",
    "\n",
    "Функция должна исправить колонку `genre` в таблице `df`: заменить каждое значение из списка `wrong_genres` на значение из `correct_genre`."
   ]
  },
  {
   "cell_type": "code",
   "execution_count": 15,
   "metadata": {
    "id": "ErNDkmns_Zct"
   },
   "outputs": [],
   "source": [
    "def replace_wrong_genres(wrong_genres, correct_genre):# Функция для замены неявных дубликатов\n",
    "    for name in wrong_genres:\n",
    "        df['genre'] = df['genre'].replace(name, correct_genre)\n"
   ]
  },
  {
   "cell_type": "markdown",
   "metadata": {
    "id": "aDoBJxbA_Zct"
   },
   "source": [
    "Вызовите `replace_wrong_genres()` и передадим ей такие аргументы, чтобы она устранила неявные дубликаты:"
   ]
  },
  {
   "cell_type": "code",
   "execution_count": 16,
   "metadata": {
    "id": "YN5i2hpmSo09"
   },
   "outputs": [],
   "source": [
    "wrong_genres = ['hip', 'hop', 'hip-hop'] # Устранение неявных дубликатов\n",
    "correct_genre = 'hiphop'\n",
    "replace_wrong_genres(wrong_genres, correct_genre)\n",
    "df['genre'] = df['genre'].replace('электроника', 'electronic')\n",
    "df['genre'] = df['genre'].replace('latin', 'latino')\n",
    "df['genre'] = df['genre'].replace('türk', 'türkçe')\n",
    "df['genre'] = df['genre'].replace('tech', 'techno')"
   ]
  },
  {
   "cell_type": "markdown",
   "metadata": {
    "id": "zQKF16_RG15m"
   },
   "source": [
    "Проверим, что заменили неправильные названия. Выведем отсортированный список уникальных значений столбца `genre`:"
   ]
  },
  {
   "cell_type": "code",
   "execution_count": 17,
   "metadata": {
    "id": "wvixALnFG15m"
   },
   "outputs": [
    {
     "data": {
      "text/plain": [
       "array(['acid', 'acoustic', 'action', 'adult', 'africa', 'afrikaans',\n",
       "       'alternative', 'alternativepunk', 'ambient', 'americana',\n",
       "       'animated', 'anime', 'arabesk', 'arabic', 'arena',\n",
       "       'argentinetango', 'art', 'audiobook', 'author', 'avantgarde',\n",
       "       'axé', 'baile', 'balkan', 'beats', 'bigroom', 'black', 'bluegrass',\n",
       "       'blues', 'bollywood', 'bossa', 'brazilian', 'breakbeat', 'breaks',\n",
       "       'broadway', 'cantautori', 'cantopop', 'canzone', 'caribbean',\n",
       "       'caucasian', 'celtic', 'chamber', 'chanson', 'children', 'chill',\n",
       "       'chinese', 'choral', 'christian', 'christmas', 'classical',\n",
       "       'classicmetal', 'club', 'colombian', 'comedy', 'conjazz',\n",
       "       'contemporary', 'country', 'cuban', 'dance', 'dancehall',\n",
       "       'dancepop', 'dark', 'death', 'deep', 'deutschrock', 'deutschspr',\n",
       "       'dirty', 'disco', 'dnb', 'documentary', 'downbeat', 'downtempo',\n",
       "       'drum', 'dub', 'dubstep', 'eastern', 'easy', 'electronic',\n",
       "       'electropop', 'emo', 'entehno', 'epicmetal', 'estrada', 'ethnic',\n",
       "       'eurofolk', 'european', 'experimental', 'extrememetal', 'fado',\n",
       "       'fairytail', 'film', 'fitness', 'flamenco', 'folk', 'folklore',\n",
       "       'folkmetal', 'folkrock', 'folktronica', 'forró', 'frankreich',\n",
       "       'französisch', 'french', 'funk', 'future', 'gangsta', 'garage',\n",
       "       'german', 'ghazal', 'gitarre', 'glitch', 'gospel', 'gothic',\n",
       "       'grime', 'grunge', 'gypsy', 'handsup', \"hard'n'heavy\", 'hardcore',\n",
       "       'hardstyle', 'hardtechno', 'hiphop', 'historisch', 'holiday',\n",
       "       'horror', 'house', 'hymn', 'idm', 'independent', 'indian', 'indie',\n",
       "       'indipop', 'industrial', 'inspirational', 'instrumental',\n",
       "       'international', 'irish', 'jam', 'japanese', 'jazz', 'jewish',\n",
       "       'jpop', 'jungle', 'k-pop', 'karadeniz', 'karaoke', 'kayokyoku',\n",
       "       'korean', 'laiko', 'latino', 'leftfield', 'local', 'lounge',\n",
       "       'loungeelectronic', 'lovers', 'malaysian', 'mandopop',\n",
       "       'marschmusik', 'meditative', 'mediterranean', 'melodic', 'metal',\n",
       "       'metalcore', 'mexican', 'middle', 'minimal', 'miscellaneous',\n",
       "       'modern', 'mood', 'mpb', 'muslim', 'native', 'neoklassik', 'neue',\n",
       "       'new', 'newage', 'newwave', 'nu', 'nujazz', 'numetal', 'oceania',\n",
       "       'old', 'opera', 'orchestral', 'other', 'piano', 'podcasts', 'pop',\n",
       "       'popdance', 'popelectronic', 'popeurodance', 'poprussian', 'post',\n",
       "       'posthardcore', 'postrock', 'power', 'progmetal', 'progressive',\n",
       "       'psychedelic', 'punjabi', 'punk', 'quebecois', 'ragga', 'ram',\n",
       "       'rancheras', 'rap', 'rave', 'reggae', 'reggaeton', 'regional',\n",
       "       'relax', 'religious', 'retro', 'rhythm', 'rnb', 'rnr', 'rock',\n",
       "       'rockabilly', 'rockalternative', 'rockindie', 'rockother',\n",
       "       'romance', 'roots', 'ruspop', 'rusrap', 'rusrock', 'russian',\n",
       "       'salsa', 'samba', 'scenic', 'schlager', 'self', 'sertanejo',\n",
       "       'shanson', 'shoegazing', 'showtunes', 'singer', 'ska', 'skarock',\n",
       "       'slow', 'smooth', 'soft', 'soul', 'soulful', 'sound', 'soundtrack',\n",
       "       'southern', 'specialty', 'speech', 'spiritual', 'sport',\n",
       "       'stonerrock', 'surf', 'swing', 'synthpop', 'synthrock',\n",
       "       'sängerportrait', 'tango', 'tanzorchester', 'taraftar', 'tatar',\n",
       "       'techno', 'teen', 'thrash', 'top', 'traditional', 'tradjazz',\n",
       "       'trance', 'tribal', 'trip', 'triphop', 'tropical', 'türkçe',\n",
       "       'ukrrock', 'unknown', 'urban', 'uzbek', 'variété', 'vi',\n",
       "       'videogame', 'vocal', 'western', 'world', 'worldbeat', 'ïîï'],\n",
       "      dtype=object)"
      ]
     },
     "execution_count": 17,
     "metadata": {},
     "output_type": "execute_result"
    }
   ],
   "source": [
    "sorted_by_genre = df['genre'].sort_values().unique()# Проверка на неявные дубликаты\n",
    "sorted_by_genre "
   ]
  },
  {
   "cell_type": "markdown",
   "metadata": {
    "id": "jz6a9-7HQUDd"
   },
   "source": [
    "**Выводы**\n",
    "\n",
    "Предобработка обнаружила три проблемы в данных:\n",
    "\n",
    "- нарушения в стиле заголовков,\n",
    "- пропущенные значения,\n",
    "- дубликаты — явные и неявные.\n",
    "\n",
    "Мы исправили заголовки, чтобы упростить работу с таблицей. Без дубликатов исследование станет более точным.\n",
    "\n",
    "Пропущенные значения вы заменили на `'unknown'`. Ещё предстоит увидеть, не повредят ли исследованию пропуски в колонке `genre`.\n",
    "\n",
    "Теперь можно перейти к проверке гипотез. "
   ]
  },
  {
   "cell_type": "markdown",
   "metadata": {
    "id": "WttZHXH0SqKk"
   },
   "source": [
    "## Проверка гипотез"
   ]
  },
  {
   "cell_type": "markdown",
   "metadata": {
    "id": "Im936VVi_Zcu"
   },
   "source": [
    "### Сравнение поведения пользователей двух столиц"
   ]
  },
  {
   "cell_type": "markdown",
   "metadata": {
    "id": "nwt_MuaL_Zcu"
   },
   "source": [
    "Первая гипотеза утверждает, что пользователи по-разному слушают музыку в Москве и Санкт-Петербурге. Проверим это предположение по данным о трёх днях недели — понедельнике, среде и пятнице. Для этого:\n",
    "\n",
    "* Разделим пользователей Москвы и Санкт-Петербурга\n",
    "* Сравним, сколько треков послушала каждая группа пользователей в понедельник, среду и пятницу.\n"
   ]
  },
  {
   "cell_type": "markdown",
   "metadata": {
    "id": "8Dw_YMmT_Zcu"
   },
   "source": [
    "Оценим активность пользователей в каждом городе. Сгруппирем данные по городу и посчитаем прослушивания в каждой группе.\n",
    "\n"
   ]
  },
  {
   "cell_type": "code",
   "execution_count": 18,
   "metadata": {
    "id": "0_Qs96oh_Zcu"
   },
   "outputs": [
    {
     "data": {
      "text/plain": [
       "city\n",
       "Moscow              42741\n",
       "Saint-Petersburg    18512\n",
       "Name: track, dtype: int64"
      ]
     },
     "execution_count": 18,
     "metadata": {},
     "output_type": "execute_result"
    }
   ],
   "source": [
    "df.groupby('city')['track'].count() # Подсчёт прослушиваний в каждом городе"
   ]
  },
  {
   "cell_type": "markdown",
   "metadata": {
    "id": "dzli3w8o_Zcu"
   },
   "source": [
    "В Москве прослушиваний больше, чем в Петербурге. Из этого не следует, что московские пользователи чаще слушают музыку. Просто самих пользователей в Москве больше.\n",
    "\n",
    "Теперь сгруппируем данные по дню недели и подсчитаем прослушивания в понедельник, среду и пятницу.\n"
   ]
  },
  {
   "cell_type": "code",
   "execution_count": 19,
   "metadata": {
    "id": "uZMKjiJz_Zcu"
   },
   "outputs": [
    {
     "data": {
      "text/plain": [
       "day\n",
       "Friday       21840\n",
       "Monday       21354\n",
       "Wednesday    18059\n",
       "Name: track, dtype: int64"
      ]
     },
     "execution_count": 19,
     "metadata": {},
     "output_type": "execute_result"
    }
   ],
   "source": [
    "df.groupby('day')['track'].count()# Подсчёт прослушиваний в каждый из трёх дней"
   ]
  },
  {
   "cell_type": "markdown",
   "metadata": {
    "id": "cC2tNrlL_Zcu"
   },
   "source": [
    "В среднем пользователи из двух городов менее активны по средам. Но картина может измениться, если рассмотреть каждый город в отдельности."
   ]
  },
  {
   "cell_type": "markdown",
   "metadata": {
    "id": "POzs8bGa_Zcu"
   },
   "source": [
    "Создадим функцию `number_tracks()`, которая посчитает прослушивания для заданного дня и города. "
   ]
  },
  {
   "cell_type": "code",
   "execution_count": 20,
   "metadata": {
    "id": "Nz3GdQB1_Zcu"
   },
   "outputs": [],
   "source": [
    "def number_tracks(day, city):\n",
    "    track_list = df[df['city'] == city]\n",
    "    track_list = track_list[track_list['day'] == day]\n",
    "    track_list_count = track_list['day'].count()\n",
    "    return track_list_count\n",
    "\n",
    "# <создание функции \n",
    "# Объявляется функция с двумя параметрами: day, city.\n",
    "# В переменной track_list сохраняются те строки таблицы df, для которых \n",
    "# значение в столбце 'day' равно параметру day и одновременно значение\n",
    "# в столбце 'city' равно параметру city \n",
    "# В переменной track_list_count сохраняется число значений столбца 'user_id',\n",
    "# рассчитанное методом count() для таблицы track_list.\n",
    "# Функция возвращает число - значение track_list_count.\n",
    "\n",
    "# Функция для подсчёта прослушиваний для конкретного города и дня.\n",
    "# С помощью последовательной фильтрации с логической индексацией она \n",
    "# сначала получит из исходной таблицы строки с нужным днём,\n",
    "# затем из результата отфильтрует строки с нужным городом,\n",
    "# методом count() посчитает количество значений в колонке user_id. \n",
    "# Это количество функция вернёт в качестве результата"
   ]
  },
  {
   "cell_type": "markdown",
   "metadata": {
    "id": "ytf7xFrFJQ2r"
   },
   "source": [
    "Вызовем `number_tracks()` шесть раз, меняя значение параметров — так, чтобы получить данные для каждого города в каждый из трёх дней."
   ]
  },
  {
   "cell_type": "code",
   "execution_count": 21,
   "metadata": {
    "id": "rJcRATNQ_Zcu"
   },
   "outputs": [
    {
     "data": {
      "text/plain": [
       "15740"
      ]
     },
     "execution_count": 21,
     "metadata": {},
     "output_type": "execute_result"
    }
   ],
   "source": [
    "number_tracks('Monday', 'Moscow')# количество прослушиваний в Москве по понедельникам"
   ]
  },
  {
   "cell_type": "code",
   "execution_count": 22,
   "metadata": {
    "id": "hq_ncZ5T_Zcu"
   },
   "outputs": [
    {
     "data": {
      "text/plain": [
       "5614"
      ]
     },
     "execution_count": 22,
     "metadata": {},
     "output_type": "execute_result"
    }
   ],
   "source": [
    "number_tracks('Monday', 'Saint-Petersburg')# количество прослушиваний в Санкт-Петербурге по понедельникам"
   ]
  },
  {
   "cell_type": "code",
   "execution_count": 23,
   "metadata": {
    "id": "_NTy2VPU_Zcu"
   },
   "outputs": [
    {
     "data": {
      "text/plain": [
       "11056"
      ]
     },
     "execution_count": 23,
     "metadata": {},
     "output_type": "execute_result"
    }
   ],
   "source": [
    "number_tracks('Wednesday', 'Moscow')# количество прослушиваний в Москве по средам"
   ]
  },
  {
   "cell_type": "code",
   "execution_count": 24,
   "metadata": {
    "id": "j2y3TAwo_Zcu"
   },
   "outputs": [
    {
     "data": {
      "text/plain": [
       "7003"
      ]
     },
     "execution_count": 24,
     "metadata": {},
     "output_type": "execute_result"
    }
   ],
   "source": [
    "number_tracks('Wednesday', 'Saint-Petersburg')# количество прослушиваний в Санкт-Петербурге по средам"
   ]
  },
  {
   "cell_type": "code",
   "execution_count": 25,
   "metadata": {
    "id": "vYDw5u_K_Zcu"
   },
   "outputs": [
    {
     "data": {
      "text/plain": [
       "15945"
      ]
     },
     "execution_count": 25,
     "metadata": {},
     "output_type": "execute_result"
    }
   ],
   "source": [
    "number_tracks('Friday', 'Moscow')# количество прослушиваний в Москве по пятницам"
   ]
  },
  {
   "cell_type": "code",
   "execution_count": 26,
   "metadata": {
    "id": "8_yzFtW3_Zcu"
   },
   "outputs": [
    {
     "data": {
      "text/plain": [
       "5895"
      ]
     },
     "execution_count": 26,
     "metadata": {},
     "output_type": "execute_result"
    }
   ],
   "source": [
    "number_tracks('Friday', 'Saint-Petersburg')# количество прослушиваний в Санкт-Петербурге по пятницам"
   ]
  },
  {
   "cell_type": "code",
   "execution_count": 27,
   "metadata": {
    "id": "APAcLpOr_Zcu"
   },
   "outputs": [
    {
     "data": {
      "text/html": [
       "<div>\n",
       "<style scoped>\n",
       "    .dataframe tbody tr th:only-of-type {\n",
       "        vertical-align: middle;\n",
       "    }\n",
       "\n",
       "    .dataframe tbody tr th {\n",
       "        vertical-align: top;\n",
       "    }\n",
       "\n",
       "    .dataframe thead th {\n",
       "        text-align: right;\n",
       "    }\n",
       "</style>\n",
       "<table border=\"1\" class=\"dataframe\">\n",
       "  <thead>\n",
       "    <tr style=\"text-align: right;\">\n",
       "      <th></th>\n",
       "      <th>city</th>\n",
       "      <th>monday</th>\n",
       "      <th>wednesday</th>\n",
       "      <th>friday</th>\n",
       "    </tr>\n",
       "  </thead>\n",
       "  <tbody>\n",
       "    <tr>\n",
       "      <td>0</td>\n",
       "      <td>Moscow</td>\n",
       "      <td>15740</td>\n",
       "      <td>11056</td>\n",
       "      <td>15945</td>\n",
       "    </tr>\n",
       "    <tr>\n",
       "      <td>1</td>\n",
       "      <td>Saint-Petersburg</td>\n",
       "      <td>5614</td>\n",
       "      <td>7003</td>\n",
       "      <td>5895</td>\n",
       "    </tr>\n",
       "  </tbody>\n",
       "</table>\n",
       "</div>"
      ],
      "text/plain": [
       "               city  monday  wednesday  friday\n",
       "0            Moscow   15740      11056   15945\n",
       "1  Saint-Petersburg    5614       7003    5895"
      ]
     },
     "metadata": {},
     "output_type": "display_data"
    }
   ],
   "source": [
    "columns = ['city', 'monday', 'wednesday', 'friday']# Таблица с результатами\n",
    "data = [['Moscow', 15740, 11056, 15945],\n",
    "       ['Saint-Petersburg', 5614, 7003, 5895]]\n",
    "city_by_day = pd.DataFrame(data = data, columns = columns)\n",
    "display(city_by_day)"
   ]
  },
  {
   "cell_type": "markdown",
   "metadata": {
    "id": "-EgPIHYu_Zcu"
   },
   "source": [
    "**Выводы**\n",
    "\n",
    "Данные показывают разницу поведения пользователей:\n",
    "\n",
    "- В Москве пик прослушиваний приходится на понедельник и пятницу, а в среду заметен спад.\n",
    "- В Петербурге, наоборот, больше слушают музыку по средам. Активность в понедельник и пятницу здесь почти в равной мере уступает среде.\n",
    "\n",
    "Значит, данные говорят в пользу первой гипотезы."
   ]
  },
  {
   "cell_type": "markdown",
   "metadata": {
    "id": "atZAxtq4_Zcu"
   },
   "source": [
    "### Музыка в начале и в конце недели"
   ]
  },
  {
   "cell_type": "markdown",
   "metadata": {
    "id": "eXrQqXFH_Zcu"
   },
   "source": [
    "Согласно второй гипотезе, утром в понедельник в Москве преобладают одни жанры, а в Петербурге — другие. Так же и вечером пятницы преобладают разные жанры — в зависимости от города."
   ]
  },
  {
   "cell_type": "markdown",
   "metadata": {
    "id": "S8UcW6Hw_Zcu"
   },
   "source": [
    "Сохраним таблицы с данными в две переменные:\n",
    "* по Москве — в `moscow_general`;\n",
    "* по Санкт-Петербургу — в `spb_general`."
   ]
  },
  {
   "cell_type": "code",
   "execution_count": 28,
   "metadata": {
    "id": "qeaFfM_P_Zcu"
   },
   "outputs": [],
   "source": [
    "# получение таблицы moscow_general из тех строк таблицы df, \n",
    "# для которых значение в столбце 'city' равно 'Moscow'\n",
    "\n",
    "moscow_general = df[df['city'] == 'Moscow']\n"
   ]
  },
  {
   "cell_type": "code",
   "execution_count": 29,
   "metadata": {
    "id": "ORaVRKto_Zcu"
   },
   "outputs": [],
   "source": [
    "# получение таблицы spb_general из тех строк таблицы df,\n",
    "# для которых значение в столбце 'city' равно 'Saint-Petersburg'\n",
    "\n",
    "spb_general = df[df['city'] == 'Saint-Petersburg']\n",
    "\n"
   ]
  },
  {
   "cell_type": "markdown",
   "metadata": {
    "id": "MEJV-CX2_Zcu"
   },
   "source": [
    "Создадим функцию `genre_weekday()` с четырьмя параметрами:\n",
    "* таблица (датафрейм) с данными,\n",
    "* день недели,\n",
    "* начальная временная метка в формате 'hh:mm', \n",
    "* последняя временная метка в формате 'hh:mm'.\n",
    "\n",
    "Функция должна вернуть информацию о топ-10 жанров тех треков, которые прослушивали в указанный день, в промежутке между двумя отметками времени."
   ]
  },
  {
   "cell_type": "code",
   "execution_count": 30,
   "metadata": {
    "id": "laJT9BYl_Zcu"
   },
   "outputs": [],
   "source": [
    "def genre_weekday(table, day, time1, time2):\n",
    "    genre_df = table[table['day'] == day]\n",
    "    genre_df = genre_df[genre_df['time'] > time1]\n",
    "    genre_df = genre_df[genre_df['time'] < time2]\n",
    "    genre_df_count = genre_df.groupby('genre')['city'].count()\n",
    "    genre_df_sorted = genre_df_count.sort_values(ascending = False)\n",
    "    return genre_df_sorted.head(10)\n",
    "\n",
    "\n",
    "# Объявление функции genre_weekday() с параметрами table, day, time1, time2,\n",
    "# которая возвращает информацию о самых популярных жанрах в указанный день в\n",
    "# заданное время:\n",
    "# 1) в переменную genre_df сохраняются те строки переданного датафрейма table, для\n",
    "#    которых одновременно:\n",
    "#    - значение в столбце day равно значению аргумента day\n",
    "#    - значение в столбце time больше значения аргумента time1\n",
    "#    - значение в столбце time меньше значения аргумента time2\n",
    "#    Используйте последовательную фильтрацию с помощью логической индексации.\n",
    "# 2) сгруппировать датафрейм genre_df по столбцу genre, взять один из его\n",
    "#    столбцов и посчитать методом count() количество записей для каждого из\n",
    "#    присутствующих жанров, получившийся Series записать в переменную\n",
    "#    genre_df_count\n",
    "# 3) отсортировать genre_df_count по убыванию встречаемости и сохранить\n",
    "#    в переменную genre_df_sorted\n",
    "# 4) вернуть Series из 10 первых значений genre_df_sorted, это будут топ-10\n",
    "#    популярных жанров (в указанный день, в заданное время)"
   ]
  },
  {
   "cell_type": "markdown",
   "metadata": {
    "id": "la2s2_PF_Zcu"
   },
   "source": [
    "Cравним результаты функции `genre_weekday()` для Москвы и Санкт-Петербурга в понедельник утром (с 7:00 до 11:00) и в пятницу вечером (с 17:00 до 23:00):"
   ]
  },
  {
   "cell_type": "code",
   "execution_count": 31,
   "metadata": {
    "id": "yz7itPUQ_Zcu"
   },
   "outputs": [
    {
     "data": {
      "text/plain": [
       "genre\n",
       "pop            781\n",
       "dance          549\n",
       "electronic     480\n",
       "rock           474\n",
       "hiphop         286\n",
       "ruspop         186\n",
       "world          181\n",
       "rusrap         175\n",
       "alternative    164\n",
       "unknown        161\n",
       "Name: city, dtype: int64"
      ]
     },
     "execution_count": 31,
     "metadata": {},
     "output_type": "execute_result"
    }
   ],
   "source": [
    "genre_weekday(moscow_general, 'Monday', '07:00', '11:00')\n",
    "\n",
    "# вызов функции для утра понедельника в Москве (вместо df — таблица moscow_general)\n",
    "# объекты, хранящие время, являются строками и сравниваются как строки\n",
    "# пример вызова: genre_weekday(moscow_general, 'Monday', '07:00', '11:00')"
   ]
  },
  {
   "cell_type": "code",
   "execution_count": 32,
   "metadata": {
    "id": "kwUcHPdy_Zcu"
   },
   "outputs": [
    {
     "data": {
      "text/plain": [
       "genre\n",
       "pop            218\n",
       "dance          182\n",
       "rock           162\n",
       "electronic     147\n",
       "hiphop          80\n",
       "ruspop          64\n",
       "alternative     58\n",
       "rusrap          55\n",
       "jazz            44\n",
       "classical       40\n",
       "Name: city, dtype: int64"
      ]
     },
     "execution_count": 32,
     "metadata": {},
     "output_type": "execute_result"
    }
   ],
   "source": [
    "genre_weekday(spb_general, 'Monday', '07:00', '11:00') \n",
    "# вызов функции для утра понедельника в Петербурге (вместо df — таблица spb_general)"
   ]
  },
  {
   "cell_type": "code",
   "execution_count": 33,
   "metadata": {
    "id": "EzXVRE1o_Zcu"
   },
   "outputs": [
    {
     "data": {
      "text/plain": [
       "genre\n",
       "pop            713\n",
       "rock           517\n",
       "dance          495\n",
       "electronic     482\n",
       "hiphop         273\n",
       "world          208\n",
       "ruspop         170\n",
       "classical      163\n",
       "alternative    163\n",
       "rusrap         142\n",
       "Name: city, dtype: int64"
      ]
     },
     "execution_count": 33,
     "metadata": {},
     "output_type": "execute_result"
    }
   ],
   "source": [
    "genre_weekday(moscow_general, 'Friday', '17:00', '23:00')# вызов функции для вечера пятницы в Москве"
   ]
  },
  {
   "cell_type": "code",
   "execution_count": 34,
   "metadata": {
    "id": "JZaEKu5v_Zcu"
   },
   "outputs": [
    {
     "data": {
      "text/plain": [
       "genre\n",
       "pop            256\n",
       "electronic     216\n",
       "rock           216\n",
       "dance          210\n",
       "hiphop          97\n",
       "alternative     63\n",
       "jazz            61\n",
       "classical       60\n",
       "rusrap          59\n",
       "world           54\n",
       "Name: city, dtype: int64"
      ]
     },
     "execution_count": 34,
     "metadata": {},
     "output_type": "execute_result"
    }
   ],
   "source": [
    "genre_weekday(spb_general, 'Friday', '17:00', '23:00')# вызов функции для вечера пятницы в Петербурге"
   ]
  },
  {
   "cell_type": "markdown",
   "metadata": {
    "id": "wrCe4MNX_Zcu"
   },
   "source": [
    "**Выводы**\n",
    "\n",
    "Если сравнить топ-10 жанров в понедельник утром, можно сделать такие выводы:\n",
    "\n",
    "1. В Москве и Петербурге слушают похожую музыку. Единственное отличие — в московский рейтинг вошёл жанр “world”, а в петербургский — джаз и классика.\n",
    "\n",
    "2. В Москве пропущенных значений оказалось так много, что значение `'unknown'` заняло десятое место среди самых популярных жанров. Значит, пропущенные значения занимают существенную долю в данных и угрожают достоверности исследования.\n",
    "\n",
    "Вечер пятницы не меняет эту картину. Некоторые жанры поднимаются немного выше, другие спускаются, но в целом топ-10 остаётся тем же самым.\n",
    "\n",
    "Таким образом, вторая гипотеза подтвердилась лишь частично:\n",
    "* Пользователи слушают похожую музыку в начале недели и в конце.\n",
    "* Разница между Москвой и Петербургом не слишком выражена. В Москве чаще слушают русскую популярную музыку, в Петербурге — джаз.\n",
    "\n",
    "Однако пропуски в данных ставят под сомнение этот результат. В Москве их так много, что рейтинг топ-10 мог бы выглядеть иначе, если бы не утерянные  данные о жанрах."
   ]
  },
  {
   "cell_type": "markdown",
   "metadata": {
    "id": "JolODAqr_Zcu"
   },
   "source": [
    "### Жанровые предпочтения в Москве и Петербурге\n",
    "\n",
    "Гипотеза: Петербург — столица рэпа, музыку этого жанра там слушают чаще, чем в Москве.  А Москва — город контрастов, в котором, тем не менее, преобладает поп-музыка."
   ]
  },
  {
   "cell_type": "markdown",
   "metadata": {
    "id": "DlegSvaT_Zcu"
   },
   "source": [
    "Сгруппируем таблицу `moscow_general` по жанру и посчитайте прослушивания треков каждого жанра методом `count()`. Затем отсортируем результат в порядке убывания и сохраним его в таблице `moscow_genres`."
   ]
  },
  {
   "cell_type": "code",
   "execution_count": 35,
   "metadata": {
    "id": "r19lIPke_Zcu"
   },
   "outputs": [],
   "source": [
    "moscow_genres = moscow_general.groupby('genre')['genre'].count().sort_values(ascending = False)\n",
    "\n",
    "# одной строкой: группировка таблицы moscow_general по столбцу 'genre', \n",
    "# подсчёт числа значений 'genre' в этой группировке методом count(), \n",
    "# сортировка получившегося Series в порядке убывания и сохранение в moscow_genres"
   ]
  },
  {
   "cell_type": "markdown",
   "metadata": {
    "id": "6kMuomxTiIr8"
   },
   "source": [
    "Выведем на экран первые десять строк `moscow_genres`:"
   ]
  },
  {
   "cell_type": "code",
   "execution_count": 36,
   "metadata": {
    "id": "WhCSooF8_Zcv"
   },
   "outputs": [
    {
     "data": {
      "text/plain": [
       "genre\n",
       "pop            5892\n",
       "dance          4435\n",
       "rock           3965\n",
       "electronic     3786\n",
       "hiphop         2096\n",
       "classical      1616\n",
       "world          1432\n",
       "alternative    1379\n",
       "ruspop         1372\n",
       "rusrap         1161\n",
       "Name: genre, dtype: int64"
      ]
     },
     "execution_count": 36,
     "metadata": {},
     "output_type": "execute_result"
    }
   ],
   "source": [
    "moscow_genres.head(10)# просмотр первых 10 строк moscow_genres"
   ]
  },
  {
   "cell_type": "markdown",
   "metadata": {
    "id": "cnPG2vnN_Zcv"
   },
   "source": [
    "Теперь повторим то же и для Петербурга.\n",
    "\n",
    "Сгруппируем таблицу `spb_general` по жанру. Посчитаем прослушивания треков каждого жанра. Результат отсортируем в порядке убывания и сохраним в таблице `spb_genres`:\n"
   ]
  },
  {
   "cell_type": "code",
   "execution_count": 37,
   "metadata": {
    "id": "gluLIpE7_Zcv"
   },
   "outputs": [],
   "source": [
    "spb_general = spb_general.groupby('genre')['genre'].count().sort_values(ascending = False)\n",
    "# одной строкой: группировка таблицы spb_general по столбцу 'genre', \n",
    "# подсчёт числа значений 'genre' в этой группировке методом count(), \n",
    "# сортировка получившегося Series в порядке убывания и сохранение в spb_genres"
   ]
  },
  {
   "cell_type": "markdown",
   "metadata": {
    "id": "5Doha_ODgyQ8"
   },
   "source": [
    "Выведем на экран первые десять строк `spb_genres`:"
   ]
  },
  {
   "cell_type": "code",
   "execution_count": 38,
   "metadata": {
    "id": "uaGJHjVU_Zcv"
   },
   "outputs": [
    {
     "data": {
      "text/plain": [
       "genre\n",
       "pop            2431\n",
       "dance          1932\n",
       "rock           1879\n",
       "electronic     1737\n",
       "hiphop          960\n",
       "alternative     649\n",
       "classical       646\n",
       "rusrap          564\n",
       "ruspop          538\n",
       "world           515\n",
       "Name: genre, dtype: int64"
      ]
     },
     "execution_count": 38,
     "metadata": {},
     "output_type": "execute_result"
    }
   ],
   "source": [
    "spb_general.head(10)# просмотр первых 10 строк spb_genres"
   ]
  },
  {
   "cell_type": "markdown",
   "metadata": {
    "id": "RY51YJYu_Zcv"
   },
   "source": [
    "**Выводы**"
   ]
  },
  {
   "cell_type": "markdown",
   "metadata": {
    "id": "nVhnJEm__Zcv"
   },
   "source": [
    "Гипотеза частично подтвердилась:\n",
    "* Поп-музыка — самый популярный жанр в Москве, как и предполагала гипотеза. Более того, в топ-10 жанров встречается близкий жанр — русская популярная музыка.\n",
    "* Вопреки ожиданиям, рэп одинаково популярен в Москве и Петербурге. \n"
   ]
  },
  {
   "cell_type": "markdown",
   "metadata": {
    "id": "ykKQ0N65_Zcv"
   },
   "source": [
    "## Итоги исследования"
   ]
  },
  {
   "cell_type": "markdown",
   "metadata": {
    "id": "tjUwbHb3_Zcv"
   },
   "source": [
    "Мы проверили три гипотезы и установили:\n",
    "\n",
    "1. День недели по-разному влияет на активность пользователей в Москве и Петербурге. \n",
    "\n",
    "Первая гипотеза полностью подтвердилась.\n",
    "\n",
    "2. Музыкальные предпочтения не сильно меняются в течение недели — будь то Москва или Петербург. Небольшие различия заметны в начале недели, по понедельникам:\n",
    "* в Москве слушают музыку жанра “world”,\n",
    "* в Петербурге — джаз и классику.\n",
    "\n",
    "Таким образом, вторая гипотеза подтвердилась лишь отчасти. Этот результат мог оказаться иным, если бы не пропуски в данных.\n",
    "\n",
    "3. Во вкусах пользователей Москвы и Петербурга больше общего чем различий. Вопреки ожиданиям, предпочтения жанров в Петербурге напоминают московские.\n",
    "\n",
    "Третья гипотеза не подтвердилась. Если различия в предпочтениях и существуют, на основной массе пользователей они незаметны."
   ]
  }
 ],
 "metadata": {
  "ExecuteTimeLog": [
   {
    "duration": 88,
    "start_time": "2021-10-24T05:21:26.876Z"
   },
   {
    "duration": 339,
    "start_time": "2021-10-24T05:21:46.585Z"
   },
   {
    "duration": 357,
    "start_time": "2021-10-24T05:22:08.063Z"
   },
   {
    "duration": 349,
    "start_time": "2021-10-24T05:22:29.480Z"
   },
   {
    "duration": 759,
    "start_time": "2021-10-24T05:22:36.834Z"
   },
   {
    "duration": 2800,
    "start_time": "2021-10-24T05:22:38.714Z"
   },
   {
    "duration": 90,
    "start_time": "2021-10-24T05:23:05.322Z"
   },
   {
    "duration": 253,
    "start_time": "2021-10-24T05:23:11.709Z"
   },
   {
    "duration": 334,
    "start_time": "2021-10-24T05:23:36.396Z"
   },
   {
    "duration": 2063,
    "start_time": "2021-10-24T05:28:47.479Z"
   },
   {
    "duration": 202,
    "start_time": "2021-10-24T05:31:08.755Z"
   },
   {
    "duration": 340,
    "start_time": "2021-10-24T05:31:48.385Z"
   },
   {
    "duration": 31,
    "start_time": "2021-10-24T05:31:56.422Z"
   },
   {
    "duration": 35,
    "start_time": "2021-10-24T05:32:45.984Z"
   },
   {
    "duration": 5,
    "start_time": "2021-10-24T05:50:01.357Z"
   },
   {
    "duration": 4,
    "start_time": "2021-10-24T05:50:13.336Z"
   },
   {
    "duration": 7,
    "start_time": "2021-10-24T05:50:29.923Z"
   },
   {
    "duration": 414,
    "start_time": "2021-10-24T09:32:25.922Z"
   },
   {
    "duration": 799,
    "start_time": "2021-10-24T09:32:49.182Z"
   },
   {
    "duration": 771,
    "start_time": "2021-10-24T09:34:12.760Z"
   },
   {
    "duration": 3,
    "start_time": "2021-10-24T09:34:35.494Z"
   },
   {
    "duration": 189,
    "start_time": "2021-10-24T09:34:38.522Z"
   },
   {
    "duration": 28,
    "start_time": "2021-10-24T09:34:41.846Z"
   },
   {
    "duration": 35,
    "start_time": "2021-10-24T09:34:46.160Z"
   },
   {
    "duration": 6,
    "start_time": "2021-10-24T09:34:51.171Z"
   },
   {
    "duration": 30,
    "start_time": "2021-10-24T09:34:54.770Z"
   },
   {
    "duration": 6,
    "start_time": "2021-10-24T09:35:16.754Z"
   },
   {
    "duration": 32,
    "start_time": "2021-10-24T09:36:31.294Z"
   },
   {
    "duration": 9149,
    "start_time": "2021-10-24T09:41:34.588Z"
   },
   {
    "duration": 10151,
    "start_time": "2021-10-24T09:43:07.244Z"
   },
   {
    "duration": 311,
    "start_time": "2021-10-24T18:03:14.392Z"
   },
   {
    "duration": 613,
    "start_time": "2021-10-24T18:03:31.128Z"
   },
   {
    "duration": 3,
    "start_time": "2021-10-24T18:03:34.136Z"
   },
   {
    "duration": 584,
    "start_time": "2021-10-24T18:03:47.841Z"
   },
   {
    "duration": 137,
    "start_time": "2021-10-24T18:03:48.427Z"
   },
   {
    "duration": 15,
    "start_time": "2021-10-24T18:03:48.566Z"
   },
   {
    "duration": 30,
    "start_time": "2021-10-24T18:03:48.583Z"
   },
   {
    "duration": 8,
    "start_time": "2021-10-24T18:03:48.615Z"
   },
   {
    "duration": 37,
    "start_time": "2021-10-24T18:03:48.625Z"
   },
   {
    "duration": 5,
    "start_time": "2021-10-24T18:03:48.664Z"
   },
   {
    "duration": 23,
    "start_time": "2021-10-24T18:03:48.673Z"
   },
   {
    "duration": 335,
    "start_time": "2021-10-24T18:03:48.698Z"
   },
   {
    "duration": 1125,
    "start_time": "2021-10-24T18:03:47.912Z"
   },
   {
    "duration": 1112,
    "start_time": "2021-10-24T18:03:47.926Z"
   },
   {
    "duration": 1110,
    "start_time": "2021-10-24T18:03:47.929Z"
   },
   {
    "duration": 1108,
    "start_time": "2021-10-24T18:03:47.932Z"
   },
   {
    "duration": 1107,
    "start_time": "2021-10-24T18:03:47.934Z"
   },
   {
    "duration": 1104,
    "start_time": "2021-10-24T18:03:47.938Z"
   },
   {
    "duration": 1103,
    "start_time": "2021-10-24T18:03:47.940Z"
   },
   {
    "duration": 1101,
    "start_time": "2021-10-24T18:03:47.943Z"
   },
   {
    "duration": 1099,
    "start_time": "2021-10-24T18:03:47.946Z"
   },
   {
    "duration": 1097,
    "start_time": "2021-10-24T18:03:47.949Z"
   },
   {
    "duration": 1097,
    "start_time": "2021-10-24T18:03:47.951Z"
   },
   {
    "duration": 1095,
    "start_time": "2021-10-24T18:03:47.954Z"
   },
   {
    "duration": 1093,
    "start_time": "2021-10-24T18:03:47.957Z"
   },
   {
    "duration": 1091,
    "start_time": "2021-10-24T18:03:47.959Z"
   },
   {
    "duration": 1089,
    "start_time": "2021-10-24T18:03:47.962Z"
   },
   {
    "duration": 1087,
    "start_time": "2021-10-24T18:03:47.965Z"
   },
   {
    "duration": 1085,
    "start_time": "2021-10-24T18:03:47.968Z"
   },
   {
    "duration": 1082,
    "start_time": "2021-10-24T18:03:47.971Z"
   },
   {
    "duration": 1081,
    "start_time": "2021-10-24T18:03:47.973Z"
   },
   {
    "duration": 1080,
    "start_time": "2021-10-24T18:03:47.975Z"
   },
   {
    "duration": 1079,
    "start_time": "2021-10-24T18:03:47.977Z"
   },
   {
    "duration": 1071,
    "start_time": "2021-10-24T18:03:47.985Z"
   },
   {
    "duration": 1070,
    "start_time": "2021-10-24T18:03:47.987Z"
   },
   {
    "duration": 1067,
    "start_time": "2021-10-24T18:03:47.991Z"
   },
   {
    "duration": 1063,
    "start_time": "2021-10-24T18:03:47.995Z"
   },
   {
    "duration": 1062,
    "start_time": "2021-10-24T18:03:47.997Z"
   },
   {
    "duration": 1061,
    "start_time": "2021-10-24T18:03:47.999Z"
   },
   {
    "duration": 1060,
    "start_time": "2021-10-24T18:03:48.002Z"
   },
   {
    "duration": 1057,
    "start_time": "2021-10-24T18:03:48.005Z"
   },
   {
    "duration": 290,
    "start_time": "2021-10-24T18:05:09.603Z"
   },
   {
    "duration": 274,
    "start_time": "2021-10-24T18:05:14.594Z"
   },
   {
    "duration": 285,
    "start_time": "2021-10-24T18:05:32.941Z"
   },
   {
    "duration": 3754,
    "start_time": "2021-10-24T18:08:46.857Z"
   },
   {
    "duration": 4183,
    "start_time": "2021-10-24T18:09:03.116Z"
   },
   {
    "duration": 4095,
    "start_time": "2021-10-24T18:09:37.883Z"
   },
   {
    "duration": 3981,
    "start_time": "2021-10-24T18:10:55.399Z"
   },
   {
    "duration": 609,
    "start_time": "2021-10-24T18:12:07.537Z"
   },
   {
    "duration": 138,
    "start_time": "2021-10-24T18:12:08.148Z"
   },
   {
    "duration": 17,
    "start_time": "2021-10-24T18:12:08.292Z"
   },
   {
    "duration": 46,
    "start_time": "2021-10-24T18:12:08.311Z"
   },
   {
    "duration": 4,
    "start_time": "2021-10-24T18:12:08.359Z"
   },
   {
    "duration": 48,
    "start_time": "2021-10-24T18:12:08.366Z"
   },
   {
    "duration": 14,
    "start_time": "2021-10-24T18:12:08.416Z"
   },
   {
    "duration": 47,
    "start_time": "2021-10-24T18:12:08.432Z"
   },
   {
    "duration": 39,
    "start_time": "2021-10-24T18:12:08.481Z"
   },
   {
    "duration": 17,
    "start_time": "2021-10-24T18:12:08.522Z"
   },
   {
    "duration": 17,
    "start_time": "2021-10-24T18:12:08.541Z"
   },
   {
    "duration": 15,
    "start_time": "2021-10-24T18:12:08.560Z"
   },
   {
    "duration": 27,
    "start_time": "2021-10-24T18:12:08.577Z"
   },
   {
    "duration": 13,
    "start_time": "2021-10-24T18:12:08.606Z"
   },
   {
    "duration": 28,
    "start_time": "2021-10-24T18:12:08.621Z"
   },
   {
    "duration": 39,
    "start_time": "2021-10-24T18:12:08.651Z"
   },
   {
    "duration": 37,
    "start_time": "2021-10-24T18:12:08.692Z"
   },
   {
    "duration": 31,
    "start_time": "2021-10-24T18:12:08.731Z"
   },
   {
    "duration": 19,
    "start_time": "2021-10-24T18:12:08.764Z"
   },
   {
    "duration": 32,
    "start_time": "2021-10-24T18:12:08.785Z"
   },
   {
    "duration": 44,
    "start_time": "2021-10-24T18:12:08.818Z"
   },
   {
    "duration": 14,
    "start_time": "2021-10-24T18:12:08.865Z"
   },
   {
    "duration": 12,
    "start_time": "2021-10-24T18:12:08.881Z"
   },
   {
    "duration": 19,
    "start_time": "2021-10-24T18:12:08.895Z"
   },
   {
    "duration": 24,
    "start_time": "2021-10-24T18:12:08.915Z"
   },
   {
    "duration": 18,
    "start_time": "2021-10-24T18:12:08.941Z"
   },
   {
    "duration": 23,
    "start_time": "2021-10-24T18:12:08.961Z"
   },
   {
    "duration": 15,
    "start_time": "2021-10-24T18:12:08.986Z"
   },
   {
    "duration": 15,
    "start_time": "2021-10-24T18:12:09.003Z"
   },
   {
    "duration": 22,
    "start_time": "2021-10-24T18:12:09.020Z"
   },
   {
    "duration": 13,
    "start_time": "2021-10-24T18:12:09.044Z"
   },
   {
    "duration": 5,
    "start_time": "2021-10-24T18:12:09.058Z"
   },
   {
    "duration": 8,
    "start_time": "2021-10-24T18:12:09.064Z"
   },
   {
    "duration": 5,
    "start_time": "2021-10-24T18:12:09.073Z"
   },
   {
    "duration": 4,
    "start_time": "2021-10-24T18:12:09.079Z"
   },
   {
    "duration": 9,
    "start_time": "2021-10-24T18:12:09.085Z"
   },
   {
    "duration": 7,
    "start_time": "2021-10-24T18:12:09.095Z"
   },
   {
    "duration": 6,
    "start_time": "2021-10-24T18:12:09.104Z"
   },
   {
    "duration": 26,
    "start_time": "2021-10-24T18:12:29.297Z"
   },
   {
    "duration": 22,
    "start_time": "2021-10-24T18:12:54.099Z"
   },
   {
    "duration": 2,
    "start_time": "2021-10-24T18:13:09.625Z"
   },
   {
    "duration": 147,
    "start_time": "2021-10-24T18:13:16.700Z"
   },
   {
    "duration": 14,
    "start_time": "2021-10-24T18:13:18.542Z"
   },
   {
    "duration": 21,
    "start_time": "2021-10-24T18:13:22.972Z"
   },
   {
    "duration": 4,
    "start_time": "2021-10-24T18:13:26.099Z"
   },
   {
    "duration": 20,
    "start_time": "2021-10-24T18:13:28.514Z"
   },
   {
    "duration": 4,
    "start_time": "2021-10-24T18:13:31.986Z"
   },
   {
    "duration": 25,
    "start_time": "2021-10-24T18:13:31.992Z"
   },
   {
    "duration": 19,
    "start_time": "2021-10-24T18:13:35.556Z"
   },
   {
    "duration": 21,
    "start_time": "2021-10-24T18:13:41.688Z"
   },
   {
    "duration": 57,
    "start_time": "2021-10-24T18:14:22.110Z"
   },
   {
    "duration": 68,
    "start_time": "2021-10-24T18:15:26.400Z"
   },
   {
    "duration": 51,
    "start_time": "2021-10-24T18:15:54.559Z"
   },
   {
    "duration": 67,
    "start_time": "2021-10-24T18:17:32.063Z"
   },
   {
    "duration": 55,
    "start_time": "2021-10-24T18:17:35.901Z"
   },
   {
    "duration": 61,
    "start_time": "2021-10-24T18:18:11.142Z"
   },
   {
    "duration": 50,
    "start_time": "2021-10-24T18:18:23.132Z"
   },
   {
    "duration": 6,
    "start_time": "2021-10-24T18:22:12.420Z"
   },
   {
    "duration": 390,
    "start_time": "2021-10-24T18:22:51.794Z"
   },
   {
    "duration": 278,
    "start_time": "2021-10-24T18:22:59.667Z"
   },
   {
    "duration": 11,
    "start_time": "2021-10-24T18:23:20.342Z"
   },
   {
    "duration": 304,
    "start_time": "2021-10-24T18:23:54.342Z"
   },
   {
    "duration": 280,
    "start_time": "2021-10-24T18:24:11.930Z"
   },
   {
    "duration": 53,
    "start_time": "2021-10-24T18:48:19.041Z"
   },
   {
    "duration": 39,
    "start_time": "2021-10-24T18:48:37.276Z"
   },
   {
    "duration": 677,
    "start_time": "2021-10-25T04:58:51.705Z"
   },
   {
    "duration": 770,
    "start_time": "2021-10-25T05:00:31.611Z"
   },
   {
    "duration": 200,
    "start_time": "2021-10-25T05:00:32.383Z"
   },
   {
    "duration": 26,
    "start_time": "2021-10-25T05:00:32.585Z"
   },
   {
    "duration": 54,
    "start_time": "2021-10-25T05:00:32.614Z"
   },
   {
    "duration": 5,
    "start_time": "2021-10-25T05:00:32.671Z"
   },
   {
    "duration": 40,
    "start_time": "2021-10-25T05:00:32.678Z"
   },
   {
    "duration": 9,
    "start_time": "2021-10-25T05:00:32.722Z"
   },
   {
    "duration": 53,
    "start_time": "2021-10-25T05:00:32.735Z"
   },
   {
    "duration": 26,
    "start_time": "2021-10-25T05:00:32.792Z"
   },
   {
    "duration": 66,
    "start_time": "2021-10-25T05:00:32.821Z"
   },
   {
    "duration": 118,
    "start_time": "2021-10-25T05:00:32.890Z"
   },
   {
    "duration": 122,
    "start_time": "2021-10-25T05:00:33.011Z"
   },
   {
    "duration": 85,
    "start_time": "2021-10-25T05:00:33.136Z"
   },
   {
    "duration": 76,
    "start_time": "2021-10-25T05:00:33.224Z"
   },
   {
    "duration": 15,
    "start_time": "2021-10-25T05:00:39.261Z"
   },
   {
    "duration": 3,
    "start_time": "2021-10-25T05:01:06.053Z"
   },
   {
    "duration": 13,
    "start_time": "2021-10-25T05:01:09.829Z"
   },
   {
    "duration": 416,
    "start_time": "2021-10-25T05:02:25.439Z"
   },
   {
    "duration": 381,
    "start_time": "2021-10-25T05:02:32.273Z"
   },
   {
    "duration": 57,
    "start_time": "2021-10-25T05:02:53.073Z"
   },
   {
    "duration": 21,
    "start_time": "2021-10-25T05:04:44.698Z"
   },
   {
    "duration": 13,
    "start_time": "2021-10-25T05:05:05.485Z"
   },
   {
    "duration": 14,
    "start_time": "2021-10-25T05:05:17.787Z"
   },
   {
    "duration": 14,
    "start_time": "2021-10-25T05:05:21.755Z"
   },
   {
    "duration": 18,
    "start_time": "2021-10-25T05:05:58.413Z"
   },
   {
    "duration": 58,
    "start_time": "2021-10-25T05:06:02.487Z"
   },
   {
    "duration": 21,
    "start_time": "2021-10-25T05:08:59.243Z"
   },
   {
    "duration": 56,
    "start_time": "2021-10-25T05:09:13.067Z"
   },
   {
    "duration": 24,
    "start_time": "2021-10-25T05:21:29.717Z"
   },
   {
    "duration": 55,
    "start_time": "2021-10-25T05:21:40.101Z"
   },
   {
    "duration": 54,
    "start_time": "2021-10-25T05:21:48.831Z"
   },
   {
    "duration": 55,
    "start_time": "2021-10-25T05:21:54.431Z"
   },
   {
    "duration": 485,
    "start_time": "2021-10-25T05:22:10.863Z"
   },
   {
    "duration": 4,
    "start_time": "2021-10-25T05:24:48.345Z"
   },
   {
    "duration": 199,
    "start_time": "2021-10-25T05:24:48.352Z"
   },
   {
    "duration": 16,
    "start_time": "2021-10-25T05:24:48.554Z"
   },
   {
    "duration": 33,
    "start_time": "2021-10-25T05:24:48.573Z"
   },
   {
    "duration": 6,
    "start_time": "2021-10-25T05:24:48.609Z"
   },
   {
    "duration": 55,
    "start_time": "2021-10-25T05:24:48.617Z"
   },
   {
    "duration": 5,
    "start_time": "2021-10-25T05:24:48.674Z"
   },
   {
    "duration": 38,
    "start_time": "2021-10-25T05:24:48.682Z"
   },
   {
    "duration": 49,
    "start_time": "2021-10-25T05:24:48.722Z"
   },
   {
    "duration": 30,
    "start_time": "2021-10-25T05:24:48.774Z"
   },
   {
    "duration": 111,
    "start_time": "2021-10-25T05:24:48.806Z"
   },
   {
    "duration": 105,
    "start_time": "2021-10-25T05:24:48.919Z"
   },
   {
    "duration": 94,
    "start_time": "2021-10-25T05:24:49.027Z"
   },
   {
    "duration": 54,
    "start_time": "2021-10-25T05:24:54.651Z"
   },
   {
    "duration": 58,
    "start_time": "2021-10-25T05:25:11.331Z"
   },
   {
    "duration": 59,
    "start_time": "2021-10-25T05:25:45.365Z"
   },
   {
    "duration": 25,
    "start_time": "2021-10-25T05:26:03.445Z"
   },
   {
    "duration": 57,
    "start_time": "2021-10-25T05:26:05.053Z"
   },
   {
    "duration": 27,
    "start_time": "2021-10-25T05:27:30.871Z"
   },
   {
    "duration": 58,
    "start_time": "2021-10-25T05:27:34.761Z"
   },
   {
    "duration": 4,
    "start_time": "2021-10-25T05:30:02.440Z"
   },
   {
    "duration": 214,
    "start_time": "2021-10-25T05:30:02.448Z"
   },
   {
    "duration": 15,
    "start_time": "2021-10-25T05:30:02.665Z"
   },
   {
    "duration": 37,
    "start_time": "2021-10-25T05:30:02.683Z"
   },
   {
    "duration": 34,
    "start_time": "2021-10-25T05:30:02.724Z"
   },
   {
    "duration": 27,
    "start_time": "2021-10-25T05:30:02.761Z"
   },
   {
    "duration": 6,
    "start_time": "2021-10-25T05:30:02.791Z"
   },
   {
    "duration": 82,
    "start_time": "2021-10-25T05:30:02.802Z"
   },
   {
    "duration": 45,
    "start_time": "2021-10-25T05:30:02.888Z"
   },
   {
    "duration": 65,
    "start_time": "2021-10-25T05:30:02.937Z"
   },
   {
    "duration": 151,
    "start_time": "2021-10-25T05:30:03.006Z"
   },
   {
    "duration": 116,
    "start_time": "2021-10-25T05:30:03.160Z"
   },
   {
    "duration": 95,
    "start_time": "2021-10-25T05:30:03.279Z"
   },
   {
    "duration": 58,
    "start_time": "2021-10-25T05:30:03.377Z"
   },
   {
    "duration": 21,
    "start_time": "2021-10-25T05:30:03.437Z"
   },
   {
    "duration": 30,
    "start_time": "2021-10-25T05:30:03.460Z"
   },
   {
    "duration": 78,
    "start_time": "2021-10-25T05:30:03.492Z"
   },
   {
    "duration": 6,
    "start_time": "2021-10-25T05:47:46.583Z"
   },
   {
    "duration": 6,
    "start_time": "2021-10-25T05:48:20.311Z"
   },
   {
    "duration": 6,
    "start_time": "2021-10-25T05:49:21.451Z"
   },
   {
    "duration": 14,
    "start_time": "2021-10-25T05:49:33.995Z"
   },
   {
    "duration": 15,
    "start_time": "2021-10-25T05:49:57.251Z"
   },
   {
    "duration": 15,
    "start_time": "2021-10-25T05:49:59.011Z"
   },
   {
    "duration": 76,
    "start_time": "2021-10-25T05:50:47.734Z"
   },
   {
    "duration": 121,
    "start_time": "2021-10-25T05:53:01.119Z"
   },
   {
    "duration": 14,
    "start_time": "2021-10-25T05:53:07.839Z"
   },
   {
    "duration": 14,
    "start_time": "2021-10-25T05:53:32.570Z"
   },
   {
    "duration": 46,
    "start_time": "2021-10-25T05:53:59.129Z"
   },
   {
    "duration": 128,
    "start_time": "2021-10-25T05:55:19.946Z"
   },
   {
    "duration": 361,
    "start_time": "2021-10-25T05:55:30.315Z"
   },
   {
    "duration": 375,
    "start_time": "2021-10-25T05:55:42.106Z"
   },
   {
    "duration": 49,
    "start_time": "2021-10-25T05:55:56.827Z"
   },
   {
    "duration": 45,
    "start_time": "2021-10-25T05:56:08.509Z"
   },
   {
    "duration": 16,
    "start_time": "2021-10-25T09:45:25.132Z"
   },
   {
    "duration": 18,
    "start_time": "2021-10-25T09:45:50.686Z"
   },
   {
    "duration": 113,
    "start_time": "2021-10-25T10:43:14.560Z"
   },
   {
    "duration": 28,
    "start_time": "2021-10-25T10:45:05.827Z"
   },
   {
    "duration": 25,
    "start_time": "2021-10-25T10:45:23.643Z"
   },
   {
    "duration": 35,
    "start_time": "2021-10-25T10:45:47.581Z"
   },
   {
    "duration": 42,
    "start_time": "2021-10-25T10:46:08.541Z"
   },
   {
    "duration": 39,
    "start_time": "2021-10-25T10:59:31.353Z"
   },
   {
    "duration": 39,
    "start_time": "2021-10-25T10:59:55.043Z"
   },
   {
    "duration": 53,
    "start_time": "2021-10-25T11:00:05.435Z"
   },
   {
    "duration": 39,
    "start_time": "2021-10-25T11:00:43.539Z"
   },
   {
    "duration": 40,
    "start_time": "2021-10-25T11:00:49.275Z"
   },
   {
    "duration": 583,
    "start_time": "2021-10-25T11:01:55.485Z"
   },
   {
    "duration": 35,
    "start_time": "2021-10-25T11:02:13.137Z"
   },
   {
    "duration": 37,
    "start_time": "2021-10-25T11:02:44.190Z"
   },
   {
    "duration": 576,
    "start_time": "2021-10-25T11:03:33.176Z"
   },
   {
    "duration": 13272,
    "start_time": "2021-10-25T11:03:38.615Z"
   },
   {
    "duration": 28,
    "start_time": "2021-10-25T11:04:02.049Z"
   },
   {
    "duration": 89,
    "start_time": "2021-10-25T11:04:52.435Z"
   },
   {
    "duration": 2384,
    "start_time": "2021-10-25T11:05:06.746Z"
   },
   {
    "duration": 78,
    "start_time": "2021-10-25T11:05:20.755Z"
   },
   {
    "duration": 3,
    "start_time": "2021-10-25T11:08:09.013Z"
   },
   {
    "duration": 4,
    "start_time": "2021-10-25T11:08:13.530Z"
   },
   {
    "duration": 1140,
    "start_time": "2021-10-25T11:08:13.537Z"
   },
   {
    "duration": 15,
    "start_time": "2021-10-25T11:08:14.680Z"
   },
   {
    "duration": 35,
    "start_time": "2021-10-25T11:08:14.697Z"
   },
   {
    "duration": 25,
    "start_time": "2021-10-25T11:08:14.735Z"
   },
   {
    "duration": 33,
    "start_time": "2021-10-25T11:08:14.763Z"
   },
   {
    "duration": 5,
    "start_time": "2021-10-25T11:08:14.800Z"
   },
   {
    "duration": 64,
    "start_time": "2021-10-25T11:08:14.809Z"
   },
   {
    "duration": 25,
    "start_time": "2021-10-25T11:08:14.875Z"
   },
   {
    "duration": 31,
    "start_time": "2021-10-25T11:08:14.902Z"
   },
   {
    "duration": 107,
    "start_time": "2021-10-25T11:08:14.936Z"
   },
   {
    "duration": 112,
    "start_time": "2021-10-25T11:08:15.058Z"
   },
   {
    "duration": 97,
    "start_time": "2021-10-25T11:08:15.172Z"
   },
   {
    "duration": 60,
    "start_time": "2021-10-25T11:08:15.272Z"
   },
   {
    "duration": 24,
    "start_time": "2021-10-25T11:08:15.335Z"
   },
   {
    "duration": 31,
    "start_time": "2021-10-25T11:08:15.363Z"
   },
   {
    "duration": 79,
    "start_time": "2021-10-25T11:08:15.397Z"
   },
   {
    "duration": 17,
    "start_time": "2021-10-25T11:08:15.478Z"
   },
   {
    "duration": 17,
    "start_time": "2021-10-25T11:08:15.499Z"
   },
   {
    "duration": 41,
    "start_time": "2021-10-25T11:08:15.519Z"
   },
   {
    "duration": 30,
    "start_time": "2021-10-25T11:08:15.563Z"
   },
   {
    "duration": 20,
    "start_time": "2021-10-25T11:08:15.596Z"
   },
   {
    "duration": 29,
    "start_time": "2021-10-25T11:08:15.657Z"
   },
   {
    "duration": 20,
    "start_time": "2021-10-25T11:08:15.688Z"
   },
   {
    "duration": 58,
    "start_time": "2021-10-25T11:08:15.711Z"
   },
   {
    "duration": 21,
    "start_time": "2021-10-25T11:08:15.772Z"
   },
   {
    "duration": 368,
    "start_time": "2021-10-25T11:12:12.707Z"
   },
   {
    "duration": 4,
    "start_time": "2021-10-25T11:13:03.481Z"
   },
   {
    "duration": 215,
    "start_time": "2021-10-25T11:13:03.488Z"
   },
   {
    "duration": 21,
    "start_time": "2021-10-25T11:13:03.707Z"
   },
   {
    "duration": 69,
    "start_time": "2021-10-25T11:13:03.732Z"
   },
   {
    "duration": 6,
    "start_time": "2021-10-25T11:13:03.804Z"
   },
   {
    "duration": 55,
    "start_time": "2021-10-25T11:13:03.813Z"
   },
   {
    "duration": 6,
    "start_time": "2021-10-25T11:13:03.873Z"
   },
   {
    "duration": 40,
    "start_time": "2021-10-25T11:13:03.883Z"
   },
   {
    "duration": 50,
    "start_time": "2021-10-25T11:13:03.926Z"
   },
   {
    "duration": 34,
    "start_time": "2021-10-25T11:13:03.978Z"
   },
   {
    "duration": 111,
    "start_time": "2021-10-25T11:13:04.016Z"
   },
   {
    "duration": 110,
    "start_time": "2021-10-25T11:13:04.130Z"
   },
   {
    "duration": 84,
    "start_time": "2021-10-25T11:13:04.242Z"
   },
   {
    "duration": 77,
    "start_time": "2021-10-25T11:13:04.330Z"
   },
   {
    "duration": 4,
    "start_time": "2021-10-25T11:13:04.409Z"
   },
   {
    "duration": 51,
    "start_time": "2021-10-25T11:13:04.415Z"
   },
   {
    "duration": 103,
    "start_time": "2021-10-25T11:13:04.469Z"
   },
   {
    "duration": 26,
    "start_time": "2021-10-25T11:13:04.575Z"
   },
   {
    "duration": 16,
    "start_time": "2021-10-25T11:13:04.606Z"
   },
   {
    "duration": 33,
    "start_time": "2021-10-25T11:13:04.625Z"
   },
   {
    "duration": 40,
    "start_time": "2021-10-25T11:13:04.660Z"
   },
   {
    "duration": 19,
    "start_time": "2021-10-25T11:13:04.702Z"
   },
   {
    "duration": 44,
    "start_time": "2021-10-25T11:13:04.724Z"
   },
   {
    "duration": 21,
    "start_time": "2021-10-25T11:13:04.770Z"
   },
   {
    "duration": 27,
    "start_time": "2021-10-25T11:13:04.793Z"
   },
   {
    "duration": 51,
    "start_time": "2021-10-25T11:13:04.822Z"
   },
   {
    "duration": 1438,
    "start_time": "2021-10-25T11:13:08.634Z"
   },
   {
    "duration": 121,
    "start_time": "2021-10-25T11:13:45.959Z"
   },
   {
    "duration": 12,
    "start_time": "2021-10-25T11:14:02.719Z"
   },
   {
    "duration": 356,
    "start_time": "2021-10-25T11:40:14.120Z"
   },
   {
    "duration": 5,
    "start_time": "2021-10-25T11:40:20.538Z"
   },
   {
    "duration": 400,
    "start_time": "2021-10-25T11:40:22.552Z"
   },
   {
    "duration": 3,
    "start_time": "2021-10-25T11:40:37.422Z"
   },
   {
    "duration": 344,
    "start_time": "2021-10-25T11:40:37.429Z"
   },
   {
    "duration": 24,
    "start_time": "2021-10-25T11:40:37.777Z"
   },
   {
    "duration": 72,
    "start_time": "2021-10-25T11:40:37.805Z"
   },
   {
    "duration": 20,
    "start_time": "2021-10-25T11:40:37.881Z"
   },
   {
    "duration": 44,
    "start_time": "2021-10-25T11:40:37.904Z"
   },
   {
    "duration": 7,
    "start_time": "2021-10-25T11:40:37.958Z"
   },
   {
    "duration": 58,
    "start_time": "2021-10-25T11:40:37.969Z"
   },
   {
    "duration": 53,
    "start_time": "2021-10-25T11:40:38.032Z"
   },
   {
    "duration": 44,
    "start_time": "2021-10-25T11:40:38.088Z"
   },
   {
    "duration": 125,
    "start_time": "2021-10-25T11:40:38.159Z"
   },
   {
    "duration": 127,
    "start_time": "2021-10-25T11:40:38.286Z"
   },
   {
    "duration": 96,
    "start_time": "2021-10-25T11:40:38.416Z"
   },
   {
    "duration": 68,
    "start_time": "2021-10-25T11:40:38.515Z"
   },
   {
    "duration": 4,
    "start_time": "2021-10-25T11:40:38.586Z"
   },
   {
    "duration": 82,
    "start_time": "2021-10-25T11:40:38.593Z"
   },
   {
    "duration": 100,
    "start_time": "2021-10-25T11:40:38.678Z"
   },
   {
    "duration": 16,
    "start_time": "2021-10-25T11:40:38.781Z"
   },
   {
    "duration": 18,
    "start_time": "2021-10-25T11:40:38.801Z"
   },
   {
    "duration": 37,
    "start_time": "2021-10-25T11:40:38.822Z"
   },
   {
    "duration": 38,
    "start_time": "2021-10-25T11:40:38.862Z"
   },
   {
    "duration": 19,
    "start_time": "2021-10-25T11:40:38.902Z"
   },
   {
    "duration": 52,
    "start_time": "2021-10-25T11:40:38.924Z"
   },
   {
    "duration": 22,
    "start_time": "2021-10-25T11:40:38.979Z"
   },
   {
    "duration": 56,
    "start_time": "2021-10-25T11:40:39.006Z"
   },
   {
    "duration": 19,
    "start_time": "2021-10-25T11:40:39.064Z"
   },
   {
    "duration": 12,
    "start_time": "2021-10-25T11:40:39.086Z"
   },
   {
    "duration": 19,
    "start_time": "2021-10-25T11:40:39.100Z"
   },
   {
    "duration": 42,
    "start_time": "2021-10-25T11:40:39.122Z"
   },
   {
    "duration": 12,
    "start_time": "2021-10-25T11:40:39.168Z"
   },
   {
    "duration": 756,
    "start_time": "2021-10-25T11:40:39.184Z"
   },
   {
    "duration": 5,
    "start_time": "2021-10-25T11:47:55.621Z"
   },
   {
    "duration": 26,
    "start_time": "2021-10-25T11:47:57.604Z"
   },
   {
    "duration": 5,
    "start_time": "2021-10-25T11:48:48.693Z"
   },
   {
    "duration": 767,
    "start_time": "2021-10-25T11:48:50.030Z"
   },
   {
    "duration": 5,
    "start_time": "2021-10-25T11:49:03.432Z"
   },
   {
    "duration": 33,
    "start_time": "2021-10-25T11:49:05.174Z"
   },
   {
    "duration": 5,
    "start_time": "2021-10-25T11:49:37.032Z"
   },
   {
    "duration": 33,
    "start_time": "2021-10-25T11:49:38.952Z"
   },
   {
    "duration": 5,
    "start_time": "2021-10-25T11:50:08.736Z"
   },
   {
    "duration": 25,
    "start_time": "2021-10-25T11:50:11.384Z"
   },
   {
    "duration": 6,
    "start_time": "2021-10-25T11:50:26.872Z"
   },
   {
    "duration": 22,
    "start_time": "2021-10-25T11:50:28.104Z"
   },
   {
    "duration": 22,
    "start_time": "2021-10-25T11:52:04.570Z"
   },
   {
    "duration": 5,
    "start_time": "2021-10-25T11:52:06.892Z"
   },
   {
    "duration": 35,
    "start_time": "2021-10-25T11:52:07.762Z"
   },
   {
    "duration": 8,
    "start_time": "2021-10-25T11:53:01.908Z"
   },
   {
    "duration": 52,
    "start_time": "2021-10-25T11:53:15.439Z"
   },
   {
    "duration": 7,
    "start_time": "2021-10-25T11:53:38.262Z"
   },
   {
    "duration": 28,
    "start_time": "2021-10-25T11:53:39.773Z"
   },
   {
    "duration": 5,
    "start_time": "2021-10-25T11:54:48.560Z"
   },
   {
    "duration": 28,
    "start_time": "2021-10-25T11:54:50.661Z"
   },
   {
    "duration": 5,
    "start_time": "2021-10-25T11:56:13.722Z"
   },
   {
    "duration": 26,
    "start_time": "2021-10-25T11:56:15.337Z"
   },
   {
    "duration": 5,
    "start_time": "2021-10-25T11:56:33.442Z"
   },
   {
    "duration": 25,
    "start_time": "2021-10-25T11:56:34.689Z"
   },
   {
    "duration": 14,
    "start_time": "2021-10-25T11:57:46.179Z"
   },
   {
    "duration": 4,
    "start_time": "2021-10-25T11:58:06.937Z"
   },
   {
    "duration": 219,
    "start_time": "2021-10-25T11:58:06.943Z"
   },
   {
    "duration": 15,
    "start_time": "2021-10-25T11:58:07.165Z"
   },
   {
    "duration": 33,
    "start_time": "2021-10-25T11:58:07.183Z"
   },
   {
    "duration": 5,
    "start_time": "2021-10-25T11:58:07.219Z"
   },
   {
    "duration": 25,
    "start_time": "2021-10-25T11:58:07.258Z"
   },
   {
    "duration": 5,
    "start_time": "2021-10-25T11:58:07.286Z"
   },
   {
    "duration": 36,
    "start_time": "2021-10-25T11:58:07.294Z"
   },
   {
    "duration": 22,
    "start_time": "2021-10-25T11:58:07.358Z"
   },
   {
    "duration": 30,
    "start_time": "2021-10-25T11:58:07.382Z"
   },
   {
    "duration": 111,
    "start_time": "2021-10-25T11:58:07.415Z"
   },
   {
    "duration": 110,
    "start_time": "2021-10-25T11:58:07.529Z"
   },
   {
    "duration": 79,
    "start_time": "2021-10-25T11:58:07.642Z"
   },
   {
    "duration": 70,
    "start_time": "2021-10-25T11:58:07.724Z"
   },
   {
    "duration": 4,
    "start_time": "2021-10-25T11:58:07.796Z"
   },
   {
    "duration": 62,
    "start_time": "2021-10-25T11:58:07.803Z"
   },
   {
    "duration": 58,
    "start_time": "2021-10-25T11:58:07.868Z"
   },
   {
    "duration": 37,
    "start_time": "2021-10-25T11:58:07.929Z"
   },
   {
    "duration": 15,
    "start_time": "2021-10-25T11:58:07.971Z"
   },
   {
    "duration": 4,
    "start_time": "2021-10-25T11:58:07.989Z"
   },
   {
    "duration": 70,
    "start_time": "2021-10-25T11:58:07.996Z"
   },
   {
    "duration": 20,
    "start_time": "2021-10-25T11:58:08.068Z"
   },
   {
    "duration": 26,
    "start_time": "2021-10-25T11:58:08.090Z"
   },
   {
    "duration": 52,
    "start_time": "2021-10-25T11:58:08.118Z"
   },
   {
    "duration": 26,
    "start_time": "2021-10-25T11:58:08.173Z"
   },
   {
    "duration": 57,
    "start_time": "2021-10-25T11:58:08.202Z"
   },
   {
    "duration": 11,
    "start_time": "2021-10-25T11:58:08.262Z"
   },
   {
    "duration": 17,
    "start_time": "2021-10-25T11:58:08.276Z"
   },
   {
    "duration": 15,
    "start_time": "2021-10-25T11:58:08.295Z"
   },
   {
    "duration": 45,
    "start_time": "2021-10-25T11:58:08.312Z"
   },
   {
    "duration": 30,
    "start_time": "2021-10-25T11:58:08.360Z"
   },
   {
    "duration": 13,
    "start_time": "2021-10-25T11:58:08.392Z"
   },
   {
    "duration": 26,
    "start_time": "2021-10-25T11:58:25.556Z"
   },
   {
    "duration": 25,
    "start_time": "2021-10-25T11:59:47.640Z"
   },
   {
    "duration": 18,
    "start_time": "2021-10-25T12:00:22.296Z"
   },
   {
    "duration": 448,
    "start_time": "2021-10-25T12:09:52.062Z"
   },
   {
    "duration": 50,
    "start_time": "2021-10-25T12:10:20.222Z"
   },
   {
    "duration": 62,
    "start_time": "2021-10-25T12:13:35.844Z"
   },
   {
    "duration": 15,
    "start_time": "2021-10-25T12:14:16.285Z"
   },
   {
    "duration": 14,
    "start_time": "2021-10-25T12:14:47.022Z"
   },
   {
    "duration": 6,
    "start_time": "2021-10-25T12:15:14.142Z"
   },
   {
    "duration": 348,
    "start_time": "2021-10-25T12:16:23.968Z"
   },
   {
    "duration": 15,
    "start_time": "2021-10-25T12:16:38.368Z"
   },
   {
    "duration": 8,
    "start_time": "2021-10-25T12:16:42.746Z"
   },
   {
    "duration": 7,
    "start_time": "2021-10-25T12:16:43.801Z"
   },
   {
    "duration": 5,
    "start_time": "2021-10-25T12:18:54.360Z"
   },
   {
    "duration": 330,
    "start_time": "2021-10-25T12:18:54.368Z"
   },
   {
    "duration": 24,
    "start_time": "2021-10-25T12:18:54.703Z"
   },
   {
    "duration": 71,
    "start_time": "2021-10-25T12:18:54.730Z"
   },
   {
    "duration": 6,
    "start_time": "2021-10-25T12:18:54.804Z"
   },
   {
    "duration": 52,
    "start_time": "2021-10-25T12:18:54.813Z"
   },
   {
    "duration": 6,
    "start_time": "2021-10-25T12:18:54.868Z"
   },
   {
    "duration": 35,
    "start_time": "2021-10-25T12:18:54.878Z"
   },
   {
    "duration": 60,
    "start_time": "2021-10-25T12:18:54.918Z"
   },
   {
    "duration": 34,
    "start_time": "2021-10-25T12:18:54.981Z"
   },
   {
    "duration": 122,
    "start_time": "2021-10-25T12:18:55.018Z"
   },
   {
    "duration": 115,
    "start_time": "2021-10-25T12:18:55.142Z"
   },
   {
    "duration": 80,
    "start_time": "2021-10-25T12:18:55.260Z"
   },
   {
    "duration": 70,
    "start_time": "2021-10-25T12:18:55.343Z"
   },
   {
    "duration": 5,
    "start_time": "2021-10-25T12:18:55.415Z"
   },
   {
    "duration": 56,
    "start_time": "2021-10-25T12:18:55.423Z"
   },
   {
    "duration": 78,
    "start_time": "2021-10-25T12:18:55.481Z"
   },
   {
    "duration": 17,
    "start_time": "2021-10-25T12:18:55.562Z"
   },
   {
    "duration": 18,
    "start_time": "2021-10-25T12:18:55.581Z"
   },
   {
    "duration": 6,
    "start_time": "2021-10-25T12:18:55.602Z"
   },
   {
    "duration": 81,
    "start_time": "2021-10-25T12:18:55.611Z"
   },
   {
    "duration": 21,
    "start_time": "2021-10-25T12:18:55.695Z"
   },
   {
    "duration": 66,
    "start_time": "2021-10-25T12:18:55.723Z"
   },
   {
    "duration": 27,
    "start_time": "2021-10-25T12:18:55.793Z"
   },
   {
    "duration": 65,
    "start_time": "2021-10-25T12:18:55.823Z"
   },
   {
    "duration": 30,
    "start_time": "2021-10-25T12:18:55.891Z"
   },
   {
    "duration": 37,
    "start_time": "2021-10-25T12:18:55.924Z"
   },
   {
    "duration": 24,
    "start_time": "2021-10-25T12:18:55.964Z"
   },
   {
    "duration": 15,
    "start_time": "2021-10-25T12:18:55.991Z"
   },
   {
    "duration": 7,
    "start_time": "2021-10-25T12:18:56.009Z"
   },
   {
    "duration": 28,
    "start_time": "2021-10-25T12:18:56.059Z"
   },
   {
    "duration": 20,
    "start_time": "2021-10-25T12:18:56.090Z"
   },
   {
    "duration": 62,
    "start_time": "2021-10-25T12:18:56.113Z"
   },
   {
    "duration": 19,
    "start_time": "2021-10-25T12:18:56.178Z"
   },
   {
    "duration": 13,
    "start_time": "2021-10-25T12:18:56.200Z"
   },
   {
    "duration": 43,
    "start_time": "2021-10-25T12:18:56.216Z"
   },
   {
    "duration": 14,
    "start_time": "2021-10-25T12:18:56.263Z"
   },
   {
    "duration": 8,
    "start_time": "2021-10-25T12:18:56.281Z"
   },
   {
    "duration": 545,
    "start_time": "2021-10-25T20:06:37.905Z"
   },
   {
    "duration": 139,
    "start_time": "2021-10-25T20:06:38.452Z"
   },
   {
    "duration": 17,
    "start_time": "2021-10-25T20:06:38.596Z"
   },
   {
    "duration": 28,
    "start_time": "2021-10-25T20:06:38.615Z"
   },
   {
    "duration": 22,
    "start_time": "2021-10-25T20:06:38.645Z"
   },
   {
    "duration": 26,
    "start_time": "2021-10-25T20:06:38.669Z"
   },
   {
    "duration": 4,
    "start_time": "2021-10-25T20:06:38.698Z"
   },
   {
    "duration": 28,
    "start_time": "2021-10-25T20:06:38.705Z"
   },
   {
    "duration": 43,
    "start_time": "2021-10-25T20:06:38.735Z"
   },
   {
    "duration": 21,
    "start_time": "2021-10-25T20:06:38.780Z"
   },
   {
    "duration": 73,
    "start_time": "2021-10-25T20:06:38.803Z"
   },
   {
    "duration": 69,
    "start_time": "2021-10-25T20:06:38.878Z"
   },
   {
    "duration": 63,
    "start_time": "2021-10-25T20:06:38.948Z"
   },
   {
    "duration": 40,
    "start_time": "2021-10-25T20:06:39.013Z"
   },
   {
    "duration": 3,
    "start_time": "2021-10-25T20:06:39.064Z"
   },
   {
    "duration": 20,
    "start_time": "2021-10-25T20:06:39.068Z"
   },
   {
    "duration": 39,
    "start_time": "2021-10-25T20:06:39.090Z"
   },
   {
    "duration": 33,
    "start_time": "2021-10-25T20:06:39.131Z"
   },
   {
    "duration": 11,
    "start_time": "2021-10-25T20:06:39.166Z"
   },
   {
    "duration": 3,
    "start_time": "2021-10-25T20:06:39.178Z"
   },
   {
    "duration": 24,
    "start_time": "2021-10-25T20:06:39.183Z"
   },
   {
    "duration": 14,
    "start_time": "2021-10-25T20:06:39.210Z"
   },
   {
    "duration": 47,
    "start_time": "2021-10-25T20:06:39.226Z"
   },
   {
    "duration": 16,
    "start_time": "2021-10-25T20:06:39.275Z"
   },
   {
    "duration": 21,
    "start_time": "2021-10-25T20:06:39.293Z"
   },
   {
    "duration": 16,
    "start_time": "2021-10-25T20:06:39.316Z"
   },
   {
    "duration": 38,
    "start_time": "2021-10-25T20:06:39.334Z"
   },
   {
    "duration": 13,
    "start_time": "2021-10-25T20:06:39.374Z"
   },
   {
    "duration": 11,
    "start_time": "2021-10-25T20:06:39.389Z"
   },
   {
    "duration": 5,
    "start_time": "2021-10-25T20:06:39.402Z"
   },
   {
    "duration": 26,
    "start_time": "2021-10-25T20:06:39.408Z"
   },
   {
    "duration": 40,
    "start_time": "2021-10-25T20:06:39.436Z"
   },
   {
    "duration": 19,
    "start_time": "2021-10-25T20:06:39.478Z"
   },
   {
    "duration": 13,
    "start_time": "2021-10-25T20:06:39.499Z"
   },
   {
    "duration": 8,
    "start_time": "2021-10-25T20:06:39.514Z"
   },
   {
    "duration": 40,
    "start_time": "2021-10-25T20:06:39.524Z"
   },
   {
    "duration": 10,
    "start_time": "2021-10-25T20:06:39.566Z"
   },
   {
    "duration": 4,
    "start_time": "2021-10-25T20:06:39.577Z"
   },
   {
    "duration": 9,
    "start_time": "2021-10-25T20:08:44.157Z"
   },
   {
    "duration": 3,
    "start_time": "2021-10-25T20:09:38.139Z"
   },
   {
    "duration": 16,
    "start_time": "2021-10-25T20:15:23.629Z"
   },
   {
    "duration": 14,
    "start_time": "2021-10-25T20:15:31.474Z"
   },
   {
    "duration": 17,
    "start_time": "2021-10-25T20:15:38.584Z"
   },
   {
    "duration": 18,
    "start_time": "2021-10-25T20:15:45.996Z"
   }
  ],
  "colab": {
   "collapsed_sections": [
    "E0vqbgi9ay0H",
    "VUC88oWjTJw2"
   ],
   "name": "yandex_music_project_2021.2.ipynb",
   "provenance": []
  },
  "kernelspec": {
   "display_name": "Python 3",
   "language": "python",
   "name": "python3"
  },
  "language_info": {
   "codemirror_mode": {
    "name": "ipython",
    "version": 3
   },
   "file_extension": ".py",
   "mimetype": "text/x-python",
   "name": "python",
   "nbconvert_exporter": "python",
   "pygments_lexer": "ipython3",
   "version": "3.8.8"
  },
  "toc": {
   "base_numbering": 1,
   "nav_menu": {},
   "number_sections": true,
   "sideBar": true,
   "skip_h1_title": true,
   "title_cell": "Table of Contents",
   "title_sidebar": "Contents",
   "toc_cell": false,
   "toc_position": {},
   "toc_section_display": true,
   "toc_window_display": true
  }
 },
 "nbformat": 4,
 "nbformat_minor": 1
}
