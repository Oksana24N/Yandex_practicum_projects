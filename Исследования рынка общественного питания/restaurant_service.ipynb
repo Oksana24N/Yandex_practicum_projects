{
 "cells": [
  {
   "cell_type": "markdown",
   "metadata": {},
   "source": [
    "## Предобработка данных"
   ]
  },
  {
   "cell_type": "code",
   "execution_count": 1,
   "metadata": {},
   "outputs": [],
   "source": [
    "import pandas as pd\n",
    "import matplotlib.pyplot as plt\n",
    "import seaborn as sns\n",
    "import plotly.express as px\n",
    "from plotly import graph_objects as go\n",
    "sns.set_palette('dark')"
   ]
  },
  {
   "cell_type": "code",
   "execution_count": 2,
   "metadata": {},
   "outputs": [
    {
     "data": {
      "text/html": [
       "<div>\n",
       "<style scoped>\n",
       "    .dataframe tbody tr th:only-of-type {\n",
       "        vertical-align: middle;\n",
       "    }\n",
       "\n",
       "    .dataframe tbody tr th {\n",
       "        vertical-align: top;\n",
       "    }\n",
       "\n",
       "    .dataframe thead th {\n",
       "        text-align: right;\n",
       "    }\n",
       "</style>\n",
       "<table border=\"1\" class=\"dataframe\">\n",
       "  <thead>\n",
       "    <tr style=\"text-align: right;\">\n",
       "      <th></th>\n",
       "      <th>id</th>\n",
       "      <th>object_name</th>\n",
       "      <th>chain</th>\n",
       "      <th>object_type</th>\n",
       "      <th>address</th>\n",
       "      <th>number</th>\n",
       "    </tr>\n",
       "  </thead>\n",
       "  <tbody>\n",
       "    <tr>\n",
       "      <th>0</th>\n",
       "      <td>151635</td>\n",
       "      <td>СМЕТАНА</td>\n",
       "      <td>нет</td>\n",
       "      <td>кафе</td>\n",
       "      <td>город Москва, улица Егора Абакумова, дом 9</td>\n",
       "      <td>48</td>\n",
       "    </tr>\n",
       "    <tr>\n",
       "      <th>1</th>\n",
       "      <td>77874</td>\n",
       "      <td>Родник</td>\n",
       "      <td>нет</td>\n",
       "      <td>кафе</td>\n",
       "      <td>город Москва, улица Талалихина, дом 2/1, корпус 1</td>\n",
       "      <td>35</td>\n",
       "    </tr>\n",
       "    <tr>\n",
       "      <th>2</th>\n",
       "      <td>24309</td>\n",
       "      <td>Кафе «Академия»</td>\n",
       "      <td>нет</td>\n",
       "      <td>кафе</td>\n",
       "      <td>город Москва, Абельмановская улица, дом 6</td>\n",
       "      <td>95</td>\n",
       "    </tr>\n",
       "    <tr>\n",
       "      <th>3</th>\n",
       "      <td>21894</td>\n",
       "      <td>ПИЦЦЕТОРИЯ</td>\n",
       "      <td>да</td>\n",
       "      <td>кафе</td>\n",
       "      <td>город Москва, Абрамцевская улица, дом 1</td>\n",
       "      <td>40</td>\n",
       "    </tr>\n",
       "    <tr>\n",
       "      <th>4</th>\n",
       "      <td>119365</td>\n",
       "      <td>Кафе «Вишневая метель»</td>\n",
       "      <td>нет</td>\n",
       "      <td>кафе</td>\n",
       "      <td>город Москва, Абрамцевская улица, дом 9, корпус 1</td>\n",
       "      <td>50</td>\n",
       "    </tr>\n",
       "  </tbody>\n",
       "</table>\n",
       "</div>"
      ],
      "text/plain": [
       "       id             object_name chain object_type  \\\n",
       "0  151635                 СМЕТАНА   нет        кафе   \n",
       "1   77874                  Родник   нет        кафе   \n",
       "2   24309         Кафе «Академия»   нет        кафе   \n",
       "3   21894              ПИЦЦЕТОРИЯ    да        кафе   \n",
       "4  119365  Кафе «Вишневая метель»   нет        кафе   \n",
       "\n",
       "                                             address  number  \n",
       "0         город Москва, улица Егора Абакумова, дом 9      48  \n",
       "1  город Москва, улица Талалихина, дом 2/1, корпус 1      35  \n",
       "2          город Москва, Абельмановская улица, дом 6      95  \n",
       "3            город Москва, Абрамцевская улица, дом 1      40  \n",
       "4  город Москва, Абрамцевская улица, дом 9, корпус 1      50  "
      ]
     },
     "execution_count": 2,
     "metadata": {},
     "output_type": "execute_result"
    }
   ],
   "source": [
    "df = pd.read_csv('rest_data.csv')\n",
    "df.head()"
   ]
  },
  {
   "cell_type": "markdown",
   "metadata": {},
   "source": [
    "Описание данных\n",
    "\n",
    "- **id** — идентификатор объекта;\n",
    "- **object_name** — название объекта общественного питания;\n",
    "- **chain** — сетевой ресторан;\n",
    "- **object_type** — тип объекта общественного питания;\n",
    "- **address** — адрес;\n",
    "- **number** — количество посадочных мест."
   ]
  },
  {
   "cell_type": "code",
   "execution_count": 3,
   "metadata": {},
   "outputs": [
    {
     "name": "stdout",
     "output_type": "stream",
     "text": [
      "<class 'pandas.core.frame.DataFrame'>\n",
      "RangeIndex: 15366 entries, 0 to 15365\n",
      "Data columns (total 6 columns):\n",
      " #   Column       Non-Null Count  Dtype \n",
      "---  ------       --------------  ----- \n",
      " 0   id           15366 non-null  int64 \n",
      " 1   object_name  15366 non-null  object\n",
      " 2   chain        15366 non-null  object\n",
      " 3   object_type  15366 non-null  object\n",
      " 4   address      15366 non-null  object\n",
      " 5   number       15366 non-null  int64 \n",
      "dtypes: int64(2), object(4)\n",
      "memory usage: 720.4+ KB\n"
     ]
    }
   ],
   "source": [
    "df.info()"
   ]
  },
  {
   "cell_type": "code",
   "execution_count": 4,
   "metadata": {},
   "outputs": [
    {
     "name": "stdout",
     "output_type": "stream",
     "text": [
      "Дубликатов в таблице: 0\n"
     ]
    }
   ],
   "source": [
    "print ('Дубликатов в таблице:', df.duplicated().sum())"
   ]
  },
  {
   "cell_type": "markdown",
   "metadata": {},
   "source": [
    "##  Cоотношение видов объектов общественного питания по количеству"
   ]
  },
  {
   "cell_type": "code",
   "execution_count": 5,
   "metadata": {},
   "outputs": [
    {
     "data": {
      "image/png": "[encoded data removed]",
      "text/plain": [
       "<Figure size 720x360 with 1 Axes>"
      ]
     },
     "metadata": {
      "needs_background": "light"
     },
     "output_type": "display_data"
    }
   ],
   "source": [
    "plt.subplots(figsize=(10, 5))\n",
    "sns.countplot(y=\"object_type\", data=df)\n",
    "\n",
    "plt.title('Cоотношение видов объектов общественного питания по количеству')\n",
    "plt.xlabel('Количество заведений')\n",
    "plt.ylabel(None)\n",
    "plt.show()"
   ]
  },
  {
   "cell_type": "markdown",
   "metadata": {},
   "source": [
    "## Cоотношение сетевых и несетевых заведений по количеству"
   ]
  },
  {
   "cell_type": "code",
   "execution_count": 6,
   "metadata": {},
   "outputs": [],
   "source": [
    "chain = df.groupby('chain').agg('count').reset_index()"
   ]
  },
  {
   "cell_type": "code",
   "execution_count": 7,
   "metadata": {},
   "outputs": [
    {
     "data": {
      "image/svg+xml": [
       "<svg class=\"main-svg\" xmlns=\"http://www.w3.org/2000/svg\" xmlns:xlink=\"http://www.w3.org/1999/xlink\" width=\"700\" height=\"500\" style=\"\" viewBox=\"0 0 700 500\"><rect x=\"0\" y=\"0\" width=\"700\" height=\"500\" style=\"fill: rgb(255, 255, 255); fill-opacity: 1;\"/><defs id=\"defs-430839\"><g class=\"clips\"/><g class=\"gradients\"/><g class=\"patterns\"/></defs><g class=\"bglayer\"/><g class=\"layer-below\"><g class=\"imagelayer\"/><g class=\"shapelayer\"/></g><g class=\"cartesianlayer\"/><g class=\"polarlayer\"/><g class=\"smithlayer\"/><g class=\"ternarylayer\"/><g class=\"geolayer\"/><g class=\"funnelarealayer\"/><g class=\"pielayer\"><g class=\"trace\" stroke-linejoin=\"round\" style=\"opacity: 1;\"><g class=\"slice\"><path class=\"surface\" d=\"M345,260l0,-160a160,160 0 0 1 149.9020808113833,104.05926199613106Z\" style=\"pointer-events: all; stroke-width: 0; fill: rgb(99, 110, 250); fill-opacity: 1; stroke: rgb(68, 68, 68); stroke-opacity: 1;\"/><g class=\"slicetext\"><text data-notex=\"1\" class=\"slicetext\" transform=\"translate(403.06634219674334,172.9918448475656)\" text-anchor=\"middle\" x=\"0\" y=\"0\" style=\"font-family: 'Open Sans', verdana, arial, sans-serif; font-size: 12px; fill: rgb(255, 255, 255); fill-opacity: 1; white-space: pre;\"><tspan class=\"line\" dy=\"0em\" x=\"0\" y=\"0\">да</tspan><tspan class=\"line\" dy=\"1.3em\" x=\"0\" y=\"0\">19.3%</tspan></text></g></g><g class=\"slice\"><path class=\"surface\" d=\"M345,260l149.9020808113833,-55.940738003868944a160,160 0 1 1 -149.9020808113833,-104.05926199613106Z\" style=\"pointer-events: all; stroke-width: 0; fill: rgb(239, 85, 59); fill-opacity: 1; stroke: rgb(68, 68, 68); stroke-opacity: 1;\"/><g class=\"slicetext\"><text data-notex=\"1\" class=\"slicetext\" transform=\"translate(299.34092829436065,322.41300235651715)\" text-anchor=\"middle\" x=\"0\" y=\"0\" style=\"font-family: 'Open Sans', verdana, arial, sans-serif; font-size: 12px; fill: rgb(68, 68, 68); fill-opacity: 1; white-space: pre;\"><tspan class=\"line\" dy=\"0em\" x=\"0\" y=\"0\">нет</tspan><tspan class=\"line\" dy=\"1.3em\" x=\"0\" y=\"0\">80.7%</tspan></text></g></g></g></g><g class=\"iciclelayer\"/><g class=\"treemaplayer\"/><g class=\"sunburstlayer\"/><g class=\"glimages\"/><defs id=\"topdefs-430839\"><g class=\"clips\"/><clipPath id=\"legend430839\"><rect width=\"67\" height=\"48\" x=\"0\" y=\"0\"/></clipPath></defs><g class=\"layer-above\"><g class=\"imagelayer\"/><g class=\"shapelayer\"/></g><g class=\"infolayer\"><g class=\"legend\" pointer-events=\"all\" transform=\"translate(620.6,100)\"><rect class=\"bg\" shape-rendering=\"crispEdges\" style=\"stroke: rgb(68, 68, 68); stroke-opacity: 1; fill: rgb(255, 255, 255); fill-opacity: 1; stroke-width: 0px;\" width=\"67\" height=\"48\" x=\"0\" y=\"0\"/><g class=\"scrollbox\" transform=\"\" clip-path=\"url(#legend430839)\"><g class=\"groups\"><g class=\"traces\" transform=\"translate(0,14.5)\" style=\"opacity: 1;\"><text class=\"legendtext\" text-anchor=\"start\" x=\"40\" y=\"4.680000000000001\" style=\"font-family: 'Open Sans', verdana, arial, sans-serif; font-size: 12px; fill: rgb(42, 63, 95); fill-opacity: 1; white-space: pre;\">да</text><g class=\"layers\" style=\"opacity: 1;\"><g class=\"legendfill\"/><g class=\"legendlines\"/><g class=\"legendsymbols\"><g class=\"legendpoints\"><path class=\"legendpie\" d=\"M6,6H-6V-6H6Z\" transform=\"translate(20,0)\" style=\"stroke-width: 0; fill: rgb(99, 110, 250); fill-opacity: 1; stroke: rgb(68, 68, 68); stroke-opacity: 1;\"/></g></g></g><rect class=\"legendtoggle\" x=\"0\" y=\"-9.5\" width=\"61.796875\" height=\"19\" style=\"fill: rgb(0, 0, 0); fill-opacity: 0;\"/></g><g class=\"traces\" transform=\"translate(0,33.5)\" style=\"opacity: 1;\"><text class=\"legendtext\" text-anchor=\"start\" x=\"40\" y=\"4.680000000000001\" style=\"font-family: 'Open Sans', verdana, arial, sans-serif; font-size: 12px; fill: rgb(42, 63, 95); fill-opacity: 1; white-space: pre;\">нет</text><g class=\"layers\" style=\"opacity: 1;\"><g class=\"legendfill\"/><g class=\"legendlines\"/><g class=\"legendsymbols\"><g class=\"legendpoints\"><path class=\"legendpie\" d=\"M6,6H-6V-6H6Z\" transform=\"translate(20,0)\" style=\"stroke-width: 0; fill: rgb(239, 85, 59); fill-opacity: 1; stroke: rgb(68, 68, 68); stroke-opacity: 1;\"/></g></g></g><rect class=\"legendtoggle\" x=\"0\" y=\"-9.5\" width=\"61.796875\" height=\"19\" style=\"fill: rgb(0, 0, 0); fill-opacity: 0;\"/></g></g></g><rect class=\"scrollbar\" rx=\"20\" ry=\"3\" width=\"0\" height=\"0\" style=\"fill: rgb(128, 139, 164); fill-opacity: 1;\" x=\"0\" y=\"0\"/></g><g class=\"g-gtitle\"><text class=\"gtitle\" x=\"35\" y=\"50\" text-anchor=\"start\" dy=\"0em\" style=\"font-family: 'Open Sans', verdana, arial, sans-serif; font-size: 17px; fill: rgb(42, 63, 95); opacity: 1; font-weight: normal; white-space: pre;\">Соотношение сетевых и несетевых заведений по количеству</text></g></g></svg>"
      ]
     },
     "metadata": {},
     "output_type": "display_data"
    }
   ],
   "source": [
    "fig = go.Figure(data=[go.Pie(labels=chain['chain'], values=chain['id'], sort=False)])\n",
    "\n",
    "fig.layout.title= 'Соотношение сетевых и несетевых заведений по количеству'\n",
    "fig.update_traces(textposition='inside', textinfo='percent+label')\n",
    "fig.show(\"svg\")"
   ]
  },
  {
   "cell_type": "markdown",
   "metadata": {},
   "source": [
    "## Cетевое распространение по заведениям"
   ]
  },
  {
   "cell_type": "code",
   "execution_count": 8,
   "metadata": {},
   "outputs": [
    {
     "data": {
      "image/png": "[encoded data removed]",
      "text/plain": [
       "<Figure size 720x432 with 1 Axes>"
      ]
     },
     "metadata": {
      "needs_background": "light"
     },
     "output_type": "display_data"
    }
   ],
   "source": [
    "plt.subplots(figsize=(10, 6))\n",
    "sns.countplot(y='object_type', hue=\"chain\", data=df)\n",
    "plt.title('Сетевое распространение по заведениям')\n",
    "plt.xlabel('Количество заведений')\n",
    "plt.ylabel(None)\n",
    "plt.legend(['Несетевые' ,'Сетевые'])\n",
    "plt.show()"
   ]
  },
  {
   "cell_type": "markdown",
   "metadata": {},
   "source": [
    "80,7% объектов не являются сетевыми. Самое большое количество заведений в группах кафе, столовая, ресторан и предприятие быстрого обслуживания. Для всех, кроме столовых, характерно сетевое распространение. Остальные группы включают гораздо меньше заведений и редко являются частью сети."
   ]
  },
  {
   "cell_type": "markdown",
   "metadata": {},
   "source": [
    "Рассмотрим что характерно для сетевых заведений: много заведений с небольшим числом посадочных мест в каждом или мало заведений с большим количеством посадочных мест. Для этого сгруппируем данные по заведениям и посчитаем количество объектов и среднее количество посадочных мест."
   ]
  },
  {
   "cell_type": "markdown",
   "metadata": {},
   "source": [
    "## Распределение сетевых заведений по числу посадочных мест"
   ]
  },
  {
   "cell_type": "code",
   "execution_count": 9,
   "metadata": {},
   "outputs": [
    {
     "data": {
      "text/html": [
       "<div>\n",
       "<style scoped>\n",
       "    .dataframe tbody tr th:only-of-type {\n",
       "        vertical-align: middle;\n",
       "    }\n",
       "\n",
       "    .dataframe tbody tr th {\n",
       "        vertical-align: top;\n",
       "    }\n",
       "\n",
       "    .dataframe thead th {\n",
       "        text-align: right;\n",
       "    }\n",
       "</style>\n",
       "<table border=\"1\" class=\"dataframe\">\n",
       "  <thead>\n",
       "    <tr style=\"text-align: right;\">\n",
       "      <th></th>\n",
       "      <th>id</th>\n",
       "      <th>number</th>\n",
       "    </tr>\n",
       "    <tr>\n",
       "      <th>object_name</th>\n",
       "      <th></th>\n",
       "      <th></th>\n",
       "    </tr>\n",
       "  </thead>\n",
       "  <tbody>\n",
       "    <tr>\n",
       "      <th>Beverly Hills Diner</th>\n",
       "      <td>1</td>\n",
       "      <td>88.000000</td>\n",
       "    </tr>\n",
       "    <tr>\n",
       "      <th>Bierloga</th>\n",
       "      <td>1</td>\n",
       "      <td>75.000000</td>\n",
       "    </tr>\n",
       "    <tr>\n",
       "      <th>Black &amp; White</th>\n",
       "      <td>1</td>\n",
       "      <td>40.000000</td>\n",
       "    </tr>\n",
       "    <tr>\n",
       "      <th>Bocconcino</th>\n",
       "      <td>3</td>\n",
       "      <td>66.666667</td>\n",
       "    </tr>\n",
       "    <tr>\n",
       "      <th>BooBo</th>\n",
       "      <td>1</td>\n",
       "      <td>46.000000</td>\n",
       "    </tr>\n",
       "  </tbody>\n",
       "</table>\n",
       "</div>"
      ],
      "text/plain": [
       "                     id     number\n",
       "object_name                       \n",
       "Beverly Hills Diner   1  88.000000\n",
       "Bierloga              1  75.000000\n",
       "Black & White         1  40.000000\n",
       "Bocconcino            3  66.666667\n",
       "BooBo                 1  46.000000"
      ]
     },
     "execution_count": 9,
     "metadata": {},
     "output_type": "execute_result"
    }
   ],
   "source": [
    "temp = df.query('chain == \"да\"')\n",
    "temp = temp.groupby('object_name').agg({'id': 'count', 'number': 'mean'})\n",
    "temp.head()"
   ]
  },
  {
   "cell_type": "markdown",
   "metadata": {},
   "source": [
    "Напишем функции, которые возвращают группу в зависимости от количества заведений и числа посадочных мест. Будем считать, мало посадочных мест в заведениях, где их не больше 30 и малое заведений в сети, где их не больше 5"
   ]
  },
  {
   "cell_type": "code",
   "execution_count": 10,
   "metadata": {},
   "outputs": [],
   "source": [
    "def object_size(value):\n",
    "    if value <=30: \n",
    "        return \"Мало мест\"\n",
    "    return \"Много мест\""
   ]
  },
  {
   "cell_type": "code",
   "execution_count": 11,
   "metadata": {},
   "outputs": [],
   "source": [
    "def object_count(value):\n",
    "    if value <=5: \n",
    "        return \"Мало заведений\"\n",
    "    return \"Много заведений\""
   ]
  },
  {
   "cell_type": "code",
   "execution_count": 12,
   "metadata": {},
   "outputs": [
    {
     "data": {
      "text/html": [
       "<div>\n",
       "<style scoped>\n",
       "    .dataframe tbody tr th:only-of-type {\n",
       "        vertical-align: middle;\n",
       "    }\n",
       "\n",
       "    .dataframe tbody tr th {\n",
       "        vertical-align: top;\n",
       "    }\n",
       "\n",
       "    .dataframe thead th {\n",
       "        text-align: right;\n",
       "    }\n",
       "</style>\n",
       "<table border=\"1\" class=\"dataframe\">\n",
       "  <thead>\n",
       "    <tr style=\"text-align: right;\">\n",
       "      <th></th>\n",
       "      <th>id</th>\n",
       "      <th>number</th>\n",
       "      <th>size</th>\n",
       "      <th>count</th>\n",
       "    </tr>\n",
       "    <tr>\n",
       "      <th>object_name</th>\n",
       "      <th></th>\n",
       "      <th></th>\n",
       "      <th></th>\n",
       "      <th></th>\n",
       "    </tr>\n",
       "  </thead>\n",
       "  <tbody>\n",
       "    <tr>\n",
       "      <th>Beverly Hills Diner</th>\n",
       "      <td>1</td>\n",
       "      <td>88.000000</td>\n",
       "      <td>Много мест</td>\n",
       "      <td>Мало заведений</td>\n",
       "    </tr>\n",
       "    <tr>\n",
       "      <th>Bierloga</th>\n",
       "      <td>1</td>\n",
       "      <td>75.000000</td>\n",
       "      <td>Много мест</td>\n",
       "      <td>Мало заведений</td>\n",
       "    </tr>\n",
       "    <tr>\n",
       "      <th>Black &amp; White</th>\n",
       "      <td>1</td>\n",
       "      <td>40.000000</td>\n",
       "      <td>Много мест</td>\n",
       "      <td>Мало заведений</td>\n",
       "    </tr>\n",
       "    <tr>\n",
       "      <th>Bocconcino</th>\n",
       "      <td>3</td>\n",
       "      <td>66.666667</td>\n",
       "      <td>Много мест</td>\n",
       "      <td>Мало заведений</td>\n",
       "    </tr>\n",
       "    <tr>\n",
       "      <th>BooBo</th>\n",
       "      <td>1</td>\n",
       "      <td>46.000000</td>\n",
       "      <td>Много мест</td>\n",
       "      <td>Мало заведений</td>\n",
       "    </tr>\n",
       "  </tbody>\n",
       "</table>\n",
       "</div>"
      ],
      "text/plain": [
       "                     id     number        size           count\n",
       "object_name                                                   \n",
       "Beverly Hills Diner   1  88.000000  Много мест  Мало заведений\n",
       "Bierloga              1  75.000000  Много мест  Мало заведений\n",
       "Black & White         1  40.000000  Много мест  Мало заведений\n",
       "Bocconcino            3  66.666667  Много мест  Мало заведений\n",
       "BooBo                 1  46.000000  Много мест  Мало заведений"
      ]
     },
     "execution_count": 12,
     "metadata": {},
     "output_type": "execute_result"
    }
   ],
   "source": [
    "temp['size'] = temp['number'].apply(object_size)\n",
    "temp['count'] = temp['id'].apply(object_count)\n",
    "temp.head()"
   ]
  },
  {
   "cell_type": "code",
   "execution_count": 13,
   "metadata": {},
   "outputs": [
    {
     "data": {
      "text/html": [
       "<div>\n",
       "<style scoped>\n",
       "    .dataframe tbody tr th:only-of-type {\n",
       "        vertical-align: middle;\n",
       "    }\n",
       "\n",
       "    .dataframe tbody tr th {\n",
       "        vertical-align: top;\n",
       "    }\n",
       "\n",
       "    .dataframe thead th {\n",
       "        text-align: right;\n",
       "    }\n",
       "</style>\n",
       "<table border=\"1\" class=\"dataframe\">\n",
       "  <thead>\n",
       "    <tr style=\"text-align: right;\">\n",
       "      <th></th>\n",
       "      <th>id</th>\n",
       "      <th>number</th>\n",
       "      <th>size</th>\n",
       "      <th>count</th>\n",
       "      <th>Группа</th>\n",
       "    </tr>\n",
       "    <tr>\n",
       "      <th>object_name</th>\n",
       "      <th></th>\n",
       "      <th></th>\n",
       "      <th></th>\n",
       "      <th></th>\n",
       "      <th></th>\n",
       "    </tr>\n",
       "  </thead>\n",
       "  <tbody>\n",
       "    <tr>\n",
       "      <th>Beverly Hills Diner</th>\n",
       "      <td>1</td>\n",
       "      <td>88.000000</td>\n",
       "      <td>Много мест</td>\n",
       "      <td>Мало заведений</td>\n",
       "      <td>Много мест-Мало заведений</td>\n",
       "    </tr>\n",
       "    <tr>\n",
       "      <th>Bierloga</th>\n",
       "      <td>1</td>\n",
       "      <td>75.000000</td>\n",
       "      <td>Много мест</td>\n",
       "      <td>Мало заведений</td>\n",
       "      <td>Много мест-Мало заведений</td>\n",
       "    </tr>\n",
       "    <tr>\n",
       "      <th>Black &amp; White</th>\n",
       "      <td>1</td>\n",
       "      <td>40.000000</td>\n",
       "      <td>Много мест</td>\n",
       "      <td>Мало заведений</td>\n",
       "      <td>Много мест-Мало заведений</td>\n",
       "    </tr>\n",
       "    <tr>\n",
       "      <th>Bocconcino</th>\n",
       "      <td>3</td>\n",
       "      <td>66.666667</td>\n",
       "      <td>Много мест</td>\n",
       "      <td>Мало заведений</td>\n",
       "      <td>Много мест-Мало заведений</td>\n",
       "    </tr>\n",
       "    <tr>\n",
       "      <th>BooBo</th>\n",
       "      <td>1</td>\n",
       "      <td>46.000000</td>\n",
       "      <td>Много мест</td>\n",
       "      <td>Мало заведений</td>\n",
       "      <td>Много мест-Мало заведений</td>\n",
       "    </tr>\n",
       "  </tbody>\n",
       "</table>\n",
       "</div>"
      ],
      "text/plain": [
       "                     id     number        size           count  \\\n",
       "object_name                                                      \n",
       "Beverly Hills Diner   1  88.000000  Много мест  Мало заведений   \n",
       "Bierloga              1  75.000000  Много мест  Мало заведений   \n",
       "Black & White         1  40.000000  Много мест  Мало заведений   \n",
       "Bocconcino            3  66.666667  Много мест  Мало заведений   \n",
       "BooBo                 1  46.000000  Много мест  Мало заведений   \n",
       "\n",
       "                                        Группа  \n",
       "object_name                                     \n",
       "Beverly Hills Diner  Много мест-Мало заведений  \n",
       "Bierloga             Много мест-Мало заведений  \n",
       "Black & White        Много мест-Мало заведений  \n",
       "Bocconcino           Много мест-Мало заведений  \n",
       "BooBo                Много мест-Мало заведений  "
      ]
     },
     "execution_count": 13,
     "metadata": {},
     "output_type": "execute_result"
    }
   ],
   "source": [
    "temp['Группа'] = temp['size'].astype(str) + '-' + temp['count'].astype(str)\n",
    "temp.head()"
   ]
  },
  {
   "cell_type": "code",
   "execution_count": 14,
   "metadata": {},
   "outputs": [
    {
     "data": {
      "text/html": [
       "<div>\n",
       "<style scoped>\n",
       "    .dataframe tbody tr th:only-of-type {\n",
       "        vertical-align: middle;\n",
       "    }\n",
       "\n",
       "    .dataframe tbody tr th {\n",
       "        vertical-align: top;\n",
       "    }\n",
       "\n",
       "    .dataframe thead th {\n",
       "        text-align: right;\n",
       "    }\n",
       "</style>\n",
       "<table border=\"1\" class=\"dataframe\">\n",
       "  <thead>\n",
       "    <tr style=\"text-align: right;\">\n",
       "      <th></th>\n",
       "      <th>id</th>\n",
       "    </tr>\n",
       "    <tr>\n",
       "      <th>Группа</th>\n",
       "      <th></th>\n",
       "    </tr>\n",
       "  </thead>\n",
       "  <tbody>\n",
       "    <tr>\n",
       "      <th>Мало мест-Мало заведений</th>\n",
       "      <td>237</td>\n",
       "    </tr>\n",
       "    <tr>\n",
       "      <th>Мало мест-Много заведений</th>\n",
       "      <td>31</td>\n",
       "    </tr>\n",
       "    <tr>\n",
       "      <th>Много мест-Мало заведений</th>\n",
       "      <td>401</td>\n",
       "    </tr>\n",
       "    <tr>\n",
       "      <th>Много мест-Много заведений</th>\n",
       "      <td>55</td>\n",
       "    </tr>\n",
       "  </tbody>\n",
       "</table>\n",
       "</div>"
      ],
      "text/plain": [
       "                             id\n",
       "Группа                         \n",
       "Мало мест-Мало заведений    237\n",
       "Мало мест-Много заведений    31\n",
       "Много мест-Мало заведений   401\n",
       "Много мест-Много заведений   55"
      ]
     },
     "execution_count": 14,
     "metadata": {},
     "output_type": "execute_result"
    }
   ],
   "source": [
    "temp.groupby('Группа').agg({'id': 'count'})"
   ]
  },
  {
   "cell_type": "code",
   "execution_count": 15,
   "metadata": {},
   "outputs": [
    {
     "data": {
      "image/png": "[encoded data removed]",
      "text/plain": [
       "<Figure size 720x432 with 1 Axes>"
      ]
     },
     "metadata": {
      "needs_background": "light"
     },
     "output_type": "display_data"
    }
   ],
   "source": [
    "f, ax = plt.subplots(figsize=(10, 6))\n",
    "\n",
    "sns.scatterplot(x='id', y='number', hue='Группа', data=temp)\n",
    "\n",
    "plt.title('Распределение заведений по группам')\n",
    "plt.xlabel('Количество заведений')\n",
    "plt.ylabel('Количество посадочных мест')\n",
    "plt.show()"
   ]
  },
  {
   "cell_type": "code",
   "execution_count": 16,
   "metadata": {},
   "outputs": [
    {
     "data": {
      "image/png": "[encoded data removed]",
      "text/plain": [
       "<Figure size 432x288 with 1 Axes>"
      ]
     },
     "metadata": {
      "needs_background": "light"
     },
     "output_type": "display_data"
    },
    {
     "data": {
      "image/png": "[encoded data removed]",
      "text/plain": [
       "<Figure size 432x288 with 1 Axes>"
      ]
     },
     "metadata": {
      "needs_background": "light"
     },
     "output_type": "display_data"
    },
    {
     "data": {
      "image/png": "[encoded data removed]",
      "text/plain": [
       "<Figure size 432x288 with 1 Axes>"
      ]
     },
     "metadata": {
      "needs_background": "light"
     },
     "output_type": "display_data"
    },
    {
     "data": {
      "image/png": "[encoded data removed]",
      "text/plain": [
       "<Figure size 432x288 with 1 Axes>"
      ]
     },
     "metadata": {
      "needs_background": "light"
     },
     "output_type": "display_data"
    }
   ],
   "source": [
    "for i in temp['Группа'].unique():\n",
    "    data=temp[temp['Группа'] == i]\n",
    "    sns.scatterplot(x='id', y='number', data=data)\n",
    "\n",
    "    plt.title(i)\n",
    "    plt.xlabel('Количество заведений')\n",
    "    plt.ylabel('Количество посадочных мест')\n",
    "    plt.show()"
   ]
  },
  {
   "cell_type": "markdown",
   "metadata": {},
   "source": [
    "Наиболее распространенными являются небольшие сети до 5 объектов c разной вместимостью"
   ]
  },
  {
   "cell_type": "markdown",
   "metadata": {},
   "source": [
    "## Среднее количество посадочных мест"
   ]
  },
  {
   "cell_type": "code",
   "execution_count": 17,
   "metadata": {},
   "outputs": [],
   "source": [
    "#функция визуализации\n",
    "def bar(data, x, y, title):\n",
    "    fig = px.bar(\n",
    "        data, x=y, y=x, title=title, text_auto='.2s', color_discrete_sequence=[\"dimgray\"]\n",
    "    )\n",
    "    fig.update_layout(autosize=False,\n",
    "    width=900,\n",
    "    height=500,\n",
    "    xaxis_title=None,\n",
    "    yaxis_title=None,\n",
    "    )\n",
    "    fig.update_traces(textfont_size=12, textangle=0, textposition=\"outside\", cliponaxis=False)\n",
    "    fig.show(\"svg\") "
   ]
  },
  {
   "cell_type": "code",
   "execution_count": 18,
   "metadata": {},
   "outputs": [],
   "source": [
    "#среднее количесвто посадочных мест по типу заведения\n",
    "type_agg_mean = df.groupby('object_type').agg({'number':'mean'}).reset_index().sort_values(by='number', ascending=False)"
   ]
  },
  {
   "cell_type": "code",
   "execution_count": 19,
   "metadata": {},
   "outputs": [
    {
     "data": {
      "image/svg+xml": [
       "<svg class=\"main-svg\" xmlns=\"http://www.w3.org/2000/svg\" xmlns:xlink=\"http://www.w3.org/1999/xlink\" width=\"900\" height=\"500\" style=\"\" viewBox=\"0 0 900 500\"><rect x=\"0\" y=\"0\" width=\"900\" height=\"500\" style=\"fill: rgb(255, 255, 255); fill-opacity: 1;\"/><defs id=\"defs-d6af8f\"><g class=\"clips\"><clipPath id=\"clipd6af8fxyplot\" class=\"plotclip\"><rect width=\"571\" height=\"320\"/></clipPath><clipPath class=\"axesclip\" id=\"clipd6af8fx\"><rect x=\"249\" y=\"0\" width=\"571\" height=\"500\"/></clipPath><clipPath class=\"axesclip\" id=\"clipd6af8fy\"><rect x=\"0\" y=\"100\" width=\"900\" height=\"320\"/></clipPath><clipPath class=\"axesclip\" id=\"clipd6af8fxy\"><rect x=\"249\" y=\"100\" width=\"571\" height=\"320\"/></clipPath></g><g class=\"gradients\"/><g class=\"patterns\"/></defs><g class=\"bglayer\"><rect class=\"bg\" x=\"249\" y=\"100\" width=\"571\" height=\"320\" style=\"fill: rgb(229, 236, 246); fill-opacity: 1; stroke-width: 0;\"/></g><g class=\"layer-below\"><g class=\"imagelayer\"/><g class=\"shapelayer\"/></g><g class=\"cartesianlayer\"><g class=\"subplot xy\"><g class=\"layer-subplot\"><g class=\"shapelayer\"/><g class=\"imagelayer\"/></g><g class=\"minor-gridlayer\"><g class=\"x\"/><g class=\"y\"/></g><g class=\"gridlayer\"><g class=\"x\"><path class=\"xgrid crisp\" transform=\"translate(332.3,0)\" d=\"M0,100v320\" style=\"stroke: rgb(255, 255, 255); stroke-opacity: 1; stroke-width: 1px;\"/><path class=\"xgrid crisp\" transform=\"translate(415.59000000000003,0)\" d=\"M0,100v320\" style=\"stroke: rgb(255, 255, 255); stroke-opacity: 1; stroke-width: 1px;\"/><path class=\"xgrid crisp\" transform=\"translate(498.89,0)\" d=\"M0,100v320\" style=\"stroke: rgb(255, 255, 255); stroke-opacity: 1; stroke-width: 1px;\"/><path class=\"xgrid crisp\" transform=\"translate(582.1800000000001,0)\" d=\"M0,100v320\" style=\"stroke: rgb(255, 255, 255); stroke-opacity: 1; stroke-width: 1px;\"/><path class=\"xgrid crisp\" transform=\"translate(665.48,0)\" d=\"M0,100v320\" style=\"stroke: rgb(255, 255, 255); stroke-opacity: 1; stroke-width: 1px;\"/><path class=\"xgrid crisp\" transform=\"translate(748.77,0)\" d=\"M0,100v320\" style=\"stroke: rgb(255, 255, 255); stroke-opacity: 1; stroke-width: 1px;\"/></g><g class=\"y\"/></g><g class=\"zerolinelayer\"><path class=\"xzl zl crisp\" transform=\"translate(249,0)\" d=\"M0,100v320\" style=\"stroke: rgb(255, 255, 255); stroke-opacity: 1; stroke-width: 2px;\"/></g><path class=\"xlines-below\"/><path class=\"ylines-below\"/><g class=\"overlines-below\"/><g class=\"xaxislayer-below\"/><g class=\"yaxislayer-below\"/><g class=\"overaxes-below\"/><g class=\"plot\" transform=\"translate(249,100)\"><g class=\"barlayer mlayer\"><g class=\"trace bars\" style=\"opacity: 1;\"><g class=\"points\"><g class=\"point\"><path d=\"M0,316.44V288H542.45V316.44Z\" clip-path=\"url(#clipd6af8fxyplot)\" style=\"vector-effect: non-scaling-stroke; opacity: 1; stroke-width: 0.5px; fill: rgb(105, 105, 105); fill-opacity: 1; stroke: rgb(229, 236, 246); stroke-opacity: 1;\"/><text class=\"bartext bartext-outside\" text-anchor=\"middle\" data-notex=\"1\" x=\"0\" y=\"0\" style=\"font-family: 'Open Sans', verdana, arial, sans-serif; font-size: 12px; fill: rgb(42, 63, 95); fill-opacity: 1; white-space: pre;\" transform=\"translate(556.903125,306.72)\">130</text></g><g class=\"point\"><path d=\"M0,280.89V252.44H403.29V280.89Z\" clip-path=\"url(#clipd6af8fxyplot)\" style=\"vector-effect: non-scaling-stroke; opacity: 1; stroke-width: 0.5px; fill: rgb(105, 105, 105); fill-opacity: 1; stroke: rgb(229, 236, 246); stroke-opacity: 1;\"/><text class=\"bartext bartext-outside\" text-anchor=\"middle\" data-notex=\"1\" x=\"0\" y=\"0\" style=\"font-family: 'Open Sans', verdana, arial, sans-serif; font-size: 12px; fill: rgb(42, 63, 95); fill-opacity: 1; white-space: pre;\" transform=\"translate(413.930625,271.16499999999996)\">97</text></g><g class=\"point\"><path d=\"M0,245.33V216.89H212.95V245.33Z\" clip-path=\"url(#clipd6af8fxyplot)\" style=\"vector-effect: non-scaling-stroke; opacity: 1; stroke-width: 0.5px; fill: rgb(105, 105, 105); fill-opacity: 1; stroke: rgb(229, 236, 246); stroke-opacity: 1;\"/><text class=\"bartext bartext-outside\" text-anchor=\"middle\" data-notex=\"1\" x=\"0\" y=\"0\" style=\"font-family: 'Open Sans', verdana, arial, sans-serif; font-size: 12px; fill: rgb(42, 63, 95); fill-opacity: 1; white-space: pre;\" transform=\"translate(223.590625,235.61)\">51</text></g><g class=\"point\"><path d=\"M0,209.78V181.33H181.14V209.78Z\" clip-path=\"url(#clipd6af8fxyplot)\" style=\"vector-effect: non-scaling-stroke; opacity: 1; stroke-width: 0.5px; fill: rgb(105, 105, 105); fill-opacity: 1; stroke: rgb(229, 236, 246); stroke-opacity: 1;\"/><text class=\"bartext bartext-outside\" text-anchor=\"middle\" data-notex=\"1\" x=\"0\" y=\"0\" style=\"font-family: 'Open Sans', verdana, arial, sans-serif; font-size: 12px; fill: rgb(42, 63, 95); fill-opacity: 1; white-space: pre;\" transform=\"translate(191.780625,200.055)\">43</text></g><g class=\"point\"><path d=\"M0,174.22V145.78H165.41V174.22Z\" clip-path=\"url(#clipd6af8fxyplot)\" style=\"vector-effect: non-scaling-stroke; opacity: 1; stroke-width: 0.5px; fill: rgb(105, 105, 105); fill-opacity: 1; stroke: rgb(229, 236, 246); stroke-opacity: 1;\"/><text class=\"bartext bartext-outside\" text-anchor=\"middle\" data-notex=\"1\" x=\"0\" y=\"0\" style=\"font-family: 'Open Sans', verdana, arial, sans-serif; font-size: 12px; fill: rgb(42, 63, 95); fill-opacity: 1; white-space: pre;\" transform=\"translate(176.050625,164.5)\">40</text></g><g class=\"point\"><path d=\"M0,138.67V110.22H85.6V138.67Z\" clip-path=\"url(#clipd6af8fxyplot)\" style=\"vector-effect: non-scaling-stroke; opacity: 1; stroke-width: 0.5px; fill: rgb(105, 105, 105); fill-opacity: 1; stroke: rgb(229, 236, 246); stroke-opacity: 1;\"/><text class=\"bartext bartext-outside\" text-anchor=\"middle\" data-notex=\"1\" x=\"0\" y=\"0\" style=\"font-family: 'Open Sans', verdana, arial, sans-serif; font-size: 12px; fill: rgb(42, 63, 95); fill-opacity: 1; white-space: pre;\" transform=\"translate(96.240625,128.945)\">21</text></g><g class=\"point\"><path d=\"M0,103.11V74.67H38V103.11Z\" clip-path=\"url(#clipd6af8fxyplot)\" style=\"vector-effect: non-scaling-stroke; opacity: 1; stroke-width: 0.5px; fill: rgb(105, 105, 105); fill-opacity: 1; stroke: rgb(229, 236, 246); stroke-opacity: 1;\"/><text class=\"bartext bartext-outside\" text-anchor=\"middle\" data-notex=\"1\" x=\"0\" y=\"0\" style=\"font-family: 'Open Sans', verdana, arial, sans-serif; font-size: 12px; fill: rgb(42, 63, 95); fill-opacity: 1; white-space: pre;\" transform=\"translate(50.8125,93.39)\">9.1</text></g><g class=\"point\"><path d=\"M0,67.56V39.11H31.69V67.56Z\" clip-path=\"url(#clipd6af8fxyplot)\" style=\"vector-effect: non-scaling-stroke; opacity: 1; stroke-width: 0.5px; fill: rgb(105, 105, 105); fill-opacity: 1; stroke: rgb(229, 236, 246); stroke-opacity: 1;\"/><text class=\"bartext bartext-outside\" text-anchor=\"middle\" data-notex=\"1\" x=\"0\" y=\"0\" style=\"font-family: 'Open Sans', verdana, arial, sans-serif; font-size: 12px; fill: rgb(42, 63, 95); fill-opacity: 1; white-space: pre;\" transform=\"translate(44.5025,57.835)\">7.6</text></g><g class=\"point\"><path d=\"M0,32V3.56H23.28V32Z\" clip-path=\"url(#clipd6af8fxyplot)\" style=\"vector-effect: non-scaling-stroke; opacity: 1; stroke-width: 0.5px; fill: rgb(105, 105, 105); fill-opacity: 1; stroke: rgb(229, 236, 246); stroke-opacity: 1;\"/><text class=\"bartext bartext-outside\" text-anchor=\"middle\" data-notex=\"1\" x=\"0\" y=\"0\" style=\"font-family: 'Open Sans', verdana, arial, sans-serif; font-size: 12px; fill: rgb(42, 63, 95); fill-opacity: 1; white-space: pre;\" transform=\"translate(36.0925,22.28)\">5.6</text></g></g></g></g></g><g class=\"overplot\"/><path class=\"xlines-above crisp\" d=\"M0,0\" style=\"fill: none;\"/><path class=\"ylines-above crisp\" d=\"M0,0\" style=\"fill: none;\"/><g class=\"overlines-above\"/><g class=\"xaxislayer-above\"><g class=\"xtick\"><text text-anchor=\"middle\" x=\"0\" y=\"433\" transform=\"translate(249,0)\" style=\"font-family: 'Open Sans', verdana, arial, sans-serif; font-size: 12px; fill: rgb(42, 63, 95); fill-opacity: 1; white-space: pre; opacity: 1;\">0</text></g><g class=\"xtick\"><text text-anchor=\"middle\" x=\"0\" y=\"433\" style=\"font-family: 'Open Sans', verdana, arial, sans-serif; font-size: 12px; fill: rgb(42, 63, 95); fill-opacity: 1; white-space: pre; opacity: 1;\" transform=\"translate(332.3,0)\">20</text></g><g class=\"xtick\"><text text-anchor=\"middle\" x=\"0\" y=\"433\" style=\"font-family: 'Open Sans', verdana, arial, sans-serif; font-size: 12px; fill: rgb(42, 63, 95); fill-opacity: 1; white-space: pre; opacity: 1;\" transform=\"translate(415.59000000000003,0)\">40</text></g><g class=\"xtick\"><text text-anchor=\"middle\" x=\"0\" y=\"433\" style=\"font-family: 'Open Sans', verdana, arial, sans-serif; font-size: 12px; fill: rgb(42, 63, 95); fill-opacity: 1; white-space: pre; opacity: 1;\" transform=\"translate(498.89,0)\">60</text></g><g class=\"xtick\"><text text-anchor=\"middle\" x=\"0\" y=\"433\" style=\"font-family: 'Open Sans', verdana, arial, sans-serif; font-size: 12px; fill: rgb(42, 63, 95); fill-opacity: 1; white-space: pre; opacity: 1;\" transform=\"translate(582.1800000000001,0)\">80</text></g><g class=\"xtick\"><text text-anchor=\"middle\" x=\"0\" y=\"433\" style=\"font-family: 'Open Sans', verdana, arial, sans-serif; font-size: 12px; fill: rgb(42, 63, 95); fill-opacity: 1; white-space: pre; opacity: 1;\" transform=\"translate(665.48,0)\">100</text></g><g class=\"xtick\"><text text-anchor=\"middle\" x=\"0\" y=\"433\" style=\"font-family: 'Open Sans', verdana, arial, sans-serif; font-size: 12px; fill: rgb(42, 63, 95); fill-opacity: 1; white-space: pre; opacity: 1;\" transform=\"translate(748.77,0)\">120</text></g></g><g class=\"yaxislayer-above\"><g class=\"ytick\"><text text-anchor=\"end\" x=\"248\" y=\"4.199999999999999\" transform=\"translate(0,402.22)\" style=\"font-family: 'Open Sans', verdana, arial, sans-serif; font-size: 12px; fill: rgb(42, 63, 95); fill-opacity: 1; white-space: pre; opacity: 1;\">столовая</text></g><g class=\"ytick\"><text text-anchor=\"end\" x=\"248\" y=\"4.199999999999999\" transform=\"translate(0,366.67)\" style=\"font-family: 'Open Sans', verdana, arial, sans-serif; font-size: 12px; fill: rgb(42, 63, 95); fill-opacity: 1; white-space: pre; opacity: 1;\">ресторан</text></g><g class=\"ytick\"><text text-anchor=\"end\" x=\"248\" y=\"4.199999999999999\" transform=\"translate(0,331.11)\" style=\"font-family: 'Open Sans', verdana, arial, sans-serif; font-size: 12px; fill: rgb(42, 63, 95); fill-opacity: 1; white-space: pre; opacity: 1;\">буфет</text></g><g class=\"ytick\"><text text-anchor=\"end\" x=\"248\" y=\"4.199999999999999\" transform=\"translate(0,295.56)\" style=\"font-family: 'Open Sans', verdana, arial, sans-serif; font-size: 12px; fill: rgb(42, 63, 95); fill-opacity: 1; white-space: pre; opacity: 1;\">бар</text></g><g class=\"ytick\"><text text-anchor=\"end\" x=\"248\" y=\"4.199999999999999\" transform=\"translate(0,260)\" style=\"font-family: 'Open Sans', verdana, arial, sans-serif; font-size: 12px; fill: rgb(42, 63, 95); fill-opacity: 1; white-space: pre; opacity: 1;\">кафе</text></g><g class=\"ytick\"><text text-anchor=\"end\" x=\"248\" y=\"4.199999999999999\" transform=\"translate(0,224.44)\" style=\"font-family: 'Open Sans', verdana, arial, sans-serif; font-size: 12px; fill: rgb(42, 63, 95); fill-opacity: 1; white-space: pre; opacity: 1;\">предприятие быстрого обслуживания</text></g><g class=\"ytick\"><text text-anchor=\"end\" x=\"248\" y=\"4.199999999999999\" transform=\"translate(0,188.89)\" style=\"font-family: 'Open Sans', verdana, arial, sans-serif; font-size: 12px; fill: rgb(42, 63, 95); fill-opacity: 1; white-space: pre; opacity: 1;\">кафетерий</text></g><g class=\"ytick\"><text text-anchor=\"end\" x=\"248\" y=\"4.199999999999999\" transform=\"translate(0,153.32999999999998)\" style=\"font-family: 'Open Sans', verdana, arial, sans-serif; font-size: 12px; fill: rgb(42, 63, 95); fill-opacity: 1; white-space: pre; opacity: 1;\">закусочная</text></g><g class=\"ytick\"><text text-anchor=\"end\" x=\"248\" y=\"4.199999999999999\" transform=\"translate(0,117.78)\" style=\"font-family: 'Open Sans', verdana, arial, sans-serif; font-size: 12px; fill: rgb(42, 63, 95); fill-opacity: 1; white-space: pre; opacity: 1;\">магазин (отдел кулинарии)</text></g></g><g class=\"overaxes-above\"/></g></g><g class=\"polarlayer\"/><g class=\"smithlayer\"/><g class=\"ternarylayer\"/><g class=\"geolayer\"/><g class=\"funnelarealayer\"/><g class=\"pielayer\"/><g class=\"iciclelayer\"/><g class=\"treemaplayer\"/><g class=\"sunburstlayer\"/><g class=\"glimages\"/><defs id=\"topdefs-d6af8f\"><g class=\"clips\"/></defs><g class=\"layer-above\"><g class=\"imagelayer\"/><g class=\"shapelayer\"/></g><g class=\"infolayer\"><g class=\"g-gtitle\"><text class=\"gtitle\" x=\"45\" y=\"50\" text-anchor=\"start\" dy=\"0em\" style=\"font-family: 'Open Sans', verdana, arial, sans-serif; font-size: 17px; fill: rgb(42, 63, 95); opacity: 1; font-weight: normal; white-space: pre;\">Среднее количество посадочных мест</text></g><g class=\"g-xtitle\"/><g class=\"g-ytitle\"/></g></svg>"
      ]
     },
     "metadata": {},
     "output_type": "display_data"
    }
   ],
   "source": [
    "bar(type_agg_mean, 'object_type', 'number', 'Среднее количество посадочных мест')"
   ]
  },
  {
   "cell_type": "markdown",
   "metadata": {},
   "source": [
    "Рестораны и столовые, в основном, рассчитаны на большое количество посетителей. Буфеты бары и кафе вмещают в среднем около 40 человек, а остальные - не более 20. Сравним среднее значение с медианой"
   ]
  },
  {
   "cell_type": "code",
   "execution_count": 20,
   "metadata": {},
   "outputs": [],
   "source": [
    "type_agg_median = df.groupby('object_type').agg({'number':'median'}).reset_index().sort_values(by='number', ascending=False)"
   ]
  },
  {
   "cell_type": "code",
   "execution_count": 21,
   "metadata": {},
   "outputs": [
    {
     "data": {
      "image/svg+xml": [
       "<svg class=\"main-svg\" xmlns=\"http://www.w3.org/2000/svg\" xmlns:xlink=\"http://www.w3.org/1999/xlink\" width=\"900\" height=\"500\" style=\"\" viewBox=\"0 0 900 500\"><rect x=\"0\" y=\"0\" width=\"900\" height=\"500\" style=\"fill: rgb(255, 255, 255); fill-opacity: 1;\"/><defs id=\"defs-786361\"><g class=\"clips\"><clipPath id=\"clip786361xyplot\" class=\"plotclip\"><rect width=\"571\" height=\"320\"/></clipPath><clipPath class=\"axesclip\" id=\"clip786361x\"><rect x=\"249\" y=\"0\" width=\"571\" height=\"500\"/></clipPath><clipPath class=\"axesclip\" id=\"clip786361y\"><rect x=\"0\" y=\"100\" width=\"900\" height=\"320\"/></clipPath><clipPath class=\"axesclip\" id=\"clip786361xy\"><rect x=\"249\" y=\"100\" width=\"571\" height=\"320\"/></clipPath></g><g class=\"gradients\"/><g class=\"patterns\"/></defs><g class=\"bglayer\"><rect class=\"bg\" x=\"249\" y=\"100\" width=\"571\" height=\"320\" style=\"fill: rgb(229, 236, 246); fill-opacity: 1; stroke-width: 0;\"/></g><g class=\"layer-below\"><g class=\"imagelayer\"/><g class=\"shapelayer\"/></g><g class=\"cartesianlayer\"><g class=\"subplot xy\"><g class=\"layer-subplot\"><g class=\"shapelayer\"/><g class=\"imagelayer\"/></g><g class=\"minor-gridlayer\"><g class=\"x\"/><g class=\"y\"/></g><g class=\"gridlayer\"><g class=\"x\"><path class=\"xgrid crisp\" transform=\"translate(354.33,0)\" d=\"M0,100v320\" style=\"stroke: rgb(255, 255, 255); stroke-opacity: 1; stroke-width: 1px;\"/><path class=\"xgrid crisp\" transform=\"translate(459.65999999999997,0)\" d=\"M0,100v320\" style=\"stroke: rgb(255, 255, 255); stroke-opacity: 1; stroke-width: 1px;\"/><path class=\"xgrid crisp\" transform=\"translate(564.99,0)\" d=\"M0,100v320\" style=\"stroke: rgb(255, 255, 255); stroke-opacity: 1; stroke-width: 1px;\"/><path class=\"xgrid crisp\" transform=\"translate(670.3199999999999,0)\" d=\"M0,100v320\" style=\"stroke: rgb(255, 255, 255); stroke-opacity: 1; stroke-width: 1px;\"/><path class=\"xgrid crisp\" transform=\"translate(775.65,0)\" d=\"M0,100v320\" style=\"stroke: rgb(255, 255, 255); stroke-opacity: 1; stroke-width: 1px;\"/></g><g class=\"y\"/></g><g class=\"zerolinelayer\"><path class=\"xzl zl crisp\" transform=\"translate(249,0)\" d=\"M0,100v320\" style=\"stroke: rgb(255, 255, 255); stroke-opacity: 1; stroke-width: 2px;\"/></g><path class=\"xlines-below\"/><path class=\"ylines-below\"/><g class=\"overlines-below\"/><g class=\"xaxislayer-below\"/><g class=\"yaxislayer-below\"/><g class=\"overaxes-below\"/><g class=\"plot\" transform=\"translate(249,100)\"><g class=\"barlayer mlayer\"><g class=\"trace bars\" style=\"opacity: 1;\"><g class=\"points\"><g class=\"point\"><path d=\"M0,316.44V288H542.45V316.44Z\" clip-path=\"url(#clip786361xyplot)\" style=\"vector-effect: non-scaling-stroke; opacity: 1; stroke-width: 0.5px; fill: rgb(105, 105, 105); fill-opacity: 1; stroke: rgb(229, 236, 246); stroke-opacity: 1;\"/><text class=\"bartext bartext-outside\" text-anchor=\"middle\" data-notex=\"1\" x=\"0\" y=\"0\" style=\"font-family: 'Open Sans', verdana, arial, sans-serif; font-size: 12px; fill: rgb(42, 63, 95); fill-opacity: 1; white-space: pre;\" transform=\"translate(556.903125,306.72)\">100</text></g><g class=\"point\"><path d=\"M0,280.89V252.44H421.32V280.89Z\" clip-path=\"url(#clip786361xyplot)\" style=\"vector-effect: non-scaling-stroke; opacity: 1; stroke-width: 0.5px; fill: rgb(105, 105, 105); fill-opacity: 1; stroke: rgb(229, 236, 246); stroke-opacity: 1;\"/><text class=\"bartext bartext-outside\" text-anchor=\"middle\" data-notex=\"1\" x=\"0\" y=\"0\" style=\"font-family: 'Open Sans', verdana, arial, sans-serif; font-size: 12px; fill: rgb(42, 63, 95); fill-opacity: 1; white-space: pre;\" transform=\"translate(431.960625,271.16499999999996)\">80</text></g><g class=\"point\"><path d=\"M0,245.33V216.89H184.33V245.33Z\" clip-path=\"url(#clip786361xyplot)\" style=\"vector-effect: non-scaling-stroke; opacity: 1; stroke-width: 0.5px; fill: rgb(105, 105, 105); fill-opacity: 1; stroke: rgb(229, 236, 246); stroke-opacity: 1;\"/><text class=\"bartext bartext-outside\" text-anchor=\"middle\" data-notex=\"1\" x=\"0\" y=\"0\" style=\"font-family: 'Open Sans', verdana, arial, sans-serif; font-size: 12px; fill: rgb(42, 63, 95); fill-opacity: 1; white-space: pre;\" transform=\"translate(194.970625,235.61)\">35</text></g><g class=\"point\"><path d=\"M0,209.78V181.33H168.53V209.78Z\" clip-path=\"url(#clip786361xyplot)\" style=\"vector-effect: non-scaling-stroke; opacity: 1; stroke-width: 0.5px; fill: rgb(105, 105, 105); fill-opacity: 1; stroke: rgb(229, 236, 246); stroke-opacity: 1;\"/><text class=\"bartext bartext-outside\" text-anchor=\"middle\" data-notex=\"1\" x=\"0\" y=\"0\" style=\"font-family: 'Open Sans', verdana, arial, sans-serif; font-size: 12px; fill: rgb(42, 63, 95); fill-opacity: 1; white-space: pre;\" transform=\"translate(179.170625,200.055)\">32</text></g><g class=\"point\"><path d=\"M0,174.22V145.78H158V174.22Z\" clip-path=\"url(#clip786361xyplot)\" style=\"vector-effect: non-scaling-stroke; opacity: 1; stroke-width: 0.5px; fill: rgb(105, 105, 105); fill-opacity: 1; stroke: rgb(229, 236, 246); stroke-opacity: 1;\"/><text class=\"bartext bartext-outside\" text-anchor=\"middle\" data-notex=\"1\" x=\"0\" y=\"0\" style=\"font-family: 'Open Sans', verdana, arial, sans-serif; font-size: 12px; fill: rgb(42, 63, 95); fill-opacity: 1; white-space: pre;\" transform=\"translate(168.640625,164.5)\">30</text></g><g class=\"point\"><path d=\"M0,138.67V110.22H31.6V138.67Z\" clip-path=\"url(#clip786361xyplot)\" style=\"vector-effect: non-scaling-stroke; opacity: 1; stroke-width: 0.5px; fill: rgb(105, 105, 105); fill-opacity: 1; stroke: rgb(229, 236, 246); stroke-opacity: 1;\"/><text class=\"bartext bartext-outside\" text-anchor=\"middle\" data-notex=\"1\" x=\"0\" y=\"0\" style=\"font-family: 'Open Sans', verdana, arial, sans-serif; font-size: 12px; fill: rgb(42, 63, 95); fill-opacity: 1; white-space: pre;\" transform=\"translate(44.4125,128.945)\">6.0</text></g><g class=\"point\"><path d=\"M0,103.11V74.67H26.33V103.11Z\" clip-path=\"url(#clip786361xyplot)\" style=\"vector-effect: non-scaling-stroke; opacity: 1; stroke-width: 0.5px; fill: rgb(105, 105, 105); fill-opacity: 1; stroke: rgb(229, 236, 246); stroke-opacity: 1;\"/><text class=\"bartext bartext-outside\" text-anchor=\"middle\" data-notex=\"1\" x=\"0\" y=\"0\" style=\"font-family: 'Open Sans', verdana, arial, sans-serif; font-size: 12px; fill: rgb(42, 63, 95); fill-opacity: 1; white-space: pre;\" transform=\"translate(39.1425,93.39)\">5.0</text></g><g class=\"point\"><path d=\"M0,67.56V39.11H0V67.56Z\" clip-path=\"url(#clip786361xyplot)\" style=\"vector-effect: non-scaling-stroke; opacity: 1; stroke-width: 0.5px; fill: rgb(105, 105, 105); fill-opacity: 1; stroke: rgb(229, 236, 246); stroke-opacity: 1;\"/><text class=\"bartext bartext-outside\" text-anchor=\"middle\" data-notex=\"1\" x=\"0\" y=\"0\" style=\"font-family: 'Open Sans', verdana, arial, sans-serif; font-size: 12px; fill: rgb(42, 63, 95); fill-opacity: 1; white-space: pre;\" transform=\"translate(12.8125,57.835)\">0.0</text></g><g class=\"point\"><path d=\"M0,32V3.56H0V32Z\" clip-path=\"url(#clip786361xyplot)\" style=\"vector-effect: non-scaling-stroke; opacity: 1; stroke-width: 0.5px; fill: rgb(105, 105, 105); fill-opacity: 1; stroke: rgb(229, 236, 246); stroke-opacity: 1;\"/><text class=\"bartext bartext-outside\" text-anchor=\"middle\" data-notex=\"1\" x=\"0\" y=\"0\" style=\"font-family: 'Open Sans', verdana, arial, sans-serif; font-size: 12px; fill: rgb(42, 63, 95); fill-opacity: 1; white-space: pre;\" transform=\"translate(12.8125,22.28)\">0.0</text></g></g></g></g></g><g class=\"overplot\"/><path class=\"xlines-above crisp\" d=\"M0,0\" style=\"fill: none;\"/><path class=\"ylines-above crisp\" d=\"M0,0\" style=\"fill: none;\"/><g class=\"overlines-above\"/><g class=\"xaxislayer-above\"><g class=\"xtick\"><text text-anchor=\"middle\" x=\"0\" y=\"433\" transform=\"translate(249,0)\" style=\"font-family: 'Open Sans', verdana, arial, sans-serif; font-size: 12px; fill: rgb(42, 63, 95); fill-opacity: 1; white-space: pre; opacity: 1;\">0</text></g><g class=\"xtick\"><text text-anchor=\"middle\" x=\"0\" y=\"433\" style=\"font-family: 'Open Sans', verdana, arial, sans-serif; font-size: 12px; fill: rgb(42, 63, 95); fill-opacity: 1; white-space: pre; opacity: 1;\" transform=\"translate(354.33,0)\">20</text></g><g class=\"xtick\"><text text-anchor=\"middle\" x=\"0\" y=\"433\" style=\"font-family: 'Open Sans', verdana, arial, sans-serif; font-size: 12px; fill: rgb(42, 63, 95); fill-opacity: 1; white-space: pre; opacity: 1;\" transform=\"translate(459.65999999999997,0)\">40</text></g><g class=\"xtick\"><text text-anchor=\"middle\" x=\"0\" y=\"433\" style=\"font-family: 'Open Sans', verdana, arial, sans-serif; font-size: 12px; fill: rgb(42, 63, 95); fill-opacity: 1; white-space: pre; opacity: 1;\" transform=\"translate(564.99,0)\">60</text></g><g class=\"xtick\"><text text-anchor=\"middle\" x=\"0\" y=\"433\" style=\"font-family: 'Open Sans', verdana, arial, sans-serif; font-size: 12px; fill: rgb(42, 63, 95); fill-opacity: 1; white-space: pre; opacity: 1;\" transform=\"translate(670.3199999999999,0)\">80</text></g><g class=\"xtick\"><text text-anchor=\"middle\" x=\"0\" y=\"433\" style=\"font-family: 'Open Sans', verdana, arial, sans-serif; font-size: 12px; fill: rgb(42, 63, 95); fill-opacity: 1; white-space: pre; opacity: 1;\" transform=\"translate(775.65,0)\">100</text></g></g><g class=\"yaxislayer-above\"><g class=\"ytick\"><text text-anchor=\"end\" x=\"248\" y=\"4.199999999999999\" transform=\"translate(0,402.22)\" style=\"font-family: 'Open Sans', verdana, arial, sans-serif; font-size: 12px; fill: rgb(42, 63, 95); fill-opacity: 1; white-space: pre; opacity: 1;\">столовая</text></g><g class=\"ytick\"><text text-anchor=\"end\" x=\"248\" y=\"4.199999999999999\" transform=\"translate(0,366.67)\" style=\"font-family: 'Open Sans', verdana, arial, sans-serif; font-size: 12px; fill: rgb(42, 63, 95); fill-opacity: 1; white-space: pre; opacity: 1;\">ресторан</text></g><g class=\"ytick\"><text text-anchor=\"end\" x=\"248\" y=\"4.199999999999999\" transform=\"translate(0,331.11)\" style=\"font-family: 'Open Sans', verdana, arial, sans-serif; font-size: 12px; fill: rgb(42, 63, 95); fill-opacity: 1; white-space: pre; opacity: 1;\">бар</text></g><g class=\"ytick\"><text text-anchor=\"end\" x=\"248\" y=\"4.199999999999999\" transform=\"translate(0,295.56)\" style=\"font-family: 'Open Sans', verdana, arial, sans-serif; font-size: 12px; fill: rgb(42, 63, 95); fill-opacity: 1; white-space: pre; opacity: 1;\">буфет</text></g><g class=\"ytick\"><text text-anchor=\"end\" x=\"248\" y=\"4.199999999999999\" transform=\"translate(0,260)\" style=\"font-family: 'Open Sans', verdana, arial, sans-serif; font-size: 12px; fill: rgb(42, 63, 95); fill-opacity: 1; white-space: pre; opacity: 1;\">кафе</text></g><g class=\"ytick\"><text text-anchor=\"end\" x=\"248\" y=\"4.199999999999999\" transform=\"translate(0,224.44)\" style=\"font-family: 'Open Sans', verdana, arial, sans-serif; font-size: 12px; fill: rgb(42, 63, 95); fill-opacity: 1; white-space: pre; opacity: 1;\">кафетерий</text></g><g class=\"ytick\"><text text-anchor=\"end\" x=\"248\" y=\"4.199999999999999\" transform=\"translate(0,188.89)\" style=\"font-family: 'Open Sans', verdana, arial, sans-serif; font-size: 12px; fill: rgb(42, 63, 95); fill-opacity: 1; white-space: pre; opacity: 1;\">предприятие быстрого обслуживания</text></g><g class=\"ytick\"><text text-anchor=\"end\" x=\"248\" y=\"4.199999999999999\" transform=\"translate(0,153.32999999999998)\" style=\"font-family: 'Open Sans', verdana, arial, sans-serif; font-size: 12px; fill: rgb(42, 63, 95); fill-opacity: 1; white-space: pre; opacity: 1;\">закусочная</text></g><g class=\"ytick\"><text text-anchor=\"end\" x=\"248\" y=\"4.199999999999999\" transform=\"translate(0,117.78)\" style=\"font-family: 'Open Sans', verdana, arial, sans-serif; font-size: 12px; fill: rgb(42, 63, 95); fill-opacity: 1; white-space: pre; opacity: 1;\">магазин (отдел кулинарии)</text></g></g><g class=\"overaxes-above\"/></g></g><g class=\"polarlayer\"/><g class=\"smithlayer\"/><g class=\"ternarylayer\"/><g class=\"geolayer\"/><g class=\"funnelarealayer\"/><g class=\"pielayer\"/><g class=\"iciclelayer\"/><g class=\"treemaplayer\"/><g class=\"sunburstlayer\"/><g class=\"glimages\"/><defs id=\"topdefs-786361\"><g class=\"clips\"/></defs><g class=\"layer-above\"><g class=\"imagelayer\"/><g class=\"shapelayer\"/></g><g class=\"infolayer\"><g class=\"g-gtitle\"><text class=\"gtitle\" x=\"45\" y=\"50\" text-anchor=\"start\" dy=\"0em\" style=\"font-family: 'Open Sans', verdana, arial, sans-serif; font-size: 17px; fill: rgb(42, 63, 95); opacity: 1; font-weight: normal; white-space: pre;\">Медиана количества посадочных мест</text></g><g class=\"g-xtitle\"/><g class=\"g-ytitle\"/></g></svg>"
      ]
     },
     "metadata": {},
     "output_type": "display_data"
    }
   ],
   "source": [
    "bar(type_agg_median, 'object_type', 'number', 'Медиана количества посадочных мест')"
   ]
  },
  {
   "cell_type": "markdown",
   "metadata": {},
   "source": [
    "График показывает, что средние значения гораздо больше медиан. Так, 50% столовых вмещает до 100 человек, ресторанов - до 80, а баров, буфетов и кафе 30-35 человек"
   ]
  },
  {
   "cell_type": "markdown",
   "metadata": {},
   "source": [
    "## Топ-10 улиц по количеству объектов общественного питания"
   ]
  },
  {
   "cell_type": "markdown",
   "metadata": {},
   "source": [
    "Выделим в отдельный столбец информацию об улице из столбца address ."
   ]
  },
  {
   "cell_type": "code",
   "execution_count": 22,
   "metadata": {},
   "outputs": [],
   "source": [
    "def street(val):\n",
    "    val = val.split(', ')\n",
    "    for i in val:\n",
    "        for j in [\n",
    "            'проезд', 'проспект', 'переулок', 'улица', 'бульвар', 'шоссе', 'площадь', 'аллея', 'набережная', 'Зеленоград', 'Акулово',\n",
    "            'линия', 'квартал', 'микрорайон', 'поселение', 'тупик', 'километр', 'территория', 'просек'\n",
    "        ]:\n",
    "            \n",
    "            if j in i: return i"
   ]
  },
  {
   "cell_type": "code",
   "execution_count": 23,
   "metadata": {},
   "outputs": [],
   "source": [
    "df['street'] = df['address'].apply(street)"
   ]
  },
  {
   "cell_type": "code",
   "execution_count": 24,
   "metadata": {},
   "outputs": [
    {
     "data": {
      "text/plain": [
       "0"
      ]
     },
     "execution_count": 24,
     "metadata": {},
     "output_type": "execute_result"
    }
   ],
   "source": [
    "df['street'].isna().sum()"
   ]
  },
  {
   "cell_type": "markdown",
   "metadata": {},
   "source": [
    "Рассмотрим на каких улицах размещено большее количество заведений и к каким районам они относятся"
   ]
  },
  {
   "cell_type": "code",
   "execution_count": 25,
   "metadata": {},
   "outputs": [
    {
     "data": {
      "text/html": [
       "<div>\n",
       "<style scoped>\n",
       "    .dataframe tbody tr th:only-of-type {\n",
       "        vertical-align: middle;\n",
       "    }\n",
       "\n",
       "    .dataframe tbody tr th {\n",
       "        vertical-align: top;\n",
       "    }\n",
       "\n",
       "    .dataframe thead th {\n",
       "        text-align: right;\n",
       "    }\n",
       "</style>\n",
       "<table border=\"1\" class=\"dataframe\">\n",
       "  <thead>\n",
       "    <tr style=\"text-align: right;\">\n",
       "      <th></th>\n",
       "      <th>street</th>\n",
       "      <th>id</th>\n",
       "    </tr>\n",
       "  </thead>\n",
       "  <tbody>\n",
       "    <tr>\n",
       "      <th>0</th>\n",
       "      <td>город Зеленоград</td>\n",
       "      <td>232</td>\n",
       "    </tr>\n",
       "    <tr>\n",
       "      <th>1</th>\n",
       "      <td>проспект Мира</td>\n",
       "      <td>204</td>\n",
       "    </tr>\n",
       "    <tr>\n",
       "      <th>2</th>\n",
       "      <td>Профсоюзная улица</td>\n",
       "      <td>183</td>\n",
       "    </tr>\n",
       "    <tr>\n",
       "      <th>3</th>\n",
       "      <td>Ленинградский проспект</td>\n",
       "      <td>173</td>\n",
       "    </tr>\n",
       "    <tr>\n",
       "      <th>4</th>\n",
       "      <td>Пресненская набережная</td>\n",
       "      <td>167</td>\n",
       "    </tr>\n",
       "    <tr>\n",
       "      <th>5</th>\n",
       "      <td>Варшавское шоссе</td>\n",
       "      <td>164</td>\n",
       "    </tr>\n",
       "    <tr>\n",
       "      <th>6</th>\n",
       "      <td>Ленинский проспект</td>\n",
       "      <td>148</td>\n",
       "    </tr>\n",
       "    <tr>\n",
       "      <th>7</th>\n",
       "      <td>поселение Сосенское</td>\n",
       "      <td>139</td>\n",
       "    </tr>\n",
       "    <tr>\n",
       "      <th>8</th>\n",
       "      <td>проспект Вернадского</td>\n",
       "      <td>132</td>\n",
       "    </tr>\n",
       "    <tr>\n",
       "      <th>9</th>\n",
       "      <td>Кутузовский проспект</td>\n",
       "      <td>114</td>\n",
       "    </tr>\n",
       "  </tbody>\n",
       "</table>\n",
       "</div>"
      ],
      "text/plain": [
       "                   street   id\n",
       "0        город Зеленоград  232\n",
       "1           проспект Мира  204\n",
       "2       Профсоюзная улица  183\n",
       "3  Ленинградский проспект  173\n",
       "4  Пресненская набережная  167\n",
       "5        Варшавское шоссе  164\n",
       "6      Ленинский проспект  148\n",
       "7     поселение Сосенское  139\n",
       "8    проспект Вернадского  132\n",
       "9    Кутузовский проспект  114"
      ]
     },
     "execution_count": 25,
     "metadata": {},
     "output_type": "execute_result"
    }
   ],
   "source": [
    "street_grouped = df.groupby('street').agg({'id':'count'}).sort_values(by='id', ascending=False).reset_index()\n",
    "top_street = street_grouped.loc[:9]\n",
    "top_street"
   ]
  },
  {
   "cell_type": "code",
   "execution_count": 26,
   "metadata": {},
   "outputs": [
    {
     "data": {
      "image/svg+xml": [
       "<svg class=\"main-svg\" xmlns=\"http://www.w3.org/2000/svg\" xmlns:xlink=\"http://www.w3.org/1999/xlink\" width=\"900\" height=\"500\" style=\"\" viewBox=\"0 0 900 500\"><rect x=\"0\" y=\"0\" width=\"900\" height=\"500\" style=\"fill: rgb(255, 255, 255); fill-opacity: 1;\"/><defs id=\"defs-78fec4\"><g class=\"clips\"><clipPath id=\"clip78fec4xyplot\" class=\"plotclip\"><rect width=\"647\" height=\"320\"/></clipPath><clipPath class=\"axesclip\" id=\"clip78fec4x\"><rect x=\"173\" y=\"0\" width=\"647\" height=\"500\"/></clipPath><clipPath class=\"axesclip\" id=\"clip78fec4y\"><rect x=\"0\" y=\"100\" width=\"900\" height=\"320\"/></clipPath><clipPath class=\"axesclip\" id=\"clip78fec4xy\"><rect x=\"173\" y=\"100\" width=\"647\" height=\"320\"/></clipPath></g><g class=\"gradients\"/><g class=\"patterns\"/></defs><g class=\"bglayer\"><rect class=\"bg\" x=\"173\" y=\"100\" width=\"647\" height=\"320\" style=\"fill: rgb(229, 236, 246); fill-opacity: 1; stroke-width: 0;\"/></g><g class=\"layer-below\"><g class=\"imagelayer\"/><g class=\"shapelayer\"/></g><g class=\"cartesianlayer\"><g class=\"subplot xy\"><g class=\"layer-subplot\"><g class=\"shapelayer\"/><g class=\"imagelayer\"/></g><g class=\"minor-gridlayer\"><g class=\"x\"/><g class=\"y\"/></g><g class=\"gridlayer\"><g class=\"x\"><path class=\"xgrid crisp\" transform=\"translate(305.47,0)\" d=\"M0,100v320\" style=\"stroke: rgb(255, 255, 255); stroke-opacity: 1; stroke-width: 1px;\"/><path class=\"xgrid crisp\" transform=\"translate(437.94,0)\" d=\"M0,100v320\" style=\"stroke: rgb(255, 255, 255); stroke-opacity: 1; stroke-width: 1px;\"/><path class=\"xgrid crisp\" transform=\"translate(570.4,0)\" d=\"M0,100v320\" style=\"stroke: rgb(255, 255, 255); stroke-opacity: 1; stroke-width: 1px;\"/><path class=\"xgrid crisp\" transform=\"translate(702.87,0)\" d=\"M0,100v320\" style=\"stroke: rgb(255, 255, 255); stroke-opacity: 1; stroke-width: 1px;\"/></g><g class=\"y\"/></g><g class=\"zerolinelayer\"><path class=\"xzl zl crisp\" transform=\"translate(173,0)\" d=\"M0,100v320\" style=\"stroke: rgb(255, 255, 255); stroke-opacity: 1; stroke-width: 2px;\"/></g><path class=\"xlines-below\"/><path class=\"ylines-below\"/><g class=\"overlines-below\"/><g class=\"xaxislayer-below\"/><g class=\"yaxislayer-below\"/><g class=\"overaxes-below\"/><g class=\"plot\" transform=\"translate(173,100)\"><g class=\"barlayer mlayer\"><g class=\"trace bars\" style=\"opacity: 1;\"><g class=\"points\"><g class=\"point\"><path d=\"M0,316.8V291.2H614.65V316.8Z\" clip-path=\"url(#clip78fec4xyplot)\" style=\"vector-effect: non-scaling-stroke; opacity: 1; stroke-width: 0.5px; fill: rgb(105, 105, 105); fill-opacity: 1; stroke: rgb(229, 236, 246); stroke-opacity: 1;\"/><text class=\"bartext bartext-outside\" text-anchor=\"middle\" data-notex=\"1\" x=\"0\" y=\"0\" style=\"font-family: 'Open Sans', verdana, arial, sans-serif; font-size: 12px; fill: rgb(42, 63, 95); fill-opacity: 1; white-space: pre;\" transform=\"translate(629.103125,308.5)\">230</text></g><g class=\"point\"><path d=\"M0,284.8V259.2H540.47V284.8Z\" clip-path=\"url(#clip78fec4xyplot)\" style=\"vector-effect: non-scaling-stroke; opacity: 1; stroke-width: 0.5px; fill: rgb(105, 105, 105); fill-opacity: 1; stroke: rgb(229, 236, 246); stroke-opacity: 1;\"/><text class=\"bartext bartext-outside\" text-anchor=\"middle\" data-notex=\"1\" x=\"0\" y=\"0\" style=\"font-family: 'Open Sans', verdana, arial, sans-serif; font-size: 12px; fill: rgb(42, 63, 95); fill-opacity: 1; white-space: pre;\" transform=\"translate(554.923125,276.5)\">200</text></g><g class=\"point\"><path d=\"M0,252.8V227.2H484.83V252.8Z\" clip-path=\"url(#clip78fec4xyplot)\" style=\"vector-effect: non-scaling-stroke; opacity: 1; stroke-width: 0.5px; fill: rgb(105, 105, 105); fill-opacity: 1; stroke: rgb(229, 236, 246); stroke-opacity: 1;\"/><text class=\"bartext bartext-outside\" text-anchor=\"middle\" data-notex=\"1\" x=\"0\" y=\"0\" style=\"font-family: 'Open Sans', verdana, arial, sans-serif; font-size: 12px; fill: rgb(42, 63, 95); fill-opacity: 1; white-space: pre;\" transform=\"translate(499.283125,244.5)\">180</text></g><g class=\"point\"><path d=\"M0,220.8V195.2H458.34V220.8Z\" clip-path=\"url(#clip78fec4xyplot)\" style=\"vector-effect: non-scaling-stroke; opacity: 1; stroke-width: 0.5px; fill: rgb(105, 105, 105); fill-opacity: 1; stroke: rgb(229, 236, 246); stroke-opacity: 1;\"/><text class=\"bartext bartext-outside\" text-anchor=\"middle\" data-notex=\"1\" x=\"0\" y=\"0\" style=\"font-family: 'Open Sans', verdana, arial, sans-serif; font-size: 12px; fill: rgb(42, 63, 95); fill-opacity: 1; white-space: pre;\" transform=\"translate(472.793125,212.5)\">170</text></g><g class=\"point\"><path d=\"M0,188.8V163.2H442.44V188.8Z\" clip-path=\"url(#clip78fec4xyplot)\" style=\"vector-effect: non-scaling-stroke; opacity: 1; stroke-width: 0.5px; fill: rgb(105, 105, 105); fill-opacity: 1; stroke: rgb(229, 236, 246); stroke-opacity: 1;\"/><text class=\"bartext bartext-outside\" text-anchor=\"middle\" data-notex=\"1\" x=\"0\" y=\"0\" style=\"font-family: 'Open Sans', verdana, arial, sans-serif; font-size: 12px; fill: rgb(42, 63, 95); fill-opacity: 1; white-space: pre;\" transform=\"translate(456.893125,180.5)\">170</text></g><g class=\"point\"><path d=\"M0,156.8V131.2H434.49V156.8Z\" clip-path=\"url(#clip78fec4xyplot)\" style=\"vector-effect: non-scaling-stroke; opacity: 1; stroke-width: 0.5px; fill: rgb(105, 105, 105); fill-opacity: 1; stroke: rgb(229, 236, 246); stroke-opacity: 1;\"/><text class=\"bartext bartext-outside\" text-anchor=\"middle\" data-notex=\"1\" x=\"0\" y=\"0\" style=\"font-family: 'Open Sans', verdana, arial, sans-serif; font-size: 12px; fill: rgb(42, 63, 95); fill-opacity: 1; white-space: pre;\" transform=\"translate(448.943125,148.5)\">160</text></g><g class=\"point\"><path d=\"M0,124.8V99.2H392.1V124.8Z\" clip-path=\"url(#clip78fec4xyplot)\" style=\"vector-effect: non-scaling-stroke; opacity: 1; stroke-width: 0.5px; fill: rgb(105, 105, 105); fill-opacity: 1; stroke: rgb(229, 236, 246); stroke-opacity: 1;\"/><text class=\"bartext bartext-outside\" text-anchor=\"middle\" data-notex=\"1\" x=\"0\" y=\"0\" style=\"font-family: 'Open Sans', verdana, arial, sans-serif; font-size: 12px; fill: rgb(42, 63, 95); fill-opacity: 1; white-space: pre;\" transform=\"translate(406.553125,116.5)\">150</text></g><g class=\"point\"><path d=\"M0,92.8V67.2H368.26V92.8Z\" clip-path=\"url(#clip78fec4xyplot)\" style=\"vector-effect: non-scaling-stroke; opacity: 1; stroke-width: 0.5px; fill: rgb(105, 105, 105); fill-opacity: 1; stroke: rgb(229, 236, 246); stroke-opacity: 1;\"/><text class=\"bartext bartext-outside\" text-anchor=\"middle\" data-notex=\"1\" x=\"0\" y=\"0\" style=\"font-family: 'Open Sans', verdana, arial, sans-serif; font-size: 12px; fill: rgb(42, 63, 95); fill-opacity: 1; white-space: pre;\" transform=\"translate(382.713125,84.5)\">140</text></g><g class=\"point\"><path d=\"M0,60.8V35.2H349.71V60.8Z\" clip-path=\"url(#clip78fec4xyplot)\" style=\"vector-effect: non-scaling-stroke; opacity: 1; stroke-width: 0.5px; fill: rgb(105, 105, 105); fill-opacity: 1; stroke: rgb(229, 236, 246); stroke-opacity: 1;\"/><text class=\"bartext bartext-outside\" text-anchor=\"middle\" data-notex=\"1\" x=\"0\" y=\"0\" style=\"font-family: 'Open Sans', verdana, arial, sans-serif; font-size: 12px; fill: rgb(42, 63, 95); fill-opacity: 1; white-space: pre;\" transform=\"translate(364.163125,52.5)\">130</text></g><g class=\"point\"><path d=\"M0,28.8V3.2H302.03V28.8Z\" clip-path=\"url(#clip78fec4xyplot)\" style=\"vector-effect: non-scaling-stroke; opacity: 1; stroke-width: 0.5px; fill: rgb(105, 105, 105); fill-opacity: 1; stroke: rgb(229, 236, 246); stroke-opacity: 1;\"/><text class=\"bartext bartext-outside\" text-anchor=\"middle\" data-notex=\"1\" x=\"0\" y=\"0\" style=\"font-family: 'Open Sans', verdana, arial, sans-serif; font-size: 12px; fill: rgb(42, 63, 95); fill-opacity: 1; white-space: pre;\" transform=\"translate(316.483125,20.5)\">110</text></g></g></g></g></g><g class=\"overplot\"/><path class=\"xlines-above crisp\" d=\"M0,0\" style=\"fill: none;\"/><path class=\"ylines-above crisp\" d=\"M0,0\" style=\"fill: none;\"/><g class=\"overlines-above\"/><g class=\"xaxislayer-above\"><g class=\"xtick\"><text text-anchor=\"middle\" x=\"0\" y=\"433\" transform=\"translate(173,0)\" style=\"font-family: 'Open Sans', verdana, arial, sans-serif; font-size: 12px; fill: rgb(42, 63, 95); fill-opacity: 1; white-space: pre; opacity: 1;\">0</text></g><g class=\"xtick\"><text text-anchor=\"middle\" x=\"0\" y=\"433\" style=\"font-family: 'Open Sans', verdana, arial, sans-serif; font-size: 12px; fill: rgb(42, 63, 95); fill-opacity: 1; white-space: pre; opacity: 1;\" transform=\"translate(305.47,0)\">50</text></g><g class=\"xtick\"><text text-anchor=\"middle\" x=\"0\" y=\"433\" style=\"font-family: 'Open Sans', verdana, arial, sans-serif; font-size: 12px; fill: rgb(42, 63, 95); fill-opacity: 1; white-space: pre; opacity: 1;\" transform=\"translate(437.94,0)\">100</text></g><g class=\"xtick\"><text text-anchor=\"middle\" x=\"0\" y=\"433\" style=\"font-family: 'Open Sans', verdana, arial, sans-serif; font-size: 12px; fill: rgb(42, 63, 95); fill-opacity: 1; white-space: pre; opacity: 1;\" transform=\"translate(570.4,0)\">150</text></g><g class=\"xtick\"><text text-anchor=\"middle\" x=\"0\" y=\"433\" style=\"font-family: 'Open Sans', verdana, arial, sans-serif; font-size: 12px; fill: rgb(42, 63, 95); fill-opacity: 1; white-space: pre; opacity: 1;\" transform=\"translate(702.87,0)\">200</text></g></g><g class=\"yaxislayer-above\"><g class=\"ytick\"><text text-anchor=\"end\" x=\"172\" y=\"4.199999999999999\" transform=\"translate(0,404)\" style=\"font-family: 'Open Sans', verdana, arial, sans-serif; font-size: 12px; fill: rgb(42, 63, 95); fill-opacity: 1; white-space: pre; opacity: 1;\">город Зеленоград</text></g><g class=\"ytick\"><text text-anchor=\"end\" x=\"172\" y=\"4.199999999999999\" transform=\"translate(0,372)\" style=\"font-family: 'Open Sans', verdana, arial, sans-serif; font-size: 12px; fill: rgb(42, 63, 95); fill-opacity: 1; white-space: pre; opacity: 1;\">проспект Мира</text></g><g class=\"ytick\"><text text-anchor=\"end\" x=\"172\" y=\"4.199999999999999\" transform=\"translate(0,340)\" style=\"font-family: 'Open Sans', verdana, arial, sans-serif; font-size: 12px; fill: rgb(42, 63, 95); fill-opacity: 1; white-space: pre; opacity: 1;\">Профсоюзная улица</text></g><g class=\"ytick\"><text text-anchor=\"end\" x=\"172\" y=\"4.199999999999999\" transform=\"translate(0,308)\" style=\"font-family: 'Open Sans', verdana, arial, sans-serif; font-size: 12px; fill: rgb(42, 63, 95); fill-opacity: 1; white-space: pre; opacity: 1;\">Ленинградский проспект</text></g><g class=\"ytick\"><text text-anchor=\"end\" x=\"172\" y=\"4.199999999999999\" transform=\"translate(0,276)\" style=\"font-family: 'Open Sans', verdana, arial, sans-serif; font-size: 12px; fill: rgb(42, 63, 95); fill-opacity: 1; white-space: pre; opacity: 1;\">Пресненская набережная</text></g><g class=\"ytick\"><text text-anchor=\"end\" x=\"172\" y=\"4.199999999999999\" transform=\"translate(0,244)\" style=\"font-family: 'Open Sans', verdana, arial, sans-serif; font-size: 12px; fill: rgb(42, 63, 95); fill-opacity: 1; white-space: pre; opacity: 1;\">Варшавское шоссе</text></g><g class=\"ytick\"><text text-anchor=\"end\" x=\"172\" y=\"4.199999999999999\" transform=\"translate(0,212)\" style=\"font-family: 'Open Sans', verdana, arial, sans-serif; font-size: 12px; fill: rgb(42, 63, 95); fill-opacity: 1; white-space: pre; opacity: 1;\">Ленинский проспект</text></g><g class=\"ytick\"><text text-anchor=\"end\" x=\"172\" y=\"4.199999999999999\" transform=\"translate(0,180)\" style=\"font-family: 'Open Sans', verdana, arial, sans-serif; font-size: 12px; fill: rgb(42, 63, 95); fill-opacity: 1; white-space: pre; opacity: 1;\">поселение Сосенское</text></g><g class=\"ytick\"><text text-anchor=\"end\" x=\"172\" y=\"4.199999999999999\" transform=\"translate(0,148)\" style=\"font-family: 'Open Sans', verdana, arial, sans-serif; font-size: 12px; fill: rgb(42, 63, 95); fill-opacity: 1; white-space: pre; opacity: 1;\">проспект Вернадского</text></g><g class=\"ytick\"><text text-anchor=\"end\" x=\"172\" y=\"4.199999999999999\" transform=\"translate(0,116)\" style=\"font-family: 'Open Sans', verdana, arial, sans-serif; font-size: 12px; fill: rgb(42, 63, 95); fill-opacity: 1; white-space: pre; opacity: 1;\">Кутузовский проспект</text></g></g><g class=\"overaxes-above\"/></g></g><g class=\"polarlayer\"/><g class=\"smithlayer\"/><g class=\"ternarylayer\"/><g class=\"geolayer\"/><g class=\"funnelarealayer\"/><g class=\"pielayer\"/><g class=\"iciclelayer\"/><g class=\"treemaplayer\"/><g class=\"sunburstlayer\"/><g class=\"glimages\"/><defs id=\"topdefs-78fec4\"><g class=\"clips\"/></defs><g class=\"layer-above\"><g class=\"imagelayer\"/><g class=\"shapelayer\"/></g><g class=\"infolayer\"><g class=\"g-gtitle\"><text class=\"gtitle\" x=\"45\" y=\"50\" text-anchor=\"start\" dy=\"0em\" style=\"font-family: 'Open Sans', verdana, arial, sans-serif; font-size: 17px; fill: rgb(42, 63, 95); opacity: 1; font-weight: normal; white-space: pre;\">Количество заведений по улицам</text></g><g class=\"g-xtitle\"/><g class=\"g-ytitle\"/></g></svg>"
      ]
     },
     "metadata": {},
     "output_type": "display_data"
    }
   ],
   "source": [
    "bar(top_street, 'street', 'id', 'Количество заведений по улицам')"
   ]
  },
  {
   "cell_type": "code",
   "execution_count": 27,
   "metadata": {},
   "outputs": [
    {
     "data": {
      "text/html": [
       "<div>\n",
       "<style scoped>\n",
       "    .dataframe tbody tr th:only-of-type {\n",
       "        vertical-align: middle;\n",
       "    }\n",
       "\n",
       "    .dataframe tbody tr th {\n",
       "        vertical-align: top;\n",
       "    }\n",
       "\n",
       "    .dataframe thead th {\n",
       "        text-align: right;\n",
       "    }\n",
       "</style>\n",
       "<table border=\"1\" class=\"dataframe\">\n",
       "  <thead>\n",
       "    <tr style=\"text-align: right;\">\n",
       "      <th></th>\n",
       "      <th>streetname</th>\n",
       "      <th>areaid</th>\n",
       "      <th>okrug</th>\n",
       "      <th>area</th>\n",
       "    </tr>\n",
       "  </thead>\n",
       "  <tbody>\n",
       "    <tr>\n",
       "      <th>0</th>\n",
       "      <td>Выставочный переулок</td>\n",
       "      <td>17</td>\n",
       "      <td>ЦАО</td>\n",
       "      <td>Пресненский район</td>\n",
       "    </tr>\n",
       "    <tr>\n",
       "      <th>1</th>\n",
       "      <td>улица Гашека</td>\n",
       "      <td>17</td>\n",
       "      <td>ЦАО</td>\n",
       "      <td>Пресненский район</td>\n",
       "    </tr>\n",
       "    <tr>\n",
       "      <th>2</th>\n",
       "      <td>Большая Никитская улица</td>\n",
       "      <td>17</td>\n",
       "      <td>ЦАО</td>\n",
       "      <td>Пресненский район</td>\n",
       "    </tr>\n",
       "    <tr>\n",
       "      <th>3</th>\n",
       "      <td>Глубокий переулок</td>\n",
       "      <td>17</td>\n",
       "      <td>ЦАО</td>\n",
       "      <td>Пресненский район</td>\n",
       "    </tr>\n",
       "    <tr>\n",
       "      <th>4</th>\n",
       "      <td>Большой Гнездниковский переулок</td>\n",
       "      <td>17</td>\n",
       "      <td>ЦАО</td>\n",
       "      <td>Пресненский район</td>\n",
       "    </tr>\n",
       "    <tr>\n",
       "      <th>...</th>\n",
       "      <td>...</td>\n",
       "      <td>...</td>\n",
       "      <td>...</td>\n",
       "      <td>...</td>\n",
       "    </tr>\n",
       "    <tr>\n",
       "      <th>4393</th>\n",
       "      <td>Вознесенский проезд</td>\n",
       "      <td>17</td>\n",
       "      <td>ЦАО</td>\n",
       "      <td>Пресненский район</td>\n",
       "    </tr>\n",
       "    <tr>\n",
       "      <th>4394</th>\n",
       "      <td>Волков переулок</td>\n",
       "      <td>17</td>\n",
       "      <td>ЦАО</td>\n",
       "      <td>Пресненский район</td>\n",
       "    </tr>\n",
       "    <tr>\n",
       "      <th>4395</th>\n",
       "      <td>Поварская улица</td>\n",
       "      <td>17</td>\n",
       "      <td>ЦАО</td>\n",
       "      <td>Пресненский район</td>\n",
       "    </tr>\n",
       "    <tr>\n",
       "      <th>4396</th>\n",
       "      <td>Кудринская площадь</td>\n",
       "      <td>17</td>\n",
       "      <td>ЦАО</td>\n",
       "      <td>Пресненский район</td>\n",
       "    </tr>\n",
       "    <tr>\n",
       "      <th>4397</th>\n",
       "      <td>Вспольный переулок</td>\n",
       "      <td>17</td>\n",
       "      <td>ЦАО</td>\n",
       "      <td>Пресненский район</td>\n",
       "    </tr>\n",
       "  </tbody>\n",
       "</table>\n",
       "<p>4398 rows × 4 columns</p>\n",
       "</div>"
      ],
      "text/plain": [
       "                           streetname  areaid okrug               area\n",
       "0                Выставочный переулок      17   ЦАО  Пресненский район\n",
       "1                        улица Гашека      17   ЦАО  Пресненский район\n",
       "2             Большая Никитская улица      17   ЦАО  Пресненский район\n",
       "3                   Глубокий переулок      17   ЦАО  Пресненский район\n",
       "4     Большой Гнездниковский переулок      17   ЦАО  Пресненский район\n",
       "...                               ...     ...   ...                ...\n",
       "4393              Вознесенский проезд      17   ЦАО  Пресненский район\n",
       "4394                  Волков переулок      17   ЦАО  Пресненский район\n",
       "4395                  Поварская улица      17   ЦАО  Пресненский район\n",
       "4396               Кудринская площадь      17   ЦАО  Пресненский район\n",
       "4397               Вспольный переулок      17   ЦАО  Пресненский район\n",
       "\n",
       "[4398 rows x 4 columns]"
      ]
     },
     "execution_count": 27,
     "metadata": {},
     "output_type": "execute_result"
    }
   ],
   "source": [
    "from io import BytesIO\n",
    "import requests\n",
    "\n",
    "spreadsheet_id = '17frKTPpvsw-eu_W1D4kJ3idt4k1eMf3DBYxpslxVINs'\n",
    "file_name = 'https://docs.google.com/spreadsheets/d/{}/export?format=csv'.format(spreadsheet_id)\n",
    "\n",
    "\n",
    "r = requests.get(file_name)\n",
    "moscow_streets = pd.read_csv(BytesIO(r.content))\n",
    "moscow_streets"
   ]
  },
  {
   "cell_type": "code",
   "execution_count": 28,
   "metadata": {},
   "outputs": [],
   "source": [
    "moscow_streets = moscow_streets.rename(columns={'streetname': 'street'})\n",
    "moscow_streets['street'] = moscow_streets['street'].str.strip()"
   ]
  },
  {
   "cell_type": "code",
   "execution_count": 29,
   "metadata": {},
   "outputs": [
    {
     "data": {
      "text/html": [
       "<div>\n",
       "<style scoped>\n",
       "    .dataframe tbody tr th:only-of-type {\n",
       "        vertical-align: middle;\n",
       "    }\n",
       "\n",
       "    .dataframe tbody tr th {\n",
       "        vertical-align: top;\n",
       "    }\n",
       "\n",
       "    .dataframe thead th {\n",
       "        text-align: right;\n",
       "    }\n",
       "</style>\n",
       "<table border=\"1\" class=\"dataframe\">\n",
       "  <thead>\n",
       "    <tr style=\"text-align: right;\">\n",
       "      <th></th>\n",
       "      <th></th>\n",
       "      <th>id</th>\n",
       "    </tr>\n",
       "    <tr>\n",
       "      <th>street</th>\n",
       "      <th>area</th>\n",
       "      <th></th>\n",
       "    </tr>\n",
       "  </thead>\n",
       "  <tbody>\n",
       "    <tr>\n",
       "      <th rowspan=\"3\" valign=\"top\">город Зеленоград</th>\n",
       "      <th>Панфиловский район</th>\n",
       "      <td>232</td>\n",
       "    </tr>\n",
       "    <tr>\n",
       "      <th>Район Матушкино-Савелки</th>\n",
       "      <td>232</td>\n",
       "    </tr>\n",
       "    <tr>\n",
       "      <th>Район Крюково</th>\n",
       "      <td>232</td>\n",
       "    </tr>\n",
       "    <tr>\n",
       "      <th rowspan=\"7\" valign=\"top\">проспект Мира</th>\n",
       "      <th>Ярославский Район</th>\n",
       "      <td>204</td>\n",
       "    </tr>\n",
       "    <tr>\n",
       "      <th>Район Свиблово</th>\n",
       "      <td>204</td>\n",
       "    </tr>\n",
       "    <tr>\n",
       "      <th>Район Ростокино</th>\n",
       "      <td>204</td>\n",
       "    </tr>\n",
       "    <tr>\n",
       "      <th>Район Марьина роща</th>\n",
       "      <td>204</td>\n",
       "    </tr>\n",
       "    <tr>\n",
       "      <th>Останкинский район</th>\n",
       "      <td>204</td>\n",
       "    </tr>\n",
       "    <tr>\n",
       "      <th>Мещанский район</th>\n",
       "      <td>204</td>\n",
       "    </tr>\n",
       "    <tr>\n",
       "      <th>Алексеевский район</th>\n",
       "      <td>204</td>\n",
       "    </tr>\n",
       "    <tr>\n",
       "      <th rowspan=\"6\" valign=\"top\">Профсоюзная улица</th>\n",
       "      <th>Район Коньково</th>\n",
       "      <td>183</td>\n",
       "    </tr>\n",
       "    <tr>\n",
       "      <th>Район Теплый Стан</th>\n",
       "      <td>183</td>\n",
       "    </tr>\n",
       "    <tr>\n",
       "      <th>Район Черемушки</th>\n",
       "      <td>183</td>\n",
       "    </tr>\n",
       "    <tr>\n",
       "      <th>Район Ясенево</th>\n",
       "      <td>183</td>\n",
       "    </tr>\n",
       "    <tr>\n",
       "      <th>Обручевский район</th>\n",
       "      <td>183</td>\n",
       "    </tr>\n",
       "    <tr>\n",
       "      <th>Академический район</th>\n",
       "      <td>183</td>\n",
       "    </tr>\n",
       "    <tr>\n",
       "      <th rowspan=\"4\" valign=\"top\">Ленинградский проспект</th>\n",
       "      <th>Хорошевский район</th>\n",
       "      <td>173</td>\n",
       "    </tr>\n",
       "    <tr>\n",
       "      <th>Район Сокол</th>\n",
       "      <td>173</td>\n",
       "    </tr>\n",
       "    <tr>\n",
       "      <th>Район Беговой</th>\n",
       "      <td>173</td>\n",
       "    </tr>\n",
       "    <tr>\n",
       "      <th>Район Аэропорт</th>\n",
       "      <td>173</td>\n",
       "    </tr>\n",
       "    <tr>\n",
       "      <th>Пресненская набережная</th>\n",
       "      <th>Пресненский район</th>\n",
       "      <td>167</td>\n",
       "    </tr>\n",
       "    <tr>\n",
       "      <th rowspan=\"8\" valign=\"top\">Варшавское шоссе</th>\n",
       "      <th>Донской район</th>\n",
       "      <td>164</td>\n",
       "    </tr>\n",
       "    <tr>\n",
       "      <th>Нагорный район</th>\n",
       "      <td>164</td>\n",
       "    </tr>\n",
       "    <tr>\n",
       "      <th>Район Нагатино-Садовники</th>\n",
       "      <td>164</td>\n",
       "    </tr>\n",
       "    <tr>\n",
       "      <th>Район Северное Бутово</th>\n",
       "      <td>164</td>\n",
       "    </tr>\n",
       "    <tr>\n",
       "      <th>Район Чертаново Северное</th>\n",
       "      <td>164</td>\n",
       "    </tr>\n",
       "    <tr>\n",
       "      <th>Район Чертаново Центральное</th>\n",
       "      <td>164</td>\n",
       "    </tr>\n",
       "    <tr>\n",
       "      <th>Район Чертаново Южное</th>\n",
       "      <td>164</td>\n",
       "    </tr>\n",
       "    <tr>\n",
       "      <th>Район Южное Бутово</th>\n",
       "      <td>164</td>\n",
       "    </tr>\n",
       "    <tr>\n",
       "      <th rowspan=\"8\" valign=\"top\">Ленинский проспект</th>\n",
       "      <th>Район Якиманка</th>\n",
       "      <td>148</td>\n",
       "    </tr>\n",
       "    <tr>\n",
       "      <th>Донской район</th>\n",
       "      <td>148</td>\n",
       "    </tr>\n",
       "    <tr>\n",
       "      <th>Ломоносовский район</th>\n",
       "      <td>148</td>\n",
       "    </tr>\n",
       "    <tr>\n",
       "      <th>Обручевский район</th>\n",
       "      <td>148</td>\n",
       "    </tr>\n",
       "    <tr>\n",
       "      <th>Район Гагаринский</th>\n",
       "      <td>148</td>\n",
       "    </tr>\n",
       "    <tr>\n",
       "      <th>Район Проспект Вернадского</th>\n",
       "      <td>148</td>\n",
       "    </tr>\n",
       "    <tr>\n",
       "      <th>Район Теплый Стан</th>\n",
       "      <td>148</td>\n",
       "    </tr>\n",
       "    <tr>\n",
       "      <th>Район Тропарево-Никулино</th>\n",
       "      <td>148</td>\n",
       "    </tr>\n",
       "    <tr>\n",
       "      <th rowspan=\"5\" valign=\"top\">проспект Вернадского</th>\n",
       "      <th>Район Гагаринский</th>\n",
       "      <td>132</td>\n",
       "    </tr>\n",
       "    <tr>\n",
       "      <th>Район Проспект Вернадского</th>\n",
       "      <td>132</td>\n",
       "    </tr>\n",
       "    <tr>\n",
       "      <th>Район Раменки</th>\n",
       "      <td>132</td>\n",
       "    </tr>\n",
       "    <tr>\n",
       "      <th>Район Тропарево-Никулино</th>\n",
       "      <td>132</td>\n",
       "    </tr>\n",
       "    <tr>\n",
       "      <th>Ломоносовский район</th>\n",
       "      <td>132</td>\n",
       "    </tr>\n",
       "    <tr>\n",
       "      <th rowspan=\"2\" valign=\"top\">Кутузовский проспект</th>\n",
       "      <th>Район Фили-Давыдково</th>\n",
       "      <td>114</td>\n",
       "    </tr>\n",
       "    <tr>\n",
       "      <th>Район Дорогомилово</th>\n",
       "      <td>114</td>\n",
       "    </tr>\n",
       "  </tbody>\n",
       "</table>\n",
       "</div>"
      ],
      "text/plain": [
       "                                                     id\n",
       "street                 area                            \n",
       "город Зеленоград       Панфиловский район           232\n",
       "                       Район Матушкино-Савелки      232\n",
       "                       Район Крюково                232\n",
       "проспект Мира          Ярославский Район            204\n",
       "                       Район Свиблово               204\n",
       "                       Район Ростокино              204\n",
       "                       Район Марьина роща           204\n",
       "                       Останкинский район           204\n",
       "                       Мещанский район              204\n",
       "                       Алексеевский район           204\n",
       "Профсоюзная улица      Район Коньково               183\n",
       "                       Район Теплый Стан            183\n",
       "                       Район Черемушки              183\n",
       "                       Район Ясенево                183\n",
       "                       Обручевский район            183\n",
       "                       Академический район          183\n",
       "Ленинградский проспект Хорошевский район            173\n",
       "                       Район Сокол                  173\n",
       "                       Район Беговой                173\n",
       "                       Район Аэропорт               173\n",
       "Пресненская набережная Пресненский район            167\n",
       "Варшавское шоссе       Донской район                164\n",
       "                       Нагорный район               164\n",
       "                       Район Нагатино-Садовники     164\n",
       "                       Район Северное Бутово        164\n",
       "                       Район Чертаново Северное     164\n",
       "                       Район Чертаново Центральное  164\n",
       "                       Район Чертаново Южное        164\n",
       "                       Район Южное Бутово           164\n",
       "Ленинский проспект     Район Якиманка               148\n",
       "                       Донской район                148\n",
       "                       Ломоносовский район          148\n",
       "                       Обручевский район            148\n",
       "                       Район Гагаринский            148\n",
       "                       Район Проспект Вернадского   148\n",
       "                       Район Теплый Стан            148\n",
       "                       Район Тропарево-Никулино     148\n",
       "проспект Вернадского   Район Гагаринский            132\n",
       "                       Район Проспект Вернадского   132\n",
       "                       Район Раменки                132\n",
       "                       Район Тропарево-Никулино     132\n",
       "                       Ломоносовский район          132\n",
       "Кутузовский проспект   Район Фили-Давыдково         114\n",
       "                       Район Дорогомилово           114"
      ]
     },
     "execution_count": 29,
     "metadata": {},
     "output_type": "execute_result"
    }
   ],
   "source": [
    "top_street.merge(moscow_streets, on='street', how='left').groupby(['street', 'area']).agg({'id': 'first'}).sort_values(by='id', ascending=False)"
   ]
  },
  {
   "cell_type": "markdown",
   "metadata": {},
   "source": [
    "Наибольшее количество заведений в Зеленограде и на улицах, пересекающих несколько районов Москвы. Найдем число улиц с одним объектом общественного питания и рассмотрим в каких районах они находятся"
   ]
  },
  {
   "cell_type": "code",
   "execution_count": 30,
   "metadata": {},
   "outputs": [
    {
     "data": {
      "text/html": [
       "<div>\n",
       "<style scoped>\n",
       "    .dataframe tbody tr th:only-of-type {\n",
       "        vertical-align: middle;\n",
       "    }\n",
       "\n",
       "    .dataframe tbody tr th {\n",
       "        vertical-align: top;\n",
       "    }\n",
       "\n",
       "    .dataframe thead th {\n",
       "        text-align: right;\n",
       "    }\n",
       "</style>\n",
       "<table border=\"1\" class=\"dataframe\">\n",
       "  <thead>\n",
       "    <tr style=\"text-align: right;\">\n",
       "      <th></th>\n",
       "      <th>area</th>\n",
       "      <th>street</th>\n",
       "    </tr>\n",
       "  </thead>\n",
       "  <tbody>\n",
       "    <tr>\n",
       "      <th>0</th>\n",
       "      <td>Таганский район</td>\n",
       "      <td>27</td>\n",
       "    </tr>\n",
       "    <tr>\n",
       "      <th>1</th>\n",
       "      <td>Район Хамовники</td>\n",
       "      <td>26</td>\n",
       "    </tr>\n",
       "    <tr>\n",
       "      <th>2</th>\n",
       "      <td>Басманный район</td>\n",
       "      <td>25</td>\n",
       "    </tr>\n",
       "    <tr>\n",
       "      <th>3</th>\n",
       "      <td>Пресненский район</td>\n",
       "      <td>20</td>\n",
       "    </tr>\n",
       "    <tr>\n",
       "      <th>4</th>\n",
       "      <td>Тверской район</td>\n",
       "      <td>20</td>\n",
       "    </tr>\n",
       "    <tr>\n",
       "      <th>5</th>\n",
       "      <td>Район Арбат</td>\n",
       "      <td>18</td>\n",
       "    </tr>\n",
       "    <tr>\n",
       "      <th>6</th>\n",
       "      <td>Район Марьина роща</td>\n",
       "      <td>18</td>\n",
       "    </tr>\n",
       "    <tr>\n",
       "      <th>7</th>\n",
       "      <td>Мещанский район</td>\n",
       "      <td>15</td>\n",
       "    </tr>\n",
       "    <tr>\n",
       "      <th>8</th>\n",
       "      <td>Район Сокольники</td>\n",
       "      <td>15</td>\n",
       "    </tr>\n",
       "    <tr>\n",
       "      <th>9</th>\n",
       "      <td>Район Замоскворечье</td>\n",
       "      <td>14</td>\n",
       "    </tr>\n",
       "  </tbody>\n",
       "</table>\n",
       "</div>"
      ],
      "text/plain": [
       "                  area  street\n",
       "0      Таганский район      27\n",
       "1      Район Хамовники      26\n",
       "2      Басманный район      25\n",
       "3    Пресненский район      20\n",
       "4       Тверской район      20\n",
       "5          Район Арбат      18\n",
       "6   Район Марьина роща      18\n",
       "7      Мещанский район      15\n",
       "8     Район Сокольники      15\n",
       "9  Район Замоскворечье      14"
      ]
     },
     "execution_count": 30,
     "metadata": {},
     "output_type": "execute_result"
    }
   ],
   "source": [
    "one_object = street_grouped.query('id == 1').merge(moscow_streets, on='street', how='left').groupby(['area']).agg({'street': 'count'}).sort_values(by='street', ascending=False).reset_index().head(10)\n",
    "one_object"
   ]
  },
  {
   "cell_type": "code",
   "execution_count": 31,
   "metadata": {},
   "outputs": [
    {
     "data": {
      "image/svg+xml": [
       "<svg class=\"main-svg\" xmlns=\"http://www.w3.org/2000/svg\" xmlns:xlink=\"http://www.w3.org/1999/xlink\" width=\"900\" height=\"500\" style=\"\" viewBox=\"0 0 900 500\"><rect x=\"0\" y=\"0\" width=\"900\" height=\"500\" style=\"fill: rgb(255, 255, 255); fill-opacity: 1;\"/><defs id=\"defs-62603d\"><g class=\"clips\"><clipPath id=\"clip62603dxyplot\" class=\"plotclip\"><rect width=\"672\" height=\"320\"/></clipPath><clipPath class=\"axesclip\" id=\"clip62603dx\"><rect x=\"148\" y=\"0\" width=\"672\" height=\"500\"/></clipPath><clipPath class=\"axesclip\" id=\"clip62603dy\"><rect x=\"0\" y=\"100\" width=\"900\" height=\"320\"/></clipPath><clipPath class=\"axesclip\" id=\"clip62603dxy\"><rect x=\"148\" y=\"100\" width=\"672\" height=\"320\"/></clipPath></g><g class=\"gradients\"/><g class=\"patterns\"/></defs><g class=\"bglayer\"><rect class=\"bg\" x=\"148\" y=\"100\" width=\"672\" height=\"320\" style=\"fill: rgb(229, 236, 246); fill-opacity: 1; stroke-width: 0;\"/></g><g class=\"layer-below\"><g class=\"imagelayer\"/><g class=\"shapelayer\"/></g><g class=\"cartesianlayer\"><g class=\"subplot xy\"><g class=\"layer-subplot\"><g class=\"shapelayer\"/><g class=\"imagelayer\"/></g><g class=\"minor-gridlayer\"><g class=\"x\"/><g class=\"y\"/></g><g class=\"gridlayer\"><g class=\"x\"><path class=\"xgrid crisp\" transform=\"translate(266.22,0)\" d=\"M0,100v320\" style=\"stroke: rgb(255, 255, 255); stroke-opacity: 1; stroke-width: 1px;\"/><path class=\"xgrid crisp\" transform=\"translate(384.44,0)\" d=\"M0,100v320\" style=\"stroke: rgb(255, 255, 255); stroke-opacity: 1; stroke-width: 1px;\"/><path class=\"xgrid crisp\" transform=\"translate(502.67,0)\" d=\"M0,100v320\" style=\"stroke: rgb(255, 255, 255); stroke-opacity: 1; stroke-width: 1px;\"/><path class=\"xgrid crisp\" transform=\"translate(620.89,0)\" d=\"M0,100v320\" style=\"stroke: rgb(255, 255, 255); stroke-opacity: 1; stroke-width: 1px;\"/><path class=\"xgrid crisp\" transform=\"translate(739.11,0)\" d=\"M0,100v320\" style=\"stroke: rgb(255, 255, 255); stroke-opacity: 1; stroke-width: 1px;\"/></g><g class=\"y\"/></g><g class=\"zerolinelayer\"><path class=\"xzl zl crisp\" transform=\"translate(148,0)\" d=\"M0,100v320\" style=\"stroke: rgb(255, 255, 255); stroke-opacity: 1; stroke-width: 2px;\"/></g><path class=\"xlines-below\"/><path class=\"ylines-below\"/><g class=\"overlines-below\"/><g class=\"xaxislayer-below\"/><g class=\"yaxislayer-below\"/><g class=\"overaxes-below\"/><g class=\"plot\" transform=\"translate(148,100)\"><g class=\"barlayer mlayer\"><g class=\"trace bars\" style=\"opacity: 1;\"><g class=\"points\"><g class=\"point\"><path d=\"M0,316.8V291.2H638.4V316.8Z\" clip-path=\"url(#clip62603dxyplot)\" style=\"vector-effect: non-scaling-stroke; opacity: 1; stroke-width: 0.5px; fill: rgb(105, 105, 105); fill-opacity: 1; stroke: rgb(229, 236, 246); stroke-opacity: 1;\"/><text class=\"bartext bartext-outside\" text-anchor=\"middle\" data-notex=\"1\" x=\"0\" y=\"0\" style=\"font-family: 'Open Sans', verdana, arial, sans-serif; font-size: 12px; fill: rgb(42, 63, 95); fill-opacity: 1; white-space: pre;\" transform=\"translate(649.040625,308.5)\">27</text></g><g class=\"point\"><path d=\"M0,284.8V259.2H614.76V284.8Z\" clip-path=\"url(#clip62603dxyplot)\" style=\"vector-effect: non-scaling-stroke; opacity: 1; stroke-width: 0.5px; fill: rgb(105, 105, 105); fill-opacity: 1; stroke: rgb(229, 236, 246); stroke-opacity: 1;\"/><text class=\"bartext bartext-outside\" text-anchor=\"middle\" data-notex=\"1\" x=\"0\" y=\"0\" style=\"font-family: 'Open Sans', verdana, arial, sans-serif; font-size: 12px; fill: rgb(42, 63, 95); fill-opacity: 1; white-space: pre;\" transform=\"translate(625.400625,276.5)\">26</text></g><g class=\"point\"><path d=\"M0,252.8V227.2H591.11V252.8Z\" clip-path=\"url(#clip62603dxyplot)\" style=\"vector-effect: non-scaling-stroke; opacity: 1; stroke-width: 0.5px; fill: rgb(105, 105, 105); fill-opacity: 1; stroke: rgb(229, 236, 246); stroke-opacity: 1;\"/><text class=\"bartext bartext-outside\" text-anchor=\"middle\" data-notex=\"1\" x=\"0\" y=\"0\" style=\"font-family: 'Open Sans', verdana, arial, sans-serif; font-size: 12px; fill: rgb(42, 63, 95); fill-opacity: 1; white-space: pre;\" transform=\"translate(601.750625,244.5)\">25</text></g><g class=\"point\"><path d=\"M0,220.8V195.2H472.89V220.8Z\" clip-path=\"url(#clip62603dxyplot)\" style=\"vector-effect: non-scaling-stroke; opacity: 1; stroke-width: 0.5px; fill: rgb(105, 105, 105); fill-opacity: 1; stroke: rgb(229, 236, 246); stroke-opacity: 1;\"/><text class=\"bartext bartext-outside\" text-anchor=\"middle\" data-notex=\"1\" x=\"0\" y=\"0\" style=\"font-family: 'Open Sans', verdana, arial, sans-serif; font-size: 12px; fill: rgb(42, 63, 95); fill-opacity: 1; white-space: pre;\" transform=\"translate(483.530625,212.5)\">20</text></g><g class=\"point\"><path d=\"M0,188.8V163.2H472.89V188.8Z\" clip-path=\"url(#clip62603dxyplot)\" style=\"vector-effect: non-scaling-stroke; opacity: 1; stroke-width: 0.5px; fill: rgb(105, 105, 105); fill-opacity: 1; stroke: rgb(229, 236, 246); stroke-opacity: 1;\"/><text class=\"bartext bartext-outside\" text-anchor=\"middle\" data-notex=\"1\" x=\"0\" y=\"0\" style=\"font-family: 'Open Sans', verdana, arial, sans-serif; font-size: 12px; fill: rgb(42, 63, 95); fill-opacity: 1; white-space: pre;\" transform=\"translate(483.530625,180.5)\">20</text></g><g class=\"point\"><path d=\"M0,156.8V131.2H425.6V156.8Z\" clip-path=\"url(#clip62603dxyplot)\" style=\"vector-effect: non-scaling-stroke; opacity: 1; stroke-width: 0.5px; fill: rgb(105, 105, 105); fill-opacity: 1; stroke: rgb(229, 236, 246); stroke-opacity: 1;\"/><text class=\"bartext bartext-outside\" text-anchor=\"middle\" data-notex=\"1\" x=\"0\" y=\"0\" style=\"font-family: 'Open Sans', verdana, arial, sans-serif; font-size: 12px; fill: rgb(42, 63, 95); fill-opacity: 1; white-space: pre;\" transform=\"translate(436.240625,148.5)\">18</text></g><g class=\"point\"><path d=\"M0,124.8V99.2H425.6V124.8Z\" clip-path=\"url(#clip62603dxyplot)\" style=\"vector-effect: non-scaling-stroke; opacity: 1; stroke-width: 0.5px; fill: rgb(105, 105, 105); fill-opacity: 1; stroke: rgb(229, 236, 246); stroke-opacity: 1;\"/><text class=\"bartext bartext-outside\" text-anchor=\"middle\" data-notex=\"1\" x=\"0\" y=\"0\" style=\"font-family: 'Open Sans', verdana, arial, sans-serif; font-size: 12px; fill: rgb(42, 63, 95); fill-opacity: 1; white-space: pre;\" transform=\"translate(436.240625,116.5)\">18</text></g><g class=\"point\"><path d=\"M0,92.8V67.2H354.67V92.8Z\" clip-path=\"url(#clip62603dxyplot)\" style=\"vector-effect: non-scaling-stroke; opacity: 1; stroke-width: 0.5px; fill: rgb(105, 105, 105); fill-opacity: 1; stroke: rgb(229, 236, 246); stroke-opacity: 1;\"/><text class=\"bartext bartext-outside\" text-anchor=\"middle\" data-notex=\"1\" x=\"0\" y=\"0\" style=\"font-family: 'Open Sans', verdana, arial, sans-serif; font-size: 12px; fill: rgb(42, 63, 95); fill-opacity: 1; white-space: pre;\" transform=\"translate(365.310625,84.5)\">15</text></g><g class=\"point\"><path d=\"M0,60.8V35.2H354.67V60.8Z\" clip-path=\"url(#clip62603dxyplot)\" style=\"vector-effect: non-scaling-stroke; opacity: 1; stroke-width: 0.5px; fill: rgb(105, 105, 105); fill-opacity: 1; stroke: rgb(229, 236, 246); stroke-opacity: 1;\"/><text class=\"bartext bartext-outside\" text-anchor=\"middle\" data-notex=\"1\" x=\"0\" y=\"0\" style=\"font-family: 'Open Sans', verdana, arial, sans-serif; font-size: 12px; fill: rgb(42, 63, 95); fill-opacity: 1; white-space: pre;\" transform=\"translate(365.310625,52.5)\">15</text></g><g class=\"point\"><path d=\"M0,28.8V3.2H331.02V28.8Z\" clip-path=\"url(#clip62603dxyplot)\" style=\"vector-effect: non-scaling-stroke; opacity: 1; stroke-width: 0.5px; fill: rgb(105, 105, 105); fill-opacity: 1; stroke: rgb(229, 236, 246); stroke-opacity: 1;\"/><text class=\"bartext bartext-outside\" text-anchor=\"middle\" data-notex=\"1\" x=\"0\" y=\"0\" style=\"font-family: 'Open Sans', verdana, arial, sans-serif; font-size: 12px; fill: rgb(42, 63, 95); fill-opacity: 1; white-space: pre;\" transform=\"translate(341.660625,20.5)\">14</text></g></g></g></g></g><g class=\"overplot\"/><path class=\"xlines-above crisp\" d=\"M0,0\" style=\"fill: none;\"/><path class=\"ylines-above crisp\" d=\"M0,0\" style=\"fill: none;\"/><g class=\"overlines-above\"/><g class=\"xaxislayer-above\"><g class=\"xtick\"><text text-anchor=\"middle\" x=\"0\" y=\"433\" transform=\"translate(148,0)\" style=\"font-family: 'Open Sans', verdana, arial, sans-serif; font-size: 12px; fill: rgb(42, 63, 95); fill-opacity: 1; white-space: pre; opacity: 1;\">0</text></g><g class=\"xtick\"><text text-anchor=\"middle\" x=\"0\" y=\"433\" style=\"font-family: 'Open Sans', verdana, arial, sans-serif; font-size: 12px; fill: rgb(42, 63, 95); fill-opacity: 1; white-space: pre; opacity: 1;\" transform=\"translate(266.22,0)\">5</text></g><g class=\"xtick\"><text text-anchor=\"middle\" x=\"0\" y=\"433\" style=\"font-family: 'Open Sans', verdana, arial, sans-serif; font-size: 12px; fill: rgb(42, 63, 95); fill-opacity: 1; white-space: pre; opacity: 1;\" transform=\"translate(384.44,0)\">10</text></g><g class=\"xtick\"><text text-anchor=\"middle\" x=\"0\" y=\"433\" style=\"font-family: 'Open Sans', verdana, arial, sans-serif; font-size: 12px; fill: rgb(42, 63, 95); fill-opacity: 1; white-space: pre; opacity: 1;\" transform=\"translate(502.67,0)\">15</text></g><g class=\"xtick\"><text text-anchor=\"middle\" x=\"0\" y=\"433\" style=\"font-family: 'Open Sans', verdana, arial, sans-serif; font-size: 12px; fill: rgb(42, 63, 95); fill-opacity: 1; white-space: pre; opacity: 1;\" transform=\"translate(620.89,0)\">20</text></g><g class=\"xtick\"><text text-anchor=\"middle\" x=\"0\" y=\"433\" style=\"font-family: 'Open Sans', verdana, arial, sans-serif; font-size: 12px; fill: rgb(42, 63, 95); fill-opacity: 1; white-space: pre; opacity: 1;\" transform=\"translate(739.11,0)\">25</text></g></g><g class=\"yaxislayer-above\"><g class=\"ytick\"><text text-anchor=\"end\" x=\"147\" y=\"4.199999999999999\" transform=\"translate(0,404)\" style=\"font-family: 'Open Sans', verdana, arial, sans-serif; font-size: 12px; fill: rgb(42, 63, 95); fill-opacity: 1; white-space: pre; opacity: 1;\">Таганский район</text></g><g class=\"ytick\"><text text-anchor=\"end\" x=\"147\" y=\"4.199999999999999\" transform=\"translate(0,372)\" style=\"font-family: 'Open Sans', verdana, arial, sans-serif; font-size: 12px; fill: rgb(42, 63, 95); fill-opacity: 1; white-space: pre; opacity: 1;\">Район Хамовники</text></g><g class=\"ytick\"><text text-anchor=\"end\" x=\"147\" y=\"4.199999999999999\" transform=\"translate(0,340)\" style=\"font-family: 'Open Sans', verdana, arial, sans-serif; font-size: 12px; fill: rgb(42, 63, 95); fill-opacity: 1; white-space: pre; opacity: 1;\">Басманный район</text></g><g class=\"ytick\"><text text-anchor=\"end\" x=\"147\" y=\"4.199999999999999\" transform=\"translate(0,308)\" style=\"font-family: 'Open Sans', verdana, arial, sans-serif; font-size: 12px; fill: rgb(42, 63, 95); fill-opacity: 1; white-space: pre; opacity: 1;\">Пресненский район</text></g><g class=\"ytick\"><text text-anchor=\"end\" x=\"147\" y=\"4.199999999999999\" transform=\"translate(0,276)\" style=\"font-family: 'Open Sans', verdana, arial, sans-serif; font-size: 12px; fill: rgb(42, 63, 95); fill-opacity: 1; white-space: pre; opacity: 1;\">Тверской район</text></g><g class=\"ytick\"><text text-anchor=\"end\" x=\"147\" y=\"4.199999999999999\" transform=\"translate(0,244)\" style=\"font-family: 'Open Sans', verdana, arial, sans-serif; font-size: 12px; fill: rgb(42, 63, 95); fill-opacity: 1; white-space: pre; opacity: 1;\">Район Арбат</text></g><g class=\"ytick\"><text text-anchor=\"end\" x=\"147\" y=\"4.199999999999999\" transform=\"translate(0,212)\" style=\"font-family: 'Open Sans', verdana, arial, sans-serif; font-size: 12px; fill: rgb(42, 63, 95); fill-opacity: 1; white-space: pre; opacity: 1;\">Район Марьина роща</text></g><g class=\"ytick\"><text text-anchor=\"end\" x=\"147\" y=\"4.199999999999999\" transform=\"translate(0,180)\" style=\"font-family: 'Open Sans', verdana, arial, sans-serif; font-size: 12px; fill: rgb(42, 63, 95); fill-opacity: 1; white-space: pre; opacity: 1;\">Мещанский район</text></g><g class=\"ytick\"><text text-anchor=\"end\" x=\"147\" y=\"4.199999999999999\" transform=\"translate(0,148)\" style=\"font-family: 'Open Sans', verdana, arial, sans-serif; font-size: 12px; fill: rgb(42, 63, 95); fill-opacity: 1; white-space: pre; opacity: 1;\">Район Сокольники</text></g><g class=\"ytick\"><text text-anchor=\"end\" x=\"147\" y=\"4.199999999999999\" transform=\"translate(0,116)\" style=\"font-family: 'Open Sans', verdana, arial, sans-serif; font-size: 12px; fill: rgb(42, 63, 95); fill-opacity: 1; white-space: pre; opacity: 1;\">Район Замоскворечье</text></g></g><g class=\"overaxes-above\"/></g></g><g class=\"polarlayer\"/><g class=\"smithlayer\"/><g class=\"ternarylayer\"/><g class=\"geolayer\"/><g class=\"funnelarealayer\"/><g class=\"pielayer\"/><g class=\"iciclelayer\"/><g class=\"treemaplayer\"/><g class=\"sunburstlayer\"/><g class=\"glimages\"/><defs id=\"topdefs-62603d\"><g class=\"clips\"/></defs><g class=\"layer-above\"><g class=\"imagelayer\"/><g class=\"shapelayer\"/></g><g class=\"infolayer\"><g class=\"g-gtitle\"><text class=\"gtitle\" x=\"45\" y=\"50\" text-anchor=\"start\" dy=\"0em\" style=\"font-family: 'Open Sans', verdana, arial, sans-serif; font-size: 17px; fill: rgb(42, 63, 95); opacity: 1; font-weight: normal; white-space: pre;\">Количество улиц с одним заведением</text></g><g class=\"g-xtitle\"/><g class=\"g-ytitle\"/></g></svg>"
      ]
     },
     "metadata": {},
     "output_type": "display_data"
    }
   ],
   "source": [
    "bar(one_object, 'area', 'street', 'Количество улиц с одним заведением')"
   ]
  },
  {
   "cell_type": "markdown",
   "metadata": {},
   "source": [
    "## Распределение количества посадочных мест для улиц с большим количеством объектов общественного питания\n"
   ]
  },
  {
   "cell_type": "code",
   "execution_count": 32,
   "metadata": {},
   "outputs": [],
   "source": [
    "top = top_street['street']\n",
    "frame = df.query('street in @top')"
   ]
  },
  {
   "cell_type": "code",
   "execution_count": 33,
   "metadata": {},
   "outputs": [
    {
     "data": {
      "image/png": "[encoded data removed]",
      "text/plain": [
       "<Figure size 864x504 with 1 Axes>"
      ]
     },
     "metadata": {
      "needs_background": "light"
     },
     "output_type": "display_data"
    }
   ],
   "source": [
    "plt.subplots(figsize=(12, 7))\n",
    "\n",
    "plt.xlim(0, 300)\n",
    "sns.boxplot(y='street', x='number', showfliers=False, data=frame) \n",
    "plt.ylabel(None)\n",
    "plt.xlabel(None)\n",
    "plt.show()\n"
   ]
  },
  {
   "cell_type": "markdown",
   "metadata": {},
   "source": [
    "Распределение показывает, что для улиц с больши количеством объектов общественного питания характерны небольшие заведения, вместимостью около 50 посетителей."
   ]
  },
  {
   "cell_type": "markdown",
   "metadata": {},
   "source": [
    "##  Вывод"
   ]
  },
  {
   "cell_type": "markdown",
   "metadata": {},
   "source": [
    "На основе проведенного исследования можно сделать вывод, что целесобразно открыть небольшое кафе или бистро, вместимостью до 50 человек. Стоит рассматривать те районы, где улицы не перенасыщены объектами общественного питания. Когда заведение становится сетевым - это закономерный путь развития, потому что каждое последующее заведение усиливает брэнд в целом и создает в сознании людей некий привычный образ. Потребители привыкли доверять проверенным брэндам, особенно это касается питания. Если одно заведение найдет отклик у посетителей, можно рассматривать открытие небольшой сети."
   ]
  }
 ],
 "metadata": {
  "ExecuteTimeLog": [
   {
    "duration": 616,
    "start_time": "2022-02-21T06:13:02.741Z"
   },
   {
    "duration": 53,
    "start_time": "2022-02-21T06:13:29.294Z"
   },
   {
    "duration": 11,
    "start_time": "2022-02-21T06:13:45.040Z"
   },
   {
    "duration": 18,
    "start_time": "2022-02-21T06:44:04.287Z"
   },
   {
    "duration": 14,
    "start_time": "2022-02-21T06:44:13.159Z"
   },
   {
    "duration": 16,
    "start_time": "2022-02-21T07:03:08.624Z"
   },
   {
    "duration": 1353,
    "start_time": "2022-02-21T07:03:15.824Z"
   },
   {
    "duration": 8,
    "start_time": "2022-02-21T07:03:21.696Z"
   },
   {
    "duration": 109,
    "start_time": "2022-02-21T07:03:46.016Z"
   },
   {
    "duration": 96,
    "start_time": "2022-02-21T07:03:57.963Z"
   },
   {
    "duration": 71,
    "start_time": "2022-02-21T07:04:06.945Z"
   },
   {
    "duration": 5,
    "start_time": "2022-02-21T07:04:08.120Z"
   },
   {
    "duration": 5,
    "start_time": "2022-02-21T07:04:15.351Z"
   },
   {
    "duration": 4,
    "start_time": "2022-02-21T07:04:16.702Z"
   },
   {
    "duration": 7,
    "start_time": "2022-02-21T07:04:57.386Z"
   },
   {
    "duration": 5,
    "start_time": "2022-02-21T07:05:21.147Z"
   },
   {
    "duration": 4,
    "start_time": "2022-02-21T07:05:30.748Z"
   },
   {
    "duration": 4,
    "start_time": "2022-02-21T07:05:42.619Z"
   },
   {
    "duration": 286,
    "start_time": "2022-02-21T07:05:55.227Z"
   },
   {
    "duration": 9,
    "start_time": "2022-02-21T07:08:11.970Z"
   },
   {
    "duration": 7,
    "start_time": "2022-02-21T07:08:13.168Z"
   },
   {
    "duration": 2,
    "start_time": "2022-02-21T07:09:25.938Z"
   },
   {
    "duration": 169,
    "start_time": "2022-02-21T07:09:57.610Z"
   },
   {
    "duration": 199,
    "start_time": "2022-02-21T07:10:45.364Z"
   },
   {
    "duration": 284,
    "start_time": "2022-02-21T07:11:13.948Z"
   },
   {
    "duration": 253,
    "start_time": "2022-02-21T07:11:23.164Z"
   },
   {
    "duration": 278,
    "start_time": "2022-02-21T07:12:10.158Z"
   },
   {
    "duration": 266,
    "start_time": "2022-02-21T07:12:32.438Z"
   },
   {
    "duration": 288,
    "start_time": "2022-02-21T07:13:02.750Z"
   },
   {
    "duration": 254,
    "start_time": "2022-02-21T07:13:11.874Z"
   },
   {
    "duration": 9,
    "start_time": "2022-02-21T07:13:55.625Z"
   },
   {
    "duration": 9,
    "start_time": "2022-02-21T07:13:57.248Z"
   },
   {
    "duration": 10,
    "start_time": "2022-02-21T07:14:09.618Z"
   },
   {
    "duration": 8,
    "start_time": "2022-02-21T07:14:10.793Z"
   },
   {
    "duration": 247,
    "start_time": "2022-02-21T07:14:12.499Z"
   },
   {
    "duration": 9,
    "start_time": "2022-02-21T07:30:21.703Z"
   },
   {
    "duration": 470,
    "start_time": "2022-02-21T07:43:47.090Z"
   },
   {
    "duration": 918,
    "start_time": "2022-02-21T07:48:03.545Z"
   },
   {
    "duration": 2,
    "start_time": "2022-02-21T07:51:41.486Z"
   },
   {
    "duration": 54,
    "start_time": "2022-02-21T07:51:41.511Z"
   },
   {
    "duration": 8,
    "start_time": "2022-02-21T07:51:41.586Z"
   },
   {
    "duration": 14,
    "start_time": "2022-02-21T07:51:41.607Z"
   },
   {
    "duration": 14,
    "start_time": "2022-02-21T07:51:41.666Z"
   },
   {
    "duration": 7,
    "start_time": "2022-02-21T07:51:41.963Z"
   },
   {
    "duration": 277,
    "start_time": "2022-02-21T07:51:42.318Z"
   },
   {
    "duration": 404,
    "start_time": "2022-02-21T07:51:42.597Z"
   },
   {
    "duration": 379,
    "start_time": "2022-02-21T09:05:11.503Z"
   },
   {
    "duration": 570,
    "start_time": "2022-02-21T09:06:35.811Z"
   },
   {
    "duration": 421,
    "start_time": "2022-02-21T09:06:48.504Z"
   },
   {
    "duration": 203,
    "start_time": "2022-02-21T09:09:27.972Z"
   },
   {
    "duration": 551,
    "start_time": "2022-02-21T09:09:53.926Z"
   },
   {
    "duration": 410,
    "start_time": "2022-02-21T09:10:01.135Z"
   },
   {
    "duration": 384,
    "start_time": "2022-02-21T09:10:12.911Z"
   },
   {
    "duration": 557,
    "start_time": "2022-02-21T09:10:18.190Z"
   },
   {
    "duration": 384,
    "start_time": "2022-02-21T09:10:23.830Z"
   },
   {
    "duration": 511,
    "start_time": "2022-02-21T09:10:45.838Z"
   },
   {
    "duration": 286,
    "start_time": "2022-02-21T09:10:56.288Z"
   },
   {
    "duration": 381,
    "start_time": "2022-02-21T09:11:13.616Z"
   },
   {
    "duration": 278,
    "start_time": "2022-02-21T09:11:22.768Z"
   },
   {
    "duration": 365,
    "start_time": "2022-02-21T09:11:34.130Z"
   },
   {
    "duration": 212,
    "start_time": "2022-02-21T09:11:57.506Z"
   },
   {
    "duration": 863,
    "start_time": "2022-02-21T09:12:03.000Z"
   },
   {
    "duration": 195,
    "start_time": "2022-02-21T09:13:13.813Z"
   },
   {
    "duration": 191,
    "start_time": "2022-02-21T09:13:19.002Z"
   },
   {
    "duration": 200,
    "start_time": "2022-02-21T09:13:23.099Z"
   },
   {
    "duration": 519,
    "start_time": "2022-02-21T09:13:27.266Z"
   },
   {
    "duration": 852,
    "start_time": "2022-02-21T09:13:34.132Z"
   },
   {
    "duration": 437,
    "start_time": "2022-02-21T09:13:40.644Z"
   },
   {
    "duration": 206,
    "start_time": "2022-02-21T09:13:48.052Z"
   },
   {
    "duration": 209,
    "start_time": "2022-02-21T09:14:01.591Z"
   },
   {
    "duration": 205,
    "start_time": "2022-02-21T09:14:49.756Z"
   },
   {
    "duration": 396,
    "start_time": "2022-02-21T09:15:21.030Z"
   },
   {
    "duration": 214,
    "start_time": "2022-02-21T09:15:31.583Z"
   },
   {
    "duration": 529,
    "start_time": "2022-02-21T09:16:17.864Z"
   },
   {
    "duration": 225,
    "start_time": "2022-02-21T09:17:10.496Z"
   },
   {
    "duration": 198,
    "start_time": "2022-02-21T09:17:36.946Z"
   },
   {
    "duration": 124,
    "start_time": "2022-02-21T09:17:45.450Z"
   },
   {
    "duration": 125,
    "start_time": "2022-02-21T09:17:50.051Z"
   },
   {
    "duration": 222,
    "start_time": "2022-02-21T09:17:54.810Z"
   },
   {
    "duration": 160,
    "start_time": "2022-02-21T09:21:00.607Z"
   },
   {
    "duration": 232,
    "start_time": "2022-02-21T09:21:29.464Z"
   },
   {
    "duration": 161,
    "start_time": "2022-02-21T09:21:31.639Z"
   },
   {
    "duration": 218,
    "start_time": "2022-02-21T09:22:05.081Z"
   },
   {
    "duration": 206,
    "start_time": "2022-02-21T09:22:18.721Z"
   },
   {
    "duration": 149,
    "start_time": "2022-02-21T09:22:20.696Z"
   },
   {
    "duration": 154,
    "start_time": "2022-02-21T09:22:36.952Z"
   },
   {
    "duration": 292,
    "start_time": "2022-02-21T09:23:34.579Z"
   },
   {
    "duration": 499,
    "start_time": "2022-02-21T09:23:39.803Z"
   },
   {
    "duration": 612,
    "start_time": "2022-02-21T09:24:21.957Z"
   },
   {
    "duration": 615,
    "start_time": "2022-02-21T09:24:30.893Z"
   },
   {
    "duration": 650,
    "start_time": "2022-02-21T09:24:38.596Z"
   },
   {
    "duration": 478,
    "start_time": "2022-02-21T09:24:43.893Z"
   },
   {
    "duration": 676,
    "start_time": "2022-02-21T09:28:35.355Z"
   },
   {
    "duration": 1054,
    "start_time": "2022-02-21T09:28:56.939Z"
   },
   {
    "duration": 424,
    "start_time": "2022-02-21T09:29:15.092Z"
   },
   {
    "duration": 482,
    "start_time": "2022-02-21T09:29:21.188Z"
   },
   {
    "duration": 151,
    "start_time": "2022-02-21T09:48:35.552Z"
   },
   {
    "duration": 152,
    "start_time": "2022-02-21T09:48:43.496Z"
   },
   {
    "duration": 168,
    "start_time": "2022-02-21T09:48:50.424Z"
   },
   {
    "duration": 141,
    "start_time": "2022-02-21T09:49:55.226Z"
   },
   {
    "duration": 989,
    "start_time": "2022-02-21T09:50:09.483Z"
   },
   {
    "duration": 465,
    "start_time": "2022-02-21T09:50:20.475Z"
   },
   {
    "duration": 524,
    "start_time": "2022-02-21T09:58:58.079Z"
   },
   {
    "duration": 150,
    "start_time": "2022-02-21T09:59:10.529Z"
   },
   {
    "duration": 497,
    "start_time": "2022-02-21T10:01:23.124Z"
   },
   {
    "duration": 315,
    "start_time": "2022-02-21T10:23:40.564Z"
   },
   {
    "duration": 155,
    "start_time": "2022-02-21T10:27:35.802Z"
   },
   {
    "duration": 216,
    "start_time": "2022-02-21T10:27:41.573Z"
   },
   {
    "duration": 214,
    "start_time": "2022-02-21T10:27:44.107Z"
   },
   {
    "duration": 356,
    "start_time": "2022-02-21T10:32:45.578Z"
   },
   {
    "duration": 3,
    "start_time": "2022-02-21T10:32:53.162Z"
   },
   {
    "duration": 58,
    "start_time": "2022-02-21T10:32:53.167Z"
   },
   {
    "duration": 8,
    "start_time": "2022-02-21T10:32:53.228Z"
   },
   {
    "duration": 25,
    "start_time": "2022-02-21T10:32:53.238Z"
   },
   {
    "duration": 222,
    "start_time": "2022-02-21T10:32:53.265Z"
   },
   {
    "duration": 271,
    "start_time": "2022-02-21T10:32:53.489Z"
   },
   {
    "duration": 195,
    "start_time": "2022-02-21T10:33:06.322Z"
   },
   {
    "duration": 240,
    "start_time": "2022-02-21T10:33:45.004Z"
   },
   {
    "duration": 549,
    "start_time": "2022-02-21T10:34:17.911Z"
   },
   {
    "duration": 3,
    "start_time": "2022-02-21T10:35:01.895Z"
   },
   {
    "duration": 86,
    "start_time": "2022-02-21T10:35:01.900Z"
   },
   {
    "duration": 9,
    "start_time": "2022-02-21T10:35:01.988Z"
   },
   {
    "duration": 50,
    "start_time": "2022-02-21T10:35:01.999Z"
   },
   {
    "duration": 257,
    "start_time": "2022-02-21T10:35:02.051Z"
   },
   {
    "duration": 3681,
    "start_time": "2022-02-21T10:35:02.310Z"
   },
   {
    "duration": 150,
    "start_time": "2022-02-21T10:51:18.580Z"
   },
   {
    "duration": 255,
    "start_time": "2022-02-21T10:51:42.966Z"
   },
   {
    "duration": 160,
    "start_time": "2022-02-21T11:42:17.132Z"
   },
   {
    "duration": 1230,
    "start_time": "2022-02-21T11:42:21.988Z"
   },
   {
    "duration": 246,
    "start_time": "2022-02-21T11:42:25.780Z"
   },
   {
    "duration": 152,
    "start_time": "2022-02-21T11:44:48.776Z"
   },
   {
    "duration": 146,
    "start_time": "2022-02-21T11:44:53.904Z"
   },
   {
    "duration": 274,
    "start_time": "2022-02-21T11:45:07.888Z"
   },
   {
    "duration": 151,
    "start_time": "2022-02-21T11:45:36.224Z"
   },
   {
    "duration": 289,
    "start_time": "2022-02-21T11:45:42.608Z"
   },
   {
    "duration": 459,
    "start_time": "2022-02-21T11:51:17.786Z"
   },
   {
    "duration": 658,
    "start_time": "2022-02-21T11:51:42.346Z"
   },
   {
    "duration": 638,
    "start_time": "2022-02-21T11:51:50.923Z"
   },
   {
    "duration": 280,
    "start_time": "2022-02-21T11:51:54.186Z"
   },
   {
    "duration": 646,
    "start_time": "2022-02-21T11:51:56.114Z"
   },
   {
    "duration": 252,
    "start_time": "2022-02-21T11:52:59.390Z"
   },
   {
    "duration": 242,
    "start_time": "2022-02-21T11:53:17.092Z"
   },
   {
    "duration": 483,
    "start_time": "2022-02-21T11:53:25.708Z"
   },
   {
    "duration": 789,
    "start_time": "2022-02-21T11:57:16.355Z"
   },
   {
    "duration": 483,
    "start_time": "2022-02-21T11:57:51.881Z"
   },
   {
    "duration": 237,
    "start_time": "2022-02-21T12:07:31.643Z"
   },
   {
    "duration": 441,
    "start_time": "2022-02-21T12:08:37.845Z"
   },
   {
    "duration": 4,
    "start_time": "2022-02-21T12:08:44.935Z"
   },
   {
    "duration": 51,
    "start_time": "2022-02-21T12:08:44.941Z"
   },
   {
    "duration": 10,
    "start_time": "2022-02-21T12:08:44.994Z"
   },
   {
    "duration": 40,
    "start_time": "2022-02-21T12:08:45.006Z"
   },
   {
    "duration": 219,
    "start_time": "2022-02-21T12:08:45.048Z"
   },
   {
    "duration": 195,
    "start_time": "2022-02-21T12:08:45.269Z"
   },
   {
    "duration": 175,
    "start_time": "2022-02-21T12:08:45.466Z"
   },
   {
    "duration": 177,
    "start_time": "2022-02-21T12:08:47.805Z"
   },
   {
    "duration": 253,
    "start_time": "2022-02-21T12:09:02.813Z"
   },
   {
    "duration": 7095,
    "start_time": "2022-02-21T12:09:42.986Z"
   },
   {
    "duration": 5,
    "start_time": "2022-02-21T12:09:50.084Z"
   },
   {
    "duration": 271,
    "start_time": "2022-02-21T12:09:50.092Z"
   },
   {
    "duration": 5,
    "start_time": "2022-02-21T12:10:35.760Z"
   },
   {
    "duration": 262,
    "start_time": "2022-02-21T12:10:39.479Z"
   },
   {
    "duration": 10195,
    "start_time": "2022-02-21T12:11:05.521Z"
   },
   {
    "duration": 5,
    "start_time": "2022-02-21T12:11:15.718Z"
   },
   {
    "duration": 61,
    "start_time": "2022-02-21T12:11:15.725Z"
   },
   {
    "duration": 10,
    "start_time": "2022-02-21T12:11:15.789Z"
   },
   {
    "duration": 20,
    "start_time": "2022-02-21T12:11:15.801Z"
   },
   {
    "duration": 251,
    "start_time": "2022-02-21T12:11:15.823Z"
   },
   {
    "duration": 163,
    "start_time": "2022-02-21T12:11:16.076Z"
   },
   {
    "duration": 191,
    "start_time": "2022-02-21T12:11:16.241Z"
   },
   {
    "duration": 593,
    "start_time": "2022-02-21T12:11:15.842Z"
   },
   {
    "duration": 174,
    "start_time": "2022-02-21T12:11:34.059Z"
   },
   {
    "duration": 206,
    "start_time": "2022-02-21T12:12:35.595Z"
   },
   {
    "duration": 413,
    "start_time": "2022-02-21T12:13:28.013Z"
   },
   {
    "duration": 131,
    "start_time": "2022-02-21T12:13:49.044Z"
   },
   {
    "duration": 278,
    "start_time": "2022-02-21T12:14:07.805Z"
   },
   {
    "duration": 262,
    "start_time": "2022-02-21T12:14:27.735Z"
   },
   {
    "duration": 252,
    "start_time": "2022-02-21T12:18:51.621Z"
   },
   {
    "duration": 267,
    "start_time": "2022-02-21T12:19:05.023Z"
   },
   {
    "duration": 279,
    "start_time": "2022-02-21T12:19:10.127Z"
   },
   {
    "duration": 4492,
    "start_time": "2022-02-24T06:11:23.730Z"
   },
   {
    "duration": 2749,
    "start_time": "2022-02-24T06:11:28.226Z"
   },
   {
    "duration": 339,
    "start_time": "2022-02-24T06:11:30.978Z"
   },
   {
    "duration": 12,
    "start_time": "2022-02-24T06:11:31.320Z"
   },
   {
    "duration": 25,
    "start_time": "2022-02-24T06:11:31.335Z"
   },
   {
    "duration": 319,
    "start_time": "2022-02-24T06:11:38.514Z"
   },
   {
    "duration": 25,
    "start_time": "2022-02-24T06:28:38.133Z"
   },
   {
    "duration": 1800,
    "start_time": "2022-02-24T06:49:21.629Z"
   },
   {
    "duration": 231,
    "start_time": "2022-02-24T06:53:27.923Z"
   },
   {
    "duration": 1471,
    "start_time": "2022-02-24T07:00:00.864Z"
   },
   {
    "duration": 11,
    "start_time": "2022-02-24T07:02:16.898Z"
   },
   {
    "duration": 19,
    "start_time": "2022-02-24T07:02:22.385Z"
   },
   {
    "duration": 8000,
    "start_time": "2022-02-24T07:02:48.532Z"
   },
   {
    "duration": 239,
    "start_time": "2022-02-24T07:03:02.668Z"
   },
   {
    "duration": 136,
    "start_time": "2022-02-24T07:43:41.256Z"
   },
   {
    "duration": 132,
    "start_time": "2022-02-24T07:43:48.122Z"
   },
   {
    "duration": 122,
    "start_time": "2022-02-24T07:43:51.578Z"
   },
   {
    "duration": 137,
    "start_time": "2022-02-24T07:44:30.258Z"
   },
   {
    "duration": 342,
    "start_time": "2022-02-24T07:48:13.218Z"
   },
   {
    "duration": 4023,
    "start_time": "2022-02-24T07:48:19.275Z"
   },
   {
    "duration": 5,
    "start_time": "2022-02-24T07:48:23.301Z"
   },
   {
    "duration": 76,
    "start_time": "2022-02-24T07:48:23.310Z"
   },
   {
    "duration": 16,
    "start_time": "2022-02-24T07:48:23.389Z"
   },
   {
    "duration": 24,
    "start_time": "2022-02-24T07:48:23.407Z"
   },
   {
    "duration": 27,
    "start_time": "2022-02-24T07:48:23.462Z"
   },
   {
    "duration": 375,
    "start_time": "2022-02-24T07:48:23.491Z"
   },
   {
    "duration": 251,
    "start_time": "2022-02-24T07:48:23.870Z"
   },
   {
    "duration": 309,
    "start_time": "2022-02-24T07:48:24.124Z"
   },
   {
    "duration": 23,
    "start_time": "2022-02-24T07:48:24.413Z"
   },
   {
    "duration": 21,
    "start_time": "2022-02-24T07:48:24.416Z"
   },
   {
    "duration": 18,
    "start_time": "2022-02-24T07:48:37.490Z"
   },
   {
    "duration": 128,
    "start_time": "2022-02-24T07:48:37.511Z"
   },
   {
    "duration": 458,
    "start_time": "2022-02-24T07:48:37.642Z"
   },
   {
    "duration": 15,
    "start_time": "2022-02-24T07:48:38.088Z"
   },
   {
    "duration": 446,
    "start_time": "2022-02-24T07:49:50.084Z"
   },
   {
    "duration": 25,
    "start_time": "2022-02-24T07:50:19.613Z"
   },
   {
    "duration": 307,
    "start_time": "2022-02-24T07:50:31.214Z"
   },
   {
    "duration": 287,
    "start_time": "2022-02-24T07:51:22.982Z"
   },
   {
    "duration": 192,
    "start_time": "2022-02-24T12:22:43.756Z"
   },
   {
    "duration": 356,
    "start_time": "2022-02-24T12:22:58.388Z"
   },
   {
    "duration": 180,
    "start_time": "2022-02-24T12:23:05.005Z"
   },
   {
    "duration": 13,
    "start_time": "2022-02-24T12:23:56.044Z"
   },
   {
    "duration": 176,
    "start_time": "2022-02-24T12:24:19.767Z"
   },
   {
    "duration": 3081,
    "start_time": "2022-02-25T07:12:27.180Z"
   },
   {
    "duration": 1718,
    "start_time": "2022-02-25T07:12:30.264Z"
   },
   {
    "duration": 60,
    "start_time": "2022-02-25T07:12:31.984Z"
   },
   {
    "duration": 10,
    "start_time": "2022-02-25T07:12:32.046Z"
   },
   {
    "duration": 23,
    "start_time": "2022-02-25T07:12:32.058Z"
   },
   {
    "duration": 37,
    "start_time": "2022-02-25T07:12:32.082Z"
   },
   {
    "duration": 209,
    "start_time": "2022-02-25T07:12:32.122Z"
   },
   {
    "duration": 13,
    "start_time": "2022-02-25T07:12:32.333Z"
   },
   {
    "duration": 619,
    "start_time": "2022-02-25T07:12:32.349Z"
   },
   {
    "duration": 500,
    "start_time": "2022-02-25T07:12:32.970Z"
   },
   {
    "duration": 7083,
    "start_time": "2022-03-02T06:06:49.936Z"
   },
   {
    "duration": 1370,
    "start_time": "2022-03-02T06:06:57.021Z"
   },
   {
    "duration": 55,
    "start_time": "2022-03-02T06:06:58.393Z"
   },
   {
    "duration": 9,
    "start_time": "2022-03-02T06:06:58.450Z"
   },
   {
    "duration": 15,
    "start_time": "2022-03-02T06:06:58.461Z"
   },
   {
    "duration": 17,
    "start_time": "2022-03-02T06:06:58.477Z"
   },
   {
    "duration": 224,
    "start_time": "2022-03-02T06:06:58.496Z"
   },
   {
    "duration": 9,
    "start_time": "2022-03-02T06:06:58.722Z"
   },
   {
    "duration": 511,
    "start_time": "2022-03-02T06:06:58.732Z"
   },
   {
    "duration": 376,
    "start_time": "2022-03-02T06:06:59.245Z"
   },
   {
    "duration": 3,
    "start_time": "2022-03-02T06:07:17.272Z"
   },
   {
    "duration": 15,
    "start_time": "2022-03-02T06:07:17.276Z"
   },
   {
    "duration": 47,
    "start_time": "2022-03-02T06:07:17.293Z"
   },
   {
    "duration": 10,
    "start_time": "2022-03-02T06:07:17.342Z"
   },
   {
    "duration": 16,
    "start_time": "2022-03-02T06:07:17.354Z"
   },
   {
    "duration": 19,
    "start_time": "2022-03-02T06:07:17.372Z"
   },
   {
    "duration": 326,
    "start_time": "2022-03-02T06:07:17.393Z"
   },
   {
    "duration": 9,
    "start_time": "2022-03-02T06:07:17.721Z"
   },
   {
    "duration": 122,
    "start_time": "2022-03-02T06:07:17.731Z"
   },
   {
    "duration": 285,
    "start_time": "2022-03-02T06:07:17.859Z"
   },
   {
    "duration": 463,
    "start_time": "2022-03-02T06:10:17.276Z"
   },
   {
    "duration": 535,
    "start_time": "2022-03-02T06:10:52.645Z"
   },
   {
    "duration": 1643,
    "start_time": "2022-03-02T06:15:46.911Z"
   },
   {
    "duration": 1523,
    "start_time": "2022-03-02T06:16:24.623Z"
   },
   {
    "duration": 63,
    "start_time": "2022-03-02T06:17:36.609Z"
   },
   {
    "duration": 14,
    "start_time": "2022-03-02T06:17:39.601Z"
   },
   {
    "duration": 9,
    "start_time": "2022-03-02T06:17:53.720Z"
   },
   {
    "duration": 426,
    "start_time": "2022-03-02T06:18:04.697Z"
   },
   {
    "duration": 307,
    "start_time": "2022-03-02T11:23:54.482Z"
   },
   {
    "duration": 2,
    "start_time": "2022-03-02T11:24:12.701Z"
   },
   {
    "duration": 1323,
    "start_time": "2022-03-02T11:24:12.705Z"
   },
   {
    "duration": 61,
    "start_time": "2022-03-02T11:24:14.030Z"
   },
   {
    "duration": 8,
    "start_time": "2022-03-02T11:24:14.094Z"
   },
   {
    "duration": 14,
    "start_time": "2022-03-02T11:24:14.104Z"
   },
   {
    "duration": 16,
    "start_time": "2022-03-02T11:24:14.119Z"
   },
   {
    "duration": 197,
    "start_time": "2022-03-02T11:24:14.137Z"
   },
   {
    "duration": 10,
    "start_time": "2022-03-02T11:24:14.336Z"
   },
   {
    "duration": 472,
    "start_time": "2022-03-02T11:24:14.348Z"
   },
   {
    "duration": 407,
    "start_time": "2022-03-02T11:24:14.822Z"
   },
   {
    "duration": 367,
    "start_time": "2022-03-02T11:24:15.231Z"
   },
   {
    "duration": 415,
    "start_time": "2022-03-02T11:24:15.601Z"
   },
   {
    "duration": 298,
    "start_time": "2022-03-02T11:24:30.074Z"
   },
   {
    "duration": 377,
    "start_time": "2022-03-02T11:25:38.604Z"
   },
   {
    "duration": 436,
    "start_time": "2022-03-02T11:27:16.297Z"
   },
   {
    "duration": 282,
    "start_time": "2022-03-02T11:30:57.221Z"
   },
   {
    "duration": 844,
    "start_time": "2022-03-02T11:31:18.516Z"
   },
   {
    "duration": 874,
    "start_time": "2022-03-02T11:31:45.167Z"
   },
   {
    "duration": 404,
    "start_time": "2022-03-02T11:31:59.415Z"
   },
   {
    "duration": 583,
    "start_time": "2022-03-02T11:32:14.670Z"
   },
   {
    "duration": 406,
    "start_time": "2022-03-02T11:32:31.543Z"
   },
   {
    "duration": 533,
    "start_time": "2022-03-02T11:51:29.470Z"
   },
   {
    "duration": 501,
    "start_time": "2022-03-02T11:51:38.190Z"
   },
   {
    "duration": 490,
    "start_time": "2022-03-02T11:52:33.496Z"
   },
   {
    "duration": 494,
    "start_time": "2022-03-02T11:52:53.983Z"
   },
   {
    "duration": 4,
    "start_time": "2022-03-03T15:44:41.110Z"
   },
   {
    "duration": 1849,
    "start_time": "2022-03-03T15:44:41.117Z"
   },
   {
    "duration": 81,
    "start_time": "2022-03-03T15:44:42.969Z"
   },
   {
    "duration": 12,
    "start_time": "2022-03-03T15:44:43.053Z"
   },
   {
    "duration": 24,
    "start_time": "2022-03-03T15:44:43.067Z"
   },
   {
    "duration": 47,
    "start_time": "2022-03-03T15:44:43.093Z"
   },
   {
    "duration": 331,
    "start_time": "2022-03-03T15:44:43.144Z"
   },
   {
    "duration": 12,
    "start_time": "2022-03-03T15:44:43.477Z"
   },
   {
    "duration": 743,
    "start_time": "2022-03-03T15:44:43.491Z"
   },
   {
    "duration": 622,
    "start_time": "2022-03-03T15:44:44.237Z"
   },
   {
    "duration": 19,
    "start_time": "2022-03-03T15:46:10.991Z"
   },
   {
    "duration": 11,
    "start_time": "2022-03-03T15:48:07.874Z"
   },
   {
    "duration": 21,
    "start_time": "2022-03-03T15:49:29.473Z"
   },
   {
    "duration": 15,
    "start_time": "2022-03-03T15:50:00.636Z"
   },
   {
    "duration": 18,
    "start_time": "2022-03-03T15:50:18.721Z"
   },
   {
    "duration": 527,
    "start_time": "2022-03-03T15:51:58.041Z"
   },
   {
    "duration": 122,
    "start_time": "2022-03-03T15:52:09.388Z"
   },
   {
    "duration": 108,
    "start_time": "2022-03-03T15:52:49.893Z"
   },
   {
    "duration": 15,
    "start_time": "2022-03-03T15:52:55.566Z"
   },
   {
    "duration": 27,
    "start_time": "2022-03-03T15:53:00.994Z"
   },
   {
    "duration": 21,
    "start_time": "2022-03-03T15:54:23.253Z"
   },
   {
    "duration": 27,
    "start_time": "2022-03-03T15:55:51.034Z"
   },
   {
    "duration": 29,
    "start_time": "2022-03-03T15:56:26.917Z"
   },
   {
    "duration": 18,
    "start_time": "2022-03-03T15:58:01.037Z"
   },
   {
    "duration": 29,
    "start_time": "2022-03-03T16:05:35.249Z"
   },
   {
    "duration": 20,
    "start_time": "2022-03-03T16:06:09.917Z"
   },
   {
    "duration": 39,
    "start_time": "2022-03-03T16:06:41.406Z"
   },
   {
    "duration": 118,
    "start_time": "2022-03-03T16:09:26.843Z"
   },
   {
    "duration": 111,
    "start_time": "2022-03-03T16:09:42.307Z"
   },
   {
    "duration": 103,
    "start_time": "2022-03-03T16:09:54.736Z"
   },
   {
    "duration": 110,
    "start_time": "2022-03-03T16:10:07.550Z"
   },
   {
    "duration": 111,
    "start_time": "2022-03-03T16:10:13.388Z"
   },
   {
    "duration": 4,
    "start_time": "2022-03-03T16:10:16.371Z"
   },
   {
    "duration": 4,
    "start_time": "2022-03-03T16:10:47.300Z"
   },
   {
    "duration": 18,
    "start_time": "2022-03-03T16:10:53.932Z"
   },
   {
    "duration": 598,
    "start_time": "2022-03-03T16:11:29.755Z"
   },
   {
    "duration": 24,
    "start_time": "2022-03-03T16:16:53.832Z"
   },
   {
    "duration": 408,
    "start_time": "2022-03-03T16:19:04.232Z"
   },
   {
    "duration": 4,
    "start_time": "2022-03-03T16:20:09.228Z"
   },
   {
    "duration": 24,
    "start_time": "2022-03-03T16:20:10.134Z"
   },
   {
    "duration": 634,
    "start_time": "2022-03-03T16:20:11.083Z"
   },
   {
    "duration": 4,
    "start_time": "2022-03-03T16:40:08.503Z"
   },
   {
    "duration": 27,
    "start_time": "2022-03-03T16:40:16.467Z"
   },
   {
    "duration": 24,
    "start_time": "2022-03-03T16:40:18.543Z"
   },
   {
    "duration": 3,
    "start_time": "2022-03-03T16:40:23.999Z"
   },
   {
    "duration": 8,
    "start_time": "2022-03-03T16:40:24.005Z"
   },
   {
    "duration": 70,
    "start_time": "2022-03-03T16:40:24.016Z"
   },
   {
    "duration": 11,
    "start_time": "2022-03-03T16:40:24.089Z"
   },
   {
    "duration": 40,
    "start_time": "2022-03-03T16:40:24.103Z"
   },
   {
    "duration": 23,
    "start_time": "2022-03-03T16:40:24.145Z"
   },
   {
    "duration": 340,
    "start_time": "2022-03-03T16:40:24.171Z"
   },
   {
    "duration": 21,
    "start_time": "2022-03-03T16:40:24.514Z"
   },
   {
    "duration": 195,
    "start_time": "2022-03-03T16:40:24.538Z"
   },
   {
    "duration": 432,
    "start_time": "2022-03-03T16:40:24.735Z"
   },
   {
    "duration": 4,
    "start_time": "2022-03-03T16:40:25.170Z"
   },
   {
    "duration": 29,
    "start_time": "2022-03-03T16:40:25.176Z"
   },
   {
    "duration": 47,
    "start_time": "2022-03-03T16:40:25.207Z"
   },
   {
    "duration": 35,
    "start_time": "2022-03-03T16:40:34.491Z"
   },
   {
    "duration": 45,
    "start_time": "2022-03-03T16:41:00.535Z"
   },
   {
    "duration": 10,
    "start_time": "2022-03-03T16:41:17.241Z"
   },
   {
    "duration": 40,
    "start_time": "2022-03-03T16:41:20.000Z"
   },
   {
    "duration": 330,
    "start_time": "2022-03-03T16:45:06.989Z"
   },
   {
    "duration": 109062,
    "start_time": "2022-03-03T16:45:23.514Z"
   },
   {
    "duration": 7922,
    "start_time": "2022-03-03T16:49:07.361Z"
   },
   {
    "duration": 192,
    "start_time": "2022-03-03T16:49:21.434Z"
   },
   {
    "duration": 15,
    "start_time": "2022-03-04T05:23:03.198Z"
   },
   {
    "duration": 13,
    "start_time": "2022-03-04T05:23:32.168Z"
   },
   {
    "duration": 8,
    "start_time": "2022-03-04T05:23:43.408Z"
   },
   {
    "duration": 11,
    "start_time": "2022-03-04T05:23:55.248Z"
   },
   {
    "duration": 12,
    "start_time": "2022-03-04T05:24:08.720Z"
   },
   {
    "duration": 313,
    "start_time": "2022-03-04T05:24:28.416Z"
   },
   {
    "duration": 330,
    "start_time": "2022-03-04T05:24:34.881Z"
   },
   {
    "duration": 9,
    "start_time": "2022-03-04T05:53:18.326Z"
   },
   {
    "duration": 4,
    "start_time": "2022-03-04T05:53:56.769Z"
   },
   {
    "duration": 6,
    "start_time": "2022-03-04T05:53:56.775Z"
   },
   {
    "duration": 67,
    "start_time": "2022-03-04T05:53:56.784Z"
   },
   {
    "duration": 10,
    "start_time": "2022-03-04T05:54:01.934Z"
   },
   {
    "duration": 2055,
    "start_time": "2022-03-04T05:54:52.136Z"
   },
   {
    "duration": 305,
    "start_time": "2022-03-04T06:03:48.647Z"
   },
   {
    "duration": 4,
    "start_time": "2022-03-04T06:03:52.351Z"
   },
   {
    "duration": 98,
    "start_time": "2022-03-04T06:03:52.965Z"
   },
   {
    "duration": 85,
    "start_time": "2022-03-04T06:05:23.001Z"
   },
   {
    "duration": 113,
    "start_time": "2022-03-04T06:17:38.307Z"
   },
   {
    "duration": 6,
    "start_time": "2022-03-04T06:18:17.876Z"
   },
   {
    "duration": 100,
    "start_time": "2022-03-04T06:18:18.436Z"
   },
   {
    "duration": 10,
    "start_time": "2022-03-04T06:18:30.957Z"
   },
   {
    "duration": 21,
    "start_time": "2022-03-04T06:18:35.139Z"
   },
   {
    "duration": 4,
    "start_time": "2022-03-04T06:22:52.243Z"
   },
   {
    "duration": 8,
    "start_time": "2022-03-04T06:22:52.676Z"
   },
   {
    "duration": 27,
    "start_time": "2022-03-04T06:22:53.122Z"
   },
   {
    "duration": 316,
    "start_time": "2022-03-04T06:25:49.096Z"
   },
   {
    "duration": 324,
    "start_time": "2022-03-04T06:25:57.617Z"
   },
   {
    "duration": 25,
    "start_time": "2022-03-04T06:33:59.373Z"
   },
   {
    "duration": 358,
    "start_time": "2022-03-04T06:34:03.517Z"
   },
   {
    "duration": 3,
    "start_time": "2022-03-04T06:34:30.752Z"
   },
   {
    "duration": 14,
    "start_time": "2022-03-04T06:34:30.758Z"
   },
   {
    "duration": 70,
    "start_time": "2022-03-04T06:34:30.775Z"
   },
   {
    "duration": 12,
    "start_time": "2022-03-04T06:34:30.848Z"
   },
   {
    "duration": 26,
    "start_time": "2022-03-04T06:34:30.863Z"
   },
   {
    "duration": 59,
    "start_time": "2022-03-04T06:34:30.892Z"
   },
   {
    "duration": 354,
    "start_time": "2022-03-04T06:34:30.953Z"
   },
   {
    "duration": 22,
    "start_time": "2022-03-04T06:34:31.310Z"
   },
   {
    "duration": 204,
    "start_time": "2022-03-04T06:34:31.335Z"
   },
   {
    "duration": 1895,
    "start_time": "2022-03-04T06:34:31.541Z"
   },
   {
    "duration": 4,
    "start_time": "2022-03-04T06:34:33.439Z"
   },
   {
    "duration": 11,
    "start_time": "2022-03-04T06:34:33.446Z"
   },
   {
    "duration": 74,
    "start_time": "2022-03-04T06:34:33.460Z"
   },
   {
    "duration": 36,
    "start_time": "2022-03-04T06:34:33.537Z"
   },
   {
    "duration": 4,
    "start_time": "2022-03-04T06:36:19.331Z"
   },
   {
    "duration": 8,
    "start_time": "2022-03-04T06:36:20.225Z"
   },
   {
    "duration": 26,
    "start_time": "2022-03-04T06:36:20.881Z"
   },
   {
    "duration": 17,
    "start_time": "2022-03-04T06:38:48.861Z"
   },
   {
    "duration": 11,
    "start_time": "2022-03-04T06:40:10.271Z"
   },
   {
    "duration": 14,
    "start_time": "2022-03-04T06:40:13.871Z"
   },
   {
    "duration": 3478,
    "start_time": "2022-03-04T06:51:07.293Z"
   },
   {
    "duration": 26,
    "start_time": "2022-03-04T06:51:27.087Z"
   },
   {
    "duration": 16,
    "start_time": "2022-03-04T07:09:38.806Z"
   },
   {
    "duration": 15,
    "start_time": "2022-03-04T07:09:52.118Z"
   },
   {
    "duration": 4,
    "start_time": "2022-03-04T07:59:10.554Z"
   },
   {
    "duration": 305,
    "start_time": "2022-03-04T08:03:00.222Z"
   },
   {
    "duration": 4,
    "start_time": "2022-03-04T08:03:10.072Z"
   },
   {
    "duration": 5,
    "start_time": "2022-03-04T08:03:10.080Z"
   },
   {
    "duration": 68,
    "start_time": "2022-03-04T08:03:10.089Z"
   },
   {
    "duration": 19,
    "start_time": "2022-03-04T08:03:10.161Z"
   },
   {
    "duration": 51,
    "start_time": "2022-03-04T08:03:10.183Z"
   },
   {
    "duration": 25,
    "start_time": "2022-03-04T08:03:10.236Z"
   },
   {
    "duration": 360,
    "start_time": "2022-03-04T08:03:10.264Z"
   },
   {
    "duration": 14,
    "start_time": "2022-03-04T08:03:10.627Z"
   },
   {
    "duration": 198,
    "start_time": "2022-03-04T08:03:10.644Z"
   },
   {
    "duration": 432,
    "start_time": "2022-03-04T08:03:10.844Z"
   },
   {
    "duration": 327,
    "start_time": "2022-03-04T08:05:00.538Z"
   },
   {
    "duration": 345,
    "start_time": "2022-03-04T08:05:44.948Z"
   },
   {
    "duration": 345,
    "start_time": "2022-03-04T08:05:55.235Z"
   },
   {
    "duration": 20,
    "start_time": "2022-03-04T08:06:20.237Z"
   },
   {
    "duration": 23,
    "start_time": "2022-03-04T08:06:56.510Z"
   },
   {
    "duration": 19,
    "start_time": "2022-03-04T08:07:30.742Z"
   },
   {
    "duration": 18,
    "start_time": "2022-03-04T08:08:41.327Z"
   },
   {
    "duration": 304,
    "start_time": "2022-03-04T08:09:22.792Z"
   },
   {
    "duration": 4,
    "start_time": "2022-03-04T08:09:27.322Z"
   },
   {
    "duration": 7,
    "start_time": "2022-03-04T08:09:27.761Z"
   },
   {
    "duration": 20,
    "start_time": "2022-03-04T08:09:31.266Z"
   },
   {
    "duration": 4,
    "start_time": "2022-03-04T08:09:41.481Z"
   },
   {
    "duration": 21,
    "start_time": "2022-03-04T08:09:43.858Z"
   },
   {
    "duration": 21,
    "start_time": "2022-03-04T08:10:08.745Z"
   },
   {
    "duration": 15,
    "start_time": "2022-03-04T08:10:22.418Z"
   },
   {
    "duration": 7,
    "start_time": "2022-03-04T08:13:46.392Z"
   },
   {
    "duration": 24,
    "start_time": "2022-03-04T08:13:53.136Z"
   },
   {
    "duration": 328,
    "start_time": "2022-03-04T08:15:15.090Z"
   },
   {
    "duration": 613,
    "start_time": "2022-03-04T08:15:36.498Z"
   },
   {
    "duration": 783,
    "start_time": "2022-03-04T08:16:15.436Z"
   },
   {
    "duration": 534,
    "start_time": "2022-03-04T08:16:19.948Z"
   },
   {
    "duration": 561,
    "start_time": "2022-03-04T08:16:34.140Z"
   },
   {
    "duration": 17,
    "start_time": "2022-03-04T08:17:25.340Z"
   },
   {
    "duration": 616,
    "start_time": "2022-03-04T08:17:54.206Z"
   },
   {
    "duration": 18,
    "start_time": "2022-03-04T08:18:00.438Z"
   },
   {
    "duration": 602,
    "start_time": "2022-03-04T08:18:02.150Z"
   },
   {
    "duration": 660,
    "start_time": "2022-03-04T08:20:30.795Z"
   },
   {
    "duration": 607,
    "start_time": "2022-03-04T08:20:43.941Z"
   },
   {
    "duration": 607,
    "start_time": "2022-03-04T08:20:54.154Z"
   },
   {
    "duration": 602,
    "start_time": "2022-03-04T08:21:16.348Z"
   },
   {
    "duration": 595,
    "start_time": "2022-03-04T08:27:15.540Z"
   },
   {
    "duration": 16,
    "start_time": "2022-03-04T08:28:47.303Z"
   },
   {
    "duration": 298,
    "start_time": "2022-03-04T08:28:56.968Z"
   },
   {
    "duration": 17,
    "start_time": "2022-03-04T08:29:06.864Z"
   },
   {
    "duration": 369,
    "start_time": "2022-03-04T08:33:01.847Z"
   },
   {
    "duration": 389,
    "start_time": "2022-03-04T08:33:09.255Z"
   },
   {
    "duration": 8,
    "start_time": "2022-03-04T08:33:30.583Z"
   },
   {
    "duration": 1468,
    "start_time": "2022-03-04T08:33:35.231Z"
   },
   {
    "duration": 1595,
    "start_time": "2022-03-04T08:35:09.697Z"
   },
   {
    "duration": 13,
    "start_time": "2022-03-04T08:35:33.617Z"
   },
   {
    "duration": 791,
    "start_time": "2022-03-04T08:36:01.171Z"
   },
   {
    "duration": 15,
    "start_time": "2022-03-04T08:36:38.109Z"
   },
   {
    "duration": 1497,
    "start_time": "2022-03-04T08:36:43.931Z"
   },
   {
    "duration": 363,
    "start_time": "2022-03-04T08:36:46.413Z"
   },
   {
    "duration": 4,
    "start_time": "2022-03-04T08:37:11.672Z"
   },
   {
    "duration": 6,
    "start_time": "2022-03-04T08:37:11.680Z"
   },
   {
    "duration": 68,
    "start_time": "2022-03-04T08:37:11.690Z"
   },
   {
    "duration": 15,
    "start_time": "2022-03-04T08:37:11.762Z"
   },
   {
    "duration": 62,
    "start_time": "2022-03-04T08:37:11.780Z"
   },
   {
    "duration": 27,
    "start_time": "2022-03-04T08:37:11.846Z"
   },
   {
    "duration": 352,
    "start_time": "2022-03-04T08:37:11.877Z"
   },
   {
    "duration": 17,
    "start_time": "2022-03-04T08:37:12.233Z"
   },
   {
    "duration": 201,
    "start_time": "2022-03-04T08:37:12.252Z"
   },
   {
    "duration": 433,
    "start_time": "2022-03-04T08:37:12.455Z"
   },
   {
    "duration": 18,
    "start_time": "2022-03-04T08:37:12.891Z"
   },
   {
    "duration": 20,
    "start_time": "2022-03-04T08:37:12.912Z"
   },
   {
    "duration": 4,
    "start_time": "2022-03-04T08:37:12.934Z"
   },
   {
    "duration": 18,
    "start_time": "2022-03-04T08:37:12.941Z"
   },
   {
    "duration": 15,
    "start_time": "2022-03-04T08:37:12.961Z"
   },
   {
    "duration": 641,
    "start_time": "2022-03-04T08:37:12.979Z"
   },
   {
    "duration": 21,
    "start_time": "2022-03-04T08:37:13.623Z"
   },
   {
    "duration": 1492,
    "start_time": "2022-03-04T08:37:13.647Z"
   },
   {
    "duration": 390,
    "start_time": "2022-03-04T08:37:15.142Z"
   },
   {
    "duration": 4,
    "start_time": "2022-03-04T08:40:55.421Z"
   },
   {
    "duration": 1869,
    "start_time": "2022-03-04T08:40:55.429Z"
   },
   {
    "duration": 81,
    "start_time": "2022-03-04T08:40:57.301Z"
   },
   {
    "duration": 11,
    "start_time": "2022-03-04T08:40:57.385Z"
   },
   {
    "duration": 52,
    "start_time": "2022-03-04T08:40:57.398Z"
   },
   {
    "duration": 23,
    "start_time": "2022-03-04T08:40:57.452Z"
   },
   {
    "duration": 343,
    "start_time": "2022-03-04T08:40:57.479Z"
   },
   {
    "duration": 16,
    "start_time": "2022-03-04T08:40:57.825Z"
   },
   {
    "duration": 733,
    "start_time": "2022-03-04T08:40:57.844Z"
   },
   {
    "duration": 609,
    "start_time": "2022-03-04T08:40:58.580Z"
   },
   {
    "duration": 40,
    "start_time": "2022-03-04T08:40:59.192Z"
   },
   {
    "duration": 4,
    "start_time": "2022-03-04T08:40:59.234Z"
   },
   {
    "duration": 4,
    "start_time": "2022-03-04T08:40:59.240Z"
   },
   {
    "duration": 151,
    "start_time": "2022-03-04T08:40:59.247Z"
   },
   {
    "duration": 33,
    "start_time": "2022-03-04T08:40:59.401Z"
   },
   {
    "duration": 579,
    "start_time": "2022-03-04T08:40:59.438Z"
   },
   {
    "duration": 22,
    "start_time": "2022-03-04T08:41:00.019Z"
   },
   {
    "duration": 409,
    "start_time": "2022-03-04T08:41:00.044Z"
   },
   {
    "duration": 529,
    "start_time": "2022-03-04T08:41:15.076Z"
   },
   {
    "duration": 18,
    "start_time": "2022-03-04T08:42:10.789Z"
   },
   {
    "duration": 19,
    "start_time": "2022-03-04T08:42:55.511Z"
   },
   {
    "duration": 355,
    "start_time": "2022-03-04T08:42:57.549Z"
   },
   {
    "duration": 328,
    "start_time": "2022-03-04T08:43:45.423Z"
   },
   {
    "duration": 794,
    "start_time": "2022-03-04T08:44:20.416Z"
   },
   {
    "duration": 293,
    "start_time": "2022-03-04T08:44:24.577Z"
   },
   {
    "duration": 6657,
    "start_time": "2022-03-04T09:00:12.887Z"
   },
   {
    "duration": 5781,
    "start_time": "2022-03-04T09:00:34.273Z"
   },
   {
    "duration": 6,
    "start_time": "2022-03-04T09:03:11.357Z"
   },
   {
    "duration": 5,
    "start_time": "2022-03-04T09:03:19.133Z"
   },
   {
    "duration": 5,
    "start_time": "2022-03-04T09:03:26.261Z"
   },
   {
    "duration": 346,
    "start_time": "2022-03-04T09:03:31.749Z"
   },
   {
    "duration": 313,
    "start_time": "2022-03-04T09:05:07.409Z"
   },
   {
    "duration": 6,
    "start_time": "2022-03-04T09:05:23.185Z"
   },
   {
    "duration": 315,
    "start_time": "2022-03-04T09:05:31.625Z"
   },
   {
    "duration": 3905,
    "start_time": "2022-03-04T09:06:06.233Z"
   },
   {
    "duration": 310,
    "start_time": "2022-03-04T09:06:11.361Z"
   },
   {
    "duration": 6,
    "start_time": "2022-03-04T09:07:13.372Z"
   },
   {
    "duration": 4,
    "start_time": "2022-03-04T09:09:05.567Z"
   },
   {
    "duration": 18,
    "start_time": "2022-03-04T09:09:35.431Z"
   },
   {
    "duration": 25,
    "start_time": "2022-03-04T09:09:38.687Z"
   },
   {
    "duration": 16,
    "start_time": "2022-03-04T09:10:05.433Z"
   },
   {
    "duration": 2875,
    "start_time": "2022-03-04T09:32:06.221Z"
   },
   {
    "duration": 31,
    "start_time": "2022-03-04T09:33:17.291Z"
   },
   {
    "duration": 112,
    "start_time": "2022-03-04T09:37:46.754Z"
   },
   {
    "duration": 144,
    "start_time": "2022-03-04T09:37:59.691Z"
   },
   {
    "duration": 108,
    "start_time": "2022-03-04T09:38:11.588Z"
   },
   {
    "duration": 5,
    "start_time": "2022-03-04T09:38:25.420Z"
   },
   {
    "duration": 26,
    "start_time": "2022-03-04T09:38:29.558Z"
   },
   {
    "duration": 15,
    "start_time": "2022-03-04T09:38:30.243Z"
   },
   {
    "duration": 4,
    "start_time": "2022-03-04T09:39:24.182Z"
   },
   {
    "duration": 24,
    "start_time": "2022-03-04T09:39:24.910Z"
   },
   {
    "duration": 13,
    "start_time": "2022-03-04T09:39:25.422Z"
   },
   {
    "duration": 436,
    "start_time": "2022-03-04T09:39:39.822Z"
   },
   {
    "duration": 6,
    "start_time": "2022-03-04T09:39:54.670Z"
   },
   {
    "duration": 5,
    "start_time": "2022-03-04T09:39:55.190Z"
   },
   {
    "duration": 25,
    "start_time": "2022-03-04T09:39:56.654Z"
   },
   {
    "duration": 14,
    "start_time": "2022-03-04T09:39:58.605Z"
   },
   {
    "duration": 339,
    "start_time": "2022-03-04T09:40:01.007Z"
   },
   {
    "duration": 23,
    "start_time": "2022-03-04T09:40:07.006Z"
   },
   {
    "duration": 24,
    "start_time": "2022-03-04T09:41:07.610Z"
   },
   {
    "duration": 6,
    "start_time": "2022-03-04T09:42:20.148Z"
   },
   {
    "duration": 45,
    "start_time": "2022-03-04T09:42:21.668Z"
   },
   {
    "duration": 19,
    "start_time": "2022-03-04T09:42:22.098Z"
   },
   {
    "duration": 33,
    "start_time": "2022-03-04T09:42:24.948Z"
   },
   {
    "duration": 39,
    "start_time": "2022-03-04T09:42:54.804Z"
   },
   {
    "duration": 7,
    "start_time": "2022-03-04T09:43:36.572Z"
   },
   {
    "duration": 321,
    "start_time": "2022-03-04T09:44:22.630Z"
   },
   {
    "duration": 330,
    "start_time": "2022-03-04T09:44:54.096Z"
   },
   {
    "duration": 7804,
    "start_time": "2022-03-04T09:54:02.292Z"
   },
   {
    "duration": 331,
    "start_time": "2022-03-04T09:54:20.942Z"
   },
   {
    "duration": 7,
    "start_time": "2022-03-04T09:54:31.406Z"
   },
   {
    "duration": 16,
    "start_time": "2022-03-04T09:54:47.358Z"
   },
   {
    "duration": 8,
    "start_time": "2022-03-04T09:55:01.718Z"
   },
   {
    "duration": 12,
    "start_time": "2022-03-04T09:55:28.072Z"
   },
   {
    "duration": 10,
    "start_time": "2022-03-04T09:56:30.040Z"
   },
   {
    "duration": 8,
    "start_time": "2022-03-04T09:56:37.080Z"
   },
   {
    "duration": 8,
    "start_time": "2022-03-04T09:57:44.698Z"
   },
   {
    "duration": 1159,
    "start_time": "2022-03-04T09:57:48.354Z"
   },
   {
    "duration": 7,
    "start_time": "2022-03-04T09:58:36.612Z"
   },
   {
    "duration": 30,
    "start_time": "2022-03-04T09:58:38.460Z"
   },
   {
    "duration": 15,
    "start_time": "2022-03-04T09:58:39.860Z"
   },
   {
    "duration": 23,
    "start_time": "2022-03-04T09:58:42.844Z"
   },
   {
    "duration": 8,
    "start_time": "2022-03-04T09:58:46.292Z"
   },
   {
    "duration": 1355,
    "start_time": "2022-03-04T09:58:46.948Z"
   },
   {
    "duration": 12,
    "start_time": "2022-03-04T09:59:11.275Z"
   },
   {
    "duration": 7,
    "start_time": "2022-03-04T10:00:01.838Z"
   },
   {
    "duration": 34,
    "start_time": "2022-03-04T10:00:02.718Z"
   },
   {
    "duration": 15,
    "start_time": "2022-03-04T10:00:03.046Z"
   },
   {
    "duration": 28,
    "start_time": "2022-03-04T10:00:03.774Z"
   },
   {
    "duration": 7,
    "start_time": "2022-03-04T10:00:05.376Z"
   },
   {
    "duration": 1141,
    "start_time": "2022-03-04T10:00:06.136Z"
   },
   {
    "duration": 10,
    "start_time": "2022-03-04T10:00:07.422Z"
   },
   {
    "duration": 8,
    "start_time": "2022-03-04T10:00:13.534Z"
   },
   {
    "duration": 5,
    "start_time": "2022-03-04T10:01:32.926Z"
   },
   {
    "duration": 38,
    "start_time": "2022-03-04T10:01:33.391Z"
   },
   {
    "duration": 16,
    "start_time": "2022-03-04T10:01:34.696Z"
   },
   {
    "duration": 23,
    "start_time": "2022-03-04T10:01:35.658Z"
   },
   {
    "duration": 8,
    "start_time": "2022-03-04T10:01:36.632Z"
   },
   {
    "duration": 1153,
    "start_time": "2022-03-04T10:01:37.016Z"
   },
   {
    "duration": 11,
    "start_time": "2022-03-04T10:01:38.174Z"
   },
   {
    "duration": 8,
    "start_time": "2022-03-04T10:01:42.552Z"
   },
   {
    "duration": 6,
    "start_time": "2022-03-04T10:43:41.769Z"
   },
   {
    "duration": 42,
    "start_time": "2022-03-04T10:43:44.621Z"
   },
   {
    "duration": 13,
    "start_time": "2022-03-04T10:43:45.409Z"
   },
   {
    "duration": 7,
    "start_time": "2022-03-04T10:45:40.477Z"
   },
   {
    "duration": 33,
    "start_time": "2022-03-04T10:45:41.373Z"
   },
   {
    "duration": 18,
    "start_time": "2022-03-04T10:45:41.877Z"
   },
   {
    "duration": 356,
    "start_time": "2022-03-04T10:46:57.591Z"
   },
   {
    "duration": 5,
    "start_time": "2022-03-04T10:48:25.352Z"
   },
   {
    "duration": 20,
    "start_time": "2022-03-04T10:48:26.384Z"
   },
   {
    "duration": 19,
    "start_time": "2022-03-04T10:48:27.256Z"
   },
   {
    "duration": 5,
    "start_time": "2022-03-04T10:48:48.658Z"
   },
   {
    "duration": 22,
    "start_time": "2022-03-04T10:48:49.352Z"
   },
   {
    "duration": 11,
    "start_time": "2022-03-04T10:48:49.877Z"
   },
   {
    "duration": 4,
    "start_time": "2022-03-04T10:49:34.810Z"
   },
   {
    "duration": 24,
    "start_time": "2022-03-04T10:49:35.483Z"
   },
   {
    "duration": 8308,
    "start_time": "2022-03-04T10:49:36.299Z"
   },
   {
    "duration": 5,
    "start_time": "2022-03-04T10:50:57.093Z"
   },
   {
    "duration": 31,
    "start_time": "2022-03-04T10:50:57.828Z"
   },
   {
    "duration": 15,
    "start_time": "2022-03-04T10:50:58.300Z"
   },
   {
    "duration": 4,
    "start_time": "2022-03-04T10:52:13.382Z"
   },
   {
    "duration": 39,
    "start_time": "2022-03-04T10:52:14.105Z"
   },
   {
    "duration": 40,
    "start_time": "2022-03-04T10:52:26.838Z"
   },
   {
    "duration": 7,
    "start_time": "2022-03-04T10:52:52.017Z"
   },
   {
    "duration": 7,
    "start_time": "2022-03-04T10:53:12.866Z"
   },
   {
    "duration": 6,
    "start_time": "2022-03-04T10:54:10.019Z"
   },
   {
    "duration": 6,
    "start_time": "2022-03-04T10:55:01.514Z"
   },
   {
    "duration": 5,
    "start_time": "2022-03-04T10:58:29.080Z"
   },
   {
    "duration": 32,
    "start_time": "2022-03-04T10:58:35.736Z"
   },
   {
    "duration": 13,
    "start_time": "2022-03-04T10:58:38.288Z"
   },
   {
    "duration": 5,
    "start_time": "2022-03-04T10:59:18.986Z"
   },
   {
    "duration": 5,
    "start_time": "2022-03-04T10:59:19.541Z"
   },
   {
    "duration": 6,
    "start_time": "2022-03-04T10:59:24.499Z"
   },
   {
    "duration": 54,
    "start_time": "2022-03-04T10:59:25.011Z"
   },
   {
    "duration": 6,
    "start_time": "2022-03-04T10:59:25.450Z"
   },
   {
    "duration": 21,
    "start_time": "2022-03-04T10:59:28.970Z"
   },
   {
    "duration": 8,
    "start_time": "2022-03-04T10:59:30.827Z"
   },
   {
    "duration": 1634,
    "start_time": "2022-03-04T10:59:35.946Z"
   },
   {
    "duration": 8,
    "start_time": "2022-03-04T10:59:37.583Z"
   },
   {
    "duration": 308,
    "start_time": "2022-03-04T10:59:59.474Z"
   },
   {
    "duration": 30,
    "start_time": "2022-03-04T11:00:05.205Z"
   },
   {
    "duration": 6,
    "start_time": "2022-03-04T11:00:29.190Z"
   },
   {
    "duration": 63,
    "start_time": "2022-03-04T11:00:30.795Z"
   },
   {
    "duration": 21,
    "start_time": "2022-03-04T11:00:31.285Z"
   },
   {
    "duration": 25,
    "start_time": "2022-03-04T11:00:35.948Z"
   },
   {
    "duration": 113,
    "start_time": "2022-03-04T11:02:18.790Z"
   },
   {
    "duration": 27,
    "start_time": "2022-03-04T11:02:23.486Z"
   },
   {
    "duration": 4,
    "start_time": "2022-03-04T11:02:58.375Z"
   },
   {
    "duration": 37,
    "start_time": "2022-03-04T11:02:59.081Z"
   },
   {
    "duration": 22,
    "start_time": "2022-03-04T11:03:02.334Z"
   },
   {
    "duration": 25,
    "start_time": "2022-03-04T11:03:03.897Z"
   },
   {
    "duration": 315,
    "start_time": "2022-03-04T11:05:00.865Z"
   },
   {
    "duration": 7,
    "start_time": "2022-03-04T11:05:05.515Z"
   },
   {
    "duration": 10,
    "start_time": "2022-03-04T11:05:06.090Z"
   },
   {
    "duration": 106,
    "start_time": "2022-03-04T11:08:31.007Z"
   },
   {
    "duration": 29,
    "start_time": "2022-03-04T11:08:45.776Z"
   },
   {
    "duration": 17,
    "start_time": "2022-03-04T11:08:58.497Z"
   },
   {
    "duration": 10,
    "start_time": "2022-03-04T11:09:14.021Z"
   },
   {
    "duration": 16,
    "start_time": "2022-03-04T11:10:03.845Z"
   },
   {
    "duration": 15,
    "start_time": "2022-03-04T11:10:07.603Z"
   },
   {
    "duration": 6,
    "start_time": "2022-03-04T11:10:08.716Z"
   },
   {
    "duration": 6,
    "start_time": "2022-03-04T11:10:25.802Z"
   },
   {
    "duration": 4,
    "start_time": "2022-03-04T11:10:30.091Z"
   },
   {
    "duration": 39,
    "start_time": "2022-03-04T11:10:31.051Z"
   },
   {
    "duration": 19,
    "start_time": "2022-03-04T11:10:31.995Z"
   },
   {
    "duration": 9,
    "start_time": "2022-03-04T11:10:34.674Z"
   },
   {
    "duration": 22,
    "start_time": "2022-03-04T11:10:35.507Z"
   },
   {
    "duration": 12,
    "start_time": "2022-03-04T11:10:37.563Z"
   },
   {
    "duration": 15,
    "start_time": "2022-03-04T11:10:38.381Z"
   },
   {
    "duration": 7,
    "start_time": "2022-03-04T11:10:40.843Z"
   },
   {
    "duration": 6,
    "start_time": "2022-03-04T11:11:43.453Z"
   },
   {
    "duration": 9,
    "start_time": "2022-03-04T11:11:47.069Z"
   },
   {
    "duration": 334,
    "start_time": "2022-03-04T11:12:16.566Z"
   },
   {
    "duration": 16,
    "start_time": "2022-03-04T11:12:21.102Z"
   },
   {
    "duration": 13,
    "start_time": "2022-03-04T11:12:43.519Z"
   },
   {
    "duration": 11,
    "start_time": "2022-03-04T11:12:54.247Z"
   },
   {
    "duration": 21,
    "start_time": "2022-03-04T11:13:00.023Z"
   },
   {
    "duration": 14,
    "start_time": "2022-03-04T11:13:01.223Z"
   },
   {
    "duration": 9,
    "start_time": "2022-03-04T11:14:19.976Z"
   },
   {
    "duration": 118,
    "start_time": "2022-03-04T11:14:32.192Z"
   },
   {
    "duration": 7,
    "start_time": "2022-03-04T11:14:39.560Z"
   },
   {
    "duration": 3,
    "start_time": "2022-03-04T11:14:44.834Z"
   },
   {
    "duration": 9,
    "start_time": "2022-03-04T11:14:44.839Z"
   },
   {
    "duration": 83,
    "start_time": "2022-03-04T11:14:44.851Z"
   },
   {
    "duration": 12,
    "start_time": "2022-03-04T11:14:44.937Z"
   },
   {
    "duration": 24,
    "start_time": "2022-03-04T11:14:44.952Z"
   },
   {
    "duration": 69,
    "start_time": "2022-03-04T11:14:44.979Z"
   },
   {
    "duration": 354,
    "start_time": "2022-03-04T11:14:45.051Z"
   },
   {
    "duration": 29,
    "start_time": "2022-03-04T11:14:45.408Z"
   },
   {
    "duration": 308,
    "start_time": "2022-03-04T11:14:45.441Z"
   },
   {
    "duration": 635,
    "start_time": "2022-03-04T11:14:45.752Z"
   },
   {
    "duration": 21,
    "start_time": "2022-03-04T11:14:46.390Z"
   },
   {
    "duration": 4,
    "start_time": "2022-03-04T11:14:46.433Z"
   },
   {
    "duration": 5,
    "start_time": "2022-03-04T11:14:46.440Z"
   },
   {
    "duration": 17,
    "start_time": "2022-03-04T11:14:46.447Z"
   },
   {
    "duration": 17,
    "start_time": "2022-03-04T11:14:46.467Z"
   },
   {
    "duration": 749,
    "start_time": "2022-03-04T11:14:46.487Z"
   },
   {
    "duration": 20,
    "start_time": "2022-03-04T11:14:47.238Z"
   },
   {
    "duration": 566,
    "start_time": "2022-03-04T11:14:47.261Z"
   },
   {
    "duration": 6,
    "start_time": "2022-03-04T11:14:47.837Z"
   },
   {
    "duration": 39,
    "start_time": "2022-03-04T11:14:47.846Z"
   },
   {
    "duration": 45,
    "start_time": "2022-03-04T11:14:47.887Z"
   },
   {
    "duration": 9,
    "start_time": "2022-03-04T11:14:47.936Z"
   },
   {
    "duration": 11,
    "start_time": "2022-03-04T11:15:51.789Z"
   },
   {
    "duration": 8,
    "start_time": "2022-03-04T11:15:56.692Z"
   },
   {
    "duration": 13,
    "start_time": "2022-03-04T11:16:02.084Z"
   },
   {
    "duration": 9,
    "start_time": "2022-03-04T11:17:06.773Z"
   },
   {
    "duration": 13,
    "start_time": "2022-03-04T11:17:28.807Z"
   },
   {
    "duration": 7,
    "start_time": "2022-03-04T11:17:34.943Z"
   },
   {
    "duration": 39,
    "start_time": "2022-03-04T11:17:35.349Z"
   },
   {
    "duration": 19,
    "start_time": "2022-03-04T11:17:36.079Z"
   },
   {
    "duration": 24,
    "start_time": "2022-03-04T11:17:36.855Z"
   },
   {
    "duration": 5,
    "start_time": "2022-03-04T11:18:06.191Z"
   },
   {
    "duration": 41,
    "start_time": "2022-03-04T11:18:06.966Z"
   },
   {
    "duration": 17,
    "start_time": "2022-03-04T11:18:07.382Z"
   },
   {
    "duration": 26,
    "start_time": "2022-03-04T11:18:08.503Z"
   },
   {
    "duration": 5,
    "start_time": "2022-03-04T11:18:54.808Z"
   },
   {
    "duration": 41,
    "start_time": "2022-03-04T11:18:57.281Z"
   },
   {
    "duration": 13,
    "start_time": "2022-03-04T11:18:57.705Z"
   },
   {
    "duration": 30,
    "start_time": "2022-03-04T11:18:58.561Z"
   },
   {
    "duration": 5,
    "start_time": "2022-03-04T11:19:12.489Z"
   },
   {
    "duration": 40,
    "start_time": "2022-03-04T11:19:12.866Z"
   },
   {
    "duration": 13,
    "start_time": "2022-03-04T11:19:13.211Z"
   },
   {
    "duration": 25,
    "start_time": "2022-03-04T11:19:14.641Z"
   },
   {
    "duration": 4,
    "start_time": "2022-03-04T11:19:36.050Z"
   },
   {
    "duration": 45,
    "start_time": "2022-03-04T11:19:36.520Z"
   },
   {
    "duration": 16,
    "start_time": "2022-03-04T11:19:36.888Z"
   },
   {
    "duration": 23,
    "start_time": "2022-03-04T11:19:37.825Z"
   },
   {
    "duration": 5,
    "start_time": "2022-03-04T11:20:12.274Z"
   },
   {
    "duration": 45,
    "start_time": "2022-03-04T11:20:12.778Z"
   },
   {
    "duration": 17,
    "start_time": "2022-03-04T11:20:13.194Z"
   },
   {
    "duration": 18,
    "start_time": "2022-03-04T11:20:13.795Z"
   },
   {
    "duration": 6,
    "start_time": "2022-03-04T11:21:08.146Z"
   },
   {
    "duration": 45,
    "start_time": "2022-03-04T11:21:10.022Z"
   },
   {
    "duration": 19,
    "start_time": "2022-03-04T11:21:10.070Z"
   },
   {
    "duration": 15,
    "start_time": "2022-03-04T11:21:10.266Z"
   },
   {
    "duration": 9,
    "start_time": "2022-03-04T11:21:12.149Z"
   },
   {
    "duration": 8,
    "start_time": "2022-03-04T11:21:16.723Z"
   },
   {
    "duration": 7,
    "start_time": "2022-03-04T11:21:17.838Z"
   },
   {
    "duration": 13,
    "start_time": "2022-03-04T11:21:19.282Z"
   },
   {
    "duration": 4,
    "start_time": "2022-03-04T15:46:58.641Z"
   },
   {
    "duration": 13,
    "start_time": "2022-03-04T15:46:58.651Z"
   },
   {
    "duration": 94,
    "start_time": "2022-03-04T15:46:58.668Z"
   },
   {
    "duration": 15,
    "start_time": "2022-03-04T15:46:58.765Z"
   },
   {
    "duration": 58,
    "start_time": "2022-03-04T15:46:58.783Z"
   },
   {
    "duration": 28,
    "start_time": "2022-03-04T15:46:58.844Z"
   },
   {
    "duration": 444,
    "start_time": "2022-03-04T15:46:58.876Z"
   },
   {
    "duration": 20,
    "start_time": "2022-03-04T15:46:59.328Z"
   },
   {
    "duration": 260,
    "start_time": "2022-03-04T15:46:59.354Z"
   },
   {
    "duration": 553,
    "start_time": "2022-03-04T15:46:59.619Z"
   },
   {
    "duration": 25,
    "start_time": "2022-03-04T15:47:00.176Z"
   },
   {
    "duration": 29,
    "start_time": "2022-03-04T15:47:00.204Z"
   },
   {
    "duration": 32,
    "start_time": "2022-03-04T15:47:00.236Z"
   },
   {
    "duration": 54,
    "start_time": "2022-03-04T15:47:00.272Z"
   },
   {
    "duration": 37,
    "start_time": "2022-03-04T15:47:00.330Z"
   },
   {
    "duration": 742,
    "start_time": "2022-03-04T15:47:00.371Z"
   },
   {
    "duration": 29,
    "start_time": "2022-03-04T15:47:01.116Z"
   },
   {
    "duration": 831,
    "start_time": "2022-03-04T15:47:01.148Z"
   },
   {
    "duration": 7,
    "start_time": "2022-03-04T15:47:01.983Z"
   },
   {
    "duration": 140,
    "start_time": "2022-03-04T15:47:01.993Z"
   },
   {
    "duration": 19,
    "start_time": "2022-03-04T15:47:02.136Z"
   },
   {
    "duration": 38,
    "start_time": "2022-03-04T15:47:02.158Z"
   },
   {
    "duration": 14,
    "start_time": "2022-03-04T15:47:02.200Z"
   },
   {
    "duration": 30,
    "start_time": "2022-03-04T15:47:02.218Z"
   },
   {
    "duration": 29,
    "start_time": "2022-03-04T15:47:02.251Z"
   },
   {
    "duration": 5,
    "start_time": "2022-03-04T15:48:47.041Z"
   },
   {
    "duration": 1863,
    "start_time": "2022-03-04T15:48:47.051Z"
   },
   {
    "duration": 82,
    "start_time": "2022-03-04T15:48:48.917Z"
   },
   {
    "duration": 11,
    "start_time": "2022-03-04T15:48:49.002Z"
   },
   {
    "duration": 21,
    "start_time": "2022-03-04T15:48:49.016Z"
   },
   {
    "duration": 23,
    "start_time": "2022-03-04T15:48:49.039Z"
   },
   {
    "duration": 335,
    "start_time": "2022-03-04T15:48:49.065Z"
   },
   {
    "duration": 13,
    "start_time": "2022-03-04T15:48:49.403Z"
   },
   {
    "duration": 819,
    "start_time": "2022-03-04T15:48:49.420Z"
   },
   {
    "duration": 756,
    "start_time": "2022-03-04T15:48:50.243Z"
   },
   {
    "duration": 37,
    "start_time": "2022-03-04T15:48:51.001Z"
   },
   {
    "duration": 4,
    "start_time": "2022-03-04T15:48:51.040Z"
   },
   {
    "duration": 7,
    "start_time": "2022-03-04T15:48:51.046Z"
   },
   {
    "duration": 145,
    "start_time": "2022-03-04T15:48:51.056Z"
   },
   {
    "duration": 30,
    "start_time": "2022-03-04T15:48:51.203Z"
   },
   {
    "duration": 689,
    "start_time": "2022-03-04T15:48:51.235Z"
   },
   {
    "duration": 18,
    "start_time": "2022-03-04T15:48:51.927Z"
   },
   {
    "duration": 397,
    "start_time": "2022-03-04T15:48:51.947Z"
   },
   {
    "duration": 5,
    "start_time": "2022-03-04T15:48:52.346Z"
   },
   {
    "duration": 48,
    "start_time": "2022-03-04T15:48:52.353Z"
   },
   {
    "duration": 29,
    "start_time": "2022-03-04T15:48:52.403Z"
   },
   {
    "duration": 18,
    "start_time": "2022-03-04T15:48:52.435Z"
   },
   {
    "duration": 10,
    "start_time": "2022-03-04T15:48:52.456Z"
   },
   {
    "duration": 9,
    "start_time": "2022-03-04T15:48:52.472Z"
   },
   {
    "duration": 51,
    "start_time": "2022-03-04T15:48:52.484Z"
   },
   {
    "duration": 3,
    "start_time": "2022-03-05T04:45:54.335Z"
   },
   {
    "duration": 2,
    "start_time": "2022-03-05T06:06:25.086Z"
   },
   {
    "duration": 1403,
    "start_time": "2022-03-05T06:06:25.089Z"
   },
   {
    "duration": 72,
    "start_time": "2022-03-05T06:06:26.495Z"
   },
   {
    "duration": 12,
    "start_time": "2022-03-05T06:06:26.569Z"
   },
   {
    "duration": 25,
    "start_time": "2022-03-05T06:06:26.583Z"
   },
   {
    "duration": 23,
    "start_time": "2022-03-05T06:06:26.610Z"
   },
   {
    "duration": 193,
    "start_time": "2022-03-05T06:06:26.634Z"
   },
   {
    "duration": 8,
    "start_time": "2022-03-05T06:06:26.828Z"
   },
   {
    "duration": 475,
    "start_time": "2022-03-05T06:06:26.838Z"
   },
   {
    "duration": 310,
    "start_time": "2022-03-05T06:06:27.315Z"
   },
   {
    "duration": 16,
    "start_time": "2022-03-05T06:06:27.626Z"
   },
   {
    "duration": 2,
    "start_time": "2022-03-05T06:06:27.643Z"
   },
   {
    "duration": 9,
    "start_time": "2022-03-05T06:06:27.647Z"
   },
   {
    "duration": 12,
    "start_time": "2022-03-05T06:06:27.657Z"
   },
   {
    "duration": 113,
    "start_time": "2022-03-05T06:06:27.670Z"
   },
   {
    "duration": 407,
    "start_time": "2022-03-05T06:06:27.784Z"
   },
   {
    "duration": 14,
    "start_time": "2022-03-05T06:06:28.193Z"
   },
   {
    "duration": 212,
    "start_time": "2022-03-05T06:06:28.209Z"
   },
   {
    "duration": 3,
    "start_time": "2022-03-05T06:06:28.423Z"
   },
   {
    "duration": 25,
    "start_time": "2022-03-05T06:06:28.428Z"
   },
   {
    "duration": 8,
    "start_time": "2022-03-05T06:06:28.455Z"
   },
   {
    "duration": 45,
    "start_time": "2022-03-05T06:06:28.465Z"
   },
   {
    "duration": 8,
    "start_time": "2022-03-05T06:06:28.513Z"
   },
   {
    "duration": 13,
    "start_time": "2022-03-05T06:06:28.523Z"
   },
   {
    "duration": 15,
    "start_time": "2022-03-05T06:06:28.538Z"
   },
   {
    "duration": 4,
    "start_time": "2022-03-05T06:06:51.469Z"
   },
   {
    "duration": 43,
    "start_time": "2022-03-05T06:06:53.805Z"
   },
   {
    "duration": 13,
    "start_time": "2022-03-05T06:06:54.359Z"
   },
   {
    "duration": 13,
    "start_time": "2022-03-05T06:06:55.535Z"
   },
   {
    "duration": 6,
    "start_time": "2022-03-05T06:06:57.645Z"
   },
   {
    "duration": 6,
    "start_time": "2022-03-05T06:06:58.132Z"
   },
   {
    "duration": 8,
    "start_time": "2022-03-05T06:06:59.478Z"
   },
   {
    "duration": 4,
    "start_time": "2022-03-05T06:08:15.174Z"
   },
   {
    "duration": 26,
    "start_time": "2022-03-05T06:08:15.608Z"
   },
   {
    "duration": 10,
    "start_time": "2022-03-05T06:08:16.366Z"
   },
   {
    "duration": 5,
    "start_time": "2022-03-05T06:08:25.374Z"
   },
   {
    "duration": 9,
    "start_time": "2022-03-05T06:08:26.024Z"
   },
   {
    "duration": 29654,
    "start_time": "2022-03-05T06:16:18.117Z"
   },
   {
    "duration": 2,
    "start_time": "2022-03-05T06:19:42.968Z"
   },
   {
    "duration": 5,
    "start_time": "2022-03-05T06:19:42.972Z"
   },
   {
    "duration": 63,
    "start_time": "2022-03-05T06:19:42.979Z"
   },
   {
    "duration": 8,
    "start_time": "2022-03-05T06:19:43.043Z"
   },
   {
    "duration": 16,
    "start_time": "2022-03-05T06:19:43.052Z"
   },
   {
    "duration": 16,
    "start_time": "2022-03-05T06:19:43.069Z"
   },
   {
    "duration": 199,
    "start_time": "2022-03-05T06:19:43.087Z"
   },
   {
    "duration": 9,
    "start_time": "2022-03-05T06:19:43.288Z"
   },
   {
    "duration": 115,
    "start_time": "2022-03-05T06:19:43.298Z"
   },
   {
    "duration": 257,
    "start_time": "2022-03-05T06:19:43.415Z"
   },
   {
    "duration": 14,
    "start_time": "2022-03-05T06:19:43.674Z"
   },
   {
    "duration": 15,
    "start_time": "2022-03-05T06:19:43.691Z"
   },
   {
    "duration": 11,
    "start_time": "2022-03-05T06:19:43.708Z"
   },
   {
    "duration": 13,
    "start_time": "2022-03-05T06:19:43.720Z"
   },
   {
    "duration": 20,
    "start_time": "2022-03-05T06:19:43.735Z"
   },
   {
    "duration": 735,
    "start_time": "2022-03-05T06:19:43.757Z"
   },
   {
    "duration": 16,
    "start_time": "2022-03-05T06:19:44.494Z"
   },
   {
    "duration": 222,
    "start_time": "2022-03-05T06:19:44.511Z"
   },
   {
    "duration": 3,
    "start_time": "2022-03-05T06:19:44.736Z"
   },
   {
    "duration": 26,
    "start_time": "2022-03-05T06:19:44.740Z"
   },
   {
    "duration": 4,
    "start_time": "2022-03-05T06:19:44.768Z"
   },
   {
    "duration": 3,
    "start_time": "2022-03-05T06:19:58.394Z"
   },
   {
    "duration": 1389,
    "start_time": "2022-03-05T06:19:58.400Z"
   },
   {
    "duration": 50,
    "start_time": "2022-03-05T06:19:59.790Z"
   },
   {
    "duration": 7,
    "start_time": "2022-03-05T06:19:59.842Z"
   },
   {
    "duration": 15,
    "start_time": "2022-03-05T06:19:59.851Z"
   },
   {
    "duration": 14,
    "start_time": "2022-03-05T06:19:59.868Z"
   },
   {
    "duration": 188,
    "start_time": "2022-03-05T06:19:59.883Z"
   },
   {
    "duration": 8,
    "start_time": "2022-03-05T06:20:00.072Z"
   },
   {
    "duration": 462,
    "start_time": "2022-03-05T06:20:00.082Z"
   },
   {
    "duration": 324,
    "start_time": "2022-03-05T06:20:00.546Z"
   },
   {
    "duration": 16,
    "start_time": "2022-03-05T06:20:00.872Z"
   },
   {
    "duration": 3,
    "start_time": "2022-03-05T06:20:00.906Z"
   },
   {
    "duration": 12,
    "start_time": "2022-03-05T06:20:00.911Z"
   },
   {
    "duration": 23,
    "start_time": "2022-03-05T06:20:00.925Z"
   },
   {
    "duration": 117,
    "start_time": "2022-03-05T06:20:00.950Z"
   },
   {
    "duration": 406,
    "start_time": "2022-03-05T06:20:01.069Z"
   },
   {
    "duration": 13,
    "start_time": "2022-03-05T06:20:01.477Z"
   },
   {
    "duration": 236,
    "start_time": "2022-03-05T06:20:01.491Z"
   },
   {
    "duration": 4,
    "start_time": "2022-03-05T06:20:01.729Z"
   },
   {
    "duration": 37,
    "start_time": "2022-03-05T06:20:01.735Z"
   },
   {
    "duration": 5,
    "start_time": "2022-03-05T06:20:01.773Z"
   },
   {
    "duration": 27438,
    "start_time": "2022-03-05T06:20:01.779Z"
   },
   {
    "duration": 9,
    "start_time": "2022-03-05T06:57:50.930Z"
   },
   {
    "duration": 11,
    "start_time": "2022-03-05T06:58:06.976Z"
   },
   {
    "duration": 12,
    "start_time": "2022-03-05T06:58:40.082Z"
   },
   {
    "duration": 92,
    "start_time": "2022-03-05T06:59:20.020Z"
   },
   {
    "duration": 436,
    "start_time": "2022-03-05T06:59:32.891Z"
   },
   {
    "duration": 10,
    "start_time": "2022-03-05T07:00:14.550Z"
   },
   {
    "duration": 12,
    "start_time": "2022-03-05T07:00:19.838Z"
   },
   {
    "duration": 494,
    "start_time": "2022-03-05T07:00:47.230Z"
   },
   {
    "duration": 222,
    "start_time": "2022-03-05T07:01:04.198Z"
   },
   {
    "duration": 11,
    "start_time": "2022-03-05T07:01:18.111Z"
   },
   {
    "duration": 343,
    "start_time": "2022-03-05T07:01:19.944Z"
   },
   {
    "duration": 290,
    "start_time": "2022-03-05T07:03:39.330Z"
   },
   {
    "duration": 13,
    "start_time": "2022-03-05T07:03:42.907Z"
   },
   {
    "duration": 7,
    "start_time": "2022-03-05T07:03:45.473Z"
   },
   {
    "duration": 7501,
    "start_time": "2022-03-05T07:05:26.422Z"
   },
   {
    "duration": 7791,
    "start_time": "2022-03-05T07:05:43.278Z"
   },
   {
    "duration": 5,
    "start_time": "2022-03-05T07:06:04.913Z"
   },
   {
    "duration": 10,
    "start_time": "2022-03-05T07:06:11.856Z"
   },
   {
    "duration": 2178,
    "start_time": "2022-03-05T07:44:26.321Z"
   },
   {
    "duration": 2175,
    "start_time": "2022-03-05T07:44:52.778Z"
   },
   {
    "duration": 1631,
    "start_time": "2022-03-05T07:47:45.369Z"
   },
   {
    "duration": 12,
    "start_time": "2022-03-05T09:55:25.262Z"
   },
   {
    "duration": 1340,
    "start_time": "2022-03-05T10:34:43.504Z"
   },
   {
    "duration": 1395,
    "start_time": "2022-03-05T10:34:47.282Z"
   },
   {
    "duration": 1230,
    "start_time": "2022-03-05T10:35:00.910Z"
   },
   {
    "duration": 1042,
    "start_time": "2022-03-05T10:35:13.122Z"
   },
   {
    "duration": 568,
    "start_time": "2022-03-05T10:35:24.234Z"
   },
   {
    "duration": 8,
    "start_time": "2022-03-05T10:36:00.162Z"
   },
   {
    "duration": 7,
    "start_time": "2022-03-05T10:36:07.778Z"
   },
   {
    "duration": 2,
    "start_time": "2022-03-05T10:36:34.366Z"
   },
   {
    "duration": 5,
    "start_time": "2022-03-05T10:36:34.370Z"
   },
   {
    "duration": 48,
    "start_time": "2022-03-05T10:36:34.376Z"
   },
   {
    "duration": 7,
    "start_time": "2022-03-05T10:36:34.426Z"
   },
   {
    "duration": 14,
    "start_time": "2022-03-05T10:36:34.434Z"
   },
   {
    "duration": 14,
    "start_time": "2022-03-05T10:36:34.449Z"
   },
   {
    "duration": 184,
    "start_time": "2022-03-05T10:36:34.464Z"
   },
   {
    "duration": 8,
    "start_time": "2022-03-05T10:36:34.650Z"
   },
   {
    "duration": 110,
    "start_time": "2022-03-05T10:36:34.660Z"
   },
   {
    "duration": 233,
    "start_time": "2022-03-05T10:36:34.772Z"
   },
   {
    "duration": 13,
    "start_time": "2022-03-05T10:36:35.007Z"
   },
   {
    "duration": 3,
    "start_time": "2022-03-05T10:36:35.022Z"
   },
   {
    "duration": 3,
    "start_time": "2022-03-05T10:36:35.027Z"
   },
   {
    "duration": 11,
    "start_time": "2022-03-05T10:36:35.032Z"
   },
   {
    "duration": 10,
    "start_time": "2022-03-05T10:36:35.045Z"
   },
   {
    "duration": 426,
    "start_time": "2022-03-05T10:36:35.056Z"
   },
   {
    "duration": 10,
    "start_time": "2022-03-05T10:36:35.483Z"
   },
   {
    "duration": 348,
    "start_time": "2022-03-05T10:36:35.495Z"
   },
   {
    "duration": 3,
    "start_time": "2022-03-05T10:36:35.844Z"
   },
   {
    "duration": 39,
    "start_time": "2022-03-05T10:36:35.848Z"
   },
   {
    "duration": 4,
    "start_time": "2022-03-05T10:36:35.888Z"
   },
   {
    "duration": 26,
    "start_time": "2022-03-05T10:36:35.894Z"
   },
   {
    "duration": 212,
    "start_time": "2022-03-05T10:36:35.921Z"
   },
   {
    "duration": 11,
    "start_time": "2022-03-05T10:36:36.135Z"
   },
   {
    "duration": 1119,
    "start_time": "2022-03-05T10:36:36.148Z"
   },
   {
    "duration": 296,
    "start_time": "2022-03-05T10:36:37.268Z"
   },
   {
    "duration": 33,
    "start_time": "2022-03-05T10:40:32.218Z"
   },
   {
    "duration": 26,
    "start_time": "2022-03-05T10:40:46.202Z"
   },
   {
    "duration": 9,
    "start_time": "2022-03-05T10:41:00.799Z"
   },
   {
    "duration": 4,
    "start_time": "2022-03-07T13:46:24.864Z"
   },
   {
    "duration": 1726,
    "start_time": "2022-03-07T13:46:24.872Z"
   },
   {
    "duration": 66,
    "start_time": "2022-03-07T13:46:26.601Z"
   },
   {
    "duration": 11,
    "start_time": "2022-03-07T13:46:26.670Z"
   },
   {
    "duration": 24,
    "start_time": "2022-03-07T13:46:26.684Z"
   },
   {
    "duration": 56,
    "start_time": "2022-03-07T13:46:26.710Z"
   },
   {
    "duration": 329,
    "start_time": "2022-03-07T13:46:26.769Z"
   },
   {
    "duration": 12,
    "start_time": "2022-03-07T13:46:27.101Z"
   },
   {
    "duration": 734,
    "start_time": "2022-03-07T13:46:27.117Z"
   },
   {
    "duration": 560,
    "start_time": "2022-03-07T13:46:27.853Z"
   },
   {
    "duration": 35,
    "start_time": "2022-03-07T13:46:28.416Z"
   },
   {
    "duration": 4,
    "start_time": "2022-03-07T13:46:28.453Z"
   },
   {
    "duration": 9,
    "start_time": "2022-03-07T13:46:28.459Z"
   },
   {
    "duration": 128,
    "start_time": "2022-03-07T13:46:28.470Z"
   },
   {
    "duration": 18,
    "start_time": "2022-03-07T13:46:28.600Z"
   },
   {
    "duration": 648,
    "start_time": "2022-03-07T13:46:28.620Z"
   },
   {
    "duration": 19,
    "start_time": "2022-03-07T13:46:29.271Z"
   },
   {
    "duration": 389,
    "start_time": "2022-03-07T13:46:29.292Z"
   },
   {
    "duration": 6,
    "start_time": "2022-03-07T13:46:29.685Z"
   },
   {
    "duration": 70,
    "start_time": "2022-03-07T13:46:29.694Z"
   },
   {
    "duration": 8,
    "start_time": "2022-03-07T13:46:29.766Z"
   },
   {
    "duration": 26,
    "start_time": "2022-03-07T13:46:29.777Z"
   },
   {
    "duration": 524,
    "start_time": "2022-03-07T13:46:29.807Z"
   },
   {
    "duration": 30,
    "start_time": "2022-03-07T13:46:30.334Z"
   },
   {
    "duration": 1553,
    "start_time": "2022-03-07T13:46:30.367Z"
   },
   {
    "duration": 13,
    "start_time": "2022-03-07T13:46:36.549Z"
   },
   {
    "duration": 14,
    "start_time": "2022-03-07T13:54:31.188Z"
   },
   {
    "duration": 3,
    "start_time": "2022-03-07T13:54:35.982Z"
   },
   {
    "duration": 9,
    "start_time": "2022-03-07T13:54:35.988Z"
   },
   {
    "duration": 72,
    "start_time": "2022-03-07T13:54:35.999Z"
   },
   {
    "duration": 11,
    "start_time": "2022-03-07T13:54:36.073Z"
   },
   {
    "duration": 24,
    "start_time": "2022-03-07T13:54:36.087Z"
   },
   {
    "duration": 56,
    "start_time": "2022-03-07T13:54:36.113Z"
   },
   {
    "duration": 402,
    "start_time": "2022-03-07T13:54:36.171Z"
   },
   {
    "duration": 15,
    "start_time": "2022-03-07T13:54:36.578Z"
   },
   {
    "duration": 220,
    "start_time": "2022-03-07T13:54:36.597Z"
   },
   {
    "duration": 448,
    "start_time": "2022-03-07T13:54:36.820Z"
   },
   {
    "duration": 27,
    "start_time": "2022-03-07T13:54:37.271Z"
   },
   {
    "duration": 4,
    "start_time": "2022-03-07T13:54:37.301Z"
   },
   {
    "duration": 24,
    "start_time": "2022-03-07T13:54:37.309Z"
   },
   {
    "duration": 32,
    "start_time": "2022-03-07T13:54:37.336Z"
   },
   {
    "duration": 16,
    "start_time": "2022-03-07T13:54:37.373Z"
   },
   {
    "duration": 652,
    "start_time": "2022-03-07T13:54:37.392Z"
   },
   {
    "duration": 18,
    "start_time": "2022-03-07T13:54:38.047Z"
   },
   {
    "duration": 559,
    "start_time": "2022-03-07T13:54:38.067Z"
   },
   {
    "duration": 5,
    "start_time": "2022-03-07T13:54:38.628Z"
   },
   {
    "duration": 43,
    "start_time": "2022-03-07T13:54:38.651Z"
   },
   {
    "duration": 6,
    "start_time": "2022-03-07T13:54:38.697Z"
   },
   {
    "duration": 49,
    "start_time": "2022-03-07T13:54:38.708Z"
   },
   {
    "duration": 420,
    "start_time": "2022-03-07T13:54:38.760Z"
   },
   {
    "duration": 16,
    "start_time": "2022-03-07T13:54:39.183Z"
   },
   {
    "duration": 1619,
    "start_time": "2022-03-07T13:54:39.201Z"
   },
   {
    "duration": 38,
    "start_time": "2022-03-07T13:54:40.823Z"
   },
   {
    "duration": 9,
    "start_time": "2022-03-07T13:54:40.864Z"
   },
   {
    "duration": 22,
    "start_time": "2022-03-07T13:55:31.097Z"
   },
   {
    "duration": 9,
    "start_time": "2022-03-07T13:55:53.212Z"
   },
   {
    "duration": 1512,
    "start_time": "2022-03-07T15:35:16.997Z"
   },
   {
    "duration": 17,
    "start_time": "2022-03-07T15:35:24.320Z"
   },
   {
    "duration": 11,
    "start_time": "2022-03-07T15:35:25.014Z"
   },
   {
    "duration": 4,
    "start_time": "2022-03-07T15:35:38.457Z"
   },
   {
    "duration": 5,
    "start_time": "2022-03-07T15:35:38.464Z"
   },
   {
    "duration": 65,
    "start_time": "2022-03-07T15:35:38.472Z"
   },
   {
    "duration": 21,
    "start_time": "2022-03-07T15:35:38.539Z"
   },
   {
    "duration": 22,
    "start_time": "2022-03-07T15:35:38.563Z"
   },
   {
    "duration": 64,
    "start_time": "2022-03-07T15:35:38.587Z"
   },
   {
    "duration": 317,
    "start_time": "2022-03-07T15:35:38.655Z"
   },
   {
    "duration": 12,
    "start_time": "2022-03-07T15:35:38.975Z"
   },
   {
    "duration": 184,
    "start_time": "2022-03-07T15:35:38.990Z"
   },
   {
    "duration": 413,
    "start_time": "2022-03-07T15:35:39.177Z"
   },
   {
    "duration": 19,
    "start_time": "2022-03-07T15:35:39.593Z"
   },
   {
    "duration": 4,
    "start_time": "2022-03-07T15:35:39.614Z"
   },
   {
    "duration": 31,
    "start_time": "2022-03-07T15:35:39.620Z"
   },
   {
    "duration": 17,
    "start_time": "2022-03-07T15:35:39.653Z"
   },
   {
    "duration": 19,
    "start_time": "2022-03-07T15:35:39.672Z"
   },
   {
    "duration": 625,
    "start_time": "2022-03-07T15:35:39.693Z"
   },
   {
    "duration": 17,
    "start_time": "2022-03-07T15:35:40.320Z"
   },
   {
    "duration": 518,
    "start_time": "2022-03-07T15:35:40.352Z"
   },
   {
    "duration": 6,
    "start_time": "2022-03-07T15:35:40.872Z"
   },
   {
    "duration": 42,
    "start_time": "2022-03-07T15:35:40.881Z"
   },
   {
    "duration": 28,
    "start_time": "2022-03-07T15:35:40.925Z"
   },
   {
    "duration": 25,
    "start_time": "2022-03-07T15:35:40.956Z"
   },
   {
    "duration": 372,
    "start_time": "2022-03-07T15:35:40.983Z"
   },
   {
    "duration": 15,
    "start_time": "2022-03-07T15:35:41.357Z"
   },
   {
    "duration": 1074,
    "start_time": "2022-03-07T15:35:41.374Z"
   },
   {
    "duration": 28,
    "start_time": "2022-03-07T15:35:42.451Z"
   },
   {
    "duration": 9,
    "start_time": "2022-03-07T15:35:42.482Z"
   },
   {
    "duration": 957,
    "start_time": "2022-03-07T15:36:37.583Z"
   },
   {
    "duration": 4465,
    "start_time": "2022-03-08T07:16:31.077Z"
   },
   {
    "duration": 3,
    "start_time": "2022-03-08T07:16:52.883Z"
   },
   {
    "duration": 8,
    "start_time": "2022-03-08T07:16:52.889Z"
   },
   {
    "duration": 64,
    "start_time": "2022-03-08T07:16:52.901Z"
   },
   {
    "duration": 14,
    "start_time": "2022-03-08T07:16:52.968Z"
   },
   {
    "duration": 23,
    "start_time": "2022-03-08T07:16:52.984Z"
   },
   {
    "duration": 52,
    "start_time": "2022-03-08T07:16:53.009Z"
   },
   {
    "duration": 337,
    "start_time": "2022-03-08T07:16:53.064Z"
   },
   {
    "duration": 15,
    "start_time": "2022-03-08T07:16:53.403Z"
   },
   {
    "duration": 188,
    "start_time": "2022-03-08T07:16:53.423Z"
   },
   {
    "duration": 579,
    "start_time": "2022-03-08T07:16:53.615Z"
   },
   {
    "duration": 21,
    "start_time": "2022-03-08T07:16:54.197Z"
   },
   {
    "duration": 4,
    "start_time": "2022-03-08T07:16:54.221Z"
   },
   {
    "duration": 4,
    "start_time": "2022-03-08T07:16:54.252Z"
   },
   {
    "duration": 19,
    "start_time": "2022-03-08T07:16:54.259Z"
   },
   {
    "duration": 18,
    "start_time": "2022-03-08T07:16:54.280Z"
   },
   {
    "duration": 644,
    "start_time": "2022-03-08T07:16:54.301Z"
   },
   {
    "duration": 18,
    "start_time": "2022-03-08T07:16:54.951Z"
   },
   {
    "duration": 364,
    "start_time": "2022-03-08T07:16:54.971Z"
   },
   {
    "duration": 14,
    "start_time": "2022-03-08T07:16:55.337Z"
   },
   {
    "duration": 43,
    "start_time": "2022-03-08T07:16:55.353Z"
   },
   {
    "duration": 6,
    "start_time": "2022-03-08T07:16:55.399Z"
   },
   {
    "duration": 50,
    "start_time": "2022-03-08T07:16:55.407Z"
   },
   {
    "duration": 485,
    "start_time": "2022-03-08T07:16:55.459Z"
   },
   {
    "duration": 15,
    "start_time": "2022-03-08T07:16:55.951Z"
   },
   {
    "duration": 4548,
    "start_time": "2022-03-08T07:16:55.968Z"
   },
   {
    "duration": -1430,
    "start_time": "2022-03-08T07:17:01.949Z"
   },
   {
    "duration": -1432,
    "start_time": "2022-03-08T07:17:01.952Z"
   },
   {
    "duration": 6003,
    "start_time": "2022-03-08T07:22:24.369Z"
   },
   {
    "duration": 251,
    "start_time": "2022-03-08T07:22:59.657Z"
   },
   {
    "duration": 333,
    "start_time": "2022-03-08T07:23:07.152Z"
   },
   {
    "duration": 250,
    "start_time": "2022-03-08T07:25:13.673Z"
   },
   {
    "duration": 754,
    "start_time": "2022-03-08T07:58:26.130Z"
   },
   {
    "duration": 1006,
    "start_time": "2022-03-08T07:58:45.824Z"
   },
   {
    "duration": 6,
    "start_time": "2022-03-08T08:04:08.596Z"
   },
   {
    "duration": 19,
    "start_time": "2022-03-08T08:04:19.618Z"
   },
   {
    "duration": 6,
    "start_time": "2022-03-08T08:04:27.389Z"
   },
   {
    "duration": 25,
    "start_time": "2022-03-08T08:07:15.251Z"
   },
   {
    "duration": 73,
    "start_time": "2022-03-08T08:07:19.743Z"
   },
   {
    "duration": 220,
    "start_time": "2022-03-08T08:07:29.555Z"
   },
   {
    "duration": 48,
    "start_time": "2022-03-08T08:07:36.775Z"
   },
   {
    "duration": 10,
    "start_time": "2022-03-08T08:08:10.395Z"
   },
   {
    "duration": 25,
    "start_time": "2022-03-08T08:08:25.273Z"
   },
   {
    "duration": 40,
    "start_time": "2022-03-08T08:08:52.014Z"
   },
   {
    "duration": 27,
    "start_time": "2022-03-08T08:08:52.851Z"
   },
   {
    "duration": 10,
    "start_time": "2022-03-08T08:09:03.089Z"
   },
   {
    "duration": 68,
    "start_time": "2022-03-08T08:37:36.353Z"
   },
   {
    "duration": 9,
    "start_time": "2022-03-08T08:39:09.967Z"
   },
   {
    "duration": 66,
    "start_time": "2022-03-08T08:39:11.103Z"
   },
   {
    "duration": 12,
    "start_time": "2022-03-08T08:39:40.145Z"
   },
   {
    "duration": 4,
    "start_time": "2022-03-08T08:42:23.601Z"
   },
   {
    "duration": 5,
    "start_time": "2022-03-08T08:42:23.609Z"
   },
   {
    "duration": 79,
    "start_time": "2022-03-08T08:42:23.618Z"
   },
   {
    "duration": 16,
    "start_time": "2022-03-08T08:42:23.701Z"
   },
   {
    "duration": 52,
    "start_time": "2022-03-08T08:42:23.720Z"
   },
   {
    "duration": 35,
    "start_time": "2022-03-08T08:42:23.776Z"
   },
   {
    "duration": 507,
    "start_time": "2022-03-08T08:42:23.814Z"
   },
   {
    "duration": 31,
    "start_time": "2022-03-08T08:42:24.327Z"
   },
   {
    "duration": 289,
    "start_time": "2022-03-08T08:42:24.362Z"
   },
   {
    "duration": 412,
    "start_time": "2022-03-08T08:42:24.654Z"
   },
   {
    "duration": 18,
    "start_time": "2022-03-08T08:42:25.068Z"
   },
   {
    "duration": 3,
    "start_time": "2022-03-08T08:42:25.089Z"
   },
   {
    "duration": 10,
    "start_time": "2022-03-08T08:42:25.095Z"
   },
   {
    "duration": 46,
    "start_time": "2022-03-08T08:42:25.108Z"
   },
   {
    "duration": 21,
    "start_time": "2022-03-08T08:42:25.156Z"
   },
   {
    "duration": 604,
    "start_time": "2022-03-08T08:42:25.179Z"
   },
   {
    "duration": 17,
    "start_time": "2022-03-08T08:42:25.786Z"
   },
   {
    "duration": 371,
    "start_time": "2022-03-08T08:42:25.805Z"
   },
   {
    "duration": 5,
    "start_time": "2022-03-08T08:42:26.179Z"
   },
   {
    "duration": 57,
    "start_time": "2022-03-08T08:42:26.186Z"
   },
   {
    "duration": 7,
    "start_time": "2022-03-08T08:42:26.252Z"
   },
   {
    "duration": 1076,
    "start_time": "2022-03-08T08:42:26.261Z"
   },
   {
    "duration": 8,
    "start_time": "2022-03-08T08:42:27.342Z"
   },
   {
    "duration": 47,
    "start_time": "2022-03-08T08:42:27.353Z"
   },
   {
    "duration": 25,
    "start_time": "2022-03-08T08:42:27.402Z"
   },
   {
    "duration": 23,
    "start_time": "2022-03-08T08:42:27.451Z"
   },
   {
    "duration": 663,
    "start_time": "2022-03-08T08:42:27.477Z"
   },
   {
    "duration": 27,
    "start_time": "2022-03-08T08:42:28.142Z"
   },
   {
    "duration": 100,
    "start_time": "2022-03-08T08:42:28.172Z"
   },
   {
    "duration": 10,
    "start_time": "2022-03-08T08:42:28.275Z"
   },
   {
    "duration": 16,
    "start_time": "2022-03-08T08:43:15.458Z"
   },
   {
    "duration": 9,
    "start_time": "2022-03-08T08:43:19.760Z"
   },
   {
    "duration": 3,
    "start_time": "2022-03-08T08:43:35.684Z"
   },
   {
    "duration": 11,
    "start_time": "2022-03-08T08:43:35.690Z"
   },
   {
    "duration": 63,
    "start_time": "2022-03-08T08:43:35.704Z"
   },
   {
    "duration": 15,
    "start_time": "2022-03-08T08:43:35.771Z"
   },
   {
    "duration": 22,
    "start_time": "2022-03-08T08:43:35.788Z"
   },
   {
    "duration": 46,
    "start_time": "2022-03-08T08:43:35.812Z"
   },
   {
    "duration": 331,
    "start_time": "2022-03-08T08:43:35.861Z"
   },
   {
    "duration": 14,
    "start_time": "2022-03-08T08:43:36.196Z"
   },
   {
    "duration": 196,
    "start_time": "2022-03-08T08:43:36.212Z"
   },
   {
    "duration": 441,
    "start_time": "2022-03-08T08:43:36.410Z"
   },
   {
    "duration": 25,
    "start_time": "2022-03-08T08:43:36.854Z"
   },
   {
    "duration": 4,
    "start_time": "2022-03-08T08:43:36.882Z"
   },
   {
    "duration": 7,
    "start_time": "2022-03-08T08:43:36.889Z"
   },
   {
    "duration": 53,
    "start_time": "2022-03-08T08:43:36.899Z"
   },
   {
    "duration": 21,
    "start_time": "2022-03-08T08:43:36.956Z"
   },
   {
    "duration": 651,
    "start_time": "2022-03-08T08:43:36.980Z"
   },
   {
    "duration": 27,
    "start_time": "2022-03-08T08:43:37.634Z"
   },
   {
    "duration": 513,
    "start_time": "2022-03-08T08:43:37.664Z"
   },
   {
    "duration": 4,
    "start_time": "2022-03-08T08:43:38.182Z"
   },
   {
    "duration": 62,
    "start_time": "2022-03-08T08:43:38.189Z"
   },
   {
    "duration": 6,
    "start_time": "2022-03-08T08:43:38.254Z"
   },
   {
    "duration": 763,
    "start_time": "2022-03-08T08:43:38.263Z"
   },
   {
    "duration": 8,
    "start_time": "2022-03-08T08:43:39.028Z"
   },
   {
    "duration": 45,
    "start_time": "2022-03-08T08:43:39.038Z"
   },
   {
    "duration": 24,
    "start_time": "2022-03-08T08:43:39.085Z"
   },
   {
    "duration": 40,
    "start_time": "2022-03-08T08:43:39.111Z"
   },
   {
    "duration": 379,
    "start_time": "2022-03-08T08:43:39.153Z"
   },
   {
    "duration": 30,
    "start_time": "2022-03-08T08:43:39.535Z"
   },
   {
    "duration": 31,
    "start_time": "2022-03-08T08:44:58.636Z"
   },
   {
    "duration": 28,
    "start_time": "2022-03-08T08:45:37.550Z"
   },
   {
    "duration": 13,
    "start_time": "2022-03-08T10:49:29.493Z"
   },
   {
    "duration": 30,
    "start_time": "2022-03-08T10:52:35.992Z"
   },
   {
    "duration": 92,
    "start_time": "2022-03-08T11:14:36.863Z"
   },
   {
    "duration": 262,
    "start_time": "2022-03-08T11:14:43.661Z"
   },
   {
    "duration": 28,
    "start_time": "2022-03-08T11:14:54.416Z"
   },
   {
    "duration": 283,
    "start_time": "2022-03-08T11:15:29.977Z"
   },
   {
    "duration": 3,
    "start_time": "2022-03-08T11:15:38.884Z"
   },
   {
    "duration": 11,
    "start_time": "2022-03-08T11:15:38.889Z"
   },
   {
    "duration": 64,
    "start_time": "2022-03-08T11:15:38.902Z"
   },
   {
    "duration": 12,
    "start_time": "2022-03-08T11:15:38.969Z"
   },
   {
    "duration": 25,
    "start_time": "2022-03-08T11:15:38.984Z"
   },
   {
    "duration": 53,
    "start_time": "2022-03-08T11:15:39.011Z"
   },
   {
    "duration": 328,
    "start_time": "2022-03-08T11:15:39.066Z"
   },
   {
    "duration": 14,
    "start_time": "2022-03-08T11:15:39.400Z"
   },
   {
    "duration": 194,
    "start_time": "2022-03-08T11:15:39.417Z"
   },
   {
    "duration": 435,
    "start_time": "2022-03-08T11:15:39.614Z"
   },
   {
    "duration": 19,
    "start_time": "2022-03-08T11:15:40.052Z"
   },
   {
    "duration": 3,
    "start_time": "2022-03-08T11:15:40.073Z"
   },
   {
    "duration": 4,
    "start_time": "2022-03-08T11:15:40.078Z"
   },
   {
    "duration": 16,
    "start_time": "2022-03-08T11:15:40.085Z"
   },
   {
    "duration": 54,
    "start_time": "2022-03-08T11:15:40.103Z"
   },
   {
    "duration": 592,
    "start_time": "2022-03-08T11:15:40.159Z"
   },
   {
    "duration": 17,
    "start_time": "2022-03-08T11:15:40.754Z"
   },
   {
    "duration": 535,
    "start_time": "2022-03-08T11:15:40.773Z"
   },
   {
    "duration": 5,
    "start_time": "2022-03-08T11:15:41.311Z"
   },
   {
    "duration": 59,
    "start_time": "2022-03-08T11:15:41.318Z"
   },
   {
    "duration": 6,
    "start_time": "2022-03-08T11:15:41.379Z"
   },
   {
    "duration": 1141,
    "start_time": "2022-03-08T11:15:41.387Z"
   },
   {
    "duration": 7,
    "start_time": "2022-03-08T11:15:42.532Z"
   },
   {
    "duration": 25,
    "start_time": "2022-03-08T11:15:42.542Z"
   },
   {
    "duration": 363,
    "start_time": "2022-03-08T11:15:42.569Z"
   },
   {
    "duration": 38,
    "start_time": "2022-03-08T11:15:42.934Z"
   },
   {
    "duration": 243,
    "start_time": "2022-03-08T11:16:32.319Z"
   },
   {
    "duration": 26,
    "start_time": "2022-03-08T11:16:39.249Z"
   },
   {
    "duration": 276,
    "start_time": "2022-03-08T11:18:01.905Z"
   },
   {
    "duration": 4,
    "start_time": "2022-03-08T11:18:11.623Z"
   },
   {
    "duration": 6,
    "start_time": "2022-03-08T11:18:11.630Z"
   },
   {
    "duration": 67,
    "start_time": "2022-03-08T11:18:11.640Z"
   },
   {
    "duration": 13,
    "start_time": "2022-03-08T11:18:11.711Z"
   },
   {
    "duration": 45,
    "start_time": "2022-03-08T11:18:11.728Z"
   },
   {
    "duration": 25,
    "start_time": "2022-03-08T11:18:11.776Z"
   },
   {
    "duration": 347,
    "start_time": "2022-03-08T11:18:11.804Z"
   },
   {
    "duration": 14,
    "start_time": "2022-03-08T11:18:12.153Z"
   },
   {
    "duration": 343,
    "start_time": "2022-03-08T11:18:12.170Z"
   },
   {
    "duration": 437,
    "start_time": "2022-03-08T11:18:12.517Z"
   },
   {
    "duration": 20,
    "start_time": "2022-03-08T11:18:12.956Z"
   },
   {
    "duration": 3,
    "start_time": "2022-03-08T11:18:12.978Z"
   },
   {
    "duration": 5,
    "start_time": "2022-03-08T11:18:12.983Z"
   },
   {
    "duration": 16,
    "start_time": "2022-03-08T11:18:12.991Z"
   },
   {
    "duration": 58,
    "start_time": "2022-03-08T11:18:13.009Z"
   },
   {
    "duration": 587,
    "start_time": "2022-03-08T11:18:13.069Z"
   },
   {
    "duration": 17,
    "start_time": "2022-03-08T11:18:13.658Z"
   },
   {
    "duration": 388,
    "start_time": "2022-03-08T11:18:13.677Z"
   },
   {
    "duration": 4,
    "start_time": "2022-03-08T11:18:14.067Z"
   },
   {
    "duration": 47,
    "start_time": "2022-03-08T11:18:14.074Z"
   },
   {
    "duration": 28,
    "start_time": "2022-03-08T11:18:14.123Z"
   },
   {
    "duration": 965,
    "start_time": "2022-03-08T11:18:14.153Z"
   },
   {
    "duration": 7,
    "start_time": "2022-03-08T11:18:15.121Z"
   },
   {
    "duration": 25,
    "start_time": "2022-03-08T11:18:15.131Z"
   },
   {
    "duration": 532,
    "start_time": "2022-03-08T11:18:15.160Z"
   },
   {
    "duration": 26,
    "start_time": "2022-03-08T11:18:15.694Z"
   },
   {
    "duration": 12,
    "start_time": "2022-03-08T11:20:23.096Z"
   },
   {
    "duration": 29,
    "start_time": "2022-03-08T11:24:04.929Z"
   },
   {
    "duration": 83,
    "start_time": "2022-03-08T11:24:45.209Z"
   },
   {
    "duration": 19,
    "start_time": "2022-03-08T11:25:29.663Z"
   },
   {
    "duration": 32,
    "start_time": "2022-03-08T11:25:36.315Z"
   },
   {
    "duration": 31,
    "start_time": "2022-03-08T11:36:57.820Z"
   },
   {
    "duration": 27,
    "start_time": "2022-03-08T11:37:39.766Z"
   },
   {
    "duration": 273,
    "start_time": "2022-03-08T11:39:12.612Z"
   },
   {
    "duration": 24,
    "start_time": "2022-03-08T11:39:27.487Z"
   },
   {
    "duration": 22,
    "start_time": "2022-03-08T11:39:38.379Z"
   },
   {
    "duration": 20,
    "start_time": "2022-03-08T11:58:32.262Z"
   },
   {
    "duration": 279,
    "start_time": "2022-03-08T11:59:10.230Z"
   },
   {
    "duration": 4,
    "start_time": "2022-03-08T11:59:15.082Z"
   },
   {
    "duration": 6,
    "start_time": "2022-03-08T11:59:15.089Z"
   },
   {
    "duration": 59,
    "start_time": "2022-03-08T11:59:15.098Z"
   },
   {
    "duration": 11,
    "start_time": "2022-03-08T11:59:15.160Z"
   },
   {
    "duration": 22,
    "start_time": "2022-03-08T11:59:15.173Z"
   },
   {
    "duration": 57,
    "start_time": "2022-03-08T11:59:15.197Z"
   },
   {
    "duration": 328,
    "start_time": "2022-03-08T11:59:15.256Z"
   },
   {
    "duration": 12,
    "start_time": "2022-03-08T11:59:15.587Z"
   },
   {
    "duration": 185,
    "start_time": "2022-03-08T11:59:15.603Z"
   },
   {
    "duration": 424,
    "start_time": "2022-03-08T11:59:15.791Z"
   },
   {
    "duration": 37,
    "start_time": "2022-03-08T11:59:16.217Z"
   },
   {
    "duration": 4,
    "start_time": "2022-03-08T11:59:16.258Z"
   },
   {
    "duration": 6,
    "start_time": "2022-03-08T11:59:16.265Z"
   },
   {
    "duration": 17,
    "start_time": "2022-03-08T11:59:16.273Z"
   },
   {
    "duration": 59,
    "start_time": "2022-03-08T11:59:16.292Z"
   },
   {
    "duration": 598,
    "start_time": "2022-03-08T11:59:16.353Z"
   },
   {
    "duration": 16,
    "start_time": "2022-03-08T11:59:16.953Z"
   },
   {
    "duration": 384,
    "start_time": "2022-03-08T11:59:16.971Z"
   },
   {
    "duration": 5,
    "start_time": "2022-03-08T11:59:17.357Z"
   },
   {
    "duration": 52,
    "start_time": "2022-03-08T11:59:17.365Z"
   },
   {
    "duration": 7,
    "start_time": "2022-03-08T11:59:17.419Z"
   },
   {
    "duration": 883,
    "start_time": "2022-03-08T11:59:17.428Z"
   },
   {
    "duration": 9,
    "start_time": "2022-03-08T11:59:18.316Z"
   },
   {
    "duration": 25,
    "start_time": "2022-03-08T11:59:18.327Z"
   },
   {
    "duration": 535,
    "start_time": "2022-03-08T11:59:18.354Z"
   },
   {
    "duration": 27,
    "start_time": "2022-03-08T11:59:18.892Z"
   },
   {
    "duration": 10,
    "start_time": "2022-03-08T11:59:58.521Z"
   },
   {
    "duration": 279,
    "start_time": "2022-03-08T12:01:10.001Z"
   },
   {
    "duration": 9,
    "start_time": "2022-03-08T12:01:17.617Z"
   },
   {
    "duration": 26,
    "start_time": "2022-03-08T12:01:22.906Z"
   },
   {
    "duration": 484,
    "start_time": "2022-03-08T12:02:37.990Z"
   },
   {
    "duration": 498,
    "start_time": "2022-03-08T12:03:20.957Z"
   },
   {
    "duration": 520,
    "start_time": "2022-03-08T12:03:32.316Z"
   },
   {
    "duration": 508,
    "start_time": "2022-03-08T12:04:23.595Z"
   },
   {
    "duration": 4,
    "start_time": "2022-03-08T12:09:58.197Z"
   },
   {
    "duration": 5,
    "start_time": "2022-03-08T12:09:58.204Z"
   },
   {
    "duration": 57,
    "start_time": "2022-03-08T12:09:58.212Z"
   },
   {
    "duration": 11,
    "start_time": "2022-03-08T12:09:58.272Z"
   },
   {
    "duration": 22,
    "start_time": "2022-03-08T12:09:58.285Z"
   },
   {
    "duration": 51,
    "start_time": "2022-03-08T12:09:58.310Z"
   },
   {
    "duration": 333,
    "start_time": "2022-03-08T12:09:58.364Z"
   },
   {
    "duration": 11,
    "start_time": "2022-03-08T12:09:58.701Z"
   },
   {
    "duration": 177,
    "start_time": "2022-03-08T12:09:58.715Z"
   },
   {
    "duration": 414,
    "start_time": "2022-03-08T12:09:58.894Z"
   },
   {
    "duration": 20,
    "start_time": "2022-03-08T12:09:59.311Z"
   },
   {
    "duration": 3,
    "start_time": "2022-03-08T12:09:59.351Z"
   },
   {
    "duration": 9,
    "start_time": "2022-03-08T12:09:59.356Z"
   },
   {
    "duration": 17,
    "start_time": "2022-03-08T12:09:59.367Z"
   },
   {
    "duration": 16,
    "start_time": "2022-03-08T12:09:59.386Z"
   },
   {
    "duration": 670,
    "start_time": "2022-03-08T12:09:59.404Z"
   },
   {
    "duration": 16,
    "start_time": "2022-03-08T12:10:00.077Z"
   },
   {
    "duration": 537,
    "start_time": "2022-03-08T12:10:00.096Z"
   },
   {
    "duration": 15,
    "start_time": "2022-03-08T12:10:00.636Z"
   },
   {
    "duration": 43,
    "start_time": "2022-03-08T12:10:00.653Z"
   },
   {
    "duration": 15,
    "start_time": "2022-03-08T12:10:00.698Z"
   },
   {
    "duration": 1125,
    "start_time": "2022-03-08T12:10:00.716Z"
   },
   {
    "duration": 9,
    "start_time": "2022-03-08T12:10:01.845Z"
   },
   {
    "duration": 31,
    "start_time": "2022-03-08T12:10:01.857Z"
   },
   {
    "duration": 401,
    "start_time": "2022-03-08T12:10:01.891Z"
   },
   {
    "duration": 24,
    "start_time": "2022-03-08T12:10:02.295Z"
   },
   {
    "duration": 45,
    "start_time": "2022-03-08T12:10:02.321Z"
   },
   {
    "duration": 11,
    "start_time": "2022-03-08T12:10:02.368Z"
   },
   {
    "duration": 546,
    "start_time": "2022-03-08T12:10:02.382Z"
   },
   {
    "duration": 369,
    "start_time": "2022-03-08T12:11:47.652Z"
   },
   {
    "duration": 355,
    "start_time": "2022-03-08T12:12:17.117Z"
   },
   {
    "duration": 392,
    "start_time": "2022-03-08T14:10:28.890Z"
   },
   {
    "duration": 512,
    "start_time": "2022-03-08T14:13:48.490Z"
   },
   {
    "duration": 26,
    "start_time": "2022-03-08T14:14:17.507Z"
   },
   {
    "duration": 9,
    "start_time": "2022-03-08T14:14:43.168Z"
   },
   {
    "duration": 3354,
    "start_time": "2022-03-08T14:16:19.543Z"
   },
   {
    "duration": 688,
    "start_time": "2022-03-08T14:16:40.038Z"
   },
   {
    "duration": 4010,
    "start_time": "2022-03-08T14:16:49.088Z"
   },
   {
    "duration": 505,
    "start_time": "2022-03-08T14:18:12.717Z"
   },
   {
    "duration": 475,
    "start_time": "2022-03-08T14:21:02.084Z"
   },
   {
    "duration": 108,
    "start_time": "2022-03-08T14:21:30.865Z"
   },
   {
    "duration": 3891,
    "start_time": "2022-03-08T14:21:46.854Z"
   },
   {
    "duration": 532,
    "start_time": "2022-03-08T14:22:01.058Z"
   },
   {
    "duration": 565,
    "start_time": "2022-03-08T14:22:25.440Z"
   },
   {
    "duration": 533,
    "start_time": "2022-03-08T14:22:59.689Z"
   },
   {
    "duration": 4,
    "start_time": "2022-03-08T14:30:51.368Z"
   },
   {
    "duration": 4,
    "start_time": "2022-03-08T14:31:50.495Z"
   },
   {
    "duration": 3,
    "start_time": "2022-03-08T14:31:54.188Z"
   },
   {
    "duration": 4,
    "start_time": "2022-03-08T14:31:57.326Z"
   },
   {
    "duration": 5,
    "start_time": "2022-03-08T14:31:57.333Z"
   },
   {
    "duration": 57,
    "start_time": "2022-03-08T14:31:57.341Z"
   },
   {
    "duration": 12,
    "start_time": "2022-03-08T14:31:57.401Z"
   },
   {
    "duration": 54,
    "start_time": "2022-03-08T14:31:57.416Z"
   },
   {
    "duration": 5,
    "start_time": "2022-03-08T14:31:57.473Z"
   },
   {
    "duration": 386,
    "start_time": "2022-03-08T14:31:57.481Z"
   },
   {
    "duration": 11,
    "start_time": "2022-03-08T14:31:57.870Z"
   },
   {
    "duration": 179,
    "start_time": "2022-03-08T14:31:57.884Z"
   },
   {
    "duration": 579,
    "start_time": "2022-03-08T14:31:58.066Z"
   },
   {
    "duration": 21,
    "start_time": "2022-03-08T14:31:58.647Z"
   },
   {
    "duration": 3,
    "start_time": "2022-03-08T14:31:58.671Z"
   },
   {
    "duration": 7,
    "start_time": "2022-03-08T14:31:58.677Z"
   },
   {
    "duration": 16,
    "start_time": "2022-03-08T14:31:58.687Z"
   },
   {
    "duration": 52,
    "start_time": "2022-03-08T14:31:58.705Z"
   },
   {
    "duration": 586,
    "start_time": "2022-03-08T14:31:58.759Z"
   },
   {
    "duration": 17,
    "start_time": "2022-03-08T14:31:59.351Z"
   },
   {
    "duration": 377,
    "start_time": "2022-03-08T14:31:59.370Z"
   },
   {
    "duration": 4,
    "start_time": "2022-03-08T14:31:59.751Z"
   },
   {
    "duration": 45,
    "start_time": "2022-03-08T14:31:59.757Z"
   },
   {
    "duration": 9,
    "start_time": "2022-03-08T14:31:59.804Z"
   },
   {
    "duration": 1132,
    "start_time": "2022-03-08T14:31:59.816Z"
   },
   {
    "duration": 12,
    "start_time": "2022-03-08T14:32:00.955Z"
   },
   {
    "duration": 43,
    "start_time": "2022-03-08T14:32:00.970Z"
   },
   {
    "duration": 396,
    "start_time": "2022-03-08T14:32:01.016Z"
   },
   {
    "duration": 39,
    "start_time": "2022-03-08T14:32:01.414Z"
   },
   {
    "duration": 25,
    "start_time": "2022-03-08T14:32:01.456Z"
   },
   {
    "duration": 10,
    "start_time": "2022-03-08T14:32:01.483Z"
   },
   {
    "duration": 583,
    "start_time": "2022-03-08T14:32:01.496Z"
   },
   {
    "duration": 4,
    "start_time": "2022-03-08T14:32:50.312Z"
   },
   {
    "duration": 8,
    "start_time": "2022-03-08T14:32:50.319Z"
   },
   {
    "duration": 61,
    "start_time": "2022-03-08T14:32:50.331Z"
   },
   {
    "duration": 12,
    "start_time": "2022-03-08T14:32:50.395Z"
   },
   {
    "duration": 52,
    "start_time": "2022-03-08T14:32:50.409Z"
   },
   {
    "duration": 4,
    "start_time": "2022-03-08T14:32:50.464Z"
   },
   {
    "duration": 358,
    "start_time": "2022-03-08T14:32:50.470Z"
   },
   {
    "duration": 21,
    "start_time": "2022-03-08T14:32:50.830Z"
   },
   {
    "duration": 375,
    "start_time": "2022-03-08T14:32:50.855Z"
   },
   {
    "duration": 421,
    "start_time": "2022-03-08T14:32:51.233Z"
   },
   {
    "duration": 19,
    "start_time": "2022-03-08T14:32:51.656Z"
   },
   {
    "duration": 3,
    "start_time": "2022-03-08T14:32:51.677Z"
   },
   {
    "duration": 6,
    "start_time": "2022-03-08T14:32:51.682Z"
   },
   {
    "duration": 18,
    "start_time": "2022-03-08T14:32:51.690Z"
   },
   {
    "duration": 56,
    "start_time": "2022-03-08T14:32:51.710Z"
   },
   {
    "duration": 686,
    "start_time": "2022-03-08T14:32:51.768Z"
   },
   {
    "duration": 18,
    "start_time": "2022-03-08T14:32:52.456Z"
   },
   {
    "duration": 403,
    "start_time": "2022-03-08T14:32:52.477Z"
   },
   {
    "duration": 5,
    "start_time": "2022-03-08T14:32:52.883Z"
   },
   {
    "duration": 60,
    "start_time": "2022-03-08T14:32:52.891Z"
   },
   {
    "duration": 7,
    "start_time": "2022-03-08T14:32:52.953Z"
   },
   {
    "duration": 768,
    "start_time": "2022-03-08T14:32:52.963Z"
   },
   {
    "duration": 8,
    "start_time": "2022-03-08T14:32:53.733Z"
   },
   {
    "duration": 23,
    "start_time": "2022-03-08T14:32:53.744Z"
   },
   {
    "duration": 376,
    "start_time": "2022-03-08T14:32:53.769Z"
   },
   {
    "duration": 27,
    "start_time": "2022-03-08T14:32:54.151Z"
   },
   {
    "duration": 22,
    "start_time": "2022-03-08T14:32:54.182Z"
   },
   {
    "duration": 9,
    "start_time": "2022-03-08T14:32:54.206Z"
   },
   {
    "duration": 567,
    "start_time": "2022-03-08T14:32:54.251Z"
   },
   {
    "duration": 4,
    "start_time": "2022-03-08T14:33:43.709Z"
   },
   {
    "duration": 6,
    "start_time": "2022-03-08T14:33:43.716Z"
   },
   {
    "duration": 67,
    "start_time": "2022-03-08T14:33:43.725Z"
   },
   {
    "duration": 11,
    "start_time": "2022-03-08T14:33:43.795Z"
   },
   {
    "duration": 47,
    "start_time": "2022-03-08T14:33:43.809Z"
   },
   {
    "duration": 4,
    "start_time": "2022-03-08T14:33:43.859Z"
   },
   {
    "duration": 589,
    "start_time": "2022-03-08T14:33:43.865Z"
   },
   {
    "duration": 13,
    "start_time": "2022-03-08T14:33:44.457Z"
   },
   {
    "duration": 201,
    "start_time": "2022-03-08T14:33:44.473Z"
   },
   {
    "duration": 424,
    "start_time": "2022-03-08T14:33:44.676Z"
   },
   {
    "duration": 20,
    "start_time": "2022-03-08T14:33:45.103Z"
   },
   {
    "duration": 4,
    "start_time": "2022-03-08T14:33:45.126Z"
   },
   {
    "duration": 4,
    "start_time": "2022-03-08T14:33:45.152Z"
   },
   {
    "duration": 21,
    "start_time": "2022-03-08T14:33:45.158Z"
   },
   {
    "duration": 22,
    "start_time": "2022-03-08T14:33:45.181Z"
   },
   {
    "duration": 635,
    "start_time": "2022-03-08T14:33:45.206Z"
   },
   {
    "duration": 16,
    "start_time": "2022-03-08T14:33:45.851Z"
   },
   {
    "duration": 398,
    "start_time": "2022-03-08T14:33:45.869Z"
   },
   {
    "duration": 5,
    "start_time": "2022-03-08T14:33:46.269Z"
   },
   {
    "duration": 45,
    "start_time": "2022-03-08T14:33:46.277Z"
   },
   {
    "duration": 30,
    "start_time": "2022-03-08T14:33:46.325Z"
   },
   {
    "duration": 1020,
    "start_time": "2022-03-08T14:33:46.360Z"
   },
   {
    "duration": 8,
    "start_time": "2022-03-08T14:33:47.382Z"
   },
   {
    "duration": 23,
    "start_time": "2022-03-08T14:33:47.393Z"
   },
   {
    "duration": 413,
    "start_time": "2022-03-08T14:33:47.419Z"
   },
   {
    "duration": 35,
    "start_time": "2022-03-08T14:33:47.834Z"
   },
   {
    "duration": 24,
    "start_time": "2022-03-08T14:33:47.871Z"
   },
   {
    "duration": 10,
    "start_time": "2022-03-08T14:33:47.897Z"
   },
   {
    "duration": 802,
    "start_time": "2022-03-08T14:33:47.909Z"
   },
   {
    "duration": 4,
    "start_time": "2022-03-08T14:34:12.477Z"
   },
   {
    "duration": 31,
    "start_time": "2022-03-08T14:34:12.483Z"
   },
   {
    "duration": 68,
    "start_time": "2022-03-08T14:34:12.517Z"
   },
   {
    "duration": 11,
    "start_time": "2022-03-08T14:34:12.588Z"
   },
   {
    "duration": 42,
    "start_time": "2022-03-08T14:34:12.601Z"
   },
   {
    "duration": 3,
    "start_time": "2022-03-08T14:34:12.652Z"
   },
   {
    "duration": 354,
    "start_time": "2022-03-08T14:34:12.657Z"
   },
   {
    "duration": 11,
    "start_time": "2022-03-08T14:34:13.015Z"
   },
   {
    "duration": 194,
    "start_time": "2022-03-08T14:34:13.029Z"
   },
   {
    "duration": 401,
    "start_time": "2022-03-08T14:34:13.226Z"
   },
   {
    "duration": 31,
    "start_time": "2022-03-08T14:34:13.629Z"
   },
   {
    "duration": 3,
    "start_time": "2022-03-08T14:34:13.663Z"
   },
   {
    "duration": 13,
    "start_time": "2022-03-08T14:34:13.669Z"
   },
   {
    "duration": 50,
    "start_time": "2022-03-08T14:34:13.684Z"
   },
   {
    "duration": 24,
    "start_time": "2022-03-08T14:34:13.737Z"
   },
   {
    "duration": 582,
    "start_time": "2022-03-08T14:34:13.763Z"
   },
   {
    "duration": 17,
    "start_time": "2022-03-08T14:34:14.351Z"
   },
   {
    "duration": 370,
    "start_time": "2022-03-08T14:34:14.370Z"
   },
   {
    "duration": 9,
    "start_time": "2022-03-08T14:34:14.743Z"
   },
   {
    "duration": 44,
    "start_time": "2022-03-08T14:34:14.754Z"
   },
   {
    "duration": 7,
    "start_time": "2022-03-08T14:34:14.800Z"
   },
   {
    "duration": 837,
    "start_time": "2022-03-08T14:34:14.809Z"
   },
   {
    "duration": 9,
    "start_time": "2022-03-08T14:34:15.650Z"
   },
   {
    "duration": 24,
    "start_time": "2022-03-08T14:34:15.662Z"
   },
   {
    "duration": 404,
    "start_time": "2022-03-08T14:34:15.689Z"
   },
   {
    "duration": 25,
    "start_time": "2022-03-08T14:34:16.096Z"
   },
   {
    "duration": 44,
    "start_time": "2022-03-08T14:34:16.124Z"
   },
   {
    "duration": 9,
    "start_time": "2022-03-08T14:34:16.171Z"
   },
   {
    "duration": 771,
    "start_time": "2022-03-08T14:34:16.182Z"
   },
   {
    "duration": 4,
    "start_time": "2022-03-08T14:34:36.238Z"
   },
   {
    "duration": 3,
    "start_time": "2022-03-08T14:34:40.245Z"
   },
   {
    "duration": 5,
    "start_time": "2022-03-08T14:34:40.251Z"
   },
   {
    "duration": 60,
    "start_time": "2022-03-08T14:34:40.259Z"
   },
   {
    "duration": 13,
    "start_time": "2022-03-08T14:34:40.353Z"
   },
   {
    "duration": 26,
    "start_time": "2022-03-08T14:34:40.368Z"
   },
   {
    "duration": 4,
    "start_time": "2022-03-08T14:34:40.397Z"
   },
   {
    "duration": 379,
    "start_time": "2022-03-08T14:34:40.403Z"
   },
   {
    "duration": 12,
    "start_time": "2022-03-08T14:34:40.785Z"
   },
   {
    "duration": 187,
    "start_time": "2022-03-08T14:34:40.800Z"
   },
   {
    "duration": 410,
    "start_time": "2022-03-08T14:34:40.989Z"
   },
   {
    "duration": 19,
    "start_time": "2022-03-08T14:34:41.402Z"
   },
   {
    "duration": 4,
    "start_time": "2022-03-08T14:34:41.423Z"
   },
   {
    "duration": 23,
    "start_time": "2022-03-08T14:34:41.429Z"
   },
   {
    "duration": 20,
    "start_time": "2022-03-08T14:34:41.455Z"
   },
   {
    "duration": 21,
    "start_time": "2022-03-08T14:34:41.478Z"
   },
   {
    "duration": 633,
    "start_time": "2022-03-08T14:34:41.501Z"
   },
   {
    "duration": 28,
    "start_time": "2022-03-08T14:34:42.137Z"
   },
   {
    "duration": 383,
    "start_time": "2022-03-08T14:34:42.168Z"
   },
   {
    "duration": 5,
    "start_time": "2022-03-08T14:34:42.553Z"
   },
   {
    "duration": 48,
    "start_time": "2022-03-08T14:34:42.560Z"
   },
   {
    "duration": 7,
    "start_time": "2022-03-08T14:34:42.610Z"
   },
   {
    "duration": 884,
    "start_time": "2022-03-08T14:34:42.620Z"
   },
   {
    "duration": 8,
    "start_time": "2022-03-08T14:34:43.509Z"
   },
   {
    "duration": 33,
    "start_time": "2022-03-08T14:34:43.520Z"
   },
   {
    "duration": 387,
    "start_time": "2022-03-08T14:34:43.556Z"
   },
   {
    "duration": 29,
    "start_time": "2022-03-08T14:34:43.945Z"
   },
   {
    "duration": 24,
    "start_time": "2022-03-08T14:34:43.977Z"
   },
   {
    "duration": 49,
    "start_time": "2022-03-08T14:34:44.004Z"
   },
   {
    "duration": 772,
    "start_time": "2022-03-08T14:34:44.056Z"
   },
   {
    "duration": 4,
    "start_time": "2022-03-08T14:36:23.375Z"
   },
   {
    "duration": 7,
    "start_time": "2022-03-08T14:36:23.381Z"
   },
   {
    "duration": 72,
    "start_time": "2022-03-08T14:36:23.391Z"
   },
   {
    "duration": 12,
    "start_time": "2022-03-08T14:36:23.466Z"
   },
   {
    "duration": 25,
    "start_time": "2022-03-08T14:36:23.481Z"
   },
   {
    "duration": 5,
    "start_time": "2022-03-08T14:36:23.509Z"
   },
   {
    "duration": 385,
    "start_time": "2022-03-08T14:36:23.553Z"
   },
   {
    "duration": 14,
    "start_time": "2022-03-08T14:36:23.951Z"
   },
   {
    "duration": 203,
    "start_time": "2022-03-08T14:36:23.969Z"
   },
   {
    "duration": 418,
    "start_time": "2022-03-08T14:36:24.174Z"
   },
   {
    "duration": 20,
    "start_time": "2022-03-08T14:36:24.594Z"
   },
   {
    "duration": 3,
    "start_time": "2022-03-08T14:36:24.617Z"
   },
   {
    "duration": 30,
    "start_time": "2022-03-08T14:36:24.622Z"
   },
   {
    "duration": 18,
    "start_time": "2022-03-08T14:36:24.654Z"
   },
   {
    "duration": 16,
    "start_time": "2022-03-08T14:36:24.675Z"
   },
   {
    "duration": 651,
    "start_time": "2022-03-08T14:36:24.693Z"
   },
   {
    "duration": 16,
    "start_time": "2022-03-08T14:36:25.351Z"
   },
   {
    "duration": 360,
    "start_time": "2022-03-08T14:36:25.369Z"
   },
   {
    "duration": 5,
    "start_time": "2022-03-08T14:36:25.731Z"
   },
   {
    "duration": 54,
    "start_time": "2022-03-08T14:36:25.738Z"
   },
   {
    "duration": 6,
    "start_time": "2022-03-08T14:36:25.794Z"
   },
   {
    "duration": 1900,
    "start_time": "2022-03-08T14:36:25.805Z"
   },
   {
    "duration": 11,
    "start_time": "2022-03-08T14:36:27.709Z"
   },
   {
    "duration": 37,
    "start_time": "2022-03-08T14:36:27.723Z"
   },
   {
    "duration": 388,
    "start_time": "2022-03-08T14:36:27.763Z"
   },
   {
    "duration": 30,
    "start_time": "2022-03-08T14:36:28.153Z"
   },
   {
    "duration": 24,
    "start_time": "2022-03-08T14:36:28.186Z"
   },
   {
    "duration": 41,
    "start_time": "2022-03-08T14:36:28.213Z"
   },
   {
    "duration": 768,
    "start_time": "2022-03-08T14:36:28.256Z"
   },
   {
    "duration": 584,
    "start_time": "2022-03-08T14:37:08.181Z"
   },
   {
    "duration": 643,
    "start_time": "2022-03-08T14:37:30.392Z"
   },
   {
    "duration": 558,
    "start_time": "2022-03-08T14:37:43.562Z"
   },
   {
    "duration": 4,
    "start_time": "2022-03-08T14:38:22.799Z"
   },
   {
    "duration": 1761,
    "start_time": "2022-03-08T14:38:22.806Z"
   },
   {
    "duration": 62,
    "start_time": "2022-03-08T14:38:24.571Z"
   },
   {
    "duration": 22,
    "start_time": "2022-03-08T14:38:24.637Z"
   },
   {
    "duration": 24,
    "start_time": "2022-03-08T14:38:24.661Z"
   },
   {
    "duration": 4,
    "start_time": "2022-03-08T14:38:24.687Z"
   },
   {
    "duration": 388,
    "start_time": "2022-03-08T14:38:24.695Z"
   },
   {
    "duration": 13,
    "start_time": "2022-03-08T14:38:25.087Z"
   },
   {
    "duration": 697,
    "start_time": "2022-03-08T14:38:25.103Z"
   },
   {
    "duration": 513,
    "start_time": "2022-03-08T14:38:25.802Z"
   },
   {
    "duration": 35,
    "start_time": "2022-03-08T14:38:26.317Z"
   },
   {
    "duration": 4,
    "start_time": "2022-03-08T14:38:26.354Z"
   },
   {
    "duration": 10,
    "start_time": "2022-03-08T14:38:26.360Z"
   },
   {
    "duration": 139,
    "start_time": "2022-03-08T14:38:26.372Z"
   },
   {
    "duration": 35,
    "start_time": "2022-03-08T14:38:26.514Z"
   },
   {
    "duration": 592,
    "start_time": "2022-03-08T14:38:26.551Z"
   },
   {
    "duration": 20,
    "start_time": "2022-03-08T14:38:27.146Z"
   },
   {
    "duration": 386,
    "start_time": "2022-03-08T14:38:27.169Z"
   },
   {
    "duration": 5,
    "start_time": "2022-03-08T14:38:27.559Z"
   },
   {
    "duration": 65,
    "start_time": "2022-03-08T14:38:27.567Z"
   },
   {
    "duration": 13,
    "start_time": "2022-03-08T14:38:27.634Z"
   },
   {
    "duration": 1068,
    "start_time": "2022-03-08T14:38:27.649Z"
   },
   {
    "duration": 8,
    "start_time": "2022-03-08T14:38:28.719Z"
   },
   {
    "duration": 54,
    "start_time": "2022-03-08T14:38:28.730Z"
   },
   {
    "duration": 508,
    "start_time": "2022-03-08T14:38:28.786Z"
   },
   {
    "duration": 26,
    "start_time": "2022-03-08T14:38:29.297Z"
   },
   {
    "duration": 46,
    "start_time": "2022-03-08T14:38:29.325Z"
   },
   {
    "duration": 9,
    "start_time": "2022-03-08T14:38:29.373Z"
   },
   {
    "duration": 593,
    "start_time": "2022-03-08T14:38:29.385Z"
   },
   {
    "duration": 5,
    "start_time": "2022-03-08T14:39:13.846Z"
   },
   {
    "duration": 1788,
    "start_time": "2022-03-08T14:39:13.853Z"
   },
   {
    "duration": 64,
    "start_time": "2022-03-08T14:39:15.644Z"
   },
   {
    "duration": 12,
    "start_time": "2022-03-08T14:39:15.711Z"
   },
   {
    "duration": 39,
    "start_time": "2022-03-08T14:39:15.725Z"
   },
   {
    "duration": 4,
    "start_time": "2022-03-08T14:39:15.766Z"
   },
   {
    "duration": 379,
    "start_time": "2022-03-08T14:39:15.772Z"
   },
   {
    "duration": 14,
    "start_time": "2022-03-08T14:39:16.155Z"
   },
   {
    "duration": 739,
    "start_time": "2022-03-08T14:39:16.172Z"
   },
   {
    "duration": 643,
    "start_time": "2022-03-08T14:39:16.914Z"
   },
   {
    "duration": 21,
    "start_time": "2022-03-08T14:39:17.559Z"
   },
   {
    "duration": 4,
    "start_time": "2022-03-08T14:39:17.582Z"
   },
   {
    "duration": 5,
    "start_time": "2022-03-08T14:39:17.588Z"
   },
   {
    "duration": 149,
    "start_time": "2022-03-08T14:39:17.596Z"
   },
   {
    "duration": 21,
    "start_time": "2022-03-08T14:39:17.751Z"
   },
   {
    "duration": 602,
    "start_time": "2022-03-08T14:39:17.775Z"
   },
   {
    "duration": 16,
    "start_time": "2022-03-08T14:39:18.379Z"
   },
   {
    "duration": 405,
    "start_time": "2022-03-08T14:39:18.398Z"
   },
   {
    "duration": 5,
    "start_time": "2022-03-08T14:39:18.805Z"
   },
   {
    "duration": 69,
    "start_time": "2022-03-08T14:39:18.812Z"
   },
   {
    "duration": 6,
    "start_time": "2022-03-08T14:39:18.884Z"
   },
   {
    "duration": 1182,
    "start_time": "2022-03-08T14:39:18.892Z"
   },
   {
    "duration": 9,
    "start_time": "2022-03-08T14:39:20.078Z"
   },
   {
    "duration": 26,
    "start_time": "2022-03-08T14:39:20.089Z"
   },
   {
    "duration": 541,
    "start_time": "2022-03-08T14:39:20.117Z"
   },
   {
    "duration": 25,
    "start_time": "2022-03-08T14:39:20.661Z"
   },
   {
    "duration": 23,
    "start_time": "2022-03-08T14:39:20.689Z"
   },
   {
    "duration": 42,
    "start_time": "2022-03-08T14:39:20.714Z"
   },
   {
    "duration": 569,
    "start_time": "2022-03-08T14:39:20.758Z"
   },
   {
    "duration": 5,
    "start_time": "2022-03-08T14:43:31.821Z"
   },
   {
    "duration": 2765,
    "start_time": "2022-03-08T14:43:31.828Z"
   },
   {
    "duration": -465,
    "start_time": "2022-03-08T14:43:35.062Z"
   },
   {
    "duration": -469,
    "start_time": "2022-03-08T14:43:35.068Z"
   },
   {
    "duration": -471,
    "start_time": "2022-03-08T14:43:35.071Z"
   },
   {
    "duration": -472,
    "start_time": "2022-03-08T14:43:35.074Z"
   },
   {
    "duration": -473,
    "start_time": "2022-03-08T14:43:35.076Z"
   },
   {
    "duration": -478,
    "start_time": "2022-03-08T14:43:35.083Z"
   },
   {
    "duration": -480,
    "start_time": "2022-03-08T14:43:35.086Z"
   },
   {
    "duration": -482,
    "start_time": "2022-03-08T14:43:35.089Z"
   },
   {
    "duration": -483,
    "start_time": "2022-03-08T14:43:35.092Z"
   },
   {
    "duration": -486,
    "start_time": "2022-03-08T14:43:35.096Z"
   },
   {
    "duration": -490,
    "start_time": "2022-03-08T14:43:35.102Z"
   },
   {
    "duration": -492,
    "start_time": "2022-03-08T14:43:35.105Z"
   },
   {
    "duration": -493,
    "start_time": "2022-03-08T14:43:35.107Z"
   },
   {
    "duration": -494,
    "start_time": "2022-03-08T14:43:35.110Z"
   },
   {
    "duration": -499,
    "start_time": "2022-03-08T14:43:35.116Z"
   },
   {
    "duration": -501,
    "start_time": "2022-03-08T14:43:35.119Z"
   },
   {
    "duration": -502,
    "start_time": "2022-03-08T14:43:35.122Z"
   },
   {
    "duration": -503,
    "start_time": "2022-03-08T14:43:35.124Z"
   },
   {
    "duration": -504,
    "start_time": "2022-03-08T14:43:35.126Z"
   },
   {
    "duration": -509,
    "start_time": "2022-03-08T14:43:35.133Z"
   },
   {
    "duration": -511,
    "start_time": "2022-03-08T14:43:35.136Z"
   },
   {
    "duration": -512,
    "start_time": "2022-03-08T14:43:35.139Z"
   },
   {
    "duration": -514,
    "start_time": "2022-03-08T14:43:35.142Z"
   },
   {
    "duration": -515,
    "start_time": "2022-03-08T14:43:35.144Z"
   },
   {
    "duration": -501,
    "start_time": "2022-03-08T14:43:35.152Z"
   },
   {
    "duration": -502,
    "start_time": "2022-03-08T14:43:35.154Z"
   },
   {
    "duration": -502,
    "start_time": "2022-03-08T14:43:35.156Z"
   },
   {
    "duration": 4,
    "start_time": "2022-03-08T14:43:51.945Z"
   },
   {
    "duration": 9,
    "start_time": "2022-03-08T14:43:51.952Z"
   },
   {
    "duration": 91,
    "start_time": "2022-03-08T14:43:51.963Z"
   },
   {
    "duration": 12,
    "start_time": "2022-03-08T14:43:52.057Z"
   },
   {
    "duration": 25,
    "start_time": "2022-03-08T14:43:52.072Z"
   },
   {
    "duration": 5,
    "start_time": "2022-03-08T14:43:52.100Z"
   },
   {
    "duration": 415,
    "start_time": "2022-03-08T14:43:52.107Z"
   },
   {
    "duration": 27,
    "start_time": "2022-03-08T14:43:52.526Z"
   },
   {
    "duration": 742,
    "start_time": "2022-03-08T14:43:52.556Z"
   },
   {
    "duration": 566,
    "start_time": "2022-03-08T14:43:53.301Z"
   },
   {
    "duration": 26,
    "start_time": "2022-03-08T14:43:53.870Z"
   },
   {
    "duration": 4,
    "start_time": "2022-03-08T14:43:53.899Z"
   },
   {
    "duration": 5,
    "start_time": "2022-03-08T14:43:53.906Z"
   },
   {
    "duration": 150,
    "start_time": "2022-03-08T14:43:53.913Z"
   },
   {
    "duration": 18,
    "start_time": "2022-03-08T14:43:54.066Z"
   },
   {
    "duration": 606,
    "start_time": "2022-03-08T14:43:54.087Z"
   },
   {
    "duration": 17,
    "start_time": "2022-03-08T14:43:54.696Z"
   },
   {
    "duration": 390,
    "start_time": "2022-03-08T14:43:54.716Z"
   },
   {
    "duration": 5,
    "start_time": "2022-03-08T14:43:55.108Z"
   },
   {
    "duration": 65,
    "start_time": "2022-03-08T14:43:55.116Z"
   },
   {
    "duration": 7,
    "start_time": "2022-03-08T14:43:55.183Z"
   },
   {
    "duration": 1481,
    "start_time": "2022-03-08T14:43:55.192Z"
   },
   {
    "duration": 8,
    "start_time": "2022-03-08T14:43:56.679Z"
   },
   {
    "duration": 23,
    "start_time": "2022-03-08T14:43:56.690Z"
   },
   {
    "duration": 512,
    "start_time": "2022-03-08T14:43:56.716Z"
   },
   {
    "duration": 34,
    "start_time": "2022-03-08T14:43:57.230Z"
   },
   {
    "duration": 23,
    "start_time": "2022-03-08T14:43:57.266Z"
   },
   {
    "duration": 8,
    "start_time": "2022-03-08T14:43:57.291Z"
   },
   {
    "duration": 588,
    "start_time": "2022-03-08T14:43:57.301Z"
   },
   {
    "duration": 576,
    "start_time": "2022-03-08T16:07:12.787Z"
   },
   {
    "duration": 573,
    "start_time": "2022-03-08T16:07:37.288Z"
   },
   {
    "duration": 6,
    "start_time": "2022-03-08T16:26:50.128Z"
   },
   {
    "duration": 2019,
    "start_time": "2022-03-08T16:26:50.137Z"
   },
   {
    "duration": 73,
    "start_time": "2022-03-08T16:26:52.160Z"
   },
   {
    "duration": 22,
    "start_time": "2022-03-08T16:26:52.236Z"
   },
   {
    "duration": 35,
    "start_time": "2022-03-08T16:26:52.261Z"
   },
   {
    "duration": 4,
    "start_time": "2022-03-08T16:26:52.299Z"
   },
   {
    "duration": 532,
    "start_time": "2022-03-08T16:26:52.306Z"
   },
   {
    "duration": 16,
    "start_time": "2022-03-08T16:26:52.842Z"
   },
   {
    "duration": 995,
    "start_time": "2022-03-08T16:26:52.862Z"
   },
   {
    "duration": 647,
    "start_time": "2022-03-08T16:26:53.860Z"
   },
   {
    "duration": 23,
    "start_time": "2022-03-08T16:26:54.510Z"
   },
   {
    "duration": 17,
    "start_time": "2022-03-08T16:26:54.535Z"
   },
   {
    "duration": 5,
    "start_time": "2022-03-08T16:26:54.555Z"
   },
   {
    "duration": 137,
    "start_time": "2022-03-08T16:26:54.563Z"
   },
   {
    "duration": 18,
    "start_time": "2022-03-08T16:26:54.702Z"
   },
   {
    "duration": 669,
    "start_time": "2022-03-08T16:26:54.722Z"
   },
   {
    "duration": 23,
    "start_time": "2022-03-08T16:26:55.395Z"
   },
   {
    "duration": 447,
    "start_time": "2022-03-08T16:26:55.421Z"
   },
   {
    "duration": 5,
    "start_time": "2022-03-08T16:26:55.871Z"
   },
   {
    "duration": 72,
    "start_time": "2022-03-08T16:26:55.879Z"
   },
   {
    "duration": 6,
    "start_time": "2022-03-08T16:26:55.954Z"
   },
   {
    "duration": 1156,
    "start_time": "2022-03-08T16:26:55.963Z"
   },
   {
    "duration": 9,
    "start_time": "2022-03-08T16:26:57.123Z"
   },
   {
    "duration": 29,
    "start_time": "2022-03-08T16:26:57.135Z"
   },
   {
    "duration": 671,
    "start_time": "2022-03-08T16:26:57.168Z"
   },
   {
    "duration": 41,
    "start_time": "2022-03-08T16:26:57.841Z"
   },
   {
    "duration": 31,
    "start_time": "2022-03-08T16:26:57.885Z"
   },
   {
    "duration": 42,
    "start_time": "2022-03-08T16:26:57.919Z"
   },
   {
    "duration": 756,
    "start_time": "2022-03-08T16:26:57.964Z"
   },
   {
    "duration": 4,
    "start_time": "2022-03-08T16:27:43.873Z"
   },
   {
    "duration": 1807,
    "start_time": "2022-03-08T16:27:43.880Z"
   },
   {
    "duration": 66,
    "start_time": "2022-03-08T16:27:45.690Z"
   },
   {
    "duration": 11,
    "start_time": "2022-03-08T16:27:45.759Z"
   },
   {
    "duration": 23,
    "start_time": "2022-03-08T16:27:45.773Z"
   },
   {
    "duration": 4,
    "start_time": "2022-03-08T16:27:45.799Z"
   },
   {
    "duration": 419,
    "start_time": "2022-03-08T16:27:45.806Z"
   },
   {
    "duration": 24,
    "start_time": "2022-03-08T16:27:46.229Z"
   },
   {
    "duration": 713,
    "start_time": "2022-03-08T16:27:46.255Z"
   },
   {
    "duration": 537,
    "start_time": "2022-03-08T16:27:46.970Z"
   },
   {
    "duration": 19,
    "start_time": "2022-03-08T16:27:47.510Z"
   },
   {
    "duration": 21,
    "start_time": "2022-03-08T16:27:47.531Z"
   },
   {
    "duration": 8,
    "start_time": "2022-03-08T16:27:47.554Z"
   },
   {
    "duration": 128,
    "start_time": "2022-03-08T16:27:47.564Z"
   },
   {
    "duration": 16,
    "start_time": "2022-03-08T16:27:47.694Z"
   },
   {
    "duration": 621,
    "start_time": "2022-03-08T16:27:47.712Z"
   },
   {
    "duration": 25,
    "start_time": "2022-03-08T16:27:48.336Z"
   },
   {
    "duration": 372,
    "start_time": "2022-03-08T16:27:48.364Z"
   },
   {
    "duration": 13,
    "start_time": "2022-03-08T16:27:48.739Z"
   },
   {
    "duration": 45,
    "start_time": "2022-03-08T16:27:48.755Z"
   },
   {
    "duration": 7,
    "start_time": "2022-03-08T16:27:48.802Z"
   },
   {
    "duration": 987,
    "start_time": "2022-03-08T16:27:48.811Z"
   },
   {
    "duration": 7,
    "start_time": "2022-03-08T16:27:49.803Z"
   },
   {
    "duration": 26,
    "start_time": "2022-03-08T16:27:49.813Z"
   },
   {
    "duration": 493,
    "start_time": "2022-03-08T16:27:49.842Z"
   },
   {
    "duration": 32,
    "start_time": "2022-03-08T16:27:50.337Z"
   },
   {
    "duration": 22,
    "start_time": "2022-03-08T16:27:50.371Z"
   },
   {
    "duration": 9,
    "start_time": "2022-03-08T16:27:50.396Z"
   },
   {
    "duration": 602,
    "start_time": "2022-03-08T16:27:50.407Z"
   },
   {
    "duration": 525,
    "start_time": "2022-03-08T16:31:48.899Z"
   },
   {
    "duration": 250,
    "start_time": "2022-03-08T16:31:59.350Z"
   },
   {
    "duration": 317,
    "start_time": "2022-03-08T16:32:54.899Z"
   },
   {
    "duration": 185,
    "start_time": "2022-03-08T16:33:18.752Z"
   },
   {
    "duration": 5,
    "start_time": "2022-03-08T16:33:56.357Z"
   },
   {
    "duration": 2152,
    "start_time": "2022-03-08T16:33:56.366Z"
   },
   {
    "duration": -282,
    "start_time": "2022-03-08T16:33:58.809Z"
   },
   {
    "duration": -281,
    "start_time": "2022-03-08T16:33:58.811Z"
   },
   {
    "duration": -285,
    "start_time": "2022-03-08T16:33:58.817Z"
   },
   {
    "duration": -285,
    "start_time": "2022-03-08T16:33:58.820Z"
   },
   {
    "duration": -285,
    "start_time": "2022-03-08T16:33:58.822Z"
   },
   {
    "duration": -285,
    "start_time": "2022-03-08T16:33:58.824Z"
   },
   {
    "duration": -287,
    "start_time": "2022-03-08T16:33:58.828Z"
   },
   {
    "duration": -289,
    "start_time": "2022-03-08T16:33:58.833Z"
   },
   {
    "duration": -291,
    "start_time": "2022-03-08T16:33:58.836Z"
   },
   {
    "duration": -292,
    "start_time": "2022-03-08T16:33:58.839Z"
   },
   {
    "duration": -292,
    "start_time": "2022-03-08T16:33:58.841Z"
   },
   {
    "duration": -295,
    "start_time": "2022-03-08T16:33:58.845Z"
   },
   {
    "duration": -299,
    "start_time": "2022-03-08T16:33:58.851Z"
   },
   {
    "duration": -300,
    "start_time": "2022-03-08T16:33:58.853Z"
   },
   {
    "duration": -303,
    "start_time": "2022-03-08T16:33:58.857Z"
   },
   {
    "duration": -303,
    "start_time": "2022-03-08T16:33:58.859Z"
   },
   {
    "duration": -309,
    "start_time": "2022-03-08T16:33:58.866Z"
   },
   {
    "duration": -310,
    "start_time": "2022-03-08T16:33:58.869Z"
   },
   {
    "duration": -311,
    "start_time": "2022-03-08T16:33:58.871Z"
   },
   {
    "duration": -312,
    "start_time": "2022-03-08T16:33:58.873Z"
   },
   {
    "duration": -313,
    "start_time": "2022-03-08T16:33:58.875Z"
   },
   {
    "duration": -313,
    "start_time": "2022-03-08T16:33:58.877Z"
   },
   {
    "duration": -319,
    "start_time": "2022-03-08T16:33:58.884Z"
   },
   {
    "duration": -319,
    "start_time": "2022-03-08T16:33:58.886Z"
   },
   {
    "duration": -320,
    "start_time": "2022-03-08T16:33:58.888Z"
   },
   {
    "duration": -323,
    "start_time": "2022-03-08T16:33:58.892Z"
   },
   {
    "duration": -325,
    "start_time": "2022-03-08T16:33:58.895Z"
   },
   {
    "duration": -330,
    "start_time": "2022-03-08T16:33:58.902Z"
   },
   {
    "duration": 5,
    "start_time": "2022-03-08T16:34:31.650Z"
   },
   {
    "duration": 1773,
    "start_time": "2022-03-08T16:34:31.666Z"
   },
   {
    "duration": 64,
    "start_time": "2022-03-08T16:34:33.442Z"
   },
   {
    "duration": 12,
    "start_time": "2022-03-08T16:34:33.508Z"
   },
   {
    "duration": 41,
    "start_time": "2022-03-08T16:34:33.523Z"
   },
   {
    "duration": 4,
    "start_time": "2022-03-08T16:34:33.567Z"
   },
   {
    "duration": 377,
    "start_time": "2022-03-08T16:34:33.574Z"
   },
   {
    "duration": 12,
    "start_time": "2022-03-08T16:34:33.953Z"
   },
   {
    "duration": 728,
    "start_time": "2022-03-08T16:34:33.968Z"
   },
   {
    "duration": 533,
    "start_time": "2022-03-08T16:34:34.700Z"
   },
   {
    "duration": -1326,
    "start_time": "2022-03-08T16:34:36.562Z"
   },
   {
    "duration": -1326,
    "start_time": "2022-03-08T16:34:36.564Z"
   },
   {
    "duration": -1328,
    "start_time": "2022-03-08T16:34:36.567Z"
   },
   {
    "duration": -1335,
    "start_time": "2022-03-08T16:34:36.576Z"
   },
   {
    "duration": -1337,
    "start_time": "2022-03-08T16:34:36.579Z"
   },
   {
    "duration": -1337,
    "start_time": "2022-03-08T16:34:36.581Z"
   },
   {
    "duration": -1337,
    "start_time": "2022-03-08T16:34:36.583Z"
   },
   {
    "duration": -1338,
    "start_time": "2022-03-08T16:34:36.586Z"
   },
   {
    "duration": -1344,
    "start_time": "2022-03-08T16:34:36.593Z"
   },
   {
    "duration": -1344,
    "start_time": "2022-03-08T16:34:36.595Z"
   },
   {
    "duration": -1346,
    "start_time": "2022-03-08T16:34:36.598Z"
   },
   {
    "duration": -1346,
    "start_time": "2022-03-08T16:34:36.600Z"
   },
   {
    "duration": -1347,
    "start_time": "2022-03-08T16:34:36.602Z"
   },
   {
    "duration": -1352,
    "start_time": "2022-03-08T16:34:36.609Z"
   },
   {
    "duration": -1353,
    "start_time": "2022-03-08T16:34:36.612Z"
   },
   {
    "duration": -1354,
    "start_time": "2022-03-08T16:34:36.614Z"
   },
   {
    "duration": -1356,
    "start_time": "2022-03-08T16:34:36.617Z"
   },
   {
    "duration": -1361,
    "start_time": "2022-03-08T16:34:36.623Z"
   },
   {
    "duration": -1362,
    "start_time": "2022-03-08T16:34:36.626Z"
   },
   {
    "duration": -1363,
    "start_time": "2022-03-08T16:34:36.628Z"
   },
   {
    "duration": 5,
    "start_time": "2022-03-08T16:35:04.364Z"
   },
   {
    "duration": 1695,
    "start_time": "2022-03-08T16:35:04.371Z"
   },
   {
    "duration": 60,
    "start_time": "2022-03-08T16:35:06.068Z"
   },
   {
    "duration": 19,
    "start_time": "2022-03-08T16:35:06.131Z"
   },
   {
    "duration": 24,
    "start_time": "2022-03-08T16:35:06.152Z"
   },
   {
    "duration": 5,
    "start_time": "2022-03-08T16:35:06.178Z"
   },
   {
    "duration": 390,
    "start_time": "2022-03-08T16:35:06.185Z"
   },
   {
    "duration": 12,
    "start_time": "2022-03-08T16:35:06.578Z"
   },
   {
    "duration": 812,
    "start_time": "2022-03-08T16:35:06.594Z"
   },
   {
    "duration": 517,
    "start_time": "2022-03-08T16:35:07.410Z"
   },
   {
    "duration": 32,
    "start_time": "2022-03-08T16:35:07.929Z"
   },
   {
    "duration": 4,
    "start_time": "2022-03-08T16:35:07.963Z"
   },
   {
    "duration": 5,
    "start_time": "2022-03-08T16:35:07.970Z"
   },
   {
    "duration": 147,
    "start_time": "2022-03-08T16:35:07.978Z"
   },
   {
    "duration": 27,
    "start_time": "2022-03-08T16:35:08.128Z"
   },
   {
    "duration": 597,
    "start_time": "2022-03-08T16:35:08.158Z"
   },
   {
    "duration": 17,
    "start_time": "2022-03-08T16:35:08.758Z"
   },
   {
    "duration": 401,
    "start_time": "2022-03-08T16:35:08.778Z"
   },
   {
    "duration": 5,
    "start_time": "2022-03-08T16:35:09.181Z"
   },
   {
    "duration": 63,
    "start_time": "2022-03-08T16:35:09.188Z"
   },
   {
    "duration": 7,
    "start_time": "2022-03-08T16:35:09.253Z"
   },
   {
    "duration": 1119,
    "start_time": "2022-03-08T16:35:09.263Z"
   },
   {
    "duration": 9,
    "start_time": "2022-03-08T16:35:10.384Z"
   },
   {
    "duration": 25,
    "start_time": "2022-03-08T16:35:10.395Z"
   },
   {
    "duration": 500,
    "start_time": "2022-03-08T16:35:10.422Z"
   },
   {
    "duration": 34,
    "start_time": "2022-03-08T16:35:10.924Z"
   },
   {
    "duration": 22,
    "start_time": "2022-03-08T16:35:10.964Z"
   },
   {
    "duration": 8,
    "start_time": "2022-03-08T16:35:10.989Z"
   },
   {
    "duration": 598,
    "start_time": "2022-03-08T16:35:11.000Z"
   },
   {
    "duration": 4,
    "start_time": "2022-03-08T16:36:51.407Z"
   },
   {
    "duration": 1852,
    "start_time": "2022-03-08T16:36:51.414Z"
   },
   {
    "duration": 62,
    "start_time": "2022-03-08T16:36:53.269Z"
   },
   {
    "duration": 20,
    "start_time": "2022-03-08T16:36:53.334Z"
   },
   {
    "duration": 23,
    "start_time": "2022-03-08T16:36:53.356Z"
   },
   {
    "duration": 365,
    "start_time": "2022-03-08T16:36:53.382Z"
   },
   {
    "duration": 13,
    "start_time": "2022-03-08T16:36:53.752Z"
   },
   {
    "duration": 715,
    "start_time": "2022-03-08T16:36:53.769Z"
   },
   {
    "duration": 528,
    "start_time": "2022-03-08T16:36:54.487Z"
   },
   {
    "duration": 41,
    "start_time": "2022-03-08T16:36:55.018Z"
   },
   {
    "duration": 5,
    "start_time": "2022-03-08T16:36:55.062Z"
   },
   {
    "duration": 6,
    "start_time": "2022-03-08T16:36:55.070Z"
   },
   {
    "duration": 147,
    "start_time": "2022-03-08T16:36:55.079Z"
   },
   {
    "duration": 31,
    "start_time": "2022-03-08T16:36:55.228Z"
   },
   {
    "duration": 607,
    "start_time": "2022-03-08T16:36:55.262Z"
   },
   {
    "duration": 16,
    "start_time": "2022-03-08T16:36:55.872Z"
   },
   {
    "duration": 389,
    "start_time": "2022-03-08T16:36:55.891Z"
   },
   {
    "duration": 4,
    "start_time": "2022-03-08T16:36:56.283Z"
   },
   {
    "duration": 63,
    "start_time": "2022-03-08T16:36:56.290Z"
   },
   {
    "duration": 7,
    "start_time": "2022-03-08T16:36:56.355Z"
   },
   {
    "duration": 924,
    "start_time": "2022-03-08T16:36:56.364Z"
   },
   {
    "duration": 7,
    "start_time": "2022-03-08T16:36:57.291Z"
   },
   {
    "duration": 22,
    "start_time": "2022-03-08T16:36:57.303Z"
   },
   {
    "duration": 529,
    "start_time": "2022-03-08T16:36:57.327Z"
   },
   {
    "duration": 25,
    "start_time": "2022-03-08T16:36:57.858Z"
   },
   {
    "duration": 26,
    "start_time": "2022-03-08T16:36:57.886Z"
   },
   {
    "duration": 39,
    "start_time": "2022-03-08T16:36:57.915Z"
   },
   {
    "duration": 587,
    "start_time": "2022-03-08T16:36:57.957Z"
   },
   {
    "duration": 337,
    "start_time": "2022-03-08T16:37:39.714Z"
   },
   {
    "duration": 464,
    "start_time": "2022-03-08T16:45:43.860Z"
   },
   {
    "duration": 422,
    "start_time": "2022-03-08T16:46:06.200Z"
   },
   {
    "duration": 408,
    "start_time": "2022-03-08T16:46:21.226Z"
   },
   {
    "duration": 420,
    "start_time": "2022-03-08T16:46:35.098Z"
   },
   {
    "duration": 460,
    "start_time": "2022-03-08T16:46:51.194Z"
   },
   {
    "duration": 679,
    "start_time": "2022-03-08T16:47:03.369Z"
   },
   {
    "duration": 463,
    "start_time": "2022-03-08T16:47:16.057Z"
   },
   {
    "duration": 462,
    "start_time": "2022-03-08T16:47:39.954Z"
   },
   {
    "duration": 424,
    "start_time": "2022-03-08T16:52:23.083Z"
   },
   {
    "duration": 535,
    "start_time": "2022-03-08T17:42:54.610Z"
   },
   {
    "duration": 357,
    "start_time": "2022-03-08T17:43:09.921Z"
   },
   {
    "duration": 523,
    "start_time": "2022-03-08T17:43:15.870Z"
   },
   {
    "duration": 12,
    "start_time": "2022-03-08T17:45:58.961Z"
   },
   {
    "duration": 359,
    "start_time": "2022-03-08T17:54:28.624Z"
   },
   {
    "duration": 4,
    "start_time": "2022-03-09T05:17:33.220Z"
   },
   {
    "duration": 1470,
    "start_time": "2022-03-09T05:17:33.227Z"
   },
   {
    "duration": 60,
    "start_time": "2022-03-09T05:17:34.700Z"
   },
   {
    "duration": 12,
    "start_time": "2022-03-09T05:17:34.762Z"
   },
   {
    "duration": 28,
    "start_time": "2022-03-09T05:17:34.776Z"
   },
   {
    "duration": 253,
    "start_time": "2022-03-09T05:17:34.807Z"
   },
   {
    "duration": 11,
    "start_time": "2022-03-09T05:17:35.064Z"
   },
   {
    "duration": 557,
    "start_time": "2022-03-09T05:17:35.078Z"
   },
   {
    "duration": 491,
    "start_time": "2022-03-09T05:17:35.638Z"
   },
   {
    "duration": 20,
    "start_time": "2022-03-09T05:17:36.131Z"
   },
   {
    "duration": 4,
    "start_time": "2022-03-09T05:17:36.153Z"
   },
   {
    "duration": 22,
    "start_time": "2022-03-09T05:17:36.159Z"
   },
   {
    "duration": 140,
    "start_time": "2022-03-09T05:17:36.183Z"
   },
   {
    "duration": 58,
    "start_time": "2022-03-09T05:17:36.326Z"
   },
   {
    "duration": 448,
    "start_time": "2022-03-09T05:17:36.387Z"
   },
   {
    "duration": 9,
    "start_time": "2022-03-09T05:17:36.838Z"
   },
   {
    "duration": 266,
    "start_time": "2022-03-09T05:17:36.849Z"
   },
   {
    "duration": 5,
    "start_time": "2022-03-09T05:17:37.117Z"
   },
   {
    "duration": 32,
    "start_time": "2022-03-09T05:17:37.126Z"
   },
   {
    "duration": 7,
    "start_time": "2022-03-09T05:17:37.160Z"
   },
   {
    "duration": 49,
    "start_time": "2022-03-09T05:17:37.169Z"
   },
   {
    "duration": 398,
    "start_time": "2022-03-09T05:17:37.221Z"
   },
   {
    "duration": 970,
    "start_time": "2022-03-09T05:17:37.621Z"
   },
   {
    "duration": 6,
    "start_time": "2022-03-09T05:17:38.593Z"
   },
   {
    "duration": 22,
    "start_time": "2022-03-09T05:17:38.601Z"
   },
   {
    "duration": 21,
    "start_time": "2022-03-09T05:17:38.625Z"
   },
   {
    "duration": 7,
    "start_time": "2022-03-09T05:17:38.648Z"
   },
   {
    "duration": 392,
    "start_time": "2022-03-09T05:17:38.657Z"
   },
   {
    "duration": 408,
    "start_time": "2022-03-09T07:47:19.143Z"
   },
   {
    "duration": 449,
    "start_time": "2022-03-09T07:48:09.713Z"
   },
   {
    "duration": 464,
    "start_time": "2022-03-09T08:08:11.307Z"
   },
   {
    "duration": 10,
    "start_time": "2022-03-09T08:09:19.721Z"
   },
   {
    "duration": 417,
    "start_time": "2022-03-09T08:10:13.674Z"
   },
   {
    "duration": 10,
    "start_time": "2022-03-09T08:10:26.371Z"
   },
   {
    "duration": 19,
    "start_time": "2022-03-09T09:26:44.496Z"
   },
   {
    "duration": 19,
    "start_time": "2022-03-09T09:27:10.908Z"
   },
   {
    "duration": 125,
    "start_time": "2022-03-09T10:08:15.050Z"
   },
   {
    "duration": 274,
    "start_time": "2022-03-09T10:18:49.358Z"
   },
   {
    "duration": 19,
    "start_time": "2022-03-09T10:19:06.636Z"
   },
   {
    "duration": 421,
    "start_time": "2022-03-09T10:19:07.892Z"
   },
   {
    "duration": 18,
    "start_time": "2022-03-09T10:19:21.132Z"
   },
   {
    "duration": 19,
    "start_time": "2022-03-09T10:19:34.380Z"
   },
   {
    "duration": 20,
    "start_time": "2022-03-09T10:19:44.764Z"
   },
   {
    "duration": 254,
    "start_time": "2022-03-09T10:19:45.686Z"
   },
   {
    "duration": 427,
    "start_time": "2022-03-09T10:20:37.086Z"
   },
   {
    "duration": 3,
    "start_time": "2022-03-09T10:45:38.260Z"
   },
   {
    "duration": 1540,
    "start_time": "2022-03-09T10:45:38.266Z"
   },
   {
    "duration": 52,
    "start_time": "2022-03-09T10:45:39.809Z"
   },
   {
    "duration": 12,
    "start_time": "2022-03-09T10:45:39.863Z"
   },
   {
    "duration": 33,
    "start_time": "2022-03-09T10:45:39.877Z"
   },
   {
    "duration": 261,
    "start_time": "2022-03-09T10:45:39.912Z"
   },
   {
    "duration": 10,
    "start_time": "2022-03-09T10:45:40.176Z"
   },
   {
    "duration": 593,
    "start_time": "2022-03-09T10:45:40.189Z"
   },
   {
    "duration": 409,
    "start_time": "2022-03-09T10:45:40.784Z"
   },
   {
    "duration": 18,
    "start_time": "2022-03-09T10:45:41.200Z"
   },
   {
    "duration": 3,
    "start_time": "2022-03-09T10:45:41.220Z"
   },
   {
    "duration": 8,
    "start_time": "2022-03-09T10:45:41.224Z"
   },
   {
    "duration": 131,
    "start_time": "2022-03-09T10:45:41.234Z"
   },
   {
    "duration": 17,
    "start_time": "2022-03-09T10:45:41.367Z"
   },
   {
    "duration": 22,
    "start_time": "2022-03-09T10:45:41.386Z"
   },
   {
    "duration": 457,
    "start_time": "2022-03-09T10:45:41.410Z"
   },
   {
    "duration": 8,
    "start_time": "2022-03-09T10:45:41.869Z"
   },
   {
    "duration": 267,
    "start_time": "2022-03-09T10:45:41.879Z"
   },
   {
    "duration": 4,
    "start_time": "2022-03-09T10:45:42.150Z"
   },
   {
    "duration": 45,
    "start_time": "2022-03-09T10:45:42.157Z"
   },
   {
    "duration": 6,
    "start_time": "2022-03-09T10:45:42.204Z"
   },
   {
    "duration": 24,
    "start_time": "2022-03-09T10:45:42.212Z"
   },
   {
    "duration": 403,
    "start_time": "2022-03-09T10:45:42.238Z"
   },
   {
    "duration": 1039,
    "start_time": "2022-03-09T10:45:42.642Z"
   },
   {
    "duration": 7,
    "start_time": "2022-03-09T10:45:43.683Z"
   },
   {
    "duration": 31,
    "start_time": "2022-03-09T10:45:43.692Z"
   },
   {
    "duration": 21,
    "start_time": "2022-03-09T10:45:43.725Z"
   },
   {
    "duration": 282,
    "start_time": "2022-03-09T10:45:43.749Z"
   },
   {
    "duration": 8,
    "start_time": "2022-03-09T10:45:44.033Z"
   },
   {
    "duration": 394,
    "start_time": "2022-03-09T10:45:44.043Z"
   },
   {
    "duration": 3,
    "start_time": "2022-03-09T18:02:05.110Z"
   },
   {
    "duration": 34629,
    "start_time": "2022-03-09T18:02:05.115Z"
   },
   {
    "duration": 56,
    "start_time": "2022-03-09T18:02:39.746Z"
   },
   {
    "duration": 11,
    "start_time": "2022-03-09T18:02:39.804Z"
   },
   {
    "duration": 19,
    "start_time": "2022-03-09T18:02:39.818Z"
   },
   {
    "duration": 257,
    "start_time": "2022-03-09T18:02:39.839Z"
   },
   {
    "duration": 9,
    "start_time": "2022-03-09T18:02:40.099Z"
   },
   {
    "duration": 534,
    "start_time": "2022-03-09T18:02:40.110Z"
   },
   {
    "duration": 367,
    "start_time": "2022-03-09T18:02:40.647Z"
   },
   {
    "duration": 18,
    "start_time": "2022-03-09T18:02:41.016Z"
   },
   {
    "duration": 2,
    "start_time": "2022-03-09T18:02:41.036Z"
   },
   {
    "duration": 4,
    "start_time": "2022-03-09T18:02:41.040Z"
   },
   {
    "duration": 126,
    "start_time": "2022-03-09T18:02:41.063Z"
   },
   {
    "duration": 14,
    "start_time": "2022-03-09T18:02:41.191Z"
   },
   {
    "duration": 11,
    "start_time": "2022-03-09T18:02:41.207Z"
   },
   {
    "duration": 541,
    "start_time": "2022-03-09T18:02:41.220Z"
   },
   {
    "duration": 7,
    "start_time": "2022-03-09T18:02:41.763Z"
   },
   {
    "duration": 251,
    "start_time": "2022-03-09T18:02:41.771Z"
   },
   {
    "duration": 3,
    "start_time": "2022-03-09T18:02:42.023Z"
   },
   {
    "duration": 44,
    "start_time": "2022-03-09T18:02:42.028Z"
   },
   {
    "duration": 5,
    "start_time": "2022-03-09T18:02:42.074Z"
   },
   {
    "duration": 23,
    "start_time": "2022-03-09T18:02:42.080Z"
   },
   {
    "duration": 387,
    "start_time": "2022-03-09T18:02:42.105Z"
   },
   {
    "duration": 1362,
    "start_time": "2022-03-09T18:02:42.494Z"
   },
   {
    "duration": 5,
    "start_time": "2022-03-09T18:02:43.858Z"
   },
   {
    "duration": 20,
    "start_time": "2022-03-09T18:02:43.865Z"
   },
   {
    "duration": 16,
    "start_time": "2022-03-09T18:02:43.887Z"
   },
   {
    "duration": 258,
    "start_time": "2022-03-09T18:02:43.905Z"
   },
   {
    "duration": 7,
    "start_time": "2022-03-09T18:02:44.165Z"
   },
   {
    "duration": 354,
    "start_time": "2022-03-09T18:02:44.173Z"
   },
   {
    "duration": 321,
    "start_time": "2022-03-10T04:46:52.473Z"
   },
   {
    "duration": 3,
    "start_time": "2022-03-10T04:46:56.909Z"
   },
   {
    "duration": 1842,
    "start_time": "2022-03-10T04:46:56.915Z"
   },
   {
    "duration": 64,
    "start_time": "2022-03-10T04:46:58.760Z"
   },
   {
    "duration": 10,
    "start_time": "2022-03-10T04:46:58.826Z"
   },
   {
    "duration": 27,
    "start_time": "2022-03-10T04:46:58.838Z"
   },
   {
    "duration": 28,
    "start_time": "2022-03-10T04:46:58.867Z"
   },
   {
    "duration": 5,
    "start_time": "2022-03-10T04:58:16.282Z"
   },
   {
    "duration": 1778,
    "start_time": "2022-03-10T04:58:16.289Z"
   },
   {
    "duration": 63,
    "start_time": "2022-03-10T04:58:18.070Z"
   },
   {
    "duration": 12,
    "start_time": "2022-03-10T04:58:18.135Z"
   },
   {
    "duration": 45,
    "start_time": "2022-03-10T04:58:18.149Z"
   },
   {
    "duration": 10,
    "start_time": "2022-03-10T04:58:18.197Z"
   },
   {
    "duration": 363,
    "start_time": "2022-03-10T04:58:18.211Z"
   },
   {
    "duration": 21,
    "start_time": "2022-03-10T04:58:18.576Z"
   },
   {
    "duration": 756,
    "start_time": "2022-03-10T04:58:18.599Z"
   },
   {
    "duration": 556,
    "start_time": "2022-03-10T04:58:19.357Z"
   },
   {
    "duration": 20,
    "start_time": "2022-03-10T04:58:19.916Z"
   },
   {
    "duration": 4,
    "start_time": "2022-03-10T04:58:19.938Z"
   },
   {
    "duration": 6,
    "start_time": "2022-03-10T04:58:19.944Z"
   },
   {
    "duration": 162,
    "start_time": "2022-03-10T04:58:19.953Z"
   },
   {
    "duration": 24,
    "start_time": "2022-03-10T04:58:20.117Z"
   },
   {
    "duration": 12,
    "start_time": "2022-03-10T04:58:20.143Z"
   },
   {
    "duration": 629,
    "start_time": "2022-03-10T04:58:20.158Z"
   },
   {
    "duration": 10,
    "start_time": "2022-03-10T04:58:20.789Z"
   },
   {
    "duration": 405,
    "start_time": "2022-03-10T04:58:20.803Z"
   },
   {
    "duration": 5,
    "start_time": "2022-03-10T04:58:21.211Z"
   },
   {
    "duration": 69,
    "start_time": "2022-03-10T04:58:21.218Z"
   },
   {
    "duration": 7,
    "start_time": "2022-03-10T04:58:21.289Z"
   },
   {
    "duration": 28,
    "start_time": "2022-03-10T04:58:21.298Z"
   },
   {
    "duration": 548,
    "start_time": "2022-03-10T04:58:21.328Z"
   },
   {
    "duration": 1217,
    "start_time": "2022-03-10T04:58:21.878Z"
   },
   {
    "duration": 8,
    "start_time": "2022-03-10T04:58:23.098Z"
   },
   {
    "duration": 29,
    "start_time": "2022-03-10T04:58:23.108Z"
   },
   {
    "duration": 55,
    "start_time": "2022-03-10T04:58:23.140Z"
   },
   {
    "duration": 386,
    "start_time": "2022-03-10T04:58:23.197Z"
   },
   {
    "duration": 10,
    "start_time": "2022-03-10T04:58:23.588Z"
   },
   {
    "duration": 686,
    "start_time": "2022-03-10T04:58:23.601Z"
   },
   {
    "duration": 79,
    "start_time": "2022-03-10T05:00:49.995Z"
   },
   {
    "duration": 533,
    "start_time": "2022-03-10T05:01:50.125Z"
   },
   {
    "duration": 74,
    "start_time": "2022-03-10T05:04:36.113Z"
   },
   {
    "duration": 4,
    "start_time": "2022-03-10T05:08:31.071Z"
   },
   {
    "duration": 510,
    "start_time": "2022-03-10T05:09:29.265Z"
   },
   {
    "duration": 480,
    "start_time": "2022-03-10T05:11:08.563Z"
   },
   {
    "duration": 615,
    "start_time": "2022-03-10T05:11:18.501Z"
   },
   {
    "duration": 454,
    "start_time": "2022-03-10T05:13:38.599Z"
   },
   {
    "duration": 4,
    "start_time": "2022-03-10T05:13:58.074Z"
   },
   {
    "duration": 1844,
    "start_time": "2022-03-10T05:13:58.081Z"
   },
   {
    "duration": 70,
    "start_time": "2022-03-10T05:13:59.928Z"
   },
   {
    "duration": 12,
    "start_time": "2022-03-10T05:14:00.001Z"
   },
   {
    "duration": 35,
    "start_time": "2022-03-10T05:14:00.015Z"
   },
   {
    "duration": 11,
    "start_time": "2022-03-10T05:14:00.052Z"
   },
   {
    "duration": 399,
    "start_time": "2022-03-10T05:14:00.065Z"
   },
   {
    "duration": 20,
    "start_time": "2022-03-10T05:14:00.467Z"
   },
   {
    "duration": 757,
    "start_time": "2022-03-10T05:14:00.489Z"
   },
   {
    "duration": 567,
    "start_time": "2022-03-10T05:14:01.248Z"
   },
   {
    "duration": 20,
    "start_time": "2022-03-10T05:14:01.818Z"
   },
   {
    "duration": 5,
    "start_time": "2022-03-10T05:14:01.840Z"
   },
   {
    "duration": 8,
    "start_time": "2022-03-10T05:14:01.848Z"
   },
   {
    "duration": 135,
    "start_time": "2022-03-10T05:14:01.887Z"
   },
   {
    "duration": 23,
    "start_time": "2022-03-10T05:14:02.024Z"
   },
   {
    "duration": 29,
    "start_time": "2022-03-10T05:14:02.050Z"
   },
   {
    "duration": 643,
    "start_time": "2022-03-10T05:14:02.081Z"
   },
   {
    "duration": 10,
    "start_time": "2022-03-10T05:14:02.726Z"
   },
   {
    "duration": 397,
    "start_time": "2022-03-10T05:14:02.738Z"
   },
   {
    "duration": 5,
    "start_time": "2022-03-10T05:14:03.137Z"
   },
   {
    "duration": 59,
    "start_time": "2022-03-10T05:14:03.144Z"
   },
   {
    "duration": 6,
    "start_time": "2022-03-10T05:14:03.205Z"
   },
   {
    "duration": 31,
    "start_time": "2022-03-10T05:14:03.215Z"
   },
   {
    "duration": 555,
    "start_time": "2022-03-10T05:14:03.248Z"
   },
   {
    "duration": 5,
    "start_time": "2022-03-10T05:14:03.805Z"
   },
   {
    "duration": 391,
    "start_time": "2022-03-10T05:14:03.812Z"
   },
   {
    "duration": 1265,
    "start_time": "2022-03-10T05:14:04.205Z"
   },
   {
    "duration": 9,
    "start_time": "2022-03-10T05:14:05.472Z"
   },
   {
    "duration": 28,
    "start_time": "2022-03-10T05:14:05.483Z"
   },
   {
    "duration": 24,
    "start_time": "2022-03-10T05:14:05.513Z"
   },
   {
    "duration": 496,
    "start_time": "2022-03-10T05:14:05.540Z"
   },
   {
    "duration": 1370,
    "start_time": "2022-03-10T05:14:04.668Z"
   },
   {
    "duration": 1366,
    "start_time": "2022-03-10T05:14:04.674Z"
   },
   {
    "duration": 524,
    "start_time": "2022-03-10T05:14:28.043Z"
   },
   {
    "duration": 219,
    "start_time": "2022-03-10T05:15:37.300Z"
   },
   {
    "duration": 353,
    "start_time": "2022-03-10T05:18:13.721Z"
   },
   {
    "duration": 583,
    "start_time": "2022-03-10T05:18:16.872Z"
   },
   {
    "duration": 5,
    "start_time": "2022-03-10T05:18:27.161Z"
   },
   {
    "duration": 1819,
    "start_time": "2022-03-10T05:18:27.168Z"
   },
   {
    "duration": 62,
    "start_time": "2022-03-10T05:18:28.990Z"
   },
   {
    "duration": 13,
    "start_time": "2022-03-10T05:18:29.055Z"
   },
   {
    "duration": 38,
    "start_time": "2022-03-10T05:18:29.070Z"
   },
   {
    "duration": 11,
    "start_time": "2022-03-10T05:18:29.111Z"
   },
   {
    "duration": 375,
    "start_time": "2022-03-10T05:18:29.125Z"
   },
   {
    "duration": 12,
    "start_time": "2022-03-10T05:18:29.504Z"
   },
   {
    "duration": 717,
    "start_time": "2022-03-10T05:18:29.519Z"
   },
   {
    "duration": 549,
    "start_time": "2022-03-10T05:18:30.238Z"
   },
   {
    "duration": 21,
    "start_time": "2022-03-10T05:18:30.789Z"
   },
   {
    "duration": 4,
    "start_time": "2022-03-10T05:18:30.813Z"
   },
   {
    "duration": 17,
    "start_time": "2022-03-10T05:18:30.819Z"
   },
   {
    "duration": 154,
    "start_time": "2022-03-10T05:18:30.839Z"
   },
   {
    "duration": 32,
    "start_time": "2022-03-10T05:18:30.996Z"
   },
   {
    "duration": 19,
    "start_time": "2022-03-10T05:18:31.030Z"
   },
   {
    "duration": 660,
    "start_time": "2022-03-10T05:18:31.052Z"
   },
   {
    "duration": 11,
    "start_time": "2022-03-10T05:18:31.715Z"
   },
   {
    "duration": 389,
    "start_time": "2022-03-10T05:18:31.729Z"
   },
   {
    "duration": 6,
    "start_time": "2022-03-10T05:18:32.122Z"
   },
   {
    "duration": 72,
    "start_time": "2022-03-10T05:18:32.132Z"
   },
   {
    "duration": 8,
    "start_time": "2022-03-10T05:18:32.207Z"
   },
   {
    "duration": 25,
    "start_time": "2022-03-10T05:18:32.222Z"
   },
   {
    "duration": 549,
    "start_time": "2022-03-10T05:18:32.250Z"
   },
   {
    "duration": 5,
    "start_time": "2022-03-10T05:18:32.802Z"
   },
   {
    "duration": 397,
    "start_time": "2022-03-10T05:18:32.810Z"
   },
   {
    "duration": 1170,
    "start_time": "2022-03-10T05:18:33.210Z"
   },
   {
    "duration": 8,
    "start_time": "2022-03-10T05:18:34.382Z"
   },
   {
    "duration": 27,
    "start_time": "2022-03-10T05:18:34.392Z"
   },
   {
    "duration": 25,
    "start_time": "2022-03-10T05:18:34.422Z"
   },
   {
    "duration": 550,
    "start_time": "2022-03-10T05:18:34.449Z"
   },
   {
    "duration": 9,
    "start_time": "2022-03-10T05:18:35.001Z"
   },
   {
    "duration": 546,
    "start_time": "2022-03-10T05:18:35.012Z"
   },
   {
    "duration": 73,
    "start_time": "2022-03-10T05:23:59.179Z"
   },
   {
    "duration": 3,
    "start_time": "2022-03-10T05:24:36.839Z"
   },
   {
    "duration": 7,
    "start_time": "2022-03-10T05:24:36.845Z"
   },
   {
    "duration": 70,
    "start_time": "2022-03-10T05:24:36.855Z"
   },
   {
    "duration": 11,
    "start_time": "2022-03-10T05:24:36.928Z"
   },
   {
    "duration": 54,
    "start_time": "2022-03-10T05:24:36.942Z"
   },
   {
    "duration": 376,
    "start_time": "2022-03-10T05:24:36.999Z"
   },
   {
    "duration": 16,
    "start_time": "2022-03-10T05:24:37.379Z"
   },
   {
    "duration": 194,
    "start_time": "2022-03-10T05:24:37.397Z"
   },
   {
    "duration": 446,
    "start_time": "2022-03-10T05:24:37.594Z"
   },
   {
    "duration": 22,
    "start_time": "2022-03-10T05:24:38.044Z"
   },
   {
    "duration": 5,
    "start_time": "2022-03-10T05:24:38.088Z"
   },
   {
    "duration": 8,
    "start_time": "2022-03-10T05:24:38.096Z"
   },
   {
    "duration": 18,
    "start_time": "2022-03-10T05:24:38.107Z"
   },
   {
    "duration": 20,
    "start_time": "2022-03-10T05:24:38.128Z"
   },
   {
    "duration": 51,
    "start_time": "2022-03-10T05:24:38.150Z"
   },
   {
    "duration": 583,
    "start_time": "2022-03-10T05:24:38.204Z"
   },
   {
    "duration": 10,
    "start_time": "2022-03-10T05:24:38.789Z"
   },
   {
    "duration": 546,
    "start_time": "2022-03-10T05:24:38.801Z"
   },
   {
    "duration": 5,
    "start_time": "2022-03-10T05:24:39.351Z"
   },
   {
    "duration": 65,
    "start_time": "2022-03-10T05:24:39.360Z"
   },
   {
    "duration": 8,
    "start_time": "2022-03-10T05:24:39.427Z"
   },
   {
    "duration": 49,
    "start_time": "2022-03-10T05:24:39.439Z"
   },
   {
    "duration": 377,
    "start_time": "2022-03-10T05:24:39.492Z"
   },
   {
    "duration": 15,
    "start_time": "2022-03-10T05:24:39.872Z"
   },
   {
    "duration": 386,
    "start_time": "2022-03-10T05:24:39.890Z"
   },
   {
    "duration": 1282,
    "start_time": "2022-03-10T05:24:40.287Z"
   },
   {
    "duration": 8,
    "start_time": "2022-03-10T05:24:41.571Z"
   },
   {
    "duration": 30,
    "start_time": "2022-03-10T05:24:41.581Z"
   },
   {
    "duration": 25,
    "start_time": "2022-03-10T05:24:41.613Z"
   },
   {
    "duration": 577,
    "start_time": "2022-03-10T05:24:41.640Z"
   },
   {
    "duration": 11,
    "start_time": "2022-03-10T05:24:42.219Z"
   },
   {
    "duration": 559,
    "start_time": "2022-03-10T05:24:42.232Z"
   },
   {
    "duration": 3,
    "start_time": "2022-03-11T06:52:09.820Z"
   },
   {
    "duration": 1398,
    "start_time": "2022-03-11T06:52:09.826Z"
   },
   {
    "duration": 62,
    "start_time": "2022-03-11T06:52:11.226Z"
   },
   {
    "duration": 8,
    "start_time": "2022-03-11T06:52:11.290Z"
   },
   {
    "duration": 17,
    "start_time": "2022-03-11T06:52:11.300Z"
   },
   {
    "duration": 192,
    "start_time": "2022-03-11T06:52:11.318Z"
   },
   {
    "duration": 9,
    "start_time": "2022-03-11T06:52:11.512Z"
   },
   {
    "duration": 456,
    "start_time": "2022-03-11T06:52:11.523Z"
   },
   {
    "duration": 414,
    "start_time": "2022-03-11T06:52:11.981Z"
   },
   {
    "duration": 16,
    "start_time": "2022-03-11T06:52:12.398Z"
   },
   {
    "duration": 3,
    "start_time": "2022-03-11T06:52:12.416Z"
   },
   {
    "duration": 4,
    "start_time": "2022-03-11T06:52:12.421Z"
   },
   {
    "duration": 109,
    "start_time": "2022-03-11T06:52:12.426Z"
   },
   {
    "duration": 11,
    "start_time": "2022-03-11T06:52:12.537Z"
   },
   {
    "duration": 8,
    "start_time": "2022-03-11T06:52:12.550Z"
   },
   {
    "duration": 456,
    "start_time": "2022-03-11T06:52:12.560Z"
   },
   {
    "duration": 7,
    "start_time": "2022-03-11T06:52:13.017Z"
   },
   {
    "duration": 228,
    "start_time": "2022-03-11T06:52:13.025Z"
   },
   {
    "duration": 3,
    "start_time": "2022-03-11T06:52:13.255Z"
   },
   {
    "duration": 40,
    "start_time": "2022-03-11T06:52:13.259Z"
   },
   {
    "duration": 5,
    "start_time": "2022-03-11T06:52:13.301Z"
   },
   {
    "duration": 18,
    "start_time": "2022-03-11T06:52:13.307Z"
   },
   {
    "duration": 354,
    "start_time": "2022-03-11T06:52:13.327Z"
   },
   {
    "duration": 3,
    "start_time": "2022-03-11T06:52:13.683Z"
   },
   {
    "duration": 226,
    "start_time": "2022-03-11T06:52:13.687Z"
   },
   {
    "duration": 1306,
    "start_time": "2022-03-11T06:52:13.915Z"
   },
   {
    "duration": 5,
    "start_time": "2022-03-11T06:52:15.222Z"
   },
   {
    "duration": 17,
    "start_time": "2022-03-11T06:52:15.229Z"
   },
   {
    "duration": 15,
    "start_time": "2022-03-11T06:52:15.248Z"
   },
   {
    "duration": 374,
    "start_time": "2022-03-11T06:52:15.264Z"
   },
   {
    "duration": 6,
    "start_time": "2022-03-11T06:52:15.639Z"
   },
   {
    "duration": 302,
    "start_time": "2022-03-11T06:52:15.647Z"
   },
   {
    "duration": 5,
    "start_time": "2022-03-18T10:11:52.227Z"
   },
   {
    "duration": 1954,
    "start_time": "2022-03-18T10:11:52.234Z"
   },
   {
    "duration": 100,
    "start_time": "2022-03-18T10:11:54.191Z"
   },
   {
    "duration": 21,
    "start_time": "2022-03-18T10:11:54.293Z"
   },
   {
    "duration": 48,
    "start_time": "2022-03-18T10:11:54.317Z"
   },
   {
    "duration": 339,
    "start_time": "2022-03-18T10:11:54.368Z"
   },
   {
    "duration": 13,
    "start_time": "2022-03-18T10:11:54.709Z"
   },
   {
    "duration": 332,
    "start_time": "2022-03-18T10:11:54.724Z"
   },
   {
    "duration": 499,
    "start_time": "2022-03-18T10:11:55.059Z"
   },
   {
    "duration": 22,
    "start_time": "2022-03-18T10:11:55.561Z"
   },
   {
    "duration": 3,
    "start_time": "2022-03-18T10:11:55.587Z"
   },
   {
    "duration": 11,
    "start_time": "2022-03-18T10:11:55.593Z"
   },
   {
    "duration": 46,
    "start_time": "2022-03-18T10:11:55.606Z"
   },
   {
    "duration": 17,
    "start_time": "2022-03-18T10:11:55.654Z"
   },
   {
    "duration": 12,
    "start_time": "2022-03-18T10:11:55.673Z"
   },
   {
    "duration": 493,
    "start_time": "2022-03-18T10:11:55.687Z"
   },
   {
    "duration": 11,
    "start_time": "2022-03-18T10:11:56.182Z"
   },
   {
    "duration": 428,
    "start_time": "2022-03-18T10:11:56.195Z"
   },
   {
    "duration": 5,
    "start_time": "2022-03-18T10:11:56.626Z"
   },
   {
    "duration": 44,
    "start_time": "2022-03-18T10:11:56.642Z"
   },
   {
    "duration": 8,
    "start_time": "2022-03-18T10:11:56.688Z"
   },
   {
    "duration": 56,
    "start_time": "2022-03-18T10:11:56.698Z"
   },
   {
    "duration": 111,
    "start_time": "2022-03-18T10:11:56.758Z"
   },
   {
    "duration": 5,
    "start_time": "2022-03-18T10:11:56.871Z"
   },
   {
    "duration": 87,
    "start_time": "2022-03-18T10:11:56.878Z"
   },
   {
    "duration": 1455,
    "start_time": "2022-03-18T10:11:56.968Z"
   },
   {
    "duration": 12,
    "start_time": "2022-03-18T10:11:58.425Z"
   },
   {
    "duration": 68,
    "start_time": "2022-03-18T10:11:58.439Z"
   },
   {
    "duration": 27,
    "start_time": "2022-03-18T10:11:58.511Z"
   },
   {
    "duration": 100,
    "start_time": "2022-03-18T10:11:58.541Z"
   },
   {
    "duration": 16,
    "start_time": "2022-03-18T10:11:58.643Z"
   },
   {
    "duration": 447,
    "start_time": "2022-03-18T10:11:58.663Z"
   },
   {
    "duration": 4,
    "start_time": "2022-04-28T17:21:33.615Z"
   },
   {
    "duration": 1197,
    "start_time": "2022-04-28T17:21:33.621Z"
   },
   {
    "duration": 58,
    "start_time": "2022-04-28T17:21:34.820Z"
   },
   {
    "duration": 12,
    "start_time": "2022-04-28T17:21:34.879Z"
   },
   {
    "duration": 18,
    "start_time": "2022-04-28T17:21:34.893Z"
   },
   {
    "duration": 181,
    "start_time": "2022-04-28T17:21:34.913Z"
   },
   {
    "duration": 8,
    "start_time": "2022-04-28T17:21:35.096Z"
   },
   {
    "duration": 158,
    "start_time": "2022-04-28T17:21:35.106Z"
   },
   {
    "duration": 272,
    "start_time": "2022-04-28T17:21:35.265Z"
   },
   {
    "duration": 23,
    "start_time": "2022-04-28T17:21:35.539Z"
   },
   {
    "duration": 2,
    "start_time": "2022-04-28T17:21:35.565Z"
   },
   {
    "duration": 6,
    "start_time": "2022-04-28T17:21:35.569Z"
   },
   {
    "duration": 28,
    "start_time": "2022-04-28T17:21:35.576Z"
   },
   {
    "duration": 13,
    "start_time": "2022-04-28T17:21:35.605Z"
   },
   {
    "duration": 7,
    "start_time": "2022-04-28T17:21:35.619Z"
   },
   {
    "duration": 254,
    "start_time": "2022-04-28T17:21:35.628Z"
   },
   {
    "duration": 9,
    "start_time": "2022-04-28T17:21:35.884Z"
   },
   {
    "duration": 310,
    "start_time": "2022-04-28T17:21:35.895Z"
   },
   {
    "duration": 5,
    "start_time": "2022-04-28T17:21:36.206Z"
   },
   {
    "duration": 42,
    "start_time": "2022-04-28T17:21:36.213Z"
   },
   {
    "duration": 6,
    "start_time": "2022-04-28T17:21:36.257Z"
   },
   {
    "duration": 18,
    "start_time": "2022-04-28T17:21:36.265Z"
   },
   {
    "duration": 43,
    "start_time": "2022-04-28T17:21:36.285Z"
   },
   {
    "duration": 26,
    "start_time": "2022-04-28T17:21:36.329Z"
   },
   {
    "duration": 43,
    "start_time": "2022-04-28T17:21:36.357Z"
   },
   {
    "duration": 958,
    "start_time": "2022-04-28T17:21:36.401Z"
   },
   {
    "duration": 5,
    "start_time": "2022-04-28T17:21:37.361Z"
   },
   {
    "duration": 30,
    "start_time": "2022-04-28T17:21:37.367Z"
   },
   {
    "duration": 17,
    "start_time": "2022-04-28T17:21:37.400Z"
   },
   {
    "duration": 46,
    "start_time": "2022-04-28T17:21:37.419Z"
   },
   {
    "duration": 9,
    "start_time": "2022-04-28T17:21:37.466Z"
   },
   {
    "duration": 223,
    "start_time": "2022-04-28T17:21:37.476Z"
   },
   {
    "duration": 5,
    "start_time": "2022-05-01T07:41:24.681Z"
   },
   {
    "duration": 1765,
    "start_time": "2022-05-01T07:41:24.689Z"
   },
   {
    "duration": 95,
    "start_time": "2022-05-01T07:41:26.456Z"
   },
   {
    "duration": 20,
    "start_time": "2022-05-01T07:41:26.554Z"
   },
   {
    "duration": 45,
    "start_time": "2022-05-01T07:41:26.576Z"
   },
   {
    "duration": 426,
    "start_time": "2022-05-01T07:41:26.623Z"
   },
   {
    "duration": 16,
    "start_time": "2022-05-01T07:41:27.052Z"
   },
   {
    "duration": 337,
    "start_time": "2022-05-01T07:41:27.072Z"
   },
   {
    "duration": 596,
    "start_time": "2022-05-01T07:41:27.411Z"
   },
   {
    "duration": 23,
    "start_time": "2022-05-01T07:41:28.014Z"
   },
   {
    "duration": 5,
    "start_time": "2022-05-01T07:41:28.040Z"
   },
   {
    "duration": 8,
    "start_time": "2022-05-01T07:41:28.047Z"
   },
   {
    "duration": 48,
    "start_time": "2022-05-01T07:41:28.057Z"
   },
   {
    "duration": 30,
    "start_time": "2022-05-01T07:41:28.109Z"
   },
   {
    "duration": 18,
    "start_time": "2022-05-01T07:41:28.142Z"
   },
   {
    "duration": 730,
    "start_time": "2022-05-01T07:41:28.163Z"
   },
   {
    "duration": 16,
    "start_time": "2022-05-01T07:41:28.896Z"
   },
   {
    "duration": 435,
    "start_time": "2022-05-01T07:41:28.916Z"
   },
   {
    "duration": 234,
    "start_time": "2022-05-01T07:42:03.430Z"
   },
   {
    "duration": 4,
    "start_time": "2022-05-01T07:42:07.018Z"
   },
   {
    "duration": 9,
    "start_time": "2022-05-01T07:42:07.025Z"
   },
   {
    "duration": 88,
    "start_time": "2022-05-01T07:42:07.037Z"
   },
   {
    "duration": 19,
    "start_time": "2022-05-01T07:42:07.128Z"
   },
   {
    "duration": 45,
    "start_time": "2022-05-01T07:42:07.150Z"
   },
   {
    "duration": 308,
    "start_time": "2022-05-01T07:42:07.197Z"
   },
   {
    "duration": 13,
    "start_time": "2022-05-01T07:42:07.507Z"
   },
   {
    "duration": 15,
    "start_time": "2022-05-01T07:42:07.522Z"
   },
   {
    "duration": 594,
    "start_time": "2022-05-01T07:42:07.540Z"
   },
   {
    "duration": 24,
    "start_time": "2022-05-01T07:42:08.137Z"
   },
   {
    "duration": 3,
    "start_time": "2022-05-01T07:42:08.165Z"
   },
   {
    "duration": 4,
    "start_time": "2022-05-01T07:42:08.194Z"
   },
   {
    "duration": 24,
    "start_time": "2022-05-01T07:42:08.200Z"
   },
   {
    "duration": 20,
    "start_time": "2022-05-01T07:42:08.227Z"
   },
   {
    "duration": 45,
    "start_time": "2022-05-01T07:42:08.249Z"
   },
   {
    "duration": 454,
    "start_time": "2022-05-01T07:42:08.297Z"
   },
   {
    "duration": 11,
    "start_time": "2022-05-01T07:42:08.753Z"
   },
   {
    "duration": 93,
    "start_time": "2022-05-01T07:42:08.766Z"
   },
   {
    "duration": 5,
    "start_time": "2022-05-01T07:42:08.861Z"
   },
   {
    "duration": 97,
    "start_time": "2022-05-01T07:42:08.869Z"
   },
   {
    "duration": 8,
    "start_time": "2022-05-01T07:42:08.969Z"
   },
   {
    "duration": 36,
    "start_time": "2022-05-01T07:42:08.979Z"
   },
   {
    "duration": 98,
    "start_time": "2022-05-01T07:42:09.018Z"
   },
   {
    "duration": 14,
    "start_time": "2022-05-01T07:42:24.303Z"
   },
   {
    "duration": 4,
    "start_time": "2022-05-04T07:31:39.090Z"
   },
   {
    "duration": 1434,
    "start_time": "2022-05-04T07:31:39.106Z"
   },
   {
    "duration": 66,
    "start_time": "2022-05-04T07:31:40.542Z"
   },
   {
    "duration": 14,
    "start_time": "2022-05-04T07:31:40.609Z"
   },
   {
    "duration": 21,
    "start_time": "2022-05-04T07:31:40.624Z"
   },
   {
    "duration": 224,
    "start_time": "2022-05-04T07:31:40.647Z"
   },
   {
    "duration": 9,
    "start_time": "2022-05-04T07:31:40.872Z"
   },
   {
    "duration": 330,
    "start_time": "2022-05-04T07:31:40.892Z"
   },
   {
    "duration": 311,
    "start_time": "2022-05-04T07:31:41.224Z"
   },
   {
    "duration": 16,
    "start_time": "2022-05-04T07:31:41.537Z"
   },
   {
    "duration": 3,
    "start_time": "2022-05-04T07:31:41.554Z"
   },
   {
    "duration": 9,
    "start_time": "2022-05-04T07:31:41.558Z"
   },
   {
    "duration": 42,
    "start_time": "2022-05-04T07:31:41.568Z"
   },
   {
    "duration": 12,
    "start_time": "2022-05-04T07:31:41.612Z"
   },
   {
    "duration": 9,
    "start_time": "2022-05-04T07:31:41.627Z"
   },
   {
    "duration": 322,
    "start_time": "2022-05-04T07:31:41.638Z"
   },
   {
    "duration": 8,
    "start_time": "2022-05-04T07:31:41.962Z"
   },
   {
    "duration": 383,
    "start_time": "2022-05-04T07:31:41.971Z"
   },
   {
    "duration": 3,
    "start_time": "2022-05-04T07:31:42.356Z"
   },
   {
    "duration": 47,
    "start_time": "2022-05-04T07:31:42.361Z"
   },
   {
    "duration": 6,
    "start_time": "2022-05-04T07:31:42.410Z"
   },
   {
    "duration": 20,
    "start_time": "2022-05-04T07:31:42.417Z"
   },
   {
    "duration": 78,
    "start_time": "2022-05-04T07:31:42.439Z"
   },
   {
    "duration": 3,
    "start_time": "2022-05-04T07:31:42.519Z"
   },
   {
    "duration": 50,
    "start_time": "2022-05-04T07:31:42.524Z"
   },
   {
    "duration": 1309,
    "start_time": "2022-05-04T07:31:42.576Z"
   },
   {
    "duration": 10,
    "start_time": "2022-05-04T07:31:43.887Z"
   },
   {
    "duration": 33,
    "start_time": "2022-05-04T07:31:43.899Z"
   },
   {
    "duration": 19,
    "start_time": "2022-05-04T07:31:43.935Z"
   },
   {
    "duration": 65,
    "start_time": "2022-05-04T07:31:43.956Z"
   },
   {
    "duration": 8,
    "start_time": "2022-05-04T07:31:44.023Z"
   },
   {
    "duration": 372,
    "start_time": "2022-05-04T07:31:44.032Z"
   },
   {
    "duration": 3,
    "start_time": "2022-06-17T14:35:06.689Z"
   },
   {
    "duration": 1372,
    "start_time": "2022-06-17T14:35:06.694Z"
   },
   {
    "duration": 133,
    "start_time": "2022-06-17T14:35:08.068Z"
   },
   {
    "duration": 18,
    "start_time": "2022-06-17T14:35:08.203Z"
   },
   {
    "duration": 32,
    "start_time": "2022-06-17T14:35:08.223Z"
   },
   {
    "duration": 11,
    "start_time": "2022-06-17T14:35:18.712Z"
   },
   {
    "duration": 6,
    "start_time": "2022-06-17T14:41:24.627Z"
   },
   {
    "duration": 1082,
    "start_time": "2022-06-17T14:41:24.634Z"
   },
   {
    "duration": 72,
    "start_time": "2022-06-17T14:41:25.718Z"
   },
   {
    "duration": 17,
    "start_time": "2022-06-17T14:41:25.792Z"
   },
   {
    "duration": 18,
    "start_time": "2022-06-17T14:41:25.811Z"
   },
   {
    "duration": 8,
    "start_time": "2022-06-17T14:41:25.830Z"
   },
   {
    "duration": 176,
    "start_time": "2022-06-17T14:41:25.839Z"
   },
   {
    "duration": 8,
    "start_time": "2022-06-17T14:41:26.016Z"
   },
   {
    "duration": 150,
    "start_time": "2022-06-17T14:41:26.026Z"
   },
   {
    "duration": 278,
    "start_time": "2022-06-17T14:41:26.177Z"
   },
   {
    "duration": 22,
    "start_time": "2022-06-17T14:41:26.457Z"
   },
   {
    "duration": 3,
    "start_time": "2022-06-17T14:41:26.480Z"
   },
   {
    "duration": 11,
    "start_time": "2022-06-17T14:41:26.484Z"
   },
   {
    "duration": 12,
    "start_time": "2022-06-17T14:41:26.496Z"
   },
   {
    "duration": 11,
    "start_time": "2022-06-17T14:41:26.510Z"
   },
   {
    "duration": 7,
    "start_time": "2022-06-17T14:41:26.523Z"
   },
   {
    "duration": 274,
    "start_time": "2022-06-17T14:41:26.532Z"
   },
   {
    "duration": 8,
    "start_time": "2022-06-17T14:41:26.807Z"
   },
   {
    "duration": 271,
    "start_time": "2022-06-17T14:41:26.816Z"
   },
   {
    "duration": 3,
    "start_time": "2022-06-17T14:41:27.089Z"
   },
   {
    "duration": 27,
    "start_time": "2022-06-17T14:41:27.093Z"
   },
   {
    "duration": 4,
    "start_time": "2022-06-17T14:41:27.122Z"
   },
   {
    "duration": 16,
    "start_time": "2022-06-17T14:41:27.127Z"
   },
   {
    "duration": 59,
    "start_time": "2022-06-17T14:41:27.144Z"
   },
   {
    "duration": 3,
    "start_time": "2022-06-17T14:41:27.205Z"
   },
   {
    "duration": 44,
    "start_time": "2022-06-17T14:41:27.210Z"
   },
   {
    "duration": 1222,
    "start_time": "2022-06-17T14:41:27.256Z"
   },
   {
    "duration": 6,
    "start_time": "2022-06-17T14:41:28.480Z"
   },
   {
    "duration": 18,
    "start_time": "2022-06-17T14:41:28.488Z"
   },
   {
    "duration": 13,
    "start_time": "2022-06-17T14:41:28.507Z"
   },
   {
    "duration": 64,
    "start_time": "2022-06-17T14:41:28.521Z"
   },
   {
    "duration": 8,
    "start_time": "2022-06-17T14:41:28.586Z"
   },
   {
    "duration": 231,
    "start_time": "2022-06-17T14:41:28.595Z"
   },
   {
    "duration": 3,
    "start_time": "2022-06-17T14:44:08.867Z"
   },
   {
    "duration": 14,
    "start_time": "2022-06-17T14:44:08.872Z"
   },
   {
    "duration": 75,
    "start_time": "2022-06-17T14:44:08.888Z"
   },
   {
    "duration": 12,
    "start_time": "2022-06-17T14:44:08.966Z"
   },
   {
    "duration": 27,
    "start_time": "2022-06-17T14:44:08.980Z"
   },
   {
    "duration": 7,
    "start_time": "2022-06-17T14:44:09.009Z"
   },
   {
    "duration": 200,
    "start_time": "2022-06-17T14:44:09.018Z"
   },
   {
    "duration": 9,
    "start_time": "2022-06-17T14:44:09.220Z"
   },
   {
    "duration": 18,
    "start_time": "2022-06-17T14:44:09.231Z"
   },
   {
    "duration": 221,
    "start_time": "2022-06-17T14:44:09.251Z"
   },
   {
    "duration": 15,
    "start_time": "2022-06-17T14:44:09.474Z"
   },
   {
    "duration": 2,
    "start_time": "2022-06-17T14:44:09.490Z"
   },
   {
    "duration": 6,
    "start_time": "2022-06-17T14:44:09.494Z"
   },
   {
    "duration": 16,
    "start_time": "2022-06-17T14:44:09.501Z"
   },
   {
    "duration": 14,
    "start_time": "2022-06-17T14:44:09.518Z"
   },
   {
    "duration": 14,
    "start_time": "2022-06-17T14:44:09.533Z"
   },
   {
    "duration": 246,
    "start_time": "2022-06-17T14:44:09.549Z"
   },
   {
    "duration": 7,
    "start_time": "2022-06-17T14:44:09.796Z"
   },
   {
    "duration": 6,
    "start_time": "2022-06-17T14:44:09.804Z"
   },
   {
    "duration": 159,
    "start_time": "2022-06-17T14:44:09.812Z"
   },
   {
    "duration": 0,
    "start_time": "2022-06-17T14:44:09.973Z"
   },
   {
    "duration": 47,
    "start_time": "2022-06-17T14:44:39.174Z"
   },
   {
    "duration": 4,
    "start_time": "2022-06-19T05:23:45.240Z"
   },
   {
    "duration": 1363,
    "start_time": "2022-06-19T05:23:45.246Z"
   },
   {
    "duration": 272,
    "start_time": "2022-06-19T05:23:46.610Z"
   },
   {
    "duration": 15,
    "start_time": "2022-06-19T05:23:46.884Z"
   },
   {
    "duration": 27,
    "start_time": "2022-06-19T05:23:46.901Z"
   },
   {
    "duration": 11,
    "start_time": "2022-06-19T05:23:46.929Z"
   },
   {
    "duration": 9,
    "start_time": "2022-06-19T05:28:25.213Z"
   },
   {
    "duration": 22,
    "start_time": "2022-06-19T05:28:25.223Z"
   },
   {
    "duration": 394,
    "start_time": "2022-06-19T05:28:25.246Z"
   },
   {
    "duration": 89,
    "start_time": "2022-06-19T05:28:25.643Z"
   },
   {
    "duration": 26,
    "start_time": "2022-06-19T05:28:25.734Z"
   },
   {
    "duration": 64,
    "start_time": "2022-06-19T05:28:25.762Z"
   },
   {
    "duration": 9,
    "start_time": "2022-06-19T05:28:25.833Z"
   },
   {
    "duration": 22,
    "start_time": "2022-06-19T05:28:25.843Z"
   },
   {
    "duration": 43,
    "start_time": "2022-06-19T05:28:25.867Z"
   },
   {
    "duration": 52,
    "start_time": "2022-06-19T05:28:25.928Z"
   },
   {
    "duration": 1579,
    "start_time": "2022-06-19T05:28:25.981Z"
   },
   {
    "duration": 6,
    "start_time": "2022-06-19T05:28:27.561Z"
   },
   {
    "duration": 19,
    "start_time": "2022-06-19T05:28:27.569Z"
   },
   {
    "duration": 17,
    "start_time": "2022-06-19T05:28:27.589Z"
   },
   {
    "duration": 61,
    "start_time": "2022-06-19T05:28:27.607Z"
   },
   {
    "duration": 9,
    "start_time": "2022-06-19T05:28:27.670Z"
   },
   {
    "duration": 286,
    "start_time": "2022-06-19T05:28:27.681Z"
   },
   {
    "duration": 162,
    "start_time": "2022-06-19T05:28:43.905Z"
   },
   {
    "duration": 2,
    "start_time": "2022-06-19T05:28:55.201Z"
   },
   {
    "duration": 3,
    "start_time": "2022-06-19T05:28:55.212Z"
   },
   {
    "duration": 88,
    "start_time": "2022-06-19T05:28:55.217Z"
   },
   {
    "duration": 13,
    "start_time": "2022-06-19T05:28:55.307Z"
   },
   {
    "duration": 24,
    "start_time": "2022-06-19T05:28:55.321Z"
   },
   {
    "duration": 193,
    "start_time": "2022-06-19T05:28:55.347Z"
   },
   {
    "duration": 11,
    "start_time": "2022-06-19T05:28:55.542Z"
   },
   {
    "duration": 16,
    "start_time": "2022-06-19T05:28:55.555Z"
   },
   {
    "duration": 265,
    "start_time": "2022-06-19T05:28:55.573Z"
   },
   {
    "duration": 15,
    "start_time": "2022-06-19T05:28:55.841Z"
   },
   {
    "duration": 3,
    "start_time": "2022-06-19T05:28:55.858Z"
   },
   {
    "duration": 8,
    "start_time": "2022-06-19T05:28:55.862Z"
   },
   {
    "duration": 13,
    "start_time": "2022-06-19T05:28:55.871Z"
   },
   {
    "duration": 16,
    "start_time": "2022-06-19T05:28:55.886Z"
   },
   {
    "duration": 32,
    "start_time": "2022-06-19T05:28:55.905Z"
   },
   {
    "duration": 294,
    "start_time": "2022-06-19T05:28:55.939Z"
   },
   {
    "duration": 36,
    "start_time": "2022-06-19T05:28:56.234Z"
   },
   {
    "duration": 507,
    "start_time": "2022-06-19T05:29:40.371Z"
   },
   {
    "duration": 5,
    "start_time": "2022-06-19T05:30:30.819Z"
   },
   {
    "duration": 22,
    "start_time": "2022-06-19T05:31:27.387Z"
   },
   {
    "duration": 5,
    "start_time": "2022-06-19T05:31:35.819Z"
   },
   {
    "duration": 612,
    "start_time": "2022-06-19T05:31:39.482Z"
   },
   {
    "duration": 4,
    "start_time": "2022-06-19T05:33:23.308Z"
   },
   {
    "duration": 637,
    "start_time": "2022-06-19T05:33:25.965Z"
   },
   {
    "duration": 724,
    "start_time": "2022-06-19T05:34:46.440Z"
   },
   {
    "duration": 8,
    "start_time": "2022-06-19T05:38:16.343Z"
   },
   {
    "duration": 4,
    "start_time": "2022-06-19T05:38:18.101Z"
   },
   {
    "duration": 52,
    "start_time": "2022-06-19T05:38:18.709Z"
   },
   {
    "duration": 9,
    "start_time": "2022-06-19T05:38:40.941Z"
   },
   {
    "duration": 11,
    "start_time": "2022-06-19T05:39:11.118Z"
   },
   {
    "duration": 3,
    "start_time": "2022-06-19T05:39:11.597Z"
   },
   {
    "duration": 44,
    "start_time": "2022-06-19T05:39:12.247Z"
   },
   {
    "duration": 8,
    "start_time": "2022-06-19T05:39:37.895Z"
   },
   {
    "duration": 43,
    "start_time": "2022-06-19T05:39:56.385Z"
   },
   {
    "duration": 8,
    "start_time": "2022-06-19T05:44:21.766Z"
   },
   {
    "duration": 44,
    "start_time": "2022-06-19T05:44:22.470Z"
   },
   {
    "duration": 76,
    "start_time": "2022-06-19T05:44:54.498Z"
   },
   {
    "duration": 81,
    "start_time": "2022-06-19T05:55:51.415Z"
   },
   {
    "duration": 46,
    "start_time": "2022-06-19T05:56:00.852Z"
   },
   {
    "duration": 22,
    "start_time": "2022-06-19T05:59:05.374Z"
   },
   {
    "duration": 47,
    "start_time": "2022-06-19T05:59:20.546Z"
   },
   {
    "duration": 3,
    "start_time": "2022-06-19T05:59:45.195Z"
   },
   {
    "duration": 9,
    "start_time": "2022-06-19T05:59:45.200Z"
   },
   {
    "duration": 103,
    "start_time": "2022-06-19T05:59:45.211Z"
   },
   {
    "duration": 16,
    "start_time": "2022-06-19T05:59:45.316Z"
   },
   {
    "duration": 54,
    "start_time": "2022-06-19T05:59:45.334Z"
   },
   {
    "duration": 196,
    "start_time": "2022-06-19T05:59:45.390Z"
   },
   {
    "duration": 9,
    "start_time": "2022-06-19T05:59:45.588Z"
   },
   {
    "duration": 10,
    "start_time": "2022-06-19T05:59:45.599Z"
   },
   {
    "duration": 273,
    "start_time": "2022-06-19T05:59:45.611Z"
   },
   {
    "duration": 14,
    "start_time": "2022-06-19T05:59:45.886Z"
   },
   {
    "duration": 5,
    "start_time": "2022-06-19T05:59:45.902Z"
   },
   {
    "duration": 8,
    "start_time": "2022-06-19T05:59:45.908Z"
   },
   {
    "duration": 57,
    "start_time": "2022-06-19T05:59:45.917Z"
   },
   {
    "duration": 12,
    "start_time": "2022-06-19T05:59:45.976Z"
   },
   {
    "duration": 10,
    "start_time": "2022-06-19T05:59:45.990Z"
   },
   {
    "duration": 318,
    "start_time": "2022-06-19T05:59:46.001Z"
   },
   {
    "duration": 826,
    "start_time": "2022-06-19T05:59:46.326Z"
   },
   {
    "duration": 6,
    "start_time": "2022-06-19T05:59:47.156Z"
   },
   {
    "duration": 19,
    "start_time": "2022-06-19T05:59:47.165Z"
   },
   {
    "duration": 55,
    "start_time": "2022-06-19T05:59:47.186Z"
   },
   {
    "duration": 16,
    "start_time": "2022-06-19T05:59:47.243Z"
   },
   {
    "duration": 55,
    "start_time": "2022-06-19T05:59:47.261Z"
   },
   {
    "duration": 3,
    "start_time": "2022-06-19T05:59:47.317Z"
   },
   {
    "duration": 57,
    "start_time": "2022-06-19T05:59:47.323Z"
   },
   {
    "duration": 5,
    "start_time": "2022-06-19T05:59:47.382Z"
   },
   {
    "duration": 26,
    "start_time": "2022-06-19T05:59:47.388Z"
   },
   {
    "duration": 73,
    "start_time": "2022-06-19T05:59:47.416Z"
   },
   {
    "duration": 52,
    "start_time": "2022-06-19T05:59:47.490Z"
   },
   {
    "duration": 1442,
    "start_time": "2022-06-19T05:59:47.544Z"
   },
   {
    "duration": 5,
    "start_time": "2022-06-19T05:59:48.987Z"
   },
   {
    "duration": 21,
    "start_time": "2022-06-19T05:59:48.993Z"
   },
   {
    "duration": 31,
    "start_time": "2022-06-19T05:59:49.015Z"
   },
   {
    "duration": 48,
    "start_time": "2022-06-19T05:59:49.048Z"
   },
   {
    "duration": 50,
    "start_time": "2022-06-19T05:59:49.097Z"
   },
   {
    "duration": 40,
    "start_time": "2022-06-19T05:59:49.149Z"
   },
   {
    "duration": 280,
    "start_time": "2022-06-19T05:59:49.190Z"
   },
   {
    "duration": 42,
    "start_time": "2022-06-19T06:00:45.480Z"
   },
   {
    "duration": 5,
    "start_time": "2022-06-19T06:02:30.579Z"
   },
   {
    "duration": 1422,
    "start_time": "2022-06-19T06:02:30.586Z"
   },
   {
    "duration": 107,
    "start_time": "2022-06-19T06:02:32.009Z"
   },
   {
    "duration": 25,
    "start_time": "2022-06-19T06:02:32.119Z"
   },
   {
    "duration": 50,
    "start_time": "2022-06-19T06:02:32.146Z"
   },
   {
    "duration": 288,
    "start_time": "2022-06-19T06:02:32.198Z"
   },
   {
    "duration": 14,
    "start_time": "2022-06-19T06:02:32.488Z"
   },
   {
    "duration": 224,
    "start_time": "2022-06-19T06:02:32.504Z"
   },
   {
    "duration": 377,
    "start_time": "2022-06-19T06:02:32.729Z"
   },
   {
    "duration": 25,
    "start_time": "2022-06-19T06:02:33.110Z"
   },
   {
    "duration": 3,
    "start_time": "2022-06-19T06:02:33.141Z"
   },
   {
    "duration": 33,
    "start_time": "2022-06-19T06:02:33.146Z"
   },
   {
    "duration": 16,
    "start_time": "2022-06-19T06:02:33.180Z"
   },
   {
    "duration": 22,
    "start_time": "2022-06-19T06:02:33.198Z"
   },
   {
    "duration": 11,
    "start_time": "2022-06-19T06:02:33.222Z"
   },
   {
    "duration": 421,
    "start_time": "2022-06-19T06:02:33.234Z"
   },
   {
    "duration": 850,
    "start_time": "2022-06-19T06:02:33.657Z"
   },
   {
    "duration": 3,
    "start_time": "2022-06-19T06:02:34.509Z"
   },
   {
    "duration": 52,
    "start_time": "2022-06-19T06:02:34.514Z"
   },
   {
    "duration": 356,
    "start_time": "2022-06-19T06:02:34.568Z"
   },
   {
    "duration": 16,
    "start_time": "2022-06-19T06:02:34.933Z"
   },
   {
    "duration": 121,
    "start_time": "2022-06-19T06:02:34.952Z"
   },
   {
    "duration": 11,
    "start_time": "2022-06-19T06:02:35.078Z"
   },
   {
    "duration": 61,
    "start_time": "2022-06-19T06:02:35.091Z"
   },
   {
    "duration": 19,
    "start_time": "2022-06-19T06:02:35.154Z"
   },
   {
    "duration": 23,
    "start_time": "2022-06-19T06:02:35.175Z"
   },
   {
    "duration": 69,
    "start_time": "2022-06-19T06:02:35.200Z"
   },
   {
    "duration": 93,
    "start_time": "2022-06-19T06:02:35.273Z"
   },
   {
    "duration": 852,
    "start_time": "2022-06-19T06:02:35.371Z"
   },
   {
    "duration": 11,
    "start_time": "2022-06-19T06:02:36.227Z"
   },
   {
    "duration": 78,
    "start_time": "2022-06-19T06:02:36.241Z"
   },
   {
    "duration": 24,
    "start_time": "2022-06-19T06:02:36.321Z"
   },
   {
    "duration": 118,
    "start_time": "2022-06-19T06:02:36.347Z"
   },
   {
    "duration": 21,
    "start_time": "2022-06-19T06:02:36.467Z"
   },
   {
    "duration": 391,
    "start_time": "2022-06-19T06:02:36.497Z"
   },
   {
    "duration": 1487,
    "start_time": "2022-06-19T06:03:37.201Z"
   },
   {
    "duration": 98,
    "start_time": "2022-06-19T06:03:38.692Z"
   },
   {
    "duration": 16,
    "start_time": "2022-06-19T06:03:38.793Z"
   },
   {
    "duration": 84,
    "start_time": "2022-06-19T06:03:38.811Z"
   },
   {
    "duration": 283,
    "start_time": "2022-06-19T06:03:38.898Z"
   },
   {
    "duration": 13,
    "start_time": "2022-06-19T06:03:39.183Z"
   },
   {
    "duration": 194,
    "start_time": "2022-06-19T06:03:39.198Z"
   },
   {
    "duration": 327,
    "start_time": "2022-06-19T06:03:39.394Z"
   },
   {
    "duration": 22,
    "start_time": "2022-06-19T06:03:39.723Z"
   },
   {
    "duration": 35,
    "start_time": "2022-06-19T06:03:39.747Z"
   },
   {
    "duration": 16,
    "start_time": "2022-06-19T06:03:39.784Z"
   },
   {
    "duration": 15,
    "start_time": "2022-06-19T06:03:39.801Z"
   },
   {
    "duration": 36,
    "start_time": "2022-06-19T06:03:39.818Z"
   },
   {
    "duration": 21,
    "start_time": "2022-06-19T06:03:39.867Z"
   },
   {
    "duration": 372,
    "start_time": "2022-06-19T06:03:39.890Z"
   },
   {
    "duration": 860,
    "start_time": "2022-06-19T06:03:40.272Z"
   },
   {
    "duration": 4,
    "start_time": "2022-06-19T06:03:41.134Z"
   },
   {
    "duration": 56,
    "start_time": "2022-06-19T06:03:41.140Z"
   },
   {
    "duration": 289,
    "start_time": "2022-06-19T06:03:41.198Z"
   },
   {
    "duration": 12,
    "start_time": "2022-06-19T06:03:41.489Z"
   },
   {
    "duration": 168,
    "start_time": "2022-06-19T06:03:41.502Z"
   },
   {
    "duration": 7,
    "start_time": "2022-06-19T06:03:41.673Z"
   },
   {
    "duration": 40,
    "start_time": "2022-06-19T06:03:41.683Z"
   },
   {
    "duration": 11,
    "start_time": "2022-06-19T06:03:41.725Z"
   },
   {
    "duration": 61,
    "start_time": "2022-06-19T06:03:41.739Z"
   },
   {
    "duration": 79,
    "start_time": "2022-06-19T06:03:41.802Z"
   },
   {
    "duration": 63,
    "start_time": "2022-06-19T06:03:41.883Z"
   },
   {
    "duration": 948,
    "start_time": "2022-06-19T06:03:41.953Z"
   },
   {
    "duration": 5,
    "start_time": "2022-06-19T06:03:42.902Z"
   },
   {
    "duration": 19,
    "start_time": "2022-06-19T06:03:42.909Z"
   },
   {
    "duration": 24,
    "start_time": "2022-06-19T06:03:42.929Z"
   },
   {
    "duration": 69,
    "start_time": "2022-06-19T06:03:42.955Z"
   },
   {
    "duration": 11,
    "start_time": "2022-06-19T06:03:43.027Z"
   },
   {
    "duration": 314,
    "start_time": "2022-06-19T06:03:43.040Z"
   },
   {
    "duration": 1461,
    "start_time": "2022-06-19T06:04:14.247Z"
   },
   {
    "duration": 100,
    "start_time": "2022-06-19T06:04:15.710Z"
   },
   {
    "duration": 16,
    "start_time": "2022-06-19T06:04:15.812Z"
   },
   {
    "duration": 48,
    "start_time": "2022-06-19T06:04:15.833Z"
   },
   {
    "duration": 210,
    "start_time": "2022-06-19T06:04:15.884Z"
   },
   {
    "duration": 9,
    "start_time": "2022-06-19T06:04:16.095Z"
   },
   {
    "duration": 191,
    "start_time": "2022-06-19T06:04:16.106Z"
   },
   {
    "duration": 337,
    "start_time": "2022-06-19T06:04:16.298Z"
   },
   {
    "duration": 35,
    "start_time": "2022-06-19T06:04:16.637Z"
   },
   {
    "duration": 8,
    "start_time": "2022-06-19T06:04:16.675Z"
   },
   {
    "duration": 9,
    "start_time": "2022-06-19T06:04:16.685Z"
   },
   {
    "duration": 20,
    "start_time": "2022-06-19T06:04:16.695Z"
   },
   {
    "duration": 18,
    "start_time": "2022-06-19T06:04:16.717Z"
   },
   {
    "duration": 50,
    "start_time": "2022-06-19T06:04:16.738Z"
   },
   {
    "duration": 348,
    "start_time": "2022-06-19T06:04:16.790Z"
   },
   {
    "duration": 753,
    "start_time": "2022-06-19T06:04:17.140Z"
   },
   {
    "duration": 3,
    "start_time": "2022-06-19T06:04:17.895Z"
   },
   {
    "duration": 40,
    "start_time": "2022-06-19T06:04:17.900Z"
   },
   {
    "duration": 271,
    "start_time": "2022-06-19T06:04:17.942Z"
   },
   {
    "duration": 20,
    "start_time": "2022-06-19T06:04:18.215Z"
   },
   {
    "duration": 85,
    "start_time": "2022-06-19T06:04:18.237Z"
   },
   {
    "duration": 7,
    "start_time": "2022-06-19T06:04:18.323Z"
   },
   {
    "duration": 75,
    "start_time": "2022-06-19T06:04:18.331Z"
   },
   {
    "duration": 5,
    "start_time": "2022-06-19T06:04:18.408Z"
   },
   {
    "duration": 25,
    "start_time": "2022-06-19T06:04:18.414Z"
   },
   {
    "duration": 75,
    "start_time": "2022-06-19T06:04:18.445Z"
   },
   {
    "duration": 921,
    "start_time": "2022-06-19T06:04:18.521Z"
   },
   {
    "duration": 7,
    "start_time": "2022-06-19T06:04:19.446Z"
   },
   {
    "duration": 37,
    "start_time": "2022-06-19T06:04:19.455Z"
   },
   {
    "duration": 16,
    "start_time": "2022-06-19T06:04:19.493Z"
   },
   {
    "duration": 59,
    "start_time": "2022-06-19T06:04:19.511Z"
   },
   {
    "duration": 16,
    "start_time": "2022-06-19T06:04:19.572Z"
   },
   {
    "duration": 320,
    "start_time": "2022-06-19T06:04:19.590Z"
   },
   {
    "duration": 2547,
    "start_time": "2022-06-19T06:36:50.517Z"
   },
   {
    "duration": 4,
    "start_time": "2022-06-19T06:36:53.066Z"
   },
   {
    "duration": 119,
    "start_time": "2022-06-19T06:36:53.072Z"
   },
   {
    "duration": 16,
    "start_time": "2022-06-19T06:36:53.194Z"
   },
   {
    "duration": 55,
    "start_time": "2022-06-19T06:36:53.212Z"
   },
   {
    "duration": 234,
    "start_time": "2022-06-19T06:36:53.269Z"
   },
   {
    "duration": 12,
    "start_time": "2022-06-19T06:36:53.505Z"
   },
   {
    "duration": 145,
    "start_time": "2022-06-19T06:36:53.527Z"
   },
   {
    "duration": 304,
    "start_time": "2022-06-19T06:36:53.673Z"
   },
   {
    "duration": 16,
    "start_time": "2022-06-19T06:36:53.981Z"
   },
   {
    "duration": 3,
    "start_time": "2022-06-19T06:36:53.998Z"
   },
   {
    "duration": 7,
    "start_time": "2022-06-19T06:36:54.003Z"
   },
   {
    "duration": 33,
    "start_time": "2022-06-19T06:36:54.011Z"
   },
   {
    "duration": 33,
    "start_time": "2022-06-19T06:36:54.046Z"
   },
   {
    "duration": 15,
    "start_time": "2022-06-19T06:36:54.081Z"
   },
   {
    "duration": 379,
    "start_time": "2022-06-19T06:36:54.098Z"
   },
   {
    "duration": 826,
    "start_time": "2022-06-19T06:36:54.480Z"
   },
   {
    "duration": 3,
    "start_time": "2022-06-19T06:36:55.308Z"
   },
   {
    "duration": 29,
    "start_time": "2022-06-19T06:36:55.313Z"
   },
   {
    "duration": 68,
    "start_time": "2022-06-19T06:36:55.345Z"
   },
   {
    "duration": 10,
    "start_time": "2022-06-19T06:36:55.415Z"
   },
   {
    "duration": 65,
    "start_time": "2022-06-19T06:36:55.428Z"
   },
   {
    "duration": 4,
    "start_time": "2022-06-19T06:36:55.495Z"
   },
   {
    "duration": 63,
    "start_time": "2022-06-19T06:36:55.501Z"
   },
   {
    "duration": 7,
    "start_time": "2022-06-19T06:36:55.567Z"
   },
   {
    "duration": 28,
    "start_time": "2022-06-19T06:36:55.576Z"
   },
   {
    "duration": 65,
    "start_time": "2022-06-19T06:36:55.605Z"
   },
   {
    "duration": 1043,
    "start_time": "2022-06-19T06:36:55.674Z"
   },
   {
    "duration": 6,
    "start_time": "2022-06-19T06:36:56.718Z"
   },
   {
    "duration": 51,
    "start_time": "2022-06-19T06:36:56.726Z"
   },
   {
    "duration": 16,
    "start_time": "2022-06-19T06:36:56.778Z"
   },
   {
    "duration": 51,
    "start_time": "2022-06-19T06:36:56.795Z"
   },
   {
    "duration": 27,
    "start_time": "2022-06-19T06:36:56.848Z"
   },
   {
    "duration": 290,
    "start_time": "2022-06-19T06:36:56.877Z"
   },
   {
    "duration": 2626,
    "start_time": "2022-06-19T06:40:10.159Z"
   },
   {
    "duration": 1329,
    "start_time": "2022-06-19T06:40:12.788Z"
   },
   {
    "duration": 108,
    "start_time": "2022-06-19T06:40:14.119Z"
   },
   {
    "duration": 23,
    "start_time": "2022-06-19T06:40:14.229Z"
   },
   {
    "duration": 68,
    "start_time": "2022-06-19T06:40:14.254Z"
   },
   {
    "duration": 341,
    "start_time": "2022-06-19T06:40:14.323Z"
   },
   {
    "duration": 15,
    "start_time": "2022-06-19T06:40:14.666Z"
   },
   {
    "duration": 281,
    "start_time": "2022-06-19T06:40:14.683Z"
   },
   {
    "duration": 417,
    "start_time": "2022-06-19T06:40:14.966Z"
   },
   {
    "duration": 26,
    "start_time": "2022-06-19T06:40:15.386Z"
   },
   {
    "duration": 10,
    "start_time": "2022-06-19T06:40:15.415Z"
   },
   {
    "duration": 62,
    "start_time": "2022-06-19T06:40:15.431Z"
   },
   {
    "duration": 32,
    "start_time": "2022-06-19T06:40:15.495Z"
   },
   {
    "duration": 64,
    "start_time": "2022-06-19T06:40:15.534Z"
   },
   {
    "duration": 10,
    "start_time": "2022-06-19T06:40:15.600Z"
   },
   {
    "duration": 380,
    "start_time": "2022-06-19T06:40:15.611Z"
   },
   {
    "duration": 851,
    "start_time": "2022-06-19T06:40:15.993Z"
   },
   {
    "duration": 5,
    "start_time": "2022-06-19T06:40:16.846Z"
   },
   {
    "duration": 34,
    "start_time": "2022-06-19T06:40:16.860Z"
   },
   {
    "duration": 264,
    "start_time": "2022-06-19T06:40:16.896Z"
   },
   {
    "duration": 15,
    "start_time": "2022-06-19T06:40:17.165Z"
   },
   {
    "duration": 69,
    "start_time": "2022-06-19T06:40:17.183Z"
   },
   {
    "duration": 36,
    "start_time": "2022-06-19T06:40:17.254Z"
   },
   {
    "duration": 36,
    "start_time": "2022-06-19T06:40:17.291Z"
   },
   {
    "duration": 9,
    "start_time": "2022-06-19T06:40:17.336Z"
   },
   {
    "duration": 54,
    "start_time": "2022-06-19T06:40:17.348Z"
   },
   {
    "duration": 79,
    "start_time": "2022-06-19T06:40:17.404Z"
   },
   {
    "duration": 2301,
    "start_time": "2022-06-19T06:40:17.487Z"
   },
   {
    "duration": 7,
    "start_time": "2022-06-19T06:40:19.789Z"
   },
   {
    "duration": 42,
    "start_time": "2022-06-19T06:40:19.797Z"
   },
   {
    "duration": 29,
    "start_time": "2022-06-19T06:40:19.842Z"
   },
   {
    "duration": 70,
    "start_time": "2022-06-19T06:40:19.873Z"
   },
   {
    "duration": 17,
    "start_time": "2022-06-19T06:40:19.948Z"
   },
   {
    "duration": 337,
    "start_time": "2022-06-19T06:40:19.976Z"
   },
   {
    "duration": 1297,
    "start_time": "2022-06-20T10:25:45.422Z"
   },
   {
    "duration": 130,
    "start_time": "2022-06-20T10:25:46.721Z"
   },
   {
    "duration": 12,
    "start_time": "2022-06-20T10:25:46.853Z"
   },
   {
    "duration": 28,
    "start_time": "2022-06-20T10:25:46.868Z"
   },
   {
    "duration": 169,
    "start_time": "2022-06-20T10:25:46.898Z"
   },
   {
    "duration": 12,
    "start_time": "2022-06-20T10:25:47.069Z"
   },
   {
    "duration": 158,
    "start_time": "2022-06-20T10:25:47.083Z"
   },
   {
    "duration": 285,
    "start_time": "2022-06-20T10:25:47.243Z"
   },
   {
    "duration": 18,
    "start_time": "2022-06-20T10:25:47.530Z"
   },
   {
    "duration": 3,
    "start_time": "2022-06-20T10:25:47.551Z"
   },
   {
    "duration": 7,
    "start_time": "2022-06-20T10:25:47.555Z"
   },
   {
    "duration": 12,
    "start_time": "2022-06-20T10:25:47.563Z"
   },
   {
    "duration": 13,
    "start_time": "2022-06-20T10:25:47.576Z"
   },
   {
    "duration": 8,
    "start_time": "2022-06-20T10:25:47.591Z"
   },
   {
    "duration": 289,
    "start_time": "2022-06-20T10:25:47.600Z"
   },
   {
    "duration": 639,
    "start_time": "2022-06-20T10:25:47.891Z"
   },
   {
    "duration": 4,
    "start_time": "2022-06-20T10:25:48.532Z"
   },
   {
    "duration": 14,
    "start_time": "2022-06-20T10:25:48.537Z"
   },
   {
    "duration": 233,
    "start_time": "2022-06-20T10:25:48.553Z"
   },
   {
    "duration": 11,
    "start_time": "2022-06-20T10:25:48.794Z"
   },
   {
    "duration": 53,
    "start_time": "2022-06-20T10:25:48.807Z"
   },
   {
    "duration": 11,
    "start_time": "2022-06-20T10:25:48.861Z"
   },
   {
    "duration": 53,
    "start_time": "2022-06-20T10:25:48.874Z"
   },
   {
    "duration": 6,
    "start_time": "2022-06-20T10:25:48.929Z"
   },
   {
    "duration": 22,
    "start_time": "2022-06-20T10:25:48.937Z"
   },
   {
    "duration": 68,
    "start_time": "2022-06-20T10:25:48.960Z"
   },
   {
    "duration": 1300,
    "start_time": "2022-06-20T10:25:49.029Z"
   },
   {
    "duration": 5,
    "start_time": "2022-06-20T10:25:50.332Z"
   },
   {
    "duration": 24,
    "start_time": "2022-06-20T10:25:50.339Z"
   },
   {
    "duration": 19,
    "start_time": "2022-06-20T10:25:50.365Z"
   },
   {
    "duration": 62,
    "start_time": "2022-06-20T10:25:50.386Z"
   },
   {
    "duration": 9,
    "start_time": "2022-06-20T10:25:50.449Z"
   },
   {
    "duration": 251,
    "start_time": "2022-06-20T10:25:50.459Z"
   },
   {
    "duration": 776,
    "start_time": "2022-06-20T10:26:44.563Z"
   },
   {
    "duration": 4,
    "start_time": "2022-06-20T10:27:18.266Z"
   },
   {
    "duration": 152,
    "start_time": "2022-06-20T10:27:19.675Z"
   },
   {
    "duration": 93,
    "start_time": "2022-06-20T10:27:22.292Z"
   },
   {
    "duration": 186,
    "start_time": "2022-06-20T10:27:31.762Z"
   },
   {
    "duration": 95,
    "start_time": "2022-06-20T10:27:39.588Z"
   },
   {
    "duration": 1210,
    "start_time": "2022-06-20T10:27:55.796Z"
   },
   {
    "duration": 72,
    "start_time": "2022-06-20T10:27:57.009Z"
   },
   {
    "duration": 13,
    "start_time": "2022-06-20T10:27:57.083Z"
   },
   {
    "duration": 22,
    "start_time": "2022-06-20T10:27:57.098Z"
   },
   {
    "duration": 189,
    "start_time": "2022-06-20T10:27:57.125Z"
   },
   {
    "duration": 13,
    "start_time": "2022-06-20T10:27:57.316Z"
   },
   {
    "duration": 797,
    "start_time": "2022-06-20T10:27:57.331Z"
   },
   {
    "duration": 239,
    "start_time": "2022-06-20T10:27:58.129Z"
   },
   {
    "duration": 22,
    "start_time": "2022-06-20T10:27:58.371Z"
   },
   {
    "duration": 3,
    "start_time": "2022-06-20T10:27:58.396Z"
   },
   {
    "duration": 7,
    "start_time": "2022-06-20T10:27:58.401Z"
   },
   {
    "duration": 24,
    "start_time": "2022-06-20T10:27:58.410Z"
   },
   {
    "duration": 14,
    "start_time": "2022-06-20T10:27:58.436Z"
   },
   {
    "duration": 12,
    "start_time": "2022-06-20T10:27:58.452Z"
   },
   {
    "duration": 307,
    "start_time": "2022-06-20T10:27:58.466Z"
   },
   {
    "duration": 681,
    "start_time": "2022-06-20T10:27:58.775Z"
   },
   {
    "duration": 3,
    "start_time": "2022-06-20T10:27:59.458Z"
   },
   {
    "duration": 10,
    "start_time": "2022-06-20T10:27:59.463Z"
   },
   {
    "duration": 287,
    "start_time": "2022-06-20T10:27:59.475Z"
   },
   {
    "duration": 7,
    "start_time": "2022-06-20T10:27:59.764Z"
   },
   {
    "duration": 104,
    "start_time": "2022-06-20T10:27:59.772Z"
   },
   {
    "duration": 3,
    "start_time": "2022-06-20T10:27:59.878Z"
   },
   {
    "duration": 44,
    "start_time": "2022-06-20T10:27:59.882Z"
   },
   {
    "duration": 5,
    "start_time": "2022-06-20T10:27:59.927Z"
   },
   {
    "duration": 17,
    "start_time": "2022-06-20T10:27:59.934Z"
   },
   {
    "duration": 129,
    "start_time": "2022-06-20T10:27:59.953Z"
   },
   {
    "duration": 994,
    "start_time": "2022-06-20T10:28:00.083Z"
   },
   {
    "duration": 5,
    "start_time": "2022-06-20T10:28:01.081Z"
   },
   {
    "duration": 26,
    "start_time": "2022-06-20T10:28:01.088Z"
   },
   {
    "duration": 30,
    "start_time": "2022-06-20T10:28:01.116Z"
   },
   {
    "duration": 96,
    "start_time": "2022-06-20T10:28:01.148Z"
   },
   {
    "duration": 10,
    "start_time": "2022-06-20T10:28:01.246Z"
   },
   {
    "duration": 263,
    "start_time": "2022-06-20T10:28:01.257Z"
   }
  ],
  "kernelspec": {
   "display_name": "Python 3",
   "language": "python",
   "name": "python3"
  },
  "language_info": {
   "codemirror_mode": {
    "name": "ipython",
    "version": 3
   },
   "file_extension": ".py",
   "mimetype": "text/x-python",
   "name": "python",
   "nbconvert_exporter": "python",
   "pygments_lexer": "ipython3",
   "version": "3.8.8"
  },
  "toc": {
   "base_numbering": 1,
   "nav_menu": {},
   "number_sections": true,
   "sideBar": true,
   "skip_h1_title": true,
   "title_cell": "Table of Contents",
   "title_sidebar": "Contents",
   "toc_cell": false,
   "toc_position": {
    "height": "calc(100% - 180px)",
    "left": "10px",
    "top": "150px",
    "width": "165px"
   },
   "toc_section_display": true,
   "toc_window_display": true
  }
 },
 "nbformat": 4,
 "nbformat_minor": 2
}
