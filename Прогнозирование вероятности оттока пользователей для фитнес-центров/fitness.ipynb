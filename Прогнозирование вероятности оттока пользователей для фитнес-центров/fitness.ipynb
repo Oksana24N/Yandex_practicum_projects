{
 "cells": [
  {
   "cell_type": "markdown",
   "metadata": {},
   "source": [
    "### Исследовательский анализ данных"
   ]
  },
  {
   "cell_type": "code",
   "execution_count": 1,
   "metadata": {},
   "outputs": [],
   "source": [
    "import pandas as pd\n",
    "import seaborn as sns\n",
    "import matplotlib.pyplot as plt\n",
    "from sklearn.model_selection import train_test_split\n",
    "from sklearn.linear_model import LogisticRegression\n",
    "from sklearn.metrics import accuracy_score, precision_score, recall_score\n",
    "from sklearn.tree import DecisionTreeClassifier\n",
    "from sklearn.model_selection import train_test_split\n",
    "from sklearn.preprocessing import StandardScaler\n",
    "from sklearn.ensemble import RandomForestClassifier\n",
    "from sklearn.metrics import roc_auc_score\n",
    "from scipy.cluster.hierarchy import dendrogram, linkage\n",
    "from sklearn.cluster import KMeans\n",
    "import itertools\n",
    "\n",
    "import warnings\n",
    "warnings.filterwarnings('ignore')"
   ]
  },
  {
   "cell_type": "code",
   "execution_count": 2,
   "metadata": {},
   "outputs": [],
   "source": [
    "df = pd.read_csv('/datasets/gym_churn.csv')"
   ]
  },
  {
   "cell_type": "code",
   "execution_count": 3,
   "metadata": {},
   "outputs": [
    {
     "data": {
      "text/html": [
       "<div>\n",
       "<style scoped>\n",
       "    .dataframe tbody tr th:only-of-type {\n",
       "        vertical-align: middle;\n",
       "    }\n",
       "\n",
       "    .dataframe tbody tr th {\n",
       "        vertical-align: top;\n",
       "    }\n",
       "\n",
       "    .dataframe thead th {\n",
       "        text-align: right;\n",
       "    }\n",
       "</style>\n",
       "<table border=\"1\" class=\"dataframe\">\n",
       "  <thead>\n",
       "    <tr style=\"text-align: right;\">\n",
       "      <th></th>\n",
       "      <th>gender</th>\n",
       "      <th>Near_Location</th>\n",
       "      <th>Partner</th>\n",
       "      <th>Promo_friends</th>\n",
       "      <th>Phone</th>\n",
       "      <th>Contract_period</th>\n",
       "      <th>Group_visits</th>\n",
       "      <th>Age</th>\n",
       "      <th>Avg_additional_charges_total</th>\n",
       "      <th>Month_to_end_contract</th>\n",
       "      <th>Lifetime</th>\n",
       "      <th>Avg_class_frequency_total</th>\n",
       "      <th>Avg_class_frequency_current_month</th>\n",
       "      <th>Churn</th>\n",
       "    </tr>\n",
       "  </thead>\n",
       "  <tbody>\n",
       "    <tr>\n",
       "      <th>0</th>\n",
       "      <td>1</td>\n",
       "      <td>1</td>\n",
       "      <td>1</td>\n",
       "      <td>1</td>\n",
       "      <td>0</td>\n",
       "      <td>6</td>\n",
       "      <td>1</td>\n",
       "      <td>29</td>\n",
       "      <td>14.227470</td>\n",
       "      <td>5.0</td>\n",
       "      <td>3</td>\n",
       "      <td>0.020398</td>\n",
       "      <td>0.000000</td>\n",
       "      <td>0</td>\n",
       "    </tr>\n",
       "    <tr>\n",
       "      <th>1</th>\n",
       "      <td>0</td>\n",
       "      <td>1</td>\n",
       "      <td>0</td>\n",
       "      <td>0</td>\n",
       "      <td>1</td>\n",
       "      <td>12</td>\n",
       "      <td>1</td>\n",
       "      <td>31</td>\n",
       "      <td>113.202938</td>\n",
       "      <td>12.0</td>\n",
       "      <td>7</td>\n",
       "      <td>1.922936</td>\n",
       "      <td>1.910244</td>\n",
       "      <td>0</td>\n",
       "    </tr>\n",
       "    <tr>\n",
       "      <th>2</th>\n",
       "      <td>0</td>\n",
       "      <td>1</td>\n",
       "      <td>1</td>\n",
       "      <td>0</td>\n",
       "      <td>1</td>\n",
       "      <td>1</td>\n",
       "      <td>0</td>\n",
       "      <td>28</td>\n",
       "      <td>129.448479</td>\n",
       "      <td>1.0</td>\n",
       "      <td>2</td>\n",
       "      <td>1.859098</td>\n",
       "      <td>1.736502</td>\n",
       "      <td>0</td>\n",
       "    </tr>\n",
       "    <tr>\n",
       "      <th>3</th>\n",
       "      <td>0</td>\n",
       "      <td>1</td>\n",
       "      <td>1</td>\n",
       "      <td>1</td>\n",
       "      <td>1</td>\n",
       "      <td>12</td>\n",
       "      <td>1</td>\n",
       "      <td>33</td>\n",
       "      <td>62.669863</td>\n",
       "      <td>12.0</td>\n",
       "      <td>2</td>\n",
       "      <td>3.205633</td>\n",
       "      <td>3.357215</td>\n",
       "      <td>0</td>\n",
       "    </tr>\n",
       "    <tr>\n",
       "      <th>4</th>\n",
       "      <td>1</td>\n",
       "      <td>1</td>\n",
       "      <td>1</td>\n",
       "      <td>1</td>\n",
       "      <td>1</td>\n",
       "      <td>1</td>\n",
       "      <td>0</td>\n",
       "      <td>26</td>\n",
       "      <td>198.362265</td>\n",
       "      <td>1.0</td>\n",
       "      <td>3</td>\n",
       "      <td>1.113884</td>\n",
       "      <td>1.120078</td>\n",
       "      <td>0</td>\n",
       "    </tr>\n",
       "  </tbody>\n",
       "</table>\n",
       "</div>"
      ],
      "text/plain": [
       "   gender  Near_Location  Partner  Promo_friends  Phone  Contract_period  \\\n",
       "0       1              1        1              1      0                6   \n",
       "1       0              1        0              0      1               12   \n",
       "2       0              1        1              0      1                1   \n",
       "3       0              1        1              1      1               12   \n",
       "4       1              1        1              1      1                1   \n",
       "\n",
       "   Group_visits  Age  Avg_additional_charges_total  Month_to_end_contract  \\\n",
       "0             1   29                     14.227470                    5.0   \n",
       "1             1   31                    113.202938                   12.0   \n",
       "2             0   28                    129.448479                    1.0   \n",
       "3             1   33                     62.669863                   12.0   \n",
       "4             0   26                    198.362265                    1.0   \n",
       "\n",
       "   Lifetime  Avg_class_frequency_total  Avg_class_frequency_current_month  \\\n",
       "0         3                   0.020398                           0.000000   \n",
       "1         7                   1.922936                           1.910244   \n",
       "2         2                   1.859098                           1.736502   \n",
       "3         2                   3.205633                           3.357215   \n",
       "4         3                   1.113884                           1.120078   \n",
       "\n",
       "   Churn  \n",
       "0      0  \n",
       "1      0  \n",
       "2      0  \n",
       "3      0  \n",
       "4      0  "
      ]
     },
     "execution_count": 3,
     "metadata": {},
     "output_type": "execute_result"
    }
   ],
   "source": [
    "df.head()"
   ]
  },
  {
   "cell_type": "code",
   "execution_count": 4,
   "metadata": {},
   "outputs": [
    {
     "name": "stdout",
     "output_type": "stream",
     "text": [
      "<class 'pandas.core.frame.DataFrame'>\n",
      "RangeIndex: 4000 entries, 0 to 3999\n",
      "Data columns (total 14 columns):\n",
      " #   Column                             Non-Null Count  Dtype  \n",
      "---  ------                             --------------  -----  \n",
      " 0   gender                             4000 non-null   int64  \n",
      " 1   Near_Location                      4000 non-null   int64  \n",
      " 2   Partner                            4000 non-null   int64  \n",
      " 3   Promo_friends                      4000 non-null   int64  \n",
      " 4   Phone                              4000 non-null   int64  \n",
      " 5   Contract_period                    4000 non-null   int64  \n",
      " 6   Group_visits                       4000 non-null   int64  \n",
      " 7   Age                                4000 non-null   int64  \n",
      " 8   Avg_additional_charges_total       4000 non-null   float64\n",
      " 9   Month_to_end_contract              4000 non-null   float64\n",
      " 10  Lifetime                           4000 non-null   int64  \n",
      " 11  Avg_class_frequency_total          4000 non-null   float64\n",
      " 12  Avg_class_frequency_current_month  4000 non-null   float64\n",
      " 13  Churn                              4000 non-null   int64  \n",
      "dtypes: float64(4), int64(10)\n",
      "memory usage: 437.6 KB\n"
     ]
    }
   ],
   "source": [
    "df.info()"
   ]
  },
  {
   "cell_type": "markdown",
   "metadata": {},
   "source": [
    "В таблице 4000 наблюдений по четырнадцати признакам. Все признаки выражены в числовом формате, пропущенных значений нет. Данные, которые содержат данные на месяц до оттока и факт оттока на определённый месяц. \n",
    "Набор данных включает данные на месяц до оттока и факт оттока на определённый месяц и следующие поля:\n",
    "\n",
    "Данные клиента за предыдущий до проверки факта оттока месяц:\n",
    "- **gender** — пол;\n",
    "- **Near_Location** — проживание или работа в районе, где находится фитнес-центр;\n",
    "- **Partner** — сотрудник компании-партнёра клуба (сотрудничество с компаниями, чьи сотрудники могут получать скидки на абонемент — в таком случае фитнес-центр хранит информацию о работодателе клиента);\n",
    "- **Promo_friends** — факт первоначальной записи в рамках акции «приведи друга» (использовал промо-код от знакомого при оплате первого абонемента);\n",
    "- **Phone** — наличие контактного телефона;\n",
    "- **Age** — возраст;\n",
    "- **Lifetime** — время с момента первого обращения в фитнес-центр (в месяцах).\n",
    "\n",
    "Информация на основе журнала посещений, покупок и информация о текущем статусе абонемента клиента:\n",
    "\n",
    "- **Contract_period** — длительность текущего действующего абонемента (месяц, 6 месяцев, год);\n",
    "- **Month_to_end_contract** — срок до окончания текущего действующего абонемента (в месяцах);\n",
    "- **Group_visits** — факт посещения групповых занятий;\n",
    "- **Avg_class_frequency_total** — средняя частота посещений в неделю за все время с начала действия абонемента;\n",
    "- **Avg_class_frequency_current_month** — средняя частота посещений в неделю за предыдущий месяц;\n",
    "- **Avg_additional_charges_total** — суммарная выручка от других услуг фитнес-центра: кафе, спорттовары, косметический и массажный салон.\n",
    "- **Churn** — факт оттока в текущем месяце."
   ]
  },
  {
   "cell_type": "code",
   "execution_count": 5,
   "metadata": {},
   "outputs": [],
   "source": [
    "df.columns = df.columns.str.lower() #приведем названия колонок к нижнему регистру"
   ]
  },
  {
   "cell_type": "code",
   "execution_count": 6,
   "metadata": {},
   "outputs": [
    {
     "data": {
      "text/html": [
       "<div>\n",
       "<style scoped>\n",
       "    .dataframe tbody tr th:only-of-type {\n",
       "        vertical-align: middle;\n",
       "    }\n",
       "\n",
       "    .dataframe tbody tr th {\n",
       "        vertical-align: top;\n",
       "    }\n",
       "\n",
       "    .dataframe thead th {\n",
       "        text-align: right;\n",
       "    }\n",
       "</style>\n",
       "<table border=\"1\" class=\"dataframe\">\n",
       "  <thead>\n",
       "    <tr style=\"text-align: right;\">\n",
       "      <th></th>\n",
       "      <th>gender</th>\n",
       "      <th>near_location</th>\n",
       "      <th>partner</th>\n",
       "      <th>promo_friends</th>\n",
       "      <th>phone</th>\n",
       "      <th>contract_period</th>\n",
       "      <th>group_visits</th>\n",
       "      <th>age</th>\n",
       "      <th>avg_additional_charges_total</th>\n",
       "      <th>month_to_end_contract</th>\n",
       "      <th>lifetime</th>\n",
       "      <th>avg_class_frequency_total</th>\n",
       "      <th>avg_class_frequency_current_month</th>\n",
       "      <th>churn</th>\n",
       "    </tr>\n",
       "  </thead>\n",
       "  <tbody>\n",
       "    <tr>\n",
       "      <th>count</th>\n",
       "      <td>4000.000000</td>\n",
       "      <td>4000.000000</td>\n",
       "      <td>4000.000000</td>\n",
       "      <td>4000.000000</td>\n",
       "      <td>4000.000000</td>\n",
       "      <td>4000.000000</td>\n",
       "      <td>4000.000000</td>\n",
       "      <td>4000.000000</td>\n",
       "      <td>4000.000000</td>\n",
       "      <td>4000.000000</td>\n",
       "      <td>4000.000000</td>\n",
       "      <td>4000.000000</td>\n",
       "      <td>4000.000000</td>\n",
       "      <td>4000.000000</td>\n",
       "    </tr>\n",
       "    <tr>\n",
       "      <th>mean</th>\n",
       "      <td>0.510250</td>\n",
       "      <td>0.845250</td>\n",
       "      <td>0.486750</td>\n",
       "      <td>0.308500</td>\n",
       "      <td>0.903500</td>\n",
       "      <td>4.681250</td>\n",
       "      <td>0.412250</td>\n",
       "      <td>29.184250</td>\n",
       "      <td>146.943728</td>\n",
       "      <td>4.322750</td>\n",
       "      <td>3.724750</td>\n",
       "      <td>1.879020</td>\n",
       "      <td>1.767052</td>\n",
       "      <td>0.265250</td>\n",
       "    </tr>\n",
       "    <tr>\n",
       "      <th>std</th>\n",
       "      <td>0.499957</td>\n",
       "      <td>0.361711</td>\n",
       "      <td>0.499887</td>\n",
       "      <td>0.461932</td>\n",
       "      <td>0.295313</td>\n",
       "      <td>4.549706</td>\n",
       "      <td>0.492301</td>\n",
       "      <td>3.258367</td>\n",
       "      <td>96.355602</td>\n",
       "      <td>4.191297</td>\n",
       "      <td>3.749267</td>\n",
       "      <td>0.972245</td>\n",
       "      <td>1.052906</td>\n",
       "      <td>0.441521</td>\n",
       "    </tr>\n",
       "    <tr>\n",
       "      <th>min</th>\n",
       "      <td>0.000000</td>\n",
       "      <td>0.000000</td>\n",
       "      <td>0.000000</td>\n",
       "      <td>0.000000</td>\n",
       "      <td>0.000000</td>\n",
       "      <td>1.000000</td>\n",
       "      <td>0.000000</td>\n",
       "      <td>18.000000</td>\n",
       "      <td>0.148205</td>\n",
       "      <td>1.000000</td>\n",
       "      <td>0.000000</td>\n",
       "      <td>0.000000</td>\n",
       "      <td>0.000000</td>\n",
       "      <td>0.000000</td>\n",
       "    </tr>\n",
       "    <tr>\n",
       "      <th>25%</th>\n",
       "      <td>0.000000</td>\n",
       "      <td>1.000000</td>\n",
       "      <td>0.000000</td>\n",
       "      <td>0.000000</td>\n",
       "      <td>1.000000</td>\n",
       "      <td>1.000000</td>\n",
       "      <td>0.000000</td>\n",
       "      <td>27.000000</td>\n",
       "      <td>68.868830</td>\n",
       "      <td>1.000000</td>\n",
       "      <td>1.000000</td>\n",
       "      <td>1.180875</td>\n",
       "      <td>0.963003</td>\n",
       "      <td>0.000000</td>\n",
       "    </tr>\n",
       "    <tr>\n",
       "      <th>50%</th>\n",
       "      <td>1.000000</td>\n",
       "      <td>1.000000</td>\n",
       "      <td>0.000000</td>\n",
       "      <td>0.000000</td>\n",
       "      <td>1.000000</td>\n",
       "      <td>1.000000</td>\n",
       "      <td>0.000000</td>\n",
       "      <td>29.000000</td>\n",
       "      <td>136.220159</td>\n",
       "      <td>1.000000</td>\n",
       "      <td>3.000000</td>\n",
       "      <td>1.832768</td>\n",
       "      <td>1.719574</td>\n",
       "      <td>0.000000</td>\n",
       "    </tr>\n",
       "    <tr>\n",
       "      <th>75%</th>\n",
       "      <td>1.000000</td>\n",
       "      <td>1.000000</td>\n",
       "      <td>1.000000</td>\n",
       "      <td>1.000000</td>\n",
       "      <td>1.000000</td>\n",
       "      <td>6.000000</td>\n",
       "      <td>1.000000</td>\n",
       "      <td>31.000000</td>\n",
       "      <td>210.949625</td>\n",
       "      <td>6.000000</td>\n",
       "      <td>5.000000</td>\n",
       "      <td>2.536078</td>\n",
       "      <td>2.510336</td>\n",
       "      <td>1.000000</td>\n",
       "    </tr>\n",
       "    <tr>\n",
       "      <th>max</th>\n",
       "      <td>1.000000</td>\n",
       "      <td>1.000000</td>\n",
       "      <td>1.000000</td>\n",
       "      <td>1.000000</td>\n",
       "      <td>1.000000</td>\n",
       "      <td>12.000000</td>\n",
       "      <td>1.000000</td>\n",
       "      <td>41.000000</td>\n",
       "      <td>552.590740</td>\n",
       "      <td>12.000000</td>\n",
       "      <td>31.000000</td>\n",
       "      <td>6.023668</td>\n",
       "      <td>6.146783</td>\n",
       "      <td>1.000000</td>\n",
       "    </tr>\n",
       "  </tbody>\n",
       "</table>\n",
       "</div>"
      ],
      "text/plain": [
       "            gender  near_location      partner  promo_friends        phone  \\\n",
       "count  4000.000000    4000.000000  4000.000000    4000.000000  4000.000000   \n",
       "mean      0.510250       0.845250     0.486750       0.308500     0.903500   \n",
       "std       0.499957       0.361711     0.499887       0.461932     0.295313   \n",
       "min       0.000000       0.000000     0.000000       0.000000     0.000000   \n",
       "25%       0.000000       1.000000     0.000000       0.000000     1.000000   \n",
       "50%       1.000000       1.000000     0.000000       0.000000     1.000000   \n",
       "75%       1.000000       1.000000     1.000000       1.000000     1.000000   \n",
       "max       1.000000       1.000000     1.000000       1.000000     1.000000   \n",
       "\n",
       "       contract_period  group_visits          age  \\\n",
       "count      4000.000000   4000.000000  4000.000000   \n",
       "mean          4.681250      0.412250    29.184250   \n",
       "std           4.549706      0.492301     3.258367   \n",
       "min           1.000000      0.000000    18.000000   \n",
       "25%           1.000000      0.000000    27.000000   \n",
       "50%           1.000000      0.000000    29.000000   \n",
       "75%           6.000000      1.000000    31.000000   \n",
       "max          12.000000      1.000000    41.000000   \n",
       "\n",
       "       avg_additional_charges_total  month_to_end_contract     lifetime  \\\n",
       "count                   4000.000000            4000.000000  4000.000000   \n",
       "mean                     146.943728               4.322750     3.724750   \n",
       "std                       96.355602               4.191297     3.749267   \n",
       "min                        0.148205               1.000000     0.000000   \n",
       "25%                       68.868830               1.000000     1.000000   \n",
       "50%                      136.220159               1.000000     3.000000   \n",
       "75%                      210.949625               6.000000     5.000000   \n",
       "max                      552.590740              12.000000    31.000000   \n",
       "\n",
       "       avg_class_frequency_total  avg_class_frequency_current_month  \\\n",
       "count                4000.000000                        4000.000000   \n",
       "mean                    1.879020                           1.767052   \n",
       "std                     0.972245                           1.052906   \n",
       "min                     0.000000                           0.000000   \n",
       "25%                     1.180875                           0.963003   \n",
       "50%                     1.832768                           1.719574   \n",
       "75%                     2.536078                           2.510336   \n",
       "max                     6.023668                           6.146783   \n",
       "\n",
       "             churn  \n",
       "count  4000.000000  \n",
       "mean      0.265250  \n",
       "std       0.441521  \n",
       "min       0.000000  \n",
       "25%       0.000000  \n",
       "50%       0.000000  \n",
       "75%       1.000000  \n",
       "max       1.000000  "
      ]
     },
     "execution_count": 6,
     "metadata": {},
     "output_type": "execute_result"
    }
   ],
   "source": [
    "df.describe()"
   ]
  },
  {
   "cell_type": "markdown",
   "metadata": {},
   "source": [
    "В исследуемых наблюдениях среди клиентов примерно одинаковое количество мужчин и женщин. Большая часть посетителей проживает или работает в том же районе, где находится фитнес-центр. Акцией \"приведи друга\" воспользовались 31% посетителей. В среднем клиенты посещают центр не чаще двух раз в неделю, редко покупают годовой абонемент, в половине случаев являются сотрудниками компаний-партнеров. Средний возраст клиента - 29 лет. 26,5% исследуемых клиентов ушли в отток.\n",
    "\n",
    "В виду значительной разницы в стандартных отклонений значений исследуемых признаков клиентов, перед обучением моделей необходимо выполнить стандартизацию."
   ]
  },
  {
   "cell_type": "code",
   "execution_count": 7,
   "metadata": {},
   "outputs": [
    {
     "data": {
      "text/html": [
       "<div>\n",
       "<style scoped>\n",
       "    .dataframe tbody tr th:only-of-type {\n",
       "        vertical-align: middle;\n",
       "    }\n",
       "\n",
       "    .dataframe tbody tr th {\n",
       "        vertical-align: top;\n",
       "    }\n",
       "\n",
       "    .dataframe thead th {\n",
       "        text-align: right;\n",
       "    }\n",
       "</style>\n",
       "<table border=\"1\" class=\"dataframe\">\n",
       "  <thead>\n",
       "    <tr style=\"text-align: right;\">\n",
       "      <th></th>\n",
       "      <th>gender</th>\n",
       "      <th>near_location</th>\n",
       "      <th>partner</th>\n",
       "      <th>promo_friends</th>\n",
       "      <th>phone</th>\n",
       "      <th>contract_period</th>\n",
       "      <th>group_visits</th>\n",
       "      <th>age</th>\n",
       "      <th>avg_additional_charges_total</th>\n",
       "      <th>month_to_end_contract</th>\n",
       "      <th>lifetime</th>\n",
       "      <th>avg_class_frequency_total</th>\n",
       "      <th>avg_class_frequency_current_month</th>\n",
       "    </tr>\n",
       "    <tr>\n",
       "      <th>churn</th>\n",
       "      <th></th>\n",
       "      <th></th>\n",
       "      <th></th>\n",
       "      <th></th>\n",
       "      <th></th>\n",
       "      <th></th>\n",
       "      <th></th>\n",
       "      <th></th>\n",
       "      <th></th>\n",
       "      <th></th>\n",
       "      <th></th>\n",
       "      <th></th>\n",
       "      <th></th>\n",
       "    </tr>\n",
       "  </thead>\n",
       "  <tbody>\n",
       "    <tr>\n",
       "      <th>0</th>\n",
       "      <td>0.510037</td>\n",
       "      <td>0.873086</td>\n",
       "      <td>0.534195</td>\n",
       "      <td>0.353522</td>\n",
       "      <td>0.903709</td>\n",
       "      <td>5.747193</td>\n",
       "      <td>0.464103</td>\n",
       "      <td>29.976523</td>\n",
       "      <td>158.445715</td>\n",
       "      <td>5.283089</td>\n",
       "      <td>4.711807</td>\n",
       "      <td>2.024876</td>\n",
       "      <td>2.027882</td>\n",
       "    </tr>\n",
       "    <tr>\n",
       "      <th>1</th>\n",
       "      <td>0.510839</td>\n",
       "      <td>0.768143</td>\n",
       "      <td>0.355325</td>\n",
       "      <td>0.183789</td>\n",
       "      <td>0.902922</td>\n",
       "      <td>1.728558</td>\n",
       "      <td>0.268615</td>\n",
       "      <td>26.989632</td>\n",
       "      <td>115.082899</td>\n",
       "      <td>1.662582</td>\n",
       "      <td>0.990575</td>\n",
       "      <td>1.474995</td>\n",
       "      <td>1.044546</td>\n",
       "    </tr>\n",
       "  </tbody>\n",
       "</table>\n",
       "</div>"
      ],
      "text/plain": [
       "         gender  near_location   partner  promo_friends     phone  \\\n",
       "churn                                                               \n",
       "0      0.510037       0.873086  0.534195       0.353522  0.903709   \n",
       "1      0.510839       0.768143  0.355325       0.183789  0.902922   \n",
       "\n",
       "       contract_period  group_visits        age  avg_additional_charges_total  \\\n",
       "churn                                                                           \n",
       "0             5.747193      0.464103  29.976523                    158.445715   \n",
       "1             1.728558      0.268615  26.989632                    115.082899   \n",
       "\n",
       "       month_to_end_contract  lifetime  avg_class_frequency_total  \\\n",
       "churn                                                               \n",
       "0                   5.283089  4.711807                   2.024876   \n",
       "1                   1.662582  0.990575                   1.474995   \n",
       "\n",
       "       avg_class_frequency_current_month  \n",
       "churn                                     \n",
       "0                               2.027882  \n",
       "1                               1.044546  "
      ]
     },
     "execution_count": 7,
     "metadata": {},
     "output_type": "execute_result"
    }
   ],
   "source": [
    "df.groupby('churn').agg('mean') #средние значения признаков клиентов, продолжающих посещение и завершивших"
   ]
  },
  {
   "cell_type": "markdown",
   "metadata": {},
   "source": [
    "На основе средних показателей признаков можно сделать выводы, что:\n",
    "- клиенты ушедшие в отток:\n",
    " -  в основном преобретали абонемент сроком на 1 месяц\n",
    " -  прекращают посещение в первый месяц действия абонемента\n",
    " -  в 35% случаев являются сотрудниками компании-партнера клуба\n",
    " -  в 18% случаев участвовали в акции \"приведи друга\"\n",
    " \n",
    "- клиенты продолжающие посещение:\n",
    " -  средний абонемент - 6 мес.\n",
    " -  посещают центр в среднем два раза в неделю\n",
    " -  более чем в половине случаев являются сотрудниками компании-партнера клуба\n",
    " -  в 35% случаев участвовали в акции \"приведи друга\""
   ]
  },
  {
   "cell_type": "markdown",
   "metadata": {},
   "source": [
    "Построим столбчатые гистограммы и распределения признаков для тех, кто ушёл (отток) и тех, кто остался (не попали в отток)"
   ]
  },
  {
   "cell_type": "code",
   "execution_count": 8,
   "metadata": {
    "scrolled": false
   },
   "outputs": [
    {
     "data": {
      "image/png": "[encoded data removed]",
      "text/plain": [
       "<Figure size 432x288 with 1 Axes>"
      ]
     },
     "metadata": {
      "needs_background": "light"
     },
     "output_type": "display_data"
    },
    {
     "data": {
      "image/png": "[encoded data removed]",
      "text/plain": [
       "<Figure size 432x288 with 1 Axes>"
      ]
     },
     "metadata": {
      "needs_background": "light"
     },
     "output_type": "display_data"
    },
    {
     "data": {
      "image/png": "[encoded data removed]",
      "text/plain": [
       "<Figure size 432x288 with 1 Axes>"
      ]
     },
     "metadata": {
      "needs_background": "light"
     },
     "output_type": "display_data"
    },
    {
     "data": {
      "image/png": "[encoded data removed]",
      "text/plain": [
       "<Figure size 432x288 with 1 Axes>"
      ]
     },
     "metadata": {
      "needs_background": "light"
     },
     "output_type": "display_data"
    },
    {
     "data": {
      "image/png": "[encoded data removed]",
      "text/plain": [
       "<Figure size 432x288 with 1 Axes>"
      ]
     },
     "metadata": {
      "needs_background": "light"
     },
     "output_type": "display_data"
    },
    {
     "data": {
      "image/png": "[encoded data removed]",
      "text/plain": [
       "<Figure size 432x288 with 1 Axes>"
      ]
     },
     "metadata": {
      "needs_background": "light"
     },
     "output_type": "display_data"
    },
    {
     "data": {
      "image/png": "[encoded data removed]",
      "text/plain": [
       "<Figure size 432x288 with 1 Axes>"
      ]
     },
     "metadata": {
      "needs_background": "light"
     },
     "output_type": "display_data"
    },
    {
     "data": {
      "image/png": "[encoded data removed]",
      "text/plain": [
       "<Figure size 432x288 with 1 Axes>"
      ]
     },
     "metadata": {
      "needs_background": "light"
     },
     "output_type": "display_data"
    },
    {
     "data": {
      "image/png": "[encoded data removed]",
      "text/plain": [
       "<Figure size 432x288 with 1 Axes>"
      ]
     },
     "metadata": {
      "needs_background": "light"
     },
     "output_type": "display_data"
    },
    {
     "data": {
      "image/png": "[encoded data removed]",
      "text/plain": [
       "<Figure size 432x288 with 1 Axes>"
      ]
     },
     "metadata": {
      "needs_background": "light"
     },
     "output_type": "display_data"
    },
    {
     "data": {
      "image/png": "[encoded data removed]",
      "text/plain": [
       "<Figure size 432x288 with 1 Axes>"
      ]
     },
     "metadata": {
      "needs_background": "light"
     },
     "output_type": "display_data"
    },
    {
     "data": {
      "image/png": "[encoded data removed]",
      "text/plain": [
       "<Figure size 432x288 with 1 Axes>"
      ]
     },
     "metadata": {
      "needs_background": "light"
     },
     "output_type": "display_data"
    },
    {
     "data": {
      "image/png": "[encoded data removed]",
      "text/plain": [
       "<Figure size 432x288 with 1 Axes>"
      ]
     },
     "metadata": {
      "needs_background": "light"
     },
     "output_type": "display_data"
    },
    {
     "data": {
      "image/png": "[encoded data removed]",
      "text/plain": [
       "<Figure size 432x288 with 1 Axes>"
      ]
     },
     "metadata": {
      "needs_background": "light"
     },
     "output_type": "display_data"
    }
   ],
   "source": [
    "stay = df.query('churn == 0')\n",
    "left = df.query('churn == 1')\n",
    "\n",
    "for column in stay:\n",
    "    ax=stay.plot(kind='hist',\n",
    "                         y=column, \n",
    "                           histtype='step',\n",
    "                          bins=25,linewidth=5,\n",
    "                          alpha=0.7,\n",
    "                          label='stay',\n",
    "                          )\n",
    "    left.plot(kind='hist',\n",
    "                    y=column, \n",
    "                    title=column,\n",
    "                    histtype='step',\n",
    "                    bins=25,\n",
    "                    linewidth=5,\n",
    "                    alpha=0.7,\n",
    "                    label='left',\n",
    "                    ax=ax,\n",
    "                    grid=True,\n",
    "                    legend=True,\n",
    "                   )\n",
    "    plt.show()"
   ]
  },
  {
   "cell_type": "markdown",
   "metadata": {},
   "source": [
    "- чаще прекращают посещение клиенты, не являющиеся сотрудниками компаний-партнеров\n",
    "- участие в акции \"приведи друга\" не удерживает клиентов\n",
    "- большая часть посетителей, прекративших посещение покупали абонемет сроком на 1 месяц, а те, что купили абонементы на 6 и 12 месяцев, прекращали посещение в основном в первые два месяца\n",
    "- регулярно посещают центра клиенты в возрасте 27-33, а прекращают посещение чаще клиенты до 30 лет\n",
    "- среди клиентов оттока чаще встречаются те, кто не посещал групповые тренировки"
   ]
  },
  {
   "cell_type": "code",
   "execution_count": 9,
   "metadata": {},
   "outputs": [
    {
     "data": {
      "image/png": "[encoded data removed]",
      "text/plain": [
       "<Figure size 1080x576 with 2 Axes>"
      ]
     },
     "metadata": {
      "needs_background": "light"
     },
     "output_type": "display_data"
    }
   ],
   "source": [
    "cm = df.corr() #вычисляем матрицу корреляций\n",
    "\n",
    "\n",
    "fig, ax = plt.subplots(figsize=(15, 8))\n",
    "\n",
    "#нарисуем тепловую карту с подписями для матрицы корреляций\n",
    "sns.heatmap(cm, annot=True, square=True, cmap='Pastel1')\n",
    "\n",
    "plt.show()"
   ]
  },
  {
   "cell_type": "markdown",
   "metadata": {},
   "source": [
    "Сильно коррелируют: 'avg_class_frequency_current_month' и 'avg_class_frequency_current_total', 'month_to_end_contract' и 'contract_period'. Чтобы избавиться от мультиколлинеарности, удалим из датафрейма по одному из этих столбцов, а также столбцы 'phone' и 'gender', так как их корреляция с остальными признаками близка к 0."
   ]
  },
  {
   "cell_type": "code",
   "execution_count": 10,
   "metadata": {},
   "outputs": [],
   "source": [
    "df = df.drop('avg_class_frequency_current_month', axis=1)\n",
    "df = df.drop('month_to_end_contract', axis=1) \n",
    "df = df.drop('phone', axis=1) \n",
    "df = df.drop('gender', axis=1) "
   ]
  },
  {
   "cell_type": "markdown",
   "metadata": {},
   "source": [
    "#### Вывод"
   ]
  },
  {
   "cell_type": "markdown",
   "metadata": {},
   "source": [
    "Исследовательский анализ данных показал, что в группе риска клиенты, покупающие абонементы на короткий срок, в возрасте до 30 лет и не являющиеся сотрудниками компаний-партнеров. В свою очередь надежными представляются клиенты в возрасте 27-33 года, преобретающие абонементы на длительный срок и регулярно посещающие тренировки. Также скидка для сотрудников компаний-партнеров положительно сказывается на продолительности посещения, а участие в акции \"приведи друга\" не удерживает клиентов"
   ]
  },
  {
   "cell_type": "markdown",
   "metadata": {},
   "source": [
    "### Прогнозирование оттока клиентов"
   ]
  },
  {
   "cell_type": "markdown",
   "metadata": {},
   "source": [
    "Построим модель бинарной классификации клиентов, где целевой признак — факт оттока клиента в следующем месяце:\n",
    "Разбьем данные на обучающую и валидационную выборку функцией train_test_split().\n",
    "Обучим модель на train-выборке двумя способами:\n",
    "логистической регрессией,\n",
    "случайным лесом.\n",
    "Оценим метрики accuracy, precision и recall для обеих моделей на валидационной выборке. Сравним по ним модели. "
   ]
  },
  {
   "cell_type": "code",
   "execution_count": 41,
   "metadata": {},
   "outputs": [],
   "source": [
    "# разделим данные на признаки\n",
    "X = df.drop('churn', axis=1) #набор значений признаков\n",
    "y = df['churn'] #столбец с целевой переменной\n",
    "\n",
    "# разделяем модель на обучающую и валидационную выборку в пропорции 80/20\n",
    "X_train, X_test, y_train, y_test = train_test_split(X, y, test_size=0.2, random_state=0, stratify = y)\n"
   ]
  },
  {
   "cell_type": "code",
   "execution_count": 42,
   "metadata": {},
   "outputs": [],
   "source": [
    "# обучим StandartScaler на обучающей выборке\n",
    "scaler = StandardScaler()\n",
    "scaler.fit(X_train)\n",
    "\n",
    "# Преобразуем обучающий и валидационные наборы данных\n",
    "X_train_st = scaler.transform(X_train)\n",
    "X_test_st = scaler.transform(X_test)"
   ]
  },
  {
   "cell_type": "code",
   "execution_count": 43,
   "metadata": {},
   "outputs": [
    {
     "name": "stdout",
     "output_type": "stream",
     "text": [
      "Соотношение классов:\n",
      " 0    2939\n",
      "1    1061\n",
      "Name: churn, dtype: int64\n"
     ]
    }
   ],
   "source": [
    "# посмотрим, как соотносятся классы набора данных\n",
    "print('Соотношение классов:\\n', df['churn'].value_counts())"
   ]
  },
  {
   "cell_type": "markdown",
   "metadata": {},
   "source": [
    "#### LogisticRegression"
   ]
  },
  {
   "cell_type": "code",
   "execution_count": 44,
   "metadata": {},
   "outputs": [],
   "source": [
    "model = LogisticRegression(solver='liblinear')\n",
    "\n",
    "# обучение модели\n",
    "model.fit(X_train_st, y_train)\n",
    "\n",
    "# воспользуемся уже обученной моделью, чтобы сделать прогнозы\n",
    "predictions = model.predict(X_test_st) #предсказания\n",
    "probabilities = model.predict_proba(X_test_st)[:, 1] #вероятность"
   ]
  },
  {
   "cell_type": "code",
   "execution_count": 45,
   "metadata": {},
   "outputs": [
    {
     "name": "stdout",
     "output_type": "stream",
     "text": [
      "Accuracy: 0.91\n",
      "Precision: 0.82\n",
      "Recall: 0.83\n"
     ]
    }
   ],
   "source": [
    "print('Accuracy: {:.2f}'.format(accuracy_score(y_test, predictions))) #Доля правильных ответов\n",
    "print('Precision: {:.2f}'.format(precision_score(y_test, predictions))) #Точность\n",
    "print('Recall: {:.2f}'.format(recall_score(y_test, predictions))) #Полнота\n"
   ]
  },
  {
   "cell_type": "markdown",
   "metadata": {},
   "source": [
    "#### RandomForestClassifier"
   ]
  },
  {
   "cell_type": "code",
   "execution_count": 46,
   "metadata": {},
   "outputs": [],
   "source": [
    "# зададим алгоритм для новой модели на основе алгоритма случайного леса\n",
    "rf_model = RandomForestClassifier(n_estimators = 100, random_state = 0)\n",
    "rf_model.fit(X_train_st, y_train) # обучим модель случайного леса\n",
    "\n",
    "# воспользуемся уже обученной моделью, чтобы сделать прогнозы\n",
    "rf_predictions = rf_model.predict(X_test_st)\n",
    "rf_probabilities = rf_model.predict_proba(X_test_st)[:, 1]\n"
   ]
  },
  {
   "cell_type": "code",
   "execution_count": 47,
   "metadata": {},
   "outputs": [
    {
     "name": "stdout",
     "output_type": "stream",
     "text": [
      "Accuracy: 0.90\n",
      "Precision: 0.84\n",
      "Recall: 0.77\n"
     ]
    }
   ],
   "source": [
    "# выведем все метрики\n",
    "print('Accuracy: {:.2f}'.format(accuracy_score(y_test, rf_predictions))) #Доля правильных ответов\n",
    "print('Precision: {:.2f}'.format(precision_score(y_test, rf_predictions))) #Точность\n",
    "print('Recall: {:.2f}'.format(recall_score(y_test, rf_predictions))) #Полнота"
   ]
  },
  {
   "cell_type": "markdown",
   "metadata": {},
   "source": [
    "Модели показали практически одинаковые результаты. Для выбора одной модели рассмотрим показатель ROC AUC"
   ]
  },
  {
   "cell_type": "code",
   "execution_count": 48,
   "metadata": {},
   "outputs": [
    {
     "name": "stdout",
     "output_type": "stream",
     "text": [
      "\tROC_AUC: 0.88\n",
      "\tROC_AUC: 0.86\n"
     ]
    }
   ],
   "source": [
    "print('\\tROC_AUC: {:.2f}'.format(roc_auc_score(y_test, predictions)))\n",
    "print('\\tROC_AUC: {:.2f}'.format(roc_auc_score(y_test, rf_predictions)))"
   ]
  },
  {
   "cell_type": "markdown",
   "metadata": {},
   "source": [
    "#### Вывод \n",
    "\n",
    "Учитывая более высокие показатели Recall и ROC AUC целесобразно использовать модель LogisticRegression. Основные признаки, наиболее сильно влияющие на отток:"
   ]
  },
  {
   "cell_type": "code",
   "execution_count": 49,
   "metadata": {},
   "outputs": [
    {
     "data": {
      "text/html": [
       "<style  type=\"text/css\" >\n",
       "</style><table id=\"T_3e55e_\" ><thead>    <tr>        <th class=\"blank level0\" ></th>        <th class=\"col_heading level0 col0\" >feature</th>        <th class=\"col_heading level0 col1\" >importance</th>    </tr></thead><tbody>\n",
       "                <tr>\n",
       "                        <th id=\"T_3e55e_level0_row0\" class=\"row_heading level0 row0\" >7</th>\n",
       "                        <td id=\"T_3e55e_row0_col0\" class=\"data row0 col0\" >lifetime</td>\n",
       "                        <td id=\"T_3e55e_row0_col1\" class=\"data row0 col1\" >-3.51</td>\n",
       "            </tr>\n",
       "            <tr>\n",
       "                        <th id=\"T_3e55e_level0_row1\" class=\"row_heading level0 row1\" >3</th>\n",
       "                        <td id=\"T_3e55e_row1_col0\" class=\"data row1 col0\" >contract_period</td>\n",
       "                        <td id=\"T_3e55e_row1_col1\" class=\"data row1 col1\" >-1.33</td>\n",
       "            </tr>\n",
       "            <tr>\n",
       "                        <th id=\"T_3e55e_level0_row2\" class=\"row_heading level0 row2\" >5</th>\n",
       "                        <td id=\"T_3e55e_row2_col0\" class=\"data row2 col0\" >age</td>\n",
       "                        <td id=\"T_3e55e_row2_col1\" class=\"data row2 col1\" >-1.13</td>\n",
       "            </tr>\n",
       "            <tr>\n",
       "                        <th id=\"T_3e55e_level0_row3\" class=\"row_heading level0 row3\" >8</th>\n",
       "                        <td id=\"T_3e55e_row3_col0\" class=\"data row3 col0\" >avg_class_frequency_total</td>\n",
       "                        <td id=\"T_3e55e_row3_col1\" class=\"data row3 col1\" >-0.69</td>\n",
       "            </tr>\n",
       "            <tr>\n",
       "                        <th id=\"T_3e55e_level0_row4\" class=\"row_heading level0 row4\" >6</th>\n",
       "                        <td id=\"T_3e55e_row4_col0\" class=\"data row4 col0\" >avg_additional_charges_total</td>\n",
       "                        <td id=\"T_3e55e_row4_col1\" class=\"data row4 col1\" >-0.54</td>\n",
       "            </tr>\n",
       "            <tr>\n",
       "                        <th id=\"T_3e55e_level0_row5\" class=\"row_heading level0 row5\" >4</th>\n",
       "                        <td id=\"T_3e55e_row5_col0\" class=\"data row5 col0\" >group_visits</td>\n",
       "                        <td id=\"T_3e55e_row5_col1\" class=\"data row5 col1\" >-0.35</td>\n",
       "            </tr>\n",
       "            <tr>\n",
       "                        <th id=\"T_3e55e_level0_row6\" class=\"row_heading level0 row6\" >2</th>\n",
       "                        <td id=\"T_3e55e_row6_col0\" class=\"data row6 col0\" >promo_friends</td>\n",
       "                        <td id=\"T_3e55e_row6_col1\" class=\"data row6 col1\" >-0.17</td>\n",
       "            </tr>\n",
       "            <tr>\n",
       "                        <th id=\"T_3e55e_level0_row7\" class=\"row_heading level0 row7\" >0</th>\n",
       "                        <td id=\"T_3e55e_row7_col0\" class=\"data row7 col0\" >near_location</td>\n",
       "                        <td id=\"T_3e55e_row7_col1\" class=\"data row7 col1\" >-0.07</td>\n",
       "            </tr>\n",
       "            <tr>\n",
       "                        <th id=\"T_3e55e_level0_row8\" class=\"row_heading level0 row8\" >1</th>\n",
       "                        <td id=\"T_3e55e_row8_col0\" class=\"data row8 col0\" >partner</td>\n",
       "                        <td id=\"T_3e55e_row8_col1\" class=\"data row8 col1\" >-0.04</td>\n",
       "            </tr>\n",
       "    </tbody></table>"
      ],
      "text/plain": [
       "<pandas.io.formats.style.Styler at 0x7f8b11160bb0>"
      ]
     },
     "execution_count": 49,
     "metadata": {},
     "output_type": "execute_result"
    }
   ],
   "source": [
    "fi_df = pd.DataFrame(\n",
    "    data={'feature': X.columns, 'importance': model.coef_[0]}\n",
    ").sort_values(\n",
    "    by='importance'\n",
    ").style.format(\n",
    "    {'importance': '{:.2f}'}\n",
    ")\n",
    "fi_df"
   ]
  },
  {
   "cell_type": "markdown",
   "metadata": {},
   "source": [
    "По важности признаков можно сделать вывод, что, чем дольше клиент посещает фитнес центр, тем меньше вероятность того, что он попадет в отток. Также покупка абонемента с длительным сроком клиентом среднего возраста увеличивает вероятность того, что он останется в клубе надолго."
   ]
  },
  {
   "cell_type": "markdown",
   "metadata": {},
   "source": [
    "### Кластеризация клиентов"
   ]
  },
  {
   "cell_type": "markdown",
   "metadata": {},
   "source": [
    "Для сегментации клиенов построим дендрограмму"
   ]
  },
  {
   "cell_type": "code",
   "execution_count": 50,
   "metadata": {},
   "outputs": [],
   "source": [
    "#стандартизация данных перед работой с алгоритмами\n",
    "X_sc = scaler.fit_transform(X)\n",
    "\n",
    "linked = linkage(X_sc, method = 'ward') #таблица «связок» между объектами"
   ]
  },
  {
   "cell_type": "code",
   "execution_count": 51,
   "metadata": {},
   "outputs": [
    {
     "data": {
      "image/png": "[encoded data removed]",
      "text/plain": [
       "<Figure size 1080x720 with 1 Axes>"
      ]
     },
     "metadata": {
      "needs_background": "light"
     },
     "output_type": "display_data"
    }
   ],
   "source": [
    "plt.figure(figsize=(15, 10))  \n",
    "dendrogram(linked, orientation='top')\n",
    "plt.title('Hierarchial clustering')\n",
    "plt.show()"
   ]
  },
  {
   "cell_type": "markdown",
   "metadata": {},
   "source": [
    "На уровне центра графика находятся 5 линий, разделим клиентов на 5 кластеров"
   ]
  },
  {
   "cell_type": "code",
   "execution_count": 52,
   "metadata": {},
   "outputs": [],
   "source": [
    "km = KMeans(n_clusters=5, random_state=0) # задаём число кластеров, равное 5, и фиксируем значение random_state для воспроизводимости результата\n",
    "labels = km.fit_predict(X_sc) # применяем алгоритм к данным и формируем вектор кластеров"
   ]
  },
  {
   "cell_type": "code",
   "execution_count": 53,
   "metadata": {},
   "outputs": [
    {
     "data": {
      "text/html": [
       "<div>\n",
       "<style scoped>\n",
       "    .dataframe tbody tr th:only-of-type {\n",
       "        vertical-align: middle;\n",
       "    }\n",
       "\n",
       "    .dataframe tbody tr th {\n",
       "        vertical-align: top;\n",
       "    }\n",
       "\n",
       "    .dataframe thead th {\n",
       "        text-align: right;\n",
       "    }\n",
       "</style>\n",
       "<table border=\"1\" class=\"dataframe\">\n",
       "  <thead>\n",
       "    <tr style=\"text-align: right;\">\n",
       "      <th></th>\n",
       "      <th>near_location</th>\n",
       "      <th>partner</th>\n",
       "      <th>promo_friends</th>\n",
       "      <th>contract_period</th>\n",
       "      <th>group_visits</th>\n",
       "      <th>age</th>\n",
       "      <th>avg_additional_charges_total</th>\n",
       "      <th>lifetime</th>\n",
       "      <th>avg_class_frequency_total</th>\n",
       "    </tr>\n",
       "    <tr>\n",
       "      <th>cluster_km</th>\n",
       "      <th></th>\n",
       "      <th></th>\n",
       "      <th></th>\n",
       "      <th></th>\n",
       "      <th></th>\n",
       "      <th></th>\n",
       "      <th></th>\n",
       "      <th></th>\n",
       "      <th></th>\n",
       "    </tr>\n",
       "  </thead>\n",
       "  <tbody>\n",
       "    <tr>\n",
       "      <th>0</th>\n",
       "      <td>1.000000</td>\n",
       "      <td>0.246776</td>\n",
       "      <td>0.058469</td>\n",
       "      <td>2.950129</td>\n",
       "      <td>0.000000</td>\n",
       "      <td>28.584695</td>\n",
       "      <td>140.112487</td>\n",
       "      <td>2.444540</td>\n",
       "      <td>1.764249</td>\n",
       "    </tr>\n",
       "    <tr>\n",
       "      <th>1</th>\n",
       "      <td>0.996113</td>\n",
       "      <td>0.960155</td>\n",
       "      <td>0.941691</td>\n",
       "      <td>7.448980</td>\n",
       "      <td>0.479106</td>\n",
       "      <td>29.574344</td>\n",
       "      <td>154.498117</td>\n",
       "      <td>3.634597</td>\n",
       "      <td>1.931320</td>\n",
       "    </tr>\n",
       "    <tr>\n",
       "      <th>2</th>\n",
       "      <td>1.000000</td>\n",
       "      <td>0.244014</td>\n",
       "      <td>0.084379</td>\n",
       "      <td>4.461802</td>\n",
       "      <td>1.000000</td>\n",
       "      <td>29.458381</td>\n",
       "      <td>146.463808</td>\n",
       "      <td>2.850627</td>\n",
       "      <td>1.920231</td>\n",
       "    </tr>\n",
       "    <tr>\n",
       "      <th>3</th>\n",
       "      <td>0.000000</td>\n",
       "      <td>0.490000</td>\n",
       "      <td>0.071667</td>\n",
       "      <td>2.945000</td>\n",
       "      <td>0.228333</td>\n",
       "      <td>28.681667</td>\n",
       "      <td>136.832314</td>\n",
       "      <td>2.783333</td>\n",
       "      <td>1.765080</td>\n",
       "    </tr>\n",
       "    <tr>\n",
       "      <th>4</th>\n",
       "      <td>0.954683</td>\n",
       "      <td>0.495468</td>\n",
       "      <td>0.241692</td>\n",
       "      <td>5.888218</td>\n",
       "      <td>0.429003</td>\n",
       "      <td>30.262840</td>\n",
       "      <td>167.061566</td>\n",
       "      <td>12.525680</td>\n",
       "      <td>2.217033</td>\n",
       "    </tr>\n",
       "  </tbody>\n",
       "</table>\n",
       "</div>"
      ],
      "text/plain": [
       "            near_location   partner  promo_friends  contract_period  \\\n",
       "cluster_km                                                            \n",
       "0                1.000000  0.246776       0.058469         2.950129   \n",
       "1                0.996113  0.960155       0.941691         7.448980   \n",
       "2                1.000000  0.244014       0.084379         4.461802   \n",
       "3                0.000000  0.490000       0.071667         2.945000   \n",
       "4                0.954683  0.495468       0.241692         5.888218   \n",
       "\n",
       "            group_visits        age  avg_additional_charges_total   lifetime  \\\n",
       "cluster_km                                                                     \n",
       "0               0.000000  28.584695                    140.112487   2.444540   \n",
       "1               0.479106  29.574344                    154.498117   3.634597   \n",
       "2               1.000000  29.458381                    146.463808   2.850627   \n",
       "3               0.228333  28.681667                    136.832314   2.783333   \n",
       "4               0.429003  30.262840                    167.061566  12.525680   \n",
       "\n",
       "            avg_class_frequency_total  \n",
       "cluster_km                             \n",
       "0                            1.764249  \n",
       "1                            1.931320  \n",
       "2                            1.920231  \n",
       "3                            1.765080  \n",
       "4                            2.217033  "
      ]
     },
     "execution_count": 53,
     "metadata": {},
     "output_type": "execute_result"
    }
   ],
   "source": [
    "X['cluster_km'] = labels #добавляем столбец с кластером\n",
    "\n",
    "# выводим статистику по средним значениям наших признаков по кластеру\n",
    "X.groupby('cluster_km').mean()"
   ]
  },
  {
   "cell_type": "markdown",
   "metadata": {},
   "source": [
    "По средним значениям можно сделать вывод:\n",
    "- 0 кластер - клиенты, не посещающие групповые тренировки\n",
    "- 1 кластер - участвовавшие в акции и являющиеся сотрудниками компании-партнера\n",
    "- 2 кластер - клиенты, посещающие групповые тренировки \n",
    "- 3 кластер - это клиенты, не проживающие и не работающие в районе фитнес-центра\n",
    "- в 4 кластере в основном клиенты, посещающие клуб в течение года"
   ]
  },
  {
   "cell_type": "markdown",
   "metadata": {},
   "source": [
    "Построим распределения признаков для кластеров"
   ]
  },
  {
   "cell_type": "code",
   "execution_count": 55,
   "metadata": {},
   "outputs": [
    {
     "data": {
      "image/png": "[encoded data removed]",
      "text/plain": [
       "<Figure size 432x288 with 1 Axes>"
      ]
     },
     "metadata": {
      "needs_background": "light"
     },
     "output_type": "display_data"
    },
    {
     "data": {
      "image/png": "[encoded data removed]",
      "text/plain": [
       "<Figure size 432x288 with 1 Axes>"
      ]
     },
     "metadata": {
      "needs_background": "light"
     },
     "output_type": "display_data"
    },
    {
     "data": {
      "image/png": "[encoded data removed]",
      "text/plain": [
       "<Figure size 432x288 with 1 Axes>"
      ]
     },
     "metadata": {
      "needs_background": "light"
     },
     "output_type": "display_data"
    },
    {
     "data": {
      "image/png": "[encoded data removed]",
      "text/plain": [
       "<Figure size 432x288 with 1 Axes>"
      ]
     },
     "metadata": {
      "needs_background": "light"
     },
     "output_type": "display_data"
    },
    {
     "data": {
      "image/png": "[encoded data removed]",
      "text/plain": [
       "<Figure size 432x288 with 1 Axes>"
      ]
     },
     "metadata": {
      "needs_background": "light"
     },
     "output_type": "display_data"
    }
   ],
   "source": [
    "for i in X.columns[:-5]:\n",
    "    sns.countplot(data = X, x = i, hue = 'cluster_km', palette='Pastel1')\n",
    "    plt.show()"
   ]
  },
  {
   "cell_type": "code",
   "execution_count": 56,
   "metadata": {},
   "outputs": [
    {
     "data": {
      "image/png": "[encoded data removed]",
      "text/plain": [
       "<Figure size 432x288 with 1 Axes>"
      ]
     },
     "metadata": {
      "needs_background": "light"
     },
     "output_type": "display_data"
    },
    {
     "data": {
      "image/png": "[encoded data removed]",
      "text/plain": [
       "<Figure size 432x288 with 1 Axes>"
      ]
     },
     "metadata": {
      "needs_background": "light"
     },
     "output_type": "display_data"
    },
    {
     "data": {
      "image/png": "[encoded data removed]",
      "text/plain": [
       "<Figure size 432x288 with 1 Axes>"
      ]
     },
     "metadata": {
      "needs_background": "light"
     },
     "output_type": "display_data"
    },
    {
     "data": {
      "image/png": "[encoded data removed]",
      "text/plain": [
       "<Figure size 432x288 with 1 Axes>"
      ]
     },
     "metadata": {
      "needs_background": "light"
     },
     "output_type": "display_data"
    }
   ],
   "source": [
    "for i in X.columns[5:-1]:\n",
    "    sns.boxplot(x ='cluster_km',y = i, data = X, palette='Pastel1')\n",
    "    plt.show()"
   ]
  },
  {
   "cell_type": "markdown",
   "metadata": {},
   "source": [
    "Исследуя полученные графики можно добавить, что к 0 кластеру относятся клиенты, в основном преобретавшие абонемент сроком на 1 месяц, к 4 кластеру - клиенты в возрасте 27-33 лет, которые посещают центр в течение длительного периода, клиенты 3 кластера посещают тренировки 1-2 раза в неделю.\n",
    "- 0 кластер - клиенты, не посещающие групповые тренировки, преобретавшие абонемент, в основном, длительностью 1 месяц, не участники акции и редко сотрудники компаний-партнеров\n",
    "- 1 кластер - участники акции и сотрудники компании-партнера, проживающие в районе фитнес-центра\n",
    "- 2 кластер - клиенты, посещающие только групповые тренировки, не участвовавшие в акции\n",
    "- 3 кластер - это клиенты, не проживающие и не работающие в районе фитнес-центра, не участники акции\n",
    "- в 4 кластере в основном клиенты, посещающие клуб в течение года. Преобретают абонементы на разные сроки, регулярно посещают разные виды тренировок"
   ]
  },
  {
   "cell_type": "markdown",
   "metadata": {},
   "source": [
    "Посчитаем долю оттока для каждого кластера и выясним какие из них склонны к оттоку"
   ]
  },
  {
   "cell_type": "code",
   "execution_count": 57,
   "metadata": {},
   "outputs": [
    {
     "data": {
      "text/html": [
       "<style  type=\"text/css\" >\n",
       "</style><table id=\"T_17cb2_\" ><thead>    <tr>        <th class=\"blank level0\" ></th>        <th class=\"col_heading level0 col0\" >churn</th>    </tr>    <tr>        <th class=\"index_name level0\" >cluster_km</th>        <th class=\"blank\" ></th>    </tr></thead><tbody>\n",
       "                <tr>\n",
       "                        <th id=\"T_17cb2_level0_row0\" class=\"row_heading level0 row0\" >0</th>\n",
       "                        <td id=\"T_17cb2_row0_col0\" class=\"data row0 col0\" >41%</td>\n",
       "            </tr>\n",
       "            <tr>\n",
       "                        <th id=\"T_17cb2_level0_row1\" class=\"row_heading level0 row1\" >3</th>\n",
       "                        <td id=\"T_17cb2_row1_col0\" class=\"data row1 col0\" >41%</td>\n",
       "            </tr>\n",
       "            <tr>\n",
       "                        <th id=\"T_17cb2_level0_row2\" class=\"row_heading level0 row2\" >2</th>\n",
       "                        <td id=\"T_17cb2_row2_col0\" class=\"data row2 col0\" >22%</td>\n",
       "            </tr>\n",
       "            <tr>\n",
       "                        <th id=\"T_17cb2_level0_row3\" class=\"row_heading level0 row3\" >1</th>\n",
       "                        <td id=\"T_17cb2_row3_col0\" class=\"data row3 col0\" >13%</td>\n",
       "            </tr>\n",
       "            <tr>\n",
       "                        <th id=\"T_17cb2_level0_row4\" class=\"row_heading level0 row4\" >4</th>\n",
       "                        <td id=\"T_17cb2_row4_col0\" class=\"data row4 col0\" >0%</td>\n",
       "            </tr>\n",
       "    </tbody></table>"
      ],
      "text/plain": [
       "<pandas.io.formats.style.Styler at 0x7f8b11d1b280>"
      ]
     },
     "execution_count": 57,
     "metadata": {},
     "output_type": "execute_result"
    }
   ],
   "source": [
    "df['cluster_km'] = labels #добавляем столбец с кластером\n",
    "\n",
    "# Для каждого полученного кластера посчитаем долю оттока\n",
    "df.groupby('cluster_km').agg({'churn': 'mean'}).sort_values(by='churn', ascending=False).style.format({'churn': '{:.0%}'})"
   ]
  },
  {
   "cell_type": "markdown",
   "metadata": {},
   "source": [
    "#### Вывод"
   ]
  },
  {
   "cell_type": "markdown",
   "metadata": {},
   "source": [
    "Кластеризация клиентов показала, что большая доля оттока у клиентов, относящихся к 0 и 3 кластеру, а значит, необходимо разработать стратегию по удержанию клиентов этих кластеров. Клиенты 0 кластера проживают и работают в отдаленном районе, поэтому в половине случаев - это сотрудники компании-партнера, которых привлекла скидка на абонемент. Клиенты 3 кластера не участвовали в акции \"приведи друга\" и в 75% случаев покупали абонемент по полной стоимости, также для них характерно посещение исключительно тренажерного зала."
   ]
  },
  {
   "cell_type": "markdown",
   "metadata": {},
   "source": [
    "### Вывод"
   ]
  },
  {
   "cell_type": "markdown",
   "metadata": {},
   "source": [
    "Проведенный анализ показал, что основная часть посетителей проживает или работает в том же районе, где находится фитнес-центр. Средний возраст клиентов - 29 лет. Клиенты, продолжающие посещение характеризуются покупкой абонементов на длительный срок и  регулярным посещением 2-3 раза в неделю. Клиенты, ушедшие в отток, в основном в возрасте ниже среднего, преобретавшие абонементы на короткий срок, нерегулярно посещавшие тренировки.\n",
    "\n",
    "Для снижения оттока следует расмотреть возможность:\n",
    "1) увеличения средней продолжительности преобретаемых абонементов в виде скидки или кэшбека в случае преобретения долгосрочных абонементов. После окончания абонемента на 1 месяц клиент может засомневаться в преобретении следующего.\n",
    "\n",
    "2) увеличения среднего количества посещений в неделю, а также поощерение посещений разнообразных тренировок (как тренажерного зала, так и групповых тренировок) в виде кэшбека, который можно использовать в баре или при преобретении следующего абонемента. При регулярных разнообразных тренировках больше вероятность положительного результата\n",
    "для клиента, что увеличивает вероятность того, что он останется в клубе надолго\n",
    "\n",
    "3) предоставления дополнительных скидок или новых акций для молодежи и людей, проживающих в отдаленных районах"
   ]
  }
 ],
 "metadata": {
  "ExecuteTimeLog": [
   {
    "duration": 490,
    "start_time": "2022-04-06T06:53:31.739Z"
   },
   {
    "duration": 36,
    "start_time": "2022-04-06T06:53:49.705Z"
   },
   {
    "duration": 27,
    "start_time": "2022-04-06T06:53:56.913Z"
   },
   {
    "duration": 17,
    "start_time": "2022-04-06T06:54:06.089Z"
   },
   {
    "duration": 90,
    "start_time": "2022-04-06T06:56:31.965Z"
   },
   {
    "duration": 9,
    "start_time": "2022-04-06T06:56:43.453Z"
   },
   {
    "duration": 4,
    "start_time": "2022-04-06T06:57:28.727Z"
   },
   {
    "duration": 15,
    "start_time": "2022-04-06T06:57:35.079Z"
   },
   {
    "duration": 5,
    "start_time": "2022-04-06T07:00:58.844Z"
   },
   {
    "duration": 15,
    "start_time": "2022-04-06T07:00:59.635Z"
   },
   {
    "duration": 68,
    "start_time": "2022-04-06T07:02:21.247Z"
   },
   {
    "duration": 23,
    "start_time": "2022-04-06T10:10:53.646Z"
   },
   {
    "duration": 23,
    "start_time": "2022-04-06T10:11:31.688Z"
   },
   {
    "duration": 14,
    "start_time": "2022-04-06T10:18:19.619Z"
   },
   {
    "duration": 1261,
    "start_time": "2022-04-06T10:18:41.316Z"
   },
   {
    "duration": 1885,
    "start_time": "2022-04-06T10:18:43.566Z"
   },
   {
    "duration": 1919,
    "start_time": "2022-04-06T10:18:57.932Z"
   },
   {
    "duration": 220,
    "start_time": "2022-04-06T10:19:46.815Z"
   },
   {
    "duration": 1873,
    "start_time": "2022-04-06T10:19:55.150Z"
   },
   {
    "duration": 1818,
    "start_time": "2022-04-06T10:21:49.848Z"
   },
   {
    "duration": 182,
    "start_time": "2022-04-06T10:22:01.369Z"
   },
   {
    "duration": 1930,
    "start_time": "2022-04-06T10:22:19.059Z"
   },
   {
    "duration": 1526,
    "start_time": "2022-04-06T10:29:13.101Z"
   },
   {
    "duration": 5,
    "start_time": "2022-04-06T11:34:21.131Z"
   },
   {
    "duration": 31,
    "start_time": "2022-04-06T11:35:36.766Z"
   },
   {
    "duration": 25,
    "start_time": "2022-04-06T11:35:57.537Z"
   },
   {
    "duration": 26,
    "start_time": "2022-04-06T11:36:14.560Z"
   },
   {
    "duration": 27,
    "start_time": "2022-04-06T11:36:32.840Z"
   },
   {
    "duration": 25,
    "start_time": "2022-04-06T11:36:52.136Z"
   },
   {
    "duration": 43,
    "start_time": "2022-04-06T11:37:42.490Z"
   },
   {
    "duration": 21,
    "start_time": "2022-04-06T11:37:57.403Z"
   },
   {
    "duration": 4,
    "start_time": "2022-04-06T11:41:09.736Z"
   },
   {
    "duration": 5,
    "start_time": "2022-04-06T11:41:19.743Z"
   },
   {
    "duration": 19,
    "start_time": "2022-04-06T11:43:19.386Z"
   },
   {
    "duration": 19,
    "start_time": "2022-04-06T11:43:25.641Z"
   },
   {
    "duration": 2835,
    "start_time": "2022-04-06T11:43:33.426Z"
   },
   {
    "duration": 10,
    "start_time": "2022-04-06T11:44:09.180Z"
   },
   {
    "duration": 3,
    "start_time": "2022-04-06T11:44:15.652Z"
   },
   {
    "duration": 30,
    "start_time": "2022-04-06T11:44:15.658Z"
   },
   {
    "duration": 17,
    "start_time": "2022-04-06T11:44:15.690Z"
   },
   {
    "duration": 17,
    "start_time": "2022-04-06T11:44:15.710Z"
   },
   {
    "duration": 5,
    "start_time": "2022-04-06T11:44:15.742Z"
   },
   {
    "duration": 66,
    "start_time": "2022-04-06T11:44:15.749Z"
   },
   {
    "duration": 42,
    "start_time": "2022-04-06T11:44:15.817Z"
   },
   {
    "duration": 2132,
    "start_time": "2022-04-06T11:44:15.861Z"
   },
   {
    "duration": 26,
    "start_time": "2022-04-06T11:44:17.996Z"
   },
   {
    "duration": 0,
    "start_time": "2022-04-06T11:44:18.043Z"
   },
   {
    "duration": 0,
    "start_time": "2022-04-06T11:44:18.045Z"
   },
   {
    "duration": 3076,
    "start_time": "2022-04-06T11:44:25.940Z"
   },
   {
    "duration": 3165,
    "start_time": "2022-04-06T11:45:58.144Z"
   },
   {
    "duration": 3186,
    "start_time": "2022-04-06T11:46:06.960Z"
   },
   {
    "duration": 3096,
    "start_time": "2022-04-06T11:46:17.296Z"
   },
   {
    "duration": 3185,
    "start_time": "2022-04-06T11:46:34.264Z"
   },
   {
    "duration": 14,
    "start_time": "2022-04-06T12:16:23.438Z"
   },
   {
    "duration": 889,
    "start_time": "2022-04-06T12:16:29.670Z"
   },
   {
    "duration": 51,
    "start_time": "2022-04-06T12:16:31.807Z"
   },
   {
    "duration": 21,
    "start_time": "2022-04-06T12:16:55.871Z"
   },
   {
    "duration": 1335,
    "start_time": "2022-04-06T12:17:00.640Z"
   },
   {
    "duration": 16,
    "start_time": "2022-04-06T12:23:31.226Z"
   },
   {
    "duration": 5,
    "start_time": "2022-04-06T12:24:01.138Z"
   },
   {
    "duration": 5,
    "start_time": "2022-04-06T12:24:03.516Z"
   },
   {
    "duration": 44,
    "start_time": "2022-04-06T12:24:03.523Z"
   },
   {
    "duration": 17,
    "start_time": "2022-04-06T12:24:03.569Z"
   },
   {
    "duration": 28,
    "start_time": "2022-04-06T12:24:03.588Z"
   },
   {
    "duration": 4,
    "start_time": "2022-04-06T12:24:03.619Z"
   },
   {
    "duration": 70,
    "start_time": "2022-04-06T12:24:03.625Z"
   },
   {
    "duration": 23,
    "start_time": "2022-04-06T12:24:03.697Z"
   },
   {
    "duration": 2097,
    "start_time": "2022-04-06T12:24:03.722Z"
   },
   {
    "duration": 3103,
    "start_time": "2022-04-06T12:24:05.821Z"
   },
   {
    "duration": 18,
    "start_time": "2022-04-06T12:24:08.926Z"
   },
   {
    "duration": 200,
    "start_time": "2022-04-06T12:24:08.946Z"
   },
   {
    "duration": 889,
    "start_time": "2022-04-06T12:24:09.148Z"
   },
   {
    "duration": 49,
    "start_time": "2022-04-06T12:24:25.748Z"
   },
   {
    "duration": 5,
    "start_time": "2022-04-06T12:27:49.712Z"
   },
   {
    "duration": 879,
    "start_time": "2022-04-06T12:27:52.728Z"
   },
   {
    "duration": 1773,
    "start_time": "2022-04-07T11:14:56.065Z"
   },
   {
    "duration": 17,
    "start_time": "2022-04-07T11:14:57.841Z"
   },
   {
    "duration": 15,
    "start_time": "2022-04-07T11:14:57.860Z"
   },
   {
    "duration": 12,
    "start_time": "2022-04-07T11:14:57.877Z"
   },
   {
    "duration": 6,
    "start_time": "2022-04-07T11:14:57.891Z"
   },
   {
    "duration": 70,
    "start_time": "2022-04-07T11:14:57.898Z"
   },
   {
    "duration": 18,
    "start_time": "2022-04-07T11:14:57.970Z"
   },
   {
    "duration": 1830,
    "start_time": "2022-04-07T11:14:57.989Z"
   },
   {
    "duration": 2797,
    "start_time": "2022-04-07T11:14:59.821Z"
   },
   {
    "duration": 8,
    "start_time": "2022-04-07T11:15:02.619Z"
   },
   {
    "duration": 51,
    "start_time": "2022-04-07T11:15:02.628Z"
   },
   {
    "duration": 772,
    "start_time": "2022-04-07T11:15:02.764Z"
   },
   {
    "duration": 69,
    "start_time": "2022-04-08T06:53:09.773Z"
   },
   {
    "duration": 2528,
    "start_time": "2022-04-08T06:53:12.684Z"
   },
   {
    "duration": 37,
    "start_time": "2022-04-08T06:53:15.215Z"
   },
   {
    "duration": 25,
    "start_time": "2022-04-08T06:53:15.255Z"
   },
   {
    "duration": 18,
    "start_time": "2022-04-08T06:53:15.283Z"
   },
   {
    "duration": 9,
    "start_time": "2022-04-08T06:53:15.303Z"
   },
   {
    "duration": 86,
    "start_time": "2022-04-08T06:53:15.315Z"
   },
   {
    "duration": 24,
    "start_time": "2022-04-08T06:53:15.403Z"
   },
   {
    "duration": 2102,
    "start_time": "2022-04-08T06:53:15.429Z"
   },
   {
    "duration": 3947,
    "start_time": "2022-04-08T06:53:17.534Z"
   },
   {
    "duration": 9,
    "start_time": "2022-04-08T06:53:21.485Z"
   },
   {
    "duration": 148,
    "start_time": "2022-04-08T06:53:21.496Z"
   },
   {
    "duration": 1249,
    "start_time": "2022-04-08T06:53:21.647Z"
   },
   {
    "duration": 5,
    "start_time": "2022-04-08T06:54:23.622Z"
   },
   {
    "duration": 2021,
    "start_time": "2022-04-08T06:54:24.300Z"
   },
   {
    "duration": 2091,
    "start_time": "2022-04-08T06:54:39.524Z"
   },
   {
    "duration": 1925,
    "start_time": "2022-04-08T06:54:54.262Z"
   },
   {
    "duration": 5,
    "start_time": "2022-04-08T06:58:21.137Z"
   },
   {
    "duration": 1953,
    "start_time": "2022-04-08T06:58:21.582Z"
   },
   {
    "duration": 1977,
    "start_time": "2022-04-08T06:58:33.698Z"
   },
   {
    "duration": 1975,
    "start_time": "2022-04-08T06:58:40.936Z"
   },
   {
    "duration": 279,
    "start_time": "2022-04-08T10:15:18.970Z"
   },
   {
    "duration": 386,
    "start_time": "2022-04-08T11:34:59.269Z"
   },
   {
    "duration": 2112,
    "start_time": "2022-04-08T11:35:43.965Z"
   },
   {
    "duration": 8,
    "start_time": "2022-04-08T11:36:34.867Z"
   },
   {
    "duration": 2334,
    "start_time": "2022-04-08T11:36:35.393Z"
   },
   {
    "duration": 352,
    "start_time": "2022-04-08T11:56:27.969Z"
   },
   {
    "duration": 319,
    "start_time": "2022-04-08T11:56:47.256Z"
   },
   {
    "duration": 443,
    "start_time": "2022-04-08T11:57:02.873Z"
   },
   {
    "duration": 1415,
    "start_time": "2022-04-08T11:57:43.177Z"
   },
   {
    "duration": 2465,
    "start_time": "2022-04-08T11:58:06.102Z"
   },
   {
    "duration": 6466,
    "start_time": "2022-04-08T11:58:28.771Z"
   },
   {
    "duration": 7233,
    "start_time": "2022-04-08T11:59:03.812Z"
   },
   {
    "duration": 4812,
    "start_time": "2022-04-08T11:59:48.014Z"
   },
   {
    "duration": 6,
    "start_time": "2022-04-08T12:11:19.782Z"
   },
   {
    "duration": 40,
    "start_time": "2022-04-08T12:11:25.967Z"
   },
   {
    "duration": 9,
    "start_time": "2022-04-08T12:13:59.610Z"
   },
   {
    "duration": 26,
    "start_time": "2022-04-08T12:14:06.284Z"
   },
   {
    "duration": 17,
    "start_time": "2022-04-08T12:14:21.364Z"
   },
   {
    "duration": 3297,
    "start_time": "2022-04-08T12:14:38.428Z"
   },
   {
    "duration": 9,
    "start_time": "2022-04-08T12:14:42.940Z"
   },
   {
    "duration": 50,
    "start_time": "2022-04-08T12:14:44.371Z"
   },
   {
    "duration": 778,
    "start_time": "2022-04-08T12:14:45.322Z"
   },
   {
    "duration": 2302,
    "start_time": "2022-04-08T13:37:20.312Z"
   },
   {
    "duration": 22,
    "start_time": "2022-04-08T13:37:22.617Z"
   },
   {
    "duration": 15,
    "start_time": "2022-04-08T13:37:22.640Z"
   },
   {
    "duration": 11,
    "start_time": "2022-04-08T13:37:22.656Z"
   },
   {
    "duration": 5,
    "start_time": "2022-04-08T13:37:22.669Z"
   },
   {
    "duration": 70,
    "start_time": "2022-04-08T13:37:22.676Z"
   },
   {
    "duration": 13,
    "start_time": "2022-04-08T13:37:22.748Z"
   },
   {
    "duration": 1398,
    "start_time": "2022-04-08T13:37:22.763Z"
   },
   {
    "duration": 116,
    "start_time": "2022-04-08T13:37:24.163Z"
   },
   {
    "duration": 0,
    "start_time": "2022-04-08T13:37:24.281Z"
   },
   {
    "duration": 0,
    "start_time": "2022-04-08T13:37:24.282Z"
   },
   {
    "duration": 0,
    "start_time": "2022-04-08T13:37:24.283Z"
   },
   {
    "duration": 0,
    "start_time": "2022-04-08T13:37:24.283Z"
   },
   {
    "duration": 0,
    "start_time": "2022-04-08T13:37:24.285Z"
   },
   {
    "duration": 4,
    "start_time": "2022-04-08T13:37:54.309Z"
   },
   {
    "duration": 28,
    "start_time": "2022-04-08T13:37:54.315Z"
   },
   {
    "duration": 10,
    "start_time": "2022-04-08T13:37:54.345Z"
   },
   {
    "duration": 12,
    "start_time": "2022-04-08T13:37:54.357Z"
   },
   {
    "duration": 3,
    "start_time": "2022-04-08T13:37:54.372Z"
   },
   {
    "duration": 58,
    "start_time": "2022-04-08T13:37:54.376Z"
   },
   {
    "duration": 14,
    "start_time": "2022-04-08T13:37:54.435Z"
   },
   {
    "duration": 1826,
    "start_time": "2022-04-08T13:37:54.450Z"
   },
   {
    "duration": 11,
    "start_time": "2022-04-08T13:37:56.277Z"
   },
   {
    "duration": 0,
    "start_time": "2022-04-08T13:37:56.292Z"
   },
   {
    "duration": 0,
    "start_time": "2022-04-08T13:37:56.294Z"
   },
   {
    "duration": 0,
    "start_time": "2022-04-08T13:37:56.295Z"
   },
   {
    "duration": 0,
    "start_time": "2022-04-08T13:37:56.296Z"
   },
   {
    "duration": 0,
    "start_time": "2022-04-08T13:37:56.297Z"
   },
   {
    "duration": 13,
    "start_time": "2022-04-08T13:38:00.009Z"
   },
   {
    "duration": 9,
    "start_time": "2022-04-08T13:38:12.407Z"
   },
   {
    "duration": 4,
    "start_time": "2022-04-08T13:42:59.755Z"
   },
   {
    "duration": 33,
    "start_time": "2022-04-08T13:42:59.761Z"
   },
   {
    "duration": 13,
    "start_time": "2022-04-08T13:42:59.796Z"
   },
   {
    "duration": 14,
    "start_time": "2022-04-08T13:42:59.811Z"
   },
   {
    "duration": 3,
    "start_time": "2022-04-08T13:42:59.827Z"
   },
   {
    "duration": 41,
    "start_time": "2022-04-08T13:42:59.831Z"
   },
   {
    "duration": 26,
    "start_time": "2022-04-08T13:42:59.873Z"
   },
   {
    "duration": 2502,
    "start_time": "2022-04-08T13:42:59.903Z"
   },
   {
    "duration": 1774,
    "start_time": "2022-04-08T13:43:02.409Z"
   },
   {
    "duration": 10,
    "start_time": "2022-04-08T13:43:04.185Z"
   },
   {
    "duration": 192,
    "start_time": "2022-04-08T13:43:04.198Z"
   },
   {
    "duration": 838,
    "start_time": "2022-04-08T13:43:04.396Z"
   },
   {
    "duration": 1484,
    "start_time": "2022-04-08T13:54:48.856Z"
   },
   {
    "duration": 233,
    "start_time": "2022-04-08T13:55:00.231Z"
   },
   {
    "duration": 1448,
    "start_time": "2022-04-08T13:55:37.507Z"
   },
   {
    "duration": 132,
    "start_time": "2022-04-08T13:55:46.919Z"
   },
   {
    "duration": 1412,
    "start_time": "2022-04-08T13:56:05.640Z"
   },
   {
    "duration": 1404,
    "start_time": "2022-04-08T13:56:13.773Z"
   },
   {
    "duration": 226,
    "start_time": "2022-04-08T13:56:19.646Z"
   },
   {
    "duration": 1699,
    "start_time": "2022-04-08T13:57:26.744Z"
   },
   {
    "duration": 205,
    "start_time": "2022-04-08T13:57:35.660Z"
   },
   {
    "duration": 1332,
    "start_time": "2022-04-08T13:58:03.292Z"
   },
   {
    "duration": 1342,
    "start_time": "2022-04-08T13:58:11.031Z"
   },
   {
    "duration": 1706,
    "start_time": "2022-04-08T13:58:19.922Z"
   },
   {
    "duration": 1391,
    "start_time": "2022-04-08T13:58:28.624Z"
   },
   {
    "duration": 1340,
    "start_time": "2022-04-08T13:58:47.324Z"
   },
   {
    "duration": 1551,
    "start_time": "2022-04-08T13:58:53.149Z"
   },
   {
    "duration": 1759,
    "start_time": "2022-04-09T16:12:20.262Z"
   },
   {
    "duration": 20,
    "start_time": "2022-04-09T16:12:22.023Z"
   },
   {
    "duration": 17,
    "start_time": "2022-04-09T16:12:22.045Z"
   },
   {
    "duration": 20,
    "start_time": "2022-04-09T16:12:22.064Z"
   },
   {
    "duration": 5,
    "start_time": "2022-04-09T16:12:22.087Z"
   },
   {
    "duration": 42,
    "start_time": "2022-04-09T16:12:22.093Z"
   },
   {
    "duration": 15,
    "start_time": "2022-04-09T16:12:22.136Z"
   },
   {
    "duration": 2039,
    "start_time": "2022-04-09T16:12:22.153Z"
   },
   {
    "duration": 1405,
    "start_time": "2022-04-09T16:12:24.194Z"
   },
   {
    "duration": 8,
    "start_time": "2022-04-09T16:12:25.601Z"
   },
   {
    "duration": 69,
    "start_time": "2022-04-09T16:12:25.611Z"
   },
   {
    "duration": 758,
    "start_time": "2022-04-09T16:12:25.683Z"
   },
   {
    "duration": 96,
    "start_time": "2022-04-09T16:12:37.484Z"
   },
   {
    "duration": 79,
    "start_time": "2022-04-09T16:13:40.909Z"
   },
   {
    "duration": 107,
    "start_time": "2022-04-09T16:15:58.573Z"
   },
   {
    "duration": 4,
    "start_time": "2022-04-09T16:17:28.160Z"
   },
   {
    "duration": 20,
    "start_time": "2022-04-09T16:17:28.166Z"
   },
   {
    "duration": 12,
    "start_time": "2022-04-09T16:17:28.187Z"
   },
   {
    "duration": 11,
    "start_time": "2022-04-09T16:17:28.201Z"
   },
   {
    "duration": 3,
    "start_time": "2022-04-09T16:17:28.214Z"
   },
   {
    "duration": 61,
    "start_time": "2022-04-09T16:17:28.219Z"
   },
   {
    "duration": 14,
    "start_time": "2022-04-09T16:17:28.282Z"
   },
   {
    "duration": 2046,
    "start_time": "2022-04-09T16:17:28.298Z"
   },
   {
    "duration": 1332,
    "start_time": "2022-04-09T16:17:30.346Z"
   },
   {
    "duration": 7,
    "start_time": "2022-04-09T16:17:31.680Z"
   },
   {
    "duration": 91,
    "start_time": "2022-04-09T16:17:31.688Z"
   },
   {
    "duration": 754,
    "start_time": "2022-04-09T16:17:31.782Z"
   },
   {
    "duration": 30,
    "start_time": "2022-04-09T16:18:26.156Z"
   },
   {
    "duration": 5,
    "start_time": "2022-04-09T16:23:52.876Z"
   },
   {
    "duration": 3,
    "start_time": "2022-04-09T16:23:57.201Z"
   },
   {
    "duration": 22,
    "start_time": "2022-04-09T16:23:57.206Z"
   },
   {
    "duration": 11,
    "start_time": "2022-04-09T16:23:57.230Z"
   },
   {
    "duration": 17,
    "start_time": "2022-04-09T16:23:57.243Z"
   },
   {
    "duration": 3,
    "start_time": "2022-04-09T16:23:57.263Z"
   },
   {
    "duration": 40,
    "start_time": "2022-04-09T16:23:57.268Z"
   },
   {
    "duration": 15,
    "start_time": "2022-04-09T16:23:57.310Z"
   },
   {
    "duration": 1942,
    "start_time": "2022-04-09T16:23:57.327Z"
   },
   {
    "duration": 1285,
    "start_time": "2022-04-09T16:23:59.270Z"
   },
   {
    "duration": 5,
    "start_time": "2022-04-09T16:24:00.557Z"
   },
   {
    "duration": 18,
    "start_time": "2022-04-09T16:24:00.564Z"
   },
   {
    "duration": 29,
    "start_time": "2022-04-09T16:24:00.584Z"
   },
   {
    "duration": 568,
    "start_time": "2022-04-09T16:24:00.617Z"
   },
   {
    "duration": 4,
    "start_time": "2022-04-09T16:37:59.243Z"
   },
   {
    "duration": 105,
    "start_time": "2022-04-09T16:39:16.423Z"
   },
   {
    "duration": 4,
    "start_time": "2022-04-09T16:39:50.514Z"
   },
   {
    "duration": 12,
    "start_time": "2022-04-09T16:39:54.486Z"
   },
   {
    "duration": 4,
    "start_time": "2022-04-09T16:42:09.403Z"
   },
   {
    "duration": 23,
    "start_time": "2022-04-09T16:42:09.410Z"
   },
   {
    "duration": 13,
    "start_time": "2022-04-09T16:42:09.435Z"
   },
   {
    "duration": 11,
    "start_time": "2022-04-09T16:42:09.451Z"
   },
   {
    "duration": 4,
    "start_time": "2022-04-09T16:42:09.464Z"
   },
   {
    "duration": 40,
    "start_time": "2022-04-09T16:42:09.477Z"
   },
   {
    "duration": 16,
    "start_time": "2022-04-09T16:42:09.519Z"
   },
   {
    "duration": 1989,
    "start_time": "2022-04-09T16:42:09.536Z"
   },
   {
    "duration": 1352,
    "start_time": "2022-04-09T16:42:11.527Z"
   },
   {
    "duration": 5,
    "start_time": "2022-04-09T16:42:12.881Z"
   },
   {
    "duration": 10,
    "start_time": "2022-04-09T16:42:12.887Z"
   },
   {
    "duration": 30,
    "start_time": "2022-04-09T16:42:12.898Z"
   },
   {
    "duration": 4,
    "start_time": "2022-04-09T16:42:12.930Z"
   },
   {
    "duration": 9,
    "start_time": "2022-04-09T16:42:12.936Z"
   },
   {
    "duration": 557,
    "start_time": "2022-04-09T16:42:12.947Z"
   },
   {
    "duration": 13,
    "start_time": "2022-04-09T17:02:46.528Z"
   },
   {
    "duration": 5,
    "start_time": "2022-04-09T17:02:53.845Z"
   },
   {
    "duration": 42,
    "start_time": "2022-04-09T17:02:53.853Z"
   },
   {
    "duration": 14,
    "start_time": "2022-04-09T17:02:53.896Z"
   },
   {
    "duration": 12,
    "start_time": "2022-04-09T17:02:53.913Z"
   },
   {
    "duration": 3,
    "start_time": "2022-04-09T17:02:53.927Z"
   },
   {
    "duration": 62,
    "start_time": "2022-04-09T17:02:53.931Z"
   },
   {
    "duration": 14,
    "start_time": "2022-04-09T17:02:53.995Z"
   },
   {
    "duration": 2081,
    "start_time": "2022-04-09T17:02:54.011Z"
   },
   {
    "duration": 1310,
    "start_time": "2022-04-09T17:02:56.094Z"
   },
   {
    "duration": 6,
    "start_time": "2022-04-09T17:02:57.407Z"
   },
   {
    "duration": 11,
    "start_time": "2022-04-09T17:02:57.415Z"
   },
   {
    "duration": 52,
    "start_time": "2022-04-09T17:02:57.428Z"
   },
   {
    "duration": 7,
    "start_time": "2022-04-09T17:02:57.483Z"
   },
   {
    "duration": 16,
    "start_time": "2022-04-09T17:02:57.492Z"
   },
   {
    "duration": 14,
    "start_time": "2022-04-09T17:36:02.265Z"
   },
   {
    "duration": 4,
    "start_time": "2022-04-09T17:36:13.980Z"
   },
   {
    "duration": 30,
    "start_time": "2022-04-09T17:36:13.985Z"
   },
   {
    "duration": 11,
    "start_time": "2022-04-09T17:36:14.016Z"
   },
   {
    "duration": 11,
    "start_time": "2022-04-09T17:36:14.029Z"
   },
   {
    "duration": 3,
    "start_time": "2022-04-09T17:36:14.042Z"
   },
   {
    "duration": 56,
    "start_time": "2022-04-09T17:36:14.046Z"
   },
   {
    "duration": 14,
    "start_time": "2022-04-09T17:36:14.104Z"
   },
   {
    "duration": 1972,
    "start_time": "2022-04-09T17:36:14.119Z"
   },
   {
    "duration": 1230,
    "start_time": "2022-04-09T17:36:16.094Z"
   },
   {
    "duration": 4,
    "start_time": "2022-04-09T17:36:17.326Z"
   },
   {
    "duration": 10,
    "start_time": "2022-04-09T17:36:17.332Z"
   },
   {
    "duration": 41,
    "start_time": "2022-04-09T17:36:17.343Z"
   },
   {
    "duration": 4,
    "start_time": "2022-04-09T17:36:17.385Z"
   },
   {
    "duration": 10,
    "start_time": "2022-04-09T17:36:17.390Z"
   },
   {
    "duration": 14,
    "start_time": "2022-04-09T17:36:17.401Z"
   },
   {
    "duration": 0,
    "start_time": "2022-04-09T17:36:17.416Z"
   },
   {
    "duration": 33,
    "start_time": "2022-04-09T17:38:01.342Z"
   },
   {
    "duration": 26,
    "start_time": "2022-04-09T17:38:10.888Z"
   },
   {
    "duration": 11,
    "start_time": "2022-04-09T17:38:13.249Z"
   },
   {
    "duration": 10,
    "start_time": "2022-04-09T17:38:39.749Z"
   },
   {
    "duration": 4,
    "start_time": "2022-04-09T17:46:32.381Z"
   },
   {
    "duration": 22,
    "start_time": "2022-04-09T17:46:32.387Z"
   },
   {
    "duration": 11,
    "start_time": "2022-04-09T17:46:32.411Z"
   },
   {
    "duration": 11,
    "start_time": "2022-04-09T17:46:32.424Z"
   },
   {
    "duration": 3,
    "start_time": "2022-04-09T17:46:32.436Z"
   },
   {
    "duration": 62,
    "start_time": "2022-04-09T17:46:32.441Z"
   },
   {
    "duration": 14,
    "start_time": "2022-04-09T17:46:32.504Z"
   },
   {
    "duration": 1978,
    "start_time": "2022-04-09T17:46:32.520Z"
   },
   {
    "duration": 1351,
    "start_time": "2022-04-09T17:46:34.499Z"
   },
   {
    "duration": 5,
    "start_time": "2022-04-09T17:46:35.852Z"
   },
   {
    "duration": 20,
    "start_time": "2022-04-09T17:46:35.858Z"
   },
   {
    "duration": 9,
    "start_time": "2022-04-09T17:46:35.880Z"
   },
   {
    "duration": 9,
    "start_time": "2022-04-09T17:46:35.890Z"
   },
   {
    "duration": 10,
    "start_time": "2022-04-09T17:46:54.089Z"
   },
   {
    "duration": 16,
    "start_time": "2022-04-09T17:46:57.756Z"
   },
   {
    "duration": 13,
    "start_time": "2022-04-09T17:47:10.236Z"
   },
   {
    "duration": 18,
    "start_time": "2022-04-09T17:47:17.486Z"
   },
   {
    "duration": 10,
    "start_time": "2022-04-09T17:47:26.615Z"
   },
   {
    "duration": 5,
    "start_time": "2022-04-09T17:47:28.181Z"
   },
   {
    "duration": 7,
    "start_time": "2022-04-09T17:47:29.204Z"
   },
   {
    "duration": 9,
    "start_time": "2022-04-09T17:47:43.661Z"
   },
   {
    "duration": 10,
    "start_time": "2022-04-09T17:48:14.277Z"
   },
   {
    "duration": 10,
    "start_time": "2022-04-09T17:48:58.296Z"
   },
   {
    "duration": 11,
    "start_time": "2022-04-09T17:50:43.308Z"
   },
   {
    "duration": 3,
    "start_time": "2022-04-09T18:01:49.809Z"
   },
   {
    "duration": 10,
    "start_time": "2022-04-09T18:07:00.672Z"
   },
   {
    "duration": 13,
    "start_time": "2022-04-09T18:07:46.753Z"
   },
   {
    "duration": 8,
    "start_time": "2022-04-09T18:08:47.459Z"
   },
   {
    "duration": 8,
    "start_time": "2022-04-09T18:16:34.582Z"
   },
   {
    "duration": 327,
    "start_time": "2022-04-09T18:16:38.773Z"
   },
   {
    "duration": 7,
    "start_time": "2022-04-09T18:16:39.833Z"
   },
   {
    "duration": 4,
    "start_time": "2022-04-09T18:18:31.912Z"
   },
   {
    "duration": 6,
    "start_time": "2022-04-09T18:19:08.677Z"
   },
   {
    "duration": 314,
    "start_time": "2022-04-09T18:21:00.248Z"
   },
   {
    "duration": 7,
    "start_time": "2022-04-09T18:21:01.830Z"
   },
   {
    "duration": 4,
    "start_time": "2022-04-09T18:21:38.847Z"
   },
   {
    "duration": 26,
    "start_time": "2022-04-09T18:21:38.852Z"
   },
   {
    "duration": 11,
    "start_time": "2022-04-09T18:21:38.880Z"
   },
   {
    "duration": 12,
    "start_time": "2022-04-09T18:21:38.892Z"
   },
   {
    "duration": 3,
    "start_time": "2022-04-09T18:21:38.906Z"
   },
   {
    "duration": 40,
    "start_time": "2022-04-09T18:21:38.911Z"
   },
   {
    "duration": 37,
    "start_time": "2022-04-09T18:21:38.953Z"
   },
   {
    "duration": 1984,
    "start_time": "2022-04-09T18:21:38.991Z"
   },
   {
    "duration": 1262,
    "start_time": "2022-04-09T18:21:40.977Z"
   },
   {
    "duration": 5,
    "start_time": "2022-04-09T18:21:42.241Z"
   },
   {
    "duration": 11,
    "start_time": "2022-04-09T18:21:42.248Z"
   },
   {
    "duration": 22,
    "start_time": "2022-04-09T18:21:42.261Z"
   },
   {
    "duration": 10,
    "start_time": "2022-04-09T18:21:42.284Z"
   },
   {
    "duration": 4,
    "start_time": "2022-04-09T18:21:42.296Z"
   },
   {
    "duration": 9,
    "start_time": "2022-04-09T18:21:42.301Z"
   },
   {
    "duration": 336,
    "start_time": "2022-04-09T18:21:42.312Z"
   },
   {
    "duration": 8,
    "start_time": "2022-04-09T18:21:42.649Z"
   },
   {
    "duration": 10,
    "start_time": "2022-04-09T18:21:42.658Z"
   },
   {
    "duration": 322,
    "start_time": "2022-04-09T18:22:45.541Z"
   },
   {
    "duration": 7,
    "start_time": "2022-04-09T18:22:46.213Z"
   },
   {
    "duration": 6,
    "start_time": "2022-04-09T18:22:54.099Z"
   },
   {
    "duration": 4,
    "start_time": "2022-04-09T18:32:51.684Z"
   },
   {
    "duration": 535,
    "start_time": "2022-04-09T18:34:34.380Z"
   },
   {
    "duration": 98201,
    "start_time": "2022-04-09T18:35:15.253Z"
   },
   {
    "duration": 19,
    "start_time": "2022-04-09T18:39:28.723Z"
   },
   {
    "duration": 1402,
    "start_time": "2022-04-09T18:39:57.577Z"
   },
   {
    "duration": 16,
    "start_time": "2022-04-09T18:53:25.115Z"
   },
   {
    "duration": 4,
    "start_time": "2022-04-09T18:54:22.411Z"
   },
   {
    "duration": 12,
    "start_time": "2022-04-09T18:54:29.917Z"
   },
   {
    "duration": 10,
    "start_time": "2022-04-09T18:54:46.858Z"
   },
   {
    "duration": 4,
    "start_time": "2022-04-09T18:55:04.587Z"
   },
   {
    "duration": 22519,
    "start_time": "2022-04-09T18:55:05.075Z"
   },
   {
    "duration": 14,
    "start_time": "2022-04-09T18:58:47.084Z"
   },
   {
    "duration": 27,
    "start_time": "2022-04-09T19:00:24.684Z"
   },
   {
    "duration": 105,
    "start_time": "2022-04-09T19:00:40.181Z"
   },
   {
    "duration": 16,
    "start_time": "2022-04-09T19:00:47.855Z"
   },
   {
    "duration": 44,
    "start_time": "2022-04-10T09:54:11.610Z"
   },
   {
    "duration": 1648,
    "start_time": "2022-04-10T09:54:25.775Z"
   },
   {
    "duration": 32,
    "start_time": "2022-04-10T09:54:27.425Z"
   },
   {
    "duration": 15,
    "start_time": "2022-04-10T09:54:27.459Z"
   },
   {
    "duration": 10,
    "start_time": "2022-04-10T09:54:27.476Z"
   },
   {
    "duration": 3,
    "start_time": "2022-04-10T09:54:27.488Z"
   },
   {
    "duration": 36,
    "start_time": "2022-04-10T09:54:27.493Z"
   },
   {
    "duration": 13,
    "start_time": "2022-04-10T09:54:27.531Z"
   },
   {
    "duration": 88,
    "start_time": "2022-04-10T09:54:27.545Z"
   },
   {
    "duration": 0,
    "start_time": "2022-04-10T09:54:27.635Z"
   },
   {
    "duration": 0,
    "start_time": "2022-04-10T09:54:27.636Z"
   },
   {
    "duration": 0,
    "start_time": "2022-04-10T09:54:27.637Z"
   },
   {
    "duration": 0,
    "start_time": "2022-04-10T09:54:27.637Z"
   },
   {
    "duration": 0,
    "start_time": "2022-04-10T09:54:27.638Z"
   },
   {
    "duration": 0,
    "start_time": "2022-04-10T09:54:27.639Z"
   },
   {
    "duration": 0,
    "start_time": "2022-04-10T09:54:27.640Z"
   },
   {
    "duration": 0,
    "start_time": "2022-04-10T09:54:27.641Z"
   },
   {
    "duration": 9,
    "start_time": "2022-04-10T09:54:38.576Z"
   },
   {
    "duration": 3,
    "start_time": "2022-04-10T09:54:56.221Z"
   },
   {
    "duration": 35,
    "start_time": "2022-04-10T09:54:56.226Z"
   },
   {
    "duration": 10,
    "start_time": "2022-04-10T09:54:56.262Z"
   },
   {
    "duration": 11,
    "start_time": "2022-04-10T09:54:56.274Z"
   },
   {
    "duration": 3,
    "start_time": "2022-04-10T09:54:56.287Z"
   },
   {
    "duration": 40,
    "start_time": "2022-04-10T09:54:56.291Z"
   },
   {
    "duration": 12,
    "start_time": "2022-04-10T09:54:56.333Z"
   },
   {
    "duration": 2035,
    "start_time": "2022-04-10T09:54:56.347Z"
   },
   {
    "duration": 1329,
    "start_time": "2022-04-10T09:54:58.384Z"
   },
   {
    "duration": 4,
    "start_time": "2022-04-10T09:54:59.715Z"
   },
   {
    "duration": 10,
    "start_time": "2022-04-10T09:54:59.721Z"
   },
   {
    "duration": 6,
    "start_time": "2022-04-10T09:55:03.585Z"
   },
   {
    "duration": 10,
    "start_time": "2022-04-10T09:55:04.115Z"
   },
   {
    "duration": 9,
    "start_time": "2022-04-10T09:55:14.296Z"
   },
   {
    "duration": 9,
    "start_time": "2022-04-10T09:55:23.568Z"
   },
   {
    "duration": 10,
    "start_time": "2022-04-10T09:55:24.028Z"
   },
   {
    "duration": 14,
    "start_time": "2022-04-10T09:55:24.493Z"
   },
   {
    "duration": 8,
    "start_time": "2022-04-10T09:55:42.618Z"
   },
   {
    "duration": 4,
    "start_time": "2022-04-10T10:13:42.270Z"
   },
   {
    "duration": 4,
    "start_time": "2022-04-12T05:35:36.178Z"
   },
   {
    "duration": 1779,
    "start_time": "2022-04-12T05:36:19.610Z"
   },
   {
    "duration": 37,
    "start_time": "2022-04-12T05:36:21.391Z"
   },
   {
    "duration": 14,
    "start_time": "2022-04-12T05:36:21.429Z"
   },
   {
    "duration": 11,
    "start_time": "2022-04-12T05:36:21.445Z"
   },
   {
    "duration": 9,
    "start_time": "2022-04-12T05:36:21.457Z"
   },
   {
    "duration": 42,
    "start_time": "2022-04-12T05:36:21.468Z"
   },
   {
    "duration": 13,
    "start_time": "2022-04-12T05:36:21.512Z"
   },
   {
    "duration": 1899,
    "start_time": "2022-04-12T05:36:21.527Z"
   },
   {
    "duration": 1345,
    "start_time": "2022-04-12T05:36:23.428Z"
   },
   {
    "duration": 5,
    "start_time": "2022-04-12T05:36:24.775Z"
   },
   {
    "duration": 9,
    "start_time": "2022-04-12T05:36:24.781Z"
   },
   {
    "duration": 9,
    "start_time": "2022-04-12T05:36:24.791Z"
   },
   {
    "duration": 10,
    "start_time": "2022-04-12T05:36:24.801Z"
   },
   {
    "duration": 4,
    "start_time": "2022-04-12T05:36:24.812Z"
   },
   {
    "duration": 8,
    "start_time": "2022-04-12T05:36:24.817Z"
   },
   {
    "duration": 105,
    "start_time": "2022-04-12T06:03:48.005Z"
   },
   {
    "duration": 4,
    "start_time": "2022-04-12T06:03:57.821Z"
   },
   {
    "duration": 29,
    "start_time": "2022-04-12T06:03:57.826Z"
   },
   {
    "duration": 11,
    "start_time": "2022-04-12T06:03:57.856Z"
   },
   {
    "duration": 10,
    "start_time": "2022-04-12T06:03:57.869Z"
   },
   {
    "duration": 2,
    "start_time": "2022-04-12T06:03:57.881Z"
   },
   {
    "duration": 38,
    "start_time": "2022-04-12T06:03:57.884Z"
   },
   {
    "duration": 13,
    "start_time": "2022-04-12T06:03:57.924Z"
   },
   {
    "duration": 1829,
    "start_time": "2022-04-12T06:03:57.938Z"
   },
   {
    "duration": 1251,
    "start_time": "2022-04-12T06:03:59.768Z"
   },
   {
    "duration": 5,
    "start_time": "2022-04-12T06:04:01.021Z"
   },
   {
    "duration": 13,
    "start_time": "2022-04-12T10:09:04.918Z"
   },
   {
    "duration": 5,
    "start_time": "2022-04-12T12:21:54.496Z"
   },
   {
    "duration": 36,
    "start_time": "2022-04-12T12:21:54.503Z"
   },
   {
    "duration": 11,
    "start_time": "2022-04-12T12:21:54.541Z"
   },
   {
    "duration": 11,
    "start_time": "2022-04-12T12:21:54.553Z"
   },
   {
    "duration": 3,
    "start_time": "2022-04-12T12:21:54.566Z"
   },
   {
    "duration": 59,
    "start_time": "2022-04-12T12:21:54.570Z"
   },
   {
    "duration": 14,
    "start_time": "2022-04-12T12:21:54.631Z"
   },
   {
    "duration": 2005,
    "start_time": "2022-04-12T12:21:54.646Z"
   },
   {
    "duration": 841,
    "start_time": "2022-04-12T12:21:56.652Z"
   },
   {
    "duration": 16,
    "start_time": "2022-04-12T12:23:25.839Z"
   },
   {
    "duration": 15,
    "start_time": "2022-04-12T12:23:45.472Z"
   },
   {
    "duration": 15,
    "start_time": "2022-04-12T12:24:14.368Z"
   },
   {
    "duration": 20,
    "start_time": "2022-04-12T12:24:22.400Z"
   },
   {
    "duration": 4,
    "start_time": "2022-04-12T12:37:44.325Z"
   },
   {
    "duration": 1620,
    "start_time": "2022-04-13T04:31:02.075Z"
   },
   {
    "duration": 52,
    "start_time": "2022-04-13T04:31:03.697Z"
   },
   {
    "duration": 14,
    "start_time": "2022-04-13T04:31:03.751Z"
   },
   {
    "duration": 15,
    "start_time": "2022-04-13T04:31:03.768Z"
   },
   {
    "duration": 3,
    "start_time": "2022-04-13T04:31:03.784Z"
   },
   {
    "duration": 48,
    "start_time": "2022-04-13T04:31:03.788Z"
   },
   {
    "duration": 13,
    "start_time": "2022-04-13T04:31:03.837Z"
   },
   {
    "duration": 1794,
    "start_time": "2022-04-13T04:31:03.852Z"
   },
   {
    "duration": 1341,
    "start_time": "2022-04-13T04:31:05.647Z"
   },
   {
    "duration": 4,
    "start_time": "2022-04-13T04:31:06.991Z"
   },
   {
    "duration": 9,
    "start_time": "2022-04-13T04:31:06.997Z"
   },
   {
    "duration": 8,
    "start_time": "2022-04-13T04:31:07.007Z"
   },
   {
    "duration": 3,
    "start_time": "2022-04-13T04:31:07.017Z"
   },
   {
    "duration": 10,
    "start_time": "2022-04-13T04:31:07.022Z"
   },
   {
    "duration": 7,
    "start_time": "2022-04-13T04:31:07.033Z"
   },
   {
    "duration": 305,
    "start_time": "2022-04-13T04:31:07.041Z"
   },
   {
    "duration": 7,
    "start_time": "2022-04-13T04:31:07.347Z"
   },
   {
    "duration": 9,
    "start_time": "2022-04-13T04:31:07.356Z"
   },
   {
    "duration": 601,
    "start_time": "2022-04-13T04:31:07.366Z"
   },
   {
    "duration": 87520,
    "start_time": "2022-04-13T04:31:07.968Z"
   },
   {
    "duration": 1043,
    "start_time": "2022-04-13T04:32:35.490Z"
   },
   {
    "duration": 17,
    "start_time": "2022-04-13T04:32:36.624Z"
   },
   {
    "duration": 3,
    "start_time": "2022-04-13T04:32:36.643Z"
   },
   {
    "duration": 11,
    "start_time": "2022-04-13T04:32:36.648Z"
   },
   {
    "duration": 20498,
    "start_time": "2022-04-13T04:32:36.660Z"
   },
   {
    "duration": 14,
    "start_time": "2022-04-13T04:32:57.160Z"
   },
   {
    "duration": 1309,
    "start_time": "2022-04-13T05:05:35.343Z"
   },
   {
    "duration": 141,
    "start_time": "2022-04-13T05:19:03.306Z"
   },
   {
    "duration": 5,
    "start_time": "2022-04-13T05:19:09.196Z"
   },
   {
    "duration": 28,
    "start_time": "2022-04-13T05:19:09.203Z"
   },
   {
    "duration": 12,
    "start_time": "2022-04-13T05:19:09.232Z"
   },
   {
    "duration": 15,
    "start_time": "2022-04-13T05:19:09.246Z"
   },
   {
    "duration": 3,
    "start_time": "2022-04-13T05:19:09.263Z"
   },
   {
    "duration": 66,
    "start_time": "2022-04-13T05:19:09.268Z"
   },
   {
    "duration": 15,
    "start_time": "2022-04-13T05:19:09.337Z"
   },
   {
    "duration": 1927,
    "start_time": "2022-04-13T05:19:09.354Z"
   },
   {
    "duration": 1403,
    "start_time": "2022-04-13T05:19:11.283Z"
   },
   {
    "duration": 8,
    "start_time": "2022-04-13T05:19:12.689Z"
   },
   {
    "duration": 10,
    "start_time": "2022-04-13T05:19:12.699Z"
   },
   {
    "duration": 11,
    "start_time": "2022-04-13T05:19:12.723Z"
   },
   {
    "duration": 5,
    "start_time": "2022-04-13T05:19:12.736Z"
   },
   {
    "duration": 11,
    "start_time": "2022-04-13T05:19:12.743Z"
   },
   {
    "duration": 8,
    "start_time": "2022-04-13T05:19:12.756Z"
   },
   {
    "duration": 388,
    "start_time": "2022-04-13T05:19:12.767Z"
   },
   {
    "duration": 9,
    "start_time": "2022-04-13T05:19:13.157Z"
   },
   {
    "duration": 7,
    "start_time": "2022-04-13T05:19:13.168Z"
   },
   {
    "duration": 577,
    "start_time": "2022-04-13T05:19:13.177Z"
   },
   {
    "duration": 97170,
    "start_time": "2022-04-13T05:19:13.756Z"
   },
   {
    "duration": 1099,
    "start_time": "2022-04-13T05:20:50.927Z"
   },
   {
    "duration": 104,
    "start_time": "2022-04-13T05:20:52.028Z"
   },
   {
    "duration": 3,
    "start_time": "2022-04-13T05:20:52.134Z"
   },
   {
    "duration": 12,
    "start_time": "2022-04-13T05:20:52.139Z"
   },
   {
    "duration": 16055,
    "start_time": "2022-04-13T05:20:52.153Z"
   },
   {
    "duration": 20,
    "start_time": "2022-04-13T05:21:08.210Z"
   },
   {
    "duration": 138,
    "start_time": "2022-04-13T05:31:20.991Z"
   },
   {
    "duration": 187,
    "start_time": "2022-04-13T05:32:19.929Z"
   },
   {
    "duration": 14,
    "start_time": "2022-04-13T05:49:41.701Z"
   },
   {
    "duration": 7,
    "start_time": "2022-04-13T05:50:12.142Z"
   },
   {
    "duration": 4,
    "start_time": "2022-04-13T05:50:18.668Z"
   },
   {
    "duration": 11,
    "start_time": "2022-04-13T05:50:28.045Z"
   },
   {
    "duration": 16,
    "start_time": "2022-04-13T05:52:10.120Z"
   },
   {
    "duration": 14,
    "start_time": "2022-04-13T05:54:13.061Z"
   },
   {
    "duration": 3,
    "start_time": "2022-04-13T05:56:25.079Z"
   },
   {
    "duration": 356,
    "start_time": "2022-04-13T05:56:35.631Z"
   },
   {
    "duration": 360,
    "start_time": "2022-04-13T05:56:51.569Z"
   },
   {
    "duration": 2613,
    "start_time": "2022-04-13T05:58:00.186Z"
   },
   {
    "duration": 2846,
    "start_time": "2022-04-13T05:58:16.378Z"
   },
   {
    "duration": 3743,
    "start_time": "2022-04-13T05:58:59.683Z"
   },
   {
    "duration": 10,
    "start_time": "2022-04-13T06:01:16.327Z"
   },
   {
    "duration": 4,
    "start_time": "2022-04-13T06:01:21.759Z"
   },
   {
    "duration": 4,
    "start_time": "2022-04-13T06:01:37.991Z"
   },
   {
    "duration": 3431,
    "start_time": "2022-04-13T06:01:56.601Z"
   },
   {
    "duration": 1155,
    "start_time": "2022-04-13T06:05:48.173Z"
   },
   {
    "duration": 1058,
    "start_time": "2022-04-13T06:06:22.672Z"
   },
   {
    "duration": 8337,
    "start_time": "2022-04-13T06:08:53.260Z"
   },
   {
    "duration": 7236,
    "start_time": "2022-04-13T06:09:05.309Z"
   },
   {
    "duration": 125,
    "start_time": "2022-04-13T06:09:43.836Z"
   },
   {
    "duration": 136,
    "start_time": "2022-04-13T06:10:09.430Z"
   },
   {
    "duration": 7279,
    "start_time": "2022-04-13T06:10:17.805Z"
   },
   {
    "duration": 3469,
    "start_time": "2022-04-13T06:10:42.479Z"
   },
   {
    "duration": 17,
    "start_time": "2022-04-13T06:30:36.087Z"
   },
   {
    "duration": 10,
    "start_time": "2022-04-13T06:42:39.138Z"
   },
   {
    "duration": 2,
    "start_time": "2022-04-13T06:45:52.704Z"
   },
   {
    "duration": 4,
    "start_time": "2022-04-13T06:46:00.616Z"
   },
   {
    "duration": 4,
    "start_time": "2022-04-13T06:46:10.927Z"
   },
   {
    "duration": 3,
    "start_time": "2022-04-13T06:47:36.146Z"
   },
   {
    "duration": 8,
    "start_time": "2022-04-13T06:47:39.081Z"
   },
   {
    "duration": 21,
    "start_time": "2022-04-13T06:48:31.563Z"
   },
   {
    "duration": 12,
    "start_time": "2022-04-13T06:50:22.174Z"
   },
   {
    "duration": 4,
    "start_time": "2022-04-13T06:50:31.905Z"
   },
   {
    "duration": 22,
    "start_time": "2022-04-13T06:50:31.911Z"
   },
   {
    "duration": 11,
    "start_time": "2022-04-13T06:50:31.935Z"
   },
   {
    "duration": 15,
    "start_time": "2022-04-13T06:50:31.947Z"
   },
   {
    "duration": 5,
    "start_time": "2022-04-13T06:50:31.964Z"
   },
   {
    "duration": 40,
    "start_time": "2022-04-13T06:50:31.970Z"
   },
   {
    "duration": 15,
    "start_time": "2022-04-13T06:50:32.023Z"
   },
   {
    "duration": 1852,
    "start_time": "2022-04-13T06:50:32.040Z"
   },
   {
    "duration": 1182,
    "start_time": "2022-04-13T06:50:33.894Z"
   },
   {
    "duration": 6,
    "start_time": "2022-04-13T06:50:35.077Z"
   },
   {
    "duration": 11,
    "start_time": "2022-04-13T06:50:35.084Z"
   },
   {
    "duration": 9,
    "start_time": "2022-04-13T06:50:35.097Z"
   },
   {
    "duration": 18,
    "start_time": "2022-04-13T06:50:35.108Z"
   },
   {
    "duration": 9,
    "start_time": "2022-04-13T06:50:35.128Z"
   },
   {
    "duration": 6,
    "start_time": "2022-04-13T06:50:35.138Z"
   },
   {
    "duration": 321,
    "start_time": "2022-04-13T06:50:35.146Z"
   },
   {
    "duration": 7,
    "start_time": "2022-04-13T06:50:35.468Z"
   },
   {
    "duration": 15,
    "start_time": "2022-04-13T06:50:35.476Z"
   },
   {
    "duration": 9,
    "start_time": "2022-04-13T06:50:38.141Z"
   },
   {
    "duration": 9,
    "start_time": "2022-04-13T06:51:36.320Z"
   },
   {
    "duration": 9,
    "start_time": "2022-04-13T06:51:49.239Z"
   },
   {
    "duration": 9,
    "start_time": "2022-04-13T06:52:01.490Z"
   },
   {
    "duration": 15,
    "start_time": "2022-04-13T07:06:43.306Z"
   },
   {
    "duration": 14,
    "start_time": "2022-04-13T07:07:18.162Z"
   },
   {
    "duration": 8,
    "start_time": "2022-04-13T07:09:11.677Z"
   },
   {
    "duration": 10,
    "start_time": "2022-04-13T07:09:45.895Z"
   },
   {
    "duration": 42,
    "start_time": "2022-04-13T07:36:28.020Z"
   },
   {
    "duration": 9,
    "start_time": "2022-04-13T07:36:34.365Z"
   },
   {
    "duration": 10,
    "start_time": "2022-04-13T07:37:14.437Z"
   },
   {
    "duration": 10,
    "start_time": "2022-04-13T08:31:50.750Z"
   },
   {
    "duration": 13,
    "start_time": "2022-04-13T08:31:55.598Z"
   },
   {
    "duration": 12,
    "start_time": "2022-04-13T08:32:06.758Z"
   },
   {
    "duration": 4,
    "start_time": "2022-04-13T08:32:37.833Z"
   },
   {
    "duration": 21,
    "start_time": "2022-04-13T08:32:37.839Z"
   },
   {
    "duration": 11,
    "start_time": "2022-04-13T08:32:37.861Z"
   },
   {
    "duration": 10,
    "start_time": "2022-04-13T08:32:37.874Z"
   },
   {
    "duration": 3,
    "start_time": "2022-04-13T08:32:37.886Z"
   },
   {
    "duration": 50,
    "start_time": "2022-04-13T08:32:37.890Z"
   },
   {
    "duration": 13,
    "start_time": "2022-04-13T08:32:37.941Z"
   },
   {
    "duration": 1843,
    "start_time": "2022-04-13T08:32:37.956Z"
   },
   {
    "duration": 1339,
    "start_time": "2022-04-13T08:32:39.801Z"
   },
   {
    "duration": 7,
    "start_time": "2022-04-13T08:32:41.141Z"
   },
   {
    "duration": 11,
    "start_time": "2022-04-13T08:32:41.149Z"
   },
   {
    "duration": 11,
    "start_time": "2022-04-13T08:32:41.161Z"
   },
   {
    "duration": 4,
    "start_time": "2022-04-13T08:32:41.174Z"
   },
   {
    "duration": 10,
    "start_time": "2022-04-13T08:32:41.179Z"
   },
   {
    "duration": 6,
    "start_time": "2022-04-13T08:32:41.191Z"
   },
   {
    "duration": 29,
    "start_time": "2022-04-13T08:32:41.199Z"
   },
   {
    "duration": 8,
    "start_time": "2022-04-13T08:32:52.607Z"
   },
   {
    "duration": 9,
    "start_time": "2022-04-13T08:33:14.304Z"
   },
   {
    "duration": 168,
    "start_time": "2022-04-13T08:40:12.156Z"
   },
   {
    "duration": 11,
    "start_time": "2022-04-13T08:40:20.356Z"
   },
   {
    "duration": 15,
    "start_time": "2022-04-13T08:40:28.636Z"
   },
   {
    "duration": 9,
    "start_time": "2022-04-13T08:42:05.638Z"
   },
   {
    "duration": 9,
    "start_time": "2022-04-13T08:44:04.810Z"
   },
   {
    "duration": 3,
    "start_time": "2022-04-13T08:44:39.058Z"
   },
   {
    "duration": 3,
    "start_time": "2022-04-13T08:44:44.354Z"
   },
   {
    "duration": 4,
    "start_time": "2022-04-13T08:44:48.810Z"
   },
   {
    "duration": 3,
    "start_time": "2022-04-13T08:44:52.164Z"
   },
   {
    "duration": 3,
    "start_time": "2022-04-13T08:45:05.212Z"
   },
   {
    "duration": 4,
    "start_time": "2022-04-13T08:45:17.491Z"
   },
   {
    "duration": 3,
    "start_time": "2022-04-13T08:45:44.900Z"
   },
   {
    "duration": 9,
    "start_time": "2022-04-13T08:45:55.196Z"
   },
   {
    "duration": 8,
    "start_time": "2022-04-13T08:46:02.278Z"
   },
   {
    "duration": 8,
    "start_time": "2022-04-13T08:47:00.606Z"
   },
   {
    "duration": 8,
    "start_time": "2022-04-13T08:49:16.066Z"
   },
   {
    "duration": 9,
    "start_time": "2022-04-13T08:49:58.251Z"
   },
   {
    "duration": 1557,
    "start_time": "2022-04-13T10:44:36.449Z"
   },
   {
    "duration": 17,
    "start_time": "2022-04-13T10:44:38.008Z"
   },
   {
    "duration": 16,
    "start_time": "2022-04-13T10:44:38.027Z"
   },
   {
    "duration": 13,
    "start_time": "2022-04-13T10:44:38.046Z"
   },
   {
    "duration": 4,
    "start_time": "2022-04-13T10:44:38.061Z"
   },
   {
    "duration": 69,
    "start_time": "2022-04-13T10:44:38.067Z"
   },
   {
    "duration": 16,
    "start_time": "2022-04-13T10:44:38.138Z"
   },
   {
    "duration": 2093,
    "start_time": "2022-04-13T10:44:38.156Z"
   },
   {
    "duration": 1357,
    "start_time": "2022-04-13T10:44:40.251Z"
   },
   {
    "duration": 13,
    "start_time": "2022-04-13T10:44:41.610Z"
   },
   {
    "duration": 6,
    "start_time": "2022-04-13T10:44:41.625Z"
   },
   {
    "duration": 13,
    "start_time": "2022-04-13T10:44:41.633Z"
   },
   {
    "duration": 5,
    "start_time": "2022-04-13T10:44:41.647Z"
   },
   {
    "duration": 11,
    "start_time": "2022-04-13T10:44:41.653Z"
   },
   {
    "duration": 7,
    "start_time": "2022-04-13T10:44:41.666Z"
   },
   {
    "duration": 397,
    "start_time": "2022-04-13T10:44:41.675Z"
   },
   {
    "duration": 7,
    "start_time": "2022-04-13T10:44:42.073Z"
   },
   {
    "duration": 7,
    "start_time": "2022-04-13T10:44:42.082Z"
   },
   {
    "duration": 68,
    "start_time": "2022-04-13T10:44:42.091Z"
   },
   {
    "duration": 542,
    "start_time": "2022-04-13T10:44:42.161Z"
   },
   {
    "duration": 100120,
    "start_time": "2022-04-13T10:44:42.705Z"
   },
   {
    "duration": 905,
    "start_time": "2022-04-13T10:46:22.827Z"
   },
   {
    "duration": 16,
    "start_time": "2022-04-13T10:46:23.824Z"
   },
   {
    "duration": 3574,
    "start_time": "2022-04-13T10:46:23.842Z"
   },
   {
    "duration": 12,
    "start_time": "2022-04-13T10:46:27.419Z"
   },
   {
    "duration": 2511,
    "start_time": "2022-04-13T11:02:05.408Z"
   },
   {
    "duration": 168,
    "start_time": "2022-04-13T11:02:07.922Z"
   },
   {
    "duration": 22,
    "start_time": "2022-04-13T11:02:08.094Z"
   },
   {
    "duration": 22,
    "start_time": "2022-04-13T11:02:08.119Z"
   },
   {
    "duration": 13,
    "start_time": "2022-04-13T11:02:08.143Z"
   },
   {
    "duration": 62,
    "start_time": "2022-04-13T11:02:08.158Z"
   },
   {
    "duration": 33,
    "start_time": "2022-04-13T11:02:08.224Z"
   },
   {
    "duration": 2972,
    "start_time": "2022-04-13T11:02:08.259Z"
   },
   {
    "duration": 2150,
    "start_time": "2022-04-13T11:02:11.233Z"
   },
   {
    "duration": 22,
    "start_time": "2022-04-13T11:02:13.386Z"
   },
   {
    "duration": 9,
    "start_time": "2022-04-13T11:02:13.411Z"
   },
   {
    "duration": 24,
    "start_time": "2022-04-13T11:02:13.422Z"
   },
   {
    "duration": 9,
    "start_time": "2022-04-13T11:02:13.448Z"
   },
   {
    "duration": 39,
    "start_time": "2022-04-13T11:02:13.459Z"
   },
   {
    "duration": 12,
    "start_time": "2022-04-13T11:02:13.500Z"
   },
   {
    "duration": 542,
    "start_time": "2022-04-13T11:02:13.514Z"
   },
   {
    "duration": 9,
    "start_time": "2022-04-13T11:02:14.058Z"
   },
   {
    "duration": 8,
    "start_time": "2022-04-13T11:02:14.069Z"
   },
   {
    "duration": 79,
    "start_time": "2022-04-13T11:02:14.081Z"
   },
   {
    "duration": 753,
    "start_time": "2022-04-13T11:02:14.162Z"
   },
   {
    "duration": 1723,
    "start_time": "2022-04-14T09:04:40.656Z"
   },
   {
    "duration": 22,
    "start_time": "2022-04-14T09:04:42.381Z"
   },
   {
    "duration": 15,
    "start_time": "2022-04-14T09:04:42.404Z"
   },
   {
    "duration": 11,
    "start_time": "2022-04-14T09:04:42.420Z"
   },
   {
    "duration": 4,
    "start_time": "2022-04-14T09:04:42.433Z"
   },
   {
    "duration": 53,
    "start_time": "2022-04-14T09:04:42.439Z"
   },
   {
    "duration": 14,
    "start_time": "2022-04-14T09:04:42.493Z"
   },
   {
    "duration": 1895,
    "start_time": "2022-04-14T09:04:42.509Z"
   },
   {
    "duration": 1397,
    "start_time": "2022-04-14T09:04:44.405Z"
   },
   {
    "duration": 6,
    "start_time": "2022-04-14T09:04:45.803Z"
   },
   {
    "duration": 15,
    "start_time": "2022-04-14T09:04:45.811Z"
   },
   {
    "duration": 9,
    "start_time": "2022-04-14T09:04:45.828Z"
   },
   {
    "duration": 9,
    "start_time": "2022-04-14T09:04:45.839Z"
   },
   {
    "duration": 14,
    "start_time": "2022-04-14T09:04:45.851Z"
   },
   {
    "duration": 12,
    "start_time": "2022-04-14T09:04:45.866Z"
   },
   {
    "duration": 453,
    "start_time": "2022-04-14T09:04:45.879Z"
   },
   {
    "duration": 7,
    "start_time": "2022-04-14T09:04:46.333Z"
   },
   {
    "duration": 11,
    "start_time": "2022-04-14T09:04:46.341Z"
   },
   {
    "duration": 48,
    "start_time": "2022-04-14T09:04:46.354Z"
   },
   {
    "duration": 461,
    "start_time": "2022-04-14T09:04:46.403Z"
   },
   {
    "duration": 97211,
    "start_time": "2022-04-14T09:04:46.865Z"
   },
   {
    "duration": 1453,
    "start_time": "2022-04-14T09:06:24.077Z"
   },
   {
    "duration": 15,
    "start_time": "2022-04-14T09:06:25.532Z"
   },
   {
    "duration": 3565,
    "start_time": "2022-04-14T09:06:25.549Z"
   },
   {
    "duration": 13,
    "start_time": "2022-04-14T09:06:29.116Z"
   },
   {
    "duration": 2222,
    "start_time": "2022-04-14T15:49:07.527Z"
   },
   {
    "duration": 63,
    "start_time": "2022-04-14T15:49:09.751Z"
   },
   {
    "duration": 23,
    "start_time": "2022-04-14T15:49:09.816Z"
   },
   {
    "duration": 16,
    "start_time": "2022-04-14T15:49:09.842Z"
   },
   {
    "duration": 6,
    "start_time": "2022-04-14T15:49:09.860Z"
   },
   {
    "duration": 70,
    "start_time": "2022-04-14T15:49:09.868Z"
   },
   {
    "duration": 23,
    "start_time": "2022-04-14T15:49:09.940Z"
   },
   {
    "duration": 3127,
    "start_time": "2022-04-14T15:49:09.965Z"
   },
   {
    "duration": 2080,
    "start_time": "2022-04-14T15:49:13.094Z"
   },
   {
    "duration": 9,
    "start_time": "2022-04-14T15:49:15.179Z"
   },
   {
    "duration": 9,
    "start_time": "2022-04-14T15:49:15.191Z"
   },
   {
    "duration": 13,
    "start_time": "2022-04-14T15:49:15.202Z"
   },
   {
    "duration": 6,
    "start_time": "2022-04-14T15:49:15.217Z"
   },
   {
    "duration": 16,
    "start_time": "2022-04-14T15:49:15.225Z"
   },
   {
    "duration": 48,
    "start_time": "2022-04-14T15:49:15.243Z"
   },
   {
    "duration": 504,
    "start_time": "2022-04-14T15:49:15.294Z"
   },
   {
    "duration": 12,
    "start_time": "2022-04-14T15:49:15.800Z"
   },
   {
    "duration": 11,
    "start_time": "2022-04-14T15:49:15.814Z"
   },
   {
    "duration": 96,
    "start_time": "2022-04-14T15:49:15.827Z"
   },
   {
    "duration": 755,
    "start_time": "2022-04-14T15:49:15.926Z"
   },
   {
    "duration": 162487,
    "start_time": "2022-04-14T15:49:16.684Z"
   },
   {
    "duration": 2011,
    "start_time": "2022-04-14T15:51:59.181Z"
   },
   {
    "duration": 25,
    "start_time": "2022-04-14T15:52:01.195Z"
   },
   {
    "duration": 5741,
    "start_time": "2022-04-14T15:52:01.223Z"
   },
   {
    "duration": 256,
    "start_time": "2022-04-14T15:52:06.967Z"
   },
   {
    "duration": 332,
    "start_time": "2022-04-14T15:54:24.836Z"
   },
   {
    "duration": 366,
    "start_time": "2022-04-14T15:55:08.550Z"
   },
   {
    "duration": 7,
    "start_time": "2022-04-14T15:57:11.500Z"
   },
   {
    "duration": 6,
    "start_time": "2022-04-14T15:57:21.483Z"
   },
   {
    "duration": 17,
    "start_time": "2022-04-14T15:59:14.612Z"
   },
   {
    "duration": 17,
    "start_time": "2022-04-14T16:00:02.135Z"
   },
   {
    "duration": 10,
    "start_time": "2022-04-14T16:03:00.666Z"
   },
   {
    "duration": 13,
    "start_time": "2022-04-14T16:05:18.396Z"
   },
   {
    "duration": 6,
    "start_time": "2022-04-14T16:09:16.832Z"
   },
   {
    "duration": 605,
    "start_time": "2022-04-14T16:10:15.202Z"
   },
   {
    "duration": 1122,
    "start_time": "2022-04-14T16:10:38.954Z"
   },
   {
    "duration": 1268,
    "start_time": "2022-04-14T16:13:16.414Z"
   },
   {
    "duration": 860,
    "start_time": "2022-04-14T16:13:30.640Z"
   },
   {
    "duration": 121,
    "start_time": "2022-04-14T16:54:51.397Z"
   },
   {
    "duration": 11,
    "start_time": "2022-04-14T17:12:31.143Z"
   },
   {
    "duration": 11,
    "start_time": "2022-04-14T17:12:37.946Z"
   },
   {
    "duration": 16,
    "start_time": "2022-04-14T17:12:37.960Z"
   },
   {
    "duration": 8,
    "start_time": "2022-04-14T17:12:37.978Z"
   },
   {
    "duration": 22,
    "start_time": "2022-04-14T17:12:37.989Z"
   },
   {
    "duration": 11,
    "start_time": "2022-04-14T17:12:38.014Z"
   },
   {
    "duration": 543,
    "start_time": "2022-04-14T17:12:38.027Z"
   },
   {
    "duration": 16,
    "start_time": "2022-04-14T17:12:38.572Z"
   },
   {
    "duration": 9,
    "start_time": "2022-04-14T17:12:38.590Z"
   },
   {
    "duration": 12,
    "start_time": "2022-04-14T17:12:38.602Z"
   },
   {
    "duration": 812,
    "start_time": "2022-04-14T17:12:38.618Z"
   },
   {
    "duration": 165841,
    "start_time": "2022-04-14T17:12:39.432Z"
   },
   {
    "duration": 1914,
    "start_time": "2022-04-14T17:15:25.282Z"
   },
   {
    "duration": 32,
    "start_time": "2022-04-14T17:15:27.199Z"
   },
   {
    "duration": 5947,
    "start_time": "2022-04-14T17:15:27.234Z"
   },
   {
    "duration": 1517,
    "start_time": "2022-04-14T17:15:33.184Z"
   },
   {
    "duration": 919,
    "start_time": "2022-04-14T17:15:34.704Z"
   },
   {
    "duration": 14,
    "start_time": "2022-04-14T17:15:35.625Z"
   }
  ],
  "kernelspec": {
   "display_name": "Python 3",
   "language": "python",
   "name": "python3"
  },
  "language_info": {
   "codemirror_mode": {
    "name": "ipython",
    "version": 3
   },
   "file_extension": ".py",
   "mimetype": "text/x-python",
   "name": "python",
   "nbconvert_exporter": "python",
   "pygments_lexer": "ipython3",
   "version": "3.8.8"
  },
  "toc": {
   "base_numbering": 1,
   "nav_menu": {},
   "number_sections": true,
   "sideBar": true,
   "skip_h1_title": true,
   "title_cell": "Table of Contents",
   "title_sidebar": "Contents",
   "toc_cell": false,
   "toc_position": {},
   "toc_section_display": true,
   "toc_window_display": false
  }
 },
 "nbformat": 4,
 "nbformat_minor": 2
}
