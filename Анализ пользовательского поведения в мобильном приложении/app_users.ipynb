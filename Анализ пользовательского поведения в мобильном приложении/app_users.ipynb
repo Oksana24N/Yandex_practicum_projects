{
 "cells": [
  {
   "cell_type": "markdown",
   "id": "72f6b12a",
   "metadata": {},
   "source": [
    "# Анализ пользовательского поведения в мобильном приложении"
   ]
  },
  {
   "cell_type": "markdown",
   "id": "2a978767",
   "metadata": {},
   "source": [
    "Проект для стартапа, который продаёт продукты питания. Нужно разобраться, как ведут себя пользователи мобильного приложения.\n",
    "Дизайнеры захотели поменять шрифты во всём приложении. По результатам A/A/B-теста нужно решить какой шрифт лучше. Пользователей разбили на 3 группы: 2 контрольные со старыми шрифтами и одну экспериментальную — с новыми. \n",
    "\n",
    "**План работы:**\n",
    "\n",
    "- обзор и предобработка данных\n",
    "- исследовательский анализ событий и групп пользователей\n",
    "- А/В-тестирование\n",
    "\n",
    "**Описание данных**\n",
    "\n",
    "Каждая запись в логе — это действие пользователя, или событие.\n",
    "\n",
    "- EventName — название события;\n",
    "- DeviceIDHash — уникальный идентификатор пользователя;\n",
    "- EventTimestamp — время события;\n",
    "- ExpId — номер эксперимента: 246 и 247 — контрольные группы, а 248 — экспериментальная."
   ]
  },
  {
   "cell_type": "markdown",
   "id": "42443910",
   "metadata": {},
   "source": [
    "## Предобработка данных"
   ]
  },
  {
   "cell_type": "code",
   "execution_count": 1,
   "id": "1fd1d8ce",
   "metadata": {},
   "outputs": [],
   "source": [
    "import pandas as pd\n",
    "\n",
    "import warnings\n",
    "warnings.filterwarnings(\"ignore\")\n",
    "\n",
    "import matplotlib.pyplot as plt\n",
    "import seaborn as sns\n",
    "import plotly.express as px\n",
    "from plotly import graph_objects as go\n",
    "\n",
    "from io import BytesIO\n",
    "import requests\n",
    "\n",
    "from scipy import stats as st\n",
    "import numpy as np\n",
    "import math as mth"
   ]
  },
  {
   "cell_type": "code",
   "execution_count": 2,
   "id": "fa7a3305",
   "metadata": {},
   "outputs": [
    {
     "data": {
      "text/html": [
       "<div>\n",
       "<style scoped>\n",
       "    .dataframe tbody tr th:only-of-type {\n",
       "        vertical-align: middle;\n",
       "    }\n",
       "\n",
       "    .dataframe tbody tr th {\n",
       "        vertical-align: top;\n",
       "    }\n",
       "\n",
       "    .dataframe thead th {\n",
       "        text-align: right;\n",
       "    }\n",
       "</style>\n",
       "<table border=\"1\" class=\"dataframe\">\n",
       "  <thead>\n",
       "    <tr style=\"text-align: right;\">\n",
       "      <th></th>\n",
       "      <th>EventName</th>\n",
       "      <th>DeviceIDHash</th>\n",
       "      <th>EventTimestamp</th>\n",
       "      <th>ExpId</th>\n",
       "    </tr>\n",
       "  </thead>\n",
       "  <tbody>\n",
       "    <tr>\n",
       "      <th>0</th>\n",
       "      <td>MainScreenAppear</td>\n",
       "      <td>4575588528974610257</td>\n",
       "      <td>1564029816</td>\n",
       "      <td>246</td>\n",
       "    </tr>\n",
       "    <tr>\n",
       "      <th>1</th>\n",
       "      <td>MainScreenAppear</td>\n",
       "      <td>7416695313311560658</td>\n",
       "      <td>1564053102</td>\n",
       "      <td>246</td>\n",
       "    </tr>\n",
       "    <tr>\n",
       "      <th>2</th>\n",
       "      <td>PaymentScreenSuccessful</td>\n",
       "      <td>3518123091307005509</td>\n",
       "      <td>1564054127</td>\n",
       "      <td>248</td>\n",
       "    </tr>\n",
       "    <tr>\n",
       "      <th>3</th>\n",
       "      <td>CartScreenAppear</td>\n",
       "      <td>3518123091307005509</td>\n",
       "      <td>1564054127</td>\n",
       "      <td>248</td>\n",
       "    </tr>\n",
       "    <tr>\n",
       "      <th>4</th>\n",
       "      <td>PaymentScreenSuccessful</td>\n",
       "      <td>6217807653094995999</td>\n",
       "      <td>1564055322</td>\n",
       "      <td>248</td>\n",
       "    </tr>\n",
       "  </tbody>\n",
       "</table>\n",
       "</div>"
      ],
      "text/plain": [
       "                 EventName         DeviceIDHash  EventTimestamp  ExpId\n",
       "0         MainScreenAppear  4575588528974610257      1564029816    246\n",
       "1         MainScreenAppear  7416695313311560658      1564053102    246\n",
       "2  PaymentScreenSuccessful  3518123091307005509      1564054127    248\n",
       "3         CartScreenAppear  3518123091307005509      1564054127    248\n",
       "4  PaymentScreenSuccessful  6217807653094995999      1564055322    248"
      ]
     },
     "execution_count": 2,
     "metadata": {},
     "output_type": "execute_result"
    }
   ],
   "source": [
    "spreadsheet_id = 'XXX'\n",
    "file_name = 'https://docs.google.com/spreadsheets/d/{}/export?format=csv'.format(spreadsheet_id)\n",
    "\n",
    "r = requests.get(file_name)\n",
    "df = pd.read_csv(BytesIO(r.content))\n",
    "df.head()"
   ]
  },
  {
   "cell_type": "code",
   "execution_count": 3,
   "id": "01addc9a",
   "metadata": {},
   "outputs": [],
   "source": [
    "df.columns = ['event', 'device', 'event_timestamp', 'exp'] #заменим название колонок"
   ]
  },
  {
   "cell_type": "code",
   "execution_count": 4,
   "id": "ae5caf3d",
   "metadata": {},
   "outputs": [
    {
     "name": "stdout",
     "output_type": "stream",
     "text": [
      "<class 'pandas.core.frame.DataFrame'>\n",
      "RangeIndex: 244126 entries, 0 to 244125\n",
      "Data columns (total 4 columns):\n",
      " #   Column           Non-Null Count   Dtype \n",
      "---  ------           --------------   ----- \n",
      " 0   event            244126 non-null  object\n",
      " 1   device           244126 non-null  object\n",
      " 2   event_timestamp  244126 non-null  int64 \n",
      " 3   exp              244126 non-null  int64 \n",
      "dtypes: int64(2), object(2)\n",
      "memory usage: 7.5+ MB\n"
     ]
    }
   ],
   "source": [
    "df.info()"
   ]
  },
  {
   "cell_type": "markdown",
   "id": "92c7efe1",
   "metadata": {},
   "source": [
    "В таблице нет пропущенных значений. Добавим новый столбец с датой"
   ]
  },
  {
   "cell_type": "code",
   "execution_count": 5,
   "id": "bffae2e5",
   "metadata": {},
   "outputs": [],
   "source": [
    "df['dt'] = pd.to_datetime(df['event_timestamp'], unit='s')"
   ]
  },
  {
   "cell_type": "code",
   "execution_count": 6,
   "id": "96a30a2f",
   "metadata": {},
   "outputs": [
    {
     "name": "stdout",
     "output_type": "stream",
     "text": [
      "<class 'pandas.core.frame.DataFrame'>\n",
      "RangeIndex: 244126 entries, 0 to 244125\n",
      "Data columns (total 5 columns):\n",
      " #   Column           Non-Null Count   Dtype         \n",
      "---  ------           --------------   -----         \n",
      " 0   event            244126 non-null  object        \n",
      " 1   device           244126 non-null  object        \n",
      " 2   event_timestamp  244126 non-null  int64         \n",
      " 3   exp              244126 non-null  int64         \n",
      " 4   dt               244126 non-null  datetime64[ns]\n",
      "dtypes: datetime64[ns](1), int64(2), object(2)\n",
      "memory usage: 9.3+ MB\n"
     ]
    }
   ],
   "source": [
    "df.info()"
   ]
  },
  {
   "cell_type": "code",
   "execution_count": 7,
   "id": "5ea5fcb0",
   "metadata": {},
   "outputs": [
    {
     "data": {
      "text/html": [
       "<div>\n",
       "<style scoped>\n",
       "    .dataframe tbody tr th:only-of-type {\n",
       "        vertical-align: middle;\n",
       "    }\n",
       "\n",
       "    .dataframe tbody tr th {\n",
       "        vertical-align: top;\n",
       "    }\n",
       "\n",
       "    .dataframe thead th {\n",
       "        text-align: right;\n",
       "    }\n",
       "</style>\n",
       "<table border=\"1\" class=\"dataframe\">\n",
       "  <thead>\n",
       "    <tr style=\"text-align: right;\">\n",
       "      <th></th>\n",
       "      <th>event</th>\n",
       "      <th>device</th>\n",
       "      <th>event_timestamp</th>\n",
       "      <th>exp</th>\n",
       "      <th>dt</th>\n",
       "    </tr>\n",
       "  </thead>\n",
       "  <tbody>\n",
       "    <tr>\n",
       "      <th>0</th>\n",
       "      <td>MainScreenAppear</td>\n",
       "      <td>4575588528974610257</td>\n",
       "      <td>1564029816</td>\n",
       "      <td>246</td>\n",
       "      <td>2019-07-25 04:43:36</td>\n",
       "    </tr>\n",
       "    <tr>\n",
       "      <th>1</th>\n",
       "      <td>MainScreenAppear</td>\n",
       "      <td>7416695313311560658</td>\n",
       "      <td>1564053102</td>\n",
       "      <td>246</td>\n",
       "      <td>2019-07-25 11:11:42</td>\n",
       "    </tr>\n",
       "    <tr>\n",
       "      <th>2</th>\n",
       "      <td>PaymentScreenSuccessful</td>\n",
       "      <td>3518123091307005509</td>\n",
       "      <td>1564054127</td>\n",
       "      <td>248</td>\n",
       "      <td>2019-07-25 11:28:47</td>\n",
       "    </tr>\n",
       "    <tr>\n",
       "      <th>3</th>\n",
       "      <td>CartScreenAppear</td>\n",
       "      <td>3518123091307005509</td>\n",
       "      <td>1564054127</td>\n",
       "      <td>248</td>\n",
       "      <td>2019-07-25 11:28:47</td>\n",
       "    </tr>\n",
       "    <tr>\n",
       "      <th>4</th>\n",
       "      <td>PaymentScreenSuccessful</td>\n",
       "      <td>6217807653094995999</td>\n",
       "      <td>1564055322</td>\n",
       "      <td>248</td>\n",
       "      <td>2019-07-25 11:48:42</td>\n",
       "    </tr>\n",
       "  </tbody>\n",
       "</table>\n",
       "</div>"
      ],
      "text/plain": [
       "                     event               device  event_timestamp  exp  \\\n",
       "0         MainScreenAppear  4575588528974610257       1564029816  246   \n",
       "1         MainScreenAppear  7416695313311560658       1564053102  246   \n",
       "2  PaymentScreenSuccessful  3518123091307005509       1564054127  248   \n",
       "3         CartScreenAppear  3518123091307005509       1564054127  248   \n",
       "4  PaymentScreenSuccessful  6217807653094995999       1564055322  248   \n",
       "\n",
       "                   dt  \n",
       "0 2019-07-25 04:43:36  \n",
       "1 2019-07-25 11:11:42  \n",
       "2 2019-07-25 11:28:47  \n",
       "3 2019-07-25 11:28:47  \n",
       "4 2019-07-25 11:48:42  "
      ]
     },
     "execution_count": 7,
     "metadata": {},
     "output_type": "execute_result"
    }
   ],
   "source": [
    "df.head()"
   ]
  },
  {
   "cell_type": "code",
   "execution_count": 8,
   "id": "14355e20",
   "metadata": {},
   "outputs": [
    {
     "name": "stdout",
     "output_type": "stream",
     "text": [
      "Дубликатов в таблице: 413\n"
     ]
    }
   ],
   "source": [
    "print ('Дубликатов в таблице:', df.duplicated().sum())"
   ]
  },
  {
   "cell_type": "markdown",
   "id": "32dbd3c4",
   "metadata": {},
   "source": [
    "Так как дубликаты составляют незначительную часть данных, удалим их методом `drop_duplicates()`"
   ]
  },
  {
   "cell_type": "code",
   "execution_count": 9,
   "id": "ff166821",
   "metadata": {},
   "outputs": [],
   "source": [
    "df = df.drop_duplicates()"
   ]
  },
  {
   "cell_type": "code",
   "execution_count": 10,
   "id": "c84c2ac5",
   "metadata": {},
   "outputs": [],
   "source": [
    "df['date'] = df['dt'].dt.date #добавим столбец с датой"
   ]
  },
  {
   "cell_type": "markdown",
   "id": "f0a86ddd",
   "metadata": {},
   "source": [
    "## Исследовательский анализ данных"
   ]
  },
  {
   "cell_type": "markdown",
   "id": "14c32e83",
   "metadata": {},
   "source": [
    "Ознакомимся с общей информацией о пользователях и событиях"
   ]
  },
  {
   "cell_type": "code",
   "execution_count": 11,
   "id": "7aef7e96",
   "metadata": {},
   "outputs": [
    {
     "name": "stdout",
     "output_type": "stream",
     "text": [
      "Всего событий в логе: 243713\n"
     ]
    }
   ],
   "source": [
    "logs = len(df)\n",
    "print('Всего событий в логе:', logs)"
   ]
  },
  {
   "cell_type": "code",
   "execution_count": 12,
   "id": "943b82a6",
   "metadata": {},
   "outputs": [],
   "source": [
    "users = len(df.groupby('device').agg({'device': 'nunique', 'event': 'nunique'}))\n"
   ]
  },
  {
   "cell_type": "code",
   "execution_count": 13,
   "id": "97fa38eb",
   "metadata": {},
   "outputs": [
    {
     "name": "stdout",
     "output_type": "stream",
     "text": [
      "Всего пользователей в логе: 7551\n"
     ]
    }
   ],
   "source": [
    "print('Всего пользователей в логе:', users)"
   ]
  },
  {
   "cell_type": "code",
   "execution_count": 14,
   "id": "3c9a5a80",
   "metadata": {},
   "outputs": [
    {
     "name": "stdout",
     "output_type": "stream",
     "text": [
      "Событий в среднем на пользователя: 2.67\n"
     ]
    }
   ],
   "source": [
    "print('Событий в среднем на пользователя:', '{:.2f}'.format(\n",
    "    df.groupby('device').agg({'device': 'nunique', 'event': 'nunique'})['event'].mean()\n",
    ")\n",
    "     )"
   ]
  },
  {
   "cell_type": "code",
   "execution_count": 15,
   "id": "d5a13f72",
   "metadata": {},
   "outputs": [
    {
     "name": "stdout",
     "output_type": "stream",
     "text": [
      "Минимальная дата: 2019-07-25 04:43:36\n"
     ]
    }
   ],
   "source": [
    "print('Минимальная дата:',df['dt'].min())"
   ]
  },
  {
   "cell_type": "code",
   "execution_count": 16,
   "id": "5dfffba0",
   "metadata": {},
   "outputs": [
    {
     "name": "stdout",
     "output_type": "stream",
     "text": [
      "Максимальная дата: 2019-08-07 21:15:17\n"
     ]
    }
   ],
   "source": [
    "print('Максимальная дата:',df['dt'].max())"
   ]
  },
  {
   "cell_type": "markdown",
   "id": "e51e2d2f",
   "metadata": {},
   "source": [
    "Рассмотрим распределение событий по датам"
   ]
  },
  {
   "cell_type": "code",
   "execution_count": 17,
   "id": "f1184934",
   "metadata": {},
   "outputs": [],
   "source": [
    "temp = df.groupby('date').agg({'event': 'count'}).reset_index()"
   ]
  },
  {
   "cell_type": "code",
   "execution_count": 18,
   "id": "c9ffb825",
   "metadata": {},
   "outputs": [
    {
     "data": {
      "image/png": "[encoded data removed]",
      "text/plain": [
       "<Figure size 1440x432 with 1 Axes>"
      ]
     },
     "metadata": {
      "needs_background": "light"
     },
     "output_type": "display_data"
    }
   ],
   "source": [
    "plt.subplots(figsize=(20, 6))\n",
    "\n",
    "sns.barplot(x=\"date\", y=\"event\", data=temp,\n",
    "            label=\"Total\")\n",
    "plt.title('Распределение событий по датам')\n",
    "plt.ylabel('Количество событий')\n",
    "plt.xlabel('Дата')\n",
    "\n",
    "\n",
    "plt.show()"
   ]
  },
  {
   "cell_type": "code",
   "execution_count": 19,
   "id": "5882a11e",
   "metadata": {},
   "outputs": [
    {
     "data": {
      "text/html": [
       "<div>\n",
       "<style scoped>\n",
       "    .dataframe tbody tr th:only-of-type {\n",
       "        vertical-align: middle;\n",
       "    }\n",
       "\n",
       "    .dataframe tbody tr th {\n",
       "        vertical-align: top;\n",
       "    }\n",
       "\n",
       "    .dataframe thead th {\n",
       "        text-align: right;\n",
       "    }\n",
       "</style>\n",
       "<table border=\"1\" class=\"dataframe\">\n",
       "  <thead>\n",
       "    <tr style=\"text-align: right;\">\n",
       "      <th></th>\n",
       "      <th>date</th>\n",
       "      <th>event</th>\n",
       "    </tr>\n",
       "  </thead>\n",
       "  <tbody>\n",
       "    <tr>\n",
       "      <th>0</th>\n",
       "      <td>2019-07-25</td>\n",
       "      <td>9</td>\n",
       "    </tr>\n",
       "    <tr>\n",
       "      <th>1</th>\n",
       "      <td>2019-07-26</td>\n",
       "      <td>31</td>\n",
       "    </tr>\n",
       "    <tr>\n",
       "      <th>2</th>\n",
       "      <td>2019-07-27</td>\n",
       "      <td>55</td>\n",
       "    </tr>\n",
       "    <tr>\n",
       "      <th>3</th>\n",
       "      <td>2019-07-28</td>\n",
       "      <td>105</td>\n",
       "    </tr>\n",
       "    <tr>\n",
       "      <th>4</th>\n",
       "      <td>2019-07-29</td>\n",
       "      <td>184</td>\n",
       "    </tr>\n",
       "    <tr>\n",
       "      <th>5</th>\n",
       "      <td>2019-07-30</td>\n",
       "      <td>412</td>\n",
       "    </tr>\n",
       "    <tr>\n",
       "      <th>6</th>\n",
       "      <td>2019-07-31</td>\n",
       "      <td>2030</td>\n",
       "    </tr>\n",
       "    <tr>\n",
       "      <th>7</th>\n",
       "      <td>2019-08-01</td>\n",
       "      <td>36141</td>\n",
       "    </tr>\n",
       "    <tr>\n",
       "      <th>8</th>\n",
       "      <td>2019-08-02</td>\n",
       "      <td>35554</td>\n",
       "    </tr>\n",
       "    <tr>\n",
       "      <th>9</th>\n",
       "      <td>2019-08-03</td>\n",
       "      <td>33282</td>\n",
       "    </tr>\n",
       "    <tr>\n",
       "      <th>10</th>\n",
       "      <td>2019-08-04</td>\n",
       "      <td>32968</td>\n",
       "    </tr>\n",
       "    <tr>\n",
       "      <th>11</th>\n",
       "      <td>2019-08-05</td>\n",
       "      <td>36058</td>\n",
       "    </tr>\n",
       "    <tr>\n",
       "      <th>12</th>\n",
       "      <td>2019-08-06</td>\n",
       "      <td>35788</td>\n",
       "    </tr>\n",
       "    <tr>\n",
       "      <th>13</th>\n",
       "      <td>2019-08-07</td>\n",
       "      <td>31096</td>\n",
       "    </tr>\n",
       "  </tbody>\n",
       "</table>\n",
       "</div>"
      ],
      "text/plain": [
       "          date  event\n",
       "0   2019-07-25      9\n",
       "1   2019-07-26     31\n",
       "2   2019-07-27     55\n",
       "3   2019-07-28    105\n",
       "4   2019-07-29    184\n",
       "5   2019-07-30    412\n",
       "6   2019-07-31   2030\n",
       "7   2019-08-01  36141\n",
       "8   2019-08-02  35554\n",
       "9   2019-08-03  33282\n",
       "10  2019-08-04  32968\n",
       "11  2019-08-05  36058\n",
       "12  2019-08-06  35788\n",
       "13  2019-08-07  31096"
      ]
     },
     "execution_count": 19,
     "metadata": {},
     "output_type": "execute_result"
    }
   ],
   "source": [
    "temp"
   ]
  },
  {
   "cell_type": "markdown",
   "id": "960b8cc2",
   "metadata": {},
   "source": [
    "График показывает, что до 1 августа событий было гораздо меньше. Чтобы корректно оценить поведение пользователей, оставим логи, зарегистрированные 1 августа и позже. Рассмотри насколько изменились данные"
   ]
  },
  {
   "cell_type": "code",
   "execution_count": 20,
   "id": "33f83810",
   "metadata": {},
   "outputs": [],
   "source": [
    "df = df.query('dt >= \"2019-08-01\"')"
   ]
  },
  {
   "cell_type": "code",
   "execution_count": 21,
   "id": "fb13db77",
   "metadata": {},
   "outputs": [
    {
     "name": "stdout",
     "output_type": "stream",
     "text": [
      "Всего событий в логе после фильтрации: 240887 что составляет  98.84 % от общего количества\n"
     ]
    }
   ],
   "source": [
    "print('Всего событий в логе после фильтрации:', len(df), 'что составляет ', round(len(df) / logs * 100, 2), '% от общего количества')\n"
   ]
  },
  {
   "cell_type": "code",
   "execution_count": 22,
   "id": "f6b1664a",
   "metadata": {
    "scrolled": true
   },
   "outputs": [
    {
     "name": "stdout",
     "output_type": "stream",
     "text": [
      "Всего пользователей в логе после фильтрации: 7534 что составляет  99.77 % от общего количества\n"
     ]
    }
   ],
   "source": [
    "users_total = len(df.groupby('device').agg({'device': 'nunique', 'event': 'nunique'}))\n",
    "print('Всего пользователей в логе после фильтрации:', users_total, 'что составляет ', round(users_total / users * 100, 2), '% от общего количества')"
   ]
  },
  {
   "cell_type": "markdown",
   "id": "48a549bd",
   "metadata": {},
   "source": [
    "Основная часть данных сохранилась. Рассмотрим количество пользователей в группах"
   ]
  },
  {
   "cell_type": "code",
   "execution_count": 23,
   "id": "c4ca0093",
   "metadata": {},
   "outputs": [
    {
     "data": {
      "text/html": [
       "<div>\n",
       "<style scoped>\n",
       "    .dataframe tbody tr th:only-of-type {\n",
       "        vertical-align: middle;\n",
       "    }\n",
       "\n",
       "    .dataframe tbody tr th {\n",
       "        vertical-align: top;\n",
       "    }\n",
       "\n",
       "    .dataframe thead th {\n",
       "        text-align: right;\n",
       "    }\n",
       "</style>\n",
       "<table border=\"1\" class=\"dataframe\">\n",
       "  <thead>\n",
       "    <tr style=\"text-align: right;\">\n",
       "      <th></th>\n",
       "      <th>device</th>\n",
       "      <th>part</th>\n",
       "    </tr>\n",
       "    <tr>\n",
       "      <th>exp</th>\n",
       "      <th></th>\n",
       "      <th></th>\n",
       "    </tr>\n",
       "  </thead>\n",
       "  <tbody>\n",
       "    <tr>\n",
       "      <th>246</th>\n",
       "      <td>2484</td>\n",
       "      <td>33.0</td>\n",
       "    </tr>\n",
       "    <tr>\n",
       "      <th>247</th>\n",
       "      <td>2513</td>\n",
       "      <td>33.0</td>\n",
       "    </tr>\n",
       "    <tr>\n",
       "      <th>248</th>\n",
       "      <td>2537</td>\n",
       "      <td>34.0</td>\n",
       "    </tr>\n",
       "  </tbody>\n",
       "</table>\n",
       "</div>"
      ],
      "text/plain": [
       "     device  part\n",
       "exp              \n",
       "246    2484  33.0\n",
       "247    2513  33.0\n",
       "248    2537  34.0"
      ]
     },
     "execution_count": 23,
     "metadata": {},
     "output_type": "execute_result"
    }
   ],
   "source": [
    "groups = df.groupby('exp').agg({'device': 'nunique'})\n",
    "groups['part'] = round(groups['device'] / users_total * 100)\n",
    "groups"
   ]
  },
  {
   "cell_type": "markdown",
   "id": "bebfabba",
   "metadata": {},
   "source": [
    "Во всех группах есть пользователи и разница в долях этих групп не более 1%, значит, пользователи для теста набирались достаточно оптимально.  "
   ]
  },
  {
   "cell_type": "markdown",
   "id": "fc379158",
   "metadata": {},
   "source": [
    "### Вывод\n",
    "\n",
    "Исследовательский анализ данных показал, что события реистрировались в период с 25.07.2019 по 07.08.2019. Всего было зарегитрировано 243713 событий и 7551 пользователь. Распределение событий по датам показало,что тестирование началось 1 августа. Чтобы корректно оценить поведение пользователей были удалены события, зарегистрированные до этой даты. Доля отильтрованных данных составила 1,16% от общего количества логов и 0,23% от общего количества пользователей. Пользователи поделены на три примерно равнозначные группы, значит тестирование можно считать корректным"
   ]
  },
  {
   "cell_type": "markdown",
   "id": "d3bd1e76",
   "metadata": {},
   "source": [
    "## Воронка событий"
   ]
  },
  {
   "cell_type": "markdown",
   "id": "f0f845ed",
   "metadata": {},
   "source": [
    "Изучим воронку событий.  Посмотрим какие события есть в логах, как часто они встречаются. Посчитаем сколько пользователей совершали каждое из этих событий. Посчитаем долю пользователей, которые хоть раз совершали событие."
   ]
  },
  {
   "cell_type": "code",
   "execution_count": 24,
   "id": "887e2ee5",
   "metadata": {},
   "outputs": [
    {
     "data": {
      "text/html": [
       "<style  type=\"text/css\" >\n",
       "</style><table id=\"T_ed9f2_\" ><thead>    <tr>        <th class=\"blank level0\" ></th>        <th class=\"col_heading level0 col0\" >Событие</th>        <th class=\"col_heading level0 col1\" >Всего событий</th>        <th class=\"col_heading level0 col2\" >Всего пользователей</th>        <th class=\"col_heading level0 col3\" >% пользователей</th>    </tr></thead><tbody>\n",
       "                <tr>\n",
       "                        <th id=\"T_ed9f2_level0_row0\" class=\"row_heading level0 row0\" >1</th>\n",
       "                        <td id=\"T_ed9f2_row0_col0\" class=\"data row0 col0\" >MainScreenAppear</td>\n",
       "                        <td id=\"T_ed9f2_row0_col1\" class=\"data row0 col1\" >117328</td>\n",
       "                        <td id=\"T_ed9f2_row0_col2\" class=\"data row0 col2\" >7419</td>\n",
       "                        <td id=\"T_ed9f2_row0_col3\" class=\"data row0 col3\" >98.47%</td>\n",
       "            </tr>\n",
       "            <tr>\n",
       "                        <th id=\"T_ed9f2_level0_row1\" class=\"row_heading level0 row1\" >2</th>\n",
       "                        <td id=\"T_ed9f2_row1_col0\" class=\"data row1 col0\" >OffersScreenAppear</td>\n",
       "                        <td id=\"T_ed9f2_row1_col1\" class=\"data row1 col1\" >46333</td>\n",
       "                        <td id=\"T_ed9f2_row1_col2\" class=\"data row1 col2\" >4593</td>\n",
       "                        <td id=\"T_ed9f2_row1_col3\" class=\"data row1 col3\" >60.96%</td>\n",
       "            </tr>\n",
       "            <tr>\n",
       "                        <th id=\"T_ed9f2_level0_row2\" class=\"row_heading level0 row2\" >0</th>\n",
       "                        <td id=\"T_ed9f2_row2_col0\" class=\"data row2 col0\" >CartScreenAppear</td>\n",
       "                        <td id=\"T_ed9f2_row2_col1\" class=\"data row2 col1\" >42303</td>\n",
       "                        <td id=\"T_ed9f2_row2_col2\" class=\"data row2 col2\" >3734</td>\n",
       "                        <td id=\"T_ed9f2_row2_col3\" class=\"data row2 col3\" >49.56%</td>\n",
       "            </tr>\n",
       "            <tr>\n",
       "                        <th id=\"T_ed9f2_level0_row3\" class=\"row_heading level0 row3\" >3</th>\n",
       "                        <td id=\"T_ed9f2_row3_col0\" class=\"data row3 col0\" >PaymentScreenSuccessful</td>\n",
       "                        <td id=\"T_ed9f2_row3_col1\" class=\"data row3 col1\" >33918</td>\n",
       "                        <td id=\"T_ed9f2_row3_col2\" class=\"data row3 col2\" >3539</td>\n",
       "                        <td id=\"T_ed9f2_row3_col3\" class=\"data row3 col3\" >46.97%</td>\n",
       "            </tr>\n",
       "            <tr>\n",
       "                        <th id=\"T_ed9f2_level0_row4\" class=\"row_heading level0 row4\" >4</th>\n",
       "                        <td id=\"T_ed9f2_row4_col0\" class=\"data row4 col0\" >Tutorial</td>\n",
       "                        <td id=\"T_ed9f2_row4_col1\" class=\"data row4 col1\" >1005</td>\n",
       "                        <td id=\"T_ed9f2_row4_col2\" class=\"data row4 col2\" >840</td>\n",
       "                        <td id=\"T_ed9f2_row4_col3\" class=\"data row4 col3\" >11.15%</td>\n",
       "            </tr>\n",
       "    </tbody></table>"
      ],
      "text/plain": [
       "<pandas.io.formats.style.Styler at 0x7f74805b46a0>"
      ]
     },
     "execution_count": 24,
     "metadata": {},
     "output_type": "execute_result"
    }
   ],
   "source": [
    "ev_grouped = df.groupby('event').agg({'device': ['count', 'nunique']}).reset_index()\n",
    "ev_grouped.columns = ['Событие', 'Всего событий', 'Всего пользователей']\n",
    "ev_grouped['% пользователей'] = ev_grouped['Всего пользователей'] / users_total\n",
    "ev_grouped = ev_grouped.sort_values(by='Всего пользователей', ascending=False)\n",
    "ev_grouped.style.format({'% пользователей': '{:.2%}'})"
   ]
  },
  {
   "cell_type": "code",
   "execution_count": 25,
   "id": "447d980c",
   "metadata": {},
   "outputs": [],
   "source": [
    "ev_grouped = ev_grouped.loc[:3]"
   ]
  },
  {
   "cell_type": "code",
   "execution_count": 26,
   "id": "a093c97f",
   "metadata": {},
   "outputs": [
    {
     "data": {
      "image/svg+xml": [
       "<svg class=\"main-svg\" xmlns=\"http://www.w3.org/2000/svg\" xmlns:xlink=\"http://www.w3.org/1999/xlink\" width=\"700\" height=\"500\" style=\"\" viewBox=\"0 0 700 500\"><rect x=\"0\" y=\"0\" width=\"700\" height=\"500\" style=\"fill: rgb(255, 255, 255); fill-opacity: 1;\"/><defs id=\"defs-57300d\"><g class=\"clips\"><clipPath id=\"clip57300dxyplot\" class=\"plotclip\"><rect width=\"464\" height=\"320\"/></clipPath><clipPath class=\"axesclip\" id=\"clip57300dx\"><rect x=\"156\" y=\"0\" width=\"464\" height=\"500\"/></clipPath><clipPath class=\"axesclip\" id=\"clip57300dy\"><rect x=\"0\" y=\"100\" width=\"700\" height=\"320\"/></clipPath><clipPath class=\"axesclip\" id=\"clip57300dxy\"><rect x=\"156\" y=\"100\" width=\"464\" height=\"320\"/></clipPath></g><g class=\"gradients\"/><g class=\"patterns\"/></defs><g class=\"bglayer\"><rect class=\"bg\" x=\"156\" y=\"100\" width=\"464\" height=\"320\" style=\"fill: rgb(229, 236, 246); fill-opacity: 1; stroke-width: 0;\"/></g><g class=\"layer-below\"><g class=\"imagelayer\"/><g class=\"shapelayer\"/></g><g class=\"cartesianlayer\"><g class=\"subplot xy\"><g class=\"layer-subplot\"><g class=\"shapelayer\"/><g class=\"imagelayer\"/></g><g class=\"gridlayer\"><g class=\"x\"/><g class=\"y\"/></g><g class=\"zerolinelayer\"/><path class=\"xlines-below\"/><path class=\"ylines-below\"/><g class=\"overlines-below\"/><g class=\"xaxislayer-below\"/><g class=\"yaxislayer-below\"/><g class=\"overaxes-below\"/><g class=\"plot\" transform=\"translate(156,100)\" clip-path=\"url(#clip57300dxyplot)\"><g class=\"funnellayer mlayer\"><g class=\"trace bars\" style=\"opacity: 1;\"><g class=\"regions\"><g class=\"region\"><path d=\"M23.2,72L102.73,88H361.27L440.8,72Z\" style=\"stroke-width: 0; fill: rgb(99, 110, 250); fill-opacity: 0.5;\"/></g><g class=\"region\"><path d=\"M102.73,152L126.91,168H337.09L361.27,152Z\" style=\"stroke-width: 0; fill: rgb(99, 110, 250); fill-opacity: 0.5;\"/></g><g class=\"region\"><path d=\"M126.91,232L132.4,248H331.6L337.09,232Z\" style=\"stroke-width: 0; fill: rgb(99, 110, 250); fill-opacity: 0.5;\"/></g><g class=\"region\"><path d=\"M0,0Z\" style=\"stroke-width: 0; fill: rgb(99, 110, 250); fill-opacity: 0.5;\"/></g></g><g class=\"points\"><g class=\"point\"><path d=\"M23.2,8V72H440.8V8Z\" style=\"vector-effect: non-scaling-stroke; fill: rgb(99, 110, 250); fill-opacity: 1; stroke: rgb(68, 68, 68); stroke-opacity: 1; stroke-width: 0px; opacity: 1;\"/><text class=\"bartext bartext-inside\" text-anchor=\"middle\" data-notex=\"1\" x=\"0\" y=\"0\" style=\"font-family: 'Open Sans', verdana, arial, sans-serif; font-size: 12px; fill: rgb(255, 255, 255); fill-opacity: 1; white-space: pre;\" transform=\"translate(231.8359375,36.1953125)\"><tspan class=\"line\" dy=\"0em\" x=\"0\" y=\"0\">7419</tspan><tspan class=\"line\" dy=\"1.3em\" x=\"0\" y=\"0\">100%</tspan></text></g><g class=\"point\"><path d=\"M102.73,88V152H361.27V88Z\" style=\"vector-effect: non-scaling-stroke; fill: rgb(99, 110, 250); fill-opacity: 1; stroke: rgb(68, 68, 68); stroke-opacity: 1; stroke-width: 0px; opacity: 1;\"/><text class=\"bartext bartext-inside\" text-anchor=\"middle\" data-notex=\"1\" x=\"0\" y=\"0\" style=\"font-family: 'Open Sans', verdana, arial, sans-serif; font-size: 12px; fill: rgb(255, 255, 255); fill-opacity: 1; white-space: pre;\" transform=\"translate(231.8359375,116.1953125)\"><tspan class=\"line\" dy=\"0em\" x=\"0\" y=\"0\">4593</tspan><tspan class=\"line\" dy=\"1.3em\" x=\"0\" y=\"0\">62%</tspan></text></g><g class=\"point\"><path d=\"M126.91,168V232H337.09V168Z\" style=\"vector-effect: non-scaling-stroke; fill: rgb(99, 110, 250); fill-opacity: 1; stroke: rgb(68, 68, 68); stroke-opacity: 1; stroke-width: 0px; opacity: 1;\"/><text class=\"bartext bartext-inside\" text-anchor=\"middle\" data-notex=\"1\" x=\"0\" y=\"0\" style=\"font-family: 'Open Sans', verdana, arial, sans-serif; font-size: 12px; fill: rgb(255, 255, 255); fill-opacity: 1; white-space: pre;\" transform=\"translate(231.8359375,196.1953125)\"><tspan class=\"line\" dy=\"0em\" x=\"0\" y=\"0\">3734</tspan><tspan class=\"line\" dy=\"1.3em\" x=\"0\" y=\"0\">50%</tspan></text></g><g class=\"point\"><path d=\"M132.4,248V312H331.6V248Z\" style=\"vector-effect: non-scaling-stroke; fill: rgb(99, 110, 250); fill-opacity: 1; stroke: rgb(68, 68, 68); stroke-opacity: 1; stroke-width: 0px; opacity: 1;\"/><text class=\"bartext bartext-inside\" text-anchor=\"middle\" data-notex=\"1\" x=\"0\" y=\"0\" style=\"font-family: 'Open Sans', verdana, arial, sans-serif; font-size: 12px; fill: rgb(255, 255, 255); fill-opacity: 1; white-space: pre;\" transform=\"translate(231.8359375,276.1953125)\"><tspan class=\"line\" dy=\"0em\" x=\"0\" y=\"0\">3539</tspan><tspan class=\"line\" dy=\"1.3em\" x=\"0\" y=\"0\">48%</tspan></text></g></g></g></g></g><g class=\"overplot\"/><path class=\"xlines-above crisp\" d=\"M0,0\" style=\"fill: none;\"/><path class=\"ylines-above crisp\" d=\"M0,0\" style=\"fill: none;\"/><g class=\"overlines-above\"/><g class=\"xaxislayer-above\"/><g class=\"yaxislayer-above\"><g class=\"ytick\"><text text-anchor=\"end\" x=\"155\" y=\"4.199999999999999\" transform=\"translate(0,380)\" style=\"font-family: 'Open Sans', verdana, arial, sans-serif; font-size: 12px; fill: rgb(42, 63, 95); fill-opacity: 1; white-space: pre; opacity: 1;\">PaymentScreenSuccessful</text></g><g class=\"ytick\"><text text-anchor=\"end\" x=\"155\" y=\"4.199999999999999\" transform=\"translate(0,300)\" style=\"font-family: 'Open Sans', verdana, arial, sans-serif; font-size: 12px; fill: rgb(42, 63, 95); fill-opacity: 1; white-space: pre; opacity: 1;\">CartScreenAppear</text></g><g class=\"ytick\"><text text-anchor=\"end\" x=\"155\" y=\"4.199999999999999\" transform=\"translate(0,220)\" style=\"font-family: 'Open Sans', verdana, arial, sans-serif; font-size: 12px; fill: rgb(42, 63, 95); fill-opacity: 1; white-space: pre; opacity: 1;\">OffersScreenAppear</text></g><g class=\"ytick\"><text text-anchor=\"end\" x=\"155\" y=\"4.199999999999999\" transform=\"translate(0,140)\" style=\"font-family: 'Open Sans', verdana, arial, sans-serif; font-size: 12px; fill: rgb(42, 63, 95); fill-opacity: 1; white-space: pre; opacity: 1;\">MainScreenAppear</text></g></g><g class=\"overaxes-above\"/></g></g><g class=\"polarlayer\"/><g class=\"smithlayer\"/><g class=\"ternarylayer\"/><g class=\"geolayer\"/><g class=\"funnelarealayer\"/><g class=\"pielayer\"/><g class=\"iciclelayer\"/><g class=\"treemaplayer\"/><g class=\"sunburstlayer\"/><g class=\"glimages\"/><defs id=\"topdefs-57300d\"><g class=\"clips\"/></defs><g class=\"layer-above\"><g class=\"imagelayer\"/><g class=\"shapelayer\"/></g><g class=\"infolayer\"><g class=\"g-gtitle\"/><g class=\"g-ytitle\"/></g></svg>"
      ]
     },
     "metadata": {},
     "output_type": "display_data"
    }
   ],
   "source": [
    "fig = go.Figure()\n",
    "\n",
    "fig.add_trace(go.Funnel(\n",
    "    y=ev_grouped['Событие'],\n",
    "    x=ev_grouped['Всего пользователей'],\n",
    "    textposition = \"inside\",\n",
    "    textinfo = \"value+percent initial\",\n",
    "    ))\n",
    "\n",
    "fig.show(\"svg\")"
   ]
  },
  {
   "cell_type": "markdown",
   "id": "a4159b0c",
   "metadata": {},
   "source": [
    "В первую очередь пользователь попадает на главный экран приложения. Вероятно, из-за технической ошибки, около 1,5% от общего числа пользователей не совершают даже первое действие. Следующий шаг - окно оформления заказа, только 62% пользователей перешли ко второму шагу. На третьем шаге пользователь попадает в корзину с заказом - половина пользователей доходят до третьего шага. Далее следует окно оплаты, до которого доходит 48% пользователей. Рассмотри воронку пошагово"
   ]
  },
  {
   "cell_type": "code",
   "execution_count": 27,
   "id": "c5a9edbe",
   "metadata": {},
   "outputs": [
    {
     "data": {
      "image/svg+xml": [
       "<svg class=\"main-svg\" xmlns=\"http://www.w3.org/2000/svg\" xmlns:xlink=\"http://www.w3.org/1999/xlink\" width=\"700\" height=\"500\" style=\"\" viewBox=\"0 0 700 500\"><rect x=\"0\" y=\"0\" width=\"700\" height=\"500\" style=\"fill: rgb(255, 255, 255); fill-opacity: 1;\"/><defs id=\"defs-629d8d\"><g class=\"clips\"><clipPath id=\"clip629d8dxyplot\" class=\"plotclip\"><rect width=\"464\" height=\"320\"/></clipPath><clipPath class=\"axesclip\" id=\"clip629d8dx\"><rect x=\"156\" y=\"0\" width=\"464\" height=\"500\"/></clipPath><clipPath class=\"axesclip\" id=\"clip629d8dy\"><rect x=\"0\" y=\"100\" width=\"700\" height=\"320\"/></clipPath><clipPath class=\"axesclip\" id=\"clip629d8dxy\"><rect x=\"156\" y=\"100\" width=\"464\" height=\"320\"/></clipPath></g><g class=\"gradients\"/><g class=\"patterns\"/></defs><g class=\"bglayer\"><rect class=\"bg\" x=\"156\" y=\"100\" width=\"464\" height=\"320\" style=\"fill: rgb(229, 236, 246); fill-opacity: 1; stroke-width: 0;\"/></g><g class=\"layer-below\"><g class=\"imagelayer\"/><g class=\"shapelayer\"/></g><g class=\"cartesianlayer\"><g class=\"subplot xy\"><g class=\"layer-subplot\"><g class=\"shapelayer\"/><g class=\"imagelayer\"/></g><g class=\"gridlayer\"><g class=\"x\"/><g class=\"y\"/></g><g class=\"zerolinelayer\"/><path class=\"xlines-below\"/><path class=\"ylines-below\"/><g class=\"overlines-below\"/><g class=\"xaxislayer-below\"/><g class=\"yaxislayer-below\"/><g class=\"overaxes-below\"/><g class=\"plot\" transform=\"translate(156,100)\" clip-path=\"url(#clip629d8dxyplot)\"><g class=\"funnellayer mlayer\"><g class=\"trace bars\" style=\"opacity: 1;\"><g class=\"regions\"><g class=\"region\"><path d=\"M23.2,72L102.73,88H361.27L440.8,72Z\" style=\"stroke-width: 0; fill: rgb(99, 110, 250); fill-opacity: 0.5;\"/></g><g class=\"region\"><path d=\"M102.73,152L126.91,168H337.09L361.27,152Z\" style=\"stroke-width: 0; fill: rgb(99, 110, 250); fill-opacity: 0.5;\"/></g><g class=\"region\"><path d=\"M126.91,232L132.4,248H331.6L337.09,232Z\" style=\"stroke-width: 0; fill: rgb(99, 110, 250); fill-opacity: 0.5;\"/></g><g class=\"region\"><path d=\"M0,0Z\" style=\"stroke-width: 0; fill: rgb(99, 110, 250); fill-opacity: 0.5;\"/></g></g><g class=\"points\"><g class=\"point\"><path d=\"M23.2,8V72H440.8V8Z\" style=\"vector-effect: non-scaling-stroke; fill: rgb(99, 110, 250); fill-opacity: 1; stroke: rgb(68, 68, 68); stroke-opacity: 1; stroke-width: 0px; opacity: 1;\"/><text class=\"bartext bartext-inside\" text-anchor=\"middle\" data-notex=\"1\" x=\"0\" y=\"0\" style=\"font-family: 'Open Sans', verdana, arial, sans-serif; font-size: 12px; fill: rgb(255, 255, 255); fill-opacity: 1; white-space: pre;\" transform=\"translate(231.8359375,36.1953125)\"><tspan class=\"line\" dy=\"0em\" x=\"0\" y=\"0\">7419</tspan><tspan class=\"line\" dy=\"1.3em\" x=\"0\" y=\"0\">100%</tspan></text></g><g class=\"point\"><path d=\"M102.73,88V152H361.27V88Z\" style=\"vector-effect: non-scaling-stroke; fill: rgb(99, 110, 250); fill-opacity: 1; stroke: rgb(68, 68, 68); stroke-opacity: 1; stroke-width: 0px; opacity: 1;\"/><text class=\"bartext bartext-inside\" text-anchor=\"middle\" data-notex=\"1\" x=\"0\" y=\"0\" style=\"font-family: 'Open Sans', verdana, arial, sans-serif; font-size: 12px; fill: rgb(255, 255, 255); fill-opacity: 1; white-space: pre;\" transform=\"translate(231.8359375,116.1953125)\"><tspan class=\"line\" dy=\"0em\" x=\"0\" y=\"0\">4593</tspan><tspan class=\"line\" dy=\"1.3em\" x=\"0\" y=\"0\">62%</tspan></text></g><g class=\"point\"><path d=\"M126.91,168V232H337.09V168Z\" style=\"vector-effect: non-scaling-stroke; fill: rgb(99, 110, 250); fill-opacity: 1; stroke: rgb(68, 68, 68); stroke-opacity: 1; stroke-width: 0px; opacity: 1;\"/><text class=\"bartext bartext-inside\" text-anchor=\"middle\" data-notex=\"1\" x=\"0\" y=\"0\" style=\"font-family: 'Open Sans', verdana, arial, sans-serif; font-size: 12px; fill: rgb(255, 255, 255); fill-opacity: 1; white-space: pre;\" transform=\"translate(231.8359375,196.1953125)\"><tspan class=\"line\" dy=\"0em\" x=\"0\" y=\"0\">3734</tspan><tspan class=\"line\" dy=\"1.3em\" x=\"0\" y=\"0\">81%</tspan></text></g><g class=\"point\"><path d=\"M132.4,248V312H331.6V248Z\" style=\"vector-effect: non-scaling-stroke; fill: rgb(99, 110, 250); fill-opacity: 1; stroke: rgb(68, 68, 68); stroke-opacity: 1; stroke-width: 0px; opacity: 1;\"/><text class=\"bartext bartext-inside\" text-anchor=\"middle\" data-notex=\"1\" x=\"0\" y=\"0\" style=\"font-family: 'Open Sans', verdana, arial, sans-serif; font-size: 12px; fill: rgb(255, 255, 255); fill-opacity: 1; white-space: pre;\" transform=\"translate(231.8359375,276.1953125)\"><tspan class=\"line\" dy=\"0em\" x=\"0\" y=\"0\">3539</tspan><tspan class=\"line\" dy=\"1.3em\" x=\"0\" y=\"0\">95%</tspan></text></g></g></g></g></g><g class=\"overplot\"/><path class=\"xlines-above crisp\" d=\"M0,0\" style=\"fill: none;\"/><path class=\"ylines-above crisp\" d=\"M0,0\" style=\"fill: none;\"/><g class=\"overlines-above\"/><g class=\"xaxislayer-above\"/><g class=\"yaxislayer-above\"><g class=\"ytick\"><text text-anchor=\"end\" x=\"155\" y=\"4.199999999999999\" transform=\"translate(0,380)\" style=\"font-family: 'Open Sans', verdana, arial, sans-serif; font-size: 12px; fill: rgb(42, 63, 95); fill-opacity: 1; white-space: pre; opacity: 1;\">PaymentScreenSuccessful</text></g><g class=\"ytick\"><text text-anchor=\"end\" x=\"155\" y=\"4.199999999999999\" transform=\"translate(0,300)\" style=\"font-family: 'Open Sans', verdana, arial, sans-serif; font-size: 12px; fill: rgb(42, 63, 95); fill-opacity: 1; white-space: pre; opacity: 1;\">CartScreenAppear</text></g><g class=\"ytick\"><text text-anchor=\"end\" x=\"155\" y=\"4.199999999999999\" transform=\"translate(0,220)\" style=\"font-family: 'Open Sans', verdana, arial, sans-serif; font-size: 12px; fill: rgb(42, 63, 95); fill-opacity: 1; white-space: pre; opacity: 1;\">OffersScreenAppear</text></g><g class=\"ytick\"><text text-anchor=\"end\" x=\"155\" y=\"4.199999999999999\" transform=\"translate(0,140)\" style=\"font-family: 'Open Sans', verdana, arial, sans-serif; font-size: 12px; fill: rgb(42, 63, 95); fill-opacity: 1; white-space: pre; opacity: 1;\">MainScreenAppear</text></g></g><g class=\"overaxes-above\"/></g></g><g class=\"polarlayer\"/><g class=\"smithlayer\"/><g class=\"ternarylayer\"/><g class=\"geolayer\"/><g class=\"funnelarealayer\"/><g class=\"pielayer\"/><g class=\"iciclelayer\"/><g class=\"treemaplayer\"/><g class=\"sunburstlayer\"/><g class=\"glimages\"/><defs id=\"topdefs-629d8d\"><g class=\"clips\"/></defs><g class=\"layer-above\"><g class=\"imagelayer\"/><g class=\"shapelayer\"/></g><g class=\"infolayer\"><g class=\"g-gtitle\"/><g class=\"g-ytitle\"/></g></svg>"
      ]
     },
     "metadata": {},
     "output_type": "display_data"
    }
   ],
   "source": [
    "fig = go.Figure()\n",
    "\n",
    "fig.add_trace(go.Funnel(\n",
    "    y=ev_grouped['Событие'],\n",
    "    x=ev_grouped['Всего пользователей'],\n",
    "    textposition = \"inside\",\n",
    "    textinfo = \"value+percent previous\",\n",
    "    ))\n",
    "\n",
    "fig.show(\"svg\")"
   ]
  },
  {
   "cell_type": "markdown",
   "id": "f1621c4f",
   "metadata": {},
   "source": [
    "Больше всего пользователей теряется на втором шаге. Только 62% открывших приложение переходят к оформлению заказа. 81% пользователей, начавших оформление заказа переходят в корзину и почти все (95%) из них оплачивают заказ. "
   ]
  },
  {
   "cell_type": "markdown",
   "id": "32c84dd5",
   "metadata": {},
   "source": [
    "## А/А/В-тест"
   ]
  },
  {
   "cell_type": "markdown",
   "id": "a60cd61f",
   "metadata": {},
   "source": [
    "Построим воронку событий по группам. Добавим новый столбец с объединенными данными контрольных групп"
   ]
  },
  {
   "cell_type": "code",
   "execution_count": 28,
   "id": "b9d32ebc",
   "metadata": {},
   "outputs": [
    {
     "data": {
      "text/html": [
       "<div>\n",
       "<style scoped>\n",
       "    .dataframe tbody tr th:only-of-type {\n",
       "        vertical-align: middle;\n",
       "    }\n",
       "\n",
       "    .dataframe tbody tr th {\n",
       "        vertical-align: top;\n",
       "    }\n",
       "\n",
       "    .dataframe thead th {\n",
       "        text-align: right;\n",
       "    }\n",
       "</style>\n",
       "<table border=\"1\" class=\"dataframe\">\n",
       "  <thead>\n",
       "    <tr style=\"text-align: right;\">\n",
       "      <th></th>\n",
       "      <th>event</th>\n",
       "      <th>246</th>\n",
       "      <th>247</th>\n",
       "      <th>248</th>\n",
       "      <th>246 + 247</th>\n",
       "    </tr>\n",
       "  </thead>\n",
       "  <tbody>\n",
       "    <tr>\n",
       "      <th>0</th>\n",
       "      <td>MainScreenAppear</td>\n",
       "      <td>2450</td>\n",
       "      <td>2476</td>\n",
       "      <td>2493</td>\n",
       "      <td>4926</td>\n",
       "    </tr>\n",
       "    <tr>\n",
       "      <th>1</th>\n",
       "      <td>OffersScreenAppear</td>\n",
       "      <td>1542</td>\n",
       "      <td>1520</td>\n",
       "      <td>1531</td>\n",
       "      <td>3062</td>\n",
       "    </tr>\n",
       "    <tr>\n",
       "      <th>2</th>\n",
       "      <td>CartScreenAppear</td>\n",
       "      <td>1266</td>\n",
       "      <td>1238</td>\n",
       "      <td>1230</td>\n",
       "      <td>2504</td>\n",
       "    </tr>\n",
       "    <tr>\n",
       "      <th>3</th>\n",
       "      <td>PaymentScreenSuccessful</td>\n",
       "      <td>1200</td>\n",
       "      <td>1158</td>\n",
       "      <td>1181</td>\n",
       "      <td>2358</td>\n",
       "    </tr>\n",
       "  </tbody>\n",
       "</table>\n",
       "</div>"
      ],
      "text/plain": [
       "                     event   246   247   248  246 + 247\n",
       "0         MainScreenAppear  2450  2476  2493       4926\n",
       "1       OffersScreenAppear  1542  1520  1531       3062\n",
       "2         CartScreenAppear  1266  1238  1230       2504\n",
       "3  PaymentScreenSuccessful  1200  1158  1181       2358"
      ]
     },
     "execution_count": 28,
     "metadata": {},
     "output_type": "execute_result"
    }
   ],
   "source": [
    "event_exp = df.pivot_table(index='event', columns='exp', values='device', aggfunc='nunique')\n",
    "event_exp.columns = ['246', '247', '248']\n",
    "event_exp = event_exp.sort_values(by='246', ascending=False).reset_index()\n",
    "event_exp['246 + 247'] = event_exp['246'] + event_exp['247']\n",
    "event_exp = event_exp.loc[:3]\n",
    "event_exp"
   ]
  },
  {
   "cell_type": "code",
   "execution_count": 29,
   "id": "a917e3ff",
   "metadata": {},
   "outputs": [
    {
     "data": {
      "text/html": [
       "<div>\n",
       "<style scoped>\n",
       "    .dataframe tbody tr th:only-of-type {\n",
       "        vertical-align: middle;\n",
       "    }\n",
       "\n",
       "    .dataframe tbody tr th {\n",
       "        vertical-align: top;\n",
       "    }\n",
       "\n",
       "    .dataframe thead th {\n",
       "        text-align: right;\n",
       "    }\n",
       "</style>\n",
       "<table border=\"1\" class=\"dataframe\">\n",
       "  <thead>\n",
       "    <tr style=\"text-align: right;\">\n",
       "      <th></th>\n",
       "      <th>exp</th>\n",
       "    </tr>\n",
       "    <tr>\n",
       "      <th>device</th>\n",
       "      <th></th>\n",
       "    </tr>\n",
       "  </thead>\n",
       "  <tbody>\n",
       "  </tbody>\n",
       "</table>\n",
       "</div>"
      ],
      "text/plain": [
       "Empty DataFrame\n",
       "Columns: [exp]\n",
       "Index: []"
      ]
     },
     "execution_count": 29,
     "metadata": {},
     "output_type": "execute_result"
    }
   ],
   "source": [
    "exp_3 = df.groupby('device').agg({'exp': 'nunique'}) #проверим наличие пользователей, попавших в разные группы\n",
    "exp_3[exp_3['exp'] > 1]"
   ]
  },
  {
   "cell_type": "code",
   "execution_count": 30,
   "id": "f2f744be",
   "metadata": {},
   "outputs": [
    {
     "data": {
      "image/svg+xml": [
       "<svg class=\"main-svg\" xmlns=\"http://www.w3.org/2000/svg\" xmlns:xlink=\"http://www.w3.org/1999/xlink\" width=\"700\" height=\"500\" style=\"\" viewBox=\"0 0 700 500\"><rect x=\"0\" y=\"0\" width=\"700\" height=\"500\" style=\"fill: rgb(255, 255, 255); fill-opacity: 1;\"/><defs id=\"defs-2987e6\"><g class=\"clips\"><clipPath id=\"clip2987e6xyplot\" class=\"plotclip\"><rect width=\"457\" height=\"320\"/></clipPath><clipPath class=\"axesclip\" id=\"clip2987e6x\"><rect x=\"156\" y=\"0\" width=\"457\" height=\"500\"/></clipPath><clipPath class=\"axesclip\" id=\"clip2987e6y\"><rect x=\"0\" y=\"100\" width=\"700\" height=\"320\"/></clipPath><clipPath class=\"axesclip\" id=\"clip2987e6xy\"><rect x=\"156\" y=\"100\" width=\"457\" height=\"320\"/></clipPath></g><g class=\"gradients\"/><g class=\"patterns\"/></defs><g class=\"bglayer\"><rect class=\"bg\" x=\"156\" y=\"100\" width=\"457\" height=\"320\" style=\"fill: rgb(229, 236, 246); fill-opacity: 1; stroke-width: 0;\"/></g><g class=\"layer-below\"><g class=\"imagelayer\"/><g class=\"shapelayer\"/></g><g class=\"cartesianlayer\"><g class=\"subplot xy\"><g class=\"layer-subplot\"><g class=\"shapelayer\"/><g class=\"imagelayer\"/></g><g class=\"gridlayer\"><g class=\"x\"/><g class=\"y\"/></g><g class=\"zerolinelayer\"/><path class=\"xlines-below\"/><path class=\"ylines-below\"/><g class=\"overlines-below\"/><g class=\"xaxislayer-below\"/><g class=\"yaxislayer-below\"/><g class=\"overaxes-below\"/><g class=\"plot\" transform=\"translate(156,100)\" clip-path=\"url(#clip2987e6xyplot)\"><g class=\"funnellayer mlayer\"><g class=\"trace bars\" style=\"opacity: 1;\"><g class=\"regions\"><g class=\"region\"><path d=\"M22.85,72L101.18,88H186.67L158.67,72Z\" style=\"stroke-width: 0; fill: rgb(99, 110, 250); fill-opacity: 0.5;\"/></g><g class=\"region\"><path d=\"M101.18,152L125,168H195.18L186.67,152Z\" style=\"stroke-width: 0; fill: rgb(99, 110, 250); fill-opacity: 0.5;\"/></g><g class=\"region\"><path d=\"M125,232L130.4,248H196.93L195.18,232Z\" style=\"stroke-width: 0; fill: rgb(99, 110, 250); fill-opacity: 0.5;\"/></g><g class=\"region\"><path d=\"M0,0Z\" style=\"stroke-width: 0; fill: rgb(99, 110, 250); fill-opacity: 0.5;\"/></g></g><g class=\"points\"><g class=\"point\"><path d=\"M22.85,8V72H158.67V8Z\" style=\"vector-effect: non-scaling-stroke; fill: rgb(99, 110, 250); fill-opacity: 1; stroke: rgb(68, 68, 68); stroke-opacity: 1; stroke-width: 0px; opacity: 1;\"/><text class=\"bartext bartext-inside\" text-anchor=\"middle\" data-notex=\"1\" x=\"0\" y=\"0\" style=\"font-family: 'Open Sans', verdana, arial, sans-serif; font-size: 12px; fill: rgb(255, 255, 255); fill-opacity: 1; white-space: pre;\" transform=\"translate(90.59593749999999,36.1953125)\"><tspan class=\"line\" dy=\"0em\" x=\"0\" y=\"0\">2450</tspan><tspan class=\"line\" dy=\"1.3em\" x=\"0\" y=\"0\">100%</tspan></text></g><g class=\"point\"><path d=\"M101.18,88V152H186.67V88Z\" style=\"vector-effect: non-scaling-stroke; fill: rgb(99, 110, 250); fill-opacity: 1; stroke: rgb(68, 68, 68); stroke-opacity: 1; stroke-width: 0px; opacity: 1;\"/><text class=\"bartext bartext-inside\" text-anchor=\"middle\" data-notex=\"1\" x=\"0\" y=\"0\" style=\"font-family: 'Open Sans', verdana, arial, sans-serif; font-size: 12px; fill: rgb(255, 255, 255); fill-opacity: 1; white-space: pre;\" transform=\"translate(143.7609375,116.1953125)\"><tspan class=\"line\" dy=\"0em\" x=\"0\" y=\"0\">1542</tspan><tspan class=\"line\" dy=\"1.3em\" x=\"0\" y=\"0\">63%</tspan></text></g><g class=\"point\"><path d=\"M125,168V232H195.18V168Z\" style=\"vector-effect: non-scaling-stroke; fill: rgb(99, 110, 250); fill-opacity: 1; stroke: rgb(68, 68, 68); stroke-opacity: 1; stroke-width: 0px; opacity: 1;\"/><text class=\"bartext bartext-inside\" text-anchor=\"middle\" data-notex=\"1\" x=\"0\" y=\"0\" style=\"font-family: 'Open Sans', verdana, arial, sans-serif; font-size: 12px; fill: rgb(255, 255, 255); fill-opacity: 1; white-space: pre;\" transform=\"translate(159.9259375,196.1953125)\"><tspan class=\"line\" dy=\"0em\" x=\"0\" y=\"0\">1266</tspan><tspan class=\"line\" dy=\"1.3em\" x=\"0\" y=\"0\">52%</tspan></text></g><g class=\"point\"><path d=\"M130.4,248V312H196.93V248Z\" style=\"vector-effect: non-scaling-stroke; fill: rgb(99, 110, 250); fill-opacity: 1; stroke: rgb(68, 68, 68); stroke-opacity: 1; stroke-width: 0px; opacity: 1;\"/><text class=\"bartext bartext-inside\" text-anchor=\"middle\" data-notex=\"1\" x=\"0\" y=\"0\" style=\"font-family: 'Open Sans', verdana, arial, sans-serif; font-size: 12px; fill: rgb(255, 255, 255); fill-opacity: 1; white-space: pre;\" transform=\"translate(163.50093750000002,276.1953125)\"><tspan class=\"line\" dy=\"0em\" x=\"0\" y=\"0\">1200</tspan><tspan class=\"line\" dy=\"1.3em\" x=\"0\" y=\"0\">49%</tspan></text></g></g></g><g class=\"trace bars\" style=\"opacity: 1;\"><g class=\"regions\"><g class=\"region\"><path d=\"M158.67,72L186.67,88H270.94L295.94,72Z\" style=\"stroke-width: 0; fill: rgb(239, 85, 59); fill-opacity: 0.5;\"/></g><g class=\"region\"><path d=\"M186.67,152L195.18,168H263.81L270.94,152Z\" style=\"stroke-width: 0; fill: rgb(239, 85, 59); fill-opacity: 0.5;\"/></g><g class=\"region\"><path d=\"M195.18,232L196.93,248H261.13L263.81,232Z\" style=\"stroke-width: 0; fill: rgb(239, 85, 59); fill-opacity: 0.5;\"/></g><g class=\"region\"><path d=\"M0,0Z\" style=\"stroke-width: 0; fill: rgb(239, 85, 59); fill-opacity: 0.5;\"/></g></g><g class=\"points\"><g class=\"point\"><path d=\"M158.67,8V72H295.94V8Z\" style=\"vector-effect: non-scaling-stroke; fill: rgb(239, 85, 59); fill-opacity: 1; stroke: rgb(68, 68, 68); stroke-opacity: 1; stroke-width: 0px; opacity: 1;\"/><text class=\"bartext bartext-inside\" text-anchor=\"middle\" data-notex=\"1\" x=\"0\" y=\"0\" style=\"font-family: 'Open Sans', verdana, arial, sans-serif; font-size: 12px; fill: rgb(68, 68, 68); fill-opacity: 1; white-space: pre;\" transform=\"translate(227.1409375,36.1953125)\"><tspan class=\"line\" dy=\"0em\" x=\"0\" y=\"0\">2476</tspan><tspan class=\"line\" dy=\"1.3em\" x=\"0\" y=\"0\">100%</tspan></text></g><g class=\"point\"><path d=\"M186.67,88V152H270.94V88Z\" style=\"vector-effect: non-scaling-stroke; fill: rgb(239, 85, 59); fill-opacity: 1; stroke: rgb(68, 68, 68); stroke-opacity: 1; stroke-width: 0px; opacity: 1;\"/><text class=\"bartext bartext-inside\" text-anchor=\"middle\" data-notex=\"1\" x=\"0\" y=\"0\" style=\"font-family: 'Open Sans', verdana, arial, sans-serif; font-size: 12px; fill: rgb(68, 68, 68); fill-opacity: 1; white-space: pre;\" transform=\"translate(228.6409375,116.1953125)\"><tspan class=\"line\" dy=\"0em\" x=\"0\" y=\"0\">1520</tspan><tspan class=\"line\" dy=\"1.3em\" x=\"0\" y=\"0\">61%</tspan></text></g><g class=\"point\"><path d=\"M195.18,168V232H263.81V168Z\" style=\"vector-effect: non-scaling-stroke; fill: rgb(239, 85, 59); fill-opacity: 1; stroke: rgb(68, 68, 68); stroke-opacity: 1; stroke-width: 0px; opacity: 1;\"/><text class=\"bartext bartext-inside\" text-anchor=\"middle\" data-notex=\"1\" x=\"0\" y=\"0\" style=\"font-family: 'Open Sans', verdana, arial, sans-serif; font-size: 12px; fill: rgb(68, 68, 68); fill-opacity: 1; white-space: pre;\" transform=\"translate(229.3309375,196.1953125)\"><tspan class=\"line\" dy=\"0em\" x=\"0\" y=\"0\">1238</tspan><tspan class=\"line\" dy=\"1.3em\" x=\"0\" y=\"0\">50%</tspan></text></g><g class=\"point\"><path d=\"M196.93,248V312H261.13V248Z\" style=\"vector-effect: non-scaling-stroke; fill: rgb(239, 85, 59); fill-opacity: 1; stroke: rgb(68, 68, 68); stroke-opacity: 1; stroke-width: 0px; opacity: 1;\"/><text class=\"bartext bartext-inside\" text-anchor=\"middle\" data-notex=\"1\" x=\"0\" y=\"0\" style=\"font-family: 'Open Sans', verdana, arial, sans-serif; font-size: 12px; fill: rgb(68, 68, 68); fill-opacity: 1; white-space: pre;\" transform=\"translate(228.8659375,276.1953125)\"><tspan class=\"line\" dy=\"0em\" x=\"0\" y=\"0\">1158</tspan><tspan class=\"line\" dy=\"1.3em\" x=\"0\" y=\"0\">47%</tspan></text></g></g></g><g class=\"trace bars\" style=\"opacity: 1;\"><g class=\"regions\"><g class=\"region\"><path d=\"M295.94,72L270.94,88H355.82L434.15,72Z\" style=\"stroke-width: 0; fill: rgb(0, 204, 150); fill-opacity: 0.5;\"/></g><g class=\"region\"><path d=\"M270.94,152L263.81,168H332L355.82,152Z\" style=\"stroke-width: 0; fill: rgb(0, 204, 150); fill-opacity: 0.5;\"/></g><g class=\"region\"><path d=\"M263.81,232L261.13,248H326.6L332,232Z\" style=\"stroke-width: 0; fill: rgb(0, 204, 150); fill-opacity: 0.5;\"/></g><g class=\"region\"><path d=\"M0,0Z\" style=\"stroke-width: 0; fill: rgb(0, 204, 150); fill-opacity: 0.5;\"/></g></g><g class=\"points\"><g class=\"point\"><path d=\"M295.94,8V72H434.15V8Z\" style=\"vector-effect: non-scaling-stroke; fill: rgb(0, 204, 150); fill-opacity: 1; stroke: rgb(68, 68, 68); stroke-opacity: 1; stroke-width: 0px; opacity: 1;\"/><text class=\"bartext bartext-inside\" text-anchor=\"middle\" data-notex=\"1\" x=\"0\" y=\"0\" style=\"font-family: 'Open Sans', verdana, arial, sans-serif; font-size: 12px; fill: rgb(68, 68, 68); fill-opacity: 1; white-space: pre;\" transform=\"translate(364.88093749999996,36.1953125)\"><tspan class=\"line\" dy=\"0em\" x=\"0\" y=\"0\">2493</tspan><tspan class=\"line\" dy=\"1.3em\" x=\"0\" y=\"0\">100%</tspan></text></g><g class=\"point\"><path d=\"M270.94,88V152H355.82V88Z\" style=\"vector-effect: non-scaling-stroke; fill: rgb(0, 204, 150); fill-opacity: 1; stroke: rgb(68, 68, 68); stroke-opacity: 1; stroke-width: 0px; opacity: 1;\"/><text class=\"bartext bartext-inside\" text-anchor=\"middle\" data-notex=\"1\" x=\"0\" y=\"0\" style=\"font-family: 'Open Sans', verdana, arial, sans-serif; font-size: 12px; fill: rgb(68, 68, 68); fill-opacity: 1; white-space: pre;\" transform=\"translate(313.2159375,116.1953125)\"><tspan class=\"line\" dy=\"0em\" x=\"0\" y=\"0\">1531</tspan><tspan class=\"line\" dy=\"1.3em\" x=\"0\" y=\"0\">61%</tspan></text></g><g class=\"point\"><path d=\"M263.81,168V232H332V168Z\" style=\"vector-effect: non-scaling-stroke; fill: rgb(0, 204, 150); fill-opacity: 1; stroke: rgb(68, 68, 68); stroke-opacity: 1; stroke-width: 0px; opacity: 1;\"/><text class=\"bartext bartext-inside\" text-anchor=\"middle\" data-notex=\"1\" x=\"0\" y=\"0\" style=\"font-family: 'Open Sans', verdana, arial, sans-serif; font-size: 12px; fill: rgb(68, 68, 68); fill-opacity: 1; white-space: pre;\" transform=\"translate(297.7409375,196.1953125)\"><tspan class=\"line\" dy=\"0em\" x=\"0\" y=\"0\">1230</tspan><tspan class=\"line\" dy=\"1.3em\" x=\"0\" y=\"0\">49%</tspan></text></g><g class=\"point\"><path d=\"M261.13,248V312H326.6V248Z\" style=\"vector-effect: non-scaling-stroke; fill: rgb(0, 204, 150); fill-opacity: 1; stroke: rgb(68, 68, 68); stroke-opacity: 1; stroke-width: 0px; opacity: 1;\"/><text class=\"bartext bartext-inside\" text-anchor=\"middle\" data-notex=\"1\" x=\"0\" y=\"0\" style=\"font-family: 'Open Sans', verdana, arial, sans-serif; font-size: 12px; fill: rgb(68, 68, 68); fill-opacity: 1; white-space: pre;\" transform=\"translate(293.7009375,276.1953125)\"><tspan class=\"line\" dy=\"0em\" x=\"0\" y=\"0\">1181</tspan><tspan class=\"line\" dy=\"1.3em\" x=\"0\" y=\"0\">47%</tspan></text></g></g></g></g></g><g class=\"overplot\"/><path class=\"xlines-above crisp\" d=\"M0,0\" style=\"fill: none;\"/><path class=\"ylines-above crisp\" d=\"M0,0\" style=\"fill: none;\"/><g class=\"overlines-above\"/><g class=\"xaxislayer-above\"/><g class=\"yaxislayer-above\"><g class=\"ytick\"><text text-anchor=\"end\" x=\"155\" y=\"4.199999999999999\" transform=\"translate(0,380)\" style=\"font-family: 'Open Sans', verdana, arial, sans-serif; font-size: 12px; fill: rgb(42, 63, 95); fill-opacity: 1; white-space: pre; opacity: 1;\">PaymentScreenSuccessful</text></g><g class=\"ytick\"><text text-anchor=\"end\" x=\"155\" y=\"4.199999999999999\" transform=\"translate(0,300)\" style=\"font-family: 'Open Sans', verdana, arial, sans-serif; font-size: 12px; fill: rgb(42, 63, 95); fill-opacity: 1; white-space: pre; opacity: 1;\">CartScreenAppear</text></g><g class=\"ytick\"><text text-anchor=\"end\" x=\"155\" y=\"4.199999999999999\" transform=\"translate(0,220)\" style=\"font-family: 'Open Sans', verdana, arial, sans-serif; font-size: 12px; fill: rgb(42, 63, 95); fill-opacity: 1; white-space: pre; opacity: 1;\">OffersScreenAppear</text></g><g class=\"ytick\"><text text-anchor=\"end\" x=\"155\" y=\"4.199999999999999\" transform=\"translate(0,140)\" style=\"font-family: 'Open Sans', verdana, arial, sans-serif; font-size: 12px; fill: rgb(42, 63, 95); fill-opacity: 1; white-space: pre; opacity: 1;\">MainScreenAppear</text></g></g><g class=\"overaxes-above\"/></g></g><g class=\"polarlayer\"/><g class=\"smithlayer\"/><g class=\"ternarylayer\"/><g class=\"geolayer\"/><g class=\"funnelarealayer\"/><g class=\"pielayer\"/><g class=\"iciclelayer\"/><g class=\"treemaplayer\"/><g class=\"sunburstlayer\"/><g class=\"glimages\"/><defs id=\"topdefs-2987e6\"><g class=\"clips\"/><clipPath id=\"legend2987e6\"><rect width=\"66\" height=\"67\" x=\"0\" y=\"0\"/></clipPath></defs><g class=\"layer-above\"><g class=\"imagelayer\"/><g class=\"shapelayer\"/></g><g class=\"infolayer\"><g class=\"legend\" pointer-events=\"all\" transform=\"translate(622.14,100)\"><rect class=\"bg\" shape-rendering=\"crispEdges\" style=\"stroke: rgb(68, 68, 68); stroke-opacity: 1; fill: rgb(255, 255, 255); fill-opacity: 1; stroke-width: 0px;\" width=\"66\" height=\"67\" x=\"0\" y=\"0\"/><g class=\"scrollbox\" transform=\"\" clip-path=\"url(#legend2987e6)\"><g class=\"groups\"><g class=\"traces\" transform=\"translate(0,14.5)\" style=\"opacity: 1;\"><text class=\"legendtext\" text-anchor=\"start\" x=\"40\" y=\"4.680000000000001\" style=\"font-family: 'Open Sans', verdana, arial, sans-serif; font-size: 12px; fill: rgb(42, 63, 95); fill-opacity: 1; white-space: pre;\">246</text><g class=\"layers\" style=\"opacity: 1;\"><g class=\"legendfill\"/><g class=\"legendlines\"/><g class=\"legendsymbols\"><g class=\"legendpoints\"><path class=\"legendfunnel\" d=\"M6,6H-6V-6H6Z\" transform=\"translate(20,0)\" style=\"stroke-width: 0px; fill: rgb(99, 110, 250); fill-opacity: 1;\"/></g></g></g><rect class=\"legendtoggle\" x=\"0\" y=\"-9.5\" width=\"60.359375\" height=\"19\" style=\"fill: rgb(0, 0, 0); fill-opacity: 0;\"/></g><g class=\"traces\" transform=\"translate(0,33.5)\" style=\"opacity: 1;\"><text class=\"legendtext\" text-anchor=\"start\" x=\"40\" y=\"4.680000000000001\" style=\"font-family: 'Open Sans', verdana, arial, sans-serif; font-size: 12px; fill: rgb(42, 63, 95); fill-opacity: 1; white-space: pre;\">247</text><g class=\"layers\" style=\"opacity: 1;\"><g class=\"legendfill\"/><g class=\"legendlines\"/><g class=\"legendsymbols\"><g class=\"legendpoints\"><path class=\"legendfunnel\" d=\"M6,6H-6V-6H6Z\" transform=\"translate(20,0)\" style=\"stroke-width: 0px; fill: rgb(239, 85, 59); fill-opacity: 1;\"/></g></g></g><rect class=\"legendtoggle\" x=\"0\" y=\"-9.5\" width=\"60.359375\" height=\"19\" style=\"fill: rgb(0, 0, 0); fill-opacity: 0;\"/></g><g class=\"traces\" transform=\"translate(0,52.5)\" style=\"opacity: 1;\"><text class=\"legendtext\" text-anchor=\"start\" x=\"40\" y=\"4.680000000000001\" style=\"font-family: 'Open Sans', verdana, arial, sans-serif; font-size: 12px; fill: rgb(42, 63, 95); fill-opacity: 1; white-space: pre;\">248</text><g class=\"layers\" style=\"opacity: 1;\"><g class=\"legendfill\"/><g class=\"legendlines\"/><g class=\"legendsymbols\"><g class=\"legendpoints\"><path class=\"legendfunnel\" d=\"M6,6H-6V-6H6Z\" transform=\"translate(20,0)\" style=\"stroke-width: 0px; fill: rgb(0, 204, 150); fill-opacity: 1;\"/></g></g></g><rect class=\"legendtoggle\" x=\"0\" y=\"-9.5\" width=\"60.359375\" height=\"19\" style=\"fill: rgb(0, 0, 0); fill-opacity: 0;\"/></g></g></g><rect class=\"scrollbar\" rx=\"20\" ry=\"3\" width=\"0\" height=\"0\" style=\"fill: rgb(128, 139, 164); fill-opacity: 1;\" x=\"0\" y=\"0\"/></g><g class=\"g-gtitle\"/><g class=\"g-ytitle\"/></g></svg>"
      ]
     },
     "metadata": {},
     "output_type": "display_data"
    }
   ],
   "source": [
    "fig = go.Figure()\n",
    "\n",
    "fig.add_trace(go.Funnel(\n",
    "    name = '246',\n",
    "    y = event_exp['event'],\n",
    "    x = event_exp['246'],\n",
    "    textinfo = \"value+percent initial\"))\n",
    "\n",
    "fig.add_trace(go.Funnel(\n",
    "    name = '247',\n",
    "    orientation = \"h\",\n",
    "    y = event_exp['event'],\n",
    "    x = event_exp['247'],\n",
    "    textposition = \"inside\",\n",
    "    textinfo = \"value+percent initial\"))\n",
    "\n",
    "fig.add_trace(go.Funnel(\n",
    "    name = '248',\n",
    "    orientation = \"h\",\n",
    "    y = event_exp['event'],\n",
    "    x = event_exp['248'],\n",
    "    textposition = \"inside\",\n",
    "    textinfo = \"value+percent initial\"))\n",
    "\n",
    "fig.show(\"svg\")"
   ]
  },
  {
   "cell_type": "markdown",
   "id": "be13793b",
   "metadata": {},
   "source": [
    "Воронка событий показывает, что есть различия в части пользователей, дошедших до оплаты заказа. Проверим находят ли статистические критерии разницу между выборками."
   ]
  },
  {
   "cell_type": "code",
   "execution_count": 31,
   "id": "6b4313be",
   "metadata": {},
   "outputs": [],
   "source": [
    "#функциядля проверки гипотезы\n",
    "def hypothesis(pur1, pur2, lead1, lead2, alp):\n",
    "    alpha = alp  # критический уровень статистической значимости\n",
    "\n",
    "    purchases = np.array([pur1, pur2])\n",
    "    leads = np.array([lead1, lead2])\n",
    "\n",
    "# пропорция успехов в первой группе:\n",
    "    p1 = purchases[0]/leads[0]\n",
    "\n",
    "# пропорция успехов во второй группе:\n",
    "    p2 = purchases[1]/leads[1]\n",
    "    \n",
    "\n",
    "# пропорция успехов в комбинированном датасете:\n",
    "    p_combined = (purchases[0] + purchases[1]) / (leads[0] + leads[1])\n",
    "\n",
    "# разница пропорций в датасетах\n",
    "    difference = p1 - p2 \n",
    "\n",
    "    z_value = difference / mth.sqrt(\n",
    "        p_combined * (1 - p_combined) * (1 / leads[0] + 1 / leads[1])\n",
    "    )\n",
    "    distr = st.norm(0, 1)\n",
    "\n",
    "    \n",
    "    p_value = (1 - distr.cdf(abs(z_value))) * 2\n",
    "\n",
    "   \n",
    "    print('p-значение: ', p_value)\n",
    "  \n",
    "    \n",
    "    if p_value < alpha:# ваш код\n",
    "        print('Отвергаем нулевую гипотезу: между долями есть значимая разница')\n",
    "    else:\n",
    "        print(\n",
    "            'Не получилось отвергнуть нулевую гипотезу, нет оснований считать доли разными'\n",
    "        )\n",
    "    print()    "
   ]
  },
  {
   "cell_type": "code",
   "execution_count": 32,
   "id": "335cc582",
   "metadata": {},
   "outputs": [
    {
     "data": {
      "text/html": [
       "<div>\n",
       "<style scoped>\n",
       "    .dataframe tbody tr th:only-of-type {\n",
       "        vertical-align: middle;\n",
       "    }\n",
       "\n",
       "    .dataframe tbody tr th {\n",
       "        vertical-align: top;\n",
       "    }\n",
       "\n",
       "    .dataframe thead th {\n",
       "        text-align: right;\n",
       "    }\n",
       "</style>\n",
       "<table border=\"1\" class=\"dataframe\">\n",
       "  <thead>\n",
       "    <tr style=\"text-align: right;\">\n",
       "      <th></th>\n",
       "      <th>246</th>\n",
       "      <th>247</th>\n",
       "      <th>248</th>\n",
       "      <th>246 + 247</th>\n",
       "    </tr>\n",
       "  </thead>\n",
       "  <tbody>\n",
       "    <tr>\n",
       "      <th>device</th>\n",
       "      <td>2484.0</td>\n",
       "      <td>2513.0</td>\n",
       "      <td>2537.0</td>\n",
       "      <td>4997.0</td>\n",
       "    </tr>\n",
       "    <tr>\n",
       "      <th>part</th>\n",
       "      <td>33.0</td>\n",
       "      <td>33.0</td>\n",
       "      <td>34.0</td>\n",
       "      <td>66.0</td>\n",
       "    </tr>\n",
       "  </tbody>\n",
       "</table>\n",
       "</div>"
      ],
      "text/plain": [
       "           246     247     248  246 + 247\n",
       "device  2484.0  2513.0  2537.0     4997.0\n",
       "part      33.0    33.0    34.0       66.0"
      ]
     },
     "execution_count": 32,
     "metadata": {},
     "output_type": "execute_result"
    }
   ],
   "source": [
    "groups = groups.T \n",
    "\n",
    "groups.columns = ['246', '247', '248']\n",
    "groups['246 + 247'] = groups['246'] + groups['247']\n",
    "groups"
   ]
  },
  {
   "cell_type": "code",
   "execution_count": 33,
   "id": "13981f58",
   "metadata": {},
   "outputs": [],
   "source": [
    "#функция для проверки гипотезы в цикле\n",
    "\n",
    "def check_hyp(data, col1, col2, alp):\n",
    "    for i in range(0, 3):\n",
    "        print('Результат z-теста: Группы', col1, 'и', col2, ', Cобытие:', data.loc[i+1, 'event'])\n",
    "        print()\n",
    "        \n",
    "        hypothesis(data.loc[i+1, col1], data.loc[i+1, col2], groups.loc['device', col1], groups.loc['device', col2], alp)"
   ]
  },
  {
   "cell_type": "markdown",
   "id": "427bd6f1",
   "metadata": {},
   "source": [
    "### Проверка гипотез с уровнем значимости 0.05"
   ]
  },
  {
   "cell_type": "code",
   "execution_count": 34,
   "id": "8c4e22c3",
   "metadata": {},
   "outputs": [
    {
     "name": "stdout",
     "output_type": "stream",
     "text": [
      "Результат z-теста: Группы 246 и 247 , Cобытие: OffersScreenAppear\n",
      "\n",
      "p-значение:  0.2480954578522181\n",
      "Не получилось отвергнуть нулевую гипотезу, нет оснований считать доли разными\n",
      "\n",
      "Результат z-теста: Группы 246 и 247 , Cобытие: CartScreenAppear\n",
      "\n",
      "p-значение:  0.22883372237997213\n",
      "Не получилось отвергнуть нулевую гипотезу, нет оснований считать доли разными\n",
      "\n",
      "Результат z-теста: Группы 246 и 247 , Cобытие: PaymentScreenSuccessful\n",
      "\n",
      "p-значение:  0.11456679313141849\n",
      "Не получилось отвергнуть нулевую гипотезу, нет оснований считать доли разными\n",
      "\n"
     ]
    }
   ],
   "source": [
    "check_hyp(event_exp, '246', '247', 0.05)"
   ]
  },
  {
   "cell_type": "code",
   "execution_count": 35,
   "id": "29c191f8",
   "metadata": {},
   "outputs": [
    {
     "name": "stdout",
     "output_type": "stream",
     "text": [
      "Результат z-теста: Группы 247 и 248 , Cобытие: OffersScreenAppear\n",
      "\n",
      "p-значение:  0.9197817830592261\n",
      "Не получилось отвергнуть нулевую гипотезу, нет оснований считать доли разными\n",
      "\n",
      "Результат z-теста: Группы 247 и 248 , Cобытие: CartScreenAppear\n",
      "\n",
      "p-значение:  0.5786197879539783\n",
      "Не получилось отвергнуть нулевую гипотезу, нет оснований считать доли разными\n",
      "\n",
      "Результат z-теста: Группы 247 и 248 , Cобытие: PaymentScreenSuccessful\n",
      "\n",
      "p-значение:  0.7373415053803964\n",
      "Не получилось отвергнуть нулевую гипотезу, нет оснований считать доли разными\n",
      "\n"
     ]
    }
   ],
   "source": [
    "check_hyp(event_exp, '247', '248', 0.05)"
   ]
  },
  {
   "cell_type": "code",
   "execution_count": 36,
   "id": "696701ae",
   "metadata": {},
   "outputs": [
    {
     "name": "stdout",
     "output_type": "stream",
     "text": [
      "Результат z-теста: Группы 246 и 248 , Cобытие: OffersScreenAppear\n",
      "\n",
      "p-значение:  0.20836205402738917\n",
      "Не получилось отвергнуть нулевую гипотезу, нет оснований считать доли разными\n",
      "\n",
      "Результат z-теста: Группы 246 и 248 , Cобытие: CartScreenAppear\n",
      "\n",
      "p-значение:  0.07842923237520116\n",
      "Не получилось отвергнуть нулевую гипотезу, нет оснований считать доли разными\n",
      "\n",
      "Результат z-теста: Группы 246 и 248 , Cобытие: PaymentScreenSuccessful\n",
      "\n",
      "p-значение:  0.2122553275697796\n",
      "Не получилось отвергнуть нулевую гипотезу, нет оснований считать доли разными\n",
      "\n"
     ]
    }
   ],
   "source": [
    "check_hyp(event_exp, '246', '248', 0.05)"
   ]
  },
  {
   "cell_type": "code",
   "execution_count": 37,
   "id": "a675e6ad",
   "metadata": {},
   "outputs": [
    {
     "name": "stdout",
     "output_type": "stream",
     "text": [
      "Результат z-теста: Группы 248 и 246 + 247 , Cобытие: OffersScreenAppear\n",
      "\n",
      "p-значение:  0.43425549655188256\n",
      "Не получилось отвергнуть нулевую гипотезу, нет оснований считать доли разными\n",
      "\n",
      "Результат z-теста: Группы 248 и 246 + 247 , Cобытие: CartScreenAppear\n",
      "\n",
      "p-значение:  0.18175875284404386\n",
      "Не получилось отвергнуть нулевую гипотезу, нет оснований считать доли разными\n",
      "\n",
      "Результат z-теста: Группы 248 и 246 + 247 , Cобытие: PaymentScreenSuccessful\n",
      "\n",
      "p-значение:  0.6004294282308704\n",
      "Не получилось отвергнуть нулевую гипотезу, нет оснований считать доли разными\n",
      "\n"
     ]
    }
   ],
   "source": [
    "check_hyp(event_exp, '248', '246 + 247', 0.05)"
   ]
  },
  {
   "cell_type": "markdown",
   "id": "349078cb",
   "metadata": {},
   "source": [
    "Результаты теста показали, что между контрольными группами нет существенных различий на каждом шаге, как и при сравнении контрольных и исследуемой групп. Проверим как изменится результат эксперимента c поправкой Бонферрони"
   ]
  },
  {
   "cell_type": "markdown",
   "id": "53aeaeb4",
   "metadata": {},
   "source": [
    "### Поправка Бонферрони"
   ]
  },
  {
   "cell_type": "markdown",
   "id": "b896e089",
   "metadata": {},
   "source": [
    "Используем поправку Бонферрони для множественных сравнений. Всего было проведено 12 тестов"
   ]
  },
  {
   "cell_type": "code",
   "execution_count": 38,
   "id": "4656586a",
   "metadata": {},
   "outputs": [],
   "source": [
    "bon = 0.05 / 12"
   ]
  },
  {
   "cell_type": "code",
   "execution_count": 39,
   "id": "af839cef",
   "metadata": {},
   "outputs": [
    {
     "name": "stdout",
     "output_type": "stream",
     "text": [
      "Результат z-теста: Группы 246 и 247 , Cобытие: OffersScreenAppear\n",
      "\n",
      "p-значение:  0.2480954578522181\n",
      "Не получилось отвергнуть нулевую гипотезу, нет оснований считать доли разными\n",
      "\n",
      "Результат z-теста: Группы 246 и 247 , Cобытие: CartScreenAppear\n",
      "\n",
      "p-значение:  0.22883372237997213\n",
      "Не получилось отвергнуть нулевую гипотезу, нет оснований считать доли разными\n",
      "\n",
      "Результат z-теста: Группы 246 и 247 , Cобытие: PaymentScreenSuccessful\n",
      "\n",
      "p-значение:  0.11456679313141849\n",
      "Не получилось отвергнуть нулевую гипотезу, нет оснований считать доли разными\n",
      "\n"
     ]
    }
   ],
   "source": [
    "check_hyp(event_exp, '246', '247', bon)"
   ]
  },
  {
   "cell_type": "code",
   "execution_count": 40,
   "id": "64be8611",
   "metadata": {},
   "outputs": [
    {
     "name": "stdout",
     "output_type": "stream",
     "text": [
      "Результат z-теста: Группы 247 и 248 , Cобытие: OffersScreenAppear\n",
      "\n",
      "p-значение:  0.9197817830592261\n",
      "Не получилось отвергнуть нулевую гипотезу, нет оснований считать доли разными\n",
      "\n",
      "Результат z-теста: Группы 247 и 248 , Cобытие: CartScreenAppear\n",
      "\n",
      "p-значение:  0.5786197879539783\n",
      "Не получилось отвергнуть нулевую гипотезу, нет оснований считать доли разными\n",
      "\n",
      "Результат z-теста: Группы 247 и 248 , Cобытие: PaymentScreenSuccessful\n",
      "\n",
      "p-значение:  0.7373415053803964\n",
      "Не получилось отвергнуть нулевую гипотезу, нет оснований считать доли разными\n",
      "\n"
     ]
    }
   ],
   "source": [
    "check_hyp(event_exp, '247', '248', bon)"
   ]
  },
  {
   "cell_type": "code",
   "execution_count": 41,
   "id": "3d388d87",
   "metadata": {},
   "outputs": [
    {
     "name": "stdout",
     "output_type": "stream",
     "text": [
      "Результат z-теста: Группы 246 и 248 , Cобытие: OffersScreenAppear\n",
      "\n",
      "p-значение:  0.20836205402738917\n",
      "Не получилось отвергнуть нулевую гипотезу, нет оснований считать доли разными\n",
      "\n",
      "Результат z-теста: Группы 246 и 248 , Cобытие: CartScreenAppear\n",
      "\n",
      "p-значение:  0.07842923237520116\n",
      "Не получилось отвергнуть нулевую гипотезу, нет оснований считать доли разными\n",
      "\n",
      "Результат z-теста: Группы 246 и 248 , Cобытие: PaymentScreenSuccessful\n",
      "\n",
      "p-значение:  0.2122553275697796\n",
      "Не получилось отвергнуть нулевую гипотезу, нет оснований считать доли разными\n",
      "\n"
     ]
    }
   ],
   "source": [
    "check_hyp(event_exp, '246', '248', bon)"
   ]
  },
  {
   "cell_type": "code",
   "execution_count": 42,
   "id": "2d817b82",
   "metadata": {},
   "outputs": [
    {
     "name": "stdout",
     "output_type": "stream",
     "text": [
      "Результат z-теста: Группы 248 и 246 + 247 , Cобытие: OffersScreenAppear\n",
      "\n",
      "p-значение:  0.43425549655188256\n",
      "Не получилось отвергнуть нулевую гипотезу, нет оснований считать доли разными\n",
      "\n",
      "Результат z-теста: Группы 248 и 246 + 247 , Cобытие: CartScreenAppear\n",
      "\n",
      "p-значение:  0.18175875284404386\n",
      "Не получилось отвергнуть нулевую гипотезу, нет оснований считать доли разными\n",
      "\n",
      "Результат z-теста: Группы 248 и 246 + 247 , Cобытие: PaymentScreenSuccessful\n",
      "\n",
      "p-значение:  0.6004294282308704\n",
      "Не получилось отвергнуть нулевую гипотезу, нет оснований считать доли разными\n",
      "\n"
     ]
    }
   ],
   "source": [
    "check_hyp(event_exp, '248', '246 + 247', bon)"
   ]
  },
  {
   "cell_type": "markdown",
   "id": "9fd6b273",
   "metadata": {},
   "source": [
    "Проверка гипотез с поправкой показала, что между группами нет значительных различий"
   ]
  },
  {
   "cell_type": "markdown",
   "id": "e4be70d2",
   "metadata": {},
   "source": [
    "## Вывод"
   ]
  },
  {
   "cell_type": "markdown",
   "id": "d21c5f9a",
   "metadata": {},
   "source": [
    "За исследуемый период приложением воспользовалось 7534 пользователя. 4926 пользователям демонстрировались старые шрифты и 2493 пользователям - новые. Всего конверсия в платящих пользователей составила 48% от общего количества. Самый большой процент потери пользователей на этапе перехода к оформлению заказа.\n",
    "По результатам эксперимента можно сделать вывод, что изменение шрифта положительно не повлияло на поведение пользователей"
   ]
  }
 ],
 "metadata": {
  "ExecuteTimeLog": [
   {
    "duration": 2099,
    "start_time": "2022-03-12T05:38:15.365Z"
   },
   {
    "duration": 5558,
    "start_time": "2022-03-12T05:38:17.467Z"
   },
   {
    "duration": 3,
    "start_time": "2022-03-12T05:38:23.028Z"
   },
   {
    "duration": 24,
    "start_time": "2022-03-12T05:38:23.038Z"
   },
   {
    "duration": 9,
    "start_time": "2022-03-12T05:38:23.251Z"
   },
   {
    "duration": 23,
    "start_time": "2022-03-12T05:38:24.114Z"
   },
   {
    "duration": 9,
    "start_time": "2022-03-12T05:38:24.435Z"
   },
   {
    "duration": 77,
    "start_time": "2022-03-12T05:38:24.643Z"
   },
   {
    "duration": 86,
    "start_time": "2022-03-12T05:38:25.003Z"
   },
   {
    "duration": 75,
    "start_time": "2022-03-12T05:38:25.190Z"
   },
   {
    "duration": 4,
    "start_time": "2022-03-12T05:38:25.715Z"
   },
   {
    "duration": 341,
    "start_time": "2022-03-12T05:38:25.915Z"
   },
   {
    "duration": 328,
    "start_time": "2022-03-12T05:38:26.258Z"
   },
   {
    "duration": 5,
    "start_time": "2022-03-12T05:38:26.587Z"
   },
   {
    "duration": 10,
    "start_time": "2022-03-12T05:38:26.593Z"
   },
   {
    "duration": 32,
    "start_time": "2022-03-12T05:38:26.755Z"
   },
   {
    "duration": 328,
    "start_time": "2022-03-12T05:38:26.918Z"
   },
   {
    "duration": 23,
    "start_time": "2022-03-12T05:38:27.266Z"
   },
   {
    "duration": 4,
    "start_time": "2022-03-12T05:38:27.442Z"
   },
   {
    "duration": 304,
    "start_time": "2022-03-12T05:38:27.602Z"
   },
   {
    "duration": 168,
    "start_time": "2022-03-12T05:38:27.947Z"
   },
   {
    "duration": 2881,
    "start_time": "2022-03-12T05:38:28.629Z"
   },
   {
    "duration": 649,
    "start_time": "2022-03-12T05:38:31.512Z"
   },
   {
    "duration": 204,
    "start_time": "2022-03-12T05:38:32.165Z"
   },
   {
    "duration": 382,
    "start_time": "2022-03-12T05:38:32.371Z"
   },
   {
    "duration": 52,
    "start_time": "2022-03-12T05:38:32.754Z"
   },
   {
    "duration": 138,
    "start_time": "2022-03-12T05:38:32.807Z"
   },
   {
    "duration": 5,
    "start_time": "2022-03-12T05:38:32.947Z"
   },
   {
    "duration": 13,
    "start_time": "2022-03-12T05:38:32.954Z"
   },
   {
    "duration": 13,
    "start_time": "2022-03-12T05:38:32.968Z"
   },
   {
    "duration": 10,
    "start_time": "2022-03-12T05:38:32.983Z"
   },
   {
    "duration": 11,
    "start_time": "2022-03-12T05:38:32.995Z"
   },
   {
    "duration": 38,
    "start_time": "2022-03-12T05:38:33.008Z"
   },
   {
    "duration": 7,
    "start_time": "2022-03-12T05:38:33.047Z"
   },
   {
    "duration": 13,
    "start_time": "2022-03-12T05:38:33.055Z"
   },
   {
    "duration": 11,
    "start_time": "2022-03-12T05:38:33.069Z"
   },
   {
    "duration": 13,
    "start_time": "2022-03-12T05:38:33.081Z"
   },
   {
    "duration": 10,
    "start_time": "2022-03-12T05:38:33.178Z"
   },
   {
    "duration": 5,
    "start_time": "2022-03-12T05:49:44.838Z"
   },
   {
    "duration": 4,
    "start_time": "2022-03-12T05:49:45.874Z"
   },
   {
    "duration": 11,
    "start_time": "2022-03-12T05:49:46.683Z"
   },
   {
    "duration": 6,
    "start_time": "2022-03-12T05:50:03.644Z"
   },
   {
    "duration": 4,
    "start_time": "2022-03-12T05:50:04.243Z"
   },
   {
    "duration": 11,
    "start_time": "2022-03-12T05:50:05.027Z"
   },
   {
    "duration": 312,
    "start_time": "2022-03-12T15:08:02.236Z"
   },
   {
    "duration": 7407,
    "start_time": "2022-03-12T15:08:12.495Z"
   },
   {
    "duration": 1591,
    "start_time": "2022-03-12T15:08:19.904Z"
   },
   {
    "duration": 7268,
    "start_time": "2022-03-12T15:08:21.497Z"
   },
   {
    "duration": 10,
    "start_time": "2022-03-12T15:08:28.767Z"
   },
   {
    "duration": 46,
    "start_time": "2022-03-12T15:08:28.779Z"
   },
   {
    "duration": 12,
    "start_time": "2022-03-12T15:08:28.827Z"
   },
   {
    "duration": 44,
    "start_time": "2022-03-12T15:08:28.841Z"
   },
   {
    "duration": 11,
    "start_time": "2022-03-12T15:08:28.888Z"
   },
   {
    "duration": 112,
    "start_time": "2022-03-12T15:08:28.902Z"
   },
   {
    "duration": 106,
    "start_time": "2022-03-12T15:08:29.016Z"
   },
   {
    "duration": 88,
    "start_time": "2022-03-12T15:08:29.125Z"
   },
   {
    "duration": 28,
    "start_time": "2022-03-12T15:08:29.215Z"
   },
   {
    "duration": 83,
    "start_time": "2022-03-12T15:08:29.245Z"
   },
   {
    "duration": -2365,
    "start_time": "2022-03-12T15:08:31.696Z"
   },
   {
    "duration": -2366,
    "start_time": "2022-03-12T15:08:31.699Z"
   },
   {
    "duration": -2372,
    "start_time": "2022-03-12T15:08:31.706Z"
   },
   {
    "duration": -2373,
    "start_time": "2022-03-12T15:08:31.709Z"
   },
   {
    "duration": -2374,
    "start_time": "2022-03-12T15:08:31.712Z"
   },
   {
    "duration": -2377,
    "start_time": "2022-03-12T15:08:31.716Z"
   },
   {
    "duration": -2382,
    "start_time": "2022-03-12T15:08:31.722Z"
   },
   {
    "duration": -2383,
    "start_time": "2022-03-12T15:08:31.725Z"
   },
   {
    "duration": -2385,
    "start_time": "2022-03-12T15:08:31.728Z"
   },
   {
    "duration": 778,
    "start_time": "2022-03-12T15:08:40.707Z"
   },
   {
    "duration": 406,
    "start_time": "2022-03-12T15:09:07.353Z"
   },
   {
    "duration": 78,
    "start_time": "2022-03-12T15:09:08.201Z"
   },
   {
    "duration": 5,
    "start_time": "2022-03-12T15:09:13.001Z"
   },
   {
    "duration": 375,
    "start_time": "2022-03-12T15:09:14.283Z"
   },
   {
    "duration": 5,
    "start_time": "2022-03-12T15:09:18.090Z"
   },
   {
    "duration": 5,
    "start_time": "2022-03-12T15:09:18.955Z"
   },
   {
    "duration": 39,
    "start_time": "2022-03-12T15:09:20.078Z"
   },
   {
    "duration": 417,
    "start_time": "2022-03-12T15:09:20.712Z"
   },
   {
    "duration": 22,
    "start_time": "2022-03-12T15:09:24.254Z"
   },
   {
    "duration": 3,
    "start_time": "2022-03-12T15:09:24.968Z"
   },
   {
    "duration": 389,
    "start_time": "2022-03-12T15:09:26.018Z"
   },
   {
    "duration": 361,
    "start_time": "2022-03-12T15:09:49.741Z"
   },
   {
    "duration": 373,
    "start_time": "2022-03-12T15:10:05.188Z"
   },
   {
    "duration": 366,
    "start_time": "2022-03-12T15:11:03.569Z"
   },
   {
    "duration": 413,
    "start_time": "2022-03-12T15:11:14.344Z"
   },
   {
    "duration": 370,
    "start_time": "2022-03-12T15:14:07.940Z"
   },
   {
    "duration": 3,
    "start_time": "2022-03-12T15:28:38.622Z"
   },
   {
    "duration": 361,
    "start_time": "2022-03-12T15:28:39.230Z"
   },
   {
    "duration": 4,
    "start_time": "2022-03-12T15:28:40.141Z"
   },
   {
    "duration": 4,
    "start_time": "2022-03-12T15:28:44.905Z"
   },
   {
    "duration": 7359,
    "start_time": "2022-03-12T15:28:55.062Z"
   },
   {
    "duration": 7,
    "start_time": "2022-03-12T15:29:02.425Z"
   },
   {
    "duration": 6465,
    "start_time": "2022-03-12T15:29:02.435Z"
   },
   {
    "duration": 3,
    "start_time": "2022-03-12T15:29:08.902Z"
   },
   {
    "duration": 29,
    "start_time": "2022-03-12T15:29:08.907Z"
   },
   {
    "duration": 9,
    "start_time": "2022-03-12T15:29:08.938Z"
   },
   {
    "duration": 43,
    "start_time": "2022-03-12T15:29:08.949Z"
   },
   {
    "duration": 9,
    "start_time": "2022-03-12T15:29:08.995Z"
   },
   {
    "duration": 94,
    "start_time": "2022-03-12T15:29:09.006Z"
   },
   {
    "duration": 85,
    "start_time": "2022-03-12T15:29:09.102Z"
   },
   {
    "duration": 78,
    "start_time": "2022-03-12T15:29:09.189Z"
   },
   {
    "duration": 14,
    "start_time": "2022-03-12T15:29:09.268Z"
   },
   {
    "duration": 388,
    "start_time": "2022-03-12T15:29:09.284Z"
   },
   {
    "duration": 4,
    "start_time": "2022-03-12T15:29:09.674Z"
   },
   {
    "duration": 371,
    "start_time": "2022-03-12T15:29:09.680Z"
   },
   {
    "duration": 4,
    "start_time": "2022-03-12T15:29:10.053Z"
   },
   {
    "duration": 6,
    "start_time": "2022-03-12T15:29:10.059Z"
   },
   {
    "duration": 36,
    "start_time": "2022-03-12T15:29:10.078Z"
   },
   {
    "duration": 427,
    "start_time": "2022-03-12T15:29:10.116Z"
   },
   {
    "duration": 17,
    "start_time": "2022-03-12T15:29:10.545Z"
   },
   {
    "duration": 14,
    "start_time": "2022-03-12T15:29:10.564Z"
   },
   {
    "duration": 84,
    "start_time": "2022-03-12T15:29:40.061Z"
   },
   {
    "duration": 4,
    "start_time": "2022-03-12T15:29:48.149Z"
   },
   {
    "duration": 91,
    "start_time": "2022-03-12T15:30:40.611Z"
   },
   {
    "duration": 354,
    "start_time": "2022-03-12T15:30:53.079Z"
   },
   {
    "duration": 4,
    "start_time": "2022-03-12T15:31:46.198Z"
   },
   {
    "duration": 360,
    "start_time": "2022-03-12T15:31:47.035Z"
   },
   {
    "duration": 274,
    "start_time": "2022-03-12T15:59:20.158Z"
   },
   {
    "duration": 7430,
    "start_time": "2022-03-12T15:59:32.432Z"
   },
   {
    "duration": 4,
    "start_time": "2022-03-12T15:59:39.865Z"
   },
   {
    "duration": 9523,
    "start_time": "2022-03-12T15:59:39.871Z"
   },
   {
    "duration": 10,
    "start_time": "2022-03-12T15:59:49.397Z"
   },
   {
    "duration": 32,
    "start_time": "2022-03-12T15:59:49.412Z"
   },
   {
    "duration": 14,
    "start_time": "2022-03-12T15:59:49.447Z"
   },
   {
    "duration": 48,
    "start_time": "2022-03-12T15:59:49.463Z"
   },
   {
    "duration": 13,
    "start_time": "2022-03-12T15:59:49.513Z"
   },
   {
    "duration": 120,
    "start_time": "2022-03-12T15:59:49.529Z"
   },
   {
    "duration": 100,
    "start_time": "2022-03-12T15:59:49.652Z"
   },
   {
    "duration": 93,
    "start_time": "2022-03-12T15:59:49.754Z"
   },
   {
    "duration": 12,
    "start_time": "2022-03-12T15:59:49.850Z"
   },
   {
    "duration": 482,
    "start_time": "2022-03-12T15:59:49.865Z"
   },
   {
    "duration": 3,
    "start_time": "2022-03-12T15:59:50.350Z"
   },
   {
    "duration": 373,
    "start_time": "2022-03-12T15:59:50.355Z"
   },
   {
    "duration": 5,
    "start_time": "2022-03-12T15:59:50.730Z"
   },
   {
    "duration": 6,
    "start_time": "2022-03-12T15:59:50.737Z"
   },
   {
    "duration": 60,
    "start_time": "2022-03-12T15:59:50.745Z"
   },
   {
    "duration": 412,
    "start_time": "2022-03-12T15:59:50.807Z"
   },
   {
    "duration": 19,
    "start_time": "2022-03-12T15:59:51.221Z"
   },
   {
    "duration": 5,
    "start_time": "2022-03-12T15:59:51.242Z"
   },
   {
    "duration": 398,
    "start_time": "2022-03-12T15:59:51.249Z"
   },
   {
    "duration": 213,
    "start_time": "2022-03-12T15:59:51.649Z"
   },
   {
    "duration": 705,
    "start_time": "2022-03-12T15:59:51.864Z"
   },
   {
    "duration": 627,
    "start_time": "2022-03-12T15:59:52.572Z"
   },
   {
    "duration": 226,
    "start_time": "2022-03-12T15:59:53.201Z"
   },
   {
    "duration": 3,
    "start_time": "2022-03-12T15:59:53.430Z"
   },
   {
    "duration": 129,
    "start_time": "2022-03-12T16:00:15.607Z"
   },
   {
    "duration": 264,
    "start_time": "2022-03-12T16:00:42.540Z"
   },
   {
    "duration": 399,
    "start_time": "2022-03-12T16:05:17.002Z"
   },
   {
    "duration": 398,
    "start_time": "2022-03-12T16:05:54.001Z"
   },
   {
    "duration": 407,
    "start_time": "2022-03-12T16:06:00.001Z"
   },
   {
    "duration": 424,
    "start_time": "2022-03-12T16:06:13.177Z"
   },
   {
    "duration": 59,
    "start_time": "2022-03-12T16:06:13.603Z"
   },
   {
    "duration": 166,
    "start_time": "2022-03-12T16:06:13.665Z"
   },
   {
    "duration": 10,
    "start_time": "2022-03-12T16:06:13.835Z"
   },
   {
    "duration": 9,
    "start_time": "2022-03-12T16:06:13.848Z"
   },
   {
    "duration": 747,
    "start_time": "2022-03-12T16:06:13.876Z"
   },
   {
    "duration": -2296,
    "start_time": "2022-03-12T16:06:16.922Z"
   },
   {
    "duration": -2300,
    "start_time": "2022-03-12T16:06:16.927Z"
   },
   {
    "duration": -2307,
    "start_time": "2022-03-12T16:06:16.935Z"
   },
   {
    "duration": -2310,
    "start_time": "2022-03-12T16:06:16.939Z"
   },
   {
    "duration": -2312,
    "start_time": "2022-03-12T16:06:16.942Z"
   },
   {
    "duration": -2315,
    "start_time": "2022-03-12T16:06:16.946Z"
   },
   {
    "duration": -2320,
    "start_time": "2022-03-12T16:06:16.954Z"
   },
   {
    "duration": -2322,
    "start_time": "2022-03-12T16:06:16.957Z"
   },
   {
    "duration": 7489,
    "start_time": "2022-03-12T16:08:01.626Z"
   },
   {
    "duration": 4,
    "start_time": "2022-03-12T16:08:09.117Z"
   },
   {
    "duration": 8938,
    "start_time": "2022-03-12T16:08:09.124Z"
   },
   {
    "duration": 4,
    "start_time": "2022-03-12T16:08:18.064Z"
   },
   {
    "duration": 35,
    "start_time": "2022-03-12T16:08:18.070Z"
   },
   {
    "duration": 10,
    "start_time": "2022-03-12T16:08:18.107Z"
   },
   {
    "duration": 38,
    "start_time": "2022-03-12T16:08:18.119Z"
   },
   {
    "duration": 28,
    "start_time": "2022-03-12T16:08:18.160Z"
   },
   {
    "duration": 100,
    "start_time": "2022-03-12T16:08:18.192Z"
   },
   {
    "duration": 88,
    "start_time": "2022-03-12T16:08:18.295Z"
   },
   {
    "duration": 92,
    "start_time": "2022-03-12T16:08:18.385Z"
   },
   {
    "duration": 13,
    "start_time": "2022-03-12T16:08:18.479Z"
   },
   {
    "duration": 407,
    "start_time": "2022-03-12T16:08:18.494Z"
   },
   {
    "duration": 4,
    "start_time": "2022-03-12T16:08:18.903Z"
   },
   {
    "duration": 391,
    "start_time": "2022-03-12T16:08:18.909Z"
   },
   {
    "duration": 7,
    "start_time": "2022-03-12T16:08:19.302Z"
   },
   {
    "duration": 5,
    "start_time": "2022-03-12T16:08:19.311Z"
   },
   {
    "duration": 63,
    "start_time": "2022-03-12T16:08:19.318Z"
   },
   {
    "duration": 421,
    "start_time": "2022-03-12T16:08:19.382Z"
   },
   {
    "duration": 20,
    "start_time": "2022-03-12T16:08:19.805Z"
   },
   {
    "duration": 4,
    "start_time": "2022-03-12T16:08:19.827Z"
   },
   {
    "duration": 393,
    "start_time": "2022-03-12T16:08:19.833Z"
   },
   {
    "duration": 214,
    "start_time": "2022-03-12T16:08:20.228Z"
   },
   {
    "duration": 249,
    "start_time": "2022-03-12T16:08:20.445Z"
   },
   {
    "duration": 149,
    "start_time": "2022-03-12T16:08:20.696Z"
   },
   {
    "duration": 179,
    "start_time": "2022-03-12T16:08:20.848Z"
   },
   {
    "duration": 4,
    "start_time": "2022-03-12T16:08:21.032Z"
   },
   {
    "duration": 335,
    "start_time": "2022-03-12T16:08:21.039Z"
   },
   {
    "duration": 137,
    "start_time": "2022-03-12T16:08:21.377Z"
   },
   {
    "duration": 416,
    "start_time": "2022-03-12T16:08:21.516Z"
   },
   {
    "duration": 67,
    "start_time": "2022-03-12T16:08:21.934Z"
   },
   {
    "duration": 150,
    "start_time": "2022-03-12T16:08:22.003Z"
   },
   {
    "duration": 8,
    "start_time": "2022-03-12T16:08:22.155Z"
   },
   {
    "duration": 16,
    "start_time": "2022-03-12T16:08:22.166Z"
   },
   {
    "duration": 555,
    "start_time": "2022-03-12T16:08:22.185Z"
   },
   {
    "duration": -2283,
    "start_time": "2022-03-12T16:08:25.025Z"
   },
   {
    "duration": -2287,
    "start_time": "2022-03-12T16:08:25.030Z"
   },
   {
    "duration": -2294,
    "start_time": "2022-03-12T16:08:25.038Z"
   },
   {
    "duration": -2297,
    "start_time": "2022-03-12T16:08:25.042Z"
   },
   {
    "duration": -2301,
    "start_time": "2022-03-12T16:08:25.047Z"
   },
   {
    "duration": -2308,
    "start_time": "2022-03-12T16:08:25.055Z"
   },
   {
    "duration": -2311,
    "start_time": "2022-03-12T16:08:25.059Z"
   },
   {
    "duration": -2315,
    "start_time": "2022-03-12T16:08:25.064Z"
   },
   {
    "duration": 4,
    "start_time": "2022-03-12T16:12:12.598Z"
   },
   {
    "duration": 27,
    "start_time": "2022-03-12T16:12:12.607Z"
   },
   {
    "duration": 19,
    "start_time": "2022-03-12T16:12:12.636Z"
   },
   {
    "duration": 32,
    "start_time": "2022-03-12T16:12:12.657Z"
   },
   {
    "duration": 12,
    "start_time": "2022-03-12T16:12:12.691Z"
   },
   {
    "duration": 32,
    "start_time": "2022-03-12T16:12:12.705Z"
   },
   {
    "duration": 37,
    "start_time": "2022-03-12T16:12:12.739Z"
   },
   {
    "duration": 26,
    "start_time": "2022-03-12T16:12:12.777Z"
   },
   {
    "duration": 31,
    "start_time": "2022-03-12T16:12:12.805Z"
   },
   {
    "duration": 23,
    "start_time": "2022-03-12T16:12:12.838Z"
   },
   {
    "duration": 11,
    "start_time": "2022-03-12T16:12:35.545Z"
   },
   {
    "duration": 3,
    "start_time": "2022-03-12T16:12:35.569Z"
   },
   {
    "duration": 13,
    "start_time": "2022-03-12T16:12:35.575Z"
   },
   {
    "duration": 21,
    "start_time": "2022-03-12T16:12:35.590Z"
   },
   {
    "duration": 11,
    "start_time": "2022-03-12T16:12:35.614Z"
   },
   {
    "duration": 16,
    "start_time": "2022-03-12T16:12:35.627Z"
   },
   {
    "duration": 32332,
    "start_time": "2022-03-13T07:05:27.956Z"
   },
   {
    "duration": 7266,
    "start_time": "2022-03-13T07:06:00.290Z"
   },
   {
    "duration": 7,
    "start_time": "2022-03-13T07:06:07.558Z"
   },
   {
    "duration": 24,
    "start_time": "2022-03-13T07:06:07.566Z"
   },
   {
    "duration": 7,
    "start_time": "2022-03-13T07:06:07.592Z"
   },
   {
    "duration": 25,
    "start_time": "2022-03-13T07:06:07.600Z"
   },
   {
    "duration": 7,
    "start_time": "2022-03-13T07:06:07.627Z"
   },
   {
    "duration": 102,
    "start_time": "2022-03-13T07:06:07.636Z"
   },
   {
    "duration": 88,
    "start_time": "2022-03-13T07:06:07.740Z"
   },
   {
    "duration": 74,
    "start_time": "2022-03-13T07:06:07.830Z"
   },
   {
    "duration": 17,
    "start_time": "2022-03-13T07:06:07.906Z"
   },
   {
    "duration": 342,
    "start_time": "2022-03-13T07:06:07.925Z"
   },
   {
    "duration": 4,
    "start_time": "2022-03-13T07:06:08.269Z"
   },
   {
    "duration": 345,
    "start_time": "2022-03-13T07:06:08.274Z"
   },
   {
    "duration": 4,
    "start_time": "2022-03-13T07:06:08.621Z"
   },
   {
    "duration": 6,
    "start_time": "2022-03-13T07:06:08.627Z"
   },
   {
    "duration": 50,
    "start_time": "2022-03-13T07:06:08.634Z"
   },
   {
    "duration": 323,
    "start_time": "2022-03-13T07:06:08.686Z"
   },
   {
    "duration": 26,
    "start_time": "2022-03-13T07:06:09.012Z"
   },
   {
    "duration": 5,
    "start_time": "2022-03-13T07:06:09.040Z"
   },
   {
    "duration": 335,
    "start_time": "2022-03-13T07:06:09.047Z"
   },
   {
    "duration": 183,
    "start_time": "2022-03-13T07:06:09.384Z"
   },
   {
    "duration": 114467,
    "start_time": "2022-03-13T07:06:09.571Z"
   },
   {
    "duration": 721,
    "start_time": "2022-03-13T07:08:04.041Z"
   },
   {
    "duration": 116,
    "start_time": "2022-03-13T07:08:04.764Z"
   },
   {
    "duration": 150674,
    "start_time": "2022-03-13T07:05:34.208Z"
   },
   {
    "duration": 111,
    "start_time": "2022-03-13T07:08:49.582Z"
   },
   {
    "duration": 113,
    "start_time": "2022-03-13T07:08:52.233Z"
   },
   {
    "duration": 4,
    "start_time": "2022-03-13T07:09:00.577Z"
   },
   {
    "duration": 257,
    "start_time": "2022-03-13T07:09:00.582Z"
   },
   {
    "duration": 117,
    "start_time": "2022-03-13T07:09:02.234Z"
   },
   {
    "duration": 360,
    "start_time": "2022-03-13T07:09:02.353Z"
   },
   {
    "duration": 54,
    "start_time": "2022-03-13T07:09:07.382Z"
   },
   {
    "duration": 141,
    "start_time": "2022-03-13T07:09:08.977Z"
   },
   {
    "duration": 5,
    "start_time": "2022-03-13T07:09:09.120Z"
   },
   {
    "duration": 25,
    "start_time": "2022-03-13T07:09:09.127Z"
   },
   {
    "duration": 25,
    "start_time": "2022-03-13T07:09:09.154Z"
   },
   {
    "duration": 31,
    "start_time": "2022-03-13T07:09:09.181Z"
   },
   {
    "duration": 16,
    "start_time": "2022-03-13T07:09:09.213Z"
   },
   {
    "duration": 15,
    "start_time": "2022-03-13T07:09:09.230Z"
   },
   {
    "duration": 10,
    "start_time": "2022-03-13T07:09:09.247Z"
   },
   {
    "duration": 22,
    "start_time": "2022-03-13T07:09:09.259Z"
   },
   {
    "duration": 20,
    "start_time": "2022-03-13T07:09:09.283Z"
   },
   {
    "duration": 40,
    "start_time": "2022-03-13T07:09:09.304Z"
   },
   {
    "duration": 8,
    "start_time": "2022-03-13T07:09:09.346Z"
   },
   {
    "duration": 23,
    "start_time": "2022-03-13T07:11:31.240Z"
   },
   {
    "duration": 3124,
    "start_time": "2022-03-13T07:11:31.588Z"
   },
   {
    "duration": 152657,
    "start_time": "2022-03-13T07:09:02.459Z"
   },
   {
    "duration": 152645,
    "start_time": "2022-03-13T07:09:02.473Z"
   },
   {
    "duration": 152658,
    "start_time": "2022-03-13T07:09:02.482Z"
   },
   {
    "duration": 152656,
    "start_time": "2022-03-13T07:09:02.485Z"
   },
   {
    "duration": 152655,
    "start_time": "2022-03-13T07:09:02.487Z"
   },
   {
    "duration": 152654,
    "start_time": "2022-03-13T07:09:02.489Z"
   },
   {
    "duration": 152653,
    "start_time": "2022-03-13T07:09:02.491Z"
   },
   {
    "duration": 152651,
    "start_time": "2022-03-13T07:09:02.493Z"
   },
   {
    "duration": 152649,
    "start_time": "2022-03-13T07:09:02.496Z"
   },
   {
    "duration": 152648,
    "start_time": "2022-03-13T07:09:02.498Z"
   },
   {
    "duration": 152647,
    "start_time": "2022-03-13T07:09:02.500Z"
   },
   {
    "duration": 152646,
    "start_time": "2022-03-13T07:09:02.502Z"
   },
   {
    "duration": 152643,
    "start_time": "2022-03-13T07:09:02.506Z"
   },
   {
    "duration": 152641,
    "start_time": "2022-03-13T07:09:02.508Z"
   },
   {
    "duration": 152641,
    "start_time": "2022-03-13T07:09:02.510Z"
   },
   {
    "duration": 152640,
    "start_time": "2022-03-13T07:09:02.512Z"
   },
   {
    "duration": 152638,
    "start_time": "2022-03-13T07:09:02.515Z"
   },
   {
    "duration": 152642,
    "start_time": "2022-03-13T07:09:02.523Z"
   },
   {
    "duration": 152643,
    "start_time": "2022-03-13T07:09:02.525Z"
   },
   {
    "duration": 377,
    "start_time": "2022-03-13T07:11:36.323Z"
   },
   {
    "duration": 3,
    "start_time": "2022-03-13T07:11:44.873Z"
   },
   {
    "duration": 23,
    "start_time": "2022-03-13T07:11:45.131Z"
   },
   {
    "duration": 9,
    "start_time": "2022-03-13T07:11:45.804Z"
   },
   {
    "duration": 24,
    "start_time": "2022-03-13T07:11:46.052Z"
   },
   {
    "duration": 9,
    "start_time": "2022-03-13T07:11:46.259Z"
   },
   {
    "duration": 62,
    "start_time": "2022-03-13T07:11:46.536Z"
   },
   {
    "duration": 72,
    "start_time": "2022-03-13T07:11:47.022Z"
   },
   {
    "duration": 71,
    "start_time": "2022-03-13T07:11:47.230Z"
   },
   {
    "duration": 3,
    "start_time": "2022-03-13T07:11:48.043Z"
   },
   {
    "duration": 325,
    "start_time": "2022-03-13T07:11:48.243Z"
   },
   {
    "duration": 3,
    "start_time": "2022-03-13T07:11:48.571Z"
   },
   {
    "duration": 310,
    "start_time": "2022-03-13T07:11:48.635Z"
   },
   {
    "duration": 5,
    "start_time": "2022-03-13T07:11:49.067Z"
   },
   {
    "duration": 5,
    "start_time": "2022-03-13T07:11:49.259Z"
   },
   {
    "duration": 32,
    "start_time": "2022-03-13T07:11:49.651Z"
   },
   {
    "duration": 312,
    "start_time": "2022-03-13T07:11:49.851Z"
   },
   {
    "duration": 18,
    "start_time": "2022-03-13T07:11:50.411Z"
   },
   {
    "duration": 4,
    "start_time": "2022-03-13T07:11:50.648Z"
   },
   {
    "duration": 324,
    "start_time": "2022-03-13T07:11:50.804Z"
   },
   {
    "duration": 167,
    "start_time": "2022-03-13T07:11:51.643Z"
   },
   {
    "duration": 194,
    "start_time": "2022-03-13T07:11:53.675Z"
   },
   {
    "duration": 131,
    "start_time": "2022-03-13T07:11:55.547Z"
   },
   {
    "duration": 281,
    "start_time": "2022-03-13T07:11:57.411Z"
   },
   {
    "duration": 5,
    "start_time": "2022-03-13T07:15:34.761Z"
   },
   {
    "duration": 4,
    "start_time": "2022-03-13T07:15:35.965Z"
   },
   {
    "duration": 10,
    "start_time": "2022-03-13T07:15:40.736Z"
   },
   {
    "duration": 6,
    "start_time": "2022-03-13T07:16:42.717Z"
   },
   {
    "duration": 4,
    "start_time": "2022-03-13T07:16:45.061Z"
   },
   {
    "duration": 8,
    "start_time": "2022-03-13T07:16:46.853Z"
   },
   {
    "duration": 2448,
    "start_time": "2022-03-13T09:28:32.977Z"
   },
   {
    "duration": 1459,
    "start_time": "2022-03-13T09:28:35.427Z"
   },
   {
    "duration": 7222,
    "start_time": "2022-03-13T09:28:36.888Z"
   },
   {
    "duration": 3,
    "start_time": "2022-03-13T09:28:44.113Z"
   },
   {
    "duration": 25,
    "start_time": "2022-03-13T09:28:44.117Z"
   },
   {
    "duration": 7,
    "start_time": "2022-03-13T09:28:44.144Z"
   },
   {
    "duration": 21,
    "start_time": "2022-03-13T09:28:44.153Z"
   },
   {
    "duration": 29,
    "start_time": "2022-03-13T09:28:44.176Z"
   },
   {
    "duration": 78,
    "start_time": "2022-03-13T09:28:44.207Z"
   },
   {
    "duration": 85,
    "start_time": "2022-03-13T09:28:44.287Z"
   },
   {
    "duration": 85,
    "start_time": "2022-03-13T09:28:44.373Z"
   },
   {
    "duration": 4,
    "start_time": "2022-03-13T09:28:44.460Z"
   },
   {
    "duration": 345,
    "start_time": "2022-03-13T09:28:44.465Z"
   },
   {
    "duration": 3,
    "start_time": "2022-03-13T09:28:44.811Z"
   },
   {
    "duration": 312,
    "start_time": "2022-03-13T09:28:44.816Z"
   },
   {
    "duration": 4,
    "start_time": "2022-03-13T09:28:45.129Z"
   },
   {
    "duration": 4,
    "start_time": "2022-03-13T09:28:45.135Z"
   },
   {
    "duration": 29,
    "start_time": "2022-03-13T09:28:45.140Z"
   },
   {
    "duration": 308,
    "start_time": "2022-03-13T09:28:45.171Z"
   },
   {
    "duration": 25,
    "start_time": "2022-03-13T09:28:45.480Z"
   },
   {
    "duration": 4,
    "start_time": "2022-03-13T09:28:45.506Z"
   },
   {
    "duration": 304,
    "start_time": "2022-03-13T09:28:45.511Z"
   },
   {
    "duration": 166,
    "start_time": "2022-03-13T09:28:45.818Z"
   },
   {
    "duration": 721,
    "start_time": "2022-03-13T09:28:45.987Z"
   },
   {
    "duration": 559,
    "start_time": "2022-03-13T09:28:46.709Z"
   },
   {
    "duration": 177,
    "start_time": "2022-03-13T09:28:47.269Z"
   },
   {
    "duration": 3,
    "start_time": "2022-03-13T09:28:47.448Z"
   },
   {
    "duration": 132,
    "start_time": "2022-03-13T09:28:47.453Z"
   },
   {
    "duration": 208,
    "start_time": "2022-03-13T09:28:47.586Z"
   },
   {
    "duration": 328,
    "start_time": "2022-03-13T09:28:47.795Z"
   },
   {
    "duration": 59,
    "start_time": "2022-03-13T09:28:48.125Z"
   },
   {
    "duration": 124,
    "start_time": "2022-03-13T09:28:48.185Z"
   },
   {
    "duration": 4,
    "start_time": "2022-03-13T09:28:48.311Z"
   },
   {
    "duration": 6,
    "start_time": "2022-03-13T09:28:48.317Z"
   },
   {
    "duration": 10,
    "start_time": "2022-03-13T09:28:48.324Z"
   },
   {
    "duration": 10,
    "start_time": "2022-03-13T09:28:48.335Z"
   },
   {
    "duration": 7,
    "start_time": "2022-03-13T09:28:48.346Z"
   },
   {
    "duration": 8,
    "start_time": "2022-03-13T09:28:48.355Z"
   },
   {
    "duration": 3,
    "start_time": "2022-03-13T09:28:48.400Z"
   },
   {
    "duration": 9,
    "start_time": "2022-03-13T09:28:48.404Z"
   },
   {
    "duration": 9,
    "start_time": "2022-03-13T09:28:48.414Z"
   },
   {
    "duration": 14,
    "start_time": "2022-03-13T09:28:48.425Z"
   },
   {
    "duration": 9,
    "start_time": "2022-03-13T09:28:48.440Z"
   },
   {
    "duration": 5,
    "start_time": "2022-03-13T09:30:52.082Z"
   },
   {
    "duration": 506,
    "start_time": "2022-03-13T09:37:16.084Z"
   },
   {
    "duration": 2489,
    "start_time": "2022-03-13T09:37:59.867Z"
   },
   {
    "duration": 4,
    "start_time": "2022-03-13T09:38:02.358Z"
   },
   {
    "duration": 6068,
    "start_time": "2022-03-13T09:38:02.364Z"
   },
   {
    "duration": 2,
    "start_time": "2022-03-13T09:38:08.434Z"
   },
   {
    "duration": 24,
    "start_time": "2022-03-13T09:38:08.438Z"
   },
   {
    "duration": 6,
    "start_time": "2022-03-13T09:38:08.464Z"
   },
   {
    "duration": 41,
    "start_time": "2022-03-13T09:38:08.471Z"
   },
   {
    "duration": 8,
    "start_time": "2022-03-13T09:38:08.514Z"
   },
   {
    "duration": 77,
    "start_time": "2022-03-13T09:38:08.524Z"
   },
   {
    "duration": 63,
    "start_time": "2022-03-13T09:38:08.603Z"
   },
   {
    "duration": 90,
    "start_time": "2022-03-13T09:38:08.667Z"
   },
   {
    "duration": 4,
    "start_time": "2022-03-13T09:38:08.759Z"
   },
   {
    "duration": 331,
    "start_time": "2022-03-13T09:38:08.765Z"
   },
   {
    "duration": 3,
    "start_time": "2022-03-13T09:38:09.100Z"
   },
   {
    "duration": 300,
    "start_time": "2022-03-13T09:38:09.105Z"
   },
   {
    "duration": 5,
    "start_time": "2022-03-13T09:38:09.407Z"
   },
   {
    "duration": 5,
    "start_time": "2022-03-13T09:38:09.414Z"
   },
   {
    "duration": 32,
    "start_time": "2022-03-13T09:38:09.421Z"
   },
   {
    "duration": 328,
    "start_time": "2022-03-13T09:38:09.455Z"
   },
   {
    "duration": 21,
    "start_time": "2022-03-13T09:38:09.785Z"
   },
   {
    "duration": 3,
    "start_time": "2022-03-13T09:38:09.808Z"
   },
   {
    "duration": 300,
    "start_time": "2022-03-13T09:38:09.812Z"
   },
   {
    "duration": 166,
    "start_time": "2022-03-13T09:38:10.114Z"
   },
   {
    "duration": 199,
    "start_time": "2022-03-13T09:38:10.282Z"
   },
   {
    "duration": 112,
    "start_time": "2022-03-13T09:38:10.483Z"
   },
   {
    "duration": 109,
    "start_time": "2022-03-13T09:38:10.602Z"
   },
   {
    "duration": 3,
    "start_time": "2022-03-13T09:38:10.713Z"
   },
   {
    "duration": 249,
    "start_time": "2022-03-13T09:38:10.718Z"
   },
   {
    "duration": 108,
    "start_time": "2022-03-13T09:38:10.969Z"
   },
   {
    "duration": 358,
    "start_time": "2022-03-13T09:38:11.079Z"
   },
   {
    "duration": 47,
    "start_time": "2022-03-13T09:38:11.439Z"
   },
   {
    "duration": 141,
    "start_time": "2022-03-13T09:38:11.488Z"
   },
   {
    "duration": 4,
    "start_time": "2022-03-13T09:38:11.631Z"
   },
   {
    "duration": 7,
    "start_time": "2022-03-13T09:38:11.637Z"
   },
   {
    "duration": 379,
    "start_time": "2022-03-13T09:38:15.649Z"
   },
   {
    "duration": 151,
    "start_time": "2022-03-13T09:38:43.881Z"
   },
   {
    "duration": 251,
    "start_time": "2022-03-13T09:38:50.580Z"
   },
   {
    "duration": 168,
    "start_time": "2022-03-13T09:40:37.550Z"
   },
   {
    "duration": 157,
    "start_time": "2022-03-13T09:40:55.345Z"
   },
   {
    "duration": 4,
    "start_time": "2022-03-13T09:41:54.627Z"
   },
   {
    "duration": 161,
    "start_time": "2022-03-13T10:02:15.674Z"
   },
   {
    "duration": 158,
    "start_time": "2022-03-13T10:02:41.362Z"
   },
   {
    "duration": 8319,
    "start_time": "2022-03-13T10:03:21.699Z"
   },
   {
    "duration": 8296,
    "start_time": "2022-03-13T10:03:53.440Z"
   },
   {
    "duration": 163,
    "start_time": "2022-03-13T10:05:01.865Z"
   },
   {
    "duration": 155,
    "start_time": "2022-03-13T10:05:11.504Z"
   },
   {
    "duration": 8356,
    "start_time": "2022-03-13T10:05:31.934Z"
   },
   {
    "duration": 163,
    "start_time": "2022-03-13T10:05:52.766Z"
   },
   {
    "duration": 157,
    "start_time": "2022-03-13T10:06:09.920Z"
   },
   {
    "duration": 173,
    "start_time": "2022-03-13T10:07:22.049Z"
   },
   {
    "duration": 6601,
    "start_time": "2022-03-13T10:07:30.093Z"
   },
   {
    "duration": 180,
    "start_time": "2022-03-13T10:07:40.423Z"
   },
   {
    "duration": 6428,
    "start_time": "2022-03-13T10:08:00.302Z"
   },
   {
    "duration": 329,
    "start_time": "2022-03-13T10:08:11.608Z"
   },
   {
    "duration": 165,
    "start_time": "2022-03-13T10:08:32.370Z"
   },
   {
    "duration": 487,
    "start_time": "2022-03-13T10:09:33.416Z"
   },
   {
    "duration": 172,
    "start_time": "2022-03-13T10:09:38.768Z"
   },
   {
    "duration": 177,
    "start_time": "2022-03-13T10:09:46.975Z"
   },
   {
    "duration": 6204,
    "start_time": "2022-03-13T10:09:52.240Z"
   },
   {
    "duration": 8246,
    "start_time": "2022-03-13T10:10:05.774Z"
   },
   {
    "duration": 172,
    "start_time": "2022-03-13T10:10:21.914Z"
   },
   {
    "duration": 167,
    "start_time": "2022-03-13T10:10:37.698Z"
   },
   {
    "duration": 8195,
    "start_time": "2022-03-13T10:10:43.854Z"
   },
   {
    "duration": 553,
    "start_time": "2022-03-13T10:13:56.361Z"
   },
   {
    "duration": 6,
    "start_time": "2022-03-13T10:16:01.549Z"
   },
   {
    "duration": 6597,
    "start_time": "2022-03-13T10:17:04.945Z"
   },
   {
    "duration": 6,
    "start_time": "2022-03-13T10:17:23.872Z"
   },
   {
    "duration": 5,
    "start_time": "2022-03-13T10:17:44.501Z"
   },
   {
    "duration": 4,
    "start_time": "2022-03-13T10:18:39.122Z"
   },
   {
    "duration": 2118,
    "start_time": "2022-03-13T10:18:48.545Z"
   },
   {
    "duration": 4,
    "start_time": "2022-03-13T10:18:50.666Z"
   },
   {
    "duration": 4921,
    "start_time": "2022-03-13T10:18:50.672Z"
   },
   {
    "duration": 2,
    "start_time": "2022-03-13T10:18:55.595Z"
   },
   {
    "duration": 24,
    "start_time": "2022-03-13T10:18:55.599Z"
   },
   {
    "duration": 9,
    "start_time": "2022-03-13T10:18:55.624Z"
   },
   {
    "duration": 23,
    "start_time": "2022-03-13T10:18:55.635Z"
   },
   {
    "duration": 8,
    "start_time": "2022-03-13T10:18:55.660Z"
   },
   {
    "duration": 81,
    "start_time": "2022-03-13T10:18:55.670Z"
   },
   {
    "duration": 72,
    "start_time": "2022-03-13T10:18:55.753Z"
   },
   {
    "duration": 66,
    "start_time": "2022-03-13T10:18:55.827Z"
   },
   {
    "duration": 2,
    "start_time": "2022-03-13T10:18:55.901Z"
   },
   {
    "duration": 327,
    "start_time": "2022-03-13T10:18:55.905Z"
   },
   {
    "duration": 2,
    "start_time": "2022-03-13T10:18:56.234Z"
   },
   {
    "duration": 298,
    "start_time": "2022-03-13T10:18:56.238Z"
   },
   {
    "duration": 4,
    "start_time": "2022-03-13T10:18:56.538Z"
   },
   {
    "duration": 4,
    "start_time": "2022-03-13T10:18:56.543Z"
   },
   {
    "duration": 52,
    "start_time": "2022-03-13T10:18:56.549Z"
   },
   {
    "duration": 299,
    "start_time": "2022-03-13T10:18:56.603Z"
   },
   {
    "duration": 16,
    "start_time": "2022-03-13T10:18:56.904Z"
   },
   {
    "duration": 4,
    "start_time": "2022-03-13T10:18:56.922Z"
   },
   {
    "duration": 308,
    "start_time": "2022-03-13T10:18:56.927Z"
   },
   {
    "duration": 158,
    "start_time": "2022-03-13T10:18:57.238Z"
   },
   {
    "duration": 198,
    "start_time": "2022-03-13T10:18:57.398Z"
   },
   {
    "duration": 116,
    "start_time": "2022-03-13T10:18:57.601Z"
   },
   {
    "duration": 250,
    "start_time": "2022-03-13T10:18:57.718Z"
   },
   {
    "duration": 3,
    "start_time": "2022-03-13T10:18:57.970Z"
   },
   {
    "duration": 108,
    "start_time": "2022-03-13T10:18:57.974Z"
   },
   {
    "duration": 99,
    "start_time": "2022-03-13T10:18:58.084Z"
   },
   {
    "duration": 339,
    "start_time": "2022-03-13T10:18:58.185Z"
   },
   {
    "duration": 44,
    "start_time": "2022-03-13T10:18:58.525Z"
   },
   {
    "duration": 113,
    "start_time": "2022-03-13T10:18:58.571Z"
   },
   {
    "duration": 5,
    "start_time": "2022-03-13T10:18:58.685Z"
   },
   {
    "duration": 36,
    "start_time": "2022-03-13T10:18:58.691Z"
   },
   {
    "duration": 4,
    "start_time": "2022-03-13T10:19:02.862Z"
   },
   {
    "duration": 16,
    "start_time": "2022-03-13T10:19:02.868Z"
   },
   {
    "duration": 8,
    "start_time": "2022-03-13T10:19:03.910Z"
   },
   {
    "duration": 27,
    "start_time": "2022-03-13T10:19:03.920Z"
   },
   {
    "duration": 633,
    "start_time": "2022-03-13T10:19:03.949Z"
   },
   {
    "duration": -45,
    "start_time": "2022-03-13T10:19:04.629Z"
   },
   {
    "duration": -323,
    "start_time": "2022-03-13T10:19:04.907Z"
   },
   {
    "duration": -340,
    "start_time": "2022-03-13T10:19:04.926Z"
   },
   {
    "duration": -352,
    "start_time": "2022-03-13T10:19:04.939Z"
   },
   {
    "duration": -363,
    "start_time": "2022-03-13T10:19:04.951Z"
   },
   {
    "duration": 6,
    "start_time": "2022-03-13T10:19:34.262Z"
   },
   {
    "duration": 333,
    "start_time": "2022-03-13T10:19:48.009Z"
   },
   {
    "duration": 3,
    "start_time": "2022-03-13T10:20:06.361Z"
   },
   {
    "duration": 7,
    "start_time": "2022-03-13T10:20:12.956Z"
   },
   {
    "duration": 491,
    "start_time": "2022-03-13T10:20:34.145Z"
   },
   {
    "duration": 7,
    "start_time": "2022-03-13T10:20:39.318Z"
   },
   {
    "duration": 7,
    "start_time": "2022-03-13T10:20:51.925Z"
   },
   {
    "duration": 2415,
    "start_time": "2022-03-13T10:20:58.995Z"
   },
   {
    "duration": 5,
    "start_time": "2022-03-13T10:21:01.413Z"
   },
   {
    "duration": 3209,
    "start_time": "2022-03-13T10:21:01.420Z"
   },
   {
    "duration": 3,
    "start_time": "2022-03-13T10:21:04.631Z"
   },
   {
    "duration": 24,
    "start_time": "2022-03-13T10:21:04.635Z"
   },
   {
    "duration": 7,
    "start_time": "2022-03-13T10:21:04.661Z"
   },
   {
    "duration": 37,
    "start_time": "2022-03-13T10:21:04.670Z"
   },
   {
    "duration": 7,
    "start_time": "2022-03-13T10:21:04.709Z"
   },
   {
    "duration": 57,
    "start_time": "2022-03-13T10:21:04.718Z"
   },
   {
    "duration": 77,
    "start_time": "2022-03-13T10:21:04.776Z"
   },
   {
    "duration": 70,
    "start_time": "2022-03-13T10:21:04.855Z"
   },
   {
    "duration": 4,
    "start_time": "2022-03-13T10:21:04.926Z"
   },
   {
    "duration": 318,
    "start_time": "2022-03-13T10:21:04.931Z"
   },
   {
    "duration": 3,
    "start_time": "2022-03-13T10:21:05.251Z"
   },
   {
    "duration": 311,
    "start_time": "2022-03-13T10:21:05.255Z"
   },
   {
    "duration": 5,
    "start_time": "2022-03-13T10:21:05.567Z"
   },
   {
    "duration": 5,
    "start_time": "2022-03-13T10:21:05.573Z"
   },
   {
    "duration": 48,
    "start_time": "2022-03-13T10:21:05.580Z"
   },
   {
    "duration": 308,
    "start_time": "2022-03-13T10:21:05.630Z"
   },
   {
    "duration": 16,
    "start_time": "2022-03-13T10:21:05.940Z"
   },
   {
    "duration": 4,
    "start_time": "2022-03-13T10:21:05.958Z"
   },
   {
    "duration": 334,
    "start_time": "2022-03-13T10:21:05.963Z"
   },
   {
    "duration": 164,
    "start_time": "2022-03-13T10:21:06.300Z"
   },
   {
    "duration": 287,
    "start_time": "2022-03-13T10:21:06.466Z"
   },
   {
    "duration": 336,
    "start_time": "2022-03-13T10:21:06.755Z"
   },
   {
    "duration": 106,
    "start_time": "2022-03-13T10:21:07.101Z"
   },
   {
    "duration": 2,
    "start_time": "2022-03-13T10:21:07.209Z"
   },
   {
    "duration": 108,
    "start_time": "2022-03-13T10:21:07.213Z"
   },
   {
    "duration": 115,
    "start_time": "2022-03-13T10:21:07.323Z"
   },
   {
    "duration": 329,
    "start_time": "2022-03-13T10:21:07.439Z"
   },
   {
    "duration": 54,
    "start_time": "2022-03-13T10:21:07.769Z"
   },
   {
    "duration": 119,
    "start_time": "2022-03-13T10:21:07.825Z"
   },
   {
    "duration": 5,
    "start_time": "2022-03-13T10:21:07.946Z"
   },
   {
    "duration": 6,
    "start_time": "2022-03-13T10:21:07.954Z"
   },
   {
    "duration": 10,
    "start_time": "2022-03-13T10:21:07.961Z"
   },
   {
    "duration": -34,
    "start_time": "2022-03-13T10:21:59.527Z"
   },
   {
    "duration": 6497,
    "start_time": "2022-03-13T10:22:14.046Z"
   },
   {
    "duration": 6,
    "start_time": "2022-03-13T10:24:05.108Z"
   },
   {
    "duration": 2194,
    "start_time": "2022-03-13T10:24:09.925Z"
   },
   {
    "duration": 4,
    "start_time": "2022-03-13T10:24:12.121Z"
   },
   {
    "duration": 2931,
    "start_time": "2022-03-13T10:24:12.127Z"
   },
   {
    "duration": 3,
    "start_time": "2022-03-13T10:24:15.060Z"
   },
   {
    "duration": 47,
    "start_time": "2022-03-13T10:24:15.065Z"
   },
   {
    "duration": 10,
    "start_time": "2022-03-13T10:24:15.115Z"
   },
   {
    "duration": 21,
    "start_time": "2022-03-13T10:24:15.127Z"
   },
   {
    "duration": 7,
    "start_time": "2022-03-13T10:24:15.151Z"
   },
   {
    "duration": 93,
    "start_time": "2022-03-13T10:24:15.161Z"
   },
   {
    "duration": 71,
    "start_time": "2022-03-13T10:24:15.256Z"
   },
   {
    "duration": 74,
    "start_time": "2022-03-13T10:24:15.329Z"
   },
   {
    "duration": 4,
    "start_time": "2022-03-13T10:24:15.405Z"
   },
   {
    "duration": 324,
    "start_time": "2022-03-13T10:24:15.411Z"
   },
   {
    "duration": 3,
    "start_time": "2022-03-13T10:24:15.737Z"
   },
   {
    "duration": 307,
    "start_time": "2022-03-13T10:24:15.741Z"
   },
   {
    "duration": 4,
    "start_time": "2022-03-13T10:24:16.049Z"
   },
   {
    "duration": 5,
    "start_time": "2022-03-13T10:24:16.054Z"
   },
   {
    "duration": 46,
    "start_time": "2022-03-13T10:24:16.060Z"
   },
   {
    "duration": 306,
    "start_time": "2022-03-13T10:24:16.108Z"
   },
   {
    "duration": 23,
    "start_time": "2022-03-13T10:24:16.416Z"
   },
   {
    "duration": 4,
    "start_time": "2022-03-13T10:24:16.441Z"
   },
   {
    "duration": 310,
    "start_time": "2022-03-13T10:24:16.446Z"
   },
   {
    "duration": 169,
    "start_time": "2022-03-13T10:24:16.759Z"
   },
   {
    "duration": 194,
    "start_time": "2022-03-13T10:24:16.930Z"
   },
   {
    "duration": 268,
    "start_time": "2022-03-13T10:24:17.126Z"
   },
   {
    "duration": 118,
    "start_time": "2022-03-13T10:24:17.396Z"
   },
   {
    "duration": 3,
    "start_time": "2022-03-13T10:24:17.516Z"
   },
   {
    "duration": 124,
    "start_time": "2022-03-13T10:24:17.521Z"
   },
   {
    "duration": 122,
    "start_time": "2022-03-13T10:24:17.647Z"
   },
   {
    "duration": 465,
    "start_time": "2022-03-13T10:24:17.771Z"
   },
   {
    "duration": 47,
    "start_time": "2022-03-13T10:24:18.237Z"
   },
   {
    "duration": 244,
    "start_time": "2022-03-13T10:24:18.301Z"
   },
   {
    "duration": 4,
    "start_time": "2022-03-13T10:24:18.547Z"
   },
   {
    "duration": 5,
    "start_time": "2022-03-13T10:24:18.553Z"
   },
   {
    "duration": 11,
    "start_time": "2022-03-13T10:24:18.559Z"
   },
   {
    "duration": 1271,
    "start_time": "2022-03-13T10:24:58.782Z"
   },
   {
    "duration": 9,
    "start_time": "2022-03-13T10:25:15.260Z"
   },
   {
    "duration": 3,
    "start_time": "2022-03-13T10:25:59.821Z"
   },
   {
    "duration": 1321,
    "start_time": "2022-03-13T10:26:08.634Z"
   },
   {
    "duration": -58,
    "start_time": "2022-03-13T10:26:10.015Z"
   },
   {
    "duration": -61,
    "start_time": "2022-03-13T10:26:10.019Z"
   },
   {
    "duration": -63,
    "start_time": "2022-03-13T10:26:10.022Z"
   },
   {
    "duration": -67,
    "start_time": "2022-03-13T10:26:10.026Z"
   },
   {
    "duration": -71,
    "start_time": "2022-03-13T10:26:10.031Z"
   },
   {
    "duration": -74,
    "start_time": "2022-03-13T10:26:10.035Z"
   },
   {
    "duration": -76,
    "start_time": "2022-03-13T10:26:10.038Z"
   },
   {
    "duration": -78,
    "start_time": "2022-03-13T10:26:10.041Z"
   },
   {
    "duration": -80,
    "start_time": "2022-03-13T10:26:10.044Z"
   },
   {
    "duration": 104,
    "start_time": "2022-03-13T10:26:43.073Z"
   },
   {
    "duration": 8,
    "start_time": "2022-03-13T10:26:47.798Z"
   },
   {
    "duration": 2086,
    "start_time": "2022-03-13T10:27:01.091Z"
   },
   {
    "duration": 3,
    "start_time": "2022-03-13T10:27:03.179Z"
   },
   {
    "duration": 2887,
    "start_time": "2022-03-13T10:27:03.184Z"
   },
   {
    "duration": 2,
    "start_time": "2022-03-13T10:27:06.073Z"
   },
   {
    "duration": 31,
    "start_time": "2022-03-13T10:27:06.077Z"
   },
   {
    "duration": 8,
    "start_time": "2022-03-13T10:27:06.109Z"
   },
   {
    "duration": 25,
    "start_time": "2022-03-13T10:27:06.119Z"
   },
   {
    "duration": 8,
    "start_time": "2022-03-13T10:27:06.146Z"
   },
   {
    "duration": 84,
    "start_time": "2022-03-13T10:27:06.157Z"
   },
   {
    "duration": 74,
    "start_time": "2022-03-13T10:27:06.244Z"
   },
   {
    "duration": 70,
    "start_time": "2022-03-13T10:27:06.319Z"
   },
   {
    "duration": 12,
    "start_time": "2022-03-13T10:27:06.391Z"
   },
   {
    "duration": 329,
    "start_time": "2022-03-13T10:27:06.405Z"
   },
   {
    "duration": 3,
    "start_time": "2022-03-13T10:27:06.736Z"
   },
   {
    "duration": 313,
    "start_time": "2022-03-13T10:27:06.741Z"
   },
   {
    "duration": 4,
    "start_time": "2022-03-13T10:27:07.055Z"
   },
   {
    "duration": 4,
    "start_time": "2022-03-13T10:27:07.061Z"
   },
   {
    "duration": 48,
    "start_time": "2022-03-13T10:27:07.067Z"
   },
   {
    "duration": 306,
    "start_time": "2022-03-13T10:27:07.116Z"
   },
   {
    "duration": 18,
    "start_time": "2022-03-13T10:27:07.423Z"
   },
   {
    "duration": 4,
    "start_time": "2022-03-13T10:27:07.442Z"
   },
   {
    "duration": 333,
    "start_time": "2022-03-13T10:27:07.447Z"
   },
   {
    "duration": 166,
    "start_time": "2022-03-13T10:27:07.782Z"
   },
   {
    "duration": 247,
    "start_time": "2022-03-13T10:27:07.950Z"
   },
   {
    "duration": 121,
    "start_time": "2022-03-13T10:27:08.198Z"
   },
   {
    "duration": 109,
    "start_time": "2022-03-13T10:27:08.320Z"
   },
   {
    "duration": 2,
    "start_time": "2022-03-13T10:27:08.432Z"
   },
   {
    "duration": 118,
    "start_time": "2022-03-13T10:27:08.437Z"
   },
   {
    "duration": 257,
    "start_time": "2022-03-13T10:27:08.557Z"
   },
   {
    "duration": 322,
    "start_time": "2022-03-13T10:27:08.815Z"
   },
   {
    "duration": 47,
    "start_time": "2022-03-13T10:27:09.139Z"
   },
   {
    "duration": 131,
    "start_time": "2022-03-13T10:27:09.187Z"
   },
   {
    "duration": 6,
    "start_time": "2022-03-13T10:27:09.319Z"
   },
   {
    "duration": 15,
    "start_time": "2022-03-13T10:27:09.326Z"
   },
   {
    "duration": 29,
    "start_time": "2022-03-13T10:27:09.342Z"
   },
   {
    "duration": 21,
    "start_time": "2022-03-13T10:27:09.373Z"
   },
   {
    "duration": 12,
    "start_time": "2022-03-13T10:27:09.396Z"
   },
   {
    "duration": 18,
    "start_time": "2022-03-13T10:27:09.409Z"
   },
   {
    "duration": 27,
    "start_time": "2022-03-13T10:27:09.428Z"
   },
   {
    "duration": 11,
    "start_time": "2022-03-13T10:27:09.456Z"
   },
   {
    "duration": 16,
    "start_time": "2022-03-13T10:27:09.468Z"
   },
   {
    "duration": 22,
    "start_time": "2022-03-13T10:27:09.486Z"
   },
   {
    "duration": 15,
    "start_time": "2022-03-13T10:27:09.509Z"
   },
   {
    "duration": 20,
    "start_time": "2022-03-13T10:27:09.526Z"
   },
   {
    "duration": 2074,
    "start_time": "2022-03-13T10:27:53.091Z"
   },
   {
    "duration": 4,
    "start_time": "2022-03-13T10:27:55.167Z"
   },
   {
    "duration": 2722,
    "start_time": "2022-03-13T10:27:55.173Z"
   },
   {
    "duration": 4,
    "start_time": "2022-03-13T10:27:57.897Z"
   },
   {
    "duration": 35,
    "start_time": "2022-03-13T10:27:57.903Z"
   },
   {
    "duration": 23,
    "start_time": "2022-03-13T10:27:57.939Z"
   },
   {
    "duration": 24,
    "start_time": "2022-03-13T10:27:57.963Z"
   },
   {
    "duration": 18,
    "start_time": "2022-03-13T10:27:57.990Z"
   },
   {
    "duration": 71,
    "start_time": "2022-03-13T10:27:58.010Z"
   },
   {
    "duration": 60,
    "start_time": "2022-03-13T10:27:58.082Z"
   },
   {
    "duration": 67,
    "start_time": "2022-03-13T10:27:58.143Z"
   },
   {
    "duration": 18,
    "start_time": "2022-03-13T10:27:58.212Z"
   },
   {
    "duration": 336,
    "start_time": "2022-03-13T10:27:58.231Z"
   },
   {
    "duration": 3,
    "start_time": "2022-03-13T10:27:58.568Z"
   },
   {
    "duration": 317,
    "start_time": "2022-03-13T10:27:58.573Z"
   },
   {
    "duration": 10,
    "start_time": "2022-03-13T10:27:58.892Z"
   },
   {
    "duration": 13,
    "start_time": "2022-03-13T10:27:58.903Z"
   },
   {
    "duration": 40,
    "start_time": "2022-03-13T10:27:58.918Z"
   },
   {
    "duration": 296,
    "start_time": "2022-03-13T10:27:58.960Z"
   },
   {
    "duration": 16,
    "start_time": "2022-03-13T10:27:59.258Z"
   },
   {
    "duration": 4,
    "start_time": "2022-03-13T10:27:59.276Z"
   },
   {
    "duration": 329,
    "start_time": "2022-03-13T10:27:59.301Z"
   },
   {
    "duration": 171,
    "start_time": "2022-03-13T10:27:59.633Z"
   },
   {
    "duration": 206,
    "start_time": "2022-03-13T10:27:59.806Z"
   },
   {
    "duration": 142,
    "start_time": "2022-03-13T10:28:00.014Z"
   },
   {
    "duration": 111,
    "start_time": "2022-03-13T10:28:00.157Z"
   },
   {
    "duration": 4,
    "start_time": "2022-03-13T10:28:00.270Z"
   },
   {
    "duration": 282,
    "start_time": "2022-03-13T10:28:00.276Z"
   },
   {
    "duration": 117,
    "start_time": "2022-03-13T10:28:00.559Z"
   },
   {
    "duration": 357,
    "start_time": "2022-03-13T10:28:00.677Z"
   },
   {
    "duration": 48,
    "start_time": "2022-03-13T10:28:01.036Z"
   },
   {
    "duration": 121,
    "start_time": "2022-03-13T10:28:01.086Z"
   },
   {
    "duration": 7,
    "start_time": "2022-03-13T10:28:01.209Z"
   },
   {
    "duration": 13,
    "start_time": "2022-03-13T10:28:01.218Z"
   },
   {
    "duration": 6,
    "start_time": "2022-03-13T10:28:01.232Z"
   },
   {
    "duration": 14,
    "start_time": "2022-03-13T10:28:01.239Z"
   },
   {
    "duration": 10,
    "start_time": "2022-03-13T10:28:01.254Z"
   },
   {
    "duration": 35,
    "start_time": "2022-03-13T10:28:01.266Z"
   },
   {
    "duration": 12,
    "start_time": "2022-03-13T10:28:01.302Z"
   },
   {
    "duration": 10,
    "start_time": "2022-03-13T10:28:01.315Z"
   },
   {
    "duration": 15,
    "start_time": "2022-03-13T10:28:01.327Z"
   },
   {
    "duration": 10,
    "start_time": "2022-03-13T10:28:01.344Z"
   },
   {
    "duration": 12,
    "start_time": "2022-03-13T10:28:01.355Z"
   },
   {
    "duration": 8,
    "start_time": "2022-03-13T10:28:01.369Z"
   },
   {
    "duration": 2570,
    "start_time": "2022-04-28T17:20:46.249Z"
   },
   {
    "duration": 1340,
    "start_time": "2022-04-28T17:20:48.821Z"
   },
   {
    "duration": 8032,
    "start_time": "2022-04-28T17:20:50.162Z"
   },
   {
    "duration": 3,
    "start_time": "2022-04-28T17:20:58.196Z"
   },
   {
    "duration": 44,
    "start_time": "2022-04-28T17:20:58.200Z"
   },
   {
    "duration": 12,
    "start_time": "2022-04-28T17:20:58.245Z"
   },
   {
    "duration": 27,
    "start_time": "2022-04-28T17:20:58.258Z"
   },
   {
    "duration": 8,
    "start_time": "2022-04-28T17:20:58.286Z"
   },
   {
    "duration": 106,
    "start_time": "2022-04-28T17:20:58.296Z"
   },
   {
    "duration": 100,
    "start_time": "2022-04-28T17:20:58.404Z"
   },
   {
    "duration": 68,
    "start_time": "2022-04-28T17:20:58.506Z"
   },
   {
    "duration": 3,
    "start_time": "2022-04-28T17:20:58.576Z"
   },
   {
    "duration": 132,
    "start_time": "2022-04-28T17:20:58.581Z"
   },
   {
    "duration": 3,
    "start_time": "2022-04-28T17:20:58.715Z"
   },
   {
    "duration": 128,
    "start_time": "2022-04-28T17:20:58.720Z"
   },
   {
    "duration": 4,
    "start_time": "2022-04-28T17:20:58.850Z"
   },
   {
    "duration": 5,
    "start_time": "2022-04-28T17:20:58.855Z"
   },
   {
    "duration": 39,
    "start_time": "2022-04-28T17:20:58.861Z"
   },
   {
    "duration": 243,
    "start_time": "2022-04-28T17:20:58.901Z"
   },
   {
    "duration": 47,
    "start_time": "2022-04-28T17:20:59.146Z"
   },
   {
    "duration": 5,
    "start_time": "2022-04-28T17:20:59.195Z"
   },
   {
    "duration": 143,
    "start_time": "2022-04-28T17:20:59.202Z"
   },
   {
    "duration": 60,
    "start_time": "2022-04-28T17:20:59.347Z"
   },
   {
    "duration": 135,
    "start_time": "2022-04-28T17:20:59.409Z"
   },
   {
    "duration": 258,
    "start_time": "2022-04-28T17:20:59.545Z"
   },
   {
    "duration": 9,
    "start_time": "2022-04-28T17:20:59.804Z"
   },
   {
    "duration": 3,
    "start_time": "2022-04-28T17:20:59.814Z"
   },
   {
    "duration": 9,
    "start_time": "2022-04-28T17:20:59.820Z"
   },
   {
    "duration": 31,
    "start_time": "2022-04-28T17:20:59.830Z"
   },
   {
    "duration": 154,
    "start_time": "2022-04-28T17:20:59.863Z"
   },
   {
    "duration": 80,
    "start_time": "2022-04-28T17:21:00.019Z"
   },
   {
    "duration": 13,
    "start_time": "2022-04-28T17:21:00.100Z"
   },
   {
    "duration": 7425,
    "start_time": "2022-05-05T13:13:02.218Z"
   },
   {
    "duration": 1309,
    "start_time": "2022-05-05T13:13:09.646Z"
   },
   {
    "duration": 7396,
    "start_time": "2022-05-05T13:13:10.956Z"
   },
   {
    "duration": 3,
    "start_time": "2022-05-05T13:13:18.355Z"
   },
   {
    "duration": 46,
    "start_time": "2022-05-05T13:13:18.361Z"
   },
   {
    "duration": 9,
    "start_time": "2022-05-05T13:13:18.409Z"
   },
   {
    "duration": 32,
    "start_time": "2022-05-05T13:13:18.420Z"
   },
   {
    "duration": 9,
    "start_time": "2022-05-05T13:13:18.454Z"
   },
   {
    "duration": 134,
    "start_time": "2022-05-05T13:13:18.465Z"
   },
   {
    "duration": 111,
    "start_time": "2022-05-05T13:13:18.600Z"
   },
   {
    "duration": 75,
    "start_time": "2022-05-05T13:13:18.713Z"
   },
   {
    "duration": 17,
    "start_time": "2022-05-05T13:13:18.790Z"
   },
   {
    "duration": 145,
    "start_time": "2022-05-05T13:13:18.809Z"
   },
   {
    "duration": 3,
    "start_time": "2022-05-05T13:13:18.958Z"
   },
   {
    "duration": 144,
    "start_time": "2022-05-05T13:13:18.963Z"
   },
   {
    "duration": 5,
    "start_time": "2022-05-05T13:13:19.109Z"
   },
   {
    "duration": 5,
    "start_time": "2022-05-05T13:13:19.116Z"
   },
   {
    "duration": 40,
    "start_time": "2022-05-05T13:13:19.123Z"
   },
   {
    "duration": 298,
    "start_time": "2022-05-05T13:13:19.165Z"
   },
   {
    "duration": 60,
    "start_time": "2022-05-05T13:13:19.465Z"
   },
   {
    "duration": 4,
    "start_time": "2022-05-05T13:13:19.527Z"
   },
   {
    "duration": 140,
    "start_time": "2022-05-05T13:13:19.533Z"
   },
   {
    "duration": 65,
    "start_time": "2022-05-05T13:13:19.674Z"
   },
   {
    "duration": 151,
    "start_time": "2022-05-05T13:13:19.740Z"
   },
   {
    "duration": 137,
    "start_time": "2022-05-05T13:13:22.252Z"
   },
   {
    "duration": 11,
    "start_time": "2022-05-05T13:13:53.779Z"
   },
   {
    "duration": 3,
    "start_time": "2022-05-05T13:14:23.875Z"
   },
   {
    "duration": 10,
    "start_time": "2022-05-05T13:14:24.567Z"
   },
   {
    "duration": 11,
    "start_time": "2022-05-05T13:14:28.219Z"
   },
   {
    "duration": 7482,
    "start_time": "2022-05-05T16:32:18.144Z"
   },
   {
    "duration": 4,
    "start_time": "2022-05-05T16:32:25.628Z"
   },
   {
    "duration": 8933,
    "start_time": "2022-05-05T16:32:25.633Z"
   },
   {
    "duration": 3,
    "start_time": "2022-05-05T16:32:34.569Z"
   },
   {
    "duration": 43,
    "start_time": "2022-05-05T16:32:34.574Z"
   },
   {
    "duration": 10,
    "start_time": "2022-05-05T16:32:34.619Z"
   },
   {
    "duration": 32,
    "start_time": "2022-05-05T16:32:34.631Z"
   },
   {
    "duration": 42,
    "start_time": "2022-05-05T16:32:34.665Z"
   },
   {
    "duration": 83,
    "start_time": "2022-05-05T16:32:34.709Z"
   },
   {
    "duration": 90,
    "start_time": "2022-05-05T16:32:34.796Z"
   },
   {
    "duration": 82,
    "start_time": "2022-05-05T16:32:34.888Z"
   },
   {
    "duration": 3,
    "start_time": "2022-05-05T16:32:34.972Z"
   },
   {
    "duration": 142,
    "start_time": "2022-05-05T16:32:34.977Z"
   },
   {
    "duration": 4,
    "start_time": "2022-05-05T16:32:35.121Z"
   },
   {
    "duration": 134,
    "start_time": "2022-05-05T16:32:35.127Z"
   },
   {
    "duration": 4,
    "start_time": "2022-05-05T16:32:35.263Z"
   },
   {
    "duration": 5,
    "start_time": "2022-05-05T16:32:35.269Z"
   },
   {
    "duration": 56,
    "start_time": "2022-05-05T16:32:35.276Z"
   },
   {
    "duration": 252,
    "start_time": "2022-05-05T16:32:35.333Z"
   },
   {
    "duration": 38,
    "start_time": "2022-05-05T16:32:35.587Z"
   },
   {
    "duration": 5,
    "start_time": "2022-05-05T16:32:35.627Z"
   },
   {
    "duration": 137,
    "start_time": "2022-05-05T16:32:35.633Z"
   },
   {
    "duration": 61,
    "start_time": "2022-05-05T16:32:35.772Z"
   },
   {
    "duration": 98,
    "start_time": "2022-05-05T16:32:35.835Z"
   },
   {
    "duration": 11,
    "start_time": "2022-05-05T16:32:35.935Z"
   },
   {
    "duration": 10,
    "start_time": "2022-05-05T16:32:35.948Z"
   },
   {
    "duration": 8,
    "start_time": "2022-05-05T16:32:35.959Z"
   },
   {
    "duration": 38,
    "start_time": "2022-05-05T16:32:35.970Z"
   },
   {
    "duration": 10,
    "start_time": "2022-05-05T16:32:36.009Z"
   },
   {
    "duration": 111,
    "start_time": "2022-05-05T16:32:36.020Z"
   },
   {
    "duration": 78,
    "start_time": "2022-05-05T16:32:36.132Z"
   },
   {
    "duration": 14,
    "start_time": "2022-05-05T16:32:36.213Z"
   },
   {
    "duration": 12,
    "start_time": "2022-05-05T16:32:36.229Z"
   },
   {
    "duration": 16,
    "start_time": "2022-05-05T16:32:36.243Z"
   },
   {
    "duration": 7,
    "start_time": "2022-05-05T16:32:36.261Z"
   },
   {
    "duration": 38,
    "start_time": "2022-05-05T16:32:36.270Z"
   },
   {
    "duration": 9,
    "start_time": "2022-05-05T16:32:36.310Z"
   },
   {
    "duration": 18,
    "start_time": "2022-05-05T16:32:36.321Z"
   },
   {
    "duration": 17,
    "start_time": "2022-05-05T16:32:36.341Z"
   },
   {
    "duration": 3,
    "start_time": "2022-05-05T16:32:36.360Z"
   },
   {
    "duration": 13,
    "start_time": "2022-05-05T16:32:36.365Z"
   },
   {
    "duration": 10,
    "start_time": "2022-05-05T16:32:36.408Z"
   },
   {
    "duration": 9,
    "start_time": "2022-05-05T16:32:36.419Z"
   },
   {
    "duration": 9,
    "start_time": "2022-05-05T16:32:36.430Z"
   },
   {
    "duration": 7468,
    "start_time": "2022-05-05T16:33:08.374Z"
   },
   {
    "duration": 1326,
    "start_time": "2022-05-05T16:33:15.845Z"
   },
   {
    "duration": 3545,
    "start_time": "2022-05-05T16:33:17.173Z"
   },
   {
    "duration": 3,
    "start_time": "2022-05-05T16:33:20.720Z"
   },
   {
    "duration": 45,
    "start_time": "2022-05-05T16:33:20.724Z"
   },
   {
    "duration": 10,
    "start_time": "2022-05-05T16:33:20.771Z"
   },
   {
    "duration": 37,
    "start_time": "2022-05-05T16:33:20.783Z"
   },
   {
    "duration": 10,
    "start_time": "2022-05-05T16:33:20.821Z"
   },
   {
    "duration": 125,
    "start_time": "2022-05-05T16:33:20.832Z"
   },
   {
    "duration": 116,
    "start_time": "2022-05-05T16:33:20.960Z"
   },
   {
    "duration": 78,
    "start_time": "2022-05-05T16:33:21.078Z"
   },
   {
    "duration": 4,
    "start_time": "2022-05-05T16:33:21.158Z"
   },
   {
    "duration": 147,
    "start_time": "2022-05-05T16:33:21.163Z"
   },
   {
    "duration": 3,
    "start_time": "2022-05-05T16:33:21.312Z"
   },
   {
    "duration": 141,
    "start_time": "2022-05-05T16:33:21.317Z"
   },
   {
    "duration": 4,
    "start_time": "2022-05-05T16:33:21.460Z"
   },
   {
    "duration": 10,
    "start_time": "2022-05-05T16:33:21.466Z"
   },
   {
    "duration": 53,
    "start_time": "2022-05-05T16:33:21.478Z"
   },
   {
    "duration": 272,
    "start_time": "2022-05-05T16:33:21.532Z"
   },
   {
    "duration": 46,
    "start_time": "2022-05-05T16:33:21.807Z"
   },
   {
    "duration": 4,
    "start_time": "2022-05-05T16:33:21.855Z"
   },
   {
    "duration": 144,
    "start_time": "2022-05-05T16:33:21.860Z"
   },
   {
    "duration": 55,
    "start_time": "2022-05-05T16:33:22.007Z"
   },
   {
    "duration": 147,
    "start_time": "2022-05-05T16:33:22.063Z"
   },
   {
    "duration": 126,
    "start_time": "2022-05-05T16:33:22.211Z"
   },
   {
    "duration": 9,
    "start_time": "2022-05-05T16:33:22.339Z"
   },
   {
    "duration": 5,
    "start_time": "2022-05-05T16:33:22.350Z"
   },
   {
    "duration": 48,
    "start_time": "2022-05-05T16:33:22.359Z"
   },
   {
    "duration": 10,
    "start_time": "2022-05-05T16:33:22.409Z"
   },
   {
    "duration": 160,
    "start_time": "2022-05-05T16:33:22.421Z"
   },
   {
    "duration": 83,
    "start_time": "2022-05-05T16:33:22.582Z"
   },
   {
    "duration": 13,
    "start_time": "2022-05-05T16:33:22.667Z"
   },
   {
    "duration": 5,
    "start_time": "2022-05-05T16:33:22.682Z"
   },
   {
    "duration": 13,
    "start_time": "2022-05-05T16:33:22.708Z"
   },
   {
    "duration": 4,
    "start_time": "2022-05-05T16:33:22.723Z"
   },
   {
    "duration": 11,
    "start_time": "2022-05-05T16:33:22.729Z"
   },
   {
    "duration": 10,
    "start_time": "2022-05-05T16:33:22.742Z"
   },
   {
    "duration": 10,
    "start_time": "2022-05-05T16:33:22.753Z"
   },
   {
    "duration": 49,
    "start_time": "2022-05-05T16:33:22.765Z"
   },
   {
    "duration": 2,
    "start_time": "2022-05-05T16:33:22.816Z"
   },
   {
    "duration": 10,
    "start_time": "2022-05-05T16:33:22.820Z"
   },
   {
    "duration": 11,
    "start_time": "2022-05-05T16:33:22.832Z"
   },
   {
    "duration": 9,
    "start_time": "2022-05-05T16:33:22.845Z"
   },
   {
    "duration": 54,
    "start_time": "2022-05-05T16:33:22.856Z"
   },
   {
    "duration": 8,
    "start_time": "2022-05-05T17:00:40.249Z"
   },
   {
    "duration": 125,
    "start_time": "2022-05-05T17:01:31.650Z"
   },
   {
    "duration": 4,
    "start_time": "2022-05-05T17:01:38.192Z"
   },
   {
    "duration": 5,
    "start_time": "2022-05-05T17:03:20.722Z"
   },
   {
    "duration": 7902,
    "start_time": "2022-05-05T17:30:07.522Z"
   },
   {
    "duration": 4,
    "start_time": "2022-05-05T17:30:15.427Z"
   },
   {
    "duration": 9419,
    "start_time": "2022-05-05T17:30:15.433Z"
   },
   {
    "duration": 3,
    "start_time": "2022-05-05T17:30:24.854Z"
   },
   {
    "duration": 48,
    "start_time": "2022-05-05T17:30:24.859Z"
   },
   {
    "duration": 14,
    "start_time": "2022-05-05T17:30:24.909Z"
   },
   {
    "duration": 33,
    "start_time": "2022-05-05T17:30:24.925Z"
   },
   {
    "duration": 9,
    "start_time": "2022-05-05T17:30:24.960Z"
   },
   {
    "duration": 99,
    "start_time": "2022-05-05T17:30:24.971Z"
   },
   {
    "duration": 93,
    "start_time": "2022-05-05T17:30:25.074Z"
   },
   {
    "duration": 78,
    "start_time": "2022-05-05T17:30:25.169Z"
   },
   {
    "duration": 4,
    "start_time": "2022-05-05T17:30:25.249Z"
   },
   {
    "duration": 125,
    "start_time": "2022-05-05T17:30:28.873Z"
   },
   {
    "duration": 261,
    "start_time": "2022-05-05T17:30:49.407Z"
   },
   {
    "duration": 3354,
    "start_time": "2022-05-06T07:15:13.218Z"
   },
   {
    "duration": 1703,
    "start_time": "2022-05-06T07:15:16.575Z"
   },
   {
    "duration": 7678,
    "start_time": "2022-05-06T07:15:18.281Z"
   },
   {
    "duration": 3,
    "start_time": "2022-05-06T07:15:25.963Z"
   },
   {
    "duration": 60,
    "start_time": "2022-05-06T07:15:25.969Z"
   },
   {
    "duration": 8,
    "start_time": "2022-05-06T07:15:26.031Z"
   },
   {
    "duration": 66,
    "start_time": "2022-05-06T07:15:26.042Z"
   },
   {
    "duration": 12,
    "start_time": "2022-05-06T07:15:26.110Z"
   },
   {
    "duration": 163,
    "start_time": "2022-05-06T07:15:26.124Z"
   },
   {
    "duration": 141,
    "start_time": "2022-05-06T07:15:26.295Z"
   },
   {
    "duration": 113,
    "start_time": "2022-05-06T07:15:26.438Z"
   },
   {
    "duration": 9,
    "start_time": "2022-05-06T07:15:26.553Z"
   },
   {
    "duration": 182,
    "start_time": "2022-05-06T07:15:26.565Z"
   },
   {
    "duration": 4,
    "start_time": "2022-05-06T07:15:26.750Z"
   },
   {
    "duration": 184,
    "start_time": "2022-05-06T07:15:26.756Z"
   },
   {
    "duration": 5,
    "start_time": "2022-05-06T07:15:26.942Z"
   },
   {
    "duration": 8,
    "start_time": "2022-05-06T07:15:26.949Z"
   },
   {
    "duration": 74,
    "start_time": "2022-05-06T07:15:26.959Z"
   },
   {
    "duration": 415,
    "start_time": "2022-05-06T07:15:27.036Z"
   },
   {
    "duration": 66,
    "start_time": "2022-05-06T07:15:27.454Z"
   },
   {
    "duration": 6,
    "start_time": "2022-05-06T07:15:27.523Z"
   },
   {
    "duration": 181,
    "start_time": "2022-05-06T07:15:27.531Z"
   },
   {
    "duration": 83,
    "start_time": "2022-05-06T07:15:27.714Z"
   },
   {
    "duration": 200,
    "start_time": "2022-05-06T07:15:27.799Z"
   },
   {
    "duration": 209,
    "start_time": "2022-05-06T07:15:28.002Z"
   },
   {
    "duration": 13,
    "start_time": "2022-05-06T07:15:28.213Z"
   },
   {
    "duration": 10,
    "start_time": "2022-05-06T07:15:28.229Z"
   },
   {
    "duration": 56,
    "start_time": "2022-05-06T07:15:28.244Z"
   },
   {
    "duration": 14,
    "start_time": "2022-05-06T07:15:28.302Z"
   },
   {
    "duration": 247,
    "start_time": "2022-05-06T07:15:28.318Z"
   },
   {
    "duration": 97,
    "start_time": "2022-05-06T07:15:28.567Z"
   },
   {
    "duration": 34,
    "start_time": "2022-05-06T07:15:28.665Z"
   },
   {
    "duration": 7,
    "start_time": "2022-05-06T07:15:28.701Z"
   },
   {
    "duration": 17,
    "start_time": "2022-05-06T07:15:28.711Z"
   },
   {
    "duration": 7,
    "start_time": "2022-05-06T07:15:28.730Z"
   },
   {
    "duration": 12,
    "start_time": "2022-05-06T07:15:28.739Z"
   },
   {
    "duration": 42,
    "start_time": "2022-05-06T07:15:28.753Z"
   },
   {
    "duration": 18,
    "start_time": "2022-05-06T07:15:28.797Z"
   },
   {
    "duration": 14,
    "start_time": "2022-05-06T07:15:28.817Z"
   },
   {
    "duration": 11,
    "start_time": "2022-05-06T07:15:28.835Z"
   },
   {
    "duration": 13,
    "start_time": "2022-05-06T07:15:28.894Z"
   },
   {
    "duration": 4,
    "start_time": "2022-05-06T07:15:28.910Z"
   },
   {
    "duration": 16,
    "start_time": "2022-05-06T07:15:28.916Z"
   },
   {
    "duration": 13,
    "start_time": "2022-05-06T07:15:28.935Z"
   },
   {
    "duration": 13,
    "start_time": "2022-05-06T07:15:28.994Z"
   },
   {
    "duration": 20,
    "start_time": "2022-05-06T07:15:29.010Z"
   },
   {
    "duration": 3702,
    "start_time": "2022-05-07T05:33:07.523Z"
   },
   {
    "duration": 1894,
    "start_time": "2022-05-07T05:33:11.229Z"
   },
   {
    "duration": 6929,
    "start_time": "2022-05-07T05:33:13.125Z"
   },
   {
    "duration": 3,
    "start_time": "2022-05-07T05:33:20.057Z"
   },
   {
    "duration": 59,
    "start_time": "2022-05-07T05:33:20.062Z"
   },
   {
    "duration": 9,
    "start_time": "2022-05-07T05:33:20.123Z"
   },
   {
    "duration": 56,
    "start_time": "2022-05-07T05:33:20.134Z"
   },
   {
    "duration": 12,
    "start_time": "2022-05-07T05:33:20.192Z"
   },
   {
    "duration": 161,
    "start_time": "2022-05-07T05:33:20.206Z"
   },
   {
    "duration": 158,
    "start_time": "2022-05-07T05:33:20.371Z"
   },
   {
    "duration": 111,
    "start_time": "2022-05-07T05:33:20.532Z"
   },
   {
    "duration": 11,
    "start_time": "2022-05-07T05:33:20.645Z"
   },
   {
    "duration": 199,
    "start_time": "2022-05-07T05:33:20.658Z"
   },
   {
    "duration": 6,
    "start_time": "2022-05-07T05:33:20.859Z"
   },
   {
    "duration": 194,
    "start_time": "2022-05-07T05:33:20.881Z"
   },
   {
    "duration": 6,
    "start_time": "2022-05-07T05:33:21.078Z"
   },
   {
    "duration": 9,
    "start_time": "2022-05-07T05:33:21.086Z"
   },
   {
    "duration": 53,
    "start_time": "2022-05-07T05:33:21.097Z"
   },
   {
    "duration": 441,
    "start_time": "2022-05-07T05:33:21.152Z"
   },
   {
    "duration": 11,
    "start_time": "2022-05-07T05:33:49.911Z"
   },
   {
    "duration": 3503,
    "start_time": "2022-05-07T10:15:36.849Z"
   },
   {
    "duration": 6,
    "start_time": "2022-05-07T10:15:40.356Z"
   },
   {
    "duration": 22247,
    "start_time": "2022-05-07T10:15:40.364Z"
   },
   {
    "duration": 4,
    "start_time": "2022-05-07T10:16:02.614Z"
   },
   {
    "duration": 46,
    "start_time": "2022-05-07T10:16:02.621Z"
   },
   {
    "duration": 12,
    "start_time": "2022-05-07T10:16:02.683Z"
   },
   {
    "duration": 88,
    "start_time": "2022-05-07T10:16:02.698Z"
   },
   {
    "duration": 17,
    "start_time": "2022-05-07T10:16:02.789Z"
   },
   {
    "duration": 203,
    "start_time": "2022-05-07T10:16:02.809Z"
   },
   {
    "duration": 156,
    "start_time": "2022-05-07T10:16:03.017Z"
   },
   {
    "duration": 131,
    "start_time": "2022-05-07T10:16:03.176Z"
   },
   {
    "duration": 6,
    "start_time": "2022-05-07T10:16:03.309Z"
   },
   {
    "duration": 217,
    "start_time": "2022-05-07T10:16:03.317Z"
   },
   {
    "duration": 6,
    "start_time": "2022-05-07T10:16:03.537Z"
   },
   {
    "duration": 247,
    "start_time": "2022-05-07T10:16:03.546Z"
   },
   {
    "duration": 7,
    "start_time": "2022-05-07T10:16:03.796Z"
   },
   {
    "duration": 26,
    "start_time": "2022-05-07T10:16:03.806Z"
   },
   {
    "duration": 66,
    "start_time": "2022-05-07T10:16:03.835Z"
   },
   {
    "duration": 607,
    "start_time": "2022-05-07T10:16:03.903Z"
   },
   {
    "duration": 12,
    "start_time": "2022-05-07T10:16:04.513Z"
   },
   {
    "duration": 68,
    "start_time": "2022-05-07T10:16:04.529Z"
   },
   {
    "duration": 7,
    "start_time": "2022-05-07T10:16:04.599Z"
   },
   {
    "duration": 209,
    "start_time": "2022-05-07T10:16:04.609Z"
   },
   {
    "duration": 83,
    "start_time": "2022-05-07T10:16:04.822Z"
   },
   {
    "duration": 317,
    "start_time": "2022-05-07T10:16:04.907Z"
   },
   {
    "duration": 275,
    "start_time": "2022-05-07T10:16:05.227Z"
   },
   {
    "duration": 13,
    "start_time": "2022-05-07T10:16:05.504Z"
   },
   {
    "duration": 7,
    "start_time": "2022-05-07T10:16:05.523Z"
   },
   {
    "duration": 58,
    "start_time": "2022-05-07T10:16:05.532Z"
   },
   {
    "duration": 14,
    "start_time": "2022-05-07T10:16:05.593Z"
   },
   {
    "duration": 239,
    "start_time": "2022-05-07T10:16:05.610Z"
   },
   {
    "duration": 99,
    "start_time": "2022-05-07T10:16:05.852Z"
   },
   {
    "duration": 33,
    "start_time": "2022-05-07T10:16:05.953Z"
   },
   {
    "duration": 53,
    "start_time": "2022-05-07T10:16:05.989Z"
   },
   {
    "duration": 48,
    "start_time": "2022-05-07T10:16:06.044Z"
   },
   {
    "duration": 54,
    "start_time": "2022-05-07T10:16:06.095Z"
   },
   {
    "duration": 31,
    "start_time": "2022-05-07T10:16:06.151Z"
   },
   {
    "duration": 35,
    "start_time": "2022-05-07T10:16:06.185Z"
   },
   {
    "duration": 22,
    "start_time": "2022-05-07T10:16:06.224Z"
   },
   {
    "duration": 23,
    "start_time": "2022-05-07T10:16:06.249Z"
   },
   {
    "duration": 22,
    "start_time": "2022-05-07T10:16:06.274Z"
   },
   {
    "duration": 19,
    "start_time": "2022-05-07T10:16:06.299Z"
   },
   {
    "duration": 4,
    "start_time": "2022-05-07T10:16:06.320Z"
   },
   {
    "duration": 60,
    "start_time": "2022-05-07T10:16:06.326Z"
   },
   {
    "duration": 29,
    "start_time": "2022-05-07T10:16:06.388Z"
   },
   {
    "duration": 31,
    "start_time": "2022-05-07T10:16:06.419Z"
   },
   {
    "duration": 33,
    "start_time": "2022-05-07T10:16:06.452Z"
   },
   {
    "duration": 2536,
    "start_time": "2022-06-19T07:05:12.945Z"
   },
   {
    "duration": 1505,
    "start_time": "2022-06-19T07:05:15.484Z"
   },
   {
    "duration": 7196,
    "start_time": "2022-06-19T07:05:16.991Z"
   },
   {
    "duration": 3,
    "start_time": "2022-06-19T07:05:24.191Z"
   },
   {
    "duration": 42,
    "start_time": "2022-06-19T07:05:24.197Z"
   },
   {
    "duration": 50,
    "start_time": "2022-06-19T07:05:24.242Z"
   },
   {
    "duration": 50,
    "start_time": "2022-06-19T07:05:24.294Z"
   },
   {
    "duration": 53,
    "start_time": "2022-06-19T07:05:24.349Z"
   },
   {
    "duration": 175,
    "start_time": "2022-06-19T07:05:24.404Z"
   },
   {
    "duration": 134,
    "start_time": "2022-06-19T07:05:24.581Z"
   },
   {
    "duration": 112,
    "start_time": "2022-06-19T07:05:24.717Z"
   },
   {
    "duration": 68,
    "start_time": "2022-06-19T07:05:24.830Z"
   },
   {
    "duration": 224,
    "start_time": "2022-06-19T07:05:24.900Z"
   },
   {
    "duration": 8,
    "start_time": "2022-06-19T07:05:25.128Z"
   },
   {
    "duration": 209,
    "start_time": "2022-06-19T07:05:25.140Z"
   },
   {
    "duration": 5,
    "start_time": "2022-06-19T07:05:25.353Z"
   },
   {
    "duration": 39,
    "start_time": "2022-06-19T07:05:25.359Z"
   },
   {
    "duration": 47,
    "start_time": "2022-06-19T07:05:25.400Z"
   },
   {
    "duration": 344,
    "start_time": "2022-06-19T07:05:25.449Z"
   },
   {
    "duration": 6,
    "start_time": "2022-06-19T07:05:25.795Z"
   },
   {
    "duration": 78,
    "start_time": "2022-06-19T07:05:25.803Z"
   },
   {
    "duration": 8,
    "start_time": "2022-06-19T07:05:25.883Z"
   },
   {
    "duration": 207,
    "start_time": "2022-06-19T07:05:25.893Z"
   },
   {
    "duration": 71,
    "start_time": "2022-06-19T07:05:26.101Z"
   },
   {
    "duration": 165,
    "start_time": "2022-06-19T07:05:26.179Z"
   },
   {
    "duration": 222,
    "start_time": "2022-06-19T07:05:26.346Z"
   },
   {
    "duration": 26,
    "start_time": "2022-06-19T07:05:26.570Z"
   },
   {
    "duration": 7,
    "start_time": "2022-06-19T07:05:26.598Z"
   },
   {
    "duration": 29,
    "start_time": "2022-06-19T07:05:26.607Z"
   },
   {
    "duration": 69,
    "start_time": "2022-06-19T07:05:26.638Z"
   },
   {
    "duration": 139,
    "start_time": "2022-06-19T07:05:26.709Z"
   },
   {
    "duration": 87,
    "start_time": "2022-06-19T07:05:26.856Z"
   },
   {
    "duration": 45,
    "start_time": "2022-06-19T07:05:26.945Z"
   },
   {
    "duration": 19,
    "start_time": "2022-06-19T07:05:26.992Z"
   },
   {
    "duration": 83,
    "start_time": "2022-06-19T07:05:27.013Z"
   },
   {
    "duration": 9,
    "start_time": "2022-06-19T07:05:27.098Z"
   },
   {
    "duration": 9,
    "start_time": "2022-06-19T07:05:27.109Z"
   },
   {
    "duration": 19,
    "start_time": "2022-06-19T07:05:27.119Z"
   },
   {
    "duration": 66,
    "start_time": "2022-06-19T07:05:27.140Z"
   },
   {
    "duration": 10,
    "start_time": "2022-06-19T07:05:27.209Z"
   },
   {
    "duration": 61,
    "start_time": "2022-06-19T07:05:27.222Z"
   },
   {
    "duration": 17,
    "start_time": "2022-06-19T07:05:27.285Z"
   },
   {
    "duration": 7,
    "start_time": "2022-06-19T07:05:27.304Z"
   },
   {
    "duration": 22,
    "start_time": "2022-06-19T07:05:27.313Z"
   },
   {
    "duration": 54,
    "start_time": "2022-06-19T07:05:27.336Z"
   },
   {
    "duration": 12,
    "start_time": "2022-06-19T07:05:27.392Z"
   },
   {
    "duration": 10,
    "start_time": "2022-06-19T07:05:27.405Z"
   },
   {
    "duration": 2106,
    "start_time": "2022-06-20T08:36:48.375Z"
   },
   {
    "duration": 1318,
    "start_time": "2022-06-20T08:36:50.483Z"
   },
   {
    "duration": 13626,
    "start_time": "2022-06-20T08:36:51.803Z"
   },
   {
    "duration": 3,
    "start_time": "2022-06-20T08:37:05.431Z"
   },
   {
    "duration": 31,
    "start_time": "2022-06-20T08:37:05.435Z"
   },
   {
    "duration": 9,
    "start_time": "2022-06-20T08:37:05.468Z"
   },
   {
    "duration": 23,
    "start_time": "2022-06-20T08:37:05.479Z"
   },
   {
    "duration": 28,
    "start_time": "2022-06-20T08:37:05.503Z"
   },
   {
    "duration": 83,
    "start_time": "2022-06-20T08:37:05.533Z"
   },
   {
    "duration": 85,
    "start_time": "2022-06-20T08:37:05.624Z"
   },
   {
    "duration": 66,
    "start_time": "2022-06-20T08:37:05.711Z"
   },
   {
    "duration": 14,
    "start_time": "2022-06-20T08:37:05.778Z"
   },
   {
    "duration": 138,
    "start_time": "2022-06-20T08:37:05.794Z"
   },
   {
    "duration": 4,
    "start_time": "2022-06-20T08:37:05.933Z"
   },
   {
    "duration": 131,
    "start_time": "2022-06-20T08:37:05.939Z"
   },
   {
    "duration": 4,
    "start_time": "2022-06-20T08:37:06.072Z"
   },
   {
    "duration": 8,
    "start_time": "2022-06-20T08:37:06.077Z"
   },
   {
    "duration": 42,
    "start_time": "2022-06-20T08:37:06.087Z"
   },
   {
    "duration": 241,
    "start_time": "2022-06-20T08:37:06.131Z"
   },
   {
    "duration": 7,
    "start_time": "2022-06-20T08:37:06.374Z"
   },
   {
    "duration": 45,
    "start_time": "2022-06-20T08:37:06.383Z"
   },
   {
    "duration": 4,
    "start_time": "2022-06-20T08:37:06.430Z"
   },
   {
    "duration": 130,
    "start_time": "2022-06-20T08:37:06.436Z"
   },
   {
    "duration": 74,
    "start_time": "2022-06-20T08:37:06.568Z"
   },
   {
    "duration": 142,
    "start_time": "2022-06-20T08:37:06.644Z"
   },
   {
    "duration": 191,
    "start_time": "2022-06-20T08:37:06.788Z"
   },
   {
    "duration": 0,
    "start_time": "2022-06-20T08:37:06.982Z"
   },
   {
    "duration": 0,
    "start_time": "2022-06-20T08:37:06.982Z"
   },
   {
    "duration": 0,
    "start_time": "2022-06-20T08:37:06.984Z"
   },
   {
    "duration": 0,
    "start_time": "2022-06-20T08:37:06.985Z"
   },
   {
    "duration": 0,
    "start_time": "2022-06-20T08:37:06.986Z"
   },
   {
    "duration": 0,
    "start_time": "2022-06-20T08:37:06.987Z"
   },
   {
    "duration": 0,
    "start_time": "2022-06-20T08:37:06.988Z"
   },
   {
    "duration": 0,
    "start_time": "2022-06-20T08:37:06.989Z"
   },
   {
    "duration": 0,
    "start_time": "2022-06-20T08:37:06.990Z"
   },
   {
    "duration": 0,
    "start_time": "2022-06-20T08:37:06.991Z"
   },
   {
    "duration": 0,
    "start_time": "2022-06-20T08:37:06.992Z"
   },
   {
    "duration": 0,
    "start_time": "2022-06-20T08:37:06.993Z"
   },
   {
    "duration": 0,
    "start_time": "2022-06-20T08:37:06.994Z"
   },
   {
    "duration": 0,
    "start_time": "2022-06-20T08:37:06.995Z"
   },
   {
    "duration": 0,
    "start_time": "2022-06-20T08:37:06.996Z"
   },
   {
    "duration": 0,
    "start_time": "2022-06-20T08:37:06.996Z"
   },
   {
    "duration": 0,
    "start_time": "2022-06-20T08:37:06.998Z"
   },
   {
    "duration": 0,
    "start_time": "2022-06-20T08:37:07.000Z"
   },
   {
    "duration": 0,
    "start_time": "2022-06-20T08:37:07.002Z"
   },
   {
    "duration": 0,
    "start_time": "2022-06-20T08:37:07.026Z"
   },
   {
    "duration": 0,
    "start_time": "2022-06-20T08:37:07.027Z"
   },
   {
    "duration": 18,
    "start_time": "2022-06-20T08:37:46.610Z"
   },
   {
    "duration": 74,
    "start_time": "2022-06-20T08:38:06.355Z"
   },
   {
    "duration": 6306,
    "start_time": "2022-06-20T08:38:11.777Z"
   },
   {
    "duration": 1829,
    "start_time": "2022-06-20T08:38:29.005Z"
   },
   {
    "duration": 1325,
    "start_time": "2022-06-20T08:38:30.836Z"
   },
   {
    "duration": 3982,
    "start_time": "2022-06-20T08:38:32.163Z"
   },
   {
    "duration": 3,
    "start_time": "2022-06-20T08:38:36.147Z"
   },
   {
    "duration": 30,
    "start_time": "2022-06-20T08:38:36.152Z"
   },
   {
    "duration": 12,
    "start_time": "2022-06-20T08:38:36.184Z"
   },
   {
    "duration": 36,
    "start_time": "2022-06-20T08:38:36.198Z"
   },
   {
    "duration": 14,
    "start_time": "2022-06-20T08:38:36.235Z"
   },
   {
    "duration": 97,
    "start_time": "2022-06-20T08:38:36.250Z"
   },
   {
    "duration": 87,
    "start_time": "2022-06-20T08:38:36.350Z"
   },
   {
    "duration": 67,
    "start_time": "2022-06-20T08:38:36.438Z"
   },
   {
    "duration": 21,
    "start_time": "2022-06-20T08:38:36.507Z"
   },
   {
    "duration": 147,
    "start_time": "2022-06-20T08:38:36.530Z"
   },
   {
    "duration": 3,
    "start_time": "2022-06-20T08:38:36.679Z"
   },
   {
    "duration": 137,
    "start_time": "2022-06-20T08:38:36.684Z"
   },
   {
    "duration": 4,
    "start_time": "2022-06-20T08:38:36.825Z"
   },
   {
    "duration": 7,
    "start_time": "2022-06-20T08:38:36.830Z"
   },
   {
    "duration": 37,
    "start_time": "2022-06-20T08:38:36.838Z"
   },
   {
    "duration": 235,
    "start_time": "2022-06-20T08:38:36.877Z"
   },
   {
    "duration": 12,
    "start_time": "2022-06-20T08:38:37.115Z"
   },
   {
    "duration": 39,
    "start_time": "2022-06-20T08:38:37.128Z"
   },
   {
    "duration": 5,
    "start_time": "2022-06-20T08:38:37.168Z"
   },
   {
    "duration": 128,
    "start_time": "2022-06-20T08:38:37.175Z"
   },
   {
    "duration": 60,
    "start_time": "2022-06-20T08:38:37.304Z"
   },
   {
    "duration": 119,
    "start_time": "2022-06-20T08:38:37.366Z"
   },
   {
    "duration": 2077,
    "start_time": "2022-06-20T08:38:37.487Z"
   },
   {
    "duration": 809,
    "start_time": "2022-06-20T08:38:39.567Z"
   },
   {
    "duration": 63,
    "start_time": "2022-06-20T08:38:40.379Z"
   },
   {
    "duration": 3,
    "start_time": "2022-06-20T08:38:40.443Z"
   },
   {
    "duration": 11,
    "start_time": "2022-06-20T08:38:40.448Z"
   },
   {
    "duration": 10,
    "start_time": "2022-06-20T08:38:40.461Z"
   },
   {
    "duration": 175,
    "start_time": "2022-06-20T08:38:40.473Z"
   },
   {
    "duration": 51,
    "start_time": "2022-06-20T08:38:40.650Z"
   },
   {
    "duration": 25,
    "start_time": "2022-06-20T08:38:40.702Z"
   },
   {
    "duration": 5,
    "start_time": "2022-06-20T08:38:40.728Z"
   },
   {
    "duration": 38,
    "start_time": "2022-06-20T08:38:40.734Z"
   },
   {
    "duration": 6,
    "start_time": "2022-06-20T08:38:40.774Z"
   },
   {
    "duration": 14,
    "start_time": "2022-06-20T08:38:40.782Z"
   },
   {
    "duration": 7,
    "start_time": "2022-06-20T08:38:40.797Z"
   },
   {
    "duration": 12,
    "start_time": "2022-06-20T08:38:40.806Z"
   },
   {
    "duration": 9,
    "start_time": "2022-06-20T08:38:40.819Z"
   },
   {
    "duration": 9,
    "start_time": "2022-06-20T08:38:40.829Z"
   },
   {
    "duration": 12,
    "start_time": "2022-06-20T08:38:40.840Z"
   },
   {
    "duration": 2,
    "start_time": "2022-06-20T08:38:40.854Z"
   },
   {
    "duration": 13,
    "start_time": "2022-06-20T08:38:40.858Z"
   },
   {
    "duration": 8,
    "start_time": "2022-06-20T08:38:40.873Z"
   },
   {
    "duration": 43,
    "start_time": "2022-06-20T08:38:40.882Z"
   },
   {
    "duration": 9,
    "start_time": "2022-06-20T08:38:40.927Z"
   },
   {
    "duration": 1860,
    "start_time": "2022-06-20T08:42:28.070Z"
   },
   {
    "duration": 1225,
    "start_time": "2022-06-20T08:42:29.932Z"
   },
   {
    "duration": 4112,
    "start_time": "2022-06-20T08:42:31.158Z"
   },
   {
    "duration": 5,
    "start_time": "2022-06-20T08:42:35.272Z"
   },
   {
    "duration": 33,
    "start_time": "2022-06-20T08:42:35.278Z"
   },
   {
    "duration": 7,
    "start_time": "2022-06-20T08:42:35.313Z"
   },
   {
    "duration": 24,
    "start_time": "2022-06-20T08:42:35.324Z"
   },
   {
    "duration": 9,
    "start_time": "2022-06-20T08:42:35.349Z"
   },
   {
    "duration": 100,
    "start_time": "2022-06-20T08:42:35.359Z"
   },
   {
    "duration": 92,
    "start_time": "2022-06-20T08:42:35.462Z"
   },
   {
    "duration": 58,
    "start_time": "2022-06-20T08:42:35.556Z"
   },
   {
    "duration": 17,
    "start_time": "2022-06-20T08:42:35.615Z"
   },
   {
    "duration": 116,
    "start_time": "2022-06-20T08:42:35.633Z"
   },
   {
    "duration": 3,
    "start_time": "2022-06-20T08:42:35.750Z"
   },
   {
    "duration": 118,
    "start_time": "2022-06-20T08:42:35.755Z"
   },
   {
    "duration": 4,
    "start_time": "2022-06-20T08:42:35.875Z"
   },
   {
    "duration": 17,
    "start_time": "2022-06-20T08:42:35.881Z"
   },
   {
    "duration": 50,
    "start_time": "2022-06-20T08:42:35.900Z"
   },
   {
    "duration": 235,
    "start_time": "2022-06-20T08:42:35.952Z"
   },
   {
    "duration": 6,
    "start_time": "2022-06-20T08:42:36.189Z"
   },
   {
    "duration": 48,
    "start_time": "2022-06-20T08:42:36.197Z"
   },
   {
    "duration": 3,
    "start_time": "2022-06-20T08:42:36.247Z"
   },
   {
    "duration": 133,
    "start_time": "2022-06-20T08:42:36.252Z"
   },
   {
    "duration": 56,
    "start_time": "2022-06-20T08:42:36.387Z"
   },
   {
    "duration": 143,
    "start_time": "2022-06-20T08:42:36.444Z"
   },
   {
    "duration": 2051,
    "start_time": "2022-06-20T08:42:36.589Z"
   },
   {
    "duration": 857,
    "start_time": "2022-06-20T08:42:38.641Z"
   },
   {
    "duration": 53,
    "start_time": "2022-06-20T08:42:39.502Z"
   },
   {
    "duration": 3,
    "start_time": "2022-06-20T08:42:39.557Z"
   },
   {
    "duration": 38,
    "start_time": "2022-06-20T08:42:39.561Z"
   },
   {
    "duration": 50,
    "start_time": "2022-06-20T08:42:39.601Z"
   },
   {
    "duration": 125,
    "start_time": "2022-06-20T08:42:39.653Z"
   },
   {
    "duration": 65,
    "start_time": "2022-06-20T08:42:39.780Z"
   },
   {
    "duration": 85,
    "start_time": "2022-06-20T08:42:39.847Z"
   },
   {
    "duration": 6,
    "start_time": "2022-06-20T08:42:39.934Z"
   },
   {
    "duration": 17,
    "start_time": "2022-06-20T08:42:39.942Z"
   },
   {
    "duration": 5,
    "start_time": "2022-06-20T08:42:39.960Z"
   },
   {
    "duration": 11,
    "start_time": "2022-06-20T08:42:39.967Z"
   },
   {
    "duration": 5,
    "start_time": "2022-06-20T08:42:39.980Z"
   },
   {
    "duration": 43,
    "start_time": "2022-06-20T08:42:39.986Z"
   },
   {
    "duration": 10,
    "start_time": "2022-06-20T08:42:40.032Z"
   },
   {
    "duration": 15,
    "start_time": "2022-06-20T08:42:40.043Z"
   },
   {
    "duration": 9,
    "start_time": "2022-06-20T08:42:40.059Z"
   },
   {
    "duration": 2,
    "start_time": "2022-06-20T08:42:40.070Z"
   },
   {
    "duration": 12,
    "start_time": "2022-06-20T08:42:40.074Z"
   },
   {
    "duration": 44,
    "start_time": "2022-06-20T08:42:40.088Z"
   },
   {
    "duration": 9,
    "start_time": "2022-06-20T08:42:40.134Z"
   },
   {
    "duration": 10,
    "start_time": "2022-06-20T08:42:40.144Z"
   },
   {
    "duration": 4,
    "start_time": "2022-06-20T09:08:54.339Z"
   },
   {
    "duration": 11462,
    "start_time": "2022-06-20T09:08:54.345Z"
   },
   {
    "duration": 3,
    "start_time": "2022-06-20T09:09:05.809Z"
   },
   {
    "duration": 43,
    "start_time": "2022-06-20T09:09:05.814Z"
   },
   {
    "duration": 7,
    "start_time": "2022-06-20T09:09:05.859Z"
   },
   {
    "duration": 24,
    "start_time": "2022-06-20T09:09:05.868Z"
   },
   {
    "duration": 8,
    "start_time": "2022-06-20T09:09:05.894Z"
   },
   {
    "duration": 84,
    "start_time": "2022-06-20T09:09:05.903Z"
   },
   {
    "duration": 81,
    "start_time": "2022-06-20T09:09:05.989Z"
   },
   {
    "duration": 63,
    "start_time": "2022-06-20T09:09:06.071Z"
   },
   {
    "duration": 6,
    "start_time": "2022-06-20T09:09:06.136Z"
   },
   {
    "duration": 118,
    "start_time": "2022-06-20T09:09:06.144Z"
   },
   {
    "duration": 4,
    "start_time": "2022-06-20T09:09:06.264Z"
   },
   {
    "duration": 115,
    "start_time": "2022-06-20T09:09:06.271Z"
   },
   {
    "duration": 4,
    "start_time": "2022-06-20T09:09:06.388Z"
   },
   {
    "duration": 8,
    "start_time": "2022-06-20T09:09:06.393Z"
   },
   {
    "duration": 45,
    "start_time": "2022-06-20T09:09:06.403Z"
   },
   {
    "duration": 242,
    "start_time": "2022-06-20T09:09:06.450Z"
   },
   {
    "duration": 10,
    "start_time": "2022-06-20T09:09:06.694Z"
   },
   {
    "duration": 40,
    "start_time": "2022-06-20T09:09:06.706Z"
   },
   {
    "duration": 9,
    "start_time": "2022-06-20T09:09:06.748Z"
   },
   {
    "duration": 141,
    "start_time": "2022-06-20T09:09:06.759Z"
   },
   {
    "duration": 63,
    "start_time": "2022-06-20T09:09:06.903Z"
   },
   {
    "duration": 85,
    "start_time": "2022-06-20T09:09:06.968Z"
   },
   {
    "duration": 2018,
    "start_time": "2022-06-20T09:09:07.055Z"
   },
   {
    "duration": 3,
    "start_time": "2022-06-20T09:09:09.075Z"
   },
   {
    "duration": 46,
    "start_time": "2022-06-20T09:09:09.080Z"
   },
   {
    "duration": 32,
    "start_time": "2022-06-20T09:09:09.128Z"
   },
   {
    "duration": 121,
    "start_time": "2022-06-20T09:09:09.163Z"
   },
   {
    "duration": 58,
    "start_time": "2022-06-20T09:09:09.285Z"
   },
   {
    "duration": 97,
    "start_time": "2022-06-20T09:09:09.344Z"
   },
   {
    "duration": 5,
    "start_time": "2022-06-20T09:09:09.443Z"
   },
   {
    "duration": 18,
    "start_time": "2022-06-20T09:09:09.450Z"
   },
   {
    "duration": 4,
    "start_time": "2022-06-20T09:09:09.470Z"
   },
   {
    "duration": 13,
    "start_time": "2022-06-20T09:09:09.476Z"
   },
   {
    "duration": 11,
    "start_time": "2022-06-20T09:09:09.526Z"
   },
   {
    "duration": 10,
    "start_time": "2022-06-20T09:09:09.539Z"
   },
   {
    "duration": 11,
    "start_time": "2022-06-20T09:09:09.551Z"
   },
   {
    "duration": 3,
    "start_time": "2022-06-20T09:09:09.563Z"
   },
   {
    "duration": 14,
    "start_time": "2022-06-20T09:09:09.568Z"
   },
   {
    "duration": 13,
    "start_time": "2022-06-20T09:09:09.627Z"
   },
   {
    "duration": 12,
    "start_time": "2022-06-20T09:09:09.642Z"
   },
   {
    "duration": 9,
    "start_time": "2022-06-20T09:09:09.655Z"
   },
   {
    "duration": 1236,
    "start_time": "2022-06-20T09:10:27.797Z"
   },
   {
    "duration": 3376,
    "start_time": "2022-06-20T09:10:29.035Z"
   },
   {
    "duration": 4,
    "start_time": "2022-06-20T09:10:32.413Z"
   },
   {
    "duration": 35,
    "start_time": "2022-06-20T09:10:32.419Z"
   },
   {
    "duration": 7,
    "start_time": "2022-06-20T09:10:32.456Z"
   },
   {
    "duration": 34,
    "start_time": "2022-06-20T09:10:32.465Z"
   },
   {
    "duration": 25,
    "start_time": "2022-06-20T09:10:32.500Z"
   },
   {
    "duration": 88,
    "start_time": "2022-06-20T09:10:32.527Z"
   },
   {
    "duration": 90,
    "start_time": "2022-06-20T09:10:32.617Z"
   },
   {
    "duration": 108,
    "start_time": "2022-06-20T09:10:32.710Z"
   },
   {
    "duration": 5,
    "start_time": "2022-06-20T09:10:32.825Z"
   },
   {
    "duration": 117,
    "start_time": "2022-06-20T09:10:32.832Z"
   },
   {
    "duration": 4,
    "start_time": "2022-06-20T09:10:32.950Z"
   },
   {
    "duration": 126,
    "start_time": "2022-06-20T09:10:32.955Z"
   },
   {
    "duration": 4,
    "start_time": "2022-06-20T09:10:33.083Z"
   },
   {
    "duration": 7,
    "start_time": "2022-06-20T09:10:33.089Z"
   },
   {
    "duration": 46,
    "start_time": "2022-06-20T09:10:33.097Z"
   },
   {
    "duration": 233,
    "start_time": "2022-06-20T09:10:33.145Z"
   },
   {
    "duration": 7,
    "start_time": "2022-06-20T09:10:33.379Z"
   },
   {
    "duration": 63,
    "start_time": "2022-06-20T09:10:33.387Z"
   },
   {
    "duration": 5,
    "start_time": "2022-06-20T09:10:33.452Z"
   },
   {
    "duration": 133,
    "start_time": "2022-06-20T09:10:33.458Z"
   },
   {
    "duration": 56,
    "start_time": "2022-06-20T09:10:33.592Z"
   },
   {
    "duration": 133,
    "start_time": "2022-06-20T09:10:33.651Z"
   },
   {
    "duration": 3,
    "start_time": "2022-06-20T09:10:33.785Z"
   },
   {
    "duration": 866,
    "start_time": "2022-06-20T09:10:33.789Z"
   },
   {
    "duration": 37,
    "start_time": "2022-06-20T09:10:34.657Z"
   },
   {
    "duration": 137,
    "start_time": "2022-06-20T09:10:34.697Z"
   },
   {
    "duration": 69,
    "start_time": "2022-06-20T09:10:34.835Z"
   },
   {
    "duration": 90,
    "start_time": "2022-06-20T09:10:34.906Z"
   },
   {
    "duration": 28,
    "start_time": "2022-06-20T09:10:34.998Z"
   },
   {
    "duration": 23,
    "start_time": "2022-06-20T09:10:35.027Z"
   },
   {
    "duration": 32,
    "start_time": "2022-06-20T09:10:35.052Z"
   },
   {
    "duration": 27,
    "start_time": "2022-06-20T09:10:35.086Z"
   },
   {
    "duration": 27,
    "start_time": "2022-06-20T09:10:35.115Z"
   },
   {
    "duration": 10,
    "start_time": "2022-06-20T09:10:35.143Z"
   },
   {
    "duration": 11,
    "start_time": "2022-06-20T09:10:35.155Z"
   },
   {
    "duration": 5,
    "start_time": "2022-06-20T09:10:35.167Z"
   },
   {
    "duration": 14,
    "start_time": "2022-06-20T09:10:35.173Z"
   },
   {
    "duration": 37,
    "start_time": "2022-06-20T09:10:35.189Z"
   },
   {
    "duration": 9,
    "start_time": "2022-06-20T09:10:35.227Z"
   },
   {
    "duration": 13,
    "start_time": "2022-06-20T09:10:35.237Z"
   }
  ],
  "kernelspec": {
   "display_name": "Python 3 (ipykernel)",
   "language": "python",
   "name": "python3"
  },
  "language_info": {
   "codemirror_mode": {
    "name": "ipython",
    "version": 3
   },
   "file_extension": ".py",
   "mimetype": "text/x-python",
   "name": "python",
   "nbconvert_exporter": "python",
   "pygments_lexer": "ipython3",
   "version": "3.9.5"
  },
  "toc": {
   "base_numbering": 1,
   "nav_menu": {},
   "number_sections": true,
   "sideBar": true,
   "skip_h1_title": true,
   "title_cell": "Table of Contents",
   "title_sidebar": "Contents",
   "toc_cell": false,
   "toc_position": {
    "height": "calc(100% - 180px)",
    "left": "10px",
    "top": "150px",
    "width": "302.375px"
   },
   "toc_section_display": true,
   "toc_window_display": true
  }
 },
 "nbformat": 4,
 "nbformat_minor": 5
}
