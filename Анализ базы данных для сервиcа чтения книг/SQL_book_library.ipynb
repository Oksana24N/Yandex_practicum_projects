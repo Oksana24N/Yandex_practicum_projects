{
 "cells": [
  {
   "cell_type": "markdown",
   "id": "8adeee00",
   "metadata": {},
   "source": [
    "![jupyter](https://pictures.s3.yandex.net/resources/scheme_1589269096.png)"
   ]
  },
  {
   "cell_type": "markdown",
   "id": "36340dda",
   "metadata": {},
   "source": [
    "**Схема базы данных**\n",
    "\n",
    "В базе данных 5 таблиц. \n",
    "\n",
    "Таблица `books` \n",
    "Содержит данные о книгах:\n",
    "- `book_id` — идентификатор книги - связывает с таблицами `review` и `ratings`\n",
    "- `author_id` — идентификатор автора - связывает с таблицей `authors`\n",
    "- `title` — название книги;\n",
    "- `num_pages` — количество страниц;\n",
    "- `publication_date` — дата публикации книги;\n",
    "- `publisher_id` — идентификатор издателя - связывает с таблицей `publishers`\n",
    "\n",
    "\n",
    "Таблица `authors`\n",
    "Содержит данные об авторах:\n",
    "- `author_id` — идентификатор автора;\n",
    "- `author` — имя автора.\n",
    "\n",
    "Таблица `publishers`\n",
    "Содержит данные об издательствах:\n",
    "- `publisher_id` — идентификатор издательства;\n",
    "- `publisher` — название издательства;\n",
    "\n",
    "Таблица `ratings`\n",
    "Содержит данные о пользовательских оценках книг:\n",
    "- `rating_id` — идентификатор оценки;\n",
    "- `book_id` — идентификатор книги;\n",
    "- `username` — имя пользователя, оставившего оценку;\n",
    "- `rating` — оценка книги.\n",
    "\n",
    "Таблица `reviews`\n",
    "Содержит данные о пользовательских обзорах:\n",
    "- `review_id` — идентификатор обзора;\n",
    "- `book_id` — идентификатор книги;\n",
    "- `username` — имя автора обзора;\n",
    "- `text` — текст обзора."
   ]
  },
  {
   "cell_type": "markdown",
   "id": "88b02020",
   "metadata": {},
   "source": [
    "## Загрузка данных"
   ]
  },
  {
   "cell_type": "code",
   "execution_count": 1,
   "id": "b6549a06",
   "metadata": {},
   "outputs": [],
   "source": [
    "import pandas as pd\n",
    "from sqlalchemy import create_engine"
   ]
  },
  {
   "cell_type": "code",
   "execution_count": 2,
   "id": "7ba3bc5f",
   "metadata": {},
   "outputs": [],
   "source": [
    "db_config = {'user': 'XXX', # имя пользователя\n",
    " 'pwd': 'XXX', # пароль\n",
    " 'host': 'XXX',\n",
    " 'port': 6432, # порт подключения\n",
    " 'db': 'XXX'} # название базы данных\n",
    "connection_string = 'postgresql://{}:{}@{}:{}/{}'.format(db_config['user'],\n",
    " db_config['pwd'],\n",
    " db_config['host'],\n",
    " db_config['port'],\n",
    " db_config['db'])\n",
    "# сохраняем коннектор\n",
    "engine = create_engine(connection_string, connect_args={'sslmode':'require'})"
   ]
  },
  {
   "cell_type": "markdown",
   "id": "e9b76488",
   "metadata": {},
   "source": [
    "### Books"
   ]
  },
  {
   "cell_type": "code",
   "execution_count": 3,
   "id": "ccb82bd8",
   "metadata": {},
   "outputs": [],
   "source": [
    "query = ''' SELECT *\n",
    "FROM books\n",
    "LIMIT 5\n",
    "'''"
   ]
  },
  {
   "cell_type": "code",
   "execution_count": 4,
   "id": "1ecbdb7d",
   "metadata": {},
   "outputs": [],
   "source": [
    "books = pd.io.sql.read_sql(query, con = engine)"
   ]
  },
  {
   "cell_type": "code",
   "execution_count": 5,
   "id": "25856c47",
   "metadata": {},
   "outputs": [
    {
     "data": {
      "text/html": [
       "<div>\n",
       "<style scoped>\n",
       "    .dataframe tbody tr th:only-of-type {\n",
       "        vertical-align: middle;\n",
       "    }\n",
       "\n",
       "    .dataframe tbody tr th {\n",
       "        vertical-align: top;\n",
       "    }\n",
       "\n",
       "    .dataframe thead th {\n",
       "        text-align: right;\n",
       "    }\n",
       "</style>\n",
       "<table border=\"1\" class=\"dataframe\">\n",
       "  <thead>\n",
       "    <tr style=\"text-align: right;\">\n",
       "      <th></th>\n",
       "      <th>book_id</th>\n",
       "      <th>author_id</th>\n",
       "      <th>title</th>\n",
       "      <th>num_pages</th>\n",
       "      <th>publication_date</th>\n",
       "      <th>publisher_id</th>\n",
       "    </tr>\n",
       "  </thead>\n",
       "  <tbody>\n",
       "    <tr>\n",
       "      <th>0</th>\n",
       "      <td>1</td>\n",
       "      <td>546</td>\n",
       "      <td>'Salem's Lot</td>\n",
       "      <td>594</td>\n",
       "      <td>2005-11-01</td>\n",
       "      <td>93</td>\n",
       "    </tr>\n",
       "    <tr>\n",
       "      <th>1</th>\n",
       "      <td>2</td>\n",
       "      <td>465</td>\n",
       "      <td>1 000 Places to See Before You Die</td>\n",
       "      <td>992</td>\n",
       "      <td>2003-05-22</td>\n",
       "      <td>336</td>\n",
       "    </tr>\n",
       "    <tr>\n",
       "      <th>2</th>\n",
       "      <td>3</td>\n",
       "      <td>407</td>\n",
       "      <td>13 Little Blue Envelopes (Little Blue Envelope...</td>\n",
       "      <td>322</td>\n",
       "      <td>2010-12-21</td>\n",
       "      <td>135</td>\n",
       "    </tr>\n",
       "    <tr>\n",
       "      <th>3</th>\n",
       "      <td>4</td>\n",
       "      <td>82</td>\n",
       "      <td>1491: New Revelations of the Americas Before C...</td>\n",
       "      <td>541</td>\n",
       "      <td>2006-10-10</td>\n",
       "      <td>309</td>\n",
       "    </tr>\n",
       "    <tr>\n",
       "      <th>4</th>\n",
       "      <td>5</td>\n",
       "      <td>125</td>\n",
       "      <td>1776</td>\n",
       "      <td>386</td>\n",
       "      <td>2006-07-04</td>\n",
       "      <td>268</td>\n",
       "    </tr>\n",
       "  </tbody>\n",
       "</table>\n",
       "</div>"
      ],
      "text/plain": [
       "   book_id  author_id                                              title  \\\n",
       "0        1        546                                       'Salem's Lot   \n",
       "1        2        465                 1 000 Places to See Before You Die   \n",
       "2        3        407  13 Little Blue Envelopes (Little Blue Envelope...   \n",
       "3        4         82  1491: New Revelations of the Americas Before C...   \n",
       "4        5        125                                               1776   \n",
       "\n",
       "   num_pages publication_date  publisher_id  \n",
       "0        594       2005-11-01            93  \n",
       "1        992       2003-05-22           336  \n",
       "2        322       2010-12-21           135  \n",
       "3        541       2006-10-10           309  \n",
       "4        386       2006-07-04           268  "
      ]
     },
     "execution_count": 5,
     "metadata": {},
     "output_type": "execute_result"
    }
   ],
   "source": [
    "books"
   ]
  },
  {
   "cell_type": "markdown",
   "id": "8cfd620b",
   "metadata": {},
   "source": [
    "- `book_id` — идентификатор книги;\n",
    "- `author_id` — идентификатор автора;\n",
    "- `title` — название книги;\n",
    "- `num_pages` — количество страниц;\n",
    "- `publication_date` — дата публикации книги;\n",
    "- `publisher_id` — идентификатор издателя"
   ]
  },
  {
   "cell_type": "markdown",
   "id": "f1a0e320",
   "metadata": {},
   "source": [
    "### Ratings"
   ]
  },
  {
   "cell_type": "code",
   "execution_count": 6,
   "id": "a4ff7f87",
   "metadata": {},
   "outputs": [],
   "source": [
    "query = ''' SELECT *\n",
    "FROM ratings\n",
    "LIMIT 5\n",
    "'''"
   ]
  },
  {
   "cell_type": "code",
   "execution_count": 7,
   "id": "4a80d620",
   "metadata": {},
   "outputs": [
    {
     "data": {
      "text/html": [
       "<div>\n",
       "<style scoped>\n",
       "    .dataframe tbody tr th:only-of-type {\n",
       "        vertical-align: middle;\n",
       "    }\n",
       "\n",
       "    .dataframe tbody tr th {\n",
       "        vertical-align: top;\n",
       "    }\n",
       "\n",
       "    .dataframe thead th {\n",
       "        text-align: right;\n",
       "    }\n",
       "</style>\n",
       "<table border=\"1\" class=\"dataframe\">\n",
       "  <thead>\n",
       "    <tr style=\"text-align: right;\">\n",
       "      <th></th>\n",
       "      <th>rating_id</th>\n",
       "      <th>book_id</th>\n",
       "      <th>username</th>\n",
       "      <th>rating</th>\n",
       "    </tr>\n",
       "  </thead>\n",
       "  <tbody>\n",
       "    <tr>\n",
       "      <th>0</th>\n",
       "      <td>1</td>\n",
       "      <td>1</td>\n",
       "      <td>ryanfranco</td>\n",
       "      <td>4</td>\n",
       "    </tr>\n",
       "    <tr>\n",
       "      <th>1</th>\n",
       "      <td>2</td>\n",
       "      <td>1</td>\n",
       "      <td>grantpatricia</td>\n",
       "      <td>2</td>\n",
       "    </tr>\n",
       "    <tr>\n",
       "      <th>2</th>\n",
       "      <td>3</td>\n",
       "      <td>1</td>\n",
       "      <td>brandtandrea</td>\n",
       "      <td>5</td>\n",
       "    </tr>\n",
       "    <tr>\n",
       "      <th>3</th>\n",
       "      <td>4</td>\n",
       "      <td>2</td>\n",
       "      <td>lorichen</td>\n",
       "      <td>3</td>\n",
       "    </tr>\n",
       "    <tr>\n",
       "      <th>4</th>\n",
       "      <td>5</td>\n",
       "      <td>2</td>\n",
       "      <td>mariokeller</td>\n",
       "      <td>2</td>\n",
       "    </tr>\n",
       "  </tbody>\n",
       "</table>\n",
       "</div>"
      ],
      "text/plain": [
       "   rating_id  book_id       username  rating\n",
       "0          1        1     ryanfranco       4\n",
       "1          2        1  grantpatricia       2\n",
       "2          3        1   brandtandrea       5\n",
       "3          4        2       lorichen       3\n",
       "4          5        2    mariokeller       2"
      ]
     },
     "execution_count": 7,
     "metadata": {},
     "output_type": "execute_result"
    }
   ],
   "source": [
    "ratings = pd.io.sql.read_sql(query, con = engine)\n",
    "ratings"
   ]
  },
  {
   "cell_type": "markdown",
   "id": "ebc3b3cd",
   "metadata": {},
   "source": [
    "- `rating_id` — идентификатор оценки;\n",
    "- `book_id` — идентификатор книги;\n",
    "- `username` — имя пользователя, оставившего оценку;\n",
    "- `rating` — оценка книги"
   ]
  },
  {
   "cell_type": "markdown",
   "id": "5d67f279",
   "metadata": {},
   "source": [
    "### Authors"
   ]
  },
  {
   "cell_type": "code",
   "execution_count": 8,
   "id": "6939ef16",
   "metadata": {},
   "outputs": [],
   "source": [
    "query = ''' SELECT *\n",
    "FROM authors\n",
    "LIMIT 5\n",
    "'''"
   ]
  },
  {
   "cell_type": "code",
   "execution_count": 9,
   "id": "3dea3b15",
   "metadata": {},
   "outputs": [
    {
     "data": {
      "text/html": [
       "<div>\n",
       "<style scoped>\n",
       "    .dataframe tbody tr th:only-of-type {\n",
       "        vertical-align: middle;\n",
       "    }\n",
       "\n",
       "    .dataframe tbody tr th {\n",
       "        vertical-align: top;\n",
       "    }\n",
       "\n",
       "    .dataframe thead th {\n",
       "        text-align: right;\n",
       "    }\n",
       "</style>\n",
       "<table border=\"1\" class=\"dataframe\">\n",
       "  <thead>\n",
       "    <tr style=\"text-align: right;\">\n",
       "      <th></th>\n",
       "      <th>author_id</th>\n",
       "      <th>author</th>\n",
       "    </tr>\n",
       "  </thead>\n",
       "  <tbody>\n",
       "    <tr>\n",
       "      <th>0</th>\n",
       "      <td>1</td>\n",
       "      <td>A.S. Byatt</td>\n",
       "    </tr>\n",
       "    <tr>\n",
       "      <th>1</th>\n",
       "      <td>2</td>\n",
       "      <td>Aesop/Laura Harris/Laura Gibbs</td>\n",
       "    </tr>\n",
       "    <tr>\n",
       "      <th>2</th>\n",
       "      <td>3</td>\n",
       "      <td>Agatha Christie</td>\n",
       "    </tr>\n",
       "    <tr>\n",
       "      <th>3</th>\n",
       "      <td>4</td>\n",
       "      <td>Alan Brennert</td>\n",
       "    </tr>\n",
       "    <tr>\n",
       "      <th>4</th>\n",
       "      <td>5</td>\n",
       "      <td>Alan Moore/David   Lloyd</td>\n",
       "    </tr>\n",
       "  </tbody>\n",
       "</table>\n",
       "</div>"
      ],
      "text/plain": [
       "   author_id                          author\n",
       "0          1                      A.S. Byatt\n",
       "1          2  Aesop/Laura Harris/Laura Gibbs\n",
       "2          3                 Agatha Christie\n",
       "3          4                   Alan Brennert\n",
       "4          5        Alan Moore/David   Lloyd"
      ]
     },
     "execution_count": 9,
     "metadata": {},
     "output_type": "execute_result"
    }
   ],
   "source": [
    "authors = pd.io.sql.read_sql(query, con = engine)\n",
    "authors"
   ]
  },
  {
   "cell_type": "markdown",
   "id": "32f2e6ae",
   "metadata": {},
   "source": [
    "- `author_id` — идентификатор автора;\n",
    "- `author` — имя автора."
   ]
  },
  {
   "cell_type": "markdown",
   "id": "5448e36a",
   "metadata": {},
   "source": [
    "### Publishers"
   ]
  },
  {
   "cell_type": "code",
   "execution_count": 10,
   "id": "0dc12946",
   "metadata": {},
   "outputs": [],
   "source": [
    "query = ''' SELECT *\n",
    "FROM publishers\n",
    "LIMIT 5\n",
    "'''"
   ]
  },
  {
   "cell_type": "code",
   "execution_count": 11,
   "id": "07ce519f",
   "metadata": {},
   "outputs": [
    {
     "data": {
      "text/html": [
       "<div>\n",
       "<style scoped>\n",
       "    .dataframe tbody tr th:only-of-type {\n",
       "        vertical-align: middle;\n",
       "    }\n",
       "\n",
       "    .dataframe tbody tr th {\n",
       "        vertical-align: top;\n",
       "    }\n",
       "\n",
       "    .dataframe thead th {\n",
       "        text-align: right;\n",
       "    }\n",
       "</style>\n",
       "<table border=\"1\" class=\"dataframe\">\n",
       "  <thead>\n",
       "    <tr style=\"text-align: right;\">\n",
       "      <th></th>\n",
       "      <th>publisher_id</th>\n",
       "      <th>publisher</th>\n",
       "    </tr>\n",
       "  </thead>\n",
       "  <tbody>\n",
       "    <tr>\n",
       "      <th>0</th>\n",
       "      <td>1</td>\n",
       "      <td>Ace</td>\n",
       "    </tr>\n",
       "    <tr>\n",
       "      <th>1</th>\n",
       "      <td>2</td>\n",
       "      <td>Ace Book</td>\n",
       "    </tr>\n",
       "    <tr>\n",
       "      <th>2</th>\n",
       "      <td>3</td>\n",
       "      <td>Ace Books</td>\n",
       "    </tr>\n",
       "    <tr>\n",
       "      <th>3</th>\n",
       "      <td>4</td>\n",
       "      <td>Ace Hardcover</td>\n",
       "    </tr>\n",
       "    <tr>\n",
       "      <th>4</th>\n",
       "      <td>5</td>\n",
       "      <td>Addison Wesley Publishing Company</td>\n",
       "    </tr>\n",
       "  </tbody>\n",
       "</table>\n",
       "</div>"
      ],
      "text/plain": [
       "   publisher_id                          publisher\n",
       "0             1                                Ace\n",
       "1             2                           Ace Book\n",
       "2             3                          Ace Books\n",
       "3             4                      Ace Hardcover\n",
       "4             5  Addison Wesley Publishing Company"
      ]
     },
     "execution_count": 11,
     "metadata": {},
     "output_type": "execute_result"
    }
   ],
   "source": [
    "publishers = pd.io.sql.read_sql(query, con = engine)\n",
    "publishers"
   ]
  },
  {
   "cell_type": "markdown",
   "id": "57a89cc1",
   "metadata": {},
   "source": [
    "- `publisher_id` — идентификатор издательства;\n",
    "- `publisher` — название издательства"
   ]
  },
  {
   "cell_type": "markdown",
   "id": "770b6a7a",
   "metadata": {},
   "source": [
    "### Reviews"
   ]
  },
  {
   "cell_type": "code",
   "execution_count": 12,
   "id": "bd700ab3",
   "metadata": {},
   "outputs": [],
   "source": [
    "query = ''' SELECT *\n",
    "FROM reviews\n",
    "LIMIT 5\n",
    "'''"
   ]
  },
  {
   "cell_type": "code",
   "execution_count": 13,
   "id": "8b46ef6c",
   "metadata": {},
   "outputs": [
    {
     "data": {
      "text/html": [
       "<div>\n",
       "<style scoped>\n",
       "    .dataframe tbody tr th:only-of-type {\n",
       "        vertical-align: middle;\n",
       "    }\n",
       "\n",
       "    .dataframe tbody tr th {\n",
       "        vertical-align: top;\n",
       "    }\n",
       "\n",
       "    .dataframe thead th {\n",
       "        text-align: right;\n",
       "    }\n",
       "</style>\n",
       "<table border=\"1\" class=\"dataframe\">\n",
       "  <thead>\n",
       "    <tr style=\"text-align: right;\">\n",
       "      <th></th>\n",
       "      <th>review_id</th>\n",
       "      <th>book_id</th>\n",
       "      <th>username</th>\n",
       "      <th>text</th>\n",
       "    </tr>\n",
       "  </thead>\n",
       "  <tbody>\n",
       "    <tr>\n",
       "      <th>0</th>\n",
       "      <td>1</td>\n",
       "      <td>1</td>\n",
       "      <td>brandtandrea</td>\n",
       "      <td>Mention society tell send professor analysis. ...</td>\n",
       "    </tr>\n",
       "    <tr>\n",
       "      <th>1</th>\n",
       "      <td>2</td>\n",
       "      <td>1</td>\n",
       "      <td>ryanfranco</td>\n",
       "      <td>Foot glass pretty audience hit themselves. Amo...</td>\n",
       "    </tr>\n",
       "    <tr>\n",
       "      <th>2</th>\n",
       "      <td>3</td>\n",
       "      <td>2</td>\n",
       "      <td>lorichen</td>\n",
       "      <td>Listen treat keep worry. Miss husband tax but ...</td>\n",
       "    </tr>\n",
       "    <tr>\n",
       "      <th>3</th>\n",
       "      <td>4</td>\n",
       "      <td>3</td>\n",
       "      <td>johnsonamanda</td>\n",
       "      <td>Finally month interesting blue could nature cu...</td>\n",
       "    </tr>\n",
       "    <tr>\n",
       "      <th>4</th>\n",
       "      <td>5</td>\n",
       "      <td>3</td>\n",
       "      <td>scotttamara</td>\n",
       "      <td>Nation purpose heavy give wait song will. List...</td>\n",
       "    </tr>\n",
       "  </tbody>\n",
       "</table>\n",
       "</div>"
      ],
      "text/plain": [
       "   review_id  book_id       username  \\\n",
       "0          1        1   brandtandrea   \n",
       "1          2        1     ryanfranco   \n",
       "2          3        2       lorichen   \n",
       "3          4        3  johnsonamanda   \n",
       "4          5        3    scotttamara   \n",
       "\n",
       "                                                text  \n",
       "0  Mention society tell send professor analysis. ...  \n",
       "1  Foot glass pretty audience hit themselves. Amo...  \n",
       "2  Listen treat keep worry. Miss husband tax but ...  \n",
       "3  Finally month interesting blue could nature cu...  \n",
       "4  Nation purpose heavy give wait song will. List...  "
      ]
     },
     "execution_count": 13,
     "metadata": {},
     "output_type": "execute_result"
    }
   ],
   "source": [
    "reviews = pd.io.sql.read_sql(query, con = engine)\n",
    "reviews"
   ]
  },
  {
   "cell_type": "markdown",
   "id": "fad6a323",
   "metadata": {},
   "source": [
    "- `review_id` — идентификатор обзора;\n",
    "- `book_id` — идентификатор книги;\n",
    "- `username` — имя пользователя, написавшего обзор;\n",
    "- `text` — текст обзора"
   ]
  },
  {
   "cell_type": "markdown",
   "id": "eef85afd",
   "metadata": {},
   "source": [
    "На экран были выведены первые строки из каждой таблицы, что позволило оценить их содержание. "
   ]
  },
  {
   "cell_type": "markdown",
   "id": "2f44e42b",
   "metadata": {},
   "source": [
    "## Книги, изданные после 01.01.2000"
   ]
  },
  {
   "cell_type": "code",
   "execution_count": 14,
   "id": "00e8e6a4",
   "metadata": {},
   "outputs": [],
   "source": [
    "query = ''' \n",
    "SELECT COUNT(*) as \"Всего\"\n",
    "FROM books\n",
    "WHERE publication_date > '2000-01-01'\n",
    "'''"
   ]
  },
  {
   "cell_type": "code",
   "execution_count": 15,
   "id": "490986b9",
   "metadata": {},
   "outputs": [
    {
     "data": {
      "text/html": [
       "<div>\n",
       "<style scoped>\n",
       "    .dataframe tbody tr th:only-of-type {\n",
       "        vertical-align: middle;\n",
       "    }\n",
       "\n",
       "    .dataframe tbody tr th {\n",
       "        vertical-align: top;\n",
       "    }\n",
       "\n",
       "    .dataframe thead th {\n",
       "        text-align: right;\n",
       "    }\n",
       "</style>\n",
       "<table border=\"1\" class=\"dataframe\">\n",
       "  <thead>\n",
       "    <tr style=\"text-align: right;\">\n",
       "      <th></th>\n",
       "      <th>Всего</th>\n",
       "    </tr>\n",
       "  </thead>\n",
       "  <tbody>\n",
       "    <tr>\n",
       "      <th>0</th>\n",
       "      <td>819</td>\n",
       "    </tr>\n",
       "  </tbody>\n",
       "</table>\n",
       "</div>"
      ],
      "text/plain": [
       "   Всего\n",
       "0    819"
      ]
     },
     "execution_count": 15,
     "metadata": {},
     "output_type": "execute_result"
    }
   ],
   "source": [
    "after_01012000 = pd.io.sql.read_sql(query, con = engine)\n",
    "after_01012000"
   ]
  },
  {
   "cell_type": "markdown",
   "id": "1340b532",
   "metadata": {},
   "source": [
    "После 1 января 2000 года было издано 819 книг"
   ]
  },
  {
   "cell_type": "markdown",
   "id": "691c02f0",
   "metadata": {},
   "source": [
    "## Обзоры и средний рейтинг"
   ]
  },
  {
   "cell_type": "code",
   "execution_count": 16,
   "id": "dc3736e3",
   "metadata": {},
   "outputs": [],
   "source": [
    "query = ''' \n",
    "SELECT b.book_id,\n",
    "       b.title as \"Книга\", \n",
    "       COUNT(DISTINCT rv.review_id) as \"Обзоров\",\n",
    "       AVG(rt.rating) as \"Средняя оценка\"\n",
    "FROM books AS b\n",
    "LEFT OUTER JOIN reviews AS rv ON b.book_id = rv.book_id\n",
    "LEFT OUTER JOIN ratings AS rt ON b.book_id = rt.book_id\n",
    "GROUP BY b.book_id\n",
    "ORDER BY COUNT(DISTINCT rv.review_id) DESC, AVG(rt.rating) DESC\n",
    "'''"
   ]
  },
  {
   "cell_type": "code",
   "execution_count": 17,
   "id": "74ab6031",
   "metadata": {},
   "outputs": [
    {
     "data": {
      "text/html": [
       "<div>\n",
       "<style scoped>\n",
       "    .dataframe tbody tr th:only-of-type {\n",
       "        vertical-align: middle;\n",
       "    }\n",
       "\n",
       "    .dataframe tbody tr th {\n",
       "        vertical-align: top;\n",
       "    }\n",
       "\n",
       "    .dataframe thead th {\n",
       "        text-align: right;\n",
       "    }\n",
       "</style>\n",
       "<table border=\"1\" class=\"dataframe\">\n",
       "  <thead>\n",
       "    <tr style=\"text-align: right;\">\n",
       "      <th></th>\n",
       "      <th>book_id</th>\n",
       "      <th>Книга</th>\n",
       "      <th>Обзоров</th>\n",
       "      <th>Средняя оценка</th>\n",
       "    </tr>\n",
       "  </thead>\n",
       "  <tbody>\n",
       "    <tr>\n",
       "      <th>0</th>\n",
       "      <td>948</td>\n",
       "      <td>Twilight (Twilight  #1)</td>\n",
       "      <td>7</td>\n",
       "      <td>3.662500</td>\n",
       "    </tr>\n",
       "    <tr>\n",
       "      <th>1</th>\n",
       "      <td>302</td>\n",
       "      <td>Harry Potter and the Prisoner of Azkaban (Harr...</td>\n",
       "      <td>6</td>\n",
       "      <td>4.414634</td>\n",
       "    </tr>\n",
       "    <tr>\n",
       "      <th>2</th>\n",
       "      <td>299</td>\n",
       "      <td>Harry Potter and the Chamber of Secrets (Harry...</td>\n",
       "      <td>6</td>\n",
       "      <td>4.287500</td>\n",
       "    </tr>\n",
       "    <tr>\n",
       "      <th>3</th>\n",
       "      <td>656</td>\n",
       "      <td>The Book Thief</td>\n",
       "      <td>6</td>\n",
       "      <td>4.264151</td>\n",
       "    </tr>\n",
       "    <tr>\n",
       "      <th>4</th>\n",
       "      <td>734</td>\n",
       "      <td>The Glass Castle</td>\n",
       "      <td>6</td>\n",
       "      <td>4.206897</td>\n",
       "    </tr>\n",
       "    <tr>\n",
       "      <th>5</th>\n",
       "      <td>497</td>\n",
       "      <td>Outlander (Outlander  #1)</td>\n",
       "      <td>6</td>\n",
       "      <td>4.125000</td>\n",
       "    </tr>\n",
       "    <tr>\n",
       "      <th>6</th>\n",
       "      <td>750</td>\n",
       "      <td>The Hobbit  or There and Back Again</td>\n",
       "      <td>6</td>\n",
       "      <td>4.125000</td>\n",
       "    </tr>\n",
       "    <tr>\n",
       "      <th>7</th>\n",
       "      <td>695</td>\n",
       "      <td>The Curious Incident of the Dog in the Night-Time</td>\n",
       "      <td>6</td>\n",
       "      <td>4.081081</td>\n",
       "    </tr>\n",
       "    <tr>\n",
       "      <th>8</th>\n",
       "      <td>779</td>\n",
       "      <td>The Lightning Thief (Percy Jackson and the Oly...</td>\n",
       "      <td>6</td>\n",
       "      <td>4.080645</td>\n",
       "    </tr>\n",
       "    <tr>\n",
       "      <th>9</th>\n",
       "      <td>963</td>\n",
       "      <td>Water for Elephants</td>\n",
       "      <td>6</td>\n",
       "      <td>3.977273</td>\n",
       "    </tr>\n",
       "  </tbody>\n",
       "</table>\n",
       "</div>"
      ],
      "text/plain": [
       "   book_id                                              Книга  Обзоров  \\\n",
       "0      948                            Twilight (Twilight  #1)        7   \n",
       "1      302  Harry Potter and the Prisoner of Azkaban (Harr...        6   \n",
       "2      299  Harry Potter and the Chamber of Secrets (Harry...        6   \n",
       "3      656                                     The Book Thief        6   \n",
       "4      734                                   The Glass Castle        6   \n",
       "5      497                          Outlander (Outlander  #1)        6   \n",
       "6      750                The Hobbit  or There and Back Again        6   \n",
       "7      695  The Curious Incident of the Dog in the Night-Time        6   \n",
       "8      779  The Lightning Thief (Percy Jackson and the Oly...        6   \n",
       "9      963                                Water for Elephants        6   \n",
       "\n",
       "   Средняя оценка  \n",
       "0        3.662500  \n",
       "1        4.414634  \n",
       "2        4.287500  \n",
       "3        4.264151  \n",
       "4        4.206897  \n",
       "5        4.125000  \n",
       "6        4.125000  \n",
       "7        4.081081  \n",
       "8        4.080645  \n",
       "9        3.977273  "
      ]
     },
     "execution_count": 17,
     "metadata": {},
     "output_type": "execute_result"
    }
   ],
   "source": [
    "avg_book_rating = pd.io.sql.read_sql(query, con = engine)\n",
    "avg_book_rating.head(10)"
   ]
  },
  {
   "cell_type": "markdown",
   "id": "7db89e05",
   "metadata": {},
   "source": [
    "Средняя оценка книги с наибольшим числом обзоров 3,66. Чаще читатели пишут негативный отзыв, а те, кому книга понравилась не всегда уделяют время на обзоры."
   ]
  },
  {
   "cell_type": "markdown",
   "id": "0686d428",
   "metadata": {},
   "source": [
    "## Издательство"
   ]
  },
  {
   "cell_type": "code",
   "execution_count": 19,
   "id": "3f19699b",
   "metadata": {},
   "outputs": [],
   "source": [
    "query = ''' \n",
    "SELECT pb.publisher as \"Издательство\", \n",
    "    COUNT(b.book_id) as \"Книг\"\n",
    "FROM books AS b\n",
    "INNER JOIN publishers AS pb ON pb.publisher_id = b.publisher_id\n",
    "WHERE b.num_pages > 50\n",
    "GROUP BY pb.publisher\n",
    "ORDER BY COUNT(b.book_id) DESC\n",
    "LIMIT 1\n",
    "'''"
   ]
  },
  {
   "cell_type": "code",
   "execution_count": 20,
   "id": "39e2c871",
   "metadata": {},
   "outputs": [
    {
     "data": {
      "text/html": [
       "<div>\n",
       "<style scoped>\n",
       "    .dataframe tbody tr th:only-of-type {\n",
       "        vertical-align: middle;\n",
       "    }\n",
       "\n",
       "    .dataframe tbody tr th {\n",
       "        vertical-align: top;\n",
       "    }\n",
       "\n",
       "    .dataframe thead th {\n",
       "        text-align: right;\n",
       "    }\n",
       "</style>\n",
       "<table border=\"1\" class=\"dataframe\">\n",
       "  <thead>\n",
       "    <tr style=\"text-align: right;\">\n",
       "      <th></th>\n",
       "      <th>Издательство</th>\n",
       "      <th>Книг</th>\n",
       "    </tr>\n",
       "  </thead>\n",
       "  <tbody>\n",
       "    <tr>\n",
       "      <th>0</th>\n",
       "      <td>Penguin Books</td>\n",
       "      <td>42</td>\n",
       "    </tr>\n",
       "  </tbody>\n",
       "</table>\n",
       "</div>"
      ],
      "text/plain": [
       "    Издательство  Книг\n",
       "0  Penguin Books    42"
      ]
     },
     "execution_count": 20,
     "metadata": {},
     "output_type": "execute_result"
    }
   ],
   "source": [
    "main_publisher = pd.io.sql.read_sql(query, con = engine)\n",
    "main_publisher.head()"
   ]
  },
  {
   "cell_type": "markdown",
   "id": "76fb2c40",
   "metadata": {},
   "source": [
    "Первое место среди издательств занимает \"Penguin Books\", которое выпустило 42 книги толще 50 страниц"
   ]
  },
  {
   "cell_type": "markdown",
   "id": "56730c44",
   "metadata": {},
   "source": [
    "## Автор"
   ]
  },
  {
   "cell_type": "code",
   "execution_count": 21,
   "id": "dd43875e",
   "metadata": {},
   "outputs": [],
   "source": [
    "query = '''SELECT af.author as \"Автор\", \n",
    "    ROUND(f.avg, 2) as \"Средняя оценка\"\n",
    "FROM(SELECT d.author_id, AVG(d.avg_rating)  \n",
    "     FROM\n",
    "       (SELECT b.book_id,\n",
    "               b.author_id,\n",
    "               COUNT(rt.rating_id),\n",
    "               AVG(rt.rating) AS avg_rating\n",
    "        FROM books AS b\n",
    "        INNER JOIN ratings AS rt ON b.book_id = rt.book_id\n",
    "        GROUP BY b.book_id\n",
    "        HAVING COUNT(rt.rating_id) >= 50) AS d\n",
    "     GROUP BY d.author_id\n",
    "     ORDER BY AVG(d.avg_rating) DESC\n",
    "     LIMIT 1) AS f\n",
    "INNER JOIN authors AS af ON f.author_id = af.author_id'''\n"
   ]
  },
  {
   "cell_type": "code",
   "execution_count": 22,
   "id": "59779bd1",
   "metadata": {},
   "outputs": [
    {
     "data": {
      "text/html": [
       "<div>\n",
       "<style scoped>\n",
       "    .dataframe tbody tr th:only-of-type {\n",
       "        vertical-align: middle;\n",
       "    }\n",
       "\n",
       "    .dataframe tbody tr th {\n",
       "        vertical-align: top;\n",
       "    }\n",
       "\n",
       "    .dataframe thead th {\n",
       "        text-align: right;\n",
       "    }\n",
       "</style>\n",
       "<table border=\"1\" class=\"dataframe\">\n",
       "  <thead>\n",
       "    <tr style=\"text-align: right;\">\n",
       "      <th></th>\n",
       "      <th>Автор</th>\n",
       "      <th>Средняя оценка</th>\n",
       "    </tr>\n",
       "  </thead>\n",
       "  <tbody>\n",
       "    <tr>\n",
       "      <th>0</th>\n",
       "      <td>J.K. Rowling/Mary GrandPré</td>\n",
       "      <td>4.28</td>\n",
       "    </tr>\n",
       "  </tbody>\n",
       "</table>\n",
       "</div>"
      ],
      "text/plain": [
       "                        Автор  Средняя оценка\n",
       "0  J.K. Rowling/Mary GrandPré            4.28"
      ]
     },
     "execution_count": 22,
     "metadata": {},
     "output_type": "execute_result"
    }
   ],
   "source": [
    "top_author = pd.io.sql.read_sql(query, con = engine)\n",
    "top_author"
   ]
  },
  {
   "cell_type": "markdown",
   "id": "a7598124",
   "metadata": {},
   "source": [
    "Среди книг с 50 и более оценками автор с самой высокой средней оценкой книг - J.K. Rowling/Mary GrandPré"
   ]
  },
  {
   "cell_type": "markdown",
   "id": "ef4430d5",
   "metadata": {},
   "source": [
    "## Обзоры"
   ]
  },
  {
   "cell_type": "code",
   "execution_count": 23,
   "id": "8003d826",
   "metadata": {},
   "outputs": [],
   "source": [
    "query = '''\n",
    "SELECT ROUND(AVG(i.review_count), 2) as \"Cреднее количество обзоров\"\n",
    "FROM\n",
    "  (SELECT username,\n",
    "          COUNT(review_id) AS review_count\n",
    "   FROM reviews\n",
    "   GROUP BY username) AS i\n",
    "WHERE i.username IN\n",
    "    (SELECT username\n",
    "     FROM ratings\n",
    "     GROUP BY username\n",
    "     HAVING COUNT(rating_id) > 50)\n",
    "'''"
   ]
  },
  {
   "cell_type": "code",
   "execution_count": 24,
   "id": "f9271875",
   "metadata": {},
   "outputs": [
    {
     "data": {
      "text/html": [
       "<div>\n",
       "<style scoped>\n",
       "    .dataframe tbody tr th:only-of-type {\n",
       "        vertical-align: middle;\n",
       "    }\n",
       "\n",
       "    .dataframe tbody tr th {\n",
       "        vertical-align: top;\n",
       "    }\n",
       "\n",
       "    .dataframe thead th {\n",
       "        text-align: right;\n",
       "    }\n",
       "</style>\n",
       "<table border=\"1\" class=\"dataframe\">\n",
       "  <thead>\n",
       "    <tr style=\"text-align: right;\">\n",
       "      <th></th>\n",
       "      <th>Cреднее количество обзоров</th>\n",
       "    </tr>\n",
       "  </thead>\n",
       "  <tbody>\n",
       "    <tr>\n",
       "      <th>0</th>\n",
       "      <td>24.33</td>\n",
       "    </tr>\n",
       "  </tbody>\n",
       "</table>\n",
       "</div>"
      ],
      "text/plain": [
       "   Cреднее количество обзоров\n",
       "0                       24.33"
      ]
     },
     "execution_count": 24,
     "metadata": {},
     "output_type": "execute_result"
    }
   ],
   "source": [
    "avg_reviews = pd.io.sql.read_sql(query, con = engine)\n",
    "avg_reviews"
   ]
  },
  {
   "cell_type": "markdown",
   "id": "8c8490ac",
   "metadata": {},
   "source": [
    "Пользователи, поставившие более 50 оценок в среднем оставляют 24,33 обзора"
   ]
  },
  {
   "cell_type": "markdown",
   "id": "23e52e6d",
   "metadata": {},
   "source": [
    "Для формирования предложения стоит учитывать книги:\n",
    "- выпущенные после 1 января 2000 года ;)\n",
    "- из списка популярных книг с самой высокой средней оценкой\n",
    "- выпущенные издательством \"Penguin Books\"\n",
    "- написанные J.K. Rowling/Mary GrandPré"
   ]
  }
 ],
 "metadata": {
  "ExecuteTimeLog": [
   {
    "duration": 650,
    "start_time": "2022-05-06T13:38:09.469Z"
   },
   {
    "duration": 12430,
    "start_time": "2022-05-06T13:38:19.831Z"
   },
   {
    "duration": 4,
    "start_time": "2022-05-06T13:38:35.525Z"
   },
   {
    "duration": 40,
    "start_time": "2022-05-06T13:38:44.525Z"
   },
   {
    "duration": 23,
    "start_time": "2022-05-06T13:39:32.538Z"
   },
   {
    "duration": 4,
    "start_time": "2022-05-06T13:39:47.061Z"
   },
   {
    "duration": 6,
    "start_time": "2022-05-06T13:40:06.721Z"
   },
   {
    "duration": 3,
    "start_time": "2022-05-06T13:40:09.592Z"
   },
   {
    "duration": 15,
    "start_time": "2022-05-06T13:40:18.386Z"
   },
   {
    "duration": 3,
    "start_time": "2022-05-06T13:40:28.266Z"
   },
   {
    "duration": 41,
    "start_time": "2022-05-06T13:40:35.197Z"
   },
   {
    "duration": 17,
    "start_time": "2022-05-06T13:40:46.705Z"
   },
   {
    "duration": 664,
    "start_time": "2022-05-07T12:47:16.946Z"
   },
   {
    "duration": 6254,
    "start_time": "2022-05-07T12:47:17.613Z"
   },
   {
    "duration": 4,
    "start_time": "2022-05-07T12:47:23.870Z"
   },
   {
    "duration": 245,
    "start_time": "2022-05-07T12:47:23.877Z"
   },
   {
    "duration": 25,
    "start_time": "2022-05-07T12:47:24.124Z"
   },
   {
    "duration": 7,
    "start_time": "2022-05-07T12:47:24.151Z"
   },
   {
    "duration": 12,
    "start_time": "2022-05-07T12:47:24.161Z"
   },
   {
    "duration": 76,
    "start_time": "2022-05-07T12:47:24.175Z"
   },
   {
    "duration": 4,
    "start_time": "2022-05-07T12:47:24.253Z"
   },
   {
    "duration": 110,
    "start_time": "2022-05-07T12:47:24.262Z"
   },
   {
    "duration": 23,
    "start_time": "2022-05-07T12:47:24.374Z"
   },
   {
    "duration": 3,
    "start_time": "2022-05-07T13:05:24.069Z"
   },
   {
    "duration": 73,
    "start_time": "2022-05-07T13:05:46.288Z"
   },
   {
    "duration": 3,
    "start_time": "2022-05-07T13:06:26.738Z"
   },
   {
    "duration": 4,
    "start_time": "2022-05-07T13:06:43.383Z"
   },
   {
    "duration": 67,
    "start_time": "2022-05-07T13:06:43.807Z"
   },
   {
    "duration": 4,
    "start_time": "2022-05-07T13:07:11.045Z"
   },
   {
    "duration": 3,
    "start_time": "2022-05-07T13:07:22.545Z"
   },
   {
    "duration": 3,
    "start_time": "2022-05-07T13:07:35.119Z"
   },
   {
    "duration": 103,
    "start_time": "2022-05-07T13:07:35.573Z"
   },
   {
    "duration": 3,
    "start_time": "2022-05-07T13:20:48.090Z"
   },
   {
    "duration": 108,
    "start_time": "2022-05-07T13:21:24.315Z"
   },
   {
    "duration": 103,
    "start_time": "2022-05-07T13:22:27.992Z"
   },
   {
    "duration": 9,
    "start_time": "2022-05-07T13:22:49.114Z"
   },
   {
    "duration": 13,
    "start_time": "2022-05-07T13:22:57.173Z"
   },
   {
    "duration": 15,
    "start_time": "2022-05-07T13:23:10.884Z"
   },
   {
    "duration": 20,
    "start_time": "2022-05-07T13:24:14.328Z"
   },
   {
    "duration": 81,
    "start_time": "2022-05-07T13:24:36.144Z"
   },
   {
    "duration": 14,
    "start_time": "2022-05-07T13:24:43.105Z"
   },
   {
    "duration": 88,
    "start_time": "2022-05-07T13:25:11.767Z"
   },
   {
    "duration": 122,
    "start_time": "2022-05-07T13:37:58.306Z"
   },
   {
    "duration": 4,
    "start_time": "2022-05-07T13:38:13.073Z"
   },
   {
    "duration": 187,
    "start_time": "2022-05-07T13:38:13.636Z"
   },
   {
    "duration": 4,
    "start_time": "2022-05-07T13:39:44.491Z"
   },
   {
    "duration": 11,
    "start_time": "2022-05-07T13:39:44.499Z"
   },
   {
    "duration": 8,
    "start_time": "2022-05-07T13:39:44.512Z"
   },
   {
    "duration": 230,
    "start_time": "2022-05-07T13:39:44.523Z"
   },
   {
    "duration": 7,
    "start_time": "2022-05-07T13:39:44.755Z"
   },
   {
    "duration": 16,
    "start_time": "2022-05-07T13:39:44.765Z"
   },
   {
    "duration": 82,
    "start_time": "2022-05-07T13:39:44.784Z"
   },
   {
    "duration": 4,
    "start_time": "2022-05-07T13:39:44.869Z"
   },
   {
    "duration": 121,
    "start_time": "2022-05-07T13:39:44.875Z"
   },
   {
    "duration": 22,
    "start_time": "2022-05-07T13:39:44.999Z"
   },
   {
    "duration": 13,
    "start_time": "2022-05-07T13:39:45.026Z"
   },
   {
    "duration": 118,
    "start_time": "2022-05-07T13:39:45.043Z"
   },
   {
    "duration": 4,
    "start_time": "2022-05-07T13:39:45.164Z"
   },
   {
    "duration": 73,
    "start_time": "2022-05-07T13:39:45.170Z"
   },
   {
    "duration": 4,
    "start_time": "2022-05-07T13:39:45.245Z"
   },
   {
    "duration": 88,
    "start_time": "2022-05-07T13:39:45.251Z"
   },
   {
    "duration": 4,
    "start_time": "2022-05-07T13:39:45.341Z"
   },
   {
    "duration": 87,
    "start_time": "2022-05-07T13:39:45.347Z"
   },
   {
    "duration": 13,
    "start_time": "2022-05-07T13:39:45.436Z"
   },
   {
    "duration": 29,
    "start_time": "2022-05-07T13:39:45.452Z"
   },
   {
    "duration": 19,
    "start_time": "2022-05-07T13:39:45.483Z"
   },
   {
    "duration": 4,
    "start_time": "2022-05-07T13:39:45.504Z"
   },
   {
    "duration": 195,
    "start_time": "2022-05-07T13:39:45.510Z"
   },
   {
    "duration": 4,
    "start_time": "2022-05-07T13:41:09.869Z"
   },
   {
    "duration": 175,
    "start_time": "2022-05-07T13:41:10.485Z"
   },
   {
    "duration": 4,
    "start_time": "2022-05-07T13:41:52.206Z"
   },
   {
    "duration": 181,
    "start_time": "2022-05-07T13:41:52.834Z"
   },
   {
    "duration": 23,
    "start_time": "2022-05-07T13:47:23.561Z"
   },
   {
    "duration": 4,
    "start_time": "2022-05-07T13:48:01.440Z"
   },
   {
    "duration": 187,
    "start_time": "2022-05-07T13:48:05.007Z"
   },
   {
    "duration": 3,
    "start_time": "2022-05-07T13:49:04.287Z"
   },
   {
    "duration": 180,
    "start_time": "2022-05-07T13:49:06.564Z"
   },
   {
    "duration": 3,
    "start_time": "2022-05-07T13:50:24.288Z"
   },
   {
    "duration": 173,
    "start_time": "2022-05-07T13:50:25.460Z"
   },
   {
    "duration": 4,
    "start_time": "2022-05-07T13:52:29.173Z"
   },
   {
    "duration": 10,
    "start_time": "2022-05-07T13:52:29.179Z"
   },
   {
    "duration": 10,
    "start_time": "2022-05-07T13:52:29.191Z"
   },
   {
    "duration": 287,
    "start_time": "2022-05-07T13:52:29.202Z"
   },
   {
    "duration": 7,
    "start_time": "2022-05-07T13:52:29.493Z"
   },
   {
    "duration": 12,
    "start_time": "2022-05-07T13:52:29.502Z"
   },
   {
    "duration": 67,
    "start_time": "2022-05-07T13:52:29.517Z"
   },
   {
    "duration": 3,
    "start_time": "2022-05-07T13:52:29.587Z"
   },
   {
    "duration": 113,
    "start_time": "2022-05-07T13:52:29.592Z"
   },
   {
    "duration": 17,
    "start_time": "2022-05-07T13:52:29.707Z"
   },
   {
    "duration": 14,
    "start_time": "2022-05-07T13:52:29.728Z"
   },
   {
    "duration": 87,
    "start_time": "2022-05-07T13:52:29.744Z"
   },
   {
    "duration": 3,
    "start_time": "2022-05-07T13:52:29.833Z"
   },
   {
    "duration": 66,
    "start_time": "2022-05-07T13:52:29.838Z"
   },
   {
    "duration": 4,
    "start_time": "2022-05-07T13:52:29.906Z"
   },
   {
    "duration": 83,
    "start_time": "2022-05-07T13:52:29.912Z"
   },
   {
    "duration": 20,
    "start_time": "2022-05-07T13:52:29.998Z"
   },
   {
    "duration": 98,
    "start_time": "2022-05-07T13:52:30.020Z"
   },
   {
    "duration": 15,
    "start_time": "2022-05-07T13:52:30.121Z"
   },
   {
    "duration": 15,
    "start_time": "2022-05-07T13:52:30.139Z"
   },
   {
    "duration": 16,
    "start_time": "2022-05-07T13:52:30.156Z"
   },
   {
    "duration": 22,
    "start_time": "2022-05-07T13:52:30.174Z"
   },
   {
    "duration": 0,
    "start_time": "2022-05-07T13:52:30.199Z"
   },
   {
    "duration": 0,
    "start_time": "2022-05-07T13:52:30.202Z"
   },
   {
    "duration": 28,
    "start_time": "2022-05-07T13:52:44.283Z"
   },
   {
    "duration": 5,
    "start_time": "2022-05-07T13:52:48.978Z"
   },
   {
    "duration": 175,
    "start_time": "2022-05-07T13:52:49.916Z"
   },
   {
    "duration": 3,
    "start_time": "2022-05-07T13:53:24.619Z"
   },
   {
    "duration": 63,
    "start_time": "2022-05-07T13:53:25.410Z"
   },
   {
    "duration": 4,
    "start_time": "2022-05-07T13:54:35.112Z"
   },
   {
    "duration": 64,
    "start_time": "2022-05-07T13:54:35.625Z"
   },
   {
    "duration": 3,
    "start_time": "2022-05-07T13:54:41.008Z"
   },
   {
    "duration": 64,
    "start_time": "2022-05-07T13:54:42.099Z"
   },
   {
    "duration": 4,
    "start_time": "2022-05-07T13:54:52.250Z"
   },
   {
    "duration": 69,
    "start_time": "2022-05-07T13:54:52.833Z"
   },
   {
    "duration": 3,
    "start_time": "2022-05-07T13:54:59.658Z"
   },
   {
    "duration": 64,
    "start_time": "2022-05-07T13:55:00.363Z"
   },
   {
    "duration": 39,
    "start_time": "2022-05-07T13:56:20.854Z"
   },
   {
    "duration": 26,
    "start_time": "2022-05-07T13:56:41.837Z"
   },
   {
    "duration": 37,
    "start_time": "2022-05-07T13:56:53.171Z"
   },
   {
    "duration": 61,
    "start_time": "2022-05-07T14:01:13.922Z"
   },
   {
    "duration": 4,
    "start_time": "2022-05-07T14:09:00.230Z"
   },
   {
    "duration": 187,
    "start_time": "2022-05-07T14:09:11.275Z"
   },
   {
    "duration": 3,
    "start_time": "2022-05-07T14:10:27.257Z"
   },
   {
    "duration": 179,
    "start_time": "2022-05-07T14:10:27.798Z"
   },
   {
    "duration": 5,
    "start_time": "2022-05-07T14:11:07.857Z"
   },
   {
    "duration": 7,
    "start_time": "2022-05-07T14:11:07.866Z"
   },
   {
    "duration": 6,
    "start_time": "2022-05-07T14:11:07.875Z"
   },
   {
    "duration": 248,
    "start_time": "2022-05-07T14:11:07.886Z"
   },
   {
    "duration": 6,
    "start_time": "2022-05-07T14:11:08.139Z"
   },
   {
    "duration": 13,
    "start_time": "2022-05-07T14:11:08.148Z"
   },
   {
    "duration": 76,
    "start_time": "2022-05-07T14:11:08.164Z"
   },
   {
    "duration": 3,
    "start_time": "2022-05-07T14:11:08.243Z"
   },
   {
    "duration": 115,
    "start_time": "2022-05-07T14:11:08.249Z"
   },
   {
    "duration": 19,
    "start_time": "2022-05-07T14:11:08.366Z"
   },
   {
    "duration": 5,
    "start_time": "2022-05-07T14:11:08.388Z"
   },
   {
    "duration": 71,
    "start_time": "2022-05-07T14:11:08.397Z"
   },
   {
    "duration": 4,
    "start_time": "2022-05-07T14:11:08.471Z"
   },
   {
    "duration": 88,
    "start_time": "2022-05-07T14:11:08.479Z"
   },
   {
    "duration": 4,
    "start_time": "2022-05-07T14:11:08.569Z"
   },
   {
    "duration": 105,
    "start_time": "2022-05-07T14:11:08.576Z"
   },
   {
    "duration": 6,
    "start_time": "2022-05-07T14:11:08.684Z"
   },
   {
    "duration": 101,
    "start_time": "2022-05-07T14:11:08.693Z"
   },
   {
    "duration": 14,
    "start_time": "2022-05-07T14:11:08.797Z"
   },
   {
    "duration": 14,
    "start_time": "2022-05-07T14:11:08.814Z"
   },
   {
    "duration": 14,
    "start_time": "2022-05-07T14:11:08.831Z"
   },
   {
    "duration": 38,
    "start_time": "2022-05-07T14:11:08.847Z"
   },
   {
    "duration": 85,
    "start_time": "2022-05-07T14:11:08.890Z"
   },
   {
    "duration": 3,
    "start_time": "2022-05-07T14:11:08.977Z"
   },
   {
    "duration": 235,
    "start_time": "2022-05-07T14:11:08.983Z"
   },
   {
    "duration": 4,
    "start_time": "2022-05-07T14:11:46.312Z"
   },
   {
    "duration": 218,
    "start_time": "2022-05-07T14:11:46.722Z"
   },
   {
    "duration": 4,
    "start_time": "2022-05-07T14:12:41.654Z"
   },
   {
    "duration": 237,
    "start_time": "2022-05-07T14:12:42.175Z"
   },
   {
    "duration": 4,
    "start_time": "2022-05-07T14:14:02.223Z"
   },
   {
    "duration": 4,
    "start_time": "2022-05-07T14:14:10.492Z"
   },
   {
    "duration": 2373,
    "start_time": "2022-05-07T14:14:11.620Z"
   },
   {
    "duration": 4,
    "start_time": "2022-05-07T14:14:28.202Z"
   },
   {
    "duration": 108,
    "start_time": "2022-05-07T14:14:28.762Z"
   },
   {
    "duration": 4,
    "start_time": "2022-05-07T14:15:05.896Z"
   },
   {
    "duration": 65,
    "start_time": "2022-05-07T14:15:06.456Z"
   },
   {
    "duration": 4,
    "start_time": "2022-05-07T14:15:20.443Z"
   },
   {
    "duration": 73,
    "start_time": "2022-05-07T14:15:21.095Z"
   },
   {
    "duration": 10,
    "start_time": "2022-05-07T14:15:33.128Z"
   },
   {
    "duration": 4,
    "start_time": "2022-05-07T14:24:55.918Z"
   },
   {
    "duration": 115,
    "start_time": "2022-05-07T14:25:33.562Z"
   },
   {
    "duration": 4,
    "start_time": "2022-05-07T14:54:12.871Z"
   },
   {
    "duration": 197,
    "start_time": "2022-05-07T14:54:15.164Z"
   },
   {
    "duration": 5,
    "start_time": "2022-05-07T14:58:05.682Z"
   },
   {
    "duration": 180,
    "start_time": "2022-05-07T14:58:07.526Z"
   },
   {
    "duration": 4,
    "start_time": "2022-05-07T14:58:56.424Z"
   },
   {
    "duration": 178,
    "start_time": "2022-05-07T14:58:58.602Z"
   },
   {
    "duration": 5,
    "start_time": "2022-05-07T15:01:33.119Z"
   },
   {
    "duration": 209,
    "start_time": "2022-05-07T15:01:34.521Z"
   },
   {
    "duration": 4,
    "start_time": "2022-05-07T15:02:59.050Z"
   },
   {
    "duration": 203,
    "start_time": "2022-05-07T15:03:01.574Z"
   },
   {
    "duration": 4,
    "start_time": "2022-05-07T15:05:24.327Z"
   },
   {
    "duration": 99,
    "start_time": "2022-05-07T15:05:26.325Z"
   },
   {
    "duration": 4,
    "start_time": "2022-05-07T15:06:09.980Z"
   },
   {
    "duration": 184,
    "start_time": "2022-05-07T15:06:11.634Z"
   },
   {
    "duration": 4,
    "start_time": "2022-05-07T15:06:31.250Z"
   },
   {
    "duration": 98,
    "start_time": "2022-05-07T15:06:33.527Z"
   },
   {
    "duration": 4,
    "start_time": "2022-05-07T15:09:48.187Z"
   },
   {
    "duration": 85,
    "start_time": "2022-05-07T15:09:49.477Z"
   },
   {
    "duration": 3,
    "start_time": "2022-05-07T15:17:37.208Z"
   },
   {
    "duration": 72,
    "start_time": "2022-05-07T15:17:39.257Z"
   },
   {
    "duration": 4,
    "start_time": "2022-05-07T15:19:49.338Z"
   },
   {
    "duration": 218,
    "start_time": "2022-05-07T15:19:50.020Z"
   },
   {
    "duration": 4,
    "start_time": "2022-05-07T15:20:15.400Z"
   },
   {
    "duration": 74,
    "start_time": "2022-05-07T15:20:16.500Z"
   },
   {
    "duration": 65,
    "start_time": "2022-05-07T15:24:03.329Z"
   },
   {
    "duration": 68,
    "start_time": "2022-05-07T15:24:18.869Z"
   },
   {
    "duration": 4,
    "start_time": "2022-05-07T15:24:22.887Z"
   },
   {
    "duration": 10,
    "start_time": "2022-05-07T15:24:22.894Z"
   },
   {
    "duration": 10,
    "start_time": "2022-05-07T15:24:22.907Z"
   },
   {
    "duration": 230,
    "start_time": "2022-05-07T15:24:22.920Z"
   },
   {
    "duration": 6,
    "start_time": "2022-05-07T15:24:23.152Z"
   },
   {
    "duration": 9,
    "start_time": "2022-05-07T15:24:23.161Z"
   },
   {
    "duration": 69,
    "start_time": "2022-05-07T15:24:23.173Z"
   },
   {
    "duration": 4,
    "start_time": "2022-05-07T15:24:23.245Z"
   },
   {
    "duration": 113,
    "start_time": "2022-05-07T15:24:23.253Z"
   },
   {
    "duration": 16,
    "start_time": "2022-05-07T15:24:23.369Z"
   },
   {
    "duration": 3,
    "start_time": "2022-05-07T15:24:23.388Z"
   },
   {
    "duration": 73,
    "start_time": "2022-05-07T15:24:23.394Z"
   },
   {
    "duration": 4,
    "start_time": "2022-05-07T15:24:23.469Z"
   },
   {
    "duration": 82,
    "start_time": "2022-05-07T15:24:23.476Z"
   },
   {
    "duration": 4,
    "start_time": "2022-05-07T15:24:23.560Z"
   },
   {
    "duration": 95,
    "start_time": "2022-05-07T15:24:23.566Z"
   },
   {
    "duration": 4,
    "start_time": "2022-05-07T15:24:23.664Z"
   },
   {
    "duration": 82,
    "start_time": "2022-05-07T15:24:23.670Z"
   },
   {
    "duration": 93,
    "start_time": "2022-05-07T15:24:27.639Z"
   },
   {
    "duration": 97,
    "start_time": "2022-05-07T15:24:37.430Z"
   },
   {
    "duration": 4,
    "start_time": "2022-05-07T15:26:46.115Z"
   },
   {
    "duration": 87,
    "start_time": "2022-05-07T15:26:46.742Z"
   },
   {
    "duration": 4,
    "start_time": "2022-05-07T15:28:24.170Z"
   },
   {
    "duration": 186,
    "start_time": "2022-05-07T15:28:24.911Z"
   },
   {
    "duration": 5,
    "start_time": "2022-05-07T15:28:37.595Z"
   },
   {
    "duration": 202,
    "start_time": "2022-05-07T15:28:40.132Z"
   },
   {
    "duration": 5,
    "start_time": "2022-05-07T15:28:58.651Z"
   },
   {
    "duration": 79,
    "start_time": "2022-05-07T15:29:00.969Z"
   },
   {
    "duration": 5,
    "start_time": "2022-05-07T15:32:06.924Z"
   },
   {
    "duration": 102,
    "start_time": "2022-05-07T15:32:07.457Z"
   },
   {
    "duration": 5,
    "start_time": "2022-05-07T15:32:23.084Z"
   },
   {
    "duration": 96,
    "start_time": "2022-05-07T15:32:23.788Z"
   },
   {
    "duration": 3,
    "start_time": "2022-05-07T15:33:39.162Z"
   },
   {
    "duration": 188,
    "start_time": "2022-05-07T15:33:39.755Z"
   },
   {
    "duration": 3,
    "start_time": "2022-05-07T15:41:19.739Z"
   },
   {
    "duration": 251,
    "start_time": "2022-05-07T15:41:21.311Z"
   },
   {
    "duration": 4,
    "start_time": "2022-05-07T15:42:06.963Z"
   },
   {
    "duration": 97,
    "start_time": "2022-05-07T15:42:07.483Z"
   },
   {
    "duration": 3,
    "start_time": "2022-05-07T15:42:13.772Z"
   },
   {
    "duration": 100,
    "start_time": "2022-05-07T15:42:14.925Z"
   },
   {
    "duration": 4,
    "start_time": "2022-05-07T15:42:28.621Z"
   },
   {
    "duration": 97,
    "start_time": "2022-05-07T15:42:29.377Z"
   },
   {
    "duration": 4,
    "start_time": "2022-05-07T15:45:09.633Z"
   },
   {
    "duration": 290,
    "start_time": "2022-05-07T15:45:10.373Z"
   },
   {
    "duration": 4,
    "start_time": "2022-05-07T15:45:17.298Z"
   },
   {
    "duration": 118,
    "start_time": "2022-05-07T15:45:18.884Z"
   },
   {
    "duration": 103,
    "start_time": "2022-05-07T15:50:43.287Z"
   },
   {
    "duration": 3,
    "start_time": "2022-05-07T15:51:07.208Z"
   },
   {
    "duration": 184,
    "start_time": "2022-05-07T15:51:15.268Z"
   },
   {
    "duration": 4,
    "start_time": "2022-05-07T15:51:53.577Z"
   },
   {
    "duration": 208,
    "start_time": "2022-05-07T15:51:54.265Z"
   },
   {
    "duration": 4,
    "start_time": "2022-05-07T15:52:22.806Z"
   },
   {
    "duration": 691,
    "start_time": "2022-05-07T15:52:23.669Z"
   },
   {
    "duration": 4,
    "start_time": "2022-05-07T15:52:35.579Z"
   },
   {
    "duration": 133,
    "start_time": "2022-05-07T15:52:36.148Z"
   },
   {
    "duration": 4,
    "start_time": "2022-05-07T15:53:33.758Z"
   },
   {
    "duration": 85,
    "start_time": "2022-05-07T15:53:34.341Z"
   },
   {
    "duration": 3,
    "start_time": "2022-05-07T15:54:01.596Z"
   },
   {
    "duration": 87,
    "start_time": "2022-05-07T15:54:02.406Z"
   },
   {
    "duration": 4,
    "start_time": "2022-05-07T15:54:40.284Z"
   },
   {
    "duration": 92,
    "start_time": "2022-05-07T15:54:41.012Z"
   },
   {
    "duration": 4,
    "start_time": "2022-05-07T15:56:04.673Z"
   },
   {
    "duration": 74,
    "start_time": "2022-05-07T15:56:05.145Z"
   },
   {
    "duration": 4,
    "start_time": "2022-05-07T15:56:30.269Z"
   },
   {
    "duration": 1067,
    "start_time": "2022-05-07T15:56:36.669Z"
   },
   {
    "duration": 29,
    "start_time": "2022-05-07T15:57:46.070Z"
   },
   {
    "duration": 76,
    "start_time": "2022-05-07T15:59:08.696Z"
   },
   {
    "duration": 4471,
    "start_time": "2022-05-07T15:59:38.005Z"
   },
   {
    "duration": 4,
    "start_time": "2022-05-07T15:59:49.197Z"
   },
   {
    "duration": 19,
    "start_time": "2022-05-07T15:59:49.204Z"
   },
   {
    "duration": 10,
    "start_time": "2022-05-07T15:59:49.225Z"
   },
   {
    "duration": 238,
    "start_time": "2022-05-07T15:59:49.237Z"
   },
   {
    "duration": 10,
    "start_time": "2022-05-07T15:59:49.479Z"
   },
   {
    "duration": 14,
    "start_time": "2022-05-07T15:59:49.492Z"
   },
   {
    "duration": 77,
    "start_time": "2022-05-07T15:59:49.508Z"
   },
   {
    "duration": 5,
    "start_time": "2022-05-07T15:59:49.588Z"
   },
   {
    "duration": 117,
    "start_time": "2022-05-07T15:59:49.595Z"
   },
   {
    "duration": 16,
    "start_time": "2022-05-07T15:59:49.714Z"
   },
   {
    "duration": 10,
    "start_time": "2022-05-07T15:59:49.732Z"
   },
   {
    "duration": 89,
    "start_time": "2022-05-07T15:59:49.744Z"
   },
   {
    "duration": 3,
    "start_time": "2022-05-07T15:59:49.835Z"
   },
   {
    "duration": 88,
    "start_time": "2022-05-07T15:59:49.842Z"
   },
   {
    "duration": 4,
    "start_time": "2022-05-07T15:59:49.932Z"
   },
   {
    "duration": 94,
    "start_time": "2022-05-07T15:59:49.938Z"
   },
   {
    "duration": 4,
    "start_time": "2022-05-07T15:59:50.035Z"
   },
   {
    "duration": 93,
    "start_time": "2022-05-07T15:59:50.042Z"
   },
   {
    "duration": 4,
    "start_time": "2022-05-07T15:59:50.138Z"
   },
   {
    "duration": 82,
    "start_time": "2022-05-07T15:59:50.145Z"
   },
   {
    "duration": 8,
    "start_time": "2022-05-07T15:59:50.230Z"
   },
   {
    "duration": 19,
    "start_time": "2022-05-07T15:59:50.240Z"
   },
   {
    "duration": 82,
    "start_time": "2022-05-07T15:59:50.262Z"
   },
   {
    "duration": 4,
    "start_time": "2022-05-07T15:59:50.347Z"
   },
   {
    "duration": 218,
    "start_time": "2022-05-07T15:59:50.354Z"
   },
   {
    "duration": 0,
    "start_time": "2022-05-07T15:59:50.575Z"
   },
   {
    "duration": 0,
    "start_time": "2022-05-07T15:59:50.577Z"
   },
   {
    "duration": 0,
    "start_time": "2022-05-07T15:59:50.579Z"
   },
   {
    "duration": 0,
    "start_time": "2022-05-07T15:59:50.581Z"
   },
   {
    "duration": 0,
    "start_time": "2022-05-07T15:59:50.583Z"
   },
   {
    "duration": 269,
    "start_time": "2022-05-07T16:00:07.942Z"
   },
   {
    "duration": 0,
    "start_time": "2022-05-07T16:00:08.213Z"
   },
   {
    "duration": 0,
    "start_time": "2022-05-07T16:00:08.215Z"
   },
   {
    "duration": 0,
    "start_time": "2022-05-07T16:00:08.216Z"
   },
   {
    "duration": 0,
    "start_time": "2022-05-07T16:00:08.218Z"
   },
   {
    "duration": 0,
    "start_time": "2022-05-07T16:00:08.219Z"
   },
   {
    "duration": 7,
    "start_time": "2022-05-07T16:00:27.800Z"
   },
   {
    "duration": 7,
    "start_time": "2022-05-07T16:00:27.810Z"
   },
   {
    "duration": 9,
    "start_time": "2022-05-07T16:00:27.819Z"
   },
   {
    "duration": 85,
    "start_time": "2022-05-07T16:00:27.831Z"
   },
   {
    "duration": 3,
    "start_time": "2022-05-07T16:00:27.920Z"
   },
   {
    "duration": 91,
    "start_time": "2022-05-07T16:00:27.926Z"
   },
   {
    "duration": 31,
    "start_time": "2022-05-07T16:00:28.019Z"
   },
   {
    "duration": 19,
    "start_time": "2022-05-07T16:00:36.925Z"
   },
   {
    "duration": 10,
    "start_time": "2022-05-07T16:00:57.656Z"
   },
   {
    "duration": 23,
    "start_time": "2022-05-07T16:01:06.808Z"
   },
   {
    "duration": 22,
    "start_time": "2022-05-07T16:01:36.815Z"
   },
   {
    "duration": 29,
    "start_time": "2022-05-07T16:03:22.512Z"
   },
   {
    "duration": 14,
    "start_time": "2022-05-07T16:03:54.659Z"
   },
   {
    "duration": 24,
    "start_time": "2022-05-07T16:04:00.112Z"
   },
   {
    "duration": 698,
    "start_time": "2022-05-07T18:45:01.816Z"
   },
   {
    "duration": 6800,
    "start_time": "2022-05-07T18:45:02.517Z"
   },
   {
    "duration": 4,
    "start_time": "2022-05-07T18:45:09.323Z"
   },
   {
    "duration": 337,
    "start_time": "2022-05-07T18:45:09.329Z"
   },
   {
    "duration": 6,
    "start_time": "2022-05-07T18:45:09.668Z"
   },
   {
    "duration": 6,
    "start_time": "2022-05-07T18:45:09.676Z"
   },
   {
    "duration": 75,
    "start_time": "2022-05-07T18:45:09.684Z"
   },
   {
    "duration": 4,
    "start_time": "2022-05-07T18:45:09.760Z"
   },
   {
    "duration": 97,
    "start_time": "2022-05-07T18:45:09.768Z"
   },
   {
    "duration": 16,
    "start_time": "2022-05-07T18:45:09.868Z"
   },
   {
    "duration": 3,
    "start_time": "2022-05-07T18:45:09.887Z"
   },
   {
    "duration": 67,
    "start_time": "2022-05-07T18:45:09.892Z"
   },
   {
    "duration": 3,
    "start_time": "2022-05-07T18:45:09.961Z"
   },
   {
    "duration": 69,
    "start_time": "2022-05-07T18:45:09.966Z"
   },
   {
    "duration": 3,
    "start_time": "2022-05-07T18:45:10.037Z"
   },
   {
    "duration": 92,
    "start_time": "2022-05-07T18:45:10.042Z"
   },
   {
    "duration": 3,
    "start_time": "2022-05-07T18:45:10.136Z"
   },
   {
    "duration": 80,
    "start_time": "2022-05-07T18:45:10.141Z"
   },
   {
    "duration": 4,
    "start_time": "2022-05-07T18:45:10.223Z"
   },
   {
    "duration": 71,
    "start_time": "2022-05-07T18:45:10.229Z"
   },
   {
    "duration": 95,
    "start_time": "2022-05-07T18:45:10.302Z"
   },
   {
    "duration": 0,
    "start_time": "2022-05-07T18:45:10.400Z"
   },
   {
    "duration": 0,
    "start_time": "2022-05-07T18:45:10.402Z"
   },
   {
    "duration": 0,
    "start_time": "2022-05-07T18:45:10.403Z"
   },
   {
    "duration": 0,
    "start_time": "2022-05-07T18:45:10.405Z"
   },
   {
    "duration": 0,
    "start_time": "2022-05-07T18:45:10.406Z"
   },
   {
    "duration": 0,
    "start_time": "2022-05-07T18:45:10.408Z"
   },
   {
    "duration": 0,
    "start_time": "2022-05-07T18:45:10.410Z"
   },
   {
    "duration": 62,
    "start_time": "2022-05-07T18:45:23.430Z"
   },
   {
    "duration": 3,
    "start_time": "2022-05-07T18:45:23.495Z"
   },
   {
    "duration": 8,
    "start_time": "2022-05-07T18:45:23.500Z"
   },
   {
    "duration": 76,
    "start_time": "2022-05-07T18:45:23.510Z"
   },
   {
    "duration": 3,
    "start_time": "2022-05-07T18:45:23.590Z"
   },
   {
    "duration": 74,
    "start_time": "2022-05-07T18:45:23.596Z"
   },
   {
    "duration": 30,
    "start_time": "2022-05-07T18:45:23.672Z"
   },
   {
    "duration": 26,
    "start_time": "2022-05-07T18:45:23.704Z"
   },
   {
    "duration": 20,
    "start_time": "2022-05-07T18:45:56.688Z"
   },
   {
    "duration": 64,
    "start_time": "2022-05-07T18:46:13.403Z"
   },
   {
    "duration": 8,
    "start_time": "2022-05-07T18:46:14.214Z"
   },
   {
    "duration": 3,
    "start_time": "2022-05-07T18:46:18.996Z"
   },
   {
    "duration": 6,
    "start_time": "2022-05-07T18:46:19.002Z"
   },
   {
    "duration": 8,
    "start_time": "2022-05-07T18:46:19.010Z"
   },
   {
    "duration": 208,
    "start_time": "2022-05-07T18:46:19.020Z"
   },
   {
    "duration": 13,
    "start_time": "2022-05-07T18:46:19.230Z"
   },
   {
    "duration": 84,
    "start_time": "2022-05-07T18:49:15.628Z"
   },
   {
    "duration": 4,
    "start_time": "2022-05-07T18:51:42.574Z"
   },
   {
    "duration": 69,
    "start_time": "2022-05-07T18:51:51.739Z"
   },
   {
    "duration": 21,
    "start_time": "2022-05-07T18:52:56.707Z"
   },
   {
    "duration": 16,
    "start_time": "2022-05-07T18:53:47.481Z"
   },
   {
    "duration": 32,
    "start_time": "2022-05-07T18:54:15.563Z"
   },
   {
    "duration": 19,
    "start_time": "2022-05-07T18:54:16.226Z"
   },
   {
    "duration": 20,
    "start_time": "2022-05-07T18:54:31.066Z"
   },
   {
    "duration": 15,
    "start_time": "2022-05-07T18:54:38.865Z"
   },
   {
    "duration": 63,
    "start_time": "2022-05-07T18:54:53.029Z"
   },
   {
    "duration": 18,
    "start_time": "2022-05-07T18:55:41.695Z"
   },
   {
    "duration": 22,
    "start_time": "2022-05-07T18:55:53.505Z"
   },
   {
    "duration": 112,
    "start_time": "2022-05-07T18:57:39.101Z"
   },
   {
    "duration": 106,
    "start_time": "2022-05-07T18:57:49.718Z"
   },
   {
    "duration": 4,
    "start_time": "2022-05-07T18:58:00.164Z"
   },
   {
    "duration": 65,
    "start_time": "2022-05-07T18:58:01.111Z"
   },
   {
    "duration": 68,
    "start_time": "2022-05-07T18:58:13.250Z"
   },
   {
    "duration": 4,
    "start_time": "2022-05-07T19:01:00.288Z"
   },
   {
    "duration": 73,
    "start_time": "2022-05-07T19:01:01.213Z"
   },
   {
    "duration": 5,
    "start_time": "2022-05-07T19:01:04.592Z"
   },
   {
    "duration": 71,
    "start_time": "2022-05-07T19:01:05.297Z"
   },
   {
    "duration": 4,
    "start_time": "2022-05-07T19:02:19.741Z"
   },
   {
    "duration": 90,
    "start_time": "2022-05-07T19:02:20.843Z"
   },
   {
    "duration": 4,
    "start_time": "2022-05-07T19:03:51.772Z"
   },
   {
    "duration": 69,
    "start_time": "2022-05-07T19:03:52.340Z"
   },
   {
    "duration": 4,
    "start_time": "2022-05-07T19:04:14.831Z"
   },
   {
    "duration": 68,
    "start_time": "2022-05-07T19:04:15.572Z"
   },
   {
    "duration": 4,
    "start_time": "2022-05-07T19:04:20.326Z"
   },
   {
    "duration": 68,
    "start_time": "2022-05-07T19:04:20.976Z"
   },
   {
    "duration": 24,
    "start_time": "2022-05-07T19:05:58.400Z"
   },
   {
    "duration": 21,
    "start_time": "2022-05-07T19:06:12.750Z"
   },
   {
    "duration": 4,
    "start_time": "2022-05-07T19:06:40.756Z"
   },
   {
    "duration": 182,
    "start_time": "2022-05-07T19:06:41.872Z"
   },
   {
    "duration": 4,
    "start_time": "2022-05-07T19:07:18.779Z"
   },
   {
    "duration": 73,
    "start_time": "2022-05-07T19:07:19.345Z"
   },
   {
    "duration": 3,
    "start_time": "2022-05-07T19:07:55.171Z"
   },
   {
    "duration": 164,
    "start_time": "2022-05-07T19:07:55.693Z"
   },
   {
    "duration": 4,
    "start_time": "2022-05-07T19:08:16.155Z"
   },
   {
    "duration": 159,
    "start_time": "2022-05-07T19:08:16.856Z"
   },
   {
    "duration": 3,
    "start_time": "2022-05-07T19:08:20.798Z"
   },
   {
    "duration": 9,
    "start_time": "2022-05-07T19:08:20.804Z"
   },
   {
    "duration": 7,
    "start_time": "2022-05-07T19:08:20.815Z"
   },
   {
    "duration": 226,
    "start_time": "2022-05-07T19:08:20.824Z"
   },
   {
    "duration": 12,
    "start_time": "2022-05-07T19:08:21.052Z"
   },
   {
    "duration": 77,
    "start_time": "2022-05-07T19:08:21.065Z"
   },
   {
    "duration": 3,
    "start_time": "2022-05-07T19:08:21.144Z"
   },
   {
    "duration": 72,
    "start_time": "2022-05-07T19:08:21.149Z"
   },
   {
    "duration": 3,
    "start_time": "2022-05-07T19:08:21.223Z"
   },
   {
    "duration": 71,
    "start_time": "2022-05-07T19:08:21.228Z"
   },
   {
    "duration": 3,
    "start_time": "2022-05-07T19:08:21.301Z"
   },
   {
    "duration": 89,
    "start_time": "2022-05-07T19:08:21.306Z"
   },
   {
    "duration": 3,
    "start_time": "2022-05-07T19:08:21.399Z"
   },
   {
    "duration": 68,
    "start_time": "2022-05-07T19:08:21.404Z"
   },
   {
    "duration": 3,
    "start_time": "2022-05-07T19:08:21.474Z"
   },
   {
    "duration": 6,
    "start_time": "2022-05-07T19:08:21.480Z"
   },
   {
    "duration": 82,
    "start_time": "2022-05-07T19:08:21.488Z"
   },
   {
    "duration": 4,
    "start_time": "2022-05-07T19:08:21.572Z"
   },
   {
    "duration": 70,
    "start_time": "2022-05-07T19:08:21.578Z"
   },
   {
    "duration": 4,
    "start_time": "2022-05-07T19:08:21.650Z"
   },
   {
    "duration": 6,
    "start_time": "2022-05-07T19:08:21.656Z"
   },
   {
    "duration": 81,
    "start_time": "2022-05-07T19:08:21.665Z"
   },
   {
    "duration": 4,
    "start_time": "2022-05-07T19:08:21.748Z"
   },
   {
    "duration": 161,
    "start_time": "2022-05-07T19:08:21.754Z"
   },
   {
    "duration": 3,
    "start_time": "2022-05-07T19:10:28.702Z"
   },
   {
    "duration": 3,
    "start_time": "2022-05-07T19:10:29.191Z"
   },
   {
    "duration": 95,
    "start_time": "2022-05-07T19:10:29.666Z"
   },
   {
    "duration": 4,
    "start_time": "2022-05-07T19:11:17.584Z"
   },
   {
    "duration": 165,
    "start_time": "2022-05-07T19:11:18.374Z"
   },
   {
    "duration": 4,
    "start_time": "2022-05-07T19:12:02.825Z"
   },
   {
    "duration": 72,
    "start_time": "2022-05-07T19:12:03.604Z"
   },
   {
    "duration": 3,
    "start_time": "2022-05-07T19:12:42.965Z"
   },
   {
    "duration": 74,
    "start_time": "2022-05-07T19:12:43.622Z"
   },
   {
    "duration": 4,
    "start_time": "2022-05-07T19:14:24.242Z"
   },
   {
    "duration": 275,
    "start_time": "2022-05-07T19:14:24.804Z"
   },
   {
    "duration": 5,
    "start_time": "2022-05-07T19:16:53.948Z"
   },
   {
    "duration": 165,
    "start_time": "2022-05-07T19:16:55.312Z"
   },
   {
    "duration": 3,
    "start_time": "2022-05-07T19:17:32.077Z"
   },
   {
    "duration": 183,
    "start_time": "2022-05-07T19:17:32.919Z"
   },
   {
    "duration": 4,
    "start_time": "2022-05-07T19:20:45.322Z"
   },
   {
    "duration": 73,
    "start_time": "2022-05-07T19:20:45.895Z"
   },
   {
    "duration": 4,
    "start_time": "2022-05-07T19:24:44.764Z"
   },
   {
    "duration": 97,
    "start_time": "2022-05-07T19:24:45.644Z"
   },
   {
    "duration": 4,
    "start_time": "2022-05-07T19:26:35.276Z"
   },
   {
    "duration": 165,
    "start_time": "2022-05-07T19:26:36.434Z"
   },
   {
    "duration": 4,
    "start_time": "2022-05-07T19:27:14.623Z"
   },
   {
    "duration": 164,
    "start_time": "2022-05-07T19:27:15.337Z"
   },
   {
    "duration": 4,
    "start_time": "2022-05-07T19:27:35.086Z"
   },
   {
    "duration": 10,
    "start_time": "2022-05-07T19:27:35.092Z"
   },
   {
    "duration": 9,
    "start_time": "2022-05-07T19:27:35.105Z"
   },
   {
    "duration": 216,
    "start_time": "2022-05-07T19:27:35.115Z"
   },
   {
    "duration": 12,
    "start_time": "2022-05-07T19:27:35.334Z"
   },
   {
    "duration": 88,
    "start_time": "2022-05-07T19:27:35.349Z"
   },
   {
    "duration": 4,
    "start_time": "2022-05-07T19:27:35.439Z"
   },
   {
    "duration": 67,
    "start_time": "2022-05-07T19:27:35.446Z"
   },
   {
    "duration": 3,
    "start_time": "2022-05-07T19:27:35.515Z"
   },
   {
    "duration": 65,
    "start_time": "2022-05-07T19:27:35.520Z"
   },
   {
    "duration": 4,
    "start_time": "2022-05-07T19:27:35.589Z"
   },
   {
    "duration": 93,
    "start_time": "2022-05-07T19:27:35.595Z"
   },
   {
    "duration": 4,
    "start_time": "2022-05-07T19:27:35.691Z"
   },
   {
    "duration": 66,
    "start_time": "2022-05-07T19:27:35.698Z"
   },
   {
    "duration": 3,
    "start_time": "2022-05-07T19:27:35.767Z"
   },
   {
    "duration": 7,
    "start_time": "2022-05-07T19:27:35.772Z"
   },
   {
    "duration": 79,
    "start_time": "2022-05-07T19:27:35.782Z"
   },
   {
    "duration": 4,
    "start_time": "2022-05-07T19:27:35.863Z"
   },
   {
    "duration": 67,
    "start_time": "2022-05-07T19:27:35.869Z"
   },
   {
    "duration": 3,
    "start_time": "2022-05-07T19:27:35.938Z"
   },
   {
    "duration": 18,
    "start_time": "2022-05-07T19:27:35.943Z"
   },
   {
    "duration": 192,
    "start_time": "2022-05-07T19:27:35.964Z"
   },
   {
    "duration": 5,
    "start_time": "2022-05-07T19:27:56.986Z"
   },
   {
    "duration": 69,
    "start_time": "2022-05-07T19:27:57.746Z"
   },
   {
    "duration": 4,
    "start_time": "2022-05-07T19:28:17.654Z"
   },
   {
    "duration": 160,
    "start_time": "2022-05-07T19:28:18.188Z"
   },
   {
    "duration": 4,
    "start_time": "2022-05-07T19:28:43.933Z"
   },
   {
    "duration": 69,
    "start_time": "2022-05-07T19:28:45.655Z"
   },
   {
    "duration": 3,
    "start_time": "2022-05-07T19:28:57.177Z"
   },
   {
    "duration": 90,
    "start_time": "2022-05-07T19:28:57.711Z"
   },
   {
    "duration": 4,
    "start_time": "2022-05-07T19:29:18.027Z"
   },
   {
    "duration": 70,
    "start_time": "2022-05-07T19:29:18.657Z"
   },
   {
    "duration": 4,
    "start_time": "2022-05-07T19:30:05.720Z"
   },
   {
    "duration": 171,
    "start_time": "2022-05-07T19:30:06.278Z"
   },
   {
    "duration": 3,
    "start_time": "2022-05-07T19:30:29.052Z"
   },
   {
    "duration": 165,
    "start_time": "2022-05-07T19:30:29.553Z"
   },
   {
    "duration": 4,
    "start_time": "2022-05-07T19:30:41.901Z"
   },
   {
    "duration": 4,
    "start_time": "2022-05-07T19:30:48.657Z"
   },
   {
    "duration": 175,
    "start_time": "2022-05-07T19:30:49.247Z"
   },
   {
    "duration": 4,
    "start_time": "2022-05-07T19:32:05.891Z"
   },
   {
    "duration": 166,
    "start_time": "2022-05-07T19:32:07.112Z"
   },
   {
    "duration": 4,
    "start_time": "2022-05-07T19:36:27.565Z"
   },
   {
    "duration": 65,
    "start_time": "2022-05-07T19:36:28.246Z"
   },
   {
    "duration": 4,
    "start_time": "2022-05-07T19:40:32.791Z"
   },
   {
    "duration": 92,
    "start_time": "2022-05-07T19:40:33.550Z"
   },
   {
    "duration": 4,
    "start_time": "2022-05-07T19:43:31.525Z"
   },
   {
    "duration": 169,
    "start_time": "2022-05-07T19:43:32.404Z"
   },
   {
    "duration": 4,
    "start_time": "2022-05-07T19:43:42.765Z"
   },
   {
    "duration": 175,
    "start_time": "2022-05-07T19:43:43.366Z"
   },
   {
    "duration": 4,
    "start_time": "2022-05-07T19:43:57.133Z"
   },
   {
    "duration": 163,
    "start_time": "2022-05-07T19:43:57.765Z"
   },
   {
    "duration": 4,
    "start_time": "2022-05-07T19:44:04.771Z"
   },
   {
    "duration": 81,
    "start_time": "2022-05-07T19:44:05.219Z"
   },
   {
    "duration": 4,
    "start_time": "2022-05-07T19:44:36.952Z"
   },
   {
    "duration": 167,
    "start_time": "2022-05-07T19:44:37.562Z"
   },
   {
    "duration": 4,
    "start_time": "2022-05-07T19:44:48.264Z"
   },
   {
    "duration": 163,
    "start_time": "2022-05-07T19:44:48.389Z"
   },
   {
    "duration": 4,
    "start_time": "2022-05-07T19:45:06.742Z"
   },
   {
    "duration": 190,
    "start_time": "2022-05-07T19:45:08.637Z"
   },
   {
    "duration": 4,
    "start_time": "2022-05-07T19:45:27.186Z"
   },
   {
    "duration": 82,
    "start_time": "2022-05-07T19:45:28.000Z"
   },
   {
    "duration": 4,
    "start_time": "2022-05-07T19:46:21.772Z"
   },
   {
    "duration": 170,
    "start_time": "2022-05-07T19:46:22.455Z"
   },
   {
    "duration": 4,
    "start_time": "2022-05-07T19:46:37.290Z"
   },
   {
    "duration": 83,
    "start_time": "2022-05-07T19:46:37.970Z"
   },
   {
    "duration": 4,
    "start_time": "2022-05-07T19:46:53.517Z"
   },
   {
    "duration": 82,
    "start_time": "2022-05-07T19:46:54.209Z"
   },
   {
    "duration": 4,
    "start_time": "2022-05-07T19:51:16.175Z"
   },
   {
    "duration": 66,
    "start_time": "2022-05-07T19:51:16.803Z"
   },
   {
    "duration": 4,
    "start_time": "2022-05-07T19:52:34.642Z"
   },
   {
    "duration": 168,
    "start_time": "2022-05-07T19:52:35.152Z"
   },
   {
    "duration": 4,
    "start_time": "2022-05-07T19:55:27.219Z"
   },
   {
    "duration": 160,
    "start_time": "2022-05-07T19:55:30.718Z"
   },
   {
    "duration": 4,
    "start_time": "2022-05-07T19:56:42.171Z"
   },
   {
    "duration": 159,
    "start_time": "2022-05-07T19:56:44.541Z"
   },
   {
    "duration": 4,
    "start_time": "2022-05-07T19:57:10.189Z"
   },
   {
    "duration": 82,
    "start_time": "2022-05-07T19:57:10.828Z"
   },
   {
    "duration": 5,
    "start_time": "2022-05-07T19:57:24.650Z"
   },
   {
    "duration": 75,
    "start_time": "2022-05-07T19:57:28.715Z"
   },
   {
    "duration": 4,
    "start_time": "2022-05-07T19:58:15.118Z"
   },
   {
    "duration": 74,
    "start_time": "2022-05-07T19:58:17.395Z"
   },
   {
    "duration": 16,
    "start_time": "2022-05-07T19:58:54.648Z"
   },
   {
    "duration": 4,
    "start_time": "2022-05-07T19:59:08.761Z"
   },
   {
    "duration": 7,
    "start_time": "2022-05-07T19:59:08.768Z"
   },
   {
    "duration": 8,
    "start_time": "2022-05-07T19:59:08.777Z"
   },
   {
    "duration": 208,
    "start_time": "2022-05-07T19:59:08.788Z"
   },
   {
    "duration": 12,
    "start_time": "2022-05-07T19:59:08.998Z"
   },
   {
    "duration": 79,
    "start_time": "2022-05-07T19:59:09.013Z"
   },
   {
    "duration": 3,
    "start_time": "2022-05-07T19:59:09.094Z"
   },
   {
    "duration": 68,
    "start_time": "2022-05-07T19:59:09.099Z"
   },
   {
    "duration": 3,
    "start_time": "2022-05-07T19:59:09.171Z"
   },
   {
    "duration": 69,
    "start_time": "2022-05-07T19:59:09.177Z"
   },
   {
    "duration": 3,
    "start_time": "2022-05-07T19:59:09.249Z"
   },
   {
    "duration": 97,
    "start_time": "2022-05-07T19:59:09.254Z"
   },
   {
    "duration": 4,
    "start_time": "2022-05-07T19:59:09.353Z"
   },
   {
    "duration": 65,
    "start_time": "2022-05-07T19:59:09.360Z"
   },
   {
    "duration": 4,
    "start_time": "2022-05-07T19:59:09.427Z"
   },
   {
    "duration": 7,
    "start_time": "2022-05-07T19:59:09.434Z"
   },
   {
    "duration": 79,
    "start_time": "2022-05-07T19:59:09.444Z"
   },
   {
    "duration": 4,
    "start_time": "2022-05-07T19:59:09.525Z"
   },
   {
    "duration": 66,
    "start_time": "2022-05-07T19:59:09.532Z"
   },
   {
    "duration": 3,
    "start_time": "2022-05-07T19:59:09.601Z"
   },
   {
    "duration": 9,
    "start_time": "2022-05-07T19:59:09.606Z"
   },
   {
    "duration": 74,
    "start_time": "2022-05-07T19:59:09.618Z"
   },
   {
    "duration": 4,
    "start_time": "2022-05-07T19:59:09.695Z"
   },
   {
    "duration": 6,
    "start_time": "2022-05-07T19:59:09.704Z"
   },
   {
    "duration": 73,
    "start_time": "2022-05-07T19:59:09.712Z"
   },
   {
    "duration": 36,
    "start_time": "2022-05-07T19:59:09.787Z"
   },
   {
    "duration": 18,
    "start_time": "2022-05-07T19:59:15.570Z"
   },
   {
    "duration": 17,
    "start_time": "2022-05-07T19:59:28.108Z"
   },
   {
    "duration": 637,
    "start_time": "2022-05-07T19:59:45.976Z"
   },
   {
    "duration": 6595,
    "start_time": "2022-05-07T19:59:46.616Z"
   },
   {
    "duration": 4,
    "start_time": "2022-05-07T19:59:53.213Z"
   },
   {
    "duration": 222,
    "start_time": "2022-05-07T19:59:53.219Z"
   },
   {
    "duration": 22,
    "start_time": "2022-05-07T19:59:53.444Z"
   },
   {
    "duration": 71,
    "start_time": "2022-05-07T19:59:53.469Z"
   },
   {
    "duration": 4,
    "start_time": "2022-05-07T19:59:53.542Z"
   },
   {
    "duration": 71,
    "start_time": "2022-05-07T19:59:53.549Z"
   },
   {
    "duration": 3,
    "start_time": "2022-05-07T19:59:53.622Z"
   },
   {
    "duration": 65,
    "start_time": "2022-05-07T19:59:53.628Z"
   },
   {
    "duration": 3,
    "start_time": "2022-05-07T19:59:53.695Z"
   },
   {
    "duration": 84,
    "start_time": "2022-05-07T19:59:53.700Z"
   },
   {
    "duration": 4,
    "start_time": "2022-05-07T19:59:53.787Z"
   },
   {
    "duration": 65,
    "start_time": "2022-05-07T19:59:53.797Z"
   },
   {
    "duration": 3,
    "start_time": "2022-05-07T19:59:53.864Z"
   },
   {
    "duration": 12,
    "start_time": "2022-05-07T19:59:53.869Z"
   },
   {
    "duration": 79,
    "start_time": "2022-05-07T19:59:53.883Z"
   },
   {
    "duration": 3,
    "start_time": "2022-05-07T19:59:53.964Z"
   },
   {
    "duration": 69,
    "start_time": "2022-05-07T19:59:53.969Z"
   },
   {
    "duration": 3,
    "start_time": "2022-05-07T19:59:54.040Z"
   },
   {
    "duration": 7,
    "start_time": "2022-05-07T19:59:54.045Z"
   },
   {
    "duration": 68,
    "start_time": "2022-05-07T19:59:54.054Z"
   },
   {
    "duration": 4,
    "start_time": "2022-05-07T19:59:54.124Z"
   },
   {
    "duration": 13,
    "start_time": "2022-05-07T19:59:54.130Z"
   },
   {
    "duration": 77,
    "start_time": "2022-05-07T19:59:54.145Z"
   },
   {
    "duration": 35,
    "start_time": "2022-05-07T19:59:54.224Z"
   },
   {
    "duration": 122,
    "start_time": "2022-05-07T19:59:54.262Z"
   },
   {
    "duration": 13,
    "start_time": "2022-05-07T20:00:24.448Z"
   },
   {
    "duration": 40,
    "start_time": "2022-05-07T20:00:36.566Z"
   },
   {
    "duration": 15,
    "start_time": "2022-05-07T20:01:12.684Z"
   },
   {
    "duration": 56,
    "start_time": "2022-05-07T20:01:16.239Z"
   },
   {
    "duration": 19,
    "start_time": "2022-05-07T20:01:33.302Z"
   },
   {
    "duration": 36,
    "start_time": "2022-05-07T20:01:41.124Z"
   },
   {
    "duration": 3,
    "start_time": "2022-05-07T20:01:48.447Z"
   },
   {
    "duration": 8,
    "start_time": "2022-05-07T20:01:48.452Z"
   },
   {
    "duration": 6,
    "start_time": "2022-05-07T20:01:48.461Z"
   },
   {
    "duration": 207,
    "start_time": "2022-05-07T20:01:48.470Z"
   },
   {
    "duration": 11,
    "start_time": "2022-05-07T20:01:48.680Z"
   },
   {
    "duration": 70,
    "start_time": "2022-05-07T20:01:48.694Z"
   },
   {
    "duration": 3,
    "start_time": "2022-05-07T20:01:48.766Z"
   },
   {
    "duration": 73,
    "start_time": "2022-05-07T20:01:48.771Z"
   },
   {
    "duration": 3,
    "start_time": "2022-05-07T20:01:48.848Z"
   },
   {
    "duration": 65,
    "start_time": "2022-05-07T20:01:48.853Z"
   },
   {
    "duration": 3,
    "start_time": "2022-05-07T20:01:48.921Z"
   },
   {
    "duration": 83,
    "start_time": "2022-05-07T20:01:48.926Z"
   },
   {
    "duration": 3,
    "start_time": "2022-05-07T20:01:49.011Z"
   },
   {
    "duration": 66,
    "start_time": "2022-05-07T20:01:49.016Z"
   },
   {
    "duration": 4,
    "start_time": "2022-05-07T20:01:49.084Z"
   },
   {
    "duration": 6,
    "start_time": "2022-05-07T20:01:49.090Z"
   },
   {
    "duration": 75,
    "start_time": "2022-05-07T20:01:49.098Z"
   },
   {
    "duration": 3,
    "start_time": "2022-05-07T20:01:49.176Z"
   },
   {
    "duration": 65,
    "start_time": "2022-05-07T20:01:49.181Z"
   },
   {
    "duration": 3,
    "start_time": "2022-05-07T20:01:49.248Z"
   },
   {
    "duration": 10,
    "start_time": "2022-05-07T20:01:49.254Z"
   },
   {
    "duration": 68,
    "start_time": "2022-05-07T20:01:49.266Z"
   },
   {
    "duration": 4,
    "start_time": "2022-05-07T20:01:49.336Z"
   },
   {
    "duration": 7,
    "start_time": "2022-05-07T20:01:49.344Z"
   },
   {
    "duration": 76,
    "start_time": "2022-05-07T20:01:49.353Z"
   },
   {
    "duration": 10,
    "start_time": "2022-05-07T20:01:49.431Z"
   },
   {
    "duration": 19,
    "start_time": "2022-05-07T20:01:49.443Z"
   },
   {
    "duration": 30,
    "start_time": "2022-05-07T20:01:57.514Z"
   },
   {
    "duration": 22,
    "start_time": "2022-05-07T20:02:07.899Z"
   },
   {
    "duration": 4,
    "start_time": "2022-05-07T20:03:15.738Z"
   },
   {
    "duration": 8,
    "start_time": "2022-05-07T20:03:15.744Z"
   },
   {
    "duration": 6,
    "start_time": "2022-05-07T20:03:15.755Z"
   },
   {
    "duration": 209,
    "start_time": "2022-05-07T20:03:15.764Z"
   },
   {
    "duration": 13,
    "start_time": "2022-05-07T20:03:15.975Z"
   },
   {
    "duration": 9,
    "start_time": "2022-05-07T20:03:15.990Z"
   },
   {
    "duration": 101,
    "start_time": "2022-05-07T20:03:16.001Z"
   },
   {
    "duration": 3,
    "start_time": "2022-05-07T20:03:16.104Z"
   },
   {
    "duration": 70,
    "start_time": "2022-05-07T20:03:16.110Z"
   },
   {
    "duration": 4,
    "start_time": "2022-05-07T20:03:16.182Z"
   },
   {
    "duration": 66,
    "start_time": "2022-05-07T20:03:16.189Z"
   },
   {
    "duration": 3,
    "start_time": "2022-05-07T20:03:16.258Z"
   },
   {
    "duration": 83,
    "start_time": "2022-05-07T20:03:16.263Z"
   },
   {
    "duration": 3,
    "start_time": "2022-05-07T20:03:16.349Z"
   },
   {
    "duration": 69,
    "start_time": "2022-05-07T20:03:16.354Z"
   },
   {
    "duration": 4,
    "start_time": "2022-05-07T20:03:16.426Z"
   },
   {
    "duration": 81,
    "start_time": "2022-05-07T20:03:16.432Z"
   },
   {
    "duration": 4,
    "start_time": "2022-05-07T20:03:16.516Z"
   },
   {
    "duration": 77,
    "start_time": "2022-05-07T20:03:16.522Z"
   },
   {
    "duration": 3,
    "start_time": "2022-05-07T20:03:16.601Z"
   },
   {
    "duration": 6,
    "start_time": "2022-05-07T20:03:16.606Z"
   },
   {
    "duration": 70,
    "start_time": "2022-05-07T20:03:16.615Z"
   },
   {
    "duration": 5,
    "start_time": "2022-05-07T20:03:16.687Z"
   },
   {
    "duration": 17,
    "start_time": "2022-05-07T20:03:16.696Z"
   },
   {
    "duration": 92,
    "start_time": "2022-05-07T20:03:16.715Z"
   },
   {
    "duration": 13,
    "start_time": "2022-05-07T20:03:16.810Z"
   },
   {
    "duration": 31,
    "start_time": "2022-05-07T20:03:16.825Z"
   },
   {
    "duration": 18,
    "start_time": "2022-05-07T20:03:16.858Z"
   },
   {
    "duration": 13,
    "start_time": "2022-05-07T20:03:24.887Z"
   },
   {
    "duration": 27,
    "start_time": "2022-05-07T20:03:25.428Z"
   },
   {
    "duration": 27,
    "start_time": "2022-05-07T20:03:32.294Z"
   },
   {
    "duration": 26,
    "start_time": "2022-05-07T20:03:40.281Z"
   },
   {
    "duration": 27,
    "start_time": "2022-05-07T20:03:58.770Z"
   },
   {
    "duration": 23,
    "start_time": "2022-05-07T20:04:15.563Z"
   },
   {
    "duration": 24,
    "start_time": "2022-05-07T20:04:20.451Z"
   },
   {
    "duration": 4,
    "start_time": "2022-05-07T20:04:49.953Z"
   },
   {
    "duration": 73,
    "start_time": "2022-05-07T20:04:51.607Z"
   },
   {
    "duration": 5,
    "start_time": "2022-05-07T20:05:21.320Z"
   },
   {
    "duration": 23,
    "start_time": "2022-05-07T20:05:24.165Z"
   },
   {
    "duration": 4,
    "start_time": "2022-05-07T20:05:38.162Z"
   },
   {
    "duration": 74,
    "start_time": "2022-05-07T20:05:40.602Z"
   },
   {
    "duration": 5,
    "start_time": "2022-05-07T20:06:43.161Z"
   },
   {
    "duration": 181,
    "start_time": "2022-05-07T20:06:46.417Z"
   },
   {
    "duration": 6,
    "start_time": "2022-05-07T20:07:15.861Z"
   },
   {
    "duration": 163,
    "start_time": "2022-05-07T20:07:19.408Z"
   },
   {
    "duration": 4,
    "start_time": "2022-05-07T20:07:43.116Z"
   },
   {
    "duration": 186,
    "start_time": "2022-05-07T20:07:44.894Z"
   },
   {
    "duration": 5,
    "start_time": "2022-05-07T20:07:59.317Z"
   },
   {
    "duration": 176,
    "start_time": "2022-05-07T20:08:02.172Z"
   },
   {
    "duration": 6,
    "start_time": "2022-05-07T20:08:12.322Z"
   },
   {
    "duration": 181,
    "start_time": "2022-05-07T20:08:13.654Z"
   },
   {
    "duration": 6,
    "start_time": "2022-05-07T20:08:25.159Z"
   },
   {
    "duration": 73,
    "start_time": "2022-05-07T20:08:28.125Z"
   },
   {
    "duration": 4,
    "start_time": "2022-05-07T20:16:06.013Z"
   },
   {
    "duration": 115,
    "start_time": "2022-05-07T20:16:06.582Z"
   },
   {
    "duration": 5,
    "start_time": "2022-05-07T20:18:25.669Z"
   },
   {
    "duration": 192,
    "start_time": "2022-05-07T20:18:26.537Z"
   },
   {
    "duration": 4,
    "start_time": "2022-05-07T20:19:50.649Z"
   },
   {
    "duration": 76,
    "start_time": "2022-05-07T20:19:51.407Z"
   },
   {
    "duration": 4,
    "start_time": "2022-05-07T20:20:28.848Z"
   },
   {
    "duration": 75,
    "start_time": "2022-05-07T20:20:29.488Z"
   },
   {
    "duration": 60,
    "start_time": "2022-05-07T20:21:58.560Z"
   },
   {
    "duration": 22,
    "start_time": "2022-05-07T20:22:42.600Z"
   },
   {
    "duration": 3,
    "start_time": "2022-05-07T20:33:11.971Z"
   },
   {
    "duration": 163,
    "start_time": "2022-05-07T20:33:12.821Z"
   },
   {
    "duration": 4,
    "start_time": "2022-05-07T20:33:22.242Z"
   },
   {
    "duration": 64,
    "start_time": "2022-05-07T20:33:22.914Z"
   },
   {
    "duration": 63,
    "start_time": "2022-05-07T20:35:34.177Z"
   },
   {
    "duration": 22,
    "start_time": "2022-05-07T20:35:57.099Z"
   },
   {
    "duration": 18,
    "start_time": "2022-05-07T20:36:04.782Z"
   },
   {
    "duration": 4,
    "start_time": "2022-05-07T20:38:33.294Z"
   },
   {
    "duration": 88,
    "start_time": "2022-05-07T20:38:33.845Z"
   },
   {
    "duration": 90,
    "start_time": "2022-05-07T20:38:39.162Z"
   },
   {
    "duration": 4,
    "start_time": "2022-05-07T20:42:34.899Z"
   },
   {
    "duration": 80,
    "start_time": "2022-05-07T20:42:35.408Z"
   },
   {
    "duration": 4,
    "start_time": "2022-05-07T20:43:02.639Z"
   },
   {
    "duration": 295,
    "start_time": "2022-05-07T20:43:03.264Z"
   },
   {
    "duration": 4,
    "start_time": "2022-05-07T20:43:15.684Z"
   },
   {
    "duration": 82,
    "start_time": "2022-05-07T20:43:16.305Z"
   },
   {
    "duration": 5,
    "start_time": "2022-05-07T20:46:14.639Z"
   },
   {
    "duration": 162,
    "start_time": "2022-05-07T20:46:15.142Z"
   },
   {
    "duration": 4,
    "start_time": "2022-05-07T20:46:34.139Z"
   },
   {
    "duration": 80,
    "start_time": "2022-05-07T20:46:34.596Z"
   },
   {
    "duration": 5,
    "start_time": "2022-05-07T20:49:38.424Z"
   },
   {
    "duration": 160,
    "start_time": "2022-05-07T20:49:38.936Z"
   },
   {
    "duration": 4,
    "start_time": "2022-05-07T20:51:41.522Z"
   },
   {
    "duration": 168,
    "start_time": "2022-05-07T20:51:42.576Z"
   },
   {
    "duration": 4,
    "start_time": "2022-05-07T20:51:57.189Z"
   },
   {
    "duration": 73,
    "start_time": "2022-05-07T20:51:57.237Z"
   },
   {
    "duration": 4,
    "start_time": "2022-05-07T20:52:39.713Z"
   },
   {
    "duration": 74,
    "start_time": "2022-05-07T20:52:39.739Z"
   },
   {
    "duration": 20,
    "start_time": "2022-05-07T20:52:51.306Z"
   },
   {
    "duration": 22,
    "start_time": "2022-05-07T20:52:58.368Z"
   },
   {
    "duration": 45,
    "start_time": "2022-05-07T20:53:59.496Z"
   },
   {
    "duration": 20,
    "start_time": "2022-05-07T20:54:11.909Z"
   },
   {
    "duration": 17,
    "start_time": "2022-05-07T20:55:26.165Z"
   },
   {
    "duration": 18,
    "start_time": "2022-05-07T20:56:03.811Z"
   },
   {
    "duration": 21,
    "start_time": "2022-05-07T20:56:08.481Z"
   },
   {
    "duration": 20,
    "start_time": "2022-05-07T20:57:28.739Z"
   },
   {
    "duration": 20,
    "start_time": "2022-05-07T20:57:37.240Z"
   },
   {
    "duration": 3,
    "start_time": "2022-05-07T20:58:52.005Z"
   },
   {
    "duration": 165,
    "start_time": "2022-05-07T20:58:52.674Z"
   },
   {
    "duration": 3,
    "start_time": "2022-05-07T20:59:12.597Z"
   },
   {
    "duration": 179,
    "start_time": "2022-05-07T20:59:13.577Z"
   },
   {
    "duration": 4,
    "start_time": "2022-05-07T21:00:56.756Z"
   },
   {
    "duration": 86,
    "start_time": "2022-05-07T21:00:57.540Z"
   },
   {
    "duration": 20,
    "start_time": "2022-05-07T21:02:33.885Z"
   },
   {
    "duration": 4,
    "start_time": "2022-05-07T21:02:40.671Z"
   },
   {
    "duration": 78,
    "start_time": "2022-05-07T21:02:41.219Z"
   },
   {
    "duration": 4,
    "start_time": "2022-05-07T21:04:15.842Z"
   },
   {
    "duration": 66,
    "start_time": "2022-05-07T21:04:16.567Z"
   },
   {
    "duration": 4,
    "start_time": "2022-05-07T21:04:43.095Z"
   },
   {
    "duration": 65,
    "start_time": "2022-05-07T21:04:43.629Z"
   },
   {
    "duration": 22,
    "start_time": "2022-05-07T21:05:25.660Z"
   },
   {
    "duration": 4,
    "start_time": "2022-05-07T21:07:57.848Z"
   },
   {
    "duration": 68,
    "start_time": "2022-05-07T21:08:03.901Z"
   },
   {
    "duration": 3,
    "start_time": "2022-05-07T21:08:41.177Z"
   },
   {
    "duration": 169,
    "start_time": "2022-05-07T21:08:43.289Z"
   },
   {
    "duration": 3,
    "start_time": "2022-05-07T21:09:28.675Z"
   },
   {
    "duration": 165,
    "start_time": "2022-05-07T21:09:29.564Z"
   },
   {
    "duration": 3,
    "start_time": "2022-05-07T21:09:36.827Z"
   },
   {
    "duration": 67,
    "start_time": "2022-05-07T21:09:37.235Z"
   },
   {
    "duration": 4,
    "start_time": "2022-05-07T21:09:50.861Z"
   },
   {
    "duration": 76,
    "start_time": "2022-05-07T21:09:51.466Z"
   },
   {
    "duration": 4,
    "start_time": "2022-05-07T21:11:37.909Z"
   },
   {
    "duration": 181,
    "start_time": "2022-05-07T21:11:38.509Z"
   },
   {
    "duration": 4,
    "start_time": "2022-05-07T21:12:31.510Z"
   },
   {
    "duration": 68,
    "start_time": "2022-05-07T21:12:32.170Z"
   },
   {
    "duration": 4,
    "start_time": "2022-05-07T21:12:56.929Z"
   },
   {
    "duration": 66,
    "start_time": "2022-05-07T21:12:57.636Z"
   },
   {
    "duration": 25,
    "start_time": "2022-05-07T21:13:16.744Z"
   },
   {
    "duration": 4,
    "start_time": "2022-05-07T21:13:52.887Z"
   },
   {
    "duration": 63,
    "start_time": "2022-05-07T21:13:53.416Z"
   },
   {
    "duration": 4,
    "start_time": "2022-05-07T21:14:02.020Z"
   },
   {
    "duration": 64,
    "start_time": "2022-05-07T21:14:02.673Z"
   },
   {
    "duration": 3,
    "start_time": "2022-05-07T21:15:25.930Z"
   },
   {
    "duration": 66,
    "start_time": "2022-05-07T21:15:26.736Z"
   },
   {
    "duration": 25,
    "start_time": "2022-05-07T21:15:42.945Z"
   },
   {
    "duration": 19,
    "start_time": "2022-05-07T21:15:58.506Z"
   },
   {
    "duration": 28,
    "start_time": "2022-05-07T21:16:28.847Z"
   },
   {
    "duration": 4,
    "start_time": "2022-05-07T21:17:22.631Z"
   },
   {
    "duration": 66,
    "start_time": "2022-05-07T21:17:23.682Z"
   },
   {
    "duration": 65,
    "start_time": "2022-05-07T21:17:50.506Z"
   },
   {
    "duration": 65,
    "start_time": "2022-05-07T21:17:55.763Z"
   },
   {
    "duration": 4,
    "start_time": "2022-05-07T21:19:01.908Z"
   },
   {
    "duration": 85,
    "start_time": "2022-05-07T21:19:02.370Z"
   },
   {
    "duration": 21,
    "start_time": "2022-05-07T21:23:09.681Z"
   },
   {
    "duration": 16,
    "start_time": "2022-05-07T21:23:50.124Z"
   },
   {
    "duration": 16,
    "start_time": "2022-05-07T21:24:42.638Z"
   },
   {
    "duration": 12,
    "start_time": "2022-05-07T21:25:11.407Z"
   },
   {
    "duration": 19,
    "start_time": "2022-05-07T21:26:30.551Z"
   },
   {
    "duration": 16,
    "start_time": "2022-05-07T21:27:14.254Z"
   },
   {
    "duration": 15,
    "start_time": "2022-05-07T21:27:26.637Z"
   },
   {
    "duration": 4,
    "start_time": "2022-05-07T21:28:59.186Z"
   },
   {
    "duration": 12,
    "start_time": "2022-05-07T21:28:59.737Z"
   },
   {
    "duration": 118,
    "start_time": "2022-05-07T21:29:08.418Z"
   },
   {
    "duration": 4,
    "start_time": "2022-05-07T21:29:58.622Z"
   },
   {
    "duration": 64,
    "start_time": "2022-05-07T21:29:59.398Z"
   },
   {
    "duration": 3,
    "start_time": "2022-05-07T21:30:14.930Z"
   },
   {
    "duration": 67,
    "start_time": "2022-05-07T21:30:15.928Z"
   },
   {
    "duration": 4,
    "start_time": "2022-05-07T21:30:35.698Z"
   },
   {
    "duration": 64,
    "start_time": "2022-05-07T21:30:36.847Z"
   },
   {
    "duration": 17,
    "start_time": "2022-05-07T21:30:51.779Z"
   },
   {
    "duration": 4,
    "start_time": "2022-05-07T21:31:22.631Z"
   },
   {
    "duration": 63,
    "start_time": "2022-05-07T21:31:23.229Z"
   },
   {
    "duration": 3,
    "start_time": "2022-05-07T21:35:23.538Z"
   },
   {
    "duration": 3,
    "start_time": "2022-05-07T21:35:33.594Z"
   },
   {
    "duration": 182,
    "start_time": "2022-05-07T21:35:34.019Z"
   },
   {
    "duration": 4,
    "start_time": "2022-05-07T21:35:51.063Z"
   },
   {
    "duration": 67,
    "start_time": "2022-05-07T21:35:51.671Z"
   },
   {
    "duration": 4,
    "start_time": "2022-05-07T21:37:49.777Z"
   },
   {
    "duration": 65,
    "start_time": "2022-05-07T21:37:57.404Z"
   },
   {
    "duration": 4,
    "start_time": "2022-05-07T21:38:26.274Z"
   },
   {
    "duration": 65,
    "start_time": "2022-05-07T21:38:26.850Z"
   },
   {
    "duration": 14,
    "start_time": "2022-05-07T21:38:50.490Z"
   },
   {
    "duration": 4,
    "start_time": "2022-05-07T21:38:54.620Z"
   },
   {
    "duration": 7,
    "start_time": "2022-05-07T21:38:54.626Z"
   },
   {
    "duration": 7,
    "start_time": "2022-05-07T21:38:54.635Z"
   },
   {
    "duration": 186,
    "start_time": "2022-05-07T21:38:54.644Z"
   },
   {
    "duration": 12,
    "start_time": "2022-05-07T21:38:54.832Z"
   },
   {
    "duration": 6,
    "start_time": "2022-05-07T21:38:54.846Z"
   },
   {
    "duration": 88,
    "start_time": "2022-05-07T21:38:54.854Z"
   },
   {
    "duration": 3,
    "start_time": "2022-05-07T21:38:54.945Z"
   },
   {
    "duration": 60,
    "start_time": "2022-05-07T21:38:54.951Z"
   },
   {
    "duration": 4,
    "start_time": "2022-05-07T21:38:55.013Z"
   },
   {
    "duration": 68,
    "start_time": "2022-05-07T21:38:55.019Z"
   },
   {
    "duration": 4,
    "start_time": "2022-05-07T21:38:55.089Z"
   },
   {
    "duration": 79,
    "start_time": "2022-05-07T21:38:55.095Z"
   },
   {
    "duration": 3,
    "start_time": "2022-05-07T21:38:55.177Z"
   },
   {
    "duration": 62,
    "start_time": "2022-05-07T21:38:55.182Z"
   },
   {
    "duration": 4,
    "start_time": "2022-05-07T21:38:55.246Z"
   },
   {
    "duration": 77,
    "start_time": "2022-05-07T21:38:55.252Z"
   },
   {
    "duration": 4,
    "start_time": "2022-05-07T21:38:55.331Z"
   },
   {
    "duration": 61,
    "start_time": "2022-05-07T21:38:55.337Z"
   },
   {
    "duration": 3,
    "start_time": "2022-05-07T21:38:55.401Z"
   },
   {
    "duration": 64,
    "start_time": "2022-05-07T21:38:55.406Z"
   },
   {
    "duration": 17,
    "start_time": "2022-05-07T21:38:55.472Z"
   },
   {
    "duration": 0,
    "start_time": "2022-05-07T21:38:55.491Z"
   },
   {
    "duration": 0,
    "start_time": "2022-05-07T21:38:55.492Z"
   },
   {
    "duration": 15,
    "start_time": "2022-05-07T21:39:06.167Z"
   },
   {
    "duration": 13,
    "start_time": "2022-05-07T21:39:06.184Z"
   },
   {
    "duration": 25,
    "start_time": "2022-05-07T21:39:06.199Z"
   },
   {
    "duration": 81,
    "start_time": "2022-05-07T21:39:06.226Z"
   },
   {
    "duration": 3,
    "start_time": "2022-05-07T21:39:06.309Z"
   },
   {
    "duration": 82,
    "start_time": "2022-05-07T21:39:06.314Z"
   },
   {
    "duration": 4,
    "start_time": "2022-05-07T21:39:06.398Z"
   },
   {
    "duration": 63,
    "start_time": "2022-05-07T21:39:06.404Z"
   },
   {
    "duration": 3,
    "start_time": "2022-05-07T21:39:52.837Z"
   },
   {
    "duration": 3,
    "start_time": "2022-05-07T21:40:09.936Z"
   },
   {
    "duration": 60,
    "start_time": "2022-05-07T21:40:10.500Z"
   },
   {
    "duration": 4,
    "start_time": "2022-05-07T21:40:52.676Z"
   },
   {
    "duration": 4,
    "start_time": "2022-05-07T21:41:48.638Z"
   },
   {
    "duration": 58,
    "start_time": "2022-05-07T21:41:49.431Z"
   },
   {
    "duration": 4,
    "start_time": "2022-05-07T21:43:32.857Z"
   },
   {
    "duration": 60,
    "start_time": "2022-05-07T21:43:34.302Z"
   },
   {
    "duration": 665,
    "start_time": "2022-05-07T21:44:01.921Z"
   },
   {
    "duration": 4982,
    "start_time": "2022-05-07T21:44:02.589Z"
   },
   {
    "duration": 4,
    "start_time": "2022-05-07T21:44:07.573Z"
   },
   {
    "duration": 203,
    "start_time": "2022-05-07T21:44:07.580Z"
   },
   {
    "duration": 22,
    "start_time": "2022-05-07T21:44:07.785Z"
   },
   {
    "duration": 12,
    "start_time": "2022-05-07T21:44:07.809Z"
   },
   {
    "duration": 102,
    "start_time": "2022-05-07T21:44:07.823Z"
   },
   {
    "duration": 4,
    "start_time": "2022-05-07T21:44:07.927Z"
   },
   {
    "duration": 68,
    "start_time": "2022-05-07T21:44:07.933Z"
   },
   {
    "duration": 3,
    "start_time": "2022-05-07T21:44:08.005Z"
   },
   {
    "duration": 77,
    "start_time": "2022-05-07T21:44:08.009Z"
   },
   {
    "duration": 3,
    "start_time": "2022-05-07T21:44:08.088Z"
   },
   {
    "duration": 93,
    "start_time": "2022-05-07T21:44:08.093Z"
   },
   {
    "duration": 3,
    "start_time": "2022-05-07T21:44:08.188Z"
   },
   {
    "duration": 71,
    "start_time": "2022-05-07T21:44:08.193Z"
   },
   {
    "duration": 3,
    "start_time": "2022-05-07T21:44:08.266Z"
   },
   {
    "duration": 89,
    "start_time": "2022-05-07T21:44:08.271Z"
   },
   {
    "duration": 3,
    "start_time": "2022-05-07T21:44:08.362Z"
   },
   {
    "duration": 69,
    "start_time": "2022-05-07T21:44:08.367Z"
   },
   {
    "duration": 4,
    "start_time": "2022-05-07T21:44:08.437Z"
   },
   {
    "duration": 71,
    "start_time": "2022-05-07T21:44:08.443Z"
   },
   {
    "duration": 4,
    "start_time": "2022-05-07T21:44:08.516Z"
   },
   {
    "duration": 71,
    "start_time": "2022-05-07T21:44:08.522Z"
   },
   {
    "duration": 59,
    "start_time": "2022-05-07T22:07:06.477Z"
   },
   {
    "duration": 679,
    "start_time": "2022-05-07T22:08:07.019Z"
   },
   {
    "duration": 4574,
    "start_time": "2022-05-07T22:08:07.700Z"
   },
   {
    "duration": 4,
    "start_time": "2022-05-07T22:08:12.276Z"
   },
   {
    "duration": 197,
    "start_time": "2022-05-07T22:08:12.285Z"
   },
   {
    "duration": 23,
    "start_time": "2022-05-07T22:08:12.485Z"
   },
   {
    "duration": 4,
    "start_time": "2022-05-07T22:08:12.511Z"
   },
   {
    "duration": 107,
    "start_time": "2022-05-07T22:08:12.517Z"
   },
   {
    "duration": 3,
    "start_time": "2022-05-07T22:08:12.627Z"
   },
   {
    "duration": 66,
    "start_time": "2022-05-07T22:08:12.632Z"
   },
   {
    "duration": 3,
    "start_time": "2022-05-07T22:08:12.703Z"
   },
   {
    "duration": 63,
    "start_time": "2022-05-07T22:08:12.709Z"
   },
   {
    "duration": 4,
    "start_time": "2022-05-07T22:08:12.774Z"
   },
   {
    "duration": 88,
    "start_time": "2022-05-07T22:08:12.780Z"
   },
   {
    "duration": 4,
    "start_time": "2022-05-07T22:08:12.871Z"
   },
   {
    "duration": 61,
    "start_time": "2022-05-07T22:08:12.877Z"
   },
   {
    "duration": 4,
    "start_time": "2022-05-07T22:08:12.940Z"
   },
   {
    "duration": 82,
    "start_time": "2022-05-07T22:08:12.947Z"
   },
   {
    "duration": 3,
    "start_time": "2022-05-07T22:08:13.032Z"
   },
   {
    "duration": 62,
    "start_time": "2022-05-07T22:08:13.038Z"
   },
   {
    "duration": 4,
    "start_time": "2022-05-07T22:08:13.102Z"
   },
   {
    "duration": 66,
    "start_time": "2022-05-07T22:08:13.108Z"
   },
   {
    "duration": 3,
    "start_time": "2022-05-07T22:08:13.177Z"
   },
   {
    "duration": 66,
    "start_time": "2022-05-07T22:08:13.182Z"
   },
   {
    "duration": 7,
    "start_time": "2022-05-08T05:09:23.436Z"
   },
   {
    "duration": 38,
    "start_time": "2022-05-08T05:09:24.463Z"
   },
   {
    "duration": 496,
    "start_time": "2022-05-08T05:09:39.187Z"
   },
   {
    "duration": 10155,
    "start_time": "2022-05-08T05:09:39.684Z"
   },
   {
    "duration": 3,
    "start_time": "2022-05-08T05:09:49.841Z"
   },
   {
    "duration": 35,
    "start_time": "2022-05-08T05:09:49.845Z"
   },
   {
    "duration": 13,
    "start_time": "2022-05-08T05:09:49.882Z"
   },
   {
    "duration": 3,
    "start_time": "2022-05-08T05:09:49.896Z"
   },
   {
    "duration": 30,
    "start_time": "2022-05-08T05:09:49.900Z"
   },
   {
    "duration": 2,
    "start_time": "2022-05-08T05:09:49.931Z"
   },
   {
    "duration": 15,
    "start_time": "2022-05-08T05:09:49.935Z"
   },
   {
    "duration": 2,
    "start_time": "2022-05-08T05:09:49.952Z"
   },
   {
    "duration": 16,
    "start_time": "2022-05-08T05:09:49.955Z"
   },
   {
    "duration": 2,
    "start_time": "2022-05-08T05:09:49.972Z"
   },
   {
    "duration": 24,
    "start_time": "2022-05-08T05:09:49.975Z"
   },
   {
    "duration": 2,
    "start_time": "2022-05-08T05:09:50.002Z"
   },
   {
    "duration": 17,
    "start_time": "2022-05-08T05:09:50.005Z"
   },
   {
    "duration": 2,
    "start_time": "2022-05-08T05:09:50.024Z"
   },
   {
    "duration": 27,
    "start_time": "2022-05-08T05:09:50.027Z"
   },
   {
    "duration": 2,
    "start_time": "2022-05-08T05:09:50.055Z"
   },
   {
    "duration": 13,
    "start_time": "2022-05-08T05:09:50.059Z"
   },
   {
    "duration": 2,
    "start_time": "2022-05-08T05:09:50.074Z"
   },
   {
    "duration": 15,
    "start_time": "2022-05-08T05:09:50.077Z"
   },
   {
    "duration": 3,
    "start_time": "2022-05-08T05:09:50.093Z"
   },
   {
    "duration": 14,
    "start_time": "2022-05-08T05:09:50.097Z"
   },
   {
    "duration": 13,
    "start_time": "2022-05-08T05:44:50.990Z"
   },
   {
    "duration": 2,
    "start_time": "2022-05-08T05:44:53.222Z"
   },
   {
    "duration": 24,
    "start_time": "2022-05-08T05:44:53.414Z"
   },
   {
    "duration": 24,
    "start_time": "2022-05-08T05:46:20.576Z"
   },
   {
    "duration": 19,
    "start_time": "2022-05-08T05:48:15.703Z"
   },
   {
    "duration": 18,
    "start_time": "2022-05-08T05:48:32.110Z"
   },
   {
    "duration": 29,
    "start_time": "2022-05-08T05:49:17.990Z"
   },
   {
    "duration": 275,
    "start_time": "2022-05-08T05:49:27.781Z"
   },
   {
    "duration": 230,
    "start_time": "2022-05-08T05:49:30.717Z"
   },
   {
    "duration": 25,
    "start_time": "2022-05-08T05:49:40.477Z"
   },
   {
    "duration": 25,
    "start_time": "2022-05-08T05:49:46.868Z"
   },
   {
    "duration": 3,
    "start_time": "2022-05-08T05:50:01.114Z"
   },
   {
    "duration": 12,
    "start_time": "2022-05-08T05:50:01.282Z"
   },
   {
    "duration": 3,
    "start_time": "2022-05-08T05:50:03.090Z"
   },
   {
    "duration": 12,
    "start_time": "2022-05-08T05:50:03.330Z"
   },
   {
    "duration": 2,
    "start_time": "2022-05-08T05:51:16.574Z"
   },
   {
    "duration": 12,
    "start_time": "2022-05-08T05:51:17.374Z"
   },
   {
    "duration": 3,
    "start_time": "2022-05-08T05:51:19.357Z"
   },
   {
    "duration": 11,
    "start_time": "2022-05-08T05:51:19.582Z"
   },
   {
    "duration": 3,
    "start_time": "2022-05-08T05:51:24.485Z"
   },
   {
    "duration": 14,
    "start_time": "2022-05-08T05:51:24.709Z"
   },
   {
    "duration": 3,
    "start_time": "2022-05-08T05:51:38.212Z"
   },
   {
    "duration": 15,
    "start_time": "2022-05-08T05:51:38.476Z"
   },
   {
    "duration": 3,
    "start_time": "2022-05-08T05:51:44.796Z"
   },
   {
    "duration": 206,
    "start_time": "2022-05-08T05:51:45.220Z"
   },
   {
    "duration": 3,
    "start_time": "2022-05-08T05:51:52.892Z"
   },
   {
    "duration": 13,
    "start_time": "2022-05-08T05:51:53.237Z"
   },
   {
    "duration": 3,
    "start_time": "2022-05-08T05:51:57.387Z"
   },
   {
    "duration": 13,
    "start_time": "2022-05-08T05:51:57.955Z"
   },
   {
    "duration": 2,
    "start_time": "2022-05-08T05:52:06.123Z"
   },
   {
    "duration": 219,
    "start_time": "2022-05-08T05:52:06.579Z"
   },
   {
    "duration": 2,
    "start_time": "2022-05-08T05:52:38.746Z"
   },
   {
    "duration": 13,
    "start_time": "2022-05-08T05:52:39.242Z"
   },
   {
    "duration": 2,
    "start_time": "2022-05-08T05:52:50.897Z"
   },
   {
    "duration": 207,
    "start_time": "2022-05-08T05:52:51.368Z"
   },
   {
    "duration": 3,
    "start_time": "2022-05-08T05:53:01.456Z"
   },
   {
    "duration": 201,
    "start_time": "2022-05-08T05:53:02.528Z"
   },
   {
    "duration": 2,
    "start_time": "2022-05-08T05:53:06.728Z"
   },
   {
    "duration": 205,
    "start_time": "2022-05-08T05:53:06.928Z"
   },
   {
    "duration": 2,
    "start_time": "2022-05-08T05:53:11.959Z"
   },
   {
    "duration": 14,
    "start_time": "2022-05-08T05:53:12.271Z"
   },
   {
    "duration": 15,
    "start_time": "2022-05-08T05:53:30.238Z"
   },
   {
    "duration": 208,
    "start_time": "2022-05-08T05:54:08.638Z"
   },
   {
    "duration": 13,
    "start_time": "2022-05-08T05:54:16.236Z"
   },
   {
    "duration": 2,
    "start_time": "2022-05-08T05:55:33.087Z"
   },
   {
    "duration": 3,
    "start_time": "2022-05-08T05:55:50.109Z"
   },
   {
    "duration": 15,
    "start_time": "2022-05-08T05:55:50.277Z"
   },
   {
    "duration": 44,
    "start_time": "2022-05-08T06:03:58.238Z"
   },
   {
    "duration": 2,
    "start_time": "2022-05-08T06:03:59.906Z"
   },
   {
    "duration": 487,
    "start_time": "2022-05-08T06:04:29.171Z"
   },
   {
    "duration": 7502,
    "start_time": "2022-05-08T06:04:29.659Z"
   },
   {
    "duration": 3,
    "start_time": "2022-05-08T06:04:37.162Z"
   },
   {
    "duration": 179,
    "start_time": "2022-05-08T06:04:37.168Z"
   },
   {
    "duration": 14,
    "start_time": "2022-05-08T06:04:37.349Z"
   },
   {
    "duration": 4,
    "start_time": "2022-05-08T06:04:37.364Z"
   },
   {
    "duration": 57,
    "start_time": "2022-05-08T06:04:37.370Z"
   },
   {
    "duration": 2,
    "start_time": "2022-05-08T06:04:37.429Z"
   },
   {
    "duration": 57,
    "start_time": "2022-05-08T06:04:37.433Z"
   },
   {
    "duration": 3,
    "start_time": "2022-05-08T06:04:37.492Z"
   },
   {
    "duration": 57,
    "start_time": "2022-05-08T06:04:37.496Z"
   },
   {
    "duration": 3,
    "start_time": "2022-05-08T06:04:37.555Z"
   },
   {
    "duration": 58,
    "start_time": "2022-05-08T06:04:37.560Z"
   },
   {
    "duration": 8,
    "start_time": "2022-05-08T06:04:42.018Z"
   },
   {
    "duration": 56,
    "start_time": "2022-05-08T06:04:48.306Z"
   },
   {
    "duration": 57,
    "start_time": "2022-05-08T06:04:54.419Z"
   },
   {
    "duration": 55,
    "start_time": "2022-05-08T06:04:58.162Z"
   },
   {
    "duration": 2,
    "start_time": "2022-05-08T06:05:03.586Z"
   },
   {
    "duration": 57,
    "start_time": "2022-05-08T06:05:04.114Z"
   },
   {
    "duration": 12,
    "start_time": "2022-05-08T06:14:51.517Z"
   },
   {
    "duration": 8,
    "start_time": "2022-05-08T06:14:56.195Z"
   },
   {
    "duration": 68,
    "start_time": "2022-05-08T06:17:01.831Z"
   },
   {
    "duration": 3,
    "start_time": "2022-05-08T06:17:10.903Z"
   },
   {
    "duration": 158,
    "start_time": "2022-05-08T06:17:11.487Z"
   },
   {
    "duration": 2,
    "start_time": "2022-05-08T06:20:51.294Z"
   },
   {
    "duration": 151,
    "start_time": "2022-05-08T06:20:51.830Z"
   },
   {
    "duration": 2,
    "start_time": "2022-05-08T06:21:43.614Z"
   },
   {
    "duration": 127,
    "start_time": "2022-05-08T06:21:44.256Z"
   },
   {
    "duration": 3,
    "start_time": "2022-05-08T06:25:40.142Z"
   },
   {
    "duration": 129,
    "start_time": "2022-05-08T06:25:40.862Z"
   },
   {
    "duration": 2,
    "start_time": "2022-05-08T06:26:13.734Z"
   },
   {
    "duration": 67,
    "start_time": "2022-05-08T06:26:14.176Z"
   },
   {
    "duration": 8,
    "start_time": "2022-05-08T06:26:23.382Z"
   },
   {
    "duration": 9,
    "start_time": "2022-05-08T06:26:31.976Z"
   },
   {
    "duration": 3,
    "start_time": "2022-05-08T06:26:54.646Z"
   },
   {
    "duration": 64,
    "start_time": "2022-05-08T06:26:55.142Z"
   },
   {
    "duration": 10,
    "start_time": "2022-05-08T06:26:56.560Z"
   },
   {
    "duration": 68,
    "start_time": "2022-05-08T06:27:40.680Z"
   },
   {
    "duration": 3,
    "start_time": "2022-05-08T06:29:07.962Z"
   },
   {
    "duration": 125,
    "start_time": "2022-05-08T06:29:08.477Z"
   },
   {
    "duration": 2,
    "start_time": "2022-05-08T06:29:56.813Z"
   },
   {
    "duration": 133,
    "start_time": "2022-05-08T06:29:57.501Z"
   },
   {
    "duration": 2,
    "start_time": "2022-05-08T06:31:39.183Z"
   },
   {
    "duration": 66,
    "start_time": "2022-05-08T06:31:39.649Z"
   },
   {
    "duration": 2,
    "start_time": "2022-05-08T06:32:01.137Z"
   },
   {
    "duration": 76,
    "start_time": "2022-05-08T06:32:01.543Z"
   },
   {
    "duration": 54,
    "start_time": "2022-05-08T06:32:11.235Z"
   },
   {
    "duration": 2,
    "start_time": "2022-05-08T06:32:54.065Z"
   },
   {
    "duration": 54,
    "start_time": "2022-05-08T06:32:54.745Z"
   },
   {
    "duration": 2,
    "start_time": "2022-05-08T06:43:20.387Z"
   },
   {
    "duration": 84,
    "start_time": "2022-05-08T06:43:20.931Z"
   },
   {
    "duration": 3,
    "start_time": "2022-05-08T06:43:34.138Z"
   },
   {
    "duration": 65,
    "start_time": "2022-05-08T06:43:35.212Z"
   },
   {
    "duration": 64,
    "start_time": "2022-05-08T06:43:42.324Z"
   },
   {
    "duration": 2,
    "start_time": "2022-05-08T06:50:13.744Z"
   },
   {
    "duration": 61,
    "start_time": "2022-05-08T06:50:14.215Z"
   },
   {
    "duration": 57,
    "start_time": "2022-05-08T06:51:02.903Z"
   },
   {
    "duration": 3,
    "start_time": "2022-05-08T06:51:13.663Z"
   },
   {
    "duration": 77,
    "start_time": "2022-05-08T06:51:14.303Z"
   },
   {
    "duration": 81,
    "start_time": "2022-05-08T06:51:20.922Z"
   },
   {
    "duration": 2,
    "start_time": "2022-05-08T06:52:21.706Z"
   },
   {
    "duration": 87,
    "start_time": "2022-05-08T06:52:22.315Z"
   },
   {
    "duration": 3,
    "start_time": "2022-05-08T06:53:33.766Z"
   },
   {
    "duration": 86,
    "start_time": "2022-05-08T06:53:34.261Z"
   },
   {
    "duration": 3,
    "start_time": "2022-05-08T06:53:52.109Z"
   },
   {
    "duration": 87,
    "start_time": "2022-05-08T06:53:52.573Z"
   },
   {
    "duration": 2,
    "start_time": "2022-05-08T06:54:53.312Z"
   },
   {
    "duration": 84,
    "start_time": "2022-05-08T06:54:53.918Z"
   },
   {
    "duration": 84,
    "start_time": "2022-05-08T06:55:06.423Z"
   },
   {
    "duration": 3,
    "start_time": "2022-05-08T06:55:44.175Z"
   },
   {
    "duration": 84,
    "start_time": "2022-05-08T06:55:44.655Z"
   },
   {
    "duration": 2,
    "start_time": "2022-05-08T06:56:08.744Z"
   },
   {
    "duration": 85,
    "start_time": "2022-05-08T06:56:09.265Z"
   },
   {
    "duration": 3,
    "start_time": "2022-05-08T06:56:17.953Z"
   },
   {
    "duration": 83,
    "start_time": "2022-05-08T06:56:18.720Z"
   },
   {
    "duration": 2,
    "start_time": "2022-05-08T06:56:24.074Z"
   },
   {
    "duration": 2,
    "start_time": "2022-05-08T06:56:31.074Z"
   },
   {
    "duration": 3,
    "start_time": "2022-05-08T06:56:39.665Z"
   },
   {
    "duration": 85,
    "start_time": "2022-05-08T06:56:40.081Z"
   },
   {
    "duration": 2,
    "start_time": "2022-05-08T06:56:50.754Z"
   },
   {
    "duration": 85,
    "start_time": "2022-05-08T06:56:51.321Z"
   },
   {
    "duration": 2,
    "start_time": "2022-05-08T06:57:05.138Z"
   },
   {
    "duration": 83,
    "start_time": "2022-05-08T06:57:05.561Z"
   },
   {
    "duration": 2,
    "start_time": "2022-05-08T06:57:12.706Z"
   },
   {
    "duration": 84,
    "start_time": "2022-05-08T06:57:13.492Z"
   },
   {
    "duration": 2,
    "start_time": "2022-05-08T06:57:15.554Z"
   },
   {
    "duration": 83,
    "start_time": "2022-05-08T06:57:16.697Z"
   },
   {
    "duration": 3,
    "start_time": "2022-05-08T06:58:46.853Z"
   },
   {
    "duration": 83,
    "start_time": "2022-05-08T06:58:47.310Z"
   },
   {
    "duration": 7,
    "start_time": "2022-05-08T06:59:50.534Z"
   },
   {
    "duration": 3,
    "start_time": "2022-05-08T07:00:32.088Z"
   },
   {
    "duration": 130,
    "start_time": "2022-05-08T07:00:33.439Z"
   },
   {
    "duration": 3,
    "start_time": "2022-05-08T07:02:07.098Z"
   },
   {
    "duration": 85,
    "start_time": "2022-05-08T07:02:07.978Z"
   },
   {
    "duration": 8,
    "start_time": "2022-05-08T07:02:09.514Z"
   },
   {
    "duration": 61,
    "start_time": "2022-05-08T07:03:34.260Z"
   },
   {
    "duration": 63,
    "start_time": "2022-05-08T07:17:02.483Z"
   },
   {
    "duration": 67,
    "start_time": "2022-05-08T07:17:45.717Z"
   },
   {
    "duration": 671,
    "start_time": "2022-05-08T07:18:57.117Z"
   },
   {
    "duration": 3,
    "start_time": "2022-05-08T07:29:12.734Z"
   },
   {
    "duration": 56,
    "start_time": "2022-05-08T07:29:13.158Z"
   },
   {
    "duration": 573,
    "start_time": "2022-05-08T07:29:23.614Z"
   },
   {
    "duration": 7644,
    "start_time": "2022-05-08T07:29:24.190Z"
   },
   {
    "duration": 3,
    "start_time": "2022-05-08T07:29:31.838Z"
   },
   {
    "duration": 178,
    "start_time": "2022-05-08T07:29:31.842Z"
   },
   {
    "duration": 15,
    "start_time": "2022-05-08T07:29:32.021Z"
   },
   {
    "duration": 3,
    "start_time": "2022-05-08T07:29:32.037Z"
   },
   {
    "duration": 61,
    "start_time": "2022-05-08T07:29:32.041Z"
   },
   {
    "duration": 2,
    "start_time": "2022-05-08T07:29:32.104Z"
   },
   {
    "duration": 62,
    "start_time": "2022-05-08T07:29:32.108Z"
   },
   {
    "duration": 3,
    "start_time": "2022-05-08T07:29:32.171Z"
   },
   {
    "duration": 64,
    "start_time": "2022-05-08T07:29:32.175Z"
   },
   {
    "duration": 3,
    "start_time": "2022-05-08T07:29:32.240Z"
   },
   {
    "duration": 59,
    "start_time": "2022-05-08T07:29:32.244Z"
   },
   {
    "duration": 2,
    "start_time": "2022-05-08T07:29:32.305Z"
   },
   {
    "duration": 59,
    "start_time": "2022-05-08T07:29:32.308Z"
   },
   {
    "duration": 3,
    "start_time": "2022-05-08T07:29:32.368Z"
   },
   {
    "duration": 92,
    "start_time": "2022-05-08T07:29:32.372Z"
   },
   {
    "duration": 115,
    "start_time": "2022-05-08T07:29:32.465Z"
   },
   {
    "duration": 2,
    "start_time": "2022-05-08T07:29:32.582Z"
   },
   {
    "duration": 59,
    "start_time": "2022-05-08T07:29:32.586Z"
   },
   {
    "duration": 2,
    "start_time": "2022-05-08T07:29:32.647Z"
   },
   {
    "duration": 62,
    "start_time": "2022-05-08T07:29:32.651Z"
   },
   {
    "duration": 3,
    "start_time": "2022-05-08T07:29:32.715Z"
   },
   {
    "duration": 59,
    "start_time": "2022-05-08T07:29:32.720Z"
   },
   {
    "duration": 3,
    "start_time": "2022-05-08T07:49:06.934Z"
   },
   {
    "duration": 56,
    "start_time": "2022-05-08T07:49:07.454Z"
   },
   {
    "duration": 2,
    "start_time": "2022-05-08T07:53:46.535Z"
   },
   {
    "duration": 225,
    "start_time": "2022-05-08T07:53:47.031Z"
   },
   {
    "duration": 3,
    "start_time": "2022-05-08T07:54:20.647Z"
   },
   {
    "duration": 157,
    "start_time": "2022-05-08T07:54:21.759Z"
   },
   {
    "duration": 3,
    "start_time": "2022-05-08T07:55:49.435Z"
   },
   {
    "duration": 60,
    "start_time": "2022-05-08T07:55:49.996Z"
   },
   {
    "duration": 85,
    "start_time": "2022-05-08T07:57:24.821Z"
   },
   {
    "duration": 3,
    "start_time": "2022-05-08T07:57:37.333Z"
   },
   {
    "duration": 63,
    "start_time": "2022-05-08T07:57:38.173Z"
   },
   {
    "duration": 4,
    "start_time": "2022-05-08T07:58:11.047Z"
   },
   {
    "duration": 134,
    "start_time": "2022-05-08T07:58:11.653Z"
   },
   {
    "duration": 4,
    "start_time": "2022-05-08T07:58:17.687Z"
   },
   {
    "duration": 59,
    "start_time": "2022-05-08T07:58:18.119Z"
   },
   {
    "duration": 2,
    "start_time": "2022-05-08T07:58:29.880Z"
   },
   {
    "duration": 58,
    "start_time": "2022-05-08T07:58:30.389Z"
   },
   {
    "duration": 4,
    "start_time": "2022-05-08T07:58:52.063Z"
   },
   {
    "duration": 60,
    "start_time": "2022-05-08T07:58:52.600Z"
   },
   {
    "duration": 3,
    "start_time": "2022-05-08T07:59:07.255Z"
   },
   {
    "duration": 60,
    "start_time": "2022-05-08T07:59:07.655Z"
   },
   {
    "duration": 3,
    "start_time": "2022-05-08T07:59:29.992Z"
   },
   {
    "duration": 57,
    "start_time": "2022-05-08T07:59:30.512Z"
   },
   {
    "duration": 3,
    "start_time": "2022-05-08T07:59:47.009Z"
   },
   {
    "duration": 63,
    "start_time": "2022-05-08T07:59:47.361Z"
   },
   {
    "duration": 4,
    "start_time": "2022-05-08T08:00:37.760Z"
   },
   {
    "duration": 57,
    "start_time": "2022-05-08T08:00:38.216Z"
   },
   {
    "duration": 2,
    "start_time": "2022-05-08T08:02:08.701Z"
   },
   {
    "duration": 131,
    "start_time": "2022-05-08T08:02:09.277Z"
   },
   {
    "duration": 3,
    "start_time": "2022-05-08T08:02:22.476Z"
   },
   {
    "duration": 84,
    "start_time": "2022-05-08T08:02:22.884Z"
   },
   {
    "duration": 4,
    "start_time": "2022-05-08T08:03:13.019Z"
   },
   {
    "duration": 60,
    "start_time": "2022-05-08T08:03:13.500Z"
   },
   {
    "duration": 6,
    "start_time": "2022-05-08T08:04:06.413Z"
   },
   {
    "duration": 59,
    "start_time": "2022-05-08T08:04:06.854Z"
   },
   {
    "duration": 3,
    "start_time": "2022-05-08T08:05:13.129Z"
   },
   {
    "duration": 59,
    "start_time": "2022-05-08T08:05:13.591Z"
   },
   {
    "duration": 8,
    "start_time": "2022-05-08T08:16:47.200Z"
   },
   {
    "duration": 7,
    "start_time": "2022-05-08T08:16:55.896Z"
   },
   {
    "duration": 10,
    "start_time": "2022-05-08T08:17:21.546Z"
   },
   {
    "duration": 573,
    "start_time": "2022-05-08T08:17:58.394Z"
   },
   {
    "duration": 9638,
    "start_time": "2022-05-08T08:17:58.969Z"
   },
   {
    "duration": 3,
    "start_time": "2022-05-08T08:18:08.609Z"
   },
   {
    "duration": 196,
    "start_time": "2022-05-08T08:18:08.615Z"
   },
   {
    "duration": 19,
    "start_time": "2022-05-08T08:18:08.813Z"
   },
   {
    "duration": 2,
    "start_time": "2022-05-08T08:18:08.834Z"
   },
   {
    "duration": 69,
    "start_time": "2022-05-08T08:18:08.838Z"
   },
   {
    "duration": 4,
    "start_time": "2022-05-08T08:18:08.910Z"
   },
   {
    "duration": 66,
    "start_time": "2022-05-08T08:18:08.916Z"
   },
   {
    "duration": 2,
    "start_time": "2022-05-08T08:18:08.985Z"
   },
   {
    "duration": 69,
    "start_time": "2022-05-08T08:18:08.988Z"
   },
   {
    "duration": 2,
    "start_time": "2022-05-08T08:18:09.059Z"
   },
   {
    "duration": 67,
    "start_time": "2022-05-08T08:18:09.063Z"
   },
   {
    "duration": 3,
    "start_time": "2022-05-08T08:18:09.132Z"
   },
   {
    "duration": 66,
    "start_time": "2022-05-08T08:18:09.136Z"
   },
   {
    "duration": 2,
    "start_time": "2022-05-08T08:18:09.204Z"
   },
   {
    "duration": 106,
    "start_time": "2022-05-08T08:18:09.209Z"
   },
   {
    "duration": 134,
    "start_time": "2022-05-08T08:18:09.317Z"
   },
   {
    "duration": 3,
    "start_time": "2022-05-08T08:18:09.453Z"
   },
   {
    "duration": 71,
    "start_time": "2022-05-08T08:18:09.457Z"
   },
   {
    "duration": 3,
    "start_time": "2022-05-08T08:18:09.531Z"
   },
   {
    "duration": 71,
    "start_time": "2022-05-08T08:18:09.536Z"
   },
   {
    "duration": 5,
    "start_time": "2022-05-08T08:18:09.612Z"
   },
   {
    "duration": 73,
    "start_time": "2022-05-08T08:18:09.619Z"
   },
   {
    "duration": 591,
    "start_time": "2022-05-08T14:22:38.145Z"
   },
   {
    "duration": 13312,
    "start_time": "2022-05-08T14:22:38.738Z"
   },
   {
    "duration": 3,
    "start_time": "2022-05-08T14:22:52.052Z"
   },
   {
    "duration": 588,
    "start_time": "2022-05-08T14:22:52.057Z"
   },
   {
    "duration": 18,
    "start_time": "2022-05-08T14:22:52.647Z"
   },
   {
    "duration": 3,
    "start_time": "2022-05-08T14:22:52.668Z"
   },
   {
    "duration": 79,
    "start_time": "2022-05-08T14:22:52.673Z"
   },
   {
    "duration": 3,
    "start_time": "2022-05-08T14:22:52.754Z"
   },
   {
    "duration": 67,
    "start_time": "2022-05-08T14:22:52.758Z"
   },
   {
    "duration": 2,
    "start_time": "2022-05-08T14:22:52.827Z"
   },
   {
    "duration": 78,
    "start_time": "2022-05-08T14:22:52.831Z"
   },
   {
    "duration": 3,
    "start_time": "2022-05-08T14:22:52.911Z"
   },
   {
    "duration": 75,
    "start_time": "2022-05-08T14:22:52.916Z"
   },
   {
    "duration": 4,
    "start_time": "2022-05-08T14:22:52.995Z"
   },
   {
    "duration": 80,
    "start_time": "2022-05-08T14:22:53.001Z"
   },
   {
    "duration": 3,
    "start_time": "2022-05-08T14:22:53.082Z"
   },
   {
    "duration": 111,
    "start_time": "2022-05-08T14:22:53.087Z"
   },
   {
    "duration": 136,
    "start_time": "2022-05-08T14:22:53.200Z"
   },
   {
    "duration": 3,
    "start_time": "2022-05-08T14:22:53.338Z"
   },
   {
    "duration": 106,
    "start_time": "2022-05-08T14:22:53.343Z"
   },
   {
    "duration": 17,
    "start_time": "2022-05-08T14:22:53.450Z"
   },
   {
    "duration": 109,
    "start_time": "2022-05-08T14:22:53.471Z"
   },
   {
    "duration": 3,
    "start_time": "2022-05-08T14:22:53.582Z"
   },
   {
    "duration": 73,
    "start_time": "2022-05-08T14:22:53.586Z"
   },
   {
    "duration": 67,
    "start_time": "2022-05-08T14:24:45.260Z"
   },
   {
    "duration": 3,
    "start_time": "2022-05-08T14:24:47.267Z"
   },
   {
    "duration": 100,
    "start_time": "2022-05-08T14:24:47.411Z"
   },
   {
    "duration": 97,
    "start_time": "2022-05-08T14:24:49.708Z"
   },
   {
    "duration": 515,
    "start_time": "2022-06-23T05:12:30.797Z"
   },
   {
    "duration": 6706,
    "start_time": "2022-06-23T05:12:31.314Z"
   },
   {
    "duration": 3,
    "start_time": "2022-06-23T05:12:38.022Z"
   },
   {
    "duration": 293,
    "start_time": "2022-06-23T05:12:38.026Z"
   },
   {
    "duration": 18,
    "start_time": "2022-06-23T05:12:38.321Z"
   },
   {
    "duration": 16,
    "start_time": "2022-06-23T05:12:38.341Z"
   },
   {
    "duration": 111,
    "start_time": "2022-06-23T05:12:38.359Z"
   },
   {
    "duration": 2,
    "start_time": "2022-06-23T05:12:38.472Z"
   },
   {
    "duration": 85,
    "start_time": "2022-06-23T05:12:38.475Z"
   },
   {
    "duration": 2,
    "start_time": "2022-06-23T05:12:38.562Z"
   },
   {
    "duration": 85,
    "start_time": "2022-06-23T05:12:38.565Z"
   },
   {
    "duration": 2,
    "start_time": "2022-06-23T05:12:38.653Z"
   },
   {
    "duration": 100,
    "start_time": "2022-06-23T05:12:38.657Z"
   },
   {
    "duration": 2,
    "start_time": "2022-06-23T05:12:38.760Z"
   },
   {
    "duration": 78,
    "start_time": "2022-06-23T05:12:38.764Z"
   },
   {
    "duration": 3,
    "start_time": "2022-06-23T05:12:38.844Z"
   },
   {
    "duration": 117,
    "start_time": "2022-06-23T05:12:38.849Z"
   },
   {
    "duration": 150,
    "start_time": "2022-06-23T05:12:38.969Z"
   },
   {
    "duration": 2,
    "start_time": "2022-06-23T05:12:39.121Z"
   },
   {
    "duration": 93,
    "start_time": "2022-06-23T05:12:39.125Z"
   },
   {
    "duration": 3,
    "start_time": "2022-06-23T05:12:39.220Z"
   },
   {
    "duration": 94,
    "start_time": "2022-06-23T05:12:39.225Z"
   },
   {
    "duration": 3,
    "start_time": "2022-06-23T05:12:39.321Z"
   },
   {
    "duration": 95,
    "start_time": "2022-06-23T05:12:39.326Z"
   }
  ],
  "kernelspec": {
   "display_name": "Python 3",
   "language": "python",
   "name": "python3"
  },
  "language_info": {
   "codemirror_mode": {
    "name": "ipython",
    "version": 3
   },
   "file_extension": ".py",
   "mimetype": "text/x-python",
   "name": "python",
   "nbconvert_exporter": "python",
   "pygments_lexer": "ipython3",
   "version": "3.8.8"
  },
  "toc": {
   "base_numbering": 1,
   "nav_menu": {},
   "number_sections": true,
   "sideBar": true,
   "skip_h1_title": true,
   "title_cell": "Table of Contents",
   "title_sidebar": "Contents",
   "toc_cell": false,
   "toc_position": {
    "height": "calc(100% - 180px)",
    "left": "10px",
    "top": "150px",
    "width": "320px"
   },
   "toc_section_display": true,
   "toc_window_display": true
  }
 },
 "nbformat": 4,
 "nbformat_minor": 5
}
