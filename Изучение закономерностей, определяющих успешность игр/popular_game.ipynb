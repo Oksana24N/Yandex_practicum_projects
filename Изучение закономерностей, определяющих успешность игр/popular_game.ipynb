{
 "cells": [
  {
   "cell_type": "markdown",
   "metadata": {},
   "source": [
    "## Изучение данных из файла"
   ]
  },
  {
   "cell_type": "code",
   "execution_count": 1,
   "metadata": {},
   "outputs": [
    {
     "data": {
      "text/html": [
       "<div>\n",
       "<style scoped>\n",
       "    .dataframe tbody tr th:only-of-type {\n",
       "        vertical-align: middle;\n",
       "    }\n",
       "\n",
       "    .dataframe tbody tr th {\n",
       "        vertical-align: top;\n",
       "    }\n",
       "\n",
       "    .dataframe thead th {\n",
       "        text-align: right;\n",
       "    }\n",
       "</style>\n",
       "<table border=\"1\" class=\"dataframe\">\n",
       "  <thead>\n",
       "    <tr style=\"text-align: right;\">\n",
       "      <th></th>\n",
       "      <th>Name</th>\n",
       "      <th>Platform</th>\n",
       "      <th>Year_of_Release</th>\n",
       "      <th>Genre</th>\n",
       "      <th>NA_sales</th>\n",
       "      <th>EU_sales</th>\n",
       "      <th>JP_sales</th>\n",
       "      <th>Other_sales</th>\n",
       "      <th>Critic_Score</th>\n",
       "      <th>User_Score</th>\n",
       "      <th>Rating</th>\n",
       "    </tr>\n",
       "  </thead>\n",
       "  <tbody>\n",
       "    <tr>\n",
       "      <th>0</th>\n",
       "      <td>Wii Sports</td>\n",
       "      <td>Wii</td>\n",
       "      <td>2006.0</td>\n",
       "      <td>Sports</td>\n",
       "      <td>41.36</td>\n",
       "      <td>28.96</td>\n",
       "      <td>3.77</td>\n",
       "      <td>8.45</td>\n",
       "      <td>76.0</td>\n",
       "      <td>8</td>\n",
       "      <td>E</td>\n",
       "    </tr>\n",
       "    <tr>\n",
       "      <th>1</th>\n",
       "      <td>Super Mario Bros.</td>\n",
       "      <td>NES</td>\n",
       "      <td>1985.0</td>\n",
       "      <td>Platform</td>\n",
       "      <td>29.08</td>\n",
       "      <td>3.58</td>\n",
       "      <td>6.81</td>\n",
       "      <td>0.77</td>\n",
       "      <td>NaN</td>\n",
       "      <td>NaN</td>\n",
       "      <td>NaN</td>\n",
       "    </tr>\n",
       "    <tr>\n",
       "      <th>2</th>\n",
       "      <td>Mario Kart Wii</td>\n",
       "      <td>Wii</td>\n",
       "      <td>2008.0</td>\n",
       "      <td>Racing</td>\n",
       "      <td>15.68</td>\n",
       "      <td>12.76</td>\n",
       "      <td>3.79</td>\n",
       "      <td>3.29</td>\n",
       "      <td>82.0</td>\n",
       "      <td>8.3</td>\n",
       "      <td>E</td>\n",
       "    </tr>\n",
       "    <tr>\n",
       "      <th>3</th>\n",
       "      <td>Wii Sports Resort</td>\n",
       "      <td>Wii</td>\n",
       "      <td>2009.0</td>\n",
       "      <td>Sports</td>\n",
       "      <td>15.61</td>\n",
       "      <td>10.93</td>\n",
       "      <td>3.28</td>\n",
       "      <td>2.95</td>\n",
       "      <td>80.0</td>\n",
       "      <td>8</td>\n",
       "      <td>E</td>\n",
       "    </tr>\n",
       "    <tr>\n",
       "      <th>4</th>\n",
       "      <td>Pokemon Red/Pokemon Blue</td>\n",
       "      <td>GB</td>\n",
       "      <td>1996.0</td>\n",
       "      <td>Role-Playing</td>\n",
       "      <td>11.27</td>\n",
       "      <td>8.89</td>\n",
       "      <td>10.22</td>\n",
       "      <td>1.00</td>\n",
       "      <td>NaN</td>\n",
       "      <td>NaN</td>\n",
       "      <td>NaN</td>\n",
       "    </tr>\n",
       "    <tr>\n",
       "      <th>5</th>\n",
       "      <td>Tetris</td>\n",
       "      <td>GB</td>\n",
       "      <td>1989.0</td>\n",
       "      <td>Puzzle</td>\n",
       "      <td>23.20</td>\n",
       "      <td>2.26</td>\n",
       "      <td>4.22</td>\n",
       "      <td>0.58</td>\n",
       "      <td>NaN</td>\n",
       "      <td>NaN</td>\n",
       "      <td>NaN</td>\n",
       "    </tr>\n",
       "    <tr>\n",
       "      <th>6</th>\n",
       "      <td>New Super Mario Bros.</td>\n",
       "      <td>DS</td>\n",
       "      <td>2006.0</td>\n",
       "      <td>Platform</td>\n",
       "      <td>11.28</td>\n",
       "      <td>9.14</td>\n",
       "      <td>6.50</td>\n",
       "      <td>2.88</td>\n",
       "      <td>89.0</td>\n",
       "      <td>8.5</td>\n",
       "      <td>E</td>\n",
       "    </tr>\n",
       "    <tr>\n",
       "      <th>7</th>\n",
       "      <td>Wii Play</td>\n",
       "      <td>Wii</td>\n",
       "      <td>2006.0</td>\n",
       "      <td>Misc</td>\n",
       "      <td>13.96</td>\n",
       "      <td>9.18</td>\n",
       "      <td>2.93</td>\n",
       "      <td>2.84</td>\n",
       "      <td>58.0</td>\n",
       "      <td>6.6</td>\n",
       "      <td>E</td>\n",
       "    </tr>\n",
       "    <tr>\n",
       "      <th>8</th>\n",
       "      <td>New Super Mario Bros. Wii</td>\n",
       "      <td>Wii</td>\n",
       "      <td>2009.0</td>\n",
       "      <td>Platform</td>\n",
       "      <td>14.44</td>\n",
       "      <td>6.94</td>\n",
       "      <td>4.70</td>\n",
       "      <td>2.24</td>\n",
       "      <td>87.0</td>\n",
       "      <td>8.4</td>\n",
       "      <td>E</td>\n",
       "    </tr>\n",
       "    <tr>\n",
       "      <th>9</th>\n",
       "      <td>Duck Hunt</td>\n",
       "      <td>NES</td>\n",
       "      <td>1984.0</td>\n",
       "      <td>Shooter</td>\n",
       "      <td>26.93</td>\n",
       "      <td>0.63</td>\n",
       "      <td>0.28</td>\n",
       "      <td>0.47</td>\n",
       "      <td>NaN</td>\n",
       "      <td>NaN</td>\n",
       "      <td>NaN</td>\n",
       "    </tr>\n",
       "  </tbody>\n",
       "</table>\n",
       "</div>"
      ],
      "text/plain": [
       "                        Name Platform  Year_of_Release         Genre  \\\n",
       "0                 Wii Sports      Wii           2006.0        Sports   \n",
       "1          Super Mario Bros.      NES           1985.0      Platform   \n",
       "2             Mario Kart Wii      Wii           2008.0        Racing   \n",
       "3          Wii Sports Resort      Wii           2009.0        Sports   \n",
       "4   Pokemon Red/Pokemon Blue       GB           1996.0  Role-Playing   \n",
       "5                     Tetris       GB           1989.0        Puzzle   \n",
       "6      New Super Mario Bros.       DS           2006.0      Platform   \n",
       "7                   Wii Play      Wii           2006.0          Misc   \n",
       "8  New Super Mario Bros. Wii      Wii           2009.0      Platform   \n",
       "9                  Duck Hunt      NES           1984.0       Shooter   \n",
       "\n",
       "   NA_sales  EU_sales  JP_sales  Other_sales  Critic_Score User_Score Rating  \n",
       "0     41.36     28.96      3.77         8.45          76.0          8      E  \n",
       "1     29.08      3.58      6.81         0.77           NaN        NaN    NaN  \n",
       "2     15.68     12.76      3.79         3.29          82.0        8.3      E  \n",
       "3     15.61     10.93      3.28         2.95          80.0          8      E  \n",
       "4     11.27      8.89     10.22         1.00           NaN        NaN    NaN  \n",
       "5     23.20      2.26      4.22         0.58           NaN        NaN    NaN  \n",
       "6     11.28      9.14      6.50         2.88          89.0        8.5      E  \n",
       "7     13.96      9.18      2.93         2.84          58.0        6.6      E  \n",
       "8     14.44      6.94      4.70         2.24          87.0        8.4      E  \n",
       "9     26.93      0.63      0.28         0.47           NaN        NaN    NaN  "
      ]
     },
     "execution_count": 1,
     "metadata": {},
     "output_type": "execute_result"
    }
   ],
   "source": [
    "import warnings\n",
    "warnings.filterwarnings('ignore')\n",
    "import pandas as pd\n",
    "import matplotlib.pyplot as plt\n",
    "import seaborn as sns\n",
    "from scipy import stats as st\n",
    "\n",
    "df = pd.read_csv('games.csv')\n",
    "df.head(10)"
   ]
  },
  {
   "cell_type": "markdown",
   "metadata": {},
   "source": [
    "**Описание данных**\n",
    "- **Name** — название игры\n",
    "- **Platform** — платформа\n",
    "- **Year_of_Release** — год выпуска\n",
    "- **Genre** — жанр игры\n",
    "- **NA_sales** — продажи в Северной Америке (миллионы проданных копий)\n",
    "- **EU_sales** — продажи в Европе (миллионы проданных копий)\n",
    "- **JP_sales** — продажи в Японии (миллионы проданных копий)\n",
    "- **Other_sales** — продажи в других странах (миллионы проданных копий)\n",
    "- **Critic_Score** — оценка критиков (максимум 100)\n",
    "- **User_Score** — оценка пользователей (максимум 10)\n",
    "- **Rating** — рейтинг от организации ESRB (англ. Entertainment Software Rating Board). Эта ассоциация определяет рейтинг компьютерных игр и присваивает им подходящую возрастную категорию.\n",
    "  - 'T'(«Teen») — «Подросткам»\n",
    "  - 'E'(«Everyone») — «Для всех»\n",
    "  - 'M'(«Mature») — «Для взрослых»\n",
    "  - 'E10+'(«Everyone 10 and older») — «Для всех от 10 лет и старше»\n",
    "  - 'K-A'(«Kids to Adults») — «Для всех», после 1998 был переименован в 'E'\n",
    "  - 'AO'(«Adults Only 18+») — «Только для взрослых»\n",
    "  - 'EC'(«Early childhood») — «Для детей младшего возраста»\n",
    "  - 'RP'(«Rating Pending») — «Рейтинг ожидается»\n",
    "\n",
    "Данные за 2016 год могут быть неполными."
   ]
  },
  {
   "cell_type": "code",
   "execution_count": 2,
   "metadata": {},
   "outputs": [
    {
     "name": "stdout",
     "output_type": "stream",
     "text": [
      "<class 'pandas.core.frame.DataFrame'>\n",
      "RangeIndex: 16715 entries, 0 to 16714\n",
      "Data columns (total 11 columns):\n",
      " #   Column           Non-Null Count  Dtype  \n",
      "---  ------           --------------  -----  \n",
      " 0   Name             16713 non-null  object \n",
      " 1   Platform         16715 non-null  object \n",
      " 2   Year_of_Release  16446 non-null  float64\n",
      " 3   Genre            16713 non-null  object \n",
      " 4   NA_sales         16715 non-null  float64\n",
      " 5   EU_sales         16715 non-null  float64\n",
      " 6   JP_sales         16715 non-null  float64\n",
      " 7   Other_sales      16715 non-null  float64\n",
      " 8   Critic_Score     8137 non-null   float64\n",
      " 9   User_Score       10014 non-null  object \n",
      " 10  Rating           9949 non-null   object \n",
      "dtypes: float64(6), object(5)\n",
      "memory usage: 1.4+ MB\n"
     ]
    }
   ],
   "source": [
    "df.info()"
   ]
  },
  {
   "cell_type": "code",
   "execution_count": 3,
   "metadata": {},
   "outputs": [
    {
     "name": "stdout",
     "output_type": "stream",
     "text": [
      "Пропуски в данных (%)\n"
     ]
    },
    {
     "data": {
      "text/plain": [
       "Name                0.0\n",
       "Platform            0.0\n",
       "Year_of_Release     1.6\n",
       "Genre               0.0\n",
       "NA_sales            0.0\n",
       "EU_sales            0.0\n",
       "JP_sales            0.0\n",
       "Other_sales         0.0\n",
       "Critic_Score       51.3\n",
       "User_Score         40.1\n",
       "Rating             40.5\n",
       "dtype: float64"
      ]
     },
     "execution_count": 3,
     "metadata": {},
     "output_type": "execute_result"
    }
   ],
   "source": [
    "print('Пропуски в данных (%)')\n",
    "round(df.isna().sum() / len(df) * 100, 1) #подсчет пропущенных значений"
   ]
  },
  {
   "cell_type": "markdown",
   "metadata": {},
   "source": [
    "### Вывод \n",
    "Таблица содержит данные по каждой игре: платформа, для которой была выпущена игра, год выпуска и жанр, а также данные по продажам и оценкам пользователей и критиков. Можно обратить внимание на названия столбцов, которые для удобства нужно привести к нижнему регистру. В данных с оценками и рейтингом большая доля пропусков, а столбец `User_Score` содержит строковые значения."
   ]
  },
  {
   "cell_type": "markdown",
   "metadata": {},
   "source": [
    "## Предобработка данных"
   ]
  },
  {
   "cell_type": "code",
   "execution_count": 4,
   "metadata": {},
   "outputs": [
    {
     "data": {
      "text/plain": [
       "Index(['name', 'platform', 'year_of_release', 'genre', 'na_sales', 'eu_sales',\n",
       "       'jp_sales', 'other_sales', 'critic_score', 'user_score', 'rating'],\n",
       "      dtype='object')"
      ]
     },
     "execution_count": 4,
     "metadata": {},
     "output_type": "execute_result"
    }
   ],
   "source": [
    "df.columns = df.columns.str.lower() #замена регистра в наименовании столбцов\n",
    "df.columns"
   ]
  },
  {
   "cell_type": "markdown",
   "metadata": {},
   "source": [
    "Удалим строки, где пропуски составляют менее 2%"
   ]
  },
  {
   "cell_type": "code",
   "execution_count": 5,
   "metadata": {},
   "outputs": [],
   "source": [
    "df.dropna(subset=['name'], inplace=True)\n",
    "df.dropna(subset=['year_of_release'], inplace=True)\n",
    "df.dropna(subset=['genre'], inplace=True)"
   ]
  },
  {
   "cell_type": "markdown",
   "metadata": {},
   "source": [
    "Заменим тип даныхх в столбце `year_of_release` на целочисленный"
   ]
  },
  {
   "cell_type": "code",
   "execution_count": 6,
   "metadata": {},
   "outputs": [],
   "source": [
    "df['year_of_release'] = df['year_of_release'].astype('int')"
   ]
  },
  {
   "cell_type": "markdown",
   "metadata": {},
   "source": [
    "Проверим содержание столбца `user_score`, для этого выведем уникальные значения столбца с подсчетом их упоминаний"
   ]
  },
  {
   "cell_type": "code",
   "execution_count": 7,
   "metadata": {},
   "outputs": [
    {
     "data": {
      "text/plain": [
       "tbd    2376\n",
       "7.8     322\n",
       "8       285\n",
       "8.2     276\n",
       "8.3     252\n",
       "       ... \n",
       "1.3       2\n",
       "1.9       2\n",
       "0.7       2\n",
       "9.7       1\n",
       "0         1\n",
       "Name: user_score, Length: 96, dtype: int64"
      ]
     },
     "execution_count": 7,
     "metadata": {},
     "output_type": "execute_result"
    }
   ],
   "source": [
    "df['user_score'].value_counts()"
   ]
  },
  {
   "cell_type": "markdown",
   "metadata": {},
   "source": [
    "В столбце есть строки со значением \"tbd\" (\"to be determined\"). Предположим, что нет полных данных по оценкам пользователей за текущий 2016 год"
   ]
  },
  {
   "cell_type": "code",
   "execution_count": 8,
   "metadata": {},
   "outputs": [
    {
     "data": {
      "text/html": [
       "<div>\n",
       "<style scoped>\n",
       "    .dataframe tbody tr th:only-of-type {\n",
       "        vertical-align: middle;\n",
       "    }\n",
       "\n",
       "    .dataframe tbody tr th {\n",
       "        vertical-align: top;\n",
       "    }\n",
       "\n",
       "    .dataframe thead th {\n",
       "        text-align: right;\n",
       "    }\n",
       "</style>\n",
       "<table border=\"1\" class=\"dataframe\">\n",
       "  <thead>\n",
       "    <tr style=\"text-align: right;\">\n",
       "      <th></th>\n",
       "      <th>name</th>\n",
       "      <th>platform</th>\n",
       "      <th>year_of_release</th>\n",
       "      <th>genre</th>\n",
       "      <th>na_sales</th>\n",
       "      <th>eu_sales</th>\n",
       "      <th>jp_sales</th>\n",
       "      <th>other_sales</th>\n",
       "      <th>critic_score</th>\n",
       "      <th>user_score</th>\n",
       "      <th>rating</th>\n",
       "    </tr>\n",
       "  </thead>\n",
       "  <tbody>\n",
       "    <tr>\n",
       "      <th>119</th>\n",
       "      <td>Zumba Fitness</td>\n",
       "      <td>Wii</td>\n",
       "      <td>2010</td>\n",
       "      <td>Sports</td>\n",
       "      <td>3.45</td>\n",
       "      <td>2.59</td>\n",
       "      <td>0.0</td>\n",
       "      <td>0.66</td>\n",
       "      <td>NaN</td>\n",
       "      <td>tbd</td>\n",
       "      <td>E</td>\n",
       "    </tr>\n",
       "    <tr>\n",
       "      <th>301</th>\n",
       "      <td>Namco Museum: 50th Anniversary</td>\n",
       "      <td>PS2</td>\n",
       "      <td>2005</td>\n",
       "      <td>Misc</td>\n",
       "      <td>2.08</td>\n",
       "      <td>1.35</td>\n",
       "      <td>0.0</td>\n",
       "      <td>0.54</td>\n",
       "      <td>61.0</td>\n",
       "      <td>tbd</td>\n",
       "      <td>E10+</td>\n",
       "    </tr>\n",
       "    <tr>\n",
       "      <th>520</th>\n",
       "      <td>Zumba Fitness 2</td>\n",
       "      <td>Wii</td>\n",
       "      <td>2011</td>\n",
       "      <td>Sports</td>\n",
       "      <td>1.51</td>\n",
       "      <td>1.03</td>\n",
       "      <td>0.0</td>\n",
       "      <td>0.27</td>\n",
       "      <td>NaN</td>\n",
       "      <td>tbd</td>\n",
       "      <td>T</td>\n",
       "    </tr>\n",
       "    <tr>\n",
       "      <th>645</th>\n",
       "      <td>uDraw Studio</td>\n",
       "      <td>Wii</td>\n",
       "      <td>2010</td>\n",
       "      <td>Misc</td>\n",
       "      <td>1.65</td>\n",
       "      <td>0.57</td>\n",
       "      <td>0.0</td>\n",
       "      <td>0.20</td>\n",
       "      <td>71.0</td>\n",
       "      <td>tbd</td>\n",
       "      <td>E</td>\n",
       "    </tr>\n",
       "    <tr>\n",
       "      <th>718</th>\n",
       "      <td>Just Dance Kids</td>\n",
       "      <td>Wii</td>\n",
       "      <td>2010</td>\n",
       "      <td>Misc</td>\n",
       "      <td>1.52</td>\n",
       "      <td>0.54</td>\n",
       "      <td>0.0</td>\n",
       "      <td>0.18</td>\n",
       "      <td>NaN</td>\n",
       "      <td>tbd</td>\n",
       "      <td>E</td>\n",
       "    </tr>\n",
       "  </tbody>\n",
       "</table>\n",
       "</div>"
      ],
      "text/plain": [
       "                               name platform  year_of_release   genre  \\\n",
       "119                   Zumba Fitness      Wii             2010  Sports   \n",
       "301  Namco Museum: 50th Anniversary      PS2             2005    Misc   \n",
       "520                 Zumba Fitness 2      Wii             2011  Sports   \n",
       "645                    uDraw Studio      Wii             2010    Misc   \n",
       "718                 Just Dance Kids      Wii             2010    Misc   \n",
       "\n",
       "     na_sales  eu_sales  jp_sales  other_sales  critic_score user_score rating  \n",
       "119      3.45      2.59       0.0         0.66           NaN        tbd      E  \n",
       "301      2.08      1.35       0.0         0.54          61.0        tbd   E10+  \n",
       "520      1.51      1.03       0.0         0.27           NaN        tbd      T  \n",
       "645      1.65      0.57       0.0         0.20          71.0        tbd      E  \n",
       "718      1.52      0.54       0.0         0.18           NaN        tbd      E  "
      ]
     },
     "execution_count": 8,
     "metadata": {},
     "output_type": "execute_result"
    }
   ],
   "source": [
    "df.loc[df['user_score'] == 'tbd'].head()"
   ]
  },
  {
   "cell_type": "markdown",
   "metadata": {},
   "source": [
    "Вероятно не все данные были заполнены корректно. Чтобы сделать данные столбца доступными для расчетов, заменим значение \"tbd\" на тип 'Nan'"
   ]
  },
  {
   "cell_type": "code",
   "execution_count": 9,
   "metadata": {},
   "outputs": [],
   "source": [
    "df.loc[df['user_score'] == 'tbd', 'user_score'] = float('nan')"
   ]
  },
  {
   "cell_type": "markdown",
   "metadata": {},
   "source": [
    "Для корректной оценки влияния рейтинга ESRB на продажи заменим пропуски в столбце `rating` значением 'Unknown'"
   ]
  },
  {
   "cell_type": "code",
   "execution_count": 10,
   "metadata": {},
   "outputs": [],
   "source": [
    "df.loc[df['rating'].isna(), 'rating'] = 'Unknown'"
   ]
  },
  {
   "cell_type": "code",
   "execution_count": 11,
   "metadata": {},
   "outputs": [
    {
     "name": "stdout",
     "output_type": "stream",
     "text": [
      "Пропуски в данных (%)\n"
     ]
    },
    {
     "data": {
      "text/plain": [
       "name                0.0\n",
       "platform            0.0\n",
       "year_of_release     0.0\n",
       "genre               0.0\n",
       "na_sales            0.0\n",
       "eu_sales            0.0\n",
       "jp_sales            0.0\n",
       "other_sales         0.0\n",
       "critic_score       51.5\n",
       "user_score         54.6\n",
       "rating              0.0\n",
       "dtype: float64"
      ]
     },
     "execution_count": 11,
     "metadata": {},
     "output_type": "execute_result"
    }
   ],
   "source": [
    "print('Пропуски в данных (%)')\n",
    "round(df.isna().sum() / len(df) * 100, 1) #подсчет пропущенных значений"
   ]
  },
  {
   "cell_type": "code",
   "execution_count": 12,
   "metadata": {},
   "outputs": [
    {
     "name": "stdout",
     "output_type": "stream",
     "text": [
      "<class 'pandas.core.frame.DataFrame'>\n",
      "Int64Index: 16444 entries, 0 to 16714\n",
      "Data columns (total 11 columns):\n",
      " #   Column           Non-Null Count  Dtype  \n",
      "---  ------           --------------  -----  \n",
      " 0   name             16444 non-null  object \n",
      " 1   platform         16444 non-null  object \n",
      " 2   year_of_release  16444 non-null  int32  \n",
      " 3   genre            16444 non-null  object \n",
      " 4   na_sales         16444 non-null  float64\n",
      " 5   eu_sales         16444 non-null  float64\n",
      " 6   jp_sales         16444 non-null  float64\n",
      " 7   other_sales      16444 non-null  float64\n",
      " 8   critic_score     7983 non-null   float64\n",
      " 9   user_score       7463 non-null   object \n",
      " 10  rating           16444 non-null  object \n",
      "dtypes: float64(5), int32(1), object(5)\n",
      "memory usage: 1.4+ MB\n"
     ]
    }
   ],
   "source": [
    "df.info()"
   ]
  },
  {
   "cell_type": "markdown",
   "metadata": {},
   "source": [
    "Так как тип данных в столбце не изменился, заменим строковые значения в столбце на вещественные с помощью метода `to_numeric`"
   ]
  },
  {
   "cell_type": "code",
   "execution_count": 13,
   "metadata": {},
   "outputs": [],
   "source": [
    "df['user_score'] = pd.to_numeric(df['user_score'])"
   ]
  },
  {
   "cell_type": "markdown",
   "metadata": {},
   "source": [
    "Добавим в таблицу новый столбец с общей суммой продаж"
   ]
  },
  {
   "cell_type": "code",
   "execution_count": 14,
   "metadata": {},
   "outputs": [
    {
     "data": {
      "text/html": [
       "<div>\n",
       "<style scoped>\n",
       "    .dataframe tbody tr th:only-of-type {\n",
       "        vertical-align: middle;\n",
       "    }\n",
       "\n",
       "    .dataframe tbody tr th {\n",
       "        vertical-align: top;\n",
       "    }\n",
       "\n",
       "    .dataframe thead th {\n",
       "        text-align: right;\n",
       "    }\n",
       "</style>\n",
       "<table border=\"1\" class=\"dataframe\">\n",
       "  <thead>\n",
       "    <tr style=\"text-align: right;\">\n",
       "      <th></th>\n",
       "      <th>name</th>\n",
       "      <th>platform</th>\n",
       "      <th>year_of_release</th>\n",
       "      <th>genre</th>\n",
       "      <th>na_sales</th>\n",
       "      <th>eu_sales</th>\n",
       "      <th>jp_sales</th>\n",
       "      <th>other_sales</th>\n",
       "      <th>critic_score</th>\n",
       "      <th>user_score</th>\n",
       "      <th>rating</th>\n",
       "      <th>total_sales</th>\n",
       "    </tr>\n",
       "  </thead>\n",
       "  <tbody>\n",
       "    <tr>\n",
       "      <th>0</th>\n",
       "      <td>Wii Sports</td>\n",
       "      <td>Wii</td>\n",
       "      <td>2006</td>\n",
       "      <td>Sports</td>\n",
       "      <td>41.36</td>\n",
       "      <td>28.96</td>\n",
       "      <td>3.77</td>\n",
       "      <td>8.45</td>\n",
       "      <td>76.0</td>\n",
       "      <td>8.0</td>\n",
       "      <td>E</td>\n",
       "      <td>82.54</td>\n",
       "    </tr>\n",
       "    <tr>\n",
       "      <th>1</th>\n",
       "      <td>Super Mario Bros.</td>\n",
       "      <td>NES</td>\n",
       "      <td>1985</td>\n",
       "      <td>Platform</td>\n",
       "      <td>29.08</td>\n",
       "      <td>3.58</td>\n",
       "      <td>6.81</td>\n",
       "      <td>0.77</td>\n",
       "      <td>NaN</td>\n",
       "      <td>NaN</td>\n",
       "      <td>Unknown</td>\n",
       "      <td>40.24</td>\n",
       "    </tr>\n",
       "    <tr>\n",
       "      <th>2</th>\n",
       "      <td>Mario Kart Wii</td>\n",
       "      <td>Wii</td>\n",
       "      <td>2008</td>\n",
       "      <td>Racing</td>\n",
       "      <td>15.68</td>\n",
       "      <td>12.76</td>\n",
       "      <td>3.79</td>\n",
       "      <td>3.29</td>\n",
       "      <td>82.0</td>\n",
       "      <td>8.3</td>\n",
       "      <td>E</td>\n",
       "      <td>35.52</td>\n",
       "    </tr>\n",
       "    <tr>\n",
       "      <th>3</th>\n",
       "      <td>Wii Sports Resort</td>\n",
       "      <td>Wii</td>\n",
       "      <td>2009</td>\n",
       "      <td>Sports</td>\n",
       "      <td>15.61</td>\n",
       "      <td>10.93</td>\n",
       "      <td>3.28</td>\n",
       "      <td>2.95</td>\n",
       "      <td>80.0</td>\n",
       "      <td>8.0</td>\n",
       "      <td>E</td>\n",
       "      <td>32.77</td>\n",
       "    </tr>\n",
       "    <tr>\n",
       "      <th>4</th>\n",
       "      <td>Pokemon Red/Pokemon Blue</td>\n",
       "      <td>GB</td>\n",
       "      <td>1996</td>\n",
       "      <td>Role-Playing</td>\n",
       "      <td>11.27</td>\n",
       "      <td>8.89</td>\n",
       "      <td>10.22</td>\n",
       "      <td>1.00</td>\n",
       "      <td>NaN</td>\n",
       "      <td>NaN</td>\n",
       "      <td>Unknown</td>\n",
       "      <td>31.38</td>\n",
       "    </tr>\n",
       "  </tbody>\n",
       "</table>\n",
       "</div>"
      ],
      "text/plain": [
       "                       name platform  year_of_release         genre  na_sales  \\\n",
       "0                Wii Sports      Wii             2006        Sports     41.36   \n",
       "1         Super Mario Bros.      NES             1985      Platform     29.08   \n",
       "2            Mario Kart Wii      Wii             2008        Racing     15.68   \n",
       "3         Wii Sports Resort      Wii             2009        Sports     15.61   \n",
       "4  Pokemon Red/Pokemon Blue       GB             1996  Role-Playing     11.27   \n",
       "\n",
       "   eu_sales  jp_sales  other_sales  critic_score  user_score   rating  \\\n",
       "0     28.96      3.77         8.45          76.0         8.0        E   \n",
       "1      3.58      6.81         0.77           NaN         NaN  Unknown   \n",
       "2     12.76      3.79         3.29          82.0         8.3        E   \n",
       "3     10.93      3.28         2.95          80.0         8.0        E   \n",
       "4      8.89     10.22         1.00           NaN         NaN  Unknown   \n",
       "\n",
       "   total_sales  \n",
       "0        82.54  \n",
       "1        40.24  \n",
       "2        35.52  \n",
       "3        32.77  \n",
       "4        31.38  "
      ]
     },
     "execution_count": 14,
     "metadata": {},
     "output_type": "execute_result"
    }
   ],
   "source": [
    "df['total_sales'] = df[['na_sales','eu_sales','jp_sales','other_sales']].sum(axis=1)\n",
    "df.head()"
   ]
  },
  {
   "cell_type": "markdown",
   "metadata": {},
   "source": [
    "Посмотрим описание значений таблицы"
   ]
  },
  {
   "cell_type": "code",
   "execution_count": 15,
   "metadata": {},
   "outputs": [
    {
     "data": {
      "text/html": [
       "<div>\n",
       "<style scoped>\n",
       "    .dataframe tbody tr th:only-of-type {\n",
       "        vertical-align: middle;\n",
       "    }\n",
       "\n",
       "    .dataframe tbody tr th {\n",
       "        vertical-align: top;\n",
       "    }\n",
       "\n",
       "    .dataframe thead th {\n",
       "        text-align: right;\n",
       "    }\n",
       "</style>\n",
       "<table border=\"1\" class=\"dataframe\">\n",
       "  <thead>\n",
       "    <tr style=\"text-align: right;\">\n",
       "      <th></th>\n",
       "      <th>year_of_release</th>\n",
       "      <th>na_sales</th>\n",
       "      <th>eu_sales</th>\n",
       "      <th>jp_sales</th>\n",
       "      <th>other_sales</th>\n",
       "      <th>critic_score</th>\n",
       "      <th>user_score</th>\n",
       "      <th>total_sales</th>\n",
       "    </tr>\n",
       "  </thead>\n",
       "  <tbody>\n",
       "    <tr>\n",
       "      <th>count</th>\n",
       "      <td>16444.000000</td>\n",
       "      <td>16444.000000</td>\n",
       "      <td>16444.000000</td>\n",
       "      <td>16444.000000</td>\n",
       "      <td>16444.000000</td>\n",
       "      <td>7983.000000</td>\n",
       "      <td>7463.000000</td>\n",
       "      <td>16444.000000</td>\n",
       "    </tr>\n",
       "    <tr>\n",
       "      <th>mean</th>\n",
       "      <td>2006.486256</td>\n",
       "      <td>0.264012</td>\n",
       "      <td>0.145930</td>\n",
       "      <td>0.078487</td>\n",
       "      <td>0.047594</td>\n",
       "      <td>68.994363</td>\n",
       "      <td>7.126330</td>\n",
       "      <td>0.536023</td>\n",
       "    </tr>\n",
       "    <tr>\n",
       "      <th>std</th>\n",
       "      <td>5.875525</td>\n",
       "      <td>0.818378</td>\n",
       "      <td>0.506716</td>\n",
       "      <td>0.311100</td>\n",
       "      <td>0.188005</td>\n",
       "      <td>13.920060</td>\n",
       "      <td>1.499447</td>\n",
       "      <td>1.558786</td>\n",
       "    </tr>\n",
       "    <tr>\n",
       "      <th>min</th>\n",
       "      <td>1980.000000</td>\n",
       "      <td>0.000000</td>\n",
       "      <td>0.000000</td>\n",
       "      <td>0.000000</td>\n",
       "      <td>0.000000</td>\n",
       "      <td>13.000000</td>\n",
       "      <td>0.000000</td>\n",
       "      <td>0.000000</td>\n",
       "    </tr>\n",
       "    <tr>\n",
       "      <th>25%</th>\n",
       "      <td>2003.000000</td>\n",
       "      <td>0.000000</td>\n",
       "      <td>0.000000</td>\n",
       "      <td>0.000000</td>\n",
       "      <td>0.000000</td>\n",
       "      <td>60.000000</td>\n",
       "      <td>6.400000</td>\n",
       "      <td>0.060000</td>\n",
       "    </tr>\n",
       "    <tr>\n",
       "      <th>50%</th>\n",
       "      <td>2007.000000</td>\n",
       "      <td>0.080000</td>\n",
       "      <td>0.020000</td>\n",
       "      <td>0.000000</td>\n",
       "      <td>0.010000</td>\n",
       "      <td>71.000000</td>\n",
       "      <td>7.500000</td>\n",
       "      <td>0.170000</td>\n",
       "    </tr>\n",
       "    <tr>\n",
       "      <th>75%</th>\n",
       "      <td>2010.000000</td>\n",
       "      <td>0.240000</td>\n",
       "      <td>0.110000</td>\n",
       "      <td>0.040000</td>\n",
       "      <td>0.030000</td>\n",
       "      <td>79.000000</td>\n",
       "      <td>8.200000</td>\n",
       "      <td>0.470000</td>\n",
       "    </tr>\n",
       "    <tr>\n",
       "      <th>max</th>\n",
       "      <td>2016.000000</td>\n",
       "      <td>41.360000</td>\n",
       "      <td>28.960000</td>\n",
       "      <td>10.220000</td>\n",
       "      <td>10.570000</td>\n",
       "      <td>98.000000</td>\n",
       "      <td>9.700000</td>\n",
       "      <td>82.540000</td>\n",
       "    </tr>\n",
       "  </tbody>\n",
       "</table>\n",
       "</div>"
      ],
      "text/plain": [
       "       year_of_release      na_sales      eu_sales      jp_sales  \\\n",
       "count     16444.000000  16444.000000  16444.000000  16444.000000   \n",
       "mean       2006.486256      0.264012      0.145930      0.078487   \n",
       "std           5.875525      0.818378      0.506716      0.311100   \n",
       "min        1980.000000      0.000000      0.000000      0.000000   \n",
       "25%        2003.000000      0.000000      0.000000      0.000000   \n",
       "50%        2007.000000      0.080000      0.020000      0.000000   \n",
       "75%        2010.000000      0.240000      0.110000      0.040000   \n",
       "max        2016.000000     41.360000     28.960000     10.220000   \n",
       "\n",
       "        other_sales  critic_score   user_score   total_sales  \n",
       "count  16444.000000   7983.000000  7463.000000  16444.000000  \n",
       "mean       0.047594     68.994363     7.126330      0.536023  \n",
       "std        0.188005     13.920060     1.499447      1.558786  \n",
       "min        0.000000     13.000000     0.000000      0.000000  \n",
       "25%        0.000000     60.000000     6.400000      0.060000  \n",
       "50%        0.010000     71.000000     7.500000      0.170000  \n",
       "75%        0.030000     79.000000     8.200000      0.470000  \n",
       "max       10.570000     98.000000     9.700000     82.540000  "
      ]
     },
     "execution_count": 15,
     "metadata": {},
     "output_type": "execute_result"
    }
   ],
   "source": [
    "df.describe()"
   ]
  },
  {
   "cell_type": "markdown",
   "metadata": {},
   "source": [
    "В работе даные за 1980-2016 гг. В столбцах с продажами есть выбросы, значительно превышающие медианное значение продаж, а также нулевые значения, которые, вероятно, означают, что не все игры выпускались по всему миру."
   ]
  },
  {
   "cell_type": "markdown",
   "metadata": {},
   "source": [
    "### Вывод\n",
    "\n",
    "В результате предобработки данных наименования столбцов были приведены к нижнему регистру, строки с незначительным количеством пропусков были удалены. Тип данных в столбце с годом релиза был заменен на целочисленный, а в столбце с оценками пользователей на вещественный, значения \"tbd\" были замененены на 'Nan'. В таблицу добавлен новый столбец с общей суммой продаж"
   ]
  },
  {
   "cell_type": "markdown",
   "metadata": {},
   "source": [
    "## Исследовательский анализ данных"
   ]
  },
  {
   "cell_type": "markdown",
   "metadata": {},
   "source": [
    "### Анализ продаж в зависимости от года выпуска игры"
   ]
  },
  {
   "cell_type": "markdown",
   "metadata": {},
   "source": [
    "Сгруппируем общие продажи по названию игры и году выпуска "
   ]
  },
  {
   "cell_type": "code",
   "execution_count": 16,
   "metadata": {},
   "outputs": [
    {
     "data": {
      "text/html": [
       "<div>\n",
       "<style scoped>\n",
       "    .dataframe tbody tr th:only-of-type {\n",
       "        vertical-align: middle;\n",
       "    }\n",
       "\n",
       "    .dataframe tbody tr th {\n",
       "        vertical-align: top;\n",
       "    }\n",
       "\n",
       "    .dataframe thead th {\n",
       "        text-align: right;\n",
       "    }\n",
       "</style>\n",
       "<table border=\"1\" class=\"dataframe\">\n",
       "  <thead>\n",
       "    <tr style=\"text-align: right;\">\n",
       "      <th></th>\n",
       "      <th>year_of_release</th>\n",
       "      <th>name</th>\n",
       "      <th>total_sales</th>\n",
       "    </tr>\n",
       "  </thead>\n",
       "  <tbody>\n",
       "    <tr>\n",
       "      <th>0</th>\n",
       "      <td>1980</td>\n",
       "      <td>Asteroids</td>\n",
       "      <td>4.31</td>\n",
       "    </tr>\n",
       "    <tr>\n",
       "      <th>1</th>\n",
       "      <td>1980</td>\n",
       "      <td>Boxing</td>\n",
       "      <td>0.77</td>\n",
       "    </tr>\n",
       "    <tr>\n",
       "      <th>2</th>\n",
       "      <td>1980</td>\n",
       "      <td>Bridge</td>\n",
       "      <td>0.27</td>\n",
       "    </tr>\n",
       "    <tr>\n",
       "      <th>3</th>\n",
       "      <td>1980</td>\n",
       "      <td>Checkers</td>\n",
       "      <td>0.23</td>\n",
       "    </tr>\n",
       "    <tr>\n",
       "      <th>4</th>\n",
       "      <td>1980</td>\n",
       "      <td>Defender</td>\n",
       "      <td>1.05</td>\n",
       "    </tr>\n",
       "  </tbody>\n",
       "</table>\n",
       "</div>"
      ],
      "text/plain": [
       "   year_of_release       name  total_sales\n",
       "0             1980  Asteroids         4.31\n",
       "1             1980     Boxing         0.77\n",
       "2             1980     Bridge         0.27\n",
       "3             1980   Checkers         0.23\n",
       "4             1980   Defender         1.05"
      ]
     },
     "execution_count": 16,
     "metadata": {},
     "output_type": "execute_result"
    }
   ],
   "source": [
    "pivot = df.groupby(['year_of_release','name']).agg({'total_sales': 'sum'}).reset_index().sort_values(by='year_of_release')\n",
    "pivot.head()"
   ]
  },
  {
   "cell_type": "markdown",
   "metadata": {},
   "source": [
    "Чтобы определиться с актуальным периодом для анализа, создадим таблицу с количеством выпущенных игр и продажами по годам и построим линейный график"
   ]
  },
  {
   "cell_type": "code",
   "execution_count": 17,
   "metadata": {},
   "outputs": [
    {
     "data": {
      "text/html": [
       "<div>\n",
       "<style scoped>\n",
       "    .dataframe tbody tr th:only-of-type {\n",
       "        vertical-align: middle;\n",
       "    }\n",
       "\n",
       "    .dataframe tbody tr th {\n",
       "        vertical-align: top;\n",
       "    }\n",
       "\n",
       "    .dataframe thead th {\n",
       "        text-align: right;\n",
       "    }\n",
       "</style>\n",
       "<table border=\"1\" class=\"dataframe\">\n",
       "  <thead>\n",
       "    <tr style=\"text-align: right;\">\n",
       "      <th></th>\n",
       "      <th>name</th>\n",
       "      <th>total_sales</th>\n",
       "    </tr>\n",
       "    <tr>\n",
       "      <th>year_of_release</th>\n",
       "      <th></th>\n",
       "      <th></th>\n",
       "    </tr>\n",
       "  </thead>\n",
       "  <tbody>\n",
       "    <tr>\n",
       "      <th>1980</th>\n",
       "      <td>9</td>\n",
       "      <td>11.38</td>\n",
       "    </tr>\n",
       "    <tr>\n",
       "      <th>1981</th>\n",
       "      <td>46</td>\n",
       "      <td>35.68</td>\n",
       "    </tr>\n",
       "    <tr>\n",
       "      <th>1982</th>\n",
       "      <td>36</td>\n",
       "      <td>28.88</td>\n",
       "    </tr>\n",
       "    <tr>\n",
       "      <th>1983</th>\n",
       "      <td>17</td>\n",
       "      <td>16.80</td>\n",
       "    </tr>\n",
       "    <tr>\n",
       "      <th>1984</th>\n",
       "      <td>14</td>\n",
       "      <td>50.35</td>\n",
       "    </tr>\n",
       "  </tbody>\n",
       "</table>\n",
       "</div>"
      ],
      "text/plain": [
       "                 name  total_sales\n",
       "year_of_release                   \n",
       "1980                9        11.38\n",
       "1981               46        35.68\n",
       "1982               36        28.88\n",
       "1983               17        16.80\n",
       "1984               14        50.35"
      ]
     },
     "execution_count": 17,
     "metadata": {},
     "output_type": "execute_result"
    }
   ],
   "source": [
    "sales_by_game_year = pivot.groupby(['year_of_release']).agg({'name': 'count', 'total_sales': 'sum'})\n",
    "sales_by_game_year.head()"
   ]
  },
  {
   "cell_type": "code",
   "execution_count": 18,
   "metadata": {},
   "outputs": [
    {
     "data": {
      "image/png": "[encoded data removed]",
      "text/plain": [
       "<Figure size 432x288 with 1 Axes>"
      ]
     },
     "metadata": {
      "needs_background": "light"
     },
     "output_type": "display_data"
    }
   ],
   "source": [
    "sales_by_game_year['name'].plot(kind='line', title='Динамика выпуска новых игр')\n",
    "plt.xlabel('год')\n",
    "plt.ylabel('Количество новых игр')\n",
    "plt.show()"
   ]
  },
  {
   "cell_type": "code",
   "execution_count": 19,
   "metadata": {},
   "outputs": [
    {
     "data": {
      "image/png": "[encoded data removed]",
      "text/plain": [
       "<Figure size 432x288 with 1 Axes>"
      ]
     },
     "metadata": {
      "needs_background": "light"
     },
     "output_type": "display_data"
    }
   ],
   "source": [
    "sales_by_game_year['total_sales'].plot(kind='line', title='Динамика продаж')\n",
    "plt.xlabel('год')\n",
    "plt.ylabel('Продано экземпляров')\n",
    "plt.show()"
   ]
  },
  {
   "cell_type": "markdown",
   "metadata": {},
   "source": [
    "Графики показывают, что рост популярности игровой индустрии началася в 1995, поэтому исключим из таблицы данные за более ранние периоды"
   ]
  },
  {
   "cell_type": "code",
   "execution_count": 20,
   "metadata": {},
   "outputs": [],
   "source": [
    "df = df.query('year_of_release > 1995')"
   ]
  },
  {
   "cell_type": "markdown",
   "metadata": {},
   "source": [
    "### Анализ продаж по платформам"
   ]
  },
  {
   "cell_type": "markdown",
   "metadata": {},
   "source": [
    "Для анализа выделим 10 платформ по наибольшему количеству проданных копий"
   ]
  },
  {
   "cell_type": "code",
   "execution_count": 21,
   "metadata": {},
   "outputs": [
    {
     "data": {
      "text/html": [
       "<div>\n",
       "<style scoped>\n",
       "    .dataframe tbody tr th:only-of-type {\n",
       "        vertical-align: middle;\n",
       "    }\n",
       "\n",
       "    .dataframe tbody tr th {\n",
       "        vertical-align: top;\n",
       "    }\n",
       "\n",
       "    .dataframe thead th {\n",
       "        text-align: right;\n",
       "    }\n",
       "</style>\n",
       "<table border=\"1\" class=\"dataframe\">\n",
       "  <thead>\n",
       "    <tr style=\"text-align: right;\">\n",
       "      <th></th>\n",
       "      <th>total_sales</th>\n",
       "    </tr>\n",
       "    <tr>\n",
       "      <th>platform</th>\n",
       "      <th></th>\n",
       "    </tr>\n",
       "  </thead>\n",
       "  <tbody>\n",
       "    <tr>\n",
       "      <th>PS2</th>\n",
       "      <td>1233.56</td>\n",
       "    </tr>\n",
       "    <tr>\n",
       "      <th>X360</th>\n",
       "      <td>961.24</td>\n",
       "    </tr>\n",
       "    <tr>\n",
       "      <th>PS3</th>\n",
       "      <td>931.34</td>\n",
       "    </tr>\n",
       "    <tr>\n",
       "      <th>Wii</th>\n",
       "      <td>891.18</td>\n",
       "    </tr>\n",
       "    <tr>\n",
       "      <th>DS</th>\n",
       "      <td>802.76</td>\n",
       "    </tr>\n",
       "    <tr>\n",
       "      <th>PS</th>\n",
       "      <td>685.59</td>\n",
       "    </tr>\n",
       "    <tr>\n",
       "      <th>PS4</th>\n",
       "      <td>314.14</td>\n",
       "    </tr>\n",
       "    <tr>\n",
       "      <th>GBA</th>\n",
       "      <td>312.88</td>\n",
       "    </tr>\n",
       "    <tr>\n",
       "      <th>PSP</th>\n",
       "      <td>289.53</td>\n",
       "    </tr>\n",
       "    <tr>\n",
       "      <th>3DS</th>\n",
       "      <td>257.81</td>\n",
       "    </tr>\n",
       "  </tbody>\n",
       "</table>\n",
       "</div>"
      ],
      "text/plain": [
       "          total_sales\n",
       "platform             \n",
       "PS2           1233.56\n",
       "X360           961.24\n",
       "PS3            931.34\n",
       "Wii            891.18\n",
       "DS             802.76\n",
       "PS             685.59\n",
       "PS4            314.14\n",
       "GBA            312.88\n",
       "PSP            289.53\n",
       "3DS            257.81"
      ]
     },
     "execution_count": 21,
     "metadata": {},
     "output_type": "execute_result"
    }
   ],
   "source": [
    "platform_top = df.pivot_table(index='platform', \n",
    "                              values='total_sales', \n",
    "                              aggfunc='sum').sort_values(by='total_sales', \n",
    "                                                         ascending=False)\n",
    "platform_top = platform_top.iloc[:10]\n",
    "platform_top_list = platform_top.index\n",
    "platform_top"
   ]
  },
  {
   "cell_type": "code",
   "execution_count": 22,
   "metadata": {},
   "outputs": [
    {
     "name": "stdout",
     "output_type": "stream",
     "text": [
      "Всего платформ: 24\n"
     ]
    }
   ],
   "source": [
    "print('Всего платформ:', len(df['platform'].unique()))"
   ]
  },
  {
   "cell_type": "markdown",
   "metadata": {},
   "source": [
    "Посмотрим общие данные по самым популярным платформам"
   ]
  },
  {
   "cell_type": "code",
   "execution_count": 23,
   "metadata": {},
   "outputs": [],
   "source": [
    "platform_total_sales = df.pivot_table(index='year_of_release', \n",
    "                                      columns='platform', \n",
    "                                      values='total_sales', \n",
    "                                      aggfunc='sum')"
   ]
  },
  {
   "cell_type": "code",
   "execution_count": 24,
   "metadata": {},
   "outputs": [
    {
     "data": {
      "text/html": [
       "<div>\n",
       "<style scoped>\n",
       "    .dataframe tbody tr th:only-of-type {\n",
       "        vertical-align: middle;\n",
       "    }\n",
       "\n",
       "    .dataframe tbody tr th {\n",
       "        vertical-align: top;\n",
       "    }\n",
       "\n",
       "    .dataframe thead th {\n",
       "        text-align: right;\n",
       "    }\n",
       "</style>\n",
       "<table border=\"1\" class=\"dataframe\">\n",
       "  <thead>\n",
       "    <tr style=\"text-align: right;\">\n",
       "      <th>platform</th>\n",
       "      <th>PS2</th>\n",
       "      <th>X360</th>\n",
       "      <th>PS3</th>\n",
       "      <th>Wii</th>\n",
       "      <th>DS</th>\n",
       "      <th>PS</th>\n",
       "      <th>PS4</th>\n",
       "      <th>GBA</th>\n",
       "      <th>PSP</th>\n",
       "      <th>3DS</th>\n",
       "    </tr>\n",
       "  </thead>\n",
       "  <tbody>\n",
       "    <tr>\n",
       "      <th>count</th>\n",
       "      <td>12.000000</td>\n",
       "      <td>12.000000</td>\n",
       "      <td>11.000000</td>\n",
       "      <td>11.000000</td>\n",
       "      <td>10.000000</td>\n",
       "      <td>8.000000</td>\n",
       "      <td>4.000000</td>\n",
       "      <td>8.000000</td>\n",
       "      <td>12.000000</td>\n",
       "      <td>6.000000</td>\n",
       "    </tr>\n",
       "    <tr>\n",
       "      <th>mean</th>\n",
       "      <td>102.796667</td>\n",
       "      <td>80.103333</td>\n",
       "      <td>84.667273</td>\n",
       "      <td>81.016364</td>\n",
       "      <td>80.276000</td>\n",
       "      <td>85.698750</td>\n",
       "      <td>78.535000</td>\n",
       "      <td>39.110000</td>\n",
       "      <td>24.127500</td>\n",
       "      <td>42.968333</td>\n",
       "    </tr>\n",
       "    <tr>\n",
       "      <th>std</th>\n",
       "      <td>79.405729</td>\n",
       "      <td>57.484408</td>\n",
       "      <td>54.637565</td>\n",
       "      <td>79.136330</td>\n",
       "      <td>59.796231</td>\n",
       "      <td>64.336762</td>\n",
       "      <td>40.567917</td>\n",
       "      <td>32.768255</td>\n",
       "      <td>20.190759</td>\n",
       "      <td>18.278261</td>\n",
       "    </tr>\n",
       "    <tr>\n",
       "      <th>min</th>\n",
       "      <td>0.450000</td>\n",
       "      <td>1.520000</td>\n",
       "      <td>3.600000</td>\n",
       "      <td>0.180000</td>\n",
       "      <td>1.540000</td>\n",
       "      <td>2.070000</td>\n",
       "      <td>25.990000</td>\n",
       "      <td>0.070000</td>\n",
       "      <td>0.120000</td>\n",
       "      <td>15.140000</td>\n",
       "    </tr>\n",
       "    <tr>\n",
       "      <th>25%</th>\n",
       "      <td>35.977500</td>\n",
       "      <td>29.045000</td>\n",
       "      <td>34.360000</td>\n",
       "      <td>6.170000</td>\n",
       "      <td>19.497500</td>\n",
       "      <td>28.360000</td>\n",
       "      <td>58.435000</td>\n",
       "      <td>4.810000</td>\n",
       "      <td>6.080000</td>\n",
       "      <td>31.775000</td>\n",
       "    </tr>\n",
       "    <tr>\n",
       "      <th>50%</th>\n",
       "      <td>89.705000</td>\n",
       "      <td>91.995000</td>\n",
       "      <td>107.360000</td>\n",
       "      <td>59.650000</td>\n",
       "      <td>102.280000</td>\n",
       "      <td>95.535000</td>\n",
       "      <td>84.625000</td>\n",
       "      <td>45.265000</td>\n",
       "      <td>26.185000</td>\n",
       "      <td>47.560000</td>\n",
       "    </tr>\n",
       "    <tr>\n",
       "      <th>75%</th>\n",
       "      <td>170.900000</td>\n",
       "      <td>124.032500</td>\n",
       "      <td>124.725000</td>\n",
       "      <td>144.960000</td>\n",
       "      <td>127.557500</td>\n",
       "      <td>138.260000</td>\n",
       "      <td>104.725000</td>\n",
       "      <td>64.687500</td>\n",
       "      <td>39.295000</td>\n",
       "      <td>55.267500</td>\n",
       "    </tr>\n",
       "    <tr>\n",
       "      <th>max</th>\n",
       "      <td>211.810000</td>\n",
       "      <td>170.030000</td>\n",
       "      <td>156.780000</td>\n",
       "      <td>206.970000</td>\n",
       "      <td>146.940000</td>\n",
       "      <td>169.490000</td>\n",
       "      <td>118.900000</td>\n",
       "      <td>77.910000</td>\n",
       "      <td>55.320000</td>\n",
       "      <td>63.200000</td>\n",
       "    </tr>\n",
       "  </tbody>\n",
       "</table>\n",
       "</div>"
      ],
      "text/plain": [
       "platform         PS2        X360         PS3         Wii          DS  \\\n",
       "count      12.000000   12.000000   11.000000   11.000000   10.000000   \n",
       "mean      102.796667   80.103333   84.667273   81.016364   80.276000   \n",
       "std        79.405729   57.484408   54.637565   79.136330   59.796231   \n",
       "min         0.450000    1.520000    3.600000    0.180000    1.540000   \n",
       "25%        35.977500   29.045000   34.360000    6.170000   19.497500   \n",
       "50%        89.705000   91.995000  107.360000   59.650000  102.280000   \n",
       "75%       170.900000  124.032500  124.725000  144.960000  127.557500   \n",
       "max       211.810000  170.030000  156.780000  206.970000  146.940000   \n",
       "\n",
       "platform          PS         PS4        GBA        PSP        3DS  \n",
       "count       8.000000    4.000000   8.000000  12.000000   6.000000  \n",
       "mean       85.698750   78.535000  39.110000  24.127500  42.968333  \n",
       "std        64.336762   40.567917  32.768255  20.190759  18.278261  \n",
       "min         2.070000   25.990000   0.070000   0.120000  15.140000  \n",
       "25%        28.360000   58.435000   4.810000   6.080000  31.775000  \n",
       "50%        95.535000   84.625000  45.265000  26.185000  47.560000  \n",
       "75%       138.260000  104.725000  64.687500  39.295000  55.267500  \n",
       "max       169.490000  118.900000  77.910000  55.320000  63.200000  "
      ]
     },
     "execution_count": 24,
     "metadata": {},
     "output_type": "execute_result"
    }
   ],
   "source": [
    "platform_total_sales[platform_top_list].describe()"
   ]
  },
  {
   "cell_type": "markdown",
   "metadata": {},
   "source": [
    "По описанию можно сделать вывод, что в среднем платформа существует около 10 лет. Оставим в таблице актуальные данные не позже 2007 года"
   ]
  },
  {
   "cell_type": "code",
   "execution_count": 25,
   "metadata": {},
   "outputs": [
    {
     "name": "stdout",
     "output_type": "stream",
     "text": [
      "<class 'pandas.core.frame.DataFrame'>\n",
      "Int64Index: 9327 entries, 2 to 16714\n",
      "Data columns (total 12 columns):\n",
      " #   Column           Non-Null Count  Dtype  \n",
      "---  ------           --------------  -----  \n",
      " 0   name             9327 non-null   object \n",
      " 1   platform         9327 non-null   object \n",
      " 2   year_of_release  9327 non-null   int32  \n",
      " 3   genre            9327 non-null   object \n",
      " 4   na_sales         9327 non-null   float64\n",
      " 5   eu_sales         9327 non-null   float64\n",
      " 6   jp_sales         9327 non-null   float64\n",
      " 7   other_sales      9327 non-null   float64\n",
      " 8   critic_score     4370 non-null   float64\n",
      " 9   user_score       4403 non-null   float64\n",
      " 10  rating           9327 non-null   object \n",
      " 11  total_sales      9327 non-null   float64\n",
      "dtypes: float64(7), int32(1), object(4)\n",
      "memory usage: 910.8+ KB\n"
     ]
    }
   ],
   "source": [
    "actual_data = df.query('year_of_release > 2006')\n",
    "actual_data.info()"
   ]
  },
  {
   "cell_type": "markdown",
   "metadata": {},
   "source": [
    "Выделим топ-10 актуальных платформ и построим график динамики продаж"
   ]
  },
  {
   "cell_type": "code",
   "execution_count": 26,
   "metadata": {},
   "outputs": [
    {
     "data": {
      "text/html": [
       "<div>\n",
       "<style scoped>\n",
       "    .dataframe tbody tr th:only-of-type {\n",
       "        vertical-align: middle;\n",
       "    }\n",
       "\n",
       "    .dataframe tbody tr th {\n",
       "        vertical-align: top;\n",
       "    }\n",
       "\n",
       "    .dataframe thead th {\n",
       "        text-align: right;\n",
       "    }\n",
       "</style>\n",
       "<table border=\"1\" class=\"dataframe\">\n",
       "  <thead>\n",
       "    <tr style=\"text-align: right;\">\n",
       "      <th></th>\n",
       "      <th>total_sales</th>\n",
       "    </tr>\n",
       "    <tr>\n",
       "      <th>platform</th>\n",
       "      <th></th>\n",
       "    </tr>\n",
       "  </thead>\n",
       "  <tbody>\n",
       "    <tr>\n",
       "      <th>PS3</th>\n",
       "      <td>910.38</td>\n",
       "    </tr>\n",
       "    <tr>\n",
       "      <th>X360</th>\n",
       "      <td>901.37</td>\n",
       "    </tr>\n",
       "    <tr>\n",
       "      <th>Wii</th>\n",
       "      <td>754.03</td>\n",
       "    </tr>\n",
       "    <tr>\n",
       "      <th>DS</th>\n",
       "      <td>535.54</td>\n",
       "    </tr>\n",
       "    <tr>\n",
       "      <th>PS4</th>\n",
       "      <td>314.14</td>\n",
       "    </tr>\n",
       "    <tr>\n",
       "      <th>3DS</th>\n",
       "      <td>257.81</td>\n",
       "    </tr>\n",
       "    <tr>\n",
       "      <th>PSP</th>\n",
       "      <td>183.31</td>\n",
       "    </tr>\n",
       "    <tr>\n",
       "      <th>PS2</th>\n",
       "      <td>162.38</td>\n",
       "    </tr>\n",
       "    <tr>\n",
       "      <th>PC</th>\n",
       "      <td>160.57</td>\n",
       "    </tr>\n",
       "    <tr>\n",
       "      <th>XOne</th>\n",
       "      <td>159.32</td>\n",
       "    </tr>\n",
       "  </tbody>\n",
       "</table>\n",
       "</div>"
      ],
      "text/plain": [
       "          total_sales\n",
       "platform             \n",
       "PS3            910.38\n",
       "X360           901.37\n",
       "Wii            754.03\n",
       "DS             535.54\n",
       "PS4            314.14\n",
       "3DS            257.81\n",
       "PSP            183.31\n",
       "PS2            162.38\n",
       "PC             160.57\n",
       "XOne           159.32"
      ]
     },
     "execution_count": 26,
     "metadata": {},
     "output_type": "execute_result"
    }
   ],
   "source": [
    "platform_top = actual_data.pivot_table(index='platform', \n",
    "                              values='total_sales', \n",
    "                              aggfunc='sum').sort_values(by='total_sales', \n",
    "                                                         ascending=False)\n",
    "platform_top = platform_top.iloc[:10]\n",
    "platform_top_list = platform_top.index\n",
    "platform_top"
   ]
  },
  {
   "cell_type": "code",
   "execution_count": 27,
   "metadata": {},
   "outputs": [
    {
     "data": {
      "image/png": "[encoded data removed]",
      "text/plain": [
       "<Figure size 720x360 with 1 Axes>"
      ]
     },
     "metadata": {
      "needs_background": "light"
     },
     "output_type": "display_data"
    }
   ],
   "source": [
    "actual_platforms = actual_data.query('platform in @platform_top_list')\n",
    "actual_platforms.pivot_table(index='year_of_release', \n",
    "                             columns='platform', \n",
    "                             values='total_sales', \n",
    "                             aggfunc='sum').plot(kind='line', \n",
    "                                                 legend=True, \n",
    "                                                 title='Динамика продаж', \n",
    "                                                 figsize=(10,5))\n",
    "plt.xlabel('год')\n",
    "plt.ylabel('Количество проданных копий')\n",
    "plt.show()"
   ]
  },
  {
   "cell_type": "markdown",
   "metadata": {},
   "source": [
    "График показывает, что для некоторых платформ игры уже не продаются. Самые высокие продажи в течение первых 5-6 лет существования платформы. Продажи по всем платформам упали к 2016 г., что может быть обусловлено неполнотой данных за текущий год.Потенциально прибыльными платформами могут быть \"XOne\", \"PS4\" и \"3DS\", т.к. в течение последних лет продажи по остальным платформам только падали"
   ]
  },
  {
   "cell_type": "markdown",
   "metadata": {},
   "source": [
    "Рассмотрим данные за годы существования этих платформ и построим диаграмму размаха за период с 2011 года"
   ]
  },
  {
   "cell_type": "code",
   "execution_count": 28,
   "metadata": {},
   "outputs": [
    {
     "data": {
      "image/png": "[encoded data removed]",
      "text/plain": [
       "<Figure size 720x360 with 1 Axes>"
      ]
     },
     "metadata": {
      "needs_background": "light"
     },
     "output_type": "display_data"
    }
   ],
   "source": [
    "actual_data = actual_data.query('year_of_release >= 2011')\n",
    "actual_data.boxplot(column = 'total_sales', by = 'platform', figsize=(10,5))\n",
    "plt.ylim(0, 2)\n",
    "plt.title('Продажи игр по платформам')\n",
    "plt.xlabel(None)\n",
    "plt.ylabel('Млн.')\n",
    "plt.show()"
   ]
  },
  {
   "cell_type": "markdown",
   "metadata": {},
   "source": [
    "Наибольшее количество игр было продано на платформах PS3, PS4 и X360, XOne. Динамика продаж показывает что в разные годы игры на платформах PS3 и X360, PS4 и XOne выходили в одно время. Эти платформы выделяются большим объемом продаж. Медианная величина продаж на платформе X360 превышает PS3, а на платформе XOne чуть больше, чем на PS4. 3DS выделяется большим количеством выбросов, когда игры на этой платформе становились хитами."
   ]
  },
  {
   "cell_type": "markdown",
   "metadata": {},
   "source": [
    "Посмотрим как влияют на продажи внутри одной популярной платформы отзывы пользователей и критиков. Построим диаграммы размаха и посчитаем корреляцию общих продаж с другими показателями"
   ]
  },
  {
   "cell_type": "code",
   "execution_count": 29,
   "metadata": {},
   "outputs": [
    {
     "data": {
      "image/png": "[encoded data removed]",
      "text/plain": [
       "<Figure size 432x288 with 1 Axes>"
      ]
     },
     "metadata": {
      "needs_background": "light"
     },
     "output_type": "display_data"
    }
   ],
   "source": [
    "actual_data.query('platform == \"PS3\"').plot(x='total_sales', y='critic_score', kind='scatter')\n",
    "plt.xlabel('Продано экземпляров')\n",
    "plt.ylabel('Оценка критиков')\n",
    "plt.show()"
   ]
  },
  {
   "cell_type": "code",
   "execution_count": 30,
   "metadata": {},
   "outputs": [
    {
     "data": {
      "image/png": "[encoded data removed]",
      "text/plain": [
       "<Figure size 432x288 with 1 Axes>"
      ]
     },
     "metadata": {
      "needs_background": "light"
     },
     "output_type": "display_data"
    }
   ],
   "source": [
    "actual_data.query('platform == \"PS3\"').plot(x='total_sales', y='user_score', kind='scatter')\n",
    "plt.xlabel('Продано экземпляров')\n",
    "plt.ylabel('Оценка пользователей')\n",
    "plt.show()"
   ]
  },
  {
   "cell_type": "code",
   "execution_count": 31,
   "metadata": {},
   "outputs": [
    {
     "data": {
      "text/plain": [
       "year_of_release   -0.123980\n",
       "na_sales           0.937887\n",
       "eu_sales           0.968964\n",
       "jp_sales           0.438093\n",
       "other_sales        0.978086\n",
       "critic_score       0.380111\n",
       "user_score         0.014089\n",
       "total_sales        1.000000\n",
       "Name: total_sales, dtype: float64"
      ]
     },
     "execution_count": 31,
     "metadata": {},
     "output_type": "execute_result"
    }
   ],
   "source": [
    "actual_data.query('platform == \"PS3\"').corr()['total_sales']"
   ]
  },
  {
   "cell_type": "markdown",
   "metadata": {},
   "source": [
    "Корреляция с оценками критиков в 0,38 говорит о наличии связи, но не слишком сильной. Можно сделать вывод, что продажи игр растут с оценкой критиков. Еще меньше на продажи влияет оценка пользователей. Сравним полученный результат с продажами по всем платформам"
   ]
  },
  {
   "cell_type": "code",
   "execution_count": 32,
   "metadata": {},
   "outputs": [
    {
     "data": {
      "image/png": "[encoded data removed]",
      "text/plain": [
       "<Figure size 432x288 with 1 Axes>"
      ]
     },
     "metadata": {
      "needs_background": "light"
     },
     "output_type": "display_data"
    }
   ],
   "source": [
    "actual_data.plot(x='total_sales', y='critic_score', kind='scatter')\n",
    "plt.xlabel('Продано экземпляров')\n",
    "plt.ylabel('Оценка критиков')\n",
    "plt.show()"
   ]
  },
  {
   "cell_type": "code",
   "execution_count": 33,
   "metadata": {},
   "outputs": [
    {
     "data": {
      "image/png": "[encoded data removed]",
      "text/plain": [
       "<Figure size 432x288 with 1 Axes>"
      ]
     },
     "metadata": {
      "needs_background": "light"
     },
     "output_type": "display_data"
    }
   ],
   "source": [
    "actual_data.plot(x='total_sales', y='user_score', kind='scatter')\n",
    "plt.xlabel('Продано экземпляров')\n",
    "plt.ylabel('Оценка пользователей')\n",
    "plt.show()"
   ]
  },
  {
   "cell_type": "code",
   "execution_count": 34,
   "metadata": {},
   "outputs": [
    {
     "data": {
      "text/plain": [
       "year_of_release   -0.033917\n",
       "na_sales           0.927913\n",
       "eu_sales           0.931263\n",
       "jp_sales           0.446631\n",
       "other_sales        0.915012\n",
       "critic_score       0.329977\n",
       "user_score         0.031636\n",
       "total_sales        1.000000\n",
       "Name: total_sales, dtype: float64"
      ]
     },
     "execution_count": 34,
     "metadata": {},
     "output_type": "execute_result"
    }
   ],
   "source": [
    "actual_data.corr()['total_sales']"
   ]
  },
  {
   "cell_type": "markdown",
   "metadata": {},
   "source": [
    "Если рассматривать все платформы, то можно сказать, что продажи не зависят от оценки пользователей, незначительно влияет лишь оценка критиков"
   ]
  },
  {
   "cell_type": "markdown",
   "metadata": {},
   "source": [
    "### Анализ продаж по жанрам"
   ]
  },
  {
   "cell_type": "markdown",
   "metadata": {},
   "source": [
    "Рассмотрим распределение проданных игр по жанрам"
   ]
  },
  {
   "cell_type": "code",
   "execution_count": 35,
   "metadata": {},
   "outputs": [
    {
     "data": {
      "text/html": [
       "<div>\n",
       "<style scoped>\n",
       "    .dataframe tbody tr th:only-of-type {\n",
       "        vertical-align: middle;\n",
       "    }\n",
       "\n",
       "    .dataframe tbody tr th {\n",
       "        vertical-align: top;\n",
       "    }\n",
       "\n",
       "    .dataframe thead th {\n",
       "        text-align: right;\n",
       "    }\n",
       "</style>\n",
       "<table border=\"1\" class=\"dataframe\">\n",
       "  <thead>\n",
       "    <tr style=\"text-align: right;\">\n",
       "      <th></th>\n",
       "      <th>genre</th>\n",
       "      <th>sum</th>\n",
       "    </tr>\n",
       "  </thead>\n",
       "  <tbody>\n",
       "    <tr>\n",
       "      <th>0</th>\n",
       "      <td>Action</td>\n",
       "      <td>557.80</td>\n",
       "    </tr>\n",
       "    <tr>\n",
       "      <th>8</th>\n",
       "      <td>Shooter</td>\n",
       "      <td>402.91</td>\n",
       "    </tr>\n",
       "    <tr>\n",
       "      <th>7</th>\n",
       "      <td>Role-Playing</td>\n",
       "      <td>245.63</td>\n",
       "    </tr>\n",
       "    <tr>\n",
       "      <th>10</th>\n",
       "      <td>Sports</td>\n",
       "      <td>237.15</td>\n",
       "    </tr>\n",
       "    <tr>\n",
       "      <th>3</th>\n",
       "      <td>Misc</td>\n",
       "      <td>139.42</td>\n",
       "    </tr>\n",
       "    <tr>\n",
       "      <th>4</th>\n",
       "      <td>Platform</td>\n",
       "      <td>88.68</td>\n",
       "    </tr>\n",
       "    <tr>\n",
       "      <th>6</th>\n",
       "      <td>Racing</td>\n",
       "      <td>88.31</td>\n",
       "    </tr>\n",
       "    <tr>\n",
       "      <th>2</th>\n",
       "      <td>Fighting</td>\n",
       "      <td>66.90</td>\n",
       "    </tr>\n",
       "    <tr>\n",
       "      <th>9</th>\n",
       "      <td>Simulation</td>\n",
       "      <td>50.26</td>\n",
       "    </tr>\n",
       "    <tr>\n",
       "      <th>1</th>\n",
       "      <td>Adventure</td>\n",
       "      <td>45.04</td>\n",
       "    </tr>\n",
       "    <tr>\n",
       "      <th>11</th>\n",
       "      <td>Strategy</td>\n",
       "      <td>22.16</td>\n",
       "    </tr>\n",
       "    <tr>\n",
       "      <th>5</th>\n",
       "      <td>Puzzle</td>\n",
       "      <td>9.85</td>\n",
       "    </tr>\n",
       "  </tbody>\n",
       "</table>\n",
       "</div>"
      ],
      "text/plain": [
       "           genre     sum\n",
       "0         Action  557.80\n",
       "8        Shooter  402.91\n",
       "7   Role-Playing  245.63\n",
       "10        Sports  237.15\n",
       "3           Misc  139.42\n",
       "4       Platform   88.68\n",
       "6         Racing   88.31\n",
       "2       Fighting   66.90\n",
       "9     Simulation   50.26\n",
       "1      Adventure   45.04\n",
       "11      Strategy   22.16\n",
       "5         Puzzle    9.85"
      ]
     },
     "execution_count": 35,
     "metadata": {},
     "output_type": "execute_result"
    }
   ],
   "source": [
    "genre_sales = actual_data.groupby('genre').agg({'total_sales':'sum'})\n",
    "genre_sales.columns = ['sum']\n",
    "genre_sales = genre_sales.reset_index().sort_values(by='sum', ascending=False)\n",
    "genre_sales"
   ]
  },
  {
   "cell_type": "code",
   "execution_count": 36,
   "metadata": {},
   "outputs": [
    {
     "data": {
      "image/png": "[encoded data removed]",
      "text/plain": [
       "<Figure size 864x432 with 1 Axes>"
      ]
     },
     "metadata": {
      "needs_background": "light"
     },
     "output_type": "display_data"
    }
   ],
   "source": [
    "genre_sales.sort_values(by='sum', ascending=False)\n",
    "plt.figure(figsize=(12, 6))\n",
    "ax=sns.barplot(data=genre_sales, x='genre', y='sum')\n",
    "for p in ax.patches:\n",
    "    ax.annotate(format(p.get_height(), '.0f'),\n",
    "                (p.get_x() + p.get_width() / 2., p.get_height()),\n",
    "                ha = 'center', va = 'center',\n",
    "                xytext = (0, 9),\n",
    "                textcoords = 'offset points')\n",
    "plt.xlabel(None)\n",
    "plt.ylabel('Млн.')\n",
    "plt.title('Продажи игр по жанрам')\n",
    "plt.show()"
   ]
  },
  {
   "cell_type": "markdown",
   "metadata": {},
   "source": [
    "По общему объему продаж лидирует \"Action\". Также можно выделить как потенциально прибыльные \"Shooter\", \"Role-playing\" и \"Sports\". Построим диаграмму размаха общих продаж по жанрам"
   ]
  },
  {
   "cell_type": "code",
   "execution_count": 37,
   "metadata": {},
   "outputs": [
    {
     "data": {
      "image/png": "[encoded data removed]",
      "text/plain": [
       "<Figure size 1080x504 with 1 Axes>"
      ]
     },
     "metadata": {
      "needs_background": "light"
     },
     "output_type": "display_data"
    }
   ],
   "source": [
    "actual_data.boxplot(column = 'total_sales', by = 'genre', figsize=(15, 7))\n",
    "\n",
    "plt.ylim(0, 4)\n",
    "plt.title('Продажи игр по жанрам')\n",
    "plt.xlabel(None)\n",
    "plt.ylabel('Млн.')\n",
    "plt.show()"
   ]
  },
  {
   "cell_type": "markdown",
   "metadata": {},
   "source": [
    "Диаграмма размаха показывает, что большое количество проданных игр в жанре \"Action\" получилось за счет единичных игр-хитов. Среди наиболее прибыльных по медиане продаж можно выделить \"Shooter\". Небольшое количество выбросов и значительный объем продаж говорит о популярности игр в этом жанре"
   ]
  },
  {
   "cell_type": "markdown",
   "metadata": {},
   "source": [
    "### Анализ продаж по регионам"
   ]
  },
  {
   "cell_type": "markdown",
   "metadata": {},
   "source": [
    "Для анализа продаж по регионам построим рассмотрим продажи игр по платформам, по жанрам и рассмотрим как влияет рейтинг ESRB на продажи в каждом регионе"
   ]
  },
  {
   "cell_type": "code",
   "execution_count": 38,
   "metadata": {},
   "outputs": [
    {
     "data": {
      "image/png": "[encoded data removed]",
      "text/plain": [
       "<Figure size 576x576 with 1 Axes>"
      ]
     },
     "metadata": {},
     "output_type": "display_data"
    },
    {
     "data": {
      "image/png": "[encoded data removed]",
      "text/plain": [
       "<Figure size 576x576 with 1 Axes>"
      ]
     },
     "metadata": {},
     "output_type": "display_data"
    },
    {
     "data": {
      "image/png": "[encoded data removed]",
      "text/plain": [
       "<Figure size 576x576 with 1 Axes>"
      ]
     },
     "metadata": {},
     "output_type": "display_data"
    }
   ],
   "source": [
    "columns = ['na_sales', 'eu_sales', 'jp_sales']\n",
    "for column in columns:\n",
    "    #platform = actual_platforms.pivot_table(index='platform', \n",
    "                                  #values=column, \n",
    "                                  #aggfunc='sum').sort_values(by=column, \n",
    "                                                         #ascending=False)\n",
    "    \n",
    "    platform = actual_data.pivot_table(index='platform', \n",
    "                                  values=column, \n",
    "                                  aggfunc='sum').sort_values(by=column, \n",
    "                                                         ascending=False)\n",
    "    platform = platform.loc[platform[column] != 0]\n",
    "    platform = platform.iloc[:5]\n",
    "\n",
    "    platform.plot(kind='pie', y=column, autopct='%1.1f%%', figsize=(8, 8))\n",
    "    plt.show()"
   ]
  },
  {
   "cell_type": "markdown",
   "metadata": {},
   "source": [
    "По круговым диаграммам можно сделать вывод, что за последние годы самые большие продажи игр в Северной Америке были на платформах PS3 и X360. Это обусловлено тем, что эти платформы давно на рынке. Из современных XOne, PS4, 3DS лидирует по продажам PS4, но, учитывая, что данные за 2016 год неполные, для рекламных кампаний этого региона, можно взять во внимание и XOne. Так как 3DS на рынке на два года дольше, можно сделать вывод, что она значительно уступает по продажам. Если рассматривать продажи в Европе, то по опыту прошлых лет Play Station пользуется большей популярностью у европейцев, чем Xbox, а современная XOne здесь даже не вошла в пятерку популярных платформ. На японском рынке лидирует 3DS, продажи игр на которой в два раза превысили продажи на PS3, которая существует значительно дольше."
   ]
  },
  {
   "cell_type": "markdown",
   "metadata": {},
   "source": [
    "Рассмотрим продажи игр по жанрам в разных регионах"
   ]
  },
  {
   "cell_type": "code",
   "execution_count": 39,
   "metadata": {},
   "outputs": [
    {
     "data": {
      "image/png": "[encoded data removed]",
      "text/plain": [
       "<Figure size 648x648 with 1 Axes>"
      ]
     },
     "metadata": {},
     "output_type": "display_data"
    },
    {
     "data": {
      "image/png": "[encoded data removed]",
      "text/plain": [
       "<Figure size 648x648 with 1 Axes>"
      ]
     },
     "metadata": {},
     "output_type": "display_data"
    },
    {
     "data": {
      "image/png": "[encoded data removed]",
      "text/plain": [
       "<Figure size 648x648 with 1 Axes>"
      ]
     },
     "metadata": {},
     "output_type": "display_data"
    }
   ],
   "source": [
    "columns = ['na_sales', 'eu_sales', 'jp_sales']\n",
    "for column in columns:\n",
    "    #genre = actual_platforms.pivot_table(index='genre', \n",
    "                                  #values=column, \n",
    "                                  #aggfunc='sum').sort_values(by=column, \n",
    "                                                         #ascending=False)\n",
    "    \n",
    "    genre = actual_data.pivot_table(index='genre', \n",
    "                                  values=column, \n",
    "                                  aggfunc='sum').sort_values(by=column, \n",
    "                                                         ascending=False)\n",
    "    genre = genre.loc[genre[column] != 0]\n",
    "    genre = genre.iloc[:5]\n",
    "    genre.plot(kind='pie', y=column, autopct='%1.1f%%', figsize=(9, 9))\n",
    "    plt.show()"
   ]
  },
  {
   "cell_type": "markdown",
   "metadata": {},
   "source": [
    "Во всех регионах большой популярностью пользуются игры \"Action\". В Японии наиболее популярны \"Role-playing\" игры, а остальные жанры составляют незначительную долю продаж. Для рынков Северное Америки и Европы также потенциально прибыльными могут быть игры жанров \"Sports\" и \"Shooter\""
   ]
  },
  {
   "cell_type": "code",
   "execution_count": 40,
   "metadata": {},
   "outputs": [
    {
     "data": {
      "image/png": "[encoded data removed]",
      "text/plain": [
       "<Figure size 576x576 with 1 Axes>"
      ]
     },
     "metadata": {},
     "output_type": "display_data"
    },
    {
     "data": {
      "image/png": "[encoded data removed]",
      "text/plain": [
       "<Figure size 576x576 with 1 Axes>"
      ]
     },
     "metadata": {},
     "output_type": "display_data"
    },
    {
     "data": {
      "image/png": "[encoded data removed]",
      "text/plain": [
       "<Figure size 576x576 with 1 Axes>"
      ]
     },
     "metadata": {},
     "output_type": "display_data"
    }
   ],
   "source": [
    "columns = ['na_sales', 'eu_sales', 'jp_sales']\n",
    "for column in columns:\n",
    "    #rating = actual_platforms.pivot_table(index='rating', \n",
    "                                  #values=column, \n",
    "                                  #aggfunc='sum').sort_values(by=column, \n",
    "                                                         #ascending=False)\n",
    "    rating = actual_data.pivot_table(index='rating', \n",
    "                                  values=column, \n",
    "                                  aggfunc='sum').sort_values(by=column, \n",
    "                                                         ascending=False)\n",
    "    rating = rating.loc[rating[column] != 0]\n",
    "\n",
    "    rating.plot(kind='pie', y=column, autopct='%1.1f%%', figsize=(8, 8))\n",
    "    plt.show()"
   ]
  },
  {
   "cell_type": "markdown",
   "metadata": {},
   "source": [
    "В Европе и Северной Америке распределение продаж по жанрам примерно схожее. Преимущественно продаются игры \"для взрослых\" и \"для всех\", и меньше продаж у игр \"подросткам\" и \"для всех от 10 лет и старше\".\n",
    "По продажам игр в Японии основная часть данных по жанрам отсутствует. ESRB работает только на территории СА, в Японии есть аналогичная организация: CERO. Вероятно, ESRB не присваивают рейтинги иностранным играм, поскольку на них уже есть маркировка, либо текущая таблица - это объединенные данные продаж восточного и западного рынка"
   ]
  },
  {
   "cell_type": "markdown",
   "metadata": {},
   "source": [
    "### Вывод\n",
    "\n",
    "Исследовательский анализ данных показал, что пик популярности игр пришелся на 2007-2012 гг, затем продажи пошли на спад. В среднем платформа существует около 10 лет, а наиболее высокий доход приносит в течение первых 5-6 лет, поэтому дальнейший анализ проводился по данным начиная с 2011 года. Потенциально прибыльными платформами могут быть последние \"XOne\", \"PS4\" и \"3DS\", а потенциально популярными жанрами \"Action\", \"Shooter\", \"Sports\" и \"Role_playing\"."
   ]
  },
  {
   "cell_type": "markdown",
   "metadata": {},
   "source": [
    "## Проверка гипотез"
   ]
  },
  {
   "cell_type": "markdown",
   "metadata": {},
   "source": [
    "Проверим одинаковы ли средние пользовательские рейтинги платформ Xbox One и PC и отличаются ли средние пользовательские рейтинги жанров Action  и Sports. Чтобы проверить гипотезу о равенстве среднего двух генеральных совокупностей по взятым из них выборкам, избавимся от пропусков в столбце `user_score` и используем критерий Стьдента для независимых выборок. Оставим параметр `equal_var = True`, т.к. выборки взяты из схожих по параметрам совокупностей. В виду того, что разброс значений пользовательских оценок небольшой, применим критический уровень статистической значимости 0,01\n",
    "\n",
    "- H0 - Средние пользовательские рейтинги платформ Xbox One и PC одинаковые. Н1 - Средние рейтинги различаются\n"
   ]
  },
  {
   "cell_type": "code",
   "execution_count": 41,
   "metadata": {},
   "outputs": [],
   "source": [
    "xone = actual_data.query('platform == \"XOne\"')\n",
    "xone = xone.loc[~xone['user_score'].isna()]\n",
    "\n",
    "pc = actual_data.query('platform == \"PC\"')\n",
    "pc = pc.loc[~pc['user_score'].isna()]\n",
    "\n"
   ]
  },
  {
   "cell_type": "code",
   "execution_count": 42,
   "metadata": {},
   "outputs": [
    {
     "name": "stdout",
     "output_type": "stream",
     "text": [
      "p-значение: 0.6267602271422398\n",
      "Не получилось отвергнуть нулевую гипотезу\n"
     ]
    }
   ],
   "source": [
    "alpha = 0.01  # критический уровень статистической значимости\n",
    "# если p-value окажется меньше него - отвергнем гипотезу\n",
    "\n",
    "results = st.ttest_ind(xone['user_score'], pc['user_score'])\n",
    "\n",
    "print('p-значение:', results.pvalue)\n",
    "\n",
    "if results.pvalue < alpha:\n",
    "    print('Отвергаем нулевую гипотезу')\n",
    "else:\n",
    "    print('Не получилось отвергнуть нулевую гипотезу') "
   ]
  },
  {
   "cell_type": "markdown",
   "metadata": {},
   "source": [
    "Полученное значение p-value говорит о том, что хотя средняя оценка игр на выбранных платформах и неодинакова, это явно слишком большая вероятность, чтобы делать вывод о значимом различии между средними рейтингами. "
   ]
  },
  {
   "cell_type": "markdown",
   "metadata": {},
   "source": [
    "- Н0 - Средние пользовательские рейтинги жанров Action  и Sports одинаковые. Н1 - Средние рейтинги различаются"
   ]
  },
  {
   "cell_type": "code",
   "execution_count": 43,
   "metadata": {},
   "outputs": [
    {
     "name": "stdout",
     "output_type": "stream",
     "text": [
      "p-значение: 5.1974550252152054e-24\n",
      "Отвергаем нулевую гипотезу\n"
     ]
    }
   ],
   "source": [
    "action = actual_data.query('genre == \"Action\"')\n",
    "action = action.loc[~action['user_score'].isna()]\n",
    "\n",
    "sports = actual_data.query('genre == \"Sports\"')\n",
    "sports = sports.loc[~sports['user_score'].isna()]\n",
    "\n",
    "alpha = 0.01  # критический уровень статистической значимости\n",
    "# если p-value окажется меньше него - отвергнем гипотезу\n",
    "\n",
    "results = st.ttest_ind(action['user_score'], sports['user_score'])\n",
    "\n",
    "print('p-значение:', results.pvalue)\n",
    "\n",
    "if results.pvalue < alpha:\n",
    "    print('Отвергаем нулевую гипотезу')\n",
    "else:\n",
    "    print('Не получилось отвергнуть нулевую гипотезу') "
   ]
  },
  {
   "cell_type": "markdown",
   "metadata": {},
   "source": [
    "Вероятность низка — по наблюдаемым данным можно сделать вывод, что, скорее всего, средние рейтинги этих жанров все-таки различаются"
   ]
  },
  {
   "cell_type": "markdown",
   "metadata": {},
   "source": [
    "### Вывод\n",
    "\n",
    "Проверка гипотез показала, что скорее всего, средняя оценка игр жанров Action и Sports различается, а рейтинг игр среди пользователей платформ Xbox One и PC скорее всего одинаков"
   ]
  },
  {
   "cell_type": "markdown",
   "metadata": {},
   "source": [
    "## Вывод"
   ]
  },
  {
   "cell_type": "markdown",
   "metadata": {},
   "source": [
    "За последние годы самыми популярными в Европе и Америке являются платформы Xbox и Play Station, а в Японии 3DS.  Потенциально прибыльними жанрами по медиане продаж можно считать жанры \"Shooter\" и \"Sports\", а игры жанра \"Action\" часто становятся хитами. В разных регионах следует планировать разные кампании. \n",
    "Игроки Северной Америки играют как на PS, так и на и Xbox. Предпочитают жанры \"Action\", \"Shooter\" и \"Sports\", как и европейцы, но по данным последних лет в Европе большей популярностью пользуются игры на PS. Основную часть продаж в этих регионах составляют игры \"для взрослых\" и \"для всех\". Рынок игр в Японии значительно отличается. Здесь пользователи предпочитают  \"Action\" и \"Role-Playing\" на 3DS.\n",
    "\n",
    "Можно предположить, что для пользователей Северной Америки в 2017 году будут интересны игры:\n",
    "- жанр: \"Action\", \"Shooter\" и \"Sports\"\n",
    "- платформа: PS4 и XOne\n",
    "- рейтинг \"для взрослых\" и \"для всех\"\n",
    "\n",
    "для пользователей Европы:\n",
    "- жанр: \"Action\", \"Shooter\" и \"Sports\"\n",
    "- платформа: PS4 \n",
    "- рейтинг \"для взрослых\" и \"для всех\"\n",
    "\n",
    "для пользователей Японии:\n",
    "- жанр: \"Action\" и \"Role-Playing\"\n",
    "- платформа: 3DS "
   ]
  }
 ],
 "metadata": {
  "ExecuteTimeLog": [
   {
    "duration": 900,
    "start_time": "2021-12-13T07:36:20.726Z"
   },
   {
    "duration": 22,
    "start_time": "2021-12-13T07:36:30.160Z"
   },
   {
    "duration": 807,
    "start_time": "2021-12-14T08:31:27.017Z"
   },
   {
    "duration": 901,
    "start_time": "2021-12-14T08:31:30.091Z"
   },
   {
    "duration": 14,
    "start_time": "2021-12-14T08:31:30.995Z"
   },
   {
    "duration": 8856,
    "start_time": "2021-12-14T08:31:33.003Z"
   },
   {
    "duration": 1004,
    "start_time": "2021-12-14T08:41:40.310Z"
   },
   {
    "duration": 19,
    "start_time": "2021-12-14T08:41:41.317Z"
   },
   {
    "duration": 318089,
    "start_time": "2021-12-14T08:41:41.340Z"
   },
   {
    "duration": 12,
    "start_time": "2021-12-14T08:53:20.475Z"
   },
   {
    "duration": 717,
    "start_time": "2021-12-14T17:07:27.408Z"
   },
   {
    "duration": 10,
    "start_time": "2021-12-14T17:07:28.251Z"
   },
   {
    "duration": 3,
    "start_time": "2021-12-14T17:07:39.265Z"
   },
   {
    "duration": 3,
    "start_time": "2021-12-14T17:08:06.404Z"
   },
   {
    "duration": 5,
    "start_time": "2021-12-14T17:08:11.752Z"
   },
   {
    "duration": 18,
    "start_time": "2021-12-14T17:08:28.871Z"
   },
   {
    "duration": 325,
    "start_time": "2021-12-14T17:09:08.266Z"
   },
   {
    "duration": 380,
    "start_time": "2021-12-14T17:09:25.455Z"
   },
   {
    "duration": 7,
    "start_time": "2021-12-14T17:10:54.929Z"
   },
   {
    "duration": 13,
    "start_time": "2021-12-14T17:11:40.873Z"
   },
   {
    "duration": 333,
    "start_time": "2021-12-14T17:12:40.069Z"
   },
   {
    "duration": 12,
    "start_time": "2021-12-14T17:13:56.299Z"
   },
   {
    "duration": 290,
    "start_time": "2021-12-14T17:14:38.118Z"
   },
   {
    "duration": 277,
    "start_time": "2021-12-14T17:15:23.575Z"
   },
   {
    "duration": 8,
    "start_time": "2021-12-14T17:15:55.374Z"
   },
   {
    "duration": 13,
    "start_time": "2021-12-14T17:16:06.023Z"
   },
   {
    "duration": 20,
    "start_time": "2021-12-14T17:16:39.136Z"
   },
   {
    "duration": 273,
    "start_time": "2021-12-14T17:17:43.451Z"
   },
   {
    "duration": 8,
    "start_time": "2021-12-14T17:17:57.755Z"
   },
   {
    "duration": 19,
    "start_time": "2021-12-14T17:19:16.947Z"
   },
   {
    "duration": 9,
    "start_time": "2021-12-14T17:21:46.072Z"
   },
   {
    "duration": 7,
    "start_time": "2021-12-14T17:21:50.146Z"
   },
   {
    "duration": 7373,
    "start_time": "2021-12-14T17:22:23.939Z"
   },
   {
    "duration": 17,
    "start_time": "2021-12-14T17:22:37.374Z"
   },
   {
    "duration": 16,
    "start_time": "2021-12-14T17:22:49.702Z"
   },
   {
    "duration": 20,
    "start_time": "2021-12-14T17:23:23.300Z"
   },
   {
    "duration": 7,
    "start_time": "2021-12-14T17:23:39.131Z"
   },
   {
    "duration": 9,
    "start_time": "2021-12-14T17:23:51.650Z"
   },
   {
    "duration": 46,
    "start_time": "2021-12-14T17:24:06.112Z"
   },
   {
    "duration": 9,
    "start_time": "2021-12-14T17:24:06.518Z"
   },
   {
    "duration": 19,
    "start_time": "2021-12-14T17:24:07.006Z"
   },
   {
    "duration": 7,
    "start_time": "2021-12-14T17:24:08.254Z"
   },
   {
    "duration": 13,
    "start_time": "2021-12-14T17:24:08.808Z"
   },
   {
    "duration": 8,
    "start_time": "2021-12-14T17:24:12.200Z"
   },
   {
    "duration": 20,
    "start_time": "2021-12-14T17:24:12.865Z"
   },
   {
    "duration": 7,
    "start_time": "2021-12-14T17:24:13.920Z"
   },
   {
    "duration": 8,
    "start_time": "2021-12-14T17:24:28.058Z"
   },
   {
    "duration": 10,
    "start_time": "2021-12-14T17:24:43.467Z"
   },
   {
    "duration": 8,
    "start_time": "2021-12-14T17:25:05.283Z"
   },
   {
    "duration": 44,
    "start_time": "2021-12-14T17:25:07.869Z"
   },
   {
    "duration": 9,
    "start_time": "2021-12-14T17:25:09.262Z"
   },
   {
    "duration": 18,
    "start_time": "2021-12-14T17:25:13.550Z"
   },
   {
    "duration": 6,
    "start_time": "2021-12-14T17:25:14.372Z"
   },
   {
    "duration": 13,
    "start_time": "2021-12-14T17:25:15.284Z"
   },
   {
    "duration": 10,
    "start_time": "2021-12-14T17:25:16.441Z"
   },
   {
    "duration": 9,
    "start_time": "2021-12-14T17:25:17.948Z"
   },
   {
    "duration": 10,
    "start_time": "2021-12-14T17:25:26.963Z"
   },
   {
    "duration": 21,
    "start_time": "2021-12-14T17:25:28.196Z"
   },
   {
    "duration": 616,
    "start_time": "2021-12-14T17:25:36.063Z"
   },
   {
    "duration": 10,
    "start_time": "2021-12-14T17:25:36.681Z"
   },
   {
    "duration": 33,
    "start_time": "2021-12-14T17:25:36.693Z"
   },
   {
    "duration": 17,
    "start_time": "2021-12-14T17:25:36.728Z"
   },
   {
    "duration": 21,
    "start_time": "2021-12-14T17:25:36.747Z"
   },
   {
    "duration": 29,
    "start_time": "2021-12-14T17:25:36.770Z"
   },
   {
    "duration": 23,
    "start_time": "2021-12-14T17:25:36.801Z"
   },
   {
    "duration": 38,
    "start_time": "2021-12-14T17:25:36.826Z"
   },
   {
    "duration": 8,
    "start_time": "2021-12-14T17:25:36.865Z"
   },
   {
    "duration": 12,
    "start_time": "2021-12-14T17:25:36.875Z"
   },
   {
    "duration": 19,
    "start_time": "2021-12-14T17:26:02.942Z"
   },
   {
    "duration": 9,
    "start_time": "2021-12-14T17:26:17.794Z"
   },
   {
    "duration": 20,
    "start_time": "2021-12-14T17:26:37.607Z"
   },
   {
    "duration": 19,
    "start_time": "2021-12-14T17:28:07.901Z"
   },
   {
    "duration": 6,
    "start_time": "2021-12-14T17:30:51.834Z"
   },
   {
    "duration": 8,
    "start_time": "2021-12-14T17:31:06.799Z"
   },
   {
    "duration": 309,
    "start_time": "2021-12-14T17:34:56.487Z"
   },
   {
    "duration": 269,
    "start_time": "2021-12-14T17:36:24.024Z"
   },
   {
    "duration": 89,
    "start_time": "2021-12-14T17:39:01.038Z"
   },
   {
    "duration": 11,
    "start_time": "2021-12-14T17:39:13.249Z"
   },
   {
    "duration": 45,
    "start_time": "2021-12-14T17:40:09.357Z"
   },
   {
    "duration": 4,
    "start_time": "2021-12-14T17:40:11.526Z"
   },
   {
    "duration": 31,
    "start_time": "2021-12-14T17:40:29.497Z"
   },
   {
    "duration": 3,
    "start_time": "2021-12-14T17:40:31.294Z"
   },
   {
    "duration": 18,
    "start_time": "2021-12-14T17:40:55.696Z"
   },
   {
    "duration": 4,
    "start_time": "2021-12-14T17:40:57.037Z"
   },
   {
    "duration": 18,
    "start_time": "2021-12-14T17:41:37.188Z"
   },
   {
    "duration": 4,
    "start_time": "2021-12-14T17:41:38.242Z"
   },
   {
    "duration": 30,
    "start_time": "2021-12-14T17:43:45.943Z"
   },
   {
    "duration": 4,
    "start_time": "2021-12-14T17:43:49.340Z"
   },
   {
    "duration": 39,
    "start_time": "2021-12-14T17:44:02.589Z"
   },
   {
    "duration": 4,
    "start_time": "2021-12-14T17:44:03.680Z"
   },
   {
    "duration": 13,
    "start_time": "2021-12-14T17:44:38.984Z"
   },
   {
    "duration": 15,
    "start_time": "2021-12-14T17:45:22.466Z"
   },
   {
    "duration": 35,
    "start_time": "2021-12-14T17:46:32.818Z"
   },
   {
    "duration": 48,
    "start_time": "2021-12-14T17:46:44.307Z"
   },
   {
    "duration": 11,
    "start_time": "2021-12-14T17:46:44.357Z"
   },
   {
    "duration": 20,
    "start_time": "2021-12-14T17:46:44.370Z"
   },
   {
    "duration": 6,
    "start_time": "2021-12-14T17:46:44.392Z"
   },
   {
    "duration": 15,
    "start_time": "2021-12-14T17:46:44.400Z"
   },
   {
    "duration": 35,
    "start_time": "2021-12-14T17:46:44.417Z"
   },
   {
    "duration": 8,
    "start_time": "2021-12-14T17:46:44.454Z"
   },
   {
    "duration": 23,
    "start_time": "2021-12-14T17:46:44.464Z"
   },
   {
    "duration": 17,
    "start_time": "2021-12-14T17:46:44.489Z"
   },
   {
    "duration": 38,
    "start_time": "2021-12-14T17:46:44.508Z"
   },
   {
    "duration": 9,
    "start_time": "2021-12-14T17:46:44.547Z"
   },
   {
    "duration": 22,
    "start_time": "2021-12-14T17:46:44.557Z"
   },
   {
    "duration": 20,
    "start_time": "2021-12-14T17:48:47.426Z"
   },
   {
    "duration": 9,
    "start_time": "2021-12-14T17:48:48.421Z"
   },
   {
    "duration": 14,
    "start_time": "2021-12-14T17:48:59.485Z"
   },
   {
    "duration": 26,
    "start_time": "2021-12-14T17:49:35.238Z"
   },
   {
    "duration": 12,
    "start_time": "2021-12-14T17:49:36.764Z"
   },
   {
    "duration": 14,
    "start_time": "2021-12-14T17:49:42.921Z"
   },
   {
    "duration": 33,
    "start_time": "2021-12-14T17:53:07.893Z"
   },
   {
    "duration": 9,
    "start_time": "2021-12-14T17:53:12.503Z"
   },
   {
    "duration": 47,
    "start_time": "2021-12-14T17:53:20.026Z"
   },
   {
    "duration": 10,
    "start_time": "2021-12-14T17:53:20.075Z"
   },
   {
    "duration": 33,
    "start_time": "2021-12-14T17:53:20.087Z"
   },
   {
    "duration": 7,
    "start_time": "2021-12-14T17:53:20.121Z"
   },
   {
    "duration": 21,
    "start_time": "2021-12-14T17:53:20.129Z"
   },
   {
    "duration": 8,
    "start_time": "2021-12-14T17:53:20.152Z"
   },
   {
    "duration": 8,
    "start_time": "2021-12-14T17:53:20.162Z"
   },
   {
    "duration": 20,
    "start_time": "2021-12-14T17:53:20.172Z"
   },
   {
    "duration": 17,
    "start_time": "2021-12-14T17:53:20.194Z"
   },
   {
    "duration": 36,
    "start_time": "2021-12-14T17:53:20.212Z"
   },
   {
    "duration": 7,
    "start_time": "2021-12-14T17:53:20.249Z"
   },
   {
    "duration": 98,
    "start_time": "2021-12-14T17:53:20.258Z"
   },
   {
    "duration": 8,
    "start_time": "2021-12-14T17:53:20.358Z"
   },
   {
    "duration": 10,
    "start_time": "2021-12-14T17:53:44.384Z"
   },
   {
    "duration": 169,
    "start_time": "2021-12-14T17:54:43.049Z"
   },
   {
    "duration": 7,
    "start_time": "2021-12-14T17:55:00.824Z"
   },
   {
    "duration": 134,
    "start_time": "2021-12-14T17:56:06.830Z"
   },
   {
    "duration": 13,
    "start_time": "2021-12-14T17:56:25.906Z"
   },
   {
    "duration": 7,
    "start_time": "2021-12-14T17:57:11.777Z"
   },
   {
    "duration": 14,
    "start_time": "2021-12-14T17:58:11.430Z"
   },
   {
    "duration": 15,
    "start_time": "2021-12-14T18:00:12.635Z"
   },
   {
    "duration": 6,
    "start_time": "2021-12-14T18:01:20.247Z"
   },
   {
    "duration": 12,
    "start_time": "2021-12-14T18:01:27.210Z"
   },
   {
    "duration": 7,
    "start_time": "2021-12-14T18:01:44.958Z"
   },
   {
    "duration": 339,
    "start_time": "2021-12-14T18:05:43.984Z"
   },
   {
    "duration": 212,
    "start_time": "2021-12-15T09:46:10.683Z"
   },
   {
    "duration": 727,
    "start_time": "2021-12-16T08:43:42.979Z"
   },
   {
    "duration": 11,
    "start_time": "2021-12-16T08:43:43.708Z"
   },
   {
    "duration": 43,
    "start_time": "2021-12-16T08:43:43.721Z"
   },
   {
    "duration": 9,
    "start_time": "2021-12-16T08:43:43.766Z"
   },
   {
    "duration": 13,
    "start_time": "2021-12-16T08:43:43.777Z"
   },
   {
    "duration": 11,
    "start_time": "2021-12-16T08:43:43.791Z"
   },
   {
    "duration": 11,
    "start_time": "2021-12-16T08:43:43.803Z"
   },
   {
    "duration": 48,
    "start_time": "2021-12-16T08:43:43.816Z"
   },
   {
    "duration": 19,
    "start_time": "2021-12-16T08:43:43.867Z"
   },
   {
    "duration": 12,
    "start_time": "2021-12-16T08:43:43.888Z"
   },
   {
    "duration": 8,
    "start_time": "2021-12-16T08:43:43.902Z"
   },
   {
    "duration": 6,
    "start_time": "2021-12-16T08:43:43.911Z"
   },
   {
    "duration": 120,
    "start_time": "2021-12-16T08:43:43.919Z"
   },
   {
    "duration": 346,
    "start_time": "2021-12-16T08:43:44.041Z"
   },
   {
    "duration": 889,
    "start_time": "2021-12-16T08:43:43.500Z"
   },
   {
    "duration": 886,
    "start_time": "2021-12-16T08:43:43.504Z"
   },
   {
    "duration": 883,
    "start_time": "2021-12-16T08:43:43.508Z"
   },
   {
    "duration": 6,
    "start_time": "2021-12-16T08:45:25.659Z"
   },
   {
    "duration": 10,
    "start_time": "2021-12-16T08:45:26.731Z"
   },
   {
    "duration": 37,
    "start_time": "2021-12-16T08:45:43.741Z"
   },
   {
    "duration": 31,
    "start_time": "2021-12-16T08:46:42.373Z"
   },
   {
    "duration": 2,
    "start_time": "2021-12-16T08:46:46.173Z"
   },
   {
    "duration": 13,
    "start_time": "2021-12-16T08:46:46.653Z"
   },
   {
    "duration": 12,
    "start_time": "2021-12-16T08:46:51.166Z"
   },
   {
    "duration": 6,
    "start_time": "2021-12-16T08:52:34.191Z"
   },
   {
    "duration": 6,
    "start_time": "2021-12-16T08:52:56.055Z"
   },
   {
    "duration": 47,
    "start_time": "2021-12-16T08:53:02.239Z"
   },
   {
    "duration": 10,
    "start_time": "2021-12-16T08:53:02.551Z"
   },
   {
    "duration": 20,
    "start_time": "2021-12-16T08:53:02.814Z"
   },
   {
    "duration": 7,
    "start_time": "2021-12-16T08:53:03.063Z"
   },
   {
    "duration": 12,
    "start_time": "2021-12-16T08:53:04.143Z"
   },
   {
    "duration": 8,
    "start_time": "2021-12-16T08:53:04.583Z"
   },
   {
    "duration": 8,
    "start_time": "2021-12-16T08:53:05.879Z"
   },
   {
    "duration": 25,
    "start_time": "2021-12-16T08:53:09.703Z"
   },
   {
    "duration": 20,
    "start_time": "2021-12-16T08:53:11.430Z"
   },
   {
    "duration": 11,
    "start_time": "2021-12-16T08:53:12.639Z"
   },
   {
    "duration": 11,
    "start_time": "2021-12-16T08:53:13.463Z"
   },
   {
    "duration": 8,
    "start_time": "2021-12-16T08:53:14.647Z"
   },
   {
    "duration": 91,
    "start_time": "2021-12-16T08:54:14.337Z"
   },
   {
    "duration": 7,
    "start_time": "2021-12-16T08:54:33.347Z"
   },
   {
    "duration": 11,
    "start_time": "2021-12-16T08:56:09.091Z"
   },
   {
    "duration": 18,
    "start_time": "2021-12-16T09:02:16.541Z"
   },
   {
    "duration": 282,
    "start_time": "2021-12-16T09:03:22.991Z"
   },
   {
    "duration": 49,
    "start_time": "2021-12-16T09:03:41.170Z"
   },
   {
    "duration": 8,
    "start_time": "2021-12-16T09:03:41.221Z"
   },
   {
    "duration": 34,
    "start_time": "2021-12-16T09:03:41.231Z"
   },
   {
    "duration": 32,
    "start_time": "2021-12-16T09:03:41.267Z"
   },
   {
    "duration": 15,
    "start_time": "2021-12-16T09:03:41.301Z"
   },
   {
    "duration": 8,
    "start_time": "2021-12-16T09:03:41.317Z"
   },
   {
    "duration": 8,
    "start_time": "2021-12-16T09:03:41.327Z"
   },
   {
    "duration": 20,
    "start_time": "2021-12-16T09:03:41.336Z"
   },
   {
    "duration": 20,
    "start_time": "2021-12-16T09:03:41.358Z"
   },
   {
    "duration": 16,
    "start_time": "2021-12-16T09:03:41.380Z"
   },
   {
    "duration": 8,
    "start_time": "2021-12-16T09:03:41.398Z"
   },
   {
    "duration": 5,
    "start_time": "2021-12-16T09:03:41.407Z"
   },
   {
    "duration": 107,
    "start_time": "2021-12-16T09:03:41.414Z"
   },
   {
    "duration": 6,
    "start_time": "2021-12-16T09:03:41.522Z"
   },
   {
    "duration": 11,
    "start_time": "2021-12-16T09:03:41.529Z"
   },
   {
    "duration": 28,
    "start_time": "2021-12-16T09:03:41.541Z"
   },
   {
    "duration": 110,
    "start_time": "2021-12-16T09:03:41.571Z"
   },
   {
    "duration": 3,
    "start_time": "2021-12-16T09:03:41.683Z"
   },
   {
    "duration": 18,
    "start_time": "2021-12-16T09:03:41.688Z"
   },
   {
    "duration": 16,
    "start_time": "2021-12-16T09:05:21.227Z"
   },
   {
    "duration": 13,
    "start_time": "2021-12-16T09:05:45.859Z"
   },
   {
    "duration": 24,
    "start_time": "2021-12-16T09:06:01.467Z"
   },
   {
    "duration": 48,
    "start_time": "2021-12-16T09:07:21.863Z"
   },
   {
    "duration": 9,
    "start_time": "2021-12-16T09:07:21.913Z"
   },
   {
    "duration": 26,
    "start_time": "2021-12-16T09:07:21.924Z"
   },
   {
    "duration": 28,
    "start_time": "2021-12-16T09:07:21.951Z"
   },
   {
    "duration": 24,
    "start_time": "2021-12-16T09:07:21.980Z"
   },
   {
    "duration": 30,
    "start_time": "2021-12-16T09:07:22.005Z"
   },
   {
    "duration": 21,
    "start_time": "2021-12-16T09:07:22.037Z"
   },
   {
    "duration": 40,
    "start_time": "2021-12-16T09:07:22.059Z"
   },
   {
    "duration": 25,
    "start_time": "2021-12-16T09:07:34.957Z"
   },
   {
    "duration": 13,
    "start_time": "2021-12-16T09:07:52.823Z"
   },
   {
    "duration": 8,
    "start_time": "2021-12-16T09:08:19.447Z"
   },
   {
    "duration": 20,
    "start_time": "2021-12-16T09:08:28.767Z"
   },
   {
    "duration": 7,
    "start_time": "2021-12-16T09:13:24.439Z"
   },
   {
    "duration": 267,
    "start_time": "2021-12-16T09:14:25.513Z"
   },
   {
    "duration": 49,
    "start_time": "2021-12-16T09:14:41.841Z"
   },
   {
    "duration": 11,
    "start_time": "2021-12-16T09:14:41.892Z"
   },
   {
    "duration": 20,
    "start_time": "2021-12-16T09:14:41.904Z"
   },
   {
    "duration": 11,
    "start_time": "2021-12-16T09:14:41.926Z"
   },
   {
    "duration": 31,
    "start_time": "2021-12-16T09:14:41.939Z"
   },
   {
    "duration": 7,
    "start_time": "2021-12-16T09:14:41.972Z"
   },
   {
    "duration": 11,
    "start_time": "2021-12-16T09:14:41.981Z"
   },
   {
    "duration": 7,
    "start_time": "2021-12-16T09:14:41.995Z"
   },
   {
    "duration": 264,
    "start_time": "2021-12-16T09:14:42.004Z"
   },
   {
    "duration": 29,
    "start_time": "2021-12-16T09:16:30.475Z"
   },
   {
    "duration": 270,
    "start_time": "2021-12-16T09:17:14.220Z"
   },
   {
    "duration": 4,
    "start_time": "2021-12-16T09:17:18.301Z"
   },
   {
    "duration": 278,
    "start_time": "2021-12-16T09:17:18.925Z"
   },
   {
    "duration": 47,
    "start_time": "2021-12-16T09:17:22.864Z"
   },
   {
    "duration": 10,
    "start_time": "2021-12-16T09:17:22.913Z"
   },
   {
    "duration": 20,
    "start_time": "2021-12-16T09:17:22.925Z"
   },
   {
    "duration": 21,
    "start_time": "2021-12-16T09:17:22.947Z"
   },
   {
    "duration": 14,
    "start_time": "2021-12-16T09:17:22.970Z"
   },
   {
    "duration": 10,
    "start_time": "2021-12-16T09:17:22.985Z"
   },
   {
    "duration": 10,
    "start_time": "2021-12-16T09:17:22.996Z"
   },
   {
    "duration": 5,
    "start_time": "2021-12-16T09:17:23.008Z"
   },
   {
    "duration": 270,
    "start_time": "2021-12-16T09:17:23.016Z"
   },
   {
    "duration": 6,
    "start_time": "2021-12-16T09:17:39.045Z"
   },
   {
    "duration": 4,
    "start_time": "2021-12-16T09:18:21.949Z"
   },
   {
    "duration": 7,
    "start_time": "2021-12-16T09:18:22.461Z"
   },
   {
    "duration": 7,
    "start_time": "2021-12-16T09:18:32.431Z"
   },
   {
    "duration": 20,
    "start_time": "2021-12-16T09:19:20.129Z"
   },
   {
    "duration": 27,
    "start_time": "2021-12-16T09:19:28.639Z"
   },
   {
    "duration": 30,
    "start_time": "2021-12-16T09:20:47.938Z"
   },
   {
    "duration": 24,
    "start_time": "2021-12-16T09:22:38.973Z"
   },
   {
    "duration": 46,
    "start_time": "2021-12-16T09:27:09.457Z"
   },
   {
    "duration": 9,
    "start_time": "2021-12-16T09:27:09.505Z"
   },
   {
    "duration": 10,
    "start_time": "2021-12-16T09:27:09.516Z"
   },
   {
    "duration": 5,
    "start_time": "2021-12-16T09:27:27.485Z"
   },
   {
    "duration": 11,
    "start_time": "2021-12-16T09:28:37.549Z"
   },
   {
    "duration": 9,
    "start_time": "2021-12-16T09:28:38.021Z"
   },
   {
    "duration": 6,
    "start_time": "2021-12-16T09:28:41.493Z"
   },
   {
    "duration": 10,
    "start_time": "2021-12-16T09:28:53.543Z"
   },
   {
    "duration": 11,
    "start_time": "2021-12-16T09:29:44.383Z"
   },
   {
    "duration": 4,
    "start_time": "2021-12-16T11:54:24.649Z"
   },
   {
    "duration": 258,
    "start_time": "2021-12-16T11:54:39.984Z"
   },
   {
    "duration": 20,
    "start_time": "2021-12-16T11:54:47.409Z"
   },
   {
    "duration": 296,
    "start_time": "2021-12-16T11:55:56.459Z"
   },
   {
    "duration": 12,
    "start_time": "2021-12-16T12:00:08.576Z"
   },
   {
    "duration": 32,
    "start_time": "2021-12-16T12:00:13.834Z"
   },
   {
    "duration": 11,
    "start_time": "2021-12-16T12:00:17.058Z"
   },
   {
    "duration": 10,
    "start_time": "2021-12-16T12:00:21.048Z"
   },
   {
    "duration": 20,
    "start_time": "2021-12-16T12:00:23.130Z"
   },
   {
    "duration": 309,
    "start_time": "2021-12-16T12:02:01.493Z"
   },
   {
    "duration": 37,
    "start_time": "2021-12-16T12:02:10.835Z"
   },
   {
    "duration": 19,
    "start_time": "2021-12-16T12:03:00.486Z"
   },
   {
    "duration": 259,
    "start_time": "2021-12-16T12:04:00.654Z"
   },
   {
    "duration": 11,
    "start_time": "2021-12-16T12:04:06.377Z"
   },
   {
    "duration": 4,
    "start_time": "2021-12-16T12:04:08.006Z"
   },
   {
    "duration": 21,
    "start_time": "2021-12-16T12:04:49.816Z"
   },
   {
    "duration": 33,
    "start_time": "2021-12-16T12:05:07.008Z"
   },
   {
    "duration": 14,
    "start_time": "2021-12-16T12:08:07.683Z"
   },
   {
    "duration": 7542,
    "start_time": "2021-12-16T12:09:29.640Z"
   },
   {
    "duration": 8,
    "start_time": "2021-12-16T12:10:26.424Z"
   },
   {
    "duration": 9,
    "start_time": "2021-12-16T12:11:04.210Z"
   },
   {
    "duration": 12,
    "start_time": "2021-12-16T12:12:35.148Z"
   },
   {
    "duration": 7,
    "start_time": "2021-12-16T12:17:38.076Z"
   },
   {
    "duration": 8,
    "start_time": "2021-12-16T12:20:02.935Z"
   },
   {
    "duration": 50,
    "start_time": "2021-12-16T12:20:18.992Z"
   },
   {
    "duration": 10,
    "start_time": "2021-12-16T12:20:19.044Z"
   },
   {
    "duration": 10,
    "start_time": "2021-12-16T12:20:19.056Z"
   },
   {
    "duration": 4,
    "start_time": "2021-12-16T12:20:19.068Z"
   },
   {
    "duration": 12,
    "start_time": "2021-12-16T12:20:19.073Z"
   },
   {
    "duration": 14,
    "start_time": "2021-12-16T12:20:19.087Z"
   },
   {
    "duration": 16,
    "start_time": "2021-12-16T12:20:19.103Z"
   },
   {
    "duration": 10,
    "start_time": "2021-12-16T12:20:19.121Z"
   },
   {
    "duration": 34,
    "start_time": "2021-12-16T12:20:19.133Z"
   },
   {
    "duration": 21,
    "start_time": "2021-12-16T12:20:30.073Z"
   },
   {
    "duration": 342,
    "start_time": "2021-12-16T12:20:43.337Z"
   },
   {
    "duration": 180,
    "start_time": "2021-12-16T12:21:01.833Z"
   },
   {
    "duration": 29,
    "start_time": "2021-12-16T12:23:14.327Z"
   },
   {
    "duration": 268,
    "start_time": "2021-12-16T12:23:54.350Z"
   },
   {
    "duration": 98,
    "start_time": "2021-12-16T12:24:00.788Z"
   },
   {
    "duration": 36,
    "start_time": "2021-12-16T12:24:05.244Z"
   },
   {
    "duration": 14,
    "start_time": "2021-12-16T12:25:02.902Z"
   },
   {
    "duration": 257,
    "start_time": "2021-12-16T12:26:21.451Z"
   },
   {
    "duration": 33,
    "start_time": "2021-12-16T12:26:25.552Z"
   },
   {
    "duration": 6963,
    "start_time": "2021-12-16T12:26:31.841Z"
   },
   {
    "duration": 6638,
    "start_time": "2021-12-16T12:26:53.698Z"
   },
   {
    "duration": 7801,
    "start_time": "2021-12-16T12:28:39.356Z"
   },
   {
    "duration": 3,
    "start_time": "2021-12-16T12:29:52.062Z"
   },
   {
    "duration": 281,
    "start_time": "2021-12-16T12:29:53.134Z"
   },
   {
    "duration": 270,
    "start_time": "2021-12-16T12:30:08.694Z"
   },
   {
    "duration": 292,
    "start_time": "2021-12-16T12:30:09.256Z"
   },
   {
    "duration": 11,
    "start_time": "2021-12-16T12:30:16.553Z"
   },
   {
    "duration": 169,
    "start_time": "2021-12-16T12:30:17.352Z"
   },
   {
    "duration": 22,
    "start_time": "2021-12-16T13:02:31.463Z"
   },
   {
    "duration": 30,
    "start_time": "2021-12-16T13:21:48.253Z"
   },
   {
    "duration": 39,
    "start_time": "2021-12-16T13:22:21.787Z"
   },
   {
    "duration": 48,
    "start_time": "2021-12-16T13:42:24.017Z"
   },
   {
    "duration": 11,
    "start_time": "2021-12-16T13:42:24.067Z"
   },
   {
    "duration": 10,
    "start_time": "2021-12-16T13:42:24.080Z"
   },
   {
    "duration": 16,
    "start_time": "2021-12-16T13:42:24.092Z"
   },
   {
    "duration": 6,
    "start_time": "2021-12-16T13:42:24.110Z"
   },
   {
    "duration": 14,
    "start_time": "2021-12-16T13:42:24.118Z"
   },
   {
    "duration": 36,
    "start_time": "2021-12-16T13:42:24.134Z"
   },
   {
    "duration": 11,
    "start_time": "2021-12-16T13:42:24.172Z"
   },
   {
    "duration": 38,
    "start_time": "2021-12-16T13:43:05.992Z"
   },
   {
    "duration": 38,
    "start_time": "2021-12-16T13:43:24.275Z"
   },
   {
    "duration": 272,
    "start_time": "2021-12-16T13:43:56.165Z"
   },
   {
    "duration": 6460,
    "start_time": "2021-12-16T13:44:21.094Z"
   },
   {
    "duration": 172,
    "start_time": "2021-12-16T13:44:33.910Z"
   },
   {
    "duration": 13,
    "start_time": "2021-12-16T13:45:36.596Z"
   },
   {
    "duration": 22,
    "start_time": "2021-12-16T13:45:41.299Z"
   },
   {
    "duration": 233,
    "start_time": "2021-12-16T13:45:57.030Z"
   },
   {
    "duration": 20,
    "start_time": "2021-12-16T13:46:59.578Z"
   },
   {
    "duration": 176,
    "start_time": "2021-12-16T13:47:03.145Z"
   },
   {
    "duration": 171,
    "start_time": "2021-12-16T13:50:15.345Z"
   },
   {
    "duration": 21,
    "start_time": "2021-12-16T13:54:27.922Z"
   },
   {
    "duration": 36,
    "start_time": "2021-12-16T13:55:03.096Z"
   },
   {
    "duration": 20,
    "start_time": "2021-12-16T13:55:05.353Z"
   },
   {
    "duration": 169,
    "start_time": "2021-12-16T13:55:16.375Z"
   },
   {
    "duration": 169,
    "start_time": "2021-12-16T13:55:36.013Z"
   },
   {
    "duration": 164,
    "start_time": "2021-12-16T13:55:54.320Z"
   },
   {
    "duration": 39,
    "start_time": "2021-12-16T13:56:46.268Z"
   },
   {
    "duration": 18,
    "start_time": "2021-12-16T13:57:43.377Z"
   },
   {
    "duration": 171,
    "start_time": "2021-12-16T13:58:03.621Z"
   },
   {
    "duration": 171,
    "start_time": "2021-12-16T13:58:09.839Z"
   },
   {
    "duration": 6,
    "start_time": "2021-12-16T16:53:37.197Z"
   },
   {
    "duration": 167,
    "start_time": "2021-12-16T16:54:07.982Z"
   },
   {
    "duration": 8,
    "start_time": "2021-12-16T16:55:13.672Z"
   },
   {
    "duration": 13,
    "start_time": "2021-12-16T16:55:59.724Z"
   },
   {
    "duration": 8,
    "start_time": "2021-12-16T17:13:31.611Z"
   },
   {
    "duration": 15,
    "start_time": "2021-12-16T17:13:39.034Z"
   },
   {
    "duration": 14,
    "start_time": "2021-12-16T17:13:51.316Z"
   },
   {
    "duration": 648,
    "start_time": "2021-12-16T17:26:18.122Z"
   },
   {
    "duration": 714,
    "start_time": "2021-12-16T17:26:27.226Z"
   },
   {
    "duration": 324,
    "start_time": "2021-12-16T17:26:51.550Z"
   },
   {
    "duration": 33,
    "start_time": "2021-12-16T17:32:05.212Z"
   },
   {
    "duration": 34,
    "start_time": "2021-12-16T17:32:34.101Z"
   },
   {
    "duration": 7308,
    "start_time": "2021-12-16T17:34:00.499Z"
   },
   {
    "duration": 172,
    "start_time": "2021-12-16T17:34:21.333Z"
   },
   {
    "duration": 582,
    "start_time": "2021-12-16T17:35:15.637Z"
   },
   {
    "duration": 746,
    "start_time": "2021-12-16T17:35:32.588Z"
   },
   {
    "duration": 10,
    "start_time": "2021-12-16T17:39:03.193Z"
   },
   {
    "duration": 248,
    "start_time": "2021-12-16T17:39:32.111Z"
   },
   {
    "duration": 420,
    "start_time": "2021-12-16T17:39:59.200Z"
   },
   {
    "duration": 485,
    "start_time": "2021-12-16T17:40:07.155Z"
   },
   {
    "duration": 522,
    "start_time": "2021-12-16T17:40:15.339Z"
   },
   {
    "duration": 10,
    "start_time": "2021-12-16T17:40:41.574Z"
   },
   {
    "duration": 7,
    "start_time": "2021-12-16T17:41:05.949Z"
   },
   {
    "duration": 9,
    "start_time": "2021-12-16T17:41:13.283Z"
   },
   {
    "duration": 10,
    "start_time": "2021-12-16T17:41:29.883Z"
   },
   {
    "duration": 387,
    "start_time": "2021-12-16T17:42:38.323Z"
   },
   {
    "duration": 16,
    "start_time": "2021-12-16T17:45:22.596Z"
   },
   {
    "duration": 11,
    "start_time": "2021-12-16T17:45:37.582Z"
   },
   {
    "duration": 37,
    "start_time": "2021-12-16T17:45:39.669Z"
   },
   {
    "duration": 315,
    "start_time": "2021-12-16T17:45:42.881Z"
   },
   {
    "duration": 17,
    "start_time": "2021-12-16T17:46:30.829Z"
   },
   {
    "duration": 20,
    "start_time": "2021-12-16T17:47:01.888Z"
   },
   {
    "duration": 32,
    "start_time": "2021-12-16T17:47:50.422Z"
   },
   {
    "duration": 27,
    "start_time": "2021-12-16T17:48:59.137Z"
   },
   {
    "duration": 31,
    "start_time": "2021-12-16T17:50:30.583Z"
   },
   {
    "duration": 14,
    "start_time": "2021-12-16T17:51:42.726Z"
   },
   {
    "duration": 48,
    "start_time": "2021-12-16T17:52:00.262Z"
   },
   {
    "duration": 9,
    "start_time": "2021-12-16T17:52:00.312Z"
   },
   {
    "duration": 22,
    "start_time": "2021-12-16T17:52:00.324Z"
   },
   {
    "duration": 32,
    "start_time": "2021-12-16T17:52:00.348Z"
   },
   {
    "duration": 32,
    "start_time": "2021-12-16T17:52:00.381Z"
   },
   {
    "duration": 46,
    "start_time": "2021-12-16T17:52:00.414Z"
   },
   {
    "duration": 16,
    "start_time": "2021-12-16T17:52:00.462Z"
   },
   {
    "duration": 19,
    "start_time": "2021-12-16T17:52:00.480Z"
   },
   {
    "duration": 38,
    "start_time": "2021-12-16T17:52:00.501Z"
   },
   {
    "duration": 37,
    "start_time": "2021-12-16T17:52:00.540Z"
   },
   {
    "duration": 12,
    "start_time": "2021-12-16T17:52:00.579Z"
   },
   {
    "duration": 189,
    "start_time": "2021-12-16T17:52:00.593Z"
   },
   {
    "duration": 181,
    "start_time": "2021-12-16T17:52:00.784Z"
   },
   {
    "duration": 13,
    "start_time": "2021-12-16T17:52:00.967Z"
   },
   {
    "duration": 14,
    "start_time": "2021-12-16T17:52:32.919Z"
   },
   {
    "duration": 253,
    "start_time": "2021-12-16T17:55:09.549Z"
   },
   {
    "duration": 15,
    "start_time": "2021-12-16T17:56:55.343Z"
   },
   {
    "duration": 39,
    "start_time": "2021-12-16T17:57:17.098Z"
   },
   {
    "duration": 282,
    "start_time": "2021-12-16T17:57:30.355Z"
   },
   {
    "duration": 111,
    "start_time": "2021-12-16T17:58:10.613Z"
   },
   {
    "duration": 18,
    "start_time": "2021-12-16T17:58:24.917Z"
   },
   {
    "duration": 297,
    "start_time": "2021-12-16T17:58:37.367Z"
   },
   {
    "duration": 40,
    "start_time": "2021-12-16T17:59:01.556Z"
   },
   {
    "duration": 17,
    "start_time": "2021-12-16T17:59:07.976Z"
   },
   {
    "duration": 17,
    "start_time": "2021-12-16T17:59:41.597Z"
   },
   {
    "duration": 14,
    "start_time": "2021-12-16T17:59:55.824Z"
   },
   {
    "duration": 18,
    "start_time": "2021-12-16T17:59:59.412Z"
   },
   {
    "duration": 30,
    "start_time": "2021-12-16T18:00:29.990Z"
   },
   {
    "duration": 7,
    "start_time": "2021-12-16T18:01:50.343Z"
   },
   {
    "duration": 26,
    "start_time": "2021-12-16T18:01:51.303Z"
   },
   {
    "duration": 45,
    "start_time": "2021-12-16T18:01:58.605Z"
   },
   {
    "duration": 40,
    "start_time": "2021-12-16T18:02:38.952Z"
   },
   {
    "duration": 584,
    "start_time": "2021-12-16T18:03:27.667Z"
   },
   {
    "duration": 32,
    "start_time": "2021-12-16T18:10:27.306Z"
   },
   {
    "duration": 35,
    "start_time": "2021-12-16T18:11:08.536Z"
   },
   {
    "duration": 48,
    "start_time": "2021-12-16T18:11:15.444Z"
   },
   {
    "duration": 10,
    "start_time": "2021-12-16T18:11:15.494Z"
   },
   {
    "duration": 13,
    "start_time": "2021-12-16T18:11:15.506Z"
   },
   {
    "duration": 7,
    "start_time": "2021-12-16T18:11:15.521Z"
   },
   {
    "duration": 10,
    "start_time": "2021-12-16T18:11:15.530Z"
   },
   {
    "duration": 33,
    "start_time": "2021-12-16T18:11:15.542Z"
   },
   {
    "duration": 13,
    "start_time": "2021-12-16T18:11:15.577Z"
   },
   {
    "duration": 15,
    "start_time": "2021-12-16T18:11:15.591Z"
   },
   {
    "duration": 22,
    "start_time": "2021-12-16T18:11:15.609Z"
   },
   {
    "duration": 58,
    "start_time": "2021-12-16T18:11:15.632Z"
   },
   {
    "duration": 42,
    "start_time": "2021-12-16T18:11:39.165Z"
   },
   {
    "duration": 44,
    "start_time": "2021-12-16T18:11:50.437Z"
   },
   {
    "duration": 37,
    "start_time": "2021-12-16T18:12:38.722Z"
   },
   {
    "duration": 12,
    "start_time": "2021-12-16T18:12:40.360Z"
   },
   {
    "duration": 9,
    "start_time": "2021-12-16T18:13:12.686Z"
   },
   {
    "duration": 13,
    "start_time": "2021-12-16T18:13:32.504Z"
   },
   {
    "duration": 10,
    "start_time": "2021-12-16T18:13:41.013Z"
   },
   {
    "duration": 13,
    "start_time": "2021-12-16T18:13:53.743Z"
   },
   {
    "duration": 84,
    "start_time": "2021-12-16T18:15:24.799Z"
   },
   {
    "duration": 11,
    "start_time": "2021-12-16T18:15:36.651Z"
   },
   {
    "duration": 29,
    "start_time": "2021-12-16T18:16:09.491Z"
   },
   {
    "duration": 48,
    "start_time": "2021-12-16T18:16:38.946Z"
   },
   {
    "duration": 14,
    "start_time": "2021-12-16T18:16:38.997Z"
   },
   {
    "duration": 15,
    "start_time": "2021-12-16T18:16:39.014Z"
   },
   {
    "duration": 33,
    "start_time": "2021-12-16T18:16:39.032Z"
   },
   {
    "duration": 7,
    "start_time": "2021-12-16T18:16:39.067Z"
   },
   {
    "duration": 17,
    "start_time": "2021-12-16T18:16:39.076Z"
   },
   {
    "duration": 16,
    "start_time": "2021-12-16T18:16:39.095Z"
   },
   {
    "duration": 12,
    "start_time": "2021-12-16T18:16:39.113Z"
   },
   {
    "duration": 56,
    "start_time": "2021-12-16T18:16:39.127Z"
   },
   {
    "duration": 35,
    "start_time": "2021-12-16T18:16:39.184Z"
   },
   {
    "duration": 9,
    "start_time": "2021-12-16T18:16:39.221Z"
   },
   {
    "duration": 29,
    "start_time": "2021-12-16T18:17:06.890Z"
   },
   {
    "duration": 7,
    "start_time": "2021-12-16T18:18:12.134Z"
   },
   {
    "duration": 50,
    "start_time": "2021-12-16T18:18:20.394Z"
   },
   {
    "duration": 10,
    "start_time": "2021-12-16T18:18:20.446Z"
   },
   {
    "duration": 12,
    "start_time": "2021-12-16T18:18:20.458Z"
   },
   {
    "duration": 5,
    "start_time": "2021-12-16T18:18:20.472Z"
   },
   {
    "duration": 11,
    "start_time": "2021-12-16T18:18:20.478Z"
   },
   {
    "duration": 26,
    "start_time": "2021-12-16T18:18:20.490Z"
   },
   {
    "duration": 16,
    "start_time": "2021-12-16T18:18:20.518Z"
   },
   {
    "duration": 11,
    "start_time": "2021-12-16T18:18:20.536Z"
   },
   {
    "duration": 19,
    "start_time": "2021-12-16T18:18:20.550Z"
   },
   {
    "duration": 36,
    "start_time": "2021-12-16T18:18:20.570Z"
   },
   {
    "duration": 10,
    "start_time": "2021-12-16T18:18:20.608Z"
   },
   {
    "duration": 16,
    "start_time": "2021-12-16T18:18:30.675Z"
   },
   {
    "duration": 29,
    "start_time": "2021-12-16T18:18:40.261Z"
   },
   {
    "duration": 11,
    "start_time": "2021-12-16T18:18:45.992Z"
   },
   {
    "duration": 161,
    "start_time": "2021-12-16T18:18:57.088Z"
   },
   {
    "duration": 168,
    "start_time": "2021-12-16T18:19:05.615Z"
   },
   {
    "duration": 172,
    "start_time": "2021-12-16T18:19:42.556Z"
   },
   {
    "duration": 9,
    "start_time": "2021-12-16T18:19:43.751Z"
   },
   {
    "duration": 16,
    "start_time": "2021-12-16T18:19:46.862Z"
   },
   {
    "duration": 24,
    "start_time": "2021-12-16T18:19:52.255Z"
   },
   {
    "duration": 236,
    "start_time": "2021-12-16T18:25:36.240Z"
   },
   {
    "duration": 13,
    "start_time": "2021-12-16T18:32:05.524Z"
   },
   {
    "duration": 6,
    "start_time": "2021-12-16T18:33:34.703Z"
   },
   {
    "duration": 7,
    "start_time": "2021-12-16T18:34:02.377Z"
   },
   {
    "duration": 8,
    "start_time": "2021-12-16T18:34:28.088Z"
   },
   {
    "duration": 8,
    "start_time": "2021-12-16T18:34:51.040Z"
   },
   {
    "duration": 47,
    "start_time": "2021-12-16T18:35:19.570Z"
   },
   {
    "duration": 10,
    "start_time": "2021-12-16T18:35:19.619Z"
   },
   {
    "duration": 9,
    "start_time": "2021-12-16T18:35:19.631Z"
   },
   {
    "duration": 5,
    "start_time": "2021-12-16T18:35:19.642Z"
   },
   {
    "duration": 18,
    "start_time": "2021-12-16T18:35:19.649Z"
   },
   {
    "duration": 13,
    "start_time": "2021-12-16T18:35:19.669Z"
   },
   {
    "duration": 14,
    "start_time": "2021-12-16T18:35:19.684Z"
   },
   {
    "duration": 10,
    "start_time": "2021-12-16T18:35:19.700Z"
   },
   {
    "duration": 7,
    "start_time": "2021-12-16T18:35:19.712Z"
   },
   {
    "duration": 258,
    "start_time": "2021-12-16T18:37:51.361Z"
   },
   {
    "duration": 49,
    "start_time": "2021-12-16T18:38:14.267Z"
   },
   {
    "duration": 9,
    "start_time": "2021-12-16T18:38:14.317Z"
   },
   {
    "duration": 9,
    "start_time": "2021-12-16T18:38:14.328Z"
   },
   {
    "duration": 5,
    "start_time": "2021-12-16T18:38:14.339Z"
   },
   {
    "duration": 23,
    "start_time": "2021-12-16T18:38:14.345Z"
   },
   {
    "duration": 12,
    "start_time": "2021-12-16T18:38:14.370Z"
   },
   {
    "duration": 15,
    "start_time": "2021-12-16T18:38:14.383Z"
   },
   {
    "duration": 10,
    "start_time": "2021-12-16T18:38:14.401Z"
   },
   {
    "duration": 6,
    "start_time": "2021-12-16T18:38:14.413Z"
   },
   {
    "duration": 51,
    "start_time": "2021-12-16T18:38:14.421Z"
   },
   {
    "duration": 28,
    "start_time": "2021-12-16T18:38:14.474Z"
   },
   {
    "duration": 8,
    "start_time": "2021-12-16T18:38:14.503Z"
   },
   {
    "duration": 238,
    "start_time": "2021-12-16T18:38:14.512Z"
   },
   {
    "duration": 189,
    "start_time": "2021-12-16T18:38:14.752Z"
   },
   {
    "duration": 8,
    "start_time": "2021-12-16T18:38:14.943Z"
   },
   {
    "duration": 21,
    "start_time": "2021-12-16T18:38:14.952Z"
   },
   {
    "duration": 20,
    "start_time": "2021-12-16T18:38:14.975Z"
   },
   {
    "duration": 23,
    "start_time": "2021-12-16T18:38:14.997Z"
   },
   {
    "duration": 336,
    "start_time": "2021-12-16T18:38:15.022Z"
   },
   {
    "duration": 12,
    "start_time": "2021-12-16T18:38:15.363Z"
   },
   {
    "duration": 618,
    "start_time": "2021-12-16T18:38:15.376Z"
   },
   {
    "duration": 19,
    "start_time": "2021-12-16T18:38:36.455Z"
   },
   {
    "duration": 27,
    "start_time": "2021-12-16T18:39:05.886Z"
   },
   {
    "duration": 80,
    "start_time": "2021-12-16T18:41:10.617Z"
   },
   {
    "duration": 23,
    "start_time": "2021-12-16T18:41:54.435Z"
   },
   {
    "duration": 510,
    "start_time": "2021-12-16T18:42:35.871Z"
   },
   {
    "duration": 255,
    "start_time": "2021-12-16T18:43:59.784Z"
   },
   {
    "duration": 23,
    "start_time": "2021-12-16T18:45:12.561Z"
   },
   {
    "duration": 6245,
    "start_time": "2021-12-16T18:45:56.092Z"
   },
   {
    "duration": 3,
    "start_time": "2021-12-16T18:46:32.984Z"
   },
   {
    "duration": 4,
    "start_time": "2021-12-16T18:46:42.731Z"
   },
   {
    "duration": 23,
    "start_time": "2021-12-16T18:47:02.137Z"
   },
   {
    "duration": 3,
    "start_time": "2021-12-16T18:47:02.897Z"
   },
   {
    "duration": 6633,
    "start_time": "2021-12-16T18:47:06.810Z"
   },
   {
    "duration": 4,
    "start_time": "2021-12-16T18:47:37.339Z"
   },
   {
    "duration": 383,
    "start_time": "2021-12-16T18:47:41.464Z"
   },
   {
    "duration": 24,
    "start_time": "2021-12-16T18:48:35.711Z"
   },
   {
    "duration": 5,
    "start_time": "2021-12-16T18:48:37.034Z"
   },
   {
    "duration": 507,
    "start_time": "2021-12-16T18:48:39.298Z"
   },
   {
    "duration": 25,
    "start_time": "2021-12-16T18:52:26.905Z"
   },
   {
    "duration": 23,
    "start_time": "2021-12-16T18:52:29.508Z"
   },
   {
    "duration": 5,
    "start_time": "2021-12-16T18:52:31.818Z"
   },
   {
    "duration": 402,
    "start_time": "2021-12-16T18:52:35.172Z"
   },
   {
    "duration": 397,
    "start_time": "2021-12-16T18:52:46.006Z"
   },
   {
    "duration": 319,
    "start_time": "2021-12-17T07:39:06.118Z"
   },
   {
    "duration": 625,
    "start_time": "2021-12-17T07:39:12.360Z"
   },
   {
    "duration": 9,
    "start_time": "2021-12-17T07:39:12.987Z"
   },
   {
    "duration": 9,
    "start_time": "2021-12-17T07:39:12.998Z"
   },
   {
    "duration": 4,
    "start_time": "2021-12-17T07:39:13.009Z"
   },
   {
    "duration": 8,
    "start_time": "2021-12-17T07:39:13.014Z"
   },
   {
    "duration": 12,
    "start_time": "2021-12-17T07:39:13.024Z"
   },
   {
    "duration": 12,
    "start_time": "2021-12-17T07:39:13.037Z"
   },
   {
    "duration": 37,
    "start_time": "2021-12-17T07:39:13.051Z"
   },
   {
    "duration": 6,
    "start_time": "2021-12-17T07:39:13.090Z"
   },
   {
    "duration": 15,
    "start_time": "2021-12-17T07:39:13.097Z"
   },
   {
    "duration": 25,
    "start_time": "2021-12-17T07:39:13.114Z"
   },
   {
    "duration": 8,
    "start_time": "2021-12-17T07:39:13.140Z"
   },
   {
    "duration": 240,
    "start_time": "2021-12-17T07:39:13.149Z"
   },
   {
    "duration": 162,
    "start_time": "2021-12-17T07:39:13.390Z"
   },
   {
    "duration": 7,
    "start_time": "2021-12-17T07:39:13.554Z"
   },
   {
    "duration": 26,
    "start_time": "2021-12-17T07:39:13.562Z"
   },
   {
    "duration": 21,
    "start_time": "2021-12-17T07:39:13.590Z"
   },
   {
    "duration": 20,
    "start_time": "2021-12-17T07:39:13.613Z"
   },
   {
    "duration": 292,
    "start_time": "2021-12-17T07:39:13.635Z"
   },
   {
    "duration": 3046,
    "start_time": "2021-12-17T07:39:10.883Z"
   },
   {
    "duration": 3044,
    "start_time": "2021-12-17T07:39:10.886Z"
   },
   {
    "duration": 3044,
    "start_time": "2021-12-17T07:39:10.888Z"
   },
   {
    "duration": 3041,
    "start_time": "2021-12-17T07:39:10.892Z"
   },
   {
    "duration": 3040,
    "start_time": "2021-12-17T07:39:10.894Z"
   },
   {
    "duration": 11,
    "start_time": "2021-12-17T07:39:23.694Z"
   },
   {
    "duration": 18,
    "start_time": "2021-12-17T07:39:24.694Z"
   },
   {
    "duration": 24,
    "start_time": "2021-12-17T07:39:25.766Z"
   },
   {
    "duration": 4,
    "start_time": "2021-12-17T07:39:26.558Z"
   },
   {
    "duration": 443,
    "start_time": "2021-12-17T07:39:27.214Z"
   },
   {
    "duration": 366,
    "start_time": "2021-12-17T07:39:44.462Z"
   },
   {
    "duration": 376,
    "start_time": "2021-12-17T07:39:52.214Z"
   },
   {
    "duration": 62,
    "start_time": "2021-12-17T07:42:26.380Z"
   },
   {
    "duration": 629,
    "start_time": "2021-12-17T07:43:14.590Z"
   },
   {
    "duration": 368,
    "start_time": "2021-12-17T07:43:23.308Z"
   },
   {
    "duration": 372,
    "start_time": "2021-12-17T07:43:41.652Z"
   },
   {
    "duration": 78,
    "start_time": "2021-12-17T07:45:57.760Z"
   },
   {
    "duration": 423,
    "start_time": "2021-12-17T07:46:02.896Z"
   },
   {
    "duration": 361,
    "start_time": "2021-12-17T07:46:18.872Z"
   },
   {
    "duration": 476,
    "start_time": "2021-12-17T09:30:36.465Z"
   },
   {
    "duration": 334,
    "start_time": "2021-12-17T09:52:45.345Z"
   },
   {
    "duration": 58,
    "start_time": "2021-12-17T09:53:04.688Z"
   },
   {
    "duration": 15,
    "start_time": "2021-12-17T09:53:04.749Z"
   },
   {
    "duration": 31,
    "start_time": "2021-12-17T09:53:04.767Z"
   },
   {
    "duration": 4,
    "start_time": "2021-12-17T09:53:04.801Z"
   },
   {
    "duration": 18,
    "start_time": "2021-12-17T09:53:04.807Z"
   },
   {
    "duration": 23,
    "start_time": "2021-12-17T09:53:04.827Z"
   },
   {
    "duration": 36,
    "start_time": "2021-12-17T09:53:04.853Z"
   },
   {
    "duration": 12,
    "start_time": "2021-12-17T09:53:04.893Z"
   },
   {
    "duration": 13,
    "start_time": "2021-12-17T09:53:04.907Z"
   },
   {
    "duration": 22,
    "start_time": "2021-12-17T09:53:04.922Z"
   },
   {
    "duration": 58,
    "start_time": "2021-12-17T09:53:04.946Z"
   },
   {
    "duration": 11,
    "start_time": "2021-12-17T09:53:05.006Z"
   },
   {
    "duration": 191,
    "start_time": "2021-12-17T09:53:05.019Z"
   },
   {
    "duration": 196,
    "start_time": "2021-12-17T09:53:05.211Z"
   },
   {
    "duration": 8,
    "start_time": "2021-12-17T09:53:05.408Z"
   },
   {
    "duration": 16,
    "start_time": "2021-12-17T09:53:05.417Z"
   },
   {
    "duration": 22,
    "start_time": "2021-12-17T09:53:05.435Z"
   },
   {
    "duration": 47,
    "start_time": "2021-12-17T09:53:05.459Z"
   },
   {
    "duration": 11,
    "start_time": "2021-12-17T09:53:05.508Z"
   },
   {
    "duration": 14,
    "start_time": "2021-12-17T09:57:33.906Z"
   },
   {
    "duration": 26,
    "start_time": "2021-12-17T09:57:43.419Z"
   },
   {
    "duration": 13,
    "start_time": "2021-12-17T10:01:03.504Z"
   },
   {
    "duration": 7,
    "start_time": "2021-12-17T10:06:25.135Z"
   },
   {
    "duration": 21,
    "start_time": "2021-12-17T10:07:30.770Z"
   },
   {
    "duration": 16,
    "start_time": "2021-12-17T10:09:17.671Z"
   },
   {
    "duration": 276,
    "start_time": "2021-12-17T10:23:06.090Z"
   },
   {
    "duration": 6,
    "start_time": "2021-12-17T10:23:10.786Z"
   },
   {
    "duration": 15,
    "start_time": "2021-12-17T10:23:40.185Z"
   },
   {
    "duration": 12,
    "start_time": "2021-12-17T10:24:36.916Z"
   },
   {
    "duration": 21,
    "start_time": "2021-12-17T10:24:46.614Z"
   },
   {
    "duration": 6,
    "start_time": "2021-12-17T10:32:44.210Z"
   },
   {
    "duration": 15,
    "start_time": "2021-12-17T10:33:54.468Z"
   },
   {
    "duration": 13,
    "start_time": "2021-12-17T10:35:35.878Z"
   },
   {
    "duration": 31,
    "start_time": "2021-12-17T10:36:46.048Z"
   },
   {
    "duration": 31,
    "start_time": "2021-12-17T10:38:21.554Z"
   },
   {
    "duration": 288,
    "start_time": "2021-12-17T10:39:25.076Z"
   },
   {
    "duration": 40,
    "start_time": "2021-12-17T10:39:50.796Z"
   },
   {
    "duration": 38,
    "start_time": "2021-12-17T10:40:30.502Z"
   },
   {
    "duration": 302,
    "start_time": "2021-12-17T10:42:02.240Z"
   },
   {
    "duration": 366,
    "start_time": "2021-12-17T10:42:38.656Z"
   },
   {
    "duration": 60,
    "start_time": "2021-12-17T10:45:29.236Z"
   },
   {
    "duration": 22,
    "start_time": "2021-12-17T10:46:00.238Z"
   },
   {
    "duration": 58,
    "start_time": "2021-12-17T10:46:19.856Z"
   },
   {
    "duration": 19,
    "start_time": "2021-12-17T10:46:49.822Z"
   },
   {
    "duration": 2,
    "start_time": "2021-12-17T10:50:23.804Z"
   },
   {
    "duration": 17,
    "start_time": "2021-12-17T10:50:24.214Z"
   },
   {
    "duration": 44,
    "start_time": "2021-12-17T10:50:28.526Z"
   },
   {
    "duration": 9,
    "start_time": "2021-12-17T10:50:28.572Z"
   },
   {
    "duration": 13,
    "start_time": "2021-12-17T10:50:28.583Z"
   },
   {
    "duration": 13,
    "start_time": "2021-12-17T10:50:28.598Z"
   },
   {
    "duration": 21,
    "start_time": "2021-12-17T10:50:28.613Z"
   },
   {
    "duration": 27,
    "start_time": "2021-12-17T10:50:28.635Z"
   },
   {
    "duration": 13,
    "start_time": "2021-12-17T10:50:28.664Z"
   },
   {
    "duration": 13,
    "start_time": "2021-12-17T10:50:28.679Z"
   },
   {
    "duration": 6,
    "start_time": "2021-12-17T10:50:28.695Z"
   },
   {
    "duration": 21,
    "start_time": "2021-12-17T10:50:28.702Z"
   },
   {
    "duration": 12,
    "start_time": "2021-12-17T10:50:28.724Z"
   },
   {
    "duration": 27,
    "start_time": "2021-12-17T10:50:28.738Z"
   },
   {
    "duration": 38,
    "start_time": "2021-12-17T10:50:28.766Z"
   },
   {
    "duration": 11,
    "start_time": "2021-12-17T10:50:28.805Z"
   },
   {
    "duration": 171,
    "start_time": "2021-12-17T10:50:28.817Z"
   },
   {
    "duration": 226,
    "start_time": "2021-12-17T10:50:28.990Z"
   },
   {
    "duration": 6,
    "start_time": "2021-12-17T10:50:29.217Z"
   },
   {
    "duration": 30,
    "start_time": "2021-12-17T10:50:29.224Z"
   },
   {
    "duration": 412,
    "start_time": "2021-12-17T10:50:29.255Z"
   },
   {
    "duration": 36,
    "start_time": "2021-12-17T10:50:29.668Z"
   },
   {
    "duration": 2,
    "start_time": "2021-12-17T10:50:29.705Z"
   },
   {
    "duration": 28,
    "start_time": "2021-12-17T10:50:29.709Z"
   },
   {
    "duration": 11,
    "start_time": "2021-12-17T10:52:06.032Z"
   },
   {
    "duration": 360,
    "start_time": "2021-12-17T10:53:23.528Z"
   },
   {
    "duration": 13,
    "start_time": "2021-12-17T10:53:53.066Z"
   },
   {
    "duration": 32,
    "start_time": "2021-12-17T10:54:01.944Z"
   },
   {
    "duration": 69,
    "start_time": "2021-12-17T10:58:09.394Z"
   },
   {
    "duration": 272,
    "start_time": "2021-12-17T10:59:08.498Z"
   },
   {
    "duration": 32,
    "start_time": "2021-12-17T10:59:16.962Z"
   },
   {
    "duration": 280,
    "start_time": "2021-12-17T10:59:35.412Z"
   },
   {
    "duration": 37,
    "start_time": "2021-12-17T11:00:12.860Z"
   },
   {
    "duration": 62,
    "start_time": "2021-12-17T11:00:30.340Z"
   },
   {
    "duration": 319,
    "start_time": "2021-12-17T11:01:33.220Z"
   },
   {
    "duration": 11,
    "start_time": "2021-12-17T11:04:24.010Z"
   },
   {
    "duration": 750,
    "start_time": "2021-12-19T07:35:41.765Z"
   },
   {
    "duration": 11,
    "start_time": "2021-12-19T07:35:42.517Z"
   },
   {
    "duration": 11,
    "start_time": "2021-12-19T07:35:42.530Z"
   },
   {
    "duration": 4,
    "start_time": "2021-12-19T07:35:42.543Z"
   },
   {
    "duration": 16,
    "start_time": "2021-12-19T07:35:42.549Z"
   },
   {
    "duration": 14,
    "start_time": "2021-12-19T07:35:42.566Z"
   },
   {
    "duration": 16,
    "start_time": "2021-12-19T07:35:42.582Z"
   },
   {
    "duration": 12,
    "start_time": "2021-12-19T07:35:42.602Z"
   },
   {
    "duration": 8,
    "start_time": "2021-12-19T07:35:42.616Z"
   },
   {
    "duration": 53,
    "start_time": "2021-12-19T07:35:42.627Z"
   },
   {
    "duration": 8,
    "start_time": "2021-12-19T07:35:42.682Z"
   },
   {
    "duration": 16,
    "start_time": "2021-12-19T07:35:42.692Z"
   },
   {
    "duration": 60,
    "start_time": "2021-12-19T07:35:42.710Z"
   },
   {
    "duration": 15,
    "start_time": "2021-12-19T07:35:42.772Z"
   },
   {
    "duration": 195,
    "start_time": "2021-12-19T07:35:42.789Z"
   },
   {
    "duration": 199,
    "start_time": "2021-12-19T07:35:42.986Z"
   },
   {
    "duration": 8,
    "start_time": "2021-12-19T07:35:43.186Z"
   },
   {
    "duration": 17,
    "start_time": "2021-12-19T07:35:43.196Z"
   },
   {
    "duration": 67,
    "start_time": "2021-12-19T07:35:43.216Z"
   },
   {
    "duration": 13,
    "start_time": "2021-12-19T07:35:43.285Z"
   },
   {
    "duration": 378,
    "start_time": "2021-12-19T07:35:43.300Z"
   },
   {
    "duration": 2,
    "start_time": "2021-12-19T07:35:43.680Z"
   },
   {
    "duration": 383,
    "start_time": "2021-12-19T07:36:07.427Z"
   },
   {
    "duration": 35,
    "start_time": "2021-12-19T07:37:24.235Z"
   },
   {
    "duration": 2,
    "start_time": "2021-12-19T07:48:46.000Z"
   },
   {
    "duration": 50,
    "start_time": "2021-12-19T07:49:56.035Z"
   },
   {
    "duration": 61,
    "start_time": "2021-12-19T07:50:59.982Z"
   },
   {
    "duration": 12,
    "start_time": "2021-12-19T07:51:00.045Z"
   },
   {
    "duration": 10,
    "start_time": "2021-12-19T07:51:00.059Z"
   },
   {
    "duration": 16,
    "start_time": "2021-12-19T07:53:36.085Z"
   },
   {
    "duration": 5,
    "start_time": "2021-12-19T08:01:53.528Z"
   },
   {
    "duration": 3,
    "start_time": "2021-12-19T08:07:41.869Z"
   },
   {
    "duration": 5,
    "start_time": "2021-12-19T08:07:50.485Z"
   },
   {
    "duration": 22,
    "start_time": "2021-12-19T08:07:52.713Z"
   },
   {
    "duration": 6,
    "start_time": "2021-12-19T08:07:57.278Z"
   },
   {
    "duration": 8,
    "start_time": "2021-12-19T08:10:01.697Z"
   },
   {
    "duration": 19,
    "start_time": "2021-12-19T08:15:22.079Z"
   },
   {
    "duration": 17,
    "start_time": "2021-12-19T08:15:28.084Z"
   },
   {
    "duration": 18,
    "start_time": "2021-12-19T08:15:30.672Z"
   },
   {
    "duration": 15,
    "start_time": "2021-12-19T08:15:44.545Z"
   },
   {
    "duration": 20,
    "start_time": "2021-12-19T08:16:17.257Z"
   },
   {
    "duration": 15,
    "start_time": "2021-12-19T08:16:27.811Z"
   },
   {
    "duration": 7,
    "start_time": "2021-12-19T08:19:19.459Z"
   },
   {
    "duration": 11,
    "start_time": "2021-12-19T08:20:50.553Z"
   },
   {
    "duration": 323,
    "start_time": "2021-12-19T08:24:13.844Z"
   },
   {
    "duration": 5,
    "start_time": "2021-12-19T08:24:35.083Z"
   },
   {
    "duration": 10,
    "start_time": "2021-12-19T08:24:51.347Z"
   },
   {
    "duration": 50,
    "start_time": "2021-12-19T08:25:21.947Z"
   },
   {
    "duration": 9,
    "start_time": "2021-12-19T08:25:21.999Z"
   },
   {
    "duration": 10,
    "start_time": "2021-12-19T08:25:22.010Z"
   },
   {
    "duration": 4,
    "start_time": "2021-12-19T08:25:22.022Z"
   },
   {
    "duration": 49,
    "start_time": "2021-12-19T08:25:22.027Z"
   },
   {
    "duration": 3,
    "start_time": "2021-12-19T08:25:22.078Z"
   },
   {
    "duration": 11,
    "start_time": "2021-12-19T08:25:22.083Z"
   },
   {
    "duration": 17,
    "start_time": "2021-12-19T08:25:22.095Z"
   },
   {
    "duration": 6,
    "start_time": "2021-12-19T08:25:22.114Z"
   },
   {
    "duration": 42,
    "start_time": "2021-12-19T08:25:22.122Z"
   },
   {
    "duration": 7,
    "start_time": "2021-12-19T08:25:22.166Z"
   },
   {
    "duration": 15,
    "start_time": "2021-12-19T08:25:33.831Z"
   },
   {
    "duration": 7,
    "start_time": "2021-12-19T08:26:06.595Z"
   },
   {
    "duration": 8,
    "start_time": "2021-12-19T08:30:07.821Z"
   },
   {
    "duration": 11,
    "start_time": "2021-12-19T08:30:24.831Z"
   },
   {
    "duration": 7,
    "start_time": "2021-12-19T08:30:46.215Z"
   },
   {
    "duration": 11,
    "start_time": "2021-12-19T08:30:48.331Z"
   },
   {
    "duration": 8,
    "start_time": "2021-12-19T08:31:25.670Z"
   },
   {
    "duration": 17,
    "start_time": "2021-12-19T08:32:29.924Z"
   },
   {
    "duration": 39,
    "start_time": "2021-12-19T08:43:46.333Z"
   },
   {
    "duration": 360,
    "start_time": "2021-12-19T08:51:18.803Z"
   },
   {
    "duration": 175,
    "start_time": "2021-12-19T08:51:35.436Z"
   },
   {
    "duration": 212,
    "start_time": "2021-12-19T08:53:12.298Z"
   },
   {
    "duration": 246,
    "start_time": "2021-12-19T08:54:10.896Z"
   },
   {
    "duration": 100,
    "start_time": "2021-12-19T08:55:19.786Z"
   },
   {
    "duration": 200,
    "start_time": "2021-12-19T08:55:25.913Z"
   },
   {
    "duration": 201,
    "start_time": "2021-12-19T08:56:23.782Z"
   },
   {
    "duration": 87,
    "start_time": "2021-12-19T08:57:27.140Z"
   },
   {
    "duration": 199,
    "start_time": "2021-12-19T08:57:32.652Z"
   },
   {
    "duration": 202,
    "start_time": "2021-12-19T08:57:45.521Z"
   },
   {
    "duration": 22,
    "start_time": "2021-12-19T09:00:18.039Z"
   },
   {
    "duration": 356,
    "start_time": "2021-12-19T09:10:33.125Z"
   },
   {
    "duration": 282,
    "start_time": "2021-12-19T09:22:25.994Z"
   },
   {
    "duration": 90,
    "start_time": "2021-12-19T09:23:21.393Z"
   },
   {
    "duration": 44,
    "start_time": "2021-12-19T09:23:47.799Z"
   },
   {
    "duration": 6,
    "start_time": "2021-12-19T09:24:30.536Z"
   },
   {
    "duration": 254,
    "start_time": "2021-12-19T09:24:57.491Z"
   },
   {
    "duration": 7,
    "start_time": "2021-12-19T09:25:03.666Z"
   },
   {
    "duration": 6,
    "start_time": "2021-12-19T09:25:12.101Z"
   },
   {
    "duration": 28,
    "start_time": "2021-12-19T09:28:01.476Z"
   },
   {
    "duration": 176,
    "start_time": "2021-12-19T09:34:26.044Z"
   },
   {
    "duration": 167,
    "start_time": "2021-12-19T09:34:58.205Z"
   },
   {
    "duration": 244,
    "start_time": "2021-12-19T09:35:49.374Z"
   },
   {
    "duration": 8,
    "start_time": "2021-12-19T09:37:44.540Z"
   },
   {
    "duration": 16,
    "start_time": "2021-12-19T09:39:04.127Z"
   },
   {
    "duration": 4,
    "start_time": "2021-12-19T09:39:47.310Z"
   },
   {
    "duration": 21,
    "start_time": "2021-12-19T09:41:51.881Z"
   },
   {
    "duration": 15,
    "start_time": "2021-12-19T10:55:53.630Z"
   },
   {
    "duration": 277,
    "start_time": "2021-12-19T10:56:06.228Z"
   },
   {
    "duration": 36,
    "start_time": "2021-12-19T10:56:15.573Z"
   },
   {
    "duration": 49,
    "start_time": "2021-12-19T10:57:26.477Z"
   },
   {
    "duration": 9,
    "start_time": "2021-12-19T10:57:26.528Z"
   },
   {
    "duration": 12,
    "start_time": "2021-12-19T10:57:26.539Z"
   },
   {
    "duration": 11,
    "start_time": "2021-12-19T10:57:26.553Z"
   },
   {
    "duration": 21,
    "start_time": "2021-12-19T10:57:26.566Z"
   },
   {
    "duration": 4,
    "start_time": "2021-12-19T10:57:26.589Z"
   },
   {
    "duration": 10,
    "start_time": "2021-12-19T10:57:26.594Z"
   },
   {
    "duration": 16,
    "start_time": "2021-12-19T10:57:26.607Z"
   },
   {
    "duration": 5,
    "start_time": "2021-12-19T10:57:26.626Z"
   },
   {
    "duration": 45,
    "start_time": "2021-12-19T10:57:26.633Z"
   },
   {
    "duration": 14,
    "start_time": "2021-12-19T10:57:26.682Z"
   },
   {
    "duration": 8,
    "start_time": "2021-12-19T10:57:26.699Z"
   },
   {
    "duration": 26,
    "start_time": "2021-12-19T10:57:26.709Z"
   },
   {
    "duration": 63,
    "start_time": "2021-12-19T10:57:26.737Z"
   },
   {
    "duration": 25,
    "start_time": "2021-12-19T10:57:26.801Z"
   },
   {
    "duration": 13,
    "start_time": "2021-12-19T10:57:26.828Z"
   },
   {
    "duration": 207,
    "start_time": "2021-12-19T10:57:26.842Z"
   },
   {
    "duration": 18,
    "start_time": "2021-12-19T10:57:27.051Z"
   },
   {
    "duration": 16,
    "start_time": "2021-12-19T10:57:27.073Z"
   },
   {
    "duration": 4,
    "start_time": "2021-12-19T10:57:27.091Z"
   },
   {
    "duration": 28,
    "start_time": "2021-12-19T10:57:27.097Z"
   },
   {
    "duration": 62,
    "start_time": "2021-12-19T10:57:27.127Z"
   },
   {
    "duration": 44,
    "start_time": "2021-12-19T10:57:52.864Z"
   },
   {
    "duration": 37,
    "start_time": "2021-12-19T10:57:55.131Z"
   },
   {
    "duration": 278,
    "start_time": "2021-12-19T10:58:54.604Z"
   },
   {
    "duration": 34,
    "start_time": "2021-12-19T10:59:01.366Z"
   },
   {
    "duration": 303,
    "start_time": "2021-12-19T10:59:02.469Z"
   },
   {
    "duration": 9649,
    "start_time": "2021-12-19T10:59:20.967Z"
   },
   {
    "duration": 929,
    "start_time": "2021-12-19T10:59:48.225Z"
   },
   {
    "duration": 279,
    "start_time": "2021-12-19T11:00:35.527Z"
   },
   {
    "duration": 6,
    "start_time": "2021-12-19T11:00:58.358Z"
   },
   {
    "duration": 39,
    "start_time": "2021-12-19T11:02:01.001Z"
   },
   {
    "duration": 22,
    "start_time": "2021-12-19T11:03:11.064Z"
   },
   {
    "duration": 64,
    "start_time": "2021-12-19T11:03:13.382Z"
   },
   {
    "duration": 17,
    "start_time": "2021-12-19T11:05:10.671Z"
   },
   {
    "duration": 16,
    "start_time": "2021-12-19T11:05:29.047Z"
   },
   {
    "duration": 17,
    "start_time": "2021-12-19T11:07:51.378Z"
   },
   {
    "duration": 19,
    "start_time": "2021-12-19T11:09:12.810Z"
   },
   {
    "duration": 347,
    "start_time": "2021-12-19T11:09:17.963Z"
   },
   {
    "duration": 74,
    "start_time": "2021-12-19T11:09:48.445Z"
   },
   {
    "duration": 15,
    "start_time": "2021-12-19T11:09:48.522Z"
   },
   {
    "duration": 30,
    "start_time": "2021-12-19T11:09:48.540Z"
   },
   {
    "duration": 6,
    "start_time": "2021-12-19T11:09:48.573Z"
   },
   {
    "duration": 21,
    "start_time": "2021-12-19T11:09:48.581Z"
   },
   {
    "duration": 4,
    "start_time": "2021-12-19T11:09:48.604Z"
   },
   {
    "duration": 11,
    "start_time": "2021-12-19T11:09:48.610Z"
   },
   {
    "duration": 56,
    "start_time": "2021-12-19T11:09:48.624Z"
   },
   {
    "duration": 9,
    "start_time": "2021-12-19T11:09:48.684Z"
   },
   {
    "duration": 11,
    "start_time": "2021-12-19T11:09:48.695Z"
   },
   {
    "duration": 10,
    "start_time": "2021-12-19T11:09:48.708Z"
   },
   {
    "duration": 7,
    "start_time": "2021-12-19T11:09:48.720Z"
   },
   {
    "duration": 51,
    "start_time": "2021-12-19T11:09:48.728Z"
   },
   {
    "duration": 37,
    "start_time": "2021-12-19T11:09:48.782Z"
   },
   {
    "duration": 64,
    "start_time": "2021-12-19T11:09:48.821Z"
   },
   {
    "duration": 14,
    "start_time": "2021-12-19T11:09:48.887Z"
   },
   {
    "duration": 210,
    "start_time": "2021-12-19T11:09:48.903Z"
   },
   {
    "duration": 7,
    "start_time": "2021-12-19T11:09:49.115Z"
   },
   {
    "duration": 16,
    "start_time": "2021-12-19T11:09:49.124Z"
   },
   {
    "duration": 22,
    "start_time": "2021-12-19T11:09:49.142Z"
   },
   {
    "duration": 18,
    "start_time": "2021-12-19T11:09:49.168Z"
   },
   {
    "duration": 37,
    "start_time": "2021-12-19T11:09:49.187Z"
   },
   {
    "duration": 36,
    "start_time": "2021-12-19T11:09:49.227Z"
   },
   {
    "duration": 19,
    "start_time": "2021-12-19T11:09:49.266Z"
   },
   {
    "duration": 513,
    "start_time": "2021-12-19T11:09:49.287Z"
   },
   {
    "duration": 13,
    "start_time": "2021-12-19T11:10:14.802Z"
   },
   {
    "duration": 16,
    "start_time": "2021-12-19T11:10:26.128Z"
   },
   {
    "duration": 516,
    "start_time": "2021-12-19T11:10:34.223Z"
   },
   {
    "duration": 479,
    "start_time": "2021-12-19T11:11:42.678Z"
   },
   {
    "duration": 261,
    "start_time": "2021-12-19T11:11:51.801Z"
   },
   {
    "duration": 301,
    "start_time": "2021-12-19T11:12:05.391Z"
   },
   {
    "duration": 304,
    "start_time": "2021-12-19T11:13:46.906Z"
   },
   {
    "duration": 16,
    "start_time": "2021-12-19T11:17:39.909Z"
   },
   {
    "duration": 91,
    "start_time": "2021-12-19T11:18:50.479Z"
   },
   {
    "duration": 103,
    "start_time": "2021-12-19T11:19:01.156Z"
   },
   {
    "duration": 101,
    "start_time": "2021-12-19T11:19:18.786Z"
   },
   {
    "duration": 86,
    "start_time": "2021-12-19T11:19:47.063Z"
   },
   {
    "duration": 84,
    "start_time": "2021-12-19T11:19:53.184Z"
   },
   {
    "duration": 196,
    "start_time": "2021-12-19T11:20:19.914Z"
   },
   {
    "duration": 21,
    "start_time": "2021-12-19T11:20:45.158Z"
   },
   {
    "duration": 49,
    "start_time": "2021-12-19T11:21:19.800Z"
   },
   {
    "duration": 14,
    "start_time": "2021-12-19T11:22:13.132Z"
   },
   {
    "duration": 24,
    "start_time": "2021-12-19T11:22:48.349Z"
   },
   {
    "duration": 22,
    "start_time": "2021-12-19T11:23:03.368Z"
   },
   {
    "duration": 276,
    "start_time": "2021-12-19T11:23:43.583Z"
   },
   {
    "duration": 12,
    "start_time": "2021-12-19T11:23:57.600Z"
   },
   {
    "duration": 19,
    "start_time": "2021-12-19T11:24:04.079Z"
   },
   {
    "duration": 270,
    "start_time": "2021-12-19T11:24:49.614Z"
   },
   {
    "duration": 26,
    "start_time": "2021-12-19T12:18:19.244Z"
   },
   {
    "duration": 294,
    "start_time": "2021-12-19T12:20:31.249Z"
   },
   {
    "duration": 528,
    "start_time": "2021-12-19T12:32:39.080Z"
   },
   {
    "duration": 470,
    "start_time": "2021-12-19T12:33:40.226Z"
   },
   {
    "duration": 403,
    "start_time": "2021-12-19T12:33:45.483Z"
   },
   {
    "duration": 455,
    "start_time": "2021-12-19T12:35:22.739Z"
   },
   {
    "duration": 520,
    "start_time": "2021-12-19T12:35:30.811Z"
   },
   {
    "duration": 470,
    "start_time": "2021-12-19T12:51:55.187Z"
   },
   {
    "duration": 23,
    "start_time": "2021-12-19T12:55:20.163Z"
   },
   {
    "duration": 592,
    "start_time": "2021-12-19T12:59:49.642Z"
   },
   {
    "duration": 308,
    "start_time": "2021-12-19T13:00:08.299Z"
   },
   {
    "duration": 293,
    "start_time": "2021-12-19T13:01:03.873Z"
   },
   {
    "duration": 51,
    "start_time": "2021-12-19T13:02:54.654Z"
   },
   {
    "duration": 11,
    "start_time": "2021-12-19T13:02:54.708Z"
   },
   {
    "duration": 11,
    "start_time": "2021-12-19T13:02:54.722Z"
   },
   {
    "duration": 6,
    "start_time": "2021-12-19T13:02:54.763Z"
   },
   {
    "duration": 17,
    "start_time": "2021-12-19T13:02:54.772Z"
   },
   {
    "duration": 3,
    "start_time": "2021-12-19T13:02:54.791Z"
   },
   {
    "duration": 9,
    "start_time": "2021-12-19T13:02:54.796Z"
   },
   {
    "duration": 13,
    "start_time": "2021-12-19T13:02:54.808Z"
   },
   {
    "duration": 40,
    "start_time": "2021-12-19T13:02:54.823Z"
   },
   {
    "duration": 11,
    "start_time": "2021-12-19T13:02:54.865Z"
   },
   {
    "duration": 10,
    "start_time": "2021-12-19T13:02:54.878Z"
   },
   {
    "duration": 6,
    "start_time": "2021-12-19T13:02:54.889Z"
   },
   {
    "duration": 20,
    "start_time": "2021-12-19T13:02:54.897Z"
   },
   {
    "duration": 64,
    "start_time": "2021-12-19T13:02:54.919Z"
   },
   {
    "duration": 28,
    "start_time": "2021-12-19T13:02:54.984Z"
   },
   {
    "duration": 12,
    "start_time": "2021-12-19T13:02:55.014Z"
   },
   {
    "duration": 200,
    "start_time": "2021-12-19T13:02:55.027Z"
   },
   {
    "duration": 7,
    "start_time": "2021-12-19T13:02:55.228Z"
   },
   {
    "duration": 28,
    "start_time": "2021-12-19T13:02:55.236Z"
   },
   {
    "duration": 4,
    "start_time": "2021-12-19T13:02:55.266Z"
   },
   {
    "duration": 17,
    "start_time": "2021-12-19T13:02:55.272Z"
   },
   {
    "duration": 35,
    "start_time": "2021-12-19T13:02:55.291Z"
   },
   {
    "duration": 41,
    "start_time": "2021-12-19T13:02:55.329Z"
   },
   {
    "duration": 14,
    "start_time": "2021-12-19T13:02:55.371Z"
   },
   {
    "duration": 312,
    "start_time": "2021-12-19T13:02:55.387Z"
   },
   {
    "duration": 618,
    "start_time": "2021-12-19T13:02:55.700Z"
   },
   {
    "duration": 45,
    "start_time": "2021-12-19T13:02:56.320Z"
   },
   {
    "duration": 459,
    "start_time": "2021-12-19T13:02:56.368Z"
   },
   {
    "duration": 321,
    "start_time": "2021-12-19T13:02:56.829Z"
   },
   {
    "duration": 1045,
    "start_time": "2021-12-19T13:02:56.107Z"
   },
   {
    "duration": 19,
    "start_time": "2021-12-19T13:03:23.578Z"
   },
   {
    "duration": 174,
    "start_time": "2021-12-19T13:06:56.665Z"
   },
   {
    "duration": 284,
    "start_time": "2021-12-19T13:12:21.921Z"
   },
   {
    "duration": 276,
    "start_time": "2021-12-19T13:12:37.382Z"
   },
   {
    "duration": 20,
    "start_time": "2021-12-19T13:13:06.221Z"
   },
   {
    "duration": 21,
    "start_time": "2021-12-19T13:13:31.568Z"
   },
   {
    "duration": 23,
    "start_time": "2021-12-19T13:13:49.240Z"
   },
   {
    "duration": 227,
    "start_time": "2021-12-19T13:14:03.079Z"
   },
   {
    "duration": 1079,
    "start_time": "2021-12-20T06:20:39.588Z"
   },
   {
    "duration": 10,
    "start_time": "2021-12-20T06:20:40.669Z"
   },
   {
    "duration": 14,
    "start_time": "2021-12-20T06:20:40.681Z"
   },
   {
    "duration": 4,
    "start_time": "2021-12-20T06:20:40.697Z"
   },
   {
    "duration": 15,
    "start_time": "2021-12-20T06:20:40.703Z"
   },
   {
    "duration": 4,
    "start_time": "2021-12-20T06:20:40.719Z"
   },
   {
    "duration": 8,
    "start_time": "2021-12-20T06:20:40.724Z"
   },
   {
    "duration": 13,
    "start_time": "2021-12-20T06:20:40.735Z"
   },
   {
    "duration": 40,
    "start_time": "2021-12-20T06:20:40.751Z"
   },
   {
    "duration": 10,
    "start_time": "2021-12-20T06:20:40.793Z"
   },
   {
    "duration": 9,
    "start_time": "2021-12-20T06:20:40.805Z"
   },
   {
    "duration": 6,
    "start_time": "2021-12-20T06:20:40.816Z"
   },
   {
    "duration": 15,
    "start_time": "2021-12-20T06:20:40.824Z"
   },
   {
    "duration": 68,
    "start_time": "2021-12-20T06:20:40.841Z"
   },
   {
    "duration": 24,
    "start_time": "2021-12-20T06:20:40.911Z"
   },
   {
    "duration": 321,
    "start_time": "2021-12-20T06:20:40.937Z"
   },
   {
    "duration": 115,
    "start_time": "2021-12-20T06:20:41.145Z"
   },
   {
    "duration": 111,
    "start_time": "2021-12-20T06:20:41.150Z"
   },
   {
    "duration": 109,
    "start_time": "2021-12-20T06:20:41.153Z"
   },
   {
    "duration": 108,
    "start_time": "2021-12-20T06:20:41.155Z"
   },
   {
    "duration": 105,
    "start_time": "2021-12-20T06:20:41.158Z"
   },
   {
    "duration": 96,
    "start_time": "2021-12-20T06:20:41.168Z"
   },
   {
    "duration": 94,
    "start_time": "2021-12-20T06:20:41.171Z"
   },
   {
    "duration": 92,
    "start_time": "2021-12-20T06:20:41.174Z"
   },
   {
    "duration": 90,
    "start_time": "2021-12-20T06:20:41.177Z"
   },
   {
    "duration": 89,
    "start_time": "2021-12-20T06:20:41.179Z"
   },
   {
    "duration": 86,
    "start_time": "2021-12-20T06:20:41.183Z"
   },
   {
    "duration": 84,
    "start_time": "2021-12-20T06:20:41.186Z"
   },
   {
    "duration": 82,
    "start_time": "2021-12-20T06:20:41.189Z"
   },
   {
    "duration": 81,
    "start_time": "2021-12-20T06:20:41.191Z"
   },
   {
    "duration": 12,
    "start_time": "2021-12-20T06:21:13.503Z"
   },
   {
    "duration": 46,
    "start_time": "2021-12-20T06:21:20.802Z"
   },
   {
    "duration": 8,
    "start_time": "2021-12-20T06:21:20.850Z"
   },
   {
    "duration": 29,
    "start_time": "2021-12-20T06:21:20.861Z"
   },
   {
    "duration": 18,
    "start_time": "2021-12-20T06:21:20.892Z"
   },
   {
    "duration": 39,
    "start_time": "2021-12-20T06:21:20.911Z"
   },
   {
    "duration": 24,
    "start_time": "2021-12-20T06:21:20.951Z"
   },
   {
    "duration": 15,
    "start_time": "2021-12-20T06:21:20.976Z"
   },
   {
    "duration": 33,
    "start_time": "2021-12-20T06:21:20.993Z"
   },
   {
    "duration": 8,
    "start_time": "2021-12-20T06:21:21.028Z"
   },
   {
    "duration": 42,
    "start_time": "2021-12-20T06:21:21.037Z"
   },
   {
    "duration": 18,
    "start_time": "2021-12-20T06:21:21.081Z"
   },
   {
    "duration": 24,
    "start_time": "2021-12-20T06:21:21.100Z"
   },
   {
    "duration": 30,
    "start_time": "2021-12-20T06:21:21.126Z"
   },
   {
    "duration": 41,
    "start_time": "2021-12-20T06:21:21.157Z"
   },
   {
    "duration": 23,
    "start_time": "2021-12-20T06:21:21.199Z"
   },
   {
    "duration": 10,
    "start_time": "2021-12-20T06:21:21.223Z"
   },
   {
    "duration": 244,
    "start_time": "2021-12-20T06:21:21.234Z"
   },
   {
    "duration": 125,
    "start_time": "2021-12-20T06:21:21.355Z"
   },
   {
    "duration": 123,
    "start_time": "2021-12-20T06:21:21.358Z"
   },
   {
    "duration": 114,
    "start_time": "2021-12-20T06:21:21.369Z"
   },
   {
    "duration": 112,
    "start_time": "2021-12-20T06:21:21.372Z"
   },
   {
    "duration": 111,
    "start_time": "2021-12-20T06:21:21.374Z"
   },
   {
    "duration": 109,
    "start_time": "2021-12-20T06:21:21.377Z"
   },
   {
    "duration": 107,
    "start_time": "2021-12-20T06:21:21.379Z"
   },
   {
    "duration": 105,
    "start_time": "2021-12-20T06:21:21.382Z"
   },
   {
    "duration": 103,
    "start_time": "2021-12-20T06:21:21.385Z"
   },
   {
    "duration": 101,
    "start_time": "2021-12-20T06:21:21.388Z"
   },
   {
    "duration": 100,
    "start_time": "2021-12-20T06:21:21.390Z"
   },
   {
    "duration": 98,
    "start_time": "2021-12-20T06:21:21.393Z"
   },
   {
    "duration": 97,
    "start_time": "2021-12-20T06:21:21.395Z"
   },
   {
    "duration": 95,
    "start_time": "2021-12-20T06:21:21.398Z"
   },
   {
    "duration": 94,
    "start_time": "2021-12-20T06:21:21.400Z"
   },
   {
    "duration": 92,
    "start_time": "2021-12-20T06:21:21.403Z"
   },
   {
    "duration": 161,
    "start_time": "2021-12-20T06:21:38.798Z"
   },
   {
    "duration": 168,
    "start_time": "2021-12-20T06:21:45.190Z"
   },
   {
    "duration": 7,
    "start_time": "2021-12-20T06:21:49.098Z"
   },
   {
    "duration": 14,
    "start_time": "2021-12-20T06:21:49.107Z"
   },
   {
    "duration": 4,
    "start_time": "2021-12-20T06:21:49.123Z"
   },
   {
    "duration": 15,
    "start_time": "2021-12-20T06:21:49.128Z"
   },
   {
    "duration": 53,
    "start_time": "2021-12-20T06:21:49.144Z"
   },
   {
    "duration": 10,
    "start_time": "2021-12-20T06:21:49.199Z"
   },
   {
    "duration": 12,
    "start_time": "2021-12-20T06:21:49.210Z"
   },
   {
    "duration": 299,
    "start_time": "2021-12-20T06:21:49.225Z"
   },
   {
    "duration": 282,
    "start_time": "2021-12-20T06:21:49.525Z"
   },
   {
    "duration": 23,
    "start_time": "2021-12-20T06:21:49.808Z"
   },
   {
    "duration": 294,
    "start_time": "2021-12-20T06:21:49.832Z"
   },
   {
    "duration": 890,
    "start_time": "2021-12-20T06:21:50.128Z"
   },
   {
    "duration": 218,
    "start_time": "2021-12-20T06:21:51.020Z"
   },
   {
    "duration": 84,
    "start_time": "2021-12-20T06:21:51.240Z"
   },
   {
    "duration": 126,
    "start_time": "2021-12-20T06:21:51.199Z"
   },
   {
    "duration": 19,
    "start_time": "2021-12-20T06:29:27.868Z"
   },
   {
    "duration": 17,
    "start_time": "2021-12-20T06:31:13.534Z"
   },
   {
    "duration": 200,
    "start_time": "2021-12-20T06:31:26.534Z"
   },
   {
    "duration": 210,
    "start_time": "2021-12-20T06:32:46.586Z"
   },
   {
    "duration": 211,
    "start_time": "2021-12-20T06:33:07.979Z"
   },
   {
    "duration": 209,
    "start_time": "2021-12-20T06:33:21.571Z"
   },
   {
    "duration": 334,
    "start_time": "2021-12-20T06:44:55.780Z"
   },
   {
    "duration": 383,
    "start_time": "2021-12-20T06:54:04.875Z"
   },
   {
    "duration": 280,
    "start_time": "2021-12-20T06:54:30.165Z"
   },
   {
    "duration": 206,
    "start_time": "2021-12-20T06:55:09.669Z"
   },
   {
    "duration": 15,
    "start_time": "2021-12-20T06:57:11.631Z"
   },
   {
    "duration": 383,
    "start_time": "2021-12-20T06:58:55.115Z"
   },
   {
    "duration": 250,
    "start_time": "2021-12-20T07:00:02.093Z"
   },
   {
    "duration": 174,
    "start_time": "2021-12-20T07:00:44.790Z"
   },
   {
    "duration": 171,
    "start_time": "2021-12-20T07:01:36.633Z"
   },
   {
    "duration": 179,
    "start_time": "2021-12-20T07:01:53.911Z"
   },
   {
    "duration": 137,
    "start_time": "2021-12-20T07:02:46.057Z"
   },
   {
    "duration": 219,
    "start_time": "2021-12-20T07:03:02.441Z"
   },
   {
    "duration": 201,
    "start_time": "2021-12-20T07:03:57.835Z"
   },
   {
    "duration": 199,
    "start_time": "2021-12-20T07:04:31.642Z"
   },
   {
    "duration": 209,
    "start_time": "2021-12-20T07:04:40.643Z"
   },
   {
    "duration": 16,
    "start_time": "2021-12-20T07:13:04.353Z"
   },
   {
    "duration": 120,
    "start_time": "2021-12-20T07:13:24.473Z"
   },
   {
    "duration": 19,
    "start_time": "2021-12-20T07:13:29.368Z"
   },
   {
    "duration": 23,
    "start_time": "2021-12-20T07:13:47.112Z"
   },
   {
    "duration": 25,
    "start_time": "2021-12-20T07:14:24.051Z"
   },
   {
    "duration": 271,
    "start_time": "2021-12-20T07:14:38.570Z"
   },
   {
    "duration": 454,
    "start_time": "2021-12-20T07:14:56.843Z"
   },
   {
    "duration": 540,
    "start_time": "2021-12-20T07:15:40.980Z"
   },
   {
    "duration": 447,
    "start_time": "2021-12-20T07:15:53.245Z"
   },
   {
    "duration": 459,
    "start_time": "2021-12-20T07:16:01.093Z"
   },
   {
    "duration": 17,
    "start_time": "2021-12-20T07:18:04.206Z"
   },
   {
    "duration": 83,
    "start_time": "2021-12-20T07:22:46.455Z"
   },
   {
    "duration": 33,
    "start_time": "2021-12-20T07:22:51.072Z"
   },
   {
    "duration": 36,
    "start_time": "2021-12-20T07:22:59.385Z"
   },
   {
    "duration": 31,
    "start_time": "2021-12-20T07:23:31.361Z"
   },
   {
    "duration": 1347,
    "start_time": "2021-12-20T07:23:35.087Z"
   },
   {
    "duration": 1979,
    "start_time": "2021-12-20T07:24:01.905Z"
   },
   {
    "duration": 35,
    "start_time": "2021-12-20T07:24:17.769Z"
   },
   {
    "duration": 20,
    "start_time": "2021-12-20T07:28:08.352Z"
   },
   {
    "duration": 7,
    "start_time": "2021-12-20T07:28:32.841Z"
   },
   {
    "duration": 308,
    "start_time": "2021-12-20T07:28:38.705Z"
   },
   {
    "duration": 8,
    "start_time": "2021-12-20T07:29:25.985Z"
   },
   {
    "duration": 276,
    "start_time": "2021-12-20T07:35:16.187Z"
   },
   {
    "duration": 238,
    "start_time": "2021-12-20T07:35:51.125Z"
   },
   {
    "duration": 370,
    "start_time": "2021-12-20T07:37:42.367Z"
   },
   {
    "duration": 340,
    "start_time": "2021-12-20T07:38:01.679Z"
   },
   {
    "duration": 269,
    "start_time": "2021-12-20T07:39:25.129Z"
   },
   {
    "duration": 4,
    "start_time": "2021-12-20T07:39:40.209Z"
   },
   {
    "duration": 12,
    "start_time": "2021-12-20T07:42:45.487Z"
   },
   {
    "duration": 172,
    "start_time": "2021-12-20T07:42:52.127Z"
   },
   {
    "duration": 260,
    "start_time": "2021-12-20T11:33:17.595Z"
   },
   {
    "duration": 436,
    "start_time": "2021-12-20T11:33:30.825Z"
   },
   {
    "duration": 326,
    "start_time": "2021-12-20T11:33:35.170Z"
   },
   {
    "duration": 235,
    "start_time": "2021-12-20T11:33:40.785Z"
   },
   {
    "duration": 224,
    "start_time": "2021-12-20T11:38:09.455Z"
   },
   {
    "duration": 223,
    "start_time": "2021-12-20T11:38:35.001Z"
   },
   {
    "duration": 415,
    "start_time": "2021-12-20T11:43:32.839Z"
   },
   {
    "duration": 309,
    "start_time": "2021-12-20T11:44:40.355Z"
   },
   {
    "duration": 349,
    "start_time": "2021-12-20T11:45:10.540Z"
   },
   {
    "duration": 368,
    "start_time": "2021-12-20T11:45:40.836Z"
   },
   {
    "duration": 495,
    "start_time": "2021-12-20T11:47:36.728Z"
   },
   {
    "duration": 547,
    "start_time": "2021-12-20T11:50:21.038Z"
   },
   {
    "duration": 451,
    "start_time": "2021-12-20T11:50:26.899Z"
   },
   {
    "duration": 122,
    "start_time": "2021-12-20T11:50:50.516Z"
   },
   {
    "duration": 128,
    "start_time": "2021-12-20T11:51:05.660Z"
   },
   {
    "duration": 269,
    "start_time": "2021-12-20T11:51:21.990Z"
   },
   {
    "duration": 620,
    "start_time": "2021-12-20T11:51:42.006Z"
   },
   {
    "duration": 48,
    "start_time": "2021-12-20T11:52:06.788Z"
   },
   {
    "duration": 9,
    "start_time": "2021-12-20T11:52:06.838Z"
   },
   {
    "duration": 81,
    "start_time": "2021-12-20T11:52:06.850Z"
   },
   {
    "duration": 6,
    "start_time": "2021-12-20T11:52:06.933Z"
   },
   {
    "duration": 15,
    "start_time": "2021-12-20T11:52:06.940Z"
   },
   {
    "duration": 4,
    "start_time": "2021-12-20T11:52:06.957Z"
   },
   {
    "duration": 9,
    "start_time": "2021-12-20T11:52:06.963Z"
   },
   {
    "duration": 16,
    "start_time": "2021-12-20T11:52:06.975Z"
   },
   {
    "duration": 7,
    "start_time": "2021-12-20T11:52:06.993Z"
   },
   {
    "duration": 16,
    "start_time": "2021-12-20T11:52:07.002Z"
   },
   {
    "duration": 11,
    "start_time": "2021-12-20T11:52:07.020Z"
   },
   {
    "duration": 7,
    "start_time": "2021-12-20T11:52:07.033Z"
   },
   {
    "duration": 47,
    "start_time": "2021-12-20T11:52:07.042Z"
   },
   {
    "duration": 42,
    "start_time": "2021-12-20T11:52:07.091Z"
   },
   {
    "duration": 870,
    "start_time": "2021-12-20T11:52:07.135Z"
   },
   {
    "duration": 42,
    "start_time": "2021-12-20T12:00:24.376Z"
   },
   {
    "duration": 9,
    "start_time": "2021-12-20T12:00:24.420Z"
   },
   {
    "duration": 10,
    "start_time": "2021-12-20T12:00:24.431Z"
   },
   {
    "duration": 4,
    "start_time": "2021-12-20T12:00:24.444Z"
   },
   {
    "duration": 49,
    "start_time": "2021-12-20T12:00:24.450Z"
   },
   {
    "duration": 4,
    "start_time": "2021-12-20T12:00:24.501Z"
   },
   {
    "duration": 8,
    "start_time": "2021-12-20T12:00:24.507Z"
   },
   {
    "duration": 14,
    "start_time": "2021-12-20T12:00:24.517Z"
   },
   {
    "duration": 6,
    "start_time": "2021-12-20T12:00:24.532Z"
   },
   {
    "duration": 12,
    "start_time": "2021-12-20T12:00:24.540Z"
   },
   {
    "duration": 39,
    "start_time": "2021-12-20T12:00:24.553Z"
   },
   {
    "duration": 6,
    "start_time": "2021-12-20T12:00:24.594Z"
   },
   {
    "duration": 21,
    "start_time": "2021-12-20T12:00:24.602Z"
   },
   {
    "duration": 67,
    "start_time": "2021-12-20T12:00:24.624Z"
   },
   {
    "duration": 397,
    "start_time": "2021-12-20T12:00:24.692Z"
   },
   {
    "duration": 354,
    "start_time": "2021-12-20T12:00:29.314Z"
   },
   {
    "duration": 8,
    "start_time": "2021-12-20T12:01:13.795Z"
   },
   {
    "duration": 137,
    "start_time": "2021-12-20T12:01:24.971Z"
   },
   {
    "duration": 21,
    "start_time": "2021-12-20T12:01:40.140Z"
   },
   {
    "duration": 10,
    "start_time": "2021-12-20T12:01:51.101Z"
   },
   {
    "duration": 46,
    "start_time": "2021-12-20T12:01:58.009Z"
   },
   {
    "duration": 9,
    "start_time": "2021-12-20T12:01:58.057Z"
   },
   {
    "duration": 10,
    "start_time": "2021-12-20T12:01:58.068Z"
   },
   {
    "duration": 6,
    "start_time": "2021-12-20T12:01:58.080Z"
   },
   {
    "duration": 12,
    "start_time": "2021-12-20T12:01:58.088Z"
   },
   {
    "duration": 3,
    "start_time": "2021-12-20T12:01:58.102Z"
   },
   {
    "duration": 12,
    "start_time": "2021-12-20T12:01:58.106Z"
   },
   {
    "duration": 16,
    "start_time": "2021-12-20T12:01:58.119Z"
   },
   {
    "duration": 5,
    "start_time": "2021-12-20T12:01:58.137Z"
   },
   {
    "duration": 11,
    "start_time": "2021-12-20T12:01:58.144Z"
   },
   {
    "duration": 8,
    "start_time": "2021-12-20T12:01:58.156Z"
   },
   {
    "duration": 5,
    "start_time": "2021-12-20T12:01:58.188Z"
   },
   {
    "duration": 16,
    "start_time": "2021-12-20T12:01:58.195Z"
   },
   {
    "duration": 31,
    "start_time": "2021-12-20T12:01:58.213Z"
   },
   {
    "duration": 381,
    "start_time": "2021-12-20T12:01:58.245Z"
   },
   {
    "duration": 674,
    "start_time": "2021-12-20T12:01:57.953Z"
   },
   {
    "duration": 21,
    "start_time": "2021-12-20T12:02:02.645Z"
   },
   {
    "duration": 9,
    "start_time": "2021-12-20T12:02:29.544Z"
   },
   {
    "duration": 7,
    "start_time": "2021-12-20T12:02:48.056Z"
   },
   {
    "duration": 44,
    "start_time": "2021-12-20T12:03:13.566Z"
   },
   {
    "duration": 9,
    "start_time": "2021-12-20T12:03:13.612Z"
   },
   {
    "duration": 14,
    "start_time": "2021-12-20T12:03:13.623Z"
   },
   {
    "duration": 16,
    "start_time": "2021-12-20T12:03:13.639Z"
   },
   {
    "duration": 36,
    "start_time": "2021-12-20T12:03:13.656Z"
   },
   {
    "duration": 13,
    "start_time": "2021-12-20T12:03:13.694Z"
   },
   {
    "duration": 19,
    "start_time": "2021-12-20T12:03:13.709Z"
   },
   {
    "duration": 20,
    "start_time": "2021-12-20T12:03:13.730Z"
   },
   {
    "duration": 15,
    "start_time": "2021-12-20T12:03:13.751Z"
   },
   {
    "duration": 20,
    "start_time": "2021-12-20T12:03:13.767Z"
   },
   {
    "duration": 10,
    "start_time": "2021-12-20T12:03:13.789Z"
   },
   {
    "duration": 13,
    "start_time": "2021-12-20T12:03:13.801Z"
   },
   {
    "duration": 33,
    "start_time": "2021-12-20T12:03:13.816Z"
   },
   {
    "duration": 40,
    "start_time": "2021-12-20T12:03:13.850Z"
   },
   {
    "duration": 355,
    "start_time": "2021-12-20T12:03:13.892Z"
   },
   {
    "duration": 652,
    "start_time": "2021-12-20T12:03:13.597Z"
   },
   {
    "duration": 14,
    "start_time": "2021-12-20T12:03:17.407Z"
   },
   {
    "duration": 12,
    "start_time": "2021-12-20T12:04:49.266Z"
   },
   {
    "duration": 11,
    "start_time": "2021-12-20T12:06:42.662Z"
   },
   {
    "duration": 133,
    "start_time": "2021-12-20T12:06:47.476Z"
   },
   {
    "duration": 12,
    "start_time": "2021-12-20T12:06:51.702Z"
   },
   {
    "duration": 130,
    "start_time": "2021-12-20T12:06:52.436Z"
   },
   {
    "duration": 44,
    "start_time": "2021-12-20T12:07:03.450Z"
   },
   {
    "duration": 8,
    "start_time": "2021-12-20T12:07:03.496Z"
   },
   {
    "duration": 13,
    "start_time": "2021-12-20T12:07:03.505Z"
   },
   {
    "duration": 4,
    "start_time": "2021-12-20T12:07:03.520Z"
   },
   {
    "duration": 16,
    "start_time": "2021-12-20T12:07:03.526Z"
   },
   {
    "duration": 3,
    "start_time": "2021-12-20T12:07:03.544Z"
   },
   {
    "duration": 8,
    "start_time": "2021-12-20T12:07:03.548Z"
   },
   {
    "duration": 38,
    "start_time": "2021-12-20T12:07:03.559Z"
   },
   {
    "duration": 6,
    "start_time": "2021-12-20T12:07:03.599Z"
   },
   {
    "duration": 15,
    "start_time": "2021-12-20T12:07:03.607Z"
   },
   {
    "duration": 13,
    "start_time": "2021-12-20T12:07:03.624Z"
   },
   {
    "duration": 17,
    "start_time": "2021-12-20T12:07:03.638Z"
   },
   {
    "duration": 42,
    "start_time": "2021-12-20T12:07:03.657Z"
   },
   {
    "duration": 34,
    "start_time": "2021-12-20T12:07:03.701Z"
   },
   {
    "duration": 352,
    "start_time": "2021-12-20T12:07:03.737Z"
   },
   {
    "duration": 682,
    "start_time": "2021-12-20T12:07:03.409Z"
   },
   {
    "duration": 678,
    "start_time": "2021-12-20T12:07:03.413Z"
   },
   {
    "duration": 119,
    "start_time": "2021-12-20T12:07:09.518Z"
   },
   {
    "duration": 13,
    "start_time": "2021-12-20T12:07:10.998Z"
   },
   {
    "duration": 128,
    "start_time": "2021-12-20T12:07:12.860Z"
   },
   {
    "duration": 46,
    "start_time": "2021-12-20T12:16:37.186Z"
   },
   {
    "duration": 9,
    "start_time": "2021-12-20T12:16:37.234Z"
   },
   {
    "duration": 10,
    "start_time": "2021-12-20T12:16:37.245Z"
   },
   {
    "duration": 4,
    "start_time": "2021-12-20T12:16:37.257Z"
   },
   {
    "duration": 37,
    "start_time": "2021-12-20T12:16:37.262Z"
   },
   {
    "duration": 3,
    "start_time": "2021-12-20T12:16:37.301Z"
   },
   {
    "duration": 9,
    "start_time": "2021-12-20T12:16:37.306Z"
   },
   {
    "duration": 13,
    "start_time": "2021-12-20T12:16:37.317Z"
   },
   {
    "duration": 5,
    "start_time": "2021-12-20T12:16:37.332Z"
   },
   {
    "duration": 17,
    "start_time": "2021-12-20T12:16:37.338Z"
   },
   {
    "duration": 35,
    "start_time": "2021-12-20T12:16:37.357Z"
   },
   {
    "duration": 5,
    "start_time": "2021-12-20T12:16:37.393Z"
   },
   {
    "duration": 16,
    "start_time": "2021-12-20T12:16:37.400Z"
   },
   {
    "duration": 31,
    "start_time": "2021-12-20T12:16:37.418Z"
   },
   {
    "duration": 154,
    "start_time": "2021-12-20T12:16:37.451Z"
   },
   {
    "duration": 12,
    "start_time": "2021-12-20T12:16:37.607Z"
   },
   {
    "duration": 137,
    "start_time": "2021-12-20T12:16:37.620Z"
   },
   {
    "duration": 33,
    "start_time": "2021-12-20T12:16:37.759Z"
   },
   {
    "duration": 12,
    "start_time": "2021-12-20T12:16:37.794Z"
   },
   {
    "duration": 177,
    "start_time": "2021-12-20T12:16:37.807Z"
   },
   {
    "duration": 174,
    "start_time": "2021-12-20T12:16:37.986Z"
   },
   {
    "duration": 6,
    "start_time": "2021-12-20T12:16:38.162Z"
   },
   {
    "duration": 28,
    "start_time": "2021-12-20T12:16:38.172Z"
   },
   {
    "duration": 3,
    "start_time": "2021-12-20T12:16:38.202Z"
   },
   {
    "duration": 15,
    "start_time": "2021-12-20T12:16:38.207Z"
   },
   {
    "duration": 31,
    "start_time": "2021-12-20T12:16:38.223Z"
   },
   {
    "duration": 34,
    "start_time": "2021-12-20T12:16:38.256Z"
   },
   {
    "duration": 13,
    "start_time": "2021-12-20T12:16:38.291Z"
   },
   {
    "duration": 295,
    "start_time": "2021-12-20T12:16:38.306Z"
   },
   {
    "duration": 272,
    "start_time": "2021-12-20T12:16:38.602Z"
   },
   {
    "duration": 35,
    "start_time": "2021-12-20T12:16:38.876Z"
   },
   {
    "duration": 555,
    "start_time": "2021-12-20T12:16:38.913Z"
   },
   {
    "duration": 661,
    "start_time": "2021-12-20T12:16:38.809Z"
   },
   {
    "duration": 658,
    "start_time": "2021-12-20T12:16:38.813Z"
   },
   {
    "duration": 652,
    "start_time": "2021-12-20T12:16:38.819Z"
   },
   {
    "duration": 648,
    "start_time": "2021-12-20T12:16:38.824Z"
   },
   {
    "duration": 644,
    "start_time": "2021-12-20T12:16:38.829Z"
   },
   {
    "duration": 642,
    "start_time": "2021-12-20T12:16:38.832Z"
   },
   {
    "duration": 639,
    "start_time": "2021-12-20T12:16:38.835Z"
   },
   {
    "duration": 638,
    "start_time": "2021-12-20T12:16:38.837Z"
   },
   {
    "duration": 635,
    "start_time": "2021-12-20T12:16:38.840Z"
   },
   {
    "duration": 633,
    "start_time": "2021-12-20T12:16:38.843Z"
   },
   {
    "duration": 630,
    "start_time": "2021-12-20T12:16:38.846Z"
   },
   {
    "duration": 628,
    "start_time": "2021-12-20T12:16:38.849Z"
   },
   {
    "duration": 626,
    "start_time": "2021-12-20T12:16:38.852Z"
   },
   {
    "duration": 301,
    "start_time": "2021-12-20T12:17:04.566Z"
   },
   {
    "duration": 258,
    "start_time": "2021-12-20T12:17:26.199Z"
   },
   {
    "duration": 527,
    "start_time": "2021-12-20T12:17:29.615Z"
   },
   {
    "duration": 552,
    "start_time": "2021-12-20T12:18:14.337Z"
   },
   {
    "duration": 242,
    "start_time": "2021-12-20T12:19:12.750Z"
   },
   {
    "duration": 294,
    "start_time": "2021-12-20T12:19:26.834Z"
   },
   {
    "duration": 216,
    "start_time": "2021-12-20T12:19:39.612Z"
   },
   {
    "duration": 231,
    "start_time": "2021-12-20T12:19:39.829Z"
   },
   {
    "duration": 302,
    "start_time": "2021-12-20T12:19:40.062Z"
   },
   {
    "duration": 300,
    "start_time": "2021-12-20T12:19:40.367Z"
   },
   {
    "duration": 22,
    "start_time": "2021-12-20T12:19:40.670Z"
   },
   {
    "duration": 231,
    "start_time": "2021-12-20T12:19:40.694Z"
   },
   {
    "duration": 244,
    "start_time": "2021-12-20T12:19:40.927Z"
   },
   {
    "duration": 360,
    "start_time": "2021-12-20T12:19:41.173Z"
   },
   {
    "duration": 326,
    "start_time": "2021-12-20T12:19:41.535Z"
   },
   {
    "duration": 5,
    "start_time": "2021-12-20T12:19:41.862Z"
   },
   {
    "duration": 402,
    "start_time": "2021-12-20T12:19:41.868Z"
   },
   {
    "duration": 607,
    "start_time": "2021-12-20T12:19:42.272Z"
   },
   {
    "duration": 661,
    "start_time": "2021-12-20T12:19:42.220Z"
   },
   {
    "duration": 351,
    "start_time": "2021-12-20T12:20:01.491Z"
   },
   {
    "duration": 95,
    "start_time": "2021-12-20T12:21:11.620Z"
   },
   {
    "duration": 13,
    "start_time": "2021-12-20T12:21:18.740Z"
   },
   {
    "duration": 131,
    "start_time": "2021-12-20T12:21:22.904Z"
   },
   {
    "duration": 23,
    "start_time": "2021-12-20T12:21:23.036Z"
   },
   {
    "duration": 9,
    "start_time": "2021-12-20T12:21:23.061Z"
   },
   {
    "duration": 204,
    "start_time": "2021-12-20T12:21:23.072Z"
   },
   {
    "duration": 187,
    "start_time": "2021-12-20T12:21:23.278Z"
   },
   {
    "duration": 6,
    "start_time": "2021-12-20T12:21:23.467Z"
   },
   {
    "duration": 22,
    "start_time": "2021-12-20T12:21:23.475Z"
   },
   {
    "duration": 3,
    "start_time": "2021-12-20T12:21:23.499Z"
   },
   {
    "duration": 13,
    "start_time": "2021-12-20T12:21:23.504Z"
   },
   {
    "duration": 32,
    "start_time": "2021-12-20T12:21:23.519Z"
   },
   {
    "duration": 35,
    "start_time": "2021-12-20T12:21:23.553Z"
   },
   {
    "duration": 13,
    "start_time": "2021-12-20T12:21:23.590Z"
   },
   {
    "duration": 308,
    "start_time": "2021-12-20T12:21:23.604Z"
   },
   {
    "duration": 300,
    "start_time": "2021-12-20T12:21:23.914Z"
   },
   {
    "duration": 23,
    "start_time": "2021-12-20T12:21:24.216Z"
   },
   {
    "duration": 570,
    "start_time": "2021-12-20T12:21:24.241Z"
   },
   {
    "duration": 224,
    "start_time": "2021-12-20T12:21:24.813Z"
   },
   {
    "duration": 234,
    "start_time": "2021-12-20T12:21:25.038Z"
   },
   {
    "duration": 297,
    "start_time": "2021-12-20T12:21:25.274Z"
   },
   {
    "duration": 298,
    "start_time": "2021-12-20T12:21:25.572Z"
   },
   {
    "duration": 16,
    "start_time": "2021-12-20T12:21:25.872Z"
   },
   {
    "duration": 223,
    "start_time": "2021-12-20T12:21:25.890Z"
   },
   {
    "duration": 230,
    "start_time": "2021-12-20T12:21:26.116Z"
   },
   {
    "duration": 356,
    "start_time": "2021-12-20T12:21:26.348Z"
   },
   {
    "duration": 315,
    "start_time": "2021-12-20T12:21:26.706Z"
   },
   {
    "duration": 5,
    "start_time": "2021-12-20T12:21:27.022Z"
   },
   {
    "duration": 360,
    "start_time": "2021-12-20T12:21:27.029Z"
   },
   {
    "duration": 202,
    "start_time": "2021-12-20T12:21:27.392Z"
   },
   {
    "duration": 594,
    "start_time": "2021-12-20T12:21:42.806Z"
   },
   {
    "duration": 2,
    "start_time": "2021-12-20T12:22:32.473Z"
   },
   {
    "duration": 45,
    "start_time": "2021-12-20T12:22:32.479Z"
   },
   {
    "duration": 10,
    "start_time": "2021-12-20T12:22:32.525Z"
   },
   {
    "duration": 185,
    "start_time": "2021-12-20T12:22:32.537Z"
   },
   {
    "duration": 179,
    "start_time": "2021-12-20T12:22:32.723Z"
   },
   {
    "duration": 6,
    "start_time": "2021-12-20T12:22:32.903Z"
   },
   {
    "duration": 25,
    "start_time": "2021-12-20T12:22:32.911Z"
   },
   {
    "duration": 4,
    "start_time": "2021-12-20T12:22:32.938Z"
   },
   {
    "duration": 14,
    "start_time": "2021-12-20T12:22:32.944Z"
   },
   {
    "duration": 50,
    "start_time": "2021-12-20T12:22:32.960Z"
   },
   {
    "duration": 10,
    "start_time": "2021-12-20T12:22:33.011Z"
   },
   {
    "duration": 13,
    "start_time": "2021-12-20T12:22:33.023Z"
   },
   {
    "duration": 302,
    "start_time": "2021-12-20T12:22:33.037Z"
   },
   {
    "duration": 278,
    "start_time": "2021-12-20T12:22:33.340Z"
   },
   {
    "duration": 24,
    "start_time": "2021-12-20T12:22:33.620Z"
   },
   {
    "duration": 313,
    "start_time": "2021-12-20T12:22:33.646Z"
   },
   {
    "duration": 223,
    "start_time": "2021-12-20T12:22:33.961Z"
   },
   {
    "duration": 226,
    "start_time": "2021-12-20T12:22:34.186Z"
   },
   {
    "duration": 267,
    "start_time": "2021-12-20T12:22:34.414Z"
   },
   {
    "duration": 311,
    "start_time": "2021-12-20T12:22:34.682Z"
   },
   {
    "duration": 9,
    "start_time": "2021-12-20T12:22:34.994Z"
   },
   {
    "duration": 241,
    "start_time": "2021-12-20T12:22:35.005Z"
   },
   {
    "duration": 234,
    "start_time": "2021-12-20T12:22:35.247Z"
   },
   {
    "duration": 355,
    "start_time": "2021-12-20T12:22:35.484Z"
   },
   {
    "duration": 557,
    "start_time": "2021-12-20T12:22:35.840Z"
   },
   {
    "duration": 5,
    "start_time": "2021-12-20T12:22:36.399Z"
   },
   {
    "duration": 618,
    "start_time": "2021-12-20T12:22:36.406Z"
   },
   {
    "duration": 641,
    "start_time": "2021-12-20T12:22:36.385Z"
   },
   {
    "duration": 408,
    "start_time": "2021-12-20T12:23:32.193Z"
   },
   {
    "duration": 1107,
    "start_time": "2021-12-20T12:24:11.460Z"
   },
   {
    "duration": 9,
    "start_time": "2021-12-20T12:24:12.569Z"
   },
   {
    "duration": 31,
    "start_time": "2021-12-20T12:24:12.580Z"
   },
   {
    "duration": 33,
    "start_time": "2021-12-20T12:24:12.612Z"
   },
   {
    "duration": 39,
    "start_time": "2021-12-20T12:24:12.647Z"
   },
   {
    "duration": 3,
    "start_time": "2021-12-20T12:24:12.688Z"
   },
   {
    "duration": 40,
    "start_time": "2021-12-20T12:24:12.692Z"
   },
   {
    "duration": 49,
    "start_time": "2021-12-20T12:24:12.735Z"
   },
   {
    "duration": 33,
    "start_time": "2021-12-20T12:24:12.786Z"
   },
   {
    "duration": 33,
    "start_time": "2021-12-20T12:24:12.821Z"
   },
   {
    "duration": 35,
    "start_time": "2021-12-20T12:24:12.855Z"
   },
   {
    "duration": 35,
    "start_time": "2021-12-20T12:24:12.891Z"
   },
   {
    "duration": 44,
    "start_time": "2021-12-20T12:24:12.928Z"
   },
   {
    "duration": 63,
    "start_time": "2021-12-20T12:24:12.973Z"
   },
   {
    "duration": 127,
    "start_time": "2021-12-20T12:24:13.038Z"
   },
   {
    "duration": 2,
    "start_time": "2021-12-20T12:24:13.167Z"
   },
   {
    "duration": 153,
    "start_time": "2021-12-20T12:24:13.170Z"
   },
   {
    "duration": 24,
    "start_time": "2021-12-20T12:24:13.325Z"
   },
   {
    "duration": 10,
    "start_time": "2021-12-20T12:24:13.351Z"
   },
   {
    "duration": 206,
    "start_time": "2021-12-20T12:24:13.362Z"
   },
   {
    "duration": 182,
    "start_time": "2021-12-20T12:24:13.570Z"
   },
   {
    "duration": 8,
    "start_time": "2021-12-20T12:24:13.754Z"
   },
   {
    "duration": 51,
    "start_time": "2021-12-20T12:24:13.765Z"
   },
   {
    "duration": 31,
    "start_time": "2021-12-20T12:24:13.819Z"
   },
   {
    "duration": 45,
    "start_time": "2021-12-20T12:24:13.852Z"
   },
   {
    "duration": 53,
    "start_time": "2021-12-20T12:24:13.899Z"
   },
   {
    "duration": 23,
    "start_time": "2021-12-20T12:24:13.953Z"
   },
   {
    "duration": 39,
    "start_time": "2021-12-20T12:24:13.978Z"
   },
   {
    "duration": 345,
    "start_time": "2021-12-20T12:24:14.018Z"
   },
   {
    "duration": 393,
    "start_time": "2021-12-20T12:24:14.366Z"
   },
   {
    "duration": 31,
    "start_time": "2021-12-20T12:24:14.761Z"
   },
   {
    "duration": 374,
    "start_time": "2021-12-20T12:24:14.794Z"
   },
   {
    "duration": 220,
    "start_time": "2021-12-20T12:24:15.170Z"
   },
   {
    "duration": 243,
    "start_time": "2021-12-20T12:24:15.391Z"
   },
   {
    "duration": 261,
    "start_time": "2021-12-20T12:24:15.635Z"
   },
   {
    "duration": 278,
    "start_time": "2021-12-20T12:24:15.897Z"
   },
   {
    "duration": 17,
    "start_time": "2021-12-20T12:24:16.176Z"
   },
   {
    "duration": 245,
    "start_time": "2021-12-20T12:24:16.194Z"
   },
   {
    "duration": 231,
    "start_time": "2021-12-20T12:24:16.441Z"
   },
   {
    "duration": 357,
    "start_time": "2021-12-20T12:24:16.674Z"
   },
   {
    "duration": 324,
    "start_time": "2021-12-20T12:24:17.033Z"
   },
   {
    "duration": 4,
    "start_time": "2021-12-20T12:24:17.358Z"
   },
   {
    "duration": 363,
    "start_time": "2021-12-20T12:24:17.363Z"
   },
   {
    "duration": 174,
    "start_time": "2021-12-20T12:24:17.728Z"
   },
   {
    "duration": 11,
    "start_time": "2021-12-20T12:24:27.906Z"
   },
   {
    "duration": 216,
    "start_time": "2021-12-20T12:24:29.191Z"
   },
   {
    "duration": 44,
    "start_time": "2021-12-20T12:24:57.750Z"
   },
   {
    "duration": 8,
    "start_time": "2021-12-20T12:24:57.796Z"
   },
   {
    "duration": 12,
    "start_time": "2021-12-20T12:24:57.806Z"
   },
   {
    "duration": 4,
    "start_time": "2021-12-20T12:24:57.820Z"
   },
   {
    "duration": 15,
    "start_time": "2021-12-20T12:24:57.826Z"
   },
   {
    "duration": 4,
    "start_time": "2021-12-20T12:24:57.842Z"
   },
   {
    "duration": 45,
    "start_time": "2021-12-20T12:24:57.847Z"
   },
   {
    "duration": 13,
    "start_time": "2021-12-20T12:24:57.894Z"
   },
   {
    "duration": 5,
    "start_time": "2021-12-20T12:24:57.909Z"
   },
   {
    "duration": 14,
    "start_time": "2021-12-20T12:24:57.916Z"
   },
   {
    "duration": 9,
    "start_time": "2021-12-20T12:24:57.931Z"
   },
   {
    "duration": 6,
    "start_time": "2021-12-20T12:24:57.941Z"
   },
   {
    "duration": 42,
    "start_time": "2021-12-20T12:24:57.948Z"
   },
   {
    "duration": 33,
    "start_time": "2021-12-20T12:24:57.991Z"
   },
   {
    "duration": 131,
    "start_time": "2021-12-20T12:24:58.025Z"
   },
   {
    "duration": 10,
    "start_time": "2021-12-20T12:24:58.158Z"
   },
   {
    "duration": 37,
    "start_time": "2021-12-20T12:24:58.169Z"
   },
   {
    "duration": 10,
    "start_time": "2021-12-20T12:24:58.207Z"
   },
   {
    "duration": 173,
    "start_time": "2021-12-20T12:24:58.219Z"
   },
   {
    "duration": 167,
    "start_time": "2021-12-20T12:24:58.393Z"
   },
   {
    "duration": 6,
    "start_time": "2021-12-20T12:24:58.562Z"
   },
   {
    "duration": 26,
    "start_time": "2021-12-20T12:24:58.570Z"
   },
   {
    "duration": 6,
    "start_time": "2021-12-20T12:24:58.599Z"
   },
   {
    "duration": 13,
    "start_time": "2021-12-20T12:24:58.607Z"
   },
   {
    "duration": 31,
    "start_time": "2021-12-20T12:24:58.621Z"
   },
   {
    "duration": 10,
    "start_time": "2021-12-20T12:24:58.653Z"
   },
   {
    "duration": 14,
    "start_time": "2021-12-20T12:24:58.687Z"
   },
   {
    "duration": 279,
    "start_time": "2021-12-20T12:24:58.702Z"
   },
   {
    "duration": 307,
    "start_time": "2021-12-20T12:24:58.987Z"
   },
   {
    "duration": 25,
    "start_time": "2021-12-20T12:24:59.296Z"
   },
   {
    "duration": 319,
    "start_time": "2021-12-20T12:24:59.323Z"
   },
   {
    "duration": 215,
    "start_time": "2021-12-20T12:24:59.644Z"
   },
   {
    "duration": 230,
    "start_time": "2021-12-20T12:24:59.860Z"
   },
   {
    "duration": 287,
    "start_time": "2021-12-20T12:25:00.091Z"
   },
   {
    "duration": 283,
    "start_time": "2021-12-20T12:25:00.387Z"
   },
   {
    "duration": 16,
    "start_time": "2021-12-20T12:25:00.672Z"
   },
   {
    "duration": 236,
    "start_time": "2021-12-20T12:25:00.690Z"
   },
   {
    "duration": 337,
    "start_time": "2021-12-20T12:25:00.928Z"
   },
   {
    "duration": 366,
    "start_time": "2021-12-20T12:25:01.267Z"
   },
   {
    "duration": 332,
    "start_time": "2021-12-20T12:25:01.635Z"
   },
   {
    "duration": 4,
    "start_time": "2021-12-20T12:25:01.969Z"
   },
   {
    "duration": 349,
    "start_time": "2021-12-20T12:25:01.975Z"
   },
   {
    "duration": 191,
    "start_time": "2021-12-20T12:25:02.325Z"
   },
   {
    "duration": 309,
    "start_time": "2021-12-20T12:25:13.994Z"
   },
   {
    "duration": 435,
    "start_time": "2021-12-20T12:25:45.860Z"
   },
   {
    "duration": 22,
    "start_time": "2021-12-20T12:26:06.094Z"
   },
   {
    "duration": 350,
    "start_time": "2021-12-20T12:26:30.291Z"
   },
   {
    "duration": 19,
    "start_time": "2021-12-20T12:26:54.405Z"
   },
   {
    "duration": 1587,
    "start_time": "2021-12-21T06:08:59.377Z"
   },
   {
    "duration": 13,
    "start_time": "2021-12-21T06:09:00.967Z"
   },
   {
    "duration": 17,
    "start_time": "2021-12-21T06:09:00.983Z"
   },
   {
    "duration": 6,
    "start_time": "2021-12-21T06:09:01.023Z"
   },
   {
    "duration": 30,
    "start_time": "2021-12-21T06:09:01.031Z"
   },
   {
    "duration": 5,
    "start_time": "2021-12-21T06:09:01.063Z"
   },
   {
    "duration": 16,
    "start_time": "2021-12-21T06:09:01.070Z"
   },
   {
    "duration": 47,
    "start_time": "2021-12-21T06:09:01.090Z"
   },
   {
    "duration": 16,
    "start_time": "2021-12-21T06:09:01.140Z"
   },
   {
    "duration": 31,
    "start_time": "2021-12-21T06:09:01.159Z"
   },
   {
    "duration": 21,
    "start_time": "2021-12-21T06:09:01.192Z"
   },
   {
    "duration": 36,
    "start_time": "2021-12-21T06:09:01.216Z"
   },
   {
    "duration": 55,
    "start_time": "2021-12-21T06:09:01.254Z"
   },
   {
    "duration": 63,
    "start_time": "2021-12-21T06:09:01.312Z"
   },
   {
    "duration": 232,
    "start_time": "2021-12-21T06:09:01.377Z"
   },
   {
    "duration": 21,
    "start_time": "2021-12-21T06:09:01.611Z"
   },
   {
    "duration": 38,
    "start_time": "2021-12-21T06:09:01.634Z"
   },
   {
    "duration": 18,
    "start_time": "2021-12-21T06:09:01.675Z"
   },
   {
    "duration": 304,
    "start_time": "2021-12-21T06:09:01.724Z"
   },
   {
    "duration": 309,
    "start_time": "2021-12-21T06:09:02.030Z"
   },
   {
    "duration": 9,
    "start_time": "2021-12-21T06:09:02.342Z"
   },
   {
    "duration": 19,
    "start_time": "2021-12-21T06:09:02.354Z"
   },
   {
    "duration": 5,
    "start_time": "2021-12-21T06:09:02.378Z"
   },
   {
    "duration": 20,
    "start_time": "2021-12-21T06:09:02.423Z"
   },
   {
    "duration": 80,
    "start_time": "2021-12-21T06:09:02.445Z"
   },
   {
    "duration": 17,
    "start_time": "2021-12-21T06:09:02.528Z"
   },
   {
    "duration": 20,
    "start_time": "2021-12-21T06:09:02.547Z"
   },
   {
    "duration": 605,
    "start_time": "2021-12-21T06:09:02.569Z"
   },
   {
    "duration": 487,
    "start_time": "2021-12-21T06:09:03.177Z"
   },
   {
    "duration": 61,
    "start_time": "2021-12-21T06:09:03.667Z"
   },
   {
    "duration": 552,
    "start_time": "2021-12-21T06:09:03.730Z"
   },
   {
    "duration": 527,
    "start_time": "2021-12-21T06:09:04.284Z"
   },
   {
    "duration": 427,
    "start_time": "2021-12-21T06:09:04.813Z"
   },
   {
    "duration": 11,
    "start_time": "2021-12-21T06:09:05.242Z"
   },
   {
    "duration": 399,
    "start_time": "2021-12-21T06:09:05.255Z"
   },
   {
    "duration": 388,
    "start_time": "2021-12-21T06:09:05.657Z"
   },
   {
    "duration": 489,
    "start_time": "2021-12-21T06:09:06.048Z"
   },
   {
    "duration": 715,
    "start_time": "2021-12-21T06:09:06.541Z"
   },
   {
    "duration": 9,
    "start_time": "2021-12-21T06:09:07.260Z"
   },
   {
    "duration": 1038,
    "start_time": "2021-12-21T06:09:07.273Z"
   },
   {
    "duration": 2158,
    "start_time": "2021-12-21T06:09:06.156Z"
   },
   {
    "duration": 2156,
    "start_time": "2021-12-21T06:09:06.160Z"
   },
   {
    "duration": 567,
    "start_time": "2021-12-21T06:09:39.506Z"
   },
   {
    "duration": 564,
    "start_time": "2021-12-21T06:09:52.065Z"
   },
   {
    "duration": 831,
    "start_time": "2021-12-21T06:10:09.987Z"
   },
   {
    "duration": 686,
    "start_time": "2021-12-21T06:10:15.924Z"
   },
   {
    "duration": 425,
    "start_time": "2021-12-21T11:50:27.576Z"
   },
   {
    "duration": 1493,
    "start_time": "2021-12-21T11:50:30.898Z"
   },
   {
    "duration": 13,
    "start_time": "2021-12-21T11:50:32.394Z"
   },
   {
    "duration": 14,
    "start_time": "2021-12-21T11:50:32.410Z"
   },
   {
    "duration": 6,
    "start_time": "2021-12-21T11:50:32.427Z"
   },
   {
    "duration": 24,
    "start_time": "2021-12-21T11:50:32.460Z"
   },
   {
    "duration": 5,
    "start_time": "2021-12-21T11:50:32.486Z"
   },
   {
    "duration": 12,
    "start_time": "2021-12-21T11:50:32.493Z"
   },
   {
    "duration": 58,
    "start_time": "2021-12-21T11:50:32.509Z"
   },
   {
    "duration": 9,
    "start_time": "2021-12-21T11:50:32.570Z"
   },
   {
    "duration": 18,
    "start_time": "2021-12-21T11:50:32.581Z"
   },
   {
    "duration": 14,
    "start_time": "2021-12-21T11:50:32.601Z"
   },
   {
    "duration": 49,
    "start_time": "2021-12-21T11:50:32.617Z"
   },
   {
    "duration": 28,
    "start_time": "2021-12-21T11:50:32.668Z"
   },
   {
    "duration": 76,
    "start_time": "2021-12-21T11:50:32.698Z"
   },
   {
    "duration": 235,
    "start_time": "2021-12-21T11:50:32.777Z"
   },
   {
    "duration": 17,
    "start_time": "2021-12-21T11:50:33.015Z"
   },
   {
    "duration": 52,
    "start_time": "2021-12-21T11:50:33.035Z"
   },
   {
    "duration": 19,
    "start_time": "2021-12-21T11:50:33.089Z"
   },
   {
    "duration": 320,
    "start_time": "2021-12-21T11:50:33.110Z"
   },
   {
    "duration": 305,
    "start_time": "2021-12-21T11:50:33.433Z"
   },
   {
    "duration": 23,
    "start_time": "2021-12-21T11:50:33.742Z"
   },
   {
    "duration": 23,
    "start_time": "2021-12-21T11:50:33.768Z"
   },
   {
    "duration": 5,
    "start_time": "2021-12-21T11:50:33.795Z"
   },
   {
    "duration": 20,
    "start_time": "2021-12-21T11:50:33.803Z"
   },
   {
    "duration": 58,
    "start_time": "2021-12-21T11:50:33.859Z"
   },
   {
    "duration": 39,
    "start_time": "2021-12-21T11:50:33.920Z"
   },
   {
    "duration": 21,
    "start_time": "2021-12-21T11:50:33.961Z"
   },
   {
    "duration": 517,
    "start_time": "2021-12-21T11:50:33.984Z"
   },
   {
    "duration": 504,
    "start_time": "2021-12-21T11:50:34.504Z"
   },
   {
    "duration": 53,
    "start_time": "2021-12-21T11:50:35.010Z"
   },
   {
    "duration": 39,
    "start_time": "2021-12-21T11:50:35.065Z"
   },
   {
    "duration": 477,
    "start_time": "2021-12-21T12:02:54.271Z"
   },
   {
    "duration": 23,
    "start_time": "2021-12-21T12:03:17.273Z"
   },
   {
    "duration": 22,
    "start_time": "2021-12-21T12:03:32.680Z"
   },
   {
    "duration": 26,
    "start_time": "2021-12-21T12:03:38.961Z"
   },
   {
    "duration": 49,
    "start_time": "2021-12-21T12:04:39.814Z"
   },
   {
    "duration": 3465,
    "start_time": "2021-12-21T12:05:08.194Z"
   },
   {
    "duration": 54,
    "start_time": "2021-12-21T12:05:28.204Z"
   },
   {
    "duration": 636,
    "start_time": "2021-12-21T12:07:40.654Z"
   },
   {
    "duration": 1141,
    "start_time": "2021-12-21T12:07:50.272Z"
   },
   {
    "duration": 672,
    "start_time": "2021-12-21T12:08:04.952Z"
   },
   {
    "duration": 836,
    "start_time": "2021-12-21T12:08:40.496Z"
   },
   {
    "duration": 21,
    "start_time": "2021-12-21T12:09:01.896Z"
   },
   {
    "duration": 32,
    "start_time": "2021-12-21T12:11:33.174Z"
   },
   {
    "duration": 23,
    "start_time": "2021-12-21T12:12:57.358Z"
   },
   {
    "duration": 495,
    "start_time": "2021-12-21T12:13:23.792Z"
   },
   {
    "duration": 42,
    "start_time": "2021-12-21T12:18:21.190Z"
   },
   {
    "duration": 34,
    "start_time": "2021-12-21T12:19:01.567Z"
   },
   {
    "duration": 409,
    "start_time": "2021-12-21T12:20:50.412Z"
   },
   {
    "duration": 63,
    "start_time": "2021-12-21T12:20:56.089Z"
   },
   {
    "duration": 12253,
    "start_time": "2021-12-21T12:21:37.268Z"
   },
   {
    "duration": 11178,
    "start_time": "2021-12-21T12:22:08.969Z"
   },
   {
    "duration": 864,
    "start_time": "2021-12-21T12:22:45.757Z"
   },
   {
    "duration": 427,
    "start_time": "2021-12-21T12:23:17.558Z"
   },
   {
    "duration": 663,
    "start_time": "2021-12-21T12:33:30.005Z"
   },
   {
    "duration": 702,
    "start_time": "2021-12-21T12:33:30.671Z"
   },
   {
    "duration": 6,
    "start_time": "2021-12-21T12:33:31.377Z"
   },
   {
    "duration": 727,
    "start_time": "2021-12-21T12:33:32.276Z"
   },
   {
    "duration": 500,
    "start_time": "2021-12-21T12:33:34.244Z"
   },
   {
    "duration": 65,
    "start_time": "2021-12-21T12:33:53.690Z"
   },
   {
    "duration": 12,
    "start_time": "2021-12-21T12:33:53.758Z"
   },
   {
    "duration": 17,
    "start_time": "2021-12-21T12:33:53.774Z"
   },
   {
    "duration": 6,
    "start_time": "2021-12-21T12:33:53.793Z"
   },
   {
    "duration": 68,
    "start_time": "2021-12-21T12:33:53.801Z"
   },
   {
    "duration": 5,
    "start_time": "2021-12-21T12:33:53.872Z"
   },
   {
    "duration": 16,
    "start_time": "2021-12-21T12:33:53.880Z"
   },
   {
    "duration": 170,
    "start_time": "2021-12-21T12:33:53.901Z"
   },
   {
    "duration": 13,
    "start_time": "2021-12-21T12:33:54.075Z"
   },
   {
    "duration": 20,
    "start_time": "2021-12-21T12:33:54.091Z"
   },
   {
    "duration": 47,
    "start_time": "2021-12-21T12:33:54.114Z"
   },
   {
    "duration": 9,
    "start_time": "2021-12-21T12:33:54.163Z"
   },
   {
    "duration": 26,
    "start_time": "2021-12-21T12:33:54.174Z"
   },
   {
    "duration": 98,
    "start_time": "2021-12-21T12:33:54.202Z"
   },
   {
    "duration": 225,
    "start_time": "2021-12-21T12:33:54.303Z"
   },
   {
    "duration": 15,
    "start_time": "2021-12-21T12:33:54.531Z"
   },
   {
    "duration": 36,
    "start_time": "2021-12-21T12:33:54.560Z"
   },
   {
    "duration": 17,
    "start_time": "2021-12-21T12:33:54.599Z"
   },
   {
    "duration": 324,
    "start_time": "2021-12-21T12:33:54.619Z"
   },
   {
    "duration": 311,
    "start_time": "2021-12-21T12:33:54.945Z"
   },
   {
    "duration": 10,
    "start_time": "2021-12-21T12:33:55.260Z"
   },
   {
    "duration": 22,
    "start_time": "2021-12-21T12:33:55.273Z"
   },
   {
    "duration": 7,
    "start_time": "2021-12-21T12:33:55.302Z"
   },
   {
    "duration": 70,
    "start_time": "2021-12-21T12:33:55.312Z"
   },
   {
    "duration": 96,
    "start_time": "2021-12-21T12:33:55.385Z"
   },
   {
    "duration": 15,
    "start_time": "2021-12-21T12:33:55.484Z"
   },
   {
    "duration": 24,
    "start_time": "2021-12-21T12:33:55.502Z"
   },
   {
    "duration": 693,
    "start_time": "2021-12-21T12:33:55.529Z"
   },
   {
    "duration": 582,
    "start_time": "2021-12-21T12:33:56.224Z"
   },
   {
    "duration": 428,
    "start_time": "2021-12-21T12:33:56.809Z"
   },
   {
    "duration": 409,
    "start_time": "2021-12-21T12:33:57.240Z"
   },
   {
    "duration": 11,
    "start_time": "2021-12-21T12:33:57.661Z"
   },
   {
    "duration": 402,
    "start_time": "2021-12-21T12:33:57.674Z"
   },
   {
    "duration": 410,
    "start_time": "2021-12-21T12:33:58.079Z"
   },
   {
    "duration": 553,
    "start_time": "2021-12-21T12:33:58.492Z"
   },
   {
    "duration": 476,
    "start_time": "2021-12-21T12:33:59.047Z"
   },
   {
    "duration": 6,
    "start_time": "2021-12-21T12:33:59.525Z"
   },
   {
    "duration": 841,
    "start_time": "2021-12-21T12:33:59.533Z"
   },
   {
    "duration": 516,
    "start_time": "2021-12-21T12:34:00.377Z"
   },
   {
    "duration": 1558,
    "start_time": "2021-12-21T12:36:06.631Z"
   },
   {
    "duration": 16,
    "start_time": "2021-12-21T12:36:08.192Z"
   },
   {
    "duration": 21,
    "start_time": "2021-12-21T12:36:08.212Z"
   },
   {
    "duration": 28,
    "start_time": "2021-12-21T12:36:08.236Z"
   },
   {
    "duration": 27,
    "start_time": "2021-12-21T12:36:08.268Z"
   },
   {
    "duration": 6,
    "start_time": "2021-12-21T12:36:08.298Z"
   },
   {
    "duration": 19,
    "start_time": "2021-12-21T12:36:08.307Z"
   },
   {
    "duration": 24,
    "start_time": "2021-12-21T12:36:08.362Z"
   },
   {
    "duration": 8,
    "start_time": "2021-12-21T12:36:08.389Z"
   },
   {
    "duration": 15,
    "start_time": "2021-12-21T12:36:08.400Z"
   },
   {
    "duration": 53,
    "start_time": "2021-12-21T12:36:08.417Z"
   },
   {
    "duration": 8,
    "start_time": "2021-12-21T12:36:08.472Z"
   },
   {
    "duration": 26,
    "start_time": "2021-12-21T12:36:08.483Z"
   },
   {
    "duration": 89,
    "start_time": "2021-12-21T12:36:08.511Z"
   },
   {
    "duration": 236,
    "start_time": "2021-12-21T12:36:08.603Z"
   },
   {
    "duration": 28,
    "start_time": "2021-12-21T12:36:08.843Z"
   },
   {
    "duration": 40,
    "start_time": "2021-12-21T12:36:08.874Z"
   },
   {
    "duration": 50,
    "start_time": "2021-12-21T12:36:08.917Z"
   },
   {
    "duration": 324,
    "start_time": "2021-12-21T12:36:08.970Z"
   },
   {
    "duration": 318,
    "start_time": "2021-12-21T12:36:09.296Z"
   },
   {
    "duration": 12,
    "start_time": "2021-12-21T12:36:09.616Z"
   },
   {
    "duration": 46,
    "start_time": "2021-12-21T12:36:09.631Z"
   },
   {
    "duration": 6,
    "start_time": "2021-12-21T12:36:09.683Z"
   },
   {
    "duration": 21,
    "start_time": "2021-12-21T12:36:09.692Z"
   },
   {
    "duration": 92,
    "start_time": "2021-12-21T12:36:09.715Z"
   },
   {
    "duration": 15,
    "start_time": "2021-12-21T12:36:09.810Z"
   },
   {
    "duration": 45,
    "start_time": "2021-12-21T12:36:09.829Z"
   },
   {
    "duration": 537,
    "start_time": "2021-12-21T12:36:09.876Z"
   },
   {
    "duration": 605,
    "start_time": "2021-12-21T12:36:10.415Z"
   },
   {
    "duration": 456,
    "start_time": "2021-12-21T12:36:11.023Z"
   },
   {
    "duration": 534,
    "start_time": "2021-12-21T12:36:11.482Z"
   },
   {
    "duration": 12,
    "start_time": "2021-12-21T12:36:12.019Z"
   },
   {
    "duration": 440,
    "start_time": "2021-12-21T12:36:12.033Z"
   },
   {
    "duration": 431,
    "start_time": "2021-12-21T12:36:12.477Z"
   },
   {
    "duration": 538,
    "start_time": "2021-12-21T12:36:12.911Z"
   },
   {
    "duration": 489,
    "start_time": "2021-12-21T12:36:13.452Z"
   },
   {
    "duration": 15,
    "start_time": "2021-12-21T12:36:13.944Z"
   },
   {
    "duration": 777,
    "start_time": "2021-12-21T12:36:13.962Z"
   },
   {
    "duration": 646,
    "start_time": "2021-12-21T12:36:14.742Z"
   },
   {
    "duration": 424,
    "start_time": "2021-12-21T13:37:17.154Z"
   },
   {
    "duration": 39,
    "start_time": "2021-12-21T13:37:32.518Z"
   },
   {
    "duration": 45,
    "start_time": "2021-12-21T13:38:02.086Z"
   },
   {
    "duration": 60,
    "start_time": "2021-12-21T13:40:06.243Z"
   },
   {
    "duration": 74,
    "start_time": "2021-12-21T13:40:12.149Z"
   },
   {
    "duration": 133,
    "start_time": "2021-12-21T15:04:50.587Z"
   },
   {
    "duration": 447,
    "start_time": "2021-12-21T15:04:56.696Z"
   },
   {
    "duration": 405,
    "start_time": "2021-12-21T15:05:25.477Z"
   },
   {
    "duration": 56,
    "start_time": "2021-12-21T15:05:47.906Z"
   },
   {
    "duration": 18,
    "start_time": "2021-12-21T15:18:23.383Z"
   },
   {
    "duration": 519,
    "start_time": "2021-12-21T15:21:05.583Z"
   },
   {
    "duration": 19,
    "start_time": "2021-12-21T15:21:16.572Z"
   },
   {
    "duration": 11,
    "start_time": "2021-12-21T15:24:51.735Z"
   },
   {
    "duration": 17,
    "start_time": "2021-12-21T15:24:57.699Z"
   },
   {
    "duration": 301,
    "start_time": "2021-12-22T06:20:25.129Z"
   },
   {
    "duration": 1206,
    "start_time": "2021-12-22T06:20:33.271Z"
   },
   {
    "duration": 9,
    "start_time": "2021-12-22T06:20:34.479Z"
   },
   {
    "duration": 13,
    "start_time": "2021-12-22T06:20:34.491Z"
   },
   {
    "duration": 5,
    "start_time": "2021-12-22T06:20:34.505Z"
   },
   {
    "duration": 18,
    "start_time": "2021-12-22T06:20:34.512Z"
   },
   {
    "duration": 28,
    "start_time": "2021-12-22T06:20:34.532Z"
   },
   {
    "duration": 8,
    "start_time": "2021-12-22T06:20:34.562Z"
   },
   {
    "duration": 20,
    "start_time": "2021-12-22T06:20:34.573Z"
   },
   {
    "duration": 6,
    "start_time": "2021-12-22T06:20:34.595Z"
   },
   {
    "duration": 21,
    "start_time": "2021-12-22T06:20:34.603Z"
   },
   {
    "duration": 20,
    "start_time": "2021-12-22T06:20:34.625Z"
   },
   {
    "duration": 17,
    "start_time": "2021-12-22T06:20:34.646Z"
   },
   {
    "duration": 26,
    "start_time": "2021-12-22T06:20:34.664Z"
   },
   {
    "duration": 47,
    "start_time": "2021-12-22T06:20:34.692Z"
   },
   {
    "duration": 160,
    "start_time": "2021-12-22T06:20:34.741Z"
   },
   {
    "duration": 17,
    "start_time": "2021-12-22T06:20:34.903Z"
   },
   {
    "duration": 48,
    "start_time": "2021-12-22T06:20:34.923Z"
   },
   {
    "duration": 11,
    "start_time": "2021-12-22T06:20:34.973Z"
   },
   {
    "duration": 196,
    "start_time": "2021-12-22T06:20:34.986Z"
   },
   {
    "duration": 179,
    "start_time": "2021-12-22T06:20:35.183Z"
   },
   {
    "duration": 7,
    "start_time": "2021-12-22T06:20:35.364Z"
   },
   {
    "duration": 20,
    "start_time": "2021-12-22T06:20:35.372Z"
   },
   {
    "duration": 10,
    "start_time": "2021-12-22T06:20:35.395Z"
   },
   {
    "duration": 18,
    "start_time": "2021-12-22T06:20:35.408Z"
   },
   {
    "duration": 57,
    "start_time": "2021-12-22T06:20:35.428Z"
   },
   {
    "duration": 11,
    "start_time": "2021-12-22T06:20:35.486Z"
   },
   {
    "duration": 14,
    "start_time": "2021-12-22T06:20:35.499Z"
   },
   {
    "duration": 350,
    "start_time": "2021-12-22T06:20:35.515Z"
   },
   {
    "duration": 346,
    "start_time": "2021-12-22T06:20:35.867Z"
   },
   {
    "duration": 318,
    "start_time": "2021-12-22T06:20:36.215Z"
   },
   {
    "duration": 426,
    "start_time": "2021-12-22T06:20:36.535Z"
   },
   {
    "duration": 10,
    "start_time": "2021-12-22T06:20:36.963Z"
   },
   {
    "duration": 253,
    "start_time": "2021-12-22T06:20:36.975Z"
   },
   {
    "duration": 263,
    "start_time": "2021-12-22T06:20:37.230Z"
   },
   {
    "duration": 567,
    "start_time": "2021-12-22T06:20:37.495Z"
   },
   {
    "duration": 458,
    "start_time": "2021-12-22T06:20:38.064Z"
   },
   {
    "duration": 5,
    "start_time": "2021-12-22T06:20:38.560Z"
   },
   {
    "duration": 1080,
    "start_time": "2021-12-22T06:20:38.567Z"
   },
   {
    "duration": 1800,
    "start_time": "2021-12-22T06:20:37.849Z"
   },
   {
    "duration": 12,
    "start_time": "2021-12-22T06:20:56.176Z"
   },
   {
    "duration": 12,
    "start_time": "2021-12-22T06:21:08.626Z"
   },
   {
    "duration": 16,
    "start_time": "2021-12-22T06:21:10.809Z"
   },
   {
    "duration": 14,
    "start_time": "2021-12-22T06:21:40.410Z"
   },
   {
    "duration": 200,
    "start_time": "2021-12-22T06:21:43.376Z"
   },
   {
    "duration": 15,
    "start_time": "2021-12-22T06:22:21.349Z"
   },
   {
    "duration": 199,
    "start_time": "2021-12-22T06:22:21.367Z"
   },
   {
    "duration": 14,
    "start_time": "2021-12-22T06:22:33.186Z"
   },
   {
    "duration": 193,
    "start_time": "2021-12-22T06:22:36.154Z"
   },
   {
    "duration": 250,
    "start_time": "2021-12-22T06:23:26.004Z"
   },
   {
    "duration": 272,
    "start_time": "2021-12-22T06:24:29.942Z"
   },
   {
    "duration": 253,
    "start_time": "2021-12-22T06:25:05.094Z"
   },
   {
    "duration": 15,
    "start_time": "2021-12-22T06:25:15.448Z"
   },
   {
    "duration": 360,
    "start_time": "2021-12-22T06:25:15.974Z"
   },
   {
    "duration": 256,
    "start_time": "2021-12-22T06:25:18.176Z"
   },
   {
    "duration": 253,
    "start_time": "2021-12-22T06:40:57.937Z"
   },
   {
    "duration": 260,
    "start_time": "2021-12-22T06:41:09.256Z"
   },
   {
    "duration": 26,
    "start_time": "2021-12-22T06:41:11.224Z"
   },
   {
    "duration": 770,
    "start_time": "2021-12-22T06:41:12.400Z"
   },
   {
    "duration": 605,
    "start_time": "2021-12-22T06:41:49.475Z"
   },
   {
    "duration": 206,
    "start_time": "2021-12-22T06:42:09.282Z"
   },
   {
    "duration": 26,
    "start_time": "2021-12-22T06:42:26.602Z"
   },
   {
    "duration": 213,
    "start_time": "2021-12-22T06:42:27.250Z"
   },
   {
    "duration": 645,
    "start_time": "2021-12-22T06:42:50.941Z"
   },
   {
    "duration": 485,
    "start_time": "2021-12-22T06:43:05.204Z"
   },
   {
    "duration": 46,
    "start_time": "2021-12-22T09:55:38.054Z"
   },
   {
    "duration": 10,
    "start_time": "2021-12-22T09:55:38.102Z"
   },
   {
    "duration": 15,
    "start_time": "2021-12-22T09:55:38.114Z"
   },
   {
    "duration": 10,
    "start_time": "2021-12-22T09:55:38.131Z"
   },
   {
    "duration": 44,
    "start_time": "2021-12-22T09:55:38.142Z"
   },
   {
    "duration": 10,
    "start_time": "2021-12-22T09:55:38.188Z"
   },
   {
    "duration": 37,
    "start_time": "2021-12-22T09:55:38.200Z"
   },
   {
    "duration": 28,
    "start_time": "2021-12-22T09:55:38.240Z"
   },
   {
    "duration": 38,
    "start_time": "2021-12-22T09:55:38.270Z"
   },
   {
    "duration": 17,
    "start_time": "2021-12-22T09:55:38.310Z"
   },
   {
    "duration": 6,
    "start_time": "2021-12-22T09:58:09.408Z"
   },
   {
    "duration": 10,
    "start_time": "2021-12-22T09:58:15.484Z"
   },
   {
    "duration": 11,
    "start_time": "2021-12-22T09:58:24.092Z"
   },
   {
    "duration": 8,
    "start_time": "2021-12-22T10:25:09.038Z"
   },
   {
    "duration": 337,
    "start_time": "2021-12-22T10:25:20.654Z"
   },
   {
    "duration": 13,
    "start_time": "2021-12-22T10:25:31.232Z"
   },
   {
    "duration": 381,
    "start_time": "2021-12-22T10:56:02.334Z"
   },
   {
    "duration": 285,
    "start_time": "2021-12-22T11:01:13.086Z"
   },
   {
    "duration": 23,
    "start_time": "2021-12-22T11:02:51.948Z"
   },
   {
    "duration": 24,
    "start_time": "2021-12-22T11:03:38.498Z"
   },
   {
    "duration": 350,
    "start_time": "2021-12-22T11:04:36.836Z"
   },
   {
    "duration": 288,
    "start_time": "2021-12-22T11:04:39.393Z"
   },
   {
    "duration": 292,
    "start_time": "2021-12-22T11:18:18.208Z"
   },
   {
    "duration": 246,
    "start_time": "2021-12-22T11:24:59.474Z"
   },
   {
    "duration": 8,
    "start_time": "2021-12-22T11:25:07.762Z"
   },
   {
    "duration": 10,
    "start_time": "2021-12-22T11:27:14.118Z"
   },
   {
    "duration": 10,
    "start_time": "2021-12-22T11:27:32.158Z"
   },
   {
    "duration": 335,
    "start_time": "2021-12-22T11:29:11.872Z"
   },
   {
    "duration": 271,
    "start_time": "2021-12-22T11:29:48.498Z"
   },
   {
    "duration": 309,
    "start_time": "2021-12-22T11:30:20.162Z"
   },
   {
    "duration": 458,
    "start_time": "2021-12-22T13:46:50.405Z"
   },
   {
    "duration": 1709,
    "start_time": "2021-12-22T13:46:54.779Z"
   },
   {
    "duration": 19,
    "start_time": "2021-12-22T13:46:56.492Z"
   },
   {
    "duration": 15,
    "start_time": "2021-12-22T13:46:56.514Z"
   },
   {
    "duration": 38,
    "start_time": "2021-12-22T13:46:56.532Z"
   },
   {
    "duration": 23,
    "start_time": "2021-12-22T13:46:56.573Z"
   },
   {
    "duration": 5,
    "start_time": "2021-12-22T13:46:56.598Z"
   },
   {
    "duration": 15,
    "start_time": "2021-12-22T13:46:56.605Z"
   },
   {
    "duration": 65,
    "start_time": "2021-12-22T13:46:56.622Z"
   },
   {
    "duration": 9,
    "start_time": "2021-12-22T13:46:56.692Z"
   },
   {
    "duration": 10,
    "start_time": "2021-12-22T13:46:56.704Z"
   },
   {
    "duration": 16,
    "start_time": "2021-12-22T13:46:56.717Z"
   },
   {
    "duration": 43,
    "start_time": "2021-12-22T13:46:56.735Z"
   },
   {
    "duration": 14,
    "start_time": "2021-12-22T13:46:56.781Z"
   },
   {
    "duration": 65,
    "start_time": "2021-12-22T13:46:56.798Z"
   },
   {
    "duration": 78,
    "start_time": "2021-12-22T13:46:56.866Z"
   },
   {
    "duration": 350,
    "start_time": "2021-12-22T13:46:56.947Z"
   },
   {
    "duration": 18,
    "start_time": "2021-12-22T13:46:57.300Z"
   },
   {
    "duration": 69,
    "start_time": "2021-12-22T13:46:57.320Z"
   },
   {
    "duration": 15,
    "start_time": "2021-12-22T13:46:57.391Z"
   },
   {
    "duration": 364,
    "start_time": "2021-12-22T13:46:57.409Z"
   },
   {
    "duration": 303,
    "start_time": "2021-12-22T13:46:57.775Z"
   },
   {
    "duration": 10,
    "start_time": "2021-12-22T13:46:58.081Z"
   },
   {
    "duration": 23,
    "start_time": "2021-12-22T13:46:58.093Z"
   },
   {
    "duration": 45,
    "start_time": "2021-12-22T13:46:58.119Z"
   },
   {
    "duration": 34,
    "start_time": "2021-12-22T13:46:58.169Z"
   },
   {
    "duration": 95,
    "start_time": "2021-12-22T13:46:58.206Z"
   },
   {
    "duration": 22,
    "start_time": "2021-12-22T13:46:58.308Z"
   },
   {
    "duration": 53,
    "start_time": "2021-12-22T13:46:58.333Z"
   },
   {
    "duration": 736,
    "start_time": "2021-12-22T13:46:58.389Z"
   },
   {
    "duration": 603,
    "start_time": "2021-12-22T13:46:59.128Z"
   },
   {
    "duration": 485,
    "start_time": "2021-12-22T13:46:59.734Z"
   },
   {
    "duration": 518,
    "start_time": "2021-12-22T13:47:00.222Z"
   },
   {
    "duration": 23,
    "start_time": "2021-12-22T13:47:00.743Z"
   },
   {
    "duration": 486,
    "start_time": "2021-12-22T13:47:00.771Z"
   },
   {
    "duration": 482,
    "start_time": "2021-12-22T13:47:01.260Z"
   },
   {
    "duration": 16,
    "start_time": "2021-12-22T13:47:01.745Z"
   },
   {
    "duration": 519,
    "start_time": "2021-12-22T13:47:01.764Z"
   },
   {
    "duration": 20,
    "start_time": "2021-12-22T13:47:27.475Z"
   },
   {
    "duration": 420,
    "start_time": "2021-12-22T13:47:28.682Z"
   },
   {
    "duration": 475,
    "start_time": "2021-12-22T13:48:22.660Z"
   },
   {
    "duration": 497,
    "start_time": "2021-12-22T13:48:37.270Z"
   },
   {
    "duration": 463,
    "start_time": "2021-12-22T13:48:52.271Z"
   },
   {
    "duration": 637,
    "start_time": "2021-12-22T13:49:20.673Z"
   },
   {
    "duration": 456,
    "start_time": "2021-12-22T13:50:16.164Z"
   },
   {
    "duration": 439,
    "start_time": "2021-12-22T13:50:54.765Z"
   },
   {
    "duration": 381,
    "start_time": "2021-12-22T13:51:44.397Z"
   },
   {
    "duration": 69,
    "start_time": "2021-12-22T13:52:19.767Z"
   },
   {
    "duration": 27,
    "start_time": "2021-12-22T13:52:19.838Z"
   },
   {
    "duration": 12,
    "start_time": "2021-12-22T13:52:19.869Z"
   },
   {
    "duration": 6,
    "start_time": "2021-12-22T13:52:19.884Z"
   },
   {
    "duration": 21,
    "start_time": "2021-12-22T13:52:19.892Z"
   },
   {
    "duration": 46,
    "start_time": "2021-12-22T13:52:19.915Z"
   },
   {
    "duration": 11,
    "start_time": "2021-12-22T13:52:19.964Z"
   },
   {
    "duration": 22,
    "start_time": "2021-12-22T13:52:19.979Z"
   },
   {
    "duration": 13,
    "start_time": "2021-12-22T13:52:20.004Z"
   },
   {
    "duration": 42,
    "start_time": "2021-12-22T13:52:20.020Z"
   },
   {
    "duration": 20,
    "start_time": "2021-12-22T13:52:20.065Z"
   },
   {
    "duration": 15,
    "start_time": "2021-12-22T13:52:20.087Z"
   },
   {
    "duration": 10,
    "start_time": "2021-12-22T13:52:20.104Z"
   },
   {
    "duration": 62,
    "start_time": "2021-12-22T13:52:20.116Z"
   },
   {
    "duration": 51,
    "start_time": "2021-12-22T13:52:20.180Z"
   },
   {
    "duration": 229,
    "start_time": "2021-12-22T13:52:20.233Z"
   },
   {
    "duration": 18,
    "start_time": "2021-12-22T13:52:20.466Z"
   },
   {
    "duration": 37,
    "start_time": "2021-12-22T13:52:20.487Z"
   },
   {
    "duration": 46,
    "start_time": "2021-12-22T13:52:20.527Z"
   },
   {
    "duration": 410,
    "start_time": "2021-12-22T13:52:20.576Z"
   },
   {
    "duration": 324,
    "start_time": "2021-12-22T13:52:20.989Z"
   },
   {
    "duration": 10,
    "start_time": "2021-12-22T13:52:21.315Z"
   },
   {
    "duration": 46,
    "start_time": "2021-12-22T13:52:21.330Z"
   },
   {
    "duration": 7,
    "start_time": "2021-12-22T13:52:21.380Z"
   },
   {
    "duration": 33,
    "start_time": "2021-12-22T13:52:21.389Z"
   },
   {
    "duration": 77,
    "start_time": "2021-12-22T13:52:21.424Z"
   },
   {
    "duration": 15,
    "start_time": "2021-12-22T13:52:21.504Z"
   },
   {
    "duration": 49,
    "start_time": "2021-12-22T13:52:21.522Z"
   },
   {
    "duration": 509,
    "start_time": "2021-12-22T13:52:21.573Z"
   },
   {
    "duration": 550,
    "start_time": "2021-12-22T13:52:22.085Z"
   },
   {
    "duration": 412,
    "start_time": "2021-12-22T13:52:22.638Z"
   },
   {
    "duration": 406,
    "start_time": "2021-12-22T13:52:23.059Z"
   },
   {
    "duration": 13,
    "start_time": "2021-12-22T13:52:23.469Z"
   },
   {
    "duration": 527,
    "start_time": "2021-12-22T13:52:23.484Z"
   },
   {
    "duration": 531,
    "start_time": "2021-12-22T13:52:24.013Z"
   },
   {
    "duration": 19,
    "start_time": "2021-12-22T13:52:24.547Z"
   },
   {
    "duration": 20,
    "start_time": "2021-12-22T13:52:24.568Z"
   },
   {
    "duration": 454,
    "start_time": "2021-12-22T13:52:24.591Z"
   },
   {
    "duration": 447,
    "start_time": "2021-12-22T13:52:25.048Z"
   },
   {
    "duration": 401,
    "start_time": "2021-12-22T13:55:40.565Z"
   },
   {
    "duration": 71,
    "start_time": "2021-12-22T13:55:46.319Z"
   },
   {
    "duration": 14,
    "start_time": "2021-12-22T13:55:46.394Z"
   },
   {
    "duration": 15,
    "start_time": "2021-12-22T13:55:46.412Z"
   },
   {
    "duration": 6,
    "start_time": "2021-12-22T13:55:46.460Z"
   },
   {
    "duration": 25,
    "start_time": "2021-12-22T13:55:46.469Z"
   },
   {
    "duration": 6,
    "start_time": "2021-12-22T13:55:46.497Z"
   },
   {
    "duration": 15,
    "start_time": "2021-12-22T13:55:46.506Z"
   },
   {
    "duration": 58,
    "start_time": "2021-12-22T13:55:46.524Z"
   },
   {
    "duration": 9,
    "start_time": "2021-12-22T13:55:46.586Z"
   },
   {
    "duration": 10,
    "start_time": "2021-12-22T13:55:46.598Z"
   },
   {
    "duration": 50,
    "start_time": "2021-12-22T13:55:46.611Z"
   },
   {
    "duration": 19,
    "start_time": "2021-12-22T13:55:46.664Z"
   },
   {
    "duration": 14,
    "start_time": "2021-12-22T13:55:46.686Z"
   },
   {
    "duration": 72,
    "start_time": "2021-12-22T13:55:46.706Z"
   },
   {
    "duration": 77,
    "start_time": "2021-12-22T13:55:46.782Z"
   },
   {
    "duration": 339,
    "start_time": "2021-12-22T13:55:46.862Z"
   },
   {
    "duration": 17,
    "start_time": "2021-12-22T13:55:47.203Z"
   },
   {
    "duration": 63,
    "start_time": "2021-12-22T13:55:47.222Z"
   },
   {
    "duration": 21,
    "start_time": "2021-12-22T13:55:47.288Z"
   },
   {
    "duration": 483,
    "start_time": "2021-12-22T13:55:47.313Z"
   },
   {
    "duration": 428,
    "start_time": "2021-12-22T13:55:47.800Z"
   },
   {
    "duration": 10,
    "start_time": "2021-12-22T13:55:48.231Z"
   },
   {
    "duration": 35,
    "start_time": "2021-12-22T13:55:48.243Z"
   },
   {
    "duration": 5,
    "start_time": "2021-12-22T13:55:48.280Z"
   },
   {
    "duration": 24,
    "start_time": "2021-12-22T13:55:48.288Z"
   },
   {
    "duration": 99,
    "start_time": "2021-12-22T13:55:48.315Z"
   },
   {
    "duration": 45,
    "start_time": "2021-12-22T13:55:48.421Z"
   },
   {
    "duration": 29,
    "start_time": "2021-12-22T13:55:48.469Z"
   },
   {
    "duration": 583,
    "start_time": "2021-12-22T13:55:48.502Z"
   },
   {
    "duration": 604,
    "start_time": "2021-12-22T13:55:49.090Z"
   },
   {
    "duration": 407,
    "start_time": "2021-12-22T13:55:49.698Z"
   },
   {
    "duration": 460,
    "start_time": "2021-12-22T13:55:50.108Z"
   },
   {
    "duration": 14,
    "start_time": "2021-12-22T13:55:50.570Z"
   },
   {
    "duration": 535,
    "start_time": "2021-12-22T13:55:50.587Z"
   },
   {
    "duration": 627,
    "start_time": "2021-12-22T13:55:51.125Z"
   },
   {
    "duration": 11,
    "start_time": "2021-12-22T13:55:51.758Z"
   },
   {
    "duration": 28,
    "start_time": "2021-12-22T13:55:51.772Z"
   },
   {
    "duration": 671,
    "start_time": "2021-12-22T13:55:51.803Z"
   },
   {
    "duration": 668,
    "start_time": "2021-12-22T13:55:52.478Z"
   },
   {
    "duration": 1002,
    "start_time": "2021-12-22T14:02:27.402Z"
   },
   {
    "duration": 1347,
    "start_time": "2021-12-22T14:02:53.912Z"
   },
   {
    "duration": 122,
    "start_time": "2021-12-22T14:03:11.150Z"
   },
   {
    "duration": 727,
    "start_time": "2021-12-22T14:03:27.518Z"
   },
   {
    "duration": 420,
    "start_time": "2021-12-22T14:16:47.817Z"
   },
   {
    "duration": 1011,
    "start_time": "2021-12-22T14:17:10.722Z"
   },
   {
    "duration": 79,
    "start_time": "2021-12-22T14:18:00.308Z"
   },
   {
    "duration": 15,
    "start_time": "2021-12-22T14:18:00.390Z"
   },
   {
    "duration": 54,
    "start_time": "2021-12-22T14:18:00.409Z"
   },
   {
    "duration": 6,
    "start_time": "2021-12-22T14:18:00.466Z"
   },
   {
    "duration": 24,
    "start_time": "2021-12-22T14:18:00.474Z"
   },
   {
    "duration": 5,
    "start_time": "2021-12-22T14:18:00.500Z"
   },
   {
    "duration": 14,
    "start_time": "2021-12-22T14:18:00.508Z"
   },
   {
    "duration": 57,
    "start_time": "2021-12-22T14:18:00.526Z"
   },
   {
    "duration": 14,
    "start_time": "2021-12-22T14:18:00.587Z"
   },
   {
    "duration": 11,
    "start_time": "2021-12-22T14:18:00.604Z"
   },
   {
    "duration": 49,
    "start_time": "2021-12-22T14:18:00.617Z"
   },
   {
    "duration": 16,
    "start_time": "2021-12-22T14:18:00.669Z"
   },
   {
    "duration": 11,
    "start_time": "2021-12-22T14:18:00.688Z"
   },
   {
    "duration": 31,
    "start_time": "2021-12-22T14:18:00.701Z"
   },
   {
    "duration": 62,
    "start_time": "2021-12-22T14:18:00.760Z"
   },
   {
    "duration": 249,
    "start_time": "2021-12-22T14:18:00.825Z"
   },
   {
    "duration": 16,
    "start_time": "2021-12-22T14:18:01.077Z"
   },
   {
    "duration": 37,
    "start_time": "2021-12-22T14:18:01.095Z"
   },
   {
    "duration": 37,
    "start_time": "2021-12-22T14:18:01.134Z"
   },
   {
    "duration": 319,
    "start_time": "2021-12-22T14:18:01.173Z"
   },
   {
    "duration": 310,
    "start_time": "2021-12-22T14:18:01.494Z"
   },
   {
    "duration": 9,
    "start_time": "2021-12-22T14:18:01.806Z"
   },
   {
    "duration": 43,
    "start_time": "2021-12-22T14:18:01.820Z"
   },
   {
    "duration": 6,
    "start_time": "2021-12-22T14:18:01.866Z"
   },
   {
    "duration": 29,
    "start_time": "2021-12-22T14:18:01.875Z"
   },
   {
    "duration": 84,
    "start_time": "2021-12-22T14:18:01.907Z"
   },
   {
    "duration": 15,
    "start_time": "2021-12-22T14:18:01.994Z"
   },
   {
    "duration": 48,
    "start_time": "2021-12-22T14:18:02.012Z"
   },
   {
    "duration": 514,
    "start_time": "2021-12-22T14:18:02.063Z"
   },
   {
    "duration": 564,
    "start_time": "2021-12-22T14:18:02.579Z"
   },
   {
    "duration": 427,
    "start_time": "2021-12-22T14:18:03.145Z"
   },
   {
    "duration": 405,
    "start_time": "2021-12-22T14:18:03.575Z"
   },
   {
    "duration": 11,
    "start_time": "2021-12-22T14:18:03.983Z"
   },
   {
    "duration": 536,
    "start_time": "2021-12-22T14:18:03.996Z"
   },
   {
    "duration": 514,
    "start_time": "2021-12-22T14:18:04.534Z"
   },
   {
    "duration": 15,
    "start_time": "2021-12-22T14:18:05.051Z"
   },
   {
    "duration": 22,
    "start_time": "2021-12-22T14:18:05.069Z"
   },
   {
    "duration": 1039,
    "start_time": "2021-12-22T14:18:05.093Z"
   },
   {
    "duration": 1511,
    "start_time": "2021-12-22T14:19:44.060Z"
   },
   {
    "duration": 491,
    "start_time": "2021-12-22T14:19:51.401Z"
   },
   {
    "duration": 16,
    "start_time": "2021-12-22T14:19:58.197Z"
   },
   {
    "duration": 399,
    "start_time": "2021-12-22T14:21:24.579Z"
   },
   {
    "duration": 424,
    "start_time": "2021-12-22T14:21:32.172Z"
   },
   {
    "duration": 579,
    "start_time": "2021-12-22T14:21:51.960Z"
   },
   {
    "duration": 362,
    "start_time": "2021-12-22T14:41:47.748Z"
   },
   {
    "duration": 723,
    "start_time": "2021-12-22T14:41:56.544Z"
   },
   {
    "duration": 39,
    "start_time": "2021-12-22T14:41:59.824Z"
   },
   {
    "duration": 841,
    "start_time": "2021-12-22T14:42:00.926Z"
   },
   {
    "duration": 1031,
    "start_time": "2021-12-22T14:43:32.545Z"
   },
   {
    "duration": 850,
    "start_time": "2021-12-22T14:44:18.100Z"
   },
   {
    "duration": 338,
    "start_time": "2021-12-22T16:28:22.716Z"
   },
   {
    "duration": 1466,
    "start_time": "2021-12-22T16:28:38.670Z"
   },
   {
    "duration": 16,
    "start_time": "2021-12-22T16:28:40.139Z"
   },
   {
    "duration": 17,
    "start_time": "2021-12-22T16:28:40.159Z"
   },
   {
    "duration": 7,
    "start_time": "2021-12-22T16:28:40.180Z"
   },
   {
    "duration": 23,
    "start_time": "2021-12-22T16:28:40.224Z"
   },
   {
    "duration": 5,
    "start_time": "2021-12-22T16:28:40.249Z"
   },
   {
    "duration": 12,
    "start_time": "2021-12-22T16:28:40.256Z"
   },
   {
    "duration": 57,
    "start_time": "2021-12-22T16:28:40.275Z"
   },
   {
    "duration": 10,
    "start_time": "2021-12-22T16:28:40.335Z"
   },
   {
    "duration": 9,
    "start_time": "2021-12-22T16:28:40.347Z"
   },
   {
    "duration": 16,
    "start_time": "2021-12-22T16:28:40.358Z"
   },
   {
    "duration": 53,
    "start_time": "2021-12-22T16:28:40.377Z"
   },
   {
    "duration": 9,
    "start_time": "2021-12-22T16:28:40.432Z"
   },
   {
    "duration": 26,
    "start_time": "2021-12-22T16:28:40.443Z"
   },
   {
    "duration": 100,
    "start_time": "2021-12-22T16:28:40.471Z"
   },
   {
    "duration": 248,
    "start_time": "2021-12-22T16:28:40.573Z"
   },
   {
    "duration": 16,
    "start_time": "2021-12-22T16:28:40.824Z"
   },
   {
    "duration": 36,
    "start_time": "2021-12-22T16:28:40.842Z"
   },
   {
    "duration": 46,
    "start_time": "2021-12-22T16:28:40.881Z"
   },
   {
    "duration": 460,
    "start_time": "2021-12-22T16:28:40.930Z"
   },
   {
    "duration": 365,
    "start_time": "2021-12-22T16:28:41.393Z"
   },
   {
    "duration": 10,
    "start_time": "2021-12-22T16:28:41.760Z"
   },
   {
    "duration": 21,
    "start_time": "2021-12-22T16:28:41.775Z"
   },
   {
    "duration": 26,
    "start_time": "2021-12-22T16:28:41.799Z"
   },
   {
    "duration": 20,
    "start_time": "2021-12-22T16:28:41.828Z"
   },
   {
    "duration": 93,
    "start_time": "2021-12-22T16:28:41.851Z"
   },
   {
    "duration": 22,
    "start_time": "2021-12-22T16:28:41.947Z"
   },
   {
    "duration": 51,
    "start_time": "2021-12-22T16:28:41.972Z"
   },
   {
    "duration": 505,
    "start_time": "2021-12-22T16:28:42.026Z"
   },
   {
    "duration": 545,
    "start_time": "2021-12-22T16:28:42.533Z"
   },
   {
    "duration": 423,
    "start_time": "2021-12-22T16:28:43.081Z"
   },
   {
    "duration": 494,
    "start_time": "2021-12-22T16:28:43.507Z"
   },
   {
    "duration": 21,
    "start_time": "2021-12-22T16:28:44.004Z"
   },
   {
    "duration": 467,
    "start_time": "2021-12-22T16:28:44.027Z"
   },
   {
    "duration": 490,
    "start_time": "2021-12-22T16:28:44.496Z"
   },
   {
    "duration": 10,
    "start_time": "2021-12-22T16:28:44.988Z"
   },
   {
    "duration": 36,
    "start_time": "2021-12-22T16:28:45.001Z"
   },
   {
    "duration": 451,
    "start_time": "2021-12-22T16:28:45.040Z"
   },
   {
    "duration": 727,
    "start_time": "2021-12-22T16:28:45.493Z"
   },
   {
    "duration": 850,
    "start_time": "2021-12-22T16:28:46.224Z"
   },
   {
    "duration": 818,
    "start_time": "2021-12-22T16:28:47.077Z"
   },
   {
    "duration": 916,
    "start_time": "2021-12-22T16:28:57.935Z"
   },
   {
    "duration": 805,
    "start_time": "2021-12-22T16:33:26.573Z"
   },
   {
    "duration": 829,
    "start_time": "2021-12-22T16:39:30.415Z"
   },
   {
    "duration": 444,
    "start_time": "2021-12-22T16:43:18.453Z"
   },
   {
    "duration": 65,
    "start_time": "2021-12-22T16:43:43.885Z"
   },
   {
    "duration": 15,
    "start_time": "2021-12-22T16:44:33.704Z"
   },
   {
    "duration": 32,
    "start_time": "2021-12-22T16:45:00.137Z"
   },
   {
    "duration": 101,
    "start_time": "2021-12-22T16:46:11.134Z"
   },
   {
    "duration": 274,
    "start_time": "2021-12-22T16:46:19.672Z"
   },
   {
    "duration": 16,
    "start_time": "2021-12-22T16:46:33.101Z"
   },
   {
    "duration": 305,
    "start_time": "2021-12-22T16:46:58.828Z"
   },
   {
    "duration": 18,
    "start_time": "2021-12-22T16:47:09.858Z"
   },
   {
    "duration": 31,
    "start_time": "2021-12-22T16:48:42.196Z"
   },
   {
    "duration": 16,
    "start_time": "2021-12-22T16:52:18.396Z"
   },
   {
    "duration": 15,
    "start_time": "2021-12-22T16:52:45.166Z"
   },
   {
    "duration": 18,
    "start_time": "2021-12-22T16:53:32.947Z"
   },
   {
    "duration": 7,
    "start_time": "2021-12-22T16:57:31.696Z"
   },
   {
    "duration": 63,
    "start_time": "2021-12-22T16:57:58.258Z"
   },
   {
    "duration": 62,
    "start_time": "2021-12-22T16:59:13.634Z"
   },
   {
    "duration": 15,
    "start_time": "2021-12-22T16:59:41.468Z"
   },
   {
    "duration": 9,
    "start_time": "2021-12-22T16:59:47.808Z"
   },
   {
    "duration": 50,
    "start_time": "2021-12-22T17:04:11.224Z"
   },
   {
    "duration": 31,
    "start_time": "2021-12-22T17:15:39.969Z"
   },
   {
    "duration": 43,
    "start_time": "2021-12-22T17:15:56.605Z"
   },
   {
    "duration": 48,
    "start_time": "2021-12-22T17:16:12.612Z"
   },
   {
    "duration": 45,
    "start_time": "2021-12-22T17:16:58.783Z"
   },
   {
    "duration": 50,
    "start_time": "2021-12-22T17:17:05.631Z"
   },
   {
    "duration": 14,
    "start_time": "2021-12-22T17:24:20.641Z"
   },
   {
    "duration": 8,
    "start_time": "2021-12-22T17:24:21.539Z"
   },
   {
    "duration": 289,
    "start_time": "2021-12-22T17:34:48.208Z"
   },
   {
    "duration": 64,
    "start_time": "2021-12-22T17:34:59.997Z"
   },
   {
    "duration": 14,
    "start_time": "2021-12-22T17:35:00.064Z"
   },
   {
    "duration": 17,
    "start_time": "2021-12-22T17:35:00.081Z"
   },
   {
    "duration": 8,
    "start_time": "2021-12-22T17:35:00.124Z"
   },
   {
    "duration": 24,
    "start_time": "2021-12-22T17:35:00.134Z"
   },
   {
    "duration": 5,
    "start_time": "2021-12-22T17:35:00.161Z"
   },
   {
    "duration": 13,
    "start_time": "2021-12-22T17:35:00.168Z"
   },
   {
    "duration": 55,
    "start_time": "2021-12-22T17:35:00.183Z"
   },
   {
    "duration": 8,
    "start_time": "2021-12-22T17:35:00.243Z"
   },
   {
    "duration": 13,
    "start_time": "2021-12-22T17:35:00.254Z"
   },
   {
    "duration": 20,
    "start_time": "2021-12-22T17:35:00.269Z"
   },
   {
    "duration": 46,
    "start_time": "2021-12-22T17:35:00.292Z"
   },
   {
    "duration": 11,
    "start_time": "2021-12-22T17:35:00.340Z"
   },
   {
    "duration": 28,
    "start_time": "2021-12-22T17:35:00.353Z"
   },
   {
    "duration": 79,
    "start_time": "2021-12-22T17:35:00.383Z"
   },
   {
    "duration": 235,
    "start_time": "2021-12-22T17:35:00.464Z"
   },
   {
    "duration": 24,
    "start_time": "2021-12-22T17:35:00.702Z"
   },
   {
    "duration": 39,
    "start_time": "2021-12-22T17:35:00.728Z"
   },
   {
    "duration": 16,
    "start_time": "2021-12-22T17:35:00.770Z"
   },
   {
    "duration": 311,
    "start_time": "2021-12-22T17:35:00.788Z"
   },
   {
    "duration": 304,
    "start_time": "2021-12-22T17:35:01.101Z"
   },
   {
    "duration": 20,
    "start_time": "2021-12-22T17:35:01.407Z"
   },
   {
    "duration": 34,
    "start_time": "2021-12-22T17:35:01.429Z"
   },
   {
    "duration": 21,
    "start_time": "2021-12-22T17:35:01.466Z"
   },
   {
    "duration": 1198,
    "start_time": "2021-12-23T05:32:39.425Z"
   },
   {
    "duration": 11,
    "start_time": "2021-12-23T05:32:40.625Z"
   },
   {
    "duration": 30,
    "start_time": "2021-12-23T05:32:40.638Z"
   },
   {
    "duration": 11,
    "start_time": "2021-12-23T05:32:40.670Z"
   },
   {
    "duration": 30,
    "start_time": "2021-12-23T05:32:40.682Z"
   },
   {
    "duration": 25,
    "start_time": "2021-12-23T05:32:40.713Z"
   },
   {
    "duration": 28,
    "start_time": "2021-12-23T05:32:40.739Z"
   },
   {
    "duration": 36,
    "start_time": "2021-12-23T05:32:40.769Z"
   },
   {
    "duration": 6,
    "start_time": "2021-12-23T05:32:40.807Z"
   },
   {
    "duration": 22,
    "start_time": "2021-12-23T05:32:40.815Z"
   },
   {
    "duration": 15,
    "start_time": "2021-12-23T05:32:40.838Z"
   },
   {
    "duration": 17,
    "start_time": "2021-12-23T05:32:40.855Z"
   },
   {
    "duration": 24,
    "start_time": "2021-12-23T05:32:40.874Z"
   },
   {
    "duration": 34,
    "start_time": "2021-12-23T05:32:40.900Z"
   },
   {
    "duration": 43,
    "start_time": "2021-12-23T05:32:40.936Z"
   },
   {
    "duration": 111,
    "start_time": "2021-12-23T05:32:40.981Z"
   },
   {
    "duration": 10,
    "start_time": "2021-12-23T05:32:41.094Z"
   },
   {
    "duration": 36,
    "start_time": "2021-12-23T05:32:41.106Z"
   },
   {
    "duration": 10,
    "start_time": "2021-12-23T05:32:41.143Z"
   },
   {
    "duration": 172,
    "start_time": "2021-12-23T05:32:41.154Z"
   },
   {
    "duration": 167,
    "start_time": "2021-12-23T05:32:41.327Z"
   },
   {
    "duration": 7,
    "start_time": "2021-12-23T05:32:41.496Z"
   },
   {
    "duration": 17,
    "start_time": "2021-12-23T05:32:41.505Z"
   },
   {
    "duration": 25,
    "start_time": "2021-12-23T05:32:41.524Z"
   },
   {
    "duration": 4,
    "start_time": "2021-12-23T05:32:41.551Z"
   },
   {
    "duration": 13,
    "start_time": "2021-12-23T05:32:41.557Z"
   },
   {
    "duration": 31,
    "start_time": "2021-12-23T05:32:41.572Z"
   },
   {
    "duration": 38,
    "start_time": "2021-12-23T05:32:41.605Z"
   },
   {
    "duration": 12,
    "start_time": "2021-12-23T05:32:41.644Z"
   },
   {
    "duration": 292,
    "start_time": "2021-12-23T05:32:41.657Z"
   },
   {
    "duration": 300,
    "start_time": "2021-12-23T05:32:41.950Z"
   },
   {
    "duration": 302,
    "start_time": "2021-12-23T05:32:42.251Z"
   },
   {
    "duration": 389,
    "start_time": "2021-12-23T05:32:42.555Z"
   },
   {
    "duration": 8,
    "start_time": "2021-12-23T05:32:42.945Z"
   },
   {
    "duration": 339,
    "start_time": "2021-12-23T05:32:42.955Z"
   },
   {
    "duration": 426,
    "start_time": "2021-12-23T05:32:43.295Z"
   },
   {
    "duration": 9,
    "start_time": "2021-12-23T05:32:43.723Z"
   },
   {
    "duration": 15,
    "start_time": "2021-12-23T05:32:43.741Z"
   },
   {
    "duration": 360,
    "start_time": "2021-12-23T05:32:43.758Z"
   },
   {
    "duration": 606,
    "start_time": "2021-12-23T05:32:44.120Z"
   },
   {
    "duration": 692,
    "start_time": "2021-12-23T05:32:44.728Z"
   },
   {
    "duration": 678,
    "start_time": "2021-12-23T05:32:45.422Z"
   },
   {
    "duration": 776,
    "start_time": "2021-12-23T05:32:46.102Z"
   },
   {
    "duration": 11,
    "start_time": "2021-12-23T05:32:46.880Z"
   },
   {
    "duration": 7,
    "start_time": "2021-12-23T05:32:46.892Z"
   },
   {
    "duration": 14,
    "start_time": "2021-12-23T05:32:46.900Z"
   },
   {
    "duration": 6,
    "start_time": "2021-12-23T05:34:05.234Z"
   },
   {
    "duration": 9,
    "start_time": "2021-12-23T05:56:38.070Z"
   },
   {
    "duration": 13,
    "start_time": "2021-12-23T05:56:45.246Z"
   },
   {
    "duration": 13,
    "start_time": "2021-12-23T05:56:51.543Z"
   },
   {
    "duration": 462,
    "start_time": "2021-12-23T05:57:19.358Z"
   },
   {
    "duration": 439,
    "start_time": "2021-12-23T05:57:29.150Z"
   },
   {
    "duration": 17,
    "start_time": "2021-12-23T05:59:47.715Z"
   },
   {
    "duration": 79,
    "start_time": "2021-12-23T06:01:27.039Z"
   },
   {
    "duration": 22,
    "start_time": "2021-12-23T06:01:38.143Z"
   },
   {
    "duration": 23,
    "start_time": "2021-12-23T06:02:17.793Z"
   },
   {
    "duration": 453,
    "start_time": "2021-12-23T06:07:16.329Z"
   },
   {
    "duration": 103,
    "start_time": "2021-12-23T06:07:56.672Z"
   },
   {
    "duration": 104,
    "start_time": "2021-12-23T06:08:05.298Z"
   },
   {
    "duration": 108,
    "start_time": "2021-12-23T06:08:20.002Z"
   },
   {
    "duration": 119,
    "start_time": "2021-12-23T06:08:53.808Z"
   },
   {
    "duration": 409,
    "start_time": "2021-12-23T06:11:32.926Z"
   },
   {
    "duration": 364,
    "start_time": "2021-12-23T06:12:36.126Z"
   },
   {
    "duration": 321,
    "start_time": "2021-12-23T06:15:32.203Z"
   },
   {
    "duration": 47,
    "start_time": "2021-12-23T06:15:55.451Z"
   },
   {
    "duration": 8151,
    "start_time": "2021-12-23T06:15:55.500Z"
   },
   {
    "duration": 1479,
    "start_time": "2021-12-23T06:16:02.176Z"
   },
   {
    "duration": 1451,
    "start_time": "2021-12-23T06:16:02.205Z"
   },
   {
    "duration": 1422,
    "start_time": "2021-12-23T06:16:02.235Z"
   },
   {
    "duration": 1410,
    "start_time": "2021-12-23T06:16:02.248Z"
   },
   {
    "duration": 1406,
    "start_time": "2021-12-23T06:16:02.253Z"
   },
   {
    "duration": 1394,
    "start_time": "2021-12-23T06:16:02.266Z"
   },
   {
    "duration": 1372,
    "start_time": "2021-12-23T06:16:02.289Z"
   },
   {
    "duration": 1351,
    "start_time": "2021-12-23T06:16:02.312Z"
   },
   {
    "duration": 1348,
    "start_time": "2021-12-23T06:16:02.316Z"
   },
   {
    "duration": 1344,
    "start_time": "2021-12-23T06:16:02.321Z"
   },
   {
    "duration": 1294,
    "start_time": "2021-12-23T06:16:02.372Z"
   },
   {
    "duration": 1282,
    "start_time": "2021-12-23T06:16:02.385Z"
   },
   {
    "duration": 1270,
    "start_time": "2021-12-23T06:16:02.398Z"
   },
   {
    "duration": 1266,
    "start_time": "2021-12-23T06:16:02.403Z"
   },
   {
    "duration": 1250,
    "start_time": "2021-12-23T06:16:02.420Z"
   },
   {
    "duration": 1240,
    "start_time": "2021-12-23T06:16:02.431Z"
   },
   {
    "duration": 1236,
    "start_time": "2021-12-23T06:16:02.437Z"
   },
   {
    "duration": 1229,
    "start_time": "2021-12-23T06:16:02.445Z"
   },
   {
    "duration": 1225,
    "start_time": "2021-12-23T06:16:02.450Z"
   },
   {
    "duration": 1219,
    "start_time": "2021-12-23T06:16:02.457Z"
   },
   {
    "duration": 1207,
    "start_time": "2021-12-23T06:16:02.470Z"
   },
   {
    "duration": 1174,
    "start_time": "2021-12-23T06:16:02.504Z"
   },
   {
    "duration": 1158,
    "start_time": "2021-12-23T06:16:02.521Z"
   },
   {
    "duration": 1149,
    "start_time": "2021-12-23T06:16:02.531Z"
   },
   {
    "duration": 1142,
    "start_time": "2021-12-23T06:16:02.539Z"
   },
   {
    "duration": 1132,
    "start_time": "2021-12-23T06:16:02.550Z"
   },
   {
    "duration": 1120,
    "start_time": "2021-12-23T06:16:02.563Z"
   },
   {
    "duration": 1117,
    "start_time": "2021-12-23T06:16:02.567Z"
   },
   {
    "duration": 1108,
    "start_time": "2021-12-23T06:16:02.577Z"
   },
   {
    "duration": 1105,
    "start_time": "2021-12-23T06:16:02.581Z"
   },
   {
    "duration": 1082,
    "start_time": "2021-12-23T06:16:02.605Z"
   },
   {
    "duration": 1079,
    "start_time": "2021-12-23T06:16:02.609Z"
   },
   {
    "duration": 1060,
    "start_time": "2021-12-23T06:16:02.629Z"
   },
   {
    "duration": 1058,
    "start_time": "2021-12-23T06:16:02.633Z"
   },
   {
    "duration": 1054,
    "start_time": "2021-12-23T06:16:02.638Z"
   },
   {
    "duration": 1045,
    "start_time": "2021-12-23T06:16:02.648Z"
   },
   {
    "duration": 1041,
    "start_time": "2021-12-23T06:16:02.652Z"
   },
   {
    "duration": 1038,
    "start_time": "2021-12-23T06:16:02.656Z"
   },
   {
    "duration": 1034,
    "start_time": "2021-12-23T06:16:02.661Z"
   },
   {
    "duration": 1029,
    "start_time": "2021-12-23T06:16:02.666Z"
   },
   {
    "duration": 1070,
    "start_time": "2021-12-23T06:16:02.671Z"
   },
   {
    "duration": 1068,
    "start_time": "2021-12-23T06:16:02.674Z"
   },
   {
    "duration": 1066,
    "start_time": "2021-12-23T06:16:02.677Z"
   },
   {
    "duration": 1064,
    "start_time": "2021-12-23T06:16:02.680Z"
   },
   {
    "duration": 1062,
    "start_time": "2021-12-23T06:16:02.683Z"
   },
   {
    "duration": 1060,
    "start_time": "2021-12-23T06:16:02.686Z"
   },
   {
    "duration": 46,
    "start_time": "2021-12-23T06:16:26.385Z"
   },
   {
    "duration": 9,
    "start_time": "2021-12-23T06:16:26.433Z"
   },
   {
    "duration": 16,
    "start_time": "2021-12-23T06:16:26.444Z"
   },
   {
    "duration": 5,
    "start_time": "2021-12-23T06:16:26.461Z"
   },
   {
    "duration": 18,
    "start_time": "2021-12-23T06:16:26.467Z"
   },
   {
    "duration": 4,
    "start_time": "2021-12-23T06:16:26.486Z"
   },
   {
    "duration": 12,
    "start_time": "2021-12-23T06:16:26.492Z"
   },
   {
    "duration": 47,
    "start_time": "2021-12-23T06:16:26.507Z"
   },
   {
    "duration": 6,
    "start_time": "2021-12-23T06:16:26.556Z"
   },
   {
    "duration": 11,
    "start_time": "2021-12-23T06:16:26.564Z"
   },
   {
    "duration": 13,
    "start_time": "2021-12-23T06:16:26.576Z"
   },
   {
    "duration": 9,
    "start_time": "2021-12-23T06:16:26.591Z"
   },
   {
    "duration": 8,
    "start_time": "2021-12-23T06:16:26.602Z"
   },
   {
    "duration": 43,
    "start_time": "2021-12-23T06:16:26.612Z"
   },
   {
    "duration": 32,
    "start_time": "2021-12-23T06:16:26.657Z"
   },
   {
    "duration": 135,
    "start_time": "2021-12-23T06:16:26.691Z"
   },
   {
    "duration": 12,
    "start_time": "2021-12-23T06:16:26.840Z"
   },
   {
    "duration": 25,
    "start_time": "2021-12-23T06:16:26.853Z"
   },
   {
    "duration": 9,
    "start_time": "2021-12-23T06:16:26.879Z"
   },
   {
    "duration": 190,
    "start_time": "2021-12-23T06:16:26.889Z"
   },
   {
    "duration": 274,
    "start_time": "2021-12-23T06:16:27.081Z"
   },
   {
    "duration": 7,
    "start_time": "2021-12-23T06:16:27.358Z"
   },
   {
    "duration": 24,
    "start_time": "2021-12-23T06:16:27.368Z"
   },
   {
    "duration": 22,
    "start_time": "2021-12-23T06:16:27.394Z"
   },
   {
    "duration": 8,
    "start_time": "2021-12-23T06:16:27.417Z"
   },
   {
    "duration": 32,
    "start_time": "2021-12-23T06:16:27.427Z"
   },
   {
    "duration": 33,
    "start_time": "2021-12-23T06:16:27.460Z"
   },
   {
    "duration": 11,
    "start_time": "2021-12-23T06:16:27.495Z"
   },
   {
    "duration": 13,
    "start_time": "2021-12-23T06:16:27.507Z"
   },
   {
    "duration": 306,
    "start_time": "2021-12-23T06:16:27.522Z"
   },
   {
    "duration": 320,
    "start_time": "2021-12-23T06:16:27.830Z"
   },
   {
    "duration": 296,
    "start_time": "2021-12-23T06:16:28.152Z"
   },
   {
    "duration": 293,
    "start_time": "2021-12-23T06:16:28.450Z"
   },
   {
    "duration": 9,
    "start_time": "2021-12-23T06:16:28.745Z"
   },
   {
    "duration": 328,
    "start_time": "2021-12-23T06:16:28.755Z"
   },
   {
    "duration": 325,
    "start_time": "2021-12-23T06:16:29.085Z"
   },
   {
    "duration": 7,
    "start_time": "2021-12-23T06:16:29.412Z"
   },
   {
    "duration": 24,
    "start_time": "2021-12-23T06:16:29.420Z"
   },
   {
    "duration": 253,
    "start_time": "2021-12-23T06:16:29.446Z"
   },
   {
    "duration": 417,
    "start_time": "2021-12-23T06:16:29.701Z"
   },
   {
    "duration": 530,
    "start_time": "2021-12-23T06:16:30.120Z"
   },
   {
    "duration": 267,
    "start_time": "2021-12-23T06:16:30.652Z"
   },
   {
    "duration": 1481,
    "start_time": "2021-12-23T06:16:29.440Z"
   },
   {
    "duration": 1476,
    "start_time": "2021-12-23T06:16:29.446Z"
   },
   {
    "duration": 1472,
    "start_time": "2021-12-23T06:16:29.451Z"
   },
   {
    "duration": 1469,
    "start_time": "2021-12-23T06:16:29.455Z"
   },
   {
    "duration": 1465,
    "start_time": "2021-12-23T06:16:29.460Z"
   },
   {
    "duration": 263,
    "start_time": "2021-12-23T06:16:47.565Z"
   },
   {
    "duration": 98,
    "start_time": "2021-12-23T06:18:00.278Z"
   },
   {
    "duration": 225,
    "start_time": "2021-12-23T06:18:54.552Z"
   },
   {
    "duration": 142,
    "start_time": "2021-12-23T06:19:06.265Z"
   },
   {
    "duration": 161,
    "start_time": "2021-12-23T06:20:42.874Z"
   },
   {
    "duration": 6631,
    "start_time": "2021-12-23T06:23:01.519Z"
   },
   {
    "duration": 6922,
    "start_time": "2021-12-23T06:23:25.063Z"
   },
   {
    "duration": 10094,
    "start_time": "2021-12-23T06:24:49.464Z"
   },
   {
    "duration": 7312,
    "start_time": "2021-12-23T06:25:40.570Z"
   },
   {
    "duration": 24,
    "start_time": "2021-12-23T06:26:08.509Z"
   },
   {
    "duration": 446,
    "start_time": "2021-12-23T06:26:14.556Z"
   },
   {
    "duration": 542,
    "start_time": "2021-12-23T06:27:37.046Z"
   },
   {
    "duration": 9570,
    "start_time": "2021-12-23T06:27:57.630Z"
   },
   {
    "duration": 445,
    "start_time": "2021-12-23T06:28:15.950Z"
   },
   {
    "duration": 465,
    "start_time": "2021-12-23T06:29:07.216Z"
   },
   {
    "duration": 540,
    "start_time": "2021-12-23T06:30:08.722Z"
   },
   {
    "duration": 853,
    "start_time": "2021-12-23T06:30:20.357Z"
   },
   {
    "duration": 526,
    "start_time": "2021-12-23T06:35:17.929Z"
   },
   {
    "duration": 15,
    "start_time": "2021-12-23T06:48:02.268Z"
   },
   {
    "duration": 35,
    "start_time": "2021-12-23T06:48:03.269Z"
   },
   {
    "duration": 306,
    "start_time": "2021-12-23T07:29:36.909Z"
   },
   {
    "duration": 298,
    "start_time": "2021-12-23T07:31:48.401Z"
   },
   {
    "duration": 253,
    "start_time": "2021-12-23T07:33:37.763Z"
   },
   {
    "duration": 278,
    "start_time": "2021-12-23T07:33:41.563Z"
   },
   {
    "duration": 18,
    "start_time": "2021-12-23T07:33:45.138Z"
   },
   {
    "duration": 337,
    "start_time": "2021-12-23T07:33:59.923Z"
   },
   {
    "duration": 385,
    "start_time": "2021-12-23T07:34:01.782Z"
   },
   {
    "duration": 9,
    "start_time": "2021-12-23T07:34:03.859Z"
   },
   {
    "duration": 17,
    "start_time": "2021-12-23T07:34:14.133Z"
   },
   {
    "duration": 319,
    "start_time": "2021-12-23T07:34:17.685Z"
   },
   {
    "duration": 393,
    "start_time": "2021-12-23T07:35:27.559Z"
   },
   {
    "duration": 618,
    "start_time": "2021-12-23T07:37:02.633Z"
   },
   {
    "duration": 469,
    "start_time": "2021-12-23T07:37:12.010Z"
   },
   {
    "duration": 446,
    "start_time": "2021-12-23T07:37:17.227Z"
   },
   {
    "duration": 11,
    "start_time": "2021-12-23T07:37:26.401Z"
   },
   {
    "duration": 6,
    "start_time": "2021-12-23T07:37:27.753Z"
   },
   {
    "duration": 12,
    "start_time": "2021-12-23T07:37:44.481Z"
   },
   {
    "duration": 46,
    "start_time": "2021-12-23T09:24:38.450Z"
   },
   {
    "duration": 9,
    "start_time": "2021-12-23T09:24:38.498Z"
   },
   {
    "duration": 9,
    "start_time": "2021-12-23T09:24:38.509Z"
   },
   {
    "duration": 5,
    "start_time": "2021-12-23T09:24:38.520Z"
   },
   {
    "duration": 15,
    "start_time": "2021-12-23T09:24:38.541Z"
   },
   {
    "duration": 4,
    "start_time": "2021-12-23T09:24:38.557Z"
   },
   {
    "duration": 12,
    "start_time": "2021-12-23T09:24:38.562Z"
   },
   {
    "duration": 15,
    "start_time": "2021-12-23T09:24:38.577Z"
   },
   {
    "duration": 6,
    "start_time": "2021-12-23T09:24:38.594Z"
   },
   {
    "duration": 40,
    "start_time": "2021-12-23T09:24:38.601Z"
   },
   {
    "duration": 9,
    "start_time": "2021-12-23T09:24:38.643Z"
   },
   {
    "duration": 11,
    "start_time": "2021-12-23T09:24:38.654Z"
   },
   {
    "duration": 7,
    "start_time": "2021-12-23T09:24:38.666Z"
   },
   {
    "duration": 21,
    "start_time": "2021-12-23T09:24:38.675Z"
   },
   {
    "duration": 53,
    "start_time": "2021-12-23T09:24:38.697Z"
   },
   {
    "duration": 11,
    "start_time": "2021-12-23T09:24:38.752Z"
   },
   {
    "duration": 25,
    "start_time": "2021-12-23T09:24:38.765Z"
   },
   {
    "duration": 10,
    "start_time": "2021-12-23T09:24:38.791Z"
   },
   {
    "duration": 202,
    "start_time": "2021-12-23T09:24:38.803Z"
   },
   {
    "duration": 168,
    "start_time": "2021-12-23T09:24:39.007Z"
   },
   {
    "duration": 7,
    "start_time": "2021-12-23T09:24:39.176Z"
   },
   {
    "duration": 27,
    "start_time": "2021-12-23T09:24:39.185Z"
   },
   {
    "duration": 5,
    "start_time": "2021-12-23T09:24:39.216Z"
   },
   {
    "duration": 14,
    "start_time": "2021-12-23T09:24:39.240Z"
   },
   {
    "duration": 33,
    "start_time": "2021-12-23T09:24:39.255Z"
   },
   {
    "duration": 14,
    "start_time": "2021-12-23T09:24:39.290Z"
   },
   {
    "duration": 37,
    "start_time": "2021-12-23T09:24:39.306Z"
   },
   {
    "duration": 424,
    "start_time": "2021-12-23T09:24:39.345Z"
   },
   {
    "duration": 477,
    "start_time": "2021-12-23T09:24:39.772Z"
   },
   {
    "duration": 344,
    "start_time": "2021-12-23T09:24:40.251Z"
   },
   {
    "duration": 361,
    "start_time": "2021-12-23T09:24:40.597Z"
   },
   {
    "duration": 8,
    "start_time": "2021-12-23T09:24:40.959Z"
   },
   {
    "duration": 293,
    "start_time": "2021-12-23T09:24:40.969Z"
   },
   {
    "duration": 307,
    "start_time": "2021-12-23T09:24:41.263Z"
   },
   {
    "duration": 6,
    "start_time": "2021-12-23T09:24:41.572Z"
   },
   {
    "duration": 10,
    "start_time": "2021-12-23T09:24:41.579Z"
   },
   {
    "duration": 253,
    "start_time": "2021-12-23T09:24:41.591Z"
   },
   {
    "duration": 602,
    "start_time": "2021-12-23T09:24:41.845Z"
   },
   {
    "duration": 446,
    "start_time": "2021-12-23T09:24:42.448Z"
   },
   {
    "duration": 559,
    "start_time": "2021-12-23T09:24:42.896Z"
   },
   {
    "duration": 442,
    "start_time": "2021-12-23T09:24:43.456Z"
   },
   {
    "duration": 10,
    "start_time": "2021-12-23T09:24:43.899Z"
   },
   {
    "duration": 17,
    "start_time": "2021-12-23T09:24:43.910Z"
   },
   {
    "duration": 17,
    "start_time": "2021-12-23T09:24:43.929Z"
   },
   {
    "duration": 653,
    "start_time": "2021-12-23T09:39:27.984Z"
   },
   {
    "duration": 93,
    "start_time": "2021-12-23T09:39:45.064Z"
   },
   {
    "duration": 821,
    "start_time": "2021-12-23T09:39:50.190Z"
   },
   {
    "duration": 537,
    "start_time": "2021-12-23T09:40:22.362Z"
   },
   {
    "duration": 6355,
    "start_time": "2021-12-23T09:40:54.458Z"
   },
   {
    "duration": 48,
    "start_time": "2021-12-23T09:41:29.062Z"
   },
   {
    "duration": 10,
    "start_time": "2021-12-23T09:41:29.111Z"
   },
   {
    "duration": 10,
    "start_time": "2021-12-23T09:41:29.123Z"
   },
   {
    "duration": 7,
    "start_time": "2021-12-23T09:41:29.135Z"
   },
   {
    "duration": 21,
    "start_time": "2021-12-23T09:41:29.143Z"
   },
   {
    "duration": 4,
    "start_time": "2021-12-23T09:41:29.165Z"
   },
   {
    "duration": 10,
    "start_time": "2021-12-23T09:41:29.171Z"
   },
   {
    "duration": 18,
    "start_time": "2021-12-23T09:41:29.184Z"
   },
   {
    "duration": 6,
    "start_time": "2021-12-23T09:41:29.203Z"
   },
   {
    "duration": 31,
    "start_time": "2021-12-23T09:41:29.210Z"
   },
   {
    "duration": 12,
    "start_time": "2021-12-23T09:41:29.243Z"
   },
   {
    "duration": 13,
    "start_time": "2021-12-23T09:41:29.256Z"
   },
   {
    "duration": 12,
    "start_time": "2021-12-23T09:41:29.271Z"
   },
   {
    "duration": 23,
    "start_time": "2021-12-23T09:41:29.284Z"
   },
   {
    "duration": 46,
    "start_time": "2021-12-23T09:41:29.309Z"
   },
   {
    "duration": 10,
    "start_time": "2021-12-23T09:41:29.357Z"
   },
   {
    "duration": 32,
    "start_time": "2021-12-23T09:41:29.369Z"
   },
   {
    "duration": 9,
    "start_time": "2021-12-23T09:41:29.403Z"
   },
   {
    "duration": 184,
    "start_time": "2021-12-23T09:41:29.414Z"
   },
   {
    "duration": 179,
    "start_time": "2021-12-23T09:41:29.600Z"
   },
   {
    "duration": 7,
    "start_time": "2021-12-23T09:41:29.781Z"
   },
   {
    "duration": 14,
    "start_time": "2021-12-23T09:41:29.790Z"
   },
   {
    "duration": 8,
    "start_time": "2021-12-23T09:41:29.807Z"
   },
   {
    "duration": 36,
    "start_time": "2021-12-23T09:41:29.816Z"
   },
   {
    "duration": 34,
    "start_time": "2021-12-23T09:41:29.853Z"
   },
   {
    "duration": 11,
    "start_time": "2021-12-23T09:41:29.888Z"
   },
   {
    "duration": 13,
    "start_time": "2021-12-23T09:41:29.900Z"
   },
   {
    "duration": 507,
    "start_time": "2021-12-23T09:41:29.941Z"
   },
   {
    "duration": 327,
    "start_time": "2021-12-23T09:41:30.451Z"
   },
   {
    "duration": 352,
    "start_time": "2021-12-23T09:41:30.780Z"
   },
   {
    "duration": 371,
    "start_time": "2021-12-23T09:41:31.135Z"
   },
   {
    "duration": 10,
    "start_time": "2021-12-23T09:41:31.508Z"
   },
   {
    "duration": 412,
    "start_time": "2021-12-23T09:41:31.520Z"
   },
   {
    "duration": 401,
    "start_time": "2021-12-23T09:41:31.934Z"
   },
   {
    "duration": 10,
    "start_time": "2021-12-23T09:41:32.337Z"
   },
   {
    "duration": 17,
    "start_time": "2021-12-23T09:41:32.349Z"
   },
   {
    "duration": 421,
    "start_time": "2021-12-23T09:41:32.368Z"
   },
   {
    "duration": 450,
    "start_time": "2021-12-23T09:41:32.791Z"
   },
   {
    "duration": 467,
    "start_time": "2021-12-23T09:41:33.243Z"
   },
   {
    "duration": 544,
    "start_time": "2021-12-23T09:41:33.712Z"
   },
   {
    "duration": 6348,
    "start_time": "2021-12-23T09:41:34.258Z"
   },
   {
    "duration": 450,
    "start_time": "2021-12-23T09:41:45.602Z"
   },
   {
    "duration": 31,
    "start_time": "2021-12-23T10:19:31.148Z"
   },
   {
    "duration": 43,
    "start_time": "2021-12-23T10:19:42.180Z"
   },
   {
    "duration": 33,
    "start_time": "2021-12-23T10:20:05.295Z"
   },
   {
    "duration": 29,
    "start_time": "2021-12-23T10:20:10.230Z"
   },
   {
    "duration": 3,
    "start_time": "2021-12-23T10:46:52.334Z"
   },
   {
    "duration": 1258,
    "start_time": "2021-12-23T11:03:47.281Z"
   },
   {
    "duration": 13,
    "start_time": "2021-12-23T11:03:48.543Z"
   },
   {
    "duration": 14,
    "start_time": "2021-12-23T11:03:48.559Z"
   },
   {
    "duration": 6,
    "start_time": "2021-12-23T11:03:48.575Z"
   },
   {
    "duration": 18,
    "start_time": "2021-12-23T11:03:48.584Z"
   },
   {
    "duration": 4,
    "start_time": "2021-12-23T11:03:48.604Z"
   },
   {
    "duration": 43,
    "start_time": "2021-12-23T11:03:48.610Z"
   },
   {
    "duration": 20,
    "start_time": "2021-12-23T11:03:48.656Z"
   },
   {
    "duration": 8,
    "start_time": "2021-12-23T11:03:48.678Z"
   },
   {
    "duration": 11,
    "start_time": "2021-12-23T11:03:48.688Z"
   },
   {
    "duration": 14,
    "start_time": "2021-12-23T11:03:48.701Z"
   },
   {
    "duration": 37,
    "start_time": "2021-12-23T11:03:48.716Z"
   },
   {
    "duration": 11,
    "start_time": "2021-12-23T11:03:48.755Z"
   },
   {
    "duration": 30,
    "start_time": "2021-12-23T11:03:48.768Z"
   },
   {
    "duration": 54,
    "start_time": "2021-12-23T11:03:48.800Z"
   },
   {
    "duration": 16,
    "start_time": "2021-12-23T11:03:48.856Z"
   },
   {
    "duration": 25,
    "start_time": "2021-12-23T11:03:48.874Z"
   },
   {
    "duration": 11,
    "start_time": "2021-12-23T11:03:48.901Z"
   },
   {
    "duration": 251,
    "start_time": "2021-12-23T11:03:48.914Z"
   },
   {
    "duration": 238,
    "start_time": "2021-12-23T11:03:49.167Z"
   },
   {
    "duration": 9,
    "start_time": "2021-12-23T11:03:49.407Z"
   },
   {
    "duration": 34,
    "start_time": "2021-12-23T11:03:49.418Z"
   },
   {
    "duration": 6,
    "start_time": "2021-12-23T11:03:49.457Z"
   },
   {
    "duration": 32,
    "start_time": "2021-12-23T11:03:49.465Z"
   },
   {
    "duration": 68,
    "start_time": "2021-12-23T11:03:49.499Z"
   },
   {
    "duration": 17,
    "start_time": "2021-12-23T11:03:49.569Z"
   },
   {
    "duration": 18,
    "start_time": "2021-12-23T11:03:49.588Z"
   },
   {
    "duration": 382,
    "start_time": "2021-12-23T11:03:49.608Z"
   },
   {
    "duration": 330,
    "start_time": "2021-12-23T11:03:49.992Z"
   },
   {
    "duration": 326,
    "start_time": "2021-12-23T11:03:50.324Z"
   },
   {
    "duration": 303,
    "start_time": "2021-12-23T11:03:50.652Z"
   },
   {
    "duration": 12,
    "start_time": "2021-12-23T11:03:50.957Z"
   },
   {
    "duration": 390,
    "start_time": "2021-12-23T11:03:50.970Z"
   },
   {
    "duration": 328,
    "start_time": "2021-12-23T11:03:51.362Z"
   },
   {
    "duration": 7,
    "start_time": "2021-12-23T11:03:51.691Z"
   },
   {
    "duration": 12,
    "start_time": "2021-12-23T11:03:51.700Z"
   },
   {
    "duration": 291,
    "start_time": "2021-12-23T11:03:51.714Z"
   },
   {
    "duration": 530,
    "start_time": "2021-12-23T11:03:52.007Z"
   },
   {
    "duration": 549,
    "start_time": "2021-12-23T11:03:52.539Z"
   },
   {
    "duration": 590,
    "start_time": "2021-12-23T11:03:53.090Z"
   },
   {
    "duration": 628,
    "start_time": "2021-12-23T11:03:53.682Z"
   },
   {
    "duration": 13,
    "start_time": "2021-12-23T11:03:54.312Z"
   },
   {
    "duration": 15,
    "start_time": "2021-12-23T11:03:54.327Z"
   },
   {
    "duration": 17,
    "start_time": "2021-12-23T11:03:54.345Z"
   },
   {
    "duration": 1695,
    "start_time": "2021-12-23T20:51:52.863Z"
   },
   {
    "duration": 15,
    "start_time": "2021-12-23T20:51:54.561Z"
   },
   {
    "duration": 39,
    "start_time": "2021-12-23T20:51:54.579Z"
   },
   {
    "duration": 6,
    "start_time": "2021-12-23T20:51:54.621Z"
   },
   {
    "duration": 24,
    "start_time": "2021-12-23T20:51:54.630Z"
   },
   {
    "duration": 5,
    "start_time": "2021-12-23T20:51:54.656Z"
   },
   {
    "duration": 13,
    "start_time": "2021-12-23T20:51:54.664Z"
   },
   {
    "duration": 23,
    "start_time": "2021-12-23T20:51:54.718Z"
   },
   {
    "duration": 10,
    "start_time": "2021-12-23T20:51:54.744Z"
   },
   {
    "duration": 9,
    "start_time": "2021-12-23T20:51:54.756Z"
   },
   {
    "duration": 49,
    "start_time": "2021-12-23T20:51:54.768Z"
   },
   {
    "duration": 18,
    "start_time": "2021-12-23T20:51:54.820Z"
   },
   {
    "duration": 14,
    "start_time": "2021-12-23T20:51:54.841Z"
   },
   {
    "duration": 58,
    "start_time": "2021-12-23T20:51:54.858Z"
   },
   {
    "duration": 65,
    "start_time": "2021-12-23T20:51:54.919Z"
   },
   {
    "duration": 41,
    "start_time": "2021-12-23T20:51:54.986Z"
   },
   {
    "duration": 44,
    "start_time": "2021-12-23T20:51:55.030Z"
   },
   {
    "duration": 15,
    "start_time": "2021-12-23T20:51:55.077Z"
   },
   {
    "duration": 313,
    "start_time": "2021-12-23T20:51:55.118Z"
   },
   {
    "duration": 309,
    "start_time": "2021-12-23T20:51:55.434Z"
   },
   {
    "duration": 10,
    "start_time": "2021-12-23T20:51:55.746Z"
   },
   {
    "duration": 23,
    "start_time": "2021-12-23T20:51:55.758Z"
   },
   {
    "duration": 32,
    "start_time": "2021-12-23T20:51:55.786Z"
   },
   {
    "duration": 21,
    "start_time": "2021-12-23T20:51:55.821Z"
   },
   {
    "duration": 94,
    "start_time": "2021-12-23T20:51:55.845Z"
   },
   {
    "duration": 25,
    "start_time": "2021-12-23T20:51:55.942Z"
   },
   {
    "duration": 20,
    "start_time": "2021-12-23T20:51:55.969Z"
   },
   {
    "duration": 522,
    "start_time": "2021-12-23T20:51:56.017Z"
   },
   {
    "duration": 627,
    "start_time": "2021-12-23T20:51:56.542Z"
   },
   {
    "duration": 441,
    "start_time": "2021-12-23T20:51:57.171Z"
   },
   {
    "duration": 413,
    "start_time": "2021-12-23T20:51:57.618Z"
   },
   {
    "duration": 13,
    "start_time": "2021-12-23T20:51:58.033Z"
   },
   {
    "duration": 520,
    "start_time": "2021-12-23T20:51:58.048Z"
   },
   {
    "duration": 497,
    "start_time": "2021-12-23T20:51:58.570Z"
   },
   {
    "duration": 12,
    "start_time": "2021-12-23T20:51:59.070Z"
   },
   {
    "duration": 43,
    "start_time": "2021-12-23T20:51:59.085Z"
   },
   {
    "duration": 449,
    "start_time": "2021-12-23T20:51:59.131Z"
   },
   {
    "duration": 712,
    "start_time": "2021-12-23T20:51:59.583Z"
   },
   {
    "duration": 804,
    "start_time": "2021-12-23T20:52:00.297Z"
   },
   {
    "duration": 948,
    "start_time": "2021-12-23T20:52:01.103Z"
   },
   {
    "duration": 892,
    "start_time": "2021-12-23T20:52:02.053Z"
   },
   {
    "duration": 14,
    "start_time": "2021-12-23T20:52:02.948Z"
   },
   {
    "duration": 11,
    "start_time": "2021-12-23T20:52:02.965Z"
   },
   {
    "duration": 49,
    "start_time": "2021-12-23T20:52:02.979Z"
   },
   {
    "duration": 1485,
    "start_time": "2021-12-24T02:56:18.146Z"
   },
   {
    "duration": 12,
    "start_time": "2021-12-24T02:56:19.634Z"
   },
   {
    "duration": 37,
    "start_time": "2021-12-24T02:56:19.649Z"
   },
   {
    "duration": 25,
    "start_time": "2021-12-24T02:56:19.689Z"
   },
   {
    "duration": 44,
    "start_time": "2021-12-24T02:56:19.716Z"
   },
   {
    "duration": 12,
    "start_time": "2021-12-24T02:56:19.762Z"
   },
   {
    "duration": 26,
    "start_time": "2021-12-24T02:56:19.777Z"
   },
   {
    "duration": 42,
    "start_time": "2021-12-24T02:56:19.805Z"
   },
   {
    "duration": 8,
    "start_time": "2021-12-24T02:56:19.851Z"
   },
   {
    "duration": 38,
    "start_time": "2021-12-24T02:56:19.862Z"
   },
   {
    "duration": 25,
    "start_time": "2021-12-24T02:56:19.903Z"
   },
   {
    "duration": 28,
    "start_time": "2021-12-24T02:56:19.930Z"
   },
   {
    "duration": 27,
    "start_time": "2021-12-24T02:56:19.961Z"
   },
   {
    "duration": 36,
    "start_time": "2021-12-24T02:56:19.990Z"
   },
   {
    "duration": 58,
    "start_time": "2021-12-24T02:56:20.029Z"
   },
   {
    "duration": 3,
    "start_time": "2021-12-24T02:56:20.090Z"
   },
   {
    "duration": 62,
    "start_time": "2021-12-24T02:56:20.095Z"
   },
   {
    "duration": 13,
    "start_time": "2021-12-24T02:56:20.160Z"
   },
   {
    "duration": 290,
    "start_time": "2021-12-24T02:56:20.175Z"
   },
   {
    "duration": 319,
    "start_time": "2021-12-24T02:56:20.467Z"
   },
   {
    "duration": 10,
    "start_time": "2021-12-24T02:56:20.789Z"
   },
   {
    "duration": 44,
    "start_time": "2021-12-24T02:56:20.801Z"
   },
   {
    "duration": 39,
    "start_time": "2021-12-24T02:56:20.847Z"
   },
   {
    "duration": 44,
    "start_time": "2021-12-24T02:56:20.888Z"
   },
   {
    "duration": 63,
    "start_time": "2021-12-24T02:56:20.935Z"
   },
   {
    "duration": 15,
    "start_time": "2021-12-24T02:56:21.001Z"
   },
   {
    "duration": 20,
    "start_time": "2021-12-24T02:56:21.027Z"
   },
   {
    "duration": 496,
    "start_time": "2021-12-24T02:56:21.049Z"
   },
   {
    "duration": 534,
    "start_time": "2021-12-24T02:56:21.548Z"
   },
   {
    "duration": 411,
    "start_time": "2021-12-24T02:56:22.085Z"
   },
   {
    "duration": 397,
    "start_time": "2021-12-24T02:56:22.499Z"
   },
   {
    "duration": 26,
    "start_time": "2021-12-24T02:56:22.898Z"
   },
   {
    "duration": 472,
    "start_time": "2021-12-24T02:56:22.926Z"
   },
   {
    "duration": 411,
    "start_time": "2021-12-24T02:56:23.400Z"
   },
   {
    "duration": 15,
    "start_time": "2021-12-24T02:56:23.813Z"
   },
   {
    "duration": 16,
    "start_time": "2021-12-24T02:56:23.831Z"
   },
   {
    "duration": 416,
    "start_time": "2021-12-24T02:56:23.849Z"
   },
   {
    "duration": 680,
    "start_time": "2021-12-24T02:56:24.268Z"
   },
   {
    "duration": 753,
    "start_time": "2021-12-24T02:56:24.950Z"
   },
   {
    "duration": 827,
    "start_time": "2021-12-24T02:56:25.706Z"
   },
   {
    "duration": 839,
    "start_time": "2021-12-24T02:56:26.535Z"
   },
   {
    "duration": 12,
    "start_time": "2021-12-24T02:56:27.376Z"
   },
   {
    "duration": 21,
    "start_time": "2021-12-24T02:56:27.390Z"
   },
   {
    "duration": 17,
    "start_time": "2021-12-24T02:56:27.423Z"
   },
   {
    "duration": 82,
    "start_time": "2021-12-24T04:16:25.825Z"
   },
   {
    "duration": 13,
    "start_time": "2021-12-24T04:16:25.924Z"
   },
   {
    "duration": 13,
    "start_time": "2021-12-24T04:16:25.940Z"
   },
   {
    "duration": 8,
    "start_time": "2021-12-24T04:16:25.955Z"
   },
   {
    "duration": 72,
    "start_time": "2021-12-24T04:16:25.965Z"
   },
   {
    "duration": 4,
    "start_time": "2021-12-24T04:16:26.039Z"
   },
   {
    "duration": 14,
    "start_time": "2021-12-24T04:16:26.045Z"
   },
   {
    "duration": 21,
    "start_time": "2021-12-24T04:16:26.063Z"
   },
   {
    "duration": 41,
    "start_time": "2021-12-24T04:16:26.087Z"
   },
   {
    "duration": 8,
    "start_time": "2021-12-24T04:16:26.130Z"
   },
   {
    "duration": 15,
    "start_time": "2021-12-24T04:16:26.141Z"
   },
   {
    "duration": 13,
    "start_time": "2021-12-24T04:16:26.158Z"
   },
   {
    "duration": 51,
    "start_time": "2021-12-24T04:16:26.174Z"
   },
   {
    "duration": 28,
    "start_time": "2021-12-24T04:16:26.227Z"
   },
   {
    "duration": 78,
    "start_time": "2021-12-24T04:16:26.258Z"
   },
   {
    "duration": 4,
    "start_time": "2021-12-24T04:16:26.340Z"
   },
   {
    "duration": 39,
    "start_time": "2021-12-24T04:16:26.347Z"
   },
   {
    "duration": 45,
    "start_time": "2021-12-24T04:16:26.390Z"
   },
   {
    "duration": 300,
    "start_time": "2021-12-24T04:16:26.438Z"
   },
   {
    "duration": 305,
    "start_time": "2021-12-24T04:16:26.741Z"
   },
   {
    "duration": 10,
    "start_time": "2021-12-24T04:16:27.050Z"
   },
   {
    "duration": 34,
    "start_time": "2021-12-24T04:16:27.063Z"
   },
   {
    "duration": 24,
    "start_time": "2021-12-24T04:16:27.105Z"
   },
   {
    "duration": 29,
    "start_time": "2021-12-24T04:16:27.132Z"
   },
   {
    "duration": 84,
    "start_time": "2021-12-24T04:16:27.163Z"
   },
   {
    "duration": 16,
    "start_time": "2021-12-24T04:16:27.250Z"
   },
   {
    "duration": 19,
    "start_time": "2021-12-24T04:16:27.268Z"
   },
   {
    "duration": 486,
    "start_time": "2021-12-24T04:16:27.290Z"
   },
   {
    "duration": 578,
    "start_time": "2021-12-24T04:16:27.779Z"
   },
   {
    "duration": 407,
    "start_time": "2021-12-24T04:16:28.360Z"
   },
   {
    "duration": 410,
    "start_time": "2021-12-24T04:16:28.770Z"
   },
   {
    "duration": 13,
    "start_time": "2021-12-24T04:16:29.183Z"
   },
   {
    "duration": 426,
    "start_time": "2021-12-24T04:16:29.199Z"
   },
   {
    "duration": 393,
    "start_time": "2021-12-24T04:16:29.627Z"
   },
   {
    "duration": 8,
    "start_time": "2021-12-24T04:16:30.024Z"
   },
   {
    "duration": 19,
    "start_time": "2021-12-24T04:16:30.034Z"
   },
   {
    "duration": 530,
    "start_time": "2021-12-24T04:16:30.055Z"
   },
   {
    "duration": 826,
    "start_time": "2021-12-24T04:16:30.587Z"
   },
   {
    "duration": 751,
    "start_time": "2021-12-24T04:16:31.415Z"
   },
   {
    "duration": 977,
    "start_time": "2021-12-24T04:16:32.169Z"
   },
   {
    "duration": 873,
    "start_time": "2021-12-24T04:16:33.150Z"
   },
   {
    "duration": 13,
    "start_time": "2021-12-24T04:16:34.025Z"
   },
   {
    "duration": 9,
    "start_time": "2021-12-24T04:16:34.041Z"
   },
   {
    "duration": 18,
    "start_time": "2021-12-24T04:16:34.053Z"
   },
   {
    "duration": 918,
    "start_time": "2021-12-24T04:31:19.968Z"
   },
   {
    "duration": 70,
    "start_time": "2021-12-24T04:31:41.853Z"
   },
   {
    "duration": 19,
    "start_time": "2021-12-24T04:31:41.926Z"
   },
   {
    "duration": 16,
    "start_time": "2021-12-24T04:31:41.948Z"
   },
   {
    "duration": 7,
    "start_time": "2021-12-24T04:31:41.967Z"
   },
   {
    "duration": 24,
    "start_time": "2021-12-24T04:31:42.024Z"
   },
   {
    "duration": 5,
    "start_time": "2021-12-24T04:31:42.051Z"
   },
   {
    "duration": 11,
    "start_time": "2021-12-24T04:31:42.059Z"
   },
   {
    "duration": 66,
    "start_time": "2021-12-24T04:31:42.075Z"
   },
   {
    "duration": 8,
    "start_time": "2021-12-24T04:31:42.145Z"
   },
   {
    "duration": 10,
    "start_time": "2021-12-24T04:31:42.157Z"
   },
   {
    "duration": 17,
    "start_time": "2021-12-24T04:31:42.169Z"
   },
   {
    "duration": 16,
    "start_time": "2021-12-24T04:31:42.224Z"
   },
   {
    "duration": 9,
    "start_time": "2021-12-24T04:31:42.242Z"
   },
   {
    "duration": 25,
    "start_time": "2021-12-24T04:31:42.255Z"
   },
   {
    "duration": 85,
    "start_time": "2021-12-24T04:31:42.283Z"
   },
   {
    "duration": 3,
    "start_time": "2021-12-24T04:31:42.371Z"
   },
   {
    "duration": 59,
    "start_time": "2021-12-24T04:31:42.376Z"
   },
   {
    "duration": 15,
    "start_time": "2021-12-24T04:31:42.437Z"
   },
   {
    "duration": 291,
    "start_time": "2021-12-24T04:31:42.455Z"
   },
   {
    "duration": 300,
    "start_time": "2021-12-24T04:31:42.748Z"
   },
   {
    "duration": 8,
    "start_time": "2021-12-24T04:31:43.051Z"
   },
   {
    "duration": 23,
    "start_time": "2021-12-24T04:31:43.061Z"
   },
   {
    "duration": 5,
    "start_time": "2021-12-24T04:31:43.088Z"
   },
   {
    "duration": 26,
    "start_time": "2021-12-24T04:31:43.123Z"
   },
   {
    "duration": 85,
    "start_time": "2021-12-24T04:31:43.151Z"
   },
   {
    "duration": 18,
    "start_time": "2021-12-24T04:31:43.239Z"
   },
   {
    "duration": 23,
    "start_time": "2021-12-24T04:31:43.260Z"
   },
   {
    "duration": 495,
    "start_time": "2021-12-24T04:31:43.286Z"
   },
   {
    "duration": 780,
    "start_time": "2021-12-24T04:31:43.783Z"
   },
   {
    "duration": 628,
    "start_time": "2021-12-24T04:31:57.902Z"
   },
   {
    "duration": 13,
    "start_time": "2021-12-24T04:45:55.883Z"
   },
   {
    "duration": 10,
    "start_time": "2021-12-24T04:51:56.629Z"
   },
   {
    "duration": 66,
    "start_time": "2021-12-24T04:52:01.221Z"
   },
   {
    "duration": 14,
    "start_time": "2021-12-24T04:52:01.290Z"
   },
   {
    "duration": 15,
    "start_time": "2021-12-24T04:52:01.323Z"
   },
   {
    "duration": 20,
    "start_time": "2021-12-24T04:52:01.340Z"
   },
   {
    "duration": 44,
    "start_time": "2021-12-24T04:52:01.362Z"
   },
   {
    "duration": 14,
    "start_time": "2021-12-24T04:52:01.409Z"
   },
   {
    "duration": 34,
    "start_time": "2021-12-24T04:52:01.425Z"
   },
   {
    "duration": 35,
    "start_time": "2021-12-24T04:52:01.463Z"
   },
   {
    "duration": 17,
    "start_time": "2021-12-24T04:52:01.501Z"
   },
   {
    "duration": 29,
    "start_time": "2021-12-24T04:52:01.521Z"
   },
   {
    "duration": 24,
    "start_time": "2021-12-24T04:52:01.553Z"
   },
   {
    "duration": 25,
    "start_time": "2021-12-24T04:52:01.580Z"
   },
   {
    "duration": 29,
    "start_time": "2021-12-24T04:52:01.608Z"
   },
   {
    "duration": 33,
    "start_time": "2021-12-24T04:52:01.640Z"
   },
   {
    "duration": 51,
    "start_time": "2021-12-24T04:52:01.676Z"
   },
   {
    "duration": 3,
    "start_time": "2021-12-24T04:52:01.730Z"
   },
   {
    "duration": 55,
    "start_time": "2021-12-24T04:52:01.735Z"
   },
   {
    "duration": 32,
    "start_time": "2021-12-24T04:52:01.793Z"
   },
   {
    "duration": 296,
    "start_time": "2021-12-24T04:52:01.827Z"
   },
   {
    "duration": 293,
    "start_time": "2021-12-24T04:52:02.125Z"
   },
   {
    "duration": 9,
    "start_time": "2021-12-24T04:52:02.424Z"
   },
   {
    "duration": 21,
    "start_time": "2021-12-24T04:52:02.436Z"
   },
   {
    "duration": 5,
    "start_time": "2021-12-24T04:52:02.462Z"
   },
   {
    "duration": 53,
    "start_time": "2021-12-24T04:52:02.470Z"
   },
   {
    "duration": 57,
    "start_time": "2021-12-24T04:52:02.525Z"
   },
   {
    "duration": 39,
    "start_time": "2021-12-24T04:52:02.584Z"
   },
   {
    "duration": 20,
    "start_time": "2021-12-24T04:52:02.625Z"
   },
   {
    "duration": 490,
    "start_time": "2021-12-24T04:52:02.647Z"
   },
   {
    "duration": 733,
    "start_time": "2021-12-24T04:52:03.139Z"
   },
   {
    "duration": 392,
    "start_time": "2021-12-24T04:52:03.874Z"
   },
   {
    "duration": 379,
    "start_time": "2021-12-24T04:52:04.268Z"
   },
   {
    "duration": 10,
    "start_time": "2021-12-24T04:52:04.650Z"
   },
   {
    "duration": 503,
    "start_time": "2021-12-24T04:52:04.663Z"
   },
   {
    "duration": 671,
    "start_time": "2021-12-24T04:52:05.168Z"
   },
   {
    "duration": 10,
    "start_time": "2021-12-24T04:52:05.843Z"
   },
   {
    "duration": 62,
    "start_time": "2021-12-24T05:02:51.029Z"
   },
   {
    "duration": 13,
    "start_time": "2021-12-24T05:02:51.093Z"
   },
   {
    "duration": 13,
    "start_time": "2021-12-24T05:02:51.124Z"
   },
   {
    "duration": 6,
    "start_time": "2021-12-24T05:02:51.140Z"
   },
   {
    "duration": 29,
    "start_time": "2021-12-24T05:02:51.148Z"
   },
   {
    "duration": 13,
    "start_time": "2021-12-24T05:02:51.179Z"
   },
   {
    "duration": 34,
    "start_time": "2021-12-24T05:02:51.195Z"
   },
   {
    "duration": 38,
    "start_time": "2021-12-24T05:02:51.233Z"
   },
   {
    "duration": 8,
    "start_time": "2021-12-24T05:02:51.273Z"
   },
   {
    "duration": 8,
    "start_time": "2021-12-24T05:02:51.283Z"
   },
   {
    "duration": 37,
    "start_time": "2021-12-24T05:02:51.294Z"
   },
   {
    "duration": 14,
    "start_time": "2021-12-24T05:02:51.334Z"
   },
   {
    "duration": 10,
    "start_time": "2021-12-24T05:02:51.351Z"
   },
   {
    "duration": 61,
    "start_time": "2021-12-24T05:02:51.364Z"
   },
   {
    "duration": 53,
    "start_time": "2021-12-24T05:02:51.428Z"
   },
   {
    "duration": 4,
    "start_time": "2021-12-24T05:02:51.484Z"
   },
   {
    "duration": 70,
    "start_time": "2021-12-24T05:02:51.491Z"
   },
   {
    "duration": 15,
    "start_time": "2021-12-24T05:02:51.564Z"
   },
   {
    "duration": 293,
    "start_time": "2021-12-24T05:02:51.582Z"
   },
   {
    "duration": 286,
    "start_time": "2021-12-24T05:02:51.877Z"
   },
   {
    "duration": 9,
    "start_time": "2021-12-24T05:02:52.165Z"
   },
   {
    "duration": 21,
    "start_time": "2021-12-24T05:02:52.176Z"
   },
   {
    "duration": 26,
    "start_time": "2021-12-24T05:02:52.202Z"
   },
   {
    "duration": 20,
    "start_time": "2021-12-24T05:02:52.232Z"
   },
   {
    "duration": 82,
    "start_time": "2021-12-24T05:02:52.254Z"
   },
   {
    "duration": 17,
    "start_time": "2021-12-24T05:02:52.338Z"
   },
   {
    "duration": 20,
    "start_time": "2021-12-24T05:02:52.357Z"
   },
   {
    "duration": 484,
    "start_time": "2021-12-24T05:02:52.380Z"
   },
   {
    "duration": 606,
    "start_time": "2021-12-24T05:02:52.866Z"
   },
   {
    "duration": 394,
    "start_time": "2021-12-24T05:02:53.475Z"
   },
   {
    "duration": 397,
    "start_time": "2021-12-24T05:02:53.873Z"
   },
   {
    "duration": 13,
    "start_time": "2021-12-24T05:02:54.273Z"
   },
   {
    "duration": 418,
    "start_time": "2021-12-24T05:02:54.288Z"
   },
   {
    "duration": 402,
    "start_time": "2021-12-24T05:02:54.709Z"
   },
   {
    "duration": 10,
    "start_time": "2021-12-24T05:02:55.122Z"
   },
   {
    "duration": 19,
    "start_time": "2021-12-24T05:02:55.135Z"
   },
   {
    "duration": 18,
    "start_time": "2021-12-24T05:03:14.128Z"
   },
   {
    "duration": 65,
    "start_time": "2021-12-24T05:19:58.360Z"
   },
   {
    "duration": 12,
    "start_time": "2021-12-24T05:19:58.428Z"
   },
   {
    "duration": 14,
    "start_time": "2021-12-24T05:19:58.443Z"
   },
   {
    "duration": 6,
    "start_time": "2021-12-24T05:19:58.459Z"
   },
   {
    "duration": 62,
    "start_time": "2021-12-24T05:19:58.468Z"
   },
   {
    "duration": 5,
    "start_time": "2021-12-24T05:19:58.533Z"
   },
   {
    "duration": 11,
    "start_time": "2021-12-24T05:19:58.540Z"
   },
   {
    "duration": 21,
    "start_time": "2021-12-24T05:19:58.555Z"
   },
   {
    "duration": 49,
    "start_time": "2021-12-24T05:19:58.579Z"
   },
   {
    "duration": 9,
    "start_time": "2021-12-24T05:19:58.631Z"
   },
   {
    "duration": 15,
    "start_time": "2021-12-24T05:19:58.643Z"
   },
   {
    "duration": 13,
    "start_time": "2021-12-24T05:19:58.660Z"
   },
   {
    "duration": 48,
    "start_time": "2021-12-24T05:19:58.675Z"
   },
   {
    "duration": 28,
    "start_time": "2021-12-24T05:19:58.726Z"
   },
   {
    "duration": 67,
    "start_time": "2021-12-24T05:19:58.757Z"
   },
   {
    "duration": 3,
    "start_time": "2021-12-24T05:19:58.827Z"
   },
   {
    "duration": 39,
    "start_time": "2021-12-24T05:19:58.833Z"
   },
   {
    "duration": 16,
    "start_time": "2021-12-24T05:19:58.875Z"
   },
   {
    "duration": 322,
    "start_time": "2021-12-24T05:19:58.893Z"
   },
   {
    "duration": 428,
    "start_time": "2021-12-24T05:19:59.217Z"
   },
   {
    "duration": 9,
    "start_time": "2021-12-24T05:19:59.647Z"
   },
   {
    "duration": 21,
    "start_time": "2021-12-24T05:19:59.658Z"
   },
   {
    "duration": 5,
    "start_time": "2021-12-24T05:19:59.683Z"
   },
   {
    "duration": 47,
    "start_time": "2021-12-24T05:19:59.691Z"
   },
   {
    "duration": 53,
    "start_time": "2021-12-24T05:19:59.740Z"
   },
   {
    "duration": 39,
    "start_time": "2021-12-24T05:19:59.795Z"
   },
   {
    "duration": 20,
    "start_time": "2021-12-24T05:19:59.836Z"
   },
   {
    "duration": 499,
    "start_time": "2021-12-24T05:19:59.858Z"
   },
   {
    "duration": 572,
    "start_time": "2021-12-24T05:20:00.360Z"
   },
   {
    "duration": 367,
    "start_time": "2021-12-24T05:20:00.935Z"
   },
   {
    "duration": 387,
    "start_time": "2021-12-24T05:20:01.304Z"
   },
   {
    "duration": 11,
    "start_time": "2021-12-24T05:20:01.694Z"
   },
   {
    "duration": 434,
    "start_time": "2021-12-24T05:20:01.707Z"
   },
   {
    "duration": 407,
    "start_time": "2021-12-24T05:20:02.144Z"
   },
   {
    "duration": 8,
    "start_time": "2021-12-24T05:20:02.554Z"
   },
   {
    "duration": 18,
    "start_time": "2021-12-24T05:20:02.565Z"
   },
   {
    "duration": 19,
    "start_time": "2021-12-24T05:20:23.345Z"
   },
   {
    "duration": 31,
    "start_time": "2021-12-24T05:23:12.060Z"
   },
   {
    "duration": 24,
    "start_time": "2021-12-24T05:39:16.693Z"
   },
   {
    "duration": 22,
    "start_time": "2021-12-24T05:39:50.330Z"
   },
   {
    "duration": 18,
    "start_time": "2021-12-24T05:41:15.177Z"
   },
   {
    "duration": 408,
    "start_time": "2021-12-24T05:41:34.610Z"
   },
   {
    "duration": 661,
    "start_time": "2021-12-24T05:41:54.330Z"
   },
   {
    "duration": 677,
    "start_time": "2021-12-24T05:42:00.809Z"
   },
   {
    "duration": 664,
    "start_time": "2021-12-24T05:43:28.595Z"
   },
   {
    "duration": 834,
    "start_time": "2021-12-24T05:43:35.060Z"
   },
   {
    "duration": 686,
    "start_time": "2021-12-24T05:45:06.877Z"
   },
   {
    "duration": 25,
    "start_time": "2021-12-24T05:46:57.441Z"
   },
   {
    "duration": 24,
    "start_time": "2021-12-24T05:47:06.273Z"
   },
   {
    "duration": 15,
    "start_time": "2021-12-24T05:47:43.451Z"
   },
   {
    "duration": 13,
    "start_time": "2021-12-24T05:48:20.531Z"
   },
   {
    "duration": 839,
    "start_time": "2021-12-24T05:50:18.584Z"
   },
   {
    "duration": 763,
    "start_time": "2021-12-24T06:03:44.100Z"
   },
   {
    "duration": 701,
    "start_time": "2021-12-24T06:10:59.400Z"
   },
   {
    "duration": 14,
    "start_time": "2021-12-24T06:16:14.919Z"
   },
   {
    "duration": 7,
    "start_time": "2021-12-24T06:16:17.351Z"
   },
   {
    "duration": 16,
    "start_time": "2021-12-24T06:17:11.520Z"
   },
   {
    "duration": 26,
    "start_time": "2021-12-24T06:41:37.678Z"
   },
   {
    "duration": 480,
    "start_time": "2021-12-24T06:41:54.447Z"
   },
   {
    "duration": 22,
    "start_time": "2021-12-24T06:41:59.518Z"
   },
   {
    "duration": 279,
    "start_time": "2021-12-24T07:03:53.816Z"
   },
   {
    "duration": 266,
    "start_time": "2021-12-24T07:04:03.371Z"
   },
   {
    "duration": 295,
    "start_time": "2021-12-24T07:04:25.937Z"
   },
   {
    "duration": 177,
    "start_time": "2021-12-24T07:04:32.234Z"
   },
   {
    "duration": 1481,
    "start_time": "2021-12-24T07:17:54.766Z"
   },
   {
    "duration": 15,
    "start_time": "2021-12-24T07:17:56.250Z"
   },
   {
    "duration": 21,
    "start_time": "2021-12-24T07:17:56.268Z"
   },
   {
    "duration": 30,
    "start_time": "2021-12-24T07:17:56.292Z"
   },
   {
    "duration": 22,
    "start_time": "2021-12-24T07:17:56.325Z"
   },
   {
    "duration": 5,
    "start_time": "2021-12-24T07:17:56.349Z"
   },
   {
    "duration": 21,
    "start_time": "2021-12-24T07:17:56.356Z"
   },
   {
    "duration": 45,
    "start_time": "2021-12-24T07:17:56.381Z"
   },
   {
    "duration": 7,
    "start_time": "2021-12-24T07:17:56.429Z"
   },
   {
    "duration": 9,
    "start_time": "2021-12-24T07:17:56.439Z"
   },
   {
    "duration": 26,
    "start_time": "2021-12-24T07:17:56.450Z"
   },
   {
    "duration": 24,
    "start_time": "2021-12-24T07:17:56.478Z"
   },
   {
    "duration": 19,
    "start_time": "2021-12-24T07:17:56.504Z"
   },
   {
    "duration": 44,
    "start_time": "2021-12-24T07:17:56.525Z"
   },
   {
    "duration": 53,
    "start_time": "2021-12-24T07:17:56.572Z"
   },
   {
    "duration": 3,
    "start_time": "2021-12-24T07:17:56.627Z"
   },
   {
    "duration": 66,
    "start_time": "2021-12-24T07:17:56.632Z"
   },
   {
    "duration": 14,
    "start_time": "2021-12-24T07:17:56.700Z"
   },
   {
    "duration": 284,
    "start_time": "2021-12-24T07:17:56.716Z"
   },
   {
    "duration": 293,
    "start_time": "2021-12-24T07:17:57.002Z"
   },
   {
    "duration": 25,
    "start_time": "2021-12-24T07:17:57.298Z"
   },
   {
    "duration": 20,
    "start_time": "2021-12-24T07:17:57.325Z"
   },
   {
    "duration": 6,
    "start_time": "2021-12-24T07:17:57.350Z"
   },
   {
    "duration": 30,
    "start_time": "2021-12-24T07:17:57.359Z"
   },
   {
    "duration": 74,
    "start_time": "2021-12-24T07:17:57.391Z"
   },
   {
    "duration": 14,
    "start_time": "2021-12-24T07:17:57.468Z"
   },
   {
    "duration": 40,
    "start_time": "2021-12-24T07:17:57.484Z"
   },
   {
    "duration": 471,
    "start_time": "2021-12-24T07:17:57.527Z"
   },
   {
    "duration": 606,
    "start_time": "2021-12-24T07:17:58.001Z"
   },
   {
    "duration": 407,
    "start_time": "2021-12-24T07:17:58.610Z"
   },
   {
    "duration": 394,
    "start_time": "2021-12-24T07:17:59.024Z"
   },
   {
    "duration": 11,
    "start_time": "2021-12-24T07:17:59.424Z"
   },
   {
    "duration": 502,
    "start_time": "2021-12-24T07:17:59.438Z"
   },
   {
    "duration": 416,
    "start_time": "2021-12-24T07:17:59.942Z"
   },
   {
    "duration": 8,
    "start_time": "2021-12-24T07:18:00.360Z"
   },
   {
    "duration": 18,
    "start_time": "2021-12-24T07:18:00.371Z"
   },
   {
    "duration": 437,
    "start_time": "2021-12-24T07:18:00.392Z"
   },
   {
    "duration": 743,
    "start_time": "2021-12-24T07:18:00.832Z"
   },
   {
    "duration": 757,
    "start_time": "2021-12-24T07:18:01.577Z"
   },
   {
    "duration": 922,
    "start_time": "2021-12-24T07:18:02.337Z"
   },
   {
    "duration": 983,
    "start_time": "2021-12-24T07:18:03.262Z"
   },
   {
    "duration": 16,
    "start_time": "2021-12-24T07:18:04.248Z"
   },
   {
    "duration": 9,
    "start_time": "2021-12-24T07:18:04.267Z"
   },
   {
    "duration": 19,
    "start_time": "2021-12-24T07:18:04.279Z"
   },
   {
    "duration": 1606,
    "start_time": "2021-12-24T16:20:13.227Z"
   },
   {
    "duration": 13,
    "start_time": "2021-12-24T16:20:14.836Z"
   },
   {
    "duration": 23,
    "start_time": "2021-12-24T16:20:14.852Z"
   },
   {
    "duration": 7,
    "start_time": "2021-12-24T16:20:14.877Z"
   },
   {
    "duration": 54,
    "start_time": "2021-12-24T16:20:14.886Z"
   },
   {
    "duration": 5,
    "start_time": "2021-12-24T16:20:14.943Z"
   },
   {
    "duration": 16,
    "start_time": "2021-12-24T16:20:14.950Z"
   },
   {
    "duration": 21,
    "start_time": "2021-12-24T16:20:14.968Z"
   },
   {
    "duration": 33,
    "start_time": "2021-12-24T16:20:14.992Z"
   },
   {
    "duration": 17,
    "start_time": "2021-12-24T16:20:15.028Z"
   },
   {
    "duration": 14,
    "start_time": "2021-12-24T16:20:15.048Z"
   },
   {
    "duration": 13,
    "start_time": "2021-12-24T16:20:15.065Z"
   },
   {
    "duration": 13,
    "start_time": "2021-12-24T16:20:15.081Z"
   },
   {
    "duration": 49,
    "start_time": "2021-12-24T16:20:15.096Z"
   },
   {
    "duration": 50,
    "start_time": "2021-12-24T16:20:15.147Z"
   },
   {
    "duration": 23,
    "start_time": "2021-12-24T16:20:15.200Z"
   },
   {
    "duration": 51,
    "start_time": "2021-12-24T16:20:19.853Z"
   },
   {
    "duration": 1787,
    "start_time": "2022-04-20T04:57:21.365Z"
   },
   {
    "duration": 21,
    "start_time": "2022-04-20T04:57:23.155Z"
   },
   {
    "duration": 16,
    "start_time": "2022-04-20T04:57:23.178Z"
   },
   {
    "duration": 7,
    "start_time": "2022-04-20T04:57:23.197Z"
   },
   {
    "duration": 57,
    "start_time": "2022-04-20T04:57:23.206Z"
   },
   {
    "duration": 5,
    "start_time": "2022-04-20T04:57:23.265Z"
   },
   {
    "duration": 16,
    "start_time": "2022-04-20T04:57:23.272Z"
   },
   {
    "duration": 28,
    "start_time": "2022-04-20T04:57:23.290Z"
   },
   {
    "duration": 6,
    "start_time": "2022-04-20T04:57:23.320Z"
   },
   {
    "duration": 27,
    "start_time": "2022-04-20T04:57:23.330Z"
   },
   {
    "duration": 18,
    "start_time": "2022-04-20T04:57:23.359Z"
   },
   {
    "duration": 20,
    "start_time": "2022-04-20T04:57:23.379Z"
   },
   {
    "duration": 9,
    "start_time": "2022-04-20T04:57:23.401Z"
   },
   {
    "duration": 61,
    "start_time": "2022-04-20T04:57:23.412Z"
   },
   {
    "duration": 47,
    "start_time": "2022-04-20T04:57:23.475Z"
   },
   {
    "duration": 3,
    "start_time": "2022-04-20T04:57:23.524Z"
   },
   {
    "duration": 39,
    "start_time": "2022-04-20T04:57:23.551Z"
   },
   {
    "duration": 15,
    "start_time": "2022-04-20T04:57:23.592Z"
   },
   {
    "duration": 261,
    "start_time": "2022-04-20T04:57:23.609Z"
   },
   {
    "duration": 237,
    "start_time": "2022-04-20T04:57:23.872Z"
   },
   {
    "duration": 10,
    "start_time": "2022-04-20T04:57:24.111Z"
   },
   {
    "duration": 41,
    "start_time": "2022-04-20T04:57:24.124Z"
   },
   {
    "duration": 6,
    "start_time": "2022-04-20T04:57:24.168Z"
   },
   {
    "duration": 24,
    "start_time": "2022-04-20T04:57:24.177Z"
   },
   {
    "duration": 81,
    "start_time": "2022-04-20T04:57:24.203Z"
   },
   {
    "duration": 23,
    "start_time": "2022-04-20T04:57:24.287Z"
   },
   {
    "duration": 50,
    "start_time": "2022-04-20T04:57:24.313Z"
   },
   {
    "duration": 421,
    "start_time": "2022-04-20T04:57:24.367Z"
   },
   {
    "duration": 425,
    "start_time": "2022-04-20T04:57:24.791Z"
   },
   {
    "duration": 211,
    "start_time": "2022-04-20T04:57:25.218Z"
   },
   {
    "duration": 216,
    "start_time": "2022-04-20T04:57:25.431Z"
   },
   {
    "duration": 12,
    "start_time": "2022-04-20T04:57:25.651Z"
   },
   {
    "duration": 209,
    "start_time": "2022-04-20T04:57:25.665Z"
   },
   {
    "duration": 278,
    "start_time": "2022-04-20T04:57:25.876Z"
   },
   {
    "duration": 8,
    "start_time": "2022-04-20T04:57:26.156Z"
   },
   {
    "duration": 18,
    "start_time": "2022-04-20T04:57:26.167Z"
   },
   {
    "duration": 353,
    "start_time": "2022-04-20T04:57:26.187Z"
   },
   {
    "duration": 494,
    "start_time": "2022-04-20T04:57:26.542Z"
   },
   {
    "duration": 907,
    "start_time": "2022-04-20T04:57:27.038Z"
   },
   {
    "duration": 973,
    "start_time": "2022-04-20T04:57:27.947Z"
   },
   {
    "duration": 1072,
    "start_time": "2022-04-20T04:57:28.922Z"
   },
   {
    "duration": 14,
    "start_time": "2022-04-20T04:57:29.996Z"
   },
   {
    "duration": 22,
    "start_time": "2022-04-20T04:57:30.012Z"
   },
   {
    "duration": 27,
    "start_time": "2022-04-20T04:57:30.036Z"
   },
   {
    "duration": 32,
    "start_time": "2022-04-20T05:00:27.125Z"
   },
   {
    "duration": 1446,
    "start_time": "2022-06-17T06:21:01.498Z"
   },
   {
    "duration": 19,
    "start_time": "2022-06-17T06:21:02.946Z"
   },
   {
    "duration": 19,
    "start_time": "2022-06-17T06:21:02.966Z"
   },
   {
    "duration": 14,
    "start_time": "2022-06-17T06:21:02.988Z"
   },
   {
    "duration": 53,
    "start_time": "2022-06-17T06:21:03.003Z"
   },
   {
    "duration": 9,
    "start_time": "2022-06-17T06:21:03.058Z"
   },
   {
    "duration": 33,
    "start_time": "2022-06-17T06:21:03.069Z"
   },
   {
    "duration": 41,
    "start_time": "2022-06-17T06:21:03.107Z"
   },
   {
    "duration": 25,
    "start_time": "2022-06-17T06:21:03.150Z"
   },
   {
    "duration": 16,
    "start_time": "2022-06-17T06:21:03.178Z"
   },
   {
    "duration": 33,
    "start_time": "2022-06-17T06:21:03.196Z"
   },
   {
    "duration": 41,
    "start_time": "2022-06-17T06:21:03.230Z"
   },
   {
    "duration": 28,
    "start_time": "2022-06-17T06:21:03.274Z"
   },
   {
    "duration": 43,
    "start_time": "2022-06-17T06:21:03.304Z"
   },
   {
    "duration": 39,
    "start_time": "2022-06-17T06:21:03.349Z"
   },
   {
    "duration": 3,
    "start_time": "2022-06-17T06:21:03.391Z"
   },
   {
    "duration": 59,
    "start_time": "2022-06-17T06:21:03.396Z"
   },
   {
    "duration": 13,
    "start_time": "2022-06-17T06:21:03.457Z"
   },
   {
    "duration": 200,
    "start_time": "2022-06-17T06:21:03.472Z"
   },
   {
    "duration": 169,
    "start_time": "2022-06-17T06:21:03.674Z"
   },
   {
    "duration": 10,
    "start_time": "2022-06-17T06:21:03.846Z"
   },
   {
    "duration": 60,
    "start_time": "2022-06-17T06:21:03.858Z"
   },
   {
    "duration": 25,
    "start_time": "2022-06-17T06:21:03.919Z"
   },
   {
    "duration": 37,
    "start_time": "2022-06-17T06:21:03.947Z"
   },
   {
    "duration": 58,
    "start_time": "2022-06-17T06:21:03.986Z"
   },
   {
    "duration": 23,
    "start_time": "2022-06-17T06:21:04.046Z"
   },
   {
    "duration": 28,
    "start_time": "2022-06-17T06:21:04.072Z"
   },
   {
    "duration": 338,
    "start_time": "2022-06-17T06:21:04.105Z"
   },
   {
    "duration": 307,
    "start_time": "2022-06-17T06:21:04.445Z"
   },
   {
    "duration": 33,
    "start_time": "2022-06-17T06:21:04.755Z"
   },
   {
    "duration": 202,
    "start_time": "2022-06-17T06:21:04.799Z"
   },
   {
    "duration": 142,
    "start_time": "2022-06-17T06:21:05.003Z"
   },
   {
    "duration": 12,
    "start_time": "2022-06-17T06:21:05.146Z"
   },
   {
    "duration": 188,
    "start_time": "2022-06-17T06:21:05.160Z"
   },
   {
    "duration": 294,
    "start_time": "2022-06-17T06:21:05.350Z"
   },
   {
    "duration": 9,
    "start_time": "2022-06-17T06:21:05.647Z"
   },
   {
    "duration": 35,
    "start_time": "2022-06-17T06:21:05.659Z"
   },
   {
    "duration": 212,
    "start_time": "2022-06-17T06:21:05.696Z"
   },
   {
    "duration": 370,
    "start_time": "2022-06-17T06:21:05.910Z"
   },
   {
    "duration": 809,
    "start_time": "2022-06-17T06:21:06.282Z"
   },
   {
    "duration": 1036,
    "start_time": "2022-06-17T06:21:07.094Z"
   },
   {
    "duration": 983,
    "start_time": "2022-06-17T06:21:08.132Z"
   },
   {
    "duration": 20,
    "start_time": "2022-06-17T06:21:09.117Z"
   },
   {
    "duration": 33,
    "start_time": "2022-06-17T06:21:09.141Z"
   },
   {
    "duration": 47,
    "start_time": "2022-06-17T06:21:09.176Z"
   },
   {
    "duration": 1365,
    "start_time": "2022-06-17T06:48:24.670Z"
   },
   {
    "duration": 20,
    "start_time": "2022-06-17T06:48:26.042Z"
   },
   {
    "duration": 38,
    "start_time": "2022-06-17T06:48:26.063Z"
   },
   {
    "duration": 7,
    "start_time": "2022-06-17T06:48:26.104Z"
   },
   {
    "duration": 27,
    "start_time": "2022-06-17T06:48:26.113Z"
   },
   {
    "duration": 26,
    "start_time": "2022-06-17T06:48:26.145Z"
   },
   {
    "duration": 36,
    "start_time": "2022-06-17T06:48:26.176Z"
   },
   {
    "duration": 135,
    "start_time": "2022-06-17T06:48:26.214Z"
   },
   {
    "duration": 53,
    "start_time": "2022-06-17T06:48:26.351Z"
   },
   {
    "duration": 83,
    "start_time": "2022-06-17T06:48:26.408Z"
   },
   {
    "duration": 77,
    "start_time": "2022-06-17T06:48:26.494Z"
   },
   {
    "duration": 37,
    "start_time": "2022-06-17T06:48:26.574Z"
   },
   {
    "duration": 27,
    "start_time": "2022-06-17T06:48:26.614Z"
   },
   {
    "duration": 60,
    "start_time": "2022-06-17T06:48:26.650Z"
   },
   {
    "duration": 63,
    "start_time": "2022-06-17T06:48:26.713Z"
   },
   {
    "duration": 18,
    "start_time": "2022-06-17T06:48:26.779Z"
   },
   {
    "duration": 88,
    "start_time": "2022-06-17T06:48:26.799Z"
   },
   {
    "duration": 117,
    "start_time": "2022-06-17T06:48:26.894Z"
   },
   {
    "duration": 182,
    "start_time": "2022-06-17T06:48:27.013Z"
   },
   {
    "duration": 186,
    "start_time": "2022-06-17T06:48:27.197Z"
   },
   {
    "duration": 10,
    "start_time": "2022-06-17T06:48:27.384Z"
   },
   {
    "duration": 21,
    "start_time": "2022-06-17T06:48:27.395Z"
   },
   {
    "duration": 15,
    "start_time": "2022-06-17T06:48:27.419Z"
   },
   {
    "duration": 58,
    "start_time": "2022-06-17T06:48:27.435Z"
   },
   {
    "duration": 54,
    "start_time": "2022-06-17T06:48:27.496Z"
   },
   {
    "duration": 23,
    "start_time": "2022-06-17T06:48:27.556Z"
   },
   {
    "duration": 19,
    "start_time": "2022-06-17T06:48:27.581Z"
   },
   {
    "duration": 399,
    "start_time": "2022-06-17T06:48:27.604Z"
   },
   {
    "duration": 343,
    "start_time": "2022-06-17T06:48:28.005Z"
   },
   {
    "duration": 153,
    "start_time": "2022-06-17T06:48:28.356Z"
   },
   {
    "duration": 157,
    "start_time": "2022-06-17T06:48:28.511Z"
   },
   {
    "duration": 13,
    "start_time": "2022-06-17T06:48:28.671Z"
   },
   {
    "duration": 148,
    "start_time": "2022-06-17T06:48:28.687Z"
   },
   {
    "duration": 233,
    "start_time": "2022-06-17T06:48:28.836Z"
   },
   {
    "duration": 7,
    "start_time": "2022-06-17T06:48:29.071Z"
   },
   {
    "duration": 14,
    "start_time": "2022-06-17T06:48:29.079Z"
   },
   {
    "duration": 294,
    "start_time": "2022-06-17T06:48:29.095Z"
   },
   {
    "duration": 377,
    "start_time": "2022-06-17T06:48:29.391Z"
   },
   {
    "duration": 750,
    "start_time": "2022-06-17T06:48:29.770Z"
   },
   {
    "duration": 764,
    "start_time": "2022-06-17T06:48:30.522Z"
   },
   {
    "duration": 889,
    "start_time": "2022-06-17T06:48:31.291Z"
   },
   {
    "duration": 14,
    "start_time": "2022-06-17T06:48:32.185Z"
   },
   {
    "duration": 13,
    "start_time": "2022-06-17T06:48:32.201Z"
   },
   {
    "duration": 57,
    "start_time": "2022-06-17T06:48:32.217Z"
   },
   {
    "duration": 103,
    "start_time": "2022-06-17T06:52:50.506Z"
   },
   {
    "duration": 30,
    "start_time": "2022-06-17T06:52:50.611Z"
   },
   {
    "duration": 24,
    "start_time": "2022-06-17T06:52:50.643Z"
   },
   {
    "duration": 25,
    "start_time": "2022-06-17T06:52:50.679Z"
   },
   {
    "duration": 53,
    "start_time": "2022-06-17T06:52:50.707Z"
   },
   {
    "duration": 34,
    "start_time": "2022-06-17T06:52:50.769Z"
   },
   {
    "duration": 28,
    "start_time": "2022-06-17T06:52:50.806Z"
   },
   {
    "duration": 73,
    "start_time": "2022-06-17T06:52:50.841Z"
   },
   {
    "duration": 68,
    "start_time": "2022-06-17T06:52:50.917Z"
   },
   {
    "duration": 9,
    "start_time": "2022-06-17T06:52:50.989Z"
   },
   {
    "duration": 22,
    "start_time": "2022-06-17T06:52:51.001Z"
   },
   {
    "duration": 31,
    "start_time": "2022-06-17T06:52:51.025Z"
   },
   {
    "duration": 41,
    "start_time": "2022-06-17T06:52:51.058Z"
   },
   {
    "duration": 34,
    "start_time": "2022-06-17T06:52:51.102Z"
   },
   {
    "duration": 53,
    "start_time": "2022-06-17T06:52:51.139Z"
   },
   {
    "duration": 3,
    "start_time": "2022-06-17T06:52:51.194Z"
   },
   {
    "duration": 87,
    "start_time": "2022-06-17T06:52:51.199Z"
   },
   {
    "duration": 25,
    "start_time": "2022-06-17T06:52:51.288Z"
   },
   {
    "duration": 272,
    "start_time": "2022-06-17T06:52:51.315Z"
   },
   {
    "duration": 236,
    "start_time": "2022-06-17T06:52:51.589Z"
   },
   {
    "duration": 9,
    "start_time": "2022-06-17T06:52:51.829Z"
   },
   {
    "duration": 75,
    "start_time": "2022-06-17T06:52:51.842Z"
   },
   {
    "duration": 48,
    "start_time": "2022-06-17T06:52:51.920Z"
   },
   {
    "duration": 35,
    "start_time": "2022-06-17T06:52:51.971Z"
   },
   {
    "duration": 66,
    "start_time": "2022-06-17T06:52:52.009Z"
   },
   {
    "duration": 30,
    "start_time": "2022-06-17T06:52:52.078Z"
   },
   {
    "duration": 25,
    "start_time": "2022-06-17T06:52:52.110Z"
   },
   {
    "duration": 433,
    "start_time": "2022-06-17T06:52:52.140Z"
   },
   {
    "duration": 433,
    "start_time": "2022-06-17T06:52:52.581Z"
   },
   {
    "duration": 196,
    "start_time": "2022-06-17T06:52:53.015Z"
   },
   {
    "duration": 206,
    "start_time": "2022-06-17T06:52:53.213Z"
   },
   {
    "duration": 16,
    "start_time": "2022-06-17T06:52:53.423Z"
   },
   {
    "duration": 223,
    "start_time": "2022-06-17T06:52:53.443Z"
   },
   {
    "duration": 199,
    "start_time": "2022-06-17T06:52:53.676Z"
   },
   {
    "duration": 14,
    "start_time": "2022-06-17T06:52:53.880Z"
   },
   {
    "duration": 17,
    "start_time": "2022-06-17T06:52:53.897Z"
   },
   {
    "duration": 387,
    "start_time": "2022-06-17T06:52:53.916Z"
   },
   {
    "duration": 398,
    "start_time": "2022-06-17T06:52:54.305Z"
   },
   {
    "duration": 887,
    "start_time": "2022-06-17T06:52:54.709Z"
   },
   {
    "duration": 957,
    "start_time": "2022-06-17T06:52:55.598Z"
   },
   {
    "duration": 1055,
    "start_time": "2022-06-17T06:52:56.557Z"
   },
   {
    "duration": 14,
    "start_time": "2022-06-17T06:52:57.615Z"
   },
   {
    "duration": 55,
    "start_time": "2022-06-17T06:52:57.632Z"
   },
   {
    "duration": 47,
    "start_time": "2022-06-17T06:52:57.696Z"
   },
   {
    "duration": 2307,
    "start_time": "2022-06-17T07:08:22.182Z"
   },
   {
    "duration": 18,
    "start_time": "2022-06-17T07:08:24.492Z"
   },
   {
    "duration": 12,
    "start_time": "2022-06-17T07:08:24.512Z"
   },
   {
    "duration": 52,
    "start_time": "2022-06-17T07:08:24.528Z"
   },
   {
    "duration": 19,
    "start_time": "2022-06-17T07:08:24.583Z"
   },
   {
    "duration": 5,
    "start_time": "2022-06-17T07:08:24.604Z"
   },
   {
    "duration": 11,
    "start_time": "2022-06-17T07:08:24.611Z"
   },
   {
    "duration": 71,
    "start_time": "2022-06-17T07:08:24.624Z"
   },
   {
    "duration": 7,
    "start_time": "2022-06-17T07:08:24.697Z"
   },
   {
    "duration": 10,
    "start_time": "2022-06-17T07:08:24.705Z"
   },
   {
    "duration": 15,
    "start_time": "2022-06-17T07:08:24.716Z"
   },
   {
    "duration": 73,
    "start_time": "2022-06-17T07:08:24.733Z"
   },
   {
    "duration": 10,
    "start_time": "2022-06-17T07:08:24.807Z"
   },
   {
    "duration": 80,
    "start_time": "2022-06-17T07:08:24.821Z"
   },
   {
    "duration": 58,
    "start_time": "2022-06-17T07:08:24.903Z"
   },
   {
    "duration": 3,
    "start_time": "2022-06-17T07:08:24.962Z"
   },
   {
    "duration": 43,
    "start_time": "2022-06-17T07:08:24.967Z"
   },
   {
    "duration": 13,
    "start_time": "2022-06-17T07:08:25.012Z"
   },
   {
    "duration": 331,
    "start_time": "2022-06-17T07:08:25.026Z"
   },
   {
    "duration": 178,
    "start_time": "2022-06-17T07:08:25.358Z"
   },
   {
    "duration": 13,
    "start_time": "2022-06-17T07:08:25.538Z"
   },
   {
    "duration": 63,
    "start_time": "2022-06-17T07:08:25.553Z"
   },
   {
    "duration": 4,
    "start_time": "2022-06-17T07:08:25.618Z"
   },
   {
    "duration": 71,
    "start_time": "2022-06-17T07:08:25.623Z"
   },
   {
    "duration": 42,
    "start_time": "2022-06-17T07:08:25.695Z"
   },
   {
    "duration": 23,
    "start_time": "2022-06-17T07:08:25.746Z"
   },
   {
    "duration": 32,
    "start_time": "2022-06-17T07:08:25.770Z"
   },
   {
    "duration": 309,
    "start_time": "2022-06-17T07:08:25.804Z"
   },
   {
    "duration": 352,
    "start_time": "2022-06-17T07:08:26.115Z"
   },
   {
    "duration": 174,
    "start_time": "2022-06-17T07:08:26.469Z"
   },
   {
    "duration": 159,
    "start_time": "2022-06-17T07:08:26.646Z"
   },
   {
    "duration": 11,
    "start_time": "2022-06-17T07:08:26.807Z"
   },
   {
    "duration": 236,
    "start_time": "2022-06-17T07:08:26.838Z"
   },
   {
    "duration": 289,
    "start_time": "2022-06-17T07:08:27.077Z"
   },
   {
    "duration": 7,
    "start_time": "2022-06-17T07:08:27.368Z"
   },
   {
    "duration": 15,
    "start_time": "2022-06-17T07:08:27.377Z"
   },
   {
    "duration": 236,
    "start_time": "2022-06-17T07:08:27.394Z"
   },
   {
    "duration": 369,
    "start_time": "2022-06-17T07:08:27.632Z"
   },
   {
    "duration": 708,
    "start_time": "2022-06-17T07:08:28.004Z"
   },
   {
    "duration": 763,
    "start_time": "2022-06-17T07:08:28.713Z"
   },
   {
    "duration": 859,
    "start_time": "2022-06-17T07:08:29.487Z"
   },
   {
    "duration": 13,
    "start_time": "2022-06-17T07:08:30.351Z"
   },
   {
    "duration": 25,
    "start_time": "2022-06-17T07:08:30.374Z"
   },
   {
    "duration": 22,
    "start_time": "2022-06-17T07:08:30.401Z"
   },
   {
    "duration": 186,
    "start_time": "2022-06-17T07:09:15.515Z"
   },
   {
    "duration": 187,
    "start_time": "2022-06-17T07:09:20.945Z"
   },
   {
    "duration": 344,
    "start_time": "2022-06-17T07:09:36.650Z"
   },
   {
    "duration": 102,
    "start_time": "2022-06-17T07:10:25.005Z"
   },
   {
    "duration": 16,
    "start_time": "2022-06-17T07:10:25.109Z"
   },
   {
    "duration": 71,
    "start_time": "2022-06-17T07:10:25.128Z"
   },
   {
    "duration": 5,
    "start_time": "2022-06-17T07:10:25.203Z"
   },
   {
    "duration": 39,
    "start_time": "2022-06-17T07:10:25.210Z"
   },
   {
    "duration": 37,
    "start_time": "2022-06-17T07:10:25.259Z"
   },
   {
    "duration": 12,
    "start_time": "2022-06-17T07:10:25.299Z"
   },
   {
    "duration": 31,
    "start_time": "2022-06-17T07:10:25.313Z"
   },
   {
    "duration": 44,
    "start_time": "2022-06-17T07:10:25.346Z"
   },
   {
    "duration": 8,
    "start_time": "2022-06-17T07:10:25.392Z"
   },
   {
    "duration": 21,
    "start_time": "2022-06-17T07:10:25.402Z"
   },
   {
    "duration": 32,
    "start_time": "2022-06-17T07:10:25.425Z"
   },
   {
    "duration": 37,
    "start_time": "2022-06-17T07:10:25.459Z"
   },
   {
    "duration": 19,
    "start_time": "2022-06-17T07:10:25.498Z"
   },
   {
    "duration": 45,
    "start_time": "2022-06-17T07:10:25.519Z"
   },
   {
    "duration": 9,
    "start_time": "2022-06-17T07:10:25.569Z"
   },
   {
    "duration": 44,
    "start_time": "2022-06-17T07:10:25.581Z"
   },
   {
    "duration": 30,
    "start_time": "2022-06-17T07:10:25.627Z"
   },
   {
    "duration": 203,
    "start_time": "2022-06-17T07:10:25.659Z"
   },
   {
    "duration": 188,
    "start_time": "2022-06-17T07:10:25.863Z"
   },
   {
    "duration": 15,
    "start_time": "2022-06-17T07:10:26.061Z"
   },
   {
    "duration": 25,
    "start_time": "2022-06-17T07:10:26.078Z"
   },
   {
    "duration": 5,
    "start_time": "2022-06-17T07:10:26.104Z"
   },
   {
    "duration": 15,
    "start_time": "2022-06-17T07:10:26.110Z"
   },
   {
    "duration": 98,
    "start_time": "2022-06-17T07:10:26.140Z"
   },
   {
    "duration": 22,
    "start_time": "2022-06-17T07:10:26.244Z"
   },
   {
    "duration": 44,
    "start_time": "2022-06-17T07:10:26.268Z"
   },
   {
    "duration": 420,
    "start_time": "2022-06-17T07:10:26.316Z"
   },
   {
    "duration": 372,
    "start_time": "2022-06-17T07:10:26.740Z"
   },
   {
    "duration": 336,
    "start_time": "2022-06-17T07:10:27.118Z"
   },
   {
    "duration": 194,
    "start_time": "2022-06-17T07:10:27.462Z"
   },
   {
    "duration": 23,
    "start_time": "2022-06-17T07:10:27.661Z"
   },
   {
    "duration": 208,
    "start_time": "2022-06-17T07:10:27.685Z"
   },
   {
    "duration": 169,
    "start_time": "2022-06-17T07:10:27.900Z"
   },
   {
    "duration": 15,
    "start_time": "2022-06-17T07:10:28.070Z"
   },
   {
    "duration": 16,
    "start_time": "2022-06-17T07:10:28.087Z"
   },
   {
    "duration": 222,
    "start_time": "2022-06-17T07:10:28.105Z"
   },
   {
    "duration": 353,
    "start_time": "2022-06-17T07:10:28.333Z"
   },
   {
    "duration": 778,
    "start_time": "2022-06-17T07:10:28.688Z"
   },
   {
    "duration": 936,
    "start_time": "2022-06-17T07:10:29.473Z"
   },
   {
    "duration": 829,
    "start_time": "2022-06-17T07:10:30.411Z"
   },
   {
    "duration": 27,
    "start_time": "2022-06-17T07:10:31.249Z"
   },
   {
    "duration": 100,
    "start_time": "2022-06-17T07:10:31.283Z"
   },
   {
    "duration": 34,
    "start_time": "2022-06-17T07:10:31.388Z"
   }
  ],
  "kernelspec": {
   "display_name": "Python 3",
   "language": "python",
   "name": "python3"
  },
  "language_info": {
   "codemirror_mode": {
    "name": "ipython",
    "version": 3
   },
   "file_extension": ".py",
   "mimetype": "text/x-python",
   "name": "python",
   "nbconvert_exporter": "python",
   "pygments_lexer": "ipython3",
   "version": "3.8.8"
  },
  "toc": {
   "base_numbering": 1,
   "nav_menu": {},
   "number_sections": true,
   "sideBar": true,
   "skip_h1_title": true,
   "title_cell": "Table of Contents",
   "title_sidebar": "Contents",
   "toc_cell": false,
   "toc_position": {
    "height": "calc(100% - 180px)",
    "left": "10px",
    "top": "150px",
    "width": "284px"
   },
   "toc_section_display": true,
   "toc_window_display": true
  }
 },
 "nbformat": 4,
 "nbformat_minor": 2
}
