{
   "cells": [
  {
   "cell_type": "markdown",
   "metadata": {},
   "source": [
    "# Исследование надёжности заёмщиков\n",
    "\n",
    "Заказчик — кредитный отдел банка. Нужно разобраться, влияет ли семейное положение и количество детей клиента на факт погашения кредита в срок. Входные данные от банка — статистика о платёжеспособности клиентов.\n",
    "\n",
    "Результаты исследования будут учтены при построении модели **кредитного скоринга** — специальной системы, которая оценивает способность потенциального заёмщика вернуть кредит банку.\n",
    "\n",
    "**План работы**\n",
    "- обзор и предобработка данных\n",
    "- категоризация данных\n",
    "- исследовательский анализ данных\n",
    "    - анализ зависимости возврата кредита от количества детей\n",
    "    - анализ влияния семейного положение на возвращаемость кредитов\n"
   ]
  },
   {
   "cell_type": "markdown",
   "metadata": {},
   "source": [
    "## Общая информация"
   ]
  },
  {
   "cell_type": "code",
   "execution_count": 1,
   "metadata": {},
   "outputs": [
    {
     "name": "stdout",
     "output_type": "stream",
     "text": [
      "<class 'pandas.core.frame.DataFrame'>\n",
      "RangeIndex: 21525 entries, 0 to 21524\n",
      "Data columns (total 12 columns):\n",
      " #   Column            Non-Null Count  Dtype  \n",
      "---  ------            --------------  -----  \n",
      " 0   children          21525 non-null  int64  \n",
      " 1   days_employed     19351 non-null  float64\n",
      " 2   dob_years         21525 non-null  int64  \n",
      " 3   education         21525 non-null  object \n",
      " 4   education_id      21525 non-null  int64  \n",
      " 5   family_status     21525 non-null  object \n",
      " 6   family_status_id  21525 non-null  int64  \n",
      " 7   gender            21525 non-null  object \n",
      " 8   income_type       21525 non-null  object \n",
      " 9   debt              21525 non-null  int64  \n",
      " 10  total_income      19351 non-null  float64\n",
      " 11  purpose           21525 non-null  object \n",
      "dtypes: float64(2), int64(5), object(5)\n",
      "memory usage: 2.0+ MB\n"
     ]
    }
   ],
   "source": [
    "import pandas as pd # импорт библиотеки pandas\n",
    "df = pd.read_csv('/datasets/data.csv') # прочитаем файл 'data.csv' и сохраним его в переменной df\n",
    "df.info() #просмотр сводной информации о таблице\n"
   ]
  },
  {
   "cell_type": "markdown",
   "metadata": {},
   "source": [
    "Согласно документации к данным:\n",
    "- **children** — количество детей в семье\n",
    "- **days_employed** — общий трудовой стаж в днях\n",
    "- **dob_years** — возраст клиента в годах\n",
    "- **education** — уровень образования клиента\n",
    "- **education_id** — идентификатор уровня образования\n",
    "- **family_status** — семейное положение\n",
    "- **family_status_id** — идентификатор семейного положения\n",
    "- **gender** — пол клиента\n",
    "- **income_type** — тип занятости\n",
    "- **debt** — имел ли задолженность по возврату кредитов\n",
    "- **total_income** — ежемесячный доход\n",
    "- **purpose** — цель получения кредита"
   ]
  },
  {
   "cell_type": "code",
   "execution_count": 2,
   "metadata": {},
   "outputs": [
    {
     "data": {
      "text/html": [
       "<div>\n",
       "<style scoped>\n",
       "    .dataframe tbody tr th:only-of-type {\n",
       "        vertical-align: middle;\n",
       "    }\n",
       "\n",
       "    .dataframe tbody tr th {\n",
       "        vertical-align: top;\n",
       "    }\n",
       "\n",
       "    .dataframe thead th {\n",
       "        text-align: right;\n",
       "    }\n",
       "</style>\n",
       "<table border=\"1\" class=\"dataframe\">\n",
       "  <thead>\n",
       "    <tr style=\"text-align: right;\">\n",
       "      <th></th>\n",
       "      <th>children</th>\n",
       "      <th>days_employed</th>\n",
       "      <th>dob_years</th>\n",
       "      <th>education</th>\n",
       "      <th>education_id</th>\n",
       "      <th>family_status</th>\n",
       "      <th>family_status_id</th>\n",
       "      <th>gender</th>\n",
       "      <th>income_type</th>\n",
       "      <th>debt</th>\n",
       "      <th>total_income</th>\n",
       "      <th>purpose</th>\n",
       "    </tr>\n",
       "  </thead>\n",
       "  <tbody>\n",
       "    <tr>\n",
       "      <th>0</th>\n",
       "      <td>1</td>\n",
       "      <td>-8437.673028</td>\n",
       "      <td>42</td>\n",
       "      <td>высшее</td>\n",
       "      <td>0</td>\n",
       "      <td>женат / замужем</td>\n",
       "      <td>0</td>\n",
       "      <td>F</td>\n",
       "      <td>сотрудник</td>\n",
       "      <td>0</td>\n",
       "      <td>253875.639453</td>\n",
       "      <td>покупка жилья</td>\n",
       "    </tr>\n",
       "    <tr>\n",
       "      <th>1</th>\n",
       "      <td>1</td>\n",
       "      <td>-4024.803754</td>\n",
       "      <td>36</td>\n",
       "      <td>среднее</td>\n",
       "      <td>1</td>\n",
       "      <td>женат / замужем</td>\n",
       "      <td>0</td>\n",
       "      <td>F</td>\n",
       "      <td>сотрудник</td>\n",
       "      <td>0</td>\n",
       "      <td>112080.014102</td>\n",
       "      <td>приобретение автомобиля</td>\n",
       "    </tr>\n",
       "    <tr>\n",
       "      <th>2</th>\n",
       "      <td>0</td>\n",
       "      <td>-5623.422610</td>\n",
       "      <td>33</td>\n",
       "      <td>Среднее</td>\n",
       "      <td>1</td>\n",
       "      <td>женат / замужем</td>\n",
       "      <td>0</td>\n",
       "      <td>M</td>\n",
       "      <td>сотрудник</td>\n",
       "      <td>0</td>\n",
       "      <td>145885.952297</td>\n",
       "      <td>покупка жилья</td>\n",
       "    </tr>\n",
       "    <tr>\n",
       "      <th>3</th>\n",
       "      <td>3</td>\n",
       "      <td>-4124.747207</td>\n",
       "      <td>32</td>\n",
       "      <td>среднее</td>\n",
       "      <td>1</td>\n",
       "      <td>женат / замужем</td>\n",
       "      <td>0</td>\n",
       "      <td>M</td>\n",
       "      <td>сотрудник</td>\n",
       "      <td>0</td>\n",
       "      <td>267628.550329</td>\n",
       "      <td>дополнительное образование</td>\n",
       "    </tr>\n",
       "    <tr>\n",
       "      <th>4</th>\n",
       "      <td>0</td>\n",
       "      <td>340266.072047</td>\n",
       "      <td>53</td>\n",
       "      <td>среднее</td>\n",
       "      <td>1</td>\n",
       "      <td>гражданский брак</td>\n",
       "      <td>1</td>\n",
       "      <td>F</td>\n",
       "      <td>пенсионер</td>\n",
       "      <td>0</td>\n",
       "      <td>158616.077870</td>\n",
       "      <td>сыграть свадьбу</td>\n",
       "    </tr>\n",
       "  </tbody>\n",
       "</table>\n",
       "</div>"
      ],
      "text/plain": [
       "   children  days_employed  dob_years education  education_id  \\\n",
       "0         1   -8437.673028         42    высшее             0   \n",
       "1         1   -4024.803754         36   среднее             1   \n",
       "2         0   -5623.422610         33   Среднее             1   \n",
       "3         3   -4124.747207         32   среднее             1   \n",
       "4         0  340266.072047         53   среднее             1   \n",
       "\n",
       "      family_status  family_status_id gender income_type  debt   total_income  \\\n",
       "0   женат / замужем                 0      F   сотрудник     0  253875.639453   \n",
       "1   женат / замужем                 0      F   сотрудник     0  112080.014102   \n",
       "2   женат / замужем                 0      M   сотрудник     0  145885.952297   \n",
       "3   женат / замужем                 0      M   сотрудник     0  267628.550329   \n",
       "4  гражданский брак                 1      F   пенсионер     0  158616.077870   \n",
       "\n",
       "                      purpose  \n",
       "0               покупка жилья  \n",
       "1     приобретение автомобиля  \n",
       "2               покупка жилья  \n",
       "3  дополнительное образование  \n",
       "4             сыграть свадьбу  "
      ]
     },
     "execution_count": 2,
     "metadata": {},
     "output_type": "execute_result"
    }
   ],
   "source": [
    "df.head() #вывод первых строк таблицы"
   ]
  },
  {
   "cell_type": "markdown",
   "metadata": {},
   "source": [
    "**Вывод**"
   ]
  },
  {
   "cell_type": "markdown",
   "metadata": {},
   "source": [
    "В каждой строке таблицы - данные клиента. Часть колонок содержит личные данные и данные о семейном положении, другие - информацию о занятости и кредитной истории.\n",
    "Количество значений в столбцах различается. Значит, в данных есть пропущенные значения. В столбце с информацией о трудовом стаже есть артефакты - отрицательные значения. "
   ]
  },
  {
   "cell_type": "markdown",
   "metadata": {},
   "source": [
    "## Предобработка данных"
   ]
  },
  {
   "cell_type": "markdown",
   "metadata": {},
   "source": [
    "### Обработка пропусков"
   ]
  },
  {
   "cell_type": "markdown",
   "metadata": {},
   "source": [
    "Избавимся от пропусков"
   ]
  },
  {
   "cell_type": "code",
   "execution_count": 3,
   "metadata": {},
   "outputs": [
    {
     "data": {
      "text/plain": [
       "children               0\n",
       "days_employed       2174\n",
       "dob_years              0\n",
       "education              0\n",
       "education_id           0\n",
       "family_status          0\n",
       "family_status_id       0\n",
       "gender                 0\n",
       "income_type            0\n",
       "debt                   0\n",
       "total_income        2174\n",
       "purpose                0\n",
       "dtype: int64"
      ]
     },
     "execution_count": 3,
     "metadata": {},
     "output_type": "execute_result"
    }
   ],
   "source": [
    "df.isna().sum() #подсчет пропущенных значений"
   ]
  },
  {
   "cell_type": "markdown",
   "metadata": {},
   "source": [
    "Проверим пропущены ли значения двух столбцов одновременно в одной строке"
   ]
  },
  {
   "cell_type": "code",
   "execution_count": 4,
   "metadata": {},
   "outputs": [
    {
     "data": {
      "text/plain": [
       "children            0\n",
       "days_employed       0\n",
       "dob_years           0\n",
       "education           0\n",
       "education_id        0\n",
       "family_status       0\n",
       "family_status_id    0\n",
       "gender              0\n",
       "income_type         0\n",
       "debt                0\n",
       "total_income        0\n",
       "purpose             0\n",
       "dtype: int64"
      ]
     },
     "execution_count": 4,
     "metadata": {},
     "output_type": "execute_result"
    }
   ],
   "source": [
    "df[(df['days_employed'].isna()) & (~df['total_income'].isna())].count() \n",
    "#подсчет количества строк, где значение пропущено либо в столбце 'days_employed', либо в столбце 'total_income'"
   ]
  },
  {
   "cell_type": "markdown",
   "metadata": {},
   "source": [
    "Значения пропущены в одних и тех же строках, значит в анкетах 2174 клиентов отсутствует информация и трудовом стаже и доходах. Предположим, что это неработающие клиенты."
   ]
  },
  {
   "cell_type": "code",
   "execution_count": 5,
   "metadata": {},
   "outputs": [
    {
     "data": {
      "text/plain": [
       "сотрудник          1105\n",
       "компаньон           508\n",
       "пенсионер           413\n",
       "госслужащий         147\n",
       "предприниматель       1\n",
       "Name: income_type, dtype: int64"
      ]
     },
     "execution_count": 5,
     "metadata": {},
     "output_type": "execute_result"
    }
   ],
   "source": [
    "df.loc[df['days_employed'].isna()]['income_type'].value_counts()\n",
    "#вывод уникальных значений столбца 'income_type' с подсчетом строк, где есть пропуски в столбце 'days_employed'"
   ]
  },
  {
   "cell_type": "markdown",
   "metadata": {},
   "source": [
    "Пропуски в информации о трудовом стаже и доходах не относятся к безработным клиентам. \n",
    "Маловероятно, что 2174 клиента не заполнили одни и те же данные, значит пропуски допущены по техническим причинам. Так как нет возможности установить причину пропусков и восстановить данные, напишем функцию, которая заменит пропуски медианными значениями стажа и дохода. Чтобы заполнить пропуски с группировкой по виду занятости используем метод `loc`:"
   ]
  },
  {
   "cell_type": "code",
   "execution_count": 6,
   "metadata": {},
   "outputs": [],
   "source": [
    "df['days_employed'] = df['days_employed'].apply(abs) #модуль значений столбца 'days_employed'\n",
    "\n",
    "def values_by_group(data, column, group):#функция для заполнения пропущенных значений медианой с группировкой по одной переменной\n",
    "    for elem in data[group].unique(): #цикл перебирает уникальные значения заданного столбца\n",
    "        median = data.loc[data[group] == elem, column].median() #находит медиану для каждого значения в заданной колонке\n",
    "        data.loc[(data[column].isna()) & (data[group] == elem), column] = median #заполняет пропуски медианой\n",
    "\n",
    "\n",
    "values_by_group(df, 'days_employed', 'income_type')\n",
    "values_by_group(df, 'total_income', 'income_type')\n"
   ]
  },
  {
   "cell_type": "code",
   "execution_count": 7,
   "metadata": {},
   "outputs": [
    {
     "data": {
      "text/plain": [
       "children            0\n",
       "days_employed       0\n",
       "dob_years           0\n",
       "education           0\n",
       "education_id        0\n",
       "family_status       0\n",
       "family_status_id    0\n",
       "gender              0\n",
       "income_type         0\n",
       "debt                0\n",
       "total_income        0\n",
       "purpose             0\n",
       "dtype: int64"
      ]
     },
     "execution_count": 7,
     "metadata": {},
     "output_type": "execute_result"
    }
   ],
   "source": [
    "df.isna().sum() #подсчет пропущенных значений после применения функции"
   ]
  },
  {
   "cell_type": "markdown",
   "metadata": {},
   "source": [
    "**Вывод**"
   ]
  },
  {
   "cell_type": "markdown",
   "metadata": {},
   "source": [
    "На основе обработки пропусков можно сделать вывод, что пропуски были допущены по техническим причинам. Всего было выявлено 2174 строки с пропусками, что составляет 10% от всей таблицы. Удаление такой значительной доли могло негативно повлиять на результаты исследования, поэтому пропуски были заполнены медианным значением."
   ]
  },
  {
   "cell_type": "markdown",
   "metadata": {},
   "source": [
    "### Замена типа данных"
   ]
  },
  {
   "cell_type": "markdown",
   "metadata": {},
   "source": [
    "Для выявления артефактов проверим максимальные и минимальные значения возраста, стажа и количества детей"
   ]
  },
  {
   "cell_type": "code",
   "execution_count": 8,
   "metadata": {},
   "outputs": [
    {
     "name": "stdout",
     "output_type": "stream",
     "text": [
      "Возраст max: 75\n",
      "Возраст min: 0\n",
      "Стаж max: 401755.40047533\n",
      "Стаж min: 24.14163324048118\n",
      "Дети max: 20\n",
      "Дети min: -1\n"
     ]
    }
   ],
   "source": [
    "print('Возраст max:', df['dob_years'].max())\n",
    "print('Возраст min:', df['dob_years'].min())\n",
    "print('Стаж max:', df['days_employed'].max())\n",
    "print('Стаж min:', df['days_employed'].min())\n",
    "print('Дети max:', df['children'].max())\n",
    "print('Дети min:', df['children'].min())\n"
   ]
  },
  {
   "cell_type": "markdown",
   "metadata": {},
   "source": [
    "Для более точного результата исследования избавимся от нулевых значений в колонке `dob_years`, аномальных значений в колонках `days_employed` и `children`.\n",
    "Так как значения в столбце `dob_years` не влияют на результаты исследования, заменим нулевые значения на среднее значение по столбцу `dob_years`:"
   ]
  },
  {
   "cell_type": "code",
   "execution_count": 9,
   "metadata": {},
   "outputs": [
    {
     "name": "stdout",
     "output_type": "stream",
     "text": [
      "Возраст max: 75.0\n",
      "Возраст min: 19.0\n"
     ]
    }
   ],
   "source": [
    "df.loc[df['dob_years'] == 0, 'dob_years'] = df['dob_years'].mean() \n",
    "#замена нулевых значений на среднее значение по столбцу 'dob_years'.\n",
    "print('Возраст max:', df['dob_years'].max()) #проверка результата замены\n",
    "print('Возраст min:', df['dob_years'].min())"
   ]
  },
  {
   "cell_type": "code",
   "execution_count": 10,
   "metadata": {},
   "outputs": [
    {
     "data": {
      "text/plain": [
       "76"
      ]
     },
     "execution_count": 10,
     "metadata": {},
     "output_type": "execute_result"
    }
   ],
   "source": [
    "df['children'] = df['children'].apply(abs) #модуль значений столбца 'children'\n",
    "df[df['children'] == 20]['children'].count() #подсчет количества строк со значением \"20\" в данных о детях\n"
   ]
  },
  {
   "cell_type": "markdown",
   "metadata": {},
   "source": [
    "Так как количество строк с аномальными значениями незначительно, заменим значения \"20\" в столбце `children` на среднее значение по столбцу:"
   ]
  },
  {
   "cell_type": "code",
   "execution_count": 11,
   "metadata": {
    "scrolled": true
   },
   "outputs": [
    {
     "name": "stdout",
     "output_type": "stream",
     "text": [
      "Дети min: 0.0\n",
      "Дети max: 5.0\n"
     ]
    }
   ],
   "source": [
    "df.loc[df['children'] == 20, 'children'] = df['children'].mean() \n",
    "\n",
    "print('Дети min:', df['children'].min()) #проверка результата замены\n",
    "print('Дети max:', df['children'].max())"
   ]
  },
  {
   "cell_type": "markdown",
   "metadata": {},
   "source": [
    "Предположим, что данные были собраны из разных источников и в каком-то стаж выражен в часах. Предположим, что максимальный стаж в днях 21900. Переведем аномальные значения стажа в дни."
   ]
  },
  {
   "cell_type": "code",
   "execution_count": 12,
   "metadata": {},
   "outputs": [
    {
     "name": "stdout",
     "output_type": "stream",
     "text": [
      "Стаж max: 18388.949900568383\n",
      "Стаж min: 24.14163324048118\n"
     ]
    }
   ],
   "source": [
    "df.loc[df['days_employed'] >= 21900, 'days_employed'] = df.loc[df['days_employed'] >= 21900, 'days_employed'] / 24 \n",
    "#перевод стажа \"в часах\" в стаж \"в днях\" в строках, где значения стажа превышают 21900 дней\n",
    "print('Стаж max:', df['days_employed'].max()) #проверка результата перевода\n",
    "print('Стаж min:', df['days_employed'].min())"
   ]
  },
  {
   "cell_type": "markdown",
   "metadata": {},
   "source": [
    "Заменим вещественный тип данных на целочисленный с помощью метода `astype()`."
   ]
  },
  {
   "cell_type": "code",
   "execution_count": 13,
   "metadata": {},
   "outputs": [
    {
     "name": "stdout",
     "output_type": "stream",
     "text": [
      "<class 'pandas.core.frame.DataFrame'>\n",
      "RangeIndex: 21525 entries, 0 to 21524\n",
      "Data columns (total 12 columns):\n",
      " #   Column            Non-Null Count  Dtype \n",
      "---  ------            --------------  ----- \n",
      " 0   children          21525 non-null  int64 \n",
      " 1   days_employed     21525 non-null  int64 \n",
      " 2   dob_years         21525 non-null  int64 \n",
      " 3   education         21525 non-null  object\n",
      " 4   education_id      21525 non-null  int64 \n",
      " 5   family_status     21525 non-null  object\n",
      " 6   family_status_id  21525 non-null  int64 \n",
      " 7   gender            21525 non-null  object\n",
      " 8   income_type       21525 non-null  object\n",
      " 9   debt              21525 non-null  int64 \n",
      " 10  total_income      21525 non-null  int64 \n",
      " 11  purpose           21525 non-null  object\n",
      "dtypes: int64(7), object(5)\n",
      "memory usage: 2.0+ MB\n"
     ]
    }
   ],
   "source": [
    "df['children'] = df['children'].astype('int') #перевод значений столбца в целочисленный вид\n",
    "df['days_employed'] = df['days_employed'].astype('int') #перевод значений столбца в целочисленный вид\n",
    "df['dob_years'] = df['dob_years'].astype('int') #перевод значений столбца в целочисленный вид\n",
    "df['total_income'] = df['total_income'].astype('int') #перевод значений столбца в целочисленный вид\n",
    "\n",
    "\n",
    "df.info() #проверка результата\n"
   ]
  },
  {
   "cell_type": "markdown",
   "metadata": {},
   "source": [
    "**Вывод**"
   ]
  },
  {
   "cell_type": "markdown",
   "metadata": {},
   "source": [
    "Данные содержали аномальные значения, не подходящие для анализа. Для удобства расчетов были исключены артефакты и вещественный тип данных был заменен на целочисленный. "
   ]
  },
  {
   "cell_type": "markdown",
   "metadata": {},
   "source": [
    "### Обработка дубликатов"
   ]
  },
  {
   "cell_type": "code",
   "execution_count": 14,
   "metadata": {},
   "outputs": [
    {
     "data": {
      "text/plain": [
       "54"
      ]
     },
     "execution_count": 14,
     "metadata": {},
     "output_type": "execute_result"
    }
   ],
   "source": [
    "df.duplicated().sum() #подсчет явных дубликатов"
   ]
  },
  {
   "cell_type": "markdown",
   "metadata": {},
   "source": [
    "Чтобы учесть возможные дубликаты с разным регистром, найдем уникальные значения столбца с количеством их упоминаний:"
   ]
  },
  {
   "cell_type": "code",
   "execution_count": 15,
   "metadata": {},
   "outputs": [
    {
     "name": "stdout",
     "output_type": "stream",
     "text": [
      "Цель получения кредита:\n",
      "свадьба                                   797\n",
      "на проведение свадьбы                     777\n",
      "сыграть свадьбу                           774\n",
      "операции с недвижимостью                  676\n",
      "покупка коммерческой недвижимости         664\n",
      "покупка жилья для сдачи                   653\n",
      "операции с жильем                         653\n",
      "операции с коммерческой недвижимостью     651\n",
      "жилье                                     647\n",
      "покупка жилья                             647\n",
      "покупка жилья для семьи                   641\n",
      "строительство собственной недвижимости    635\n",
      "недвижимость                              634\n",
      "операции со своей недвижимостью           630\n",
      "строительство жилой недвижимости          626\n",
      "покупка недвижимости                      624\n",
      "покупка своего жилья                      620\n",
      "строительство недвижимости                620\n",
      "ремонт жилью                              612\n",
      "покупка жилой недвижимости                607\n",
      "на покупку своего автомобиля              505\n",
      "заняться высшим образованием              496\n",
      "автомобиль                                495\n",
      "сделка с подержанным автомобилем          489\n",
      "свой автомобиль                           480\n",
      "на покупку подержанного автомобиля        479\n",
      "автомобили                                478\n",
      "на покупку автомобиля                     472\n",
      "приобретение автомобиля                   462\n",
      "дополнительное образование                462\n",
      "сделка с автомобилем                      455\n",
      "высшее образование                        453\n",
      "образование                               447\n",
      "получение дополнительного образования     447\n",
      "получение образования                     443\n",
      "профильное образование                    436\n",
      "получение высшего образования             426\n",
      "заняться образованием                     412\n",
      "Name: purpose, dtype: int64\n",
      "\n",
      "Семейное положение:\n",
      "женат / замужем          12380\n",
      "гражданский брак          4177\n",
      "Не женат / не замужем     2813\n",
      "в разводе                 1195\n",
      "вдовец / вдова             960\n",
      "Name: family_status, dtype: int64\n",
      "\n",
      "Уровень образования клиента:\n",
      "среднее                13750\n",
      "высшее                  4718\n",
      "СРЕДНЕЕ                  772\n",
      "Среднее                  711\n",
      "неоконченное высшее      668\n",
      "ВЫСШЕЕ                   274\n",
      "Высшее                   268\n",
      "начальное                250\n",
      "Неоконченное высшее       47\n",
      "НЕОКОНЧЕННОЕ ВЫСШЕЕ       29\n",
      "НАЧАЛЬНОЕ                 17\n",
      "Начальное                 15\n",
      "ученая степень             4\n",
      "Ученая степень             1\n",
      "УЧЕНАЯ СТЕПЕНЬ             1\n",
      "Name: education, dtype: int64\n"
     ]
    }
   ],
   "source": [
    "print('Цель получения кредита:')\n",
    "\n",
    "print(df['purpose'].value_counts())\n",
    "\n",
    "print()\n",
    "print('Семейное положение:')\n",
    "\n",
    "print(df['family_status'].value_counts())\n",
    "print()\n",
    "print('Уровень образования клиента:')\n",
    "\n",
    "print(df['education'].value_counts())\n"
   ]
  },
  {
   "cell_type": "markdown",
   "metadata": {},
   "source": [
    "В столбце `education` есть одинаковые значения  с разным регистром. Приведем все значения столбца `education` к нижнему регистру с помощью метода `str.lower()`"
   ]
  },
  {
   "cell_type": "code",
   "execution_count": 16,
   "metadata": {
    "scrolled": true
   },
   "outputs": [
    {
     "data": {
      "text/plain": [
       "среднее                15233\n",
       "высшее                  5260\n",
       "неоконченное высшее      744\n",
       "начальное                282\n",
       "ученая степень             6\n",
       "Name: education, dtype: int64"
      ]
     },
     "execution_count": 16,
     "metadata": {},
     "output_type": "execute_result"
    }
   ],
   "source": [
    "df['education'] = df['education'].str.lower()\n",
    "df['education'].value_counts() #проверка результата"
   ]
  },
  {
   "cell_type": "code",
   "execution_count": 17,
   "metadata": {},
   "outputs": [
    {
     "data": {
      "text/plain": [
       "71"
      ]
     },
     "execution_count": 17,
     "metadata": {},
     "output_type": "execute_result"
    }
   ],
   "source": [
    "df.duplicated().sum() #подсчет явных дубликатов"
   ]
  },
  {
   "cell_type": "code",
   "execution_count": 18,
   "metadata": {
    "scrolled": false
   },
   "outputs": [
    {
     "data": {
      "text/html": [
       "<div>\n",
       "<style scoped>\n",
       "    .dataframe tbody tr th:only-of-type {\n",
       "        vertical-align: middle;\n",
       "    }\n",
       "\n",
       "    .dataframe tbody tr th {\n",
       "        vertical-align: top;\n",
       "    }\n",
       "\n",
       "    .dataframe thead th {\n",
       "        text-align: right;\n",
       "    }\n",
       "</style>\n",
       "<table border=\"1\" class=\"dataframe\">\n",
       "  <thead>\n",
       "    <tr style=\"text-align: right;\">\n",
       "      <th></th>\n",
       "      <th>children</th>\n",
       "      <th>days_employed</th>\n",
       "      <th>dob_years</th>\n",
       "      <th>education</th>\n",
       "      <th>education_id</th>\n",
       "      <th>family_status</th>\n",
       "      <th>family_status_id</th>\n",
       "      <th>gender</th>\n",
       "      <th>income_type</th>\n",
       "      <th>debt</th>\n",
       "      <th>total_income</th>\n",
       "      <th>purpose</th>\n",
       "    </tr>\n",
       "  </thead>\n",
       "  <tbody>\n",
       "    <tr>\n",
       "      <th>9374</th>\n",
       "      <td>0</td>\n",
       "      <td>1547</td>\n",
       "      <td>38</td>\n",
       "      <td>высшее</td>\n",
       "      <td>0</td>\n",
       "      <td>гражданский брак</td>\n",
       "      <td>1</td>\n",
       "      <td>F</td>\n",
       "      <td>компаньон</td>\n",
       "      <td>0</td>\n",
       "      <td>172357</td>\n",
       "      <td>на проведение свадьбы</td>\n",
       "    </tr>\n",
       "    <tr>\n",
       "      <th>19387</th>\n",
       "      <td>0</td>\n",
       "      <td>1547</td>\n",
       "      <td>38</td>\n",
       "      <td>высшее</td>\n",
       "      <td>0</td>\n",
       "      <td>гражданский брак</td>\n",
       "      <td>1</td>\n",
       "      <td>F</td>\n",
       "      <td>компаньон</td>\n",
       "      <td>0</td>\n",
       "      <td>172357</td>\n",
       "      <td>на проведение свадьбы</td>\n",
       "    </tr>\n",
       "    <tr>\n",
       "      <th>5124</th>\n",
       "      <td>0</td>\n",
       "      <td>1547</td>\n",
       "      <td>40</td>\n",
       "      <td>среднее</td>\n",
       "      <td>1</td>\n",
       "      <td>гражданский брак</td>\n",
       "      <td>1</td>\n",
       "      <td>F</td>\n",
       "      <td>компаньон</td>\n",
       "      <td>0</td>\n",
       "      <td>172357</td>\n",
       "      <td>сыграть свадьбу</td>\n",
       "    </tr>\n",
       "    <tr>\n",
       "      <th>10697</th>\n",
       "      <td>0</td>\n",
       "      <td>1547</td>\n",
       "      <td>40</td>\n",
       "      <td>среднее</td>\n",
       "      <td>1</td>\n",
       "      <td>гражданский брак</td>\n",
       "      <td>1</td>\n",
       "      <td>F</td>\n",
       "      <td>компаньон</td>\n",
       "      <td>0</td>\n",
       "      <td>172357</td>\n",
       "      <td>сыграть свадьбу</td>\n",
       "    </tr>\n",
       "    <tr>\n",
       "      <th>16148</th>\n",
       "      <td>0</td>\n",
       "      <td>1547</td>\n",
       "      <td>45</td>\n",
       "      <td>среднее</td>\n",
       "      <td>1</td>\n",
       "      <td>гражданский брак</td>\n",
       "      <td>1</td>\n",
       "      <td>F</td>\n",
       "      <td>компаньон</td>\n",
       "      <td>0</td>\n",
       "      <td>172357</td>\n",
       "      <td>свадьба</td>\n",
       "    </tr>\n",
       "    <tr>\n",
       "      <th>19369</th>\n",
       "      <td>0</td>\n",
       "      <td>1547</td>\n",
       "      <td>45</td>\n",
       "      <td>среднее</td>\n",
       "      <td>1</td>\n",
       "      <td>гражданский брак</td>\n",
       "      <td>1</td>\n",
       "      <td>F</td>\n",
       "      <td>компаньон</td>\n",
       "      <td>0</td>\n",
       "      <td>172357</td>\n",
       "      <td>свадьба</td>\n",
       "    </tr>\n",
       "    <tr>\n",
       "      <th>9920</th>\n",
       "      <td>0</td>\n",
       "      <td>1547</td>\n",
       "      <td>51</td>\n",
       "      <td>среднее</td>\n",
       "      <td>1</td>\n",
       "      <td>гражданский брак</td>\n",
       "      <td>1</td>\n",
       "      <td>F</td>\n",
       "      <td>компаньон</td>\n",
       "      <td>0</td>\n",
       "      <td>172357</td>\n",
       "      <td>на проведение свадьбы</td>\n",
       "    </tr>\n",
       "    <tr>\n",
       "      <th>15991</th>\n",
       "      <td>0</td>\n",
       "      <td>1547</td>\n",
       "      <td>51</td>\n",
       "      <td>среднее</td>\n",
       "      <td>1</td>\n",
       "      <td>гражданский брак</td>\n",
       "      <td>1</td>\n",
       "      <td>F</td>\n",
       "      <td>компаньон</td>\n",
       "      <td>0</td>\n",
       "      <td>172357</td>\n",
       "      <td>на проведение свадьбы</td>\n",
       "    </tr>\n",
       "    <tr>\n",
       "      <th>2254</th>\n",
       "      <td>0</td>\n",
       "      <td>1547</td>\n",
       "      <td>54</td>\n",
       "      <td>высшее</td>\n",
       "      <td>0</td>\n",
       "      <td>женат / замужем</td>\n",
       "      <td>0</td>\n",
       "      <td>M</td>\n",
       "      <td>компаньон</td>\n",
       "      <td>0</td>\n",
       "      <td>172357</td>\n",
       "      <td>операции с коммерческой недвижимостью</td>\n",
       "    </tr>\n",
       "    <tr>\n",
       "      <th>17379</th>\n",
       "      <td>0</td>\n",
       "      <td>1547</td>\n",
       "      <td>54</td>\n",
       "      <td>высшее</td>\n",
       "      <td>0</td>\n",
       "      <td>женат / замужем</td>\n",
       "      <td>0</td>\n",
       "      <td>M</td>\n",
       "      <td>компаньон</td>\n",
       "      <td>0</td>\n",
       "      <td>172357</td>\n",
       "      <td>операции с коммерческой недвижимостью</td>\n",
       "    </tr>\n",
       "  </tbody>\n",
       "</table>\n",
       "</div>"
      ],
      "text/plain": [
       "       children  days_employed  dob_years education  education_id  \\\n",
       "9374          0           1547         38    высшее             0   \n",
       "19387         0           1547         38    высшее             0   \n",
       "5124          0           1547         40   среднее             1   \n",
       "10697         0           1547         40   среднее             1   \n",
       "16148         0           1547         45   среднее             1   \n",
       "19369         0           1547         45   среднее             1   \n",
       "9920          0           1547         51   среднее             1   \n",
       "15991         0           1547         51   среднее             1   \n",
       "2254          0           1547         54    высшее             0   \n",
       "17379         0           1547         54    высшее             0   \n",
       "\n",
       "          family_status  family_status_id gender income_type  debt  \\\n",
       "9374   гражданский брак                 1      F   компаньон     0   \n",
       "19387  гражданский брак                 1      F   компаньон     0   \n",
       "5124   гражданский брак                 1      F   компаньон     0   \n",
       "10697  гражданский брак                 1      F   компаньон     0   \n",
       "16148  гражданский брак                 1      F   компаньон     0   \n",
       "19369  гражданский брак                 1      F   компаньон     0   \n",
       "9920   гражданский брак                 1      F   компаньон     0   \n",
       "15991  гражданский брак                 1      F   компаньон     0   \n",
       "2254    женат / замужем                 0      M   компаньон     0   \n",
       "17379   женат / замужем                 0      M   компаньон     0   \n",
       "\n",
       "       total_income                                purpose  \n",
       "9374         172357                  на проведение свадьбы  \n",
       "19387        172357                  на проведение свадьбы  \n",
       "5124         172357                        сыграть свадьбу  \n",
       "10697        172357                        сыграть свадьбу  \n",
       "16148        172357                                свадьба  \n",
       "19369        172357                                свадьба  \n",
       "9920         172357                  на проведение свадьбы  \n",
       "15991        172357                  на проведение свадьбы  \n",
       "2254         172357  операции с коммерческой недвижимостью  \n",
       "17379        172357  операции с коммерческой недвижимостью  "
      ]
     },
     "execution_count": 18,
     "metadata": {},
     "output_type": "execute_result"
    }
   ],
   "source": [
    "df[df.duplicated(keep=False)].sort_values(by=list(df.columns)).head(10) #просмотр строк с дубликатами"
   ]
  },
  {
   "cell_type": "code",
   "execution_count": 19,
   "metadata": {},
   "outputs": [],
   "source": [
    "df = df.drop_duplicates().reset_index(drop=True) #удаление явных дубликатов"
   ]
  },
  {
   "cell_type": "markdown",
   "metadata": {},
   "source": [
    "**Вывод**"
   ]
  },
  {
   "cell_type": "markdown",
   "metadata": {},
   "source": [
    "Дубликаты могли появиться в результате ошибки в заполнении анкеты, а также в результате объединения данных из разных источников. После приведения значений к единому регистру были найдены явные дубликаты, которые могли повлиять на расчеты. После удаления дубликатов данные готовы к исследованию."
   ]
  },
  {
   "cell_type": "markdown",
   "metadata": {},
   "source": [
    "### Лемматизация"
   ]
  },
  {
   "cell_type": "markdown",
   "metadata": {},
   "source": [
    "В столбце \"цель получения кредита\" встречается много значений с одинаковой целью, записанной разными словами. Чтобы упростить анализ выделим основные группы целей получения кредита. Для этого лемматизируем значения столбца `purpose`."
   ]
  },
  {
   "cell_type": "code",
   "execution_count": 21,
   "metadata": {
    "scrolled": true
   },
   "outputs": [
    {
     "name": "stdout",
     "output_type": "stream",
     "text": [
      "['покупка', ' ', 'жилье', ' ', 'приобретение', ' ', 'автомобиль', ' ', 'дополнительный', ' ', 'образование', ' ', 'сыграть', ' ', 'свадьба', ' ', 'операция', ' ', 'с', ' ', 'жилье', ' ', 'образование', ' ', 'на', ' ', 'проведение', ' ', 'свадьба', ' ', 'покупка', ' ', 'жилье', ' ', 'для', ' ', 'семья', ' ', 'покупка', ' ', 'недвижимость', ' ', 'покупка', ' ', 'коммерческий', ' ', 'недвижимость', ' ', 'покупка', ' ', 'жилой', ' ', 'недвижимость', ' ', 'строительство', ' ', 'собственный', ' ', 'недвижимость', ' ', 'недвижимость', ' ', 'строительство', ' ', 'недвижимость', ' ', 'на', ' ', 'покупка', ' ', 'подержать', ' ', 'автомобиль', ' ', 'на', ' ', 'покупка', ' ', 'свой', ' ', 'автомобиль', ' ', 'операция', ' ', 'с', ' ', 'коммерческий', ' ', 'недвижимость', ' ', 'строительство', ' ', 'жилой', ' ', 'недвижимость', ' ', 'жилье', ' ', 'операция', ' ', 'со', ' ', 'свой', ' ', 'недвижимость', ' ', 'автомобиль', ' ', 'заниматься', ' ', 'образование', ' ', 'сделка', ' ', 'с', ' ', 'подержать', ' ', 'автомобиль', ' ', 'получение', ' ', 'образование', ' ', 'автомобиль', ' ', 'свадьба', ' ', 'получение', ' ', 'дополнительный', ' ', 'образование', ' ', 'покупка', ' ', 'свой', ' ', 'жилье', ' ', 'операция', ' ', 'с', ' ', 'недвижимость', ' ', 'получение', ' ', 'высокий', ' ', 'образование', ' ', 'свой', ' ', 'автомобиль', ' ', 'сделка', ' ', 'с', ' ', 'автомобиль', ' ', 'профильный', ' ', 'образование', ' ', 'высокий', ' ', 'образование', ' ', 'покупка', ' ', 'жилье', ' ', 'для', ' ', 'сдача', ' ', 'на', ' ', 'покупка', ' ', 'автомобиль', ' ', 'ремонт', ' ', 'жилье', ' ', 'заниматься', ' ', 'высокий', ' ', 'образование', '\\n']\n"
     ]
    }
   ],
   "source": [
    "from pymystem3 import Mystem #импорт библиотеки pymystem\n",
    "m = Mystem()\n",
    "lemmas = m.lemmatize(' '.join(df['purpose'].unique())) #собираем уникальные значения столбца 'purpose' в строку и лемматизируем\n",
    "print(lemmas)"
   ]
  },
  {
   "cell_type": "markdown",
   "metadata": {},
   "source": [
    "Чтобы выделить основные группы, посчитаем число упоминаний каждого слова после лемматизации"
   ]
  },
  {
   "cell_type": "code",
   "execution_count": 22,
   "metadata": {
    "scrolled": true
   },
   "outputs": [],
   "source": [
    "from collections import Counter #вызов специального контейнера Counter из модуля collections"
   ]
  },
  {
   "cell_type": "code",
   "execution_count": 23,
   "metadata": {},
   "outputs": [
    {
     "name": "stdout",
     "output_type": "stream",
     "text": [
      "Counter({' ': 55023, 'недвижимость': 6351, 'покупка': 5897, 'жилье': 4460, 'автомобиль': 4306, 'образование': 4013, 'с': 2918, 'операция': 2604, 'свадьба': 2324, 'свой': 2230, 'на': 2222, 'строительство': 1878, 'высокий': 1374, 'получение': 1314, 'коммерческий': 1311, 'для': 1289, 'жилой': 1230, 'сделка': 941, 'дополнительный': 906, 'заниматься': 904, 'подержать': 853, 'проведение': 768, 'сыграть': 765, 'сдача': 651, 'семья': 638, 'собственный': 635, 'со': 627, 'ремонт': 607, 'приобретение': 461, 'профильный': 436, 'подержанный': 111, '\\n': 1})\n"
     ]
    }
   ],
   "source": [
    "lemmas_not_unique = m.lemmatize(' '.join(df['purpose'])) #лемматизируем значения столбца 'purpose'\n",
    "print(Counter(lemmas_not_unique)) "
   ]
  },
  {
   "cell_type": "markdown",
   "metadata": {},
   "source": [
    "На основе полученных данных выделим 4 основные группы: \"недвижимость\", \"автомобиль\", \"образование\", \"свадьба\". Напишем функцию, которая будет возвращать название группы, если это название встречается в лемматизированном значении заданного столбца."
   ]
  },
  {
   "cell_type": "code",
   "execution_count": 24,
   "metadata": {},
   "outputs": [
    {
     "data": {
      "text/plain": [
       "недвижимость    10811\n",
       "автомобиль       4306\n",
       "образование      4013\n",
       "свадьба          2324\n",
       "Name: purpose, dtype: int64"
      ]
     },
     "execution_count": 24,
     "metadata": {},
     "output_type": "execute_result"
    }
   ],
   "source": [
    "def purpose_grouped(purpose):\n",
    "    lemmas = m.lemmatize(purpose)\n",
    "    if 'недвижимость' in lemmas or 'жилье' in lemmas:\n",
    "        return 'недвижимость'\n",
    "    elif 'автомобиль' in lemmas:\n",
    "        return 'автомобиль'\n",
    "    elif 'образование' in lemmas:\n",
    "        return 'образование'\n",
    "    elif 'свадьба' in lemmas:\n",
    "        return 'свадьба'\n",
    "    return 'прочее'\n",
    "    \n",
    "df['purpose'] = df['purpose'].apply(purpose_grouped) #замена значений в столбце 'purpose' на значения после применения функции\n",
    "df['purpose'].value_counts() #вывод новых значений стобца 'purpose' с количеством их упоминаний\n"
   ]
  },
  {
   "cell_type": "markdown",
   "metadata": {},
   "source": [
    "**Вывод**"
   ]
  },
  {
   "cell_type": "markdown",
   "metadata": {},
   "source": [
    "После лемматизации было выделено 4 основные группы целей получения кредита, что значительно упрощает дальнейший анализ и формирование вывода."
   ]
  },
  {
   "cell_type": "markdown",
   "metadata": {},
   "source": [
    "### Категоризация данных"
   ]
  },
  {
   "cell_type": "markdown",
   "metadata": {},
   "source": [
    "Для проверки платежеспомобности отдельных категорий клиентов, выделим те категории, которые интересуют заказчика. Категоризируем клиентов по количеству детей, уровню дохода, семейному положению и цели получения кредита.\n",
    "Выделим категории и посчитаем количество клиентов в каждой категории по семейному положению:"
   ]
  },
  {
   "cell_type": "code",
   "execution_count": 25,
   "metadata": {},
   "outputs": [
    {
     "data": {
      "text/plain": [
       "женат / замужем          12339\n",
       "гражданский брак          4151\n",
       "Не женат / не замужем     2810\n",
       "в разводе                 1195\n",
       "вдовец / вдова             959\n",
       "Name: family_status, dtype: int64"
      ]
     },
     "execution_count": 25,
     "metadata": {},
     "output_type": "execute_result"
    }
   ],
   "source": [
    "df['family_status'].value_counts() #вывод уникальных значений стобца 'family_status' с количеством их упоминаний"
   ]
  },
  {
   "cell_type": "markdown",
   "metadata": {},
   "source": [
    "Выделим категории и посчитаем количество клиентов в каждой категории по наличию детей. "
   ]
  },
  {
   "cell_type": "code",
   "execution_count": 26,
   "metadata": {},
   "outputs": [
    {
     "data": {
      "text/plain": [
       "есть дети    14167\n",
       "нет детей     7287\n",
       "Name: child_id, dtype: int64"
      ]
     },
     "execution_count": 26,
     "metadata": {},
     "output_type": "execute_result"
    }
   ],
   "source": [
    "def child_or_not(row):\n",
    "    if row == 0:\n",
    "        return 'есть дети'\n",
    "    return 'нет детей'\n",
    "    \n",
    "df['child_id'] = df['children'].apply(child_or_not) \n",
    "#создаем новый столбец со значениями 'есть дети' и 'нет детей'\n",
    "df['child_id'].value_counts()"
   ]
  },
  {
   "cell_type": "markdown",
   "metadata": {},
   "source": [
    "Выделим категории и посчитаем количество клиентов в каждой категории по количеству детей:"
   ]
  },
  {
   "cell_type": "code",
   "execution_count": 27,
   "metadata": {},
   "outputs": [
    {
     "data": {
      "text/plain": [
       "0    14167\n",
       "1     4855\n",
       "2     2052\n",
       "3      330\n",
       "4       41\n",
       "5        9\n",
       "Name: children, dtype: int64"
      ]
     },
     "execution_count": 27,
     "metadata": {},
     "output_type": "execute_result"
    }
   ],
   "source": [
    "df['children'].value_counts() #вывод уникальных значений стобца 'children' с количеством их упоминаний"
   ]
  },
  {
   "cell_type": "markdown",
   "metadata": {},
   "source": [
    "Выделим категории и посчитаем количество клиентов в каждой категории по цели получения кредита:"
   ]
  },
  {
   "cell_type": "code",
   "execution_count": 28,
   "metadata": {},
   "outputs": [
    {
     "data": {
      "text/plain": [
       "недвижимость    10811\n",
       "автомобиль       4306\n",
       "образование      4013\n",
       "свадьба          2324\n",
       "Name: purpose, dtype: int64"
      ]
     },
     "execution_count": 28,
     "metadata": {},
     "output_type": "execute_result"
    }
   ],
   "source": [
    "df['purpose'].value_counts() #вывод уникальных значений стобца 'purpose' с количеством их упоминаний"
   ]
  },
  {
   "cell_type": "markdown",
   "metadata": {},
   "source": [
    "Для категоризации по уровню дохода выделим три равные группы с помощью функции `qcut()`:"
   ]
  },
  {
   "cell_type": "code",
   "execution_count": 29,
   "metadata": {
    "scrolled": true
   },
   "outputs": [
    {
     "data": {
      "text/plain": [
       "средний          7285\n",
       "ниже среднего    7152\n",
       "высокий          7017\n",
       "Name: income_category, dtype: int64"
      ]
     },
     "execution_count": 29,
     "metadata": {},
     "output_type": "execute_result"
    }
   ],
   "source": [
    "df['income_category'] = pd.qcut(df['total_income'], 3, labels=[\"ниже среднего\", \"средний\", \"высокий\"])\n",
    "df['income_category'].value_counts()"
   ]
  },
  {
   "cell_type": "code",
   "execution_count": 30,
   "metadata": {},
   "outputs": [
    {
     "data": {
      "text/html": [
       "<div>\n",
       "<style scoped>\n",
       "    .dataframe tbody tr th:only-of-type {\n",
       "        vertical-align: middle;\n",
       "    }\n",
       "\n",
       "    .dataframe tbody tr th {\n",
       "        vertical-align: top;\n",
       "    }\n",
       "\n",
       "    .dataframe thead th {\n",
       "        text-align: right;\n",
       "    }\n",
       "</style>\n",
       "<table border=\"1\" class=\"dataframe\">\n",
       "  <thead>\n",
       "    <tr style=\"text-align: right;\">\n",
       "      <th></th>\n",
       "      <th>children</th>\n",
       "      <th>days_employed</th>\n",
       "      <th>dob_years</th>\n",
       "      <th>education</th>\n",
       "      <th>education_id</th>\n",
       "      <th>family_status</th>\n",
       "      <th>family_status_id</th>\n",
       "      <th>gender</th>\n",
       "      <th>income_type</th>\n",
       "      <th>debt</th>\n",
       "      <th>total_income</th>\n",
       "      <th>purpose</th>\n",
       "      <th>child_id</th>\n",
       "      <th>income_category</th>\n",
       "    </tr>\n",
       "  </thead>\n",
       "  <tbody>\n",
       "    <tr>\n",
       "      <th>0</th>\n",
       "      <td>1</td>\n",
       "      <td>8437</td>\n",
       "      <td>42</td>\n",
       "      <td>высшее</td>\n",
       "      <td>0</td>\n",
       "      <td>женат / замужем</td>\n",
       "      <td>0</td>\n",
       "      <td>F</td>\n",
       "      <td>сотрудник</td>\n",
       "      <td>0</td>\n",
       "      <td>253875</td>\n",
       "      <td>недвижимость</td>\n",
       "      <td>нет детей</td>\n",
       "      <td>высокий</td>\n",
       "    </tr>\n",
       "    <tr>\n",
       "      <th>1</th>\n",
       "      <td>1</td>\n",
       "      <td>4024</td>\n",
       "      <td>36</td>\n",
       "      <td>среднее</td>\n",
       "      <td>1</td>\n",
       "      <td>женат / замужем</td>\n",
       "      <td>0</td>\n",
       "      <td>F</td>\n",
       "      <td>сотрудник</td>\n",
       "      <td>0</td>\n",
       "      <td>112080</td>\n",
       "      <td>автомобиль</td>\n",
       "      <td>нет детей</td>\n",
       "      <td>ниже среднего</td>\n",
       "    </tr>\n",
       "    <tr>\n",
       "      <th>2</th>\n",
       "      <td>0</td>\n",
       "      <td>5623</td>\n",
       "      <td>33</td>\n",
       "      <td>среднее</td>\n",
       "      <td>1</td>\n",
       "      <td>женат / замужем</td>\n",
       "      <td>0</td>\n",
       "      <td>M</td>\n",
       "      <td>сотрудник</td>\n",
       "      <td>0</td>\n",
       "      <td>145885</td>\n",
       "      <td>недвижимость</td>\n",
       "      <td>есть дети</td>\n",
       "      <td>средний</td>\n",
       "    </tr>\n",
       "    <tr>\n",
       "      <th>3</th>\n",
       "      <td>3</td>\n",
       "      <td>4124</td>\n",
       "      <td>32</td>\n",
       "      <td>среднее</td>\n",
       "      <td>1</td>\n",
       "      <td>женат / замужем</td>\n",
       "      <td>0</td>\n",
       "      <td>M</td>\n",
       "      <td>сотрудник</td>\n",
       "      <td>0</td>\n",
       "      <td>267628</td>\n",
       "      <td>образование</td>\n",
       "      <td>нет детей</td>\n",
       "      <td>высокий</td>\n",
       "    </tr>\n",
       "    <tr>\n",
       "      <th>4</th>\n",
       "      <td>0</td>\n",
       "      <td>14177</td>\n",
       "      <td>53</td>\n",
       "      <td>среднее</td>\n",
       "      <td>1</td>\n",
       "      <td>гражданский брак</td>\n",
       "      <td>1</td>\n",
       "      <td>F</td>\n",
       "      <td>пенсионер</td>\n",
       "      <td>0</td>\n",
       "      <td>158616</td>\n",
       "      <td>свадьба</td>\n",
       "      <td>есть дети</td>\n",
       "      <td>средний</td>\n",
       "    </tr>\n",
       "  </tbody>\n",
       "</table>\n",
       "</div>"
      ],
      "text/plain": [
       "   children  days_employed  dob_years education  education_id  \\\n",
       "0         1           8437         42    высшее             0   \n",
       "1         1           4024         36   среднее             1   \n",
       "2         0           5623         33   среднее             1   \n",
       "3         3           4124         32   среднее             1   \n",
       "4         0          14177         53   среднее             1   \n",
       "\n",
       "      family_status  family_status_id gender income_type  debt  total_income  \\\n",
       "0   женат / замужем                 0      F   сотрудник     0        253875   \n",
       "1   женат / замужем                 0      F   сотрудник     0        112080   \n",
       "2   женат / замужем                 0      M   сотрудник     0        145885   \n",
       "3   женат / замужем                 0      M   сотрудник     0        267628   \n",
       "4  гражданский брак                 1      F   пенсионер     0        158616   \n",
       "\n",
       "        purpose   child_id income_category  \n",
       "0  недвижимость  нет детей         высокий  \n",
       "1    автомобиль  нет детей   ниже среднего  \n",
       "2  недвижимость  есть дети         средний  \n",
       "3   образование  нет детей         высокий  \n",
       "4       свадьба  есть дети         средний  "
      ]
     },
     "execution_count": 30,
     "metadata": {},
     "output_type": "execute_result"
    }
   ],
   "source": [
    "df.head() #вывод первых строк таблицы"
   ]
  },
  {
   "cell_type": "markdown",
   "metadata": {},
   "source": [
    "**Вывод**"
   ]
  },
  {
   "cell_type": "markdown",
   "metadata": {},
   "source": [
    "В результате предобработки данных были устранены пропущенные значения и дубликаты, данные не содержат аномальных значений. В результате категоризации были выделены только актуальные данные, после чего можно перейти к формированию выводов."
   ]
  },
  {
   "cell_type": "markdown",
   "metadata": {},
   "source": [
    "## Анализ зависимости"
   ]
  },
  {
   "cell_type": "markdown",
   "metadata": {},
   "source": [
    "- Есть ли зависимость между наличием детей и возвратом кредита в срок?"
   ]
  },
  {
   "cell_type": "code",
   "execution_count": 31,
   "metadata": {},
   "outputs": [
    {
     "data": {
      "text/html": [
       "<style  type=\"text/css\" >\n",
       "</style><table id=\"T_8c046_\" ><thead>    <tr>        <th class=\"blank level0\" ></th>        <th class=\"col_heading level0 col0\" >к-во случаев невозврата</th>        <th class=\"col_heading level0 col1\" >общее к-во заемщиков</th>        <th class=\"col_heading level0 col2\" >% невозврата</th>    </tr>    <tr>        <th class=\"index_name level0\" >дети</th>        <th class=\"blank\" ></th>        <th class=\"blank\" ></th>        <th class=\"blank\" ></th>    </tr></thead><tbody>\n",
       "                <tr>\n",
       "                        <th id=\"T_8c046_level0_row0\" class=\"row_heading level0 row0\" >нет детей</th>\n",
       "                        <td id=\"T_8c046_row0_col0\" class=\"data row0 col0\" >670</td>\n",
       "                        <td id=\"T_8c046_row0_col1\" class=\"data row0 col1\" >7287</td>\n",
       "                        <td id=\"T_8c046_row0_col2\" class=\"data row0 col2\" >9.19%</td>\n",
       "            </tr>\n",
       "            <tr>\n",
       "                        <th id=\"T_8c046_level0_row1\" class=\"row_heading level0 row1\" >есть дети</th>\n",
       "                        <td id=\"T_8c046_row1_col0\" class=\"data row1 col0\" >1071</td>\n",
       "                        <td id=\"T_8c046_row1_col1\" class=\"data row1 col1\" >14167</td>\n",
       "                        <td id=\"T_8c046_row1_col2\" class=\"data row1 col2\" >7.56%</td>\n",
       "            </tr>\n",
       "    </tbody></table>"
      ],
      "text/plain": [
       "<pandas.io.formats.style.Styler at 0x7f6a40942b50>"
      ]
     },
     "execution_count": 31,
     "metadata": {},
     "output_type": "execute_result"
    }
   ],
   "source": [
    "report = df.pivot_table(index=['child_id'], values='debt', aggfunc=['sum', 'count', 'mean']) \n",
    "#формируем сводную таблицу с помощью функции pivot_table() по наличию детей, с подсчетом значений в столбце 'debt'\n",
    "report.columns = ['к-во случаев невозврата', 'общее к-во заемщиков', '% невозврата'] #переименуем столбцы\n",
    "report.index = report.index.rename('дети')#переименуем столбец группировки\n",
    "report = report.sort_values(by='% невозврата', ascending=False) #сортировка таблицы по столбцу '% невозврата' по убыванию\n",
    "report = report.style.format({'% невозврата': '{:.2%}'}) #изменим формат вывода значений столбца '% невозврата'\n",
    "report"
   ]
  },
  {
   "cell_type": "markdown",
   "metadata": {},
   "source": [
    "Проверим влияет ли количество детей на возврат кредита в срок"
   ]
  },
  {
   "cell_type": "code",
   "execution_count": 32,
   "metadata": {},
   "outputs": [
    {
     "data": {
      "text/html": [
       "<style  type=\"text/css\" >\n",
       "</style><table id=\"T_9a767_\" ><thead>    <tr>        <th class=\"blank level0\" ></th>        <th class=\"col_heading level0 col0\" >к-во случаев невозврата</th>        <th class=\"col_heading level0 col1\" >общее к-во заемщиков</th>        <th class=\"col_heading level0 col2\" >% невозврата</th>    </tr>    <tr>        <th class=\"index_name level0\" >к-во детей</th>        <th class=\"blank\" ></th>        <th class=\"blank\" ></th>        <th class=\"blank\" ></th>    </tr></thead><tbody>\n",
       "                <tr>\n",
       "                        <th id=\"T_9a767_level0_row0\" class=\"row_heading level0 row0\" >4</th>\n",
       "                        <td id=\"T_9a767_row0_col0\" class=\"data row0 col0\" >4</td>\n",
       "                        <td id=\"T_9a767_row0_col1\" class=\"data row0 col1\" >41</td>\n",
       "                        <td id=\"T_9a767_row0_col2\" class=\"data row0 col2\" >9.76%</td>\n",
       "            </tr>\n",
       "            <tr>\n",
       "                        <th id=\"T_9a767_level0_row1\" class=\"row_heading level0 row1\" >2</th>\n",
       "                        <td id=\"T_9a767_row1_col0\" class=\"data row1 col0\" >194</td>\n",
       "                        <td id=\"T_9a767_row1_col1\" class=\"data row1 col1\" >2052</td>\n",
       "                        <td id=\"T_9a767_row1_col2\" class=\"data row1 col2\" >9.45%</td>\n",
       "            </tr>\n",
       "            <tr>\n",
       "                        <th id=\"T_9a767_level0_row2\" class=\"row_heading level0 row2\" >1</th>\n",
       "                        <td id=\"T_9a767_row2_col0\" class=\"data row2 col0\" >445</td>\n",
       "                        <td id=\"T_9a767_row2_col1\" class=\"data row2 col1\" >4855</td>\n",
       "                        <td id=\"T_9a767_row2_col2\" class=\"data row2 col2\" >9.17%</td>\n",
       "            </tr>\n",
       "            <tr>\n",
       "                        <th id=\"T_9a767_level0_row3\" class=\"row_heading level0 row3\" >3</th>\n",
       "                        <td id=\"T_9a767_row3_col0\" class=\"data row3 col0\" >27</td>\n",
       "                        <td id=\"T_9a767_row3_col1\" class=\"data row3 col1\" >330</td>\n",
       "                        <td id=\"T_9a767_row3_col2\" class=\"data row3 col2\" >8.18%</td>\n",
       "            </tr>\n",
       "            <tr>\n",
       "                        <th id=\"T_9a767_level0_row4\" class=\"row_heading level0 row4\" >0</th>\n",
       "                        <td id=\"T_9a767_row4_col0\" class=\"data row4 col0\" >1071</td>\n",
       "                        <td id=\"T_9a767_row4_col1\" class=\"data row4 col1\" >14167</td>\n",
       "                        <td id=\"T_9a767_row4_col2\" class=\"data row4 col2\" >7.56%</td>\n",
       "            </tr>\n",
       "            <tr>\n",
       "                        <th id=\"T_9a767_level0_row5\" class=\"row_heading level0 row5\" >5</th>\n",
       "                        <td id=\"T_9a767_row5_col0\" class=\"data row5 col0\" >0</td>\n",
       "                        <td id=\"T_9a767_row5_col1\" class=\"data row5 col1\" >9</td>\n",
       "                        <td id=\"T_9a767_row5_col2\" class=\"data row5 col2\" >0.00%</td>\n",
       "            </tr>\n",
       "    </tbody></table>"
      ],
      "text/plain": [
       "<pandas.io.formats.style.Styler at 0x7f6a40942d00>"
      ]
     },
     "execution_count": 32,
     "metadata": {},
     "output_type": "execute_result"
    }
   ],
   "source": [
    "report = df.pivot_table(index=['children'], values='debt', aggfunc=['sum', 'count', 'mean']) \n",
    "#формируем сводную таблицу с помощью функции pivot_table() по количеству детей, с подсчетом значений в столбце 'debt'\n",
    "report.columns = ['к-во случаев невозврата', 'общее к-во заемщиков', '% невозврата'] #переименуем столбцы\n",
    "report.index = report.index.rename('к-во детей')#переименуем столбец группировки\n",
    "report = report.sort_values(by='% невозврата', ascending=False) #сортировка таблицы по столбцу '% невозврата' по убыванию\n",
    "report = report.style.format({'% невозврата': '{:.2%}'}) #изменим формат вывода значений столбца '% невозврата'\n",
    "report"
   ]
  },
  {
   "cell_type": "markdown",
   "metadata": {},
   "source": [
    "Как видно из таблиц, клиенты, у которых нет, детей реже имеют задолженность по кредиту. В то же время количество детей значительно не влияет на возврат. Не будем брать во внимание 100% возврат клиентов с пятью детьми, так как данных слишком мало для сравнения"
   ]
  },
  {
   "cell_type": "markdown",
   "metadata": {},
   "source": [
    "- Есть ли зависимость между семейным положением и возвратом кредита в срок?"
   ]
  },
  {
   "cell_type": "code",
   "execution_count": 33,
   "metadata": {},
   "outputs": [
    {
     "data": {
      "text/html": [
       "<style  type=\"text/css\" >\n",
       "</style><table id=\"T_97f88_\" ><thead>    <tr>        <th class=\"blank level0\" ></th>        <th class=\"col_heading level0 col0\" >к-во случаев невозврата</th>        <th class=\"col_heading level0 col1\" >общее к-во заемщиков</th>        <th class=\"col_heading level0 col2\" >% невозврата</th>    </tr>    <tr>        <th class=\"index_name level0\" >семейное положение</th>        <th class=\"blank\" ></th>        <th class=\"blank\" ></th>        <th class=\"blank\" ></th>    </tr></thead><tbody>\n",
       "                <tr>\n",
       "                        <th id=\"T_97f88_level0_row0\" class=\"row_heading level0 row0\" >Не женат / не замужем</th>\n",
       "                        <td id=\"T_97f88_row0_col0\" class=\"data row0 col0\" >274</td>\n",
       "                        <td id=\"T_97f88_row0_col1\" class=\"data row0 col1\" >2810</td>\n",
       "                        <td id=\"T_97f88_row0_col2\" class=\"data row0 col2\" >9.75%</td>\n",
       "            </tr>\n",
       "            <tr>\n",
       "                        <th id=\"T_97f88_level0_row1\" class=\"row_heading level0 row1\" >гражданский брак</th>\n",
       "                        <td id=\"T_97f88_row1_col0\" class=\"data row1 col0\" >388</td>\n",
       "                        <td id=\"T_97f88_row1_col1\" class=\"data row1 col1\" >4151</td>\n",
       "                        <td id=\"T_97f88_row1_col2\" class=\"data row1 col2\" >9.35%</td>\n",
       "            </tr>\n",
       "            <tr>\n",
       "                        <th id=\"T_97f88_level0_row2\" class=\"row_heading level0 row2\" >женат / замужем</th>\n",
       "                        <td id=\"T_97f88_row2_col0\" class=\"data row2 col0\" >931</td>\n",
       "                        <td id=\"T_97f88_row2_col1\" class=\"data row2 col1\" >12339</td>\n",
       "                        <td id=\"T_97f88_row2_col2\" class=\"data row2 col2\" >7.55%</td>\n",
       "            </tr>\n",
       "            <tr>\n",
       "                        <th id=\"T_97f88_level0_row3\" class=\"row_heading level0 row3\" >в разводе</th>\n",
       "                        <td id=\"T_97f88_row3_col0\" class=\"data row3 col0\" >85</td>\n",
       "                        <td id=\"T_97f88_row3_col1\" class=\"data row3 col1\" >1195</td>\n",
       "                        <td id=\"T_97f88_row3_col2\" class=\"data row3 col2\" >7.11%</td>\n",
       "            </tr>\n",
       "            <tr>\n",
       "                        <th id=\"T_97f88_level0_row4\" class=\"row_heading level0 row4\" >вдовец / вдова</th>\n",
       "                        <td id=\"T_97f88_row4_col0\" class=\"data row4 col0\" >63</td>\n",
       "                        <td id=\"T_97f88_row4_col1\" class=\"data row4 col1\" >959</td>\n",
       "                        <td id=\"T_97f88_row4_col2\" class=\"data row4 col2\" >6.57%</td>\n",
       "            </tr>\n",
       "    </tbody></table>"
      ],
      "text/plain": [
       "<pandas.io.formats.style.Styler at 0x7f6a3c8c3f70>"
      ]
     },
     "execution_count": 33,
     "metadata": {},
     "output_type": "execute_result"
    }
   ],
   "source": [
    "report = df.groupby('family_status').agg({'debt': ['sum', 'count', 'mean']})\n",
    "report.columns = ['к-во случаев невозврата', 'общее к-во заемщиков', '% невозврата']#переименуем столбцы\n",
    "report.index = report.index.rename('семейное положение')#переименуем столбец группировки\n",
    "report = report.sort_values(by='% невозврата', ascending=False)#сортировка таблицы по столбцу '% невозврата' по убыванию\n",
    "report = report.style.format({'% невозврата': '{:.2%}'})#изменим формат вывода значений столбца '% невозврата'\n",
    "report"
   ]
  },
  {
   "cell_type": "markdown",
   "metadata": {},
   "source": [
    "На основе полученных данных можно сделать вывод, что люди, не состоящие в браке, менее заинтересованы в возврате кредита, а клиенты, которые развелись или овдовели чаще погашают кредит вовремя, чем те, кто состоит в браке."
   ]
  },
  {
   "cell_type": "markdown",
   "metadata": {},
   "source": [
    "- Есть ли зависимость между уровнем дохода и возвратом кредита в срок?"
   ]
  },
  {
   "cell_type": "code",
   "execution_count": 34,
   "metadata": {},
   "outputs": [
    {
     "data": {
      "text/html": [
       "<style  type=\"text/css\" >\n",
       "</style><table id=\"T_67ab1_\" ><thead>    <tr>        <th class=\"blank level0\" ></th>        <th class=\"col_heading level0 col0\" >к-во случаев невозврата</th>        <th class=\"col_heading level0 col1\" >общее к-во заемщиков</th>        <th class=\"col_heading level0 col2\" >% невозврата</th>    </tr>    <tr>        <th class=\"index_name level0\" >уровень дохода</th>        <th class=\"blank\" ></th>        <th class=\"blank\" ></th>        <th class=\"blank\" ></th>    </tr></thead><tbody>\n",
       "                <tr>\n",
       "                        <th id=\"T_67ab1_level0_row0\" class=\"row_heading level0 row0\" >средний</th>\n",
       "                        <td id=\"T_67ab1_row0_col0\" class=\"data row0 col0\" >632</td>\n",
       "                        <td id=\"T_67ab1_row0_col1\" class=\"data row0 col1\" >7285</td>\n",
       "                        <td id=\"T_67ab1_row0_col2\" class=\"data row0 col2\" >8.68%</td>\n",
       "            </tr>\n",
       "            <tr>\n",
       "                        <th id=\"T_67ab1_level0_row1\" class=\"row_heading level0 row1\" >ниже среднего</th>\n",
       "                        <td id=\"T_67ab1_row1_col0\" class=\"data row1 col0\" >581</td>\n",
       "                        <td id=\"T_67ab1_row1_col1\" class=\"data row1 col1\" >7152</td>\n",
       "                        <td id=\"T_67ab1_row1_col2\" class=\"data row1 col2\" >8.12%</td>\n",
       "            </tr>\n",
       "            <tr>\n",
       "                        <th id=\"T_67ab1_level0_row2\" class=\"row_heading level0 row2\" >высокий</th>\n",
       "                        <td id=\"T_67ab1_row2_col0\" class=\"data row2 col0\" >528</td>\n",
       "                        <td id=\"T_67ab1_row2_col1\" class=\"data row2 col1\" >7017</td>\n",
       "                        <td id=\"T_67ab1_row2_col2\" class=\"data row2 col2\" >7.52%</td>\n",
       "            </tr>\n",
       "    </tbody></table>"
      ],
      "text/plain": [
       "<pandas.io.formats.style.Styler at 0x7f6a3c8c0d00>"
      ]
     },
     "execution_count": 34,
     "metadata": {},
     "output_type": "execute_result"
    }
   ],
   "source": [
    "report = df.groupby('income_category').agg({'debt': ['sum', 'count', 'mean']})\n",
    "report.columns = ['к-во случаев невозврата', 'общее к-во заемщиков', '% невозврата']#переименуем столбцы\n",
    "report.index = report.index.rename('уровень дохода')#переименуем столбец группировки\n",
    "report = report.sort_values(by='% невозврата', ascending=False)#сортировка таблицы по столбцу '% невозврата' по убыванию\n",
    "report = report.style.format({'% невозврата': '{:.2%}'})#изменим формат вывода значений столбца '% невозврата'\n",
    "report"
   ]
  },
  {
   "cell_type": "markdown",
   "metadata": {},
   "source": [
    "Самый низкий процент невозврата у клиентов с высоким доходом, а клиенты с доходом ниже среднего более надежные заемщики, чем клиенты со средним доходом."
   ]
  },
  {
   "cell_type": "markdown",
   "metadata": {},
   "source": [
    "- Как разные цели кредита влияют на его возврат в срок?"
   ]
  },
  {
   "cell_type": "code",
   "execution_count": 35,
   "metadata": {},
   "outputs": [
    {
     "data": {
      "text/html": [
       "<style  type=\"text/css\" >\n",
       "</style><table id=\"T_20b34_\" ><thead>    <tr>        <th class=\"blank level0\" ></th>        <th class=\"col_heading level0 col0\" >к-во случаев невозврата</th>        <th class=\"col_heading level0 col1\" >общее к-во заемщиков</th>        <th class=\"col_heading level0 col2\" >% невозврата</th>    </tr>    <tr>        <th class=\"index_name level0\" >цель кредитования</th>        <th class=\"blank\" ></th>        <th class=\"blank\" ></th>        <th class=\"blank\" ></th>    </tr></thead><tbody>\n",
       "                <tr>\n",
       "                        <th id=\"T_20b34_level0_row0\" class=\"row_heading level0 row0\" >автомобиль</th>\n",
       "                        <td id=\"T_20b34_row0_col0\" class=\"data row0 col0\" >403</td>\n",
       "                        <td id=\"T_20b34_row0_col1\" class=\"data row0 col1\" >4306</td>\n",
       "                        <td id=\"T_20b34_row0_col2\" class=\"data row0 col2\" >9.36%</td>\n",
       "            </tr>\n",
       "            <tr>\n",
       "                        <th id=\"T_20b34_level0_row1\" class=\"row_heading level0 row1\" >образование</th>\n",
       "                        <td id=\"T_20b34_row1_col0\" class=\"data row1 col0\" >370</td>\n",
       "                        <td id=\"T_20b34_row1_col1\" class=\"data row1 col1\" >4013</td>\n",
       "                        <td id=\"T_20b34_row1_col2\" class=\"data row1 col2\" >9.22%</td>\n",
       "            </tr>\n",
       "            <tr>\n",
       "                        <th id=\"T_20b34_level0_row2\" class=\"row_heading level0 row2\" >свадьба</th>\n",
       "                        <td id=\"T_20b34_row2_col0\" class=\"data row2 col0\" >186</td>\n",
       "                        <td id=\"T_20b34_row2_col1\" class=\"data row2 col1\" >2324</td>\n",
       "                        <td id=\"T_20b34_row2_col2\" class=\"data row2 col2\" >8.00%</td>\n",
       "            </tr>\n",
       "            <tr>\n",
       "                        <th id=\"T_20b34_level0_row3\" class=\"row_heading level0 row3\" >недвижимость</th>\n",
       "                        <td id=\"T_20b34_row3_col0\" class=\"data row3 col0\" >782</td>\n",
       "                        <td id=\"T_20b34_row3_col1\" class=\"data row3 col1\" >10811</td>\n",
       "                        <td id=\"T_20b34_row3_col2\" class=\"data row3 col2\" >7.23%</td>\n",
       "            </tr>\n",
       "    </tbody></table>"
      ],
      "text/plain": [
       "<pandas.io.formats.style.Styler at 0x7f6a3d62f7c0>"
      ]
     },
     "execution_count": 35,
     "metadata": {},
     "output_type": "execute_result"
    }
   ],
   "source": [
    "report = df.groupby('purpose').agg({'debt': ['sum', 'count', 'mean']})\n",
    "report.columns = ['к-во случаев невозврата', 'общее к-во заемщиков', '% невозврата']#переименуем столбцы\n",
    "report.index = report.index.rename('цель кредитования')#переименуем столбец группировки\n",
    "report = report.sort_values(by='% невозврата', ascending=False)#сортировка таблицы по столбцу '% невозврата' по убыванию\n",
    "report = report.style.format({'% невозврата': '{:.2%}'})#изменим формат вывода значений столбца '% невозврата'\n",
    "report"
   ]
  },
  {
   "cell_type": "markdown",
   "metadata": {},
   "source": [
    "Как видно из таблицы, меньше просроченной задолженности у клиентов, которые берут кредит на свадьбу или приобретение недвижимости. Самый высокий процент невозврата у клиентов, кто приобретает автомобиль и чуть меньше у тех, кто оплачивает образование."
   ]
  },
  {
   "cell_type": "markdown",
   "metadata": {},
   "source": [
    "## Общий вывод"
   ]
  },
  {
   "cell_type": "markdown",
   "metadata": {},
   "source": [
    "Вероятность возврата кредита в срок зависит от семейного положения - люди, никогда не состоявшие в браке, чаще имеют просроченную задолженность. Процент невозврата у заемщиков состоящих в браке на 2% ниже. Клиенты, не имеющие детей, чаще погашают кредит в срок, а количество детей сильно не влияет на процент невозврата. Так, наличие ребенка в семье снижает надежность клиента на 1,63%. Также стоит обратить внимание на уровень дохода клиента и цель получения кредита. Например, надежность заемщика, не состоящего в браке, может укрепить высокий доход."
   ]
  }
 ],
 "metadata": {
  "ExecuteTimeLog": [
   {
    "duration": 756,
    "start_time": "2021-11-06T06:00:58.172Z"
   },
   {
    "duration": 99,
    "start_time": "2021-11-06T06:01:05.549Z"
   },
   {
    "duration": 71,
    "start_time": "2021-11-06T06:01:33.976Z"
   },
   {
    "duration": 88,
    "start_time": "2021-11-06T06:01:49.444Z"
   },
   {
    "duration": 75,
    "start_time": "2021-11-06T06:01:54.687Z"
   },
   {
    "duration": 77,
    "start_time": "2021-11-06T06:02:01.274Z"
   },
   {
    "duration": 357,
    "start_time": "2021-11-06T06:23:15.640Z"
   },
   {
    "duration": 72,
    "start_time": "2021-11-06T06:23:21.664Z"
   },
   {
    "duration": 30,
    "start_time": "2021-11-06T06:23:24.517Z"
   },
   {
    "duration": 14,
    "start_time": "2021-11-06T06:23:35.654Z"
   },
   {
    "duration": 99,
    "start_time": "2021-11-06T06:27:59.082Z"
   },
   {
    "duration": 12,
    "start_time": "2021-11-06T06:28:07.462Z"
   },
   {
    "duration": 11,
    "start_time": "2021-11-06T06:28:43.115Z"
   },
   {
    "duration": 14,
    "start_time": "2021-11-06T06:42:29.135Z"
   },
   {
    "duration": 3583,
    "start_time": "2021-11-06T06:43:04.422Z"
   },
   {
    "duration": 14,
    "start_time": "2021-11-06T06:43:13.635Z"
   },
   {
    "duration": 13,
    "start_time": "2021-11-06T06:44:15.321Z"
   },
   {
    "duration": 7,
    "start_time": "2021-11-06T06:47:17.193Z"
   },
   {
    "duration": 15,
    "start_time": "2021-11-06T06:47:39.893Z"
   },
   {
    "duration": 13,
    "start_time": "2021-11-06T06:48:41.307Z"
   },
   {
    "duration": 13,
    "start_time": "2021-11-06T06:51:15.019Z"
   },
   {
    "duration": 18,
    "start_time": "2021-11-06T07:19:47.319Z"
   },
   {
    "duration": 34,
    "start_time": "2021-11-06T07:24:54.036Z"
   },
   {
    "duration": 8,
    "start_time": "2021-11-06T07:25:14.909Z"
   },
   {
    "duration": 9,
    "start_time": "2021-11-06T07:25:26.932Z"
   },
   {
    "duration": 11,
    "start_time": "2021-11-06T07:30:06.403Z"
   },
   {
    "duration": 15,
    "start_time": "2021-11-06T07:32:22.516Z"
   },
   {
    "duration": 16,
    "start_time": "2021-11-06T07:32:43.564Z"
   },
   {
    "duration": 273,
    "start_time": "2021-11-06T07:36:23.085Z"
   },
   {
    "duration": 12,
    "start_time": "2021-11-06T07:36:29.499Z"
   },
   {
    "duration": 12,
    "start_time": "2021-11-06T07:36:42.707Z"
   },
   {
    "duration": 7,
    "start_time": "2021-11-06T07:37:34.769Z"
   },
   {
    "duration": 7,
    "start_time": "2021-11-06T07:38:18.593Z"
   },
   {
    "duration": 12,
    "start_time": "2021-11-06T07:38:23.526Z"
   },
   {
    "duration": 662,
    "start_time": "2021-11-06T12:39:30.016Z"
   },
   {
    "duration": 21,
    "start_time": "2021-11-06T12:39:32.645Z"
   },
   {
    "duration": 11,
    "start_time": "2021-11-06T12:39:36.004Z"
   },
   {
    "duration": 13,
    "start_time": "2021-11-06T12:39:37.347Z"
   },
   {
    "duration": 4,
    "start_time": "2021-11-06T12:40:53.806Z"
   },
   {
    "duration": 11,
    "start_time": "2021-11-06T12:41:04.722Z"
   },
   {
    "duration": 11,
    "start_time": "2021-11-06T12:41:27.390Z"
   },
   {
    "duration": 91,
    "start_time": "2021-11-06T12:45:48.966Z"
   },
   {
    "duration": 86,
    "start_time": "2021-11-06T12:45:55.593Z"
   },
   {
    "duration": 23,
    "start_time": "2021-11-06T12:46:00.838Z"
   },
   {
    "duration": 88,
    "start_time": "2021-11-06T12:46:47.603Z"
   },
   {
    "duration": 7,
    "start_time": "2021-11-06T12:47:20.972Z"
   },
   {
    "duration": 7,
    "start_time": "2021-11-06T12:47:39.564Z"
   },
   {
    "duration": 8,
    "start_time": "2021-11-06T12:48:24.501Z"
   },
   {
    "duration": 8,
    "start_time": "2021-11-06T12:52:08.056Z"
   },
   {
    "duration": 8,
    "start_time": "2021-11-06T12:53:07.082Z"
   },
   {
    "duration": 7,
    "start_time": "2021-11-06T12:53:15.161Z"
   },
   {
    "duration": 8,
    "start_time": "2021-11-06T12:58:40.621Z"
   },
   {
    "duration": 9,
    "start_time": "2021-11-06T13:11:58.847Z"
   },
   {
    "duration": 10,
    "start_time": "2021-11-06T13:12:15.064Z"
   },
   {
    "duration": 7,
    "start_time": "2021-11-06T13:12:18.141Z"
   },
   {
    "duration": 8,
    "start_time": "2021-11-06T13:12:19.545Z"
   },
   {
    "duration": 8,
    "start_time": "2021-11-06T13:14:57.970Z"
   },
   {
    "duration": 9,
    "start_time": "2021-11-06T13:28:37.644Z"
   },
   {
    "duration": 5,
    "start_time": "2021-11-06T14:03:20.817Z"
   },
   {
    "duration": 4,
    "start_time": "2021-11-06T14:03:32.739Z"
   },
   {
    "duration": 7,
    "start_time": "2021-11-06T14:05:39.026Z"
   },
   {
    "duration": 25,
    "start_time": "2021-11-06T14:06:58.986Z"
   },
   {
    "duration": 8,
    "start_time": "2021-11-06T14:07:40.365Z"
   },
   {
    "duration": 6,
    "start_time": "2021-11-06T14:17:48.926Z"
   },
   {
    "duration": 11,
    "start_time": "2021-11-06T14:18:12.660Z"
   },
   {
    "duration": 10,
    "start_time": "2021-11-06T14:29:55.328Z"
   },
   {
    "duration": 10,
    "start_time": "2021-11-06T14:29:56.108Z"
   },
   {
    "duration": 7,
    "start_time": "2021-11-06T14:32:18.059Z"
   },
   {
    "duration": 29,
    "start_time": "2021-11-06T14:36:38.261Z"
   },
   {
    "duration": 33,
    "start_time": "2021-11-06T14:38:06.066Z"
   },
   {
    "duration": 18,
    "start_time": "2021-11-06T14:38:42.358Z"
   },
   {
    "duration": 1210,
    "start_time": "2021-11-06T14:39:08.510Z"
   },
   {
    "duration": 12,
    "start_time": "2021-11-06T14:39:19.004Z"
   },
   {
    "duration": 13,
    "start_time": "2021-11-06T14:39:29.064Z"
   },
   {
    "duration": 22,
    "start_time": "2021-11-06T14:45:30.646Z"
   },
   {
    "duration": 14,
    "start_time": "2021-11-06T14:45:44.956Z"
   },
   {
    "duration": 26,
    "start_time": "2021-11-06T14:45:48.358Z"
   },
   {
    "duration": 12,
    "start_time": "2021-11-06T14:45:49.055Z"
   },
   {
    "duration": 97,
    "start_time": "2021-11-06T14:45:57.703Z"
   },
   {
    "duration": 12,
    "start_time": "2021-11-06T14:45:59.426Z"
   },
   {
    "duration": 11,
    "start_time": "2021-11-06T14:46:02.116Z"
   },
   {
    "duration": 8,
    "start_time": "2021-11-06T14:46:03.912Z"
   },
   {
    "duration": 9,
    "start_time": "2021-11-06T14:46:04.891Z"
   },
   {
    "duration": 10,
    "start_time": "2021-11-06T14:46:06.339Z"
   },
   {
    "duration": 21,
    "start_time": "2021-11-06T14:46:08.319Z"
   },
   {
    "duration": 11,
    "start_time": "2021-11-06T14:46:09.278Z"
   },
   {
    "duration": 44,
    "start_time": "2021-11-06T14:49:06.693Z"
   },
   {
    "duration": 10,
    "start_time": "2021-11-06T14:49:08.347Z"
   },
   {
    "duration": 82,
    "start_time": "2021-11-06T14:56:37.695Z"
   },
   {
    "duration": 84,
    "start_time": "2021-11-06T14:56:53.024Z"
   },
   {
    "duration": 44,
    "start_time": "2021-11-06T14:57:01.824Z"
   },
   {
    "duration": 42,
    "start_time": "2021-11-06T14:57:33.806Z"
   },
   {
    "duration": 11,
    "start_time": "2021-11-06T14:57:35.087Z"
   },
   {
    "duration": 74,
    "start_time": "2021-11-06T14:57:46.496Z"
   },
   {
    "duration": 12,
    "start_time": "2021-11-06T14:57:47.118Z"
   },
   {
    "duration": 6,
    "start_time": "2021-11-06T15:03:49.237Z"
   },
   {
    "duration": 9,
    "start_time": "2021-11-06T15:03:50.280Z"
   },
   {
    "duration": 7,
    "start_time": "2021-11-06T15:04:13.537Z"
   },
   {
    "duration": 8,
    "start_time": "2021-11-06T15:04:27.462Z"
   },
   {
    "duration": 9,
    "start_time": "2021-11-06T15:04:38.186Z"
   },
   {
    "duration": 84,
    "start_time": "2021-11-06T15:09:56.958Z"
   },
   {
    "duration": 80,
    "start_time": "2021-11-06T15:10:16.121Z"
   },
   {
    "duration": 10,
    "start_time": "2021-11-06T15:10:31.642Z"
   },
   {
    "duration": 85,
    "start_time": "2021-11-06T15:10:36.166Z"
   },
   {
    "duration": 13,
    "start_time": "2021-11-06T15:10:38.098Z"
   },
   {
    "duration": 29,
    "start_time": "2021-11-06T15:10:39.444Z"
   },
   {
    "duration": 30,
    "start_time": "2021-11-06T15:11:20.467Z"
   },
   {
    "duration": 10,
    "start_time": "2021-11-06T15:11:29.402Z"
   },
   {
    "duration": 9,
    "start_time": "2021-11-06T15:59:26.682Z"
   },
   {
    "duration": 125,
    "start_time": "2021-11-06T16:05:46.076Z"
   },
   {
    "duration": 301,
    "start_time": "2021-11-06T16:06:20.383Z"
   },
   {
    "duration": 240,
    "start_time": "2021-11-06T16:06:32.821Z"
   },
   {
    "duration": 167,
    "start_time": "2021-11-06T16:06:50.264Z"
   },
   {
    "duration": 2233,
    "start_time": "2021-11-06T16:07:06.382Z"
   },
   {
    "duration": 2942,
    "start_time": "2021-11-06T16:07:14.957Z"
   },
   {
    "duration": 149,
    "start_time": "2021-11-06T16:07:26.422Z"
   },
   {
    "duration": 251,
    "start_time": "2021-11-06T16:10:22.867Z"
   },
   {
    "duration": 11,
    "start_time": "2021-11-06T16:10:27.326Z"
   },
   {
    "duration": 9,
    "start_time": "2021-11-06T16:10:59.434Z"
   },
   {
    "duration": 1801,
    "start_time": "2021-11-06T16:20:55.968Z"
   },
   {
    "duration": 99,
    "start_time": "2021-11-06T16:21:11.935Z"
   },
   {
    "duration": 7,
    "start_time": "2021-11-06T16:21:16.800Z"
   },
   {
    "duration": 267,
    "start_time": "2021-11-06T16:24:39.078Z"
   },
   {
    "duration": 7,
    "start_time": "2021-11-06T16:26:01.323Z"
   },
   {
    "duration": 10,
    "start_time": "2021-11-06T16:26:24.354Z"
   },
   {
    "duration": 8,
    "start_time": "2021-11-06T16:28:00.201Z"
   },
   {
    "duration": 8,
    "start_time": "2021-11-06T16:28:05.275Z"
   },
   {
    "duration": 8,
    "start_time": "2021-11-06T16:28:19.864Z"
   },
   {
    "duration": 11,
    "start_time": "2021-11-06T16:36:36.555Z"
   },
   {
    "duration": 9,
    "start_time": "2021-11-06T16:36:56.822Z"
   },
   {
    "duration": 10,
    "start_time": "2021-11-06T16:38:04.071Z"
   },
   {
    "duration": 10,
    "start_time": "2021-11-06T16:38:18.285Z"
   },
   {
    "duration": 11,
    "start_time": "2021-11-06T16:38:19.591Z"
   },
   {
    "duration": 10,
    "start_time": "2021-11-06T16:38:40.146Z"
   },
   {
    "duration": 8,
    "start_time": "2021-11-06T16:38:46.312Z"
   },
   {
    "duration": 8,
    "start_time": "2021-11-06T16:39:15.446Z"
   },
   {
    "duration": 6,
    "start_time": "2021-11-06T16:39:16.040Z"
   },
   {
    "duration": 9,
    "start_time": "2021-11-06T16:39:17.244Z"
   },
   {
    "duration": 8,
    "start_time": "2021-11-06T16:39:18.611Z"
   },
   {
    "duration": 62,
    "start_time": "2021-11-06T16:39:28.706Z"
   },
   {
    "duration": 12,
    "start_time": "2021-11-06T16:39:28.770Z"
   },
   {
    "duration": 14,
    "start_time": "2021-11-06T16:39:28.785Z"
   },
   {
    "duration": 18,
    "start_time": "2021-11-06T16:39:28.800Z"
   },
   {
    "duration": 8,
    "start_time": "2021-11-06T16:39:28.820Z"
   },
   {
    "duration": 80,
    "start_time": "2021-11-06T16:39:28.829Z"
   },
   {
    "duration": 1179,
    "start_time": "2021-11-06T16:39:27.732Z"
   },
   {
    "duration": 1178,
    "start_time": "2021-11-06T16:39:27.735Z"
   },
   {
    "duration": 1177,
    "start_time": "2021-11-06T16:39:27.737Z"
   },
   {
    "duration": 1176,
    "start_time": "2021-11-06T16:39:27.739Z"
   },
   {
    "duration": 1173,
    "start_time": "2021-11-06T16:39:27.743Z"
   },
   {
    "duration": 1172,
    "start_time": "2021-11-06T16:39:27.745Z"
   },
   {
    "duration": 58,
    "start_time": "2021-11-06T16:39:47.262Z"
   },
   {
    "duration": 12,
    "start_time": "2021-11-06T16:39:55.687Z"
   },
   {
    "duration": 57,
    "start_time": "2021-11-06T16:40:08.564Z"
   },
   {
    "duration": 12,
    "start_time": "2021-11-06T16:40:09.952Z"
   },
   {
    "duration": 9,
    "start_time": "2021-11-06T16:40:12.694Z"
   },
   {
    "duration": 9,
    "start_time": "2021-11-06T16:40:13.246Z"
   },
   {
    "duration": 8,
    "start_time": "2021-11-06T16:40:13.701Z"
   },
   {
    "duration": 93,
    "start_time": "2021-11-06T16:40:14.164Z"
   },
   {
    "duration": 9,
    "start_time": "2021-11-06T16:40:14.379Z"
   },
   {
    "duration": 741,
    "start_time": "2021-11-06T16:40:15.370Z"
   },
   {
    "duration": 1223,
    "start_time": "2021-11-06T16:40:14.890Z"
   },
   {
    "duration": 1222,
    "start_time": "2021-11-06T16:40:14.893Z"
   },
   {
    "duration": 8,
    "start_time": "2021-11-06T16:40:16.238Z"
   },
   {
    "duration": 9,
    "start_time": "2021-11-06T16:40:16.750Z"
   },
   {
    "duration": 12,
    "start_time": "2021-11-06T16:40:27.511Z"
   },
   {
    "duration": 9,
    "start_time": "2021-11-06T16:40:39.898Z"
   },
   {
    "duration": 8,
    "start_time": "2021-11-06T16:41:07.388Z"
   },
   {
    "duration": 11,
    "start_time": "2021-11-06T16:41:20.081Z"
   },
   {
    "duration": 122,
    "start_time": "2021-11-06T16:41:23.360Z"
   },
   {
    "duration": 8,
    "start_time": "2021-11-06T16:41:25.241Z"
   },
   {
    "duration": 64,
    "start_time": "2021-11-06T16:41:30.138Z"
   },
   {
    "duration": 662,
    "start_time": "2021-11-06T16:41:40.872Z"
   },
   {
    "duration": 17,
    "start_time": "2021-11-06T16:41:41.536Z"
   },
   {
    "duration": 10,
    "start_time": "2021-11-06T16:41:41.555Z"
   },
   {
    "duration": 9,
    "start_time": "2021-11-06T16:41:41.567Z"
   },
   {
    "duration": 8,
    "start_time": "2021-11-06T16:41:41.579Z"
   },
   {
    "duration": 92,
    "start_time": "2021-11-06T16:41:41.588Z"
   },
   {
    "duration": 1218,
    "start_time": "2021-11-06T16:41:40.464Z"
   },
   {
    "duration": 1216,
    "start_time": "2021-11-06T16:41:40.467Z"
   },
   {
    "duration": 1215,
    "start_time": "2021-11-06T16:41:40.469Z"
   },
   {
    "duration": 1214,
    "start_time": "2021-11-06T16:41:40.471Z"
   },
   {
    "duration": 1213,
    "start_time": "2021-11-06T16:41:40.473Z"
   },
   {
    "duration": 7,
    "start_time": "2021-11-06T16:41:57.184Z"
   },
   {
    "duration": 6,
    "start_time": "2021-11-06T16:41:59.174Z"
   },
   {
    "duration": 9,
    "start_time": "2021-11-06T16:42:02.999Z"
   },
   {
    "duration": 7,
    "start_time": "2021-11-06T16:42:44.896Z"
   },
   {
    "duration": 8,
    "start_time": "2021-11-06T16:42:54.069Z"
   },
   {
    "duration": 79,
    "start_time": "2021-11-06T16:43:21.021Z"
   },
   {
    "duration": 73,
    "start_time": "2021-11-06T16:43:55.348Z"
   },
   {
    "duration": 10,
    "start_time": "2021-11-06T16:43:56.211Z"
   },
   {
    "duration": 8,
    "start_time": "2021-11-06T16:44:09.250Z"
   },
   {
    "duration": 6,
    "start_time": "2021-11-06T16:57:40.677Z"
   },
   {
    "duration": 6,
    "start_time": "2021-11-06T16:57:57.217Z"
   },
   {
    "duration": 220,
    "start_time": "2021-11-07T06:11:10.311Z"
   },
   {
    "duration": 621,
    "start_time": "2021-11-07T06:11:20.478Z"
   },
   {
    "duration": 17,
    "start_time": "2021-11-07T06:11:21.100Z"
   },
   {
    "duration": 9,
    "start_time": "2021-11-07T06:11:22.725Z"
   },
   {
    "duration": 9,
    "start_time": "2021-11-07T06:11:23.583Z"
   },
   {
    "duration": 7,
    "start_time": "2021-11-07T06:11:24.380Z"
   },
   {
    "duration": 71,
    "start_time": "2021-11-07T06:11:25.740Z"
   },
   {
    "duration": 9,
    "start_time": "2021-11-07T06:11:26.171Z"
   },
   {
    "duration": 58,
    "start_time": "2021-11-07T06:11:28.029Z"
   },
   {
    "duration": 8,
    "start_time": "2021-11-07T06:11:28.513Z"
   },
   {
    "duration": 7,
    "start_time": "2021-11-07T06:11:39.489Z"
   },
   {
    "duration": 6,
    "start_time": "2021-11-07T06:11:48.605Z"
   },
   {
    "duration": 9,
    "start_time": "2021-11-07T06:11:50.106Z"
   },
   {
    "duration": 5,
    "start_time": "2021-11-07T06:11:54.289Z"
   },
   {
    "duration": 20,
    "start_time": "2021-11-07T06:19:45.198Z"
   },
   {
    "duration": 1176,
    "start_time": "2021-11-07T06:20:18.410Z"
   },
   {
    "duration": 6,
    "start_time": "2021-11-07T06:20:25.559Z"
   },
   {
    "duration": 6,
    "start_time": "2021-11-07T06:20:46.761Z"
   },
   {
    "duration": 7,
    "start_time": "2021-11-07T06:21:02.380Z"
   },
   {
    "duration": 7,
    "start_time": "2021-11-07T06:21:24.229Z"
   },
   {
    "duration": 7,
    "start_time": "2021-11-07T06:21:30.226Z"
   },
   {
    "duration": 7,
    "start_time": "2021-11-07T06:28:52.620Z"
   },
   {
    "duration": 64,
    "start_time": "2021-11-07T06:29:38.332Z"
   },
   {
    "duration": 8,
    "start_time": "2021-11-07T06:29:48.214Z"
   },
   {
    "duration": 8,
    "start_time": "2021-11-07T06:30:00.343Z"
   },
   {
    "duration": 10,
    "start_time": "2021-11-07T06:34:27.669Z"
   },
   {
    "duration": 7,
    "start_time": "2021-11-07T06:34:48.219Z"
   },
   {
    "duration": 7,
    "start_time": "2021-11-07T06:36:14.345Z"
   },
   {
    "duration": 7,
    "start_time": "2021-11-07T06:37:04.448Z"
   },
   {
    "duration": 5,
    "start_time": "2021-11-07T06:37:31.994Z"
   },
   {
    "duration": 7,
    "start_time": "2021-11-07T06:37:48.702Z"
   },
   {
    "duration": 6,
    "start_time": "2021-11-07T06:38:17.446Z"
   },
   {
    "duration": 5,
    "start_time": "2021-11-07T06:38:43.334Z"
   },
   {
    "duration": 7,
    "start_time": "2021-11-07T06:38:52.412Z"
   },
   {
    "duration": 54,
    "start_time": "2021-11-07T06:39:03.479Z"
   },
   {
    "duration": 11,
    "start_time": "2021-11-07T06:39:03.534Z"
   },
   {
    "duration": 10,
    "start_time": "2021-11-07T06:39:03.546Z"
   },
   {
    "duration": 12,
    "start_time": "2021-11-07T06:39:03.557Z"
   },
   {
    "duration": 22,
    "start_time": "2021-11-07T06:39:03.570Z"
   },
   {
    "duration": 68,
    "start_time": "2021-11-07T06:39:03.594Z"
   },
   {
    "duration": 8,
    "start_time": "2021-11-07T06:39:03.664Z"
   },
   {
    "duration": 22,
    "start_time": "2021-11-07T06:39:03.674Z"
   },
   {
    "duration": 6,
    "start_time": "2021-11-07T06:39:03.698Z"
   },
   {
    "duration": 8,
    "start_time": "2021-11-07T06:39:03.706Z"
   },
   {
    "duration": 6,
    "start_time": "2021-11-07T06:39:03.716Z"
   },
   {
    "duration": 5,
    "start_time": "2021-11-07T06:39:28.393Z"
   },
   {
    "duration": 13,
    "start_time": "2021-11-07T06:40:28.097Z"
   },
   {
    "duration": 182,
    "start_time": "2021-11-07T06:41:03.939Z"
   },
   {
    "duration": 185,
    "start_time": "2021-11-07T06:41:44.324Z"
   },
   {
    "duration": 9,
    "start_time": "2021-11-07T06:42:04.756Z"
   },
   {
    "duration": 179,
    "start_time": "2021-11-07T06:42:06.487Z"
   },
   {
    "duration": 1152,
    "start_time": "2021-11-07T12:48:15.474Z"
   },
   {
    "duration": 32,
    "start_time": "2021-11-07T12:48:16.630Z"
   },
   {
    "duration": 13,
    "start_time": "2021-11-07T12:48:16.665Z"
   },
   {
    "duration": 48,
    "start_time": "2021-11-07T12:48:16.681Z"
   },
   {
    "duration": 15,
    "start_time": "2021-11-07T12:48:16.732Z"
   },
   {
    "duration": 168,
    "start_time": "2021-11-07T12:48:16.750Z"
   },
   {
    "duration": 19,
    "start_time": "2021-11-07T12:48:16.922Z"
   },
   {
    "duration": 18,
    "start_time": "2021-11-07T12:48:16.946Z"
   },
   {
    "duration": 8,
    "start_time": "2021-11-07T12:48:16.968Z"
   },
   {
    "duration": 47,
    "start_time": "2021-11-07T12:48:16.980Z"
   },
   {
    "duration": 12,
    "start_time": "2021-11-07T12:48:17.031Z"
   },
   {
    "duration": 461,
    "start_time": "2021-11-07T12:49:29.318Z"
   },
   {
    "duration": 128,
    "start_time": "2021-11-07T12:49:41.236Z"
   },
   {
    "duration": 121,
    "start_time": "2021-11-07T12:50:59.565Z"
   },
   {
    "duration": 14,
    "start_time": "2021-11-07T12:51:01.489Z"
   },
   {
    "duration": 13,
    "start_time": "2021-11-07T12:51:04.413Z"
   },
   {
    "duration": 9,
    "start_time": "2021-11-07T12:52:21.654Z"
   },
   {
    "duration": 921,
    "start_time": "2021-11-07T12:52:41.700Z"
   },
   {
    "duration": 34,
    "start_time": "2021-11-07T12:52:42.625Z"
   },
   {
    "duration": 19,
    "start_time": "2021-11-07T12:52:42.663Z"
   },
   {
    "duration": 48,
    "start_time": "2021-11-07T12:52:42.685Z"
   },
   {
    "duration": 16,
    "start_time": "2021-11-07T12:52:42.736Z"
   },
   {
    "duration": 209,
    "start_time": "2021-11-07T12:52:42.755Z"
   },
   {
    "duration": 14,
    "start_time": "2021-11-07T12:52:42.968Z"
   },
   {
    "duration": 18,
    "start_time": "2021-11-07T12:52:42.985Z"
   },
   {
    "duration": 23,
    "start_time": "2021-11-07T12:52:43.006Z"
   },
   {
    "duration": 23,
    "start_time": "2021-11-07T12:52:43.032Z"
   },
   {
    "duration": 31,
    "start_time": "2021-11-07T12:52:43.058Z"
   },
   {
    "duration": 92,
    "start_time": "2021-11-07T12:57:41.223Z"
   },
   {
    "duration": 98,
    "start_time": "2021-11-07T12:58:00.922Z"
   },
   {
    "duration": 97,
    "start_time": "2021-11-07T12:58:26.400Z"
   },
   {
    "duration": 820,
    "start_time": "2021-11-07T12:58:36.579Z"
   },
   {
    "duration": 30,
    "start_time": "2021-11-07T12:58:37.402Z"
   },
   {
    "duration": 13,
    "start_time": "2021-11-07T12:58:37.436Z"
   },
   {
    "duration": 13,
    "start_time": "2021-11-07T12:58:37.453Z"
   },
   {
    "duration": 11,
    "start_time": "2021-11-07T12:58:37.468Z"
   },
   {
    "duration": 176,
    "start_time": "2021-11-07T12:58:37.481Z"
   },
   {
    "duration": 12,
    "start_time": "2021-11-07T12:58:37.660Z"
   },
   {
    "duration": 17,
    "start_time": "2021-11-07T12:58:37.676Z"
   },
   {
    "duration": 45,
    "start_time": "2021-11-07T12:58:37.696Z"
   },
   {
    "duration": 18,
    "start_time": "2021-11-07T12:58:37.744Z"
   },
   {
    "duration": 110,
    "start_time": "2021-11-07T12:58:37.765Z"
   },
   {
    "duration": 19,
    "start_time": "2021-11-07T12:58:54.432Z"
   },
   {
    "duration": 24,
    "start_time": "2021-11-07T12:59:09.668Z"
   },
   {
    "duration": 8,
    "start_time": "2021-11-07T12:59:30.395Z"
   },
   {
    "duration": 5,
    "start_time": "2021-11-07T12:59:40.407Z"
   },
   {
    "duration": 221,
    "start_time": "2021-11-08T15:24:44.536Z"
   },
   {
    "duration": 630,
    "start_time": "2021-11-08T15:24:55.471Z"
   },
   {
    "duration": 17,
    "start_time": "2021-11-08T15:24:56.103Z"
   },
   {
    "duration": 12,
    "start_time": "2021-11-08T15:24:56.121Z"
   },
   {
    "duration": 14,
    "start_time": "2021-11-08T15:24:56.135Z"
   },
   {
    "duration": 11,
    "start_time": "2021-11-08T15:24:56.151Z"
   },
   {
    "duration": 95,
    "start_time": "2021-11-08T15:24:56.164Z"
   },
   {
    "duration": 9,
    "start_time": "2021-11-08T15:24:56.261Z"
   },
   {
    "duration": 29,
    "start_time": "2021-11-08T15:24:56.272Z"
   },
   {
    "duration": 17,
    "start_time": "2021-11-08T15:24:56.302Z"
   },
   {
    "duration": 21,
    "start_time": "2021-11-08T15:24:56.321Z"
   },
   {
    "duration": 12,
    "start_time": "2021-11-08T15:24:56.344Z"
   },
   {
    "duration": 82,
    "start_time": "2021-11-08T15:25:30.817Z"
   },
   {
    "duration": 73,
    "start_time": "2021-11-08T15:25:40.712Z"
   },
   {
    "duration": 4966,
    "start_time": "2021-11-08T15:34:15.084Z"
   },
   {
    "duration": 4759,
    "start_time": "2021-11-08T15:34:46.474Z"
   },
   {
    "duration": 582,
    "start_time": "2021-11-08T15:43:42.124Z"
   },
   {
    "duration": 17,
    "start_time": "2021-11-08T15:43:42.708Z"
   },
   {
    "duration": 11,
    "start_time": "2021-11-08T15:43:42.728Z"
   },
   {
    "duration": 10,
    "start_time": "2021-11-08T15:43:42.741Z"
   },
   {
    "duration": 8,
    "start_time": "2021-11-08T15:43:42.752Z"
   },
   {
    "duration": 96,
    "start_time": "2021-11-08T15:43:42.762Z"
   },
   {
    "duration": 9,
    "start_time": "2021-11-08T15:43:42.859Z"
   },
   {
    "duration": 9,
    "start_time": "2021-11-08T15:43:42.869Z"
   },
   {
    "duration": 5,
    "start_time": "2021-11-08T15:43:42.891Z"
   },
   {
    "duration": 7,
    "start_time": "2021-11-08T15:43:42.898Z"
   },
   {
    "duration": 3,
    "start_time": "2021-11-08T15:43:42.907Z"
   },
   {
    "duration": 6,
    "start_time": "2021-11-08T15:44:41.392Z"
   },
   {
    "duration": 6,
    "start_time": "2021-11-08T15:45:05.305Z"
   },
   {
    "duration": 337,
    "start_time": "2021-11-09T07:22:36.062Z"
   },
   {
    "duration": 628,
    "start_time": "2021-11-09T07:22:48.164Z"
   },
   {
    "duration": 16,
    "start_time": "2021-11-09T07:22:48.794Z"
   },
   {
    "duration": 11,
    "start_time": "2021-11-09T07:22:48.812Z"
   },
   {
    "duration": 21,
    "start_time": "2021-11-09T07:22:48.825Z"
   },
   {
    "duration": 7,
    "start_time": "2021-11-09T07:22:48.848Z"
   },
   {
    "duration": 96,
    "start_time": "2021-11-09T07:22:48.856Z"
   },
   {
    "duration": 8,
    "start_time": "2021-11-09T07:22:48.954Z"
   },
   {
    "duration": 10,
    "start_time": "2021-11-09T07:22:48.964Z"
   },
   {
    "duration": 13,
    "start_time": "2021-11-09T07:22:48.976Z"
   },
   {
    "duration": 13,
    "start_time": "2021-11-09T07:22:48.990Z"
   },
   {
    "duration": 14,
    "start_time": "2021-11-09T07:22:49.004Z"
   },
   {
    "duration": 85,
    "start_time": "2021-11-09T07:23:13.946Z"
   },
   {
    "duration": 88,
    "start_time": "2021-11-09T07:26:14.934Z"
   },
   {
    "duration": 11,
    "start_time": "2021-11-09T07:28:01.256Z"
   },
   {
    "duration": 9,
    "start_time": "2021-11-09T07:28:12.441Z"
   },
   {
    "duration": 15,
    "start_time": "2021-11-09T07:28:40.268Z"
   },
   {
    "duration": 9,
    "start_time": "2021-11-09T07:28:52.137Z"
   },
   {
    "duration": 14,
    "start_time": "2021-11-09T07:30:31.302Z"
   },
   {
    "duration": 11,
    "start_time": "2021-11-09T07:31:12.422Z"
   },
   {
    "duration": 11,
    "start_time": "2021-11-09T07:31:19.494Z"
   },
   {
    "duration": 7,
    "start_time": "2021-11-09T07:31:26.488Z"
   },
   {
    "duration": 10,
    "start_time": "2021-11-09T07:32:08.984Z"
   },
   {
    "duration": 9,
    "start_time": "2021-11-09T07:32:18.360Z"
   },
   {
    "duration": 18,
    "start_time": "2021-11-09T07:33:21.530Z"
   },
   {
    "duration": 21,
    "start_time": "2021-11-09T07:33:41.044Z"
   },
   {
    "duration": 18,
    "start_time": "2021-11-09T07:34:32.068Z"
   },
   {
    "duration": 26,
    "start_time": "2021-11-09T07:36:53.624Z"
   },
   {
    "duration": 11,
    "start_time": "2021-11-09T07:37:53.314Z"
   },
   {
    "duration": 12,
    "start_time": "2021-11-09T07:40:42.636Z"
   },
   {
    "duration": 14,
    "start_time": "2021-11-09T07:41:19.136Z"
   },
   {
    "duration": 1059,
    "start_time": "2021-11-09T14:47:53.886Z"
   },
   {
    "duration": 1433,
    "start_time": "2021-11-09T14:48:38.843Z"
   },
   {
    "duration": 63,
    "start_time": "2021-11-09T14:49:01.024Z"
   },
   {
    "duration": 59,
    "start_time": "2021-11-09T14:49:16.121Z"
   },
   {
    "duration": 394,
    "start_time": "2021-11-10T11:11:12.318Z"
   },
   {
    "duration": 868,
    "start_time": "2021-11-10T11:11:18.382Z"
   },
   {
    "duration": 30,
    "start_time": "2021-11-10T11:11:19.253Z"
   },
   {
    "duration": 13,
    "start_time": "2021-11-10T11:11:23.046Z"
   },
   {
    "duration": 15,
    "start_time": "2021-11-10T11:11:25.021Z"
   },
   {
    "duration": 116,
    "start_time": "2021-11-10T11:13:07.088Z"
   },
   {
    "duration": 11,
    "start_time": "2021-11-10T11:13:17.992Z"
   },
   {
    "duration": 8,
    "start_time": "2021-11-10T11:52:46.126Z"
   },
   {
    "duration": 8,
    "start_time": "2021-11-10T11:53:20.245Z"
   },
   {
    "duration": 7,
    "start_time": "2021-11-10T11:54:51.508Z"
   },
   {
    "duration": 9,
    "start_time": "2021-11-10T11:54:58.655Z"
   },
   {
    "duration": 8,
    "start_time": "2021-11-10T11:56:07.873Z"
   },
   {
    "duration": 9,
    "start_time": "2021-11-10T11:56:14.801Z"
   },
   {
    "duration": 6,
    "start_time": "2021-11-10T11:56:28.659Z"
   },
   {
    "duration": 10,
    "start_time": "2021-11-10T12:09:08.463Z"
   },
   {
    "duration": 12,
    "start_time": "2021-11-10T12:09:26.254Z"
   },
   {
    "duration": 7931,
    "start_time": "2021-11-10T12:10:09.625Z"
   },
   {
    "duration": 9498,
    "start_time": "2021-11-10T12:10:45.433Z"
   },
   {
    "duration": 8875,
    "start_time": "2021-11-10T12:11:16.205Z"
   },
   {
    "duration": 340,
    "start_time": "2021-11-10T12:11:59.586Z"
   },
   {
    "duration": 19,
    "start_time": "2021-11-10T12:12:17.723Z"
   },
   {
    "duration": 13,
    "start_time": "2021-11-10T12:12:58.219Z"
   },
   {
    "duration": 19,
    "start_time": "2021-11-10T12:13:10.522Z"
   },
   {
    "duration": 11,
    "start_time": "2021-11-10T12:15:05.958Z"
   },
   {
    "duration": 911,
    "start_time": "2021-11-10T16:41:22.001Z"
   },
   {
    "duration": 92,
    "start_time": "2021-11-10T16:41:46.960Z"
   },
   {
    "duration": 84,
    "start_time": "2021-11-10T16:42:32.247Z"
   },
   {
    "duration": 76,
    "start_time": "2021-11-10T16:42:57.235Z"
   },
   {
    "duration": 18,
    "start_time": "2021-11-10T16:42:59.065Z"
   },
   {
    "duration": 11,
    "start_time": "2021-11-10T16:45:15.666Z"
   },
   {
    "duration": 12,
    "start_time": "2021-11-10T16:52:59.696Z"
   },
   {
    "duration": 72,
    "start_time": "2021-11-10T16:53:06.198Z"
   },
   {
    "duration": 18,
    "start_time": "2021-11-10T16:53:08.159Z"
   },
   {
    "duration": 15,
    "start_time": "2021-11-10T16:53:10.319Z"
   },
   {
    "duration": 9,
    "start_time": "2021-11-10T16:53:11.703Z"
   },
   {
    "duration": 12,
    "start_time": "2021-11-10T16:53:11.715Z"
   },
   {
    "duration": 134,
    "start_time": "2021-11-10T16:53:13.145Z"
   },
   {
    "duration": 14,
    "start_time": "2021-11-10T16:53:13.760Z"
   },
   {
    "duration": 12,
    "start_time": "2021-11-10T17:04:47.392Z"
   },
   {
    "duration": 11,
    "start_time": "2021-11-10T17:06:49.960Z"
   },
   {
    "duration": 79,
    "start_time": "2021-11-10T17:06:58.433Z"
   },
   {
    "duration": 18,
    "start_time": "2021-11-10T17:06:58.514Z"
   },
   {
    "duration": 13,
    "start_time": "2021-11-10T17:06:58.535Z"
   },
   {
    "duration": 43,
    "start_time": "2021-11-10T17:06:58.550Z"
   },
   {
    "duration": 12,
    "start_time": "2021-11-10T17:06:58.596Z"
   },
   {
    "duration": 180,
    "start_time": "2021-11-10T17:06:58.611Z"
   },
   {
    "duration": 21,
    "start_time": "2021-11-10T17:06:58.794Z"
   },
   {
    "duration": 20,
    "start_time": "2021-11-10T17:06:58.818Z"
   },
   {
    "duration": 40,
    "start_time": "2021-11-10T17:06:58.843Z"
   },
   {
    "duration": 18,
    "start_time": "2021-11-10T17:06:58.886Z"
   },
   {
    "duration": 8,
    "start_time": "2021-11-10T17:06:58.906Z"
   },
   {
    "duration": 21,
    "start_time": "2021-11-10T17:06:58.917Z"
   },
   {
    "duration": 13,
    "start_time": "2021-11-10T17:07:44.057Z"
   },
   {
    "duration": 11,
    "start_time": "2021-11-10T17:07:44.826Z"
   },
   {
    "duration": 9,
    "start_time": "2021-11-10T17:09:13.657Z"
   },
   {
    "duration": 11,
    "start_time": "2021-11-10T17:09:28.517Z"
   },
   {
    "duration": 19,
    "start_time": "2021-11-10T17:10:28.829Z"
   },
   {
    "duration": 18,
    "start_time": "2021-11-10T17:11:36.758Z"
   },
   {
    "duration": 28,
    "start_time": "2021-11-10T17:12:50.173Z"
   },
   {
    "duration": 19,
    "start_time": "2021-11-10T17:13:14.557Z"
   },
   {
    "duration": 25,
    "start_time": "2021-11-10T17:13:30.446Z"
   },
   {
    "duration": 24,
    "start_time": "2021-11-10T17:14:17.825Z"
   },
   {
    "duration": 38,
    "start_time": "2021-11-10T17:18:04.007Z"
   },
   {
    "duration": 17,
    "start_time": "2021-11-10T17:18:25.283Z"
   },
   {
    "duration": 19,
    "start_time": "2021-11-10T17:18:37.169Z"
   },
   {
    "duration": 25,
    "start_time": "2021-11-10T17:18:46.041Z"
   },
   {
    "duration": 70,
    "start_time": "2021-11-10T17:18:55.713Z"
   },
   {
    "duration": 17,
    "start_time": "2021-11-10T17:18:55.786Z"
   },
   {
    "duration": 13,
    "start_time": "2021-11-10T17:18:55.806Z"
   },
   {
    "duration": 11,
    "start_time": "2021-11-10T17:18:55.822Z"
   },
   {
    "duration": 9,
    "start_time": "2021-11-10T17:18:55.835Z"
   },
   {
    "duration": 120,
    "start_time": "2021-11-10T17:18:55.883Z"
   },
   {
    "duration": 12,
    "start_time": "2021-11-10T17:18:56.005Z"
   },
   {
    "duration": 10,
    "start_time": "2021-11-10T17:18:56.020Z"
   },
   {
    "duration": 11,
    "start_time": "2021-11-10T17:18:56.033Z"
   },
   {
    "duration": 22,
    "start_time": "2021-11-10T17:18:56.081Z"
   },
   {
    "duration": 13,
    "start_time": "2021-11-10T17:18:56.106Z"
   },
   {
    "duration": 22,
    "start_time": "2021-11-10T17:20:11.281Z"
   },
   {
    "duration": 22,
    "start_time": "2021-11-10T17:20:23.367Z"
   },
   {
    "duration": 27,
    "start_time": "2021-11-10T17:20:29.957Z"
   },
   {
    "duration": 24,
    "start_time": "2021-11-10T17:23:41.576Z"
   },
   {
    "duration": 15,
    "start_time": "2021-11-10T17:26:35.251Z"
   },
   {
    "duration": 73,
    "start_time": "2021-11-10T17:26:52.907Z"
   },
   {
    "duration": 18,
    "start_time": "2021-11-10T17:26:52.984Z"
   },
   {
    "duration": 17,
    "start_time": "2021-11-10T17:26:53.006Z"
   },
   {
    "duration": 9,
    "start_time": "2021-11-10T17:26:53.026Z"
   },
   {
    "duration": 46,
    "start_time": "2021-11-10T17:26:53.037Z"
   },
   {
    "duration": 128,
    "start_time": "2021-11-10T17:26:53.086Z"
   },
   {
    "duration": 12,
    "start_time": "2021-11-10T17:26:53.216Z"
   },
   {
    "duration": 10,
    "start_time": "2021-11-10T17:26:53.231Z"
   },
   {
    "duration": 10,
    "start_time": "2021-11-10T17:26:53.244Z"
   },
   {
    "duration": 15,
    "start_time": "2021-11-10T17:26:53.283Z"
   },
   {
    "duration": 29,
    "start_time": "2021-11-10T17:26:53.300Z"
   },
   {
    "duration": 12,
    "start_time": "2021-11-10T17:26:53.331Z"
   },
   {
    "duration": 13,
    "start_time": "2021-11-10T17:27:07.744Z"
   },
   {
    "duration": 72,
    "start_time": "2021-11-10T17:27:19.457Z"
   },
   {
    "duration": 18,
    "start_time": "2021-11-10T17:27:19.532Z"
   },
   {
    "duration": 34,
    "start_time": "2021-11-10T17:27:19.553Z"
   },
   {
    "duration": 12,
    "start_time": "2021-11-10T17:27:19.590Z"
   },
   {
    "duration": 10,
    "start_time": "2021-11-10T17:27:19.605Z"
   },
   {
    "duration": 149,
    "start_time": "2021-11-10T17:27:19.617Z"
   },
   {
    "duration": 18,
    "start_time": "2021-11-10T17:27:19.769Z"
   },
   {
    "duration": 13,
    "start_time": "2021-11-10T17:27:19.790Z"
   },
   {
    "duration": 15,
    "start_time": "2021-11-10T17:27:19.806Z"
   },
   {
    "duration": 15,
    "start_time": "2021-11-10T17:27:19.824Z"
   },
   {
    "duration": 55,
    "start_time": "2021-11-10T17:27:19.841Z"
   },
   {
    "duration": 14,
    "start_time": "2021-11-10T17:27:19.899Z"
   },
   {
    "duration": 10,
    "start_time": "2021-11-10T17:29:12.648Z"
   },
   {
    "duration": 70,
    "start_time": "2021-11-10T17:29:17.351Z"
   },
   {
    "duration": 17,
    "start_time": "2021-11-10T17:29:17.424Z"
   },
   {
    "duration": 23,
    "start_time": "2021-11-10T17:29:17.444Z"
   },
   {
    "duration": 21,
    "start_time": "2021-11-10T17:29:17.470Z"
   },
   {
    "duration": 21,
    "start_time": "2021-11-10T17:29:17.494Z"
   },
   {
    "duration": 200,
    "start_time": "2021-11-10T17:29:17.517Z"
   },
   {
    "duration": 11,
    "start_time": "2021-11-10T17:29:17.720Z"
   },
   {
    "duration": 11,
    "start_time": "2021-11-10T17:29:17.733Z"
   },
   {
    "duration": 39,
    "start_time": "2021-11-10T17:29:17.748Z"
   },
   {
    "duration": 15,
    "start_time": "2021-11-10T17:29:17.790Z"
   },
   {
    "duration": 18,
    "start_time": "2021-11-10T17:29:17.807Z"
   },
   {
    "duration": 7,
    "start_time": "2021-11-10T17:29:17.828Z"
   },
   {
    "duration": 46,
    "start_time": "2021-11-10T17:29:17.837Z"
   },
   {
    "duration": 12,
    "start_time": "2021-11-10T17:30:16.162Z"
   },
   {
    "duration": 12,
    "start_time": "2021-11-10T17:30:56.987Z"
   },
   {
    "duration": 11,
    "start_time": "2021-11-10T17:36:43.491Z"
   },
   {
    "duration": 20,
    "start_time": "2021-11-10T17:37:48.448Z"
   },
   {
    "duration": 20,
    "start_time": "2021-11-10T17:38:29.509Z"
   },
   {
    "duration": 22,
    "start_time": "2021-11-10T17:52:43.896Z"
   },
   {
    "duration": 47,
    "start_time": "2021-11-10T17:53:18.365Z"
   },
   {
    "duration": 63,
    "start_time": "2021-11-10T17:53:41.651Z"
   },
   {
    "duration": 91,
    "start_time": "2021-11-10T17:55:02.821Z"
   },
   {
    "duration": 71,
    "start_time": "2021-11-10T17:55:11.686Z"
   },
   {
    "duration": 686,
    "start_time": "2021-11-10T17:55:19.362Z"
   },
   {
    "duration": 74,
    "start_time": "2021-11-10T17:55:35.529Z"
   },
   {
    "duration": 19,
    "start_time": "2021-11-10T17:55:35.606Z"
   },
   {
    "duration": 20,
    "start_time": "2021-11-10T17:55:35.628Z"
   },
   {
    "duration": 33,
    "start_time": "2021-11-10T17:55:35.650Z"
   },
   {
    "duration": 10,
    "start_time": "2021-11-10T17:55:35.686Z"
   },
   {
    "duration": 142,
    "start_time": "2021-11-10T17:55:35.699Z"
   },
   {
    "duration": 12,
    "start_time": "2021-11-10T17:55:35.843Z"
   },
   {
    "duration": 32,
    "start_time": "2021-11-10T17:55:35.858Z"
   },
   {
    "duration": 10,
    "start_time": "2021-11-10T17:55:35.893Z"
   },
   {
    "duration": 23,
    "start_time": "2021-11-10T17:55:35.906Z"
   },
   {
    "duration": 50,
    "start_time": "2021-11-10T17:55:35.932Z"
   },
   {
    "duration": 14,
    "start_time": "2021-11-10T17:55:35.984Z"
   },
   {
    "duration": 26,
    "start_time": "2021-11-10T17:55:36.000Z"
   },
   {
    "duration": 109,
    "start_time": "2021-11-10T17:55:36.029Z"
   },
   {
    "duration": 23,
    "start_time": "2021-11-10T17:56:29.758Z"
   },
   {
    "duration": 71,
    "start_time": "2021-11-10T17:56:34.509Z"
   },
   {
    "duration": 18,
    "start_time": "2021-11-10T17:56:34.583Z"
   },
   {
    "duration": 19,
    "start_time": "2021-11-10T17:56:34.604Z"
   },
   {
    "duration": 9,
    "start_time": "2021-11-10T17:56:34.626Z"
   },
   {
    "duration": 46,
    "start_time": "2021-11-10T17:56:34.637Z"
   },
   {
    "duration": 138,
    "start_time": "2021-11-10T17:56:34.685Z"
   },
   {
    "duration": 12,
    "start_time": "2021-11-10T17:56:34.825Z"
   },
   {
    "duration": 10,
    "start_time": "2021-11-10T17:56:34.841Z"
   },
   {
    "duration": 36,
    "start_time": "2021-11-10T17:56:34.853Z"
   },
   {
    "duration": 15,
    "start_time": "2021-11-10T17:56:34.892Z"
   },
   {
    "duration": 10,
    "start_time": "2021-11-10T17:56:34.910Z"
   },
   {
    "duration": 14,
    "start_time": "2021-11-10T17:56:34.922Z"
   },
   {
    "duration": 63,
    "start_time": "2021-11-10T17:56:34.938Z"
   },
   {
    "duration": 22,
    "start_time": "2021-11-10T17:56:35.004Z"
   },
   {
    "duration": 24,
    "start_time": "2021-11-10T17:57:25.526Z"
   },
   {
    "duration": 7,
    "start_time": "2021-11-10T18:02:47.995Z"
   },
   {
    "duration": 10,
    "start_time": "2021-11-10T18:03:01.364Z"
   },
   {
    "duration": 14,
    "start_time": "2021-11-10T18:03:36.091Z"
   },
   {
    "duration": 17,
    "start_time": "2021-11-10T18:04:02.504Z"
   },
   {
    "duration": 21,
    "start_time": "2021-11-10T18:05:15.110Z"
   },
   {
    "duration": 28,
    "start_time": "2021-11-10T18:05:24.364Z"
   },
   {
    "duration": 74,
    "start_time": "2021-11-10T18:05:31.455Z"
   },
   {
    "duration": 18,
    "start_time": "2021-11-10T18:05:31.532Z"
   },
   {
    "duration": 38,
    "start_time": "2021-11-10T18:05:31.553Z"
   },
   {
    "duration": 11,
    "start_time": "2021-11-10T18:05:31.594Z"
   },
   {
    "duration": 12,
    "start_time": "2021-11-10T18:05:31.607Z"
   },
   {
    "duration": 169,
    "start_time": "2021-11-10T18:05:31.621Z"
   },
   {
    "duration": 13,
    "start_time": "2021-11-10T18:05:31.792Z"
   },
   {
    "duration": 19,
    "start_time": "2021-11-10T18:05:31.808Z"
   },
   {
    "duration": 13,
    "start_time": "2021-11-10T18:05:31.830Z"
   },
   {
    "duration": 55,
    "start_time": "2021-11-10T18:05:31.845Z"
   },
   {
    "duration": 14,
    "start_time": "2021-11-10T18:05:31.903Z"
   },
   {
    "duration": 14,
    "start_time": "2021-11-10T18:05:31.921Z"
   },
   {
    "duration": 63,
    "start_time": "2021-11-10T18:05:31.938Z"
   },
   {
    "duration": 12,
    "start_time": "2021-11-10T18:05:32.004Z"
   },
   {
    "duration": 20,
    "start_time": "2021-11-10T18:05:32.019Z"
   },
   {
    "duration": 59,
    "start_time": "2021-11-10T18:05:32.042Z"
   },
   {
    "duration": 36,
    "start_time": "2021-11-10T18:05:32.104Z"
   },
   {
    "duration": 7,
    "start_time": "2021-11-10T18:05:50.786Z"
   },
   {
    "duration": 70,
    "start_time": "2021-11-10T18:05:57.687Z"
   },
   {
    "duration": 31,
    "start_time": "2021-11-10T18:05:57.760Z"
   },
   {
    "duration": 16,
    "start_time": "2021-11-10T18:05:57.794Z"
   },
   {
    "duration": 12,
    "start_time": "2021-11-10T18:05:57.813Z"
   },
   {
    "duration": 55,
    "start_time": "2021-11-10T18:05:57.828Z"
   },
   {
    "duration": 133,
    "start_time": "2021-11-10T18:05:57.886Z"
   },
   {
    "duration": 12,
    "start_time": "2021-11-10T18:05:58.021Z"
   },
   {
    "duration": 14,
    "start_time": "2021-11-10T18:05:58.035Z"
   },
   {
    "duration": 34,
    "start_time": "2021-11-10T18:05:58.053Z"
   },
   {
    "duration": 26,
    "start_time": "2021-11-10T18:05:58.090Z"
   },
   {
    "duration": 20,
    "start_time": "2021-11-10T18:05:58.119Z"
   },
   {
    "duration": 43,
    "start_time": "2021-11-10T18:05:58.142Z"
   },
   {
    "duration": 22,
    "start_time": "2021-11-10T18:05:58.187Z"
   },
   {
    "duration": 12,
    "start_time": "2021-11-10T18:05:58.211Z"
   },
   {
    "duration": 20,
    "start_time": "2021-11-10T18:05:58.226Z"
   },
   {
    "duration": 9,
    "start_time": "2021-11-10T18:05:58.283Z"
   },
   {
    "duration": 22,
    "start_time": "2021-11-10T18:05:58.295Z"
   },
   {
    "duration": 63,
    "start_time": "2021-11-10T18:05:58.319Z"
   },
   {
    "duration": 20,
    "start_time": "2021-11-10T18:06:15.497Z"
   },
   {
    "duration": 12,
    "start_time": "2021-11-10T18:06:17.355Z"
   },
   {
    "duration": 23,
    "start_time": "2021-11-10T18:06:22.820Z"
   },
   {
    "duration": 23,
    "start_time": "2021-11-10T18:06:25.749Z"
   },
   {
    "duration": 71,
    "start_time": "2021-11-10T18:06:37.907Z"
   },
   {
    "duration": 18,
    "start_time": "2021-11-10T18:06:37.981Z"
   },
   {
    "duration": 16,
    "start_time": "2021-11-10T18:06:38.002Z"
   },
   {
    "duration": 10,
    "start_time": "2021-11-10T18:06:38.021Z"
   },
   {
    "duration": 50,
    "start_time": "2021-11-10T18:06:38.034Z"
   },
   {
    "duration": 132,
    "start_time": "2021-11-10T18:06:38.087Z"
   },
   {
    "duration": 15,
    "start_time": "2021-11-10T18:06:38.222Z"
   },
   {
    "duration": 13,
    "start_time": "2021-11-10T18:06:38.240Z"
   },
   {
    "duration": 12,
    "start_time": "2021-11-10T18:06:38.285Z"
   },
   {
    "duration": 18,
    "start_time": "2021-11-10T18:06:38.300Z"
   },
   {
    "duration": 13,
    "start_time": "2021-11-10T18:06:38.321Z"
   },
   {
    "duration": 55,
    "start_time": "2021-11-10T18:06:38.337Z"
   },
   {
    "duration": 21,
    "start_time": "2021-11-10T18:06:38.394Z"
   },
   {
    "duration": 11,
    "start_time": "2021-11-10T18:06:38.418Z"
   },
   {
    "duration": 52,
    "start_time": "2021-11-10T18:06:38.432Z"
   },
   {
    "duration": 15,
    "start_time": "2021-11-10T18:06:38.487Z"
   },
   {
    "duration": 36,
    "start_time": "2021-11-10T18:06:38.505Z"
   },
   {
    "duration": 55,
    "start_time": "2021-11-10T18:06:38.543Z"
   },
   {
    "duration": 12,
    "start_time": "2021-11-10T18:07:27.467Z"
   },
   {
    "duration": 319,
    "start_time": "2021-11-10T18:07:59.984Z"
   },
   {
    "duration": 12,
    "start_time": "2021-11-10T18:08:23.934Z"
   },
   {
    "duration": 18,
    "start_time": "2021-11-10T18:08:24.899Z"
   },
   {
    "duration": 9,
    "start_time": "2021-11-10T18:08:25.320Z"
   },
   {
    "duration": 76,
    "start_time": "2021-11-11T05:36:10.366Z"
   },
   {
    "duration": 32,
    "start_time": "2021-11-11T05:36:10.446Z"
   },
   {
    "duration": 19,
    "start_time": "2021-11-11T05:36:10.482Z"
   },
   {
    "duration": 11,
    "start_time": "2021-11-11T05:36:10.505Z"
   },
   {
    "duration": 15,
    "start_time": "2021-11-11T05:36:10.567Z"
   },
   {
    "duration": 168,
    "start_time": "2021-11-11T05:36:10.585Z"
   },
   {
    "duration": 17,
    "start_time": "2021-11-11T05:36:10.756Z"
   },
   {
    "duration": 10,
    "start_time": "2021-11-11T05:36:10.777Z"
   },
   {
    "duration": 11,
    "start_time": "2021-11-11T05:36:10.790Z"
   },
   {
    "duration": 66,
    "start_time": "2021-11-11T05:36:10.803Z"
   },
   {
    "duration": 11,
    "start_time": "2021-11-11T05:36:10.871Z"
   },
   {
    "duration": 16,
    "start_time": "2021-11-11T05:36:10.884Z"
   },
   {
    "duration": 66,
    "start_time": "2021-11-11T05:36:10.903Z"
   },
   {
    "duration": 12,
    "start_time": "2021-11-11T05:36:10.972Z"
   },
   {
    "duration": 17,
    "start_time": "2021-11-11T05:36:10.986Z"
   },
   {
    "duration": 14,
    "start_time": "2021-11-11T05:36:11.005Z"
   },
   {
    "duration": 65,
    "start_time": "2021-11-11T05:36:11.021Z"
   },
   {
    "duration": 26,
    "start_time": "2021-11-11T05:36:11.088Z"
   },
   {
    "duration": 14,
    "start_time": "2021-11-11T05:36:40.023Z"
   },
   {
    "duration": 77,
    "start_time": "2021-11-11T05:36:59.941Z"
   },
   {
    "duration": 18,
    "start_time": "2021-11-11T05:37:00.021Z"
   },
   {
    "duration": 36,
    "start_time": "2021-11-11T05:37:00.042Z"
   },
   {
    "duration": 15,
    "start_time": "2021-11-11T05:37:00.082Z"
   },
   {
    "duration": 12,
    "start_time": "2021-11-11T05:37:00.099Z"
   },
   {
    "duration": 180,
    "start_time": "2021-11-11T05:37:00.113Z"
   },
   {
    "duration": 13,
    "start_time": "2021-11-11T05:37:00.296Z"
   },
   {
    "duration": 21,
    "start_time": "2021-11-11T05:37:00.313Z"
   },
   {
    "duration": 39,
    "start_time": "2021-11-11T05:37:00.336Z"
   },
   {
    "duration": 20,
    "start_time": "2021-11-11T05:37:00.378Z"
   },
   {
    "duration": 21,
    "start_time": "2021-11-11T05:37:00.401Z"
   },
   {
    "duration": 52,
    "start_time": "2021-11-11T05:37:00.425Z"
   },
   {
    "duration": 24,
    "start_time": "2021-11-11T05:37:00.480Z"
   },
   {
    "duration": 15,
    "start_time": "2021-11-11T05:37:00.507Z"
   },
   {
    "duration": 53,
    "start_time": "2021-11-11T05:37:00.524Z"
   },
   {
    "duration": 29,
    "start_time": "2021-11-11T05:37:00.580Z"
   },
   {
    "duration": 33,
    "start_time": "2021-11-11T05:37:00.612Z"
   },
   {
    "duration": 39,
    "start_time": "2021-11-11T05:37:00.647Z"
   },
   {
    "duration": 15,
    "start_time": "2021-11-11T05:40:10.679Z"
   },
   {
    "duration": 19,
    "start_time": "2021-11-11T05:41:08.720Z"
   },
   {
    "duration": 19,
    "start_time": "2021-11-11T05:41:27.218Z"
   },
   {
    "duration": 22,
    "start_time": "2021-11-11T05:42:58.020Z"
   },
   {
    "duration": 18,
    "start_time": "2021-11-11T05:43:51.932Z"
   },
   {
    "duration": 19,
    "start_time": "2021-11-11T05:43:57.708Z"
   },
   {
    "duration": 17,
    "start_time": "2021-11-11T05:43:58.467Z"
   },
   {
    "duration": 17,
    "start_time": "2021-11-11T05:44:02.555Z"
   },
   {
    "duration": 25,
    "start_time": "2021-11-11T05:46:25.847Z"
   },
   {
    "duration": 696,
    "start_time": "2021-11-11T05:46:30.740Z"
   },
   {
    "duration": 19,
    "start_time": "2021-11-11T05:46:31.439Z"
   },
   {
    "duration": 14,
    "start_time": "2021-11-11T05:46:31.469Z"
   },
   {
    "duration": 9,
    "start_time": "2021-11-11T05:46:31.486Z"
   },
   {
    "duration": 24,
    "start_time": "2021-11-11T05:46:31.498Z"
   },
   {
    "duration": 146,
    "start_time": "2021-11-11T05:46:31.525Z"
   },
   {
    "duration": 12,
    "start_time": "2021-11-11T05:46:31.674Z"
   },
   {
    "duration": 10,
    "start_time": "2021-11-11T05:46:31.690Z"
   },
   {
    "duration": 15,
    "start_time": "2021-11-11T05:46:31.703Z"
   },
   {
    "duration": 55,
    "start_time": "2021-11-11T05:46:31.722Z"
   },
   {
    "duration": 12,
    "start_time": "2021-11-11T05:46:31.781Z"
   },
   {
    "duration": 15,
    "start_time": "2021-11-11T05:46:31.796Z"
   },
   {
    "duration": 68,
    "start_time": "2021-11-11T05:46:31.814Z"
   },
   {
    "duration": 24,
    "start_time": "2021-11-11T05:46:31.885Z"
   },
   {
    "duration": 15,
    "start_time": "2021-11-11T05:46:31.913Z"
   },
   {
    "duration": 53,
    "start_time": "2021-11-11T05:46:31.931Z"
   },
   {
    "duration": 17,
    "start_time": "2021-11-11T05:46:31.987Z"
   },
   {
    "duration": 62,
    "start_time": "2021-11-11T05:46:32.007Z"
   },
   {
    "duration": 29,
    "start_time": "2021-11-11T05:46:32.072Z"
   },
   {
    "duration": 96,
    "start_time": "2021-11-11T05:50:42.768Z"
   },
   {
    "duration": 16,
    "start_time": "2021-11-11T05:50:46.759Z"
   },
   {
    "duration": 14,
    "start_time": "2021-11-11T05:52:50.355Z"
   },
   {
    "duration": 128,
    "start_time": "2021-11-11T05:53:25.844Z"
   },
   {
    "duration": 19,
    "start_time": "2021-11-11T05:53:34.116Z"
   },
   {
    "duration": 73,
    "start_time": "2021-11-11T05:53:44.687Z"
   },
   {
    "duration": 18,
    "start_time": "2021-11-11T05:53:44.763Z"
   },
   {
    "duration": 12,
    "start_time": "2021-11-11T05:53:44.784Z"
   },
   {
    "duration": 9,
    "start_time": "2021-11-11T05:53:44.799Z"
   },
   {
    "duration": 9,
    "start_time": "2021-11-11T05:53:44.811Z"
   },
   {
    "duration": 161,
    "start_time": "2021-11-11T05:53:44.823Z"
   },
   {
    "duration": 12,
    "start_time": "2021-11-11T05:53:44.987Z"
   },
   {
    "duration": 18,
    "start_time": "2021-11-11T05:53:45.004Z"
   },
   {
    "duration": 18,
    "start_time": "2021-11-11T05:53:45.024Z"
   },
   {
    "duration": 36,
    "start_time": "2021-11-11T05:53:45.045Z"
   },
   {
    "duration": 11,
    "start_time": "2021-11-11T05:53:45.084Z"
   },
   {
    "duration": 14,
    "start_time": "2021-11-11T05:53:45.097Z"
   },
   {
    "duration": 53,
    "start_time": "2021-11-11T05:53:45.114Z"
   },
   {
    "duration": 22,
    "start_time": "2021-11-11T05:53:45.170Z"
   },
   {
    "duration": 18,
    "start_time": "2021-11-11T05:53:45.194Z"
   },
   {
    "duration": 19,
    "start_time": "2021-11-11T05:53:45.214Z"
   },
   {
    "duration": 42,
    "start_time": "2021-11-11T05:53:45.236Z"
   },
   {
    "duration": 22,
    "start_time": "2021-11-11T05:53:45.281Z"
   },
   {
    "duration": 26,
    "start_time": "2021-11-11T05:53:45.306Z"
   },
   {
    "duration": 24,
    "start_time": "2021-11-11T05:56:22.545Z"
   },
   {
    "duration": 27,
    "start_time": "2021-11-11T05:56:36.903Z"
   },
   {
    "duration": 25,
    "start_time": "2021-11-11T05:56:37.696Z"
   },
   {
    "duration": 78,
    "start_time": "2021-11-11T06:03:45.743Z"
   },
   {
    "duration": 18,
    "start_time": "2021-11-11T06:03:45.825Z"
   },
   {
    "duration": 30,
    "start_time": "2021-11-11T06:03:45.846Z"
   },
   {
    "duration": 11,
    "start_time": "2021-11-11T06:03:45.879Z"
   },
   {
    "duration": 21,
    "start_time": "2021-11-11T06:03:45.893Z"
   },
   {
    "duration": 156,
    "start_time": "2021-11-11T06:03:45.917Z"
   },
   {
    "duration": 13,
    "start_time": "2021-11-11T06:03:46.075Z"
   },
   {
    "duration": 12,
    "start_time": "2021-11-11T06:03:46.092Z"
   },
   {
    "duration": 28,
    "start_time": "2021-11-11T06:03:46.107Z"
   },
   {
    "duration": 42,
    "start_time": "2021-11-11T06:03:46.138Z"
   },
   {
    "duration": 13,
    "start_time": "2021-11-11T06:03:46.182Z"
   },
   {
    "duration": 17,
    "start_time": "2021-11-11T06:03:46.198Z"
   },
   {
    "duration": 66,
    "start_time": "2021-11-11T06:03:46.217Z"
   },
   {
    "duration": 23,
    "start_time": "2021-11-11T06:03:46.286Z"
   },
   {
    "duration": 20,
    "start_time": "2021-11-11T06:03:46.311Z"
   },
   {
    "duration": 51,
    "start_time": "2021-11-11T06:03:46.334Z"
   },
   {
    "duration": 31,
    "start_time": "2021-11-11T06:03:46.388Z"
   },
   {
    "duration": 58,
    "start_time": "2021-11-11T06:03:46.423Z"
   },
   {
    "duration": 8,
    "start_time": "2021-11-11T06:27:22.519Z"
   },
   {
    "duration": 6,
    "start_time": "2021-11-11T06:27:47.584Z"
   },
   {
    "duration": 373,
    "start_time": "2021-11-11T06:29:14.065Z"
   },
   {
    "duration": 175,
    "start_time": "2021-11-11T06:33:29.626Z"
   },
   {
    "duration": 947,
    "start_time": "2021-11-11T06:33:34.073Z"
   },
   {
    "duration": 5,
    "start_time": "2021-11-11T06:35:05.931Z"
   },
   {
    "duration": 103,
    "start_time": "2021-11-11T07:07:19.309Z"
   },
   {
    "duration": 41,
    "start_time": "2021-11-11T07:07:30.101Z"
   },
   {
    "duration": 89,
    "start_time": "2021-11-11T07:07:45.333Z"
   },
   {
    "duration": 353,
    "start_time": "2021-11-11T07:07:50.808Z"
   },
   {
    "duration": 89,
    "start_time": "2021-11-11T07:08:08.143Z"
   },
   {
    "duration": 89,
    "start_time": "2021-11-11T07:08:09.247Z"
   },
   {
    "duration": 37,
    "start_time": "2021-11-11T07:08:11.503Z"
   },
   {
    "duration": 82,
    "start_time": "2021-11-11T07:08:16.124Z"
   },
   {
    "duration": 19,
    "start_time": "2021-11-11T07:08:16.209Z"
   },
   {
    "duration": 43,
    "start_time": "2021-11-11T07:08:16.232Z"
   },
   {
    "duration": 17,
    "start_time": "2021-11-11T07:08:16.279Z"
   },
   {
    "duration": 20,
    "start_time": "2021-11-11T07:08:16.298Z"
   },
   {
    "duration": 151,
    "start_time": "2021-11-11T07:08:16.320Z"
   },
   {
    "duration": 14,
    "start_time": "2021-11-11T07:08:16.474Z"
   },
   {
    "duration": 11,
    "start_time": "2021-11-11T07:08:16.493Z"
   },
   {
    "duration": 12,
    "start_time": "2021-11-11T07:08:16.508Z"
   },
   {
    "duration": 60,
    "start_time": "2021-11-11T07:08:16.523Z"
   },
   {
    "duration": 13,
    "start_time": "2021-11-11T07:08:16.586Z"
   },
   {
    "duration": 14,
    "start_time": "2021-11-11T07:08:16.602Z"
   },
   {
    "duration": 67,
    "start_time": "2021-11-11T07:08:16.619Z"
   },
   {
    "duration": 24,
    "start_time": "2021-11-11T07:08:16.689Z"
   },
   {
    "duration": 53,
    "start_time": "2021-11-11T07:08:16.716Z"
   },
   {
    "duration": 24,
    "start_time": "2021-11-11T07:08:16.772Z"
   },
   {
    "duration": 31,
    "start_time": "2021-11-11T07:08:16.800Z"
   },
   {
    "duration": 86,
    "start_time": "2021-11-11T07:08:16.834Z"
   },
   {
    "duration": 54,
    "start_time": "2021-11-11T07:08:16.923Z"
   },
   {
    "duration": 958,
    "start_time": "2021-11-11T07:08:16.979Z"
   },
   {
    "duration": 4,
    "start_time": "2021-11-11T07:08:17.940Z"
   },
   {
    "duration": 44,
    "start_time": "2021-11-11T07:08:43.632Z"
   },
   {
    "duration": 80,
    "start_time": "2021-11-11T07:08:54.347Z"
   },
   {
    "duration": 38,
    "start_time": "2021-11-11T07:08:54.429Z"
   },
   {
    "duration": 18,
    "start_time": "2021-11-11T07:08:54.470Z"
   },
   {
    "duration": 10,
    "start_time": "2021-11-11T07:08:54.492Z"
   },
   {
    "duration": 12,
    "start_time": "2021-11-11T07:08:54.504Z"
   },
   {
    "duration": 177,
    "start_time": "2021-11-11T07:08:54.519Z"
   },
   {
    "duration": 13,
    "start_time": "2021-11-11T07:08:54.699Z"
   },
   {
    "duration": 12,
    "start_time": "2021-11-11T07:08:54.716Z"
   },
   {
    "duration": 37,
    "start_time": "2021-11-11T07:08:54.731Z"
   },
   {
    "duration": 21,
    "start_time": "2021-11-11T07:08:54.771Z"
   },
   {
    "duration": 13,
    "start_time": "2021-11-11T07:08:54.794Z"
   },
   {
    "duration": 14,
    "start_time": "2021-11-11T07:08:54.809Z"
   },
   {
    "duration": 66,
    "start_time": "2021-11-11T07:08:54.825Z"
   },
   {
    "duration": 22,
    "start_time": "2021-11-11T07:08:54.894Z"
   },
   {
    "duration": 18,
    "start_time": "2021-11-11T07:08:54.919Z"
   },
   {
    "duration": 54,
    "start_time": "2021-11-11T07:08:54.939Z"
   },
   {
    "duration": 25,
    "start_time": "2021-11-11T07:08:54.996Z"
   },
   {
    "duration": 82,
    "start_time": "2021-11-11T07:08:55.024Z"
   },
   {
    "duration": 27,
    "start_time": "2021-11-11T07:08:55.109Z"
   },
   {
    "duration": 1019,
    "start_time": "2021-11-11T07:08:55.138Z"
   },
   {
    "duration": 6,
    "start_time": "2021-11-11T07:08:56.168Z"
   },
   {
    "duration": 963,
    "start_time": "2021-11-11T07:44:41.824Z"
   },
   {
    "duration": 495,
    "start_time": "2021-11-11T12:28:08.359Z"
   },
   {
    "duration": 78,
    "start_time": "2021-11-11T12:30:39.924Z"
   },
   {
    "duration": 19,
    "start_time": "2021-11-11T12:30:40.007Z"
   },
   {
    "duration": 47,
    "start_time": "2021-11-11T12:30:40.029Z"
   },
   {
    "duration": 11,
    "start_time": "2021-11-11T12:30:40.079Z"
   },
   {
    "duration": 23,
    "start_time": "2021-11-11T12:30:40.093Z"
   },
   {
    "duration": 153,
    "start_time": "2021-11-11T12:30:40.119Z"
   },
   {
    "duration": 14,
    "start_time": "2021-11-11T12:30:40.277Z"
   },
   {
    "duration": 11,
    "start_time": "2021-11-11T12:30:40.295Z"
   },
   {
    "duration": 12,
    "start_time": "2021-11-11T12:30:40.309Z"
   },
   {
    "duration": 56,
    "start_time": "2021-11-11T12:30:40.324Z"
   },
   {
    "duration": 14,
    "start_time": "2021-11-11T12:30:40.382Z"
   },
   {
    "duration": 20,
    "start_time": "2021-11-11T12:30:40.399Z"
   },
   {
    "duration": 56,
    "start_time": "2021-11-11T12:30:40.421Z"
   },
   {
    "duration": 23,
    "start_time": "2021-11-11T12:30:40.480Z"
   },
   {
    "duration": 24,
    "start_time": "2021-11-11T12:30:40.505Z"
   },
   {
    "duration": 53,
    "start_time": "2021-11-11T12:30:40.532Z"
   },
   {
    "duration": 25,
    "start_time": "2021-11-11T12:30:40.587Z"
   },
   {
    "duration": 78,
    "start_time": "2021-11-11T12:30:40.615Z"
   },
   {
    "duration": 27,
    "start_time": "2021-11-11T12:30:40.695Z"
   },
   {
    "duration": 968,
    "start_time": "2021-11-11T12:30:40.725Z"
   },
   {
    "duration": 4,
    "start_time": "2021-11-11T12:30:41.696Z"
   },
   {
    "duration": 835,
    "start_time": "2021-11-12T04:06:06.436Z"
   },
   {
    "duration": 28,
    "start_time": "2021-11-12T04:06:07.274Z"
   },
   {
    "duration": 13,
    "start_time": "2021-11-12T04:06:07.305Z"
   },
   {
    "duration": 10,
    "start_time": "2021-11-12T04:06:07.321Z"
   },
   {
    "duration": 52,
    "start_time": "2021-11-12T04:06:07.334Z"
   },
   {
    "duration": 129,
    "start_time": "2021-11-12T04:06:07.388Z"
   },
   {
    "duration": 12,
    "start_time": "2021-11-12T04:06:07.519Z"
   },
   {
    "duration": 11,
    "start_time": "2021-11-12T04:06:07.535Z"
   },
   {
    "duration": 38,
    "start_time": "2021-11-12T04:06:07.549Z"
   },
   {
    "duration": 17,
    "start_time": "2021-11-12T04:06:07.589Z"
   },
   {
    "duration": 10,
    "start_time": "2021-11-12T04:06:07.608Z"
   },
   {
    "duration": 20,
    "start_time": "2021-11-12T04:06:07.621Z"
   },
   {
    "duration": 51,
    "start_time": "2021-11-12T04:06:07.643Z"
   },
   {
    "duration": 20,
    "start_time": "2021-11-12T04:06:07.696Z"
   },
   {
    "duration": 18,
    "start_time": "2021-11-12T04:06:07.718Z"
   },
   {
    "duration": 63,
    "start_time": "2021-11-12T04:06:07.739Z"
   },
   {
    "duration": 24,
    "start_time": "2021-11-12T04:06:07.804Z"
   },
   {
    "duration": 69,
    "start_time": "2021-11-12T04:06:07.830Z"
   },
   {
    "duration": 27,
    "start_time": "2021-11-12T04:06:07.901Z"
   },
   {
    "duration": 1083,
    "start_time": "2021-11-12T04:06:07.930Z"
   },
   {
    "duration": 5,
    "start_time": "2021-11-12T04:06:09.016Z"
   },
   {
    "duration": 772,
    "start_time": "2021-11-12T04:06:09.023Z"
   },
   {
    "duration": 34366,
    "start_time": "2021-11-12T04:18:49.675Z"
   },
   {
    "duration": 78,
    "start_time": "2021-11-12T04:23:11.896Z"
   },
   {
    "duration": 19,
    "start_time": "2021-11-12T04:23:11.981Z"
   },
   {
    "duration": 16,
    "start_time": "2021-11-12T04:23:12.004Z"
   },
   {
    "duration": 13,
    "start_time": "2021-11-12T04:23:12.024Z"
   },
   {
    "duration": 47,
    "start_time": "2021-11-12T04:23:12.041Z"
   },
   {
    "duration": 130,
    "start_time": "2021-11-12T04:23:12.090Z"
   },
   {
    "duration": 15,
    "start_time": "2021-11-12T04:23:12.224Z"
   },
   {
    "duration": 11,
    "start_time": "2021-11-12T04:23:12.242Z"
   },
   {
    "duration": 37,
    "start_time": "2021-11-12T04:23:12.255Z"
   },
   {
    "duration": 18,
    "start_time": "2021-11-12T04:23:12.295Z"
   },
   {
    "duration": 12,
    "start_time": "2021-11-12T04:23:12.316Z"
   },
   {
    "duration": 60,
    "start_time": "2021-11-12T04:23:12.331Z"
   },
   {
    "duration": 23,
    "start_time": "2021-11-12T04:23:12.394Z"
   },
   {
    "duration": 23,
    "start_time": "2021-11-12T04:23:12.420Z"
   },
   {
    "duration": 20,
    "start_time": "2021-11-12T04:23:12.483Z"
   },
   {
    "duration": 27,
    "start_time": "2021-11-12T04:23:12.506Z"
   },
   {
    "duration": 60,
    "start_time": "2021-11-12T04:23:12.536Z"
   },
   {
    "duration": 44,
    "start_time": "2021-11-12T04:23:12.599Z"
   },
   {
    "duration": 53,
    "start_time": "2021-11-12T04:23:12.646Z"
   },
   {
    "duration": 936,
    "start_time": "2021-11-12T04:23:12.702Z"
   },
   {
    "duration": 4,
    "start_time": "2021-11-12T04:23:13.641Z"
   },
   {
    "duration": 34312,
    "start_time": "2021-11-12T04:24:56.623Z"
   },
   {
    "duration": 4518,
    "start_time": "2021-11-12T04:27:04.831Z"
   },
   {
    "duration": 352,
    "start_time": "2021-11-12T04:29:41.819Z"
   },
   {
    "duration": 299,
    "start_time": "2021-11-12T04:55:51.065Z"
   },
   {
    "duration": 74,
    "start_time": "2021-11-12T04:56:00.142Z"
   },
   {
    "duration": 17,
    "start_time": "2021-11-12T04:56:00.219Z"
   },
   {
    "duration": 31,
    "start_time": "2021-11-12T04:56:00.239Z"
   },
   {
    "duration": 16,
    "start_time": "2021-11-12T04:56:00.272Z"
   },
   {
    "duration": 13,
    "start_time": "2021-11-12T04:56:00.291Z"
   },
   {
    "duration": 136,
    "start_time": "2021-11-12T04:56:00.307Z"
   },
   {
    "duration": 12,
    "start_time": "2021-11-12T04:56:00.445Z"
   },
   {
    "duration": 28,
    "start_time": "2021-11-12T04:56:00.460Z"
   },
   {
    "duration": 12,
    "start_time": "2021-11-12T04:56:00.491Z"
   },
   {
    "duration": 31,
    "start_time": "2021-11-12T04:56:00.505Z"
   },
   {
    "duration": 26,
    "start_time": "2021-11-12T04:56:00.538Z"
   },
   {
    "duration": 28,
    "start_time": "2021-11-12T04:56:00.567Z"
   },
   {
    "duration": 23,
    "start_time": "2021-11-12T04:56:00.597Z"
   },
   {
    "duration": 23,
    "start_time": "2021-11-12T04:56:00.622Z"
   },
   {
    "duration": 45,
    "start_time": "2021-11-12T04:56:00.647Z"
   },
   {
    "duration": 51,
    "start_time": "2021-11-12T04:56:00.694Z"
   },
   {
    "duration": 40,
    "start_time": "2021-11-12T04:56:00.747Z"
   },
   {
    "duration": 49,
    "start_time": "2021-11-12T04:56:00.789Z"
   },
   {
    "duration": 46,
    "start_time": "2021-11-12T04:56:00.840Z"
   },
   {
    "duration": 302,
    "start_time": "2021-11-12T04:56:00.889Z"
   },
   {
    "duration": 3115,
    "start_time": "2021-11-12T04:55:58.079Z"
   },
   {
    "duration": 3114,
    "start_time": "2021-11-12T04:55:58.081Z"
   },
   {
    "duration": 82,
    "start_time": "2021-11-12T14:15:00.942Z"
   },
   {
    "duration": 18,
    "start_time": "2021-11-12T14:15:01.028Z"
   },
   {
    "duration": 40,
    "start_time": "2021-11-12T14:15:01.050Z"
   },
   {
    "duration": 15,
    "start_time": "2021-11-12T14:15:01.093Z"
   },
   {
    "duration": 15,
    "start_time": "2021-11-12T14:15:01.111Z"
   },
   {
    "duration": 146,
    "start_time": "2021-11-12T14:15:01.129Z"
   },
   {
    "duration": 16,
    "start_time": "2021-11-12T14:15:01.277Z"
   },
   {
    "duration": 24,
    "start_time": "2021-11-12T14:15:01.298Z"
   },
   {
    "duration": 16,
    "start_time": "2021-11-12T14:15:01.325Z"
   },
   {
    "duration": 40,
    "start_time": "2021-11-12T14:15:01.343Z"
   },
   {
    "duration": 50,
    "start_time": "2021-11-12T14:15:01.385Z"
   },
   {
    "duration": 27,
    "start_time": "2021-11-12T14:15:01.437Z"
   },
   {
    "duration": 26,
    "start_time": "2021-11-12T14:15:01.466Z"
   },
   {
    "duration": 21,
    "start_time": "2021-11-12T14:15:01.494Z"
   },
   {
    "duration": 17,
    "start_time": "2021-11-12T14:15:01.518Z"
   },
   {
    "duration": 53,
    "start_time": "2021-11-12T14:15:01.538Z"
   },
   {
    "duration": 24,
    "start_time": "2021-11-12T14:15:01.594Z"
   },
   {
    "duration": 71,
    "start_time": "2021-11-12T14:15:01.621Z"
   },
   {
    "duration": 29,
    "start_time": "2021-11-12T14:15:01.695Z"
   },
   {
    "duration": 343,
    "start_time": "2021-11-12T14:15:01.727Z"
   },
   {
    "duration": 1349,
    "start_time": "2021-11-12T14:15:00.724Z"
   },
   {
    "duration": 1344,
    "start_time": "2021-11-12T14:15:00.732Z"
   },
   {
    "duration": 324,
    "start_time": "2021-11-12T14:16:14.364Z"
   },
   {
    "duration": 330,
    "start_time": "2021-11-12T14:19:00.845Z"
   },
   {
    "duration": 312,
    "start_time": "2021-11-12T14:19:54.669Z"
   },
   {
    "duration": 329,
    "start_time": "2021-11-12T14:20:07.669Z"
   },
   {
    "duration": 345,
    "start_time": "2021-11-12T14:21:29.732Z"
   },
   {
    "duration": 7,
    "start_time": "2021-11-12T14:22:51.346Z"
   },
   {
    "duration": 8,
    "start_time": "2021-11-12T14:23:03.423Z"
   },
   {
    "duration": 8,
    "start_time": "2021-11-12T14:23:33.317Z"
   },
   {
    "duration": 136,
    "start_time": "2021-11-12T14:24:18.498Z"
   },
   {
    "duration": 112,
    "start_time": "2021-11-12T14:24:29.404Z"
   },
   {
    "duration": 912,
    "start_time": "2021-11-12T14:24:35.854Z"
   },
   {
    "duration": 1297,
    "start_time": "2021-11-12T14:24:42.595Z"
   },
   {
    "duration": 6,
    "start_time": "2021-11-12T14:24:52.765Z"
   },
   {
    "duration": 867,
    "start_time": "2021-11-12T14:29:21.354Z"
   },
   {
    "duration": 34,
    "start_time": "2021-11-12T14:29:22.225Z"
   },
   {
    "duration": 25,
    "start_time": "2021-11-12T14:29:22.262Z"
   },
   {
    "duration": 9,
    "start_time": "2021-11-12T14:29:22.290Z"
   },
   {
    "duration": 9,
    "start_time": "2021-11-12T14:29:22.301Z"
   },
   {
    "duration": 150,
    "start_time": "2021-11-12T14:29:22.312Z"
   },
   {
    "duration": 21,
    "start_time": "2021-11-12T14:29:22.464Z"
   },
   {
    "duration": 12,
    "start_time": "2021-11-12T14:29:22.488Z"
   },
   {
    "duration": 10,
    "start_time": "2021-11-12T14:29:22.504Z"
   },
   {
    "duration": 18,
    "start_time": "2021-11-12T14:29:22.516Z"
   },
   {
    "duration": 53,
    "start_time": "2021-11-12T14:29:22.536Z"
   },
   {
    "duration": 23,
    "start_time": "2021-11-12T14:29:22.592Z"
   },
   {
    "duration": 20,
    "start_time": "2021-11-12T14:29:22.618Z"
   },
   {
    "duration": 51,
    "start_time": "2021-11-12T14:29:22.641Z"
   },
   {
    "duration": 19,
    "start_time": "2021-11-12T14:29:22.694Z"
   },
   {
    "duration": 25,
    "start_time": "2021-11-12T14:29:22.716Z"
   },
   {
    "duration": 54,
    "start_time": "2021-11-12T14:29:22.744Z"
   },
   {
    "duration": 48,
    "start_time": "2021-11-12T14:29:22.801Z"
   },
   {
    "duration": 53,
    "start_time": "2021-11-12T14:29:22.853Z"
   },
   {
    "duration": 957,
    "start_time": "2021-11-12T14:29:22.908Z"
   },
   {
    "duration": 5,
    "start_time": "2021-11-12T14:29:23.867Z"
   },
   {
    "duration": 849,
    "start_time": "2021-11-12T14:32:25.777Z"
   },
   {
    "duration": 27,
    "start_time": "2021-11-12T14:32:26.629Z"
   },
   {
    "duration": 25,
    "start_time": "2021-11-12T14:32:26.662Z"
   },
   {
    "duration": 12,
    "start_time": "2021-11-12T14:32:26.690Z"
   },
   {
    "duration": 12,
    "start_time": "2021-11-12T14:32:26.705Z"
   },
   {
    "duration": 219,
    "start_time": "2021-11-12T14:32:26.719Z"
   },
   {
    "duration": 15,
    "start_time": "2021-11-12T14:32:26.940Z"
   },
   {
    "duration": 33,
    "start_time": "2021-11-12T14:32:26.958Z"
   },
   {
    "duration": 13,
    "start_time": "2021-11-12T14:32:26.995Z"
   },
   {
    "duration": 17,
    "start_time": "2021-11-12T14:32:27.010Z"
   },
   {
    "duration": 12,
    "start_time": "2021-11-12T14:32:27.029Z"
   },
   {
    "duration": 58,
    "start_time": "2021-11-12T14:32:27.043Z"
   },
   {
    "duration": 21,
    "start_time": "2021-11-12T14:32:27.104Z"
   },
   {
    "duration": 21,
    "start_time": "2021-11-12T14:32:27.127Z"
   },
   {
    "duration": 48,
    "start_time": "2021-11-12T14:32:27.150Z"
   },
   {
    "duration": 25,
    "start_time": "2021-11-12T14:32:27.201Z"
   },
   {
    "duration": 26,
    "start_time": "2021-11-12T14:32:27.228Z"
   },
   {
    "duration": 45,
    "start_time": "2021-11-12T14:32:27.283Z"
   },
   {
    "duration": 26,
    "start_time": "2021-11-12T14:32:27.330Z"
   },
   {
    "duration": 964,
    "start_time": "2021-11-12T14:32:27.358Z"
   },
   {
    "duration": 5,
    "start_time": "2021-11-12T14:32:28.325Z"
   },
   {
    "duration": 123089,
    "start_time": "2021-11-12T14:32:28.332Z"
   },
   {
    "duration": 444,
    "start_time": "2021-11-13T06:47:57.529Z"
   },
   {
    "duration": 831,
    "start_time": "2021-11-13T06:48:05.143Z"
   },
   {
    "duration": 28,
    "start_time": "2021-11-13T06:48:05.977Z"
   },
   {
    "duration": 21,
    "start_time": "2021-11-13T06:48:06.008Z"
   },
   {
    "duration": 9,
    "start_time": "2021-11-13T06:48:06.032Z"
   },
   {
    "duration": 15,
    "start_time": "2021-11-13T06:48:06.044Z"
   },
   {
    "duration": 154,
    "start_time": "2021-11-13T06:48:06.062Z"
   },
   {
    "duration": 12,
    "start_time": "2021-11-13T06:48:06.219Z"
   },
   {
    "duration": 11,
    "start_time": "2021-11-13T06:48:06.235Z"
   },
   {
    "duration": 13,
    "start_time": "2021-11-13T06:48:06.249Z"
   },
   {
    "duration": 47,
    "start_time": "2021-11-13T06:48:06.264Z"
   },
   {
    "duration": 16,
    "start_time": "2021-11-13T06:48:06.313Z"
   },
   {
    "duration": 20,
    "start_time": "2021-11-13T06:48:06.331Z"
   },
   {
    "duration": 49,
    "start_time": "2021-11-13T06:48:06.353Z"
   },
   {
    "duration": 22,
    "start_time": "2021-11-13T06:48:06.405Z"
   },
   {
    "duration": 29,
    "start_time": "2021-11-13T06:48:06.429Z"
   },
   {
    "duration": 59,
    "start_time": "2021-11-13T06:48:06.461Z"
   },
   {
    "duration": 32,
    "start_time": "2021-11-13T06:48:06.522Z"
   },
   {
    "duration": 64,
    "start_time": "2021-11-13T06:48:06.556Z"
   },
   {
    "duration": 26,
    "start_time": "2021-11-13T06:48:06.622Z"
   },
   {
    "duration": 978,
    "start_time": "2021-11-13T06:48:06.651Z"
   },
   {
    "duration": 5,
    "start_time": "2021-11-13T06:48:07.632Z"
   },
   {
    "duration": 887,
    "start_time": "2021-11-13T06:48:43.367Z"
   },
   {
    "duration": 28,
    "start_time": "2021-11-13T06:48:44.257Z"
   },
   {
    "duration": 12,
    "start_time": "2021-11-13T06:48:44.300Z"
   },
   {
    "duration": 9,
    "start_time": "2021-11-13T06:48:44.315Z"
   },
   {
    "duration": 10,
    "start_time": "2021-11-13T06:48:44.327Z"
   },
   {
    "duration": 160,
    "start_time": "2021-11-13T06:48:44.340Z"
   },
   {
    "duration": 12,
    "start_time": "2021-11-13T06:48:44.503Z"
   },
   {
    "duration": 11,
    "start_time": "2021-11-13T06:48:44.520Z"
   },
   {
    "duration": 10,
    "start_time": "2021-11-13T06:48:44.534Z"
   },
   {
    "duration": 55,
    "start_time": "2021-11-13T06:48:44.547Z"
   },
   {
    "duration": 11,
    "start_time": "2021-11-13T06:48:44.604Z"
   },
   {
    "duration": 28,
    "start_time": "2021-11-13T06:48:44.617Z"
   },
   {
    "duration": 22,
    "start_time": "2021-11-13T06:48:44.647Z"
   },
   {
    "duration": 47,
    "start_time": "2021-11-13T06:48:44.671Z"
   },
   {
    "duration": 19,
    "start_time": "2021-11-13T06:48:44.721Z"
   },
   {
    "duration": 30,
    "start_time": "2021-11-13T06:48:44.742Z"
   },
   {
    "duration": 26,
    "start_time": "2021-11-13T06:48:44.801Z"
   },
   {
    "duration": 44,
    "start_time": "2021-11-13T06:48:44.829Z"
   },
   {
    "duration": 47,
    "start_time": "2021-11-13T06:48:44.876Z"
   },
   {
    "duration": 971,
    "start_time": "2021-11-13T06:48:44.925Z"
   },
   {
    "duration": 5,
    "start_time": "2021-11-13T06:48:45.901Z"
   },
   {
    "duration": 122734,
    "start_time": "2021-11-13T06:48:45.909Z"
   },
   {
    "duration": 3516,
    "start_time": "2021-11-13T06:50:48.647Z"
   },
   {
    "duration": 4038,
    "start_time": "2021-11-13T06:56:06.622Z"
   },
   {
    "duration": 4176,
    "start_time": "2021-11-13T06:56:29.095Z"
   },
   {
    "duration": 785,
    "start_time": "2021-11-13T06:57:44.798Z"
   },
   {
    "duration": 3554,
    "start_time": "2021-11-13T06:58:56.704Z"
   },
   {
    "duration": 3555,
    "start_time": "2021-11-13T06:59:14.325Z"
   },
   {
    "duration": 15,
    "start_time": "2021-11-13T06:59:41.845Z"
   },
   {
    "duration": 3515,
    "start_time": "2021-11-13T07:01:14.085Z"
   },
   {
    "duration": 3825,
    "start_time": "2021-11-13T07:03:56.562Z"
   },
   {
    "duration": 1796,
    "start_time": "2021-11-13T07:13:03.283Z"
   },
   {
    "duration": 1767,
    "start_time": "2021-11-13T07:13:21.516Z"
   },
   {
    "duration": 136,
    "start_time": "2021-11-13T07:25:12.194Z"
   },
   {
    "duration": 392,
    "start_time": "2021-11-13T07:25:16.948Z"
   },
   {
    "duration": 5,
    "start_time": "2021-11-13T07:26:09.626Z"
   },
   {
    "duration": 11,
    "start_time": "2021-11-13T07:26:27.417Z"
   },
   {
    "duration": 15,
    "start_time": "2021-11-13T07:27:07.487Z"
   },
   {
    "duration": 14,
    "start_time": "2021-11-13T07:27:12.465Z"
   },
   {
    "duration": 15,
    "start_time": "2021-11-13T07:27:22.423Z"
   },
   {
    "duration": 9632,
    "start_time": "2021-11-13T07:29:43.349Z"
   },
   {
    "duration": 510,
    "start_time": "2021-11-13T07:31:43.186Z"
   },
   {
    "duration": 383,
    "start_time": "2021-11-13T07:32:07.551Z"
   },
   {
    "duration": 16,
    "start_time": "2021-11-13T07:32:26.310Z"
   },
   {
    "duration": 14,
    "start_time": "2021-11-13T07:32:33.592Z"
   },
   {
    "duration": 14,
    "start_time": "2021-11-13T07:32:37.148Z"
   },
   {
    "duration": 385,
    "start_time": "2021-11-13T07:37:23.053Z"
   },
   {
    "duration": 16,
    "start_time": "2021-11-13T07:38:00.660Z"
   },
   {
    "duration": 6,
    "start_time": "2021-11-13T07:50:05.465Z"
   },
   {
    "duration": 6,
    "start_time": "2021-11-13T07:50:19.242Z"
   },
   {
    "duration": 6,
    "start_time": "2021-11-13T07:50:31.158Z"
   },
   {
    "duration": 138,
    "start_time": "2021-11-13T07:52:30.385Z"
   },
   {
    "duration": 648,
    "start_time": "2021-11-13T07:52:51.344Z"
   },
   {
    "duration": 121,
    "start_time": "2021-11-13T07:53:21.766Z"
   },
   {
    "duration": 154,
    "start_time": "2021-11-13T07:53:32.792Z"
   },
   {
    "duration": 8,
    "start_time": "2021-11-13T07:53:49.052Z"
   },
   {
    "duration": 8,
    "start_time": "2021-11-13T07:53:55.413Z"
   },
   {
    "duration": 9,
    "start_time": "2021-11-13T07:54:06.013Z"
   },
   {
    "duration": 9,
    "start_time": "2021-11-13T07:57:41.648Z"
   },
   {
    "duration": 10,
    "start_time": "2021-11-13T07:58:16.010Z"
   },
   {
    "duration": 11,
    "start_time": "2021-11-13T07:58:34.272Z"
   },
   {
    "duration": 22,
    "start_time": "2021-11-13T08:05:59.515Z"
   },
   {
    "duration": 22,
    "start_time": "2021-11-13T08:09:57.372Z"
   },
   {
    "duration": 9338,
    "start_time": "2021-11-13T08:15:03.422Z"
   },
   {
    "duration": 21,
    "start_time": "2021-11-13T08:15:43.676Z"
   },
   {
    "duration": 19,
    "start_time": "2021-11-13T08:16:08.373Z"
   },
   {
    "duration": 37,
    "start_time": "2021-11-13T08:16:15.069Z"
   },
   {
    "duration": 72,
    "start_time": "2021-11-13T08:17:40.577Z"
   },
   {
    "duration": 17,
    "start_time": "2021-11-13T08:17:40.652Z"
   },
   {
    "duration": 39,
    "start_time": "2021-11-13T08:17:40.672Z"
   },
   {
    "duration": 13,
    "start_time": "2021-11-13T08:17:40.715Z"
   },
   {
    "duration": 25,
    "start_time": "2021-11-13T08:17:40.731Z"
   },
   {
    "duration": 129,
    "start_time": "2021-11-13T08:17:40.759Z"
   },
   {
    "duration": 20,
    "start_time": "2021-11-13T08:17:40.891Z"
   },
   {
    "duration": 11,
    "start_time": "2021-11-13T08:17:40.916Z"
   },
   {
    "duration": 28,
    "start_time": "2021-11-13T08:17:40.931Z"
   },
   {
    "duration": 42,
    "start_time": "2021-11-13T08:17:40.963Z"
   },
   {
    "duration": 12,
    "start_time": "2021-11-13T08:17:41.008Z"
   },
   {
    "duration": 15,
    "start_time": "2021-11-13T08:17:41.023Z"
   },
   {
    "duration": 63,
    "start_time": "2021-11-13T08:17:41.041Z"
   },
   {
    "duration": 23,
    "start_time": "2021-11-13T08:17:41.107Z"
   },
   {
    "duration": 20,
    "start_time": "2021-11-13T08:17:41.133Z"
   },
   {
    "duration": 64,
    "start_time": "2021-11-13T08:17:41.155Z"
   },
   {
    "duration": 24,
    "start_time": "2021-11-13T08:17:41.222Z"
   },
   {
    "duration": 61,
    "start_time": "2021-11-13T08:17:41.248Z"
   },
   {
    "duration": 25,
    "start_time": "2021-11-13T08:17:41.312Z"
   },
   {
    "duration": 1073,
    "start_time": "2021-11-13T08:17:41.340Z"
   },
   {
    "duration": 4,
    "start_time": "2021-11-13T08:17:42.416Z"
   },
   {
    "duration": 3542,
    "start_time": "2021-11-13T08:17:42.422Z"
   },
   {
    "duration": 32,
    "start_time": "2021-11-13T08:17:45.969Z"
   },
   {
    "duration": 20,
    "start_time": "2021-11-13T08:17:46.004Z"
   },
   {
    "duration": 32,
    "start_time": "2021-11-13T08:17:46.026Z"
   },
   {
    "duration": 56,
    "start_time": "2021-11-13T08:17:46.060Z"
   },
   {
    "duration": 19,
    "start_time": "2021-11-13T08:19:31.344Z"
   },
   {
    "duration": 130,
    "start_time": "2021-11-13T08:19:50.500Z"
   },
   {
    "duration": 7,
    "start_time": "2021-11-13T10:16:20.079Z"
   },
   {
    "duration": 330,
    "start_time": "2021-11-13T10:25:37.837Z"
   },
   {
    "duration": 83,
    "start_time": "2021-11-13T10:25:49.483Z"
   },
   {
    "duration": 57,
    "start_time": "2021-11-13T10:25:49.568Z"
   },
   {
    "duration": 12,
    "start_time": "2021-11-13T10:25:49.628Z"
   },
   {
    "duration": 12,
    "start_time": "2021-11-13T10:25:49.643Z"
   },
   {
    "duration": 10,
    "start_time": "2021-11-13T10:25:49.658Z"
   },
   {
    "duration": 170,
    "start_time": "2021-11-13T10:25:49.670Z"
   },
   {
    "duration": 13,
    "start_time": "2021-11-13T10:25:49.843Z"
   },
   {
    "duration": 12,
    "start_time": "2021-11-13T10:25:49.859Z"
   },
   {
    "duration": 35,
    "start_time": "2021-11-13T10:25:49.874Z"
   },
   {
    "duration": 17,
    "start_time": "2021-11-13T10:25:49.912Z"
   },
   {
    "duration": 11,
    "start_time": "2021-11-13T10:25:49.932Z"
   },
   {
    "duration": 18,
    "start_time": "2021-11-13T10:25:49.945Z"
   },
   {
    "duration": 26,
    "start_time": "2021-11-13T10:25:50.002Z"
   },
   {
    "duration": 21,
    "start_time": "2021-11-13T10:25:50.031Z"
   },
   {
    "duration": 19,
    "start_time": "2021-11-13T10:25:50.054Z"
   },
   {
    "duration": 26,
    "start_time": "2021-11-13T10:25:50.105Z"
   },
   {
    "duration": 29,
    "start_time": "2021-11-13T10:25:50.134Z"
   },
   {
    "duration": 86,
    "start_time": "2021-11-13T10:25:50.166Z"
   },
   {
    "duration": 62,
    "start_time": "2021-11-13T10:25:50.255Z"
   },
   {
    "duration": 1027,
    "start_time": "2021-11-13T10:25:50.320Z"
   },
   {
    "duration": 5,
    "start_time": "2021-11-13T10:25:51.350Z"
   },
   {
    "duration": 3884,
    "start_time": "2021-11-13T10:25:51.357Z"
   },
   {
    "duration": 18,
    "start_time": "2021-11-13T10:25:55.248Z"
   },
   {
    "duration": 58,
    "start_time": "2021-11-13T10:25:55.269Z"
   },
   {
    "duration": 32,
    "start_time": "2021-11-13T10:25:55.329Z"
   },
   {
    "duration": 11009,
    "start_time": "2021-11-13T10:25:55.363Z"
   },
   {
    "duration": 14,
    "start_time": "2021-11-13T10:26:20.813Z"
   },
   {
    "duration": 132,
    "start_time": "2021-11-13T10:27:51.020Z"
   },
   {
    "duration": 25,
    "start_time": "2021-11-13T10:27:55.299Z"
   },
   {
    "duration": 14,
    "start_time": "2021-11-13T10:28:20.410Z"
   },
   {
    "duration": 16,
    "start_time": "2021-11-13T10:28:24.405Z"
   },
   {
    "duration": 13,
    "start_time": "2021-11-13T10:28:30.889Z"
   },
   {
    "duration": 16,
    "start_time": "2021-11-13T10:28:39.531Z"
   },
   {
    "duration": 12,
    "start_time": "2021-11-13T10:29:11.615Z"
   },
   {
    "duration": 20,
    "start_time": "2021-11-13T10:35:02.712Z"
   },
   {
    "duration": 17,
    "start_time": "2021-11-13T10:36:24.723Z"
   },
   {
    "duration": 18,
    "start_time": "2021-11-13T10:37:11.512Z"
   },
   {
    "duration": 17,
    "start_time": "2021-11-13T10:38:00.039Z"
   },
   {
    "duration": 16,
    "start_time": "2021-11-13T10:38:01.581Z"
   },
   {
    "duration": 21,
    "start_time": "2021-11-13T10:38:44.186Z"
   },
   {
    "duration": 15,
    "start_time": "2021-11-13T10:45:06.700Z"
   },
   {
    "duration": 12,
    "start_time": "2021-11-13T10:45:15.465Z"
   },
   {
    "duration": 133,
    "start_time": "2021-11-13T10:55:40.828Z"
   },
   {
    "duration": 392,
    "start_time": "2021-11-13T10:55:47.534Z"
   },
   {
    "duration": 15,
    "start_time": "2021-11-13T10:55:57.484Z"
   },
   {
    "duration": 17,
    "start_time": "2021-11-13T10:59:25.713Z"
   },
   {
    "duration": 13,
    "start_time": "2021-11-13T11:00:03.824Z"
   },
   {
    "duration": 25,
    "start_time": "2021-11-13T11:01:04.297Z"
   },
   {
    "duration": 20,
    "start_time": "2021-11-13T11:01:20.343Z"
   },
   {
    "duration": 36,
    "start_time": "2021-11-13T11:01:44.998Z"
   },
   {
    "duration": 948,
    "start_time": "2021-11-13T11:05:46.943Z"
   },
   {
    "duration": 658,
    "start_time": "2021-11-13T11:06:04.199Z"
   },
   {
    "duration": 754,
    "start_time": "2021-11-13T11:06:11.923Z"
   },
   {
    "duration": 83,
    "start_time": "2021-11-13T11:06:21.538Z"
   },
   {
    "duration": 25,
    "start_time": "2021-11-13T11:07:41.317Z"
   },
   {
    "duration": 36,
    "start_time": "2021-11-13T11:08:20.460Z"
   },
   {
    "duration": 28,
    "start_time": "2021-11-13T11:09:15.859Z"
   },
   {
    "duration": 9978,
    "start_time": "2021-11-13T11:11:29.681Z"
   },
   {
    "duration": 14059,
    "start_time": "2021-11-13T11:12:14.891Z"
   },
   {
    "duration": 15619,
    "start_time": "2021-11-13T11:12:37.844Z"
   },
   {
    "duration": 11744,
    "start_time": "2021-11-13T11:12:58.920Z"
   },
   {
    "duration": 26,
    "start_time": "2021-11-13T11:14:23.930Z"
   },
   {
    "duration": 37,
    "start_time": "2021-11-13T11:14:30.078Z"
   },
   {
    "duration": 29,
    "start_time": "2021-11-13T11:15:33.921Z"
   },
   {
    "duration": 28,
    "start_time": "2021-11-13T11:17:01.436Z"
   },
   {
    "duration": 41,
    "start_time": "2021-11-13T11:17:45.403Z"
   },
   {
    "duration": 37,
    "start_time": "2021-11-13T11:18:36.283Z"
   },
   {
    "duration": 7944,
    "start_time": "2021-11-13T11:18:52.950Z"
   },
   {
    "duration": 9493,
    "start_time": "2021-11-13T11:19:02.892Z"
   },
   {
    "duration": 27,
    "start_time": "2021-11-13T11:24:55.332Z"
   },
   {
    "duration": 32,
    "start_time": "2021-11-13T11:36:56.435Z"
   },
   {
    "duration": 17,
    "start_time": "2021-11-13T11:37:17.294Z"
   },
   {
    "duration": 1665,
    "start_time": "2021-11-13T11:39:32.567Z"
   },
   {
    "duration": 1683,
    "start_time": "2021-11-13T11:40:16.428Z"
   },
   {
    "duration": 126,
    "start_time": "2021-11-13T11:44:07.738Z"
   },
   {
    "duration": 472,
    "start_time": "2021-11-13T11:44:13.970Z"
   },
   {
    "duration": 29,
    "start_time": "2021-11-13T11:44:54.365Z"
   },
   {
    "duration": 105,
    "start_time": "2021-11-13T11:45:14.823Z"
   },
   {
    "duration": 29,
    "start_time": "2021-11-13T11:45:28.846Z"
   },
   {
    "duration": 146,
    "start_time": "2021-11-13T12:56:59.444Z"
   },
   {
    "duration": 40,
    "start_time": "2021-11-13T12:57:07.587Z"
   },
   {
    "duration": 43,
    "start_time": "2021-11-13T12:58:50.981Z"
   },
   {
    "duration": 38,
    "start_time": "2021-11-13T12:59:19.742Z"
   },
   {
    "duration": 18,
    "start_time": "2021-11-13T13:02:15.945Z"
   },
   {
    "duration": 937,
    "start_time": "2021-11-13T13:05:41.582Z"
   },
   {
    "duration": 25,
    "start_time": "2021-11-13T13:05:50.236Z"
   },
   {
    "duration": 46,
    "start_time": "2021-11-13T13:06:19.166Z"
   },
   {
    "duration": 400,
    "start_time": "2021-11-13T13:07:24.501Z"
   },
   {
    "duration": 462,
    "start_time": "2021-11-13T13:09:34.979Z"
   },
   {
    "duration": 387,
    "start_time": "2021-11-13T13:09:41.255Z"
   },
   {
    "duration": 21,
    "start_time": "2021-11-13T13:10:55.561Z"
   },
   {
    "duration": 20,
    "start_time": "2021-11-13T13:11:07.225Z"
   },
   {
    "duration": 421,
    "start_time": "2021-11-13T13:14:17.097Z"
   },
   {
    "duration": 21,
    "start_time": "2021-11-13T13:14:26.698Z"
   },
   {
    "duration": 20,
    "start_time": "2021-11-13T13:16:50.767Z"
   },
   {
    "duration": 17,
    "start_time": "2021-11-13T13:18:19.535Z"
   },
   {
    "duration": 21,
    "start_time": "2021-11-13T13:18:40.966Z"
   },
   {
    "duration": 21,
    "start_time": "2021-11-13T13:22:00.906Z"
   },
   {
    "duration": 37,
    "start_time": "2021-11-13T13:22:11.810Z"
   },
   {
    "duration": 23,
    "start_time": "2021-11-13T13:23:10.517Z"
   },
   {
    "duration": 404,
    "start_time": "2021-11-13T13:23:36.796Z"
   },
   {
    "duration": 394,
    "start_time": "2021-11-13T13:23:57.345Z"
   },
   {
    "duration": 129,
    "start_time": "2021-11-13T13:24:39.947Z"
   },
   {
    "duration": 19,
    "start_time": "2021-11-13T13:24:46.287Z"
   },
   {
    "duration": 19,
    "start_time": "2021-11-13T13:25:10.377Z"
   },
   {
    "duration": 19,
    "start_time": "2021-11-13T13:25:58.332Z"
   },
   {
    "duration": 20,
    "start_time": "2021-11-13T13:26:18.206Z"
   },
   {
    "duration": 22,
    "start_time": "2021-11-13T13:31:19.320Z"
   },
   {
    "duration": 22,
    "start_time": "2021-11-13T13:33:06.455Z"
   },
   {
    "duration": 22,
    "start_time": "2021-11-13T13:33:20.923Z"
   },
   {
    "duration": 20,
    "start_time": "2021-11-13T13:33:27.140Z"
   },
   {
    "duration": 20,
    "start_time": "2021-11-13T13:34:09.047Z"
   },
   {
    "duration": 22,
    "start_time": "2021-11-13T13:34:56.488Z"
   },
   {
    "duration": 143,
    "start_time": "2021-11-13T13:45:25.037Z"
   },
   {
    "duration": 22,
    "start_time": "2021-11-13T13:51:22.508Z"
   },
   {
    "duration": 22,
    "start_time": "2021-11-13T13:51:42.546Z"
   },
   {
    "duration": 5,
    "start_time": "2021-11-13T14:46:23.583Z"
   },
   {
    "duration": 78,
    "start_time": "2021-11-13T14:46:37.846Z"
   },
   {
    "duration": 18,
    "start_time": "2021-11-13T14:46:37.927Z"
   },
   {
    "duration": 126,
    "start_time": "2021-11-13T14:46:37.948Z"
   },
   {
    "duration": 267,
    "start_time": "2021-11-13T14:46:37.811Z"
   },
   {
    "duration": 265,
    "start_time": "2021-11-13T14:46:37.814Z"
   },
   {
    "duration": 264,
    "start_time": "2021-11-13T14:46:37.817Z"
   },
   {
    "duration": 262,
    "start_time": "2021-11-13T14:46:37.820Z"
   },
   {
    "duration": 262,
    "start_time": "2021-11-13T14:46:37.822Z"
   },
   {
    "duration": 261,
    "start_time": "2021-11-13T14:46:37.824Z"
   },
   {
    "duration": 259,
    "start_time": "2021-11-13T14:46:37.827Z"
   },
   {
    "duration": 259,
    "start_time": "2021-11-13T14:46:37.829Z"
   },
   {
    "duration": 257,
    "start_time": "2021-11-13T14:46:37.833Z"
   },
   {
    "duration": 255,
    "start_time": "2021-11-13T14:46:37.836Z"
   },
   {
    "duration": 255,
    "start_time": "2021-11-13T14:46:37.838Z"
   },
   {
    "duration": 253,
    "start_time": "2021-11-13T14:46:37.841Z"
   },
   {
    "duration": 253,
    "start_time": "2021-11-13T14:46:37.843Z"
   },
   {
    "duration": 252,
    "start_time": "2021-11-13T14:46:37.845Z"
   },
   {
    "duration": 250,
    "start_time": "2021-11-13T14:46:37.848Z"
   },
   {
    "duration": 249,
    "start_time": "2021-11-13T14:46:37.851Z"
   },
   {
    "duration": 249,
    "start_time": "2021-11-13T14:46:37.853Z"
   },
   {
    "duration": 248,
    "start_time": "2021-11-13T14:46:37.855Z"
   },
   {
    "duration": 247,
    "start_time": "2021-11-13T14:46:37.857Z"
   },
   {
    "duration": 245,
    "start_time": "2021-11-13T14:46:37.861Z"
   },
   {
    "duration": 244,
    "start_time": "2021-11-13T14:46:37.863Z"
   },
   {
    "duration": 205,
    "start_time": "2021-11-13T14:46:37.904Z"
   },
   {
    "duration": 203,
    "start_time": "2021-11-13T14:46:37.907Z"
   },
   {
    "duration": 201,
    "start_time": "2021-11-13T14:46:37.910Z"
   },
   {
    "duration": 199,
    "start_time": "2021-11-13T14:46:37.914Z"
   },
   {
    "duration": 197,
    "start_time": "2021-11-13T14:46:37.917Z"
   },
   {
    "duration": 196,
    "start_time": "2021-11-13T14:46:37.919Z"
   },
   {
    "duration": 196,
    "start_time": "2021-11-13T14:46:37.921Z"
   },
   {
    "duration": 501,
    "start_time": "2021-11-13T14:46:38.120Z"
   },
   {
    "duration": -1886,
    "start_time": "2021-11-13T14:46:40.510Z"
   },
   {
    "duration": 78,
    "start_time": "2021-11-13T14:46:55.465Z"
   },
   {
    "duration": 18,
    "start_time": "2021-11-13T14:46:55.546Z"
   },
   {
    "duration": 13,
    "start_time": "2021-11-13T14:46:55.600Z"
   },
   {
    "duration": 10,
    "start_time": "2021-11-13T14:46:55.615Z"
   },
   {
    "duration": 12,
    "start_time": "2021-11-13T14:46:55.627Z"
   },
   {
    "duration": 154,
    "start_time": "2021-11-13T14:46:55.641Z"
   },
   {
    "duration": 12,
    "start_time": "2021-11-13T14:46:55.801Z"
   },
   {
    "duration": 10,
    "start_time": "2021-11-13T14:46:55.815Z"
   },
   {
    "duration": 11,
    "start_time": "2021-11-13T14:46:55.830Z"
   },
   {
    "duration": 56,
    "start_time": "2021-11-13T14:46:55.845Z"
   },
   {
    "duration": 12,
    "start_time": "2021-11-13T14:46:55.904Z"
   },
   {
    "duration": 13,
    "start_time": "2021-11-13T14:46:55.918Z"
   },
   {
    "duration": 25,
    "start_time": "2021-11-13T14:46:55.934Z"
   },
   {
    "duration": 59,
    "start_time": "2021-11-13T14:46:55.962Z"
   },
   {
    "duration": 21,
    "start_time": "2021-11-13T14:46:56.024Z"
   },
   {
    "duration": 57,
    "start_time": "2021-11-13T14:46:56.049Z"
   },
   {
    "duration": 25,
    "start_time": "2021-11-13T14:46:56.108Z"
   },
   {
    "duration": 66,
    "start_time": "2021-11-13T14:46:56.136Z"
   },
   {
    "duration": 26,
    "start_time": "2021-11-13T14:46:56.204Z"
   },
   {
    "duration": 5,
    "start_time": "2021-11-13T14:46:56.232Z"
   },
   {
    "duration": 1001,
    "start_time": "2021-11-13T14:46:56.240Z"
   },
   {
    "duration": 5,
    "start_time": "2021-11-13T14:46:57.244Z"
   },
   {
    "duration": 3603,
    "start_time": "2021-11-13T14:46:57.251Z"
   },
   {
    "duration": 16,
    "start_time": "2021-11-13T14:47:00.857Z"
   },
   {
    "duration": 43,
    "start_time": "2021-11-13T14:47:00.875Z"
   },
   {
    "duration": 19,
    "start_time": "2021-11-13T14:47:00.921Z"
   },
   {
    "duration": 75,
    "start_time": "2021-11-13T14:47:00.947Z"
   },
   {
    "duration": 22,
    "start_time": "2021-11-13T14:47:01.026Z"
   },
   {
    "duration": 75,
    "start_time": "2021-11-13T14:47:01.051Z"
   },
   {
    "duration": 20,
    "start_time": "2021-11-13T14:47:01.129Z"
   },
   {
    "duration": 27,
    "start_time": "2021-11-13T14:47:01.151Z"
   },
   {
    "duration": 37,
    "start_time": "2021-11-13T14:47:01.180Z"
   },
   {
    "duration": 7,
    "start_time": "2021-11-13T14:47:18.208Z"
   },
   {
    "duration": 7,
    "start_time": "2021-11-13T14:47:47.236Z"
   },
   {
    "duration": 77,
    "start_time": "2021-11-13T14:48:23.888Z"
   },
   {
    "duration": 43,
    "start_time": "2021-11-13T14:48:23.967Z"
   },
   {
    "duration": 18,
    "start_time": "2021-11-13T14:48:24.013Z"
   },
   {
    "duration": 9,
    "start_time": "2021-11-13T14:48:24.034Z"
   },
   {
    "duration": 17,
    "start_time": "2021-11-13T14:48:24.046Z"
   },
   {
    "duration": 159,
    "start_time": "2021-11-13T14:48:24.065Z"
   },
   {
    "duration": 13,
    "start_time": "2021-11-13T14:48:24.226Z"
   },
   {
    "duration": 11,
    "start_time": "2021-11-13T14:48:24.241Z"
   },
   {
    "duration": 10,
    "start_time": "2021-11-13T14:48:24.256Z"
   },
   {
    "duration": 46,
    "start_time": "2021-11-13T14:48:24.269Z"
   },
   {
    "duration": 18,
    "start_time": "2021-11-13T14:48:24.318Z"
   },
   {
    "duration": 12,
    "start_time": "2021-11-13T14:48:24.338Z"
   },
   {
    "duration": 53,
    "start_time": "2021-11-13T14:48:24.353Z"
   },
   {
    "duration": 22,
    "start_time": "2021-11-13T14:48:24.408Z"
   },
   {
    "duration": 18,
    "start_time": "2021-11-13T14:48:24.432Z"
   },
   {
    "duration": 57,
    "start_time": "2021-11-13T14:48:24.452Z"
   },
   {
    "duration": 26,
    "start_time": "2021-11-13T14:48:24.512Z"
   },
   {
    "duration": 64,
    "start_time": "2021-11-13T14:48:24.540Z"
   },
   {
    "duration": 27,
    "start_time": "2021-11-13T14:48:24.606Z"
   },
   {
    "duration": 7,
    "start_time": "2021-11-13T14:48:24.635Z"
   },
   {
    "duration": 1018,
    "start_time": "2021-11-13T14:48:24.644Z"
   },
   {
    "duration": 5,
    "start_time": "2021-11-13T14:48:25.664Z"
   },
   {
    "duration": 3556,
    "start_time": "2021-11-13T14:48:25.671Z"
   },
   {
    "duration": 16,
    "start_time": "2021-11-13T14:48:29.229Z"
   },
   {
    "duration": 20,
    "start_time": "2021-11-13T14:48:29.247Z"
   },
   {
    "duration": 40,
    "start_time": "2021-11-13T14:48:29.270Z"
   },
   {
    "duration": 61,
    "start_time": "2021-11-13T14:48:29.315Z"
   },
   {
    "duration": 31,
    "start_time": "2021-11-13T14:48:29.379Z"
   },
   {
    "duration": 43,
    "start_time": "2021-11-13T14:48:29.412Z"
   },
   {
    "duration": 44,
    "start_time": "2021-11-13T14:48:29.458Z"
   },
   {
    "duration": 19,
    "start_time": "2021-11-13T14:48:29.504Z"
   },
   {
    "duration": 18,
    "start_time": "2021-11-13T14:48:29.526Z"
   },
   {
    "duration": 7,
    "start_time": "2021-11-13T14:48:48.665Z"
   },
   {
    "duration": 9,
    "start_time": "2021-11-13T14:49:09.605Z"
   },
   {
    "duration": 985,
    "start_time": "2021-11-13T14:50:03.673Z"
   },
   {
    "duration": 81,
    "start_time": "2021-11-13T14:50:09.186Z"
   },
   {
    "duration": 49,
    "start_time": "2021-11-13T14:50:09.269Z"
   },
   {
    "duration": 16,
    "start_time": "2021-11-13T14:50:09.322Z"
   },
   {
    "duration": 12,
    "start_time": "2021-11-13T14:50:09.342Z"
   },
   {
    "duration": 49,
    "start_time": "2021-11-13T14:50:09.356Z"
   },
   {
    "duration": 145,
    "start_time": "2021-11-13T14:50:09.409Z"
   },
   {
    "duration": 13,
    "start_time": "2021-11-13T14:50:09.556Z"
   },
   {
    "duration": 30,
    "start_time": "2021-11-13T14:50:09.572Z"
   },
   {
    "duration": 12,
    "start_time": "2021-11-13T14:50:09.605Z"
   },
   {
    "duration": 17,
    "start_time": "2021-11-13T14:50:09.620Z"
   },
   {
    "duration": 10,
    "start_time": "2021-11-13T14:50:09.639Z"
   },
   {
    "duration": 53,
    "start_time": "2021-11-13T14:50:09.652Z"
   },
   {
    "duration": 25,
    "start_time": "2021-11-13T14:50:09.707Z"
   },
   {
    "duration": 21,
    "start_time": "2021-11-13T14:50:09.734Z"
   },
   {
    "duration": 48,
    "start_time": "2021-11-13T14:50:09.757Z"
   },
   {
    "duration": 25,
    "start_time": "2021-11-13T14:50:09.808Z"
   },
   {
    "duration": 25,
    "start_time": "2021-11-13T14:50:09.836Z"
   },
   {
    "duration": 82,
    "start_time": "2021-11-13T14:50:09.864Z"
   },
   {
    "duration": 26,
    "start_time": "2021-11-13T14:50:09.949Z"
   },
   {
    "duration": 32,
    "start_time": "2021-11-13T14:50:09.978Z"
   },
   {
    "duration": 1012,
    "start_time": "2021-11-13T14:50:10.012Z"
   },
   {
    "duration": 4,
    "start_time": "2021-11-13T14:50:11.027Z"
   },
   {
    "duration": 3682,
    "start_time": "2021-11-13T14:50:11.035Z"
   },
   {
    "duration": 21,
    "start_time": "2021-11-13T14:50:14.720Z"
   },
   {
    "duration": 23,
    "start_time": "2021-11-13T14:50:14.744Z"
   },
   {
    "duration": 25,
    "start_time": "2021-11-13T14:50:14.802Z"
   },
   {
    "duration": 49,
    "start_time": "2021-11-13T14:50:14.829Z"
   },
   {
    "duration": 24,
    "start_time": "2021-11-13T14:50:14.901Z"
   },
   {
    "duration": 44,
    "start_time": "2021-11-13T14:50:14.927Z"
   },
   {
    "duration": 24,
    "start_time": "2021-11-13T14:50:15.000Z"
   },
   {
    "duration": 30,
    "start_time": "2021-11-13T14:50:15.027Z"
   },
   {
    "duration": 64,
    "start_time": "2021-11-13T14:50:15.060Z"
   },
   {
    "duration": 1067,
    "start_time": "2021-11-13T14:50:33.579Z"
   },
   {
    "duration": 5,
    "start_time": "2021-11-13T14:50:37.887Z"
   },
   {
    "duration": 82,
    "start_time": "2021-11-13T14:50:44.574Z"
   },
   {
    "duration": 44,
    "start_time": "2021-11-13T14:50:44.658Z"
   },
   {
    "duration": 13,
    "start_time": "2021-11-13T14:50:44.705Z"
   },
   {
    "duration": 9,
    "start_time": "2021-11-13T14:50:44.721Z"
   },
   {
    "duration": 10,
    "start_time": "2021-11-13T14:50:44.733Z"
   },
   {
    "duration": 171,
    "start_time": "2021-11-13T14:50:44.746Z"
   },
   {
    "duration": 13,
    "start_time": "2021-11-13T14:50:44.919Z"
   },
   {
    "duration": 13,
    "start_time": "2021-11-13T14:50:44.935Z"
   },
   {
    "duration": 11,
    "start_time": "2021-11-13T14:50:44.953Z"
   },
   {
    "duration": 17,
    "start_time": "2021-11-13T14:50:45.001Z"
   },
   {
    "duration": 24,
    "start_time": "2021-11-13T14:50:45.021Z"
   },
   {
    "duration": 24,
    "start_time": "2021-11-13T14:50:45.048Z"
   },
   {
    "duration": 39,
    "start_time": "2021-11-13T14:50:45.075Z"
   },
   {
    "duration": 23,
    "start_time": "2021-11-13T14:50:45.117Z"
   },
   {
    "duration": 19,
    "start_time": "2021-11-13T14:50:45.143Z"
   },
   {
    "duration": 73,
    "start_time": "2021-11-13T14:50:45.165Z"
   },
   {
    "duration": 25,
    "start_time": "2021-11-13T14:50:45.240Z"
   },
   {
    "duration": 74,
    "start_time": "2021-11-13T14:50:45.267Z"
   },
   {
    "duration": 27,
    "start_time": "2021-11-13T14:50:45.343Z"
   },
   {
    "duration": 29,
    "start_time": "2021-11-13T14:50:45.372Z"
   },
   {
    "duration": 989,
    "start_time": "2021-11-13T14:50:45.403Z"
   },
   {
    "duration": 9,
    "start_time": "2021-11-13T14:50:46.395Z"
   },
   {
    "duration": 3742,
    "start_time": "2021-11-13T14:50:46.406Z"
   },
   {
    "duration": 16,
    "start_time": "2021-11-13T14:50:50.151Z"
   },
   {
    "duration": 46,
    "start_time": "2021-11-13T14:50:50.169Z"
   },
   {
    "duration": 17,
    "start_time": "2021-11-13T14:50:50.218Z"
   },
   {
    "duration": 66,
    "start_time": "2021-11-13T14:50:50.240Z"
   },
   {
    "duration": 20,
    "start_time": "2021-11-13T14:50:50.308Z"
   },
   {
    "duration": 71,
    "start_time": "2021-11-13T14:50:50.331Z"
   },
   {
    "duration": 19,
    "start_time": "2021-11-13T14:50:50.405Z"
   },
   {
    "duration": 19,
    "start_time": "2021-11-13T14:50:50.426Z"
   },
   {
    "duration": 55,
    "start_time": "2021-11-13T14:50:50.448Z"
   },
   {
    "duration": 11,
    "start_time": "2021-11-13T15:17:41.775Z"
   },
   {
    "duration": 11,
    "start_time": "2021-11-13T15:20:00.254Z"
   },
   {
    "duration": 10,
    "start_time": "2021-11-13T15:21:23.446Z"
   },
   {
    "duration": 121,
    "start_time": "2021-11-13T15:25:33.211Z"
   },
   {
    "duration": 48,
    "start_time": "2021-11-13T15:26:51.192Z"
   },
   {
    "duration": 44,
    "start_time": "2021-11-13T15:27:18.027Z"
   },
   {
    "duration": 75,
    "start_time": "2021-11-13T15:28:06.214Z"
   },
   {
    "duration": 17,
    "start_time": "2021-11-13T15:28:06.291Z"
   },
   {
    "duration": 15,
    "start_time": "2021-11-13T15:28:06.312Z"
   },
   {
    "duration": 10,
    "start_time": "2021-11-13T15:28:06.329Z"
   },
   {
    "duration": 10,
    "start_time": "2021-11-13T15:28:06.341Z"
   },
   {
    "duration": 183,
    "start_time": "2021-11-13T15:28:06.353Z"
   },
   {
    "duration": 14,
    "start_time": "2021-11-13T15:28:06.538Z"
   },
   {
    "duration": 10,
    "start_time": "2021-11-13T15:28:06.557Z"
   },
   {
    "duration": 36,
    "start_time": "2021-11-13T15:28:06.570Z"
   },
   {
    "duration": 21,
    "start_time": "2021-11-13T15:28:06.608Z"
   },
   {
    "duration": 14,
    "start_time": "2021-11-13T15:28:06.632Z"
   },
   {
    "duration": 56,
    "start_time": "2021-11-13T15:28:06.649Z"
   },
   {
    "duration": 21,
    "start_time": "2021-11-13T15:28:06.707Z"
   },
   {
    "duration": 20,
    "start_time": "2021-11-13T15:28:06.730Z"
   },
   {
    "duration": 18,
    "start_time": "2021-11-13T15:28:06.753Z"
   },
   {
    "duration": 25,
    "start_time": "2021-11-13T15:28:06.801Z"
   },
   {
    "duration": 31,
    "start_time": "2021-11-13T15:28:06.828Z"
   },
   {
    "duration": 83,
    "start_time": "2021-11-13T15:28:06.862Z"
   },
   {
    "duration": 29,
    "start_time": "2021-11-13T15:28:06.948Z"
   },
   {
    "duration": 1020,
    "start_time": "2021-11-13T15:28:06.980Z"
   },
   {
    "duration": 6,
    "start_time": "2021-11-13T15:28:08.004Z"
   },
   {
    "duration": 3558,
    "start_time": "2021-11-13T15:28:08.013Z"
   },
   {
    "duration": 26,
    "start_time": "2021-11-13T15:28:11.577Z"
   },
   {
    "duration": 11,
    "start_time": "2021-11-13T15:28:11.605Z"
   },
   {
    "duration": 182,
    "start_time": "2021-11-13T15:28:11.619Z"
   },
   {
    "duration": 353,
    "start_time": "2021-11-13T15:28:11.451Z"
   },
   {
    "duration": 351,
    "start_time": "2021-11-13T15:28:11.454Z"
   },
   {
    "duration": 350,
    "start_time": "2021-11-13T15:28:11.457Z"
   },
   {
    "duration": 340,
    "start_time": "2021-11-13T15:28:11.468Z"
   },
   {
    "duration": 337,
    "start_time": "2021-11-13T15:28:11.472Z"
   },
   {
    "duration": 335,
    "start_time": "2021-11-13T15:28:11.476Z"
   },
   {
    "duration": 330,
    "start_time": "2021-11-13T15:28:11.483Z"
   },
   {
    "duration": 328,
    "start_time": "2021-11-13T15:28:11.486Z"
   },
   {
    "duration": 326,
    "start_time": "2021-11-13T15:28:11.489Z"
   },
   {
    "duration": 13,
    "start_time": "2021-11-13T15:28:25.328Z"
   },
   {
    "duration": 38,
    "start_time": "2021-11-13T15:28:27.328Z"
   },
   {
    "duration": 42,
    "start_time": "2021-11-13T15:29:05.031Z"
   },
   {
    "duration": 20,
    "start_time": "2021-11-13T15:29:23.694Z"
   },
   {
    "duration": 17,
    "start_time": "2021-11-13T15:29:40.742Z"
   },
   {
    "duration": 31,
    "start_time": "2021-11-13T15:29:44.499Z"
   },
   {
    "duration": 28,
    "start_time": "2021-11-13T15:34:09.584Z"
   },
   {
    "duration": 45,
    "start_time": "2021-11-13T15:39:16.215Z"
   },
   {
    "duration": 21,
    "start_time": "2021-11-13T15:39:33.113Z"
   },
   {
    "duration": 40,
    "start_time": "2021-11-13T16:23:03.748Z"
   },
   {
    "duration": 40,
    "start_time": "2021-11-13T16:23:25.149Z"
   },
   {
    "duration": 38,
    "start_time": "2021-11-13T16:23:46.249Z"
   },
   {
    "duration": 40,
    "start_time": "2021-11-13T16:25:11.001Z"
   },
   {
    "duration": 19,
    "start_time": "2021-11-13T16:25:13.517Z"
   },
   {
    "duration": 21,
    "start_time": "2021-11-13T16:25:17.346Z"
   },
   {
    "duration": 399,
    "start_time": "2021-11-13T16:25:20.663Z"
   },
   {
    "duration": 19,
    "start_time": "2021-11-13T16:25:42.346Z"
   },
   {
    "duration": 20,
    "start_time": "2021-11-13T16:25:52.230Z"
   },
   {
    "duration": 21,
    "start_time": "2021-11-13T16:46:52.760Z"
   },
   {
    "duration": 4,
    "start_time": "2021-11-13T17:56:19.313Z"
   },
   {
    "duration": 842,
    "start_time": "2021-11-13T17:56:45.638Z"
   },
   {
    "duration": 26,
    "start_time": "2021-11-13T17:56:46.482Z"
   },
   {
    "duration": 13,
    "start_time": "2021-11-13T17:56:46.511Z"
   },
   {
    "duration": 10,
    "start_time": "2021-11-13T17:56:46.527Z"
   },
   {
    "duration": 11,
    "start_time": "2021-11-13T17:56:46.539Z"
   },
   {
    "duration": 155,
    "start_time": "2021-11-13T17:56:46.553Z"
   },
   {
    "duration": 13,
    "start_time": "2021-11-13T17:56:46.711Z"
   },
   {
    "duration": 12,
    "start_time": "2021-11-13T17:56:46.729Z"
   },
   {
    "duration": 12,
    "start_time": "2021-11-13T17:56:46.745Z"
   },
   {
    "duration": 57,
    "start_time": "2021-11-13T17:56:46.760Z"
   },
   {
    "duration": 12,
    "start_time": "2021-11-13T17:56:46.820Z"
   },
   {
    "duration": 20,
    "start_time": "2021-11-13T17:56:46.836Z"
   },
   {
    "duration": 23,
    "start_time": "2021-11-13T17:56:46.900Z"
   },
   {
    "duration": 23,
    "start_time": "2021-11-13T17:56:46.926Z"
   },
   {
    "duration": 53,
    "start_time": "2021-11-13T17:56:46.952Z"
   },
   {
    "duration": 28,
    "start_time": "2021-11-13T17:56:47.008Z"
   },
   {
    "duration": 25,
    "start_time": "2021-11-13T17:56:47.038Z"
   },
   {
    "duration": 78,
    "start_time": "2021-11-13T17:56:47.065Z"
   },
   {
    "duration": 26,
    "start_time": "2021-11-13T17:56:47.145Z"
   },
   {
    "duration": 1005,
    "start_time": "2021-11-13T17:56:47.173Z"
   },
   {
    "duration": 5,
    "start_time": "2021-11-13T17:56:48.180Z"
   },
   {
    "duration": 3661,
    "start_time": "2021-11-13T17:56:48.187Z"
   },
   {
    "duration": 9,
    "start_time": "2021-11-13T17:56:51.852Z"
   },
   {
    "duration": 7,
    "start_time": "2021-11-13T17:56:51.864Z"
   },
   {
    "duration": 153,
    "start_time": "2021-11-13T17:56:51.874Z"
   },
   {
    "duration": 365,
    "start_time": "2021-11-13T17:56:51.664Z"
   },
   {
    "duration": 362,
    "start_time": "2021-11-13T17:56:51.668Z"
   },
   {
    "duration": 353,
    "start_time": "2021-11-13T17:56:51.679Z"
   },
   {
    "duration": 350,
    "start_time": "2021-11-13T17:56:51.683Z"
   },
   {
    "duration": 341,
    "start_time": "2021-11-13T17:56:51.694Z"
   },
   {
    "duration": 340,
    "start_time": "2021-11-13T17:56:51.696Z"
   },
   {
    "duration": 329,
    "start_time": "2021-11-13T17:56:51.708Z"
   },
   {
    "duration": 311,
    "start_time": "2021-11-13T17:56:51.728Z"
   },
   {
    "duration": 856,
    "start_time": "2021-11-13T17:57:23.036Z"
   },
   {
    "duration": 27,
    "start_time": "2021-11-13T17:57:23.894Z"
   },
   {
    "duration": 14,
    "start_time": "2021-11-13T17:57:23.925Z"
   },
   {
    "duration": 11,
    "start_time": "2021-11-13T17:57:23.942Z"
   },
   {
    "duration": 47,
    "start_time": "2021-11-13T17:57:23.955Z"
   },
   {
    "duration": 135,
    "start_time": "2021-11-13T17:57:24.004Z"
   },
   {
    "duration": 12,
    "start_time": "2021-11-13T17:57:24.141Z"
   },
   {
    "duration": 10,
    "start_time": "2021-11-13T17:57:24.157Z"
   },
   {
    "duration": 33,
    "start_time": "2021-11-13T17:57:24.171Z"
   },
   {
    "duration": 16,
    "start_time": "2021-11-13T17:57:24.207Z"
   },
   {
    "duration": 13,
    "start_time": "2021-11-13T17:57:24.225Z"
   },
   {
    "duration": 16,
    "start_time": "2021-11-13T17:57:24.240Z"
   },
   {
    "duration": 57,
    "start_time": "2021-11-13T17:57:24.258Z"
   },
   {
    "duration": 22,
    "start_time": "2021-11-13T17:57:24.317Z"
   },
   {
    "duration": 18,
    "start_time": "2021-11-13T17:57:24.341Z"
   },
   {
    "duration": 55,
    "start_time": "2021-11-13T17:57:24.361Z"
   },
   {
    "duration": 26,
    "start_time": "2021-11-13T17:57:24.419Z"
   },
   {
    "duration": 67,
    "start_time": "2021-11-13T17:57:24.448Z"
   },
   {
    "duration": 28,
    "start_time": "2021-11-13T17:57:24.518Z"
   },
   {
    "duration": 987,
    "start_time": "2021-11-13T17:57:24.549Z"
   },
   {
    "duration": 6,
    "start_time": "2021-11-13T17:57:25.539Z"
   },
   {
    "duration": 3889,
    "start_time": "2021-11-13T17:57:25.547Z"
   },
   {
    "duration": 10,
    "start_time": "2021-11-13T17:57:29.441Z"
   },
   {
    "duration": 9,
    "start_time": "2021-11-13T17:57:29.454Z"
   },
   {
    "duration": 39,
    "start_time": "2021-11-13T17:57:29.466Z"
   },
   {
    "duration": 23,
    "start_time": "2021-11-13T17:57:29.508Z"
   },
   {
    "duration": 27,
    "start_time": "2021-11-13T17:57:29.533Z"
   },
   {
    "duration": 912,
    "start_time": "2021-11-13T17:57:29.563Z"
   },
   {
    "duration": 34,
    "start_time": "2021-11-13T17:57:30.477Z"
   },
   {
    "duration": 22,
    "start_time": "2021-11-13T17:57:30.515Z"
   },
   {
    "duration": 23,
    "start_time": "2021-11-13T17:57:30.540Z"
   },
   {
    "duration": 4,
    "start_time": "2021-11-13T17:57:30.601Z"
   },
   {
    "duration": 847,
    "start_time": "2021-11-13T18:01:24.236Z"
   },
   {
    "duration": 27,
    "start_time": "2021-11-13T18:01:25.086Z"
   },
   {
    "duration": 21,
    "start_time": "2021-11-13T18:01:25.116Z"
   },
   {
    "duration": 13,
    "start_time": "2021-11-13T18:01:25.140Z"
   },
   {
    "duration": 11,
    "start_time": "2021-11-13T18:01:25.156Z"
   },
   {
    "duration": 153,
    "start_time": "2021-11-13T18:01:25.169Z"
   },
   {
    "duration": 13,
    "start_time": "2021-11-13T18:01:25.324Z"
   },
   {
    "duration": 10,
    "start_time": "2021-11-13T18:01:25.341Z"
   },
   {
    "duration": 10,
    "start_time": "2021-11-13T18:01:25.354Z"
   },
   {
    "duration": 49,
    "start_time": "2021-11-13T18:01:25.366Z"
   },
   {
    "duration": 10,
    "start_time": "2021-11-13T18:01:25.418Z"
   },
   {
    "duration": 19,
    "start_time": "2021-11-13T18:01:25.430Z"
   },
   {
    "duration": 57,
    "start_time": "2021-11-13T18:01:25.451Z"
   },
   {
    "duration": 22,
    "start_time": "2021-11-13T18:01:25.511Z"
   },
   {
    "duration": 19,
    "start_time": "2021-11-13T18:01:25.536Z"
   },
   {
    "duration": 57,
    "start_time": "2021-11-13T18:01:25.558Z"
   },
   {
    "duration": 33,
    "start_time": "2021-11-13T18:01:25.618Z"
   },
   {
    "duration": 71,
    "start_time": "2021-11-13T18:01:25.655Z"
   },
   {
    "duration": 24,
    "start_time": "2021-11-13T18:01:25.728Z"
   },
   {
    "duration": 979,
    "start_time": "2021-11-13T18:01:25.755Z"
   },
   {
    "duration": 5,
    "start_time": "2021-11-13T18:01:26.737Z"
   },
   {
    "duration": 3596,
    "start_time": "2021-11-13T18:01:26.744Z"
   },
   {
    "duration": 11,
    "start_time": "2021-11-13T18:01:30.344Z"
   },
   {
    "duration": 28,
    "start_time": "2021-11-13T18:01:30.357Z"
   },
   {
    "duration": 22,
    "start_time": "2021-11-13T18:01:30.388Z"
   },
   {
    "duration": 38,
    "start_time": "2021-11-13T18:01:30.413Z"
   },
   {
    "duration": 27,
    "start_time": "2021-11-13T18:01:30.454Z"
   },
   {
    "duration": 866,
    "start_time": "2021-11-13T18:01:30.483Z"
   },
   {
    "duration": 23,
    "start_time": "2021-11-13T18:01:31.352Z"
   },
   {
    "duration": 36,
    "start_time": "2021-11-13T18:01:31.378Z"
   },
   {
    "duration": 20,
    "start_time": "2021-11-13T18:01:31.417Z"
   },
   {
    "duration": 3,
    "start_time": "2021-11-13T18:01:31.440Z"
   },
   {
    "duration": 952,
    "start_time": "2021-11-13T18:07:07.091Z"
   },
   {
    "duration": 54,
    "start_time": "2021-11-13T18:07:08.047Z"
   },
   {
    "duration": 20,
    "start_time": "2021-11-13T18:07:08.105Z"
   },
   {
    "duration": 10,
    "start_time": "2021-11-13T18:07:08.128Z"
   },
   {
    "duration": 27,
    "start_time": "2021-11-13T18:07:08.140Z"
   },
   {
    "duration": 140,
    "start_time": "2021-11-13T18:07:08.169Z"
   },
   {
    "duration": 12,
    "start_time": "2021-11-13T18:07:08.311Z"
   },
   {
    "duration": 20,
    "start_time": "2021-11-13T18:07:08.326Z"
   },
   {
    "duration": 11,
    "start_time": "2021-11-13T18:07:08.349Z"
   },
   {
    "duration": 49,
    "start_time": "2021-11-13T18:07:08.364Z"
   },
   {
    "duration": 15,
    "start_time": "2021-11-13T18:07:08.416Z"
   },
   {
    "duration": 32,
    "start_time": "2021-11-13T18:07:08.433Z"
   },
   {
    "duration": 37,
    "start_time": "2021-11-13T18:07:08.467Z"
   },
   {
    "duration": 21,
    "start_time": "2021-11-13T18:07:08.507Z"
   },
   {
    "duration": 18,
    "start_time": "2021-11-13T18:07:08.531Z"
   },
   {
    "duration": 55,
    "start_time": "2021-11-13T18:07:08.552Z"
   },
   {
    "duration": 26,
    "start_time": "2021-11-13T18:07:08.610Z"
   },
   {
    "duration": 76,
    "start_time": "2021-11-13T18:07:08.638Z"
   },
   {
    "duration": 25,
    "start_time": "2021-11-13T18:07:08.716Z"
   },
   {
    "duration": 1113,
    "start_time": "2021-11-13T18:07:08.744Z"
   },
   {
    "duration": 5,
    "start_time": "2021-11-13T18:07:09.859Z"
   },
   {
    "duration": 3753,
    "start_time": "2021-11-13T18:07:09.866Z"
   },
   {
    "duration": 10,
    "start_time": "2021-11-13T18:07:13.621Z"
   },
   {
    "duration": 15,
    "start_time": "2021-11-13T18:07:13.633Z"
   },
   {
    "duration": 10,
    "start_time": "2021-11-13T18:07:13.651Z"
   },
   {
    "duration": 65,
    "start_time": "2021-11-13T18:07:13.664Z"
   },
   {
    "duration": 43,
    "start_time": "2021-11-13T18:07:13.735Z"
   },
   {
    "duration": 895,
    "start_time": "2021-11-13T18:07:13.781Z"
   },
   {
    "duration": 27,
    "start_time": "2021-11-13T18:07:14.679Z"
   },
   {
    "duration": 21,
    "start_time": "2021-11-13T18:07:14.708Z"
   },
   {
    "duration": 18,
    "start_time": "2021-11-13T18:07:14.732Z"
   },
   {
    "duration": 4,
    "start_time": "2021-11-13T18:07:14.753Z"
   },
   {
    "duration": 922,
    "start_time": "2021-11-13T18:11:01.071Z"
   },
   {
    "duration": 29,
    "start_time": "2021-11-13T18:11:01.995Z"
   },
   {
    "duration": 26,
    "start_time": "2021-11-13T18:11:02.027Z"
   },
   {
    "duration": 17,
    "start_time": "2021-11-13T18:11:02.056Z"
   },
   {
    "duration": 44,
    "start_time": "2021-11-13T18:11:02.076Z"
   },
   {
    "duration": 141,
    "start_time": "2021-11-13T18:11:02.122Z"
   },
   {
    "duration": 15,
    "start_time": "2021-11-13T18:11:02.265Z"
   },
   {
    "duration": 11,
    "start_time": "2021-11-13T18:11:02.300Z"
   },
   {
    "duration": 23,
    "start_time": "2021-11-13T18:11:02.314Z"
   },
   {
    "duration": 34,
    "start_time": "2021-11-13T18:11:02.340Z"
   },
   {
    "duration": 25,
    "start_time": "2021-11-13T18:11:02.376Z"
   },
   {
    "duration": 25,
    "start_time": "2021-11-13T18:11:02.404Z"
   },
   {
    "duration": 22,
    "start_time": "2021-11-13T18:11:02.431Z"
   },
   {
    "duration": 22,
    "start_time": "2021-11-13T18:11:02.456Z"
   },
   {
    "duration": 19,
    "start_time": "2021-11-13T18:11:02.500Z"
   },
   {
    "duration": 46,
    "start_time": "2021-11-13T18:11:02.525Z"
   },
   {
    "duration": 50,
    "start_time": "2021-11-13T18:11:02.573Z"
   },
   {
    "duration": 46,
    "start_time": "2021-11-13T18:11:02.625Z"
   },
   {
    "duration": 42,
    "start_time": "2021-11-13T18:11:02.674Z"
   },
   {
    "duration": 995,
    "start_time": "2021-11-13T18:11:02.719Z"
   },
   {
    "duration": 5,
    "start_time": "2021-11-13T18:11:03.717Z"
   },
   {
    "duration": 3576,
    "start_time": "2021-11-13T18:11:03.725Z"
   },
   {
    "duration": 10,
    "start_time": "2021-11-13T18:11:07.306Z"
   },
   {
    "duration": 12,
    "start_time": "2021-11-13T18:11:07.319Z"
   },
   {
    "duration": 10,
    "start_time": "2021-11-13T18:11:07.333Z"
   },
   {
    "duration": 65,
    "start_time": "2021-11-13T18:11:07.346Z"
   },
   {
    "duration": 27,
    "start_time": "2021-11-13T18:11:07.414Z"
   },
   {
    "duration": 879,
    "start_time": "2021-11-13T18:11:07.444Z"
   },
   {
    "duration": 23,
    "start_time": "2021-11-13T18:11:08.326Z"
   },
   {
    "duration": 19,
    "start_time": "2021-11-13T18:11:08.352Z"
   },
   {
    "duration": 44,
    "start_time": "2021-11-13T18:11:08.373Z"
   },
   {
    "duration": 3,
    "start_time": "2021-11-13T18:11:08.419Z"
   },
   {
    "duration": 477,
    "start_time": "2021-11-15T10:41:58.598Z"
   },
   {
    "duration": 875,
    "start_time": "2021-11-15T10:42:06.418Z"
   },
   {
    "duration": 29,
    "start_time": "2021-11-15T10:42:07.296Z"
   },
   {
    "duration": 36,
    "start_time": "2021-11-15T10:42:07.328Z"
   },
   {
    "duration": 11,
    "start_time": "2021-11-15T10:42:07.368Z"
   },
   {
    "duration": 13,
    "start_time": "2021-11-15T10:42:07.382Z"
   },
   {
    "duration": 148,
    "start_time": "2021-11-15T10:42:07.397Z"
   },
   {
    "duration": 20,
    "start_time": "2021-11-15T10:42:07.547Z"
   },
   {
    "duration": 21,
    "start_time": "2021-11-15T10:42:07.571Z"
   },
   {
    "duration": 12,
    "start_time": "2021-11-15T10:42:07.596Z"
   },
   {
    "duration": 17,
    "start_time": "2021-11-15T10:42:07.611Z"
   },
   {
    "duration": 38,
    "start_time": "2021-11-15T10:42:07.631Z"
   },
   {
    "duration": 24,
    "start_time": "2021-11-15T10:42:07.671Z"
   },
   {
    "duration": 22,
    "start_time": "2021-11-15T10:42:07.698Z"
   },
   {
    "duration": 52,
    "start_time": "2021-11-15T10:42:07.723Z"
   },
   {
    "duration": 19,
    "start_time": "2021-11-15T10:42:07.778Z"
   },
   {
    "duration": 44,
    "start_time": "2021-11-15T10:42:07.799Z"
   },
   {
    "duration": 48,
    "start_time": "2021-11-15T10:42:07.845Z"
   },
   {
    "duration": 44,
    "start_time": "2021-11-15T10:42:07.895Z"
   },
   {
    "duration": 41,
    "start_time": "2021-11-15T10:42:07.941Z"
   },
   {
    "duration": 955,
    "start_time": "2021-11-15T10:42:07.985Z"
   },
   {
    "duration": 4,
    "start_time": "2021-11-15T10:42:08.943Z"
   },
   {
    "duration": 26,
    "start_time": "2021-11-15T10:42:08.949Z"
   },
   {
    "duration": 4056,
    "start_time": "2021-11-15T10:42:08.980Z"
   },
   {
    "duration": 21,
    "start_time": "2021-11-15T10:42:13.040Z"
   },
   {
    "duration": 19,
    "start_time": "2021-11-15T10:42:13.064Z"
   },
   {
    "duration": 11,
    "start_time": "2021-11-15T10:42:13.086Z"
   },
   {
    "duration": 26,
    "start_time": "2021-11-15T10:42:13.099Z"
   },
   {
    "duration": 51,
    "start_time": "2021-11-15T10:42:13.127Z"
   },
   {
    "duration": 1474,
    "start_time": "2021-11-15T10:42:13.180Z"
   },
   {
    "duration": 27,
    "start_time": "2021-11-15T10:42:14.657Z"
   },
   {
    "duration": 20,
    "start_time": "2021-11-15T10:42:14.687Z"
   },
   {
    "duration": 61,
    "start_time": "2021-11-15T10:42:14.709Z"
   },
   {
    "duration": 4,
    "start_time": "2021-11-15T10:42:14.772Z"
   },
   {
    "duration": 1679,
    "start_time": "2021-11-15T10:49:24.488Z"
   },
   {
    "duration": 9,
    "start_time": "2021-11-15T10:49:35.672Z"
   },
   {
    "duration": 84,
    "start_time": "2021-11-15T10:49:48.439Z"
   },
   {
    "duration": 49,
    "start_time": "2021-11-15T10:49:48.525Z"
   },
   {
    "duration": 14,
    "start_time": "2021-11-15T10:49:48.577Z"
   },
   {
    "duration": 10,
    "start_time": "2021-11-15T10:49:48.594Z"
   },
   {
    "duration": 21,
    "start_time": "2021-11-15T10:49:48.607Z"
   },
   {
    "duration": 163,
    "start_time": "2021-11-15T10:49:48.630Z"
   },
   {
    "duration": 12,
    "start_time": "2021-11-15T10:49:48.795Z"
   },
   {
    "duration": 25,
    "start_time": "2021-11-15T10:49:48.811Z"
   },
   {
    "duration": 34,
    "start_time": "2021-11-15T10:49:48.839Z"
   },
   {
    "duration": 25,
    "start_time": "2021-11-15T10:49:48.876Z"
   },
   {
    "duration": 10,
    "start_time": "2021-11-15T10:49:48.904Z"
   },
   {
    "duration": 15,
    "start_time": "2021-11-15T10:49:48.917Z"
   },
   {
    "duration": 50,
    "start_time": "2021-11-15T10:49:48.934Z"
   },
   {
    "duration": 22,
    "start_time": "2021-11-15T10:49:48.986Z"
   },
   {
    "duration": 20,
    "start_time": "2021-11-15T10:49:49.010Z"
   },
   {
    "duration": 29,
    "start_time": "2021-11-15T10:49:49.064Z"
   },
   {
    "duration": 24,
    "start_time": "2021-11-15T10:49:49.095Z"
   },
   {
    "duration": 75,
    "start_time": "2021-11-15T10:49:49.121Z"
   },
   {
    "duration": 27,
    "start_time": "2021-11-15T10:49:49.198Z"
   },
   {
    "duration": 3707,
    "start_time": "2021-11-15T10:49:49.227Z"
   },
   {
    "duration": 34,
    "start_time": "2021-11-15T10:49:52.937Z"
   },
   {
    "duration": 19,
    "start_time": "2021-11-15T10:49:52.973Z"
   },
   {
    "duration": 4454,
    "start_time": "2021-11-15T10:49:52.997Z"
   },
   {
    "duration": 16,
    "start_time": "2021-11-15T10:49:57.460Z"
   },
   {
    "duration": 8,
    "start_time": "2021-11-15T10:49:57.479Z"
   },
   {
    "duration": 9,
    "start_time": "2021-11-15T10:49:57.489Z"
   },
   {
    "duration": 65,
    "start_time": "2021-11-15T10:49:57.500Z"
   },
   {
    "duration": 33,
    "start_time": "2021-11-15T10:49:57.568Z"
   },
   {
    "duration": 64,
    "start_time": "2021-11-15T10:49:57.603Z"
   },
   {
    "duration": 21,
    "start_time": "2021-11-15T10:49:57.671Z"
   },
   {
    "duration": 18,
    "start_time": "2021-11-15T10:49:57.694Z"
   },
   {
    "duration": 54,
    "start_time": "2021-11-15T10:49:57.714Z"
   },
   {
    "duration": 4,
    "start_time": "2021-11-15T10:49:57.771Z"
   },
   {
    "duration": 1138,
    "start_time": "2021-11-15T10:50:29.298Z"
   },
   {
    "duration": 87,
    "start_time": "2021-11-15T10:50:34.384Z"
   },
   {
    "duration": 19,
    "start_time": "2021-11-15T10:50:34.474Z"
   },
   {
    "duration": 22,
    "start_time": "2021-11-15T10:50:34.496Z"
   },
   {
    "duration": 9,
    "start_time": "2021-11-15T10:50:34.521Z"
   },
   {
    "duration": 12,
    "start_time": "2021-11-15T10:50:34.566Z"
   },
   {
    "duration": 138,
    "start_time": "2021-11-15T10:50:34.580Z"
   },
   {
    "duration": 11,
    "start_time": "2021-11-15T10:50:34.721Z"
   },
   {
    "duration": 27,
    "start_time": "2021-11-15T10:50:34.736Z"
   },
   {
    "duration": 13,
    "start_time": "2021-11-15T10:50:34.768Z"
   },
   {
    "duration": 18,
    "start_time": "2021-11-15T10:50:34.784Z"
   },
   {
    "duration": 11,
    "start_time": "2021-11-15T10:50:34.804Z"
   },
   {
    "duration": 53,
    "start_time": "2021-11-15T10:50:34.818Z"
   },
   {
    "duration": 29,
    "start_time": "2021-11-15T10:50:34.874Z"
   },
   {
    "duration": 22,
    "start_time": "2021-11-15T10:50:34.905Z"
   },
   {
    "duration": 53,
    "start_time": "2021-11-15T10:50:34.929Z"
   },
   {
    "duration": 28,
    "start_time": "2021-11-15T10:50:34.984Z"
   },
   {
    "duration": 60,
    "start_time": "2021-11-15T10:50:35.014Z"
   },
   {
    "duration": 48,
    "start_time": "2021-11-15T10:50:35.077Z"
   },
   {
    "duration": 44,
    "start_time": "2021-11-15T10:50:35.128Z"
   },
   {
    "duration": 999,
    "start_time": "2021-11-15T10:50:35.175Z"
   },
   {
    "duration": 6,
    "start_time": "2021-11-15T10:50:36.177Z"
   },
   {
    "duration": 16,
    "start_time": "2021-11-15T10:50:36.186Z"
   },
   {
    "duration": 4056,
    "start_time": "2021-11-15T10:50:36.210Z"
   },
   {
    "duration": 10,
    "start_time": "2021-11-15T10:50:40.269Z"
   },
   {
    "duration": 14,
    "start_time": "2021-11-15T10:50:40.281Z"
   },
   {
    "duration": 9,
    "start_time": "2021-11-15T10:50:40.298Z"
   },
   {
    "duration": 57,
    "start_time": "2021-11-15T10:50:40.309Z"
   },
   {
    "duration": 29,
    "start_time": "2021-11-15T10:50:40.369Z"
   },
   {
    "duration": 72,
    "start_time": "2021-11-15T10:50:40.400Z"
   },
   {
    "duration": 20,
    "start_time": "2021-11-15T10:50:40.475Z"
   },
   {
    "duration": 18,
    "start_time": "2021-11-15T10:50:40.497Z"
   },
   {
    "duration": 48,
    "start_time": "2021-11-15T10:50:40.518Z"
   },
   {
    "duration": 4,
    "start_time": "2021-11-15T10:50:40.568Z"
   },
   {
    "duration": 137,
    "start_time": "2021-11-15T10:51:28.573Z"
   },
   {
    "duration": 272,
    "start_time": "2021-11-15T10:51:38.404Z"
   },
   {
    "duration": 154,
    "start_time": "2021-11-15T10:51:45.444Z"
   },
   {
    "duration": 144,
    "start_time": "2021-11-15T10:57:07.072Z"
   },
   {
    "duration": 521,
    "start_time": "2021-11-15T10:57:12.508Z"
   },
   {
    "duration": 163,
    "start_time": "2021-11-15T10:57:43.867Z"
   },
   {
    "duration": 1110,
    "start_time": "2021-11-15T10:57:48.673Z"
   },
   {
    "duration": 499,
    "start_time": "2021-11-15T10:58:04.175Z"
   },
   {
    "duration": 84,
    "start_time": "2021-11-15T11:01:12.733Z"
   },
   {
    "duration": 54,
    "start_time": "2021-11-15T11:01:12.820Z"
   },
   {
    "duration": 17,
    "start_time": "2021-11-15T11:01:12.878Z"
   },
   {
    "duration": 9,
    "start_time": "2021-11-15T11:01:12.898Z"
   },
   {
    "duration": 16,
    "start_time": "2021-11-15T11:01:12.909Z"
   },
   {
    "duration": 162,
    "start_time": "2021-11-15T11:01:12.928Z"
   },
   {
    "duration": 12,
    "start_time": "2021-11-15T11:01:13.092Z"
   },
   {
    "duration": 11,
    "start_time": "2021-11-15T11:01:13.108Z"
   },
   {
    "duration": 39,
    "start_time": "2021-11-15T11:01:13.122Z"
   },
   {
    "duration": 21,
    "start_time": "2021-11-15T11:01:13.164Z"
   },
   {
    "duration": 11,
    "start_time": "2021-11-15T11:01:13.188Z"
   },
   {
    "duration": 17,
    "start_time": "2021-11-15T11:01:13.202Z"
   },
   {
    "duration": 29,
    "start_time": "2021-11-15T11:01:13.259Z"
   },
   {
    "duration": 23,
    "start_time": "2021-11-15T11:01:13.291Z"
   },
   {
    "duration": 19,
    "start_time": "2021-11-15T11:01:13.316Z"
   },
   {
    "duration": 53,
    "start_time": "2021-11-15T11:01:13.337Z"
   },
   {
    "duration": 24,
    "start_time": "2021-11-15T11:01:13.392Z"
   },
   {
    "duration": 81,
    "start_time": "2021-11-15T11:01:13.419Z"
   },
   {
    "duration": 24,
    "start_time": "2021-11-15T11:01:13.502Z"
   },
   {
    "duration": 1090,
    "start_time": "2021-11-15T11:01:13.529Z"
   },
   {
    "duration": 4,
    "start_time": "2021-11-15T11:01:14.621Z"
   },
   {
    "duration": 13,
    "start_time": "2021-11-15T11:01:14.628Z"
   },
   {
    "duration": 2544,
    "start_time": "2021-11-15T11:01:14.645Z"
   },
   {
    "duration": 4105,
    "start_time": "2021-11-15T11:01:17.192Z"
   },
   {
    "duration": 9,
    "start_time": "2021-11-15T11:01:21.299Z"
   },
   {
    "duration": 10,
    "start_time": "2021-11-15T11:01:21.311Z"
   },
   {
    "duration": 9,
    "start_time": "2021-11-15T11:01:21.323Z"
   },
   {
    "duration": 23,
    "start_time": "2021-11-15T11:01:21.363Z"
   },
   {
    "duration": 28,
    "start_time": "2021-11-15T11:01:21.388Z"
   },
   {
    "duration": 73,
    "start_time": "2021-11-15T11:01:21.418Z"
   },
   {
    "duration": 18,
    "start_time": "2021-11-15T11:01:21.494Z"
   },
   {
    "duration": 18,
    "start_time": "2021-11-15T11:01:21.514Z"
   },
   {
    "duration": 41,
    "start_time": "2021-11-15T11:01:21.535Z"
   },
   {
    "duration": 16,
    "start_time": "2021-11-15T11:01:21.578Z"
   },
   {
    "duration": 491,
    "start_time": "2021-11-15T11:11:01.947Z"
   },
   {
    "duration": 79,
    "start_time": "2021-11-15T11:11:06.796Z"
   },
   {
    "duration": 18,
    "start_time": "2021-11-15T11:11:06.878Z"
   },
   {
    "duration": 22,
    "start_time": "2021-11-15T11:11:06.899Z"
   },
   {
    "duration": 9,
    "start_time": "2021-11-15T11:11:06.924Z"
   },
   {
    "duration": 36,
    "start_time": "2021-11-15T11:11:06.936Z"
   },
   {
    "duration": 141,
    "start_time": "2021-11-15T11:11:06.975Z"
   },
   {
    "duration": 12,
    "start_time": "2021-11-15T11:11:07.119Z"
   },
   {
    "duration": 31,
    "start_time": "2021-11-15T11:11:07.133Z"
   },
   {
    "duration": 15,
    "start_time": "2021-11-15T11:11:07.168Z"
   },
   {
    "duration": 23,
    "start_time": "2021-11-15T11:11:07.186Z"
   },
   {
    "duration": 14,
    "start_time": "2021-11-15T11:11:07.212Z"
   },
   {
    "duration": 44,
    "start_time": "2021-11-15T11:11:07.229Z"
   },
   {
    "duration": 20,
    "start_time": "2021-11-15T11:11:07.276Z"
   },
   {
    "duration": 23,
    "start_time": "2021-11-15T11:11:07.298Z"
   },
   {
    "duration": 51,
    "start_time": "2021-11-15T11:11:07.324Z"
   },
   {
    "duration": 26,
    "start_time": "2021-11-15T11:11:07.378Z"
   },
   {
    "duration": 59,
    "start_time": "2021-11-15T11:11:07.407Z"
   },
   {
    "duration": 53,
    "start_time": "2021-11-15T11:11:07.470Z"
   },
   {
    "duration": 51,
    "start_time": "2021-11-15T11:11:07.526Z"
   },
   {
    "duration": 1007,
    "start_time": "2021-11-15T11:11:07.580Z"
   },
   {
    "duration": 5,
    "start_time": "2021-11-15T11:11:08.590Z"
   },
   {
    "duration": 2453,
    "start_time": "2021-11-15T11:11:08.597Z"
   },
   {
    "duration": 4225,
    "start_time": "2021-11-15T11:11:11.060Z"
   },
   {
    "duration": 8,
    "start_time": "2021-11-15T11:11:15.287Z"
   },
   {
    "duration": 16,
    "start_time": "2021-11-15T11:11:15.297Z"
   },
   {
    "duration": 13,
    "start_time": "2021-11-15T11:11:15.315Z"
   },
   {
    "duration": 50,
    "start_time": "2021-11-15T11:11:15.333Z"
   },
   {
    "duration": 26,
    "start_time": "2021-11-15T11:11:15.385Z"
   },
   {
    "duration": 66,
    "start_time": "2021-11-15T11:11:15.414Z"
   },
   {
    "duration": 25,
    "start_time": "2021-11-15T11:11:15.483Z"
   },
   {
    "duration": 19,
    "start_time": "2021-11-15T11:11:15.510Z"
   },
   {
    "duration": 48,
    "start_time": "2021-11-15T11:11:15.531Z"
   },
   {
    "duration": 5,
    "start_time": "2021-11-15T11:11:15.582Z"
   },
   {
    "duration": 3,
    "start_time": "2021-11-15T11:21:46.221Z"
   },
   {
    "duration": 3,
    "start_time": "2021-11-15T11:22:02.507Z"
   },
   {
    "duration": 14,
    "start_time": "2021-11-15T11:22:30.061Z"
   },
   {
    "duration": 14,
    "start_time": "2021-11-15T11:22:44.620Z"
   },
   {
    "duration": 25,
    "start_time": "2021-11-15T11:30:33.067Z"
   },
   {
    "duration": 121,
    "start_time": "2021-11-15T12:07:49.931Z"
   },
   {
    "duration": 31,
    "start_time": "2021-11-15T12:07:57.725Z"
   },
   {
    "duration": 19,
    "start_time": "2021-11-15T12:08:47.925Z"
   },
   {
    "duration": 21,
    "start_time": "2021-11-15T12:16:39.356Z"
   },
   {
    "duration": 26,
    "start_time": "2021-11-15T12:18:00.670Z"
   },
   {
    "duration": 18,
    "start_time": "2021-11-15T12:18:19.603Z"
   },
   {
    "duration": 43,
    "start_time": "2021-11-15T12:19:37.127Z"
   },
   {
    "duration": 44,
    "start_time": "2021-11-15T12:19:50.605Z"
   },
   {
    "duration": 17,
    "start_time": "2021-11-15T12:33:38.355Z"
   },
   {
    "duration": 82,
    "start_time": "2021-11-15T13:51:08.877Z"
   },
   {
    "duration": 19,
    "start_time": "2021-11-15T13:51:08.961Z"
   },
   {
    "duration": 24,
    "start_time": "2021-11-15T13:51:08.983Z"
   },
   {
    "duration": 17,
    "start_time": "2021-11-15T13:51:09.009Z"
   },
   {
    "duration": 39,
    "start_time": "2021-11-15T13:51:09.029Z"
   },
   {
    "duration": 147,
    "start_time": "2021-11-15T13:51:09.071Z"
   },
   {
    "duration": 16,
    "start_time": "2021-11-15T13:51:09.220Z"
   },
   {
    "duration": 27,
    "start_time": "2021-11-15T13:51:09.241Z"
   },
   {
    "duration": 13,
    "start_time": "2021-11-15T13:51:09.271Z"
   },
   {
    "duration": 25,
    "start_time": "2021-11-15T13:51:09.286Z"
   },
   {
    "duration": 29,
    "start_time": "2021-11-15T13:51:09.314Z"
   },
   {
    "duration": 58,
    "start_time": "2021-11-15T13:51:09.346Z"
   },
   {
    "duration": 25,
    "start_time": "2021-11-15T13:51:09.407Z"
   },
   {
    "duration": 23,
    "start_time": "2021-11-15T13:51:09.435Z"
   },
   {
    "duration": 23,
    "start_time": "2021-11-15T13:51:09.461Z"
   },
   {
    "duration": 36,
    "start_time": "2021-11-15T13:51:09.487Z"
   },
   {
    "duration": 58,
    "start_time": "2021-11-15T13:51:09.526Z"
   },
   {
    "duration": 43,
    "start_time": "2021-11-15T13:51:09.586Z"
   },
   {
    "duration": 46,
    "start_time": "2021-11-15T13:51:09.631Z"
   },
   {
    "duration": 1052,
    "start_time": "2021-11-15T13:51:09.680Z"
   },
   {
    "duration": 5,
    "start_time": "2021-11-15T13:51:10.735Z"
   },
   {
    "duration": 2383,
    "start_time": "2021-11-15T13:51:10.742Z"
   },
   {
    "duration": 4145,
    "start_time": "2021-11-15T13:51:13.130Z"
   },
   {
    "duration": 9,
    "start_time": "2021-11-15T13:51:17.278Z"
   },
   {
    "duration": 22,
    "start_time": "2021-11-15T13:51:17.290Z"
   },
   {
    "duration": 10,
    "start_time": "2021-11-15T13:51:17.315Z"
   },
   {
    "duration": 43,
    "start_time": "2021-11-15T13:51:17.327Z"
   },
   {
    "duration": 18,
    "start_time": "2021-11-15T13:51:17.373Z"
   },
   {
    "duration": 19,
    "start_time": "2021-11-15T13:51:17.393Z"
   },
   {
    "duration": 90,
    "start_time": "2021-11-15T13:51:17.414Z"
   },
   {
    "duration": 63,
    "start_time": "2021-11-15T13:51:17.506Z"
   },
   {
    "duration": 20,
    "start_time": "2021-11-15T13:51:17.572Z"
   },
   {
    "duration": 20,
    "start_time": "2021-11-15T13:51:17.595Z"
   },
   {
    "duration": 51,
    "start_time": "2021-11-15T13:51:17.618Z"
   },
   {
    "duration": 3,
    "start_time": "2021-11-15T13:51:17.671Z"
   },
   {
    "duration": 813,
    "start_time": "2022-03-04T09:56:00.462Z"
   },
   {
    "duration": 36,
    "start_time": "2022-03-04T09:56:01.278Z"
   },
   {
    "duration": 17,
    "start_time": "2022-03-04T09:56:01.317Z"
   },
   {
    "duration": 13,
    "start_time": "2022-03-04T09:56:01.336Z"
   },
   {
    "duration": 13,
    "start_time": "2022-03-04T09:56:01.352Z"
   },
   {
    "duration": 155,
    "start_time": "2022-03-04T09:56:01.368Z"
   },
   {
    "duration": 17,
    "start_time": "2022-03-04T09:56:01.526Z"
   },
   {
    "duration": 13,
    "start_time": "2022-03-04T09:56:01.546Z"
   },
   {
    "duration": 11,
    "start_time": "2022-03-04T09:56:01.562Z"
   },
   {
    "duration": 58,
    "start_time": "2022-03-04T09:56:01.575Z"
   },
   {
    "duration": 14,
    "start_time": "2022-03-04T09:56:01.636Z"
   },
   {
    "duration": 24,
    "start_time": "2022-03-04T09:56:01.652Z"
   },
   {
    "duration": 21,
    "start_time": "2022-03-04T09:56:01.679Z"
   },
   {
    "duration": 51,
    "start_time": "2022-03-04T09:56:01.702Z"
   },
   {
    "duration": 19,
    "start_time": "2022-03-04T09:56:01.755Z"
   },
   {
    "duration": 26,
    "start_time": "2022-03-04T09:56:01.777Z"
   },
   {
    "duration": 36,
    "start_time": "2022-03-04T09:56:01.833Z"
   },
   {
    "duration": 64,
    "start_time": "2022-03-04T09:56:01.872Z"
   },
   {
    "duration": 32,
    "start_time": "2022-03-04T09:56:01.939Z"
   },
   {
    "duration": 1354,
    "start_time": "2022-03-04T09:56:05.398Z"
   },
   {
    "duration": 9,
    "start_time": "2022-03-04T09:56:19.526Z"
   },
   {
    "duration": 7,
    "start_time": "2022-03-04T09:56:56.624Z"
   },
   {
    "duration": 806,
    "start_time": "2022-06-15T11:00:57.283Z"
   },
   {
    "duration": 30,
    "start_time": "2022-06-15T11:00:58.091Z"
   },
   {
    "duration": 19,
    "start_time": "2022-06-15T11:00:58.123Z"
   },
   {
    "duration": 7,
    "start_time": "2022-06-15T11:00:58.143Z"
   },
   {
    "duration": 9,
    "start_time": "2022-06-15T11:00:58.152Z"
   },
   {
    "duration": 100,
    "start_time": "2022-06-15T11:00:58.162Z"
   },
   {
    "duration": 10,
    "start_time": "2022-06-15T11:00:58.264Z"
   },
   {
    "duration": 24,
    "start_time": "2022-06-15T11:00:58.276Z"
   },
   {
    "duration": 10,
    "start_time": "2022-06-15T11:00:58.305Z"
   },
   {
    "duration": 23,
    "start_time": "2022-06-15T11:00:58.318Z"
   },
   {
    "duration": 8,
    "start_time": "2022-06-15T11:00:58.343Z"
   },
   {
    "duration": 7,
    "start_time": "2022-06-15T11:00:58.353Z"
   },
   {
    "duration": 56,
    "start_time": "2022-06-15T11:00:58.361Z"
   },
   {
    "duration": 18,
    "start_time": "2022-06-15T11:00:58.425Z"
   },
   {
    "duration": 12,
    "start_time": "2022-06-15T11:00:58.445Z"
   },
   {
    "duration": 17,
    "start_time": "2022-06-15T11:00:58.459Z"
   },
   {
    "duration": 49,
    "start_time": "2022-06-15T11:00:58.478Z"
   },
   {
    "duration": 30,
    "start_time": "2022-06-15T11:00:58.529Z"
   },
   {
    "duration": 44,
    "start_time": "2022-06-15T11:00:58.561Z"
   },
   {
    "duration": 11,
    "start_time": "2022-06-15T11:00:58.608Z"
   },
   {
    "duration": 809,
    "start_time": "2022-06-15T11:00:58.623Z"
   },
   {
    "duration": 3,
    "start_time": "2022-06-15T11:00:59.434Z"
   },
   {
    "duration": 1986,
    "start_time": "2022-06-15T11:00:59.438Z"
   },
   {
    "duration": 3025,
    "start_time": "2022-06-15T11:01:01.426Z"
   },
   {
    "duration": 7,
    "start_time": "2022-06-15T11:01:04.453Z"
   },
   {
    "duration": 20,
    "start_time": "2022-06-15T11:01:04.462Z"
   },
   {
    "duration": 41,
    "start_time": "2022-06-15T11:01:04.484Z"
   },
   {
    "duration": 10,
    "start_time": "2022-06-15T11:01:04.527Z"
   },
   {
    "duration": 25,
    "start_time": "2022-06-15T11:01:04.538Z"
   },
   {
    "duration": 11,
    "start_time": "2022-06-15T11:01:04.565Z"
   },
   {
    "duration": 438,
    "start_time": "2022-06-15T11:01:04.578Z"
   },
   {
    "duration": 28,
    "start_time": "2022-06-15T11:01:05.022Z"
   },
   {
    "duration": 14,
    "start_time": "2022-06-15T11:01:05.052Z"
   },
   {
    "duration": 49,
    "start_time": "2022-06-15T11:01:05.068Z"
   },
   {
    "duration": 13,
    "start_time": "2022-06-15T11:01:05.120Z"
   },
   {
    "duration": 2,
    "start_time": "2022-06-15T11:01:05.135Z"
   }
  ],
  "kernelspec": {
   "display_name": "Python 3",
   "language": "python",
   "name": "python3"
  },
  "language_info": {
   "codemirror_mode": {
    "name": "ipython",
    "version": 3
   },
   "file_extension": ".py",
   "mimetype": "text/x-python",
   "name": "python",
   "nbconvert_exporter": "python",
   "pygments_lexer": "ipython3",
   "version": "3.8.8"
  },
  "toc": {
   "base_numbering": 1,
   "nav_menu": {},
   "number_sections": true,
   "sideBar": true,
   "skip_h1_title": true,
   "title_cell": "Table of Contents",
   "title_sidebar": "Contents",
   "toc_cell": false,
   "toc_position": {
    "height": "calc(100% - 180px)",
    "left": "10px",
    "top": "150px",
    "width": "245.469px"
   },
   "toc_section_display": true,
   "toc_window_display": true
  }
 },
 "nbformat": 4,
 "nbformat_minor": 2
}
