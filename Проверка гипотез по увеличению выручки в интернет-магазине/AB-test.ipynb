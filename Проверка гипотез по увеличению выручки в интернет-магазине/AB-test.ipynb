{
 "cells": [
  {
   "cell_type": "markdown",
   "metadata": {},
   "source": [
    "## Предобработка данных"
   ]
  },
  {
   "cell_type": "code",
   "execution_count": 1,
   "metadata": {},
   "outputs": [],
   "source": [
    "import pandas as pd\n",
    "import numpy as np\n",
    "import matplotlib.pyplot as plt\n",
    "import datetime as dt\n",
    "import warnings\n",
    "warnings.filterwarnings(\"ignore\")\n",
    "import scipy.stats as stats\n",
    "import seaborn as sns"
   ]
  },
  {
   "cell_type": "code",
   "execution_count": 2,
   "metadata": {},
   "outputs": [
    {
     "name": "stdout",
     "output_type": "stream",
     "text": [
      "<class 'pandas.core.frame.DataFrame'>\n",
      "RangeIndex: 9 entries, 0 to 8\n",
      "Data columns (total 5 columns):\n",
      " #   Column      Non-Null Count  Dtype \n",
      "---  ------      --------------  ----- \n",
      " 0   Hypothesis  9 non-null      object\n",
      " 1   Reach       9 non-null      int64 \n",
      " 2   Impact      9 non-null      int64 \n",
      " 3   Confidence  9 non-null      int64 \n",
      " 4   Efforts     9 non-null      int64 \n",
      "dtypes: int64(4), object(1)\n",
      "memory usage: 488.0+ bytes\n"
     ]
    },
    {
     "data": {
      "text/html": [
       "<div>\n",
       "<style scoped>\n",
       "    .dataframe tbody tr th:only-of-type {\n",
       "        vertical-align: middle;\n",
       "    }\n",
       "\n",
       "    .dataframe tbody tr th {\n",
       "        vertical-align: top;\n",
       "    }\n",
       "\n",
       "    .dataframe thead th {\n",
       "        text-align: right;\n",
       "    }\n",
       "</style>\n",
       "<table border=\"1\" class=\"dataframe\">\n",
       "  <thead>\n",
       "    <tr style=\"text-align: right;\">\n",
       "      <th></th>\n",
       "      <th>Hypothesis</th>\n",
       "      <th>Reach</th>\n",
       "      <th>Impact</th>\n",
       "      <th>Confidence</th>\n",
       "      <th>Efforts</th>\n",
       "    </tr>\n",
       "  </thead>\n",
       "  <tbody>\n",
       "    <tr>\n",
       "      <th>0</th>\n",
       "      <td>Добавить два новых канала привлечения трафика, что позволит привлекать на 30% больше пользователей</td>\n",
       "      <td>3</td>\n",
       "      <td>10</td>\n",
       "      <td>8</td>\n",
       "      <td>6</td>\n",
       "    </tr>\n",
       "    <tr>\n",
       "      <th>1</th>\n",
       "      <td>Запустить собственную службу доставки, что сократит срок доставки заказов</td>\n",
       "      <td>2</td>\n",
       "      <td>5</td>\n",
       "      <td>4</td>\n",
       "      <td>10</td>\n",
       "    </tr>\n",
       "    <tr>\n",
       "      <th>2</th>\n",
       "      <td>Добавить блоки рекомендаций товаров на сайт интернет магазина, чтобы повысить конверсию и средний чек заказа</td>\n",
       "      <td>8</td>\n",
       "      <td>3</td>\n",
       "      <td>7</td>\n",
       "      <td>3</td>\n",
       "    </tr>\n",
       "    <tr>\n",
       "      <th>3</th>\n",
       "      <td>Изменить структура категорий, что увеличит конверсию, т.к. пользователи быстрее найдут нужный товар</td>\n",
       "      <td>8</td>\n",
       "      <td>3</td>\n",
       "      <td>3</td>\n",
       "      <td>8</td>\n",
       "    </tr>\n",
       "    <tr>\n",
       "      <th>4</th>\n",
       "      <td>Изменить цвет фона главной страницы, чтобы увеличить вовлеченность пользователей</td>\n",
       "      <td>3</td>\n",
       "      <td>1</td>\n",
       "      <td>1</td>\n",
       "      <td>1</td>\n",
       "    </tr>\n",
       "  </tbody>\n",
       "</table>\n",
       "</div>"
      ],
      "text/plain": [
       "                                                                                                     Hypothesis  \\\n",
       "0            Добавить два новых канала привлечения трафика, что позволит привлекать на 30% больше пользователей   \n",
       "1                                     Запустить собственную службу доставки, что сократит срок доставки заказов   \n",
       "2  Добавить блоки рекомендаций товаров на сайт интернет магазина, чтобы повысить конверсию и средний чек заказа   \n",
       "3           Изменить структура категорий, что увеличит конверсию, т.к. пользователи быстрее найдут нужный товар   \n",
       "4                              Изменить цвет фона главной страницы, чтобы увеличить вовлеченность пользователей   \n",
       "\n",
       "   Reach  Impact  Confidence  Efforts  \n",
       "0      3      10           8        6  \n",
       "1      2       5           4       10  \n",
       "2      8       3           7        3  \n",
       "3      8       3           3        8  \n",
       "4      3       1           1        1  "
      ]
     },
     "execution_count": 2,
     "metadata": {},
     "output_type": "execute_result"
    }
   ],
   "source": [
    "hypothesis = pd.read_csv('/datasets/hypothesis.csv')\n",
    "pd.set_option(\"max_colwidth\", 200)\n",
    "hypothesis.info()\n",
    "hypothesis.head()"
   ]
  },
  {
   "cell_type": "markdown",
   "metadata": {},
   "source": [
    "- **Hypothesis** — краткое описание гипотезы;\n",
    "- **Reach** — охват пользователей по 10-балльной шкале;\n",
    "- **Impact** — влияние на пользователей по 10-балльной шкале;\n",
    "- **Confidence** — уверенность в гипотезе по 10-балльной шкале;\n",
    "- **Efforts** — затраты ресурсов на проверку гипотезы по 10-балльной шкале. Чем больше значение Efforts, тем дороже проверка гипотезы."
   ]
  },
  {
   "cell_type": "code",
   "execution_count": 3,
   "metadata": {},
   "outputs": [],
   "source": [
    "hypothesis.columns = hypothesis.columns.str.lower() #приведем название колонок к нижнему регистру"
   ]
  },
  {
   "cell_type": "code",
   "execution_count": 4,
   "metadata": {},
   "outputs": [
    {
     "name": "stdout",
     "output_type": "stream",
     "text": [
      "<class 'pandas.core.frame.DataFrame'>\n",
      "RangeIndex: 1197 entries, 0 to 1196\n",
      "Data columns (total 5 columns):\n",
      " #   Column         Non-Null Count  Dtype \n",
      "---  ------         --------------  ----- \n",
      " 0   transactionId  1197 non-null   int64 \n",
      " 1   visitorId      1197 non-null   int64 \n",
      " 2   date           1197 non-null   object\n",
      " 3   revenue        1197 non-null   int64 \n",
      " 4   group          1197 non-null   object\n",
      "dtypes: int64(3), object(2)\n",
      "memory usage: 46.9+ KB\n"
     ]
    },
    {
     "data": {
      "text/html": [
       "<div>\n",
       "<style scoped>\n",
       "    .dataframe tbody tr th:only-of-type {\n",
       "        vertical-align: middle;\n",
       "    }\n",
       "\n",
       "    .dataframe tbody tr th {\n",
       "        vertical-align: top;\n",
       "    }\n",
       "\n",
       "    .dataframe thead th {\n",
       "        text-align: right;\n",
       "    }\n",
       "</style>\n",
       "<table border=\"1\" class=\"dataframe\">\n",
       "  <thead>\n",
       "    <tr style=\"text-align: right;\">\n",
       "      <th></th>\n",
       "      <th>transactionId</th>\n",
       "      <th>visitorId</th>\n",
       "      <th>date</th>\n",
       "      <th>revenue</th>\n",
       "      <th>group</th>\n",
       "    </tr>\n",
       "  </thead>\n",
       "  <tbody>\n",
       "    <tr>\n",
       "      <th>0</th>\n",
       "      <td>3667963787</td>\n",
       "      <td>3312258926</td>\n",
       "      <td>2019-08-15</td>\n",
       "      <td>1650</td>\n",
       "      <td>B</td>\n",
       "    </tr>\n",
       "    <tr>\n",
       "      <th>1</th>\n",
       "      <td>2804400009</td>\n",
       "      <td>3642806036</td>\n",
       "      <td>2019-08-15</td>\n",
       "      <td>730</td>\n",
       "      <td>B</td>\n",
       "    </tr>\n",
       "    <tr>\n",
       "      <th>2</th>\n",
       "      <td>2961555356</td>\n",
       "      <td>4069496402</td>\n",
       "      <td>2019-08-15</td>\n",
       "      <td>400</td>\n",
       "      <td>A</td>\n",
       "    </tr>\n",
       "    <tr>\n",
       "      <th>3</th>\n",
       "      <td>3797467345</td>\n",
       "      <td>1196621759</td>\n",
       "      <td>2019-08-15</td>\n",
       "      <td>9759</td>\n",
       "      <td>B</td>\n",
       "    </tr>\n",
       "    <tr>\n",
       "      <th>4</th>\n",
       "      <td>2282983706</td>\n",
       "      <td>2322279887</td>\n",
       "      <td>2019-08-15</td>\n",
       "      <td>2308</td>\n",
       "      <td>B</td>\n",
       "    </tr>\n",
       "  </tbody>\n",
       "</table>\n",
       "</div>"
      ],
      "text/plain": [
       "   transactionId   visitorId        date  revenue group\n",
       "0     3667963787  3312258926  2019-08-15     1650     B\n",
       "1     2804400009  3642806036  2019-08-15      730     B\n",
       "2     2961555356  4069496402  2019-08-15      400     A\n",
       "3     3797467345  1196621759  2019-08-15     9759     B\n",
       "4     2282983706  2322279887  2019-08-15     2308     B"
      ]
     },
     "execution_count": 4,
     "metadata": {},
     "output_type": "execute_result"
    }
   ],
   "source": [
    "orders = pd.read_csv('/datasets/orders.csv')\n",
    "orders.info()\n",
    "orders.head()"
   ]
  },
  {
   "cell_type": "markdown",
   "metadata": {},
   "source": [
    "- **transactionId** — идентификатор заказа;\n",
    "- **visitorId** — идентификатор пользователя, совершившего заказ;\n",
    "- **date** — дата, когда был совершён заказ;\n",
    "- **revenue** — выручка заказа;\n",
    "- **group** — группа A/B-теста, в которую попал заказ."
   ]
  },
  {
   "cell_type": "code",
   "execution_count": 5,
   "metadata": {},
   "outputs": [
    {
     "name": "stdout",
     "output_type": "stream",
     "text": [
      "Дубликатов в таблице \"orders\": 0\n"
     ]
    }
   ],
   "source": [
    "print ('Дубликатов в таблице \"orders\":', orders.duplicated().sum())"
   ]
  },
  {
   "cell_type": "code",
   "execution_count": 6,
   "metadata": {},
   "outputs": [],
   "source": [
    "orders['date'] = pd.to_datetime(orders['date'])"
   ]
  },
  {
   "cell_type": "code",
   "execution_count": 7,
   "metadata": {},
   "outputs": [
    {
     "name": "stdout",
     "output_type": "stream",
     "text": [
      "Дата начала тестирования: 2019-08-01 00:00:00\n",
      "Дата окончания тестирования: 2019-08-31 00:00:00\n"
     ]
    }
   ],
   "source": [
    "print('Дата начала тестирования:', orders['date'].min())\n",
    "print('Дата окончания тестирования:', orders['date'].max())"
   ]
  },
  {
   "cell_type": "code",
   "execution_count": 8,
   "metadata": {},
   "outputs": [
    {
     "name": "stdout",
     "output_type": "stream",
     "text": [
      "<class 'pandas.core.frame.DataFrame'>\n",
      "RangeIndex: 62 entries, 0 to 61\n",
      "Data columns (total 3 columns):\n",
      " #   Column    Non-Null Count  Dtype \n",
      "---  ------    --------------  ----- \n",
      " 0   date      62 non-null     object\n",
      " 1   group     62 non-null     object\n",
      " 2   visitors  62 non-null     int64 \n",
      "dtypes: int64(1), object(2)\n",
      "memory usage: 1.6+ KB\n"
     ]
    },
    {
     "data": {
      "text/html": [
       "<div>\n",
       "<style scoped>\n",
       "    .dataframe tbody tr th:only-of-type {\n",
       "        vertical-align: middle;\n",
       "    }\n",
       "\n",
       "    .dataframe tbody tr th {\n",
       "        vertical-align: top;\n",
       "    }\n",
       "\n",
       "    .dataframe thead th {\n",
       "        text-align: right;\n",
       "    }\n",
       "</style>\n",
       "<table border=\"1\" class=\"dataframe\">\n",
       "  <thead>\n",
       "    <tr style=\"text-align: right;\">\n",
       "      <th></th>\n",
       "      <th>date</th>\n",
       "      <th>group</th>\n",
       "      <th>visitors</th>\n",
       "    </tr>\n",
       "  </thead>\n",
       "  <tbody>\n",
       "    <tr>\n",
       "      <th>0</th>\n",
       "      <td>2019-08-01</td>\n",
       "      <td>A</td>\n",
       "      <td>719</td>\n",
       "    </tr>\n",
       "    <tr>\n",
       "      <th>1</th>\n",
       "      <td>2019-08-02</td>\n",
       "      <td>A</td>\n",
       "      <td>619</td>\n",
       "    </tr>\n",
       "    <tr>\n",
       "      <th>2</th>\n",
       "      <td>2019-08-03</td>\n",
       "      <td>A</td>\n",
       "      <td>507</td>\n",
       "    </tr>\n",
       "    <tr>\n",
       "      <th>3</th>\n",
       "      <td>2019-08-04</td>\n",
       "      <td>A</td>\n",
       "      <td>717</td>\n",
       "    </tr>\n",
       "    <tr>\n",
       "      <th>4</th>\n",
       "      <td>2019-08-05</td>\n",
       "      <td>A</td>\n",
       "      <td>756</td>\n",
       "    </tr>\n",
       "  </tbody>\n",
       "</table>\n",
       "</div>"
      ],
      "text/plain": [
       "         date group  visitors\n",
       "0  2019-08-01     A       719\n",
       "1  2019-08-02     A       619\n",
       "2  2019-08-03     A       507\n",
       "3  2019-08-04     A       717\n",
       "4  2019-08-05     A       756"
      ]
     },
     "execution_count": 8,
     "metadata": {},
     "output_type": "execute_result"
    }
   ],
   "source": [
    "visitors = pd.read_csv('/datasets/visitors.csv')\n",
    "visitors.info()\n",
    "visitors.head()"
   ]
  },
  {
   "cell_type": "markdown",
   "metadata": {},
   "source": [
    "- **date** — дата;\n",
    "- **group** — группа A/B-теста;\n",
    "- **visitors** — количество пользователей в указанную дату в указанной группе A/B-теста"
   ]
  },
  {
   "cell_type": "code",
   "execution_count": 9,
   "metadata": {},
   "outputs": [
    {
     "name": "stdout",
     "output_type": "stream",
     "text": [
      "Дубликатов в таблице: \"visitors\": 0\n"
     ]
    }
   ],
   "source": [
    "print ('Дубликатов в таблице: \"visitors\":', visitors.duplicated().sum())"
   ]
  },
  {
   "cell_type": "code",
   "execution_count": 10,
   "metadata": {},
   "outputs": [],
   "source": [
    "visitors['date'] = pd.to_datetime(visitors['date'])"
   ]
  },
  {
   "cell_type": "markdown",
   "metadata": {},
   "source": [
    "Проверим кличество пользователей, которые попали в обе грубы А/В-теста:"
   ]
  },
  {
   "cell_type": "code",
   "execution_count": 11,
   "metadata": {},
   "outputs": [
    {
     "name": "stdout",
     "output_type": "stream",
     "text": [
      "Доля пользователей, попавших в обе группы: 5.6%\n"
     ]
    }
   ],
   "source": [
    "print(\n",
    "    'Доля пользователей, попавших в обе группы: {0:.1%}'\n",
    "    .format(\n",
    "        len(\n",
    "            orders.groupby('visitorId')\n",
    "            .agg({'group': 'nunique'})\n",
    "            .query('group > 1')\n",
    "        ) / len(\n",
    "            orders.groupby('visitorId')\n",
    "            .agg({'group': 'nunique'})\n",
    "        )\n",
    "    )\n",
    ")\n",
    "                                                                                                   "
   ]
  },
  {
   "cell_type": "markdown",
   "metadata": {},
   "source": [
    "### Ввод\n",
    "\n",
    "В работе данные за август 2019 года. Таблицы не содержат дубликатов, но есть незначительное количество пользователей, попавших в обе группы А/В-теста. Изменили тип данных для значений с датами, для удобства переименовали колонки. Предстоит выбрать наиболее удачные гипотезы из девяти преставленных"
   ]
  },
  {
   "cell_type": "markdown",
   "metadata": {},
   "source": [
    "## Приоритизация гипотез"
   ]
  },
  {
   "cell_type": "markdown",
   "metadata": {},
   "source": [
    "Применим метод ICE (от англ. impact, confidence, effort) для приоритизации задач:\n",
    "\n",
    "$$ICE = \\frac{Impact * Confidence}{Efforts}$$\n"
   ]
  },
  {
   "cell_type": "code",
   "execution_count": 12,
   "metadata": {},
   "outputs": [
    {
     "data": {
      "text/html": [
       "<div>\n",
       "<style scoped>\n",
       "    .dataframe tbody tr th:only-of-type {\n",
       "        vertical-align: middle;\n",
       "    }\n",
       "\n",
       "    .dataframe tbody tr th {\n",
       "        vertical-align: top;\n",
       "    }\n",
       "\n",
       "    .dataframe thead th {\n",
       "        text-align: right;\n",
       "    }\n",
       "</style>\n",
       "<table border=\"1\" class=\"dataframe\">\n",
       "  <thead>\n",
       "    <tr style=\"text-align: right;\">\n",
       "      <th></th>\n",
       "      <th>hypothesis</th>\n",
       "      <th>ICE</th>\n",
       "    </tr>\n",
       "  </thead>\n",
       "  <tbody>\n",
       "    <tr>\n",
       "      <th>8</th>\n",
       "      <td>Запустить акцию, дающую скидку на товар в день рождения</td>\n",
       "      <td>16.2</td>\n",
       "    </tr>\n",
       "    <tr>\n",
       "      <th>0</th>\n",
       "      <td>Добавить два новых канала привлечения трафика, что позволит привлекать на 30% больше пользователей</td>\n",
       "      <td>13.3</td>\n",
       "    </tr>\n",
       "    <tr>\n",
       "      <th>7</th>\n",
       "      <td>Добавить форму подписки на все основные страницы, чтобы собрать базу клиентов для email-рассылок</td>\n",
       "      <td>11.2</td>\n",
       "    </tr>\n",
       "    <tr>\n",
       "      <th>6</th>\n",
       "      <td>Показать на главной странице баннеры с актуальными акциями и распродажами, чтобы увеличить конверсию</td>\n",
       "      <td>8.0</td>\n",
       "    </tr>\n",
       "    <tr>\n",
       "      <th>2</th>\n",
       "      <td>Добавить блоки рекомендаций товаров на сайт интернет магазина, чтобы повысить конверсию и средний чек заказа</td>\n",
       "      <td>7.0</td>\n",
       "    </tr>\n",
       "    <tr>\n",
       "      <th>1</th>\n",
       "      <td>Запустить собственную службу доставки, что сократит срок доставки заказов</td>\n",
       "      <td>2.0</td>\n",
       "    </tr>\n",
       "    <tr>\n",
       "      <th>5</th>\n",
       "      <td>Добавить страницу отзывов клиентов о магазине, что позволит увеличить количество заказов</td>\n",
       "      <td>1.3</td>\n",
       "    </tr>\n",
       "    <tr>\n",
       "      <th>3</th>\n",
       "      <td>Изменить структура категорий, что увеличит конверсию, т.к. пользователи быстрее найдут нужный товар</td>\n",
       "      <td>1.1</td>\n",
       "    </tr>\n",
       "    <tr>\n",
       "      <th>4</th>\n",
       "      <td>Изменить цвет фона главной страницы, чтобы увеличить вовлеченность пользователей</td>\n",
       "      <td>1.0</td>\n",
       "    </tr>\n",
       "  </tbody>\n",
       "</table>\n",
       "</div>"
      ],
      "text/plain": [
       "                                                                                                     hypothesis  \\\n",
       "8                                                       Запустить акцию, дающую скидку на товар в день рождения   \n",
       "0            Добавить два новых канала привлечения трафика, что позволит привлекать на 30% больше пользователей   \n",
       "7              Добавить форму подписки на все основные страницы, чтобы собрать базу клиентов для email-рассылок   \n",
       "6          Показать на главной странице баннеры с актуальными акциями и распродажами, чтобы увеличить конверсию   \n",
       "2  Добавить блоки рекомендаций товаров на сайт интернет магазина, чтобы повысить конверсию и средний чек заказа   \n",
       "1                                     Запустить собственную службу доставки, что сократит срок доставки заказов   \n",
       "5                      Добавить страницу отзывов клиентов о магазине, что позволит увеличить количество заказов   \n",
       "3           Изменить структура категорий, что увеличит конверсию, т.к. пользователи быстрее найдут нужный товар   \n",
       "4                              Изменить цвет фона главной страницы, чтобы увеличить вовлеченность пользователей   \n",
       "\n",
       "    ICE  \n",
       "8  16.2  \n",
       "0  13.3  \n",
       "7  11.2  \n",
       "6   8.0  \n",
       "2   7.0  \n",
       "1   2.0  \n",
       "5   1.3  \n",
       "3   1.1  \n",
       "4   1.0  "
      ]
     },
     "execution_count": 12,
     "metadata": {},
     "output_type": "execute_result"
    }
   ],
   "source": [
    "pd.set_option(\"max_colwidth\", 200)\n",
    "hypothesis['ICE'] = round((hypothesis['impact'] * hypothesis['confidence']) / hypothesis['efforts'], 1)\n",
    "hypothesis[['hypothesis', 'ICE']].sort_values(by='ICE', ascending=False)"
   ]
  },
  {
   "cell_type": "markdown",
   "metadata": {},
   "source": [
    "Наиболее перспективные гипотезы по ICE: 8, 0, 7. Сравним с результатом метода RICE (от англ. reach, impact, confidence, effort)"
   ]
  },
  {
   "cell_type": "markdown",
   "metadata": {},
   "source": [
    "$$RICE = \\frac{Reach * Impact * Confidence}{Efforts}$$"
   ]
  },
  {
   "cell_type": "code",
   "execution_count": 13,
   "metadata": {},
   "outputs": [
    {
     "data": {
      "text/html": [
       "<div>\n",
       "<style scoped>\n",
       "    .dataframe tbody tr th:only-of-type {\n",
       "        vertical-align: middle;\n",
       "    }\n",
       "\n",
       "    .dataframe tbody tr th {\n",
       "        vertical-align: top;\n",
       "    }\n",
       "\n",
       "    .dataframe thead th {\n",
       "        text-align: right;\n",
       "    }\n",
       "</style>\n",
       "<table border=\"1\" class=\"dataframe\">\n",
       "  <thead>\n",
       "    <tr style=\"text-align: right;\">\n",
       "      <th></th>\n",
       "      <th>hypothesis</th>\n",
       "      <th>RICE</th>\n",
       "    </tr>\n",
       "  </thead>\n",
       "  <tbody>\n",
       "    <tr>\n",
       "      <th>7</th>\n",
       "      <td>Добавить форму подписки на все основные страницы, чтобы собрать базу клиентов для email-рассылок</td>\n",
       "      <td>112.0</td>\n",
       "    </tr>\n",
       "    <tr>\n",
       "      <th>2</th>\n",
       "      <td>Добавить блоки рекомендаций товаров на сайт интернет магазина, чтобы повысить конверсию и средний чек заказа</td>\n",
       "      <td>56.0</td>\n",
       "    </tr>\n",
       "    <tr>\n",
       "      <th>0</th>\n",
       "      <td>Добавить два новых канала привлечения трафика, что позволит привлекать на 30% больше пользователей</td>\n",
       "      <td>40.0</td>\n",
       "    </tr>\n",
       "    <tr>\n",
       "      <th>6</th>\n",
       "      <td>Показать на главной странице баннеры с актуальными акциями и распродажами, чтобы увеличить конверсию</td>\n",
       "      <td>40.0</td>\n",
       "    </tr>\n",
       "    <tr>\n",
       "      <th>8</th>\n",
       "      <td>Запустить акцию, дающую скидку на товар в день рождения</td>\n",
       "      <td>16.2</td>\n",
       "    </tr>\n",
       "    <tr>\n",
       "      <th>3</th>\n",
       "      <td>Изменить структура категорий, что увеличит конверсию, т.к. пользователи быстрее найдут нужный товар</td>\n",
       "      <td>9.0</td>\n",
       "    </tr>\n",
       "    <tr>\n",
       "      <th>1</th>\n",
       "      <td>Запустить собственную службу доставки, что сократит срок доставки заказов</td>\n",
       "      <td>4.0</td>\n",
       "    </tr>\n",
       "    <tr>\n",
       "      <th>5</th>\n",
       "      <td>Добавить страницу отзывов клиентов о магазине, что позволит увеличить количество заказов</td>\n",
       "      <td>4.0</td>\n",
       "    </tr>\n",
       "    <tr>\n",
       "      <th>4</th>\n",
       "      <td>Изменить цвет фона главной страницы, чтобы увеличить вовлеченность пользователей</td>\n",
       "      <td>3.0</td>\n",
       "    </tr>\n",
       "  </tbody>\n",
       "</table>\n",
       "</div>"
      ],
      "text/plain": [
       "                                                                                                     hypothesis  \\\n",
       "7              Добавить форму подписки на все основные страницы, чтобы собрать базу клиентов для email-рассылок   \n",
       "2  Добавить блоки рекомендаций товаров на сайт интернет магазина, чтобы повысить конверсию и средний чек заказа   \n",
       "0            Добавить два новых канала привлечения трафика, что позволит привлекать на 30% больше пользователей   \n",
       "6          Показать на главной странице баннеры с актуальными акциями и распродажами, чтобы увеличить конверсию   \n",
       "8                                                       Запустить акцию, дающую скидку на товар в день рождения   \n",
       "3           Изменить структура категорий, что увеличит конверсию, т.к. пользователи быстрее найдут нужный товар   \n",
       "1                                     Запустить собственную службу доставки, что сократит срок доставки заказов   \n",
       "5                      Добавить страницу отзывов клиентов о магазине, что позволит увеличить количество заказов   \n",
       "4                              Изменить цвет фона главной страницы, чтобы увеличить вовлеченность пользователей   \n",
       "\n",
       "    RICE  \n",
       "7  112.0  \n",
       "2   56.0  \n",
       "0   40.0  \n",
       "6   40.0  \n",
       "8   16.2  \n",
       "3    9.0  \n",
       "1    4.0  \n",
       "5    4.0  \n",
       "4    3.0  "
      ]
     },
     "execution_count": 13,
     "metadata": {},
     "output_type": "execute_result"
    }
   ],
   "source": [
    "pd.set_option(\"max_colwidth\", 200)\n",
    "hypothesis['RICE'] = (\n",
    "    hypothesis['impact'] * hypothesis['confidence'] * hypothesis['reach']\n",
    ") / hypothesis['efforts']\n",
    "\n",
    "hypothesis[['hypothesis', 'RICE']].sort_values(by='RICE', ascending=False)"
   ]
  },
  {
   "cell_type": "code",
   "execution_count": 14,
   "metadata": {},
   "outputs": [
    {
     "data": {
      "text/html": [
       "<style  type=\"text/css\" >\n",
       "#T_d0d0d_row0_col1{\n",
       "            background-color:  #4da64d;\n",
       "            color:  #000000;\n",
       "        }#T_d0d0d_row0_col2,#T_d0d0d_row4_col1{\n",
       "            background-color:  #008000;\n",
       "            color:  #f1f1f1;\n",
       "        }#T_d0d0d_row1_col1{\n",
       "            background-color:  #8ec58e;\n",
       "            color:  #000000;\n",
       "        }#T_d0d0d_row1_col2{\n",
       "            background-color:  #78bb78;\n",
       "            color:  #000000;\n",
       "        }#T_d0d0d_row2_col1{\n",
       "            background-color:  #2c962c;\n",
       "            color:  #000000;\n",
       "        }#T_d0d0d_row2_col2,#T_d0d0d_row3_col2{\n",
       "            background-color:  #9bcc9b;\n",
       "            color:  #000000;\n",
       "        }#T_d0d0d_row3_col1{\n",
       "            background-color:  #7fbe7f;\n",
       "            color:  #000000;\n",
       "        }#T_d0d0d_row4_col2{\n",
       "            background-color:  #cee5ce;\n",
       "            color:  #000000;\n",
       "        }#T_d0d0d_row5_col1{\n",
       "            background-color:  #eaf2ea;\n",
       "            color:  #000000;\n",
       "        }#T_d0d0d_row5_col2{\n",
       "            background-color:  #deedde;\n",
       "            color:  #000000;\n",
       "        }#T_d0d0d_row6_col1{\n",
       "            background-color:  #dcecdc;\n",
       "            color:  #000000;\n",
       "        }#T_d0d0d_row6_col2,#T_d0d0d_row7_col2{\n",
       "            background-color:  #e9f2e9;\n",
       "            color:  #000000;\n",
       "        }#T_d0d0d_row7_col1{\n",
       "            background-color:  #e6f1e6;\n",
       "            color:  #000000;\n",
       "        }#T_d0d0d_row8_col1,#T_d0d0d_row8_col2{\n",
       "            background-color:  #ebf3eb;\n",
       "            color:  #000000;\n",
       "        }</style><table id=\"T_d0d0d_\" ><thead>    <tr>        <th class=\"blank level0\" ></th>        <th class=\"col_heading level0 col0\" >hypothesis</th>        <th class=\"col_heading level0 col1\" >ICE</th>        <th class=\"col_heading level0 col2\" >RICE</th>    </tr></thead><tbody>\n",
       "                <tr>\n",
       "                        <th id=\"T_d0d0d_level0_row0\" class=\"row_heading level0 row0\" >7</th>\n",
       "                        <td id=\"T_d0d0d_row0_col0\" class=\"data row0 col0\" >Добавить форму подписки на все основные страницы, чтобы собрать базу клиентов для email-рассылок</td>\n",
       "                        <td id=\"T_d0d0d_row0_col1\" class=\"data row0 col1\" >11.200000</td>\n",
       "                        <td id=\"T_d0d0d_row0_col2\" class=\"data row0 col2\" >112.000000</td>\n",
       "            </tr>\n",
       "            <tr>\n",
       "                        <th id=\"T_d0d0d_level0_row1\" class=\"row_heading level0 row1\" >2</th>\n",
       "                        <td id=\"T_d0d0d_row1_col0\" class=\"data row1 col0\" >Добавить блоки рекомендаций товаров на сайт интернет магазина, чтобы повысить конверсию и средний чек заказа</td>\n",
       "                        <td id=\"T_d0d0d_row1_col1\" class=\"data row1 col1\" >7.000000</td>\n",
       "                        <td id=\"T_d0d0d_row1_col2\" class=\"data row1 col2\" >56.000000</td>\n",
       "            </tr>\n",
       "            <tr>\n",
       "                        <th id=\"T_d0d0d_level0_row2\" class=\"row_heading level0 row2\" >0</th>\n",
       "                        <td id=\"T_d0d0d_row2_col0\" class=\"data row2 col0\" >Добавить два новых канала привлечения трафика, что позволит привлекать на 30% больше пользователей</td>\n",
       "                        <td id=\"T_d0d0d_row2_col1\" class=\"data row2 col1\" >13.300000</td>\n",
       "                        <td id=\"T_d0d0d_row2_col2\" class=\"data row2 col2\" >40.000000</td>\n",
       "            </tr>\n",
       "            <tr>\n",
       "                        <th id=\"T_d0d0d_level0_row3\" class=\"row_heading level0 row3\" >6</th>\n",
       "                        <td id=\"T_d0d0d_row3_col0\" class=\"data row3 col0\" >Показать на главной странице баннеры с актуальными акциями и распродажами, чтобы увеличить конверсию</td>\n",
       "                        <td id=\"T_d0d0d_row3_col1\" class=\"data row3 col1\" >8.000000</td>\n",
       "                        <td id=\"T_d0d0d_row3_col2\" class=\"data row3 col2\" >40.000000</td>\n",
       "            </tr>\n",
       "            <tr>\n",
       "                        <th id=\"T_d0d0d_level0_row4\" class=\"row_heading level0 row4\" >8</th>\n",
       "                        <td id=\"T_d0d0d_row4_col0\" class=\"data row4 col0\" >Запустить акцию, дающую скидку на товар в день рождения</td>\n",
       "                        <td id=\"T_d0d0d_row4_col1\" class=\"data row4 col1\" >16.200000</td>\n",
       "                        <td id=\"T_d0d0d_row4_col2\" class=\"data row4 col2\" >16.200000</td>\n",
       "            </tr>\n",
       "            <tr>\n",
       "                        <th id=\"T_d0d0d_level0_row5\" class=\"row_heading level0 row5\" >3</th>\n",
       "                        <td id=\"T_d0d0d_row5_col0\" class=\"data row5 col0\" >Изменить структура категорий, что увеличит конверсию, т.к. пользователи быстрее найдут нужный товар</td>\n",
       "                        <td id=\"T_d0d0d_row5_col1\" class=\"data row5 col1\" >1.100000</td>\n",
       "                        <td id=\"T_d0d0d_row5_col2\" class=\"data row5 col2\" >9.000000</td>\n",
       "            </tr>\n",
       "            <tr>\n",
       "                        <th id=\"T_d0d0d_level0_row6\" class=\"row_heading level0 row6\" >1</th>\n",
       "                        <td id=\"T_d0d0d_row6_col0\" class=\"data row6 col0\" >Запустить собственную службу доставки, что сократит срок доставки заказов</td>\n",
       "                        <td id=\"T_d0d0d_row6_col1\" class=\"data row6 col1\" >2.000000</td>\n",
       "                        <td id=\"T_d0d0d_row6_col2\" class=\"data row6 col2\" >4.000000</td>\n",
       "            </tr>\n",
       "            <tr>\n",
       "                        <th id=\"T_d0d0d_level0_row7\" class=\"row_heading level0 row7\" >5</th>\n",
       "                        <td id=\"T_d0d0d_row7_col0\" class=\"data row7 col0\" >Добавить страницу отзывов клиентов о магазине, что позволит увеличить количество заказов</td>\n",
       "                        <td id=\"T_d0d0d_row7_col1\" class=\"data row7 col1\" >1.300000</td>\n",
       "                        <td id=\"T_d0d0d_row7_col2\" class=\"data row7 col2\" >4.000000</td>\n",
       "            </tr>\n",
       "            <tr>\n",
       "                        <th id=\"T_d0d0d_level0_row8\" class=\"row_heading level0 row8\" >4</th>\n",
       "                        <td id=\"T_d0d0d_row8_col0\" class=\"data row8 col0\" >Изменить цвет фона главной страницы, чтобы увеличить вовлеченность пользователей</td>\n",
       "                        <td id=\"T_d0d0d_row8_col1\" class=\"data row8 col1\" >1.000000</td>\n",
       "                        <td id=\"T_d0d0d_row8_col2\" class=\"data row8 col2\" >3.000000</td>\n",
       "            </tr>\n",
       "    </tbody></table>"
      ],
      "text/plain": [
       "<pandas.io.formats.style.Styler at 0x7f8d264cfbe0>"
      ]
     },
     "execution_count": 14,
     "metadata": {},
     "output_type": "execute_result"
    }
   ],
   "source": [
    "cm = sns.light_palette(\"green\", as_cmap=True)\n",
    "\n",
    "hypothesis[['hypothesis', 'ICE', 'RICE']].sort_values(by='RICE', ascending=False).style.background_gradient(cmap=cm)"
   ]
  },
  {
   "cell_type": "markdown",
   "metadata": {},
   "source": [
    "Наиболее перспективные гипотезы по RICE: 2, 0, 7. Седьмая гипотеза поднялась на первое место из-за высокого показателя *Reach*, а восьмая, наоборот, теперь занимает пятую строчку, т.к. охватывает наименьшее количество пользователей"
   ]
  },
  {
   "cell_type": "markdown",
   "metadata": {},
   "source": [
    "### Вывод\n",
    "\n",
    "Учитывая результаты применения фреймворков ICE и RICE, можно сделать вывод, что наиболее успешными для увеличения выручки будут 7, 2 и 0 гипотезы"
   ]
  },
  {
   "cell_type": "markdown",
   "metadata": {},
   "source": [
    "## Анализ A/B-теста"
   ]
  },
  {
   "cell_type": "code",
   "execution_count": 15,
   "metadata": {},
   "outputs": [
    {
     "data": {
      "text/html": [
       "<div>\n",
       "<style scoped>\n",
       "    .dataframe tbody tr th:only-of-type {\n",
       "        vertical-align: middle;\n",
       "    }\n",
       "\n",
       "    .dataframe tbody tr th {\n",
       "        vertical-align: top;\n",
       "    }\n",
       "\n",
       "    .dataframe thead th {\n",
       "        text-align: right;\n",
       "    }\n",
       "</style>\n",
       "<table border=\"1\" class=\"dataframe\">\n",
       "  <thead>\n",
       "    <tr style=\"text-align: right;\">\n",
       "      <th></th>\n",
       "      <th>date</th>\n",
       "      <th>group</th>\n",
       "    </tr>\n",
       "  </thead>\n",
       "  <tbody>\n",
       "    <tr>\n",
       "      <th>0</th>\n",
       "      <td>2019-08-15</td>\n",
       "      <td>B</td>\n",
       "    </tr>\n",
       "    <tr>\n",
       "      <th>2</th>\n",
       "      <td>2019-08-15</td>\n",
       "      <td>A</td>\n",
       "    </tr>\n",
       "    <tr>\n",
       "      <th>45</th>\n",
       "      <td>2019-08-16</td>\n",
       "      <td>A</td>\n",
       "    </tr>\n",
       "    <tr>\n",
       "      <th>47</th>\n",
       "      <td>2019-08-16</td>\n",
       "      <td>B</td>\n",
       "    </tr>\n",
       "    <tr>\n",
       "      <th>55</th>\n",
       "      <td>2019-08-01</td>\n",
       "      <td>A</td>\n",
       "    </tr>\n",
       "  </tbody>\n",
       "</table>\n",
       "</div>"
      ],
      "text/plain": [
       "         date group\n",
       "0  2019-08-15     B\n",
       "2  2019-08-15     A\n",
       "45 2019-08-16     A\n",
       "47 2019-08-16     B\n",
       "55 2019-08-01     A"
      ]
     },
     "execution_count": 15,
     "metadata": {},
     "output_type": "execute_result"
    }
   ],
   "source": [
    "# создаем массив уникальных пар значений дат и групп теста\n",
    "datesGroups = orders[['date','group']].drop_duplicates()\n",
    "datesGroups.head()"
   ]
  },
  {
   "cell_type": "code",
   "execution_count": 16,
   "metadata": {},
   "outputs": [
    {
     "data": {
      "text/html": [
       "<div>\n",
       "<style scoped>\n",
       "    .dataframe tbody tr th:only-of-type {\n",
       "        vertical-align: middle;\n",
       "    }\n",
       "\n",
       "    .dataframe tbody tr th {\n",
       "        vertical-align: top;\n",
       "    }\n",
       "\n",
       "    .dataframe thead th {\n",
       "        text-align: right;\n",
       "    }\n",
       "</style>\n",
       "<table border=\"1\" class=\"dataframe\">\n",
       "  <thead>\n",
       "    <tr style=\"text-align: right;\">\n",
       "      <th></th>\n",
       "      <th>date</th>\n",
       "      <th>group</th>\n",
       "      <th>transactionId</th>\n",
       "      <th>visitorId</th>\n",
       "      <th>revenue</th>\n",
       "    </tr>\n",
       "  </thead>\n",
       "  <tbody>\n",
       "    <tr>\n",
       "      <th>55</th>\n",
       "      <td>2019-08-01</td>\n",
       "      <td>A</td>\n",
       "      <td>24</td>\n",
       "      <td>20</td>\n",
       "      <td>148579</td>\n",
       "    </tr>\n",
       "    <tr>\n",
       "      <th>66</th>\n",
       "      <td>2019-08-01</td>\n",
       "      <td>B</td>\n",
       "      <td>21</td>\n",
       "      <td>20</td>\n",
       "      <td>101217</td>\n",
       "    </tr>\n",
       "    <tr>\n",
       "      <th>175</th>\n",
       "      <td>2019-08-02</td>\n",
       "      <td>A</td>\n",
       "      <td>44</td>\n",
       "      <td>38</td>\n",
       "      <td>242401</td>\n",
       "    </tr>\n",
       "    <tr>\n",
       "      <th>173</th>\n",
       "      <td>2019-08-02</td>\n",
       "      <td>B</td>\n",
       "      <td>45</td>\n",
       "      <td>43</td>\n",
       "      <td>266748</td>\n",
       "    </tr>\n",
       "    <tr>\n",
       "      <th>291</th>\n",
       "      <td>2019-08-03</td>\n",
       "      <td>A</td>\n",
       "      <td>68</td>\n",
       "      <td>62</td>\n",
       "      <td>354874</td>\n",
       "    </tr>\n",
       "  </tbody>\n",
       "</table>\n",
       "</div>"
      ],
      "text/plain": [
       "          date group  transactionId  visitorId  revenue\n",
       "55  2019-08-01     A             24         20   148579\n",
       "66  2019-08-01     B             21         20   101217\n",
       "175 2019-08-02     A             44         38   242401\n",
       "173 2019-08-02     B             45         43   266748\n",
       "291 2019-08-03     A             68         62   354874"
      ]
     },
     "execution_count": 16,
     "metadata": {},
     "output_type": "execute_result"
    }
   ],
   "source": [
    "#Получим строки таблицы orders, дата которых меньше или равна дате элемента \n",
    "#из datesGroups, а группа теста равна группе из datesGroups\n",
    "    \n",
    "#Агрегируем значения. Вычислим максимальную дату. Для группы тоже рассчитаем максимум \n",
    "#Найдём число уникальных ID заказов и пользователей. \n",
    "#Подсчитаем сумму средних чеков\n",
    "#Применим методы к каждой строке датафрейма: apply(axis=1) и \n",
    "#отсортируем результаты по столбцам 'date' и 'group'\n",
    "\n",
    "ordersAggregated = datesGroups.apply( \n",
    "    lambda x: orders[\n",
    "        np.logical_and(\n",
    "            orders['date'] <= x['date'], orders['group'] == x['group']\n",
    "        )\n",
    "    ].agg(\n",
    "        {\n",
    "            'date' : 'max', \n",
    "            'group' : 'max', \n",
    "            'transactionId' : 'nunique', \n",
    "            'visitorId' : 'nunique', \n",
    "            'revenue' : 'sum'\n",
    "        }\n",
    "    ), \n",
    "    axis=1\n",
    ").sort_values(by=['date','group'])\n",
    "\n",
    "ordersAggregated.head()"
   ]
  },
  {
   "cell_type": "code",
   "execution_count": 17,
   "metadata": {},
   "outputs": [
    {
     "data": {
      "text/html": [
       "<div>\n",
       "<style scoped>\n",
       "    .dataframe tbody tr th:only-of-type {\n",
       "        vertical-align: middle;\n",
       "    }\n",
       "\n",
       "    .dataframe tbody tr th {\n",
       "        vertical-align: top;\n",
       "    }\n",
       "\n",
       "    .dataframe thead th {\n",
       "        text-align: right;\n",
       "    }\n",
       "</style>\n",
       "<table border=\"1\" class=\"dataframe\">\n",
       "  <thead>\n",
       "    <tr style=\"text-align: right;\">\n",
       "      <th></th>\n",
       "      <th>date</th>\n",
       "      <th>group</th>\n",
       "      <th>visitors</th>\n",
       "    </tr>\n",
       "  </thead>\n",
       "  <tbody>\n",
       "    <tr>\n",
       "      <th>55</th>\n",
       "      <td>2019-08-01</td>\n",
       "      <td>A</td>\n",
       "      <td>719</td>\n",
       "    </tr>\n",
       "    <tr>\n",
       "      <th>66</th>\n",
       "      <td>2019-08-01</td>\n",
       "      <td>B</td>\n",
       "      <td>713</td>\n",
       "    </tr>\n",
       "    <tr>\n",
       "      <th>175</th>\n",
       "      <td>2019-08-02</td>\n",
       "      <td>A</td>\n",
       "      <td>1338</td>\n",
       "    </tr>\n",
       "    <tr>\n",
       "      <th>173</th>\n",
       "      <td>2019-08-02</td>\n",
       "      <td>B</td>\n",
       "      <td>1294</td>\n",
       "    </tr>\n",
       "    <tr>\n",
       "      <th>291</th>\n",
       "      <td>2019-08-03</td>\n",
       "      <td>A</td>\n",
       "      <td>1845</td>\n",
       "    </tr>\n",
       "  </tbody>\n",
       "</table>\n",
       "</div>"
      ],
      "text/plain": [
       "          date group  visitors\n",
       "55  2019-08-01     A       719\n",
       "66  2019-08-01     B       713\n",
       "175 2019-08-02     A      1338\n",
       "173 2019-08-02     B      1294\n",
       "291 2019-08-03     A      1845"
      ]
     },
     "execution_count": 17,
     "metadata": {},
     "output_type": "execute_result"
    }
   ],
   "source": [
    "#Аналогично получим агрегированные кумулятивные по дням данные о посетителях интернет-магазина\n",
    "\n",
    "visitorsAggregated = datesGroups.apply(\n",
    "    lambda x: visitors[\n",
    "        np.logical_and(\n",
    "            visitors['date'] <= x['date'], visitors['group'] == x['group']\n",
    "        )\n",
    "    ].agg(\n",
    "        {\n",
    "            'date' : 'max', \n",
    "            'group' : 'max', \n",
    "            'visitors' : 'sum'\n",
    "        }\n",
    "    ), \n",
    "    axis=1\n",
    ").sort_values(by=['date','group'])\n",
    "\n",
    "visitorsAggregated.head()"
   ]
  },
  {
   "cell_type": "code",
   "execution_count": 18,
   "metadata": {},
   "outputs": [
    {
     "data": {
      "text/html": [
       "<div>\n",
       "<style scoped>\n",
       "    .dataframe tbody tr th:only-of-type {\n",
       "        vertical-align: middle;\n",
       "    }\n",
       "\n",
       "    .dataframe tbody tr th {\n",
       "        vertical-align: top;\n",
       "    }\n",
       "\n",
       "    .dataframe thead th {\n",
       "        text-align: right;\n",
       "    }\n",
       "</style>\n",
       "<table border=\"1\" class=\"dataframe\">\n",
       "  <thead>\n",
       "    <tr style=\"text-align: right;\">\n",
       "      <th></th>\n",
       "      <th>date</th>\n",
       "      <th>group</th>\n",
       "      <th>orders</th>\n",
       "      <th>buyers</th>\n",
       "      <th>revenue</th>\n",
       "      <th>visitors</th>\n",
       "    </tr>\n",
       "  </thead>\n",
       "  <tbody>\n",
       "    <tr>\n",
       "      <th>0</th>\n",
       "      <td>2019-08-01</td>\n",
       "      <td>A</td>\n",
       "      <td>24</td>\n",
       "      <td>20</td>\n",
       "      <td>148579</td>\n",
       "      <td>719</td>\n",
       "    </tr>\n",
       "    <tr>\n",
       "      <th>1</th>\n",
       "      <td>2019-08-01</td>\n",
       "      <td>B</td>\n",
       "      <td>21</td>\n",
       "      <td>20</td>\n",
       "      <td>101217</td>\n",
       "      <td>713</td>\n",
       "    </tr>\n",
       "    <tr>\n",
       "      <th>2</th>\n",
       "      <td>2019-08-02</td>\n",
       "      <td>A</td>\n",
       "      <td>44</td>\n",
       "      <td>38</td>\n",
       "      <td>242401</td>\n",
       "      <td>1338</td>\n",
       "    </tr>\n",
       "    <tr>\n",
       "      <th>3</th>\n",
       "      <td>2019-08-02</td>\n",
       "      <td>B</td>\n",
       "      <td>45</td>\n",
       "      <td>43</td>\n",
       "      <td>266748</td>\n",
       "      <td>1294</td>\n",
       "    </tr>\n",
       "    <tr>\n",
       "      <th>4</th>\n",
       "      <td>2019-08-03</td>\n",
       "      <td>A</td>\n",
       "      <td>68</td>\n",
       "      <td>62</td>\n",
       "      <td>354874</td>\n",
       "      <td>1845</td>\n",
       "    </tr>\n",
       "  </tbody>\n",
       "</table>\n",
       "</div>"
      ],
      "text/plain": [
       "        date group  orders  buyers  revenue  visitors\n",
       "0 2019-08-01     A      24      20   148579       719\n",
       "1 2019-08-01     B      21      20   101217       713\n",
       "2 2019-08-02     A      44      38   242401      1338\n",
       "3 2019-08-02     B      45      43   266748      1294\n",
       "4 2019-08-03     A      68      62   354874      1845"
      ]
     },
     "execution_count": 18,
     "metadata": {},
     "output_type": "execute_result"
    }
   ],
   "source": [
    "# объединяем кумулятивные данные в одной таблице и присваиваем ее столбцам понятные названия\n",
    "\n",
    "cumulativeData = ordersAggregated.merge(\n",
    "    visitorsAggregated, \n",
    "    left_on=['date', 'group'], \n",
    "    right_on=['date', 'group']\n",
    ")\n",
    "\n",
    "cumulativeData.columns = ['date', 'group', 'orders', 'buyers', 'revenue', 'visitors']\n",
    "\n",
    "cumulativeData.head()"
   ]
  },
  {
   "cell_type": "code",
   "execution_count": 19,
   "metadata": {},
   "outputs": [
    {
     "data": {
      "text/html": [
       "<div>\n",
       "<style scoped>\n",
       "    .dataframe tbody tr th:only-of-type {\n",
       "        vertical-align: middle;\n",
       "    }\n",
       "\n",
       "    .dataframe tbody tr th {\n",
       "        vertical-align: top;\n",
       "    }\n",
       "\n",
       "    .dataframe thead th {\n",
       "        text-align: right;\n",
       "    }\n",
       "</style>\n",
       "<table border=\"1\" class=\"dataframe\">\n",
       "  <thead>\n",
       "    <tr style=\"text-align: right;\">\n",
       "      <th></th>\n",
       "      <th>date</th>\n",
       "      <th>revenue</th>\n",
       "      <th>orders</th>\n",
       "    </tr>\n",
       "  </thead>\n",
       "  <tbody>\n",
       "    <tr>\n",
       "      <th>0</th>\n",
       "      <td>2019-08-01</td>\n",
       "      <td>148579</td>\n",
       "      <td>24</td>\n",
       "    </tr>\n",
       "    <tr>\n",
       "      <th>2</th>\n",
       "      <td>2019-08-02</td>\n",
       "      <td>242401</td>\n",
       "      <td>44</td>\n",
       "    </tr>\n",
       "    <tr>\n",
       "      <th>4</th>\n",
       "      <td>2019-08-03</td>\n",
       "      <td>354874</td>\n",
       "      <td>68</td>\n",
       "    </tr>\n",
       "    <tr>\n",
       "      <th>6</th>\n",
       "      <td>2019-08-04</td>\n",
       "      <td>425699</td>\n",
       "      <td>84</td>\n",
       "    </tr>\n",
       "    <tr>\n",
       "      <th>8</th>\n",
       "      <td>2019-08-05</td>\n",
       "      <td>549917</td>\n",
       "      <td>109</td>\n",
       "    </tr>\n",
       "  </tbody>\n",
       "</table>\n",
       "</div>"
      ],
      "text/plain": [
       "        date  revenue  orders\n",
       "0 2019-08-01   148579      24\n",
       "2 2019-08-02   242401      44\n",
       "4 2019-08-03   354874      68\n",
       "6 2019-08-04   425699      84\n",
       "8 2019-08-05   549917     109"
      ]
     },
     "execution_count": 19,
     "metadata": {},
     "output_type": "execute_result"
    }
   ],
   "source": [
    "# датафрейм с кумулятивным количеством заказов и кумулятивной выручкой по дням в группе А\n",
    "cumulativeRevenueA = cumulativeData[cumulativeData['group']=='A'][['date','revenue', 'orders']]\n",
    "\n",
    "cumulativeRevenueA.head()"
   ]
  },
  {
   "cell_type": "code",
   "execution_count": 20,
   "metadata": {},
   "outputs": [
    {
     "data": {
      "text/html": [
       "<div>\n",
       "<style scoped>\n",
       "    .dataframe tbody tr th:only-of-type {\n",
       "        vertical-align: middle;\n",
       "    }\n",
       "\n",
       "    .dataframe tbody tr th {\n",
       "        vertical-align: top;\n",
       "    }\n",
       "\n",
       "    .dataframe thead th {\n",
       "        text-align: right;\n",
       "    }\n",
       "</style>\n",
       "<table border=\"1\" class=\"dataframe\">\n",
       "  <thead>\n",
       "    <tr style=\"text-align: right;\">\n",
       "      <th></th>\n",
       "      <th>date</th>\n",
       "      <th>revenue</th>\n",
       "      <th>orders</th>\n",
       "    </tr>\n",
       "  </thead>\n",
       "  <tbody>\n",
       "    <tr>\n",
       "      <th>1</th>\n",
       "      <td>2019-08-01</td>\n",
       "      <td>101217</td>\n",
       "      <td>21</td>\n",
       "    </tr>\n",
       "    <tr>\n",
       "      <th>3</th>\n",
       "      <td>2019-08-02</td>\n",
       "      <td>266748</td>\n",
       "      <td>45</td>\n",
       "    </tr>\n",
       "    <tr>\n",
       "      <th>5</th>\n",
       "      <td>2019-08-03</td>\n",
       "      <td>380996</td>\n",
       "      <td>61</td>\n",
       "    </tr>\n",
       "    <tr>\n",
       "      <th>7</th>\n",
       "      <td>2019-08-04</td>\n",
       "      <td>489567</td>\n",
       "      <td>78</td>\n",
       "    </tr>\n",
       "    <tr>\n",
       "      <th>9</th>\n",
       "      <td>2019-08-05</td>\n",
       "      <td>581995</td>\n",
       "      <td>101</td>\n",
       "    </tr>\n",
       "  </tbody>\n",
       "</table>\n",
       "</div>"
      ],
      "text/plain": [
       "        date  revenue  orders\n",
       "1 2019-08-01   101217      21\n",
       "3 2019-08-02   266748      45\n",
       "5 2019-08-03   380996      61\n",
       "7 2019-08-04   489567      78\n",
       "9 2019-08-05   581995     101"
      ]
     },
     "execution_count": 20,
     "metadata": {},
     "output_type": "execute_result"
    }
   ],
   "source": [
    "# датафрейм с кумулятивным количеством заказов и кумулятивной выручкой по дням в группе B\n",
    "cumulativeRevenueB = cumulativeData[cumulativeData['group']=='B'][['date','revenue', 'orders']]\n",
    "\n",
    "cumulativeRevenueB.head()"
   ]
  },
  {
   "cell_type": "markdown",
   "metadata": {},
   "source": [
    "### График кумулятивной выручки по группам"
   ]
  },
  {
   "cell_type": "code",
   "execution_count": 21,
   "metadata": {},
   "outputs": [
    {
     "data": {
      "image/png": "[encoded data removed]",
      "text/plain": [
       "<Figure size 720x360 with 1 Axes>"
      ]
     },
     "metadata": {
      "needs_background": "light"
     },
     "output_type": "display_data"
    }
   ],
   "source": [
    "f, ax = plt.subplots(figsize=(10, 5))\n",
    "# Строим график выручки группы А\n",
    "plt.plot(cumulativeRevenueA['date'], cumulativeRevenueA['revenue'], label='A')\n",
    "\n",
    "# Строим график выручки группы B\n",
    "plt.plot(cumulativeRevenueB['date'], cumulativeRevenueB['revenue'], label='B')\n",
    "\n",
    "plt.legend()\n",
    "plt.xticks(rotation=45)\n",
    "plt.ylabel('Выручка')\n",
    "plt.title('График кумулятивной выручки по группам')\n",
    "plt.show()"
   ]
  },
  {
   "cell_type": "markdown",
   "metadata": {},
   "source": [
    "Выручка обеих групп растет в течение всего теста, однако, выручка группы В выше с самого начала тестирования. 18 августа разница в выручке резко увеличилась и сохранилась до конца тестирования"
   ]
  },
  {
   "cell_type": "markdown",
   "metadata": {},
   "source": [
    "### График кумулятивного среднего чека по группам"
   ]
  },
  {
   "cell_type": "code",
   "execution_count": 22,
   "metadata": {},
   "outputs": [
    {
     "data": {
      "image/png": "[encoded data removed]",
      "text/plain": [
       "<Figure size 720x360 with 1 Axes>"
      ]
     },
     "metadata": {
      "needs_background": "light"
     },
     "output_type": "display_data"
    }
   ],
   "source": [
    "#Построим графики среднего чека по группам — \n",
    "#разделим кумулятивную выручку на кумулятивное число заказов\n",
    "\n",
    "f, ax = plt.subplots(figsize=(10, 5))\n",
    "plt.plot(\n",
    "    cumulativeRevenueA['date'], cumulativeRevenueA['revenue']/cumulativeRevenueA['orders'], label='A'\n",
    ")\n",
    "plt.plot(\n",
    "    cumulativeRevenueB['date'], cumulativeRevenueB['revenue']/cumulativeRevenueB['orders'], label='B'\n",
    ")\n",
    "\n",
    "plt.legend()\n",
    "plt.xticks(rotation=45)\n",
    "plt.ylabel('Средний чек')\n",
    "plt.title('График кумулятивного среднего чека по группам')\n",
    "plt.show()"
   ]
  },
  {
   "cell_type": "markdown",
   "metadata": {},
   "source": [
    "График кумулятивного среднего чека в первой половине месяца неравномерный для обеих групп. Средний чек группы В вырос одновременно с выручкой, а затем стал равномерно снижаться, при этом остался выше среднего чека группы А. \n",
    "\n",
    "Построим график относительного различия для среднего чека. "
   ]
  },
  {
   "cell_type": "markdown",
   "metadata": {},
   "source": [
    "### График относительного изменения кумулятивного среднего чека группы B к группе A"
   ]
  },
  {
   "cell_type": "code",
   "execution_count": 23,
   "metadata": {},
   "outputs": [
    {
     "data": {
      "text/html": [
       "<div>\n",
       "<style scoped>\n",
       "    .dataframe tbody tr th:only-of-type {\n",
       "        vertical-align: middle;\n",
       "    }\n",
       "\n",
       "    .dataframe tbody tr th {\n",
       "        vertical-align: top;\n",
       "    }\n",
       "\n",
       "    .dataframe thead th {\n",
       "        text-align: right;\n",
       "    }\n",
       "</style>\n",
       "<table border=\"1\" class=\"dataframe\">\n",
       "  <thead>\n",
       "    <tr style=\"text-align: right;\">\n",
       "      <th></th>\n",
       "      <th>date</th>\n",
       "      <th>revenueA</th>\n",
       "      <th>ordersA</th>\n",
       "      <th>revenueB</th>\n",
       "      <th>ordersB</th>\n",
       "    </tr>\n",
       "  </thead>\n",
       "  <tbody>\n",
       "    <tr>\n",
       "      <th>0</th>\n",
       "      <td>2019-08-01</td>\n",
       "      <td>148579</td>\n",
       "      <td>24</td>\n",
       "      <td>101217</td>\n",
       "      <td>21</td>\n",
       "    </tr>\n",
       "    <tr>\n",
       "      <th>1</th>\n",
       "      <td>2019-08-02</td>\n",
       "      <td>242401</td>\n",
       "      <td>44</td>\n",
       "      <td>266748</td>\n",
       "      <td>45</td>\n",
       "    </tr>\n",
       "    <tr>\n",
       "      <th>2</th>\n",
       "      <td>2019-08-03</td>\n",
       "      <td>354874</td>\n",
       "      <td>68</td>\n",
       "      <td>380996</td>\n",
       "      <td>61</td>\n",
       "    </tr>\n",
       "    <tr>\n",
       "      <th>3</th>\n",
       "      <td>2019-08-04</td>\n",
       "      <td>425699</td>\n",
       "      <td>84</td>\n",
       "      <td>489567</td>\n",
       "      <td>78</td>\n",
       "    </tr>\n",
       "    <tr>\n",
       "      <th>4</th>\n",
       "      <td>2019-08-05</td>\n",
       "      <td>549917</td>\n",
       "      <td>109</td>\n",
       "      <td>581995</td>\n",
       "      <td>101</td>\n",
       "    </tr>\n",
       "  </tbody>\n",
       "</table>\n",
       "</div>"
      ],
      "text/plain": [
       "        date  revenueA  ordersA  revenueB  ordersB\n",
       "0 2019-08-01    148579       24    101217       21\n",
       "1 2019-08-02    242401       44    266748       45\n",
       "2 2019-08-03    354874       68    380996       61\n",
       "3 2019-08-04    425699       84    489567       78\n",
       "4 2019-08-05    549917      109    581995      101"
      ]
     },
     "execution_count": 23,
     "metadata": {},
     "output_type": "execute_result"
    }
   ],
   "source": [
    "# собираем данные в одном датафрейме\n",
    "mergedCumulativeRevenue = cumulativeRevenueA.merge(\n",
    "    cumulativeRevenueB, \n",
    "    left_on='date', \n",
    "    right_on='date', \n",
    "    how='left', \n",
    "    suffixes=['A', 'B']\n",
    ")\n",
    "mergedCumulativeRevenue.head()"
   ]
  },
  {
   "cell_type": "code",
   "execution_count": 24,
   "metadata": {},
   "outputs": [
    {
     "data": {
      "image/png": "[encoded data removed]",
      "text/plain": [
       "<Figure size 720x360 with 1 Axes>"
      ]
     },
     "metadata": {
      "needs_background": "light"
     },
     "output_type": "display_data"
    }
   ],
   "source": [
    "# cтроим отношение средних чеков\n",
    "f, ax = plt.subplots(figsize=(10, 5))\n",
    "plt.plot(\n",
    "    mergedCumulativeRevenue['date'], \n",
    "    (\n",
    "        mergedCumulativeRevenue['revenueB']/mergedCumulativeRevenue['ordersB']\n",
    "    )/(\n",
    "        mergedCumulativeRevenue['revenueA']/mergedCumulativeRevenue['ordersA']\n",
    "    )-1\n",
    ")\n",
    "\n",
    "# добавляем ось X\n",
    "plt.axhline(y=0, color='black', linestyle='--') \n",
    "\n",
    "\n",
    "plt.xticks(rotation=45)\n",
    "\n",
    "plt.title('График относительного изменения кумулятивного среднего чека группы B к группе A')\n",
    "plt.show()"
   ]
  },
  {
   "cell_type": "markdown",
   "metadata": {},
   "source": [
    "График относительного изменения кумулятивного среднего чека группы B к группе A так же показывает, что, за исключением лишь нескольких дней, средний чек группы В был выше среднего чека группы А и преимущество сохраняется до конца теста"
   ]
  },
  {
   "cell_type": "markdown",
   "metadata": {},
   "source": [
    "### График кумулятивной конверсии по группам"
   ]
  },
  {
   "cell_type": "code",
   "execution_count": 25,
   "metadata": {},
   "outputs": [
    {
     "data": {
      "text/html": [
       "<div>\n",
       "<style scoped>\n",
       "    .dataframe tbody tr th:only-of-type {\n",
       "        vertical-align: middle;\n",
       "    }\n",
       "\n",
       "    .dataframe tbody tr th {\n",
       "        vertical-align: top;\n",
       "    }\n",
       "\n",
       "    .dataframe thead th {\n",
       "        text-align: right;\n",
       "    }\n",
       "</style>\n",
       "<table border=\"1\" class=\"dataframe\">\n",
       "  <thead>\n",
       "    <tr style=\"text-align: right;\">\n",
       "      <th></th>\n",
       "      <th>date</th>\n",
       "      <th>group</th>\n",
       "      <th>orders</th>\n",
       "      <th>buyers</th>\n",
       "      <th>revenue</th>\n",
       "      <th>visitors</th>\n",
       "      <th>conversion</th>\n",
       "    </tr>\n",
       "  </thead>\n",
       "  <tbody>\n",
       "    <tr>\n",
       "      <th>0</th>\n",
       "      <td>2019-08-01</td>\n",
       "      <td>A</td>\n",
       "      <td>24</td>\n",
       "      <td>20</td>\n",
       "      <td>148579</td>\n",
       "      <td>719</td>\n",
       "      <td>0.033380</td>\n",
       "    </tr>\n",
       "    <tr>\n",
       "      <th>1</th>\n",
       "      <td>2019-08-01</td>\n",
       "      <td>B</td>\n",
       "      <td>21</td>\n",
       "      <td>20</td>\n",
       "      <td>101217</td>\n",
       "      <td>713</td>\n",
       "      <td>0.029453</td>\n",
       "    </tr>\n",
       "    <tr>\n",
       "      <th>2</th>\n",
       "      <td>2019-08-02</td>\n",
       "      <td>A</td>\n",
       "      <td>44</td>\n",
       "      <td>38</td>\n",
       "      <td>242401</td>\n",
       "      <td>1338</td>\n",
       "      <td>0.032885</td>\n",
       "    </tr>\n",
       "    <tr>\n",
       "      <th>3</th>\n",
       "      <td>2019-08-02</td>\n",
       "      <td>B</td>\n",
       "      <td>45</td>\n",
       "      <td>43</td>\n",
       "      <td>266748</td>\n",
       "      <td>1294</td>\n",
       "      <td>0.034776</td>\n",
       "    </tr>\n",
       "    <tr>\n",
       "      <th>4</th>\n",
       "      <td>2019-08-03</td>\n",
       "      <td>A</td>\n",
       "      <td>68</td>\n",
       "      <td>62</td>\n",
       "      <td>354874</td>\n",
       "      <td>1845</td>\n",
       "      <td>0.036856</td>\n",
       "    </tr>\n",
       "  </tbody>\n",
       "</table>\n",
       "</div>"
      ],
      "text/plain": [
       "        date group  orders  buyers  revenue  visitors  conversion\n",
       "0 2019-08-01     A      24      20   148579       719    0.033380\n",
       "1 2019-08-01     B      21      20   101217       713    0.029453\n",
       "2 2019-08-02     A      44      38   242401      1338    0.032885\n",
       "3 2019-08-02     B      45      43   266748      1294    0.034776\n",
       "4 2019-08-03     A      68      62   354874      1845    0.036856"
      ]
     },
     "execution_count": 25,
     "metadata": {},
     "output_type": "execute_result"
    }
   ],
   "source": [
    "# считаем кумулятивную конверсию\n",
    "cumulativeData['conversion'] = cumulativeData['orders']/cumulativeData['visitors']\n",
    "\n",
    "# отделяем данные по группе A\n",
    "cumulativeDataA = cumulativeData[cumulativeData['group']=='A']\n",
    "\n",
    "# отделяем данные по группе B\n",
    "cumulativeDataB = cumulativeData[cumulativeData['group']=='B']\n",
    "\n",
    "cumulativeData.head()"
   ]
  },
  {
   "cell_type": "code",
   "execution_count": 26,
   "metadata": {},
   "outputs": [
    {
     "data": {
      "image/png": "[encoded data removed]",
      "text/plain": [
       "<Figure size 576x288 with 1 Axes>"
      ]
     },
     "metadata": {
      "needs_background": "light"
     },
     "output_type": "display_data"
    }
   ],
   "source": [
    "# строим графики\n",
    "\n",
    "f, ax = plt.subplots(figsize=(8, 4),)\n",
    "\n",
    "plt.plot(cumulativeDataA['date'], cumulativeDataA['conversion'], label='A')\n",
    "plt.plot(cumulativeDataB['date'], cumulativeDataB['conversion'], label='B')\n",
    "plt.legend()\n",
    "\n",
    "# задаем масштаб осей\n",
    "plt.axis([dt.datetime(2019, 8, 1), dt.datetime(2019, 8, 31), 0, 0.05])\n",
    "plt.xticks(rotation=45)\n",
    "plt.title('График кумулятивной конверсии по группам')\n",
    "\n",
    "plt.show()"
   ]
  },
  {
   "cell_type": "markdown",
   "metadata": {},
   "source": [
    "Конверсия группы В превысила конверсию группы А со второй недели теста и стабилизировалась до окончания тестирования."
   ]
  },
  {
   "cell_type": "markdown",
   "metadata": {},
   "source": [
    "### График относительного изменения кумулятивной конверсии группы B к группе A"
   ]
  },
  {
   "cell_type": "code",
   "execution_count": 27,
   "metadata": {},
   "outputs": [
    {
     "data": {
      "text/html": [
       "<div>\n",
       "<style scoped>\n",
       "    .dataframe tbody tr th:only-of-type {\n",
       "        vertical-align: middle;\n",
       "    }\n",
       "\n",
       "    .dataframe tbody tr th {\n",
       "        vertical-align: top;\n",
       "    }\n",
       "\n",
       "    .dataframe thead th {\n",
       "        text-align: right;\n",
       "    }\n",
       "</style>\n",
       "<table border=\"1\" class=\"dataframe\">\n",
       "  <thead>\n",
       "    <tr style=\"text-align: right;\">\n",
       "      <th></th>\n",
       "      <th>date</th>\n",
       "      <th>conversionA</th>\n",
       "      <th>conversionB</th>\n",
       "    </tr>\n",
       "  </thead>\n",
       "  <tbody>\n",
       "    <tr>\n",
       "      <th>0</th>\n",
       "      <td>2019-08-01</td>\n",
       "      <td>0.033380</td>\n",
       "      <td>0.029453</td>\n",
       "    </tr>\n",
       "    <tr>\n",
       "      <th>1</th>\n",
       "      <td>2019-08-02</td>\n",
       "      <td>0.032885</td>\n",
       "      <td>0.034776</td>\n",
       "    </tr>\n",
       "    <tr>\n",
       "      <th>2</th>\n",
       "      <td>2019-08-03</td>\n",
       "      <td>0.036856</td>\n",
       "      <td>0.033833</td>\n",
       "    </tr>\n",
       "    <tr>\n",
       "      <th>3</th>\n",
       "      <td>2019-08-04</td>\n",
       "      <td>0.032787</td>\n",
       "      <td>0.030315</td>\n",
       "    </tr>\n",
       "    <tr>\n",
       "      <th>4</th>\n",
       "      <td>2019-08-05</td>\n",
       "      <td>0.032851</td>\n",
       "      <td>0.030793</td>\n",
       "    </tr>\n",
       "  </tbody>\n",
       "</table>\n",
       "</div>"
      ],
      "text/plain": [
       "        date  conversionA  conversionB\n",
       "0 2019-08-01     0.033380     0.029453\n",
       "1 2019-08-02     0.032885     0.034776\n",
       "2 2019-08-03     0.036856     0.033833\n",
       "3 2019-08-04     0.032787     0.030315\n",
       "4 2019-08-05     0.032851     0.030793"
      ]
     },
     "execution_count": 27,
     "metadata": {},
     "output_type": "execute_result"
    }
   ],
   "source": [
    "mergedCumulativeConversions = cumulativeDataA[['date','conversion']].merge(\n",
    "    cumulativeDataB[['date','conversion']], \n",
    "    left_on='date', \n",
    "    right_on='date', \n",
    "    how='left', \n",
    "    suffixes=['A', 'B']\n",
    ")\n",
    "mergedCumulativeConversions.head()"
   ]
  },
  {
   "cell_type": "code",
   "execution_count": 28,
   "metadata": {},
   "outputs": [
    {
     "data": {
      "image/png": "[encoded data removed]",
      "text/plain": [
       "<Figure size 720x360 with 1 Axes>"
      ]
     },
     "metadata": {
      "needs_background": "light"
     },
     "output_type": "display_data"
    }
   ],
   "source": [
    "# строим графики\n",
    "\n",
    "f, ax = plt.subplots(figsize=(10, 5))\n",
    "\n",
    "plt.plot(mergedCumulativeConversions['date'], \n",
    "         mergedCumulativeConversions['conversionB']/mergedCumulativeConversions['conversionA']-1, \n",
    "         label=\"Относительный прирост конверсии группы B относительно группы A\")\n",
    "plt.legend()\n",
    "\n",
    "plt.axhline(y=0, color='black', linestyle='--')\n",
    "plt.axhline(y= 0.1, color='grey', linestyle='--')\n",
    "plt.xticks(rotation=45)\n",
    "plt.show()"
   ]
  },
  {
   "cell_type": "markdown",
   "metadata": {},
   "source": [
    "В начале теста группа B незначительно проигрывала группе A, но с 6 августа отношение конверсии изменилось в большую сторону. \n",
    "Проанализируем аномалии, возможно, они изменят картину."
   ]
  },
  {
   "cell_type": "markdown",
   "metadata": {},
   "source": [
    "### График количества заказов по пользователям. Определение аномальных заказов."
   ]
  },
  {
   "cell_type": "code",
   "execution_count": 29,
   "metadata": {},
   "outputs": [
    {
     "data": {
      "text/html": [
       "<div>\n",
       "<style scoped>\n",
       "    .dataframe tbody tr th:only-of-type {\n",
       "        vertical-align: middle;\n",
       "    }\n",
       "\n",
       "    .dataframe tbody tr th {\n",
       "        vertical-align: top;\n",
       "    }\n",
       "\n",
       "    .dataframe thead th {\n",
       "        text-align: right;\n",
       "    }\n",
       "</style>\n",
       "<table border=\"1\" class=\"dataframe\">\n",
       "  <thead>\n",
       "    <tr style=\"text-align: right;\">\n",
       "      <th></th>\n",
       "      <th>visitorId</th>\n",
       "      <th>orders</th>\n",
       "    </tr>\n",
       "  </thead>\n",
       "  <tbody>\n",
       "    <tr>\n",
       "      <th>1023</th>\n",
       "      <td>4256040402</td>\n",
       "      <td>11</td>\n",
       "    </tr>\n",
       "    <tr>\n",
       "      <th>591</th>\n",
       "      <td>2458001652</td>\n",
       "      <td>11</td>\n",
       "    </tr>\n",
       "    <tr>\n",
       "      <th>569</th>\n",
       "      <td>2378935119</td>\n",
       "      <td>9</td>\n",
       "    </tr>\n",
       "    <tr>\n",
       "      <th>487</th>\n",
       "      <td>2038680547</td>\n",
       "      <td>8</td>\n",
       "    </tr>\n",
       "    <tr>\n",
       "      <th>44</th>\n",
       "      <td>199603092</td>\n",
       "      <td>5</td>\n",
       "    </tr>\n",
       "    <tr>\n",
       "      <th>744</th>\n",
       "      <td>3062433592</td>\n",
       "      <td>5</td>\n",
       "    </tr>\n",
       "    <tr>\n",
       "      <th>55</th>\n",
       "      <td>237748145</td>\n",
       "      <td>5</td>\n",
       "    </tr>\n",
       "    <tr>\n",
       "      <th>917</th>\n",
       "      <td>3803269165</td>\n",
       "      <td>5</td>\n",
       "    </tr>\n",
       "    <tr>\n",
       "      <th>299</th>\n",
       "      <td>1230306981</td>\n",
       "      <td>5</td>\n",
       "    </tr>\n",
       "    <tr>\n",
       "      <th>897</th>\n",
       "      <td>3717692402</td>\n",
       "      <td>5</td>\n",
       "    </tr>\n",
       "  </tbody>\n",
       "</table>\n",
       "</div>"
      ],
      "text/plain": [
       "       visitorId  orders\n",
       "1023  4256040402      11\n",
       "591   2458001652      11\n",
       "569   2378935119       9\n",
       "487   2038680547       8\n",
       "44     199603092       5\n",
       "744   3062433592       5\n",
       "55     237748145       5\n",
       "917   3803269165       5\n",
       "299   1230306981       5\n",
       "897   3717692402       5"
      ]
     },
     "execution_count": 29,
     "metadata": {},
     "output_type": "execute_result"
    }
   ],
   "source": [
    "# Метод .groupby('...', as_index=False) сгруппирует заказы по пользователям\n",
    "# Метод .agg({'...' : '...',}) посчитает агрегированные метрики на сгруппированных данных\n",
    "# Метод pd.Series.nunique подсчитает число уникальных заказов\n",
    "\n",
    "ordersByUsers = (\n",
    "    orders.groupby('visitorId', as_index=False)\n",
    "    .agg( \n",
    "        {\n",
    "            'transactionId': pd.Series.nunique  \n",
    "        }\n",
    "    )\n",
    ")\n",
    "ordersByUsers.columns = ['visitorId', 'orders']\n",
    "\n",
    "\n",
    "# Метод .sort_values(by='...',ascending=False) отсортирует датафрейм по значению в столбце\n",
    "ordersByUsers.sort_values(by='orders', ascending=False).head(10)\n",
    "\n"
   ]
  },
  {
   "cell_type": "code",
   "execution_count": 30,
   "metadata": {},
   "outputs": [
    {
     "data": {
      "image/png": "[encoded data removed]",
      "text/plain": [
       "<Figure size 432x288 with 1 Axes>"
      ]
     },
     "metadata": {
      "needs_background": "light"
     },
     "output_type": "display_data"
    }
   ],
   "source": [
    "# серия из чисел от 0 до количества наблюдений в ordersByUsers\n",
    "x_values = pd.Series(range(0, len(ordersByUsers)))\n",
    "\n",
    "plt.scatter(x_values, ordersByUsers['orders'])\n",
    "plt.title('График количества заказов по пользователям')\n",
    "\n",
    "plt.show()"
   ]
  },
  {
   "cell_type": "markdown",
   "metadata": {},
   "source": [
    "Пользователи в основном заказывали до двух раз. Посчитаем 95 и 99 перцентили"
   ]
  },
  {
   "cell_type": "code",
   "execution_count": 31,
   "metadata": {},
   "outputs": [
    {
     "data": {
      "text/plain": [
       "array([2., 4.])"
      ]
     },
     "execution_count": 31,
     "metadata": {},
     "output_type": "execute_result"
    }
   ],
   "source": [
    "# Метод np.percentile('column', [percentile1, percentile2]) находит перцентили.\n",
    "\n",
    "np.percentile(ordersByUsers['orders'], [95, 99])"
   ]
  },
  {
   "cell_type": "markdown",
   "metadata": {},
   "source": [
    "95% пользователей осуществили не более двух заказов, 99% - не более четырех. "
   ]
  },
  {
   "cell_type": "markdown",
   "metadata": {},
   "source": [
    "###  График стоимостей заказов. Определение аномальных заказов. "
   ]
  },
  {
   "cell_type": "markdown",
   "metadata": {},
   "source": [
    "Проверим распределение выручек"
   ]
  },
  {
   "cell_type": "code",
   "execution_count": 32,
   "metadata": {},
   "outputs": [
    {
     "data": {
      "image/png": "[encoded data removed]",
      "text/plain": [
       "<Figure size 432x288 with 1 Axes>"
      ]
     },
     "metadata": {
      "needs_background": "light"
     },
     "output_type": "display_data"
    }
   ],
   "source": [
    "# серия из чисел от 0 до количества заказов\n",
    "\n",
    "x_values = pd.Series(range(0, len(orders['revenue'])))\n",
    "\n",
    "plt.scatter(x_values, orders['revenue']) \n",
    "plt.title('График стоимостей заказов')\n",
    "\n",
    "plt.show()"
   ]
  },
  {
   "cell_type": "markdown",
   "metadata": {},
   "source": [
    "Стоимость заказов обычно не превышает 100000, но есть и аномальные заказы превышающие 1200000"
   ]
  },
  {
   "cell_type": "code",
   "execution_count": 33,
   "metadata": {},
   "outputs": [
    {
     "data": {
      "text/plain": [
       "array([28000. , 58233.2])"
      ]
     },
     "execution_count": 33,
     "metadata": {},
     "output_type": "execute_result"
    }
   ],
   "source": [
    "# Метод np.percentile('column', [percentile1, percentile2]) находит перцентили.\n",
    "\n",
    "np.percentile(orders['revenue'], [95, 99])"
   ]
  },
  {
   "cell_type": "markdown",
   "metadata": {},
   "source": [
    "95% пользователей совершили покупки до 28000, а 99% до 58233. Остальные заказы можно считать аномально дорогими. Посчитаем статистическую значимость различий в конверсии и среднем чеке между группами по «сырым» данным — без удаления аномальных пользователей. Затем сравним как изменились показатели без учета аномальных заказов"
   ]
  },
  {
   "cell_type": "markdown",
   "metadata": {},
   "source": [
    "### Статистическая значимость различий в конверсии между группами по «сырым» данным"
   ]
  },
  {
   "cell_type": "code",
   "execution_count": 34,
   "metadata": {},
   "outputs": [],
   "source": [
    "orders = orders.rename(columns={\"visitorId\": \"userId\", \"transactionId\": \"orderId\"})\n",
    "alpha = 0.05"
   ]
  },
  {
   "cell_type": "code",
   "execution_count": 35,
   "metadata": {},
   "outputs": [
    {
     "name": "stdout",
     "output_type": "stream",
     "text": [
      "        date  ordersPerDateA  revenuePerDateA  ordersPerDateB  \\\n",
      "0 2019-08-01              24           148579              21   \n",
      "1 2019-08-02              20            93822              24   \n",
      "2 2019-08-03              24           112473              16   \n",
      "3 2019-08-04              16            70825              17   \n",
      "4 2019-08-05              25           124218              23   \n",
      "\n",
      "   revenuePerDateB  ordersCummulativeA  revenueCummulativeA  \\\n",
      "0           101217                  24               148579   \n",
      "1           165531                  44               242401   \n",
      "2           114248                  68               354874   \n",
      "3           108571                  84               425699   \n",
      "4            92428                 109               549917   \n",
      "\n",
      "   ordersCummulativeB  revenueCummulativeB  visitorsPerDateA  \\\n",
      "0                  21               101217               719   \n",
      "1                  45               266748               619   \n",
      "2                  61               380996               507   \n",
      "3                  78               489567               717   \n",
      "4                 101               581995               756   \n",
      "\n",
      "   visitorsPerDateB  visitorsCummulativeA  visitorsCummulativeB  \n",
      "0               713                   719                   713  \n",
      "1               581                  1338                  1294  \n",
      "2               509                  1845                  1803  \n",
      "3               770                  2562                  2573  \n",
      "4               707                  3318                  3280  \n"
     ]
    }
   ],
   "source": [
    "visitorsADaily = visitors[visitors['group'] == 'A'][['date', 'visitors']]\n",
    "visitorsADaily.columns = ['date', 'visitorsPerDateA']\n",
    "\n",
    "visitorsACummulative = visitorsADaily.apply(\n",
    "    lambda x: visitorsADaily[visitorsADaily['date'] <= x['date']].agg(\n",
    "        {'date': 'max', 'visitorsPerDateA': 'sum'}\n",
    "    ),\n",
    "    axis=1,\n",
    ")\n",
    "visitorsACummulative.columns = ['date', 'visitorsCummulativeA']\n",
    "\n",
    "visitorsBDaily = visitors[visitors['group'] == 'B'][['date', 'visitors']]\n",
    "visitorsBDaily.columns = ['date', 'visitorsPerDateB']\n",
    "\n",
    "visitorsBCummulative = visitorsBDaily.apply(\n",
    "    lambda x: visitorsBDaily[visitorsBDaily['date'] <= x['date']].agg(\n",
    "        {'date': 'max', 'visitorsPerDateB': 'sum'}\n",
    "    ),\n",
    "    axis=1,\n",
    ")\n",
    "visitorsBCummulative.columns = ['date', 'visitorsCummulativeB']\n",
    "\n",
    "ordersADaily = (\n",
    "    orders[orders['group'] == 'A'][['date', 'orderId', 'userId', 'revenue']]\n",
    "    .groupby('date', as_index=False)\n",
    "    .agg({'orderId': pd.Series.nunique, 'revenue': 'sum'})\n",
    ")\n",
    "ordersADaily.columns = ['date', 'ordersPerDateA', 'revenuePerDateA']\n",
    "\n",
    "ordersACummulative = ordersADaily.apply(\n",
    "    lambda x: ordersADaily[ordersADaily['date'] <= x['date']].agg(\n",
    "        {'date': 'max', 'ordersPerDateA': 'sum', 'revenuePerDateA': 'sum'}\n",
    "    ),\n",
    "    axis=1,\n",
    ").sort_values(by=['date'])\n",
    "ordersACummulative.columns = [\n",
    "    'date',\n",
    "    'ordersCummulativeA',\n",
    "    'revenueCummulativeA',\n",
    "]\n",
    "\n",
    "ordersBDaily = (\n",
    "    orders[orders['group'] == 'B'][['date', 'orderId', 'userId', 'revenue']]\n",
    "    .groupby('date', as_index=False)\n",
    "    .agg({'orderId': pd.Series.nunique, 'revenue': 'sum'})\n",
    ")\n",
    "ordersBDaily.columns = ['date', 'ordersPerDateB', 'revenuePerDateB']\n",
    "\n",
    "ordersBCummulative = ordersBDaily.apply(\n",
    "    lambda x: ordersBDaily[ordersBDaily['date'] <= x['date']].agg(\n",
    "        {'date': 'max', 'ordersPerDateB': 'sum', 'revenuePerDateB': 'sum'}\n",
    "    ),\n",
    "    axis=1,\n",
    ").sort_values(by=['date'])\n",
    "ordersBCummulative.columns = [\n",
    "    'date',\n",
    "    'ordersCummulativeB',\n",
    "    'revenueCummulativeB',\n",
    "]\n",
    "\n",
    "data = (\n",
    "    ordersADaily.merge(\n",
    "        ordersBDaily, left_on='date', right_on='date', how='left'\n",
    "    )\n",
    "    .merge(ordersACummulative, left_on='date', right_on='date', how='left')\n",
    "    .merge(ordersBCummulative, left_on='date', right_on='date', how='left')\n",
    "    .merge(visitorsADaily, left_on='date', right_on='date', how='left')\n",
    "    .merge(visitorsBDaily, left_on='date', right_on='date', how='left')\n",
    "    .merge(visitorsACummulative, left_on='date', right_on='date', how='left')\n",
    "    .merge(visitorsBCummulative, left_on='date', right_on='date', how='left')\n",
    ")\n",
    "\n",
    "print(data.head(5))\n"
   ]
  },
  {
   "cell_type": "markdown",
   "metadata": {},
   "source": [
    "- **date** — дата;\n",
    "- **ordersPerDateA** — количество заказов в выбранную дату в группе A;\n",
    "- **revenuePerDateA** — суммарная выручка в выбранную дату в группе A;\n",
    "- **ordersPerDateB** — количество заказов в выбранную дату в группе B;\n",
    "- **revenuePerDateB** — суммарная выручка в выбранную дату в группе B;\n",
    "- **ordersCummulativeA** — суммарное число заказов до выбранной даты включительно в группе A;\n",
    "- **revenueCummulativeA** — суммарная выручка до выбранной даты включительно в группе A;\n",
    "- **ordersCummulativeB** — суммарное количество заказов до выбранной даты включительно в группе B;\n",
    "- **revenueCummulativeB** — суммарная выручка до выбранной даты включительно в группе B;\n",
    "- **visitorsPerDateA** — количество пользователей в выбранную дату в группе A;\n",
    "- **visitorsPerDateB** — количество пользователей в выбранную дату в группе B;\n",
    "- **visitorsCummulativeA** — количество пользователей до выбранной даты включительно в группе A;\n",
    "- **visitorsCummulativeB** — количество пользователей до выбранной даты включительно в группе B.\n",
    "\n",
    "Посчитаем статистическую значимость различия в конверсии между группами."
   ]
  },
  {
   "cell_type": "code",
   "execution_count": 36,
   "metadata": {},
   "outputs": [],
   "source": [
    "#Создадим переменные ordersByUsersA и ordersByUsersB со столбцами ['userId', 'orders']. \n",
    "#В них для пользователей, которые заказывали хотя бы 1 раз, укажем число совершённых заказов.\n",
    "\n",
    "ordersByUsersA = (\n",
    "    orders[orders['group'] == 'A']\n",
    "    .groupby('userId', as_index=False)\n",
    "    .agg({'orderId': pd.Series.nunique})\n",
    ")\n",
    "ordersByUsersA.columns = ['userId', 'orders']\n",
    "\n",
    "ordersByUsersB = (\n",
    "    orders[orders['group'] == 'B']\n",
    "    .groupby('userId', as_index=False)\n",
    "    .agg({'orderId': pd.Series.nunique})\n",
    ")\n",
    "ordersByUsersB.columns = ['userId', 'orders']\n",
    "\n",
    "#Объявим переменные sampleA и sampleB, в которых пользователям из разных групп будет соответствовать количество заказов. \n",
    "#Тем, кто ничего не заказал, будут соответствовать нули. \n",
    "\n",
    "\n",
    "#Переменная sampleA должна состоять из двух частей:\n",
    "#Список с количеством заказов для каждого из пользователей: ordersByUsersA['orders'].\n",
    "#Нули для пользователей, которые ничего не заказывали. Их количество равно разнице между суммой посетителей и \n",
    "#количеством записей о заказах: data['visitorsPerDateA'].sum() - len(ordersByUsersA['orders'])\n",
    "\n",
    "sampleA = pd.concat(\n",
    "    [\n",
    "        ordersByUsersA['orders'], \n",
    "         #Создадим объект pd.Series нужной длины:\n",
    "        pd.Series(\n",
    "            0,\n",
    "            index=np.arange(\n",
    "                #Список индексов создали функцией np.arange(). Она работает так же, как функция range(), \n",
    "                #только создаёт массив индексов в формате np.array, который требуется в pd.Series\n",
    "                data['visitorsPerDateA'].sum() - len(ordersByUsersA['orders'])\n",
    "            ),\n",
    "            name='orders',\n",
    "        ),\n",
    "    ],\n",
    "    #передадим аргумент, сообщающий, что объекты Series нужно объединить \n",
    "    # по строкам (то есть записать подряд) pd.concat([...], axis=0)\n",
    "    axis=0,\n",
    ")\n",
    "\n",
    "# то же самое сделаем для группы В\n",
    "sampleB = pd.concat(\n",
    "    [\n",
    "        ordersByUsersB['orders'],\n",
    "        pd.Series(\n",
    "            0,\n",
    "            index=np.arange(\n",
    "                data['visitorsPerDateB'].sum() - len(ordersByUsersB['orders'])\n",
    "            ),\n",
    "            name='orders',\n",
    "        ),\n",
    "    ],\n",
    "    axis=0,\n",
    ")\n"
   ]
  },
  {
   "cell_type": "markdown",
   "metadata": {},
   "source": [
    "Применим критерий и отформатируем **p-value**, округлив его до четырех знаков после запятой.\n",
    "\n",
    "В **sampleA** сохранили выборку, где каждый элемент — число заказов определённого пользователя, в том числе ноль. Значит, число элементов **sampleA** — это количество пользователей, сумма всех элементов — количество заказов. Чтобы получить конверсию в группе, поделим сумму заказов на число пользователей — найдём среднее в выборке **sampleA** методом `mean()`. Аналогично найдём конверсию группы B: `SampleB.mean()`.\n",
    "\n",
    "Выведем относительный прирост конверсии группы B: конверсия группы B / конверсия группы A - 1. "
   ]
  },
  {
   "cell_type": "markdown",
   "metadata": {},
   "source": [
    "Н0 - Статистически значимых различий в конверсии можду группами нет\n",
    "\n",
    "Н1 - В конверсии групп А и В есть статистически значимые различия"
   ]
  },
  {
   "cell_type": "code",
   "execution_count": 37,
   "metadata": {},
   "outputs": [
    {
     "name": "stdout",
     "output_type": "stream",
     "text": [
      "P-value: 0.0168\n",
      "Отвергаем нулевую гипотезу\n",
      "Относительный прирост конверсии группы В к конверсии группы А: 13.8%\n"
     ]
    }
   ],
   "source": [
    "ordersByUsersA = (\n",
    "    orders[orders['group'] == 'A']\n",
    "    .groupby('userId', as_index=False)\n",
    "    .agg({'orderId': pd.Series.nunique})\n",
    ")\n",
    "ordersByUsersA.columns = ['userId', 'orders']\n",
    "\n",
    "ordersByUsersB = (\n",
    "    orders[orders['group'] == 'B']\n",
    "    .groupby('userId', as_index=False)\n",
    "    .agg({'orderId': pd.Series.nunique})\n",
    ")\n",
    "ordersByUsersB.columns = ['userId', 'orders']\n",
    "\n",
    "sampleA = pd.concat(\n",
    "    [\n",
    "        ordersByUsersA['orders'],\n",
    "        pd.Series(\n",
    "            0,\n",
    "            index=np.arange(\n",
    "                data['visitorsPerDateA'].sum() - len(ordersByUsersA['orders'])\n",
    "            ),\n",
    "            name='orders',\n",
    "        ),\n",
    "    ],\n",
    "    axis=0,\n",
    ")\n",
    "\n",
    "sampleB = pd.concat(\n",
    "    [\n",
    "        ordersByUsersB['orders'],\n",
    "        pd.Series(\n",
    "            0,\n",
    "            index=np.arange(\n",
    "                data['visitorsPerDateB'].sum() - len(ordersByUsersB['orders'])\n",
    "            ),\n",
    "            name='orders',\n",
    "        ),\n",
    "    ],\n",
    "    axis=0,\n",
    ")\n",
    "print(\"P-value: {0:.4f}\".format(stats.mannwhitneyu(sampleA, sampleB)[1]))\n",
    "\n",
    "if stats.mannwhitneyu(sampleA, sampleB)[1] < alpha:\n",
    "    print(\"Отвергаем нулевую гипотезу\")\n",
    "else: print(\"Не отвергаем нулевую гипотезу\") \n",
    "\n",
    "print(\"Относительный прирост конверсии группы В к конверсии группы А: {0:.1%}\".format(sampleB.mean() / sampleA.mean() - 1))"
   ]
  },
  {
   "cell_type": "markdown",
   "metadata": {},
   "source": [
    "Анализ \"сырых данных\" показал, что в конверсии между группами есть статистически значимые различия, а относительный прирост конверсии группы В к конверсии группы А составил 13,8%. \n",
    "\n",
    "Сравним средний чек по \"сырым данным\""
   ]
  },
  {
   "cell_type": "markdown",
   "metadata": {},
   "source": [
    "### Статистическая значимость различий в среднем чеке заказа между группами по «сырым» данным"
   ]
  },
  {
   "cell_type": "markdown",
   "metadata": {},
   "source": [
    "Чтобы рассчитать статистическую значимость различий в среднем чеке между сегментами, передадим критерию mannwhitneyu() данные о выручке с заказов."
   ]
  },
  {
   "cell_type": "markdown",
   "metadata": {},
   "source": [
    "Н0 - Статистически значимых различий в среднем чеке между группами нет\n",
    "\n",
    "Н1 - В среднем чеке групп А и В есть статистически значимые различия"
   ]
  },
  {
   "cell_type": "code",
   "execution_count": 38,
   "metadata": {},
   "outputs": [
    {
     "name": "stdout",
     "output_type": "stream",
     "text": [
      "P-value: 0.729\n",
      "Не отвергаем нулевую гипотезу\n",
      "Относительное различие среднего чека между сегментами: 25.9%\n"
     ]
    }
   ],
   "source": [
    "print('P-value: {0:.3f}'.format(stats.mannwhitneyu(orders[orders['group']=='A']['revenue'], orders[orders['group']=='B']['revenue'])[1]))\n",
    "\n",
    "if stats.mannwhitneyu(orders[orders['group']=='A']['revenue'], orders[orders['group']=='B']['revenue'])[1] < alpha:\n",
    "    print(\"Отвергаем нулевую гипотезу\")\n",
    "else: print(\"Не отвергаем нулевую гипотезу\") \n",
    "\n",
    "print('Относительное различие среднего чека между сегментами: {0:.1%}'.format(orders[orders['group']=='B']['revenue'].mean()/orders[orders['group']=='A']['revenue'].mean()-1))"
   ]
  },
  {
   "cell_type": "markdown",
   "metadata": {},
   "source": [
    "P-value значительно больше 0.05. Значит, причин отвергать нулевую гипотезу и считать, что в среднем чеке есть различия, нет. Cредний чек группы B значительно выше среднего чека группы A, что может быть вызвано выбросами.\n",
    "\n",
    "Проведем анализ данных, очищенных от аномальных значений"
   ]
  },
  {
   "cell_type": "markdown",
   "metadata": {},
   "source": [
    "###  Статистическая значимость различий в конверсии между группами по «очищенным» данным"
   ]
  },
  {
   "cell_type": "markdown",
   "metadata": {},
   "source": [
    "Примем за аномальных пользователей тех, кто совершил от 3 заказов или совершил заказ дороже 30 000 рублей. Так мы уберём 5% пользователей с наибольшим числом заказов и от 1% до 5% пользователей с дорогими заказами. Сделаем срезы пользователей с числом заказов больше 2 — **usersWithManyOrders** и пользователей, совершивших заказы дороже 30 000 — **usersWithExpensiveOrders**. Объединим их в таблице **abnormalUsers**.\n",
    "Узнаем, сколько всего аномальных пользователей методом `shape()`."
   ]
  },
  {
   "cell_type": "code",
   "execution_count": 39,
   "metadata": {},
   "outputs": [
    {
     "name": "stdout",
     "output_type": "stream",
     "text": [
      "1099    148427295\n",
      "18      199603092\n",
      "928     204675465\n",
      "23      237748145\n",
      "37      249864742\n",
      "Name: userId, dtype: int64\n",
      "(68,)\n"
     ]
    }
   ],
   "source": [
    "usersWithManyOrders = pd.concat(\n",
    "    [\n",
    "        ordersByUsersA[ordersByUsersA['orders'] > 2]['userId'],\n",
    "        ordersByUsersB[ordersByUsersB['orders'] > 2]['userId'],\n",
    "    ],\n",
    "    axis=0,\n",
    ")\n",
    "usersWithExpensiveOrders = orders[orders['revenue'] > 30000]['userId']\n",
    "abnormalUsers = (\n",
    "    pd.concat([usersWithManyOrders, usersWithExpensiveOrders], axis=0)\n",
    "    .drop_duplicates()\n",
    "    .sort_values()\n",
    ")\n",
    "print(abnormalUsers.head(5))\n",
    "print(abnormalUsers.shape)"
   ]
  },
  {
   "cell_type": "markdown",
   "metadata": {},
   "source": [
    "Всего 68 аномальных пользователей.\n",
    "Узнаем, как их действия повлияли на результаты теста. Посчитаем статистическую значимость различий в конверсии между группами теста по очищенным данным. Сначала подготовим выборки количества заказов по пользователям по группам теста"
   ]
  },
  {
   "cell_type": "markdown",
   "metadata": {},
   "source": [
    "Н0 - Статистически значимых различий в конверсии можду группами нет\n",
    "\n",
    "Н1 - В конверсии групп А и В есть статистически значимые различия"
   ]
  },
  {
   "cell_type": "code",
   "execution_count": 40,
   "metadata": {},
   "outputs": [
    {
     "name": "stdout",
     "output_type": "stream",
     "text": [
      "Отвергаем нулевую гипотезу\n",
      "P-value: 0.013\n",
      "Относительный прирост конверсии группы В к конверсии группы А: 17.2%\n"
     ]
    }
   ],
   "source": [
    "sampleAFiltered = pd.concat(\n",
    "    [\n",
    "        ordersByUsersA[\n",
    "            np.logical_not(ordersByUsersA['userId'].isin(abnormalUsers))\n",
    "        ]['orders'],\n",
    "        pd.Series(\n",
    "            0,\n",
    "            index=np.arange(\n",
    "                data['visitorsPerDateA'].sum() - len(ordersByUsersA['orders'])\n",
    "            ),\n",
    "            name='orders',\n",
    "        ),\n",
    "    ],\n",
    "    axis=0,\n",
    ")\n",
    "\n",
    "sampleBFiltered = pd.concat(\n",
    "    [\n",
    "        ordersByUsersB[\n",
    "            np.logical_not(ordersByUsersB['userId'].isin(abnormalUsers))\n",
    "        ]['orders'],\n",
    "        pd.Series(\n",
    "            0,\n",
    "            index=np.arange(\n",
    "                data['visitorsPerDateB'].sum() - len(ordersByUsersB['orders'])\n",
    "            ),\n",
    "            name='orders',\n",
    "        ),\n",
    "    ],\n",
    "    axis=0,\n",
    ")  \n",
    "\n",
    "#Применим статистический критерий Манна-Уитни к полученным выборкам:\n",
    "\n",
    "if stats.mannwhitneyu(sampleAFiltered, sampleBFiltered)[1] < alpha:\n",
    "    print(\"Отвергаем нулевую гипотезу\")\n",
    "else: print(\"Не отвергаем нулевую гипотезу\") \n",
    "    \n",
    "print('P-value: {0:.3f}'.format(stats.mannwhitneyu(sampleAFiltered, sampleBFiltered)[1]))\n",
    "print(\"Относительный прирост конверсии группы В к конверсии группы А: {0:.1%}\".format(sampleBFiltered.mean()/sampleAFiltered.mean()-1))"
   ]
  },
  {
   "cell_type": "markdown",
   "metadata": {},
   "source": [
    "В конверсии между группами есть статистически значимые различия, а относительный прирост конверсии группы В к конверсии группы А увеличился до 17,2%. Сравним результаты по среднему чеку"
   ]
  },
  {
   "cell_type": "markdown",
   "metadata": {},
   "source": [
    "### Статистическая значимость различий в среднем чеке заказа между группами по «очищенным» данным"
   ]
  },
  {
   "cell_type": "markdown",
   "metadata": {},
   "source": [
    "Н0 - Статистически значимых различий в среднем чеке между группами нет\n",
    "\n",
    "Н1 - В среднем чеке групп А и В есть статистически значимые различия"
   ]
  },
  {
   "cell_type": "code",
   "execution_count": 41,
   "metadata": {},
   "outputs": [
    {
     "name": "stdout",
     "output_type": "stream",
     "text": [
      "P-value: 0.720\n",
      "Относительный прирост конверсии группы В к конверсии группы А: -2.3%\n"
     ]
    }
   ],
   "source": [
    "print(\n",
    "    'P-value: {0:.3f}'.format(\n",
    "        stats.mannwhitneyu(\n",
    "            orders[\n",
    "                np.logical_and(\n",
    "                    orders['group'] == 'A',\n",
    "                    np.logical_not(orders['userId'].isin(abnormalUsers)),\n",
    "                )\n",
    "            ]['revenue'],\n",
    "            orders[\n",
    "                np.logical_and(\n",
    "                    orders['group'] == 'B',\n",
    "                    np.logical_not(orders['userId'].isin(abnormalUsers)),\n",
    "                )\n",
    "            ]['revenue'],\n",
    "        )[1]\n",
    "    )\n",
    ")\n",
    "\n",
    "print(\n",
    "    \"Относительный прирост конверсии группы В к конверсии группы А: {0:.1%}\".format(\n",
    "        orders[\n",
    "            np.logical_and(\n",
    "                orders['group'] == 'B',\n",
    "                np.logical_not(orders['userId'].isin(abnormalUsers)),\n",
    "            )\n",
    "        ]['revenue'].mean()\n",
    "        / orders[\n",
    "            np.logical_and(\n",
    "                orders['group'] == 'A',\n",
    "                np.logical_not(orders['userId'].isin(abnormalUsers)),\n",
    "            )\n",
    "        ]['revenue'].mean()\n",
    "        - 1\n",
    "    )\n",
    ")"
   ]
  },
  {
   "cell_type": "markdown",
   "metadata": {},
   "source": [
    "Не отвергаем нулевую гипотезу. Значение p-value практически не изменилось, а относительный прирост конверсии, наоборот, показал противоположный результат"
   ]
  },
  {
   "cell_type": "markdown",
   "metadata": {},
   "source": [
    "### Вывод"
   ]
  },
  {
   "cell_type": "markdown",
   "metadata": {},
   "source": [
    "По результатам проведенного анализа, следует  остановить тест и признать его неуспешным. По данным, очищенным от аномальных значений, пользователи из группы В стали покупать чаще, но это не повлияло на средний чек, значит выручка с одной покупки уменьшилась. Нет оснований полагать, что тестируемые изменения увеличат выручку магазина"
   ]
  }
 ],
 "metadata": {
  "ExecuteTimeLog": [
   {
    "duration": 415,
    "start_time": "2022-02-13T06:49:39.663Z"
   },
   {
    "duration": 1023,
    "start_time": "2022-02-13T06:49:43.530Z"
   },
   {
    "duration": 77,
    "start_time": "2022-02-13T06:49:44.559Z"
   },
   {
    "duration": 25,
    "start_time": "2022-02-13T06:49:50.672Z"
   },
   {
    "duration": 67,
    "start_time": "2022-02-13T06:51:44.806Z"
   },
   {
    "duration": 52,
    "start_time": "2022-02-13T06:51:49.672Z"
   },
   {
    "duration": 70,
    "start_time": "2022-02-13T06:52:09.230Z"
   },
   {
    "duration": 6,
    "start_time": "2022-02-13T06:53:20.539Z"
   },
   {
    "duration": 126,
    "start_time": "2022-02-13T06:54:04.474Z"
   },
   {
    "duration": 26,
    "start_time": "2022-02-13T06:54:18.083Z"
   },
   {
    "duration": 57,
    "start_time": "2022-02-13T06:55:10.483Z"
   },
   {
    "duration": 51,
    "start_time": "2022-02-13T06:55:32.344Z"
   },
   {
    "duration": 28,
    "start_time": "2022-02-13T06:55:39.500Z"
   },
   {
    "duration": 4,
    "start_time": "2022-02-13T07:13:12.963Z"
   },
   {
    "duration": 16,
    "start_time": "2022-02-13T07:13:17.875Z"
   },
   {
    "duration": 5,
    "start_time": "2022-02-13T07:13:23.945Z"
   },
   {
    "duration": 21,
    "start_time": "2022-02-13T07:22:11.803Z"
   },
   {
    "duration": 15,
    "start_time": "2022-02-13T07:22:49.333Z"
   },
   {
    "duration": 17,
    "start_time": "2022-02-13T07:26:13.454Z"
   },
   {
    "duration": 14,
    "start_time": "2022-02-13T07:27:05.004Z"
   },
   {
    "duration": 411,
    "start_time": "2022-02-13T07:57:46.852Z"
   },
   {
    "duration": 368,
    "start_time": "2022-02-13T07:57:58.696Z"
   },
   {
    "duration": 9,
    "start_time": "2022-02-13T07:58:13.110Z"
   },
   {
    "duration": 19,
    "start_time": "2022-02-13T07:58:25.911Z"
   },
   {
    "duration": 6,
    "start_time": "2022-02-13T07:59:10.424Z"
   },
   {
    "duration": 6,
    "start_time": "2022-02-13T07:59:12.432Z"
   },
   {
    "duration": 20,
    "start_time": "2022-02-13T07:59:28.599Z"
   },
   {
    "duration": 8,
    "start_time": "2022-02-13T07:59:35.789Z"
   },
   {
    "duration": 625,
    "start_time": "2022-02-13T08:00:50.202Z"
   },
   {
    "duration": 665,
    "start_time": "2022-02-13T08:02:46.652Z"
   },
   {
    "duration": 4,
    "start_time": "2022-02-13T08:03:16.782Z"
   },
   {
    "duration": 1977,
    "start_time": "2022-02-13T08:03:22.134Z"
   },
   {
    "duration": 8,
    "start_time": "2022-02-13T08:03:50.667Z"
   },
   {
    "duration": 24,
    "start_time": "2022-02-13T08:03:57.939Z"
   },
   {
    "duration": 327,
    "start_time": "2022-02-13T08:04:19.228Z"
   },
   {
    "duration": 439,
    "start_time": "2022-02-13T08:05:01.105Z"
   },
   {
    "duration": 1896,
    "start_time": "2022-02-13T08:05:16.402Z"
   },
   {
    "duration": 6,
    "start_time": "2022-02-13T08:06:12.739Z"
   },
   {
    "duration": 333,
    "start_time": "2022-02-13T08:06:17.106Z"
   },
   {
    "duration": 21,
    "start_time": "2022-02-13T08:06:39.410Z"
   },
   {
    "duration": 315,
    "start_time": "2022-02-13T08:06:56.975Z"
   },
   {
    "duration": 285,
    "start_time": "2022-02-13T08:07:02.180Z"
   },
   {
    "duration": 24,
    "start_time": "2022-02-13T08:07:10.432Z"
   },
   {
    "duration": 31,
    "start_time": "2022-02-13T08:07:16.558Z"
   },
   {
    "duration": 18,
    "start_time": "2022-02-13T08:07:27.009Z"
   },
   {
    "duration": 15,
    "start_time": "2022-02-13T08:07:30.626Z"
   },
   {
    "duration": 334,
    "start_time": "2022-02-13T09:26:37.072Z"
   },
   {
    "duration": 320,
    "start_time": "2022-02-13T09:26:43.690Z"
   },
   {
    "duration": 114,
    "start_time": "2022-02-13T09:26:51.978Z"
   },
   {
    "duration": 315,
    "start_time": "2022-02-13T09:26:56.078Z"
   },
   {
    "duration": 130,
    "start_time": "2022-02-13T09:27:55.114Z"
   },
   {
    "duration": 324,
    "start_time": "2022-02-13T09:28:56.028Z"
   },
   {
    "duration": 20,
    "start_time": "2022-02-13T09:29:48.282Z"
   },
   {
    "duration": 348,
    "start_time": "2022-02-13T09:31:40.715Z"
   },
   {
    "duration": 112,
    "start_time": "2022-02-13T09:32:44.252Z"
   },
   {
    "duration": 8,
    "start_time": "2022-02-13T09:33:57.439Z"
   },
   {
    "duration": 15,
    "start_time": "2022-02-13T09:34:03.286Z"
   },
   {
    "duration": 18,
    "start_time": "2022-02-13T09:34:11.216Z"
   },
   {
    "duration": 20,
    "start_time": "2022-02-13T09:34:46.515Z"
   },
   {
    "duration": 15,
    "start_time": "2022-02-13T09:34:52.547Z"
   },
   {
    "duration": 333,
    "start_time": "2022-02-13T09:35:02.529Z"
   },
   {
    "duration": 4779,
    "start_time": "2022-02-13T09:35:31.568Z"
   },
   {
    "duration": -275,
    "start_time": "2022-02-13T09:35:36.624Z"
   },
   {
    "duration": 299,
    "start_time": "2022-02-13T09:35:39.386Z"
   },
   {
    "duration": 330,
    "start_time": "2022-02-13T09:35:51.693Z"
   },
   {
    "duration": 296,
    "start_time": "2022-02-13T09:37:36.985Z"
   },
   {
    "duration": 465,
    "start_time": "2022-02-13T09:37:48.177Z"
   },
   {
    "duration": 407,
    "start_time": "2022-02-13T09:38:53.430Z"
   },
   {
    "duration": 406,
    "start_time": "2022-02-13T09:39:01.137Z"
   },
   {
    "duration": 377,
    "start_time": "2022-02-13T09:41:40.052Z"
   },
   {
    "duration": 393,
    "start_time": "2022-02-13T09:41:48.968Z"
   },
   {
    "duration": 12,
    "start_time": "2022-02-13T09:41:59.106Z"
   },
   {
    "duration": 692,
    "start_time": "2022-02-13T10:22:53.988Z"
   },
   {
    "duration": 324,
    "start_time": "2022-02-13T10:23:26.452Z"
   },
   {
    "duration": 664,
    "start_time": "2022-02-13T10:26:02.522Z"
   },
   {
    "duration": 336,
    "start_time": "2022-02-13T10:26:15.114Z"
   },
   {
    "duration": 660,
    "start_time": "2022-02-13T10:27:33.184Z"
   },
   {
    "duration": 360,
    "start_time": "2022-02-13T10:27:58.418Z"
   },
   {
    "duration": 364,
    "start_time": "2022-02-13T10:28:10.768Z"
   },
   {
    "duration": 450,
    "start_time": "2022-02-13T10:28:18.943Z"
   },
   {
    "duration": 4,
    "start_time": "2022-02-13T10:28:25.331Z"
   },
   {
    "duration": 359,
    "start_time": "2022-02-13T10:28:30.474Z"
   },
   {
    "duration": 331,
    "start_time": "2022-02-13T10:29:24.879Z"
   },
   {
    "duration": 487,
    "start_time": "2022-02-13T10:34:15.818Z"
   },
   {
    "duration": 454,
    "start_time": "2022-02-13T10:34:27.800Z"
   },
   {
    "duration": 4,
    "start_time": "2022-02-13T10:39:13.822Z"
   },
   {
    "duration": 28,
    "start_time": "2022-02-13T10:39:13.829Z"
   },
   {
    "duration": 4,
    "start_time": "2022-02-13T10:39:13.860Z"
   },
   {
    "duration": 16,
    "start_time": "2022-02-13T10:39:13.866Z"
   },
   {
    "duration": 15,
    "start_time": "2022-02-13T10:39:13.884Z"
   },
   {
    "duration": 12,
    "start_time": "2022-02-13T10:39:13.901Z"
   },
   {
    "duration": 53,
    "start_time": "2022-02-13T10:39:13.960Z"
   },
   {
    "duration": 6,
    "start_time": "2022-02-13T10:39:14.017Z"
   },
   {
    "duration": 6,
    "start_time": "2022-02-13T10:39:14.026Z"
   },
   {
    "duration": 29,
    "start_time": "2022-02-13T10:39:14.034Z"
   },
   {
    "duration": 6,
    "start_time": "2022-02-13T10:39:14.065Z"
   },
   {
    "duration": 14,
    "start_time": "2022-02-13T10:39:14.073Z"
   },
   {
    "duration": 360,
    "start_time": "2022-02-13T10:39:14.090Z"
   },
   {
    "duration": 294,
    "start_time": "2022-02-13T10:39:14.453Z"
   },
   {
    "duration": 27,
    "start_time": "2022-02-13T10:39:14.749Z"
   },
   {
    "duration": 13,
    "start_time": "2022-02-13T10:39:14.779Z"
   },
   {
    "duration": 15,
    "start_time": "2022-02-13T10:39:14.795Z"
   },
   {
    "duration": 358,
    "start_time": "2022-02-13T10:39:14.813Z"
   },
   {
    "duration": 309,
    "start_time": "2022-02-13T10:39:15.174Z"
   },
   {
    "duration": 377,
    "start_time": "2022-02-13T10:39:15.486Z"
   },
   {
    "duration": 12,
    "start_time": "2022-02-13T10:39:15.866Z"
   },
   {
    "duration": 302,
    "start_time": "2022-02-13T10:39:15.880Z"
   },
   {
    "duration": 463,
    "start_time": "2022-02-13T10:39:16.186Z"
   },
   {
    "duration": 341,
    "start_time": "2022-02-13T10:42:17.877Z"
   },
   {
    "duration": 122,
    "start_time": "2022-02-13T10:42:55.138Z"
   },
   {
    "duration": 656,
    "start_time": "2022-02-13T10:43:12.994Z"
   },
   {
    "duration": 109,
    "start_time": "2022-02-13T10:43:24.488Z"
   },
   {
    "duration": 284,
    "start_time": "2022-02-13T10:43:31.671Z"
   },
   {
    "duration": 368,
    "start_time": "2022-02-13T16:30:44.102Z"
   },
   {
    "duration": 1192,
    "start_time": "2022-02-13T16:30:50.484Z"
   },
   {
    "duration": 29,
    "start_time": "2022-02-13T16:30:51.680Z"
   },
   {
    "duration": 241,
    "start_time": "2022-02-13T16:30:51.712Z"
   },
   {
    "duration": 196,
    "start_time": "2022-02-13T16:30:51.957Z"
   },
   {
    "duration": 242,
    "start_time": "2022-02-13T16:30:52.156Z"
   },
   {
    "duration": 231,
    "start_time": "2022-02-13T16:30:52.401Z"
   },
   {
    "duration": 206,
    "start_time": "2022-02-13T16:30:52.635Z"
   },
   {
    "duration": 202,
    "start_time": "2022-02-13T16:30:52.845Z"
   },
   {
    "duration": 177,
    "start_time": "2022-02-13T16:30:53.050Z"
   },
   {
    "duration": 171,
    "start_time": "2022-02-13T16:30:53.231Z"
   },
   {
    "duration": 155,
    "start_time": "2022-02-13T16:30:53.405Z"
   },
   {
    "duration": 181,
    "start_time": "2022-02-13T16:30:53.563Z"
   },
   {
    "duration": 664,
    "start_time": "2022-02-13T16:30:53.747Z"
   },
   {
    "duration": 318,
    "start_time": "2022-02-13T16:30:54.413Z"
   },
   {
    "duration": 45,
    "start_time": "2022-02-13T16:30:54.736Z"
   },
   {
    "duration": 186,
    "start_time": "2022-02-13T16:30:54.783Z"
   },
   {
    "duration": 168,
    "start_time": "2022-02-13T16:30:54.971Z"
   },
   {
    "duration": 518,
    "start_time": "2022-02-13T16:30:55.142Z"
   },
   {
    "duration": 322,
    "start_time": "2022-02-13T16:31:06.407Z"
   },
   {
    "duration": 448,
    "start_time": "2022-02-13T16:31:14.725Z"
   },
   {
    "duration": 487,
    "start_time": "2022-02-13T16:31:24.694Z"
   },
   {
    "duration": 486,
    "start_time": "2022-02-13T16:31:32.849Z"
   },
   {
    "duration": 543,
    "start_time": "2022-02-13T16:32:42.055Z"
   },
   {
    "duration": 416,
    "start_time": "2022-02-13T16:32:56.391Z"
   },
   {
    "duration": 429,
    "start_time": "2022-02-13T16:33:01.723Z"
   },
   {
    "duration": 538,
    "start_time": "2022-02-13T16:33:08.823Z"
   },
   {
    "duration": 375,
    "start_time": "2022-02-13T16:33:37.139Z"
   },
   {
    "duration": 416,
    "start_time": "2022-02-13T16:34:13.935Z"
   },
   {
    "duration": 672,
    "start_time": "2022-02-13T16:35:03.763Z"
   },
   {
    "duration": 335,
    "start_time": "2022-02-13T16:35:07.424Z"
   },
   {
    "duration": 4112,
    "start_time": "2022-02-13T16:35:46.767Z"
   },
   {
    "duration": 308,
    "start_time": "2022-02-13T16:35:52.182Z"
   },
   {
    "duration": 4,
    "start_time": "2022-02-13T16:36:07.450Z"
   },
   {
    "duration": 387,
    "start_time": "2022-02-13T16:36:10.203Z"
   },
   {
    "duration": 31,
    "start_time": "2022-02-13T16:39:19.101Z"
   },
   {
    "duration": 7,
    "start_time": "2022-02-13T16:41:08.983Z"
   },
   {
    "duration": 5,
    "start_time": "2022-02-13T16:41:22.492Z"
   },
   {
    "duration": 372,
    "start_time": "2022-02-13T16:42:07.688Z"
   },
   {
    "duration": 547,
    "start_time": "2022-02-13T16:42:19.461Z"
   },
   {
    "duration": 366,
    "start_time": "2022-02-13T16:42:34.170Z"
   },
   {
    "duration": 508,
    "start_time": "2022-02-13T16:42:48.655Z"
   },
   {
    "duration": 235,
    "start_time": "2022-02-14T15:35:59.008Z"
   },
   {
    "duration": 621,
    "start_time": "2022-02-14T15:36:04.369Z"
   },
   {
    "duration": 21,
    "start_time": "2022-02-14T15:36:04.992Z"
   },
   {
    "duration": 6,
    "start_time": "2022-02-14T15:36:05.015Z"
   },
   {
    "duration": 13,
    "start_time": "2022-02-14T15:36:05.023Z"
   },
   {
    "duration": 11,
    "start_time": "2022-02-14T15:36:05.038Z"
   },
   {
    "duration": 12,
    "start_time": "2022-02-14T15:36:05.051Z"
   },
   {
    "duration": 47,
    "start_time": "2022-02-14T15:36:05.065Z"
   },
   {
    "duration": 6,
    "start_time": "2022-02-14T15:36:05.116Z"
   },
   {
    "duration": 6,
    "start_time": "2022-02-14T15:36:05.125Z"
   },
   {
    "duration": 20,
    "start_time": "2022-02-14T15:36:05.133Z"
   },
   {
    "duration": 4,
    "start_time": "2022-02-14T15:36:05.155Z"
   },
   {
    "duration": 12,
    "start_time": "2022-02-14T15:36:05.161Z"
   },
   {
    "duration": 243,
    "start_time": "2022-02-14T15:36:05.175Z"
   },
   {
    "duration": 164,
    "start_time": "2022-02-14T15:36:05.419Z"
   },
   {
    "duration": 12,
    "start_time": "2022-02-14T15:36:05.585Z"
   },
   {
    "duration": 14,
    "start_time": "2022-02-14T15:36:05.612Z"
   },
   {
    "duration": 8,
    "start_time": "2022-02-14T15:36:05.628Z"
   },
   {
    "duration": 250,
    "start_time": "2022-02-14T15:36:05.637Z"
   },
   {
    "duration": 225,
    "start_time": "2022-02-14T15:36:05.889Z"
   },
   {
    "duration": 359,
    "start_time": "2022-02-14T15:36:06.116Z"
   },
   {
    "duration": 8,
    "start_time": "2022-02-14T15:36:06.477Z"
   },
   {
    "duration": 295,
    "start_time": "2022-02-14T15:36:06.487Z"
   },
   {
    "duration": 215,
    "start_time": "2022-02-14T15:36:15.297Z"
   },
   {
    "duration": 520,
    "start_time": "2022-02-14T15:37:47.528Z"
   },
   {
    "duration": 215,
    "start_time": "2022-02-14T15:37:53.628Z"
   },
   {
    "duration": 211,
    "start_time": "2022-02-14T15:38:02.336Z"
   },
   {
    "duration": 307,
    "start_time": "2022-02-14T15:38:43.366Z"
   },
   {
    "duration": 308,
    "start_time": "2022-02-14T15:38:59.648Z"
   },
   {
    "duration": 339,
    "start_time": "2022-02-14T15:39:08.833Z"
   },
   {
    "duration": 333,
    "start_time": "2022-02-14T15:39:59.548Z"
   },
   {
    "duration": 348,
    "start_time": "2022-02-14T17:47:37.484Z"
   },
   {
    "duration": 982,
    "start_time": "2022-02-14T17:47:41.248Z"
   },
   {
    "duration": 35,
    "start_time": "2022-02-14T17:47:42.233Z"
   },
   {
    "duration": 5,
    "start_time": "2022-02-14T17:47:42.272Z"
   },
   {
    "duration": 27,
    "start_time": "2022-02-14T17:47:42.280Z"
   },
   {
    "duration": 46,
    "start_time": "2022-02-14T17:47:42.309Z"
   },
   {
    "duration": 21,
    "start_time": "2022-02-14T17:47:42.359Z"
   },
   {
    "duration": 49,
    "start_time": "2022-02-14T17:47:42.384Z"
   },
   {
    "duration": 7,
    "start_time": "2022-02-14T17:47:42.452Z"
   },
   {
    "duration": 11,
    "start_time": "2022-02-14T17:47:42.463Z"
   },
   {
    "duration": 32,
    "start_time": "2022-02-14T17:47:42.476Z"
   },
   {
    "duration": 11,
    "start_time": "2022-02-14T17:47:42.511Z"
   },
   {
    "duration": 37,
    "start_time": "2022-02-14T17:47:42.525Z"
   },
   {
    "duration": 354,
    "start_time": "2022-02-14T17:47:42.565Z"
   },
   {
    "duration": 300,
    "start_time": "2022-02-14T17:47:42.921Z"
   },
   {
    "duration": 32,
    "start_time": "2022-02-14T17:47:43.224Z"
   },
   {
    "duration": 20,
    "start_time": "2022-02-14T17:47:43.258Z"
   },
   {
    "duration": 29,
    "start_time": "2022-02-14T17:47:43.281Z"
   },
   {
    "duration": 412,
    "start_time": "2022-02-14T17:47:43.313Z"
   },
   {
    "duration": 377,
    "start_time": "2022-02-14T17:47:43.728Z"
   },
   {
    "duration": 525,
    "start_time": "2022-02-14T17:47:44.107Z"
   },
   {
    "duration": 16,
    "start_time": "2022-02-14T17:47:44.635Z"
   },
   {
    "duration": 404,
    "start_time": "2022-02-14T17:47:44.653Z"
   },
   {
    "duration": 470,
    "start_time": "2022-02-14T17:47:45.062Z"
   },
   {
    "duration": 668,
    "start_time": "2022-02-14T17:48:08.998Z"
   },
   {
    "duration": 481,
    "start_time": "2022-02-14T17:48:52.555Z"
   },
   {
    "duration": 480,
    "start_time": "2022-02-14T17:49:12.656Z"
   },
   {
    "duration": 237,
    "start_time": "2022-02-14T17:55:40.239Z"
   },
   {
    "duration": 183,
    "start_time": "2022-02-14T17:55:58.336Z"
   },
   {
    "duration": 342,
    "start_time": "2022-02-14T17:56:36.818Z"
   },
   {
    "duration": 417,
    "start_time": "2022-02-14T17:57:16.510Z"
   },
   {
    "duration": 397,
    "start_time": "2022-02-14T17:57:30.366Z"
   },
   {
    "duration": 8,
    "start_time": "2022-02-14T17:58:53.181Z"
   },
   {
    "duration": 335,
    "start_time": "2022-02-14T18:05:16.267Z"
   },
   {
    "duration": 250,
    "start_time": "2022-02-14T18:05:20.459Z"
   },
   {
    "duration": 9,
    "start_time": "2022-02-14T18:05:54.885Z"
   },
   {
    "duration": 588,
    "start_time": "2022-02-14T18:07:03.142Z"
   },
   {
    "duration": 330,
    "start_time": "2022-02-14T18:08:53.640Z"
   },
   {
    "duration": 283,
    "start_time": "2022-02-14T18:09:04.695Z"
   },
   {
    "duration": 284,
    "start_time": "2022-02-14T18:10:43.176Z"
   },
   {
    "duration": 24,
    "start_time": "2022-02-14T18:17:25.018Z"
   },
   {
    "duration": 534,
    "start_time": "2022-02-14T18:17:26.027Z"
   },
   {
    "duration": 7,
    "start_time": "2022-02-14T18:18:04.482Z"
   },
   {
    "duration": 21,
    "start_time": "2022-02-14T18:18:13.200Z"
   },
   {
    "duration": 1193,
    "start_time": "2022-02-14T18:18:36.161Z"
   },
   {
    "duration": 525,
    "start_time": "2022-02-14T18:18:57.017Z"
   },
   {
    "duration": 906,
    "start_time": "2022-02-14T18:19:00.238Z"
   },
   {
    "duration": 916,
    "start_time": "2022-02-14T18:19:33.414Z"
   },
   {
    "duration": 6,
    "start_time": "2022-02-14T18:21:52.792Z"
   },
   {
    "duration": 1023,
    "start_time": "2022-02-14T18:23:21.757Z"
   },
   {
    "duration": 928,
    "start_time": "2022-02-14T18:24:31.396Z"
   },
   {
    "duration": 912,
    "start_time": "2022-02-14T18:24:44.186Z"
   },
   {
    "duration": 933,
    "start_time": "2022-02-14T18:24:54.061Z"
   },
   {
    "duration": 1009,
    "start_time": "2022-02-14T18:25:11.090Z"
   },
   {
    "duration": 141,
    "start_time": "2022-02-14T18:26:06.272Z"
   },
   {
    "duration": 14,
    "start_time": "2022-02-14T18:26:17.755Z"
   },
   {
    "duration": 97,
    "start_time": "2022-02-14T18:26:35.293Z"
   },
   {
    "duration": 109,
    "start_time": "2022-02-14T18:26:39.499Z"
   },
   {
    "duration": 112,
    "start_time": "2022-02-14T18:26:59.908Z"
   },
   {
    "duration": 151,
    "start_time": "2022-02-14T18:27:10.493Z"
   },
   {
    "duration": 122,
    "start_time": "2022-02-14T18:27:16.984Z"
   },
   {
    "duration": 14,
    "start_time": "2022-02-14T18:27:27.314Z"
   },
   {
    "duration": 20,
    "start_time": "2022-02-14T18:28:47.998Z"
   },
   {
    "duration": 438,
    "start_time": "2022-02-14T18:33:54.054Z"
   },
   {
    "duration": 447,
    "start_time": "2022-02-14T18:34:02.757Z"
   },
   {
    "duration": 7,
    "start_time": "2022-02-14T18:35:14.411Z"
   },
   {
    "duration": 10242,
    "start_time": "2022-02-14T18:36:11.435Z"
   },
   {
    "duration": 9,
    "start_time": "2022-02-14T18:36:35.784Z"
   },
   {
    "duration": 20,
    "start_time": "2022-02-14T18:41:26.880Z"
   },
   {
    "duration": 20,
    "start_time": "2022-02-14T18:42:15.713Z"
   },
   {
    "duration": 22,
    "start_time": "2022-02-14T18:45:17.722Z"
   },
   {
    "duration": 21,
    "start_time": "2022-02-14T18:46:03.516Z"
   },
   {
    "duration": 21,
    "start_time": "2022-02-14T18:47:07.258Z"
   },
   {
    "duration": 18,
    "start_time": "2022-02-14T18:47:23.793Z"
   },
   {
    "duration": 21,
    "start_time": "2022-02-14T18:47:33.270Z"
   },
   {
    "duration": 1433,
    "start_time": "2022-02-14T18:50:46.546Z"
   },
   {
    "duration": 27,
    "start_time": "2022-02-14T18:50:47.982Z"
   },
   {
    "duration": 9,
    "start_time": "2022-02-14T18:50:48.012Z"
   },
   {
    "duration": 45,
    "start_time": "2022-02-14T18:50:48.024Z"
   },
   {
    "duration": 19,
    "start_time": "2022-02-14T18:50:48.072Z"
   },
   {
    "duration": 19,
    "start_time": "2022-02-14T18:50:48.094Z"
   },
   {
    "duration": 70,
    "start_time": "2022-02-14T18:50:48.115Z"
   },
   {
    "duration": 9,
    "start_time": "2022-02-14T18:50:48.190Z"
   },
   {
    "duration": 10,
    "start_time": "2022-02-14T18:50:48.202Z"
   },
   {
    "duration": 37,
    "start_time": "2022-02-14T18:50:48.215Z"
   },
   {
    "duration": 20,
    "start_time": "2022-02-14T18:50:48.255Z"
   },
   {
    "duration": 29,
    "start_time": "2022-02-14T18:50:48.278Z"
   },
   {
    "duration": 350,
    "start_time": "2022-02-14T18:50:48.310Z"
   },
   {
    "duration": 348,
    "start_time": "2022-02-14T18:50:48.664Z"
   },
   {
    "duration": 43,
    "start_time": "2022-02-14T18:50:49.015Z"
   },
   {
    "duration": 19,
    "start_time": "2022-02-14T18:50:49.061Z"
   },
   {
    "duration": 23,
    "start_time": "2022-02-14T18:50:49.084Z"
   },
   {
    "duration": 474,
    "start_time": "2022-02-14T18:50:49.110Z"
   },
   {
    "duration": 383,
    "start_time": "2022-02-14T18:50:49.586Z"
   },
   {
    "duration": 445,
    "start_time": "2022-02-14T18:50:49.972Z"
   },
   {
    "duration": 29,
    "start_time": "2022-02-14T18:50:50.420Z"
   },
   {
    "duration": 374,
    "start_time": "2022-02-14T18:50:50.451Z"
   },
   {
    "duration": 647,
    "start_time": "2022-02-14T18:50:50.831Z"
   },
   {
    "duration": 327,
    "start_time": "2022-02-14T18:50:51.482Z"
   },
   {
    "duration": 409,
    "start_time": "2022-02-14T18:50:51.813Z"
   },
   {
    "duration": 8,
    "start_time": "2022-02-14T18:50:52.226Z"
   },
   {
    "duration": 421,
    "start_time": "2022-02-14T18:50:52.248Z"
   },
   {
    "duration": 9,
    "start_time": "2022-02-14T18:50:52.672Z"
   },
   {
    "duration": 21,
    "start_time": "2022-02-14T18:50:52.684Z"
   },
   {
    "duration": 1160,
    "start_time": "2022-02-14T18:50:52.707Z"
   },
   {
    "duration": 14,
    "start_time": "2022-02-14T18:50:53.870Z"
   },
   {
    "duration": 25,
    "start_time": "2022-02-14T18:50:53.887Z"
   },
   {
    "duration": 52,
    "start_time": "2022-02-14T18:50:53.915Z"
   },
   {
    "duration": 25,
    "start_time": "2022-02-14T18:50:53.971Z"
   },
   {
    "duration": 61,
    "start_time": "2022-02-14T18:50:53.999Z"
   },
   {
    "duration": 6,
    "start_time": "2022-02-14T18:51:49.103Z"
   },
   {
    "duration": 4,
    "start_time": "2022-02-14T18:51:53.561Z"
   },
   {
    "duration": 25,
    "start_time": "2022-02-14T18:51:53.568Z"
   },
   {
    "duration": 7,
    "start_time": "2022-02-14T18:51:53.597Z"
   },
   {
    "duration": 42,
    "start_time": "2022-02-14T18:51:53.608Z"
   },
   {
    "duration": 19,
    "start_time": "2022-02-14T18:51:53.653Z"
   },
   {
    "duration": 15,
    "start_time": "2022-02-14T18:51:53.674Z"
   },
   {
    "duration": 60,
    "start_time": "2022-02-14T18:51:53.691Z"
   },
   {
    "duration": 7,
    "start_time": "2022-02-14T18:51:53.755Z"
   },
   {
    "duration": 11,
    "start_time": "2022-02-14T18:51:53.764Z"
   },
   {
    "duration": 27,
    "start_time": "2022-02-14T18:51:53.777Z"
   },
   {
    "duration": 8,
    "start_time": "2022-02-14T18:51:53.807Z"
   },
   {
    "duration": 22,
    "start_time": "2022-02-14T18:51:53.849Z"
   },
   {
    "duration": 516,
    "start_time": "2022-02-14T18:51:53.874Z"
   },
   {
    "duration": 340,
    "start_time": "2022-02-14T18:51:54.393Z"
   },
   {
    "duration": 30,
    "start_time": "2022-02-14T18:51:54.735Z"
   },
   {
    "duration": 15,
    "start_time": "2022-02-14T18:51:54.767Z"
   },
   {
    "duration": 13,
    "start_time": "2022-02-14T18:51:54.784Z"
   },
   {
    "duration": 412,
    "start_time": "2022-02-14T18:51:54.800Z"
   },
   {
    "duration": 441,
    "start_time": "2022-02-14T18:51:55.216Z"
   },
   {
    "duration": 471,
    "start_time": "2022-02-14T18:51:55.661Z"
   },
   {
    "duration": 24,
    "start_time": "2022-02-14T18:51:56.134Z"
   },
   {
    "duration": 372,
    "start_time": "2022-02-14T18:51:56.160Z"
   },
   {
    "duration": 486,
    "start_time": "2022-02-14T18:51:56.537Z"
   },
   {
    "duration": 274,
    "start_time": "2022-02-14T18:51:57.026Z"
   },
   {
    "duration": 406,
    "start_time": "2022-02-14T18:51:57.304Z"
   },
   {
    "duration": 9,
    "start_time": "2022-02-14T18:51:57.714Z"
   },
   {
    "duration": 418,
    "start_time": "2022-02-14T18:51:57.725Z"
   },
   {
    "duration": 7,
    "start_time": "2022-02-14T18:51:58.146Z"
   },
   {
    "duration": 9,
    "start_time": "2022-02-14T18:51:58.155Z"
   },
   {
    "duration": 923,
    "start_time": "2022-02-14T18:51:58.167Z"
   },
   {
    "duration": 14,
    "start_time": "2022-02-14T18:51:59.093Z"
   },
   {
    "duration": 46,
    "start_time": "2022-02-14T18:51:59.109Z"
   },
   {
    "duration": 16,
    "start_time": "2022-02-14T18:51:59.157Z"
   },
   {
    "duration": 17,
    "start_time": "2022-02-14T18:51:59.176Z"
   },
   {
    "duration": 53,
    "start_time": "2022-02-14T18:51:59.195Z"
   },
   {
    "duration": 295,
    "start_time": "2022-02-15T15:41:55.576Z"
   },
   {
    "duration": 1412,
    "start_time": "2022-02-15T15:42:00.688Z"
   },
   {
    "duration": 19,
    "start_time": "2022-02-15T15:42:02.102Z"
   },
   {
    "duration": 15,
    "start_time": "2022-02-15T15:42:15.795Z"
   },
   {
    "duration": 18,
    "start_time": "2022-02-15T16:07:35.991Z"
   },
   {
    "duration": 26,
    "start_time": "2022-02-15T16:07:40.359Z"
   },
   {
    "duration": 103,
    "start_time": "2022-02-15T16:35:20.022Z"
   },
   {
    "duration": 333,
    "start_time": "2022-02-15T16:35:30.602Z"
   },
   {
    "duration": 5,
    "start_time": "2022-02-15T16:35:43.478Z"
   },
   {
    "duration": 23,
    "start_time": "2022-02-15T16:35:43.486Z"
   },
   {
    "duration": 5,
    "start_time": "2022-02-15T16:35:43.513Z"
   },
   {
    "duration": 41,
    "start_time": "2022-02-15T16:35:43.521Z"
   },
   {
    "duration": 7,
    "start_time": "2022-02-15T16:35:43.564Z"
   },
   {
    "duration": 9,
    "start_time": "2022-02-15T16:35:43.573Z"
   },
   {
    "duration": 25,
    "start_time": "2022-02-15T16:35:43.584Z"
   },
   {
    "duration": 22,
    "start_time": "2022-02-15T16:35:43.612Z"
   },
   {
    "duration": 326,
    "start_time": "2022-02-15T16:35:43.636Z"
   },
   {
    "duration": 14,
    "start_time": "2022-02-15T16:36:00.036Z"
   },
   {
    "duration": 14,
    "start_time": "2022-02-15T16:36:24.869Z"
   },
   {
    "duration": 17,
    "start_time": "2022-02-15T16:36:58.653Z"
   },
   {
    "duration": 15,
    "start_time": "2022-02-15T16:37:15.796Z"
   },
   {
    "duration": 32,
    "start_time": "2022-02-15T16:37:54.550Z"
   },
   {
    "duration": 13,
    "start_time": "2022-02-15T16:38:10.804Z"
   },
   {
    "duration": 22,
    "start_time": "2022-02-15T16:38:21.420Z"
   },
   {
    "duration": 14,
    "start_time": "2022-02-15T16:39:22.728Z"
   },
   {
    "duration": 13,
    "start_time": "2022-02-15T16:40:09.299Z"
   },
   {
    "duration": 6601,
    "start_time": "2022-02-15T16:40:34.382Z"
   },
   {
    "duration": 11,
    "start_time": "2022-02-15T16:40:45.726Z"
   },
   {
    "duration": 15,
    "start_time": "2022-02-15T16:40:56.659Z"
   },
   {
    "duration": 352,
    "start_time": "2022-02-15T16:41:11.122Z"
   },
   {
    "duration": 12,
    "start_time": "2022-02-15T16:41:27.937Z"
   },
   {
    "duration": 9,
    "start_time": "2022-02-15T16:43:59.128Z"
   },
   {
    "duration": 15,
    "start_time": "2022-02-15T16:44:27.468Z"
   },
   {
    "duration": 76,
    "start_time": "2022-02-15T16:45:29.383Z"
   },
   {
    "duration": 78,
    "start_time": "2022-02-15T16:46:34.153Z"
   },
   {
    "duration": 77,
    "start_time": "2022-02-15T16:46:41.689Z"
   },
   {
    "duration": 90,
    "start_time": "2022-02-15T16:46:48.752Z"
   },
   {
    "duration": 77,
    "start_time": "2022-02-15T16:47:01.490Z"
   },
   {
    "duration": 76,
    "start_time": "2022-02-15T16:47:14.552Z"
   },
   {
    "duration": 15,
    "start_time": "2022-02-15T16:47:24.715Z"
   },
   {
    "duration": 77,
    "start_time": "2022-02-15T16:48:38.238Z"
   },
   {
    "duration": 84,
    "start_time": "2022-02-15T16:49:32.126Z"
   },
   {
    "duration": 13,
    "start_time": "2022-02-15T16:50:12.743Z"
   },
   {
    "duration": 11,
    "start_time": "2022-02-15T16:55:20.383Z"
   },
   {
    "duration": 14,
    "start_time": "2022-02-15T17:06:26.752Z"
   },
   {
    "duration": 245,
    "start_time": "2022-02-15T17:08:32.675Z"
   },
   {
    "duration": 237,
    "start_time": "2022-02-15T17:08:42.426Z"
   },
   {
    "duration": 12,
    "start_time": "2022-02-15T17:08:47.468Z"
   },
   {
    "duration": 13,
    "start_time": "2022-02-15T17:12:56.596Z"
   },
   {
    "duration": 85,
    "start_time": "2022-02-15T17:13:14.662Z"
   },
   {
    "duration": 16,
    "start_time": "2022-02-15T17:13:21.037Z"
   },
   {
    "duration": 8,
    "start_time": "2022-02-15T17:35:41.421Z"
   },
   {
    "duration": 5907,
    "start_time": "2022-02-15T17:35:58.993Z"
   },
   {
    "duration": 6343,
    "start_time": "2022-02-15T17:36:05.444Z"
   },
   {
    "duration": 11,
    "start_time": "2022-02-15T17:36:13.126Z"
   },
   {
    "duration": 11,
    "start_time": "2022-02-15T17:40:08.250Z"
   },
   {
    "duration": 9,
    "start_time": "2022-02-15T17:40:41.046Z"
   },
   {
    "duration": 10,
    "start_time": "2022-02-15T17:42:17.386Z"
   },
   {
    "duration": 15,
    "start_time": "2022-02-15T17:42:32.752Z"
   },
   {
    "duration": 15,
    "start_time": "2022-02-15T17:43:02.873Z"
   },
   {
    "duration": 16,
    "start_time": "2022-02-15T17:43:14.896Z"
   },
   {
    "duration": 15,
    "start_time": "2022-02-15T17:43:44.849Z"
   },
   {
    "duration": 15,
    "start_time": "2022-02-15T17:44:21.688Z"
   },
   {
    "duration": 13,
    "start_time": "2022-02-15T17:45:23.306Z"
   },
   {
    "duration": 11,
    "start_time": "2022-02-15T17:45:33.250Z"
   },
   {
    "duration": 10,
    "start_time": "2022-02-15T17:46:10.242Z"
   },
   {
    "duration": 8,
    "start_time": "2022-02-15T17:48:26.440Z"
   },
   {
    "duration": 9,
    "start_time": "2022-02-15T17:48:54.472Z"
   },
   {
    "duration": 10,
    "start_time": "2022-02-15T17:49:04.964Z"
   },
   {
    "duration": 9,
    "start_time": "2022-02-15T17:49:19.665Z"
   },
   {
    "duration": 11,
    "start_time": "2022-02-15T17:49:59.112Z"
   },
   {
    "duration": 8,
    "start_time": "2022-02-15T17:51:16.871Z"
   },
   {
    "duration": 11,
    "start_time": "2022-02-15T17:51:31.474Z"
   },
   {
    "duration": 12,
    "start_time": "2022-02-15T17:51:56.830Z"
   },
   {
    "duration": 80,
    "start_time": "2022-02-15T17:53:08.547Z"
   },
   {
    "duration": 6,
    "start_time": "2022-02-15T17:53:25.524Z"
   },
   {
    "duration": 7,
    "start_time": "2022-02-15T17:53:44.958Z"
   },
   {
    "duration": 7,
    "start_time": "2022-02-15T17:54:31.934Z"
   },
   {
    "duration": 228,
    "start_time": "2022-02-16T08:37:14.052Z"
   },
   {
    "duration": 1105,
    "start_time": "2022-02-16T08:37:18.354Z"
   },
   {
    "duration": 20,
    "start_time": "2022-02-16T08:37:19.461Z"
   },
   {
    "duration": 6,
    "start_time": "2022-02-16T08:37:19.483Z"
   },
   {
    "duration": 34,
    "start_time": "2022-02-16T08:37:19.491Z"
   },
   {
    "duration": 5,
    "start_time": "2022-02-16T08:37:19.527Z"
   },
   {
    "duration": 211,
    "start_time": "2022-02-16T08:37:52.502Z"
   },
   {
    "duration": 4,
    "start_time": "2022-02-16T08:37:57.026Z"
   },
   {
    "duration": 20,
    "start_time": "2022-02-16T08:37:57.032Z"
   },
   {
    "duration": 4,
    "start_time": "2022-02-16T08:37:57.054Z"
   },
   {
    "duration": 36,
    "start_time": "2022-02-16T08:37:57.060Z"
   },
   {
    "duration": 5,
    "start_time": "2022-02-16T08:37:57.097Z"
   },
   {
    "duration": 6,
    "start_time": "2022-02-16T08:37:57.103Z"
   },
   {
    "duration": 7,
    "start_time": "2022-02-16T08:37:57.111Z"
   },
   {
    "duration": 30,
    "start_time": "2022-02-16T08:37:57.121Z"
   },
   {
    "duration": 4,
    "start_time": "2022-02-16T08:37:57.153Z"
   },
   {
    "duration": 4,
    "start_time": "2022-02-16T08:38:14.768Z"
   },
   {
    "duration": 6,
    "start_time": "2022-02-16T08:38:37.352Z"
   },
   {
    "duration": 351,
    "start_time": "2022-02-16T08:47:51.655Z"
   },
   {
    "duration": 3,
    "start_time": "2022-02-16T08:47:56.595Z"
   },
   {
    "duration": 24,
    "start_time": "2022-02-16T08:47:56.600Z"
   },
   {
    "duration": 7,
    "start_time": "2022-02-16T08:47:56.625Z"
   },
   {
    "duration": 50,
    "start_time": "2022-02-16T08:47:56.634Z"
   },
   {
    "duration": 5,
    "start_time": "2022-02-16T08:47:56.685Z"
   },
   {
    "duration": 6,
    "start_time": "2022-02-16T08:47:56.692Z"
   },
   {
    "duration": 5,
    "start_time": "2022-02-16T08:47:56.700Z"
   },
   {
    "duration": 19,
    "start_time": "2022-02-16T08:47:56.708Z"
   },
   {
    "duration": 4,
    "start_time": "2022-02-16T08:47:56.729Z"
   },
   {
    "duration": 7,
    "start_time": "2022-02-16T08:47:56.735Z"
   },
   {
    "duration": 22,
    "start_time": "2022-02-16T08:47:56.743Z"
   },
   {
    "duration": 11,
    "start_time": "2022-02-16T08:47:56.766Z"
   },
   {
    "duration": 13,
    "start_time": "2022-02-16T08:47:56.779Z"
   },
   {
    "duration": 12,
    "start_time": "2022-02-16T08:47:56.800Z"
   },
   {
    "duration": 203,
    "start_time": "2022-02-16T08:47:56.814Z"
   },
   {
    "duration": 165,
    "start_time": "2022-02-16T08:47:57.019Z"
   },
   {
    "duration": 14,
    "start_time": "2022-02-16T08:47:57.186Z"
   },
   {
    "duration": 11,
    "start_time": "2022-02-16T08:47:57.202Z"
   },
   {
    "duration": 8,
    "start_time": "2022-02-16T08:47:57.215Z"
   },
   {
    "duration": 261,
    "start_time": "2022-02-16T08:47:57.225Z"
   },
   {
    "duration": 223,
    "start_time": "2022-02-16T08:47:57.488Z"
   },
   {
    "duration": 265,
    "start_time": "2022-02-16T09:18:52.919Z"
   },
   {
    "duration": 323,
    "start_time": "2022-02-16T09:19:21.159Z"
   },
   {
    "duration": 332,
    "start_time": "2022-02-16T09:19:32.465Z"
   },
   {
    "duration": 318,
    "start_time": "2022-02-16T09:19:53.482Z"
   },
   {
    "duration": 6,
    "start_time": "2022-02-16T09:22:33.827Z"
   },
   {
    "duration": 12,
    "start_time": "2022-02-16T09:22:48.846Z"
   },
   {
    "duration": 311,
    "start_time": "2022-02-16T09:22:52.126Z"
   },
   {
    "duration": 389,
    "start_time": "2022-02-16T09:23:04.989Z"
   },
   {
    "duration": 321,
    "start_time": "2022-02-16T09:23:14.141Z"
   },
   {
    "duration": 6,
    "start_time": "2022-02-16T09:24:47.523Z"
   },
   {
    "duration": 204,
    "start_time": "2022-02-16T09:24:48.730Z"
   },
   {
    "duration": 14,
    "start_time": "2022-02-16T09:25:01.916Z"
   },
   {
    "duration": 8,
    "start_time": "2022-02-16T09:27:03.373Z"
   },
   {
    "duration": 15,
    "start_time": "2022-02-16T09:27:14.500Z"
   },
   {
    "duration": 12,
    "start_time": "2022-02-16T09:28:14.502Z"
   },
   {
    "duration": 187,
    "start_time": "2022-02-16T09:28:53.215Z"
   },
   {
    "duration": 409,
    "start_time": "2022-02-16T10:01:24.736Z"
   },
   {
    "duration": 352,
    "start_time": "2022-02-16T10:01:32.752Z"
   },
   {
    "duration": 267,
    "start_time": "2022-02-16T10:15:49.775Z"
   },
   {
    "duration": 243,
    "start_time": "2022-02-16T10:16:00.423Z"
   },
   {
    "duration": 254,
    "start_time": "2022-02-16T10:16:07.809Z"
   },
   {
    "duration": 259,
    "start_time": "2022-02-16T10:16:52.419Z"
   },
   {
    "duration": 350,
    "start_time": "2022-02-16T10:17:34.954Z"
   },
   {
    "duration": 394,
    "start_time": "2022-02-16T10:17:52.813Z"
   },
   {
    "duration": 211,
    "start_time": "2022-02-16T10:18:28.139Z"
   },
   {
    "duration": 179,
    "start_time": "2022-02-16T10:19:13.716Z"
   },
   {
    "duration": 4,
    "start_time": "2022-02-16T10:19:18.478Z"
   },
   {
    "duration": 19,
    "start_time": "2022-02-16T10:19:18.484Z"
   },
   {
    "duration": 5,
    "start_time": "2022-02-16T10:19:18.505Z"
   },
   {
    "duration": 39,
    "start_time": "2022-02-16T10:19:18.512Z"
   },
   {
    "duration": 5,
    "start_time": "2022-02-16T10:19:18.553Z"
   },
   {
    "duration": 9,
    "start_time": "2022-02-16T10:19:18.559Z"
   },
   {
    "duration": 5,
    "start_time": "2022-02-16T10:19:18.571Z"
   },
   {
    "duration": 20,
    "start_time": "2022-02-16T10:19:18.578Z"
   },
   {
    "duration": 5,
    "start_time": "2022-02-16T10:19:18.600Z"
   },
   {
    "duration": 6,
    "start_time": "2022-02-16T10:19:18.607Z"
   },
   {
    "duration": 13,
    "start_time": "2022-02-16T10:19:18.614Z"
   },
   {
    "duration": 32,
    "start_time": "2022-02-16T10:19:18.628Z"
   },
   {
    "duration": 12,
    "start_time": "2022-02-16T10:19:18.661Z"
   },
   {
    "duration": 10,
    "start_time": "2022-02-16T10:19:18.675Z"
   },
   {
    "duration": 216,
    "start_time": "2022-02-16T10:19:18.687Z"
   },
   {
    "duration": 177,
    "start_time": "2022-02-16T10:19:18.905Z"
   },
   {
    "duration": 13,
    "start_time": "2022-02-16T10:19:19.084Z"
   },
   {
    "duration": 13,
    "start_time": "2022-02-16T10:19:19.099Z"
   },
   {
    "duration": 9,
    "start_time": "2022-02-16T10:19:19.115Z"
   },
   {
    "duration": 260,
    "start_time": "2022-02-16T10:19:19.126Z"
   },
   {
    "duration": 247,
    "start_time": "2022-02-16T10:19:19.388Z"
   },
   {
    "duration": 23,
    "start_time": "2022-02-16T10:19:19.637Z"
   },
   {
    "duration": 334,
    "start_time": "2022-02-16T10:19:19.661Z"
   },
   {
    "duration": 14,
    "start_time": "2022-02-16T10:19:19.997Z"
   },
   {
    "duration": 215,
    "start_time": "2022-02-16T10:19:20.012Z"
   },
   {
    "duration": 13,
    "start_time": "2022-02-16T10:19:20.228Z"
   },
   {
    "duration": 417,
    "start_time": "2022-02-16T10:19:20.243Z"
   },
   {
    "duration": 129,
    "start_time": "2022-02-16T10:19:20.662Z"
   },
   {
    "duration": 275,
    "start_time": "2022-02-16T10:19:20.793Z"
   },
   {
    "duration": 4,
    "start_time": "2022-02-16T10:19:21.070Z"
   },
   {
    "duration": 291,
    "start_time": "2022-02-16T10:19:21.076Z"
   },
   {
    "duration": 4,
    "start_time": "2022-02-16T10:19:21.369Z"
   },
   {
    "duration": 9,
    "start_time": "2022-02-16T10:19:21.374Z"
   },
   {
    "duration": 471,
    "start_time": "2022-02-16T10:19:21.384Z"
   },
   {
    "duration": 10,
    "start_time": "2022-02-16T10:19:21.858Z"
   },
   {
    "duration": 14,
    "start_time": "2022-02-16T10:19:21.870Z"
   },
   {
    "duration": 10,
    "start_time": "2022-02-16T10:19:21.885Z"
   },
   {
    "duration": 13,
    "start_time": "2022-02-16T10:19:21.897Z"
   },
   {
    "duration": 17,
    "start_time": "2022-02-16T10:19:21.911Z"
   },
   {
    "duration": 388,
    "start_time": "2022-02-16T10:26:41.431Z"
   },
   {
    "duration": 460,
    "start_time": "2022-02-16T10:27:23.369Z"
   },
   {
    "duration": 363,
    "start_time": "2022-02-16T10:27:38.945Z"
   },
   {
    "duration": 335,
    "start_time": "2022-02-16T10:27:47.257Z"
   },
   {
    "duration": 307,
    "start_time": "2022-02-16T10:27:57.401Z"
   },
   {
    "duration": 301,
    "start_time": "2022-02-16T15:48:11.781Z"
   },
   {
    "duration": 1219,
    "start_time": "2022-02-16T15:48:40.481Z"
   },
   {
    "duration": 22,
    "start_time": "2022-02-16T15:48:41.702Z"
   },
   {
    "duration": 18,
    "start_time": "2022-02-16T15:48:41.727Z"
   },
   {
    "duration": 39,
    "start_time": "2022-02-16T15:48:41.747Z"
   },
   {
    "duration": 7,
    "start_time": "2022-02-16T15:48:41.788Z"
   },
   {
    "duration": 11,
    "start_time": "2022-02-16T15:48:41.796Z"
   },
   {
    "duration": 12,
    "start_time": "2022-02-16T15:48:41.809Z"
   },
   {
    "duration": 32,
    "start_time": "2022-02-16T15:48:41.824Z"
   },
   {
    "duration": 6,
    "start_time": "2022-02-16T15:48:41.859Z"
   },
   {
    "duration": 13,
    "start_time": "2022-02-16T15:48:41.868Z"
   },
   {
    "duration": 21,
    "start_time": "2022-02-16T15:48:41.883Z"
   },
   {
    "duration": 14,
    "start_time": "2022-02-16T15:48:41.905Z"
   },
   {
    "duration": 15,
    "start_time": "2022-02-16T15:48:41.921Z"
   },
   {
    "duration": 18,
    "start_time": "2022-02-16T15:48:41.939Z"
   },
   {
    "duration": 259,
    "start_time": "2022-02-16T15:48:41.959Z"
   },
   {
    "duration": 197,
    "start_time": "2022-02-16T15:48:42.220Z"
   },
   {
    "duration": 15,
    "start_time": "2022-02-16T15:48:42.419Z"
   },
   {
    "duration": 22,
    "start_time": "2022-02-16T15:48:42.436Z"
   },
   {
    "duration": 15,
    "start_time": "2022-02-16T15:48:42.461Z"
   },
   {
    "duration": 301,
    "start_time": "2022-02-16T15:48:42.478Z"
   },
   {
    "duration": 275,
    "start_time": "2022-02-16T15:48:42.782Z"
   },
   {
    "duration": 22,
    "start_time": "2022-02-16T15:48:43.059Z"
   },
   {
    "duration": 458,
    "start_time": "2022-02-16T15:48:43.086Z"
   },
   {
    "duration": 52,
    "start_time": "2022-02-16T15:48:43.556Z"
   },
   {
    "duration": 405,
    "start_time": "2022-02-16T15:48:43.616Z"
   },
   {
    "duration": 16,
    "start_time": "2022-02-16T15:48:44.023Z"
   },
   {
    "duration": 469,
    "start_time": "2022-02-16T15:48:44.042Z"
   },
   {
    "duration": 160,
    "start_time": "2022-02-16T15:48:44.513Z"
   },
   {
    "duration": 357,
    "start_time": "2022-02-16T15:48:44.675Z"
   },
   {
    "duration": 6,
    "start_time": "2022-02-16T15:48:45.034Z"
   },
   {
    "duration": 313,
    "start_time": "2022-02-16T15:48:45.042Z"
   },
   {
    "duration": 5,
    "start_time": "2022-02-16T15:48:45.356Z"
   },
   {
    "duration": 4,
    "start_time": "2022-02-16T16:02:06.618Z"
   },
   {
    "duration": 20,
    "start_time": "2022-02-16T16:02:06.626Z"
   },
   {
    "duration": 26,
    "start_time": "2022-02-16T16:02:06.649Z"
   },
   {
    "duration": 35,
    "start_time": "2022-02-16T16:02:06.678Z"
   },
   {
    "duration": 9,
    "start_time": "2022-02-16T16:02:06.715Z"
   },
   {
    "duration": 9,
    "start_time": "2022-02-16T16:02:06.726Z"
   },
   {
    "duration": 13,
    "start_time": "2022-02-16T16:02:06.737Z"
   },
   {
    "duration": 26,
    "start_time": "2022-02-16T16:02:06.753Z"
   },
   {
    "duration": 5,
    "start_time": "2022-02-16T16:02:06.783Z"
   },
   {
    "duration": 5,
    "start_time": "2022-02-16T16:02:06.809Z"
   },
   {
    "duration": 15,
    "start_time": "2022-02-16T16:02:06.817Z"
   },
   {
    "duration": 13,
    "start_time": "2022-02-16T16:02:06.834Z"
   },
   {
    "duration": 23,
    "start_time": "2022-02-16T16:02:06.849Z"
   },
   {
    "duration": 41,
    "start_time": "2022-02-16T16:02:06.874Z"
   },
   {
    "duration": 256,
    "start_time": "2022-02-16T16:02:06.917Z"
   },
   {
    "duration": 211,
    "start_time": "2022-02-16T16:02:07.176Z"
   },
   {
    "duration": 26,
    "start_time": "2022-02-16T16:02:07.389Z"
   },
   {
    "duration": 18,
    "start_time": "2022-02-16T16:02:07.416Z"
   },
   {
    "duration": 25,
    "start_time": "2022-02-16T16:02:07.436Z"
   },
   {
    "duration": 289,
    "start_time": "2022-02-16T16:02:07.464Z"
   },
   {
    "duration": 283,
    "start_time": "2022-02-16T16:02:07.755Z"
   },
   {
    "duration": 15,
    "start_time": "2022-02-16T16:02:08.040Z"
   },
   {
    "duration": 441,
    "start_time": "2022-02-16T16:02:08.057Z"
   },
   {
    "duration": 19,
    "start_time": "2022-02-16T16:02:08.502Z"
   },
   {
    "duration": 235,
    "start_time": "2022-02-16T16:02:08.523Z"
   },
   {
    "duration": 17,
    "start_time": "2022-02-16T16:02:08.760Z"
   },
   {
    "duration": 386,
    "start_time": "2022-02-16T16:02:08.779Z"
   },
   {
    "duration": 126,
    "start_time": "2022-02-16T16:02:09.168Z"
   },
   {
    "duration": 358,
    "start_time": "2022-02-16T16:02:09.296Z"
   },
   {
    "duration": 6,
    "start_time": "2022-02-16T16:02:09.656Z"
   },
   {
    "duration": 394,
    "start_time": "2022-02-16T16:02:09.664Z"
   },
   {
    "duration": 8,
    "start_time": "2022-02-16T16:02:10.061Z"
   },
   {
    "duration": 11,
    "start_time": "2022-02-16T16:02:10.072Z"
   },
   {
    "duration": 578,
    "start_time": "2022-02-16T16:02:10.085Z"
   },
   {
    "duration": 138,
    "start_time": "2022-02-16T16:07:37.486Z"
   },
   {
    "duration": 4,
    "start_time": "2022-02-16T16:17:35.798Z"
   },
   {
    "duration": 22,
    "start_time": "2022-02-16T16:17:35.804Z"
   },
   {
    "duration": 20,
    "start_time": "2022-02-16T16:17:35.829Z"
   },
   {
    "duration": 45,
    "start_time": "2022-02-16T16:17:35.851Z"
   },
   {
    "duration": 11,
    "start_time": "2022-02-16T16:17:35.897Z"
   },
   {
    "duration": 11,
    "start_time": "2022-02-16T16:17:35.910Z"
   },
   {
    "duration": 18,
    "start_time": "2022-02-16T16:17:35.924Z"
   },
   {
    "duration": 25,
    "start_time": "2022-02-16T16:17:35.945Z"
   },
   {
    "duration": 12,
    "start_time": "2022-02-16T16:17:35.972Z"
   },
   {
    "duration": 20,
    "start_time": "2022-02-16T16:17:35.987Z"
   },
   {
    "duration": 23,
    "start_time": "2022-02-16T16:17:36.009Z"
   },
   {
    "duration": 38,
    "start_time": "2022-02-16T16:17:36.034Z"
   },
   {
    "duration": 23,
    "start_time": "2022-02-16T16:17:36.075Z"
   },
   {
    "duration": 23,
    "start_time": "2022-02-16T16:17:36.100Z"
   },
   {
    "duration": 288,
    "start_time": "2022-02-16T16:17:36.125Z"
   },
   {
    "duration": 206,
    "start_time": "2022-02-16T16:17:36.416Z"
   },
   {
    "duration": 14,
    "start_time": "2022-02-16T16:17:36.624Z"
   },
   {
    "duration": 20,
    "start_time": "2022-02-16T16:17:36.639Z"
   },
   {
    "duration": 15,
    "start_time": "2022-02-16T16:17:36.662Z"
   },
   {
    "duration": 273,
    "start_time": "2022-02-16T16:17:36.679Z"
   },
   {
    "duration": 259,
    "start_time": "2022-02-16T16:17:36.954Z"
   },
   {
    "duration": 13,
    "start_time": "2022-02-16T16:17:37.216Z"
   },
   {
    "duration": 372,
    "start_time": "2022-02-16T16:17:37.231Z"
   },
   {
    "duration": 14,
    "start_time": "2022-02-16T16:17:37.605Z"
   },
   {
    "duration": 229,
    "start_time": "2022-02-16T16:17:37.621Z"
   },
   {
    "duration": 16,
    "start_time": "2022-02-16T16:17:37.852Z"
   },
   {
    "duration": 383,
    "start_time": "2022-02-16T16:17:37.870Z"
   },
   {
    "duration": 117,
    "start_time": "2022-02-16T16:17:38.255Z"
   },
   {
    "duration": 355,
    "start_time": "2022-02-16T16:17:38.374Z"
   },
   {
    "duration": 6,
    "start_time": "2022-02-16T16:17:38.732Z"
   },
   {
    "duration": 295,
    "start_time": "2022-02-16T16:17:38.740Z"
   },
   {
    "duration": 7,
    "start_time": "2022-02-16T16:17:39.037Z"
   },
   {
    "duration": 9,
    "start_time": "2022-02-16T16:17:39.046Z"
   },
   {
    "duration": 312,
    "start_time": "2022-02-16T16:17:39.057Z"
   },
   {
    "duration": 160,
    "start_time": "2022-02-16T16:17:39.372Z"
   },
   {
    "duration": 158,
    "start_time": "2022-02-16T16:17:39.535Z"
   },
   {
    "duration": 11,
    "start_time": "2022-02-16T16:21:42.188Z"
   },
   {
    "duration": 151,
    "start_time": "2022-02-16T16:22:02.021Z"
   },
   {
    "duration": 14,
    "start_time": "2022-02-16T16:22:02.771Z"
   },
   {
    "duration": 128,
    "start_time": "2022-02-16T16:22:13.750Z"
   },
   {
    "duration": 11,
    "start_time": "2022-02-16T16:25:30.260Z"
   },
   {
    "duration": 14,
    "start_time": "2022-02-16T16:49:13.628Z"
   },
   {
    "duration": 9,
    "start_time": "2022-02-16T16:49:37.456Z"
   },
   {
    "duration": 13,
    "start_time": "2022-02-16T16:50:02.056Z"
   },
   {
    "duration": 12,
    "start_time": "2022-02-16T16:50:09.820Z"
   },
   {
    "duration": 14,
    "start_time": "2022-02-16T16:51:14.803Z"
   },
   {
    "duration": 11,
    "start_time": "2022-02-16T16:52:43.251Z"
   },
   {
    "duration": 139,
    "start_time": "2022-02-16T16:54:56.332Z"
   },
   {
    "duration": 96,
    "start_time": "2022-02-16T16:55:09.128Z"
   },
   {
    "duration": 116,
    "start_time": "2022-02-16T16:55:27.057Z"
   },
   {
    "duration": 81,
    "start_time": "2022-02-16T16:55:36.776Z"
   },
   {
    "duration": 86,
    "start_time": "2022-02-16T16:55:45.863Z"
   },
   {
    "duration": 87,
    "start_time": "2022-02-16T16:55:52.640Z"
   },
   {
    "duration": 88,
    "start_time": "2022-02-16T16:56:06.187Z"
   },
   {
    "duration": 16,
    "start_time": "2022-02-16T16:56:38.788Z"
   },
   {
    "duration": 22,
    "start_time": "2022-02-16T16:56:49.861Z"
   },
   {
    "duration": 91,
    "start_time": "2022-02-16T16:57:32.077Z"
   },
   {
    "duration": 97,
    "start_time": "2022-02-16T16:58:09.705Z"
   },
   {
    "duration": 15,
    "start_time": "2022-02-16T16:59:13.744Z"
   },
   {
    "duration": 18,
    "start_time": "2022-02-16T17:02:17.745Z"
   },
   {
    "duration": 20,
    "start_time": "2022-02-16T17:02:37.008Z"
   },
   {
    "duration": 14,
    "start_time": "2022-02-16T17:02:51.011Z"
   },
   {
    "duration": 17,
    "start_time": "2022-02-16T17:04:40.075Z"
   },
   {
    "duration": 17,
    "start_time": "2022-02-16T17:05:15.864Z"
   },
   {
    "duration": 127,
    "start_time": "2022-02-16T17:14:06.490Z"
   },
   {
    "duration": 16,
    "start_time": "2022-02-16T17:14:21.605Z"
   },
   {
    "duration": 4,
    "start_time": "2022-02-16T17:28:23.247Z"
   },
   {
    "duration": 36,
    "start_time": "2022-02-16T17:28:23.253Z"
   },
   {
    "duration": 7,
    "start_time": "2022-02-16T17:28:23.291Z"
   },
   {
    "duration": 40,
    "start_time": "2022-02-16T17:28:23.300Z"
   },
   {
    "duration": 7,
    "start_time": "2022-02-16T17:28:23.342Z"
   },
   {
    "duration": 11,
    "start_time": "2022-02-16T17:28:23.351Z"
   },
   {
    "duration": 9,
    "start_time": "2022-02-16T17:28:23.365Z"
   },
   {
    "duration": 36,
    "start_time": "2022-02-16T17:28:23.376Z"
   },
   {
    "duration": 5,
    "start_time": "2022-02-16T17:28:23.414Z"
   },
   {
    "duration": 13,
    "start_time": "2022-02-16T17:28:23.421Z"
   },
   {
    "duration": 24,
    "start_time": "2022-02-16T17:28:23.436Z"
   },
   {
    "duration": 11,
    "start_time": "2022-02-16T17:28:23.463Z"
   },
   {
    "duration": 17,
    "start_time": "2022-02-16T17:28:23.476Z"
   },
   {
    "duration": 11,
    "start_time": "2022-02-16T17:28:23.507Z"
   },
   {
    "duration": 236,
    "start_time": "2022-02-16T17:28:23.520Z"
   },
   {
    "duration": 198,
    "start_time": "2022-02-16T17:28:23.758Z"
   },
   {
    "duration": 15,
    "start_time": "2022-02-16T17:28:23.958Z"
   },
   {
    "duration": 19,
    "start_time": "2022-02-16T17:28:23.975Z"
   },
   {
    "duration": 20,
    "start_time": "2022-02-16T17:28:23.997Z"
   },
   {
    "duration": 284,
    "start_time": "2022-02-16T17:28:24.019Z"
   },
   {
    "duration": 283,
    "start_time": "2022-02-16T17:28:24.308Z"
   },
   {
    "duration": 25,
    "start_time": "2022-02-16T17:28:24.593Z"
   },
   {
    "duration": 396,
    "start_time": "2022-02-16T17:28:24.620Z"
   },
   {
    "duration": 16,
    "start_time": "2022-02-16T17:28:25.018Z"
   },
   {
    "duration": 274,
    "start_time": "2022-02-16T17:28:25.036Z"
   },
   {
    "duration": 24,
    "start_time": "2022-02-16T17:28:25.313Z"
   },
   {
    "duration": 371,
    "start_time": "2022-02-16T17:28:25.339Z"
   },
   {
    "duration": 134,
    "start_time": "2022-02-16T17:28:25.711Z"
   },
   {
    "duration": 292,
    "start_time": "2022-02-16T17:28:25.847Z"
   },
   {
    "duration": 6,
    "start_time": "2022-02-16T17:28:26.141Z"
   },
   {
    "duration": 360,
    "start_time": "2022-02-16T17:28:26.150Z"
   },
   {
    "duration": 5,
    "start_time": "2022-02-16T17:28:26.513Z"
   },
   {
    "duration": 13,
    "start_time": "2022-02-16T17:28:26.520Z"
   },
   {
    "duration": 333,
    "start_time": "2022-02-16T17:28:26.535Z"
   },
   {
    "duration": 166,
    "start_time": "2022-02-16T17:28:26.871Z"
   },
   {
    "duration": 155,
    "start_time": "2022-02-16T17:28:27.039Z"
   },
   {
    "duration": 26,
    "start_time": "2022-02-16T17:28:27.196Z"
   },
   {
    "duration": 29,
    "start_time": "2022-02-16T17:28:27.224Z"
   },
   {
    "duration": 58,
    "start_time": "2022-02-16T17:28:27.255Z"
   },
   {
    "duration": 27,
    "start_time": "2022-02-16T17:28:27.316Z"
   },
   {
    "duration": 6,
    "start_time": "2022-02-16T17:29:35.496Z"
   },
   {
    "duration": 6,
    "start_time": "2022-02-16T17:29:55.516Z"
   },
   {
    "duration": 4,
    "start_time": "2022-02-16T17:34:15.943Z"
   },
   {
    "duration": 33,
    "start_time": "2022-02-16T17:34:15.950Z"
   },
   {
    "duration": 14,
    "start_time": "2022-02-16T17:34:15.987Z"
   },
   {
    "duration": 39,
    "start_time": "2022-02-16T17:34:16.004Z"
   },
   {
    "duration": 6,
    "start_time": "2022-02-16T17:34:16.044Z"
   },
   {
    "duration": 9,
    "start_time": "2022-02-16T17:34:16.052Z"
   },
   {
    "duration": 9,
    "start_time": "2022-02-16T17:34:16.063Z"
   },
   {
    "duration": 38,
    "start_time": "2022-02-16T17:34:16.074Z"
   },
   {
    "duration": 6,
    "start_time": "2022-02-16T17:34:16.114Z"
   },
   {
    "duration": 6,
    "start_time": "2022-02-16T17:34:16.123Z"
   },
   {
    "duration": 21,
    "start_time": "2022-02-16T17:34:16.131Z"
   },
   {
    "duration": 18,
    "start_time": "2022-02-16T17:34:16.154Z"
   },
   {
    "duration": 45,
    "start_time": "2022-02-16T17:34:16.175Z"
   },
   {
    "duration": 22,
    "start_time": "2022-02-16T17:34:16.223Z"
   },
   {
    "duration": 354,
    "start_time": "2022-02-16T17:34:16.248Z"
   },
   {
    "duration": 218,
    "start_time": "2022-02-16T17:34:16.605Z"
   },
   {
    "duration": 15,
    "start_time": "2022-02-16T17:34:16.825Z"
   },
   {
    "duration": 15,
    "start_time": "2022-02-16T17:34:16.842Z"
   },
   {
    "duration": 11,
    "start_time": "2022-02-16T17:34:16.861Z"
   },
   {
    "duration": 385,
    "start_time": "2022-02-16T17:34:16.875Z"
   },
   {
    "duration": 273,
    "start_time": "2022-02-16T17:34:17.262Z"
   },
   {
    "duration": 15,
    "start_time": "2022-02-16T17:34:17.537Z"
   },
   {
    "duration": 444,
    "start_time": "2022-02-16T17:34:17.554Z"
   },
   {
    "duration": 19,
    "start_time": "2022-02-16T17:34:18.001Z"
   },
   {
    "duration": 249,
    "start_time": "2022-02-16T17:34:18.022Z"
   },
   {
    "duration": 16,
    "start_time": "2022-02-16T17:34:18.273Z"
   },
   {
    "duration": 424,
    "start_time": "2022-02-16T17:34:18.291Z"
   },
   {
    "duration": 234,
    "start_time": "2022-02-16T17:34:18.717Z"
   },
   {
    "duration": 323,
    "start_time": "2022-02-16T17:34:18.953Z"
   },
   {
    "duration": 6,
    "start_time": "2022-02-16T17:34:19.278Z"
   },
   {
    "duration": 346,
    "start_time": "2022-02-16T17:34:19.286Z"
   },
   {
    "duration": 5,
    "start_time": "2022-02-16T17:34:19.634Z"
   },
   {
    "duration": 24,
    "start_time": "2022-02-16T17:34:19.641Z"
   },
   {
    "duration": 356,
    "start_time": "2022-02-16T17:34:19.668Z"
   },
   {
    "duration": 185,
    "start_time": "2022-02-16T17:34:20.027Z"
   },
   {
    "duration": 162,
    "start_time": "2022-02-16T17:34:20.215Z"
   },
   {
    "duration": 28,
    "start_time": "2022-02-16T17:34:20.379Z"
   },
   {
    "duration": 12,
    "start_time": "2022-02-16T17:34:20.410Z"
   },
   {
    "duration": 45,
    "start_time": "2022-02-16T17:34:20.424Z"
   },
   {
    "duration": 32,
    "start_time": "2022-02-16T17:34:20.471Z"
   },
   {
    "duration": 1025,
    "start_time": "2022-02-16T19:29:34.696Z"
   },
   {
    "duration": 20,
    "start_time": "2022-02-16T19:29:35.723Z"
   },
   {
    "duration": 5,
    "start_time": "2022-02-16T19:29:35.748Z"
   },
   {
    "duration": 56,
    "start_time": "2022-02-16T19:29:35.755Z"
   },
   {
    "duration": 6,
    "start_time": "2022-02-16T19:29:35.813Z"
   },
   {
    "duration": 10,
    "start_time": "2022-02-16T19:29:35.821Z"
   },
   {
    "duration": 9,
    "start_time": "2022-02-16T19:29:35.834Z"
   },
   {
    "duration": 19,
    "start_time": "2022-02-16T19:29:35.846Z"
   },
   {
    "duration": 4,
    "start_time": "2022-02-16T19:29:35.868Z"
   },
   {
    "duration": 7,
    "start_time": "2022-02-16T19:29:35.874Z"
   },
   {
    "duration": 17,
    "start_time": "2022-02-16T19:29:35.882Z"
   },
   {
    "duration": 10,
    "start_time": "2022-02-16T19:29:35.901Z"
   },
   {
    "duration": 25,
    "start_time": "2022-02-16T19:29:35.913Z"
   },
   {
    "duration": 18,
    "start_time": "2022-02-16T19:29:35.940Z"
   },
   {
    "duration": 209,
    "start_time": "2022-02-16T19:29:35.960Z"
   },
   {
    "duration": 165,
    "start_time": "2022-02-16T19:29:36.171Z"
   },
   {
    "duration": 12,
    "start_time": "2022-02-16T19:29:36.338Z"
   },
   {
    "duration": 12,
    "start_time": "2022-02-16T19:29:36.352Z"
   },
   {
    "duration": 14,
    "start_time": "2022-02-16T19:29:36.366Z"
   },
   {
    "duration": 260,
    "start_time": "2022-02-16T19:29:36.382Z"
   },
   {
    "duration": 227,
    "start_time": "2022-02-16T19:29:36.644Z"
   },
   {
    "duration": 11,
    "start_time": "2022-02-16T19:29:36.875Z"
   },
   {
    "duration": 313,
    "start_time": "2022-02-16T19:29:36.888Z"
   },
   {
    "duration": 13,
    "start_time": "2022-02-16T19:29:37.203Z"
   },
   {
    "duration": 206,
    "start_time": "2022-02-16T19:29:37.218Z"
   },
   {
    "duration": 12,
    "start_time": "2022-02-16T19:29:37.426Z"
   },
   {
    "duration": 381,
    "start_time": "2022-02-16T19:29:37.440Z"
   },
   {
    "duration": 119,
    "start_time": "2022-02-16T19:29:37.823Z"
   },
   {
    "duration": 277,
    "start_time": "2022-02-16T19:29:37.944Z"
   },
   {
    "duration": 10,
    "start_time": "2022-02-16T19:29:38.222Z"
   },
   {
    "duration": 289,
    "start_time": "2022-02-16T19:29:38.233Z"
   },
   {
    "duration": 5,
    "start_time": "2022-02-16T19:29:38.529Z"
   },
   {
    "duration": 13,
    "start_time": "2022-02-16T19:29:38.535Z"
   },
   {
    "duration": 266,
    "start_time": "2022-02-16T19:29:38.549Z"
   },
   {
    "duration": 116,
    "start_time": "2022-02-16T19:29:38.816Z"
   },
   {
    "duration": 133,
    "start_time": "2022-02-16T19:29:38.934Z"
   },
   {
    "duration": 13,
    "start_time": "2022-02-16T19:29:39.069Z"
   },
   {
    "duration": 9,
    "start_time": "2022-02-16T19:29:39.083Z"
   },
   {
    "duration": 38,
    "start_time": "2022-02-16T19:29:39.093Z"
   },
   {
    "duration": 13,
    "start_time": "2022-02-16T19:29:39.133Z"
   },
   {
    "duration": 1077,
    "start_time": "2022-02-17T10:21:30.843Z"
   },
   {
    "duration": 25,
    "start_time": "2022-02-17T10:21:31.922Z"
   },
   {
    "duration": 5,
    "start_time": "2022-02-17T10:21:31.949Z"
   },
   {
    "duration": 36,
    "start_time": "2022-02-17T10:21:31.956Z"
   },
   {
    "duration": 6,
    "start_time": "2022-02-17T10:21:31.994Z"
   },
   {
    "duration": 5,
    "start_time": "2022-02-17T10:21:32.002Z"
   },
   {
    "duration": 8,
    "start_time": "2022-02-17T10:21:32.009Z"
   },
   {
    "duration": 28,
    "start_time": "2022-02-17T10:21:32.019Z"
   },
   {
    "duration": 6,
    "start_time": "2022-02-17T10:21:32.049Z"
   },
   {
    "duration": 5,
    "start_time": "2022-02-17T10:21:32.057Z"
   },
   {
    "duration": 20,
    "start_time": "2022-02-17T10:21:32.064Z"
   },
   {
    "duration": 11,
    "start_time": "2022-02-17T10:21:32.086Z"
   },
   {
    "duration": 33,
    "start_time": "2022-02-17T10:21:32.098Z"
   },
   {
    "duration": 4,
    "start_time": "2022-02-17T10:21:34.714Z"
   },
   {
    "duration": 3,
    "start_time": "2022-02-17T10:21:58.436Z"
   },
   {
    "duration": 4,
    "start_time": "2022-02-17T10:22:01.734Z"
   },
   {
    "duration": 9,
    "start_time": "2022-02-17T10:22:12.036Z"
   },
   {
    "duration": 2,
    "start_time": "2022-02-17T10:29:59.689Z"
   },
   {
    "duration": 10,
    "start_time": "2022-02-17T10:30:02.982Z"
   },
   {
    "duration": 3,
    "start_time": "2022-02-17T10:30:09.119Z"
   },
   {
    "duration": 18,
    "start_time": "2022-02-17T10:30:09.124Z"
   },
   {
    "duration": 7,
    "start_time": "2022-02-17T10:30:09.144Z"
   },
   {
    "duration": 31,
    "start_time": "2022-02-17T10:30:09.152Z"
   },
   {
    "duration": 5,
    "start_time": "2022-02-17T10:30:09.185Z"
   },
   {
    "duration": 8,
    "start_time": "2022-02-17T10:30:09.191Z"
   },
   {
    "duration": 6,
    "start_time": "2022-02-17T10:30:09.201Z"
   },
   {
    "duration": 26,
    "start_time": "2022-02-17T10:30:09.209Z"
   },
   {
    "duration": 5,
    "start_time": "2022-02-17T10:30:09.237Z"
   },
   {
    "duration": 6,
    "start_time": "2022-02-17T10:30:09.244Z"
   },
   {
    "duration": 12,
    "start_time": "2022-02-17T10:30:09.252Z"
   },
   {
    "duration": 10,
    "start_time": "2022-02-17T10:30:09.267Z"
   },
   {
    "duration": 12,
    "start_time": "2022-02-17T10:30:09.279Z"
   },
   {
    "duration": 40,
    "start_time": "2022-02-17T10:30:09.292Z"
   },
   {
    "duration": 11,
    "start_time": "2022-02-17T10:30:09.334Z"
   },
   {
    "duration": 511,
    "start_time": "2022-02-17T10:36:34.469Z"
   },
   {
    "duration": 10,
    "start_time": "2022-02-17T11:05:27.119Z"
   },
   {
    "duration": 3,
    "start_time": "2022-02-17T11:05:32.511Z"
   },
   {
    "duration": 26,
    "start_time": "2022-02-17T11:05:32.516Z"
   },
   {
    "duration": 5,
    "start_time": "2022-02-17T11:05:32.544Z"
   },
   {
    "duration": 35,
    "start_time": "2022-02-17T11:05:32.550Z"
   },
   {
    "duration": 4,
    "start_time": "2022-02-17T11:05:32.587Z"
   },
   {
    "duration": 6,
    "start_time": "2022-02-17T11:05:32.593Z"
   },
   {
    "duration": 5,
    "start_time": "2022-02-17T11:05:32.601Z"
   },
   {
    "duration": 18,
    "start_time": "2022-02-17T11:05:32.608Z"
   },
   {
    "duration": 6,
    "start_time": "2022-02-17T11:05:32.630Z"
   },
   {
    "duration": 5,
    "start_time": "2022-02-17T11:05:32.638Z"
   },
   {
    "duration": 13,
    "start_time": "2022-02-17T11:05:32.645Z"
   },
   {
    "duration": 11,
    "start_time": "2022-02-17T11:05:32.660Z"
   },
   {
    "duration": 196,
    "start_time": "2022-02-17T11:05:32.673Z"
   },
   {
    "duration": 1376,
    "start_time": "2022-02-17T11:05:31.494Z"
   },
   {
    "duration": 1373,
    "start_time": "2022-02-17T11:05:31.498Z"
   },
   {
    "duration": 8,
    "start_time": "2022-02-17T11:05:38.488Z"
   },
   {
    "duration": 3,
    "start_time": "2022-02-17T11:07:18.802Z"
   },
   {
    "duration": 20,
    "start_time": "2022-02-17T11:07:18.807Z"
   },
   {
    "duration": 5,
    "start_time": "2022-02-17T11:07:18.829Z"
   },
   {
    "duration": 36,
    "start_time": "2022-02-17T11:07:18.836Z"
   },
   {
    "duration": 5,
    "start_time": "2022-02-17T11:07:18.874Z"
   },
   {
    "duration": 7,
    "start_time": "2022-02-17T11:07:18.881Z"
   },
   {
    "duration": 7,
    "start_time": "2022-02-17T11:07:18.890Z"
   },
   {
    "duration": 18,
    "start_time": "2022-02-17T11:07:18.900Z"
   },
   {
    "duration": 4,
    "start_time": "2022-02-17T11:07:18.920Z"
   },
   {
    "duration": 8,
    "start_time": "2022-02-17T11:07:18.930Z"
   },
   {
    "duration": 12,
    "start_time": "2022-02-17T11:07:18.940Z"
   },
   {
    "duration": 10,
    "start_time": "2022-02-17T11:07:18.954Z"
   },
   {
    "duration": 177,
    "start_time": "2022-02-17T11:07:18.965Z"
   },
   {
    "duration": 1396,
    "start_time": "2022-02-17T11:07:17.748Z"
   },
   {
    "duration": 12,
    "start_time": "2022-02-17T11:07:29.259Z"
   },
   {
    "duration": 9,
    "start_time": "2022-02-17T11:07:31.755Z"
   },
   {
    "duration": 388,
    "start_time": "2022-02-17T11:10:07.063Z"
   },
   {
    "duration": 385,
    "start_time": "2022-02-17T11:10:33.695Z"
   },
   {
    "duration": 394,
    "start_time": "2022-02-17T11:10:50.785Z"
   },
   {
    "duration": 3,
    "start_time": "2022-02-17T11:16:06.669Z"
   },
   {
    "duration": 3,
    "start_time": "2022-02-17T11:16:06.709Z"
   },
   {
    "duration": 36,
    "start_time": "2022-02-17T11:16:06.714Z"
   },
   {
    "duration": 6,
    "start_time": "2022-02-17T11:16:06.752Z"
   },
   {
    "duration": 7,
    "start_time": "2022-02-17T11:16:06.760Z"
   },
   {
    "duration": 7,
    "start_time": "2022-02-17T11:16:06.768Z"
   },
   {
    "duration": 23,
    "start_time": "2022-02-17T11:16:06.777Z"
   },
   {
    "duration": 5,
    "start_time": "2022-02-17T11:16:06.802Z"
   },
   {
    "duration": 4,
    "start_time": "2022-02-17T11:16:06.831Z"
   },
   {
    "duration": 13,
    "start_time": "2022-02-17T11:16:06.837Z"
   },
   {
    "duration": 14,
    "start_time": "2022-02-17T11:16:06.851Z"
   },
   {
    "duration": 11,
    "start_time": "2022-02-17T11:16:06.866Z"
   },
   {
    "duration": 12,
    "start_time": "2022-02-17T11:16:06.879Z"
   },
   {
    "duration": 423,
    "start_time": "2022-02-17T11:16:06.893Z"
   },
   {
    "duration": 1324,
    "start_time": "2022-02-17T11:16:05.996Z"
   },
   {
    "duration": 1319,
    "start_time": "2022-02-17T11:16:06.002Z"
   },
   {
    "duration": 1321,
    "start_time": "2022-02-17T11:16:06.008Z"
   },
   {
    "duration": 1317,
    "start_time": "2022-02-17T11:16:06.013Z"
   },
   {
    "duration": 1315,
    "start_time": "2022-02-17T11:16:06.017Z"
   },
   {
    "duration": 1313,
    "start_time": "2022-02-17T11:16:06.020Z"
   },
   {
    "duration": 1311,
    "start_time": "2022-02-17T11:16:06.024Z"
   },
   {
    "duration": 1308,
    "start_time": "2022-02-17T11:16:06.028Z"
   },
   {
    "duration": 1306,
    "start_time": "2022-02-17T11:16:06.032Z"
   },
   {
    "duration": 1302,
    "start_time": "2022-02-17T11:16:06.037Z"
   },
   {
    "duration": 1298,
    "start_time": "2022-02-17T11:16:06.043Z"
   },
   {
    "duration": 1295,
    "start_time": "2022-02-17T11:16:06.047Z"
   },
   {
    "duration": 1292,
    "start_time": "2022-02-17T11:16:06.051Z"
   },
   {
    "duration": 1291,
    "start_time": "2022-02-17T11:16:06.054Z"
   },
   {
    "duration": 1289,
    "start_time": "2022-02-17T11:16:06.057Z"
   },
   {
    "duration": 1284,
    "start_time": "2022-02-17T11:16:06.063Z"
   },
   {
    "duration": 1283,
    "start_time": "2022-02-17T11:16:06.066Z"
   },
   {
    "duration": 1280,
    "start_time": "2022-02-17T11:16:06.070Z"
   },
   {
    "duration": 1278,
    "start_time": "2022-02-17T11:16:06.073Z"
   },
   {
    "duration": 1275,
    "start_time": "2022-02-17T11:16:06.078Z"
   },
   {
    "duration": 1269,
    "start_time": "2022-02-17T11:16:06.085Z"
   },
   {
    "duration": 1264,
    "start_time": "2022-02-17T11:16:06.092Z"
   },
   {
    "duration": 1250,
    "start_time": "2022-02-17T11:16:06.107Z"
   },
   {
    "duration": 1246,
    "start_time": "2022-02-17T11:16:06.112Z"
   },
   {
    "duration": 1245,
    "start_time": "2022-02-17T11:16:06.115Z"
   },
   {
    "duration": 1242,
    "start_time": "2022-02-17T11:16:06.119Z"
   },
   {
    "duration": 1241,
    "start_time": "2022-02-17T11:16:06.122Z"
   },
   {
    "duration": 4,
    "start_time": "2022-02-17T11:16:20.517Z"
   },
   {
    "duration": 5,
    "start_time": "2022-02-17T11:16:20.523Z"
   },
   {
    "duration": 32,
    "start_time": "2022-02-17T11:16:20.530Z"
   },
   {
    "duration": 6,
    "start_time": "2022-02-17T11:16:20.564Z"
   },
   {
    "duration": 7,
    "start_time": "2022-02-17T11:16:20.571Z"
   },
   {
    "duration": 11,
    "start_time": "2022-02-17T11:16:20.580Z"
   },
   {
    "duration": 21,
    "start_time": "2022-02-17T11:16:20.594Z"
   },
   {
    "duration": 16,
    "start_time": "2022-02-17T11:16:20.617Z"
   },
   {
    "duration": 7,
    "start_time": "2022-02-17T11:16:20.634Z"
   },
   {
    "duration": 15,
    "start_time": "2022-02-17T11:16:20.642Z"
   },
   {
    "duration": 11,
    "start_time": "2022-02-17T11:16:20.658Z"
   },
   {
    "duration": 17,
    "start_time": "2022-02-17T11:16:20.671Z"
   },
   {
    "duration": 13,
    "start_time": "2022-02-17T11:16:20.689Z"
   },
   {
    "duration": 428,
    "start_time": "2022-02-17T11:16:20.704Z"
   },
   {
    "duration": 1408,
    "start_time": "2022-02-17T11:16:19.726Z"
   },
   {
    "duration": 1405,
    "start_time": "2022-02-17T11:16:19.730Z"
   },
   {
    "duration": 1402,
    "start_time": "2022-02-17T11:16:19.734Z"
   },
   {
    "duration": 1399,
    "start_time": "2022-02-17T11:16:19.739Z"
   },
   {
    "duration": 1396,
    "start_time": "2022-02-17T11:16:19.743Z"
   },
   {
    "duration": 1393,
    "start_time": "2022-02-17T11:16:19.747Z"
   },
   {
    "duration": 1389,
    "start_time": "2022-02-17T11:16:19.752Z"
   },
   {
    "duration": 1387,
    "start_time": "2022-02-17T11:16:19.755Z"
   },
   {
    "duration": 1384,
    "start_time": "2022-02-17T11:16:19.759Z"
   },
   {
    "duration": 1381,
    "start_time": "2022-02-17T11:16:19.763Z"
   },
   {
    "duration": 1379,
    "start_time": "2022-02-17T11:16:19.766Z"
   },
   {
    "duration": 1369,
    "start_time": "2022-02-17T11:16:19.777Z"
   },
   {
    "duration": 1366,
    "start_time": "2022-02-17T11:16:19.781Z"
   },
   {
    "duration": 1365,
    "start_time": "2022-02-17T11:16:19.784Z"
   },
   {
    "duration": 1362,
    "start_time": "2022-02-17T11:16:19.788Z"
   },
   {
    "duration": 1358,
    "start_time": "2022-02-17T11:16:19.793Z"
   },
   {
    "duration": 1355,
    "start_time": "2022-02-17T11:16:19.797Z"
   },
   {
    "duration": 1353,
    "start_time": "2022-02-17T11:16:19.800Z"
   },
   {
    "duration": 1349,
    "start_time": "2022-02-17T11:16:19.805Z"
   },
   {
    "duration": 1346,
    "start_time": "2022-02-17T11:16:19.809Z"
   },
   {
    "duration": 1344,
    "start_time": "2022-02-17T11:16:19.812Z"
   },
   {
    "duration": 1342,
    "start_time": "2022-02-17T11:16:19.816Z"
   },
   {
    "duration": 1338,
    "start_time": "2022-02-17T11:16:19.820Z"
   },
   {
    "duration": 1337,
    "start_time": "2022-02-17T11:16:19.823Z"
   },
   {
    "duration": 1333,
    "start_time": "2022-02-17T11:16:19.827Z"
   },
   {
    "duration": 1331,
    "start_time": "2022-02-17T11:16:19.831Z"
   },
   {
    "duration": 1328,
    "start_time": "2022-02-17T11:16:19.834Z"
   },
   {
    "duration": 18,
    "start_time": "2022-02-17T11:17:45.405Z"
   },
   {
    "duration": 60,
    "start_time": "2022-02-17T11:33:58.884Z"
   },
   {
    "duration": 56,
    "start_time": "2022-02-17T11:34:01.894Z"
   },
   {
    "duration": 81,
    "start_time": "2022-02-17T11:34:25.491Z"
   },
   {
    "duration": 4,
    "start_time": "2022-02-17T11:34:30.304Z"
   },
   {
    "duration": 26,
    "start_time": "2022-02-17T11:34:30.311Z"
   },
   {
    "duration": 10,
    "start_time": "2022-02-17T11:34:30.339Z"
   },
   {
    "duration": 41,
    "start_time": "2022-02-17T11:34:30.351Z"
   },
   {
    "duration": 5,
    "start_time": "2022-02-17T11:34:30.394Z"
   },
   {
    "duration": 12,
    "start_time": "2022-02-17T11:34:30.401Z"
   },
   {
    "duration": 19,
    "start_time": "2022-02-17T11:34:30.415Z"
   },
   {
    "duration": 24,
    "start_time": "2022-02-17T11:34:30.436Z"
   },
   {
    "duration": 13,
    "start_time": "2022-02-17T11:34:30.461Z"
   },
   {
    "duration": 10,
    "start_time": "2022-02-17T11:34:30.476Z"
   },
   {
    "duration": 16,
    "start_time": "2022-02-17T11:34:30.487Z"
   },
   {
    "duration": 10,
    "start_time": "2022-02-17T11:34:30.504Z"
   },
   {
    "duration": 15,
    "start_time": "2022-02-17T11:34:30.515Z"
   },
   {
    "duration": 9,
    "start_time": "2022-02-17T11:34:30.532Z"
   },
   {
    "duration": 66,
    "start_time": "2022-02-17T11:34:30.543Z"
   },
   {
    "duration": 3,
    "start_time": "2022-02-17T11:35:09.762Z"
   },
   {
    "duration": 55,
    "start_time": "2022-02-17T11:35:24.287Z"
   },
   {
    "duration": 1064,
    "start_time": "2022-02-17T11:35:48.040Z"
   },
   {
    "duration": 26,
    "start_time": "2022-02-17T11:35:49.105Z"
   },
   {
    "duration": 3,
    "start_time": "2022-02-17T11:35:49.133Z"
   },
   {
    "duration": 34,
    "start_time": "2022-02-17T11:35:49.138Z"
   },
   {
    "duration": 6,
    "start_time": "2022-02-17T11:35:49.174Z"
   },
   {
    "duration": 9,
    "start_time": "2022-02-17T11:35:49.182Z"
   },
   {
    "duration": 10,
    "start_time": "2022-02-17T11:35:49.193Z"
   },
   {
    "duration": 26,
    "start_time": "2022-02-17T11:35:49.204Z"
   },
   {
    "duration": 4,
    "start_time": "2022-02-17T11:35:49.233Z"
   },
   {
    "duration": 14,
    "start_time": "2022-02-17T11:35:49.240Z"
   },
   {
    "duration": 16,
    "start_time": "2022-02-17T11:35:49.256Z"
   },
   {
    "duration": 12,
    "start_time": "2022-02-17T11:35:49.274Z"
   },
   {
    "duration": 12,
    "start_time": "2022-02-17T11:35:49.288Z"
   },
   {
    "duration": 37,
    "start_time": "2022-02-17T11:35:49.302Z"
   },
   {
    "duration": 67,
    "start_time": "2022-02-17T11:35:49.341Z"
   },
   {
    "duration": 1256,
    "start_time": "2022-02-17T11:35:48.155Z"
   },
   {
    "duration": 1253,
    "start_time": "2022-02-17T11:35:48.159Z"
   },
   {
    "duration": 1250,
    "start_time": "2022-02-17T11:35:48.162Z"
   },
   {
    "duration": 1226,
    "start_time": "2022-02-17T11:35:48.187Z"
   },
   {
    "duration": 1222,
    "start_time": "2022-02-17T11:35:48.192Z"
   },
   {
    "duration": 1220,
    "start_time": "2022-02-17T11:35:48.195Z"
   },
   {
    "duration": 1217,
    "start_time": "2022-02-17T11:35:48.199Z"
   },
   {
    "duration": 1214,
    "start_time": "2022-02-17T11:35:48.203Z"
   },
   {
    "duration": 1210,
    "start_time": "2022-02-17T11:35:48.208Z"
   },
   {
    "duration": 1207,
    "start_time": "2022-02-17T11:35:48.212Z"
   },
   {
    "duration": 1160,
    "start_time": "2022-02-17T11:35:48.259Z"
   },
   {
    "duration": 1157,
    "start_time": "2022-02-17T11:35:48.263Z"
   },
   {
    "duration": 1154,
    "start_time": "2022-02-17T11:35:48.267Z"
   },
   {
    "duration": 1151,
    "start_time": "2022-02-17T11:35:48.271Z"
   },
   {
    "duration": 1148,
    "start_time": "2022-02-17T11:35:48.275Z"
   },
   {
    "duration": 1144,
    "start_time": "2022-02-17T11:35:48.279Z"
   },
   {
    "duration": 1140,
    "start_time": "2022-02-17T11:35:48.284Z"
   },
   {
    "duration": 1127,
    "start_time": "2022-02-17T11:35:48.298Z"
   },
   {
    "duration": 1124,
    "start_time": "2022-02-17T11:35:48.302Z"
   },
   {
    "duration": 1120,
    "start_time": "2022-02-17T11:35:48.306Z"
   },
   {
    "duration": 1117,
    "start_time": "2022-02-17T11:35:48.310Z"
   },
   {
    "duration": 1114,
    "start_time": "2022-02-17T11:35:48.314Z"
   },
   {
    "duration": 1111,
    "start_time": "2022-02-17T11:35:48.318Z"
   },
   {
    "duration": 1108,
    "start_time": "2022-02-17T11:35:48.322Z"
   },
   {
    "duration": 1105,
    "start_time": "2022-02-17T11:35:48.326Z"
   },
   {
    "duration": 1101,
    "start_time": "2022-02-17T11:35:48.330Z"
   },
   {
    "duration": 1098,
    "start_time": "2022-02-17T11:35:48.334Z"
   },
   {
    "duration": 57,
    "start_time": "2022-02-17T11:36:23.919Z"
   },
   {
    "duration": 380,
    "start_time": "2022-02-17T11:57:15.048Z"
   },
   {
    "duration": 705,
    "start_time": "2022-02-17T11:57:57.401Z"
   },
   {
    "duration": 10,
    "start_time": "2022-02-17T11:59:15.293Z"
   },
   {
    "duration": 21,
    "start_time": "2022-02-17T11:59:52.869Z"
   },
   {
    "duration": 115,
    "start_time": "2022-02-17T14:08:43.113Z"
   },
   {
    "duration": 211,
    "start_time": "2022-02-17T14:09:24.911Z"
   },
   {
    "duration": 17,
    "start_time": "2022-02-17T14:09:31.962Z"
   },
   {
    "duration": 18,
    "start_time": "2022-02-17T14:09:46.949Z"
   },
   {
    "duration": 3,
    "start_time": "2022-02-17T14:11:46.980Z"
   },
   {
    "duration": 8,
    "start_time": "2022-02-17T14:11:54.864Z"
   },
   {
    "duration": 347,
    "start_time": "2022-02-17T14:16:52.590Z"
   },
   {
    "duration": 6,
    "start_time": "2022-02-17T14:16:55.643Z"
   },
   {
    "duration": 3,
    "start_time": "2022-02-17T14:18:49.312Z"
   },
   {
    "duration": 1501,
    "start_time": "2022-02-17T14:18:49.320Z"
   },
   {
    "duration": 3,
    "start_time": "2022-02-17T14:18:50.824Z"
   },
   {
    "duration": 53,
    "start_time": "2022-02-17T14:18:50.829Z"
   },
   {
    "duration": 4,
    "start_time": "2022-02-17T14:18:50.884Z"
   },
   {
    "duration": 8,
    "start_time": "2022-02-17T14:18:50.890Z"
   },
   {
    "duration": 8,
    "start_time": "2022-02-17T14:18:50.899Z"
   },
   {
    "duration": 23,
    "start_time": "2022-02-17T14:18:50.908Z"
   },
   {
    "duration": 7,
    "start_time": "2022-02-17T14:18:50.933Z"
   },
   {
    "duration": 6,
    "start_time": "2022-02-17T14:18:50.943Z"
   },
   {
    "duration": 16,
    "start_time": "2022-02-17T14:18:50.950Z"
   },
   {
    "duration": 9,
    "start_time": "2022-02-17T14:18:50.968Z"
   },
   {
    "duration": 11,
    "start_time": "2022-02-17T14:18:50.979Z"
   },
   {
    "duration": 7,
    "start_time": "2022-02-17T14:18:50.991Z"
   },
   {
    "duration": 44,
    "start_time": "2022-02-17T14:18:50.999Z"
   },
   {
    "duration": 10,
    "start_time": "2022-02-17T14:18:51.045Z"
   },
   {
    "duration": 205,
    "start_time": "2022-02-17T14:18:51.056Z"
   },
   {
    "duration": 155,
    "start_time": "2022-02-17T14:18:51.263Z"
   },
   {
    "duration": 17,
    "start_time": "2022-02-17T14:18:51.419Z"
   },
   {
    "duration": 12,
    "start_time": "2022-02-17T14:18:51.438Z"
   },
   {
    "duration": 11,
    "start_time": "2022-02-17T14:18:51.452Z"
   },
   {
    "duration": 249,
    "start_time": "2022-02-17T14:18:51.464Z"
   },
   {
    "duration": 232,
    "start_time": "2022-02-17T14:18:51.714Z"
   },
   {
    "duration": 11,
    "start_time": "2022-02-17T14:18:51.950Z"
   },
   {
    "duration": 406,
    "start_time": "2022-02-17T14:18:51.963Z"
   },
   {
    "duration": 13,
    "start_time": "2022-02-17T14:18:52.371Z"
   },
   {
    "duration": 207,
    "start_time": "2022-02-17T14:18:52.386Z"
   },
   {
    "duration": 14,
    "start_time": "2022-02-17T14:18:52.595Z"
   },
   {
    "duration": 349,
    "start_time": "2022-02-17T14:18:52.611Z"
   },
   {
    "duration": 120,
    "start_time": "2022-02-17T14:18:52.962Z"
   },
   {
    "duration": 248,
    "start_time": "2022-02-17T14:18:53.084Z"
   },
   {
    "duration": 5,
    "start_time": "2022-02-17T14:18:53.334Z"
   },
   {
    "duration": 299,
    "start_time": "2022-02-17T14:18:53.341Z"
   },
   {
    "duration": 5,
    "start_time": "2022-02-17T14:18:53.641Z"
   },
   {
    "duration": 660,
    "start_time": "2022-02-17T14:18:55.764Z"
   },
   {
    "duration": 13,
    "start_time": "2022-02-17T14:19:07.856Z"
   },
   {
    "duration": 4609,
    "start_time": "2022-02-17T14:20:17.227Z"
   },
   {
    "duration": 8,
    "start_time": "2022-02-17T14:20:30.307Z"
   },
   {
    "duration": 4512,
    "start_time": "2022-02-17T14:21:00.374Z"
   },
   {
    "duration": 4519,
    "start_time": "2022-02-17T14:21:08.593Z"
   },
   {
    "duration": 12,
    "start_time": "2022-02-17T14:21:20.538Z"
   },
   {
    "duration": 8,
    "start_time": "2022-02-17T14:21:30.092Z"
   },
   {
    "duration": 8,
    "start_time": "2022-02-17T14:23:54.360Z"
   },
   {
    "duration": 8,
    "start_time": "2022-02-17T14:24:48.060Z"
   },
   {
    "duration": 212,
    "start_time": "2022-02-17T14:26:39.670Z"
   },
   {
    "duration": 249,
    "start_time": "2022-02-17T14:26:47.747Z"
   },
   {
    "duration": 4394,
    "start_time": "2022-02-17T14:51:38.290Z"
   },
   {
    "duration": 5,
    "start_time": "2022-02-17T15:19:41.356Z"
   },
   {
    "duration": 13,
    "start_time": "2022-02-17T15:19:47.051Z"
   },
   {
    "duration": 16,
    "start_time": "2022-02-17T15:20:01.152Z"
   },
   {
    "duration": 17,
    "start_time": "2022-02-17T15:20:23.241Z"
   },
   {
    "duration": 7,
    "start_time": "2022-02-17T15:21:03.814Z"
   },
   {
    "duration": 20,
    "start_time": "2022-02-17T15:21:11.043Z"
   },
   {
    "duration": 4,
    "start_time": "2022-02-17T15:21:17.977Z"
   },
   {
    "duration": 23,
    "start_time": "2022-02-17T15:21:17.983Z"
   },
   {
    "duration": 6,
    "start_time": "2022-02-17T15:21:18.008Z"
   },
   {
    "duration": 47,
    "start_time": "2022-02-17T15:21:18.016Z"
   },
   {
    "duration": 5,
    "start_time": "2022-02-17T15:21:18.065Z"
   },
   {
    "duration": 4,
    "start_time": "2022-02-17T15:21:18.072Z"
   },
   {
    "duration": 10,
    "start_time": "2022-02-17T15:21:18.079Z"
   },
   {
    "duration": 21,
    "start_time": "2022-02-17T15:21:18.091Z"
   },
   {
    "duration": 6,
    "start_time": "2022-02-17T15:21:18.114Z"
   },
   {
    "duration": 11,
    "start_time": "2022-02-17T15:21:18.121Z"
   },
   {
    "duration": 12,
    "start_time": "2022-02-17T15:21:18.134Z"
   },
   {
    "duration": 11,
    "start_time": "2022-02-17T15:21:18.148Z"
   },
   {
    "duration": 12,
    "start_time": "2022-02-17T15:21:18.161Z"
   },
   {
    "duration": 9,
    "start_time": "2022-02-17T15:21:18.174Z"
   },
   {
    "duration": 56,
    "start_time": "2022-02-17T15:21:18.185Z"
   },
   {
    "duration": 10,
    "start_time": "2022-02-17T15:21:18.242Z"
   },
   {
    "duration": 207,
    "start_time": "2022-02-17T15:21:18.253Z"
   },
   {
    "duration": 170,
    "start_time": "2022-02-17T15:21:18.461Z"
   },
   {
    "duration": 13,
    "start_time": "2022-02-17T15:21:18.634Z"
   },
   {
    "duration": 12,
    "start_time": "2022-02-17T15:21:18.649Z"
   },
   {
    "duration": 11,
    "start_time": "2022-02-17T15:21:18.662Z"
   },
   {
    "duration": 249,
    "start_time": "2022-02-17T15:21:18.675Z"
   },
   {
    "duration": 240,
    "start_time": "2022-02-17T15:21:18.926Z"
   },
   {
    "duration": 13,
    "start_time": "2022-02-17T15:21:19.168Z"
   },
   {
    "duration": 316,
    "start_time": "2022-02-17T15:21:19.183Z"
   },
   {
    "duration": 14,
    "start_time": "2022-02-17T15:21:19.501Z"
   },
   {
    "duration": 220,
    "start_time": "2022-02-17T15:21:19.517Z"
   },
   {
    "duration": 14,
    "start_time": "2022-02-17T15:21:19.739Z"
   },
   {
    "duration": 340,
    "start_time": "2022-02-17T15:21:19.755Z"
   },
   {
    "duration": 121,
    "start_time": "2022-02-17T15:21:20.097Z"
   },
   {
    "duration": 320,
    "start_time": "2022-02-17T15:21:20.220Z"
   },
   {
    "duration": 5,
    "start_time": "2022-02-17T15:21:20.542Z"
   },
   {
    "duration": 14,
    "start_time": "2022-02-17T15:21:20.549Z"
   },
   {
    "duration": 20,
    "start_time": "2022-02-17T15:21:20.565Z"
   },
   {
    "duration": 11,
    "start_time": "2022-02-17T15:22:26.478Z"
   },
   {
    "duration": 9,
    "start_time": "2022-02-17T15:22:50.288Z"
   },
   {
    "duration": 9,
    "start_time": "2022-02-17T15:23:05.694Z"
   },
   {
    "duration": 234,
    "start_time": "2022-02-17T15:23:05.705Z"
   },
   {
    "duration": 428,
    "start_time": "2022-02-17T15:23:05.941Z"
   },
   {
    "duration": -349,
    "start_time": "2022-02-17T15:23:06.720Z"
   },
   {
    "duration": -356,
    "start_time": "2022-02-17T15:23:06.728Z"
   },
   {
    "duration": -362,
    "start_time": "2022-02-17T15:23:06.735Z"
   },
   {
    "duration": -365,
    "start_time": "2022-02-17T15:23:06.740Z"
   },
   {
    "duration": -372,
    "start_time": "2022-02-17T15:23:06.747Z"
   },
   {
    "duration": -377,
    "start_time": "2022-02-17T15:23:06.753Z"
   },
   {
    "duration": -381,
    "start_time": "2022-02-17T15:23:06.758Z"
   },
   {
    "duration": -384,
    "start_time": "2022-02-17T15:23:06.762Z"
   },
   {
    "duration": 3,
    "start_time": "2022-02-17T15:23:09.954Z"
   },
   {
    "duration": 20,
    "start_time": "2022-02-17T15:23:09.958Z"
   },
   {
    "duration": 2,
    "start_time": "2022-02-17T15:23:09.980Z"
   },
   {
    "duration": 35,
    "start_time": "2022-02-17T15:23:09.984Z"
   },
   {
    "duration": 6,
    "start_time": "2022-02-17T15:23:10.021Z"
   },
   {
    "duration": 8,
    "start_time": "2022-02-17T15:23:10.029Z"
   },
   {
    "duration": 7,
    "start_time": "2022-02-17T15:23:10.039Z"
   },
   {
    "duration": 25,
    "start_time": "2022-02-17T15:23:10.048Z"
   },
   {
    "duration": 10,
    "start_time": "2022-02-17T15:23:10.074Z"
   },
   {
    "duration": 22,
    "start_time": "2022-02-17T15:23:10.087Z"
   },
   {
    "duration": 14,
    "start_time": "2022-02-17T15:23:10.111Z"
   },
   {
    "duration": 10,
    "start_time": "2022-02-17T15:23:10.129Z"
   },
   {
    "duration": 12,
    "start_time": "2022-02-17T15:23:10.141Z"
   },
   {
    "duration": 11,
    "start_time": "2022-02-17T15:23:10.155Z"
   },
   {
    "duration": 19,
    "start_time": "2022-02-17T15:23:10.167Z"
   },
   {
    "duration": 9,
    "start_time": "2022-02-17T15:23:10.188Z"
   },
   {
    "duration": 223,
    "start_time": "2022-02-17T15:23:10.199Z"
   },
   {
    "duration": 158,
    "start_time": "2022-02-17T15:23:10.424Z"
   },
   {
    "duration": 12,
    "start_time": "2022-02-17T15:23:10.584Z"
   },
   {
    "duration": 9,
    "start_time": "2022-02-17T15:23:10.597Z"
   },
   {
    "duration": 10,
    "start_time": "2022-02-17T15:23:10.630Z"
   },
   {
    "duration": 254,
    "start_time": "2022-02-17T15:23:10.642Z"
   },
   {
    "duration": 233,
    "start_time": "2022-02-17T15:23:10.898Z"
   },
   {
    "duration": 12,
    "start_time": "2022-02-17T15:23:11.133Z"
   },
   {
    "duration": 328,
    "start_time": "2022-02-17T15:23:11.149Z"
   },
   {
    "duration": 13,
    "start_time": "2022-02-17T15:23:11.479Z"
   },
   {
    "duration": 211,
    "start_time": "2022-02-17T15:23:11.494Z"
   },
   {
    "duration": 23,
    "start_time": "2022-02-17T15:23:11.707Z"
   },
   {
    "duration": 323,
    "start_time": "2022-02-17T15:23:11.732Z"
   },
   {
    "duration": 115,
    "start_time": "2022-02-17T15:23:12.057Z"
   },
   {
    "duration": 258,
    "start_time": "2022-02-17T15:23:12.174Z"
   },
   {
    "duration": 5,
    "start_time": "2022-02-17T15:23:12.434Z"
   },
   {
    "duration": 14,
    "start_time": "2022-02-17T15:23:12.440Z"
   },
   {
    "duration": 8,
    "start_time": "2022-02-17T15:23:12.456Z"
   },
   {
    "duration": 169,
    "start_time": "2022-02-17T15:23:12.466Z"
   },
   {
    "duration": 427,
    "start_time": "2022-02-17T15:23:12.637Z"
   },
   {
    "duration": -358,
    "start_time": "2022-02-17T15:23:13.424Z"
   },
   {
    "duration": -363,
    "start_time": "2022-02-17T15:23:13.431Z"
   },
   {
    "duration": -368,
    "start_time": "2022-02-17T15:23:13.437Z"
   },
   {
    "duration": -372,
    "start_time": "2022-02-17T15:23:13.443Z"
   },
   {
    "duration": -376,
    "start_time": "2022-02-17T15:23:13.448Z"
   },
   {
    "duration": -382,
    "start_time": "2022-02-17T15:23:13.455Z"
   },
   {
    "duration": -385,
    "start_time": "2022-02-17T15:23:13.460Z"
   },
   {
    "duration": -389,
    "start_time": "2022-02-17T15:23:13.465Z"
   },
   {
    "duration": 10,
    "start_time": "2022-02-17T15:23:31.343Z"
   },
   {
    "duration": 9,
    "start_time": "2022-02-17T15:23:47.841Z"
   },
   {
    "duration": 3,
    "start_time": "2022-02-17T15:23:58.852Z"
   },
   {
    "duration": 21,
    "start_time": "2022-02-17T15:23:58.858Z"
   },
   {
    "duration": 3,
    "start_time": "2022-02-17T15:23:58.881Z"
   },
   {
    "duration": 32,
    "start_time": "2022-02-17T15:23:58.886Z"
   },
   {
    "duration": 6,
    "start_time": "2022-02-17T15:23:58.920Z"
   },
   {
    "duration": 7,
    "start_time": "2022-02-17T15:23:58.928Z"
   },
   {
    "duration": 7,
    "start_time": "2022-02-17T15:23:58.937Z"
   },
   {
    "duration": 23,
    "start_time": "2022-02-17T15:23:58.947Z"
   },
   {
    "duration": 5,
    "start_time": "2022-02-17T15:23:58.972Z"
   },
   {
    "duration": 14,
    "start_time": "2022-02-17T15:23:58.979Z"
   },
   {
    "duration": 36,
    "start_time": "2022-02-17T15:23:58.995Z"
   },
   {
    "duration": 11,
    "start_time": "2022-02-17T15:23:59.033Z"
   },
   {
    "duration": 13,
    "start_time": "2022-02-17T15:23:59.046Z"
   },
   {
    "duration": 12,
    "start_time": "2022-02-17T15:23:59.061Z"
   },
   {
    "duration": 20,
    "start_time": "2022-02-17T15:23:59.075Z"
   },
   {
    "duration": 35,
    "start_time": "2022-02-17T15:23:59.097Z"
   },
   {
    "duration": 207,
    "start_time": "2022-02-17T15:23:59.134Z"
   },
   {
    "duration": 171,
    "start_time": "2022-02-17T15:23:59.343Z"
   },
   {
    "duration": 27,
    "start_time": "2022-02-17T15:23:59.516Z"
   },
   {
    "duration": 11,
    "start_time": "2022-02-17T15:23:59.545Z"
   },
   {
    "duration": 9,
    "start_time": "2022-02-17T15:23:59.557Z"
   },
   {
    "duration": 251,
    "start_time": "2022-02-17T15:23:59.568Z"
   },
   {
    "duration": 267,
    "start_time": "2022-02-17T15:23:59.822Z"
   },
   {
    "duration": 12,
    "start_time": "2022-02-17T15:24:00.091Z"
   },
   {
    "duration": 429,
    "start_time": "2022-02-17T15:24:00.105Z"
   },
   {
    "duration": 19,
    "start_time": "2022-02-17T15:24:00.537Z"
   },
   {
    "duration": 217,
    "start_time": "2022-02-17T15:24:00.558Z"
   },
   {
    "duration": 15,
    "start_time": "2022-02-17T15:24:00.777Z"
   },
   {
    "duration": 394,
    "start_time": "2022-02-17T15:24:00.794Z"
   },
   {
    "duration": 121,
    "start_time": "2022-02-17T15:24:01.190Z"
   },
   {
    "duration": 325,
    "start_time": "2022-02-17T15:24:01.312Z"
   },
   {
    "duration": 4,
    "start_time": "2022-02-17T15:24:01.639Z"
   },
   {
    "duration": 16,
    "start_time": "2022-02-17T15:24:01.645Z"
   },
   {
    "duration": 17,
    "start_time": "2022-02-17T15:24:04.739Z"
   },
   {
    "duration": 9,
    "start_time": "2022-02-17T15:24:13.926Z"
   },
   {
    "duration": 3,
    "start_time": "2022-02-17T15:24:23.761Z"
   },
   {
    "duration": 29,
    "start_time": "2022-02-17T15:24:23.766Z"
   },
   {
    "duration": 3,
    "start_time": "2022-02-17T15:24:23.797Z"
   },
   {
    "duration": 31,
    "start_time": "2022-02-17T15:24:23.802Z"
   },
   {
    "duration": 5,
    "start_time": "2022-02-17T15:24:23.835Z"
   },
   {
    "duration": 5,
    "start_time": "2022-02-17T15:24:23.841Z"
   },
   {
    "duration": 7,
    "start_time": "2022-02-17T15:24:23.848Z"
   },
   {
    "duration": 18,
    "start_time": "2022-02-17T15:24:23.857Z"
   },
   {
    "duration": 4,
    "start_time": "2022-02-17T15:24:23.877Z"
   },
   {
    "duration": 6,
    "start_time": "2022-02-17T15:24:23.882Z"
   },
   {
    "duration": 40,
    "start_time": "2022-02-17T15:24:23.890Z"
   },
   {
    "duration": 10,
    "start_time": "2022-02-17T15:24:23.932Z"
   },
   {
    "duration": 13,
    "start_time": "2022-02-17T15:24:23.943Z"
   },
   {
    "duration": 20,
    "start_time": "2022-02-17T15:24:23.957Z"
   },
   {
    "duration": 22,
    "start_time": "2022-02-17T15:24:23.978Z"
   },
   {
    "duration": 10,
    "start_time": "2022-02-17T15:24:24.002Z"
   },
   {
    "duration": 210,
    "start_time": "2022-02-17T15:24:24.013Z"
   },
   {
    "duration": 166,
    "start_time": "2022-02-17T15:24:24.225Z"
   },
   {
    "duration": 13,
    "start_time": "2022-02-17T15:24:24.394Z"
   },
   {
    "duration": 27,
    "start_time": "2022-02-17T15:24:24.409Z"
   },
   {
    "duration": 13,
    "start_time": "2022-02-17T15:24:24.438Z"
   },
   {
    "duration": 235,
    "start_time": "2022-02-17T15:24:24.453Z"
   },
   {
    "duration": 234,
    "start_time": "2022-02-17T15:24:24.690Z"
   },
   {
    "duration": 12,
    "start_time": "2022-02-17T15:24:24.926Z"
   },
   {
    "duration": 354,
    "start_time": "2022-02-17T15:24:24.939Z"
   },
   {
    "duration": 13,
    "start_time": "2022-02-17T15:24:25.296Z"
   },
   {
    "duration": 206,
    "start_time": "2022-02-17T15:24:25.311Z"
   },
   {
    "duration": 20,
    "start_time": "2022-02-17T15:24:25.519Z"
   },
   {
    "duration": 337,
    "start_time": "2022-02-17T15:24:25.540Z"
   },
   {
    "duration": 107,
    "start_time": "2022-02-17T15:24:25.879Z"
   },
   {
    "duration": 254,
    "start_time": "2022-02-17T15:24:25.988Z"
   },
   {
    "duration": 5,
    "start_time": "2022-02-17T15:24:26.244Z"
   },
   {
    "duration": 11,
    "start_time": "2022-02-17T15:24:26.250Z"
   },
   {
    "duration": 16,
    "start_time": "2022-02-17T15:24:26.263Z"
   },
   {
    "duration": 175,
    "start_time": "2022-02-17T15:26:35.230Z"
   },
   {
    "duration": 7,
    "start_time": "2022-02-17T15:26:43.007Z"
   },
   {
    "duration": 117,
    "start_time": "2022-02-17T15:26:44.014Z"
   },
   {
    "duration": 5,
    "start_time": "2022-02-17T15:26:46.914Z"
   },
   {
    "duration": 311,
    "start_time": "2022-02-17T15:27:51.829Z"
   },
   {
    "duration": 5,
    "start_time": "2022-02-17T15:27:57.389Z"
   },
   {
    "duration": 3,
    "start_time": "2022-02-17T15:28:12.090Z"
   },
   {
    "duration": 22,
    "start_time": "2022-02-17T15:28:12.095Z"
   },
   {
    "duration": 5,
    "start_time": "2022-02-17T15:28:12.118Z"
   },
   {
    "duration": 33,
    "start_time": "2022-02-17T15:28:12.125Z"
   },
   {
    "duration": 5,
    "start_time": "2022-02-17T15:28:12.160Z"
   },
   {
    "duration": 8,
    "start_time": "2022-02-17T15:28:12.167Z"
   },
   {
    "duration": 8,
    "start_time": "2022-02-17T15:28:12.177Z"
   },
   {
    "duration": 17,
    "start_time": "2022-02-17T15:28:12.187Z"
   },
   {
    "duration": 5,
    "start_time": "2022-02-17T15:28:12.206Z"
   },
   {
    "duration": 87,
    "start_time": "2022-02-17T15:28:12.230Z"
   },
   {
    "duration": 16,
    "start_time": "2022-02-17T15:28:12.319Z"
   },
   {
    "duration": 13,
    "start_time": "2022-02-17T15:28:12.336Z"
   },
   {
    "duration": 15,
    "start_time": "2022-02-17T15:28:12.351Z"
   },
   {
    "duration": 11,
    "start_time": "2022-02-17T15:28:12.367Z"
   },
   {
    "duration": 16,
    "start_time": "2022-02-17T15:28:12.379Z"
   },
   {
    "duration": 35,
    "start_time": "2022-02-17T15:28:12.396Z"
   },
   {
    "duration": 197,
    "start_time": "2022-02-17T15:28:12.432Z"
   },
   {
    "duration": 161,
    "start_time": "2022-02-17T15:28:12.631Z"
   },
   {
    "duration": 12,
    "start_time": "2022-02-17T15:28:12.795Z"
   },
   {
    "duration": 23,
    "start_time": "2022-02-17T15:28:12.809Z"
   },
   {
    "duration": 10,
    "start_time": "2022-02-17T15:28:12.833Z"
   },
   {
    "duration": 251,
    "start_time": "2022-02-17T15:28:12.845Z"
   },
   {
    "duration": 234,
    "start_time": "2022-02-17T15:28:13.098Z"
   },
   {
    "duration": 12,
    "start_time": "2022-02-17T15:28:13.334Z"
   },
   {
    "duration": 339,
    "start_time": "2022-02-17T15:28:13.348Z"
   },
   {
    "duration": 13,
    "start_time": "2022-02-17T15:28:13.689Z"
   },
   {
    "duration": 200,
    "start_time": "2022-02-17T15:28:13.704Z"
   },
   {
    "duration": 13,
    "start_time": "2022-02-17T15:28:13.906Z"
   },
   {
    "duration": 333,
    "start_time": "2022-02-17T15:28:13.929Z"
   },
   {
    "duration": 119,
    "start_time": "2022-02-17T15:28:14.264Z"
   },
   {
    "duration": 258,
    "start_time": "2022-02-17T15:28:14.385Z"
   },
   {
    "duration": 5,
    "start_time": "2022-02-17T15:28:14.645Z"
   },
   {
    "duration": 18,
    "start_time": "2022-02-17T15:28:14.652Z"
   },
   {
    "duration": 6,
    "start_time": "2022-02-17T15:28:14.672Z"
   },
   {
    "duration": 120,
    "start_time": "2022-02-17T15:28:14.680Z"
   },
   {
    "duration": 5,
    "start_time": "2022-02-17T15:28:14.802Z"
   },
   {
    "duration": 342,
    "start_time": "2022-02-17T15:28:14.809Z"
   },
   {
    "duration": 4,
    "start_time": "2022-02-17T15:28:15.153Z"
   },
   {
    "duration": 6,
    "start_time": "2022-02-17T15:28:46.081Z"
   },
   {
    "duration": 335,
    "start_time": "2022-02-17T15:29:21.126Z"
   },
   {
    "duration": 3,
    "start_time": "2022-02-17T15:29:31.235Z"
   },
   {
    "duration": 23,
    "start_time": "2022-02-17T15:29:31.240Z"
   },
   {
    "duration": 3,
    "start_time": "2022-02-17T15:29:31.265Z"
   },
   {
    "duration": 34,
    "start_time": "2022-02-17T15:29:31.270Z"
   },
   {
    "duration": 5,
    "start_time": "2022-02-17T15:29:31.306Z"
   },
   {
    "duration": 6,
    "start_time": "2022-02-17T15:29:31.313Z"
   },
   {
    "duration": 12,
    "start_time": "2022-02-17T15:29:31.320Z"
   },
   {
    "duration": 17,
    "start_time": "2022-02-17T15:29:31.334Z"
   },
   {
    "duration": 4,
    "start_time": "2022-02-17T15:29:31.353Z"
   },
   {
    "duration": 6,
    "start_time": "2022-02-17T15:29:31.358Z"
   },
   {
    "duration": 11,
    "start_time": "2022-02-17T15:29:31.365Z"
   },
   {
    "duration": 9,
    "start_time": "2022-02-17T15:29:31.377Z"
   },
   {
    "duration": 49,
    "start_time": "2022-02-17T15:29:31.388Z"
   },
   {
    "duration": 10,
    "start_time": "2022-02-17T15:29:31.438Z"
   },
   {
    "duration": 16,
    "start_time": "2022-02-17T15:29:31.449Z"
   },
   {
    "duration": 12,
    "start_time": "2022-02-17T15:29:31.466Z"
   },
   {
    "duration": 207,
    "start_time": "2022-02-17T15:29:31.480Z"
   },
   {
    "duration": 165,
    "start_time": "2022-02-17T15:29:31.689Z"
   },
   {
    "duration": 14,
    "start_time": "2022-02-17T15:29:31.858Z"
   },
   {
    "duration": 16,
    "start_time": "2022-02-17T15:29:31.874Z"
   },
   {
    "duration": 11,
    "start_time": "2022-02-17T15:29:31.892Z"
   },
   {
    "duration": 247,
    "start_time": "2022-02-17T15:29:31.904Z"
   },
   {
    "duration": 225,
    "start_time": "2022-02-17T15:29:32.153Z"
   },
   {
    "duration": 12,
    "start_time": "2022-02-17T15:29:32.379Z"
   },
   {
    "duration": 334,
    "start_time": "2022-02-17T15:29:32.392Z"
   },
   {
    "duration": 12,
    "start_time": "2022-02-17T15:29:32.730Z"
   },
   {
    "duration": 205,
    "start_time": "2022-02-17T15:29:32.743Z"
   },
   {
    "duration": 14,
    "start_time": "2022-02-17T15:29:32.951Z"
   },
   {
    "duration": 427,
    "start_time": "2022-02-17T15:29:32.966Z"
   },
   {
    "duration": 101,
    "start_time": "2022-02-17T15:29:33.395Z"
   },
   {
    "duration": 278,
    "start_time": "2022-02-17T15:29:33.498Z"
   },
   {
    "duration": 4,
    "start_time": "2022-02-17T15:29:33.778Z"
   },
   {
    "duration": 11,
    "start_time": "2022-02-17T15:29:33.783Z"
   },
   {
    "duration": 5,
    "start_time": "2022-02-17T15:29:33.796Z"
   },
   {
    "duration": 130,
    "start_time": "2022-02-17T15:29:33.802Z"
   },
   {
    "duration": 4,
    "start_time": "2022-02-17T15:29:33.934Z"
   },
   {
    "duration": 306,
    "start_time": "2022-02-17T15:29:33.940Z"
   },
   {
    "duration": 5,
    "start_time": "2022-02-17T15:29:34.247Z"
   },
   {
    "duration": 8,
    "start_time": "2022-02-17T15:29:34.253Z"
   },
   {
    "duration": 7,
    "start_time": "2022-02-17T15:29:34.262Z"
   },
   {
    "duration": 278,
    "start_time": "2022-02-17T15:29:34.270Z"
   },
   {
    "duration": 127,
    "start_time": "2022-02-17T15:29:34.550Z"
   },
   {
    "duration": 122,
    "start_time": "2022-02-17T15:29:34.679Z"
   },
   {
    "duration": 29,
    "start_time": "2022-02-17T15:29:34.802Z"
   },
   {
    "duration": 10,
    "start_time": "2022-02-17T15:29:34.832Z"
   },
   {
    "duration": 16,
    "start_time": "2022-02-17T15:29:34.843Z"
   },
   {
    "duration": 13,
    "start_time": "2022-02-17T15:29:34.860Z"
   },
   {
    "duration": 202,
    "start_time": "2022-02-17T15:33:23.055Z"
   },
   {
    "duration": 3,
    "start_time": "2022-02-17T15:33:28.359Z"
   },
   {
    "duration": 26,
    "start_time": "2022-02-17T15:33:28.364Z"
   },
   {
    "duration": 4,
    "start_time": "2022-02-17T15:33:28.392Z"
   },
   {
    "duration": 38,
    "start_time": "2022-02-17T15:33:28.397Z"
   },
   {
    "duration": 6,
    "start_time": "2022-02-17T15:33:28.437Z"
   },
   {
    "duration": 6,
    "start_time": "2022-02-17T15:33:28.444Z"
   },
   {
    "duration": 7,
    "start_time": "2022-02-17T15:33:28.451Z"
   },
   {
    "duration": 18,
    "start_time": "2022-02-17T15:33:28.459Z"
   },
   {
    "duration": 5,
    "start_time": "2022-02-17T15:33:28.479Z"
   },
   {
    "duration": 7,
    "start_time": "2022-02-17T15:33:28.486Z"
   },
   {
    "duration": 44,
    "start_time": "2022-02-17T15:33:28.494Z"
   },
   {
    "duration": 9,
    "start_time": "2022-02-17T15:33:28.539Z"
   },
   {
    "duration": 13,
    "start_time": "2022-02-17T15:33:28.550Z"
   },
   {
    "duration": 9,
    "start_time": "2022-02-17T15:33:28.565Z"
   },
   {
    "duration": 18,
    "start_time": "2022-02-17T15:33:28.576Z"
   },
   {
    "duration": 35,
    "start_time": "2022-02-17T15:33:28.596Z"
   },
   {
    "duration": 201,
    "start_time": "2022-02-17T15:33:28.632Z"
   },
   {
    "duration": 173,
    "start_time": "2022-02-17T15:33:28.835Z"
   },
   {
    "duration": 28,
    "start_time": "2022-02-17T15:33:29.009Z"
   },
   {
    "duration": 12,
    "start_time": "2022-02-17T15:33:29.039Z"
   },
   {
    "duration": 10,
    "start_time": "2022-02-17T15:33:29.053Z"
   },
   {
    "duration": 256,
    "start_time": "2022-02-17T15:33:29.064Z"
   },
   {
    "duration": 226,
    "start_time": "2022-02-17T15:33:29.330Z"
   },
   {
    "duration": 12,
    "start_time": "2022-02-17T15:33:29.557Z"
   },
   {
    "duration": 314,
    "start_time": "2022-02-17T15:33:29.570Z"
   },
   {
    "duration": 14,
    "start_time": "2022-02-17T15:33:29.886Z"
   },
   {
    "duration": 206,
    "start_time": "2022-02-17T15:33:29.903Z"
   },
   {
    "duration": 13,
    "start_time": "2022-02-17T15:33:30.111Z"
   },
   {
    "duration": 345,
    "start_time": "2022-02-17T15:33:30.130Z"
   },
   {
    "duration": 115,
    "start_time": "2022-02-17T15:33:30.477Z"
   },
   {
    "duration": 272,
    "start_time": "2022-02-17T15:33:30.594Z"
   },
   {
    "duration": 4,
    "start_time": "2022-02-17T15:33:30.868Z"
   },
   {
    "duration": 290,
    "start_time": "2022-02-17T15:33:30.873Z"
   },
   {
    "duration": 4,
    "start_time": "2022-02-17T15:33:31.165Z"
   },
   {
    "duration": 17,
    "start_time": "2022-02-17T15:33:31.171Z"
   },
   {
    "duration": 14,
    "start_time": "2022-02-17T15:33:31.190Z"
   },
   {
    "duration": 266,
    "start_time": "2022-02-17T15:33:31.206Z"
   },
   {
    "duration": 134,
    "start_time": "2022-02-17T15:33:31.474Z"
   },
   {
    "duration": 132,
    "start_time": "2022-02-17T15:33:31.609Z"
   },
   {
    "duration": 13,
    "start_time": "2022-02-17T15:33:31.744Z"
   },
   {
    "duration": 9,
    "start_time": "2022-02-17T15:33:31.759Z"
   },
   {
    "duration": 16,
    "start_time": "2022-02-17T15:33:31.770Z"
   },
   {
    "duration": 15,
    "start_time": "2022-02-17T15:33:31.788Z"
   },
   {
    "duration": 208,
    "start_time": "2022-02-17T15:33:31.831Z"
   },
   {
    "duration": 278,
    "start_time": "2022-02-17T15:34:06.053Z"
   },
   {
    "duration": 4,
    "start_time": "2022-02-17T15:34:16.895Z"
   },
   {
    "duration": 20,
    "start_time": "2022-02-17T15:34:16.901Z"
   },
   {
    "duration": 6,
    "start_time": "2022-02-17T15:34:16.923Z"
   },
   {
    "duration": 31,
    "start_time": "2022-02-17T15:34:16.931Z"
   },
   {
    "duration": 6,
    "start_time": "2022-02-17T15:34:16.963Z"
   },
   {
    "duration": 6,
    "start_time": "2022-02-17T15:34:16.971Z"
   },
   {
    "duration": 8,
    "start_time": "2022-02-17T15:34:16.979Z"
   },
   {
    "duration": 19,
    "start_time": "2022-02-17T15:34:16.990Z"
   },
   {
    "duration": 5,
    "start_time": "2022-02-17T15:34:17.029Z"
   },
   {
    "duration": 6,
    "start_time": "2022-02-17T15:34:17.036Z"
   },
   {
    "duration": 11,
    "start_time": "2022-02-17T15:34:17.044Z"
   },
   {
    "duration": 9,
    "start_time": "2022-02-17T15:34:17.056Z"
   },
   {
    "duration": 13,
    "start_time": "2022-02-17T15:34:17.067Z"
   },
   {
    "duration": 10,
    "start_time": "2022-02-17T15:34:17.081Z"
   },
   {
    "duration": 50,
    "start_time": "2022-02-17T15:34:17.092Z"
   },
   {
    "duration": 9,
    "start_time": "2022-02-17T15:34:17.144Z"
   },
   {
    "duration": 192,
    "start_time": "2022-02-17T15:34:17.155Z"
   },
   {
    "duration": 156,
    "start_time": "2022-02-17T15:34:17.348Z"
   },
   {
    "duration": 13,
    "start_time": "2022-02-17T15:34:17.506Z"
   },
   {
    "duration": 11,
    "start_time": "2022-02-17T15:34:17.530Z"
   },
   {
    "duration": 13,
    "start_time": "2022-02-17T15:34:17.543Z"
   },
   {
    "duration": 323,
    "start_time": "2022-02-17T15:34:17.558Z"
   },
   {
    "duration": 236,
    "start_time": "2022-02-17T15:34:17.884Z"
   },
   {
    "duration": 17,
    "start_time": "2022-02-17T15:34:18.122Z"
   },
   {
    "duration": 335,
    "start_time": "2022-02-17T15:34:18.140Z"
   },
   {
    "duration": 12,
    "start_time": "2022-02-17T15:34:18.477Z"
   },
   {
    "duration": 197,
    "start_time": "2022-02-17T15:34:18.490Z"
   },
   {
    "duration": 13,
    "start_time": "2022-02-17T15:34:18.689Z"
   },
   {
    "duration": 358,
    "start_time": "2022-02-17T15:34:18.703Z"
   },
   {
    "duration": 149,
    "start_time": "2022-02-17T15:34:19.063Z"
   },
   {
    "duration": 329,
    "start_time": "2022-02-17T15:34:19.214Z"
   },
   {
    "duration": 5,
    "start_time": "2022-02-17T15:34:19.545Z"
   },
   {
    "duration": 302,
    "start_time": "2022-02-17T15:34:19.551Z"
   },
   {
    "duration": 5,
    "start_time": "2022-02-17T15:34:19.854Z"
   },
   {
    "duration": 7,
    "start_time": "2022-02-17T15:34:19.861Z"
   },
   {
    "duration": 5,
    "start_time": "2022-02-17T15:34:19.870Z"
   },
   {
    "duration": 284,
    "start_time": "2022-02-17T15:34:19.876Z"
   },
   {
    "duration": 124,
    "start_time": "2022-02-17T15:34:20.162Z"
   },
   {
    "duration": 144,
    "start_time": "2022-02-17T15:34:20.288Z"
   },
   {
    "duration": 13,
    "start_time": "2022-02-17T15:34:20.434Z"
   },
   {
    "duration": 9,
    "start_time": "2022-02-17T15:34:20.448Z"
   },
   {
    "duration": 15,
    "start_time": "2022-02-17T15:34:20.458Z"
   },
   {
    "duration": 14,
    "start_time": "2022-02-17T15:34:20.474Z"
   },
   {
    "duration": 193,
    "start_time": "2022-02-17T15:34:20.489Z"
   },
   {
    "duration": 8,
    "start_time": "2022-02-17T15:35:38.518Z"
   },
   {
    "duration": 4595,
    "start_time": "2022-02-17T15:36:16.850Z"
   },
   {
    "duration": 7734,
    "start_time": "2022-02-17T15:36:49.522Z"
   },
   {
    "duration": 7,
    "start_time": "2022-02-17T15:37:42.985Z"
   },
   {
    "duration": 4,
    "start_time": "2022-02-17T15:37:49.834Z"
   },
   {
    "duration": 26,
    "start_time": "2022-02-17T15:37:49.839Z"
   },
   {
    "duration": 5,
    "start_time": "2022-02-17T15:37:49.867Z"
   },
   {
    "duration": 31,
    "start_time": "2022-02-17T15:37:49.874Z"
   },
   {
    "duration": 5,
    "start_time": "2022-02-17T15:37:49.907Z"
   },
   {
    "duration": 6,
    "start_time": "2022-02-17T15:37:49.914Z"
   },
   {
    "duration": 11,
    "start_time": "2022-02-17T15:37:49.922Z"
   },
   {
    "duration": 24,
    "start_time": "2022-02-17T15:37:49.934Z"
   },
   {
    "duration": 4,
    "start_time": "2022-02-17T15:37:49.960Z"
   },
   {
    "duration": 5,
    "start_time": "2022-02-17T15:37:49.966Z"
   },
   {
    "duration": 13,
    "start_time": "2022-02-17T15:37:49.973Z"
   },
   {
    "duration": 10,
    "start_time": "2022-02-17T15:37:49.987Z"
   },
   {
    "duration": 37,
    "start_time": "2022-02-17T15:37:49.999Z"
   },
   {
    "duration": 9,
    "start_time": "2022-02-17T15:37:50.038Z"
   },
   {
    "duration": 18,
    "start_time": "2022-02-17T15:37:50.048Z"
   },
   {
    "duration": 12,
    "start_time": "2022-02-17T15:37:50.068Z"
   },
   {
    "duration": 225,
    "start_time": "2022-02-17T15:37:50.081Z"
   },
   {
    "duration": 163,
    "start_time": "2022-02-17T15:37:50.308Z"
   },
   {
    "duration": 13,
    "start_time": "2022-02-17T15:37:50.473Z"
   },
   {
    "duration": 9,
    "start_time": "2022-02-17T15:37:50.487Z"
   },
   {
    "duration": 9,
    "start_time": "2022-02-17T15:37:50.497Z"
   },
   {
    "duration": 243,
    "start_time": "2022-02-17T15:37:50.530Z"
   },
   {
    "duration": 243,
    "start_time": "2022-02-17T15:37:50.774Z"
   },
   {
    "duration": 17,
    "start_time": "2022-02-17T15:37:51.020Z"
   },
   {
    "duration": 360,
    "start_time": "2022-02-17T15:37:51.038Z"
   },
   {
    "duration": 14,
    "start_time": "2022-02-17T15:37:51.399Z"
   },
   {
    "duration": 211,
    "start_time": "2022-02-17T15:37:51.415Z"
   },
   {
    "duration": 14,
    "start_time": "2022-02-17T15:37:51.628Z"
   },
   {
    "duration": 328,
    "start_time": "2022-02-17T15:37:51.644Z"
   },
   {
    "duration": 116,
    "start_time": "2022-02-17T15:37:51.974Z"
   },
   {
    "duration": 341,
    "start_time": "2022-02-17T15:37:52.092Z"
   },
   {
    "duration": 5,
    "start_time": "2022-02-17T15:37:52.435Z"
   },
   {
    "duration": 189,
    "start_time": "2022-02-17T15:37:52.442Z"
   },
   {
    "duration": 177,
    "start_time": "2022-02-17T15:37:59.127Z"
   },
   {
    "duration": 9,
    "start_time": "2022-02-17T15:38:03.154Z"
   },
   {
    "duration": 183,
    "start_time": "2022-02-17T15:38:41.336Z"
   },
   {
    "duration": 221,
    "start_time": "2022-02-17T15:38:49.473Z"
   },
   {
    "duration": 3,
    "start_time": "2022-02-17T15:38:58.319Z"
   },
   {
    "duration": 21,
    "start_time": "2022-02-17T15:38:58.324Z"
   },
   {
    "duration": 3,
    "start_time": "2022-02-17T15:38:58.347Z"
   },
   {
    "duration": 32,
    "start_time": "2022-02-17T15:38:58.352Z"
   },
   {
    "duration": 5,
    "start_time": "2022-02-17T15:38:58.385Z"
   },
   {
    "duration": 5,
    "start_time": "2022-02-17T15:38:58.392Z"
   },
   {
    "duration": 8,
    "start_time": "2022-02-17T15:38:58.399Z"
   },
   {
    "duration": 27,
    "start_time": "2022-02-17T15:38:58.408Z"
   },
   {
    "duration": 4,
    "start_time": "2022-02-17T15:38:58.438Z"
   },
   {
    "duration": 6,
    "start_time": "2022-02-17T15:38:58.444Z"
   },
   {
    "duration": 11,
    "start_time": "2022-02-17T15:38:58.451Z"
   },
   {
    "duration": 9,
    "start_time": "2022-02-17T15:38:58.464Z"
   },
   {
    "duration": 13,
    "start_time": "2022-02-17T15:38:58.475Z"
   },
   {
    "duration": 41,
    "start_time": "2022-02-17T15:38:58.490Z"
   },
   {
    "duration": 17,
    "start_time": "2022-02-17T15:38:58.533Z"
   },
   {
    "duration": 10,
    "start_time": "2022-02-17T15:38:58.551Z"
   },
   {
    "duration": 226,
    "start_time": "2022-02-17T15:38:58.562Z"
   },
   {
    "duration": 162,
    "start_time": "2022-02-17T15:38:58.789Z"
   },
   {
    "duration": 13,
    "start_time": "2022-02-17T15:38:58.954Z"
   },
   {
    "duration": 9,
    "start_time": "2022-02-17T15:38:58.969Z"
   },
   {
    "duration": 12,
    "start_time": "2022-02-17T15:38:58.979Z"
   },
   {
    "duration": 256,
    "start_time": "2022-02-17T15:38:58.993Z"
   },
   {
    "duration": 237,
    "start_time": "2022-02-17T15:38:59.251Z"
   },
   {
    "duration": 11,
    "start_time": "2022-02-17T15:38:59.490Z"
   },
   {
    "duration": 386,
    "start_time": "2022-02-17T15:38:59.503Z"
   },
   {
    "duration": 12,
    "start_time": "2022-02-17T15:38:59.891Z"
   },
   {
    "duration": 213,
    "start_time": "2022-02-17T15:38:59.905Z"
   },
   {
    "duration": 19,
    "start_time": "2022-02-17T15:39:00.120Z"
   },
   {
    "duration": 342,
    "start_time": "2022-02-17T15:39:00.141Z"
   },
   {
    "duration": 106,
    "start_time": "2022-02-17T15:39:00.485Z"
   },
   {
    "duration": 282,
    "start_time": "2022-02-17T15:39:00.593Z"
   },
   {
    "duration": 5,
    "start_time": "2022-02-17T15:39:00.877Z"
   },
   {
    "duration": 16,
    "start_time": "2022-02-17T15:39:00.884Z"
   },
   {
    "duration": 232,
    "start_time": "2022-02-17T15:39:00.902Z"
   },
   {
    "duration": 3,
    "start_time": "2022-02-17T15:40:03.178Z"
   },
   {
    "duration": 29,
    "start_time": "2022-02-17T15:40:03.183Z"
   },
   {
    "duration": 3,
    "start_time": "2022-02-17T15:40:03.214Z"
   },
   {
    "duration": 31,
    "start_time": "2022-02-17T15:40:03.219Z"
   },
   {
    "duration": 5,
    "start_time": "2022-02-17T15:40:03.252Z"
   },
   {
    "duration": 6,
    "start_time": "2022-02-17T15:40:03.258Z"
   },
   {
    "duration": 4,
    "start_time": "2022-02-17T15:40:03.266Z"
   },
   {
    "duration": 20,
    "start_time": "2022-02-17T15:40:03.272Z"
   },
   {
    "duration": 6,
    "start_time": "2022-02-17T15:40:03.294Z"
   },
   {
    "duration": 32,
    "start_time": "2022-02-17T15:40:03.301Z"
   },
   {
    "duration": 11,
    "start_time": "2022-02-17T15:40:03.336Z"
   },
   {
    "duration": 10,
    "start_time": "2022-02-17T15:40:03.348Z"
   },
   {
    "duration": 10,
    "start_time": "2022-02-17T15:40:03.360Z"
   },
   {
    "duration": 9,
    "start_time": "2022-02-17T15:40:03.372Z"
   },
   {
    "duration": 50,
    "start_time": "2022-02-17T15:40:03.383Z"
   },
   {
    "duration": 10,
    "start_time": "2022-02-17T15:40:03.434Z"
   },
   {
    "duration": 196,
    "start_time": "2022-02-17T15:40:03.445Z"
   },
   {
    "duration": 163,
    "start_time": "2022-02-17T15:40:03.643Z"
   },
   {
    "duration": 22,
    "start_time": "2022-02-17T15:40:03.809Z"
   },
   {
    "duration": 9,
    "start_time": "2022-02-17T15:40:03.833Z"
   },
   {
    "duration": 9,
    "start_time": "2022-02-17T15:40:03.844Z"
   },
   {
    "duration": 237,
    "start_time": "2022-02-17T15:40:03.854Z"
   },
   {
    "duration": 227,
    "start_time": "2022-02-17T15:40:04.093Z"
   },
   {
    "duration": 18,
    "start_time": "2022-02-17T15:40:04.321Z"
   },
   {
    "duration": 333,
    "start_time": "2022-02-17T15:40:04.341Z"
   },
   {
    "duration": 13,
    "start_time": "2022-02-17T15:40:04.675Z"
   },
   {
    "duration": 204,
    "start_time": "2022-02-17T15:40:04.689Z"
   },
   {
    "duration": 13,
    "start_time": "2022-02-17T15:40:04.895Z"
   },
   {
    "duration": 428,
    "start_time": "2022-02-17T15:40:04.909Z"
   },
   {
    "duration": 129,
    "start_time": "2022-02-17T15:40:05.338Z"
   },
   {
    "duration": 271,
    "start_time": "2022-02-17T15:40:05.468Z"
   },
   {
    "duration": 5,
    "start_time": "2022-02-17T15:40:05.740Z"
   },
   {
    "duration": 298,
    "start_time": "2022-02-17T15:40:05.746Z"
   },
   {
    "duration": 5,
    "start_time": "2022-02-17T15:40:06.046Z"
   },
   {
    "duration": 4572,
    "start_time": "2022-02-17T15:41:03.715Z"
   },
   {
    "duration": 3,
    "start_time": "2022-02-17T15:41:19.224Z"
   },
   {
    "duration": 30,
    "start_time": "2022-02-17T15:41:19.229Z"
   },
   {
    "duration": 4,
    "start_time": "2022-02-17T15:41:19.261Z"
   },
   {
    "duration": 31,
    "start_time": "2022-02-17T15:41:19.267Z"
   },
   {
    "duration": 5,
    "start_time": "2022-02-17T15:41:19.299Z"
   },
   {
    "duration": 6,
    "start_time": "2022-02-17T15:41:19.306Z"
   },
   {
    "duration": 16,
    "start_time": "2022-02-17T15:41:19.314Z"
   },
   {
    "duration": 21,
    "start_time": "2022-02-17T15:41:19.332Z"
   },
   {
    "duration": 5,
    "start_time": "2022-02-17T15:41:19.355Z"
   },
   {
    "duration": 6,
    "start_time": "2022-02-17T15:41:19.362Z"
   },
   {
    "duration": 11,
    "start_time": "2022-02-17T15:41:19.370Z"
   },
   {
    "duration": 11,
    "start_time": "2022-02-17T15:41:19.383Z"
   },
   {
    "duration": 14,
    "start_time": "2022-02-17T15:41:19.431Z"
   },
   {
    "duration": 8,
    "start_time": "2022-02-17T15:41:19.447Z"
   },
   {
    "duration": 16,
    "start_time": "2022-02-17T15:41:19.457Z"
   },
   {
    "duration": 9,
    "start_time": "2022-02-17T15:41:19.475Z"
   },
   {
    "duration": 217,
    "start_time": "2022-02-17T15:41:19.486Z"
   },
   {
    "duration": 157,
    "start_time": "2022-02-17T15:41:19.704Z"
   },
   {
    "duration": 11,
    "start_time": "2022-02-17T15:41:19.864Z"
   },
   {
    "duration": 10,
    "start_time": "2022-02-17T15:41:19.877Z"
   },
   {
    "duration": 9,
    "start_time": "2022-02-17T15:41:19.888Z"
   },
   {
    "duration": 251,
    "start_time": "2022-02-17T15:41:19.899Z"
   },
   {
    "duration": 229,
    "start_time": "2022-02-17T15:41:20.152Z"
   },
   {
    "duration": 11,
    "start_time": "2022-02-17T15:41:20.383Z"
   },
   {
    "duration": 358,
    "start_time": "2022-02-17T15:41:20.396Z"
   },
   {
    "duration": 13,
    "start_time": "2022-02-17T15:41:20.756Z"
   },
   {
    "duration": 208,
    "start_time": "2022-02-17T15:41:20.770Z"
   },
   {
    "duration": 13,
    "start_time": "2022-02-17T15:41:20.980Z"
   },
   {
    "duration": 367,
    "start_time": "2022-02-17T15:41:20.994Z"
   },
   {
    "duration": 112,
    "start_time": "2022-02-17T15:41:21.362Z"
   },
   {
    "duration": 260,
    "start_time": "2022-02-17T15:41:21.476Z"
   },
   {
    "duration": 5,
    "start_time": "2022-02-17T15:41:21.737Z"
   },
   {
    "duration": 337,
    "start_time": "2022-02-17T15:41:21.744Z"
   },
   {
    "duration": 4,
    "start_time": "2022-02-17T15:41:22.083Z"
   },
   {
    "duration": 6,
    "start_time": "2022-02-17T15:41:22.089Z"
   },
   {
    "duration": 406,
    "start_time": "2022-02-17T15:41:22.097Z"
   },
   {
    "duration": 111,
    "start_time": "2022-02-17T15:41:22.505Z"
   },
   {
    "duration": 152,
    "start_time": "2022-02-17T15:41:22.618Z"
   },
   {
    "duration": 13,
    "start_time": "2022-02-17T15:41:22.771Z"
   },
   {
    "duration": 9,
    "start_time": "2022-02-17T15:41:22.786Z"
   },
   {
    "duration": 12,
    "start_time": "2022-02-17T15:49:01.372Z"
   },
   {
    "duration": 14,
    "start_time": "2022-02-17T15:50:04.249Z"
   },
   {
    "duration": 98,
    "start_time": "2022-02-17T15:50:14.842Z"
   },
   {
    "duration": 58,
    "start_time": "2022-02-17T15:52:47.552Z"
   },
   {
    "duration": 65,
    "start_time": "2022-02-17T15:53:00.370Z"
   },
   {
    "duration": 198,
    "start_time": "2022-02-17T15:53:35.885Z"
   },
   {
    "duration": 15,
    "start_time": "2022-02-17T15:54:13.474Z"
   },
   {
    "duration": 124,
    "start_time": "2022-02-17T15:54:26.606Z"
   },
   {
    "duration": 13,
    "start_time": "2022-02-17T15:54:58.558Z"
   },
   {
    "duration": 3,
    "start_time": "2022-02-17T15:56:19.043Z"
   },
   {
    "duration": 21,
    "start_time": "2022-02-17T15:56:19.048Z"
   },
   {
    "duration": 3,
    "start_time": "2022-02-17T15:56:19.071Z"
   },
   {
    "duration": 45,
    "start_time": "2022-02-17T15:56:19.076Z"
   },
   {
    "duration": 5,
    "start_time": "2022-02-17T15:56:19.122Z"
   },
   {
    "duration": 6,
    "start_time": "2022-02-17T15:56:19.129Z"
   },
   {
    "duration": 5,
    "start_time": "2022-02-17T15:56:19.138Z"
   },
   {
    "duration": 18,
    "start_time": "2022-02-17T15:56:19.145Z"
   },
   {
    "duration": 4,
    "start_time": "2022-02-17T15:56:19.165Z"
   },
   {
    "duration": 8,
    "start_time": "2022-02-17T15:56:19.171Z"
   },
   {
    "duration": 12,
    "start_time": "2022-02-17T15:56:19.181Z"
   },
   {
    "duration": 44,
    "start_time": "2022-02-17T15:56:19.195Z"
   },
   {
    "duration": 11,
    "start_time": "2022-02-17T15:56:19.240Z"
   },
   {
    "duration": 7,
    "start_time": "2022-02-17T15:56:19.253Z"
   },
   {
    "duration": 18,
    "start_time": "2022-02-17T15:56:19.261Z"
   },
   {
    "duration": 10,
    "start_time": "2022-02-17T15:56:19.280Z"
   },
   {
    "duration": 240,
    "start_time": "2022-02-17T15:56:19.291Z"
   },
   {
    "duration": 165,
    "start_time": "2022-02-17T15:56:19.533Z"
   },
   {
    "duration": 12,
    "start_time": "2022-02-17T15:56:19.701Z"
   },
   {
    "duration": 10,
    "start_time": "2022-02-17T15:56:19.729Z"
   },
   {
    "duration": 11,
    "start_time": "2022-02-17T15:56:19.741Z"
   },
   {
    "duration": 242,
    "start_time": "2022-02-17T15:56:19.753Z"
   },
   {
    "duration": 321,
    "start_time": "2022-02-17T15:56:19.996Z"
   },
   {
    "duration": 17,
    "start_time": "2022-02-17T15:56:20.319Z"
   },
   {
    "duration": 331,
    "start_time": "2022-02-17T15:56:20.337Z"
   },
   {
    "duration": 13,
    "start_time": "2022-02-17T15:56:20.670Z"
   },
   {
    "duration": 203,
    "start_time": "2022-02-17T15:56:20.684Z"
   },
   {
    "duration": 12,
    "start_time": "2022-02-17T15:56:20.889Z"
   },
   {
    "duration": 351,
    "start_time": "2022-02-17T15:56:20.903Z"
   },
   {
    "duration": 115,
    "start_time": "2022-02-17T15:56:21.256Z"
   },
   {
    "duration": 271,
    "start_time": "2022-02-17T15:56:21.373Z"
   },
   {
    "duration": 6,
    "start_time": "2022-02-17T15:56:21.646Z"
   },
   {
    "duration": 286,
    "start_time": "2022-02-17T15:56:21.654Z"
   },
   {
    "duration": 5,
    "start_time": "2022-02-17T15:56:21.941Z"
   },
   {
    "duration": 5,
    "start_time": "2022-02-17T15:56:21.948Z"
   },
   {
    "duration": 281,
    "start_time": "2022-02-17T15:56:21.955Z"
   },
   {
    "duration": 117,
    "start_time": "2022-02-17T15:56:22.238Z"
   },
   {
    "duration": 156,
    "start_time": "2022-02-17T15:56:22.357Z"
   },
   {
    "duration": 14,
    "start_time": "2022-02-17T15:56:22.530Z"
   },
   {
    "duration": 11,
    "start_time": "2022-02-17T15:56:22.545Z"
   },
   {
    "duration": 15,
    "start_time": "2022-02-17T15:56:22.558Z"
   },
   {
    "duration": 14,
    "start_time": "2022-02-17T15:56:22.575Z"
   },
   {
    "duration": 1541,
    "start_time": "2022-02-17T17:10:14.272Z"
   },
   {
    "duration": 250,
    "start_time": "2022-02-17T17:10:15.816Z"
   },
   {
    "duration": 4,
    "start_time": "2022-02-17T17:10:16.069Z"
   },
   {
    "duration": 99,
    "start_time": "2022-02-17T17:10:16.076Z"
   },
   {
    "duration": 9,
    "start_time": "2022-02-17T17:10:16.178Z"
   },
   {
    "duration": 24,
    "start_time": "2022-02-17T17:10:16.190Z"
   },
   {
    "duration": 13,
    "start_time": "2022-02-17T17:10:16.217Z"
   },
   {
    "duration": 33,
    "start_time": "2022-02-17T17:10:16.234Z"
   },
   {
    "duration": 19,
    "start_time": "2022-02-17T17:10:16.270Z"
   },
   {
    "duration": 15,
    "start_time": "2022-02-17T17:10:16.292Z"
   },
   {
    "duration": 33,
    "start_time": "2022-02-17T17:10:16.310Z"
   },
   {
    "duration": 18,
    "start_time": "2022-02-17T17:10:16.345Z"
   },
   {
    "duration": 17,
    "start_time": "2022-02-17T17:10:16.366Z"
   },
   {
    "duration": 85761,
    "start_time": "2022-02-17T17:10:16.386Z"
   },
   {
    "duration": 35,
    "start_time": "2022-02-17T17:11:42.150Z"
   },
   {
    "duration": 40,
    "start_time": "2022-02-17T17:11:42.188Z"
   },
   {
    "duration": 353,
    "start_time": "2022-02-17T17:11:42.231Z"
   },
   {
    "duration": 299,
    "start_time": "2022-02-17T17:11:42.586Z"
   },
   {
    "duration": 19,
    "start_time": "2022-02-17T17:11:42.887Z"
   },
   {
    "duration": 37,
    "start_time": "2022-02-17T17:11:42.909Z"
   },
   {
    "duration": 29,
    "start_time": "2022-02-17T17:11:42.948Z"
   },
   {
    "duration": 412,
    "start_time": "2022-02-17T17:11:42.980Z"
   },
   {
    "duration": 504,
    "start_time": "2022-02-17T17:11:43.398Z"
   },
   {
    "duration": 35,
    "start_time": "2022-02-17T17:11:43.906Z"
   },
   {
    "duration": 519,
    "start_time": "2022-02-17T17:11:43.944Z"
   },
   {
    "duration": 19,
    "start_time": "2022-02-17T17:11:44.466Z"
   },
   {
    "duration": 348,
    "start_time": "2022-02-17T17:11:44.488Z"
   },
   {
    "duration": 24,
    "start_time": "2022-02-17T17:11:44.839Z"
   },
   {
    "duration": 581,
    "start_time": "2022-02-17T17:11:44.865Z"
   },
   {
    "duration": 230,
    "start_time": "2022-02-17T17:11:45.448Z"
   },
   {
    "duration": 475,
    "start_time": "2022-02-17T17:11:45.682Z"
   },
   {
    "duration": 6,
    "start_time": "2022-02-17T17:11:46.159Z"
   },
   {
    "duration": 396,
    "start_time": "2022-02-17T17:11:46.168Z"
   },
   {
    "duration": 6,
    "start_time": "2022-02-17T17:11:46.566Z"
   },
   {
    "duration": 15,
    "start_time": "2022-02-17T17:11:46.575Z"
   },
   {
    "duration": 483,
    "start_time": "2022-02-17T17:11:46.592Z"
   },
   {
    "duration": 397,
    "start_time": "2022-02-17T17:11:47.078Z"
   },
   {
    "duration": 395,
    "start_time": "2022-02-17T17:11:47.477Z"
   },
   {
    "duration": 73,
    "start_time": "2022-02-17T17:11:47.875Z"
   },
   {
    "duration": 14,
    "start_time": "2022-02-17T17:11:47.950Z"
   },
   {
    "duration": 76,
    "start_time": "2022-02-17T17:11:47.967Z"
   },
   {
    "duration": 20,
    "start_time": "2022-02-17T17:11:48.046Z"
   },
   {
    "duration": 355,
    "start_time": "2022-02-17T18:00:18.833Z"
   },
   {
    "duration": 1527,
    "start_time": "2022-02-17T18:00:22.717Z"
   },
   {
    "duration": 38,
    "start_time": "2022-02-17T18:00:24.247Z"
   },
   {
    "duration": 38,
    "start_time": "2022-02-17T18:00:24.288Z"
   },
   {
    "duration": 51,
    "start_time": "2022-02-17T18:00:24.330Z"
   },
   {
    "duration": 10,
    "start_time": "2022-02-17T18:00:24.385Z"
   },
   {
    "duration": 33,
    "start_time": "2022-02-17T18:00:24.397Z"
   },
   {
    "duration": 45,
    "start_time": "2022-02-17T18:00:24.432Z"
   },
   {
    "duration": 36,
    "start_time": "2022-02-17T18:00:24.481Z"
   },
   {
    "duration": 23,
    "start_time": "2022-02-17T18:00:24.519Z"
   },
   {
    "duration": 18,
    "start_time": "2022-02-17T18:00:24.545Z"
   },
   {
    "duration": 24,
    "start_time": "2022-02-17T18:00:24.565Z"
   },
   {
    "duration": 16,
    "start_time": "2022-02-17T18:00:24.592Z"
   },
   {
    "duration": 26,
    "start_time": "2022-02-17T18:00:24.611Z"
   },
   {
    "duration": 612,
    "start_time": "2022-02-17T18:00:24.640Z"
   },
   {
    "duration": 33,
    "start_time": "2022-02-17T18:00:25.255Z"
   },
   {
    "duration": 1208,
    "start_time": "2022-06-17T11:51:06.980Z"
   },
   {
    "duration": 80,
    "start_time": "2022-06-17T11:51:08.190Z"
   },
   {
    "duration": 3,
    "start_time": "2022-06-17T11:51:08.272Z"
   },
   {
    "duration": 102,
    "start_time": "2022-06-17T11:51:08.277Z"
   },
   {
    "duration": 6,
    "start_time": "2022-06-17T11:51:08.381Z"
   },
   {
    "duration": 7,
    "start_time": "2022-06-17T11:51:08.388Z"
   },
   {
    "duration": 12,
    "start_time": "2022-06-17T11:51:08.397Z"
   },
   {
    "duration": 69,
    "start_time": "2022-06-17T11:51:08.411Z"
   },
   {
    "duration": 5,
    "start_time": "2022-06-17T11:51:08.481Z"
   },
   {
    "duration": 6,
    "start_time": "2022-06-17T11:51:08.488Z"
   },
   {
    "duration": 15,
    "start_time": "2022-06-17T11:51:08.496Z"
   },
   {
    "duration": 13,
    "start_time": "2022-06-17T11:51:08.512Z"
   },
   {
    "duration": 40,
    "start_time": "2022-06-17T11:51:45.834Z"
   },
   {
    "duration": 418,
    "start_time": "2022-06-17T11:52:12.498Z"
   },
   {
    "duration": 4,
    "start_time": "2022-06-17T11:52:50.008Z"
   },
   {
    "duration": 51,
    "start_time": "2022-06-17T11:52:50.014Z"
   },
   {
    "duration": 3,
    "start_time": "2022-06-17T11:52:50.067Z"
   },
   {
    "duration": 60,
    "start_time": "2022-06-17T11:52:50.072Z"
   },
   {
    "duration": 5,
    "start_time": "2022-06-17T11:52:50.134Z"
   },
   {
    "duration": 10,
    "start_time": "2022-06-17T11:52:50.140Z"
   },
   {
    "duration": 9,
    "start_time": "2022-06-17T11:52:50.151Z"
   },
   {
    "duration": 30,
    "start_time": "2022-06-17T11:52:50.161Z"
   },
   {
    "duration": 4,
    "start_time": "2022-06-17T11:52:50.193Z"
   },
   {
    "duration": 7,
    "start_time": "2022-06-17T11:52:50.199Z"
   },
   {
    "duration": 25,
    "start_time": "2022-06-17T11:52:50.208Z"
   },
   {
    "duration": 12,
    "start_time": "2022-06-17T11:52:50.235Z"
   },
   {
    "duration": 13,
    "start_time": "2022-06-17T11:52:50.248Z"
   },
   {
    "duration": 10,
    "start_time": "2022-06-17T11:53:26.214Z"
   },
   {
    "duration": 68,
    "start_time": "2022-06-17T11:54:01.934Z"
   },
   {
    "duration": 169,
    "start_time": "2022-06-17T12:20:31.841Z"
   },
   {
    "duration": 156,
    "start_time": "2022-06-17T12:20:39.924Z"
   },
   {
    "duration": 10,
    "start_time": "2022-06-17T12:21:43.045Z"
   },
   {
    "duration": 13,
    "start_time": "2022-06-17T12:27:10.011Z"
   },
   {
    "duration": 16,
    "start_time": "2022-06-17T12:27:22.669Z"
   },
   {
    "duration": 16,
    "start_time": "2022-06-17T12:27:33.338Z"
   },
   {
    "duration": 1244,
    "start_time": "2022-06-17T12:39:27.290Z"
   },
   {
    "duration": 47,
    "start_time": "2022-06-17T12:39:28.536Z"
   },
   {
    "duration": 4,
    "start_time": "2022-06-17T12:39:28.584Z"
   },
   {
    "duration": 60,
    "start_time": "2022-06-17T12:39:28.590Z"
   },
   {
    "duration": 5,
    "start_time": "2022-06-17T12:39:28.651Z"
   },
   {
    "duration": 6,
    "start_time": "2022-06-17T12:39:28.658Z"
   },
   {
    "duration": 18,
    "start_time": "2022-06-17T12:39:28.665Z"
   },
   {
    "duration": 48,
    "start_time": "2022-06-17T12:39:28.684Z"
   },
   {
    "duration": 4,
    "start_time": "2022-06-17T12:39:28.733Z"
   },
   {
    "duration": 24,
    "start_time": "2022-06-17T12:39:28.740Z"
   },
   {
    "duration": 23,
    "start_time": "2022-06-17T12:39:28.765Z"
   },
   {
    "duration": 22,
    "start_time": "2022-06-17T12:39:28.790Z"
   },
   {
    "duration": 24,
    "start_time": "2022-06-17T12:39:28.813Z"
   },
   {
    "duration": 75,
    "start_time": "2022-06-17T12:39:28.838Z"
   },
   {
    "duration": 12,
    "start_time": "2022-06-17T12:39:28.914Z"
   },
   {
    "duration": 206,
    "start_time": "2022-06-17T12:39:28.928Z"
   },
   {
    "duration": 148,
    "start_time": "2022-06-17T12:39:29.135Z"
   },
   {
    "duration": 13,
    "start_time": "2022-06-17T12:39:29.285Z"
   },
   {
    "duration": 35,
    "start_time": "2022-06-17T12:39:29.300Z"
   },
   {
    "duration": 9,
    "start_time": "2022-06-17T12:39:29.338Z"
   },
   {
    "duration": 332,
    "start_time": "2022-06-17T12:39:29.349Z"
   },
   {
    "duration": 244,
    "start_time": "2022-06-17T12:39:29.684Z"
   },
   {
    "duration": 12,
    "start_time": "2022-06-17T12:39:29.930Z"
   },
   {
    "duration": 325,
    "start_time": "2022-06-17T12:39:29.944Z"
   },
   {
    "duration": 13,
    "start_time": "2022-06-17T12:39:30.271Z"
   },
   {
    "duration": 212,
    "start_time": "2022-06-17T12:39:30.287Z"
   },
   {
    "duration": 14,
    "start_time": "2022-06-17T12:39:30.502Z"
   },
   {
    "duration": 468,
    "start_time": "2022-06-17T12:39:30.526Z"
   },
   {
    "duration": 0,
    "start_time": "2022-06-17T12:39:30.996Z"
   },
   {
    "duration": 0,
    "start_time": "2022-06-17T12:39:30.998Z"
   },
   {
    "duration": 0,
    "start_time": "2022-06-17T12:39:30.999Z"
   },
   {
    "duration": 0,
    "start_time": "2022-06-17T12:39:31.001Z"
   },
   {
    "duration": 0,
    "start_time": "2022-06-17T12:39:31.002Z"
   },
   {
    "duration": 0,
    "start_time": "2022-06-17T12:39:31.003Z"
   },
   {
    "duration": 0,
    "start_time": "2022-06-17T12:39:31.005Z"
   },
   {
    "duration": 0,
    "start_time": "2022-06-17T12:39:31.007Z"
   },
   {
    "duration": 0,
    "start_time": "2022-06-17T12:39:31.008Z"
   },
   {
    "duration": 0,
    "start_time": "2022-06-17T12:39:31.028Z"
   },
   {
    "duration": 0,
    "start_time": "2022-06-17T12:39:31.030Z"
   },
   {
    "duration": 0,
    "start_time": "2022-06-17T12:39:31.031Z"
   },
   {
    "duration": 0,
    "start_time": "2022-06-17T12:39:31.032Z"
   },
   {
    "duration": 3,
    "start_time": "2022-06-17T12:42:14.018Z"
   },
   {
    "duration": 49,
    "start_time": "2022-06-17T12:42:14.023Z"
   },
   {
    "duration": 4,
    "start_time": "2022-06-17T12:42:14.073Z"
   },
   {
    "duration": 52,
    "start_time": "2022-06-17T12:42:14.079Z"
   },
   {
    "duration": 6,
    "start_time": "2022-06-17T12:42:14.133Z"
   },
   {
    "duration": 7,
    "start_time": "2022-06-17T12:42:14.141Z"
   },
   {
    "duration": 8,
    "start_time": "2022-06-17T12:42:14.150Z"
   },
   {
    "duration": 34,
    "start_time": "2022-06-17T12:42:14.159Z"
   },
   {
    "duration": 5,
    "start_time": "2022-06-17T12:42:14.194Z"
   },
   {
    "duration": 9,
    "start_time": "2022-06-17T12:42:14.201Z"
   },
   {
    "duration": 30,
    "start_time": "2022-06-17T12:42:14.212Z"
   },
   {
    "duration": 11,
    "start_time": "2022-06-17T12:42:14.244Z"
   },
   {
    "duration": 15,
    "start_time": "2022-06-17T12:42:14.257Z"
   },
   {
    "duration": 18,
    "start_time": "2022-06-17T12:42:14.274Z"
   },
   {
    "duration": 40,
    "start_time": "2022-06-17T12:42:14.294Z"
   },
   {
    "duration": 178,
    "start_time": "2022-06-17T12:42:14.336Z"
   },
   {
    "duration": 152,
    "start_time": "2022-06-17T12:42:14.516Z"
   },
   {
    "duration": 14,
    "start_time": "2022-06-17T12:42:14.670Z"
   },
   {
    "duration": 22,
    "start_time": "2022-06-17T12:42:14.686Z"
   },
   {
    "duration": 30,
    "start_time": "2022-06-17T12:42:14.711Z"
   },
   {
    "duration": 246,
    "start_time": "2022-06-17T12:42:14.743Z"
   },
   {
    "duration": 319,
    "start_time": "2022-06-17T12:42:14.991Z"
   },
   {
    "duration": 19,
    "start_time": "2022-06-17T12:42:15.311Z"
   },
   {
    "duration": 336,
    "start_time": "2022-06-17T12:42:15.332Z"
   },
   {
    "duration": 18,
    "start_time": "2022-06-17T12:42:15.670Z"
   },
   {
    "duration": 198,
    "start_time": "2022-06-17T12:42:15.690Z"
   },
   {
    "duration": 14,
    "start_time": "2022-06-17T12:42:15.890Z"
   },
   {
    "duration": 391,
    "start_time": "2022-06-17T12:42:15.905Z"
   },
   {
    "duration": 0,
    "start_time": "2022-06-17T12:42:16.299Z"
   },
   {
    "duration": 0,
    "start_time": "2022-06-17T12:42:16.301Z"
   },
   {
    "duration": 0,
    "start_time": "2022-06-17T12:42:16.302Z"
   },
   {
    "duration": 1,
    "start_time": "2022-06-17T12:42:16.303Z"
   },
   {
    "duration": 0,
    "start_time": "2022-06-17T12:42:16.305Z"
   },
   {
    "duration": 0,
    "start_time": "2022-06-17T12:42:16.307Z"
   },
   {
    "duration": 0,
    "start_time": "2022-06-17T12:42:16.309Z"
   },
   {
    "duration": 0,
    "start_time": "2022-06-17T12:42:16.331Z"
   },
   {
    "duration": 0,
    "start_time": "2022-06-17T12:42:16.333Z"
   },
   {
    "duration": 0,
    "start_time": "2022-06-17T12:42:16.335Z"
   },
   {
    "duration": 0,
    "start_time": "2022-06-17T12:42:16.337Z"
   },
   {
    "duration": 0,
    "start_time": "2022-06-17T12:42:16.339Z"
   },
   {
    "duration": 0,
    "start_time": "2022-06-17T12:42:16.340Z"
   },
   {
    "duration": 331,
    "start_time": "2022-06-17T12:44:04.840Z"
   },
   {
    "duration": 313,
    "start_time": "2022-06-17T12:44:33.754Z"
   },
   {
    "duration": 342,
    "start_time": "2022-06-17T12:44:46.802Z"
   },
   {
    "duration": 276,
    "start_time": "2022-06-17T12:46:03.982Z"
   },
   {
    "duration": 283,
    "start_time": "2022-06-17T12:46:17.582Z"
   },
   {
    "duration": 1150,
    "start_time": "2022-06-17T12:47:03.566Z"
   },
   {
    "duration": 47,
    "start_time": "2022-06-17T12:47:04.719Z"
   },
   {
    "duration": 4,
    "start_time": "2022-06-17T12:47:04.767Z"
   },
   {
    "duration": 62,
    "start_time": "2022-06-17T12:47:04.774Z"
   },
   {
    "duration": 5,
    "start_time": "2022-06-17T12:47:04.838Z"
   },
   {
    "duration": 7,
    "start_time": "2022-06-17T12:47:04.845Z"
   },
   {
    "duration": 20,
    "start_time": "2022-06-17T12:47:04.853Z"
   },
   {
    "duration": 38,
    "start_time": "2022-06-17T12:47:04.874Z"
   },
   {
    "duration": 4,
    "start_time": "2022-06-17T12:47:04.914Z"
   },
   {
    "duration": 15,
    "start_time": "2022-06-17T12:47:04.920Z"
   },
   {
    "duration": 16,
    "start_time": "2022-06-17T12:47:04.937Z"
   },
   {
    "duration": 15,
    "start_time": "2022-06-17T12:47:04.955Z"
   },
   {
    "duration": 17,
    "start_time": "2022-06-17T12:47:04.972Z"
   },
   {
    "duration": 61,
    "start_time": "2022-06-17T12:47:04.991Z"
   },
   {
    "duration": 10,
    "start_time": "2022-06-17T12:47:05.053Z"
   },
   {
    "duration": 205,
    "start_time": "2022-06-17T12:47:05.066Z"
   },
   {
    "duration": 156,
    "start_time": "2022-06-17T12:47:05.273Z"
   },
   {
    "duration": 16,
    "start_time": "2022-06-17T12:47:05.431Z"
   },
   {
    "duration": 22,
    "start_time": "2022-06-17T12:47:05.448Z"
   },
   {
    "duration": 21,
    "start_time": "2022-06-17T12:47:05.472Z"
   },
   {
    "duration": 317,
    "start_time": "2022-06-17T12:47:05.495Z"
   },
   {
    "duration": 223,
    "start_time": "2022-06-17T12:47:05.814Z"
   },
   {
    "duration": 16,
    "start_time": "2022-06-17T12:47:06.039Z"
   },
   {
    "duration": 369,
    "start_time": "2022-06-17T12:47:06.056Z"
   },
   {
    "duration": 21,
    "start_time": "2022-06-17T12:47:06.427Z"
   },
   {
    "duration": 210,
    "start_time": "2022-06-17T12:47:06.450Z"
   },
   {
    "duration": 15,
    "start_time": "2022-06-17T12:47:06.662Z"
   },
   {
    "duration": 331,
    "start_time": "2022-06-17T12:47:06.682Z"
   },
   {
    "duration": 161,
    "start_time": "2022-06-17T12:47:07.015Z"
   },
   {
    "duration": 132,
    "start_time": "2022-06-17T12:47:07.178Z"
   },
   {
    "duration": 5,
    "start_time": "2022-06-17T12:47:07.312Z"
   },
   {
    "duration": 229,
    "start_time": "2022-06-17T12:47:07.328Z"
   },
   {
    "duration": 5,
    "start_time": "2022-06-17T12:47:07.559Z"
   },
   {
    "duration": 10,
    "start_time": "2022-06-17T12:47:07.565Z"
   },
   {
    "duration": 227,
    "start_time": "2022-06-17T12:47:07.577Z"
   },
   {
    "duration": 160,
    "start_time": "2022-06-17T12:47:07.806Z"
   },
   {
    "duration": 190,
    "start_time": "2022-06-17T12:47:07.967Z"
   },
   {
    "duration": 14,
    "start_time": "2022-06-17T12:47:08.159Z"
   },
   {
    "duration": 10,
    "start_time": "2022-06-17T12:47:08.175Z"
   },
   {
    "duration": 70,
    "start_time": "2022-06-17T12:47:08.187Z"
   },
   {
    "duration": 13,
    "start_time": "2022-06-17T12:47:08.259Z"
   }
  ],
  "kernelspec": {
   "display_name": "Python 3",
   "language": "python",
   "name": "python3"
  },
  "language_info": {
   "codemirror_mode": {
    "name": "ipython",
    "version": 3
   },
   "file_extension": ".py",
   "mimetype": "text/x-python",
   "name": "python",
   "nbconvert_exporter": "python",
   "pygments_lexer": "ipython3",
   "version": "3.8.8"
  },
  "toc": {
   "base_numbering": 1,
   "nav_menu": {},
   "number_sections": true,
   "sideBar": true,
   "skip_h1_title": true,
   "title_cell": "Table of Contents",
   "title_sidebar": "Contents",
   "toc_cell": false,
   "toc_position": {
    "height": "calc(100% - 180px)",
    "left": "10px",
    "top": "150px",
    "width": "196px"
   },
   "toc_section_display": true,
   "toc_window_display": true
  }
 },
 "nbformat": 4,
 "nbformat_minor": 2
}
